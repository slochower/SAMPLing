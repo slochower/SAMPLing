{
 "cells": [
  {
   "cell_type": "markdown",
   "metadata": {},
   "source": [
    "# Use the `frcmod` and `mol2` files to solvate each host-guest system with `paprika`"
   ]
  },
  {
   "cell_type": "code",
   "execution_count": 81,
   "metadata": {},
   "outputs": [],
   "source": [
    "import glob as glob\n",
    "import os as os\n",
    "import subprocess as sp\n",
    "import numpy as np\n",
    "\n",
    "import parmed as pmd\n",
    "from paprika.tleap import System"
   ]
  },
  {
   "cell_type": "code",
   "execution_count": 9,
   "metadata": {},
   "outputs": [],
   "source": [
    "complexes = glob.glob('./OA-G*')"
   ]
  },
  {
   "cell_type": "code",
   "execution_count": 45,
   "metadata": {},
   "outputs": [],
   "source": [
    "for complx in complexes:\n",
    "    system = System()\n",
    "        \n",
    "    system.output_path = os.path.join(complx, 'AMBER')\n",
    "    system.target_waters = 2000\n",
    "    system.output_prefix = 'solvate'\n",
    "    \n",
    "    structure = pmd.load_file(os.path.join(complx, 'AMBER', 'complex.prmtop'))\n",
    "    sodiums = len(structure[':Na+'].atoms)\n",
    "    chlorides = len(structure[':Cl-'].atoms)\n",
    "    \n",
    "    system.neutralize = False\n",
    "    system.add_ions = ['Na+', sodiums, 'Cl-', chlorides]\n",
    "    system.template_lines = ['source leaprc.water.tip3p',\n",
    "                           'source leaprc.gaff',\n",
    "                           'loadamberparams hst.frcmod',\n",
    "                           'HST = loadmol2 hst.mol2',\n",
    "                           'loadamberparams gst.frcmod',\n",
    "                           'GST = loadmol2 gst.mol2',\n",
    "                           'model = loadpdb complex.pdb'\n",
    "    ]\n",
    "    \n",
    "    system.build()"
   ]
  },
  {
   "cell_type": "code",
   "execution_count": 82,
   "metadata": {},
   "outputs": [
    {
     "name": "stdout",
     "output_type": "stream",
     "text": [
      "Total charge 0.000 ...\n",
      "12 Na+, 3 Cl- in solvated structure...\n",
      "9.0 Na+, 0 Cl- for neutralization...\n",
      "Counterion molarity 0.057 (beyond neutralization)...\n",
      "Total charge 0.000 ...\n",
      "12 Na+, 3 Cl- in solvated structure...\n",
      "10.0 Na+, 0 Cl- for neutralization...\n",
      "Counterion molarity 0.049 (beyond neutralization)...\n",
      "Total charge 0.000 ...\n",
      "12 Na+, 3 Cl- in solvated structure...\n",
      "9.0 Na+, 0 Cl- for neutralization...\n",
      "Counterion molarity 0.057 (beyond neutralization)...\n",
      "Total charge 0.000 ...\n",
      "12 Na+, 3 Cl- in solvated structure...\n",
      "9.0 Na+, 0 Cl- for neutralization...\n",
      "Counterion molarity 0.057 (beyond neutralization)...\n",
      "Total charge 0.000 ...\n",
      "12 Na+, 3 Cl- in solvated structure...\n",
      "10.0 Na+, 0 Cl- for neutralization...\n",
      "Counterion molarity 0.049 (beyond neutralization)...\n",
      "Total charge 0.000 ...\n",
      "12 Na+, 3 Cl- in solvated structure...\n",
      "10.0 Na+, 0 Cl- for neutralization...\n",
      "Counterion molarity 0.050 (beyond neutralization)...\n",
      "Total charge 0.000 ...\n",
      "12 Na+, 3 Cl- in solvated structure...\n",
      "9.0 Na+, 0 Cl- for neutralization...\n",
      "Counterion molarity 0.057 (beyond neutralization)...\n",
      "Total charge 0.000 ...\n",
      "12 Na+, 3 Cl- in solvated structure...\n",
      "10.0 Na+, 0 Cl- for neutralization...\n",
      "Counterion molarity 0.049 (beyond neutralization)...\n",
      "Total charge 0.000 ...\n",
      "12 Na+, 3 Cl- in solvated structure...\n",
      "10.0 Na+, 0 Cl- for neutralization...\n",
      "Counterion molarity 0.049 (beyond neutralization)...\n",
      "Total charge 0.000 ...\n",
      "12 Na+, 3 Cl- in solvated structure...\n",
      "9.0 Na+, 0 Cl- for neutralization...\n",
      "Counterion molarity 0.057 (beyond neutralization)...\n"
     ]
    }
   ],
   "source": [
    "for complx in complexes:\n",
    "    structure = pmd.load_file(os.path.join(complx, 'AMBER', 'solvate.prmtop'))\n",
    "    \n",
    "    print(f'Total charge {pmd.tools.netCharge(structure).execute():0.3f} ...')\n",
    "    \n",
    "    sodium = len(structure[':Na+'].atoms)\n",
    "    chloride = len(structure[':Cl-'].atoms)\n",
    "    \n",
    "    print(f'{sodium} Na+, {chloride} Cl- in solvated structure...')\n",
    "    \n",
    "    hst = pmd.load_file(os.path.join(complx, 'AMBER', 'hst.mol2'), structure=True)\n",
    "    gst = pmd.load_file(os.path.join(complx, 'AMBER', 'gst.mol2'), structure=True)\n",
    "    \n",
    "    hst_gst = hst + gst\n",
    "    hst_gst_charge = pmd.tools.netCharge(hst_gst).execute()\n",
    "    \n",
    "    if hst_gst_charge < 0:\n",
    "        sodium_added_to_neuralize = np.ceil(abs(hst_gst_charge))\n",
    "        chloride_added_to_neutralize = 0\n",
    "    elif hst_gst_charge > 0:\n",
    "        sodium_added_to_neuralize = 0\n",
    "        chloride_added_to_neutralize = np.ceil(abs(hst_gst_charge))\n",
    "    else:\n",
    "        sodium_added_to_neuralize = 0\n",
    "        chloride_added_to_neutralize = 0\n",
    "    \n",
    "    print(f'{sodium_added_to_neuralize} Na+, {chloride_added_to_neutralize} Cl- for neutralization...')\n",
    "\n",
    "    \n",
    "    counterion_mass = (sodium - sodium_added_to_neuralize) * 22.9898 + \\\n",
    "                      (chloride - chloride_added_to_neutralize) * 35.453\n",
    "    \n",
    "    AMU_TO_GRAMS = 1.66054 * 10**-24\n",
    "    molar_concentration = counterion_mass * (AMU_TO_GRAMS) / (22.9898 + 35.453)\n",
    "\n",
    "    volume = structure.get_box()[0] * structure.get_box()[1] * structure.get_box()[2]\n",
    "    ANGSTROM_CUBED_TO_LITERS = 1 * 10 ** -27\n",
    "    liters = volume * ANGSTROM_CUBED_TO_LITERS\n",
    "    \n",
    "    moles_per_liter = molar_concentration / liters\n",
    "    print(f'Counterion molarity {moles_per_liter:0.3f} (beyond neutralization)...')"
   ]
  },
  {
   "cell_type": "code",
   "execution_count": null,
   "metadata": {},
   "outputs": [],
   "source": []
  }
 ],
 "metadata": {
  "kernelspec": {
   "display_name": "Python [conda env:smirnoff-paprika]",
   "language": "python",
   "name": "conda-env-smirnoff-paprika-py"
  },
  "language_info": {
   "codemirror_mode": {
    "name": "ipython",
    "version": 3
   },
   "file_extension": ".py",
   "mimetype": "text/x-python",
   "name": "python",
   "nbconvert_exporter": "python",
   "pygments_lexer": "ipython3",
   "version": "3.6.4"
  }
 },
 "nbformat": 4,
 "nbformat_minor": 2
}
