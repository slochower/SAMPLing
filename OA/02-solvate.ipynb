{
 "cells": [
  {
   "cell_type": "markdown",
   "metadata": {},
   "source": [
    "# Use the `frcmod` and `mol2` files to solvate each host-guest system with `paprika`"
   ]
  },
  {
   "cell_type": "code",
   "execution_count": 88,
   "metadata": {},
   "outputs": [],
   "source": [
    "import glob as glob\n",
    "import os as os\n",
    "import subprocess as sp\n",
    "import numpy as np\n",
    "\n",
    "import parmed as pmd\n",
    "from paprika.align import zalign\n",
    "from paprika.tleap import System"
   ]
  },
  {
   "cell_type": "code",
   "execution_count": 87,
   "metadata": {},
   "outputs": [],
   "source": [
    "complexes = glob.glob('./OA-G*')"
   ]
  },
  {
   "cell_type": "markdown",
   "metadata": {},
   "source": [
    "First, let's align the host along the *z* axis, so we will pull the guest towards +z. I'm going to align the vector connecting the center of mass of the oxygens on bottom ring of OA and the bridging oxygens on the top ring of OA."
   ]
  },
  {
   "cell_type": "code",
   "execution_count": 102,
   "metadata": {},
   "outputs": [],
   "source": [
    "for complx in complexes:\n",
    "    system = pmd.load_file(os.path.join(complx, 'AMBER', 'complex.pdb'))\n",
    "    aligned_system = zalign(system, '@O10,O11,O32,O26,O9,O24,O25,O12', \n",
    "                            '@O16,O17,O19,O18,O15,O14,O20,O13', save=True, \n",
    "                            filename=os.path.join(complx, 'AMBER', 'complex_aligned.pdb'))"
   ]
  },
  {
   "cell_type": "markdown",
   "metadata": {},
   "source": [
    "<img src=\"complex_aligned.png\">"
   ]
  },
  {
   "cell_type": "code",
   "execution_count": 106,
   "metadata": {},
   "outputs": [],
   "source": [
    "for complx in complexes:\n",
    "    system = System()\n",
    "        \n",
    "    system.output_path = os.path.join(complx, 'AMBER')\n",
    "    system.target_waters = 2500\n",
    "    system.output_prefix = 'solvate'\n",
    "       \n",
    "    system.neutralize = True\n",
    "    system.pbc_type = 'rectangular'\n",
    "    system.add_ions = ['Na+', '0.06M', 'Cl-', '0.06M']\n",
    "    system.template_lines = ['source leaprc.water.tip3p',\n",
    "                           'source leaprc.gaff',\n",
    "                           'loadamberparams hst.frcmod',\n",
    "                           'HST = loadmol2 hst.mol2',\n",
    "                           'loadamberparams gst.frcmod',\n",
    "                           'GST = loadmol2 gst.mol2',\n",
    "                           'model = loadpdb complex_aligned.pdb'\n",
    "    ]\n",
    "    \n",
    "    system.build()"
   ]
  },
  {
   "cell_type": "code",
   "execution_count": 107,
   "metadata": {},
   "outputs": [
    {
     "name": "stdout",
     "output_type": "stream",
     "text": [
      "Total charge 0.000 ...\n",
      "11 Na+, 2 Cl- in solvated structure...\n",
      "9.0 Na+, 0 Cl- for neutralization...\n",
      "Counterion molarity 0.031 (beyond neutralization)...\n",
      "Total charge 0.000 ...\n",
      "11 Na+, 2 Cl- in solvated structure...\n",
      "10.0 Na+, 0 Cl- for neutralization...\n",
      "Counterion molarity 0.025 (beyond neutralization)...\n",
      "Total charge 0.000 ...\n",
      "11 Na+, 2 Cl- in solvated structure...\n",
      "9.0 Na+, 0 Cl- for neutralization...\n",
      "Counterion molarity 0.031 (beyond neutralization)...\n",
      "Total charge 0.000 ...\n",
      "11 Na+, 2 Cl- in solvated structure...\n",
      "9.0 Na+, 0 Cl- for neutralization...\n",
      "Counterion molarity 0.031 (beyond neutralization)...\n",
      "Total charge 0.000 ...\n",
      "11 Na+, 2 Cl- in solvated structure...\n",
      "10.0 Na+, 0 Cl- for neutralization...\n",
      "Counterion molarity 0.025 (beyond neutralization)...\n",
      "Total charge 0.000 ...\n",
      "11 Na+, 2 Cl- in solvated structure...\n",
      "10.0 Na+, 0 Cl- for neutralization...\n",
      "Counterion molarity 0.025 (beyond neutralization)...\n",
      "Total charge 0.000 ...\n",
      "13 Na+, 4 Cl- in solvated structure...\n",
      "9.0 Na+, 0 Cl- for neutralization...\n",
      "Counterion molarity 0.061 (beyond neutralization)...\n",
      "Total charge 0.000 ...\n",
      "11 Na+, 2 Cl- in solvated structure...\n",
      "10.0 Na+, 0 Cl- for neutralization...\n",
      "Counterion molarity 0.025 (beyond neutralization)...\n",
      "Total charge 0.000 ...\n",
      "13 Na+, 4 Cl- in solvated structure...\n",
      "10.0 Na+, 0 Cl- for neutralization...\n",
      "Counterion molarity 0.057 (beyond neutralization)...\n",
      "Total charge 0.000 ...\n",
      "11 Na+, 2 Cl- in solvated structure...\n",
      "9.0 Na+, 0 Cl- for neutralization...\n",
      "Counterion molarity 0.031 (beyond neutralization)...\n"
     ]
    }
   ],
   "source": [
    "for complx in complexes:\n",
    "    structure = pmd.load_file(os.path.join(complx, 'AMBER', 'solvate.prmtop'))\n",
    "    \n",
    "    print(f'Total charge {pmd.tools.netCharge(structure).execute():0.3f} ...')\n",
    "    \n",
    "    sodium = len(structure[':Na+'].atoms)\n",
    "    chloride = len(structure[':Cl-'].atoms)\n",
    "    \n",
    "    print(f'{sodium} Na+, {chloride} Cl- in solvated structure...')\n",
    "    \n",
    "    hst = pmd.load_file(os.path.join(complx, 'AMBER', 'hst.mol2'), structure=True)\n",
    "    gst = pmd.load_file(os.path.join(complx, 'AMBER', 'gst.mol2'), structure=True)\n",
    "    \n",
    "    hst_gst = hst + gst\n",
    "    hst_gst_charge = pmd.tools.netCharge(hst_gst).execute()\n",
    "    \n",
    "    if hst_gst_charge < 0:\n",
    "        sodium_added_to_neuralize = np.ceil(abs(hst_gst_charge))\n",
    "        chloride_added_to_neutralize = 0\n",
    "    elif hst_gst_charge > 0:\n",
    "        sodium_added_to_neuralize = 0\n",
    "        chloride_added_to_neutralize = np.ceil(abs(hst_gst_charge))\n",
    "    else:\n",
    "        sodium_added_to_neuralize = 0\n",
    "        chloride_added_to_neutralize = 0\n",
    "    \n",
    "    print(f'{sodium_added_to_neuralize} Na+, {chloride_added_to_neutralize} Cl- for neutralization...')\n",
    "\n",
    "    \n",
    "    counterion_mass = (sodium - sodium_added_to_neuralize) * 22.9898 + \\\n",
    "                      (chloride - chloride_added_to_neutralize) * 35.453\n",
    "    \n",
    "    AMU_TO_GRAMS = 1.66054 * 10**-24\n",
    "    molar_concentration = counterion_mass * (AMU_TO_GRAMS) / (22.9898 + 35.453)\n",
    "\n",
    "    volume = structure.get_box()[0] * structure.get_box()[1] * structure.get_box()[2]\n",
    "    ANGSTROM_CUBED_TO_LITERS = 1 * 10 ** -27\n",
    "    liters = volume * ANGSTROM_CUBED_TO_LITERS\n",
    "    \n",
    "    moles_per_liter = molar_concentration / liters\n",
    "    print(f'Counterion molarity {moles_per_liter:0.3f} (beyond neutralization)...')"
   ]
  },
  {
   "cell_type": "code",
   "execution_count": null,
   "metadata": {},
   "outputs": [],
   "source": []
  }
 ],
 "metadata": {
  "kernelspec": {
   "display_name": "Python [conda env:smirnoff-paprika]",
   "language": "python",
   "name": "conda-env-smirnoff-paprika-py"
  },
  "language_info": {
   "codemirror_mode": {
    "name": "ipython",
    "version": 3
   },
   "file_extension": ".py",
   "mimetype": "text/x-python",
   "name": "python",
   "nbconvert_exporter": "python",
   "pygments_lexer": "ipython3",
   "version": "3.6.4"
  }
 },
 "nbformat": 4,
 "nbformat_minor": 2
}
