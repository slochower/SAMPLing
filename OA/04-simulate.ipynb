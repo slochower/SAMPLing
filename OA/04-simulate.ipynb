{
 "cells": [
  {
   "cell_type": "code",
   "execution_count": 1,
   "metadata": {
    "scrolled": true
   },
   "outputs": [
    {
     "name": "stdout",
     "output_type": "stream",
     "text": [
      "2018-04-23_16:10:29_-0700-e34840d-0.0.3\n"
     ]
    }
   ],
   "source": [
    "%matplotlib notebook\n",
    "\n",
    "import matplotlib.pyplot as plt\n",
    "import os as os\n",
    "import sys as sys\n",
    "import glob as glob\n",
    "import re as re\n",
    "import numpy as np\n",
    "import shutil as shutil\n",
    "\n",
    "import paprika\n",
    "print(paprika.__version__)\n",
    "\n",
    "from paprika.amber import Simulation\n",
    "from paprika import analysis\n",
    "from paprika.restraints import DAT_restraint\n",
    "\n",
    "import pytraj as pt\n",
    "import parmed as pmd"
   ]
  },
  {
   "cell_type": "code",
   "execution_count": 2,
   "metadata": {},
   "outputs": [],
   "source": [
    "import logging\n",
    "from importlib import reload\n",
    "reload(logging)\n",
    "\n",
    "logging.basicConfig(filename='OA-G3.log', format='%(asctime)s %(message)s', datefmt='%Y-%m-%d %I:%M:%S %p',\n",
    "                    level=logging.DEBUG)\n",
    "logging.info('Started logging...')\n",
    "logging.info(paprika.__version__)"
   ]
  },
  {
   "cell_type": "code",
   "execution_count": 3,
   "metadata": {},
   "outputs": [],
   "source": [
    "dummy_anchors = [':3', ':4', ':5']\n",
    "host_anchors  = [':1@C26', ':1@C18', ':1@C8']\n",
    "guest_anchors = [':2@C1', ':2@C3']"
   ]
  },
  {
   "cell_type": "code",
   "execution_count": 4,
   "metadata": {},
   "outputs": [],
   "source": [
    "attach_string = '0.00 0.40 0.80 1.60 2.40 4.00 5.50 8.65 11.80 ' \\\n",
    "                '18.10 24.40 37.00 49.60 74.80 100.00'\n",
    "attach_fractions = [float(i) / 100 for i in attach_string.split()]\n",
    "\n",
    "pull_string = '0.00 0.40 0.80 1.20 1.60 2.00 2.40 2.80 3.20 3.60 4.00 ' \\\n",
    "              '4.40 4.80 5.20 5.60 6.00 6.40 6.80 7.20 7.60 8.00 8.40 ' \\\n",
    "              '8.80 9.20 9.60 10.00 10.40 10.80 11.20 11.60 12.00 12.40 ' \\\n",
    "              '12.80 13.20 13.60 14.00 14.40 14.80 15.20 15.60 16.00 16.40 ' \\\n",
    "              '16.80 17.20 17.60 18.00'\n",
    "\n",
    "windows = [len(attach_fractions), len(pull_string.split()), 0]\n"
   ]
  },
  {
   "cell_type": "code",
   "execution_count": 5,
   "metadata": {},
   "outputs": [],
   "source": [
    "g3_complexes = glob.glob('./OA-G3*')\n",
    "ntwprt = 204\n",
    "itr_nstlim = 500000\n",
    "\n",
    "paths = glob.glob(os.path.normpath(os.path.join('./OA-G3-0', 'AMBER', 'APR', 'windows', '*')))\n",
    "\n",
    "window_list = [os.path.basename(i) for i in paths]\n",
    "phase_dict = {'a': 'attach', 'p': 'pull', 'r': 'release'}"
   ]
  },
  {
   "cell_type": "markdown",
   "metadata": {},
   "source": [
    "# End preamble"
   ]
  },
  {
   "cell_type": "code",
   "execution_count": 8,
   "metadata": {},
   "outputs": [],
   "source": []
  },
  {
   "cell_type": "code",
   "execution_count": 9,
   "metadata": {},
   "outputs": [],
   "source": []
  },
  {
   "cell_type": "code",
   "execution_count": 10,
   "metadata": {},
   "outputs": [
    {
     "data": {
      "application/javascript": [
       "/* Put everything inside the global mpl namespace */\n",
       "window.mpl = {};\n",
       "\n",
       "\n",
       "mpl.get_websocket_type = function() {\n",
       "    if (typeof(WebSocket) !== 'undefined') {\n",
       "        return WebSocket;\n",
       "    } else if (typeof(MozWebSocket) !== 'undefined') {\n",
       "        return MozWebSocket;\n",
       "    } else {\n",
       "        alert('Your browser does not have WebSocket support.' +\n",
       "              'Please try Chrome, Safari or Firefox ≥ 6. ' +\n",
       "              'Firefox 4 and 5 are also supported but you ' +\n",
       "              'have to enable WebSockets in about:config.');\n",
       "    };\n",
       "}\n",
       "\n",
       "mpl.figure = function(figure_id, websocket, ondownload, parent_element) {\n",
       "    this.id = figure_id;\n",
       "\n",
       "    this.ws = websocket;\n",
       "\n",
       "    this.supports_binary = (this.ws.binaryType != undefined);\n",
       "\n",
       "    if (!this.supports_binary) {\n",
       "        var warnings = document.getElementById(\"mpl-warnings\");\n",
       "        if (warnings) {\n",
       "            warnings.style.display = 'block';\n",
       "            warnings.textContent = (\n",
       "                \"This browser does not support binary websocket messages. \" +\n",
       "                    \"Performance may be slow.\");\n",
       "        }\n",
       "    }\n",
       "\n",
       "    this.imageObj = new Image();\n",
       "\n",
       "    this.context = undefined;\n",
       "    this.message = undefined;\n",
       "    this.canvas = undefined;\n",
       "    this.rubberband_canvas = undefined;\n",
       "    this.rubberband_context = undefined;\n",
       "    this.format_dropdown = undefined;\n",
       "\n",
       "    this.image_mode = 'full';\n",
       "\n",
       "    this.root = $('<div/>');\n",
       "    this._root_extra_style(this.root)\n",
       "    this.root.attr('style', 'display: inline-block');\n",
       "\n",
       "    $(parent_element).append(this.root);\n",
       "\n",
       "    this._init_header(this);\n",
       "    this._init_canvas(this);\n",
       "    this._init_toolbar(this);\n",
       "\n",
       "    var fig = this;\n",
       "\n",
       "    this.waiting = false;\n",
       "\n",
       "    this.ws.onopen =  function () {\n",
       "            fig.send_message(\"supports_binary\", {value: fig.supports_binary});\n",
       "            fig.send_message(\"send_image_mode\", {});\n",
       "            if (mpl.ratio != 1) {\n",
       "                fig.send_message(\"set_dpi_ratio\", {'dpi_ratio': mpl.ratio});\n",
       "            }\n",
       "            fig.send_message(\"refresh\", {});\n",
       "        }\n",
       "\n",
       "    this.imageObj.onload = function() {\n",
       "            if (fig.image_mode == 'full') {\n",
       "                // Full images could contain transparency (where diff images\n",
       "                // almost always do), so we need to clear the canvas so that\n",
       "                // there is no ghosting.\n",
       "                fig.context.clearRect(0, 0, fig.canvas.width, fig.canvas.height);\n",
       "            }\n",
       "            fig.context.drawImage(fig.imageObj, 0, 0);\n",
       "        };\n",
       "\n",
       "    this.imageObj.onunload = function() {\n",
       "        fig.ws.close();\n",
       "    }\n",
       "\n",
       "    this.ws.onmessage = this._make_on_message_function(this);\n",
       "\n",
       "    this.ondownload = ondownload;\n",
       "}\n",
       "\n",
       "mpl.figure.prototype._init_header = function() {\n",
       "    var titlebar = $(\n",
       "        '<div class=\"ui-dialog-titlebar ui-widget-header ui-corner-all ' +\n",
       "        'ui-helper-clearfix\"/>');\n",
       "    var titletext = $(\n",
       "        '<div class=\"ui-dialog-title\" style=\"width: 100%; ' +\n",
       "        'text-align: center; padding: 3px;\"/>');\n",
       "    titlebar.append(titletext)\n",
       "    this.root.append(titlebar);\n",
       "    this.header = titletext[0];\n",
       "}\n",
       "\n",
       "\n",
       "\n",
       "mpl.figure.prototype._canvas_extra_style = function(canvas_div) {\n",
       "\n",
       "}\n",
       "\n",
       "\n",
       "mpl.figure.prototype._root_extra_style = function(canvas_div) {\n",
       "\n",
       "}\n",
       "\n",
       "mpl.figure.prototype._init_canvas = function() {\n",
       "    var fig = this;\n",
       "\n",
       "    var canvas_div = $('<div/>');\n",
       "\n",
       "    canvas_div.attr('style', 'position: relative; clear: both; outline: 0');\n",
       "\n",
       "    function canvas_keyboard_event(event) {\n",
       "        return fig.key_event(event, event['data']);\n",
       "    }\n",
       "\n",
       "    canvas_div.keydown('key_press', canvas_keyboard_event);\n",
       "    canvas_div.keyup('key_release', canvas_keyboard_event);\n",
       "    this.canvas_div = canvas_div\n",
       "    this._canvas_extra_style(canvas_div)\n",
       "    this.root.append(canvas_div);\n",
       "\n",
       "    var canvas = $('<canvas/>');\n",
       "    canvas.addClass('mpl-canvas');\n",
       "    canvas.attr('style', \"left: 0; top: 0; z-index: 0; outline: 0\")\n",
       "\n",
       "    this.canvas = canvas[0];\n",
       "    this.context = canvas[0].getContext(\"2d\");\n",
       "\n",
       "    var backingStore = this.context.backingStorePixelRatio ||\n",
       "\tthis.context.webkitBackingStorePixelRatio ||\n",
       "\tthis.context.mozBackingStorePixelRatio ||\n",
       "\tthis.context.msBackingStorePixelRatio ||\n",
       "\tthis.context.oBackingStorePixelRatio ||\n",
       "\tthis.context.backingStorePixelRatio || 1;\n",
       "\n",
       "    mpl.ratio = (window.devicePixelRatio || 1) / backingStore;\n",
       "\n",
       "    var rubberband = $('<canvas/>');\n",
       "    rubberband.attr('style', \"position: absolute; left: 0; top: 0; z-index: 1;\")\n",
       "\n",
       "    var pass_mouse_events = true;\n",
       "\n",
       "    canvas_div.resizable({\n",
       "        start: function(event, ui) {\n",
       "            pass_mouse_events = false;\n",
       "        },\n",
       "        resize: function(event, ui) {\n",
       "            fig.request_resize(ui.size.width, ui.size.height);\n",
       "        },\n",
       "        stop: function(event, ui) {\n",
       "            pass_mouse_events = true;\n",
       "            fig.request_resize(ui.size.width, ui.size.height);\n",
       "        },\n",
       "    });\n",
       "\n",
       "    function mouse_event_fn(event) {\n",
       "        if (pass_mouse_events)\n",
       "            return fig.mouse_event(event, event['data']);\n",
       "    }\n",
       "\n",
       "    rubberband.mousedown('button_press', mouse_event_fn);\n",
       "    rubberband.mouseup('button_release', mouse_event_fn);\n",
       "    // Throttle sequential mouse events to 1 every 20ms.\n",
       "    rubberband.mousemove('motion_notify', mouse_event_fn);\n",
       "\n",
       "    rubberband.mouseenter('figure_enter', mouse_event_fn);\n",
       "    rubberband.mouseleave('figure_leave', mouse_event_fn);\n",
       "\n",
       "    canvas_div.on(\"wheel\", function (event) {\n",
       "        event = event.originalEvent;\n",
       "        event['data'] = 'scroll'\n",
       "        if (event.deltaY < 0) {\n",
       "            event.step = 1;\n",
       "        } else {\n",
       "            event.step = -1;\n",
       "        }\n",
       "        mouse_event_fn(event);\n",
       "    });\n",
       "\n",
       "    canvas_div.append(canvas);\n",
       "    canvas_div.append(rubberband);\n",
       "\n",
       "    this.rubberband = rubberband;\n",
       "    this.rubberband_canvas = rubberband[0];\n",
       "    this.rubberband_context = rubberband[0].getContext(\"2d\");\n",
       "    this.rubberband_context.strokeStyle = \"#000000\";\n",
       "\n",
       "    this._resize_canvas = function(width, height) {\n",
       "        // Keep the size of the canvas, canvas container, and rubber band\n",
       "        // canvas in synch.\n",
       "        canvas_div.css('width', width)\n",
       "        canvas_div.css('height', height)\n",
       "\n",
       "        canvas.attr('width', width * mpl.ratio);\n",
       "        canvas.attr('height', height * mpl.ratio);\n",
       "        canvas.attr('style', 'width: ' + width + 'px; height: ' + height + 'px;');\n",
       "\n",
       "        rubberband.attr('width', width);\n",
       "        rubberband.attr('height', height);\n",
       "    }\n",
       "\n",
       "    // Set the figure to an initial 600x600px, this will subsequently be updated\n",
       "    // upon first draw.\n",
       "    this._resize_canvas(600, 600);\n",
       "\n",
       "    // Disable right mouse context menu.\n",
       "    $(this.rubberband_canvas).bind(\"contextmenu\",function(e){\n",
       "        return false;\n",
       "    });\n",
       "\n",
       "    function set_focus () {\n",
       "        canvas.focus();\n",
       "        canvas_div.focus();\n",
       "    }\n",
       "\n",
       "    window.setTimeout(set_focus, 100);\n",
       "}\n",
       "\n",
       "mpl.figure.prototype._init_toolbar = function() {\n",
       "    var fig = this;\n",
       "\n",
       "    var nav_element = $('<div/>')\n",
       "    nav_element.attr('style', 'width: 100%');\n",
       "    this.root.append(nav_element);\n",
       "\n",
       "    // Define a callback function for later on.\n",
       "    function toolbar_event(event) {\n",
       "        return fig.toolbar_button_onclick(event['data']);\n",
       "    }\n",
       "    function toolbar_mouse_event(event) {\n",
       "        return fig.toolbar_button_onmouseover(event['data']);\n",
       "    }\n",
       "\n",
       "    for(var toolbar_ind in mpl.toolbar_items) {\n",
       "        var name = mpl.toolbar_items[toolbar_ind][0];\n",
       "        var tooltip = mpl.toolbar_items[toolbar_ind][1];\n",
       "        var image = mpl.toolbar_items[toolbar_ind][2];\n",
       "        var method_name = mpl.toolbar_items[toolbar_ind][3];\n",
       "\n",
       "        if (!name) {\n",
       "            // put a spacer in here.\n",
       "            continue;\n",
       "        }\n",
       "        var button = $('<button/>');\n",
       "        button.addClass('ui-button ui-widget ui-state-default ui-corner-all ' +\n",
       "                        'ui-button-icon-only');\n",
       "        button.attr('role', 'button');\n",
       "        button.attr('aria-disabled', 'false');\n",
       "        button.click(method_name, toolbar_event);\n",
       "        button.mouseover(tooltip, toolbar_mouse_event);\n",
       "\n",
       "        var icon_img = $('<span/>');\n",
       "        icon_img.addClass('ui-button-icon-primary ui-icon');\n",
       "        icon_img.addClass(image);\n",
       "        icon_img.addClass('ui-corner-all');\n",
       "\n",
       "        var tooltip_span = $('<span/>');\n",
       "        tooltip_span.addClass('ui-button-text');\n",
       "        tooltip_span.html(tooltip);\n",
       "\n",
       "        button.append(icon_img);\n",
       "        button.append(tooltip_span);\n",
       "\n",
       "        nav_element.append(button);\n",
       "    }\n",
       "\n",
       "    var fmt_picker_span = $('<span/>');\n",
       "\n",
       "    var fmt_picker = $('<select/>');\n",
       "    fmt_picker.addClass('mpl-toolbar-option ui-widget ui-widget-content');\n",
       "    fmt_picker_span.append(fmt_picker);\n",
       "    nav_element.append(fmt_picker_span);\n",
       "    this.format_dropdown = fmt_picker[0];\n",
       "\n",
       "    for (var ind in mpl.extensions) {\n",
       "        var fmt = mpl.extensions[ind];\n",
       "        var option = $(\n",
       "            '<option/>', {selected: fmt === mpl.default_extension}).html(fmt);\n",
       "        fmt_picker.append(option)\n",
       "    }\n",
       "\n",
       "    // Add hover states to the ui-buttons\n",
       "    $( \".ui-button\" ).hover(\n",
       "        function() { $(this).addClass(\"ui-state-hover\");},\n",
       "        function() { $(this).removeClass(\"ui-state-hover\");}\n",
       "    );\n",
       "\n",
       "    var status_bar = $('<span class=\"mpl-message\"/>');\n",
       "    nav_element.append(status_bar);\n",
       "    this.message = status_bar[0];\n",
       "}\n",
       "\n",
       "mpl.figure.prototype.request_resize = function(x_pixels, y_pixels) {\n",
       "    // Request matplotlib to resize the figure. Matplotlib will then trigger a resize in the client,\n",
       "    // which will in turn request a refresh of the image.\n",
       "    this.send_message('resize', {'width': x_pixels, 'height': y_pixels});\n",
       "}\n",
       "\n",
       "mpl.figure.prototype.send_message = function(type, properties) {\n",
       "    properties['type'] = type;\n",
       "    properties['figure_id'] = this.id;\n",
       "    this.ws.send(JSON.stringify(properties));\n",
       "}\n",
       "\n",
       "mpl.figure.prototype.send_draw_message = function() {\n",
       "    if (!this.waiting) {\n",
       "        this.waiting = true;\n",
       "        this.ws.send(JSON.stringify({type: \"draw\", figure_id: this.id}));\n",
       "    }\n",
       "}\n",
       "\n",
       "\n",
       "mpl.figure.prototype.handle_save = function(fig, msg) {\n",
       "    var format_dropdown = fig.format_dropdown;\n",
       "    var format = format_dropdown.options[format_dropdown.selectedIndex].value;\n",
       "    fig.ondownload(fig, format);\n",
       "}\n",
       "\n",
       "\n",
       "mpl.figure.prototype.handle_resize = function(fig, msg) {\n",
       "    var size = msg['size'];\n",
       "    if (size[0] != fig.canvas.width || size[1] != fig.canvas.height) {\n",
       "        fig._resize_canvas(size[0], size[1]);\n",
       "        fig.send_message(\"refresh\", {});\n",
       "    };\n",
       "}\n",
       "\n",
       "mpl.figure.prototype.handle_rubberband = function(fig, msg) {\n",
       "    var x0 = msg['x0'] / mpl.ratio;\n",
       "    var y0 = (fig.canvas.height - msg['y0']) / mpl.ratio;\n",
       "    var x1 = msg['x1'] / mpl.ratio;\n",
       "    var y1 = (fig.canvas.height - msg['y1']) / mpl.ratio;\n",
       "    x0 = Math.floor(x0) + 0.5;\n",
       "    y0 = Math.floor(y0) + 0.5;\n",
       "    x1 = Math.floor(x1) + 0.5;\n",
       "    y1 = Math.floor(y1) + 0.5;\n",
       "    var min_x = Math.min(x0, x1);\n",
       "    var min_y = Math.min(y0, y1);\n",
       "    var width = Math.abs(x1 - x0);\n",
       "    var height = Math.abs(y1 - y0);\n",
       "\n",
       "    fig.rubberband_context.clearRect(\n",
       "        0, 0, fig.canvas.width, fig.canvas.height);\n",
       "\n",
       "    fig.rubberband_context.strokeRect(min_x, min_y, width, height);\n",
       "}\n",
       "\n",
       "mpl.figure.prototype.handle_figure_label = function(fig, msg) {\n",
       "    // Updates the figure title.\n",
       "    fig.header.textContent = msg['label'];\n",
       "}\n",
       "\n",
       "mpl.figure.prototype.handle_cursor = function(fig, msg) {\n",
       "    var cursor = msg['cursor'];\n",
       "    switch(cursor)\n",
       "    {\n",
       "    case 0:\n",
       "        cursor = 'pointer';\n",
       "        break;\n",
       "    case 1:\n",
       "        cursor = 'default';\n",
       "        break;\n",
       "    case 2:\n",
       "        cursor = 'crosshair';\n",
       "        break;\n",
       "    case 3:\n",
       "        cursor = 'move';\n",
       "        break;\n",
       "    }\n",
       "    fig.rubberband_canvas.style.cursor = cursor;\n",
       "}\n",
       "\n",
       "mpl.figure.prototype.handle_message = function(fig, msg) {\n",
       "    fig.message.textContent = msg['message'];\n",
       "}\n",
       "\n",
       "mpl.figure.prototype.handle_draw = function(fig, msg) {\n",
       "    // Request the server to send over a new figure.\n",
       "    fig.send_draw_message();\n",
       "}\n",
       "\n",
       "mpl.figure.prototype.handle_image_mode = function(fig, msg) {\n",
       "    fig.image_mode = msg['mode'];\n",
       "}\n",
       "\n",
       "mpl.figure.prototype.updated_canvas_event = function() {\n",
       "    // Called whenever the canvas gets updated.\n",
       "    this.send_message(\"ack\", {});\n",
       "}\n",
       "\n",
       "// A function to construct a web socket function for onmessage handling.\n",
       "// Called in the figure constructor.\n",
       "mpl.figure.prototype._make_on_message_function = function(fig) {\n",
       "    return function socket_on_message(evt) {\n",
       "        if (evt.data instanceof Blob) {\n",
       "            /* FIXME: We get \"Resource interpreted as Image but\n",
       "             * transferred with MIME type text/plain:\" errors on\n",
       "             * Chrome.  But how to set the MIME type?  It doesn't seem\n",
       "             * to be part of the websocket stream */\n",
       "            evt.data.type = \"image/png\";\n",
       "\n",
       "            /* Free the memory for the previous frames */\n",
       "            if (fig.imageObj.src) {\n",
       "                (window.URL || window.webkitURL).revokeObjectURL(\n",
       "                    fig.imageObj.src);\n",
       "            }\n",
       "\n",
       "            fig.imageObj.src = (window.URL || window.webkitURL).createObjectURL(\n",
       "                evt.data);\n",
       "            fig.updated_canvas_event();\n",
       "            fig.waiting = false;\n",
       "            return;\n",
       "        }\n",
       "        else if (typeof evt.data === 'string' && evt.data.slice(0, 21) == \"data:image/png;base64\") {\n",
       "            fig.imageObj.src = evt.data;\n",
       "            fig.updated_canvas_event();\n",
       "            fig.waiting = false;\n",
       "            return;\n",
       "        }\n",
       "\n",
       "        var msg = JSON.parse(evt.data);\n",
       "        var msg_type = msg['type'];\n",
       "\n",
       "        // Call the  \"handle_{type}\" callback, which takes\n",
       "        // the figure and JSON message as its only arguments.\n",
       "        try {\n",
       "            var callback = fig[\"handle_\" + msg_type];\n",
       "        } catch (e) {\n",
       "            console.log(\"No handler for the '\" + msg_type + \"' message type: \", msg);\n",
       "            return;\n",
       "        }\n",
       "\n",
       "        if (callback) {\n",
       "            try {\n",
       "                // console.log(\"Handling '\" + msg_type + \"' message: \", msg);\n",
       "                callback(fig, msg);\n",
       "            } catch (e) {\n",
       "                console.log(\"Exception inside the 'handler_\" + msg_type + \"' callback:\", e, e.stack, msg);\n",
       "            }\n",
       "        }\n",
       "    };\n",
       "}\n",
       "\n",
       "// from http://stackoverflow.com/questions/1114465/getting-mouse-location-in-canvas\n",
       "mpl.findpos = function(e) {\n",
       "    //this section is from http://www.quirksmode.org/js/events_properties.html\n",
       "    var targ;\n",
       "    if (!e)\n",
       "        e = window.event;\n",
       "    if (e.target)\n",
       "        targ = e.target;\n",
       "    else if (e.srcElement)\n",
       "        targ = e.srcElement;\n",
       "    if (targ.nodeType == 3) // defeat Safari bug\n",
       "        targ = targ.parentNode;\n",
       "\n",
       "    // jQuery normalizes the pageX and pageY\n",
       "    // pageX,Y are the mouse positions relative to the document\n",
       "    // offset() returns the position of the element relative to the document\n",
       "    var x = e.pageX - $(targ).offset().left;\n",
       "    var y = e.pageY - $(targ).offset().top;\n",
       "\n",
       "    return {\"x\": x, \"y\": y};\n",
       "};\n",
       "\n",
       "/*\n",
       " * return a copy of an object with only non-object keys\n",
       " * we need this to avoid circular references\n",
       " * http://stackoverflow.com/a/24161582/3208463\n",
       " */\n",
       "function simpleKeys (original) {\n",
       "  return Object.keys(original).reduce(function (obj, key) {\n",
       "    if (typeof original[key] !== 'object')\n",
       "        obj[key] = original[key]\n",
       "    return obj;\n",
       "  }, {});\n",
       "}\n",
       "\n",
       "mpl.figure.prototype.mouse_event = function(event, name) {\n",
       "    var canvas_pos = mpl.findpos(event)\n",
       "\n",
       "    if (name === 'button_press')\n",
       "    {\n",
       "        this.canvas.focus();\n",
       "        this.canvas_div.focus();\n",
       "    }\n",
       "\n",
       "    var x = canvas_pos.x * mpl.ratio;\n",
       "    var y = canvas_pos.y * mpl.ratio;\n",
       "\n",
       "    this.send_message(name, {x: x, y: y, button: event.button,\n",
       "                             step: event.step,\n",
       "                             guiEvent: simpleKeys(event)});\n",
       "\n",
       "    /* This prevents the web browser from automatically changing to\n",
       "     * the text insertion cursor when the button is pressed.  We want\n",
       "     * to control all of the cursor setting manually through the\n",
       "     * 'cursor' event from matplotlib */\n",
       "    event.preventDefault();\n",
       "    return false;\n",
       "}\n",
       "\n",
       "mpl.figure.prototype._key_event_extra = function(event, name) {\n",
       "    // Handle any extra behaviour associated with a key event\n",
       "}\n",
       "\n",
       "mpl.figure.prototype.key_event = function(event, name) {\n",
       "\n",
       "    // Prevent repeat events\n",
       "    if (name == 'key_press')\n",
       "    {\n",
       "        if (event.which === this._key)\n",
       "            return;\n",
       "        else\n",
       "            this._key = event.which;\n",
       "    }\n",
       "    if (name == 'key_release')\n",
       "        this._key = null;\n",
       "\n",
       "    var value = '';\n",
       "    if (event.ctrlKey && event.which != 17)\n",
       "        value += \"ctrl+\";\n",
       "    if (event.altKey && event.which != 18)\n",
       "        value += \"alt+\";\n",
       "    if (event.shiftKey && event.which != 16)\n",
       "        value += \"shift+\";\n",
       "\n",
       "    value += 'k';\n",
       "    value += event.which.toString();\n",
       "\n",
       "    this._key_event_extra(event, name);\n",
       "\n",
       "    this.send_message(name, {key: value,\n",
       "                             guiEvent: simpleKeys(event)});\n",
       "    return false;\n",
       "}\n",
       "\n",
       "mpl.figure.prototype.toolbar_button_onclick = function(name) {\n",
       "    if (name == 'download') {\n",
       "        this.handle_save(this, null);\n",
       "    } else {\n",
       "        this.send_message(\"toolbar_button\", {name: name});\n",
       "    }\n",
       "};\n",
       "\n",
       "mpl.figure.prototype.toolbar_button_onmouseover = function(tooltip) {\n",
       "    this.message.textContent = tooltip;\n",
       "};\n",
       "mpl.toolbar_items = [[\"Home\", \"Reset original view\", \"fa fa-home icon-home\", \"home\"], [\"Back\", \"Back to  previous view\", \"fa fa-arrow-left icon-arrow-left\", \"back\"], [\"Forward\", \"Forward to next view\", \"fa fa-arrow-right icon-arrow-right\", \"forward\"], [\"\", \"\", \"\", \"\"], [\"Pan\", \"Pan axes with left mouse, zoom with right\", \"fa fa-arrows icon-move\", \"pan\"], [\"Zoom\", \"Zoom to rectangle\", \"fa fa-square-o icon-check-empty\", \"zoom\"], [\"\", \"\", \"\", \"\"], [\"Download\", \"Download plot\", \"fa fa-floppy-o icon-save\", \"download\"]];\n",
       "\n",
       "mpl.extensions = [\"eps\", \"pdf\", \"png\", \"ps\", \"raw\", \"svg\"];\n",
       "\n",
       "mpl.default_extension = \"png\";var comm_websocket_adapter = function(comm) {\n",
       "    // Create a \"websocket\"-like object which calls the given IPython comm\n",
       "    // object with the appropriate methods. Currently this is a non binary\n",
       "    // socket, so there is still some room for performance tuning.\n",
       "    var ws = {};\n",
       "\n",
       "    ws.close = function() {\n",
       "        comm.close()\n",
       "    };\n",
       "    ws.send = function(m) {\n",
       "        //console.log('sending', m);\n",
       "        comm.send(m);\n",
       "    };\n",
       "    // Register the callback with on_msg.\n",
       "    comm.on_msg(function(msg) {\n",
       "        //console.log('receiving', msg['content']['data'], msg);\n",
       "        // Pass the mpl event to the overridden (by mpl) onmessage function.\n",
       "        ws.onmessage(msg['content']['data'])\n",
       "    });\n",
       "    return ws;\n",
       "}\n",
       "\n",
       "mpl.mpl_figure_comm = function(comm, msg) {\n",
       "    // This is the function which gets called when the mpl process\n",
       "    // starts-up an IPython Comm through the \"matplotlib\" channel.\n",
       "\n",
       "    var id = msg.content.data.id;\n",
       "    // Get hold of the div created by the display call when the Comm\n",
       "    // socket was opened in Python.\n",
       "    var element = $(\"#\" + id);\n",
       "    var ws_proxy = comm_websocket_adapter(comm)\n",
       "\n",
       "    function ondownload(figure, format) {\n",
       "        window.open(figure.imageObj.src);\n",
       "    }\n",
       "\n",
       "    var fig = new mpl.figure(id, ws_proxy,\n",
       "                           ondownload,\n",
       "                           element.get(0));\n",
       "\n",
       "    // Call onopen now - mpl needs it, as it is assuming we've passed it a real\n",
       "    // web socket which is closed, not our websocket->open comm proxy.\n",
       "    ws_proxy.onopen();\n",
       "\n",
       "    fig.parent_element = element.get(0);\n",
       "    fig.cell_info = mpl.find_output_cell(\"<div id='\" + id + \"'></div>\");\n",
       "    if (!fig.cell_info) {\n",
       "        console.error(\"Failed to find cell for figure\", id, fig);\n",
       "        return;\n",
       "    }\n",
       "\n",
       "    var output_index = fig.cell_info[2]\n",
       "    var cell = fig.cell_info[0];\n",
       "\n",
       "};\n",
       "\n",
       "mpl.figure.prototype.handle_close = function(fig, msg) {\n",
       "    var width = fig.canvas.width/mpl.ratio\n",
       "    fig.root.unbind('remove')\n",
       "\n",
       "    // Update the output cell to use the data from the current canvas.\n",
       "    fig.push_to_output();\n",
       "    var dataURL = fig.canvas.toDataURL();\n",
       "    // Re-enable the keyboard manager in IPython - without this line, in FF,\n",
       "    // the notebook keyboard shortcuts fail.\n",
       "    IPython.keyboard_manager.enable()\n",
       "    $(fig.parent_element).html('<img src=\"' + dataURL + '\" width=\"' + width + '\">');\n",
       "    fig.close_ws(fig, msg);\n",
       "}\n",
       "\n",
       "mpl.figure.prototype.close_ws = function(fig, msg){\n",
       "    fig.send_message('closing', msg);\n",
       "    // fig.ws.close()\n",
       "}\n",
       "\n",
       "mpl.figure.prototype.push_to_output = function(remove_interactive) {\n",
       "    // Turn the data on the canvas into data in the output cell.\n",
       "    var width = this.canvas.width/mpl.ratio\n",
       "    var dataURL = this.canvas.toDataURL();\n",
       "    this.cell_info[1]['text/html'] = '<img src=\"' + dataURL + '\" width=\"' + width + '\">';\n",
       "}\n",
       "\n",
       "mpl.figure.prototype.updated_canvas_event = function() {\n",
       "    // Tell IPython that the notebook contents must change.\n",
       "    IPython.notebook.set_dirty(true);\n",
       "    this.send_message(\"ack\", {});\n",
       "    var fig = this;\n",
       "    // Wait a second, then push the new image to the DOM so\n",
       "    // that it is saved nicely (might be nice to debounce this).\n",
       "    setTimeout(function () { fig.push_to_output() }, 1000);\n",
       "}\n",
       "\n",
       "mpl.figure.prototype._init_toolbar = function() {\n",
       "    var fig = this;\n",
       "\n",
       "    var nav_element = $('<div/>')\n",
       "    nav_element.attr('style', 'width: 100%');\n",
       "    this.root.append(nav_element);\n",
       "\n",
       "    // Define a callback function for later on.\n",
       "    function toolbar_event(event) {\n",
       "        return fig.toolbar_button_onclick(event['data']);\n",
       "    }\n",
       "    function toolbar_mouse_event(event) {\n",
       "        return fig.toolbar_button_onmouseover(event['data']);\n",
       "    }\n",
       "\n",
       "    for(var toolbar_ind in mpl.toolbar_items){\n",
       "        var name = mpl.toolbar_items[toolbar_ind][0];\n",
       "        var tooltip = mpl.toolbar_items[toolbar_ind][1];\n",
       "        var image = mpl.toolbar_items[toolbar_ind][2];\n",
       "        var method_name = mpl.toolbar_items[toolbar_ind][3];\n",
       "\n",
       "        if (!name) { continue; };\n",
       "\n",
       "        var button = $('<button class=\"btn btn-default\" href=\"#\" title=\"' + name + '\"><i class=\"fa ' + image + ' fa-lg\"></i></button>');\n",
       "        button.click(method_name, toolbar_event);\n",
       "        button.mouseover(tooltip, toolbar_mouse_event);\n",
       "        nav_element.append(button);\n",
       "    }\n",
       "\n",
       "    // Add the status bar.\n",
       "    var status_bar = $('<span class=\"mpl-message\" style=\"text-align:right; float: right;\"/>');\n",
       "    nav_element.append(status_bar);\n",
       "    this.message = status_bar[0];\n",
       "\n",
       "    // Add the close button to the window.\n",
       "    var buttongrp = $('<div class=\"btn-group inline pull-right\"></div>');\n",
       "    var button = $('<button class=\"btn btn-mini btn-primary\" href=\"#\" title=\"Stop Interaction\"><i class=\"fa fa-power-off icon-remove icon-large\"></i></button>');\n",
       "    button.click(function (evt) { fig.handle_close(fig, {}); } );\n",
       "    button.mouseover('Stop Interaction', toolbar_mouse_event);\n",
       "    buttongrp.append(button);\n",
       "    var titlebar = this.root.find($('.ui-dialog-titlebar'));\n",
       "    titlebar.prepend(buttongrp);\n",
       "}\n",
       "\n",
       "mpl.figure.prototype._root_extra_style = function(el){\n",
       "    var fig = this\n",
       "    el.on(\"remove\", function(){\n",
       "\tfig.close_ws(fig, {});\n",
       "    });\n",
       "}\n",
       "\n",
       "mpl.figure.prototype._canvas_extra_style = function(el){\n",
       "    // this is important to make the div 'focusable\n",
       "    el.attr('tabindex', 0)\n",
       "    // reach out to IPython and tell the keyboard manager to turn it's self\n",
       "    // off when our div gets focus\n",
       "\n",
       "    // location in version 3\n",
       "    if (IPython.notebook.keyboard_manager) {\n",
       "        IPython.notebook.keyboard_manager.register_events(el);\n",
       "    }\n",
       "    else {\n",
       "        // location in version 2\n",
       "        IPython.keyboard_manager.register_events(el);\n",
       "    }\n",
       "\n",
       "}\n",
       "\n",
       "mpl.figure.prototype._key_event_extra = function(event, name) {\n",
       "    var manager = IPython.notebook.keyboard_manager;\n",
       "    if (!manager)\n",
       "        manager = IPython.keyboard_manager;\n",
       "\n",
       "    // Check for shift+enter\n",
       "    if (event.shiftKey && event.which == 13) {\n",
       "        this.canvas_div.blur();\n",
       "        event.shiftKey = false;\n",
       "        // Send a \"J\" for go to next cell\n",
       "        event.which = 74;\n",
       "        event.keyCode = 74;\n",
       "        manager.command_mode();\n",
       "        manager.handle_keydown(event);\n",
       "    }\n",
       "}\n",
       "\n",
       "mpl.figure.prototype.handle_save = function(fig, msg) {\n",
       "    fig.ondownload(fig, null);\n",
       "}\n",
       "\n",
       "\n",
       "mpl.find_output_cell = function(html_output) {\n",
       "    // Return the cell and output element which can be found *uniquely* in the notebook.\n",
       "    // Note - this is a bit hacky, but it is done because the \"notebook_saving.Notebook\"\n",
       "    // IPython event is triggered only after the cells have been serialised, which for\n",
       "    // our purposes (turning an active figure into a static one), is too late.\n",
       "    var cells = IPython.notebook.get_cells();\n",
       "    var ncells = cells.length;\n",
       "    for (var i=0; i<ncells; i++) {\n",
       "        var cell = cells[i];\n",
       "        if (cell.cell_type === 'code'){\n",
       "            for (var j=0; j<cell.output_area.outputs.length; j++) {\n",
       "                var data = cell.output_area.outputs[j];\n",
       "                if (data.data) {\n",
       "                    // IPython >= 3 moved mimebundle to data attribute of output\n",
       "                    data = data.data;\n",
       "                }\n",
       "                if (data['text/html'] == html_output) {\n",
       "                    return [cell, data, j];\n",
       "                }\n",
       "            }\n",
       "        }\n",
       "    }\n",
       "}\n",
       "\n",
       "// Register the function which deals with the matplotlib target/channel.\n",
       "// The kernel may be null if the page has been refreshed.\n",
       "if (IPython.notebook.kernel != null) {\n",
       "    IPython.notebook.kernel.comm_manager.register_target('matplotlib', mpl.mpl_figure_comm);\n",
       "}\n"
      ],
      "text/plain": [
       "<IPython.core.display.Javascript object>"
      ]
     },
     "metadata": {},
     "output_type": "display_data"
    },
    {
     "data": {
      "text/html": [
       "<div id='2ba3b35b-1f3c-4b3d-b7b3-8dd80427e6ab'></div>"
      ],
      "text/plain": [
       "<IPython.core.display.HTML object>"
      ]
     },
     "metadata": {},
     "output_type": "display_data"
    }
   ],
   "source": [
    "fig,axs = plt.subplots(figsize=(9,4))\n",
    "axis = [4.0, 26.0, 0.0, 2.5]\n",
    "zorder = len(window_list) + 2\n",
    "\n",
    "# Converence threshold, kcal/mol (probably need separate for attach vs. pull)\n",
    "convergence_thresh = {'attach': 0.006, 'pull': 0.03}\n",
    "# Simulation steps per iteration\n"
   ]
  },
  {
   "cell_type": "code",
   "execution_count": 117,
   "metadata": {
    "scrolled": false
   },
   "outputs": [
    {
     "name": "stdout",
     "output_type": "stream",
     "text": [
      "Set pull offset (8.03 A)\n"
     ]
    },
    {
     "name": "stderr",
     "output_type": "stream",
     "text": [
      "2018-04-24 05:24:08 PM Calculating attach targets and force constants...\n",
      "2018-04-24 05:24:08 PM Attach, Method #3\n",
      "2018-04-24 05:24:08 PM Calculating pull targets and force constants...\n",
      "2018-04-24 05:24:08 PM Pull, Method #1\n",
      "2018-04-24 05:24:08 PM Calculating release targets and force constants...\n",
      "2018-04-24 05:24:08 PM No restraint info set for the release phase! Skipping...\n",
      "2018-04-24 05:24:08 PM Number of attach windows = 15\n",
      "2018-04-24 05:24:08 PM Number of pull windows = 46\n",
      "2018-04-24 05:24:08 PM This restraint will be skipped in the release phase\n",
      "2018-04-24 05:24:08 PM Assigning atom indices...\n",
      "2018-04-24 05:24:08 PM There are 1 atoms in the mask :3  ...\n",
      "2018-04-24 05:24:08 PM There are 1 atoms in the mask :2@C1  ...\n",
      "2018-04-24 05:24:08 PM Calculating attach targets and force constants...\n",
      "2018-04-24 05:24:08 PM Attach, Method #3\n",
      "2018-04-24 05:24:08 PM Calculating pull targets and force constants...\n",
      "2018-04-24 05:24:08 PM Pull, Method #1\n",
      "2018-04-24 05:24:08 PM Calculating release targets and force constants...\n",
      "2018-04-24 05:24:08 PM No restraint info set for the release phase! Skipping...\n",
      "2018-04-24 05:24:08 PM Number of attach windows = 15\n",
      "2018-04-24 05:24:08 PM Number of pull windows = 46\n",
      "2018-04-24 05:24:08 PM This restraint will be skipped in the release phase\n",
      "2018-04-24 05:24:08 PM Assigning atom indices...\n",
      "2018-04-24 05:24:08 PM There are 1 atoms in the mask :4  ...\n",
      "2018-04-24 05:24:08 PM There are 1 atoms in the mask :3  ...\n",
      "2018-04-24 05:24:08 PM There are 1 atoms in the mask :2@C1  ...\n",
      "2018-04-24 05:24:08 PM Calculating attach targets and force constants...\n",
      "2018-04-24 05:24:08 PM Attach, Method #3\n",
      "2018-04-24 05:24:08 PM Calculating pull targets and force constants...\n",
      "2018-04-24 05:24:08 PM Pull, Method #1\n",
      "2018-04-24 05:24:08 PM Calculating release targets and force constants...\n",
      "2018-04-24 05:24:08 PM No restraint info set for the release phase! Skipping...\n",
      "2018-04-24 05:24:08 PM Number of attach windows = 15\n",
      "2018-04-24 05:24:08 PM Number of pull windows = 46\n",
      "2018-04-24 05:24:08 PM This restraint will be skipped in the release phase\n",
      "2018-04-24 05:24:08 PM Assigning atom indices...\n",
      "2018-04-24 05:24:08 PM There are 1 atoms in the mask :3  ...\n",
      "2018-04-24 05:24:08 PM There are 1 atoms in the mask :2@C1  ...\n",
      "2018-04-24 05:24:08 PM There are 1 atoms in the mask :2@C3  ...\n"
     ]
    },
    {
     "name": "stdout",
     "output_type": "stream",
     "text": [
      "Simulating ./OA-G3-0\n",
      "----- prev :000 cur: 001 -----\n"
     ]
    },
    {
     "name": "stderr",
     "output_type": "stream",
     "text": [
      "2018-04-24 05:24:08 PM Writing minimize.in\n",
      "2018-04-24 05:24:08 PM Running Minimization at ./OA-G3-0/AMBER/APR/windows/a000\n",
      "2018-04-24 05:24:08 PM Exec line: pmemd.cuda -O -p solvate.prmtop -ref solvate.rst7 -c solvate.rst7 -i minimize.in -o minimize.out -r minimize.rst7 -inf minimize.mdinfo\n"
     ]
    },
    {
     "name": "stdout",
     "output_type": "stream",
     "text": [
      "Re-running minimization...\n"
     ]
    },
    {
     "name": "stderr",
     "output_type": "stream",
     "text": [
      "2018-04-24 05:24:10 PM Minimization completed...\n",
      "2018-04-24 05:24:10 PM Writing equil.0.in\n",
      "2018-04-24 05:24:10 PM Running MD at ./OA-G3-0/AMBER/APR/windows/a000\n",
      "2018-04-24 05:24:10 PM Exec line: pmemd.cuda -O -p solvate.prmtop -ref solvate.rst7 -c minimize.rst7 -i equil.0.in -o equil.0.out -r equil.0.rst7 -x equil.0.nc -inf equil.0.mdinfo -e equil.0.mden\n"
     ]
    },
    {
     "name": "stdout",
     "output_type": "stream",
     "text": [
      "`equil.rst7` not found and i < 10...\n"
     ]
    },
    {
     "name": "stderr",
     "output_type": "stream",
     "text": [
      "2018-04-24 05:28:04 PM MD completed ...\n",
      "2018-04-24 05:28:04 PM Writing prod.001.in\n",
      "2018-04-24 05:28:04 PM Running MD at ./OA-G3-0/AMBER/APR/windows/a000\n",
      "2018-04-24 05:28:04 PM Exec line: pmemd.cuda -O -p solvate.prmtop -ref solvate.rst7 -c equil.rst7 -i prod.001.in -o prod.001.out -r prod.001.rst7 -x prod.001.nc -inf prod.001.mdinfo -e prod.001.mden\n",
      "2018-04-24 05:30:45 PM MD completed ...\n",
      "2018-04-24 05:30:45 PM Writing minimize.in\n",
      "2018-04-24 05:30:45 PM Running Minimization at ./OA-G3-0/AMBER/APR/windows/a001\n",
      "2018-04-24 05:30:45 PM Exec line: pmemd.cuda -O -p solvate.prmtop -ref solvate.rst7 -c solvate.rst7 -i minimize.in -o minimize.out -r minimize.rst7 -inf minimize.mdinfo\n"
     ]
    },
    {
     "name": "stdout",
     "output_type": "stream",
     "text": [
      "Re-running minimization...\n"
     ]
    },
    {
     "name": "stderr",
     "output_type": "stream",
     "text": [
      "2018-04-24 05:30:47 PM Minimization completed...\n",
      "2018-04-24 05:30:47 PM Writing equil.0.in\n",
      "2018-04-24 05:30:47 PM Running MD at ./OA-G3-0/AMBER/APR/windows/a001\n",
      "2018-04-24 05:30:47 PM Exec line: pmemd.cuda -O -p solvate.prmtop -ref solvate.rst7 -c minimize.rst7 -i equil.0.in -o equil.0.out -r equil.0.rst7 -x equil.0.nc -inf equil.0.mdinfo -e equil.0.mden\n"
     ]
    },
    {
     "name": "stdout",
     "output_type": "stream",
     "text": [
      "`equil.rst7` not found and i < 10...\n"
     ]
    },
    {
     "name": "stderr",
     "output_type": "stream",
     "text": [
      "2018-04-24 05:34:40 PM MD completed ...\n",
      "2018-04-24 05:34:40 PM Writing prod.001.in\n",
      "2018-04-24 05:34:40 PM Running MD at ./OA-G3-0/AMBER/APR/windows/a001\n",
      "2018-04-24 05:34:40 PM Exec line: pmemd.cuda -O -p solvate.prmtop -ref solvate.rst7 -c equil.rst7 -i prod.001.in -o prod.001.out -r prod.001.rst7 -x prod.001.nc -inf prod.001.mdinfo -e prod.001.mden\n",
      "2018-04-24 05:37:21 PM MD completed ...\n",
      "2018-04-24 05:37:21 PM Writing minimize.in\n",
      "2018-04-24 05:37:21 PM Running Minimization at ./OA-G3-0/AMBER/APR/windows/a002\n",
      "2018-04-24 05:37:21 PM Exec line: pmemd.cuda -O -p solvate.prmtop -ref solvate.rst7 -c solvate.rst7 -i minimize.in -o minimize.out -r minimize.rst7 -inf minimize.mdinfo\n"
     ]
    },
    {
     "name": "stdout",
     "output_type": "stream",
     "text": [
      "Re-running minimization...\n"
     ]
    },
    {
     "name": "stderr",
     "output_type": "stream",
     "text": [
      "2018-04-24 05:37:23 PM Minimization completed...\n",
      "2018-04-24 05:37:23 PM Writing equil.0.in\n",
      "2018-04-24 05:37:23 PM Running MD at ./OA-G3-0/AMBER/APR/windows/a002\n",
      "2018-04-24 05:37:23 PM Exec line: pmemd.cuda -O -p solvate.prmtop -ref solvate.rst7 -c minimize.rst7 -i equil.0.in -o equil.0.out -r equil.0.rst7 -x equil.0.nc -inf equil.0.mdinfo -e equil.0.mden\n"
     ]
    },
    {
     "name": "stdout",
     "output_type": "stream",
     "text": [
      "`equil.rst7` not found and i < 10...\n"
     ]
    },
    {
     "name": "stderr",
     "output_type": "stream",
     "text": [
      "2018-04-24 05:41:18 PM MD completed ...\n",
      "2018-04-24 05:41:18 PM Writing prod.001.in\n",
      "2018-04-24 05:41:18 PM Running MD at ./OA-G3-0/AMBER/APR/windows/a002\n",
      "2018-04-24 05:41:18 PM Exec line: pmemd.cuda -O -p solvate.prmtop -ref solvate.rst7 -c equil.rst7 -i prod.001.in -o prod.001.out -r prod.001.rst7 -x prod.001.nc -inf prod.001.mdinfo -e prod.001.mden\n",
      "2018-04-24 05:43:58 PM MD completed ...\n",
      "2018-04-24 05:43:58 PM Writing minimize.in\n",
      "2018-04-24 05:43:58 PM Running Minimization at ./OA-G3-0/AMBER/APR/windows/a003\n",
      "2018-04-24 05:43:58 PM Exec line: pmemd.cuda -O -p solvate.prmtop -ref solvate.rst7 -c solvate.rst7 -i minimize.in -o minimize.out -r minimize.rst7 -inf minimize.mdinfo\n"
     ]
    },
    {
     "name": "stdout",
     "output_type": "stream",
     "text": [
      "Re-running minimization...\n"
     ]
    },
    {
     "name": "stderr",
     "output_type": "stream",
     "text": [
      "2018-04-24 05:44:00 PM Minimization completed...\n",
      "2018-04-24 05:44:00 PM Writing equil.0.in\n",
      "2018-04-24 05:44:00 PM Running MD at ./OA-G3-0/AMBER/APR/windows/a003\n",
      "2018-04-24 05:44:00 PM Exec line: pmemd.cuda -O -p solvate.prmtop -ref solvate.rst7 -c minimize.rst7 -i equil.0.in -o equil.0.out -r equil.0.rst7 -x equil.0.nc -inf equil.0.mdinfo -e equil.0.mden\n"
     ]
    },
    {
     "name": "stdout",
     "output_type": "stream",
     "text": [
      "`equil.rst7` not found and i < 10...\n"
     ]
    },
    {
     "name": "stderr",
     "output_type": "stream",
     "text": [
      "2018-04-24 05:47:52 PM MD completed ...\n",
      "2018-04-24 05:47:52 PM Writing prod.001.in\n",
      "2018-04-24 05:47:52 PM Running MD at ./OA-G3-0/AMBER/APR/windows/a003\n",
      "2018-04-24 05:47:52 PM Exec line: pmemd.cuda -O -p solvate.prmtop -ref solvate.rst7 -c equil.rst7 -i prod.001.in -o prod.001.out -r prod.001.rst7 -x prod.001.nc -inf prod.001.mdinfo -e prod.001.mden\n",
      "2018-04-24 05:50:33 PM MD completed ...\n",
      "2018-04-24 05:50:33 PM Writing minimize.in\n",
      "2018-04-24 05:50:33 PM Running Minimization at ./OA-G3-0/AMBER/APR/windows/a004\n",
      "2018-04-24 05:50:33 PM Exec line: pmemd.cuda -O -p solvate.prmtop -ref solvate.rst7 -c solvate.rst7 -i minimize.in -o minimize.out -r minimize.rst7 -inf minimize.mdinfo\n"
     ]
    },
    {
     "name": "stdout",
     "output_type": "stream",
     "text": [
      "Re-running minimization...\n"
     ]
    },
    {
     "name": "stderr",
     "output_type": "stream",
     "text": [
      "2018-04-24 05:50:35 PM Minimization completed...\n",
      "2018-04-24 05:50:35 PM Writing equil.0.in\n",
      "2018-04-24 05:50:35 PM Running MD at ./OA-G3-0/AMBER/APR/windows/a004\n",
      "2018-04-24 05:50:35 PM Exec line: pmemd.cuda -O -p solvate.prmtop -ref solvate.rst7 -c minimize.rst7 -i equil.0.in -o equil.0.out -r equil.0.rst7 -x equil.0.nc -inf equil.0.mdinfo -e equil.0.mden\n"
     ]
    },
    {
     "name": "stdout",
     "output_type": "stream",
     "text": [
      "`equil.rst7` not found and i < 10...\n"
     ]
    },
    {
     "name": "stderr",
     "output_type": "stream",
     "text": [
      "2018-04-24 05:54:26 PM MD completed ...\n",
      "2018-04-24 05:54:26 PM Writing prod.001.in\n",
      "2018-04-24 05:54:26 PM Running MD at ./OA-G3-0/AMBER/APR/windows/a004\n",
      "2018-04-24 05:54:26 PM Exec line: pmemd.cuda -O -p solvate.prmtop -ref solvate.rst7 -c equil.rst7 -i prod.001.in -o prod.001.out -r prod.001.rst7 -x prod.001.nc -inf prod.001.mdinfo -e prod.001.mden\n",
      "2018-04-24 05:57:08 PM MD completed ...\n",
      "2018-04-24 05:57:08 PM Writing minimize.in\n",
      "2018-04-24 05:57:08 PM Running Minimization at ./OA-G3-0/AMBER/APR/windows/a005\n",
      "2018-04-24 05:57:08 PM Exec line: pmemd.cuda -O -p solvate.prmtop -ref solvate.rst7 -c solvate.rst7 -i minimize.in -o minimize.out -r minimize.rst7 -inf minimize.mdinfo\n"
     ]
    },
    {
     "name": "stdout",
     "output_type": "stream",
     "text": [
      "Re-running minimization...\n"
     ]
    },
    {
     "name": "stderr",
     "output_type": "stream",
     "text": [
      "2018-04-24 05:57:10 PM Minimization completed...\n",
      "2018-04-24 05:57:10 PM Writing equil.0.in\n",
      "2018-04-24 05:57:10 PM Running MD at ./OA-G3-0/AMBER/APR/windows/a005\n",
      "2018-04-24 05:57:10 PM Exec line: pmemd.cuda -O -p solvate.prmtop -ref solvate.rst7 -c minimize.rst7 -i equil.0.in -o equil.0.out -r equil.0.rst7 -x equil.0.nc -inf equil.0.mdinfo -e equil.0.mden\n"
     ]
    },
    {
     "name": "stdout",
     "output_type": "stream",
     "text": [
      "`equil.rst7` not found and i < 10...\n"
     ]
    },
    {
     "name": "stderr",
     "output_type": "stream",
     "text": [
      "2018-04-24 06:01:02 PM MD completed ...\n",
      "2018-04-24 06:01:02 PM Writing prod.001.in\n",
      "2018-04-24 06:01:02 PM Running MD at ./OA-G3-0/AMBER/APR/windows/a005\n",
      "2018-04-24 06:01:02 PM Exec line: pmemd.cuda -O -p solvate.prmtop -ref solvate.rst7 -c equil.rst7 -i prod.001.in -o prod.001.out -r prod.001.rst7 -x prod.001.nc -inf prod.001.mdinfo -e prod.001.mden\n",
      "2018-04-24 06:03:44 PM MD completed ...\n",
      "2018-04-24 06:03:44 PM Writing minimize.in\n",
      "2018-04-24 06:03:44 PM Running Minimization at ./OA-G3-0/AMBER/APR/windows/a006\n",
      "2018-04-24 06:03:44 PM Exec line: pmemd.cuda -O -p solvate.prmtop -ref solvate.rst7 -c solvate.rst7 -i minimize.in -o minimize.out -r minimize.rst7 -inf minimize.mdinfo\n"
     ]
    },
    {
     "name": "stdout",
     "output_type": "stream",
     "text": [
      "Re-running minimization...\n"
     ]
    },
    {
     "name": "stderr",
     "output_type": "stream",
     "text": [
      "2018-04-24 06:03:46 PM Minimization completed...\n",
      "2018-04-24 06:03:46 PM Writing equil.0.in\n",
      "2018-04-24 06:03:46 PM Running MD at ./OA-G3-0/AMBER/APR/windows/a006\n",
      "2018-04-24 06:03:46 PM Exec line: pmemd.cuda -O -p solvate.prmtop -ref solvate.rst7 -c minimize.rst7 -i equil.0.in -o equil.0.out -r equil.0.rst7 -x equil.0.nc -inf equil.0.mdinfo -e equil.0.mden\n"
     ]
    },
    {
     "name": "stdout",
     "output_type": "stream",
     "text": [
      "`equil.rst7` not found and i < 10...\n"
     ]
    },
    {
     "name": "stderr",
     "output_type": "stream",
     "text": [
      "2018-04-24 06:07:37 PM MD completed ...\n",
      "2018-04-24 06:07:37 PM Writing prod.001.in\n",
      "2018-04-24 06:07:37 PM Running MD at ./OA-G3-0/AMBER/APR/windows/a006\n",
      "2018-04-24 06:07:37 PM Exec line: pmemd.cuda -O -p solvate.prmtop -ref solvate.rst7 -c equil.rst7 -i prod.001.in -o prod.001.out -r prod.001.rst7 -x prod.001.nc -inf prod.001.mdinfo -e prod.001.mden\n",
      "2018-04-24 06:10:19 PM MD completed ...\n",
      "2018-04-24 06:10:19 PM Writing minimize.in\n",
      "2018-04-24 06:10:19 PM Running Minimization at ./OA-G3-0/AMBER/APR/windows/a007\n",
      "2018-04-24 06:10:19 PM Exec line: pmemd.cuda -O -p solvate.prmtop -ref solvate.rst7 -c solvate.rst7 -i minimize.in -o minimize.out -r minimize.rst7 -inf minimize.mdinfo\n"
     ]
    },
    {
     "name": "stdout",
     "output_type": "stream",
     "text": [
      "Re-running minimization...\n"
     ]
    },
    {
     "name": "stderr",
     "output_type": "stream",
     "text": [
      "2018-04-24 06:10:21 PM Minimization completed...\n",
      "2018-04-24 06:10:21 PM Writing equil.0.in\n",
      "2018-04-24 06:10:21 PM Running MD at ./OA-G3-0/AMBER/APR/windows/a007\n",
      "2018-04-24 06:10:21 PM Exec line: pmemd.cuda -O -p solvate.prmtop -ref solvate.rst7 -c minimize.rst7 -i equil.0.in -o equil.0.out -r equil.0.rst7 -x equil.0.nc -inf equil.0.mdinfo -e equil.0.mden\n"
     ]
    },
    {
     "name": "stdout",
     "output_type": "stream",
     "text": [
      "`equil.rst7` not found and i < 10...\n"
     ]
    },
    {
     "name": "stderr",
     "output_type": "stream",
     "text": [
      "2018-04-24 06:14:11 PM MD completed ...\n",
      "2018-04-24 06:14:11 PM Writing prod.001.in\n",
      "2018-04-24 06:14:11 PM Running MD at ./OA-G3-0/AMBER/APR/windows/a007\n",
      "2018-04-24 06:14:11 PM Exec line: pmemd.cuda -O -p solvate.prmtop -ref solvate.rst7 -c equil.rst7 -i prod.001.in -o prod.001.out -r prod.001.rst7 -x prod.001.nc -inf prod.001.mdinfo -e prod.001.mden\n",
      "2018-04-24 06:16:51 PM MD completed ...\n",
      "2018-04-24 06:16:51 PM Writing minimize.in\n",
      "2018-04-24 06:16:51 PM Running Minimization at ./OA-G3-0/AMBER/APR/windows/a008\n",
      "2018-04-24 06:16:51 PM Exec line: pmemd.cuda -O -p solvate.prmtop -ref solvate.rst7 -c solvate.rst7 -i minimize.in -o minimize.out -r minimize.rst7 -inf minimize.mdinfo\n"
     ]
    },
    {
     "name": "stdout",
     "output_type": "stream",
     "text": [
      "Re-running minimization...\n"
     ]
    },
    {
     "name": "stderr",
     "output_type": "stream",
     "text": [
      "2018-04-24 06:16:53 PM Minimization completed...\n",
      "2018-04-24 06:16:53 PM Writing equil.0.in\n",
      "2018-04-24 06:16:53 PM Running MD at ./OA-G3-0/AMBER/APR/windows/a008\n",
      "2018-04-24 06:16:53 PM Exec line: pmemd.cuda -O -p solvate.prmtop -ref solvate.rst7 -c minimize.rst7 -i equil.0.in -o equil.0.out -r equil.0.rst7 -x equil.0.nc -inf equil.0.mdinfo -e equil.0.mden\n"
     ]
    },
    {
     "name": "stdout",
     "output_type": "stream",
     "text": [
      "`equil.rst7` not found and i < 10...\n"
     ]
    },
    {
     "name": "stderr",
     "output_type": "stream",
     "text": [
      "2018-04-24 06:20:44 PM MD completed ...\n",
      "2018-04-24 06:20:44 PM Writing prod.001.in\n",
      "2018-04-24 06:20:44 PM Running MD at ./OA-G3-0/AMBER/APR/windows/a008\n",
      "2018-04-24 06:20:44 PM Exec line: pmemd.cuda -O -p solvate.prmtop -ref solvate.rst7 -c equil.rst7 -i prod.001.in -o prod.001.out -r prod.001.rst7 -x prod.001.nc -inf prod.001.mdinfo -e prod.001.mden\n",
      "2018-04-24 06:23:25 PM MD completed ...\n",
      "2018-04-24 06:23:25 PM Writing minimize.in\n",
      "2018-04-24 06:23:25 PM Running Minimization at ./OA-G3-0/AMBER/APR/windows/a009\n",
      "2018-04-24 06:23:25 PM Exec line: pmemd.cuda -O -p solvate.prmtop -ref solvate.rst7 -c solvate.rst7 -i minimize.in -o minimize.out -r minimize.rst7 -inf minimize.mdinfo\n"
     ]
    },
    {
     "name": "stdout",
     "output_type": "stream",
     "text": [
      "Re-running minimization...\n"
     ]
    },
    {
     "name": "stderr",
     "output_type": "stream",
     "text": [
      "2018-04-24 06:23:27 PM Minimization completed...\n",
      "2018-04-24 06:23:27 PM Writing equil.0.in\n",
      "2018-04-24 06:23:27 PM Running MD at ./OA-G3-0/AMBER/APR/windows/a009\n",
      "2018-04-24 06:23:27 PM Exec line: pmemd.cuda -O -p solvate.prmtop -ref solvate.rst7 -c minimize.rst7 -i equil.0.in -o equil.0.out -r equil.0.rst7 -x equil.0.nc -inf equil.0.mdinfo -e equil.0.mden\n"
     ]
    },
    {
     "name": "stdout",
     "output_type": "stream",
     "text": [
      "`equil.rst7` not found and i < 10...\n"
     ]
    },
    {
     "name": "stderr",
     "output_type": "stream",
     "text": [
      "2018-04-24 06:27:19 PM MD completed ...\n",
      "2018-04-24 06:27:19 PM Writing prod.001.in\n",
      "2018-04-24 06:27:19 PM Running MD at ./OA-G3-0/AMBER/APR/windows/a009\n",
      "2018-04-24 06:27:19 PM Exec line: pmemd.cuda -O -p solvate.prmtop -ref solvate.rst7 -c equil.rst7 -i prod.001.in -o prod.001.out -r prod.001.rst7 -x prod.001.nc -inf prod.001.mdinfo -e prod.001.mden\n",
      "2018-04-24 06:30:01 PM MD completed ...\n",
      "2018-04-24 06:30:01 PM Writing minimize.in\n",
      "2018-04-24 06:30:01 PM Running Minimization at ./OA-G3-0/AMBER/APR/windows/a010\n",
      "2018-04-24 06:30:01 PM Exec line: pmemd.cuda -O -p solvate.prmtop -ref solvate.rst7 -c solvate.rst7 -i minimize.in -o minimize.out -r minimize.rst7 -inf minimize.mdinfo\n"
     ]
    },
    {
     "name": "stdout",
     "output_type": "stream",
     "text": [
      "Re-running minimization...\n"
     ]
    },
    {
     "name": "stderr",
     "output_type": "stream",
     "text": [
      "2018-04-24 06:30:03 PM Minimization completed...\n",
      "2018-04-24 06:30:03 PM Writing equil.0.in\n",
      "2018-04-24 06:30:03 PM Running MD at ./OA-G3-0/AMBER/APR/windows/a010\n",
      "2018-04-24 06:30:03 PM Exec line: pmemd.cuda -O -p solvate.prmtop -ref solvate.rst7 -c minimize.rst7 -i equil.0.in -o equil.0.out -r equil.0.rst7 -x equil.0.nc -inf equil.0.mdinfo -e equil.0.mden\n"
     ]
    },
    {
     "name": "stdout",
     "output_type": "stream",
     "text": [
      "`equil.rst7` not found and i < 10...\n"
     ]
    },
    {
     "name": "stderr",
     "output_type": "stream",
     "text": [
      "2018-04-24 06:33:58 PM MD completed ...\n",
      "2018-04-24 06:33:58 PM Writing prod.001.in\n",
      "2018-04-24 06:33:58 PM Running MD at ./OA-G3-0/AMBER/APR/windows/a010\n",
      "2018-04-24 06:33:58 PM Exec line: pmemd.cuda -O -p solvate.prmtop -ref solvate.rst7 -c equil.rst7 -i prod.001.in -o prod.001.out -r prod.001.rst7 -x prod.001.nc -inf prod.001.mdinfo -e prod.001.mden\n",
      "2018-04-24 06:36:39 PM MD completed ...\n",
      "2018-04-24 06:36:39 PM Writing minimize.in\n",
      "2018-04-24 06:36:39 PM Running Minimization at ./OA-G3-0/AMBER/APR/windows/a011\n",
      "2018-04-24 06:36:39 PM Exec line: pmemd.cuda -O -p solvate.prmtop -ref solvate.rst7 -c solvate.rst7 -i minimize.in -o minimize.out -r minimize.rst7 -inf minimize.mdinfo\n"
     ]
    },
    {
     "name": "stdout",
     "output_type": "stream",
     "text": [
      "Re-running minimization...\n"
     ]
    },
    {
     "name": "stderr",
     "output_type": "stream",
     "text": [
      "2018-04-24 06:36:40 PM Minimization completed...\n",
      "2018-04-24 06:36:40 PM Writing equil.0.in\n",
      "2018-04-24 06:36:40 PM Running MD at ./OA-G3-0/AMBER/APR/windows/a011\n",
      "2018-04-24 06:36:40 PM Exec line: pmemd.cuda -O -p solvate.prmtop -ref solvate.rst7 -c minimize.rst7 -i equil.0.in -o equil.0.out -r equil.0.rst7 -x equil.0.nc -inf equil.0.mdinfo -e equil.0.mden\n"
     ]
    },
    {
     "name": "stdout",
     "output_type": "stream",
     "text": [
      "`equil.rst7` not found and i < 10...\n"
     ]
    },
    {
     "name": "stderr",
     "output_type": "stream",
     "text": [
      "2018-04-24 06:40:35 PM MD completed ...\n",
      "2018-04-24 06:40:35 PM Writing prod.001.in\n",
      "2018-04-24 06:40:35 PM Running MD at ./OA-G3-0/AMBER/APR/windows/a011\n",
      "2018-04-24 06:40:35 PM Exec line: pmemd.cuda -O -p solvate.prmtop -ref solvate.rst7 -c equil.rst7 -i prod.001.in -o prod.001.out -r prod.001.rst7 -x prod.001.nc -inf prod.001.mdinfo -e prod.001.mden\n",
      "2018-04-24 06:43:15 PM MD completed ...\n",
      "2018-04-24 06:43:15 PM Writing minimize.in\n",
      "2018-04-24 06:43:15 PM Running Minimization at ./OA-G3-0/AMBER/APR/windows/a012\n",
      "2018-04-24 06:43:15 PM Exec line: pmemd.cuda -O -p solvate.prmtop -ref solvate.rst7 -c solvate.rst7 -i minimize.in -o minimize.out -r minimize.rst7 -inf minimize.mdinfo\n"
     ]
    },
    {
     "name": "stdout",
     "output_type": "stream",
     "text": [
      "Re-running minimization...\n"
     ]
    },
    {
     "name": "stderr",
     "output_type": "stream",
     "text": [
      "2018-04-24 06:43:16 PM Minimization completed...\n",
      "2018-04-24 06:43:16 PM Writing equil.0.in\n",
      "2018-04-24 06:43:16 PM Running MD at ./OA-G3-0/AMBER/APR/windows/a012\n",
      "2018-04-24 06:43:16 PM Exec line: pmemd.cuda -O -p solvate.prmtop -ref solvate.rst7 -c minimize.rst7 -i equil.0.in -o equil.0.out -r equil.0.rst7 -x equil.0.nc -inf equil.0.mdinfo -e equil.0.mden\n"
     ]
    },
    {
     "name": "stdout",
     "output_type": "stream",
     "text": [
      "`equil.rst7` not found and i < 10...\n"
     ]
    },
    {
     "name": "stderr",
     "output_type": "stream",
     "text": [
      "2018-04-24 06:47:07 PM MD completed ...\n",
      "2018-04-24 06:47:07 PM Writing prod.001.in\n",
      "2018-04-24 06:47:07 PM Running MD at ./OA-G3-0/AMBER/APR/windows/a012\n",
      "2018-04-24 06:47:07 PM Exec line: pmemd.cuda -O -p solvate.prmtop -ref solvate.rst7 -c equil.rst7 -i prod.001.in -o prod.001.out -r prod.001.rst7 -x prod.001.nc -inf prod.001.mdinfo -e prod.001.mden\n",
      "2018-04-24 06:49:50 PM MD completed ...\n",
      "2018-04-24 06:49:50 PM Writing minimize.in\n",
      "2018-04-24 06:49:50 PM Running Minimization at ./OA-G3-0/AMBER/APR/windows/a013\n",
      "2018-04-24 06:49:50 PM Exec line: pmemd.cuda -O -p solvate.prmtop -ref solvate.rst7 -c solvate.rst7 -i minimize.in -o minimize.out -r minimize.rst7 -inf minimize.mdinfo\n"
     ]
    },
    {
     "name": "stdout",
     "output_type": "stream",
     "text": [
      "Re-running minimization...\n"
     ]
    },
    {
     "name": "stderr",
     "output_type": "stream",
     "text": [
      "2018-04-24 06:49:52 PM Minimization completed...\n",
      "2018-04-24 06:49:52 PM Writing equil.0.in\n",
      "2018-04-24 06:49:52 PM Running MD at ./OA-G3-0/AMBER/APR/windows/a013\n",
      "2018-04-24 06:49:52 PM Exec line: pmemd.cuda -O -p solvate.prmtop -ref solvate.rst7 -c minimize.rst7 -i equil.0.in -o equil.0.out -r equil.0.rst7 -x equil.0.nc -inf equil.0.mdinfo -e equil.0.mden\n"
     ]
    },
    {
     "name": "stdout",
     "output_type": "stream",
     "text": [
      "`equil.rst7` not found and i < 10...\n"
     ]
    },
    {
     "name": "stderr",
     "output_type": "stream",
     "text": [
      "2018-04-24 06:53:46 PM MD completed ...\n",
      "2018-04-24 06:53:46 PM Writing prod.001.in\n",
      "2018-04-24 06:53:46 PM Running MD at ./OA-G3-0/AMBER/APR/windows/a013\n",
      "2018-04-24 06:53:46 PM Exec line: pmemd.cuda -O -p solvate.prmtop -ref solvate.rst7 -c equil.rst7 -i prod.001.in -o prod.001.out -r prod.001.rst7 -x prod.001.nc -inf prod.001.mdinfo -e prod.001.mden\n",
      "2018-04-24 06:56:28 PM MD completed ...\n",
      "2018-04-24 06:56:28 PM Writing minimize.in\n",
      "2018-04-24 06:56:28 PM Running Minimization at ./OA-G3-0/AMBER/APR/windows/p000\n",
      "2018-04-24 06:56:28 PM Exec line: pmemd.cuda -O -p solvate.prmtop -ref solvate.rst7 -c solvate.rst7 -i minimize.in -o minimize.out -r minimize.rst7 -inf minimize.mdinfo\n"
     ]
    },
    {
     "name": "stdout",
     "output_type": "stream",
     "text": [
      "Re-running minimization...\n"
     ]
    },
    {
     "name": "stderr",
     "output_type": "stream",
     "text": [
      "2018-04-24 06:56:30 PM Minimization completed...\n",
      "2018-04-24 06:56:30 PM Writing equil.0.in\n",
      "2018-04-24 06:56:30 PM Running MD at ./OA-G3-0/AMBER/APR/windows/p000\n",
      "2018-04-24 06:56:30 PM Exec line: pmemd.cuda -O -p solvate.prmtop -ref solvate.rst7 -c minimize.rst7 -i equil.0.in -o equil.0.out -r equil.0.rst7 -x equil.0.nc -inf equil.0.mdinfo -e equil.0.mden\n"
     ]
    },
    {
     "name": "stdout",
     "output_type": "stream",
     "text": [
      "`equil.rst7` not found and i < 10...\n"
     ]
    },
    {
     "name": "stderr",
     "output_type": "stream",
     "text": [
      "2018-04-24 07:00:22 PM MD completed ...\n",
      "2018-04-24 07:00:22 PM Writing prod.001.in\n",
      "2018-04-24 07:00:22 PM Running MD at ./OA-G3-0/AMBER/APR/windows/p000\n",
      "2018-04-24 07:00:22 PM Exec line: pmemd.cuda -O -p solvate.prmtop -ref solvate.rst7 -c equil.rst7 -i prod.001.in -o prod.001.out -r prod.001.rst7 -x prod.001.nc -inf prod.001.mdinfo -e prod.001.mden\n",
      "2018-04-24 07:03:03 PM MD completed ...\n",
      "2018-04-24 07:03:03 PM Writing minimize.in\n",
      "2018-04-24 07:03:03 PM Running Minimization at ./OA-G3-0/AMBER/APR/windows/p001\n",
      "2018-04-24 07:03:03 PM Exec line: pmemd.cuda -O -p solvate.prmtop -ref solvate.rst7 -c solvate.rst7 -i minimize.in -o minimize.out -r minimize.rst7 -inf minimize.mdinfo\n"
     ]
    },
    {
     "name": "stdout",
     "output_type": "stream",
     "text": [
      "Re-running minimization...\n"
     ]
    },
    {
     "name": "stderr",
     "output_type": "stream",
     "text": [
      "2018-04-24 07:03:05 PM Minimization completed...\n",
      "2018-04-24 07:03:05 PM Writing equil.0.in\n",
      "2018-04-24 07:03:05 PM Running MD at ./OA-G3-0/AMBER/APR/windows/p001\n",
      "2018-04-24 07:03:05 PM Exec line: pmemd.cuda -O -p solvate.prmtop -ref solvate.rst7 -c minimize.rst7 -i equil.0.in -o equil.0.out -r equil.0.rst7 -x equil.0.nc -inf equil.0.mdinfo -e equil.0.mden\n"
     ]
    },
    {
     "name": "stdout",
     "output_type": "stream",
     "text": [
      "`equil.rst7` not found and i < 10...\n"
     ]
    },
    {
     "name": "stderr",
     "output_type": "stream",
     "text": [
      "2018-04-24 07:06:55 PM MD completed ...\n",
      "2018-04-24 07:06:55 PM Writing prod.001.in\n",
      "2018-04-24 07:06:55 PM Running MD at ./OA-G3-0/AMBER/APR/windows/p001\n",
      "2018-04-24 07:06:55 PM Exec line: pmemd.cuda -O -p solvate.prmtop -ref solvate.rst7 -c equil.rst7 -i prod.001.in -o prod.001.out -r prod.001.rst7 -x prod.001.nc -inf prod.001.mdinfo -e prod.001.mden\n",
      "2018-04-24 07:09:34 PM MD completed ...\n",
      "2018-04-24 07:09:34 PM Writing minimize.in\n",
      "2018-04-24 07:09:34 PM Running Minimization at ./OA-G3-0/AMBER/APR/windows/p002\n",
      "2018-04-24 07:09:34 PM Exec line: pmemd.cuda -O -p solvate.prmtop -ref solvate.rst7 -c solvate.rst7 -i minimize.in -o minimize.out -r minimize.rst7 -inf minimize.mdinfo\n"
     ]
    },
    {
     "name": "stdout",
     "output_type": "stream",
     "text": [
      "Re-running minimization...\n"
     ]
    },
    {
     "name": "stderr",
     "output_type": "stream",
     "text": [
      "2018-04-24 07:09:36 PM Minimization completed...\n",
      "2018-04-24 07:09:36 PM Writing equil.0.in\n",
      "2018-04-24 07:09:36 PM Running MD at ./OA-G3-0/AMBER/APR/windows/p002\n",
      "2018-04-24 07:09:36 PM Exec line: pmemd.cuda -O -p solvate.prmtop -ref solvate.rst7 -c minimize.rst7 -i equil.0.in -o equil.0.out -r equil.0.rst7 -x equil.0.nc -inf equil.0.mdinfo -e equil.0.mden\n"
     ]
    },
    {
     "name": "stdout",
     "output_type": "stream",
     "text": [
      "`equil.rst7` not found and i < 10...\n"
     ]
    },
    {
     "name": "stderr",
     "output_type": "stream",
     "text": [
      "2018-04-24 07:13:26 PM MD completed ...\n",
      "2018-04-24 07:13:26 PM Writing prod.001.in\n",
      "2018-04-24 07:13:26 PM Running MD at ./OA-G3-0/AMBER/APR/windows/p002\n",
      "2018-04-24 07:13:26 PM Exec line: pmemd.cuda -O -p solvate.prmtop -ref solvate.rst7 -c equil.rst7 -i prod.001.in -o prod.001.out -r prod.001.rst7 -x prod.001.nc -inf prod.001.mdinfo -e prod.001.mden\n",
      "2018-04-24 07:16:06 PM MD completed ...\n",
      "2018-04-24 07:16:06 PM Writing minimize.in\n",
      "2018-04-24 07:16:06 PM Running Minimization at ./OA-G3-0/AMBER/APR/windows/p003\n",
      "2018-04-24 07:16:06 PM Exec line: pmemd.cuda -O -p solvate.prmtop -ref solvate.rst7 -c solvate.rst7 -i minimize.in -o minimize.out -r minimize.rst7 -inf minimize.mdinfo\n"
     ]
    },
    {
     "name": "stdout",
     "output_type": "stream",
     "text": [
      "Re-running minimization...\n"
     ]
    },
    {
     "name": "stderr",
     "output_type": "stream",
     "text": [
      "2018-04-24 07:16:07 PM Minimization completed...\n",
      "2018-04-24 07:16:07 PM Writing equil.0.in\n",
      "2018-04-24 07:16:07 PM Running MD at ./OA-G3-0/AMBER/APR/windows/p003\n",
      "2018-04-24 07:16:07 PM Exec line: pmemd.cuda -O -p solvate.prmtop -ref solvate.rst7 -c minimize.rst7 -i equil.0.in -o equil.0.out -r equil.0.rst7 -x equil.0.nc -inf equil.0.mdinfo -e equil.0.mden\n"
     ]
    },
    {
     "name": "stdout",
     "output_type": "stream",
     "text": [
      "`equil.rst7` not found and i < 10...\n"
     ]
    },
    {
     "name": "stderr",
     "output_type": "stream",
     "text": [
      "2018-04-24 07:19:58 PM MD completed ...\n",
      "2018-04-24 07:19:58 PM Writing prod.001.in\n",
      "2018-04-24 07:19:58 PM Running MD at ./OA-G3-0/AMBER/APR/windows/p003\n",
      "2018-04-24 07:19:58 PM Exec line: pmemd.cuda -O -p solvate.prmtop -ref solvate.rst7 -c equil.rst7 -i prod.001.in -o prod.001.out -r prod.001.rst7 -x prod.001.nc -inf prod.001.mdinfo -e prod.001.mden\n",
      "2018-04-24 07:22:37 PM MD completed ...\n",
      "2018-04-24 07:22:37 PM Writing minimize.in\n",
      "2018-04-24 07:22:37 PM Running Minimization at ./OA-G3-0/AMBER/APR/windows/p004\n",
      "2018-04-24 07:22:37 PM Exec line: pmemd.cuda -O -p solvate.prmtop -ref solvate.rst7 -c solvate.rst7 -i minimize.in -o minimize.out -r minimize.rst7 -inf minimize.mdinfo\n"
     ]
    },
    {
     "name": "stdout",
     "output_type": "stream",
     "text": [
      "Re-running minimization...\n"
     ]
    },
    {
     "name": "stderr",
     "output_type": "stream",
     "text": [
      "2018-04-24 07:22:39 PM Minimization completed...\n",
      "2018-04-24 07:22:39 PM Writing equil.0.in\n",
      "2018-04-24 07:22:39 PM Running MD at ./OA-G3-0/AMBER/APR/windows/p004\n",
      "2018-04-24 07:22:39 PM Exec line: pmemd.cuda -O -p solvate.prmtop -ref solvate.rst7 -c minimize.rst7 -i equil.0.in -o equil.0.out -r equil.0.rst7 -x equil.0.nc -inf equil.0.mdinfo -e equil.0.mden\n"
     ]
    },
    {
     "name": "stdout",
     "output_type": "stream",
     "text": [
      "`equil.rst7` not found and i < 10...\n"
     ]
    },
    {
     "name": "stderr",
     "output_type": "stream",
     "text": [
      "2018-04-24 07:26:29 PM MD completed ...\n",
      "2018-04-24 07:26:29 PM Writing prod.001.in\n",
      "2018-04-24 07:26:29 PM Running MD at ./OA-G3-0/AMBER/APR/windows/p004\n",
      "2018-04-24 07:26:29 PM Exec line: pmemd.cuda -O -p solvate.prmtop -ref solvate.rst7 -c equil.rst7 -i prod.001.in -o prod.001.out -r prod.001.rst7 -x prod.001.nc -inf prod.001.mdinfo -e prod.001.mden\n",
      "2018-04-24 07:29:11 PM MD completed ...\n",
      "2018-04-24 07:29:11 PM Writing minimize.in\n",
      "2018-04-24 07:29:11 PM Running Minimization at ./OA-G3-0/AMBER/APR/windows/p005\n",
      "2018-04-24 07:29:11 PM Exec line: pmemd.cuda -O -p solvate.prmtop -ref solvate.rst7 -c solvate.rst7 -i minimize.in -o minimize.out -r minimize.rst7 -inf minimize.mdinfo\n"
     ]
    },
    {
     "name": "stdout",
     "output_type": "stream",
     "text": [
      "Re-running minimization...\n"
     ]
    },
    {
     "name": "stderr",
     "output_type": "stream",
     "text": [
      "2018-04-24 07:29:13 PM Minimization completed...\n",
      "2018-04-24 07:29:13 PM Writing equil.0.in\n",
      "2018-04-24 07:29:13 PM Running MD at ./OA-G3-0/AMBER/APR/windows/p005\n",
      "2018-04-24 07:29:13 PM Exec line: pmemd.cuda -O -p solvate.prmtop -ref solvate.rst7 -c minimize.rst7 -i equil.0.in -o equil.0.out -r equil.0.rst7 -x equil.0.nc -inf equil.0.mdinfo -e equil.0.mden\n"
     ]
    },
    {
     "name": "stdout",
     "output_type": "stream",
     "text": [
      "`equil.rst7` not found and i < 10...\n"
     ]
    },
    {
     "name": "stderr",
     "output_type": "stream",
     "text": [
      "2018-04-24 07:33:05 PM MD completed ...\n",
      "2018-04-24 07:33:05 PM Writing prod.001.in\n",
      "2018-04-24 07:33:05 PM Running MD at ./OA-G3-0/AMBER/APR/windows/p005\n",
      "2018-04-24 07:33:05 PM Exec line: pmemd.cuda -O -p solvate.prmtop -ref solvate.rst7 -c equil.rst7 -i prod.001.in -o prod.001.out -r prod.001.rst7 -x prod.001.nc -inf prod.001.mdinfo -e prod.001.mden\n",
      "2018-04-24 07:35:44 PM MD completed ...\n",
      "2018-04-24 07:35:44 PM Writing minimize.in\n",
      "2018-04-24 07:35:44 PM Running Minimization at ./OA-G3-0/AMBER/APR/windows/p006\n",
      "2018-04-24 07:35:44 PM Exec line: pmemd.cuda -O -p solvate.prmtop -ref solvate.rst7 -c solvate.rst7 -i minimize.in -o minimize.out -r minimize.rst7 -inf minimize.mdinfo\n"
     ]
    },
    {
     "name": "stdout",
     "output_type": "stream",
     "text": [
      "Re-running minimization...\n"
     ]
    },
    {
     "name": "stderr",
     "output_type": "stream",
     "text": [
      "2018-04-24 07:35:45 PM Minimization completed...\n",
      "2018-04-24 07:35:45 PM Writing equil.0.in\n",
      "2018-04-24 07:35:45 PM Running MD at ./OA-G3-0/AMBER/APR/windows/p006\n",
      "2018-04-24 07:35:45 PM Exec line: pmemd.cuda -O -p solvate.prmtop -ref solvate.rst7 -c minimize.rst7 -i equil.0.in -o equil.0.out -r equil.0.rst7 -x equil.0.nc -inf equil.0.mdinfo -e equil.0.mden\n"
     ]
    },
    {
     "name": "stdout",
     "output_type": "stream",
     "text": [
      "`equil.rst7` not found and i < 10...\n"
     ]
    },
    {
     "name": "stderr",
     "output_type": "stream",
     "text": [
      "2018-04-24 07:39:34 PM MD completed ...\n",
      "2018-04-24 07:39:34 PM Writing prod.001.in\n",
      "2018-04-24 07:39:34 PM Running MD at ./OA-G3-0/AMBER/APR/windows/p006\n",
      "2018-04-24 07:39:34 PM Exec line: pmemd.cuda -O -p solvate.prmtop -ref solvate.rst7 -c equil.rst7 -i prod.001.in -o prod.001.out -r prod.001.rst7 -x prod.001.nc -inf prod.001.mdinfo -e prod.001.mden\n",
      "2018-04-24 07:42:13 PM MD completed ...\n",
      "2018-04-24 07:42:13 PM Writing minimize.in\n",
      "2018-04-24 07:42:13 PM Running Minimization at ./OA-G3-0/AMBER/APR/windows/p007\n",
      "2018-04-24 07:42:13 PM Exec line: pmemd.cuda -O -p solvate.prmtop -ref solvate.rst7 -c solvate.rst7 -i minimize.in -o minimize.out -r minimize.rst7 -inf minimize.mdinfo\n"
     ]
    },
    {
     "name": "stdout",
     "output_type": "stream",
     "text": [
      "Re-running minimization...\n"
     ]
    },
    {
     "name": "stderr",
     "output_type": "stream",
     "text": [
      "2018-04-24 07:42:15 PM Minimization completed...\n",
      "2018-04-24 07:42:15 PM Writing equil.0.in\n",
      "2018-04-24 07:42:15 PM Running MD at ./OA-G3-0/AMBER/APR/windows/p007\n",
      "2018-04-24 07:42:15 PM Exec line: pmemd.cuda -O -p solvate.prmtop -ref solvate.rst7 -c minimize.rst7 -i equil.0.in -o equil.0.out -r equil.0.rst7 -x equil.0.nc -inf equil.0.mdinfo -e equil.0.mden\n"
     ]
    },
    {
     "name": "stdout",
     "output_type": "stream",
     "text": [
      "`equil.rst7` not found and i < 10...\n"
     ]
    },
    {
     "name": "stderr",
     "output_type": "stream",
     "text": [
      "2018-04-24 07:46:05 PM MD completed ...\n",
      "2018-04-24 07:46:05 PM Writing prod.001.in\n",
      "2018-04-24 07:46:05 PM Running MD at ./OA-G3-0/AMBER/APR/windows/p007\n",
      "2018-04-24 07:46:05 PM Exec line: pmemd.cuda -O -p solvate.prmtop -ref solvate.rst7 -c equil.rst7 -i prod.001.in -o prod.001.out -r prod.001.rst7 -x prod.001.nc -inf prod.001.mdinfo -e prod.001.mden\n",
      "2018-04-24 07:48:46 PM MD completed ...\n",
      "2018-04-24 07:48:46 PM Writing minimize.in\n",
      "2018-04-24 07:48:46 PM Running Minimization at ./OA-G3-0/AMBER/APR/windows/p008\n",
      "2018-04-24 07:48:46 PM Exec line: pmemd.cuda -O -p solvate.prmtop -ref solvate.rst7 -c solvate.rst7 -i minimize.in -o minimize.out -r minimize.rst7 -inf minimize.mdinfo\n"
     ]
    },
    {
     "name": "stdout",
     "output_type": "stream",
     "text": [
      "Re-running minimization...\n"
     ]
    },
    {
     "name": "stderr",
     "output_type": "stream",
     "text": [
      "2018-04-24 07:48:48 PM Minimization completed...\n",
      "2018-04-24 07:48:48 PM Writing equil.0.in\n",
      "2018-04-24 07:48:48 PM Running MD at ./OA-G3-0/AMBER/APR/windows/p008\n",
      "2018-04-24 07:48:48 PM Exec line: pmemd.cuda -O -p solvate.prmtop -ref solvate.rst7 -c minimize.rst7 -i equil.0.in -o equil.0.out -r equil.0.rst7 -x equil.0.nc -inf equil.0.mdinfo -e equil.0.mden\n"
     ]
    },
    {
     "name": "stdout",
     "output_type": "stream",
     "text": [
      "`equil.rst7` not found and i < 10...\n"
     ]
    },
    {
     "name": "stderr",
     "output_type": "stream",
     "text": [
      "2018-04-24 07:52:40 PM MD completed ...\n",
      "2018-04-24 07:52:40 PM Writing prod.001.in\n",
      "2018-04-24 07:52:40 PM Running MD at ./OA-G3-0/AMBER/APR/windows/p008\n",
      "2018-04-24 07:52:40 PM Exec line: pmemd.cuda -O -p solvate.prmtop -ref solvate.rst7 -c equil.rst7 -i prod.001.in -o prod.001.out -r prod.001.rst7 -x prod.001.nc -inf prod.001.mdinfo -e prod.001.mden\n",
      "2018-04-24 07:55:17 PM MD completed ...\n",
      "2018-04-24 07:55:17 PM Writing minimize.in\n",
      "2018-04-24 07:55:17 PM Running Minimization at ./OA-G3-0/AMBER/APR/windows/p009\n",
      "2018-04-24 07:55:17 PM Exec line: pmemd.cuda -O -p solvate.prmtop -ref solvate.rst7 -c solvate.rst7 -i minimize.in -o minimize.out -r minimize.rst7 -inf minimize.mdinfo\n"
     ]
    },
    {
     "name": "stdout",
     "output_type": "stream",
     "text": [
      "Re-running minimization...\n"
     ]
    },
    {
     "name": "stderr",
     "output_type": "stream",
     "text": [
      "2018-04-24 07:55:19 PM Minimization completed...\n",
      "2018-04-24 07:55:19 PM Writing equil.0.in\n",
      "2018-04-24 07:55:19 PM Running MD at ./OA-G3-0/AMBER/APR/windows/p009\n",
      "2018-04-24 07:55:19 PM Exec line: pmemd.cuda -O -p solvate.prmtop -ref solvate.rst7 -c minimize.rst7 -i equil.0.in -o equil.0.out -r equil.0.rst7 -x equil.0.nc -inf equil.0.mdinfo -e equil.0.mden\n"
     ]
    },
    {
     "name": "stdout",
     "output_type": "stream",
     "text": [
      "`equil.rst7` not found and i < 10...\n"
     ]
    },
    {
     "name": "stderr",
     "output_type": "stream",
     "text": [
      "2018-04-24 07:59:08 PM MD completed ...\n",
      "2018-04-24 07:59:08 PM Writing prod.001.in\n",
      "2018-04-24 07:59:08 PM Running MD at ./OA-G3-0/AMBER/APR/windows/p009\n",
      "2018-04-24 07:59:08 PM Exec line: pmemd.cuda -O -p solvate.prmtop -ref solvate.rst7 -c equil.rst7 -i prod.001.in -o prod.001.out -r prod.001.rst7 -x prod.001.nc -inf prod.001.mdinfo -e prod.001.mden\n",
      "2018-04-24 08:01:48 PM MD completed ...\n",
      "2018-04-24 08:01:48 PM Writing minimize.in\n",
      "2018-04-24 08:01:48 PM Running Minimization at ./OA-G3-0/AMBER/APR/windows/p010\n",
      "2018-04-24 08:01:48 PM Exec line: pmemd.cuda -O -p solvate.prmtop -ref solvate.rst7 -c solvate.rst7 -i minimize.in -o minimize.out -r minimize.rst7 -inf minimize.mdinfo\n"
     ]
    },
    {
     "name": "stdout",
     "output_type": "stream",
     "text": [
      "Re-running minimization...\n"
     ]
    },
    {
     "name": "stderr",
     "output_type": "stream",
     "text": [
      "2018-04-24 08:01:50 PM Minimization completed...\n",
      "2018-04-24 08:01:50 PM Writing equil.0.in\n",
      "2018-04-24 08:01:50 PM Running MD at ./OA-G3-0/AMBER/APR/windows/p010\n",
      "2018-04-24 08:01:50 PM Exec line: pmemd.cuda -O -p solvate.prmtop -ref solvate.rst7 -c minimize.rst7 -i equil.0.in -o equil.0.out -r equil.0.rst7 -x equil.0.nc -inf equil.0.mdinfo -e equil.0.mden\n"
     ]
    },
    {
     "name": "stdout",
     "output_type": "stream",
     "text": [
      "`equil.rst7` not found and i < 10...\n"
     ]
    },
    {
     "name": "stderr",
     "output_type": "stream",
     "text": [
      "2018-04-24 08:05:40 PM MD completed ...\n",
      "2018-04-24 08:05:40 PM Writing prod.001.in\n",
      "2018-04-24 08:05:40 PM Running MD at ./OA-G3-0/AMBER/APR/windows/p010\n",
      "2018-04-24 08:05:40 PM Exec line: pmemd.cuda -O -p solvate.prmtop -ref solvate.rst7 -c equil.rst7 -i prod.001.in -o prod.001.out -r prod.001.rst7 -x prod.001.nc -inf prod.001.mdinfo -e prod.001.mden\n",
      "2018-04-24 08:08:21 PM MD completed ...\n",
      "2018-04-24 08:08:21 PM Writing minimize.in\n",
      "2018-04-24 08:08:21 PM Running Minimization at ./OA-G3-0/AMBER/APR/windows/p011\n",
      "2018-04-24 08:08:21 PM Exec line: pmemd.cuda -O -p solvate.prmtop -ref solvate.rst7 -c solvate.rst7 -i minimize.in -o minimize.out -r minimize.rst7 -inf minimize.mdinfo\n"
     ]
    },
    {
     "name": "stdout",
     "output_type": "stream",
     "text": [
      "Re-running minimization...\n"
     ]
    },
    {
     "name": "stderr",
     "output_type": "stream",
     "text": [
      "2018-04-24 08:08:22 PM Minimization completed...\n",
      "2018-04-24 08:08:22 PM Writing equil.0.in\n",
      "2018-04-24 08:08:22 PM Running MD at ./OA-G3-0/AMBER/APR/windows/p011\n",
      "2018-04-24 08:08:22 PM Exec line: pmemd.cuda -O -p solvate.prmtop -ref solvate.rst7 -c minimize.rst7 -i equil.0.in -o equil.0.out -r equil.0.rst7 -x equil.0.nc -inf equil.0.mdinfo -e equil.0.mden\n"
     ]
    },
    {
     "name": "stdout",
     "output_type": "stream",
     "text": [
      "`equil.rst7` not found and i < 10...\n"
     ]
    },
    {
     "name": "stderr",
     "output_type": "stream",
     "text": [
      "2018-04-24 08:12:11 PM MD completed ...\n",
      "2018-04-24 08:12:11 PM Writing prod.001.in\n",
      "2018-04-24 08:12:11 PM Running MD at ./OA-G3-0/AMBER/APR/windows/p011\n",
      "2018-04-24 08:12:11 PM Exec line: pmemd.cuda -O -p solvate.prmtop -ref solvate.rst7 -c equil.rst7 -i prod.001.in -o prod.001.out -r prod.001.rst7 -x prod.001.nc -inf prod.001.mdinfo -e prod.001.mden\n",
      "2018-04-24 08:14:53 PM MD completed ...\n",
      "2018-04-24 08:14:53 PM Writing minimize.in\n",
      "2018-04-24 08:14:53 PM Running Minimization at ./OA-G3-0/AMBER/APR/windows/p012\n",
      "2018-04-24 08:14:53 PM Exec line: pmemd.cuda -O -p solvate.prmtop -ref solvate.rst7 -c solvate.rst7 -i minimize.in -o minimize.out -r minimize.rst7 -inf minimize.mdinfo\n"
     ]
    },
    {
     "name": "stdout",
     "output_type": "stream",
     "text": [
      "Re-running minimization...\n"
     ]
    },
    {
     "name": "stderr",
     "output_type": "stream",
     "text": [
      "2018-04-24 08:14:55 PM Minimization completed...\n",
      "2018-04-24 08:14:55 PM Writing equil.0.in\n",
      "2018-04-24 08:14:55 PM Running MD at ./OA-G3-0/AMBER/APR/windows/p012\n",
      "2018-04-24 08:14:55 PM Exec line: pmemd.cuda -O -p solvate.prmtop -ref solvate.rst7 -c minimize.rst7 -i equil.0.in -o equil.0.out -r equil.0.rst7 -x equil.0.nc -inf equil.0.mdinfo -e equil.0.mden\n"
     ]
    },
    {
     "name": "stdout",
     "output_type": "stream",
     "text": [
      "`equil.rst7` not found and i < 10...\n"
     ]
    },
    {
     "name": "stderr",
     "output_type": "stream",
     "text": [
      "2018-04-24 08:18:46 PM MD completed ...\n",
      "2018-04-24 08:18:46 PM Writing prod.001.in\n",
      "2018-04-24 08:18:46 PM Running MD at ./OA-G3-0/AMBER/APR/windows/p012\n",
      "2018-04-24 08:18:46 PM Exec line: pmemd.cuda -O -p solvate.prmtop -ref solvate.rst7 -c equil.rst7 -i prod.001.in -o prod.001.out -r prod.001.rst7 -x prod.001.nc -inf prod.001.mdinfo -e prod.001.mden\n",
      "2018-04-24 08:21:25 PM MD completed ...\n",
      "2018-04-24 08:21:25 PM Writing minimize.in\n",
      "2018-04-24 08:21:25 PM Running Minimization at ./OA-G3-0/AMBER/APR/windows/p013\n",
      "2018-04-24 08:21:25 PM Exec line: pmemd.cuda -O -p solvate.prmtop -ref solvate.rst7 -c solvate.rst7 -i minimize.in -o minimize.out -r minimize.rst7 -inf minimize.mdinfo\n"
     ]
    },
    {
     "name": "stdout",
     "output_type": "stream",
     "text": [
      "Re-running minimization...\n"
     ]
    },
    {
     "name": "stderr",
     "output_type": "stream",
     "text": [
      "2018-04-24 08:21:27 PM Minimization completed...\n",
      "2018-04-24 08:21:27 PM Writing equil.0.in\n",
      "2018-04-24 08:21:27 PM Running MD at ./OA-G3-0/AMBER/APR/windows/p013\n",
      "2018-04-24 08:21:27 PM Exec line: pmemd.cuda -O -p solvate.prmtop -ref solvate.rst7 -c minimize.rst7 -i equil.0.in -o equil.0.out -r equil.0.rst7 -x equil.0.nc -inf equil.0.mdinfo -e equil.0.mden\n"
     ]
    },
    {
     "name": "stdout",
     "output_type": "stream",
     "text": [
      "`equil.rst7` not found and i < 10...\n"
     ]
    },
    {
     "name": "stderr",
     "output_type": "stream",
     "text": [
      "2018-04-24 08:25:20 PM MD completed ...\n",
      "2018-04-24 08:25:20 PM Writing prod.001.in\n",
      "2018-04-24 08:25:20 PM Running MD at ./OA-G3-0/AMBER/APR/windows/p013\n",
      "2018-04-24 08:25:20 PM Exec line: pmemd.cuda -O -p solvate.prmtop -ref solvate.rst7 -c equil.rst7 -i prod.001.in -o prod.001.out -r prod.001.rst7 -x prod.001.nc -inf prod.001.mdinfo -e prod.001.mden\n",
      "2018-04-24 08:27:59 PM MD completed ...\n",
      "2018-04-24 08:27:59 PM Writing minimize.in\n",
      "2018-04-24 08:27:59 PM Running Minimization at ./OA-G3-0/AMBER/APR/windows/p014\n",
      "2018-04-24 08:27:59 PM Exec line: pmemd.cuda -O -p solvate.prmtop -ref solvate.rst7 -c solvate.rst7 -i minimize.in -o minimize.out -r minimize.rst7 -inf minimize.mdinfo\n"
     ]
    },
    {
     "name": "stdout",
     "output_type": "stream",
     "text": [
      "Re-running minimization...\n"
     ]
    },
    {
     "name": "stderr",
     "output_type": "stream",
     "text": [
      "2018-04-24 08:28:01 PM Minimization completed...\n",
      "2018-04-24 08:28:01 PM Writing equil.0.in\n",
      "2018-04-24 08:28:01 PM Running MD at ./OA-G3-0/AMBER/APR/windows/p014\n",
      "2018-04-24 08:28:01 PM Exec line: pmemd.cuda -O -p solvate.prmtop -ref solvate.rst7 -c minimize.rst7 -i equil.0.in -o equil.0.out -r equil.0.rst7 -x equil.0.nc -inf equil.0.mdinfo -e equil.0.mden\n"
     ]
    },
    {
     "name": "stdout",
     "output_type": "stream",
     "text": [
      "`equil.rst7` not found and i < 10...\n"
     ]
    },
    {
     "name": "stderr",
     "output_type": "stream",
     "text": [
      "2018-04-24 08:31:49 PM MD completed ...\n",
      "2018-04-24 08:31:49 PM Writing prod.001.in\n",
      "2018-04-24 08:31:49 PM Running MD at ./OA-G3-0/AMBER/APR/windows/p014\n",
      "2018-04-24 08:31:49 PM Exec line: pmemd.cuda -O -p solvate.prmtop -ref solvate.rst7 -c equil.rst7 -i prod.001.in -o prod.001.out -r prod.001.rst7 -x prod.001.nc -inf prod.001.mdinfo -e prod.001.mden\n",
      "2018-04-24 08:34:27 PM MD completed ...\n",
      "2018-04-24 08:34:27 PM Writing minimize.in\n",
      "2018-04-24 08:34:27 PM Running Minimization at ./OA-G3-0/AMBER/APR/windows/p015\n",
      "2018-04-24 08:34:27 PM Exec line: pmemd.cuda -O -p solvate.prmtop -ref solvate.rst7 -c solvate.rst7 -i minimize.in -o minimize.out -r minimize.rst7 -inf minimize.mdinfo\n"
     ]
    },
    {
     "name": "stdout",
     "output_type": "stream",
     "text": [
      "Re-running minimization...\n"
     ]
    },
    {
     "name": "stderr",
     "output_type": "stream",
     "text": [
      "2018-04-24 08:34:29 PM Minimization completed...\n",
      "2018-04-24 08:34:29 PM Writing equil.0.in\n",
      "2018-04-24 08:34:29 PM Running MD at ./OA-G3-0/AMBER/APR/windows/p015\n",
      "2018-04-24 08:34:29 PM Exec line: pmemd.cuda -O -p solvate.prmtop -ref solvate.rst7 -c minimize.rst7 -i equil.0.in -o equil.0.out -r equil.0.rst7 -x equil.0.nc -inf equil.0.mdinfo -e equil.0.mden\n"
     ]
    },
    {
     "name": "stdout",
     "output_type": "stream",
     "text": [
      "`equil.rst7` not found and i < 10...\n"
     ]
    },
    {
     "name": "stderr",
     "output_type": "stream",
     "text": [
      "2018-04-24 08:38:16 PM MD completed ...\n",
      "2018-04-24 08:38:16 PM Writing prod.001.in\n",
      "2018-04-24 08:38:16 PM Running MD at ./OA-G3-0/AMBER/APR/windows/p015\n",
      "2018-04-24 08:38:16 PM Exec line: pmemd.cuda -O -p solvate.prmtop -ref solvate.rst7 -c equil.rst7 -i prod.001.in -o prod.001.out -r prod.001.rst7 -x prod.001.nc -inf prod.001.mdinfo -e prod.001.mden\n",
      "2018-04-24 08:40:56 PM MD completed ...\n",
      "2018-04-24 08:40:56 PM Writing minimize.in\n",
      "2018-04-24 08:40:56 PM Running Minimization at ./OA-G3-0/AMBER/APR/windows/p016\n",
      "2018-04-24 08:40:56 PM Exec line: pmemd.cuda -O -p solvate.prmtop -ref solvate.rst7 -c solvate.rst7 -i minimize.in -o minimize.out -r minimize.rst7 -inf minimize.mdinfo\n"
     ]
    },
    {
     "name": "stdout",
     "output_type": "stream",
     "text": [
      "Re-running minimization...\n"
     ]
    },
    {
     "name": "stderr",
     "output_type": "stream",
     "text": [
      "2018-04-24 08:40:57 PM Minimization completed...\n",
      "2018-04-24 08:40:57 PM Writing equil.0.in\n",
      "2018-04-24 08:40:57 PM Running MD at ./OA-G3-0/AMBER/APR/windows/p016\n",
      "2018-04-24 08:40:57 PM Exec line: pmemd.cuda -O -p solvate.prmtop -ref solvate.rst7 -c minimize.rst7 -i equil.0.in -o equil.0.out -r equil.0.rst7 -x equil.0.nc -inf equil.0.mdinfo -e equil.0.mden\n"
     ]
    },
    {
     "name": "stdout",
     "output_type": "stream",
     "text": [
      "`equil.rst7` not found and i < 10...\n"
     ]
    },
    {
     "name": "stderr",
     "output_type": "stream",
     "text": [
      "2018-04-24 08:44:50 PM MD completed ...\n",
      "2018-04-24 08:44:50 PM Writing prod.001.in\n",
      "2018-04-24 08:44:50 PM Running MD at ./OA-G3-0/AMBER/APR/windows/p016\n",
      "2018-04-24 08:44:50 PM Exec line: pmemd.cuda -O -p solvate.prmtop -ref solvate.rst7 -c equil.rst7 -i prod.001.in -o prod.001.out -r prod.001.rst7 -x prod.001.nc -inf prod.001.mdinfo -e prod.001.mden\n",
      "2018-04-24 08:47:29 PM MD completed ...\n",
      "2018-04-24 08:47:29 PM Writing minimize.in\n",
      "2018-04-24 08:47:29 PM Running Minimization at ./OA-G3-0/AMBER/APR/windows/p017\n",
      "2018-04-24 08:47:29 PM Exec line: pmemd.cuda -O -p solvate.prmtop -ref solvate.rst7 -c solvate.rst7 -i minimize.in -o minimize.out -r minimize.rst7 -inf minimize.mdinfo\n"
     ]
    },
    {
     "name": "stdout",
     "output_type": "stream",
     "text": [
      "Re-running minimization...\n"
     ]
    },
    {
     "name": "stderr",
     "output_type": "stream",
     "text": [
      "2018-04-24 08:47:30 PM Minimization completed...\n",
      "2018-04-24 08:47:30 PM Writing equil.0.in\n",
      "2018-04-24 08:47:30 PM Running MD at ./OA-G3-0/AMBER/APR/windows/p017\n",
      "2018-04-24 08:47:30 PM Exec line: pmemd.cuda -O -p solvate.prmtop -ref solvate.rst7 -c minimize.rst7 -i equil.0.in -o equil.0.out -r equil.0.rst7 -x equil.0.nc -inf equil.0.mdinfo -e equil.0.mden\n"
     ]
    },
    {
     "name": "stdout",
     "output_type": "stream",
     "text": [
      "`equil.rst7` not found and i < 10...\n"
     ]
    },
    {
     "name": "stderr",
     "output_type": "stream",
     "text": [
      "2018-04-24 08:51:18 PM MD completed ...\n",
      "2018-04-24 08:51:18 PM Writing prod.001.in\n",
      "2018-04-24 08:51:18 PM Running MD at ./OA-G3-0/AMBER/APR/windows/p017\n",
      "2018-04-24 08:51:18 PM Exec line: pmemd.cuda -O -p solvate.prmtop -ref solvate.rst7 -c equil.rst7 -i prod.001.in -o prod.001.out -r prod.001.rst7 -x prod.001.nc -inf prod.001.mdinfo -e prod.001.mden\n",
      "2018-04-24 08:53:57 PM MD completed ...\n",
      "2018-04-24 08:53:57 PM Writing minimize.in\n",
      "2018-04-24 08:53:57 PM Running Minimization at ./OA-G3-0/AMBER/APR/windows/p018\n",
      "2018-04-24 08:53:57 PM Exec line: pmemd.cuda -O -p solvate.prmtop -ref solvate.rst7 -c solvate.rst7 -i minimize.in -o minimize.out -r minimize.rst7 -inf minimize.mdinfo\n"
     ]
    },
    {
     "name": "stdout",
     "output_type": "stream",
     "text": [
      "Re-running minimization...\n"
     ]
    },
    {
     "name": "stderr",
     "output_type": "stream",
     "text": [
      "2018-04-24 08:53:58 PM Minimization completed...\n",
      "2018-04-24 08:53:58 PM Writing equil.0.in\n",
      "2018-04-24 08:53:58 PM Running MD at ./OA-G3-0/AMBER/APR/windows/p018\n",
      "2018-04-24 08:53:58 PM Exec line: pmemd.cuda -O -p solvate.prmtop -ref solvate.rst7 -c minimize.rst7 -i equil.0.in -o equil.0.out -r equil.0.rst7 -x equil.0.nc -inf equil.0.mdinfo -e equil.0.mden\n"
     ]
    },
    {
     "name": "stdout",
     "output_type": "stream",
     "text": [
      "`equil.rst7` not found and i < 10...\n"
     ]
    },
    {
     "name": "stderr",
     "output_type": "stream",
     "text": [
      "2018-04-24 08:57:45 PM MD completed ...\n",
      "2018-04-24 08:57:45 PM Writing prod.001.in\n",
      "2018-04-24 08:57:45 PM Running MD at ./OA-G3-0/AMBER/APR/windows/p018\n",
      "2018-04-24 08:57:45 PM Exec line: pmemd.cuda -O -p solvate.prmtop -ref solvate.rst7 -c equil.rst7 -i prod.001.in -o prod.001.out -r prod.001.rst7 -x prod.001.nc -inf prod.001.mdinfo -e prod.001.mden\n",
      "2018-04-24 09:00:26 PM MD completed ...\n",
      "2018-04-24 09:00:26 PM Writing minimize.in\n",
      "2018-04-24 09:00:26 PM Running Minimization at ./OA-G3-0/AMBER/APR/windows/p019\n",
      "2018-04-24 09:00:26 PM Exec line: pmemd.cuda -O -p solvate.prmtop -ref solvate.rst7 -c solvate.rst7 -i minimize.in -o minimize.out -r minimize.rst7 -inf minimize.mdinfo\n"
     ]
    },
    {
     "name": "stdout",
     "output_type": "stream",
     "text": [
      "Re-running minimization...\n"
     ]
    },
    {
     "name": "stderr",
     "output_type": "stream",
     "text": [
      "2018-04-24 09:00:28 PM Minimization completed...\n",
      "2018-04-24 09:00:28 PM Writing equil.0.in\n",
      "2018-04-24 09:00:28 PM Running MD at ./OA-G3-0/AMBER/APR/windows/p019\n",
      "2018-04-24 09:00:28 PM Exec line: pmemd.cuda -O -p solvate.prmtop -ref solvate.rst7 -c minimize.rst7 -i equil.0.in -o equil.0.out -r equil.0.rst7 -x equil.0.nc -inf equil.0.mdinfo -e equil.0.mden\n"
     ]
    },
    {
     "name": "stdout",
     "output_type": "stream",
     "text": [
      "`equil.rst7` not found and i < 10...\n"
     ]
    },
    {
     "name": "stderr",
     "output_type": "stream",
     "text": [
      "2018-04-24 09:04:22 PM MD completed ...\n",
      "2018-04-24 09:04:22 PM Writing prod.001.in\n",
      "2018-04-24 09:04:22 PM Running MD at ./OA-G3-0/AMBER/APR/windows/p019\n",
      "2018-04-24 09:04:22 PM Exec line: pmemd.cuda -O -p solvate.prmtop -ref solvate.rst7 -c equil.rst7 -i prod.001.in -o prod.001.out -r prod.001.rst7 -x prod.001.nc -inf prod.001.mdinfo -e prod.001.mden\n",
      "2018-04-24 09:07:03 PM MD completed ...\n",
      "2018-04-24 09:07:03 PM Writing minimize.in\n",
      "2018-04-24 09:07:03 PM Running Minimization at ./OA-G3-0/AMBER/APR/windows/p020\n",
      "2018-04-24 09:07:03 PM Exec line: pmemd.cuda -O -p solvate.prmtop -ref solvate.rst7 -c solvate.rst7 -i minimize.in -o minimize.out -r minimize.rst7 -inf minimize.mdinfo\n"
     ]
    },
    {
     "name": "stdout",
     "output_type": "stream",
     "text": [
      "Re-running minimization...\n"
     ]
    },
    {
     "name": "stderr",
     "output_type": "stream",
     "text": [
      "2018-04-24 09:07:05 PM Minimization completed...\n",
      "2018-04-24 09:07:05 PM Writing equil.0.in\n",
      "2018-04-24 09:07:05 PM Running MD at ./OA-G3-0/AMBER/APR/windows/p020\n",
      "2018-04-24 09:07:05 PM Exec line: pmemd.cuda -O -p solvate.prmtop -ref solvate.rst7 -c minimize.rst7 -i equil.0.in -o equil.0.out -r equil.0.rst7 -x equil.0.nc -inf equil.0.mdinfo -e equil.0.mden\n"
     ]
    },
    {
     "name": "stdout",
     "output_type": "stream",
     "text": [
      "`equil.rst7` not found and i < 10...\n"
     ]
    },
    {
     "name": "stderr",
     "output_type": "stream",
     "text": [
      "2018-04-24 09:10:59 PM MD completed ...\n",
      "2018-04-24 09:10:59 PM Writing prod.001.in\n",
      "2018-04-24 09:10:59 PM Running MD at ./OA-G3-0/AMBER/APR/windows/p020\n",
      "2018-04-24 09:10:59 PM Exec line: pmemd.cuda -O -p solvate.prmtop -ref solvate.rst7 -c equil.rst7 -i prod.001.in -o prod.001.out -r prod.001.rst7 -x prod.001.nc -inf prod.001.mdinfo -e prod.001.mden\n",
      "2018-04-24 09:13:40 PM MD completed ...\n",
      "2018-04-24 09:13:40 PM Writing minimize.in\n",
      "2018-04-24 09:13:40 PM Running Minimization at ./OA-G3-0/AMBER/APR/windows/p021\n",
      "2018-04-24 09:13:40 PM Exec line: pmemd.cuda -O -p solvate.prmtop -ref solvate.rst7 -c solvate.rst7 -i minimize.in -o minimize.out -r minimize.rst7 -inf minimize.mdinfo\n"
     ]
    },
    {
     "name": "stdout",
     "output_type": "stream",
     "text": [
      "Re-running minimization...\n"
     ]
    },
    {
     "name": "stderr",
     "output_type": "stream",
     "text": [
      "2018-04-24 09:13:41 PM Minimization completed...\n",
      "2018-04-24 09:13:41 PM Writing equil.0.in\n",
      "2018-04-24 09:13:41 PM Running MD at ./OA-G3-0/AMBER/APR/windows/p021\n",
      "2018-04-24 09:13:41 PM Exec line: pmemd.cuda -O -p solvate.prmtop -ref solvate.rst7 -c minimize.rst7 -i equil.0.in -o equil.0.out -r equil.0.rst7 -x equil.0.nc -inf equil.0.mdinfo -e equil.0.mden\n"
     ]
    },
    {
     "name": "stdout",
     "output_type": "stream",
     "text": [
      "`equil.rst7` not found and i < 10...\n"
     ]
    },
    {
     "name": "stderr",
     "output_type": "stream",
     "text": [
      "2018-04-24 09:17:31 PM MD completed ...\n",
      "2018-04-24 09:17:31 PM Writing prod.001.in\n",
      "2018-04-24 09:17:31 PM Running MD at ./OA-G3-0/AMBER/APR/windows/p021\n",
      "2018-04-24 09:17:31 PM Exec line: pmemd.cuda -O -p solvate.prmtop -ref solvate.rst7 -c equil.rst7 -i prod.001.in -o prod.001.out -r prod.001.rst7 -x prod.001.nc -inf prod.001.mdinfo -e prod.001.mden\n",
      "2018-04-24 09:20:12 PM MD completed ...\n",
      "2018-04-24 09:20:12 PM Writing minimize.in\n",
      "2018-04-24 09:20:12 PM Running Minimization at ./OA-G3-0/AMBER/APR/windows/p022\n",
      "2018-04-24 09:20:12 PM Exec line: pmemd.cuda -O -p solvate.prmtop -ref solvate.rst7 -c solvate.rst7 -i minimize.in -o minimize.out -r minimize.rst7 -inf minimize.mdinfo\n"
     ]
    },
    {
     "name": "stdout",
     "output_type": "stream",
     "text": [
      "Re-running minimization...\n"
     ]
    },
    {
     "name": "stderr",
     "output_type": "stream",
     "text": [
      "2018-04-24 09:20:14 PM Minimization completed...\n",
      "2018-04-24 09:20:14 PM Writing equil.0.in\n",
      "2018-04-24 09:20:14 PM Running MD at ./OA-G3-0/AMBER/APR/windows/p022\n",
      "2018-04-24 09:20:14 PM Exec line: pmemd.cuda -O -p solvate.prmtop -ref solvate.rst7 -c minimize.rst7 -i equil.0.in -o equil.0.out -r equil.0.rst7 -x equil.0.nc -inf equil.0.mdinfo -e equil.0.mden\n"
     ]
    },
    {
     "name": "stdout",
     "output_type": "stream",
     "text": [
      "`equil.rst7` not found and i < 10...\n"
     ]
    },
    {
     "name": "stderr",
     "output_type": "stream",
     "text": [
      "2018-04-24 09:24:04 PM MD completed ...\n",
      "2018-04-24 09:24:04 PM Writing prod.001.in\n",
      "2018-04-24 09:24:04 PM Running MD at ./OA-G3-0/AMBER/APR/windows/p022\n",
      "2018-04-24 09:24:04 PM Exec line: pmemd.cuda -O -p solvate.prmtop -ref solvate.rst7 -c equil.rst7 -i prod.001.in -o prod.001.out -r prod.001.rst7 -x prod.001.nc -inf prod.001.mdinfo -e prod.001.mden\n",
      "2018-04-24 09:26:44 PM MD completed ...\n",
      "2018-04-24 09:26:44 PM Writing minimize.in\n",
      "2018-04-24 09:26:44 PM Running Minimization at ./OA-G3-0/AMBER/APR/windows/p023\n",
      "2018-04-24 09:26:44 PM Exec line: pmemd.cuda -O -p solvate.prmtop -ref solvate.rst7 -c solvate.rst7 -i minimize.in -o minimize.out -r minimize.rst7 -inf minimize.mdinfo\n"
     ]
    },
    {
     "name": "stdout",
     "output_type": "stream",
     "text": [
      "Re-running minimization...\n"
     ]
    },
    {
     "name": "stderr",
     "output_type": "stream",
     "text": [
      "2018-04-24 09:26:46 PM Minimization completed...\n",
      "2018-04-24 09:26:46 PM Writing equil.0.in\n",
      "2018-04-24 09:26:46 PM Running MD at ./OA-G3-0/AMBER/APR/windows/p023\n",
      "2018-04-24 09:26:46 PM Exec line: pmemd.cuda -O -p solvate.prmtop -ref solvate.rst7 -c minimize.rst7 -i equil.0.in -o equil.0.out -r equil.0.rst7 -x equil.0.nc -inf equil.0.mdinfo -e equil.0.mden\n"
     ]
    },
    {
     "name": "stdout",
     "output_type": "stream",
     "text": [
      "`equil.rst7` not found and i < 10...\n"
     ]
    },
    {
     "name": "stderr",
     "output_type": "stream",
     "text": [
      "2018-04-24 09:30:34 PM MD completed ...\n",
      "2018-04-24 09:30:34 PM Writing prod.001.in\n",
      "2018-04-24 09:30:34 PM Running MD at ./OA-G3-0/AMBER/APR/windows/p023\n",
      "2018-04-24 09:30:34 PM Exec line: pmemd.cuda -O -p solvate.prmtop -ref solvate.rst7 -c equil.rst7 -i prod.001.in -o prod.001.out -r prod.001.rst7 -x prod.001.nc -inf prod.001.mdinfo -e prod.001.mden\n",
      "2018-04-24 09:33:14 PM MD completed ...\n",
      "2018-04-24 09:33:14 PM Writing minimize.in\n",
      "2018-04-24 09:33:14 PM Running Minimization at ./OA-G3-0/AMBER/APR/windows/p024\n",
      "2018-04-24 09:33:14 PM Exec line: pmemd.cuda -O -p solvate.prmtop -ref solvate.rst7 -c solvate.rst7 -i minimize.in -o minimize.out -r minimize.rst7 -inf minimize.mdinfo\n"
     ]
    },
    {
     "name": "stdout",
     "output_type": "stream",
     "text": [
      "Re-running minimization...\n"
     ]
    },
    {
     "name": "stderr",
     "output_type": "stream",
     "text": [
      "2018-04-24 09:33:16 PM Minimization completed...\n",
      "2018-04-24 09:33:16 PM Writing equil.0.in\n",
      "2018-04-24 09:33:16 PM Running MD at ./OA-G3-0/AMBER/APR/windows/p024\n",
      "2018-04-24 09:33:16 PM Exec line: pmemd.cuda -O -p solvate.prmtop -ref solvate.rst7 -c minimize.rst7 -i equil.0.in -o equil.0.out -r equil.0.rst7 -x equil.0.nc -inf equil.0.mdinfo -e equil.0.mden\n"
     ]
    },
    {
     "name": "stdout",
     "output_type": "stream",
     "text": [
      "`equil.rst7` not found and i < 10...\n"
     ]
    },
    {
     "name": "stderr",
     "output_type": "stream",
     "text": [
      "2018-04-24 09:37:04 PM MD completed ...\n",
      "2018-04-24 09:37:04 PM Writing prod.001.in\n",
      "2018-04-24 09:37:04 PM Running MD at ./OA-G3-0/AMBER/APR/windows/p024\n",
      "2018-04-24 09:37:04 PM Exec line: pmemd.cuda -O -p solvate.prmtop -ref solvate.rst7 -c equil.rst7 -i prod.001.in -o prod.001.out -r prod.001.rst7 -x prod.001.nc -inf prod.001.mdinfo -e prod.001.mden\n",
      "2018-04-24 09:39:46 PM MD completed ...\n",
      "2018-04-24 09:39:46 PM Writing minimize.in\n",
      "2018-04-24 09:39:46 PM Running Minimization at ./OA-G3-0/AMBER/APR/windows/p025\n",
      "2018-04-24 09:39:46 PM Exec line: pmemd.cuda -O -p solvate.prmtop -ref solvate.rst7 -c solvate.rst7 -i minimize.in -o minimize.out -r minimize.rst7 -inf minimize.mdinfo\n"
     ]
    },
    {
     "name": "stdout",
     "output_type": "stream",
     "text": [
      "Re-running minimization...\n"
     ]
    },
    {
     "name": "stderr",
     "output_type": "stream",
     "text": [
      "2018-04-24 09:39:48 PM Minimization completed...\n",
      "2018-04-24 09:39:48 PM Writing equil.0.in\n",
      "2018-04-24 09:39:48 PM Running MD at ./OA-G3-0/AMBER/APR/windows/p025\n",
      "2018-04-24 09:39:48 PM Exec line: pmemd.cuda -O -p solvate.prmtop -ref solvate.rst7 -c minimize.rst7 -i equil.0.in -o equil.0.out -r equil.0.rst7 -x equil.0.nc -inf equil.0.mdinfo -e equil.0.mden\n"
     ]
    },
    {
     "name": "stdout",
     "output_type": "stream",
     "text": [
      "`equil.rst7` not found and i < 10...\n"
     ]
    },
    {
     "name": "stderr",
     "output_type": "stream",
     "text": [
      "2018-04-24 09:43:38 PM MD completed ...\n",
      "2018-04-24 09:43:38 PM Writing prod.001.in\n",
      "2018-04-24 09:43:38 PM Running MD at ./OA-G3-0/AMBER/APR/windows/p025\n",
      "2018-04-24 09:43:38 PM Exec line: pmemd.cuda -O -p solvate.prmtop -ref solvate.rst7 -c equil.rst7 -i prod.001.in -o prod.001.out -r prod.001.rst7 -x prod.001.nc -inf prod.001.mdinfo -e prod.001.mden\n",
      "2018-04-24 09:46:20 PM MD completed ...\n",
      "2018-04-24 09:46:20 PM Writing minimize.in\n",
      "2018-04-24 09:46:20 PM Running Minimization at ./OA-G3-0/AMBER/APR/windows/p026\n",
      "2018-04-24 09:46:20 PM Exec line: pmemd.cuda -O -p solvate.prmtop -ref solvate.rst7 -c solvate.rst7 -i minimize.in -o minimize.out -r minimize.rst7 -inf minimize.mdinfo\n"
     ]
    },
    {
     "name": "stdout",
     "output_type": "stream",
     "text": [
      "Re-running minimization...\n"
     ]
    },
    {
     "name": "stderr",
     "output_type": "stream",
     "text": [
      "2018-04-24 09:46:22 PM Minimization completed...\n",
      "2018-04-24 09:46:22 PM Writing equil.0.in\n",
      "2018-04-24 09:46:22 PM Running MD at ./OA-G3-0/AMBER/APR/windows/p026\n",
      "2018-04-24 09:46:22 PM Exec line: pmemd.cuda -O -p solvate.prmtop -ref solvate.rst7 -c minimize.rst7 -i equil.0.in -o equil.0.out -r equil.0.rst7 -x equil.0.nc -inf equil.0.mdinfo -e equil.0.mden\n"
     ]
    },
    {
     "name": "stdout",
     "output_type": "stream",
     "text": [
      "`equil.rst7` not found and i < 10...\n"
     ]
    },
    {
     "name": "stderr",
     "output_type": "stream",
     "text": [
      "2018-04-24 09:50:14 PM MD completed ...\n",
      "2018-04-24 09:50:14 PM Writing prod.001.in\n",
      "2018-04-24 09:50:14 PM Running MD at ./OA-G3-0/AMBER/APR/windows/p026\n",
      "2018-04-24 09:50:14 PM Exec line: pmemd.cuda -O -p solvate.prmtop -ref solvate.rst7 -c equil.rst7 -i prod.001.in -o prod.001.out -r prod.001.rst7 -x prod.001.nc -inf prod.001.mdinfo -e prod.001.mden\n",
      "2018-04-24 09:52:54 PM MD completed ...\n",
      "2018-04-24 09:52:54 PM Writing minimize.in\n",
      "2018-04-24 09:52:54 PM Running Minimization at ./OA-G3-0/AMBER/APR/windows/p027\n",
      "2018-04-24 09:52:54 PM Exec line: pmemd.cuda -O -p solvate.prmtop -ref solvate.rst7 -c solvate.rst7 -i minimize.in -o minimize.out -r minimize.rst7 -inf minimize.mdinfo\n"
     ]
    },
    {
     "name": "stdout",
     "output_type": "stream",
     "text": [
      "Re-running minimization...\n"
     ]
    },
    {
     "name": "stderr",
     "output_type": "stream",
     "text": [
      "2018-04-24 09:52:55 PM Minimization completed...\n",
      "2018-04-24 09:52:55 PM Writing equil.0.in\n",
      "2018-04-24 09:52:55 PM Running MD at ./OA-G3-0/AMBER/APR/windows/p027\n",
      "2018-04-24 09:52:55 PM Exec line: pmemd.cuda -O -p solvate.prmtop -ref solvate.rst7 -c minimize.rst7 -i equil.0.in -o equil.0.out -r equil.0.rst7 -x equil.0.nc -inf equil.0.mdinfo -e equil.0.mden\n"
     ]
    },
    {
     "name": "stdout",
     "output_type": "stream",
     "text": [
      "`equil.rst7` not found and i < 10...\n"
     ]
    },
    {
     "name": "stderr",
     "output_type": "stream",
     "text": [
      "2018-04-24 09:56:47 PM MD completed ...\n",
      "2018-04-24 09:56:47 PM Writing prod.001.in\n",
      "2018-04-24 09:56:47 PM Running MD at ./OA-G3-0/AMBER/APR/windows/p027\n",
      "2018-04-24 09:56:47 PM Exec line: pmemd.cuda -O -p solvate.prmtop -ref solvate.rst7 -c equil.rst7 -i prod.001.in -o prod.001.out -r prod.001.rst7 -x prod.001.nc -inf prod.001.mdinfo -e prod.001.mden\n",
      "2018-04-24 09:59:31 PM MD completed ...\n",
      "2018-04-24 09:59:31 PM Writing minimize.in\n",
      "2018-04-24 09:59:31 PM Running Minimization at ./OA-G3-0/AMBER/APR/windows/p028\n",
      "2018-04-24 09:59:31 PM Exec line: pmemd.cuda -O -p solvate.prmtop -ref solvate.rst7 -c solvate.rst7 -i minimize.in -o minimize.out -r minimize.rst7 -inf minimize.mdinfo\n"
     ]
    },
    {
     "name": "stdout",
     "output_type": "stream",
     "text": [
      "Re-running minimization...\n"
     ]
    },
    {
     "name": "stderr",
     "output_type": "stream",
     "text": [
      "2018-04-24 09:59:32 PM Minimization completed...\n",
      "2018-04-24 09:59:32 PM Writing equil.0.in\n",
      "2018-04-24 09:59:32 PM Running MD at ./OA-G3-0/AMBER/APR/windows/p028\n",
      "2018-04-24 09:59:32 PM Exec line: pmemd.cuda -O -p solvate.prmtop -ref solvate.rst7 -c minimize.rst7 -i equil.0.in -o equil.0.out -r equil.0.rst7 -x equil.0.nc -inf equil.0.mdinfo -e equil.0.mden\n"
     ]
    },
    {
     "name": "stdout",
     "output_type": "stream",
     "text": [
      "`equil.rst7` not found and i < 10...\n"
     ]
    },
    {
     "name": "stderr",
     "output_type": "stream",
     "text": [
      "2018-04-24 10:03:23 PM MD completed ...\n",
      "2018-04-24 10:03:23 PM Writing prod.001.in\n",
      "2018-04-24 10:03:23 PM Running MD at ./OA-G3-0/AMBER/APR/windows/p028\n",
      "2018-04-24 10:03:23 PM Exec line: pmemd.cuda -O -p solvate.prmtop -ref solvate.rst7 -c equil.rst7 -i prod.001.in -o prod.001.out -r prod.001.rst7 -x prod.001.nc -inf prod.001.mdinfo -e prod.001.mden\n",
      "2018-04-24 10:06:04 PM MD completed ...\n",
      "2018-04-24 10:06:04 PM Writing minimize.in\n",
      "2018-04-24 10:06:04 PM Running Minimization at ./OA-G3-0/AMBER/APR/windows/p029\n",
      "2018-04-24 10:06:04 PM Exec line: pmemd.cuda -O -p solvate.prmtop -ref solvate.rst7 -c solvate.rst7 -i minimize.in -o minimize.out -r minimize.rst7 -inf minimize.mdinfo\n"
     ]
    },
    {
     "name": "stdout",
     "output_type": "stream",
     "text": [
      "Re-running minimization...\n"
     ]
    },
    {
     "name": "stderr",
     "output_type": "stream",
     "text": [
      "2018-04-24 10:06:06 PM Minimization completed...\n",
      "2018-04-24 10:06:06 PM Writing equil.0.in\n",
      "2018-04-24 10:06:06 PM Running MD at ./OA-G3-0/AMBER/APR/windows/p029\n",
      "2018-04-24 10:06:06 PM Exec line: pmemd.cuda -O -p solvate.prmtop -ref solvate.rst7 -c minimize.rst7 -i equil.0.in -o equil.0.out -r equil.0.rst7 -x equil.0.nc -inf equil.0.mdinfo -e equil.0.mden\n"
     ]
    },
    {
     "name": "stdout",
     "output_type": "stream",
     "text": [
      "`equil.rst7` not found and i < 10...\n"
     ]
    },
    {
     "name": "stderr",
     "output_type": "stream",
     "text": [
      "2018-04-24 10:09:55 PM MD completed ...\n",
      "2018-04-24 10:09:56 PM Writing prod.001.in\n",
      "2018-04-24 10:09:56 PM Running MD at ./OA-G3-0/AMBER/APR/windows/p029\n",
      "2018-04-24 10:09:56 PM Exec line: pmemd.cuda -O -p solvate.prmtop -ref solvate.rst7 -c equil.rst7 -i prod.001.in -o prod.001.out -r prod.001.rst7 -x prod.001.nc -inf prod.001.mdinfo -e prod.001.mden\n",
      "2018-04-24 10:12:37 PM MD completed ...\n",
      "2018-04-24 10:12:37 PM Writing minimize.in\n",
      "2018-04-24 10:12:37 PM Running Minimization at ./OA-G3-0/AMBER/APR/windows/p030\n",
      "2018-04-24 10:12:37 PM Exec line: pmemd.cuda -O -p solvate.prmtop -ref solvate.rst7 -c solvate.rst7 -i minimize.in -o minimize.out -r minimize.rst7 -inf minimize.mdinfo\n"
     ]
    },
    {
     "name": "stdout",
     "output_type": "stream",
     "text": [
      "Re-running minimization...\n"
     ]
    },
    {
     "name": "stderr",
     "output_type": "stream",
     "text": [
      "2018-04-24 10:12:39 PM Minimization completed...\n",
      "2018-04-24 10:12:39 PM Writing equil.0.in\n",
      "2018-04-24 10:12:39 PM Running MD at ./OA-G3-0/AMBER/APR/windows/p030\n",
      "2018-04-24 10:12:39 PM Exec line: pmemd.cuda -O -p solvate.prmtop -ref solvate.rst7 -c minimize.rst7 -i equil.0.in -o equil.0.out -r equil.0.rst7 -x equil.0.nc -inf equil.0.mdinfo -e equil.0.mden\n"
     ]
    },
    {
     "name": "stdout",
     "output_type": "stream",
     "text": [
      "`equil.rst7` not found and i < 10...\n"
     ]
    },
    {
     "name": "stderr",
     "output_type": "stream",
     "text": [
      "2018-04-24 10:16:30 PM MD completed ...\n",
      "2018-04-24 10:16:30 PM Writing prod.001.in\n",
      "2018-04-24 10:16:30 PM Running MD at ./OA-G3-0/AMBER/APR/windows/p030\n",
      "2018-04-24 10:16:30 PM Exec line: pmemd.cuda -O -p solvate.prmtop -ref solvate.rst7 -c equil.rst7 -i prod.001.in -o prod.001.out -r prod.001.rst7 -x prod.001.nc -inf prod.001.mdinfo -e prod.001.mden\n",
      "2018-04-24 10:19:13 PM MD completed ...\n",
      "2018-04-24 10:19:13 PM Writing minimize.in\n",
      "2018-04-24 10:19:13 PM Running Minimization at ./OA-G3-0/AMBER/APR/windows/p031\n",
      "2018-04-24 10:19:13 PM Exec line: pmemd.cuda -O -p solvate.prmtop -ref solvate.rst7 -c solvate.rst7 -i minimize.in -o minimize.out -r minimize.rst7 -inf minimize.mdinfo\n"
     ]
    },
    {
     "name": "stdout",
     "output_type": "stream",
     "text": [
      "Re-running minimization...\n"
     ]
    },
    {
     "name": "stderr",
     "output_type": "stream",
     "text": [
      "2018-04-24 10:19:15 PM Minimization completed...\n",
      "2018-04-24 10:19:15 PM Writing equil.0.in\n",
      "2018-04-24 10:19:15 PM Running MD at ./OA-G3-0/AMBER/APR/windows/p031\n",
      "2018-04-24 10:19:15 PM Exec line: pmemd.cuda -O -p solvate.prmtop -ref solvate.rst7 -c minimize.rst7 -i equil.0.in -o equil.0.out -r equil.0.rst7 -x equil.0.nc -inf equil.0.mdinfo -e equil.0.mden\n"
     ]
    },
    {
     "name": "stdout",
     "output_type": "stream",
     "text": [
      "`equil.rst7` not found and i < 10...\n"
     ]
    },
    {
     "name": "stderr",
     "output_type": "stream",
     "text": [
      "2018-04-24 10:23:04 PM MD completed ...\n",
      "2018-04-24 10:23:04 PM Writing prod.001.in\n",
      "2018-04-24 10:23:04 PM Running MD at ./OA-G3-0/AMBER/APR/windows/p031\n",
      "2018-04-24 10:23:04 PM Exec line: pmemd.cuda -O -p solvate.prmtop -ref solvate.rst7 -c equil.rst7 -i prod.001.in -o prod.001.out -r prod.001.rst7 -x prod.001.nc -inf prod.001.mdinfo -e prod.001.mden\n",
      "2018-04-24 10:25:45 PM MD completed ...\n",
      "2018-04-24 10:25:45 PM Writing minimize.in\n",
      "2018-04-24 10:25:45 PM Running Minimization at ./OA-G3-0/AMBER/APR/windows/p032\n",
      "2018-04-24 10:25:45 PM Exec line: pmemd.cuda -O -p solvate.prmtop -ref solvate.rst7 -c solvate.rst7 -i minimize.in -o minimize.out -r minimize.rst7 -inf minimize.mdinfo\n"
     ]
    },
    {
     "name": "stdout",
     "output_type": "stream",
     "text": [
      "Re-running minimization...\n"
     ]
    },
    {
     "name": "stderr",
     "output_type": "stream",
     "text": [
      "2018-04-24 10:25:47 PM Minimization completed...\n",
      "2018-04-24 10:25:47 PM Writing equil.0.in\n",
      "2018-04-24 10:25:47 PM Running MD at ./OA-G3-0/AMBER/APR/windows/p032\n",
      "2018-04-24 10:25:47 PM Exec line: pmemd.cuda -O -p solvate.prmtop -ref solvate.rst7 -c minimize.rst7 -i equil.0.in -o equil.0.out -r equil.0.rst7 -x equil.0.nc -inf equil.0.mdinfo -e equil.0.mden\n"
     ]
    },
    {
     "name": "stdout",
     "output_type": "stream",
     "text": [
      "`equil.rst7` not found and i < 10...\n"
     ]
    },
    {
     "name": "stderr",
     "output_type": "stream",
     "text": [
      "2018-04-24 10:29:35 PM MD completed ...\n",
      "2018-04-24 10:29:35 PM Writing prod.001.in\n",
      "2018-04-24 10:29:35 PM Running MD at ./OA-G3-0/AMBER/APR/windows/p032\n",
      "2018-04-24 10:29:35 PM Exec line: pmemd.cuda -O -p solvate.prmtop -ref solvate.rst7 -c equil.rst7 -i prod.001.in -o prod.001.out -r prod.001.rst7 -x prod.001.nc -inf prod.001.mdinfo -e prod.001.mden\n",
      "2018-04-24 10:32:17 PM MD completed ...\n",
      "2018-04-24 10:32:17 PM Writing minimize.in\n",
      "2018-04-24 10:32:17 PM Running Minimization at ./OA-G3-0/AMBER/APR/windows/p033\n",
      "2018-04-24 10:32:17 PM Exec line: pmemd.cuda -O -p solvate.prmtop -ref solvate.rst7 -c solvate.rst7 -i minimize.in -o minimize.out -r minimize.rst7 -inf minimize.mdinfo\n"
     ]
    },
    {
     "name": "stdout",
     "output_type": "stream",
     "text": [
      "Re-running minimization...\n"
     ]
    },
    {
     "name": "stderr",
     "output_type": "stream",
     "text": [
      "2018-04-24 10:32:19 PM Minimization completed...\n",
      "2018-04-24 10:32:19 PM Writing equil.0.in\n",
      "2018-04-24 10:32:19 PM Running MD at ./OA-G3-0/AMBER/APR/windows/p033\n",
      "2018-04-24 10:32:19 PM Exec line: pmemd.cuda -O -p solvate.prmtop -ref solvate.rst7 -c minimize.rst7 -i equil.0.in -o equil.0.out -r equil.0.rst7 -x equil.0.nc -inf equil.0.mdinfo -e equil.0.mden\n"
     ]
    },
    {
     "name": "stdout",
     "output_type": "stream",
     "text": [
      "`equil.rst7` not found and i < 10...\n"
     ]
    },
    {
     "name": "stderr",
     "output_type": "stream",
     "text": [
      "2018-04-24 10:36:07 PM MD completed ...\n",
      "2018-04-24 10:36:07 PM Writing prod.001.in\n",
      "2018-04-24 10:36:07 PM Running MD at ./OA-G3-0/AMBER/APR/windows/p033\n",
      "2018-04-24 10:36:07 PM Exec line: pmemd.cuda -O -p solvate.prmtop -ref solvate.rst7 -c equil.rst7 -i prod.001.in -o prod.001.out -r prod.001.rst7 -x prod.001.nc -inf prod.001.mdinfo -e prod.001.mden\n",
      "2018-04-24 10:38:48 PM MD completed ...\n",
      "2018-04-24 10:38:48 PM Writing minimize.in\n",
      "2018-04-24 10:38:48 PM Running Minimization at ./OA-G3-0/AMBER/APR/windows/p034\n",
      "2018-04-24 10:38:48 PM Exec line: pmemd.cuda -O -p solvate.prmtop -ref solvate.rst7 -c solvate.rst7 -i minimize.in -o minimize.out -r minimize.rst7 -inf minimize.mdinfo\n"
     ]
    },
    {
     "name": "stdout",
     "output_type": "stream",
     "text": [
      "Re-running minimization...\n"
     ]
    },
    {
     "name": "stderr",
     "output_type": "stream",
     "text": [
      "2018-04-24 10:38:50 PM Minimization completed...\n",
      "2018-04-24 10:38:50 PM Writing equil.0.in\n",
      "2018-04-24 10:38:50 PM Running MD at ./OA-G3-0/AMBER/APR/windows/p034\n",
      "2018-04-24 10:38:50 PM Exec line: pmemd.cuda -O -p solvate.prmtop -ref solvate.rst7 -c minimize.rst7 -i equil.0.in -o equil.0.out -r equil.0.rst7 -x equil.0.nc -inf equil.0.mdinfo -e equil.0.mden\n"
     ]
    },
    {
     "name": "stdout",
     "output_type": "stream",
     "text": [
      "`equil.rst7` not found and i < 10...\n"
     ]
    },
    {
     "name": "stderr",
     "output_type": "stream",
     "text": [
      "2018-04-24 10:42:37 PM MD completed ...\n",
      "2018-04-24 10:42:37 PM Writing prod.001.in\n",
      "2018-04-24 10:42:37 PM Running MD at ./OA-G3-0/AMBER/APR/windows/p034\n",
      "2018-04-24 10:42:37 PM Exec line: pmemd.cuda -O -p solvate.prmtop -ref solvate.rst7 -c equil.rst7 -i prod.001.in -o prod.001.out -r prod.001.rst7 -x prod.001.nc -inf prod.001.mdinfo -e prod.001.mden\n",
      "2018-04-24 10:45:21 PM MD completed ...\n",
      "2018-04-24 10:45:21 PM Writing minimize.in\n",
      "2018-04-24 10:45:21 PM Running Minimization at ./OA-G3-0/AMBER/APR/windows/p035\n",
      "2018-04-24 10:45:21 PM Exec line: pmemd.cuda -O -p solvate.prmtop -ref solvate.rst7 -c solvate.rst7 -i minimize.in -o minimize.out -r minimize.rst7 -inf minimize.mdinfo\n"
     ]
    },
    {
     "name": "stdout",
     "output_type": "stream",
     "text": [
      "Re-running minimization...\n"
     ]
    },
    {
     "name": "stderr",
     "output_type": "stream",
     "text": [
      "2018-04-24 10:45:23 PM Minimization completed...\n",
      "2018-04-24 10:45:23 PM Writing equil.0.in\n",
      "2018-04-24 10:45:23 PM Running MD at ./OA-G3-0/AMBER/APR/windows/p035\n",
      "2018-04-24 10:45:23 PM Exec line: pmemd.cuda -O -p solvate.prmtop -ref solvate.rst7 -c minimize.rst7 -i equil.0.in -o equil.0.out -r equil.0.rst7 -x equil.0.nc -inf equil.0.mdinfo -e equil.0.mden\n"
     ]
    },
    {
     "name": "stdout",
     "output_type": "stream",
     "text": [
      "`equil.rst7` not found and i < 10...\n"
     ]
    },
    {
     "name": "stderr",
     "output_type": "stream",
     "text": [
      "2018-04-24 10:49:16 PM MD completed ...\n",
      "2018-04-24 10:49:16 PM Writing prod.001.in\n",
      "2018-04-24 10:49:16 PM Running MD at ./OA-G3-0/AMBER/APR/windows/p035\n",
      "2018-04-24 10:49:16 PM Exec line: pmemd.cuda -O -p solvate.prmtop -ref solvate.rst7 -c equil.rst7 -i prod.001.in -o prod.001.out -r prod.001.rst7 -x prod.001.nc -inf prod.001.mdinfo -e prod.001.mden\n",
      "2018-04-24 10:51:59 PM MD completed ...\n",
      "2018-04-24 10:51:59 PM Writing minimize.in\n",
      "2018-04-24 10:51:59 PM Running Minimization at ./OA-G3-0/AMBER/APR/windows/p036\n",
      "2018-04-24 10:51:59 PM Exec line: pmemd.cuda -O -p solvate.prmtop -ref solvate.rst7 -c solvate.rst7 -i minimize.in -o minimize.out -r minimize.rst7 -inf minimize.mdinfo\n"
     ]
    },
    {
     "name": "stdout",
     "output_type": "stream",
     "text": [
      "Re-running minimization...\n"
     ]
    },
    {
     "name": "stderr",
     "output_type": "stream",
     "text": [
      "2018-04-24 10:52:01 PM Minimization completed...\n",
      "2018-04-24 10:52:01 PM Writing equil.0.in\n",
      "2018-04-24 10:52:01 PM Running MD at ./OA-G3-0/AMBER/APR/windows/p036\n",
      "2018-04-24 10:52:01 PM Exec line: pmemd.cuda -O -p solvate.prmtop -ref solvate.rst7 -c minimize.rst7 -i equil.0.in -o equil.0.out -r equil.0.rst7 -x equil.0.nc -inf equil.0.mdinfo -e equil.0.mden\n"
     ]
    },
    {
     "name": "stdout",
     "output_type": "stream",
     "text": [
      "`equil.rst7` not found and i < 10...\n"
     ]
    },
    {
     "name": "stderr",
     "output_type": "stream",
     "text": [
      "2018-04-24 10:55:55 PM MD completed ...\n",
      "2018-04-24 10:55:55 PM Writing prod.001.in\n",
      "2018-04-24 10:55:55 PM Running MD at ./OA-G3-0/AMBER/APR/windows/p036\n",
      "2018-04-24 10:55:55 PM Exec line: pmemd.cuda -O -p solvate.prmtop -ref solvate.rst7 -c equil.rst7 -i prod.001.in -o prod.001.out -r prod.001.rst7 -x prod.001.nc -inf prod.001.mdinfo -e prod.001.mden\n",
      "2018-04-24 10:58:37 PM MD completed ...\n",
      "2018-04-24 10:58:37 PM Writing minimize.in\n",
      "2018-04-24 10:58:37 PM Running Minimization at ./OA-G3-0/AMBER/APR/windows/p037\n",
      "2018-04-24 10:58:37 PM Exec line: pmemd.cuda -O -p solvate.prmtop -ref solvate.rst7 -c solvate.rst7 -i minimize.in -o minimize.out -r minimize.rst7 -inf minimize.mdinfo\n"
     ]
    },
    {
     "name": "stdout",
     "output_type": "stream",
     "text": [
      "Re-running minimization...\n"
     ]
    },
    {
     "name": "stderr",
     "output_type": "stream",
     "text": [
      "2018-04-24 10:58:39 PM Minimization completed...\n",
      "2018-04-24 10:58:39 PM Writing equil.0.in\n",
      "2018-04-24 10:58:39 PM Running MD at ./OA-G3-0/AMBER/APR/windows/p037\n",
      "2018-04-24 10:58:39 PM Exec line: pmemd.cuda -O -p solvate.prmtop -ref solvate.rst7 -c minimize.rst7 -i equil.0.in -o equil.0.out -r equil.0.rst7 -x equil.0.nc -inf equil.0.mdinfo -e equil.0.mden\n"
     ]
    },
    {
     "name": "stdout",
     "output_type": "stream",
     "text": [
      "`equil.rst7` not found and i < 10...\n"
     ]
    },
    {
     "name": "stderr",
     "output_type": "stream",
     "text": [
      "2018-04-24 11:02:27 PM MD completed ...\n",
      "2018-04-24 11:02:27 PM Writing prod.001.in\n",
      "2018-04-24 11:02:27 PM Running MD at ./OA-G3-0/AMBER/APR/windows/p037\n",
      "2018-04-24 11:02:27 PM Exec line: pmemd.cuda -O -p solvate.prmtop -ref solvate.rst7 -c equil.rst7 -i prod.001.in -o prod.001.out -r prod.001.rst7 -x prod.001.nc -inf prod.001.mdinfo -e prod.001.mden\n",
      "2018-04-24 11:05:12 PM MD completed ...\n",
      "2018-04-24 11:05:12 PM Writing minimize.in\n",
      "2018-04-24 11:05:12 PM Running Minimization at ./OA-G3-0/AMBER/APR/windows/p038\n",
      "2018-04-24 11:05:12 PM Exec line: pmemd.cuda -O -p solvate.prmtop -ref solvate.rst7 -c solvate.rst7 -i minimize.in -o minimize.out -r minimize.rst7 -inf minimize.mdinfo\n"
     ]
    },
    {
     "name": "stdout",
     "output_type": "stream",
     "text": [
      "Re-running minimization...\n"
     ]
    },
    {
     "name": "stderr",
     "output_type": "stream",
     "text": [
      "2018-04-24 11:05:14 PM Minimization completed...\n",
      "2018-04-24 11:05:14 PM Writing equil.0.in\n",
      "2018-04-24 11:05:14 PM Running MD at ./OA-G3-0/AMBER/APR/windows/p038\n",
      "2018-04-24 11:05:14 PM Exec line: pmemd.cuda -O -p solvate.prmtop -ref solvate.rst7 -c minimize.rst7 -i equil.0.in -o equil.0.out -r equil.0.rst7 -x equil.0.nc -inf equil.0.mdinfo -e equil.0.mden\n"
     ]
    },
    {
     "name": "stdout",
     "output_type": "stream",
     "text": [
      "`equil.rst7` not found and i < 10...\n"
     ]
    },
    {
     "name": "stderr",
     "output_type": "stream",
     "text": [
      "2018-04-24 11:09:03 PM MD completed ...\n",
      "2018-04-24 11:09:03 PM Writing prod.001.in\n",
      "2018-04-24 11:09:03 PM Running MD at ./OA-G3-0/AMBER/APR/windows/p038\n",
      "2018-04-24 11:09:03 PM Exec line: pmemd.cuda -O -p solvate.prmtop -ref solvate.rst7 -c equil.rst7 -i prod.001.in -o prod.001.out -r prod.001.rst7 -x prod.001.nc -inf prod.001.mdinfo -e prod.001.mden\n",
      "2018-04-24 11:11:44 PM MD completed ...\n",
      "2018-04-24 11:11:44 PM Writing minimize.in\n",
      "2018-04-24 11:11:44 PM Running Minimization at ./OA-G3-0/AMBER/APR/windows/p039\n",
      "2018-04-24 11:11:44 PM Exec line: pmemd.cuda -O -p solvate.prmtop -ref solvate.rst7 -c solvate.rst7 -i minimize.in -o minimize.out -r minimize.rst7 -inf minimize.mdinfo\n"
     ]
    },
    {
     "name": "stdout",
     "output_type": "stream",
     "text": [
      "Re-running minimization...\n"
     ]
    },
    {
     "name": "stderr",
     "output_type": "stream",
     "text": [
      "2018-04-24 11:11:46 PM Minimization completed...\n",
      "2018-04-24 11:11:46 PM Writing equil.0.in\n",
      "2018-04-24 11:11:46 PM Running MD at ./OA-G3-0/AMBER/APR/windows/p039\n",
      "2018-04-24 11:11:46 PM Exec line: pmemd.cuda -O -p solvate.prmtop -ref solvate.rst7 -c minimize.rst7 -i equil.0.in -o equil.0.out -r equil.0.rst7 -x equil.0.nc -inf equil.0.mdinfo -e equil.0.mden\n"
     ]
    },
    {
     "name": "stdout",
     "output_type": "stream",
     "text": [
      "`equil.rst7` not found and i < 10...\n"
     ]
    },
    {
     "name": "stderr",
     "output_type": "stream",
     "text": [
      "2018-04-24 11:15:39 PM MD completed ...\n",
      "2018-04-24 11:15:39 PM Writing prod.001.in\n",
      "2018-04-24 11:15:39 PM Running MD at ./OA-G3-0/AMBER/APR/windows/p039\n",
      "2018-04-24 11:15:39 PM Exec line: pmemd.cuda -O -p solvate.prmtop -ref solvate.rst7 -c equil.rst7 -i prod.001.in -o prod.001.out -r prod.001.rst7 -x prod.001.nc -inf prod.001.mdinfo -e prod.001.mden\n",
      "2018-04-24 11:18:21 PM MD completed ...\n",
      "2018-04-24 11:18:21 PM Writing minimize.in\n",
      "2018-04-24 11:18:21 PM Running Minimization at ./OA-G3-0/AMBER/APR/windows/p040\n",
      "2018-04-24 11:18:21 PM Exec line: pmemd.cuda -O -p solvate.prmtop -ref solvate.rst7 -c solvate.rst7 -i minimize.in -o minimize.out -r minimize.rst7 -inf minimize.mdinfo\n"
     ]
    },
    {
     "name": "stdout",
     "output_type": "stream",
     "text": [
      "Re-running minimization...\n"
     ]
    },
    {
     "name": "stderr",
     "output_type": "stream",
     "text": [
      "2018-04-24 11:18:22 PM Minimization completed...\n",
      "2018-04-24 11:18:22 PM Writing equil.0.in\n",
      "2018-04-24 11:18:22 PM Running MD at ./OA-G3-0/AMBER/APR/windows/p040\n",
      "2018-04-24 11:18:22 PM Exec line: pmemd.cuda -O -p solvate.prmtop -ref solvate.rst7 -c minimize.rst7 -i equil.0.in -o equil.0.out -r equil.0.rst7 -x equil.0.nc -inf equil.0.mdinfo -e equil.0.mden\n"
     ]
    },
    {
     "name": "stdout",
     "output_type": "stream",
     "text": [
      "`equil.rst7` not found and i < 10...\n"
     ]
    },
    {
     "name": "stderr",
     "output_type": "stream",
     "text": [
      "2018-04-24 11:22:12 PM MD completed ...\n",
      "2018-04-24 11:22:12 PM Writing prod.001.in\n",
      "2018-04-24 11:22:12 PM Running MD at ./OA-G3-0/AMBER/APR/windows/p040\n",
      "2018-04-24 11:22:12 PM Exec line: pmemd.cuda -O -p solvate.prmtop -ref solvate.rst7 -c equil.rst7 -i prod.001.in -o prod.001.out -r prod.001.rst7 -x prod.001.nc -inf prod.001.mdinfo -e prod.001.mden\n",
      "2018-04-24 11:24:53 PM MD completed ...\n",
      "2018-04-24 11:24:53 PM Writing minimize.in\n",
      "2018-04-24 11:24:53 PM Running Minimization at ./OA-G3-0/AMBER/APR/windows/p041\n",
      "2018-04-24 11:24:53 PM Exec line: pmemd.cuda -O -p solvate.prmtop -ref solvate.rst7 -c solvate.rst7 -i minimize.in -o minimize.out -r minimize.rst7 -inf minimize.mdinfo\n"
     ]
    },
    {
     "name": "stdout",
     "output_type": "stream",
     "text": [
      "Re-running minimization...\n"
     ]
    },
    {
     "name": "stderr",
     "output_type": "stream",
     "text": [
      "2018-04-24 11:24:55 PM Minimization completed...\n",
      "2018-04-24 11:24:55 PM Writing equil.0.in\n",
      "2018-04-24 11:24:55 PM Running MD at ./OA-G3-0/AMBER/APR/windows/p041\n",
      "2018-04-24 11:24:55 PM Exec line: pmemd.cuda -O -p solvate.prmtop -ref solvate.rst7 -c minimize.rst7 -i equil.0.in -o equil.0.out -r equil.0.rst7 -x equil.0.nc -inf equil.0.mdinfo -e equil.0.mden\n"
     ]
    },
    {
     "name": "stdout",
     "output_type": "stream",
     "text": [
      "`equil.rst7` not found and i < 10...\n"
     ]
    },
    {
     "name": "stderr",
     "output_type": "stream",
     "text": [
      "2018-04-24 11:28:44 PM MD completed ...\n",
      "2018-04-24 11:28:44 PM Writing prod.001.in\n",
      "2018-04-24 11:28:44 PM Running MD at ./OA-G3-0/AMBER/APR/windows/p041\n",
      "2018-04-24 11:28:44 PM Exec line: pmemd.cuda -O -p solvate.prmtop -ref solvate.rst7 -c equil.rst7 -i prod.001.in -o prod.001.out -r prod.001.rst7 -x prod.001.nc -inf prod.001.mdinfo -e prod.001.mden\n",
      "2018-04-24 11:31:25 PM MD completed ...\n",
      "2018-04-24 11:31:25 PM Writing minimize.in\n",
      "2018-04-24 11:31:25 PM Running Minimization at ./OA-G3-0/AMBER/APR/windows/p042\n",
      "2018-04-24 11:31:25 PM Exec line: pmemd.cuda -O -p solvate.prmtop -ref solvate.rst7 -c solvate.rst7 -i minimize.in -o minimize.out -r minimize.rst7 -inf minimize.mdinfo\n"
     ]
    },
    {
     "name": "stdout",
     "output_type": "stream",
     "text": [
      "Re-running minimization...\n"
     ]
    },
    {
     "name": "stderr",
     "output_type": "stream",
     "text": [
      "2018-04-24 11:31:26 PM Minimization completed...\n",
      "2018-04-24 11:31:26 PM Writing equil.0.in\n",
      "2018-04-24 11:31:26 PM Running MD at ./OA-G3-0/AMBER/APR/windows/p042\n",
      "2018-04-24 11:31:26 PM Exec line: pmemd.cuda -O -p solvate.prmtop -ref solvate.rst7 -c minimize.rst7 -i equil.0.in -o equil.0.out -r equil.0.rst7 -x equil.0.nc -inf equil.0.mdinfo -e equil.0.mden\n"
     ]
    },
    {
     "name": "stdout",
     "output_type": "stream",
     "text": [
      "`equil.rst7` not found and i < 10...\n"
     ]
    },
    {
     "name": "stderr",
     "output_type": "stream",
     "text": [
      "2018-04-24 11:35:14 PM MD completed ...\n",
      "2018-04-24 11:35:14 PM Writing prod.001.in\n",
      "2018-04-24 11:35:14 PM Running MD at ./OA-G3-0/AMBER/APR/windows/p042\n",
      "2018-04-24 11:35:14 PM Exec line: pmemd.cuda -O -p solvate.prmtop -ref solvate.rst7 -c equil.rst7 -i prod.001.in -o prod.001.out -r prod.001.rst7 -x prod.001.nc -inf prod.001.mdinfo -e prod.001.mden\n",
      "2018-04-24 11:37:55 PM MD completed ...\n",
      "2018-04-24 11:37:55 PM Writing minimize.in\n",
      "2018-04-24 11:37:55 PM Running Minimization at ./OA-G3-0/AMBER/APR/windows/p043\n",
      "2018-04-24 11:37:55 PM Exec line: pmemd.cuda -O -p solvate.prmtop -ref solvate.rst7 -c solvate.rst7 -i minimize.in -o minimize.out -r minimize.rst7 -inf minimize.mdinfo\n"
     ]
    },
    {
     "name": "stdout",
     "output_type": "stream",
     "text": [
      "Re-running minimization...\n"
     ]
    },
    {
     "name": "stderr",
     "output_type": "stream",
     "text": [
      "2018-04-24 11:37:57 PM Minimization completed...\n",
      "2018-04-24 11:37:57 PM Writing equil.0.in\n",
      "2018-04-24 11:37:57 PM Running MD at ./OA-G3-0/AMBER/APR/windows/p043\n",
      "2018-04-24 11:37:57 PM Exec line: pmemd.cuda -O -p solvate.prmtop -ref solvate.rst7 -c minimize.rst7 -i equil.0.in -o equil.0.out -r equil.0.rst7 -x equil.0.nc -inf equil.0.mdinfo -e equil.0.mden\n"
     ]
    },
    {
     "name": "stdout",
     "output_type": "stream",
     "text": [
      "`equil.rst7` not found and i < 10...\n"
     ]
    },
    {
     "name": "stderr",
     "output_type": "stream",
     "text": [
      "2018-04-24 11:41:45 PM MD completed ...\n",
      "2018-04-24 11:41:45 PM Writing prod.001.in\n",
      "2018-04-24 11:41:45 PM Running MD at ./OA-G3-0/AMBER/APR/windows/p043\n",
      "2018-04-24 11:41:45 PM Exec line: pmemd.cuda -O -p solvate.prmtop -ref solvate.rst7 -c equil.rst7 -i prod.001.in -o prod.001.out -r prod.001.rst7 -x prod.001.nc -inf prod.001.mdinfo -e prod.001.mden\n",
      "2018-04-24 11:44:30 PM MD completed ...\n",
      "2018-04-24 11:44:30 PM Writing minimize.in\n",
      "2018-04-24 11:44:30 PM Running Minimization at ./OA-G3-0/AMBER/APR/windows/p044\n",
      "2018-04-24 11:44:30 PM Exec line: pmemd.cuda -O -p solvate.prmtop -ref solvate.rst7 -c solvate.rst7 -i minimize.in -o minimize.out -r minimize.rst7 -inf minimize.mdinfo\n"
     ]
    },
    {
     "name": "stdout",
     "output_type": "stream",
     "text": [
      "Re-running minimization...\n"
     ]
    },
    {
     "name": "stderr",
     "output_type": "stream",
     "text": [
      "2018-04-24 11:44:32 PM Minimization completed...\n",
      "2018-04-24 11:44:32 PM Writing equil.0.in\n",
      "2018-04-24 11:44:32 PM Running MD at ./OA-G3-0/AMBER/APR/windows/p044\n",
      "2018-04-24 11:44:32 PM Exec line: pmemd.cuda -O -p solvate.prmtop -ref solvate.rst7 -c minimize.rst7 -i equil.0.in -o equil.0.out -r equil.0.rst7 -x equil.0.nc -inf equil.0.mdinfo -e equil.0.mden\n"
     ]
    },
    {
     "name": "stdout",
     "output_type": "stream",
     "text": [
      "`equil.rst7` not found and i < 10...\n"
     ]
    },
    {
     "name": "stderr",
     "output_type": "stream",
     "text": [
      "2018-04-24 11:48:21 PM MD completed ...\n",
      "2018-04-24 11:48:21 PM Writing prod.001.in\n",
      "2018-04-24 11:48:21 PM Running MD at ./OA-G3-0/AMBER/APR/windows/p044\n",
      "2018-04-24 11:48:21 PM Exec line: pmemd.cuda -O -p solvate.prmtop -ref solvate.rst7 -c equil.rst7 -i prod.001.in -o prod.001.out -r prod.001.rst7 -x prod.001.nc -inf prod.001.mdinfo -e prod.001.mden\n",
      "2018-04-24 11:51:02 PM MD completed ...\n",
      "2018-04-24 11:51:02 PM Writing minimize.in\n",
      "2018-04-24 11:51:02 PM Running Minimization at ./OA-G3-0/AMBER/APR/windows/p045\n",
      "2018-04-24 11:51:02 PM Exec line: pmemd.cuda -O -p solvate.prmtop -ref solvate.rst7 -c solvate.rst7 -i minimize.in -o minimize.out -r minimize.rst7 -inf minimize.mdinfo\n"
     ]
    },
    {
     "name": "stdout",
     "output_type": "stream",
     "text": [
      "Re-running minimization...\n"
     ]
    },
    {
     "name": "stderr",
     "output_type": "stream",
     "text": [
      "2018-04-24 11:51:04 PM Minimization completed...\n",
      "2018-04-24 11:51:04 PM Writing equil.0.in\n",
      "2018-04-24 11:51:04 PM Running MD at ./OA-G3-0/AMBER/APR/windows/p045\n",
      "2018-04-24 11:51:04 PM Exec line: pmemd.cuda -O -p solvate.prmtop -ref solvate.rst7 -c minimize.rst7 -i equil.0.in -o equil.0.out -r equil.0.rst7 -x equil.0.nc -inf equil.0.mdinfo -e equil.0.mden\n"
     ]
    },
    {
     "name": "stdout",
     "output_type": "stream",
     "text": [
      "`equil.rst7` not found and i < 10...\n"
     ]
    },
    {
     "name": "stderr",
     "output_type": "stream",
     "text": [
      "2018-04-24 11:54:55 PM MD completed ...\n",
      "2018-04-24 11:54:55 PM Writing prod.001.in\n",
      "2018-04-24 11:54:55 PM Running MD at ./OA-G3-0/AMBER/APR/windows/p045\n",
      "2018-04-24 11:54:55 PM Exec line: pmemd.cuda -O -p solvate.prmtop -ref solvate.rst7 -c equil.rst7 -i prod.001.in -o prod.001.out -r prod.001.rst7 -x prod.001.nc -inf prod.001.mdinfo -e prod.001.mden\n",
      "2018-04-24 11:57:39 PM MD completed ...\n",
      "2018-04-24 11:57:39 PM Replacing ./OA-G3-0/AMBER/APR/windows/a014 with ./OA-G3-0/AMBER/APR/windows/p000 in ['./OA-G3-0/AMBER/APR/windows/a000', './OA-G3-0/AMBER/APR/windows/a001', './OA-G3-0/AMBER/APR/windows/a002', './OA-G3-0/AMBER/APR/windows/a003', './OA-G3-0/AMBER/APR/windows/a004', './OA-G3-0/AMBER/APR/windows/a005', './OA-G3-0/AMBER/APR/windows/a006', './OA-G3-0/AMBER/APR/windows/a007', './OA-G3-0/AMBER/APR/windows/a008', './OA-G3-0/AMBER/APR/windows/a009', './OA-G3-0/AMBER/APR/windows/a010', './OA-G3-0/AMBER/APR/windows/a011', './OA-G3-0/AMBER/APR/windows/a012', './OA-G3-0/AMBER/APR/windows/a013', './OA-G3-0/AMBER/APR/windows/a014'] for `continuous_apr`...\n",
      "2018-04-24 11:57:39 PM Reading restraint data for ./OA-G3-0/AMBER/APR/windows/a000...\n",
      "2018-04-24 11:57:39 PM Reading restraint data for ./OA-G3-0/AMBER/APR/windows/a000...\n",
      "2018-04-24 11:57:39 PM Reading restraint data for ./OA-G3-0/AMBER/APR/windows/a000...\n",
      "2018-04-24 11:57:39 PM Reading restraint data for ./OA-G3-0/AMBER/APR/windows/a001...\n",
      "2018-04-24 11:57:39 PM Reading restraint data for ./OA-G3-0/AMBER/APR/windows/a001...\n",
      "2018-04-24 11:57:39 PM Reading restraint data for ./OA-G3-0/AMBER/APR/windows/a001...\n",
      "2018-04-24 11:57:39 PM Reading restraint data for ./OA-G3-0/AMBER/APR/windows/a002...\n",
      "2018-04-24 11:57:39 PM Reading restraint data for ./OA-G3-0/AMBER/APR/windows/a002...\n",
      "2018-04-24 11:57:39 PM Reading restraint data for ./OA-G3-0/AMBER/APR/windows/a002...\n",
      "2018-04-24 11:57:39 PM Reading restraint data for ./OA-G3-0/AMBER/APR/windows/a003...\n",
      "2018-04-24 11:57:39 PM Reading restraint data for ./OA-G3-0/AMBER/APR/windows/a003...\n",
      "2018-04-24 11:57:39 PM Reading restraint data for ./OA-G3-0/AMBER/APR/windows/a003...\n",
      "2018-04-24 11:57:39 PM Reading restraint data for ./OA-G3-0/AMBER/APR/windows/a004...\n",
      "2018-04-24 11:57:39 PM Reading restraint data for ./OA-G3-0/AMBER/APR/windows/a004...\n",
      "2018-04-24 11:57:39 PM Reading restraint data for ./OA-G3-0/AMBER/APR/windows/a004...\n",
      "2018-04-24 11:57:39 PM Reading restraint data for ./OA-G3-0/AMBER/APR/windows/a005...\n",
      "2018-04-24 11:57:39 PM Reading restraint data for ./OA-G3-0/AMBER/APR/windows/a005...\n",
      "2018-04-24 11:57:39 PM Reading restraint data for ./OA-G3-0/AMBER/APR/windows/a005...\n",
      "2018-04-24 11:57:39 PM Reading restraint data for ./OA-G3-0/AMBER/APR/windows/a006...\n",
      "2018-04-24 11:57:39 PM Reading restraint data for ./OA-G3-0/AMBER/APR/windows/a006...\n",
      "2018-04-24 11:57:39 PM Reading restraint data for ./OA-G3-0/AMBER/APR/windows/a006...\n",
      "2018-04-24 11:57:39 PM Reading restraint data for ./OA-G3-0/AMBER/APR/windows/a007...\n",
      "2018-04-24 11:57:39 PM Reading restraint data for ./OA-G3-0/AMBER/APR/windows/a007...\n",
      "2018-04-24 11:57:39 PM Reading restraint data for ./OA-G3-0/AMBER/APR/windows/a007...\n",
      "2018-04-24 11:57:39 PM Reading restraint data for ./OA-G3-0/AMBER/APR/windows/a008...\n",
      "2018-04-24 11:57:39 PM Reading restraint data for ./OA-G3-0/AMBER/APR/windows/a008...\n",
      "2018-04-24 11:57:39 PM Reading restraint data for ./OA-G3-0/AMBER/APR/windows/a008...\n",
      "2018-04-24 11:57:39 PM Reading restraint data for ./OA-G3-0/AMBER/APR/windows/a009...\n",
      "2018-04-24 11:57:39 PM Reading restraint data for ./OA-G3-0/AMBER/APR/windows/a009...\n",
      "2018-04-24 11:57:39 PM Reading restraint data for ./OA-G3-0/AMBER/APR/windows/a009...\n",
      "2018-04-24 11:57:39 PM Reading restraint data for ./OA-G3-0/AMBER/APR/windows/a010...\n",
      "2018-04-24 11:57:39 PM Reading restraint data for ./OA-G3-0/AMBER/APR/windows/a010...\n",
      "2018-04-24 11:57:39 PM Reading restraint data for ./OA-G3-0/AMBER/APR/windows/a010...\n",
      "2018-04-24 11:57:39 PM Reading restraint data for ./OA-G3-0/AMBER/APR/windows/a011...\n",
      "2018-04-24 11:57:39 PM Reading restraint data for ./OA-G3-0/AMBER/APR/windows/a011...\n",
      "2018-04-24 11:57:39 PM Reading restraint data for ./OA-G3-0/AMBER/APR/windows/a011...\n",
      "2018-04-24 11:57:39 PM Reading restraint data for ./OA-G3-0/AMBER/APR/windows/a012...\n",
      "2018-04-24 11:57:39 PM Reading restraint data for ./OA-G3-0/AMBER/APR/windows/a012...\n",
      "2018-04-24 11:57:39 PM Reading restraint data for ./OA-G3-0/AMBER/APR/windows/a012...\n",
      "2018-04-24 11:57:39 PM Reading restraint data for ./OA-G3-0/AMBER/APR/windows/a013...\n",
      "2018-04-24 11:57:39 PM Reading restraint data for ./OA-G3-0/AMBER/APR/windows/a013...\n",
      "2018-04-24 11:57:39 PM Reading restraint data for ./OA-G3-0/AMBER/APR/windows/a013...\n",
      "2018-04-24 11:57:39 PM Reading restraint data for ./OA-G3-0/AMBER/APR/windows/p000...\n",
      "2018-04-24 11:57:39 PM Reading restraint data for ./OA-G3-0/AMBER/APR/windows/p000...\n",
      "2018-04-24 11:57:39 PM Reading restraint data for ./OA-G3-0/AMBER/APR/windows/p000...\n",
      "2018-04-24 11:57:39 PM Reading restraint data for ./OA-G3-0/AMBER/APR/windows/p000...\n",
      "2018-04-24 11:57:39 PM Reading restraint data for ./OA-G3-0/AMBER/APR/windows/p001...\n",
      "2018-04-24 11:57:39 PM Reading restraint data for ./OA-G3-0/AMBER/APR/windows/p002...\n",
      "2018-04-24 11:57:39 PM Reading restraint data for ./OA-G3-0/AMBER/APR/windows/p003...\n",
      "2018-04-24 11:57:39 PM Reading restraint data for ./OA-G3-0/AMBER/APR/windows/p004...\n",
      "2018-04-24 11:57:39 PM Reading restraint data for ./OA-G3-0/AMBER/APR/windows/p005...\n",
      "2018-04-24 11:57:39 PM Reading restraint data for ./OA-G3-0/AMBER/APR/windows/p006...\n",
      "2018-04-24 11:57:39 PM Reading restraint data for ./OA-G3-0/AMBER/APR/windows/p007...\n",
      "2018-04-24 11:57:39 PM Reading restraint data for ./OA-G3-0/AMBER/APR/windows/p008...\n",
      "2018-04-24 11:57:39 PM Reading restraint data for ./OA-G3-0/AMBER/APR/windows/p009...\n",
      "2018-04-24 11:57:39 PM Reading restraint data for ./OA-G3-0/AMBER/APR/windows/p010...\n",
      "2018-04-24 11:57:39 PM Reading restraint data for ./OA-G3-0/AMBER/APR/windows/p011...\n",
      "2018-04-24 11:57:39 PM Reading restraint data for ./OA-G3-0/AMBER/APR/windows/p012...\n",
      "2018-04-24 11:57:39 PM Reading restraint data for ./OA-G3-0/AMBER/APR/windows/p013...\n",
      "2018-04-24 11:57:39 PM Reading restraint data for ./OA-G3-0/AMBER/APR/windows/p014...\n",
      "2018-04-24 11:57:39 PM Reading restraint data for ./OA-G3-0/AMBER/APR/windows/p015...\n",
      "2018-04-24 11:57:39 PM Reading restraint data for ./OA-G3-0/AMBER/APR/windows/p016...\n",
      "2018-04-24 11:57:39 PM Reading restraint data for ./OA-G3-0/AMBER/APR/windows/p017...\n",
      "2018-04-24 11:57:39 PM Reading restraint data for ./OA-G3-0/AMBER/APR/windows/p018...\n",
      "2018-04-24 11:57:39 PM Reading restraint data for ./OA-G3-0/AMBER/APR/windows/p019...\n",
      "2018-04-24 11:57:39 PM Reading restraint data for ./OA-G3-0/AMBER/APR/windows/p020...\n",
      "2018-04-24 11:57:39 PM Reading restraint data for ./OA-G3-0/AMBER/APR/windows/p021...\n",
      "2018-04-24 11:57:39 PM Reading restraint data for ./OA-G3-0/AMBER/APR/windows/p022...\n",
      "2018-04-24 11:57:39 PM Reading restraint data for ./OA-G3-0/AMBER/APR/windows/p023...\n",
      "2018-04-24 11:57:39 PM Reading restraint data for ./OA-G3-0/AMBER/APR/windows/p024...\n",
      "2018-04-24 11:57:39 PM Reading restraint data for ./OA-G3-0/AMBER/APR/windows/p025...\n",
      "2018-04-24 11:57:39 PM Reading restraint data for ./OA-G3-0/AMBER/APR/windows/p026...\n",
      "2018-04-24 11:57:39 PM Reading restraint data for ./OA-G3-0/AMBER/APR/windows/p027...\n",
      "2018-04-24 11:57:40 PM Reading restraint data for ./OA-G3-0/AMBER/APR/windows/p028...\n",
      "2018-04-24 11:57:40 PM Reading restraint data for ./OA-G3-0/AMBER/APR/windows/p029...\n",
      "2018-04-24 11:57:40 PM Reading restraint data for ./OA-G3-0/AMBER/APR/windows/p030...\n",
      "2018-04-24 11:57:40 PM Reading restraint data for ./OA-G3-0/AMBER/APR/windows/p031...\n",
      "2018-04-24 11:57:40 PM Reading restraint data for ./OA-G3-0/AMBER/APR/windows/p032...\n",
      "2018-04-24 11:57:40 PM Reading restraint data for ./OA-G3-0/AMBER/APR/windows/p033...\n",
      "2018-04-24 11:57:40 PM Reading restraint data for ./OA-G3-0/AMBER/APR/windows/p034...\n",
      "2018-04-24 11:57:40 PM Reading restraint data for ./OA-G3-0/AMBER/APR/windows/p035...\n",
      "2018-04-24 11:57:40 PM Reading restraint data for ./OA-G3-0/AMBER/APR/windows/p036...\n",
      "2018-04-24 11:57:40 PM Reading restraint data for ./OA-G3-0/AMBER/APR/windows/p037...\n"
     ]
    },
    {
     "name": "stderr",
     "output_type": "stream",
     "text": [
      "2018-04-24 11:57:40 PM Reading restraint data for ./OA-G3-0/AMBER/APR/windows/p038...\n",
      "2018-04-24 11:57:40 PM Reading restraint data for ./OA-G3-0/AMBER/APR/windows/p039...\n",
      "2018-04-24 11:57:40 PM Reading restraint data for ./OA-G3-0/AMBER/APR/windows/p040...\n",
      "2018-04-24 11:57:40 PM Reading restraint data for ./OA-G3-0/AMBER/APR/windows/p041...\n",
      "2018-04-24 11:57:40 PM Reading restraint data for ./OA-G3-0/AMBER/APR/windows/p042...\n",
      "2018-04-24 11:57:40 PM Reading restraint data for ./OA-G3-0/AMBER/APR/windows/p043...\n",
      "2018-04-24 11:57:40 PM Reading restraint data for ./OA-G3-0/AMBER/APR/windows/p044...\n",
      "2018-04-24 11:57:40 PM Reading restraint data for ./OA-G3-0/AMBER/APR/windows/p045...\n"
     ]
    },
    {
     "name": "stdout",
     "output_type": "stream",
     "text": [
      "\n"
     ]
    },
    {
     "ename": "TypeError",
     "evalue": "unsupported operand type(s) for -: 'NoneType' and 'float'",
     "output_type": "error",
     "traceback": [
      "\u001b[0;31m---------------------------------------------------------------------------\u001b[0m",
      "\u001b[0;31mTypeError\u001b[0m                                 Traceback (most recent call last)",
      "\u001b[0;32m<ipython-input-117-e51106e97de6>\u001b[0m in \u001b[0;36m<module>\u001b[0;34m()\u001b[0m\n\u001b[1;32m    185\u001b[0m             \u001b[0mfecalc\u001b[0m\u001b[0;34m.\u001b[0m\u001b[0mrestraint_list\u001b[0m \u001b[0;34m=\u001b[0m \u001b[0mguest_restraints\u001b[0m\u001b[0;34m\u001b[0m\u001b[0m\n\u001b[1;32m    186\u001b[0m             \u001b[0mfecalc\u001b[0m\u001b[0;34m.\u001b[0m\u001b[0mcollect_data\u001b[0m\u001b[0;34m(\u001b[0m\u001b[0msingle_prmtop\u001b[0m\u001b[0;34m=\u001b[0m\u001b[0;32mTrue\u001b[0m\u001b[0;34m)\u001b[0m\u001b[0;34m\u001b[0m\u001b[0m\n\u001b[0;32m--> 187\u001b[0;31m             \u001b[0mfecalc\u001b[0m\u001b[0;34m.\u001b[0m\u001b[0mcompute_free_energy\u001b[0m\u001b[0;34m(\u001b[0m\u001b[0;34m)\u001b[0m\u001b[0;34m\u001b[0m\u001b[0m\n\u001b[0m\u001b[1;32m    188\u001b[0m             print('{}: Attach: {:.2f} ({:.2f})  Pull: {:.2f} ({:.2f})'.format(\n\u001b[1;32m    189\u001b[0m                 \u001b[0mcomplx\u001b[0m\u001b[0;34m,\u001b[0m\u001b[0;34m\u001b[0m\u001b[0m\n",
      "\u001b[0;32m~/pAPRika/paprika/analysis.py\u001b[0m in \u001b[0;36mcompute_free_energy\u001b[0;34m(self)\u001b[0m\n\u001b[1;32m    345\u001b[0m                     \u001b[0mprepared_data\u001b[0m \u001b[0;34m=\u001b[0m \u001b[0mself\u001b[0m\u001b[0;34m.\u001b[0m\u001b[0m_prepare_data\u001b[0m\u001b[0;34m(\u001b[0m\u001b[0mphase\u001b[0m\u001b[0;34m)\u001b[0m\u001b[0;34m\u001b[0m\u001b[0m\n\u001b[1;32m    346\u001b[0m                     \u001b[0mself\u001b[0m\u001b[0;34m.\u001b[0m\u001b[0mresults\u001b[0m\u001b[0;34m[\u001b[0m\u001b[0mphase\u001b[0m\u001b[0;34m]\u001b[0m\u001b[0;34m[\u001b[0m\u001b[0mmethod\u001b[0m\u001b[0;34m]\u001b[0m\u001b[0;34m[\u001b[0m\u001b[0;34m'fe_matrix'\u001b[0m\u001b[0;34m]\u001b[0m\u001b[0;34m,\u001b[0m\u001b[0mself\u001b[0m\u001b[0;34m.\u001b[0m\u001b[0mresults\u001b[0m\u001b[0;34m[\u001b[0m\u001b[0mphase\u001b[0m\u001b[0;34m]\u001b[0m\u001b[0;34m[\u001b[0m\u001b[0mmethod\u001b[0m\u001b[0;34m]\u001b[0m\u001b[0;34m[\u001b[0m\u001b[0;34m'sem_matrix'\u001b[0m\u001b[0;34m]\u001b[0m\u001b[0;31m\\\u001b[0m\u001b[0;34m\u001b[0m\u001b[0m\n\u001b[0;32m--> 347\u001b[0;31m                         \u001b[0;34m=\u001b[0m \u001b[0mself\u001b[0m\u001b[0;34m.\u001b[0m\u001b[0m_run_mbar\u001b[0m\u001b[0;34m(\u001b[0m\u001b[0mprepared_data\u001b[0m\u001b[0;34m)\u001b[0m\u001b[0;34m\u001b[0m\u001b[0m\n\u001b[0m\u001b[1;32m    348\u001b[0m                     \u001b[0mself\u001b[0m\u001b[0;34m.\u001b[0m\u001b[0mresults\u001b[0m\u001b[0;34m[\u001b[0m\u001b[0mphase\u001b[0m\u001b[0;34m]\u001b[0m\u001b[0;34m[\u001b[0m\u001b[0mmethod\u001b[0m\u001b[0;34m]\u001b[0m\u001b[0;34m[\u001b[0m\u001b[0;34m'fe'\u001b[0m\u001b[0;34m]\u001b[0m \u001b[0;34m=\u001b[0m \u001b[0mself\u001b[0m\u001b[0;34m.\u001b[0m\u001b[0mresults\u001b[0m\u001b[0;34m[\u001b[0m\u001b[0mphase\u001b[0m\u001b[0;34m]\u001b[0m\u001b[0;34m[\u001b[0m\u001b[0mmethod\u001b[0m\u001b[0;34m]\u001b[0m\u001b[0;34m[\u001b[0m\u001b[0;34m'fe_matrix'\u001b[0m\u001b[0;34m]\u001b[0m\u001b[0;34m[\u001b[0m\u001b[0;36m0\u001b[0m\u001b[0;34m,\u001b[0m \u001b[0;34m-\u001b[0m\u001b[0;36m1\u001b[0m\u001b[0;34m]\u001b[0m\u001b[0;34m\u001b[0m\u001b[0m\n\u001b[1;32m    349\u001b[0m                     \u001b[0mself\u001b[0m\u001b[0;34m.\u001b[0m\u001b[0mresults\u001b[0m\u001b[0;34m[\u001b[0m\u001b[0mphase\u001b[0m\u001b[0;34m]\u001b[0m\u001b[0;34m[\u001b[0m\u001b[0mmethod\u001b[0m\u001b[0;34m]\u001b[0m\u001b[0;34m[\u001b[0m\u001b[0;34m'sem'\u001b[0m\u001b[0;34m]\u001b[0m \u001b[0;34m=\u001b[0m \u001b[0mself\u001b[0m\u001b[0;34m.\u001b[0m\u001b[0mresults\u001b[0m\u001b[0;34m[\u001b[0m\u001b[0mphase\u001b[0m\u001b[0;34m]\u001b[0m\u001b[0;34m[\u001b[0m\u001b[0mmethod\u001b[0m\u001b[0;34m]\u001b[0m\u001b[0;34m[\u001b[0m\u001b[0;34m'sem_matrix'\u001b[0m\u001b[0;34m]\u001b[0m\u001b[0;34m[\u001b[0m\u001b[0;36m0\u001b[0m\u001b[0;34m,\u001b[0m \u001b[0;34m-\u001b[0m\u001b[0;36m1\u001b[0m\u001b[0;34m]\u001b[0m\u001b[0;34m\u001b[0m\u001b[0m\n",
      "\u001b[0;32m~/pAPRika/paprika/analysis.py\u001b[0m in \u001b[0;36m_run_mbar\u001b[0;34m(self, prepared_data, verbose)\u001b[0m\n\u001b[1;32m    277\u001b[0m \u001b[0;34m\u001b[0m\u001b[0m\n\u001b[1;32m    278\u001b[0m                 u_kln[k, l, 0:N_k[k]] = np.sum(\n\u001b[0;32m--> 279\u001b[0;31m                     self.beta * force_constants_T * (ordered_values[k] - targets_T)**2, axis=0)\n\u001b[0m\u001b[1;32m    280\u001b[0m \u001b[0;34m\u001b[0m\u001b[0m\n\u001b[1;32m    281\u001b[0m         \u001b[0;31m# Setup mbar calc, and get matrix of free energies, uncertainties\u001b[0m\u001b[0;34m\u001b[0m\u001b[0;34m\u001b[0m\u001b[0m\n",
      "\u001b[0;31mTypeError\u001b[0m: unsupported operand type(s) for -: 'NoneType' and 'float'"
     ]
    }
   ],
   "source": [
    "for complx in g3_complexes:\n",
    "    \n",
    "    traj = pt.load(os.path.join(complx, 'AMBER', 'solvate.rst7'), \n",
    "                    os.path.join(complx, 'AMBER', 'solvate.prmtop'))\n",
    "\n",
    "    pull_initial = pt.distance(traj, ' '.join([dummy_anchors[0], guest_anchors[0]]))[0]\n",
    "\n",
    "    print(f'Set pull offset ({pull_initial:1.2f} A)')\n",
    "\n",
    "    pull_distances = [float(i) + pull_initial for i in pull_string.split()]\n",
    "    \n",
    "    guest_restraint_atoms = [[dummy_anchors[0], guest_anchors[0]],\n",
    "                         [dummy_anchors[1], dummy_anchors[0], guest_anchors[0]],\n",
    "                         [dummy_anchors[0], guest_anchors[0], guest_anchors[1]],\n",
    "                        ]\n",
    "\n",
    "    guest_restraint_targets = [pull_initial,\n",
    "                               180.0,\n",
    "                               180.0\n",
    "                              ]\n",
    "    guest_restraint_target_final = [pull_distances[-1], 180.0, 180.0]\n",
    "    guest_restraint_distance_fc = 5.0 # kcal/mol-A**2\n",
    "    guest_restraint_angle_fc = 100.0  # kcal/mol-rad**2\n",
    "\n",
    "    hg = pmd.load_file(os.path.join(complx, 'AMBER', 'solvate.prmtop'),\n",
    "                   os.path.join(complx, 'AMBER', 'solvate.rst7'),\n",
    "                   structure=True)\n",
    "\n",
    "    guest_restraints = []\n",
    "    for index, atoms in enumerate(guest_restraint_atoms): \n",
    "        if len(atoms) > 2:\n",
    "            angle = True\n",
    "        else:\n",
    "            angle = False\n",
    "        this = DAT_restraint()\n",
    "        this.auto_apr = True\n",
    "        this.amber_index = True\n",
    "        this.topology = hg\n",
    "        this.mask1 = atoms[0]\n",
    "        this.mask2 = atoms[1]\n",
    "        if angle:\n",
    "            this.mask3 = atoms[2]\n",
    "            this.attach['fc_final'] = guest_restraint_angle_fc\n",
    "        else:\n",
    "            this.attach['fc_final'] = guest_restraint_distance_fc\n",
    "        this.attach['target'] = guest_restraint_targets[index]\n",
    "        this.attach['fraction_list'] = attach_fractions\n",
    "\n",
    "        this.pull['target_final'] = guest_restraint_target_final[index]\n",
    "        this.pull['num_windows'] = windows[1]\n",
    "        this.initialize()\n",
    "\n",
    "        guest_restraints.append(this)\n",
    "        \n",
    "    structure = pt.load(os.path.join(complx, 'AMBER', 'APR', 'windows', 'a000', 'solvate.rst7'), \n",
    "                       os.path.join(complx, 'AMBER', 'APR', 'windows', 'a000', 'solvate.prmtop'))\n",
    "\n",
    "    stripped = structure.strip(':WAT,:Na+,:Cl-')\n",
    "\n",
    "    \n",
    "    print(f'Simulating {complx}')\n",
    "\n",
    "    # Store simulations here\n",
    "    sim_list = []\n",
    "    # Convergence check\n",
    "    all_converged = {'attach': None, 'pull': None, 'release': None}\n",
    "\n",
    "    # Loop of restart iterations\n",
    "    for itr in range(50):\n",
    "        # Checker for whether new data has been generated\n",
    "        # Start with assumption of no new data\n",
    "        new_data = False\n",
    "\n",
    "        # Strings for restart iterations\n",
    "        prev = \"{:03.0f}\".format(itr)\n",
    "        curr = \"{:03.0f}\".format(itr+1)\n",
    "\n",
    "        print('----- prev :'+prev+' cur: '+curr+' -----')\n",
    "        sys.stdout.flush()\n",
    "\n",
    "        # Loop through windows\n",
    "        for i_win, win in enumerate(window_list):\n",
    "            # Create some useful variables\n",
    "            phase = phase_dict[win[0]]\n",
    "            win_path = os.path.join(complx, 'AMBER', 'APR', 'windows', win)\n",
    "\n",
    "            # If first time through, create simulation class and minimize\n",
    "            if itr == 0:\n",
    "                sim = Simulation()\n",
    "                sim_list.append(sim)\n",
    "                sim.executable = 'pmemd.cuda'\n",
    "                sim.CUDA_VISIBLE_DEVICES = 1\n",
    "                sim.path = win_path\n",
    "                sim.topology = 'solvate.prmtop'\n",
    "                sim.prefix = 'minimize'\n",
    "                sim.inpcrd = 'solvate.rst7'\n",
    "                sim.ref = 'solvate.rst7'\n",
    "                sim.config_pbc_min()\n",
    "                sim.cntrl['maxcyc'] = 500\n",
    "                sim.cntrl['ncyc'] = 400\n",
    "                sim.cntrl['ntr'] = 1\n",
    "                sim.cntrl['restraint_wt'] = 50.0\n",
    "                sim.cntrl['restraintmask'] = \"'@DUM'\"\n",
    "                sim.restraint_file = 'disang.rest'\n",
    "                # This might be an overwrite run, so check if minimize is done already\n",
    "                if not os.path.isfile(win_path+'/minimize.rst7'):\n",
    "                    print('Re-running minimization...')\n",
    "                    sim.run(overwrite=True)\n",
    "\n",
    "                # Run Equilibration ... if we terminate early due to\n",
    "                # box size changes, continue on from restart\n",
    "                sim.config_pbc_md()\n",
    "                sim.executable = 'pmemd.cuda'\n",
    "                sim.cntrl['nstlim'] = itr_nstlim\n",
    "                sim.cntrl['ntwx'] = 250\n",
    "                sim.cntrl['ntwprt'] = ntwprt\n",
    "                sim.cntrl['ntwr'] = 250\n",
    "                sim.restraint_file = 'disang.rest'\n",
    "                i = 0\n",
    "                sim.prefix = 'equil.'+str(i)\n",
    "                sim.inpcrd = 'minimize.rst7'\n",
    "                sim.ref = 'solvate.rst7'\n",
    "                # Run equil loop until we complete a full equil cycle.\n",
    "                # Then copy the final rst7 to 'equil.rst7'\n",
    "                while not os.path.isfile(win_path+'/equil.rst7') and i < 10:\n",
    "                    print('`equil.rst7` not found and i < 10...')\n",
    "                    if not os.path.isfile(win_path+'/'+sim.inpcrd):\n",
    "                        print('`sim.inpcrd` not found...')\n",
    "                        break\n",
    "                    sim.run(overwrite=True)\n",
    "                    with open(win_path+'/equil.'+str(i)+'.out') as f:\n",
    "                        for line in f.readlines():\n",
    "                            if re.search(' TIMINGS', line):\n",
    "                                shutil.copy(win_path+'/'+sim.restart, win_path+'/equil.rst7')\n",
    "                    i += 1\n",
    "                    sim.prefix = 'equil.'+str(i)\n",
    "                    sim.inpcrd = 'equil.'+str(i-1)+'.rst7'\n",
    "                    sim.ref = 'solvated.rst7'\n",
    "\n",
    "            # Setup production MD\n",
    "            if itr == 0:\n",
    "                sim.config_pbc_md()\n",
    "                sim.executable = 'pmemd.cuda'\n",
    "                sim.prefix = 'prod.'+curr\n",
    "                #sim.input = 'mdin'\n",
    "                sim.inpcrd = 'equil.rst7'\n",
    "                sim.ref = 'solvate.rst7'\n",
    "                sim.cntrl['ntx'] = 5\n",
    "                sim.cntrl['irest'] = 1\n",
    "                sim.cntrl['nstlim'] = itr_nstlim\n",
    "                sim.cntrl['ntwr'] = itr_nstlim\n",
    "                sim.cntrl['ntwx'] = 250\n",
    "                sim.cntrl['ntwprt'] = ntwprt\n",
    "                sim.cntrl['ntxo'] = 2\n",
    "                sim.restraint_file = 'disang.rest'\n",
    "                if not os.path.isfile(win_path+'/'+sim.restart):\n",
    "                    sim.run(overwrite=True)\n",
    "                    new_data = True\n",
    "                # From now on, don't assume we can access sim. Use\n",
    "                # sim_list[i_win] instead. The reason is we aren't\n",
    "                # gonna keep setting sim up each time and we've stored\n",
    "                # them in sim_list\n",
    "                sim = None            \n",
    "            else:\n",
    "                sim_list[i_win].prefix = 'prod.'+curr\n",
    "                sim_list[i_win].inpcrd = 'prod.'+prev+'.rst7'\n",
    "                sim_list[i_win].ref = 'solvate.rst7'\n",
    "                #sim_list[i_win].input = 'mdin'\n",
    "                # Check convergence to decide if we are \"converged\"\n",
    "                convergence_val = fecalc.results[phase]['mbar-block']['convergence'][int(win[1:])]\n",
    "                if convergence_val < convergence_thresh[phase]:\n",
    "                    sim_list[i_win].converged = True\n",
    "                if not sim_list[i_win].converged and not os.path.isfile(win_path+'/'+sim_list[i_win].restart):\n",
    "                    sys.stdout.write(win+' ')\n",
    "                    sim_list[i_win].run(overwrite=True)\n",
    "                    new_data = True\n",
    "        print('')            \n",
    "        \n",
    "        # Collect data and compute free energy                   \n",
    "        if itr == 0 or new_data:\n",
    "            fecalc = analysis.fe_calc()\n",
    "            fecalc.prmtop = stripped.topology\n",
    "            fecalc.trajectory = 'prod.*.nc'\n",
    "            fecalc.path = os.path.join(complx, 'AMBER', 'APR', 'windows')\n",
    "            fecalc.restraint_list = guest_restraints\n",
    "            fecalc.collect_data(single_prmtop=True)\n",
    "            fecalc.compute_free_energy()\n",
    "            print('{}: Attach: {:.2f} ({:.2f})  Pull: {:.2f} ({:.2f})'.format(\n",
    "                complx,\n",
    "                fecalc.results['attach']['mbar-block']['fe'],\n",
    "                fecalc.results['attach']['mbar-block']['sem'],\n",
    "                fecalc.results['pull']['mbar-block']['fe'],\n",
    "                fecalc.results['pull']['mbar-block']['sem'],\n",
    "            ))\n",
    "\n",
    "        # Check overall Convergence\n",
    "        for phase in \"attach pull\".split():\n",
    "            convergence_vals = np.array(fecalc.results[phase]['mbar-block']['convergence'])\n",
    "            if (convergence_vals < 0.05).all():\n",
    "                all_converged[phase] = True\n",
    "            else:\n",
    "                all_converged[phase] = False\n",
    "        \n",
    "        # Update our plot.\n",
    "        axs.clear()\n",
    "        axs.axis(axis)\n",
    "        axs.set_title('{}: Attach: {:.2f} ({:.2f})  Pull: {:.2f} ({:.2f})'.format(\n",
    "            conf_path,\n",
    "            fecalc.results['attach']['mbar-block']['fe'],\n",
    "            fecalc.results['attach']['mbar-block']['sem'],\n",
    "            fecalc.results['pull']['mbar-block']['fe'],\n",
    "            fecalc.results['pull']['mbar-block']['sem'],\n",
    "        ))\n",
    "        for phase in 'attach pull'.split():                    \n",
    "            for i in range(len(fecalc.simulation_data[phase])):\n",
    "                hist,bins = np.histogram(\n",
    "                                fecalc.simulation_data[phase][i][0],\n",
    "                                bins=301,\n",
    "                                range=(0,30),\n",
    "                                density=True\n",
    "                            )\n",
    "                center = (bins[:-1] + bins[1:]) / 2\n",
    "                if phase == 'attach':\n",
    "                    facecolor = 'r'\n",
    "                else:\n",
    "                    facecolor = 'c'\n",
    "                axs.fill_between(\n",
    "                    center, hist*0.0, hist, facecolor=facecolor, edgecolor='k',\n",
    "                    alpha=0.3, zorder=zorder\n",
    "                )\n",
    "                zorder -= 1\n",
    "            fig.canvas.draw()\n",
    "            \n",
    "        # If all phases are converged, we're done!\n",
    "        if not False in all_converged.values():\n",
    "            print(\"Done!\")\n",
    "            break\n",
    "\n",
    "        sys.stdout.flush()\n",
    "\n",
    "    "
   ]
  },
  {
   "cell_type": "code",
   "execution_count": 115,
   "metadata": {},
   "outputs": [],
   "source": [
    "def clean(path):\n",
    "    minimization_files = glob.glob(os.path.join(path, 'minimize*'))\n",
    "    equilibration_files = glob.glob(os.path.join(path, 'equil*'))\n",
    "    production_files = glob.glob(os.path.join(path, 'prod*'))\n",
    "    \n",
    "    files = minimization_files + equilibration_files + production_files\n",
    "    print(files)\n",
    "    \n",
    "    for file in files:\n",
    "        if os.path.isfile(file):\n",
    "            print(f'Deleting {file}')\n",
    "            os.remove(file)"
   ]
  },
  {
   "cell_type": "code",
   "execution_count": 116,
   "metadata": {},
   "outputs": [
    {
     "name": "stdout",
     "output_type": "stream",
     "text": [
      "['./OA-G3-0/AMBER/APR/windows/a000/minimize.in', './OA-G3-0/AMBER/APR/windows/a000/minimize.out', './OA-G3-0/AMBER/APR/windows/a000/minimize.rst7', './OA-G3-0/AMBER/APR/windows/a000/minimize.mdinfo', './OA-G3-0/AMBER/APR/windows/a000/equil.0.in', './OA-G3-0/AMBER/APR/windows/a000/equil.0.out', './OA-G3-0/AMBER/APR/windows/a000/equil.0.nc', './OA-G3-0/AMBER/APR/windows/a000/equil.0.mden', './OA-G3-0/AMBER/APR/windows/a000/equil.0.rst7', './OA-G3-0/AMBER/APR/windows/a000/equil.0.mdinfo', './OA-G3-0/AMBER/APR/windows/a000/equil.rst7', './OA-G3-0/AMBER/APR/windows/a000/prod.001.in', './OA-G3-0/AMBER/APR/windows/a000/prod.001.out', './OA-G3-0/AMBER/APR/windows/a000/prod.001.nc', './OA-G3-0/AMBER/APR/windows/a000/prod.001.mden', './OA-G3-0/AMBER/APR/windows/a000/prod.001.mdinfo', './OA-G3-0/AMBER/APR/windows/a000/prod.001.rst7']\n",
      "Deleting ./OA-G3-0/AMBER/APR/windows/a000/minimize.in\n",
      "Deleting ./OA-G3-0/AMBER/APR/windows/a000/minimize.out\n",
      "Deleting ./OA-G3-0/AMBER/APR/windows/a000/minimize.rst7\n",
      "Deleting ./OA-G3-0/AMBER/APR/windows/a000/minimize.mdinfo\n",
      "Deleting ./OA-G3-0/AMBER/APR/windows/a000/equil.0.in\n",
      "Deleting ./OA-G3-0/AMBER/APR/windows/a000/equil.0.out\n",
      "Deleting ./OA-G3-0/AMBER/APR/windows/a000/equil.0.nc\n",
      "Deleting ./OA-G3-0/AMBER/APR/windows/a000/equil.0.mden\n",
      "Deleting ./OA-G3-0/AMBER/APR/windows/a000/equil.0.rst7\n",
      "Deleting ./OA-G3-0/AMBER/APR/windows/a000/equil.0.mdinfo\n",
      "Deleting ./OA-G3-0/AMBER/APR/windows/a000/equil.rst7\n",
      "Deleting ./OA-G3-0/AMBER/APR/windows/a000/prod.001.in\n",
      "Deleting ./OA-G3-0/AMBER/APR/windows/a000/prod.001.out\n",
      "Deleting ./OA-G3-0/AMBER/APR/windows/a000/prod.001.nc\n",
      "Deleting ./OA-G3-0/AMBER/APR/windows/a000/prod.001.mden\n",
      "Deleting ./OA-G3-0/AMBER/APR/windows/a000/prod.001.mdinfo\n",
      "Deleting ./OA-G3-0/AMBER/APR/windows/a000/prod.001.rst7\n",
      "['./OA-G3-0/AMBER/APR/windows/a001/minimize.in', './OA-G3-0/AMBER/APR/windows/a001/minimize.out', './OA-G3-0/AMBER/APR/windows/a001/minimize.rst7', './OA-G3-0/AMBER/APR/windows/a001/minimize.mdinfo', './OA-G3-0/AMBER/APR/windows/a001/equil.0.in', './OA-G3-0/AMBER/APR/windows/a001/equil.0.out', './OA-G3-0/AMBER/APR/windows/a001/equil.0.nc', './OA-G3-0/AMBER/APR/windows/a001/equil.0.mden', './OA-G3-0/AMBER/APR/windows/a001/equil.0.rst7', './OA-G3-0/AMBER/APR/windows/a001/equil.0.mdinfo', './OA-G3-0/AMBER/APR/windows/a001/equil.rst7', './OA-G3-0/AMBER/APR/windows/a001/prod.001.in', './OA-G3-0/AMBER/APR/windows/a001/prod.001.out', './OA-G3-0/AMBER/APR/windows/a001/prod.001.nc', './OA-G3-0/AMBER/APR/windows/a001/prod.001.mden', './OA-G3-0/AMBER/APR/windows/a001/prod.001.mdinfo', './OA-G3-0/AMBER/APR/windows/a001/prod.001.rst7']\n",
      "Deleting ./OA-G3-0/AMBER/APR/windows/a001/minimize.in\n",
      "Deleting ./OA-G3-0/AMBER/APR/windows/a001/minimize.out\n",
      "Deleting ./OA-G3-0/AMBER/APR/windows/a001/minimize.rst7\n",
      "Deleting ./OA-G3-0/AMBER/APR/windows/a001/minimize.mdinfo\n",
      "Deleting ./OA-G3-0/AMBER/APR/windows/a001/equil.0.in\n",
      "Deleting ./OA-G3-0/AMBER/APR/windows/a001/equil.0.out\n",
      "Deleting ./OA-G3-0/AMBER/APR/windows/a001/equil.0.nc\n",
      "Deleting ./OA-G3-0/AMBER/APR/windows/a001/equil.0.mden\n",
      "Deleting ./OA-G3-0/AMBER/APR/windows/a001/equil.0.rst7\n",
      "Deleting ./OA-G3-0/AMBER/APR/windows/a001/equil.0.mdinfo\n",
      "Deleting ./OA-G3-0/AMBER/APR/windows/a001/equil.rst7\n",
      "Deleting ./OA-G3-0/AMBER/APR/windows/a001/prod.001.in\n",
      "Deleting ./OA-G3-0/AMBER/APR/windows/a001/prod.001.out\n",
      "Deleting ./OA-G3-0/AMBER/APR/windows/a001/prod.001.nc\n",
      "Deleting ./OA-G3-0/AMBER/APR/windows/a001/prod.001.mden\n",
      "Deleting ./OA-G3-0/AMBER/APR/windows/a001/prod.001.mdinfo\n",
      "Deleting ./OA-G3-0/AMBER/APR/windows/a001/prod.001.rst7\n",
      "['./OA-G3-0/AMBER/APR/windows/a002/minimize.in', './OA-G3-0/AMBER/APR/windows/a002/minimize.out', './OA-G3-0/AMBER/APR/windows/a002/minimize.rst7', './OA-G3-0/AMBER/APR/windows/a002/minimize.mdinfo', './OA-G3-0/AMBER/APR/windows/a002/equil.0.in', './OA-G3-0/AMBER/APR/windows/a002/equil.0.out', './OA-G3-0/AMBER/APR/windows/a002/equil.0.nc', './OA-G3-0/AMBER/APR/windows/a002/equil.0.mden', './OA-G3-0/AMBER/APR/windows/a002/equil.0.rst7', './OA-G3-0/AMBER/APR/windows/a002/equil.0.mdinfo', './OA-G3-0/AMBER/APR/windows/a002/equil.rst7', './OA-G3-0/AMBER/APR/windows/a002/prod.001.in', './OA-G3-0/AMBER/APR/windows/a002/prod.001.out', './OA-G3-0/AMBER/APR/windows/a002/prod.001.nc', './OA-G3-0/AMBER/APR/windows/a002/prod.001.mden', './OA-G3-0/AMBER/APR/windows/a002/prod.001.mdinfo', './OA-G3-0/AMBER/APR/windows/a002/prod.001.rst7']\n",
      "Deleting ./OA-G3-0/AMBER/APR/windows/a002/minimize.in\n",
      "Deleting ./OA-G3-0/AMBER/APR/windows/a002/minimize.out\n",
      "Deleting ./OA-G3-0/AMBER/APR/windows/a002/minimize.rst7\n",
      "Deleting ./OA-G3-0/AMBER/APR/windows/a002/minimize.mdinfo\n",
      "Deleting ./OA-G3-0/AMBER/APR/windows/a002/equil.0.in\n",
      "Deleting ./OA-G3-0/AMBER/APR/windows/a002/equil.0.out\n",
      "Deleting ./OA-G3-0/AMBER/APR/windows/a002/equil.0.nc\n",
      "Deleting ./OA-G3-0/AMBER/APR/windows/a002/equil.0.mden\n",
      "Deleting ./OA-G3-0/AMBER/APR/windows/a002/equil.0.rst7\n",
      "Deleting ./OA-G3-0/AMBER/APR/windows/a002/equil.0.mdinfo\n",
      "Deleting ./OA-G3-0/AMBER/APR/windows/a002/equil.rst7\n",
      "Deleting ./OA-G3-0/AMBER/APR/windows/a002/prod.001.in\n",
      "Deleting ./OA-G3-0/AMBER/APR/windows/a002/prod.001.out\n",
      "Deleting ./OA-G3-0/AMBER/APR/windows/a002/prod.001.nc\n",
      "Deleting ./OA-G3-0/AMBER/APR/windows/a002/prod.001.mden\n",
      "Deleting ./OA-G3-0/AMBER/APR/windows/a002/prod.001.mdinfo\n",
      "Deleting ./OA-G3-0/AMBER/APR/windows/a002/prod.001.rst7\n",
      "['./OA-G3-0/AMBER/APR/windows/a003/minimize.in', './OA-G3-0/AMBER/APR/windows/a003/minimize.out', './OA-G3-0/AMBER/APR/windows/a003/minimize.rst7', './OA-G3-0/AMBER/APR/windows/a003/minimize.mdinfo', './OA-G3-0/AMBER/APR/windows/a003/equil.0.in', './OA-G3-0/AMBER/APR/windows/a003/equil.0.out', './OA-G3-0/AMBER/APR/windows/a003/equil.0.nc', './OA-G3-0/AMBER/APR/windows/a003/equil.0.mden', './OA-G3-0/AMBER/APR/windows/a003/equil.0.rst7', './OA-G3-0/AMBER/APR/windows/a003/equil.0.mdinfo', './OA-G3-0/AMBER/APR/windows/a003/equil.rst7', './OA-G3-0/AMBER/APR/windows/a003/prod.001.in', './OA-G3-0/AMBER/APR/windows/a003/prod.001.out', './OA-G3-0/AMBER/APR/windows/a003/prod.001.nc', './OA-G3-0/AMBER/APR/windows/a003/prod.001.mden', './OA-G3-0/AMBER/APR/windows/a003/prod.001.mdinfo', './OA-G3-0/AMBER/APR/windows/a003/prod.001.rst7']\n",
      "Deleting ./OA-G3-0/AMBER/APR/windows/a003/minimize.in\n",
      "Deleting ./OA-G3-0/AMBER/APR/windows/a003/minimize.out\n",
      "Deleting ./OA-G3-0/AMBER/APR/windows/a003/minimize.rst7\n",
      "Deleting ./OA-G3-0/AMBER/APR/windows/a003/minimize.mdinfo\n",
      "Deleting ./OA-G3-0/AMBER/APR/windows/a003/equil.0.in\n",
      "Deleting ./OA-G3-0/AMBER/APR/windows/a003/equil.0.out\n",
      "Deleting ./OA-G3-0/AMBER/APR/windows/a003/equil.0.nc\n",
      "Deleting ./OA-G3-0/AMBER/APR/windows/a003/equil.0.mden\n",
      "Deleting ./OA-G3-0/AMBER/APR/windows/a003/equil.0.rst7\n",
      "Deleting ./OA-G3-0/AMBER/APR/windows/a003/equil.0.mdinfo\n",
      "Deleting ./OA-G3-0/AMBER/APR/windows/a003/equil.rst7\n",
      "Deleting ./OA-G3-0/AMBER/APR/windows/a003/prod.001.in\n",
      "Deleting ./OA-G3-0/AMBER/APR/windows/a003/prod.001.out\n",
      "Deleting ./OA-G3-0/AMBER/APR/windows/a003/prod.001.nc\n",
      "Deleting ./OA-G3-0/AMBER/APR/windows/a003/prod.001.mden\n",
      "Deleting ./OA-G3-0/AMBER/APR/windows/a003/prod.001.mdinfo\n",
      "Deleting ./OA-G3-0/AMBER/APR/windows/a003/prod.001.rst7\n",
      "['./OA-G3-0/AMBER/APR/windows/a004/minimize.in', './OA-G3-0/AMBER/APR/windows/a004/minimize.out', './OA-G3-0/AMBER/APR/windows/a004/minimize.rst7', './OA-G3-0/AMBER/APR/windows/a004/minimize.mdinfo', './OA-G3-0/AMBER/APR/windows/a004/equil.0.in', './OA-G3-0/AMBER/APR/windows/a004/equil.0.out', './OA-G3-0/AMBER/APR/windows/a004/equil.0.nc', './OA-G3-0/AMBER/APR/windows/a004/equil.0.mden', './OA-G3-0/AMBER/APR/windows/a004/equil.0.rst7', './OA-G3-0/AMBER/APR/windows/a004/equil.0.mdinfo', './OA-G3-0/AMBER/APR/windows/a004/equil.rst7', './OA-G3-0/AMBER/APR/windows/a004/prod.001.in', './OA-G3-0/AMBER/APR/windows/a004/prod.001.out', './OA-G3-0/AMBER/APR/windows/a004/prod.001.nc', './OA-G3-0/AMBER/APR/windows/a004/prod.001.mden', './OA-G3-0/AMBER/APR/windows/a004/prod.001.mdinfo', './OA-G3-0/AMBER/APR/windows/a004/prod.001.rst7']\n",
      "Deleting ./OA-G3-0/AMBER/APR/windows/a004/minimize.in\n",
      "Deleting ./OA-G3-0/AMBER/APR/windows/a004/minimize.out\n",
      "Deleting ./OA-G3-0/AMBER/APR/windows/a004/minimize.rst7\n",
      "Deleting ./OA-G3-0/AMBER/APR/windows/a004/minimize.mdinfo\n",
      "Deleting ./OA-G3-0/AMBER/APR/windows/a004/equil.0.in\n",
      "Deleting ./OA-G3-0/AMBER/APR/windows/a004/equil.0.out\n",
      "Deleting ./OA-G3-0/AMBER/APR/windows/a004/equil.0.nc\n",
      "Deleting ./OA-G3-0/AMBER/APR/windows/a004/equil.0.mden\n",
      "Deleting ./OA-G3-0/AMBER/APR/windows/a004/equil.0.rst7\n",
      "Deleting ./OA-G3-0/AMBER/APR/windows/a004/equil.0.mdinfo\n",
      "Deleting ./OA-G3-0/AMBER/APR/windows/a004/equil.rst7\n",
      "Deleting ./OA-G3-0/AMBER/APR/windows/a004/prod.001.in\n",
      "Deleting ./OA-G3-0/AMBER/APR/windows/a004/prod.001.out\n",
      "Deleting ./OA-G3-0/AMBER/APR/windows/a004/prod.001.nc\n",
      "Deleting ./OA-G3-0/AMBER/APR/windows/a004/prod.001.mden\n",
      "Deleting ./OA-G3-0/AMBER/APR/windows/a004/prod.001.mdinfo\n",
      "Deleting ./OA-G3-0/AMBER/APR/windows/a004/prod.001.rst7\n",
      "['./OA-G3-0/AMBER/APR/windows/a005/minimize.in', './OA-G3-0/AMBER/APR/windows/a005/minimize.out', './OA-G3-0/AMBER/APR/windows/a005/minimize.rst7', './OA-G3-0/AMBER/APR/windows/a005/minimize.mdinfo', './OA-G3-0/AMBER/APR/windows/a005/equil.0.in', './OA-G3-0/AMBER/APR/windows/a005/equil.0.out', './OA-G3-0/AMBER/APR/windows/a005/equil.0.nc', './OA-G3-0/AMBER/APR/windows/a005/equil.0.mden', './OA-G3-0/AMBER/APR/windows/a005/equil.0.rst7', './OA-G3-0/AMBER/APR/windows/a005/equil.0.mdinfo', './OA-G3-0/AMBER/APR/windows/a005/equil.rst7', './OA-G3-0/AMBER/APR/windows/a005/prod.001.in', './OA-G3-0/AMBER/APR/windows/a005/prod.001.out', './OA-G3-0/AMBER/APR/windows/a005/prod.001.nc', './OA-G3-0/AMBER/APR/windows/a005/prod.001.mden', './OA-G3-0/AMBER/APR/windows/a005/prod.001.mdinfo', './OA-G3-0/AMBER/APR/windows/a005/prod.001.rst7']\n",
      "Deleting ./OA-G3-0/AMBER/APR/windows/a005/minimize.in\n",
      "Deleting ./OA-G3-0/AMBER/APR/windows/a005/minimize.out\n",
      "Deleting ./OA-G3-0/AMBER/APR/windows/a005/minimize.rst7\n",
      "Deleting ./OA-G3-0/AMBER/APR/windows/a005/minimize.mdinfo\n",
      "Deleting ./OA-G3-0/AMBER/APR/windows/a005/equil.0.in\n",
      "Deleting ./OA-G3-0/AMBER/APR/windows/a005/equil.0.out\n",
      "Deleting ./OA-G3-0/AMBER/APR/windows/a005/equil.0.nc\n",
      "Deleting ./OA-G3-0/AMBER/APR/windows/a005/equil.0.mden\n",
      "Deleting ./OA-G3-0/AMBER/APR/windows/a005/equil.0.rst7\n",
      "Deleting ./OA-G3-0/AMBER/APR/windows/a005/equil.0.mdinfo\n",
      "Deleting ./OA-G3-0/AMBER/APR/windows/a005/equil.rst7\n",
      "Deleting ./OA-G3-0/AMBER/APR/windows/a005/prod.001.in\n",
      "Deleting ./OA-G3-0/AMBER/APR/windows/a005/prod.001.out\n",
      "Deleting ./OA-G3-0/AMBER/APR/windows/a005/prod.001.nc\n",
      "Deleting ./OA-G3-0/AMBER/APR/windows/a005/prod.001.mden\n",
      "Deleting ./OA-G3-0/AMBER/APR/windows/a005/prod.001.mdinfo\n",
      "Deleting ./OA-G3-0/AMBER/APR/windows/a005/prod.001.rst7\n",
      "['./OA-G3-0/AMBER/APR/windows/a006/minimize.in', './OA-G3-0/AMBER/APR/windows/a006/minimize.out', './OA-G3-0/AMBER/APR/windows/a006/minimize.rst7', './OA-G3-0/AMBER/APR/windows/a006/minimize.mdinfo', './OA-G3-0/AMBER/APR/windows/a006/equil.0.in', './OA-G3-0/AMBER/APR/windows/a006/equil.0.out', './OA-G3-0/AMBER/APR/windows/a006/equil.0.nc', './OA-G3-0/AMBER/APR/windows/a006/equil.0.mden', './OA-G3-0/AMBER/APR/windows/a006/equil.0.rst7', './OA-G3-0/AMBER/APR/windows/a006/equil.0.mdinfo', './OA-G3-0/AMBER/APR/windows/a006/equil.rst7', './OA-G3-0/AMBER/APR/windows/a006/prod.001.in', './OA-G3-0/AMBER/APR/windows/a006/prod.001.out', './OA-G3-0/AMBER/APR/windows/a006/prod.001.nc', './OA-G3-0/AMBER/APR/windows/a006/prod.001.mden', './OA-G3-0/AMBER/APR/windows/a006/prod.001.mdinfo', './OA-G3-0/AMBER/APR/windows/a006/prod.001.rst7']\n",
      "Deleting ./OA-G3-0/AMBER/APR/windows/a006/minimize.in\n",
      "Deleting ./OA-G3-0/AMBER/APR/windows/a006/minimize.out\n",
      "Deleting ./OA-G3-0/AMBER/APR/windows/a006/minimize.rst7\n",
      "Deleting ./OA-G3-0/AMBER/APR/windows/a006/minimize.mdinfo\n",
      "Deleting ./OA-G3-0/AMBER/APR/windows/a006/equil.0.in\n",
      "Deleting ./OA-G3-0/AMBER/APR/windows/a006/equil.0.out\n",
      "Deleting ./OA-G3-0/AMBER/APR/windows/a006/equil.0.nc\n",
      "Deleting ./OA-G3-0/AMBER/APR/windows/a006/equil.0.mden\n",
      "Deleting ./OA-G3-0/AMBER/APR/windows/a006/equil.0.rst7\n",
      "Deleting ./OA-G3-0/AMBER/APR/windows/a006/equil.0.mdinfo\n",
      "Deleting ./OA-G3-0/AMBER/APR/windows/a006/equil.rst7\n",
      "Deleting ./OA-G3-0/AMBER/APR/windows/a006/prod.001.in\n",
      "Deleting ./OA-G3-0/AMBER/APR/windows/a006/prod.001.out\n",
      "Deleting ./OA-G3-0/AMBER/APR/windows/a006/prod.001.nc\n",
      "Deleting ./OA-G3-0/AMBER/APR/windows/a006/prod.001.mden\n",
      "Deleting ./OA-G3-0/AMBER/APR/windows/a006/prod.001.mdinfo\n",
      "Deleting ./OA-G3-0/AMBER/APR/windows/a006/prod.001.rst7\n",
      "['./OA-G3-0/AMBER/APR/windows/a007/minimize.in', './OA-G3-0/AMBER/APR/windows/a007/minimize.out', './OA-G3-0/AMBER/APR/windows/a007/minimize.rst7', './OA-G3-0/AMBER/APR/windows/a007/minimize.mdinfo', './OA-G3-0/AMBER/APR/windows/a007/equil.0.in', './OA-G3-0/AMBER/APR/windows/a007/equil.0.out', './OA-G3-0/AMBER/APR/windows/a007/equil.0.nc', './OA-G3-0/AMBER/APR/windows/a007/equil.0.mden', './OA-G3-0/AMBER/APR/windows/a007/equil.0.rst7', './OA-G3-0/AMBER/APR/windows/a007/equil.0.mdinfo', './OA-G3-0/AMBER/APR/windows/a007/equil.rst7', './OA-G3-0/AMBER/APR/windows/a007/prod.001.in', './OA-G3-0/AMBER/APR/windows/a007/prod.001.out', './OA-G3-0/AMBER/APR/windows/a007/prod.001.nc', './OA-G3-0/AMBER/APR/windows/a007/prod.001.mden', './OA-G3-0/AMBER/APR/windows/a007/prod.001.mdinfo', './OA-G3-0/AMBER/APR/windows/a007/prod.001.rst7']\n",
      "Deleting ./OA-G3-0/AMBER/APR/windows/a007/minimize.in\n",
      "Deleting ./OA-G3-0/AMBER/APR/windows/a007/minimize.out\n",
      "Deleting ./OA-G3-0/AMBER/APR/windows/a007/minimize.rst7\n",
      "Deleting ./OA-G3-0/AMBER/APR/windows/a007/minimize.mdinfo\n",
      "Deleting ./OA-G3-0/AMBER/APR/windows/a007/equil.0.in\n",
      "Deleting ./OA-G3-0/AMBER/APR/windows/a007/equil.0.out\n",
      "Deleting ./OA-G3-0/AMBER/APR/windows/a007/equil.0.nc\n",
      "Deleting ./OA-G3-0/AMBER/APR/windows/a007/equil.0.mden\n",
      "Deleting ./OA-G3-0/AMBER/APR/windows/a007/equil.0.rst7\n",
      "Deleting ./OA-G3-0/AMBER/APR/windows/a007/equil.0.mdinfo\n",
      "Deleting ./OA-G3-0/AMBER/APR/windows/a007/equil.rst7\n",
      "Deleting ./OA-G3-0/AMBER/APR/windows/a007/prod.001.in\n",
      "Deleting ./OA-G3-0/AMBER/APR/windows/a007/prod.001.out\n",
      "Deleting ./OA-G3-0/AMBER/APR/windows/a007/prod.001.nc\n",
      "Deleting ./OA-G3-0/AMBER/APR/windows/a007/prod.001.mden\n",
      "Deleting ./OA-G3-0/AMBER/APR/windows/a007/prod.001.mdinfo\n",
      "Deleting ./OA-G3-0/AMBER/APR/windows/a007/prod.001.rst7\n",
      "['./OA-G3-0/AMBER/APR/windows/a008/minimize.in', './OA-G3-0/AMBER/APR/windows/a008/minimize.out', './OA-G3-0/AMBER/APR/windows/a008/minimize.rst7', './OA-G3-0/AMBER/APR/windows/a008/minimize.mdinfo', './OA-G3-0/AMBER/APR/windows/a008/equil.0.in', './OA-G3-0/AMBER/APR/windows/a008/equil.0.out', './OA-G3-0/AMBER/APR/windows/a008/equil.0.nc', './OA-G3-0/AMBER/APR/windows/a008/equil.0.mden', './OA-G3-0/AMBER/APR/windows/a008/equil.0.rst7', './OA-G3-0/AMBER/APR/windows/a008/equil.0.mdinfo', './OA-G3-0/AMBER/APR/windows/a008/equil.rst7', './OA-G3-0/AMBER/APR/windows/a008/prod.001.in', './OA-G3-0/AMBER/APR/windows/a008/prod.001.out', './OA-G3-0/AMBER/APR/windows/a008/prod.001.nc', './OA-G3-0/AMBER/APR/windows/a008/prod.001.mden', './OA-G3-0/AMBER/APR/windows/a008/prod.001.mdinfo', './OA-G3-0/AMBER/APR/windows/a008/prod.001.rst7']\n",
      "Deleting ./OA-G3-0/AMBER/APR/windows/a008/minimize.in\n",
      "Deleting ./OA-G3-0/AMBER/APR/windows/a008/minimize.out\n",
      "Deleting ./OA-G3-0/AMBER/APR/windows/a008/minimize.rst7\n",
      "Deleting ./OA-G3-0/AMBER/APR/windows/a008/minimize.mdinfo\n",
      "Deleting ./OA-G3-0/AMBER/APR/windows/a008/equil.0.in\n",
      "Deleting ./OA-G3-0/AMBER/APR/windows/a008/equil.0.out\n",
      "Deleting ./OA-G3-0/AMBER/APR/windows/a008/equil.0.nc\n",
      "Deleting ./OA-G3-0/AMBER/APR/windows/a008/equil.0.mden\n",
      "Deleting ./OA-G3-0/AMBER/APR/windows/a008/equil.0.rst7\n",
      "Deleting ./OA-G3-0/AMBER/APR/windows/a008/equil.0.mdinfo\n",
      "Deleting ./OA-G3-0/AMBER/APR/windows/a008/equil.rst7\n",
      "Deleting ./OA-G3-0/AMBER/APR/windows/a008/prod.001.in\n",
      "Deleting ./OA-G3-0/AMBER/APR/windows/a008/prod.001.out\n",
      "Deleting ./OA-G3-0/AMBER/APR/windows/a008/prod.001.nc\n",
      "Deleting ./OA-G3-0/AMBER/APR/windows/a008/prod.001.mden\n",
      "Deleting ./OA-G3-0/AMBER/APR/windows/a008/prod.001.mdinfo\n",
      "Deleting ./OA-G3-0/AMBER/APR/windows/a008/prod.001.rst7\n",
      "['./OA-G3-0/AMBER/APR/windows/a009/minimize.in', './OA-G3-0/AMBER/APR/windows/a009/minimize.out', './OA-G3-0/AMBER/APR/windows/a009/minimize.rst7', './OA-G3-0/AMBER/APR/windows/a009/minimize.mdinfo', './OA-G3-0/AMBER/APR/windows/a009/equil.0.in', './OA-G3-0/AMBER/APR/windows/a009/equil.0.out', './OA-G3-0/AMBER/APR/windows/a009/equil.0.nc', './OA-G3-0/AMBER/APR/windows/a009/equil.0.mden', './OA-G3-0/AMBER/APR/windows/a009/equil.0.rst7', './OA-G3-0/AMBER/APR/windows/a009/equil.0.mdinfo', './OA-G3-0/AMBER/APR/windows/a009/equil.rst7', './OA-G3-0/AMBER/APR/windows/a009/prod.001.in', './OA-G3-0/AMBER/APR/windows/a009/prod.001.out', './OA-G3-0/AMBER/APR/windows/a009/prod.001.nc', './OA-G3-0/AMBER/APR/windows/a009/prod.001.mden', './OA-G3-0/AMBER/APR/windows/a009/prod.001.mdinfo', './OA-G3-0/AMBER/APR/windows/a009/prod.001.rst7']\n",
      "Deleting ./OA-G3-0/AMBER/APR/windows/a009/minimize.in\n",
      "Deleting ./OA-G3-0/AMBER/APR/windows/a009/minimize.out\n",
      "Deleting ./OA-G3-0/AMBER/APR/windows/a009/minimize.rst7\n",
      "Deleting ./OA-G3-0/AMBER/APR/windows/a009/minimize.mdinfo\n",
      "Deleting ./OA-G3-0/AMBER/APR/windows/a009/equil.0.in\n",
      "Deleting ./OA-G3-0/AMBER/APR/windows/a009/equil.0.out\n",
      "Deleting ./OA-G3-0/AMBER/APR/windows/a009/equil.0.nc\n",
      "Deleting ./OA-G3-0/AMBER/APR/windows/a009/equil.0.mden\n",
      "Deleting ./OA-G3-0/AMBER/APR/windows/a009/equil.0.rst7\n",
      "Deleting ./OA-G3-0/AMBER/APR/windows/a009/equil.0.mdinfo\n",
      "Deleting ./OA-G3-0/AMBER/APR/windows/a009/equil.rst7\n",
      "Deleting ./OA-G3-0/AMBER/APR/windows/a009/prod.001.in\n",
      "Deleting ./OA-G3-0/AMBER/APR/windows/a009/prod.001.out\n",
      "Deleting ./OA-G3-0/AMBER/APR/windows/a009/prod.001.nc\n",
      "Deleting ./OA-G3-0/AMBER/APR/windows/a009/prod.001.mden\n",
      "Deleting ./OA-G3-0/AMBER/APR/windows/a009/prod.001.mdinfo\n",
      "Deleting ./OA-G3-0/AMBER/APR/windows/a009/prod.001.rst7\n",
      "['./OA-G3-0/AMBER/APR/windows/a010/minimize.in', './OA-G3-0/AMBER/APR/windows/a010/minimize.out', './OA-G3-0/AMBER/APR/windows/a010/minimize.rst7', './OA-G3-0/AMBER/APR/windows/a010/minimize.mdinfo', './OA-G3-0/AMBER/APR/windows/a010/equil.0.in', './OA-G3-0/AMBER/APR/windows/a010/equil.0.out', './OA-G3-0/AMBER/APR/windows/a010/equil.0.nc', './OA-G3-0/AMBER/APR/windows/a010/equil.0.mden', './OA-G3-0/AMBER/APR/windows/a010/equil.0.rst7', './OA-G3-0/AMBER/APR/windows/a010/equil.0.mdinfo', './OA-G3-0/AMBER/APR/windows/a010/equil.rst7', './OA-G3-0/AMBER/APR/windows/a010/prod.001.in', './OA-G3-0/AMBER/APR/windows/a010/prod.001.out', './OA-G3-0/AMBER/APR/windows/a010/prod.001.nc', './OA-G3-0/AMBER/APR/windows/a010/prod.001.mden', './OA-G3-0/AMBER/APR/windows/a010/prod.001.mdinfo', './OA-G3-0/AMBER/APR/windows/a010/prod.001.rst7']\n",
      "Deleting ./OA-G3-0/AMBER/APR/windows/a010/minimize.in\n",
      "Deleting ./OA-G3-0/AMBER/APR/windows/a010/minimize.out\n",
      "Deleting ./OA-G3-0/AMBER/APR/windows/a010/minimize.rst7\n",
      "Deleting ./OA-G3-0/AMBER/APR/windows/a010/minimize.mdinfo\n",
      "Deleting ./OA-G3-0/AMBER/APR/windows/a010/equil.0.in\n",
      "Deleting ./OA-G3-0/AMBER/APR/windows/a010/equil.0.out\n",
      "Deleting ./OA-G3-0/AMBER/APR/windows/a010/equil.0.nc\n",
      "Deleting ./OA-G3-0/AMBER/APR/windows/a010/equil.0.mden\n",
      "Deleting ./OA-G3-0/AMBER/APR/windows/a010/equil.0.rst7\n",
      "Deleting ./OA-G3-0/AMBER/APR/windows/a010/equil.0.mdinfo\n",
      "Deleting ./OA-G3-0/AMBER/APR/windows/a010/equil.rst7\n",
      "Deleting ./OA-G3-0/AMBER/APR/windows/a010/prod.001.in\n",
      "Deleting ./OA-G3-0/AMBER/APR/windows/a010/prod.001.out\n",
      "Deleting ./OA-G3-0/AMBER/APR/windows/a010/prod.001.nc\n",
      "Deleting ./OA-G3-0/AMBER/APR/windows/a010/prod.001.mden\n",
      "Deleting ./OA-G3-0/AMBER/APR/windows/a010/prod.001.mdinfo\n",
      "Deleting ./OA-G3-0/AMBER/APR/windows/a010/prod.001.rst7\n",
      "['./OA-G3-0/AMBER/APR/windows/a011/minimize.in', './OA-G3-0/AMBER/APR/windows/a011/minimize.out', './OA-G3-0/AMBER/APR/windows/a011/minimize.rst7', './OA-G3-0/AMBER/APR/windows/a011/minimize.mdinfo', './OA-G3-0/AMBER/APR/windows/a011/equil.0.in', './OA-G3-0/AMBER/APR/windows/a011/equil.0.out', './OA-G3-0/AMBER/APR/windows/a011/equil.0.nc', './OA-G3-0/AMBER/APR/windows/a011/equil.0.mden', './OA-G3-0/AMBER/APR/windows/a011/equil.0.rst7', './OA-G3-0/AMBER/APR/windows/a011/equil.0.mdinfo', './OA-G3-0/AMBER/APR/windows/a011/equil.rst7', './OA-G3-0/AMBER/APR/windows/a011/prod.001.in', './OA-G3-0/AMBER/APR/windows/a011/prod.001.out', './OA-G3-0/AMBER/APR/windows/a011/prod.001.nc', './OA-G3-0/AMBER/APR/windows/a011/prod.001.mden', './OA-G3-0/AMBER/APR/windows/a011/prod.001.mdinfo', './OA-G3-0/AMBER/APR/windows/a011/prod.001.rst7']\n",
      "Deleting ./OA-G3-0/AMBER/APR/windows/a011/minimize.in\n",
      "Deleting ./OA-G3-0/AMBER/APR/windows/a011/minimize.out\n",
      "Deleting ./OA-G3-0/AMBER/APR/windows/a011/minimize.rst7\n",
      "Deleting ./OA-G3-0/AMBER/APR/windows/a011/minimize.mdinfo\n",
      "Deleting ./OA-G3-0/AMBER/APR/windows/a011/equil.0.in\n",
      "Deleting ./OA-G3-0/AMBER/APR/windows/a011/equil.0.out\n",
      "Deleting ./OA-G3-0/AMBER/APR/windows/a011/equil.0.nc\n",
      "Deleting ./OA-G3-0/AMBER/APR/windows/a011/equil.0.mden\n",
      "Deleting ./OA-G3-0/AMBER/APR/windows/a011/equil.0.rst7\n",
      "Deleting ./OA-G3-0/AMBER/APR/windows/a011/equil.0.mdinfo\n",
      "Deleting ./OA-G3-0/AMBER/APR/windows/a011/equil.rst7\n",
      "Deleting ./OA-G3-0/AMBER/APR/windows/a011/prod.001.in\n",
      "Deleting ./OA-G3-0/AMBER/APR/windows/a011/prod.001.out\n",
      "Deleting ./OA-G3-0/AMBER/APR/windows/a011/prod.001.nc\n",
      "Deleting ./OA-G3-0/AMBER/APR/windows/a011/prod.001.mden\n",
      "Deleting ./OA-G3-0/AMBER/APR/windows/a011/prod.001.mdinfo\n",
      "Deleting ./OA-G3-0/AMBER/APR/windows/a011/prod.001.rst7\n",
      "['./OA-G3-0/AMBER/APR/windows/a012/minimize.in', './OA-G3-0/AMBER/APR/windows/a012/minimize.out', './OA-G3-0/AMBER/APR/windows/a012/minimize.rst7', './OA-G3-0/AMBER/APR/windows/a012/minimize.mdinfo', './OA-G3-0/AMBER/APR/windows/a012/equil.0.in', './OA-G3-0/AMBER/APR/windows/a012/equil.0.out', './OA-G3-0/AMBER/APR/windows/a012/equil.0.nc', './OA-G3-0/AMBER/APR/windows/a012/equil.0.mden', './OA-G3-0/AMBER/APR/windows/a012/equil.0.rst7', './OA-G3-0/AMBER/APR/windows/a012/equil.0.mdinfo', './OA-G3-0/AMBER/APR/windows/a012/equil.rst7', './OA-G3-0/AMBER/APR/windows/a012/prod.001.in', './OA-G3-0/AMBER/APR/windows/a012/prod.001.out', './OA-G3-0/AMBER/APR/windows/a012/prod.001.nc', './OA-G3-0/AMBER/APR/windows/a012/prod.001.mden', './OA-G3-0/AMBER/APR/windows/a012/prod.001.mdinfo', './OA-G3-0/AMBER/APR/windows/a012/prod.001.rst7']\n",
      "Deleting ./OA-G3-0/AMBER/APR/windows/a012/minimize.in\n",
      "Deleting ./OA-G3-0/AMBER/APR/windows/a012/minimize.out\n",
      "Deleting ./OA-G3-0/AMBER/APR/windows/a012/minimize.rst7\n",
      "Deleting ./OA-G3-0/AMBER/APR/windows/a012/minimize.mdinfo\n",
      "Deleting ./OA-G3-0/AMBER/APR/windows/a012/equil.0.in\n",
      "Deleting ./OA-G3-0/AMBER/APR/windows/a012/equil.0.out\n",
      "Deleting ./OA-G3-0/AMBER/APR/windows/a012/equil.0.nc\n",
      "Deleting ./OA-G3-0/AMBER/APR/windows/a012/equil.0.mden\n",
      "Deleting ./OA-G3-0/AMBER/APR/windows/a012/equil.0.rst7\n",
      "Deleting ./OA-G3-0/AMBER/APR/windows/a012/equil.0.mdinfo\n",
      "Deleting ./OA-G3-0/AMBER/APR/windows/a012/equil.rst7\n",
      "Deleting ./OA-G3-0/AMBER/APR/windows/a012/prod.001.in\n",
      "Deleting ./OA-G3-0/AMBER/APR/windows/a012/prod.001.out\n",
      "Deleting ./OA-G3-0/AMBER/APR/windows/a012/prod.001.nc\n",
      "Deleting ./OA-G3-0/AMBER/APR/windows/a012/prod.001.mden\n",
      "Deleting ./OA-G3-0/AMBER/APR/windows/a012/prod.001.mdinfo\n",
      "Deleting ./OA-G3-0/AMBER/APR/windows/a012/prod.001.rst7\n",
      "['./OA-G3-0/AMBER/APR/windows/a013/minimize.in', './OA-G3-0/AMBER/APR/windows/a013/minimize.out', './OA-G3-0/AMBER/APR/windows/a013/minimize.rst7', './OA-G3-0/AMBER/APR/windows/a013/minimize.mdinfo', './OA-G3-0/AMBER/APR/windows/a013/equil.0.in', './OA-G3-0/AMBER/APR/windows/a013/equil.0.out', './OA-G3-0/AMBER/APR/windows/a013/equil.0.nc', './OA-G3-0/AMBER/APR/windows/a013/equil.0.mden', './OA-G3-0/AMBER/APR/windows/a013/equil.0.rst7', './OA-G3-0/AMBER/APR/windows/a013/equil.0.mdinfo', './OA-G3-0/AMBER/APR/windows/a013/equil.rst7', './OA-G3-0/AMBER/APR/windows/a013/prod.001.in', './OA-G3-0/AMBER/APR/windows/a013/prod.001.out', './OA-G3-0/AMBER/APR/windows/a013/prod.001.nc', './OA-G3-0/AMBER/APR/windows/a013/prod.001.mden', './OA-G3-0/AMBER/APR/windows/a013/prod.001.mdinfo', './OA-G3-0/AMBER/APR/windows/a013/prod.001.rst7']\n",
      "Deleting ./OA-G3-0/AMBER/APR/windows/a013/minimize.in\n",
      "Deleting ./OA-G3-0/AMBER/APR/windows/a013/minimize.out\n",
      "Deleting ./OA-G3-0/AMBER/APR/windows/a013/minimize.rst7\n",
      "Deleting ./OA-G3-0/AMBER/APR/windows/a013/minimize.mdinfo\n",
      "Deleting ./OA-G3-0/AMBER/APR/windows/a013/equil.0.in\n",
      "Deleting ./OA-G3-0/AMBER/APR/windows/a013/equil.0.out\n",
      "Deleting ./OA-G3-0/AMBER/APR/windows/a013/equil.0.nc\n",
      "Deleting ./OA-G3-0/AMBER/APR/windows/a013/equil.0.mden\n",
      "Deleting ./OA-G3-0/AMBER/APR/windows/a013/equil.0.rst7\n",
      "Deleting ./OA-G3-0/AMBER/APR/windows/a013/equil.0.mdinfo\n",
      "Deleting ./OA-G3-0/AMBER/APR/windows/a013/equil.rst7\n",
      "Deleting ./OA-G3-0/AMBER/APR/windows/a013/prod.001.in\n",
      "Deleting ./OA-G3-0/AMBER/APR/windows/a013/prod.001.out\n",
      "Deleting ./OA-G3-0/AMBER/APR/windows/a013/prod.001.nc\n",
      "Deleting ./OA-G3-0/AMBER/APR/windows/a013/prod.001.mden\n",
      "Deleting ./OA-G3-0/AMBER/APR/windows/a013/prod.001.mdinfo\n",
      "Deleting ./OA-G3-0/AMBER/APR/windows/a013/prod.001.rst7\n",
      "['./OA-G3-0/AMBER/APR/windows/p000/minimize.in', './OA-G3-0/AMBER/APR/windows/p000/minimize.out', './OA-G3-0/AMBER/APR/windows/p000/minimize.rst7', './OA-G3-0/AMBER/APR/windows/p000/minimize.mdinfo', './OA-G3-0/AMBER/APR/windows/p000/equil.0.in', './OA-G3-0/AMBER/APR/windows/p000/equil.0.out', './OA-G3-0/AMBER/APR/windows/p000/equil.0.nc', './OA-G3-0/AMBER/APR/windows/p000/equil.0.mden', './OA-G3-0/AMBER/APR/windows/p000/equil.0.rst7', './OA-G3-0/AMBER/APR/windows/p000/equil.0.mdinfo', './OA-G3-0/AMBER/APR/windows/p000/equil.rst7', './OA-G3-0/AMBER/APR/windows/p000/prod.001.in', './OA-G3-0/AMBER/APR/windows/p000/prod.001.out', './OA-G3-0/AMBER/APR/windows/p000/prod.001.nc', './OA-G3-0/AMBER/APR/windows/p000/prod.001.mden', './OA-G3-0/AMBER/APR/windows/p000/prod.001.mdinfo', './OA-G3-0/AMBER/APR/windows/p000/prod.001.rst7']\n",
      "Deleting ./OA-G3-0/AMBER/APR/windows/p000/minimize.in\n",
      "Deleting ./OA-G3-0/AMBER/APR/windows/p000/minimize.out\n",
      "Deleting ./OA-G3-0/AMBER/APR/windows/p000/minimize.rst7\n",
      "Deleting ./OA-G3-0/AMBER/APR/windows/p000/minimize.mdinfo\n",
      "Deleting ./OA-G3-0/AMBER/APR/windows/p000/equil.0.in\n",
      "Deleting ./OA-G3-0/AMBER/APR/windows/p000/equil.0.out\n",
      "Deleting ./OA-G3-0/AMBER/APR/windows/p000/equil.0.nc\n",
      "Deleting ./OA-G3-0/AMBER/APR/windows/p000/equil.0.mden\n",
      "Deleting ./OA-G3-0/AMBER/APR/windows/p000/equil.0.rst7\n",
      "Deleting ./OA-G3-0/AMBER/APR/windows/p000/equil.0.mdinfo\n",
      "Deleting ./OA-G3-0/AMBER/APR/windows/p000/equil.rst7\n",
      "Deleting ./OA-G3-0/AMBER/APR/windows/p000/prod.001.in\n",
      "Deleting ./OA-G3-0/AMBER/APR/windows/p000/prod.001.out\n",
      "Deleting ./OA-G3-0/AMBER/APR/windows/p000/prod.001.nc\n",
      "Deleting ./OA-G3-0/AMBER/APR/windows/p000/prod.001.mden\n",
      "Deleting ./OA-G3-0/AMBER/APR/windows/p000/prod.001.mdinfo\n",
      "Deleting ./OA-G3-0/AMBER/APR/windows/p000/prod.001.rst7\n",
      "['./OA-G3-0/AMBER/APR/windows/p001/minimize.in', './OA-G3-0/AMBER/APR/windows/p001/minimize.out', './OA-G3-0/AMBER/APR/windows/p001/minimize.rst7', './OA-G3-0/AMBER/APR/windows/p001/minimize.mdinfo', './OA-G3-0/AMBER/APR/windows/p001/equil.0.in', './OA-G3-0/AMBER/APR/windows/p001/equil.0.out', './OA-G3-0/AMBER/APR/windows/p001/equil.0.nc', './OA-G3-0/AMBER/APR/windows/p001/equil.0.mden', './OA-G3-0/AMBER/APR/windows/p001/equil.0.rst7', './OA-G3-0/AMBER/APR/windows/p001/equil.0.mdinfo', './OA-G3-0/AMBER/APR/windows/p001/equil.rst7', './OA-G3-0/AMBER/APR/windows/p001/prod.001.in', './OA-G3-0/AMBER/APR/windows/p001/prod.001.out', './OA-G3-0/AMBER/APR/windows/p001/prod.001.nc', './OA-G3-0/AMBER/APR/windows/p001/prod.001.mden', './OA-G3-0/AMBER/APR/windows/p001/prod.001.mdinfo', './OA-G3-0/AMBER/APR/windows/p001/prod.001.rst7']\n",
      "Deleting ./OA-G3-0/AMBER/APR/windows/p001/minimize.in\n",
      "Deleting ./OA-G3-0/AMBER/APR/windows/p001/minimize.out\n",
      "Deleting ./OA-G3-0/AMBER/APR/windows/p001/minimize.rst7\n",
      "Deleting ./OA-G3-0/AMBER/APR/windows/p001/minimize.mdinfo\n",
      "Deleting ./OA-G3-0/AMBER/APR/windows/p001/equil.0.in\n",
      "Deleting ./OA-G3-0/AMBER/APR/windows/p001/equil.0.out\n",
      "Deleting ./OA-G3-0/AMBER/APR/windows/p001/equil.0.nc\n",
      "Deleting ./OA-G3-0/AMBER/APR/windows/p001/equil.0.mden\n",
      "Deleting ./OA-G3-0/AMBER/APR/windows/p001/equil.0.rst7\n",
      "Deleting ./OA-G3-0/AMBER/APR/windows/p001/equil.0.mdinfo\n",
      "Deleting ./OA-G3-0/AMBER/APR/windows/p001/equil.rst7\n",
      "Deleting ./OA-G3-0/AMBER/APR/windows/p001/prod.001.in\n",
      "Deleting ./OA-G3-0/AMBER/APR/windows/p001/prod.001.out\n",
      "Deleting ./OA-G3-0/AMBER/APR/windows/p001/prod.001.nc\n",
      "Deleting ./OA-G3-0/AMBER/APR/windows/p001/prod.001.mden\n",
      "Deleting ./OA-G3-0/AMBER/APR/windows/p001/prod.001.mdinfo\n",
      "Deleting ./OA-G3-0/AMBER/APR/windows/p001/prod.001.rst7\n",
      "['./OA-G3-0/AMBER/APR/windows/p002/minimize.in', './OA-G3-0/AMBER/APR/windows/p002/minimize.out', './OA-G3-0/AMBER/APR/windows/p002/minimize.rst7', './OA-G3-0/AMBER/APR/windows/p002/minimize.mdinfo', './OA-G3-0/AMBER/APR/windows/p002/equil.0.in', './OA-G3-0/AMBER/APR/windows/p002/equil.0.out', './OA-G3-0/AMBER/APR/windows/p002/equil.0.nc', './OA-G3-0/AMBER/APR/windows/p002/equil.0.mden', './OA-G3-0/AMBER/APR/windows/p002/equil.0.rst7', './OA-G3-0/AMBER/APR/windows/p002/equil.0.mdinfo', './OA-G3-0/AMBER/APR/windows/p002/equil.rst7', './OA-G3-0/AMBER/APR/windows/p002/prod.001.in', './OA-G3-0/AMBER/APR/windows/p002/prod.001.out', './OA-G3-0/AMBER/APR/windows/p002/prod.001.nc', './OA-G3-0/AMBER/APR/windows/p002/prod.001.mden', './OA-G3-0/AMBER/APR/windows/p002/prod.001.mdinfo', './OA-G3-0/AMBER/APR/windows/p002/prod.001.rst7']\n",
      "Deleting ./OA-G3-0/AMBER/APR/windows/p002/minimize.in\n",
      "Deleting ./OA-G3-0/AMBER/APR/windows/p002/minimize.out\n",
      "Deleting ./OA-G3-0/AMBER/APR/windows/p002/minimize.rst7\n",
      "Deleting ./OA-G3-0/AMBER/APR/windows/p002/minimize.mdinfo\n",
      "Deleting ./OA-G3-0/AMBER/APR/windows/p002/equil.0.in\n",
      "Deleting ./OA-G3-0/AMBER/APR/windows/p002/equil.0.out\n",
      "Deleting ./OA-G3-0/AMBER/APR/windows/p002/equil.0.nc\n",
      "Deleting ./OA-G3-0/AMBER/APR/windows/p002/equil.0.mden\n",
      "Deleting ./OA-G3-0/AMBER/APR/windows/p002/equil.0.rst7\n",
      "Deleting ./OA-G3-0/AMBER/APR/windows/p002/equil.0.mdinfo\n",
      "Deleting ./OA-G3-0/AMBER/APR/windows/p002/equil.rst7\n",
      "Deleting ./OA-G3-0/AMBER/APR/windows/p002/prod.001.in\n",
      "Deleting ./OA-G3-0/AMBER/APR/windows/p002/prod.001.out\n",
      "Deleting ./OA-G3-0/AMBER/APR/windows/p002/prod.001.nc\n",
      "Deleting ./OA-G3-0/AMBER/APR/windows/p002/prod.001.mden\n",
      "Deleting ./OA-G3-0/AMBER/APR/windows/p002/prod.001.mdinfo\n",
      "Deleting ./OA-G3-0/AMBER/APR/windows/p002/prod.001.rst7\n",
      "['./OA-G3-0/AMBER/APR/windows/p003/minimize.in', './OA-G3-0/AMBER/APR/windows/p003/minimize.out', './OA-G3-0/AMBER/APR/windows/p003/minimize.rst7', './OA-G3-0/AMBER/APR/windows/p003/minimize.mdinfo', './OA-G3-0/AMBER/APR/windows/p003/equil.0.in', './OA-G3-0/AMBER/APR/windows/p003/equil.0.out', './OA-G3-0/AMBER/APR/windows/p003/equil.0.nc', './OA-G3-0/AMBER/APR/windows/p003/equil.0.mden', './OA-G3-0/AMBER/APR/windows/p003/equil.0.rst7', './OA-G3-0/AMBER/APR/windows/p003/equil.0.mdinfo', './OA-G3-0/AMBER/APR/windows/p003/equil.rst7', './OA-G3-0/AMBER/APR/windows/p003/prod.001.in', './OA-G3-0/AMBER/APR/windows/p003/prod.001.out', './OA-G3-0/AMBER/APR/windows/p003/prod.001.nc', './OA-G3-0/AMBER/APR/windows/p003/prod.001.mden', './OA-G3-0/AMBER/APR/windows/p003/prod.001.mdinfo', './OA-G3-0/AMBER/APR/windows/p003/prod.001.rst7']\n",
      "Deleting ./OA-G3-0/AMBER/APR/windows/p003/minimize.in\n",
      "Deleting ./OA-G3-0/AMBER/APR/windows/p003/minimize.out\n",
      "Deleting ./OA-G3-0/AMBER/APR/windows/p003/minimize.rst7\n",
      "Deleting ./OA-G3-0/AMBER/APR/windows/p003/minimize.mdinfo\n",
      "Deleting ./OA-G3-0/AMBER/APR/windows/p003/equil.0.in\n",
      "Deleting ./OA-G3-0/AMBER/APR/windows/p003/equil.0.out\n",
      "Deleting ./OA-G3-0/AMBER/APR/windows/p003/equil.0.nc\n",
      "Deleting ./OA-G3-0/AMBER/APR/windows/p003/equil.0.mden\n",
      "Deleting ./OA-G3-0/AMBER/APR/windows/p003/equil.0.rst7\n",
      "Deleting ./OA-G3-0/AMBER/APR/windows/p003/equil.0.mdinfo\n",
      "Deleting ./OA-G3-0/AMBER/APR/windows/p003/equil.rst7\n",
      "Deleting ./OA-G3-0/AMBER/APR/windows/p003/prod.001.in\n",
      "Deleting ./OA-G3-0/AMBER/APR/windows/p003/prod.001.out\n",
      "Deleting ./OA-G3-0/AMBER/APR/windows/p003/prod.001.nc\n",
      "Deleting ./OA-G3-0/AMBER/APR/windows/p003/prod.001.mden\n",
      "Deleting ./OA-G3-0/AMBER/APR/windows/p003/prod.001.mdinfo\n",
      "Deleting ./OA-G3-0/AMBER/APR/windows/p003/prod.001.rst7\n",
      "['./OA-G3-0/AMBER/APR/windows/p004/minimize.in', './OA-G3-0/AMBER/APR/windows/p004/minimize.out', './OA-G3-0/AMBER/APR/windows/p004/minimize.rst7', './OA-G3-0/AMBER/APR/windows/p004/minimize.mdinfo', './OA-G3-0/AMBER/APR/windows/p004/equil.0.in', './OA-G3-0/AMBER/APR/windows/p004/equil.0.out', './OA-G3-0/AMBER/APR/windows/p004/equil.0.nc', './OA-G3-0/AMBER/APR/windows/p004/equil.0.mden', './OA-G3-0/AMBER/APR/windows/p004/equil.0.rst7', './OA-G3-0/AMBER/APR/windows/p004/equil.0.mdinfo', './OA-G3-0/AMBER/APR/windows/p004/equil.rst7', './OA-G3-0/AMBER/APR/windows/p004/prod.001.in', './OA-G3-0/AMBER/APR/windows/p004/prod.001.out', './OA-G3-0/AMBER/APR/windows/p004/prod.001.nc', './OA-G3-0/AMBER/APR/windows/p004/prod.001.mden', './OA-G3-0/AMBER/APR/windows/p004/prod.001.mdinfo', './OA-G3-0/AMBER/APR/windows/p004/prod.001.rst7']\n",
      "Deleting ./OA-G3-0/AMBER/APR/windows/p004/minimize.in\n",
      "Deleting ./OA-G3-0/AMBER/APR/windows/p004/minimize.out\n",
      "Deleting ./OA-G3-0/AMBER/APR/windows/p004/minimize.rst7\n",
      "Deleting ./OA-G3-0/AMBER/APR/windows/p004/minimize.mdinfo\n",
      "Deleting ./OA-G3-0/AMBER/APR/windows/p004/equil.0.in\n",
      "Deleting ./OA-G3-0/AMBER/APR/windows/p004/equil.0.out\n",
      "Deleting ./OA-G3-0/AMBER/APR/windows/p004/equil.0.nc\n",
      "Deleting ./OA-G3-0/AMBER/APR/windows/p004/equil.0.mden\n",
      "Deleting ./OA-G3-0/AMBER/APR/windows/p004/equil.0.rst7\n",
      "Deleting ./OA-G3-0/AMBER/APR/windows/p004/equil.0.mdinfo\n",
      "Deleting ./OA-G3-0/AMBER/APR/windows/p004/equil.rst7\n",
      "Deleting ./OA-G3-0/AMBER/APR/windows/p004/prod.001.in\n",
      "Deleting ./OA-G3-0/AMBER/APR/windows/p004/prod.001.out\n",
      "Deleting ./OA-G3-0/AMBER/APR/windows/p004/prod.001.nc\n",
      "Deleting ./OA-G3-0/AMBER/APR/windows/p004/prod.001.mden\n",
      "Deleting ./OA-G3-0/AMBER/APR/windows/p004/prod.001.mdinfo\n",
      "Deleting ./OA-G3-0/AMBER/APR/windows/p004/prod.001.rst7\n",
      "['./OA-G3-0/AMBER/APR/windows/p005/minimize.in', './OA-G3-0/AMBER/APR/windows/p005/minimize.out', './OA-G3-0/AMBER/APR/windows/p005/minimize.rst7', './OA-G3-0/AMBER/APR/windows/p005/minimize.mdinfo', './OA-G3-0/AMBER/APR/windows/p005/equil.0.in', './OA-G3-0/AMBER/APR/windows/p005/equil.0.out', './OA-G3-0/AMBER/APR/windows/p005/equil.0.nc', './OA-G3-0/AMBER/APR/windows/p005/equil.0.mden', './OA-G3-0/AMBER/APR/windows/p005/equil.0.rst7', './OA-G3-0/AMBER/APR/windows/p005/equil.0.mdinfo', './OA-G3-0/AMBER/APR/windows/p005/equil.rst7', './OA-G3-0/AMBER/APR/windows/p005/prod.001.in', './OA-G3-0/AMBER/APR/windows/p005/prod.001.out', './OA-G3-0/AMBER/APR/windows/p005/prod.001.nc', './OA-G3-0/AMBER/APR/windows/p005/prod.001.mden', './OA-G3-0/AMBER/APR/windows/p005/prod.001.mdinfo', './OA-G3-0/AMBER/APR/windows/p005/prod.001.rst7']\n",
      "Deleting ./OA-G3-0/AMBER/APR/windows/p005/minimize.in\n",
      "Deleting ./OA-G3-0/AMBER/APR/windows/p005/minimize.out\n",
      "Deleting ./OA-G3-0/AMBER/APR/windows/p005/minimize.rst7\n",
      "Deleting ./OA-G3-0/AMBER/APR/windows/p005/minimize.mdinfo\n",
      "Deleting ./OA-G3-0/AMBER/APR/windows/p005/equil.0.in\n",
      "Deleting ./OA-G3-0/AMBER/APR/windows/p005/equil.0.out\n",
      "Deleting ./OA-G3-0/AMBER/APR/windows/p005/equil.0.nc\n",
      "Deleting ./OA-G3-0/AMBER/APR/windows/p005/equil.0.mden\n",
      "Deleting ./OA-G3-0/AMBER/APR/windows/p005/equil.0.rst7\n",
      "Deleting ./OA-G3-0/AMBER/APR/windows/p005/equil.0.mdinfo\n",
      "Deleting ./OA-G3-0/AMBER/APR/windows/p005/equil.rst7\n",
      "Deleting ./OA-G3-0/AMBER/APR/windows/p005/prod.001.in\n",
      "Deleting ./OA-G3-0/AMBER/APR/windows/p005/prod.001.out\n",
      "Deleting ./OA-G3-0/AMBER/APR/windows/p005/prod.001.nc\n",
      "Deleting ./OA-G3-0/AMBER/APR/windows/p005/prod.001.mden\n",
      "Deleting ./OA-G3-0/AMBER/APR/windows/p005/prod.001.mdinfo\n",
      "Deleting ./OA-G3-0/AMBER/APR/windows/p005/prod.001.rst7\n",
      "['./OA-G3-0/AMBER/APR/windows/p006/minimize.in', './OA-G3-0/AMBER/APR/windows/p006/minimize.out', './OA-G3-0/AMBER/APR/windows/p006/minimize.rst7', './OA-G3-0/AMBER/APR/windows/p006/minimize.mdinfo', './OA-G3-0/AMBER/APR/windows/p006/equil.0.in', './OA-G3-0/AMBER/APR/windows/p006/equil.0.out', './OA-G3-0/AMBER/APR/windows/p006/equil.0.nc', './OA-G3-0/AMBER/APR/windows/p006/equil.0.mden', './OA-G3-0/AMBER/APR/windows/p006/equil.0.rst7', './OA-G3-0/AMBER/APR/windows/p006/equil.0.mdinfo', './OA-G3-0/AMBER/APR/windows/p006/equil.rst7', './OA-G3-0/AMBER/APR/windows/p006/prod.001.in', './OA-G3-0/AMBER/APR/windows/p006/prod.001.out', './OA-G3-0/AMBER/APR/windows/p006/prod.001.nc', './OA-G3-0/AMBER/APR/windows/p006/prod.001.mden', './OA-G3-0/AMBER/APR/windows/p006/prod.001.mdinfo', './OA-G3-0/AMBER/APR/windows/p006/prod.001.rst7']\n",
      "Deleting ./OA-G3-0/AMBER/APR/windows/p006/minimize.in\n",
      "Deleting ./OA-G3-0/AMBER/APR/windows/p006/minimize.out\n",
      "Deleting ./OA-G3-0/AMBER/APR/windows/p006/minimize.rst7\n",
      "Deleting ./OA-G3-0/AMBER/APR/windows/p006/minimize.mdinfo\n",
      "Deleting ./OA-G3-0/AMBER/APR/windows/p006/equil.0.in\n",
      "Deleting ./OA-G3-0/AMBER/APR/windows/p006/equil.0.out\n",
      "Deleting ./OA-G3-0/AMBER/APR/windows/p006/equil.0.nc\n",
      "Deleting ./OA-G3-0/AMBER/APR/windows/p006/equil.0.mden\n",
      "Deleting ./OA-G3-0/AMBER/APR/windows/p006/equil.0.rst7\n",
      "Deleting ./OA-G3-0/AMBER/APR/windows/p006/equil.0.mdinfo\n",
      "Deleting ./OA-G3-0/AMBER/APR/windows/p006/equil.rst7\n",
      "Deleting ./OA-G3-0/AMBER/APR/windows/p006/prod.001.in\n",
      "Deleting ./OA-G3-0/AMBER/APR/windows/p006/prod.001.out\n",
      "Deleting ./OA-G3-0/AMBER/APR/windows/p006/prod.001.nc\n",
      "Deleting ./OA-G3-0/AMBER/APR/windows/p006/prod.001.mden\n",
      "Deleting ./OA-G3-0/AMBER/APR/windows/p006/prod.001.mdinfo\n",
      "Deleting ./OA-G3-0/AMBER/APR/windows/p006/prod.001.rst7\n",
      "['./OA-G3-0/AMBER/APR/windows/p007/minimize.in', './OA-G3-0/AMBER/APR/windows/p007/minimize.out', './OA-G3-0/AMBER/APR/windows/p007/minimize.rst7', './OA-G3-0/AMBER/APR/windows/p007/minimize.mdinfo', './OA-G3-0/AMBER/APR/windows/p007/equil.0.in', './OA-G3-0/AMBER/APR/windows/p007/equil.0.out', './OA-G3-0/AMBER/APR/windows/p007/equil.0.nc', './OA-G3-0/AMBER/APR/windows/p007/equil.0.mden', './OA-G3-0/AMBER/APR/windows/p007/equil.0.rst7', './OA-G3-0/AMBER/APR/windows/p007/equil.0.mdinfo', './OA-G3-0/AMBER/APR/windows/p007/equil.rst7', './OA-G3-0/AMBER/APR/windows/p007/prod.001.in', './OA-G3-0/AMBER/APR/windows/p007/prod.001.out', './OA-G3-0/AMBER/APR/windows/p007/prod.001.nc', './OA-G3-0/AMBER/APR/windows/p007/prod.001.mden', './OA-G3-0/AMBER/APR/windows/p007/prod.001.mdinfo', './OA-G3-0/AMBER/APR/windows/p007/prod.001.rst7']\n",
      "Deleting ./OA-G3-0/AMBER/APR/windows/p007/minimize.in\n",
      "Deleting ./OA-G3-0/AMBER/APR/windows/p007/minimize.out\n",
      "Deleting ./OA-G3-0/AMBER/APR/windows/p007/minimize.rst7\n",
      "Deleting ./OA-G3-0/AMBER/APR/windows/p007/minimize.mdinfo\n",
      "Deleting ./OA-G3-0/AMBER/APR/windows/p007/equil.0.in\n",
      "Deleting ./OA-G3-0/AMBER/APR/windows/p007/equil.0.out\n",
      "Deleting ./OA-G3-0/AMBER/APR/windows/p007/equil.0.nc\n",
      "Deleting ./OA-G3-0/AMBER/APR/windows/p007/equil.0.mden\n",
      "Deleting ./OA-G3-0/AMBER/APR/windows/p007/equil.0.rst7\n",
      "Deleting ./OA-G3-0/AMBER/APR/windows/p007/equil.0.mdinfo\n",
      "Deleting ./OA-G3-0/AMBER/APR/windows/p007/equil.rst7\n",
      "Deleting ./OA-G3-0/AMBER/APR/windows/p007/prod.001.in\n",
      "Deleting ./OA-G3-0/AMBER/APR/windows/p007/prod.001.out\n",
      "Deleting ./OA-G3-0/AMBER/APR/windows/p007/prod.001.nc\n",
      "Deleting ./OA-G3-0/AMBER/APR/windows/p007/prod.001.mden\n",
      "Deleting ./OA-G3-0/AMBER/APR/windows/p007/prod.001.mdinfo\n",
      "Deleting ./OA-G3-0/AMBER/APR/windows/p007/prod.001.rst7\n",
      "['./OA-G3-0/AMBER/APR/windows/p008/minimize.in', './OA-G3-0/AMBER/APR/windows/p008/minimize.out', './OA-G3-0/AMBER/APR/windows/p008/minimize.rst7', './OA-G3-0/AMBER/APR/windows/p008/minimize.mdinfo', './OA-G3-0/AMBER/APR/windows/p008/equil.0.in', './OA-G3-0/AMBER/APR/windows/p008/equil.0.out', './OA-G3-0/AMBER/APR/windows/p008/equil.0.nc', './OA-G3-0/AMBER/APR/windows/p008/equil.0.mden', './OA-G3-0/AMBER/APR/windows/p008/equil.0.rst7', './OA-G3-0/AMBER/APR/windows/p008/equil.0.mdinfo', './OA-G3-0/AMBER/APR/windows/p008/equil.rst7', './OA-G3-0/AMBER/APR/windows/p008/prod.001.in', './OA-G3-0/AMBER/APR/windows/p008/prod.001.out', './OA-G3-0/AMBER/APR/windows/p008/prod.001.nc', './OA-G3-0/AMBER/APR/windows/p008/prod.001.mden', './OA-G3-0/AMBER/APR/windows/p008/prod.001.mdinfo', './OA-G3-0/AMBER/APR/windows/p008/prod.001.rst7']\n",
      "Deleting ./OA-G3-0/AMBER/APR/windows/p008/minimize.in\n",
      "Deleting ./OA-G3-0/AMBER/APR/windows/p008/minimize.out\n",
      "Deleting ./OA-G3-0/AMBER/APR/windows/p008/minimize.rst7\n",
      "Deleting ./OA-G3-0/AMBER/APR/windows/p008/minimize.mdinfo\n",
      "Deleting ./OA-G3-0/AMBER/APR/windows/p008/equil.0.in\n",
      "Deleting ./OA-G3-0/AMBER/APR/windows/p008/equil.0.out\n",
      "Deleting ./OA-G3-0/AMBER/APR/windows/p008/equil.0.nc\n",
      "Deleting ./OA-G3-0/AMBER/APR/windows/p008/equil.0.mden\n",
      "Deleting ./OA-G3-0/AMBER/APR/windows/p008/equil.0.rst7\n",
      "Deleting ./OA-G3-0/AMBER/APR/windows/p008/equil.0.mdinfo\n",
      "Deleting ./OA-G3-0/AMBER/APR/windows/p008/equil.rst7\n",
      "Deleting ./OA-G3-0/AMBER/APR/windows/p008/prod.001.in\n",
      "Deleting ./OA-G3-0/AMBER/APR/windows/p008/prod.001.out\n",
      "Deleting ./OA-G3-0/AMBER/APR/windows/p008/prod.001.nc\n",
      "Deleting ./OA-G3-0/AMBER/APR/windows/p008/prod.001.mden\n",
      "Deleting ./OA-G3-0/AMBER/APR/windows/p008/prod.001.mdinfo\n",
      "Deleting ./OA-G3-0/AMBER/APR/windows/p008/prod.001.rst7\n",
      "['./OA-G3-0/AMBER/APR/windows/p009/minimize.in', './OA-G3-0/AMBER/APR/windows/p009/minimize.out', './OA-G3-0/AMBER/APR/windows/p009/minimize.rst7', './OA-G3-0/AMBER/APR/windows/p009/minimize.mdinfo', './OA-G3-0/AMBER/APR/windows/p009/equil.0.in', './OA-G3-0/AMBER/APR/windows/p009/equil.0.out', './OA-G3-0/AMBER/APR/windows/p009/equil.0.nc', './OA-G3-0/AMBER/APR/windows/p009/equil.0.mden', './OA-G3-0/AMBER/APR/windows/p009/equil.0.rst7', './OA-G3-0/AMBER/APR/windows/p009/equil.0.mdinfo', './OA-G3-0/AMBER/APR/windows/p009/equil.rst7', './OA-G3-0/AMBER/APR/windows/p009/prod.001.in', './OA-G3-0/AMBER/APR/windows/p009/prod.001.out', './OA-G3-0/AMBER/APR/windows/p009/prod.001.nc', './OA-G3-0/AMBER/APR/windows/p009/prod.001.mden', './OA-G3-0/AMBER/APR/windows/p009/prod.001.mdinfo', './OA-G3-0/AMBER/APR/windows/p009/prod.001.rst7']\n",
      "Deleting ./OA-G3-0/AMBER/APR/windows/p009/minimize.in\n",
      "Deleting ./OA-G3-0/AMBER/APR/windows/p009/minimize.out\n",
      "Deleting ./OA-G3-0/AMBER/APR/windows/p009/minimize.rst7\n",
      "Deleting ./OA-G3-0/AMBER/APR/windows/p009/minimize.mdinfo\n",
      "Deleting ./OA-G3-0/AMBER/APR/windows/p009/equil.0.in\n",
      "Deleting ./OA-G3-0/AMBER/APR/windows/p009/equil.0.out\n",
      "Deleting ./OA-G3-0/AMBER/APR/windows/p009/equil.0.nc\n",
      "Deleting ./OA-G3-0/AMBER/APR/windows/p009/equil.0.mden\n",
      "Deleting ./OA-G3-0/AMBER/APR/windows/p009/equil.0.rst7\n",
      "Deleting ./OA-G3-0/AMBER/APR/windows/p009/equil.0.mdinfo\n",
      "Deleting ./OA-G3-0/AMBER/APR/windows/p009/equil.rst7\n",
      "Deleting ./OA-G3-0/AMBER/APR/windows/p009/prod.001.in\n",
      "Deleting ./OA-G3-0/AMBER/APR/windows/p009/prod.001.out\n",
      "Deleting ./OA-G3-0/AMBER/APR/windows/p009/prod.001.nc\n",
      "Deleting ./OA-G3-0/AMBER/APR/windows/p009/prod.001.mden\n",
      "Deleting ./OA-G3-0/AMBER/APR/windows/p009/prod.001.mdinfo\n",
      "Deleting ./OA-G3-0/AMBER/APR/windows/p009/prod.001.rst7\n",
      "['./OA-G3-0/AMBER/APR/windows/p010/minimize.in', './OA-G3-0/AMBER/APR/windows/p010/minimize.out', './OA-G3-0/AMBER/APR/windows/p010/minimize.rst7', './OA-G3-0/AMBER/APR/windows/p010/minimize.mdinfo', './OA-G3-0/AMBER/APR/windows/p010/equil.0.in', './OA-G3-0/AMBER/APR/windows/p010/equil.0.out', './OA-G3-0/AMBER/APR/windows/p010/equil.0.nc', './OA-G3-0/AMBER/APR/windows/p010/equil.0.mden', './OA-G3-0/AMBER/APR/windows/p010/equil.0.rst7', './OA-G3-0/AMBER/APR/windows/p010/equil.0.mdinfo', './OA-G3-0/AMBER/APR/windows/p010/equil.rst7', './OA-G3-0/AMBER/APR/windows/p010/prod.001.in', './OA-G3-0/AMBER/APR/windows/p010/prod.001.out', './OA-G3-0/AMBER/APR/windows/p010/prod.001.nc', './OA-G3-0/AMBER/APR/windows/p010/prod.001.mden', './OA-G3-0/AMBER/APR/windows/p010/prod.001.mdinfo', './OA-G3-0/AMBER/APR/windows/p010/prod.001.rst7']\n",
      "Deleting ./OA-G3-0/AMBER/APR/windows/p010/minimize.in\n",
      "Deleting ./OA-G3-0/AMBER/APR/windows/p010/minimize.out\n",
      "Deleting ./OA-G3-0/AMBER/APR/windows/p010/minimize.rst7\n",
      "Deleting ./OA-G3-0/AMBER/APR/windows/p010/minimize.mdinfo\n",
      "Deleting ./OA-G3-0/AMBER/APR/windows/p010/equil.0.in\n",
      "Deleting ./OA-G3-0/AMBER/APR/windows/p010/equil.0.out\n",
      "Deleting ./OA-G3-0/AMBER/APR/windows/p010/equil.0.nc\n",
      "Deleting ./OA-G3-0/AMBER/APR/windows/p010/equil.0.mden\n",
      "Deleting ./OA-G3-0/AMBER/APR/windows/p010/equil.0.rst7\n",
      "Deleting ./OA-G3-0/AMBER/APR/windows/p010/equil.0.mdinfo\n",
      "Deleting ./OA-G3-0/AMBER/APR/windows/p010/equil.rst7\n",
      "Deleting ./OA-G3-0/AMBER/APR/windows/p010/prod.001.in\n",
      "Deleting ./OA-G3-0/AMBER/APR/windows/p010/prod.001.out\n",
      "Deleting ./OA-G3-0/AMBER/APR/windows/p010/prod.001.nc\n",
      "Deleting ./OA-G3-0/AMBER/APR/windows/p010/prod.001.mden\n",
      "Deleting ./OA-G3-0/AMBER/APR/windows/p010/prod.001.mdinfo\n",
      "Deleting ./OA-G3-0/AMBER/APR/windows/p010/prod.001.rst7\n",
      "['./OA-G3-0/AMBER/APR/windows/p011/minimize.in', './OA-G3-0/AMBER/APR/windows/p011/minimize.out', './OA-G3-0/AMBER/APR/windows/p011/minimize.rst7', './OA-G3-0/AMBER/APR/windows/p011/minimize.mdinfo', './OA-G3-0/AMBER/APR/windows/p011/equil.0.in', './OA-G3-0/AMBER/APR/windows/p011/equil.0.out', './OA-G3-0/AMBER/APR/windows/p011/equil.0.nc', './OA-G3-0/AMBER/APR/windows/p011/equil.0.mden', './OA-G3-0/AMBER/APR/windows/p011/equil.0.rst7', './OA-G3-0/AMBER/APR/windows/p011/equil.0.mdinfo', './OA-G3-0/AMBER/APR/windows/p011/equil.rst7', './OA-G3-0/AMBER/APR/windows/p011/prod.001.in', './OA-G3-0/AMBER/APR/windows/p011/prod.001.out', './OA-G3-0/AMBER/APR/windows/p011/prod.001.nc', './OA-G3-0/AMBER/APR/windows/p011/prod.001.mden', './OA-G3-0/AMBER/APR/windows/p011/prod.001.mdinfo', './OA-G3-0/AMBER/APR/windows/p011/prod.001.rst7']\n",
      "Deleting ./OA-G3-0/AMBER/APR/windows/p011/minimize.in\n",
      "Deleting ./OA-G3-0/AMBER/APR/windows/p011/minimize.out\n",
      "Deleting ./OA-G3-0/AMBER/APR/windows/p011/minimize.rst7\n",
      "Deleting ./OA-G3-0/AMBER/APR/windows/p011/minimize.mdinfo\n",
      "Deleting ./OA-G3-0/AMBER/APR/windows/p011/equil.0.in\n",
      "Deleting ./OA-G3-0/AMBER/APR/windows/p011/equil.0.out\n",
      "Deleting ./OA-G3-0/AMBER/APR/windows/p011/equil.0.nc\n",
      "Deleting ./OA-G3-0/AMBER/APR/windows/p011/equil.0.mden\n",
      "Deleting ./OA-G3-0/AMBER/APR/windows/p011/equil.0.rst7\n",
      "Deleting ./OA-G3-0/AMBER/APR/windows/p011/equil.0.mdinfo\n",
      "Deleting ./OA-G3-0/AMBER/APR/windows/p011/equil.rst7\n",
      "Deleting ./OA-G3-0/AMBER/APR/windows/p011/prod.001.in\n",
      "Deleting ./OA-G3-0/AMBER/APR/windows/p011/prod.001.out\n",
      "Deleting ./OA-G3-0/AMBER/APR/windows/p011/prod.001.nc\n",
      "Deleting ./OA-G3-0/AMBER/APR/windows/p011/prod.001.mden\n",
      "Deleting ./OA-G3-0/AMBER/APR/windows/p011/prod.001.mdinfo\n",
      "Deleting ./OA-G3-0/AMBER/APR/windows/p011/prod.001.rst7\n",
      "['./OA-G3-0/AMBER/APR/windows/p012/minimize.in', './OA-G3-0/AMBER/APR/windows/p012/minimize.out', './OA-G3-0/AMBER/APR/windows/p012/minimize.rst7', './OA-G3-0/AMBER/APR/windows/p012/minimize.mdinfo', './OA-G3-0/AMBER/APR/windows/p012/equil.0.in', './OA-G3-0/AMBER/APR/windows/p012/equil.0.out', './OA-G3-0/AMBER/APR/windows/p012/equil.0.nc', './OA-G3-0/AMBER/APR/windows/p012/equil.0.mden', './OA-G3-0/AMBER/APR/windows/p012/equil.0.rst7', './OA-G3-0/AMBER/APR/windows/p012/equil.0.mdinfo', './OA-G3-0/AMBER/APR/windows/p012/equil.rst7', './OA-G3-0/AMBER/APR/windows/p012/prod.001.in', './OA-G3-0/AMBER/APR/windows/p012/prod.001.out', './OA-G3-0/AMBER/APR/windows/p012/prod.001.nc', './OA-G3-0/AMBER/APR/windows/p012/prod.001.mden', './OA-G3-0/AMBER/APR/windows/p012/prod.001.mdinfo', './OA-G3-0/AMBER/APR/windows/p012/prod.001.rst7']\n",
      "Deleting ./OA-G3-0/AMBER/APR/windows/p012/minimize.in\n",
      "Deleting ./OA-G3-0/AMBER/APR/windows/p012/minimize.out\n",
      "Deleting ./OA-G3-0/AMBER/APR/windows/p012/minimize.rst7\n",
      "Deleting ./OA-G3-0/AMBER/APR/windows/p012/minimize.mdinfo\n",
      "Deleting ./OA-G3-0/AMBER/APR/windows/p012/equil.0.in\n",
      "Deleting ./OA-G3-0/AMBER/APR/windows/p012/equil.0.out\n",
      "Deleting ./OA-G3-0/AMBER/APR/windows/p012/equil.0.nc\n",
      "Deleting ./OA-G3-0/AMBER/APR/windows/p012/equil.0.mden\n",
      "Deleting ./OA-G3-0/AMBER/APR/windows/p012/equil.0.rst7\n",
      "Deleting ./OA-G3-0/AMBER/APR/windows/p012/equil.0.mdinfo\n",
      "Deleting ./OA-G3-0/AMBER/APR/windows/p012/equil.rst7\n",
      "Deleting ./OA-G3-0/AMBER/APR/windows/p012/prod.001.in\n",
      "Deleting ./OA-G3-0/AMBER/APR/windows/p012/prod.001.out\n",
      "Deleting ./OA-G3-0/AMBER/APR/windows/p012/prod.001.nc\n",
      "Deleting ./OA-G3-0/AMBER/APR/windows/p012/prod.001.mden\n",
      "Deleting ./OA-G3-0/AMBER/APR/windows/p012/prod.001.mdinfo\n",
      "Deleting ./OA-G3-0/AMBER/APR/windows/p012/prod.001.rst7\n",
      "['./OA-G3-0/AMBER/APR/windows/p013/minimize.in', './OA-G3-0/AMBER/APR/windows/p013/minimize.out', './OA-G3-0/AMBER/APR/windows/p013/minimize.rst7', './OA-G3-0/AMBER/APR/windows/p013/minimize.mdinfo', './OA-G3-0/AMBER/APR/windows/p013/equil.0.in', './OA-G3-0/AMBER/APR/windows/p013/equil.0.out', './OA-G3-0/AMBER/APR/windows/p013/equil.0.nc', './OA-G3-0/AMBER/APR/windows/p013/equil.0.mden', './OA-G3-0/AMBER/APR/windows/p013/equil.0.rst7', './OA-G3-0/AMBER/APR/windows/p013/equil.0.mdinfo', './OA-G3-0/AMBER/APR/windows/p013/equil.rst7', './OA-G3-0/AMBER/APR/windows/p013/prod.001.in', './OA-G3-0/AMBER/APR/windows/p013/prod.001.out', './OA-G3-0/AMBER/APR/windows/p013/prod.001.nc', './OA-G3-0/AMBER/APR/windows/p013/prod.001.mden', './OA-G3-0/AMBER/APR/windows/p013/prod.001.mdinfo', './OA-G3-0/AMBER/APR/windows/p013/prod.001.rst7']\n",
      "Deleting ./OA-G3-0/AMBER/APR/windows/p013/minimize.in\n",
      "Deleting ./OA-G3-0/AMBER/APR/windows/p013/minimize.out\n",
      "Deleting ./OA-G3-0/AMBER/APR/windows/p013/minimize.rst7\n",
      "Deleting ./OA-G3-0/AMBER/APR/windows/p013/minimize.mdinfo\n",
      "Deleting ./OA-G3-0/AMBER/APR/windows/p013/equil.0.in\n",
      "Deleting ./OA-G3-0/AMBER/APR/windows/p013/equil.0.out\n",
      "Deleting ./OA-G3-0/AMBER/APR/windows/p013/equil.0.nc\n",
      "Deleting ./OA-G3-0/AMBER/APR/windows/p013/equil.0.mden\n",
      "Deleting ./OA-G3-0/AMBER/APR/windows/p013/equil.0.rst7\n",
      "Deleting ./OA-G3-0/AMBER/APR/windows/p013/equil.0.mdinfo\n",
      "Deleting ./OA-G3-0/AMBER/APR/windows/p013/equil.rst7\n",
      "Deleting ./OA-G3-0/AMBER/APR/windows/p013/prod.001.in\n",
      "Deleting ./OA-G3-0/AMBER/APR/windows/p013/prod.001.out\n",
      "Deleting ./OA-G3-0/AMBER/APR/windows/p013/prod.001.nc\n",
      "Deleting ./OA-G3-0/AMBER/APR/windows/p013/prod.001.mden\n",
      "Deleting ./OA-G3-0/AMBER/APR/windows/p013/prod.001.mdinfo\n",
      "Deleting ./OA-G3-0/AMBER/APR/windows/p013/prod.001.rst7\n",
      "['./OA-G3-0/AMBER/APR/windows/p014/minimize.in', './OA-G3-0/AMBER/APR/windows/p014/minimize.out', './OA-G3-0/AMBER/APR/windows/p014/minimize.rst7', './OA-G3-0/AMBER/APR/windows/p014/minimize.mdinfo', './OA-G3-0/AMBER/APR/windows/p014/equil.0.in', './OA-G3-0/AMBER/APR/windows/p014/equil.0.out', './OA-G3-0/AMBER/APR/windows/p014/equil.0.nc', './OA-G3-0/AMBER/APR/windows/p014/equil.0.mden', './OA-G3-0/AMBER/APR/windows/p014/equil.0.rst7', './OA-G3-0/AMBER/APR/windows/p014/equil.0.mdinfo', './OA-G3-0/AMBER/APR/windows/p014/equil.rst7', './OA-G3-0/AMBER/APR/windows/p014/prod.001.in', './OA-G3-0/AMBER/APR/windows/p014/prod.001.out', './OA-G3-0/AMBER/APR/windows/p014/prod.001.nc', './OA-G3-0/AMBER/APR/windows/p014/prod.001.mden', './OA-G3-0/AMBER/APR/windows/p014/prod.001.mdinfo', './OA-G3-0/AMBER/APR/windows/p014/prod.001.rst7']\n",
      "Deleting ./OA-G3-0/AMBER/APR/windows/p014/minimize.in\n",
      "Deleting ./OA-G3-0/AMBER/APR/windows/p014/minimize.out\n",
      "Deleting ./OA-G3-0/AMBER/APR/windows/p014/minimize.rst7\n",
      "Deleting ./OA-G3-0/AMBER/APR/windows/p014/minimize.mdinfo\n",
      "Deleting ./OA-G3-0/AMBER/APR/windows/p014/equil.0.in\n",
      "Deleting ./OA-G3-0/AMBER/APR/windows/p014/equil.0.out\n",
      "Deleting ./OA-G3-0/AMBER/APR/windows/p014/equil.0.nc\n",
      "Deleting ./OA-G3-0/AMBER/APR/windows/p014/equil.0.mden\n",
      "Deleting ./OA-G3-0/AMBER/APR/windows/p014/equil.0.rst7\n",
      "Deleting ./OA-G3-0/AMBER/APR/windows/p014/equil.0.mdinfo\n",
      "Deleting ./OA-G3-0/AMBER/APR/windows/p014/equil.rst7\n",
      "Deleting ./OA-G3-0/AMBER/APR/windows/p014/prod.001.in\n",
      "Deleting ./OA-G3-0/AMBER/APR/windows/p014/prod.001.out\n",
      "Deleting ./OA-G3-0/AMBER/APR/windows/p014/prod.001.nc\n",
      "Deleting ./OA-G3-0/AMBER/APR/windows/p014/prod.001.mden\n",
      "Deleting ./OA-G3-0/AMBER/APR/windows/p014/prod.001.mdinfo\n",
      "Deleting ./OA-G3-0/AMBER/APR/windows/p014/prod.001.rst7\n",
      "['./OA-G3-0/AMBER/APR/windows/p015/minimize.in', './OA-G3-0/AMBER/APR/windows/p015/minimize.out', './OA-G3-0/AMBER/APR/windows/p015/minimize.rst7', './OA-G3-0/AMBER/APR/windows/p015/minimize.mdinfo', './OA-G3-0/AMBER/APR/windows/p015/equil.0.in', './OA-G3-0/AMBER/APR/windows/p015/equil.0.out', './OA-G3-0/AMBER/APR/windows/p015/equil.0.nc', './OA-G3-0/AMBER/APR/windows/p015/equil.0.mden', './OA-G3-0/AMBER/APR/windows/p015/equil.0.rst7', './OA-G3-0/AMBER/APR/windows/p015/equil.0.mdinfo', './OA-G3-0/AMBER/APR/windows/p015/equil.rst7', './OA-G3-0/AMBER/APR/windows/p015/prod.001.in', './OA-G3-0/AMBER/APR/windows/p015/prod.001.out', './OA-G3-0/AMBER/APR/windows/p015/prod.001.nc', './OA-G3-0/AMBER/APR/windows/p015/prod.001.mden', './OA-G3-0/AMBER/APR/windows/p015/prod.001.mdinfo', './OA-G3-0/AMBER/APR/windows/p015/prod.001.rst7']\n",
      "Deleting ./OA-G3-0/AMBER/APR/windows/p015/minimize.in\n",
      "Deleting ./OA-G3-0/AMBER/APR/windows/p015/minimize.out\n",
      "Deleting ./OA-G3-0/AMBER/APR/windows/p015/minimize.rst7\n",
      "Deleting ./OA-G3-0/AMBER/APR/windows/p015/minimize.mdinfo\n",
      "Deleting ./OA-G3-0/AMBER/APR/windows/p015/equil.0.in\n",
      "Deleting ./OA-G3-0/AMBER/APR/windows/p015/equil.0.out\n",
      "Deleting ./OA-G3-0/AMBER/APR/windows/p015/equil.0.nc\n",
      "Deleting ./OA-G3-0/AMBER/APR/windows/p015/equil.0.mden\n",
      "Deleting ./OA-G3-0/AMBER/APR/windows/p015/equil.0.rst7\n",
      "Deleting ./OA-G3-0/AMBER/APR/windows/p015/equil.0.mdinfo\n",
      "Deleting ./OA-G3-0/AMBER/APR/windows/p015/equil.rst7\n",
      "Deleting ./OA-G3-0/AMBER/APR/windows/p015/prod.001.in\n",
      "Deleting ./OA-G3-0/AMBER/APR/windows/p015/prod.001.out\n",
      "Deleting ./OA-G3-0/AMBER/APR/windows/p015/prod.001.nc\n",
      "Deleting ./OA-G3-0/AMBER/APR/windows/p015/prod.001.mden\n",
      "Deleting ./OA-G3-0/AMBER/APR/windows/p015/prod.001.mdinfo\n",
      "Deleting ./OA-G3-0/AMBER/APR/windows/p015/prod.001.rst7\n",
      "['./OA-G3-0/AMBER/APR/windows/p016/minimize.in', './OA-G3-0/AMBER/APR/windows/p016/minimize.out', './OA-G3-0/AMBER/APR/windows/p016/minimize.rst7', './OA-G3-0/AMBER/APR/windows/p016/minimize.mdinfo', './OA-G3-0/AMBER/APR/windows/p016/equil.0.in', './OA-G3-0/AMBER/APR/windows/p016/equil.0.out', './OA-G3-0/AMBER/APR/windows/p016/equil.0.nc', './OA-G3-0/AMBER/APR/windows/p016/equil.0.mden', './OA-G3-0/AMBER/APR/windows/p016/equil.0.rst7', './OA-G3-0/AMBER/APR/windows/p016/equil.0.mdinfo', './OA-G3-0/AMBER/APR/windows/p016/equil.rst7', './OA-G3-0/AMBER/APR/windows/p016/prod.001.in', './OA-G3-0/AMBER/APR/windows/p016/prod.001.out', './OA-G3-0/AMBER/APR/windows/p016/prod.001.nc', './OA-G3-0/AMBER/APR/windows/p016/prod.001.mden', './OA-G3-0/AMBER/APR/windows/p016/prod.001.mdinfo', './OA-G3-0/AMBER/APR/windows/p016/prod.001.rst7']\n",
      "Deleting ./OA-G3-0/AMBER/APR/windows/p016/minimize.in\n",
      "Deleting ./OA-G3-0/AMBER/APR/windows/p016/minimize.out\n",
      "Deleting ./OA-G3-0/AMBER/APR/windows/p016/minimize.rst7\n",
      "Deleting ./OA-G3-0/AMBER/APR/windows/p016/minimize.mdinfo\n",
      "Deleting ./OA-G3-0/AMBER/APR/windows/p016/equil.0.in\n",
      "Deleting ./OA-G3-0/AMBER/APR/windows/p016/equil.0.out\n",
      "Deleting ./OA-G3-0/AMBER/APR/windows/p016/equil.0.nc\n",
      "Deleting ./OA-G3-0/AMBER/APR/windows/p016/equil.0.mden\n",
      "Deleting ./OA-G3-0/AMBER/APR/windows/p016/equil.0.rst7\n",
      "Deleting ./OA-G3-0/AMBER/APR/windows/p016/equil.0.mdinfo\n",
      "Deleting ./OA-G3-0/AMBER/APR/windows/p016/equil.rst7\n",
      "Deleting ./OA-G3-0/AMBER/APR/windows/p016/prod.001.in\n",
      "Deleting ./OA-G3-0/AMBER/APR/windows/p016/prod.001.out\n",
      "Deleting ./OA-G3-0/AMBER/APR/windows/p016/prod.001.nc\n",
      "Deleting ./OA-G3-0/AMBER/APR/windows/p016/prod.001.mden\n",
      "Deleting ./OA-G3-0/AMBER/APR/windows/p016/prod.001.mdinfo\n",
      "Deleting ./OA-G3-0/AMBER/APR/windows/p016/prod.001.rst7\n",
      "['./OA-G3-0/AMBER/APR/windows/p017/minimize.in', './OA-G3-0/AMBER/APR/windows/p017/minimize.out', './OA-G3-0/AMBER/APR/windows/p017/minimize.rst7', './OA-G3-0/AMBER/APR/windows/p017/minimize.mdinfo', './OA-G3-0/AMBER/APR/windows/p017/equil.0.in', './OA-G3-0/AMBER/APR/windows/p017/equil.0.out', './OA-G3-0/AMBER/APR/windows/p017/equil.0.nc', './OA-G3-0/AMBER/APR/windows/p017/equil.0.mden', './OA-G3-0/AMBER/APR/windows/p017/equil.0.rst7', './OA-G3-0/AMBER/APR/windows/p017/equil.0.mdinfo', './OA-G3-0/AMBER/APR/windows/p017/equil.rst7', './OA-G3-0/AMBER/APR/windows/p017/prod.001.in', './OA-G3-0/AMBER/APR/windows/p017/prod.001.out', './OA-G3-0/AMBER/APR/windows/p017/prod.001.nc', './OA-G3-0/AMBER/APR/windows/p017/prod.001.mden', './OA-G3-0/AMBER/APR/windows/p017/prod.001.mdinfo', './OA-G3-0/AMBER/APR/windows/p017/prod.001.rst7']\n",
      "Deleting ./OA-G3-0/AMBER/APR/windows/p017/minimize.in\n",
      "Deleting ./OA-G3-0/AMBER/APR/windows/p017/minimize.out\n",
      "Deleting ./OA-G3-0/AMBER/APR/windows/p017/minimize.rst7\n",
      "Deleting ./OA-G3-0/AMBER/APR/windows/p017/minimize.mdinfo\n",
      "Deleting ./OA-G3-0/AMBER/APR/windows/p017/equil.0.in\n",
      "Deleting ./OA-G3-0/AMBER/APR/windows/p017/equil.0.out\n",
      "Deleting ./OA-G3-0/AMBER/APR/windows/p017/equil.0.nc\n",
      "Deleting ./OA-G3-0/AMBER/APR/windows/p017/equil.0.mden\n",
      "Deleting ./OA-G3-0/AMBER/APR/windows/p017/equil.0.rst7\n",
      "Deleting ./OA-G3-0/AMBER/APR/windows/p017/equil.0.mdinfo\n",
      "Deleting ./OA-G3-0/AMBER/APR/windows/p017/equil.rst7\n",
      "Deleting ./OA-G3-0/AMBER/APR/windows/p017/prod.001.in\n",
      "Deleting ./OA-G3-0/AMBER/APR/windows/p017/prod.001.out\n",
      "Deleting ./OA-G3-0/AMBER/APR/windows/p017/prod.001.nc\n",
      "Deleting ./OA-G3-0/AMBER/APR/windows/p017/prod.001.mden\n",
      "Deleting ./OA-G3-0/AMBER/APR/windows/p017/prod.001.mdinfo\n",
      "Deleting ./OA-G3-0/AMBER/APR/windows/p017/prod.001.rst7\n",
      "['./OA-G3-0/AMBER/APR/windows/p018/minimize.in', './OA-G3-0/AMBER/APR/windows/p018/minimize.out', './OA-G3-0/AMBER/APR/windows/p018/minimize.rst7', './OA-G3-0/AMBER/APR/windows/p018/minimize.mdinfo', './OA-G3-0/AMBER/APR/windows/p018/equil.0.in', './OA-G3-0/AMBER/APR/windows/p018/equil.0.out', './OA-G3-0/AMBER/APR/windows/p018/equil.0.nc', './OA-G3-0/AMBER/APR/windows/p018/equil.0.mden', './OA-G3-0/AMBER/APR/windows/p018/equil.0.rst7', './OA-G3-0/AMBER/APR/windows/p018/equil.0.mdinfo', './OA-G3-0/AMBER/APR/windows/p018/equil.rst7', './OA-G3-0/AMBER/APR/windows/p018/prod.001.in', './OA-G3-0/AMBER/APR/windows/p018/prod.001.out', './OA-G3-0/AMBER/APR/windows/p018/prod.001.nc', './OA-G3-0/AMBER/APR/windows/p018/prod.001.mden', './OA-G3-0/AMBER/APR/windows/p018/prod.001.mdinfo', './OA-G3-0/AMBER/APR/windows/p018/prod.001.rst7']\n",
      "Deleting ./OA-G3-0/AMBER/APR/windows/p018/minimize.in\n",
      "Deleting ./OA-G3-0/AMBER/APR/windows/p018/minimize.out\n",
      "Deleting ./OA-G3-0/AMBER/APR/windows/p018/minimize.rst7\n",
      "Deleting ./OA-G3-0/AMBER/APR/windows/p018/minimize.mdinfo\n",
      "Deleting ./OA-G3-0/AMBER/APR/windows/p018/equil.0.in\n",
      "Deleting ./OA-G3-0/AMBER/APR/windows/p018/equil.0.out\n",
      "Deleting ./OA-G3-0/AMBER/APR/windows/p018/equil.0.nc\n",
      "Deleting ./OA-G3-0/AMBER/APR/windows/p018/equil.0.mden\n",
      "Deleting ./OA-G3-0/AMBER/APR/windows/p018/equil.0.rst7\n",
      "Deleting ./OA-G3-0/AMBER/APR/windows/p018/equil.0.mdinfo\n",
      "Deleting ./OA-G3-0/AMBER/APR/windows/p018/equil.rst7\n",
      "Deleting ./OA-G3-0/AMBER/APR/windows/p018/prod.001.in\n"
     ]
    },
    {
     "name": "stdout",
     "output_type": "stream",
     "text": [
      "Deleting ./OA-G3-0/AMBER/APR/windows/p018/prod.001.out\n",
      "Deleting ./OA-G3-0/AMBER/APR/windows/p018/prod.001.nc\n",
      "Deleting ./OA-G3-0/AMBER/APR/windows/p018/prod.001.mden\n",
      "Deleting ./OA-G3-0/AMBER/APR/windows/p018/prod.001.mdinfo\n",
      "Deleting ./OA-G3-0/AMBER/APR/windows/p018/prod.001.rst7\n",
      "['./OA-G3-0/AMBER/APR/windows/p019/minimize.in', './OA-G3-0/AMBER/APR/windows/p019/minimize.out', './OA-G3-0/AMBER/APR/windows/p019/minimize.rst7', './OA-G3-0/AMBER/APR/windows/p019/minimize.mdinfo', './OA-G3-0/AMBER/APR/windows/p019/equil.0.in', './OA-G3-0/AMBER/APR/windows/p019/equil.0.out', './OA-G3-0/AMBER/APR/windows/p019/equil.0.nc', './OA-G3-0/AMBER/APR/windows/p019/equil.0.mden', './OA-G3-0/AMBER/APR/windows/p019/equil.0.rst7', './OA-G3-0/AMBER/APR/windows/p019/equil.0.mdinfo', './OA-G3-0/AMBER/APR/windows/p019/equil.rst7', './OA-G3-0/AMBER/APR/windows/p019/prod.001.in', './OA-G3-0/AMBER/APR/windows/p019/prod.001.out', './OA-G3-0/AMBER/APR/windows/p019/prod.001.nc', './OA-G3-0/AMBER/APR/windows/p019/prod.001.mden', './OA-G3-0/AMBER/APR/windows/p019/prod.001.mdinfo', './OA-G3-0/AMBER/APR/windows/p019/prod.001.rst7']\n",
      "Deleting ./OA-G3-0/AMBER/APR/windows/p019/minimize.in\n",
      "Deleting ./OA-G3-0/AMBER/APR/windows/p019/minimize.out\n",
      "Deleting ./OA-G3-0/AMBER/APR/windows/p019/minimize.rst7\n",
      "Deleting ./OA-G3-0/AMBER/APR/windows/p019/minimize.mdinfo\n",
      "Deleting ./OA-G3-0/AMBER/APR/windows/p019/equil.0.in\n",
      "Deleting ./OA-G3-0/AMBER/APR/windows/p019/equil.0.out\n",
      "Deleting ./OA-G3-0/AMBER/APR/windows/p019/equil.0.nc\n",
      "Deleting ./OA-G3-0/AMBER/APR/windows/p019/equil.0.mden\n",
      "Deleting ./OA-G3-0/AMBER/APR/windows/p019/equil.0.rst7\n",
      "Deleting ./OA-G3-0/AMBER/APR/windows/p019/equil.0.mdinfo\n",
      "Deleting ./OA-G3-0/AMBER/APR/windows/p019/equil.rst7\n",
      "Deleting ./OA-G3-0/AMBER/APR/windows/p019/prod.001.in\n",
      "Deleting ./OA-G3-0/AMBER/APR/windows/p019/prod.001.out\n",
      "Deleting ./OA-G3-0/AMBER/APR/windows/p019/prod.001.nc\n",
      "Deleting ./OA-G3-0/AMBER/APR/windows/p019/prod.001.mden\n",
      "Deleting ./OA-G3-0/AMBER/APR/windows/p019/prod.001.mdinfo\n",
      "Deleting ./OA-G3-0/AMBER/APR/windows/p019/prod.001.rst7\n",
      "['./OA-G3-0/AMBER/APR/windows/p020/minimize.in', './OA-G3-0/AMBER/APR/windows/p020/minimize.out', './OA-G3-0/AMBER/APR/windows/p020/minimize.rst7', './OA-G3-0/AMBER/APR/windows/p020/minimize.mdinfo', './OA-G3-0/AMBER/APR/windows/p020/equil.0.in', './OA-G3-0/AMBER/APR/windows/p020/equil.0.out', './OA-G3-0/AMBER/APR/windows/p020/equil.0.nc', './OA-G3-0/AMBER/APR/windows/p020/equil.0.mden', './OA-G3-0/AMBER/APR/windows/p020/equil.0.rst7', './OA-G3-0/AMBER/APR/windows/p020/equil.0.mdinfo', './OA-G3-0/AMBER/APR/windows/p020/equil.rst7', './OA-G3-0/AMBER/APR/windows/p020/prod.001.in', './OA-G3-0/AMBER/APR/windows/p020/prod.001.out', './OA-G3-0/AMBER/APR/windows/p020/prod.001.nc', './OA-G3-0/AMBER/APR/windows/p020/prod.001.mden', './OA-G3-0/AMBER/APR/windows/p020/prod.001.mdinfo', './OA-G3-0/AMBER/APR/windows/p020/prod.001.rst7']\n",
      "Deleting ./OA-G3-0/AMBER/APR/windows/p020/minimize.in\n",
      "Deleting ./OA-G3-0/AMBER/APR/windows/p020/minimize.out\n",
      "Deleting ./OA-G3-0/AMBER/APR/windows/p020/minimize.rst7\n",
      "Deleting ./OA-G3-0/AMBER/APR/windows/p020/minimize.mdinfo\n",
      "Deleting ./OA-G3-0/AMBER/APR/windows/p020/equil.0.in\n",
      "Deleting ./OA-G3-0/AMBER/APR/windows/p020/equil.0.out\n",
      "Deleting ./OA-G3-0/AMBER/APR/windows/p020/equil.0.nc\n",
      "Deleting ./OA-G3-0/AMBER/APR/windows/p020/equil.0.mden\n",
      "Deleting ./OA-G3-0/AMBER/APR/windows/p020/equil.0.rst7\n",
      "Deleting ./OA-G3-0/AMBER/APR/windows/p020/equil.0.mdinfo\n",
      "Deleting ./OA-G3-0/AMBER/APR/windows/p020/equil.rst7\n",
      "Deleting ./OA-G3-0/AMBER/APR/windows/p020/prod.001.in\n",
      "Deleting ./OA-G3-0/AMBER/APR/windows/p020/prod.001.out\n",
      "Deleting ./OA-G3-0/AMBER/APR/windows/p020/prod.001.nc\n",
      "Deleting ./OA-G3-0/AMBER/APR/windows/p020/prod.001.mden\n",
      "Deleting ./OA-G3-0/AMBER/APR/windows/p020/prod.001.mdinfo\n",
      "Deleting ./OA-G3-0/AMBER/APR/windows/p020/prod.001.rst7\n",
      "['./OA-G3-0/AMBER/APR/windows/p021/minimize.in', './OA-G3-0/AMBER/APR/windows/p021/minimize.out', './OA-G3-0/AMBER/APR/windows/p021/minimize.rst7', './OA-G3-0/AMBER/APR/windows/p021/minimize.mdinfo', './OA-G3-0/AMBER/APR/windows/p021/equil.0.in', './OA-G3-0/AMBER/APR/windows/p021/equil.0.out', './OA-G3-0/AMBER/APR/windows/p021/equil.0.nc', './OA-G3-0/AMBER/APR/windows/p021/equil.0.mden', './OA-G3-0/AMBER/APR/windows/p021/equil.0.rst7', './OA-G3-0/AMBER/APR/windows/p021/equil.0.mdinfo', './OA-G3-0/AMBER/APR/windows/p021/equil.rst7', './OA-G3-0/AMBER/APR/windows/p021/prod.001.in', './OA-G3-0/AMBER/APR/windows/p021/prod.001.out', './OA-G3-0/AMBER/APR/windows/p021/prod.001.nc', './OA-G3-0/AMBER/APR/windows/p021/prod.001.mden', './OA-G3-0/AMBER/APR/windows/p021/prod.001.mdinfo', './OA-G3-0/AMBER/APR/windows/p021/prod.001.rst7']\n",
      "Deleting ./OA-G3-0/AMBER/APR/windows/p021/minimize.in\n",
      "Deleting ./OA-G3-0/AMBER/APR/windows/p021/minimize.out\n",
      "Deleting ./OA-G3-0/AMBER/APR/windows/p021/minimize.rst7\n",
      "Deleting ./OA-G3-0/AMBER/APR/windows/p021/minimize.mdinfo\n",
      "Deleting ./OA-G3-0/AMBER/APR/windows/p021/equil.0.in\n",
      "Deleting ./OA-G3-0/AMBER/APR/windows/p021/equil.0.out\n",
      "Deleting ./OA-G3-0/AMBER/APR/windows/p021/equil.0.nc\n",
      "Deleting ./OA-G3-0/AMBER/APR/windows/p021/equil.0.mden\n",
      "Deleting ./OA-G3-0/AMBER/APR/windows/p021/equil.0.rst7\n",
      "Deleting ./OA-G3-0/AMBER/APR/windows/p021/equil.0.mdinfo\n",
      "Deleting ./OA-G3-0/AMBER/APR/windows/p021/equil.rst7\n",
      "Deleting ./OA-G3-0/AMBER/APR/windows/p021/prod.001.in\n",
      "Deleting ./OA-G3-0/AMBER/APR/windows/p021/prod.001.out\n",
      "Deleting ./OA-G3-0/AMBER/APR/windows/p021/prod.001.nc\n",
      "Deleting ./OA-G3-0/AMBER/APR/windows/p021/prod.001.mden\n",
      "Deleting ./OA-G3-0/AMBER/APR/windows/p021/prod.001.mdinfo\n",
      "Deleting ./OA-G3-0/AMBER/APR/windows/p021/prod.001.rst7\n",
      "['./OA-G3-0/AMBER/APR/windows/p022/minimize.in', './OA-G3-0/AMBER/APR/windows/p022/minimize.out', './OA-G3-0/AMBER/APR/windows/p022/minimize.rst7', './OA-G3-0/AMBER/APR/windows/p022/minimize.mdinfo', './OA-G3-0/AMBER/APR/windows/p022/equil.0.in', './OA-G3-0/AMBER/APR/windows/p022/equil.0.out', './OA-G3-0/AMBER/APR/windows/p022/equil.0.nc', './OA-G3-0/AMBER/APR/windows/p022/equil.0.mden', './OA-G3-0/AMBER/APR/windows/p022/equil.0.rst7', './OA-G3-0/AMBER/APR/windows/p022/equil.0.mdinfo', './OA-G3-0/AMBER/APR/windows/p022/equil.rst7', './OA-G3-0/AMBER/APR/windows/p022/prod.001.in', './OA-G3-0/AMBER/APR/windows/p022/prod.001.out', './OA-G3-0/AMBER/APR/windows/p022/prod.001.nc', './OA-G3-0/AMBER/APR/windows/p022/prod.001.mden', './OA-G3-0/AMBER/APR/windows/p022/prod.001.mdinfo', './OA-G3-0/AMBER/APR/windows/p022/prod.001.rst7']\n",
      "Deleting ./OA-G3-0/AMBER/APR/windows/p022/minimize.in\n",
      "Deleting ./OA-G3-0/AMBER/APR/windows/p022/minimize.out\n",
      "Deleting ./OA-G3-0/AMBER/APR/windows/p022/minimize.rst7\n",
      "Deleting ./OA-G3-0/AMBER/APR/windows/p022/minimize.mdinfo\n",
      "Deleting ./OA-G3-0/AMBER/APR/windows/p022/equil.0.in\n",
      "Deleting ./OA-G3-0/AMBER/APR/windows/p022/equil.0.out\n",
      "Deleting ./OA-G3-0/AMBER/APR/windows/p022/equil.0.nc\n",
      "Deleting ./OA-G3-0/AMBER/APR/windows/p022/equil.0.mden\n",
      "Deleting ./OA-G3-0/AMBER/APR/windows/p022/equil.0.rst7\n",
      "Deleting ./OA-G3-0/AMBER/APR/windows/p022/equil.0.mdinfo\n",
      "Deleting ./OA-G3-0/AMBER/APR/windows/p022/equil.rst7\n",
      "Deleting ./OA-G3-0/AMBER/APR/windows/p022/prod.001.in\n",
      "Deleting ./OA-G3-0/AMBER/APR/windows/p022/prod.001.out\n",
      "Deleting ./OA-G3-0/AMBER/APR/windows/p022/prod.001.nc\n",
      "Deleting ./OA-G3-0/AMBER/APR/windows/p022/prod.001.mden\n",
      "Deleting ./OA-G3-0/AMBER/APR/windows/p022/prod.001.mdinfo\n",
      "Deleting ./OA-G3-0/AMBER/APR/windows/p022/prod.001.rst7\n",
      "['./OA-G3-0/AMBER/APR/windows/p023/minimize.in', './OA-G3-0/AMBER/APR/windows/p023/minimize.out', './OA-G3-0/AMBER/APR/windows/p023/minimize.rst7', './OA-G3-0/AMBER/APR/windows/p023/minimize.mdinfo', './OA-G3-0/AMBER/APR/windows/p023/equil.0.in', './OA-G3-0/AMBER/APR/windows/p023/equil.0.out', './OA-G3-0/AMBER/APR/windows/p023/equil.0.nc', './OA-G3-0/AMBER/APR/windows/p023/equil.0.mden', './OA-G3-0/AMBER/APR/windows/p023/equil.0.rst7', './OA-G3-0/AMBER/APR/windows/p023/equil.0.mdinfo', './OA-G3-0/AMBER/APR/windows/p023/equil.rst7', './OA-G3-0/AMBER/APR/windows/p023/prod.001.in', './OA-G3-0/AMBER/APR/windows/p023/prod.001.out', './OA-G3-0/AMBER/APR/windows/p023/prod.001.nc', './OA-G3-0/AMBER/APR/windows/p023/prod.001.mden', './OA-G3-0/AMBER/APR/windows/p023/prod.001.mdinfo', './OA-G3-0/AMBER/APR/windows/p023/prod.001.rst7']\n",
      "Deleting ./OA-G3-0/AMBER/APR/windows/p023/minimize.in\n",
      "Deleting ./OA-G3-0/AMBER/APR/windows/p023/minimize.out\n",
      "Deleting ./OA-G3-0/AMBER/APR/windows/p023/minimize.rst7\n",
      "Deleting ./OA-G3-0/AMBER/APR/windows/p023/minimize.mdinfo\n",
      "Deleting ./OA-G3-0/AMBER/APR/windows/p023/equil.0.in\n",
      "Deleting ./OA-G3-0/AMBER/APR/windows/p023/equil.0.out\n",
      "Deleting ./OA-G3-0/AMBER/APR/windows/p023/equil.0.nc\n",
      "Deleting ./OA-G3-0/AMBER/APR/windows/p023/equil.0.mden\n",
      "Deleting ./OA-G3-0/AMBER/APR/windows/p023/equil.0.rst7\n",
      "Deleting ./OA-G3-0/AMBER/APR/windows/p023/equil.0.mdinfo\n",
      "Deleting ./OA-G3-0/AMBER/APR/windows/p023/equil.rst7\n",
      "Deleting ./OA-G3-0/AMBER/APR/windows/p023/prod.001.in\n",
      "Deleting ./OA-G3-0/AMBER/APR/windows/p023/prod.001.out\n",
      "Deleting ./OA-G3-0/AMBER/APR/windows/p023/prod.001.nc\n",
      "Deleting ./OA-G3-0/AMBER/APR/windows/p023/prod.001.mden\n",
      "Deleting ./OA-G3-0/AMBER/APR/windows/p023/prod.001.mdinfo\n",
      "Deleting ./OA-G3-0/AMBER/APR/windows/p023/prod.001.rst7\n",
      "['./OA-G3-0/AMBER/APR/windows/p024/minimize.in', './OA-G3-0/AMBER/APR/windows/p024/minimize.out', './OA-G3-0/AMBER/APR/windows/p024/minimize.rst7', './OA-G3-0/AMBER/APR/windows/p024/minimize.mdinfo', './OA-G3-0/AMBER/APR/windows/p024/equil.0.in', './OA-G3-0/AMBER/APR/windows/p024/equil.0.out', './OA-G3-0/AMBER/APR/windows/p024/equil.0.nc', './OA-G3-0/AMBER/APR/windows/p024/equil.0.mden', './OA-G3-0/AMBER/APR/windows/p024/equil.0.rst7', './OA-G3-0/AMBER/APR/windows/p024/equil.0.mdinfo', './OA-G3-0/AMBER/APR/windows/p024/equil.rst7', './OA-G3-0/AMBER/APR/windows/p024/prod.001.in', './OA-G3-0/AMBER/APR/windows/p024/prod.001.out', './OA-G3-0/AMBER/APR/windows/p024/prod.001.nc', './OA-G3-0/AMBER/APR/windows/p024/prod.001.mden', './OA-G3-0/AMBER/APR/windows/p024/prod.001.mdinfo', './OA-G3-0/AMBER/APR/windows/p024/prod.001.rst7']\n",
      "Deleting ./OA-G3-0/AMBER/APR/windows/p024/minimize.in\n",
      "Deleting ./OA-G3-0/AMBER/APR/windows/p024/minimize.out\n",
      "Deleting ./OA-G3-0/AMBER/APR/windows/p024/minimize.rst7\n",
      "Deleting ./OA-G3-0/AMBER/APR/windows/p024/minimize.mdinfo\n",
      "Deleting ./OA-G3-0/AMBER/APR/windows/p024/equil.0.in\n",
      "Deleting ./OA-G3-0/AMBER/APR/windows/p024/equil.0.out\n",
      "Deleting ./OA-G3-0/AMBER/APR/windows/p024/equil.0.nc\n",
      "Deleting ./OA-G3-0/AMBER/APR/windows/p024/equil.0.mden\n",
      "Deleting ./OA-G3-0/AMBER/APR/windows/p024/equil.0.rst7\n",
      "Deleting ./OA-G3-0/AMBER/APR/windows/p024/equil.0.mdinfo\n",
      "Deleting ./OA-G3-0/AMBER/APR/windows/p024/equil.rst7\n",
      "Deleting ./OA-G3-0/AMBER/APR/windows/p024/prod.001.in\n",
      "Deleting ./OA-G3-0/AMBER/APR/windows/p024/prod.001.out\n",
      "Deleting ./OA-G3-0/AMBER/APR/windows/p024/prod.001.nc\n",
      "Deleting ./OA-G3-0/AMBER/APR/windows/p024/prod.001.mden\n",
      "Deleting ./OA-G3-0/AMBER/APR/windows/p024/prod.001.mdinfo\n",
      "Deleting ./OA-G3-0/AMBER/APR/windows/p024/prod.001.rst7\n",
      "['./OA-G3-0/AMBER/APR/windows/p025/minimize.in', './OA-G3-0/AMBER/APR/windows/p025/minimize.out', './OA-G3-0/AMBER/APR/windows/p025/minimize.rst7', './OA-G3-0/AMBER/APR/windows/p025/minimize.mdinfo', './OA-G3-0/AMBER/APR/windows/p025/equil.0.in', './OA-G3-0/AMBER/APR/windows/p025/equil.0.out', './OA-G3-0/AMBER/APR/windows/p025/equil.0.nc', './OA-G3-0/AMBER/APR/windows/p025/equil.0.mden', './OA-G3-0/AMBER/APR/windows/p025/equil.0.rst7', './OA-G3-0/AMBER/APR/windows/p025/equil.0.mdinfo', './OA-G3-0/AMBER/APR/windows/p025/equil.rst7', './OA-G3-0/AMBER/APR/windows/p025/prod.001.in', './OA-G3-0/AMBER/APR/windows/p025/prod.001.out', './OA-G3-0/AMBER/APR/windows/p025/prod.001.nc', './OA-G3-0/AMBER/APR/windows/p025/prod.001.mden', './OA-G3-0/AMBER/APR/windows/p025/prod.001.mdinfo', './OA-G3-0/AMBER/APR/windows/p025/prod.001.rst7']\n",
      "Deleting ./OA-G3-0/AMBER/APR/windows/p025/minimize.in\n",
      "Deleting ./OA-G3-0/AMBER/APR/windows/p025/minimize.out\n",
      "Deleting ./OA-G3-0/AMBER/APR/windows/p025/minimize.rst7\n",
      "Deleting ./OA-G3-0/AMBER/APR/windows/p025/minimize.mdinfo\n",
      "Deleting ./OA-G3-0/AMBER/APR/windows/p025/equil.0.in\n",
      "Deleting ./OA-G3-0/AMBER/APR/windows/p025/equil.0.out\n",
      "Deleting ./OA-G3-0/AMBER/APR/windows/p025/equil.0.nc\n",
      "Deleting ./OA-G3-0/AMBER/APR/windows/p025/equil.0.mden\n",
      "Deleting ./OA-G3-0/AMBER/APR/windows/p025/equil.0.rst7\n",
      "Deleting ./OA-G3-0/AMBER/APR/windows/p025/equil.0.mdinfo\n",
      "Deleting ./OA-G3-0/AMBER/APR/windows/p025/equil.rst7\n",
      "Deleting ./OA-G3-0/AMBER/APR/windows/p025/prod.001.in\n",
      "Deleting ./OA-G3-0/AMBER/APR/windows/p025/prod.001.out\n",
      "Deleting ./OA-G3-0/AMBER/APR/windows/p025/prod.001.nc\n",
      "Deleting ./OA-G3-0/AMBER/APR/windows/p025/prod.001.mden\n",
      "Deleting ./OA-G3-0/AMBER/APR/windows/p025/prod.001.mdinfo\n",
      "Deleting ./OA-G3-0/AMBER/APR/windows/p025/prod.001.rst7\n",
      "['./OA-G3-0/AMBER/APR/windows/p026/minimize.in', './OA-G3-0/AMBER/APR/windows/p026/minimize.out', './OA-G3-0/AMBER/APR/windows/p026/minimize.rst7', './OA-G3-0/AMBER/APR/windows/p026/minimize.mdinfo', './OA-G3-0/AMBER/APR/windows/p026/equil.0.in', './OA-G3-0/AMBER/APR/windows/p026/equil.0.out', './OA-G3-0/AMBER/APR/windows/p026/equil.0.nc', './OA-G3-0/AMBER/APR/windows/p026/equil.0.mden', './OA-G3-0/AMBER/APR/windows/p026/equil.0.rst7', './OA-G3-0/AMBER/APR/windows/p026/equil.0.mdinfo', './OA-G3-0/AMBER/APR/windows/p026/equil.rst7', './OA-G3-0/AMBER/APR/windows/p026/prod.001.in', './OA-G3-0/AMBER/APR/windows/p026/prod.001.out', './OA-G3-0/AMBER/APR/windows/p026/prod.001.nc', './OA-G3-0/AMBER/APR/windows/p026/prod.001.mden', './OA-G3-0/AMBER/APR/windows/p026/prod.001.mdinfo', './OA-G3-0/AMBER/APR/windows/p026/prod.001.rst7']\n",
      "Deleting ./OA-G3-0/AMBER/APR/windows/p026/minimize.in\n",
      "Deleting ./OA-G3-0/AMBER/APR/windows/p026/minimize.out\n",
      "Deleting ./OA-G3-0/AMBER/APR/windows/p026/minimize.rst7\n",
      "Deleting ./OA-G3-0/AMBER/APR/windows/p026/minimize.mdinfo\n",
      "Deleting ./OA-G3-0/AMBER/APR/windows/p026/equil.0.in\n",
      "Deleting ./OA-G3-0/AMBER/APR/windows/p026/equil.0.out\n",
      "Deleting ./OA-G3-0/AMBER/APR/windows/p026/equil.0.nc\n",
      "Deleting ./OA-G3-0/AMBER/APR/windows/p026/equil.0.mden\n",
      "Deleting ./OA-G3-0/AMBER/APR/windows/p026/equil.0.rst7\n",
      "Deleting ./OA-G3-0/AMBER/APR/windows/p026/equil.0.mdinfo\n",
      "Deleting ./OA-G3-0/AMBER/APR/windows/p026/equil.rst7\n",
      "Deleting ./OA-G3-0/AMBER/APR/windows/p026/prod.001.in\n",
      "Deleting ./OA-G3-0/AMBER/APR/windows/p026/prod.001.out\n",
      "Deleting ./OA-G3-0/AMBER/APR/windows/p026/prod.001.nc\n",
      "Deleting ./OA-G3-0/AMBER/APR/windows/p026/prod.001.mden\n",
      "Deleting ./OA-G3-0/AMBER/APR/windows/p026/prod.001.mdinfo\n",
      "Deleting ./OA-G3-0/AMBER/APR/windows/p026/prod.001.rst7\n",
      "['./OA-G3-0/AMBER/APR/windows/p027/minimize.in', './OA-G3-0/AMBER/APR/windows/p027/minimize.out', './OA-G3-0/AMBER/APR/windows/p027/minimize.rst7', './OA-G3-0/AMBER/APR/windows/p027/minimize.mdinfo', './OA-G3-0/AMBER/APR/windows/p027/equil.0.in', './OA-G3-0/AMBER/APR/windows/p027/equil.0.out', './OA-G3-0/AMBER/APR/windows/p027/equil.0.nc', './OA-G3-0/AMBER/APR/windows/p027/equil.0.mden', './OA-G3-0/AMBER/APR/windows/p027/equil.0.rst7', './OA-G3-0/AMBER/APR/windows/p027/equil.0.mdinfo', './OA-G3-0/AMBER/APR/windows/p027/equil.rst7', './OA-G3-0/AMBER/APR/windows/p027/prod.001.in', './OA-G3-0/AMBER/APR/windows/p027/prod.001.out', './OA-G3-0/AMBER/APR/windows/p027/prod.001.nc', './OA-G3-0/AMBER/APR/windows/p027/prod.001.mden', './OA-G3-0/AMBER/APR/windows/p027/prod.001.mdinfo', './OA-G3-0/AMBER/APR/windows/p027/prod.001.rst7']\n",
      "Deleting ./OA-G3-0/AMBER/APR/windows/p027/minimize.in\n",
      "Deleting ./OA-G3-0/AMBER/APR/windows/p027/minimize.out\n",
      "Deleting ./OA-G3-0/AMBER/APR/windows/p027/minimize.rst7\n",
      "Deleting ./OA-G3-0/AMBER/APR/windows/p027/minimize.mdinfo\n",
      "Deleting ./OA-G3-0/AMBER/APR/windows/p027/equil.0.in\n",
      "Deleting ./OA-G3-0/AMBER/APR/windows/p027/equil.0.out\n",
      "Deleting ./OA-G3-0/AMBER/APR/windows/p027/equil.0.nc\n",
      "Deleting ./OA-G3-0/AMBER/APR/windows/p027/equil.0.mden\n",
      "Deleting ./OA-G3-0/AMBER/APR/windows/p027/equil.0.rst7\n",
      "Deleting ./OA-G3-0/AMBER/APR/windows/p027/equil.0.mdinfo\n",
      "Deleting ./OA-G3-0/AMBER/APR/windows/p027/equil.rst7\n",
      "Deleting ./OA-G3-0/AMBER/APR/windows/p027/prod.001.in\n",
      "Deleting ./OA-G3-0/AMBER/APR/windows/p027/prod.001.out\n",
      "Deleting ./OA-G3-0/AMBER/APR/windows/p027/prod.001.nc\n",
      "Deleting ./OA-G3-0/AMBER/APR/windows/p027/prod.001.mden\n",
      "Deleting ./OA-G3-0/AMBER/APR/windows/p027/prod.001.mdinfo\n",
      "Deleting ./OA-G3-0/AMBER/APR/windows/p027/prod.001.rst7\n",
      "['./OA-G3-0/AMBER/APR/windows/p028/minimize.in', './OA-G3-0/AMBER/APR/windows/p028/minimize.out', './OA-G3-0/AMBER/APR/windows/p028/minimize.rst7', './OA-G3-0/AMBER/APR/windows/p028/minimize.mdinfo', './OA-G3-0/AMBER/APR/windows/p028/equil.0.in', './OA-G3-0/AMBER/APR/windows/p028/equil.0.out', './OA-G3-0/AMBER/APR/windows/p028/equil.0.nc', './OA-G3-0/AMBER/APR/windows/p028/equil.0.mden', './OA-G3-0/AMBER/APR/windows/p028/equil.0.rst7', './OA-G3-0/AMBER/APR/windows/p028/equil.0.mdinfo', './OA-G3-0/AMBER/APR/windows/p028/equil.rst7', './OA-G3-0/AMBER/APR/windows/p028/prod.001.in', './OA-G3-0/AMBER/APR/windows/p028/prod.001.out', './OA-G3-0/AMBER/APR/windows/p028/prod.001.nc', './OA-G3-0/AMBER/APR/windows/p028/prod.001.mden', './OA-G3-0/AMBER/APR/windows/p028/prod.001.mdinfo', './OA-G3-0/AMBER/APR/windows/p028/prod.001.rst7']\n",
      "Deleting ./OA-G3-0/AMBER/APR/windows/p028/minimize.in\n",
      "Deleting ./OA-G3-0/AMBER/APR/windows/p028/minimize.out\n",
      "Deleting ./OA-G3-0/AMBER/APR/windows/p028/minimize.rst7\n",
      "Deleting ./OA-G3-0/AMBER/APR/windows/p028/minimize.mdinfo\n",
      "Deleting ./OA-G3-0/AMBER/APR/windows/p028/equil.0.in\n",
      "Deleting ./OA-G3-0/AMBER/APR/windows/p028/equil.0.out\n",
      "Deleting ./OA-G3-0/AMBER/APR/windows/p028/equil.0.nc\n",
      "Deleting ./OA-G3-0/AMBER/APR/windows/p028/equil.0.mden\n",
      "Deleting ./OA-G3-0/AMBER/APR/windows/p028/equil.0.rst7\n",
      "Deleting ./OA-G3-0/AMBER/APR/windows/p028/equil.0.mdinfo\n",
      "Deleting ./OA-G3-0/AMBER/APR/windows/p028/equil.rst7\n",
      "Deleting ./OA-G3-0/AMBER/APR/windows/p028/prod.001.in\n",
      "Deleting ./OA-G3-0/AMBER/APR/windows/p028/prod.001.out\n",
      "Deleting ./OA-G3-0/AMBER/APR/windows/p028/prod.001.nc\n",
      "Deleting ./OA-G3-0/AMBER/APR/windows/p028/prod.001.mden\n",
      "Deleting ./OA-G3-0/AMBER/APR/windows/p028/prod.001.mdinfo\n",
      "Deleting ./OA-G3-0/AMBER/APR/windows/p028/prod.001.rst7\n",
      "['./OA-G3-0/AMBER/APR/windows/p029/minimize.in', './OA-G3-0/AMBER/APR/windows/p029/minimize.out', './OA-G3-0/AMBER/APR/windows/p029/minimize.rst7', './OA-G3-0/AMBER/APR/windows/p029/minimize.mdinfo', './OA-G3-0/AMBER/APR/windows/p029/equil.0.in', './OA-G3-0/AMBER/APR/windows/p029/equil.0.out', './OA-G3-0/AMBER/APR/windows/p029/equil.0.nc', './OA-G3-0/AMBER/APR/windows/p029/equil.0.mden', './OA-G3-0/AMBER/APR/windows/p029/equil.0.rst7', './OA-G3-0/AMBER/APR/windows/p029/equil.0.mdinfo', './OA-G3-0/AMBER/APR/windows/p029/equil.rst7', './OA-G3-0/AMBER/APR/windows/p029/prod.001.in', './OA-G3-0/AMBER/APR/windows/p029/prod.001.out', './OA-G3-0/AMBER/APR/windows/p029/prod.001.nc', './OA-G3-0/AMBER/APR/windows/p029/prod.001.mden', './OA-G3-0/AMBER/APR/windows/p029/prod.001.mdinfo', './OA-G3-0/AMBER/APR/windows/p029/prod.001.rst7']\n",
      "Deleting ./OA-G3-0/AMBER/APR/windows/p029/minimize.in\n",
      "Deleting ./OA-G3-0/AMBER/APR/windows/p029/minimize.out\n",
      "Deleting ./OA-G3-0/AMBER/APR/windows/p029/minimize.rst7\n",
      "Deleting ./OA-G3-0/AMBER/APR/windows/p029/minimize.mdinfo\n",
      "Deleting ./OA-G3-0/AMBER/APR/windows/p029/equil.0.in\n",
      "Deleting ./OA-G3-0/AMBER/APR/windows/p029/equil.0.out\n",
      "Deleting ./OA-G3-0/AMBER/APR/windows/p029/equil.0.nc\n",
      "Deleting ./OA-G3-0/AMBER/APR/windows/p029/equil.0.mden\n",
      "Deleting ./OA-G3-0/AMBER/APR/windows/p029/equil.0.rst7\n",
      "Deleting ./OA-G3-0/AMBER/APR/windows/p029/equil.0.mdinfo\n",
      "Deleting ./OA-G3-0/AMBER/APR/windows/p029/equil.rst7\n",
      "Deleting ./OA-G3-0/AMBER/APR/windows/p029/prod.001.in\n",
      "Deleting ./OA-G3-0/AMBER/APR/windows/p029/prod.001.out\n",
      "Deleting ./OA-G3-0/AMBER/APR/windows/p029/prod.001.nc\n",
      "Deleting ./OA-G3-0/AMBER/APR/windows/p029/prod.001.mden\n",
      "Deleting ./OA-G3-0/AMBER/APR/windows/p029/prod.001.mdinfo\n",
      "Deleting ./OA-G3-0/AMBER/APR/windows/p029/prod.001.rst7\n",
      "['./OA-G3-0/AMBER/APR/windows/p030/minimize.in', './OA-G3-0/AMBER/APR/windows/p030/minimize.out', './OA-G3-0/AMBER/APR/windows/p030/minimize.rst7', './OA-G3-0/AMBER/APR/windows/p030/minimize.mdinfo', './OA-G3-0/AMBER/APR/windows/p030/equil.0.in', './OA-G3-0/AMBER/APR/windows/p030/equil.0.out', './OA-G3-0/AMBER/APR/windows/p030/equil.0.nc', './OA-G3-0/AMBER/APR/windows/p030/equil.0.mden', './OA-G3-0/AMBER/APR/windows/p030/equil.0.rst7', './OA-G3-0/AMBER/APR/windows/p030/equil.0.mdinfo', './OA-G3-0/AMBER/APR/windows/p030/equil.rst7', './OA-G3-0/AMBER/APR/windows/p030/prod.001.in', './OA-G3-0/AMBER/APR/windows/p030/prod.001.out', './OA-G3-0/AMBER/APR/windows/p030/prod.001.nc', './OA-G3-0/AMBER/APR/windows/p030/prod.001.mden', './OA-G3-0/AMBER/APR/windows/p030/prod.001.mdinfo', './OA-G3-0/AMBER/APR/windows/p030/prod.001.rst7']\n",
      "Deleting ./OA-G3-0/AMBER/APR/windows/p030/minimize.in\n",
      "Deleting ./OA-G3-0/AMBER/APR/windows/p030/minimize.out\n",
      "Deleting ./OA-G3-0/AMBER/APR/windows/p030/minimize.rst7\n",
      "Deleting ./OA-G3-0/AMBER/APR/windows/p030/minimize.mdinfo\n",
      "Deleting ./OA-G3-0/AMBER/APR/windows/p030/equil.0.in\n",
      "Deleting ./OA-G3-0/AMBER/APR/windows/p030/equil.0.out\n",
      "Deleting ./OA-G3-0/AMBER/APR/windows/p030/equil.0.nc\n",
      "Deleting ./OA-G3-0/AMBER/APR/windows/p030/equil.0.mden\n",
      "Deleting ./OA-G3-0/AMBER/APR/windows/p030/equil.0.rst7\n",
      "Deleting ./OA-G3-0/AMBER/APR/windows/p030/equil.0.mdinfo\n",
      "Deleting ./OA-G3-0/AMBER/APR/windows/p030/equil.rst7\n",
      "Deleting ./OA-G3-0/AMBER/APR/windows/p030/prod.001.in\n",
      "Deleting ./OA-G3-0/AMBER/APR/windows/p030/prod.001.out\n",
      "Deleting ./OA-G3-0/AMBER/APR/windows/p030/prod.001.nc\n",
      "Deleting ./OA-G3-0/AMBER/APR/windows/p030/prod.001.mden\n",
      "Deleting ./OA-G3-0/AMBER/APR/windows/p030/prod.001.mdinfo\n",
      "Deleting ./OA-G3-0/AMBER/APR/windows/p030/prod.001.rst7\n",
      "['./OA-G3-0/AMBER/APR/windows/p031/minimize.in', './OA-G3-0/AMBER/APR/windows/p031/minimize.out', './OA-G3-0/AMBER/APR/windows/p031/minimize.rst7', './OA-G3-0/AMBER/APR/windows/p031/minimize.mdinfo', './OA-G3-0/AMBER/APR/windows/p031/equil.0.in', './OA-G3-0/AMBER/APR/windows/p031/equil.0.out', './OA-G3-0/AMBER/APR/windows/p031/equil.0.nc', './OA-G3-0/AMBER/APR/windows/p031/equil.0.mden', './OA-G3-0/AMBER/APR/windows/p031/equil.0.rst7', './OA-G3-0/AMBER/APR/windows/p031/equil.0.mdinfo', './OA-G3-0/AMBER/APR/windows/p031/equil.rst7', './OA-G3-0/AMBER/APR/windows/p031/prod.001.in', './OA-G3-0/AMBER/APR/windows/p031/prod.001.out', './OA-G3-0/AMBER/APR/windows/p031/prod.001.nc', './OA-G3-0/AMBER/APR/windows/p031/prod.001.mden', './OA-G3-0/AMBER/APR/windows/p031/prod.001.mdinfo', './OA-G3-0/AMBER/APR/windows/p031/prod.001.rst7']\n",
      "Deleting ./OA-G3-0/AMBER/APR/windows/p031/minimize.in\n",
      "Deleting ./OA-G3-0/AMBER/APR/windows/p031/minimize.out\n",
      "Deleting ./OA-G3-0/AMBER/APR/windows/p031/minimize.rst7\n",
      "Deleting ./OA-G3-0/AMBER/APR/windows/p031/minimize.mdinfo\n",
      "Deleting ./OA-G3-0/AMBER/APR/windows/p031/equil.0.in\n",
      "Deleting ./OA-G3-0/AMBER/APR/windows/p031/equil.0.out\n",
      "Deleting ./OA-G3-0/AMBER/APR/windows/p031/equil.0.nc\n",
      "Deleting ./OA-G3-0/AMBER/APR/windows/p031/equil.0.mden\n",
      "Deleting ./OA-G3-0/AMBER/APR/windows/p031/equil.0.rst7\n",
      "Deleting ./OA-G3-0/AMBER/APR/windows/p031/equil.0.mdinfo\n",
      "Deleting ./OA-G3-0/AMBER/APR/windows/p031/equil.rst7\n",
      "Deleting ./OA-G3-0/AMBER/APR/windows/p031/prod.001.in\n",
      "Deleting ./OA-G3-0/AMBER/APR/windows/p031/prod.001.out\n",
      "Deleting ./OA-G3-0/AMBER/APR/windows/p031/prod.001.nc\n",
      "Deleting ./OA-G3-0/AMBER/APR/windows/p031/prod.001.mden\n",
      "Deleting ./OA-G3-0/AMBER/APR/windows/p031/prod.001.mdinfo\n",
      "Deleting ./OA-G3-0/AMBER/APR/windows/p031/prod.001.rst7\n",
      "['./OA-G3-0/AMBER/APR/windows/p032/minimize.in', './OA-G3-0/AMBER/APR/windows/p032/minimize.out', './OA-G3-0/AMBER/APR/windows/p032/minimize.rst7', './OA-G3-0/AMBER/APR/windows/p032/minimize.mdinfo', './OA-G3-0/AMBER/APR/windows/p032/equil.0.in', './OA-G3-0/AMBER/APR/windows/p032/equil.0.out', './OA-G3-0/AMBER/APR/windows/p032/equil.0.nc', './OA-G3-0/AMBER/APR/windows/p032/equil.0.mden', './OA-G3-0/AMBER/APR/windows/p032/equil.0.rst7', './OA-G3-0/AMBER/APR/windows/p032/equil.0.mdinfo', './OA-G3-0/AMBER/APR/windows/p032/equil.rst7', './OA-G3-0/AMBER/APR/windows/p032/prod.001.in', './OA-G3-0/AMBER/APR/windows/p032/prod.001.out', './OA-G3-0/AMBER/APR/windows/p032/prod.001.nc', './OA-G3-0/AMBER/APR/windows/p032/prod.001.mden', './OA-G3-0/AMBER/APR/windows/p032/prod.001.mdinfo', './OA-G3-0/AMBER/APR/windows/p032/prod.001.rst7']\n",
      "Deleting ./OA-G3-0/AMBER/APR/windows/p032/minimize.in\n",
      "Deleting ./OA-G3-0/AMBER/APR/windows/p032/minimize.out\n",
      "Deleting ./OA-G3-0/AMBER/APR/windows/p032/minimize.rst7\n",
      "Deleting ./OA-G3-0/AMBER/APR/windows/p032/minimize.mdinfo\n",
      "Deleting ./OA-G3-0/AMBER/APR/windows/p032/equil.0.in\n",
      "Deleting ./OA-G3-0/AMBER/APR/windows/p032/equil.0.out\n",
      "Deleting ./OA-G3-0/AMBER/APR/windows/p032/equil.0.nc\n",
      "Deleting ./OA-G3-0/AMBER/APR/windows/p032/equil.0.mden\n",
      "Deleting ./OA-G3-0/AMBER/APR/windows/p032/equil.0.rst7\n",
      "Deleting ./OA-G3-0/AMBER/APR/windows/p032/equil.0.mdinfo\n",
      "Deleting ./OA-G3-0/AMBER/APR/windows/p032/equil.rst7\n",
      "Deleting ./OA-G3-0/AMBER/APR/windows/p032/prod.001.in\n",
      "Deleting ./OA-G3-0/AMBER/APR/windows/p032/prod.001.out\n",
      "Deleting ./OA-G3-0/AMBER/APR/windows/p032/prod.001.nc\n",
      "Deleting ./OA-G3-0/AMBER/APR/windows/p032/prod.001.mden\n",
      "Deleting ./OA-G3-0/AMBER/APR/windows/p032/prod.001.mdinfo\n",
      "Deleting ./OA-G3-0/AMBER/APR/windows/p032/prod.001.rst7\n",
      "['./OA-G3-0/AMBER/APR/windows/p033/minimize.in', './OA-G3-0/AMBER/APR/windows/p033/minimize.out', './OA-G3-0/AMBER/APR/windows/p033/minimize.rst7', './OA-G3-0/AMBER/APR/windows/p033/minimize.mdinfo', './OA-G3-0/AMBER/APR/windows/p033/equil.0.in', './OA-G3-0/AMBER/APR/windows/p033/equil.0.out', './OA-G3-0/AMBER/APR/windows/p033/equil.0.nc', './OA-G3-0/AMBER/APR/windows/p033/equil.0.mden', './OA-G3-0/AMBER/APR/windows/p033/equil.0.rst7', './OA-G3-0/AMBER/APR/windows/p033/equil.0.mdinfo', './OA-G3-0/AMBER/APR/windows/p033/equil.rst7', './OA-G3-0/AMBER/APR/windows/p033/prod.001.in', './OA-G3-0/AMBER/APR/windows/p033/prod.001.out', './OA-G3-0/AMBER/APR/windows/p033/prod.001.nc', './OA-G3-0/AMBER/APR/windows/p033/prod.001.mden', './OA-G3-0/AMBER/APR/windows/p033/prod.001.mdinfo', './OA-G3-0/AMBER/APR/windows/p033/prod.001.rst7']\n",
      "Deleting ./OA-G3-0/AMBER/APR/windows/p033/minimize.in\n",
      "Deleting ./OA-G3-0/AMBER/APR/windows/p033/minimize.out\n",
      "Deleting ./OA-G3-0/AMBER/APR/windows/p033/minimize.rst7\n",
      "Deleting ./OA-G3-0/AMBER/APR/windows/p033/minimize.mdinfo\n",
      "Deleting ./OA-G3-0/AMBER/APR/windows/p033/equil.0.in\n",
      "Deleting ./OA-G3-0/AMBER/APR/windows/p033/equil.0.out\n",
      "Deleting ./OA-G3-0/AMBER/APR/windows/p033/equil.0.nc\n",
      "Deleting ./OA-G3-0/AMBER/APR/windows/p033/equil.0.mden\n",
      "Deleting ./OA-G3-0/AMBER/APR/windows/p033/equil.0.rst7\n",
      "Deleting ./OA-G3-0/AMBER/APR/windows/p033/equil.0.mdinfo\n",
      "Deleting ./OA-G3-0/AMBER/APR/windows/p033/equil.rst7\n",
      "Deleting ./OA-G3-0/AMBER/APR/windows/p033/prod.001.in\n",
      "Deleting ./OA-G3-0/AMBER/APR/windows/p033/prod.001.out\n",
      "Deleting ./OA-G3-0/AMBER/APR/windows/p033/prod.001.nc\n",
      "Deleting ./OA-G3-0/AMBER/APR/windows/p033/prod.001.mden\n",
      "Deleting ./OA-G3-0/AMBER/APR/windows/p033/prod.001.mdinfo\n",
      "Deleting ./OA-G3-0/AMBER/APR/windows/p033/prod.001.rst7\n",
      "['./OA-G3-0/AMBER/APR/windows/p034/minimize.in', './OA-G3-0/AMBER/APR/windows/p034/minimize.out', './OA-G3-0/AMBER/APR/windows/p034/minimize.rst7', './OA-G3-0/AMBER/APR/windows/p034/minimize.mdinfo', './OA-G3-0/AMBER/APR/windows/p034/equil.0.in', './OA-G3-0/AMBER/APR/windows/p034/equil.0.out', './OA-G3-0/AMBER/APR/windows/p034/equil.0.nc', './OA-G3-0/AMBER/APR/windows/p034/equil.0.mden', './OA-G3-0/AMBER/APR/windows/p034/equil.0.rst7', './OA-G3-0/AMBER/APR/windows/p034/equil.0.mdinfo', './OA-G3-0/AMBER/APR/windows/p034/equil.rst7', './OA-G3-0/AMBER/APR/windows/p034/prod.001.in', './OA-G3-0/AMBER/APR/windows/p034/prod.001.out', './OA-G3-0/AMBER/APR/windows/p034/prod.001.nc', './OA-G3-0/AMBER/APR/windows/p034/prod.001.mden', './OA-G3-0/AMBER/APR/windows/p034/prod.001.mdinfo', './OA-G3-0/AMBER/APR/windows/p034/prod.001.rst7']\n",
      "Deleting ./OA-G3-0/AMBER/APR/windows/p034/minimize.in\n",
      "Deleting ./OA-G3-0/AMBER/APR/windows/p034/minimize.out\n",
      "Deleting ./OA-G3-0/AMBER/APR/windows/p034/minimize.rst7\n",
      "Deleting ./OA-G3-0/AMBER/APR/windows/p034/minimize.mdinfo\n",
      "Deleting ./OA-G3-0/AMBER/APR/windows/p034/equil.0.in\n",
      "Deleting ./OA-G3-0/AMBER/APR/windows/p034/equil.0.out\n",
      "Deleting ./OA-G3-0/AMBER/APR/windows/p034/equil.0.nc\n",
      "Deleting ./OA-G3-0/AMBER/APR/windows/p034/equil.0.mden\n",
      "Deleting ./OA-G3-0/AMBER/APR/windows/p034/equil.0.rst7\n",
      "Deleting ./OA-G3-0/AMBER/APR/windows/p034/equil.0.mdinfo\n",
      "Deleting ./OA-G3-0/AMBER/APR/windows/p034/equil.rst7\n",
      "Deleting ./OA-G3-0/AMBER/APR/windows/p034/prod.001.in\n",
      "Deleting ./OA-G3-0/AMBER/APR/windows/p034/prod.001.out\n",
      "Deleting ./OA-G3-0/AMBER/APR/windows/p034/prod.001.nc\n",
      "Deleting ./OA-G3-0/AMBER/APR/windows/p034/prod.001.mden\n",
      "Deleting ./OA-G3-0/AMBER/APR/windows/p034/prod.001.mdinfo\n",
      "Deleting ./OA-G3-0/AMBER/APR/windows/p034/prod.001.rst7\n",
      "['./OA-G3-0/AMBER/APR/windows/p035/minimize.in', './OA-G3-0/AMBER/APR/windows/p035/minimize.out', './OA-G3-0/AMBER/APR/windows/p035/minimize.rst7', './OA-G3-0/AMBER/APR/windows/p035/minimize.mdinfo', './OA-G3-0/AMBER/APR/windows/p035/equil.0.in', './OA-G3-0/AMBER/APR/windows/p035/equil.0.out', './OA-G3-0/AMBER/APR/windows/p035/equil.0.nc', './OA-G3-0/AMBER/APR/windows/p035/equil.0.mden', './OA-G3-0/AMBER/APR/windows/p035/equil.0.rst7', './OA-G3-0/AMBER/APR/windows/p035/equil.0.mdinfo', './OA-G3-0/AMBER/APR/windows/p035/equil.rst7', './OA-G3-0/AMBER/APR/windows/p035/prod.001.in', './OA-G3-0/AMBER/APR/windows/p035/prod.001.out', './OA-G3-0/AMBER/APR/windows/p035/prod.001.nc', './OA-G3-0/AMBER/APR/windows/p035/prod.001.mden', './OA-G3-0/AMBER/APR/windows/p035/prod.001.mdinfo', './OA-G3-0/AMBER/APR/windows/p035/prod.001.rst7']\n",
      "Deleting ./OA-G3-0/AMBER/APR/windows/p035/minimize.in\n",
      "Deleting ./OA-G3-0/AMBER/APR/windows/p035/minimize.out\n",
      "Deleting ./OA-G3-0/AMBER/APR/windows/p035/minimize.rst7\n",
      "Deleting ./OA-G3-0/AMBER/APR/windows/p035/minimize.mdinfo\n",
      "Deleting ./OA-G3-0/AMBER/APR/windows/p035/equil.0.in\n",
      "Deleting ./OA-G3-0/AMBER/APR/windows/p035/equil.0.out\n",
      "Deleting ./OA-G3-0/AMBER/APR/windows/p035/equil.0.nc\n",
      "Deleting ./OA-G3-0/AMBER/APR/windows/p035/equil.0.mden\n",
      "Deleting ./OA-G3-0/AMBER/APR/windows/p035/equil.0.rst7\n",
      "Deleting ./OA-G3-0/AMBER/APR/windows/p035/equil.0.mdinfo\n",
      "Deleting ./OA-G3-0/AMBER/APR/windows/p035/equil.rst7\n",
      "Deleting ./OA-G3-0/AMBER/APR/windows/p035/prod.001.in\n",
      "Deleting ./OA-G3-0/AMBER/APR/windows/p035/prod.001.out\n",
      "Deleting ./OA-G3-0/AMBER/APR/windows/p035/prod.001.nc\n",
      "Deleting ./OA-G3-0/AMBER/APR/windows/p035/prod.001.mden\n",
      "Deleting ./OA-G3-0/AMBER/APR/windows/p035/prod.001.mdinfo\n",
      "Deleting ./OA-G3-0/AMBER/APR/windows/p035/prod.001.rst7\n",
      "['./OA-G3-0/AMBER/APR/windows/p036/minimize.in', './OA-G3-0/AMBER/APR/windows/p036/minimize.out', './OA-G3-0/AMBER/APR/windows/p036/minimize.rst7', './OA-G3-0/AMBER/APR/windows/p036/minimize.mdinfo', './OA-G3-0/AMBER/APR/windows/p036/equil.0.in', './OA-G3-0/AMBER/APR/windows/p036/equil.0.out', './OA-G3-0/AMBER/APR/windows/p036/equil.0.nc', './OA-G3-0/AMBER/APR/windows/p036/equil.0.mden', './OA-G3-0/AMBER/APR/windows/p036/equil.0.rst7', './OA-G3-0/AMBER/APR/windows/p036/equil.0.mdinfo', './OA-G3-0/AMBER/APR/windows/p036/equil.rst7', './OA-G3-0/AMBER/APR/windows/p036/prod.001.in', './OA-G3-0/AMBER/APR/windows/p036/prod.001.out', './OA-G3-0/AMBER/APR/windows/p036/prod.001.nc', './OA-G3-0/AMBER/APR/windows/p036/prod.001.mden', './OA-G3-0/AMBER/APR/windows/p036/prod.001.mdinfo', './OA-G3-0/AMBER/APR/windows/p036/prod.001.rst7']\n",
      "Deleting ./OA-G3-0/AMBER/APR/windows/p036/minimize.in\n",
      "Deleting ./OA-G3-0/AMBER/APR/windows/p036/minimize.out\n",
      "Deleting ./OA-G3-0/AMBER/APR/windows/p036/minimize.rst7\n",
      "Deleting ./OA-G3-0/AMBER/APR/windows/p036/minimize.mdinfo\n",
      "Deleting ./OA-G3-0/AMBER/APR/windows/p036/equil.0.in\n",
      "Deleting ./OA-G3-0/AMBER/APR/windows/p036/equil.0.out\n",
      "Deleting ./OA-G3-0/AMBER/APR/windows/p036/equil.0.nc\n",
      "Deleting ./OA-G3-0/AMBER/APR/windows/p036/equil.0.mden\n",
      "Deleting ./OA-G3-0/AMBER/APR/windows/p036/equil.0.rst7\n",
      "Deleting ./OA-G3-0/AMBER/APR/windows/p036/equil.0.mdinfo\n",
      "Deleting ./OA-G3-0/AMBER/APR/windows/p036/equil.rst7\n",
      "Deleting ./OA-G3-0/AMBER/APR/windows/p036/prod.001.in\n",
      "Deleting ./OA-G3-0/AMBER/APR/windows/p036/prod.001.out\n",
      "Deleting ./OA-G3-0/AMBER/APR/windows/p036/prod.001.nc\n",
      "Deleting ./OA-G3-0/AMBER/APR/windows/p036/prod.001.mden\n",
      "Deleting ./OA-G3-0/AMBER/APR/windows/p036/prod.001.mdinfo\n",
      "Deleting ./OA-G3-0/AMBER/APR/windows/p036/prod.001.rst7\n",
      "['./OA-G3-0/AMBER/APR/windows/p037/minimize.in', './OA-G3-0/AMBER/APR/windows/p037/minimize.out', './OA-G3-0/AMBER/APR/windows/p037/minimize.rst7', './OA-G3-0/AMBER/APR/windows/p037/minimize.mdinfo', './OA-G3-0/AMBER/APR/windows/p037/equil.0.in', './OA-G3-0/AMBER/APR/windows/p037/equil.0.out', './OA-G3-0/AMBER/APR/windows/p037/equil.0.nc', './OA-G3-0/AMBER/APR/windows/p037/equil.0.mden', './OA-G3-0/AMBER/APR/windows/p037/equil.0.rst7', './OA-G3-0/AMBER/APR/windows/p037/equil.0.mdinfo', './OA-G3-0/AMBER/APR/windows/p037/equil.rst7', './OA-G3-0/AMBER/APR/windows/p037/prod.001.in', './OA-G3-0/AMBER/APR/windows/p037/prod.001.out', './OA-G3-0/AMBER/APR/windows/p037/prod.001.nc', './OA-G3-0/AMBER/APR/windows/p037/prod.001.mden', './OA-G3-0/AMBER/APR/windows/p037/prod.001.mdinfo', './OA-G3-0/AMBER/APR/windows/p037/prod.001.rst7']\n",
      "Deleting ./OA-G3-0/AMBER/APR/windows/p037/minimize.in\n",
      "Deleting ./OA-G3-0/AMBER/APR/windows/p037/minimize.out\n",
      "Deleting ./OA-G3-0/AMBER/APR/windows/p037/minimize.rst7\n",
      "Deleting ./OA-G3-0/AMBER/APR/windows/p037/minimize.mdinfo\n",
      "Deleting ./OA-G3-0/AMBER/APR/windows/p037/equil.0.in\n",
      "Deleting ./OA-G3-0/AMBER/APR/windows/p037/equil.0.out\n",
      "Deleting ./OA-G3-0/AMBER/APR/windows/p037/equil.0.nc\n",
      "Deleting ./OA-G3-0/AMBER/APR/windows/p037/equil.0.mden\n",
      "Deleting ./OA-G3-0/AMBER/APR/windows/p037/equil.0.rst7\n",
      "Deleting ./OA-G3-0/AMBER/APR/windows/p037/equil.0.mdinfo\n",
      "Deleting ./OA-G3-0/AMBER/APR/windows/p037/equil.rst7\n",
      "Deleting ./OA-G3-0/AMBER/APR/windows/p037/prod.001.in\n",
      "Deleting ./OA-G3-0/AMBER/APR/windows/p037/prod.001.out\n",
      "Deleting ./OA-G3-0/AMBER/APR/windows/p037/prod.001.nc\n",
      "Deleting ./OA-G3-0/AMBER/APR/windows/p037/prod.001.mden\n",
      "Deleting ./OA-G3-0/AMBER/APR/windows/p037/prod.001.mdinfo\n",
      "Deleting ./OA-G3-0/AMBER/APR/windows/p037/prod.001.rst7\n",
      "['./OA-G3-0/AMBER/APR/windows/p038/minimize.in', './OA-G3-0/AMBER/APR/windows/p038/minimize.out', './OA-G3-0/AMBER/APR/windows/p038/minimize.rst7', './OA-G3-0/AMBER/APR/windows/p038/minimize.mdinfo', './OA-G3-0/AMBER/APR/windows/p038/equil.0.in', './OA-G3-0/AMBER/APR/windows/p038/equil.0.out', './OA-G3-0/AMBER/APR/windows/p038/equil.0.nc', './OA-G3-0/AMBER/APR/windows/p038/equil.0.mden', './OA-G3-0/AMBER/APR/windows/p038/equil.0.rst7', './OA-G3-0/AMBER/APR/windows/p038/equil.0.mdinfo', './OA-G3-0/AMBER/APR/windows/p038/equil.rst7', './OA-G3-0/AMBER/APR/windows/p038/prod.001.in', './OA-G3-0/AMBER/APR/windows/p038/prod.001.out', './OA-G3-0/AMBER/APR/windows/p038/prod.001.nc', './OA-G3-0/AMBER/APR/windows/p038/prod.001.mden', './OA-G3-0/AMBER/APR/windows/p038/prod.001.mdinfo', './OA-G3-0/AMBER/APR/windows/p038/prod.001.rst7']\n",
      "Deleting ./OA-G3-0/AMBER/APR/windows/p038/minimize.in\n",
      "Deleting ./OA-G3-0/AMBER/APR/windows/p038/minimize.out\n",
      "Deleting ./OA-G3-0/AMBER/APR/windows/p038/minimize.rst7\n",
      "Deleting ./OA-G3-0/AMBER/APR/windows/p038/minimize.mdinfo\n",
      "Deleting ./OA-G3-0/AMBER/APR/windows/p038/equil.0.in\n",
      "Deleting ./OA-G3-0/AMBER/APR/windows/p038/equil.0.out\n",
      "Deleting ./OA-G3-0/AMBER/APR/windows/p038/equil.0.nc\n",
      "Deleting ./OA-G3-0/AMBER/APR/windows/p038/equil.0.mden\n",
      "Deleting ./OA-G3-0/AMBER/APR/windows/p038/equil.0.rst7\n",
      "Deleting ./OA-G3-0/AMBER/APR/windows/p038/equil.0.mdinfo\n",
      "Deleting ./OA-G3-0/AMBER/APR/windows/p038/equil.rst7\n",
      "Deleting ./OA-G3-0/AMBER/APR/windows/p038/prod.001.in\n",
      "Deleting ./OA-G3-0/AMBER/APR/windows/p038/prod.001.out\n",
      "Deleting ./OA-G3-0/AMBER/APR/windows/p038/prod.001.nc\n",
      "Deleting ./OA-G3-0/AMBER/APR/windows/p038/prod.001.mden\n",
      "Deleting ./OA-G3-0/AMBER/APR/windows/p038/prod.001.mdinfo\n",
      "Deleting ./OA-G3-0/AMBER/APR/windows/p038/prod.001.rst7\n",
      "['./OA-G3-0/AMBER/APR/windows/p039/minimize.in', './OA-G3-0/AMBER/APR/windows/p039/minimize.out', './OA-G3-0/AMBER/APR/windows/p039/minimize.rst7', './OA-G3-0/AMBER/APR/windows/p039/minimize.mdinfo', './OA-G3-0/AMBER/APR/windows/p039/equil.0.in', './OA-G3-0/AMBER/APR/windows/p039/equil.0.out', './OA-G3-0/AMBER/APR/windows/p039/equil.0.nc', './OA-G3-0/AMBER/APR/windows/p039/equil.0.mden', './OA-G3-0/AMBER/APR/windows/p039/equil.0.rst7', './OA-G3-0/AMBER/APR/windows/p039/equil.0.mdinfo', './OA-G3-0/AMBER/APR/windows/p039/equil.rst7', './OA-G3-0/AMBER/APR/windows/p039/prod.001.in', './OA-G3-0/AMBER/APR/windows/p039/prod.001.out', './OA-G3-0/AMBER/APR/windows/p039/prod.001.nc', './OA-G3-0/AMBER/APR/windows/p039/prod.001.mden', './OA-G3-0/AMBER/APR/windows/p039/prod.001.mdinfo', './OA-G3-0/AMBER/APR/windows/p039/prod.001.rst7']\n",
      "Deleting ./OA-G3-0/AMBER/APR/windows/p039/minimize.in\n",
      "Deleting ./OA-G3-0/AMBER/APR/windows/p039/minimize.out\n",
      "Deleting ./OA-G3-0/AMBER/APR/windows/p039/minimize.rst7\n",
      "Deleting ./OA-G3-0/AMBER/APR/windows/p039/minimize.mdinfo\n",
      "Deleting ./OA-G3-0/AMBER/APR/windows/p039/equil.0.in\n",
      "Deleting ./OA-G3-0/AMBER/APR/windows/p039/equil.0.out\n",
      "Deleting ./OA-G3-0/AMBER/APR/windows/p039/equil.0.nc\n",
      "Deleting ./OA-G3-0/AMBER/APR/windows/p039/equil.0.mden\n",
      "Deleting ./OA-G3-0/AMBER/APR/windows/p039/equil.0.rst7\n",
      "Deleting ./OA-G3-0/AMBER/APR/windows/p039/equil.0.mdinfo\n",
      "Deleting ./OA-G3-0/AMBER/APR/windows/p039/equil.rst7\n",
      "Deleting ./OA-G3-0/AMBER/APR/windows/p039/prod.001.in\n",
      "Deleting ./OA-G3-0/AMBER/APR/windows/p039/prod.001.out\n",
      "Deleting ./OA-G3-0/AMBER/APR/windows/p039/prod.001.nc\n",
      "Deleting ./OA-G3-0/AMBER/APR/windows/p039/prod.001.mden\n",
      "Deleting ./OA-G3-0/AMBER/APR/windows/p039/prod.001.mdinfo\n",
      "Deleting ./OA-G3-0/AMBER/APR/windows/p039/prod.001.rst7\n",
      "['./OA-G3-0/AMBER/APR/windows/p040/minimize.in', './OA-G3-0/AMBER/APR/windows/p040/minimize.out', './OA-G3-0/AMBER/APR/windows/p040/minimize.rst7', './OA-G3-0/AMBER/APR/windows/p040/minimize.mdinfo', './OA-G3-0/AMBER/APR/windows/p040/equil.0.in', './OA-G3-0/AMBER/APR/windows/p040/equil.0.out', './OA-G3-0/AMBER/APR/windows/p040/equil.0.nc', './OA-G3-0/AMBER/APR/windows/p040/equil.0.mden', './OA-G3-0/AMBER/APR/windows/p040/equil.0.rst7', './OA-G3-0/AMBER/APR/windows/p040/equil.0.mdinfo', './OA-G3-0/AMBER/APR/windows/p040/equil.rst7', './OA-G3-0/AMBER/APR/windows/p040/prod.001.in', './OA-G3-0/AMBER/APR/windows/p040/prod.001.out', './OA-G3-0/AMBER/APR/windows/p040/prod.001.nc', './OA-G3-0/AMBER/APR/windows/p040/prod.001.mden', './OA-G3-0/AMBER/APR/windows/p040/prod.001.mdinfo', './OA-G3-0/AMBER/APR/windows/p040/prod.001.rst7']\n",
      "Deleting ./OA-G3-0/AMBER/APR/windows/p040/minimize.in\n",
      "Deleting ./OA-G3-0/AMBER/APR/windows/p040/minimize.out\n",
      "Deleting ./OA-G3-0/AMBER/APR/windows/p040/minimize.rst7\n",
      "Deleting ./OA-G3-0/AMBER/APR/windows/p040/minimize.mdinfo\n",
      "Deleting ./OA-G3-0/AMBER/APR/windows/p040/equil.0.in\n",
      "Deleting ./OA-G3-0/AMBER/APR/windows/p040/equil.0.out\n",
      "Deleting ./OA-G3-0/AMBER/APR/windows/p040/equil.0.nc\n",
      "Deleting ./OA-G3-0/AMBER/APR/windows/p040/equil.0.mden\n",
      "Deleting ./OA-G3-0/AMBER/APR/windows/p040/equil.0.rst7\n",
      "Deleting ./OA-G3-0/AMBER/APR/windows/p040/equil.0.mdinfo\n",
      "Deleting ./OA-G3-0/AMBER/APR/windows/p040/equil.rst7\n",
      "Deleting ./OA-G3-0/AMBER/APR/windows/p040/prod.001.in\n",
      "Deleting ./OA-G3-0/AMBER/APR/windows/p040/prod.001.out\n",
      "Deleting ./OA-G3-0/AMBER/APR/windows/p040/prod.001.nc\n",
      "Deleting ./OA-G3-0/AMBER/APR/windows/p040/prod.001.mden\n",
      "Deleting ./OA-G3-0/AMBER/APR/windows/p040/prod.001.mdinfo\n",
      "Deleting ./OA-G3-0/AMBER/APR/windows/p040/prod.001.rst7\n",
      "['./OA-G3-0/AMBER/APR/windows/p041/minimize.in', './OA-G3-0/AMBER/APR/windows/p041/minimize.out', './OA-G3-0/AMBER/APR/windows/p041/minimize.rst7', './OA-G3-0/AMBER/APR/windows/p041/minimize.mdinfo', './OA-G3-0/AMBER/APR/windows/p041/equil.0.in', './OA-G3-0/AMBER/APR/windows/p041/equil.0.out', './OA-G3-0/AMBER/APR/windows/p041/equil.0.nc', './OA-G3-0/AMBER/APR/windows/p041/equil.0.mden', './OA-G3-0/AMBER/APR/windows/p041/equil.0.rst7', './OA-G3-0/AMBER/APR/windows/p041/equil.0.mdinfo', './OA-G3-0/AMBER/APR/windows/p041/equil.rst7', './OA-G3-0/AMBER/APR/windows/p041/prod.001.in', './OA-G3-0/AMBER/APR/windows/p041/prod.001.out', './OA-G3-0/AMBER/APR/windows/p041/prod.001.nc', './OA-G3-0/AMBER/APR/windows/p041/prod.001.mden', './OA-G3-0/AMBER/APR/windows/p041/prod.001.mdinfo', './OA-G3-0/AMBER/APR/windows/p041/prod.001.rst7']\n",
      "Deleting ./OA-G3-0/AMBER/APR/windows/p041/minimize.in\n",
      "Deleting ./OA-G3-0/AMBER/APR/windows/p041/minimize.out\n",
      "Deleting ./OA-G3-0/AMBER/APR/windows/p041/minimize.rst7\n",
      "Deleting ./OA-G3-0/AMBER/APR/windows/p041/minimize.mdinfo\n",
      "Deleting ./OA-G3-0/AMBER/APR/windows/p041/equil.0.in\n",
      "Deleting ./OA-G3-0/AMBER/APR/windows/p041/equil.0.out\n",
      "Deleting ./OA-G3-0/AMBER/APR/windows/p041/equil.0.nc\n",
      "Deleting ./OA-G3-0/AMBER/APR/windows/p041/equil.0.mden\n",
      "Deleting ./OA-G3-0/AMBER/APR/windows/p041/equil.0.rst7\n",
      "Deleting ./OA-G3-0/AMBER/APR/windows/p041/equil.0.mdinfo\n",
      "Deleting ./OA-G3-0/AMBER/APR/windows/p041/equil.rst7\n",
      "Deleting ./OA-G3-0/AMBER/APR/windows/p041/prod.001.in\n",
      "Deleting ./OA-G3-0/AMBER/APR/windows/p041/prod.001.out\n",
      "Deleting ./OA-G3-0/AMBER/APR/windows/p041/prod.001.nc\n",
      "Deleting ./OA-G3-0/AMBER/APR/windows/p041/prod.001.mden\n",
      "Deleting ./OA-G3-0/AMBER/APR/windows/p041/prod.001.mdinfo\n",
      "Deleting ./OA-G3-0/AMBER/APR/windows/p041/prod.001.rst7\n",
      "['./OA-G3-0/AMBER/APR/windows/p042/minimize.in', './OA-G3-0/AMBER/APR/windows/p042/minimize.out', './OA-G3-0/AMBER/APR/windows/p042/minimize.rst7', './OA-G3-0/AMBER/APR/windows/p042/minimize.mdinfo', './OA-G3-0/AMBER/APR/windows/p042/equil.0.in', './OA-G3-0/AMBER/APR/windows/p042/equil.0.out', './OA-G3-0/AMBER/APR/windows/p042/equil.0.nc', './OA-G3-0/AMBER/APR/windows/p042/equil.0.mden', './OA-G3-0/AMBER/APR/windows/p042/equil.0.rst7', './OA-G3-0/AMBER/APR/windows/p042/equil.0.mdinfo', './OA-G3-0/AMBER/APR/windows/p042/equil.rst7', './OA-G3-0/AMBER/APR/windows/p042/prod.001.in', './OA-G3-0/AMBER/APR/windows/p042/prod.001.out', './OA-G3-0/AMBER/APR/windows/p042/prod.001.nc', './OA-G3-0/AMBER/APR/windows/p042/prod.001.mden', './OA-G3-0/AMBER/APR/windows/p042/prod.001.mdinfo', './OA-G3-0/AMBER/APR/windows/p042/prod.001.rst7']\n",
      "Deleting ./OA-G3-0/AMBER/APR/windows/p042/minimize.in\n",
      "Deleting ./OA-G3-0/AMBER/APR/windows/p042/minimize.out\n",
      "Deleting ./OA-G3-0/AMBER/APR/windows/p042/minimize.rst7\n",
      "Deleting ./OA-G3-0/AMBER/APR/windows/p042/minimize.mdinfo\n",
      "Deleting ./OA-G3-0/AMBER/APR/windows/p042/equil.0.in\n",
      "Deleting ./OA-G3-0/AMBER/APR/windows/p042/equil.0.out\n",
      "Deleting ./OA-G3-0/AMBER/APR/windows/p042/equil.0.nc\n",
      "Deleting ./OA-G3-0/AMBER/APR/windows/p042/equil.0.mden\n",
      "Deleting ./OA-G3-0/AMBER/APR/windows/p042/equil.0.rst7\n",
      "Deleting ./OA-G3-0/AMBER/APR/windows/p042/equil.0.mdinfo\n",
      "Deleting ./OA-G3-0/AMBER/APR/windows/p042/equil.rst7\n",
      "Deleting ./OA-G3-0/AMBER/APR/windows/p042/prod.001.in\n",
      "Deleting ./OA-G3-0/AMBER/APR/windows/p042/prod.001.out\n",
      "Deleting ./OA-G3-0/AMBER/APR/windows/p042/prod.001.nc\n",
      "Deleting ./OA-G3-0/AMBER/APR/windows/p042/prod.001.mden\n",
      "Deleting ./OA-G3-0/AMBER/APR/windows/p042/prod.001.mdinfo\n",
      "Deleting ./OA-G3-0/AMBER/APR/windows/p042/prod.001.rst7\n",
      "['./OA-G3-0/AMBER/APR/windows/p043/minimize.in', './OA-G3-0/AMBER/APR/windows/p043/minimize.out', './OA-G3-0/AMBER/APR/windows/p043/minimize.rst7', './OA-G3-0/AMBER/APR/windows/p043/minimize.mdinfo', './OA-G3-0/AMBER/APR/windows/p043/equil.0.in', './OA-G3-0/AMBER/APR/windows/p043/equil.0.out', './OA-G3-0/AMBER/APR/windows/p043/equil.0.nc', './OA-G3-0/AMBER/APR/windows/p043/equil.0.mden', './OA-G3-0/AMBER/APR/windows/p043/equil.0.rst7', './OA-G3-0/AMBER/APR/windows/p043/equil.0.mdinfo', './OA-G3-0/AMBER/APR/windows/p043/equil.rst7', './OA-G3-0/AMBER/APR/windows/p043/prod.001.in', './OA-G3-0/AMBER/APR/windows/p043/prod.001.out', './OA-G3-0/AMBER/APR/windows/p043/prod.001.nc', './OA-G3-0/AMBER/APR/windows/p043/prod.001.mden', './OA-G3-0/AMBER/APR/windows/p043/prod.001.mdinfo', './OA-G3-0/AMBER/APR/windows/p043/prod.001.rst7']\n",
      "Deleting ./OA-G3-0/AMBER/APR/windows/p043/minimize.in\n",
      "Deleting ./OA-G3-0/AMBER/APR/windows/p043/minimize.out\n",
      "Deleting ./OA-G3-0/AMBER/APR/windows/p043/minimize.rst7\n",
      "Deleting ./OA-G3-0/AMBER/APR/windows/p043/minimize.mdinfo\n",
      "Deleting ./OA-G3-0/AMBER/APR/windows/p043/equil.0.in\n",
      "Deleting ./OA-G3-0/AMBER/APR/windows/p043/equil.0.out\n",
      "Deleting ./OA-G3-0/AMBER/APR/windows/p043/equil.0.nc\n",
      "Deleting ./OA-G3-0/AMBER/APR/windows/p043/equil.0.mden\n",
      "Deleting ./OA-G3-0/AMBER/APR/windows/p043/equil.0.rst7\n",
      "Deleting ./OA-G3-0/AMBER/APR/windows/p043/equil.0.mdinfo\n",
      "Deleting ./OA-G3-0/AMBER/APR/windows/p043/equil.rst7\n",
      "Deleting ./OA-G3-0/AMBER/APR/windows/p043/prod.001.in\n",
      "Deleting ./OA-G3-0/AMBER/APR/windows/p043/prod.001.out\n",
      "Deleting ./OA-G3-0/AMBER/APR/windows/p043/prod.001.nc\n",
      "Deleting ./OA-G3-0/AMBER/APR/windows/p043/prod.001.mden\n",
      "Deleting ./OA-G3-0/AMBER/APR/windows/p043/prod.001.mdinfo\n",
      "Deleting ./OA-G3-0/AMBER/APR/windows/p043/prod.001.rst7\n",
      "['./OA-G3-0/AMBER/APR/windows/p044/minimize.in', './OA-G3-0/AMBER/APR/windows/p044/minimize.out', './OA-G3-0/AMBER/APR/windows/p044/minimize.rst7', './OA-G3-0/AMBER/APR/windows/p044/minimize.mdinfo', './OA-G3-0/AMBER/APR/windows/p044/equil.0.in', './OA-G3-0/AMBER/APR/windows/p044/equil.0.out', './OA-G3-0/AMBER/APR/windows/p044/equil.0.nc', './OA-G3-0/AMBER/APR/windows/p044/equil.0.mden', './OA-G3-0/AMBER/APR/windows/p044/equil.0.rst7', './OA-G3-0/AMBER/APR/windows/p044/equil.0.mdinfo', './OA-G3-0/AMBER/APR/windows/p044/equil.rst7', './OA-G3-0/AMBER/APR/windows/p044/prod.001.in', './OA-G3-0/AMBER/APR/windows/p044/prod.001.out', './OA-G3-0/AMBER/APR/windows/p044/prod.001.nc', './OA-G3-0/AMBER/APR/windows/p044/prod.001.mden', './OA-G3-0/AMBER/APR/windows/p044/prod.001.mdinfo', './OA-G3-0/AMBER/APR/windows/p044/prod.001.rst7']\n",
      "Deleting ./OA-G3-0/AMBER/APR/windows/p044/minimize.in\n",
      "Deleting ./OA-G3-0/AMBER/APR/windows/p044/minimize.out\n",
      "Deleting ./OA-G3-0/AMBER/APR/windows/p044/minimize.rst7\n",
      "Deleting ./OA-G3-0/AMBER/APR/windows/p044/minimize.mdinfo\n",
      "Deleting ./OA-G3-0/AMBER/APR/windows/p044/equil.0.in\n",
      "Deleting ./OA-G3-0/AMBER/APR/windows/p044/equil.0.out\n",
      "Deleting ./OA-G3-0/AMBER/APR/windows/p044/equil.0.nc\n",
      "Deleting ./OA-G3-0/AMBER/APR/windows/p044/equil.0.mden\n",
      "Deleting ./OA-G3-0/AMBER/APR/windows/p044/equil.0.rst7\n",
      "Deleting ./OA-G3-0/AMBER/APR/windows/p044/equil.0.mdinfo\n",
      "Deleting ./OA-G3-0/AMBER/APR/windows/p044/equil.rst7\n",
      "Deleting ./OA-G3-0/AMBER/APR/windows/p044/prod.001.in\n",
      "Deleting ./OA-G3-0/AMBER/APR/windows/p044/prod.001.out\n",
      "Deleting ./OA-G3-0/AMBER/APR/windows/p044/prod.001.nc\n",
      "Deleting ./OA-G3-0/AMBER/APR/windows/p044/prod.001.mden\n",
      "Deleting ./OA-G3-0/AMBER/APR/windows/p044/prod.001.mdinfo\n",
      "Deleting ./OA-G3-0/AMBER/APR/windows/p044/prod.001.rst7\n",
      "['./OA-G3-0/AMBER/APR/windows/p045/minimize.in', './OA-G3-0/AMBER/APR/windows/p045/minimize.out', './OA-G3-0/AMBER/APR/windows/p045/minimize.rst7', './OA-G3-0/AMBER/APR/windows/p045/minimize.mdinfo', './OA-G3-0/AMBER/APR/windows/p045/equil.0.in', './OA-G3-0/AMBER/APR/windows/p045/equil.0.out', './OA-G3-0/AMBER/APR/windows/p045/equil.0.nc', './OA-G3-0/AMBER/APR/windows/p045/equil.0.mden', './OA-G3-0/AMBER/APR/windows/p045/equil.0.rst7', './OA-G3-0/AMBER/APR/windows/p045/equil.0.mdinfo', './OA-G3-0/AMBER/APR/windows/p045/equil.rst7', './OA-G3-0/AMBER/APR/windows/p045/prod.001.in', './OA-G3-0/AMBER/APR/windows/p045/prod.001.out', './OA-G3-0/AMBER/APR/windows/p045/prod.001.nc', './OA-G3-0/AMBER/APR/windows/p045/prod.001.mden', './OA-G3-0/AMBER/APR/windows/p045/prod.001.mdinfo', './OA-G3-0/AMBER/APR/windows/p045/prod.001.rst7']\n",
      "Deleting ./OA-G3-0/AMBER/APR/windows/p045/minimize.in\n",
      "Deleting ./OA-G3-0/AMBER/APR/windows/p045/minimize.out\n",
      "Deleting ./OA-G3-0/AMBER/APR/windows/p045/minimize.rst7\n",
      "Deleting ./OA-G3-0/AMBER/APR/windows/p045/minimize.mdinfo\n",
      "Deleting ./OA-G3-0/AMBER/APR/windows/p045/equil.0.in\n",
      "Deleting ./OA-G3-0/AMBER/APR/windows/p045/equil.0.out\n",
      "Deleting ./OA-G3-0/AMBER/APR/windows/p045/equil.0.nc\n",
      "Deleting ./OA-G3-0/AMBER/APR/windows/p045/equil.0.mden\n",
      "Deleting ./OA-G3-0/AMBER/APR/windows/p045/equil.0.rst7\n",
      "Deleting ./OA-G3-0/AMBER/APR/windows/p045/equil.0.mdinfo\n",
      "Deleting ./OA-G3-0/AMBER/APR/windows/p045/equil.rst7\n",
      "Deleting ./OA-G3-0/AMBER/APR/windows/p045/prod.001.in\n",
      "Deleting ./OA-G3-0/AMBER/APR/windows/p045/prod.001.out\n",
      "Deleting ./OA-G3-0/AMBER/APR/windows/p045/prod.001.nc\n",
      "Deleting ./OA-G3-0/AMBER/APR/windows/p045/prod.001.mden\n",
      "Deleting ./OA-G3-0/AMBER/APR/windows/p045/prod.001.mdinfo\n",
      "Deleting ./OA-G3-0/AMBER/APR/windows/p045/prod.001.rst7\n",
      "[]\n",
      "[]\n",
      "[]\n",
      "[]\n",
      "[]\n",
      "[]\n",
      "[]\n",
      "[]\n",
      "[]\n",
      "[]\n",
      "[]\n",
      "[]\n",
      "[]\n",
      "[]\n",
      "[]\n",
      "[]\n",
      "[]\n",
      "[]\n",
      "[]\n",
      "[]\n",
      "[]\n",
      "[]\n",
      "[]\n",
      "[]\n",
      "[]\n",
      "[]\n",
      "[]\n",
      "[]\n",
      "[]\n",
      "[]\n",
      "[]\n",
      "[]\n",
      "[]\n",
      "[]\n",
      "[]\n",
      "[]\n",
      "[]\n",
      "[]\n",
      "[]\n",
      "[]\n",
      "[]\n",
      "[]\n",
      "[]\n",
      "[]\n",
      "[]\n",
      "[]\n",
      "[]\n",
      "[]\n",
      "[]\n",
      "[]\n",
      "[]\n",
      "[]\n",
      "[]\n",
      "[]\n",
      "[]\n",
      "[]\n",
      "[]\n",
      "[]\n",
      "[]\n",
      "[]\n",
      "[]\n",
      "[]\n",
      "[]\n",
      "[]\n",
      "[]\n",
      "[]\n",
      "[]\n",
      "[]\n",
      "[]\n",
      "[]\n",
      "[]\n",
      "[]\n",
      "[]\n",
      "[]\n",
      "[]\n",
      "[]\n",
      "[]\n",
      "[]\n",
      "[]\n",
      "[]\n",
      "[]\n",
      "[]\n",
      "[]\n",
      "[]\n",
      "[]\n",
      "[]\n",
      "[]\n",
      "[]\n",
      "[]\n",
      "[]\n",
      "[]\n",
      "[]\n",
      "[]\n",
      "[]\n",
      "[]\n",
      "[]\n",
      "[]\n",
      "[]\n",
      "[]\n",
      "[]\n"
     ]
    },
    {
     "name": "stdout",
     "output_type": "stream",
     "text": [
      "[]\n",
      "[]\n",
      "[]\n",
      "[]\n",
      "[]\n",
      "[]\n",
      "[]\n",
      "[]\n",
      "[]\n",
      "[]\n",
      "[]\n",
      "[]\n",
      "[]\n",
      "[]\n",
      "[]\n",
      "[]\n",
      "[]\n",
      "[]\n",
      "[]\n",
      "[]\n",
      "[]\n",
      "[]\n",
      "[]\n",
      "[]\n",
      "[]\n",
      "[]\n",
      "[]\n",
      "[]\n",
      "[]\n",
      "[]\n",
      "[]\n",
      "[]\n",
      "[]\n",
      "[]\n",
      "[]\n",
      "[]\n",
      "[]\n",
      "[]\n",
      "[]\n",
      "[]\n",
      "[]\n",
      "[]\n",
      "[]\n",
      "[]\n",
      "[]\n",
      "[]\n",
      "[]\n",
      "[]\n",
      "[]\n",
      "[]\n",
      "[]\n",
      "[]\n",
      "[]\n",
      "[]\n",
      "[]\n",
      "[]\n",
      "[]\n",
      "[]\n",
      "[]\n",
      "[]\n",
      "[]\n",
      "[]\n",
      "[]\n",
      "[]\n",
      "[]\n",
      "[]\n",
      "[]\n",
      "[]\n",
      "[]\n",
      "[]\n",
      "[]\n",
      "[]\n",
      "[]\n",
      "[]\n",
      "[]\n",
      "[]\n",
      "[]\n",
      "[]\n",
      "[]\n",
      "[]\n",
      "[]\n",
      "[]\n",
      "[]\n",
      "[]\n",
      "[]\n",
      "[]\n",
      "[]\n",
      "[]\n",
      "[]\n",
      "[]\n",
      "[]\n",
      "[]\n",
      "[]\n",
      "[]\n",
      "[]\n",
      "[]\n",
      "[]\n",
      "[]\n",
      "[]\n",
      "[]\n",
      "[]\n",
      "[]\n",
      "[]\n",
      "[]\n",
      "[]\n",
      "[]\n",
      "[]\n",
      "[]\n",
      "[]\n",
      "[]\n",
      "[]\n",
      "[]\n",
      "[]\n",
      "[]\n",
      "[]\n",
      "[]\n",
      "[]\n",
      "[]\n",
      "[]\n",
      "[]\n",
      "[]\n",
      "[]\n",
      "[]\n",
      "[]\n",
      "[]\n",
      "[]\n",
      "[]\n",
      "[]\n",
      "[]\n",
      "[]\n",
      "[]\n",
      "[]\n",
      "[]\n",
      "[]\n",
      "[]\n",
      "[]\n",
      "[]\n",
      "[]\n",
      "[]\n",
      "[]\n"
     ]
    }
   ],
   "source": [
    "for complx in g3_complexes:\n",
    "    for window in window_list:\n",
    "        # clean(os.path.join(complx, 'AMBER', 'APR', 'windows', window))"
   ]
  },
  {
   "cell_type": "code",
   "execution_count": 124,
   "metadata": {},
   "outputs": [
    {
     "data": {
      "text/plain": [
       "pytraj.Trajectory, 2000 frames: \n",
       "Size: 0.008985 (GB)\n",
       "<Topology: 201 atoms, 2 residues, 2 mols, PBC with box type = ortho>\n",
       "           "
      ]
     },
     "execution_count": 124,
     "metadata": {},
     "output_type": "execute_result"
    }
   ],
   "source": [
    "pt.load('./OA-G3-0/AMBER/APR/windows/a000/prod.001.nc', './OA-G3-0/AMBER/APR/windows/a000/vac.prmtop')"
   ]
  },
  {
   "cell_type": "code",
   "execution_count": 119,
   "metadata": {},
   "outputs": [
    {
     "data": {
      "text/plain": [
       "<Topology: 204 atoms, 5 residues, 5 mols, PBC with box type = ortho>"
      ]
     },
     "execution_count": 119,
     "metadata": {},
     "output_type": "execute_result"
    }
   ],
   "source": [
    "stripped.topology"
   ]
  },
  {
   "cell_type": "markdown",
   "metadata": {},
   "source": [
    "## Run so that there is at least `prod.002.nc` in each folder!"
   ]
  },
  {
   "cell_type": "code",
   "execution_count": 132,
   "metadata": {},
   "outputs": [
    {
     "name": "stdout",
     "output_type": "stream",
     "text": [
      "Set pull offset (8.03 A)\n"
     ]
    },
    {
     "name": "stderr",
     "output_type": "stream",
     "text": [
      "2018-04-26 05:12:37 PM Calculating attach targets and force constants...\n",
      "2018-04-26 05:12:37 PM Attach, Method #3\n",
      "2018-04-26 05:12:37 PM Calculating pull targets and force constants...\n",
      "2018-04-26 05:12:37 PM Pull, Method #1\n",
      "2018-04-26 05:12:37 PM Calculating release targets and force constants...\n",
      "2018-04-26 05:12:37 PM No restraint info set for the release phase! Skipping...\n",
      "2018-04-26 05:12:37 PM Number of attach windows = 15\n",
      "2018-04-26 05:12:37 PM Number of pull windows = 46\n",
      "2018-04-26 05:12:37 PM This restraint will be skipped in the release phase\n",
      "2018-04-26 05:12:37 PM Assigning atom indices...\n",
      "2018-04-26 05:12:37 PM There are 1 atoms in the mask :3  ...\n",
      "2018-04-26 05:12:37 PM There are 1 atoms in the mask :2@C1  ...\n",
      "2018-04-26 05:12:37 PM Calculating attach targets and force constants...\n",
      "2018-04-26 05:12:37 PM Attach, Method #3\n",
      "2018-04-26 05:12:37 PM Calculating pull targets and force constants...\n",
      "2018-04-26 05:12:37 PM Pull, Method #1\n",
      "2018-04-26 05:12:37 PM Calculating release targets and force constants...\n",
      "2018-04-26 05:12:37 PM No restraint info set for the release phase! Skipping...\n",
      "2018-04-26 05:12:37 PM Number of attach windows = 15\n",
      "2018-04-26 05:12:37 PM Number of pull windows = 46\n",
      "2018-04-26 05:12:37 PM This restraint will be skipped in the release phase\n",
      "2018-04-26 05:12:37 PM Assigning atom indices...\n",
      "2018-04-26 05:12:37 PM There are 1 atoms in the mask :4  ...\n",
      "2018-04-26 05:12:37 PM There are 1 atoms in the mask :3  ...\n",
      "2018-04-26 05:12:37 PM There are 1 atoms in the mask :2@C1  ...\n",
      "2018-04-26 05:12:37 PM Calculating attach targets and force constants...\n",
      "2018-04-26 05:12:37 PM Attach, Method #3\n",
      "2018-04-26 05:12:37 PM Calculating pull targets and force constants...\n",
      "2018-04-26 05:12:37 PM Pull, Method #1\n",
      "2018-04-26 05:12:37 PM Calculating release targets and force constants...\n",
      "2018-04-26 05:12:37 PM No restraint info set for the release phase! Skipping...\n",
      "2018-04-26 05:12:37 PM Number of attach windows = 15\n",
      "2018-04-26 05:12:37 PM Number of pull windows = 46\n",
      "2018-04-26 05:12:37 PM This restraint will be skipped in the release phase\n",
      "2018-04-26 05:12:37 PM Assigning atom indices...\n",
      "2018-04-26 05:12:37 PM There are 1 atoms in the mask :3  ...\n",
      "2018-04-26 05:12:38 PM There are 1 atoms in the mask :2@C1  ...\n",
      "2018-04-26 05:12:38 PM There are 1 atoms in the mask :2@C3  ...\n",
      "2018-04-26 05:12:38 PM Writing prod.002.in\n",
      "2018-04-26 05:12:38 PM Running MD at ./OA-G3-0/AMBER/APR/windows/a002\n",
      "2018-04-26 05:12:38 PM Exec line: pmemd.cuda -O -p solvate.prmtop -ref solvate.rst7 -c prod.001.rst7 -i prod.002.in -o prod.002.out -r prod.002.rst7 -x prod.002.nc -inf prod.002.mdinfo -e prod.002.mden\n"
     ]
    },
    {
     "name": "stdout",
     "output_type": "stream",
     "text": [
      "Simulating ./OA-G3-0\n",
      "Window a000 has `prod.002.nc`...\n",
      "Window a001 has `prod.002.nc`...\n"
     ]
    },
    {
     "name": "stderr",
     "output_type": "stream",
     "text": [
      "2018-04-26 05:15:18 PM MD completed ...\n",
      "2018-04-26 05:15:18 PM Writing prod.002.in\n",
      "2018-04-26 05:15:18 PM Running MD at ./OA-G3-0/AMBER/APR/windows/a003\n",
      "2018-04-26 05:15:18 PM Exec line: pmemd.cuda -O -p solvate.prmtop -ref solvate.rst7 -c prod.001.rst7 -i prod.002.in -o prod.002.out -r prod.002.rst7 -x prod.002.nc -inf prod.002.mdinfo -e prod.002.mden\n",
      "2018-04-26 05:17:56 PM MD completed ...\n",
      "2018-04-26 05:17:56 PM Writing prod.002.in\n",
      "2018-04-26 05:17:56 PM Running MD at ./OA-G3-0/AMBER/APR/windows/a004\n",
      "2018-04-26 05:17:56 PM Exec line: pmemd.cuda -O -p solvate.prmtop -ref solvate.rst7 -c prod.001.rst7 -i prod.002.in -o prod.002.out -r prod.002.rst7 -x prod.002.nc -inf prod.002.mdinfo -e prod.002.mden\n",
      "2018-04-26 05:20:31 PM MD completed ...\n",
      "2018-04-26 05:20:31 PM Writing prod.002.in\n",
      "2018-04-26 05:20:31 PM Running MD at ./OA-G3-0/AMBER/APR/windows/a005\n",
      "2018-04-26 05:20:31 PM Exec line: pmemd.cuda -O -p solvate.prmtop -ref solvate.rst7 -c prod.001.rst7 -i prod.002.in -o prod.002.out -r prod.002.rst7 -x prod.002.nc -inf prod.002.mdinfo -e prod.002.mden\n",
      "2018-04-26 05:23:08 PM MD completed ...\n",
      "2018-04-26 05:23:08 PM Writing prod.002.in\n",
      "2018-04-26 05:23:08 PM Running MD at ./OA-G3-0/AMBER/APR/windows/a006\n",
      "2018-04-26 05:23:08 PM Exec line: pmemd.cuda -O -p solvate.prmtop -ref solvate.rst7 -c prod.001.rst7 -i prod.002.in -o prod.002.out -r prod.002.rst7 -x prod.002.nc -inf prod.002.mdinfo -e prod.002.mden\n",
      "2018-04-26 05:25:43 PM MD completed ...\n",
      "2018-04-26 05:25:43 PM Writing prod.002.in\n",
      "2018-04-26 05:25:43 PM Running MD at ./OA-G3-0/AMBER/APR/windows/a007\n",
      "2018-04-26 05:25:43 PM Exec line: pmemd.cuda -O -p solvate.prmtop -ref solvate.rst7 -c prod.001.rst7 -i prod.002.in -o prod.002.out -r prod.002.rst7 -x prod.002.nc -inf prod.002.mdinfo -e prod.002.mden\n",
      "2018-04-26 05:28:24 PM MD completed ...\n",
      "2018-04-26 05:28:24 PM Writing prod.002.in\n",
      "2018-04-26 05:28:24 PM Running MD at ./OA-G3-0/AMBER/APR/windows/p004\n",
      "2018-04-26 05:28:24 PM Exec line: pmemd.cuda -O -p solvate.prmtop -ref solvate.rst7 -c prod.001.rst7 -i prod.002.in -o prod.002.out -r prod.002.rst7 -x prod.002.nc -inf prod.002.mdinfo -e prod.002.mden\n"
     ]
    },
    {
     "name": "stdout",
     "output_type": "stream",
     "text": [
      "Window a008 has `prod.002.nc`...\n",
      "Window a009 has `prod.002.nc`...\n",
      "Window a010 has `prod.002.nc`...\n",
      "Window a011 has `prod.002.nc`...\n",
      "Window a012 has `prod.002.nc`...\n",
      "Window a013 has `prod.002.nc`...\n",
      "Window p000 has `prod.002.nc`...\n",
      "Window p001 has `prod.002.nc`...\n",
      "Window p002 has `prod.002.nc`...\n",
      "Window p003 has `prod.002.nc`...\n"
     ]
    },
    {
     "name": "stderr",
     "output_type": "stream",
     "text": [
      "2018-04-26 05:31:01 PM MD completed ...\n",
      "2018-04-26 05:31:01 PM Writing prod.002.in\n",
      "2018-04-26 05:31:01 PM Running MD at ./OA-G3-0/AMBER/APR/windows/p015\n",
      "2018-04-26 05:31:01 PM Exec line: pmemd.cuda -O -p solvate.prmtop -ref solvate.rst7 -c prod.001.rst7 -i prod.002.in -o prod.002.out -r prod.002.rst7 -x prod.002.nc -inf prod.002.mdinfo -e prod.002.mden\n"
     ]
    },
    {
     "name": "stdout",
     "output_type": "stream",
     "text": [
      "Window p005 has `prod.002.nc`...\n",
      "Window p006 has `prod.002.nc`...\n",
      "Window p007 has `prod.002.nc`...\n",
      "Window p008 has `prod.002.nc`...\n",
      "Window p009 has `prod.002.nc`...\n",
      "Window p010 has `prod.002.nc`...\n",
      "Window p011 has `prod.002.nc`...\n",
      "Window p012 has `prod.002.nc`...\n",
      "Window p013 has `prod.002.nc`...\n",
      "Window p014 has `prod.002.nc`...\n"
     ]
    },
    {
     "name": "stderr",
     "output_type": "stream",
     "text": [
      "2018-04-26 05:33:38 PM MD completed ...\n",
      "2018-04-26 05:33:38 PM Writing prod.002.in\n",
      "2018-04-26 05:33:38 PM Running MD at ./OA-G3-0/AMBER/APR/windows/p016\n",
      "2018-04-26 05:33:38 PM Exec line: pmemd.cuda -O -p solvate.prmtop -ref solvate.rst7 -c prod.001.rst7 -i prod.002.in -o prod.002.out -r prod.002.rst7 -x prod.002.nc -inf prod.002.mdinfo -e prod.002.mden\n",
      "2018-04-26 05:36:16 PM MD completed ...\n",
      "2018-04-26 05:36:16 PM Writing prod.002.in\n",
      "2018-04-26 05:36:16 PM Running MD at ./OA-G3-0/AMBER/APR/windows/p017\n",
      "2018-04-26 05:36:16 PM Exec line: pmemd.cuda -O -p solvate.prmtop -ref solvate.rst7 -c prod.001.rst7 -i prod.002.in -o prod.002.out -r prod.002.rst7 -x prod.002.nc -inf prod.002.mdinfo -e prod.002.mden\n",
      "2018-04-26 05:38:52 PM MD completed ...\n",
      "2018-04-26 05:38:52 PM Writing prod.002.in\n",
      "2018-04-26 05:38:52 PM Running MD at ./OA-G3-0/AMBER/APR/windows/p018\n",
      "2018-04-26 05:38:52 PM Exec line: pmemd.cuda -O -p solvate.prmtop -ref solvate.rst7 -c prod.001.rst7 -i prod.002.in -o prod.002.out -r prod.002.rst7 -x prod.002.nc -inf prod.002.mdinfo -e prod.002.mden\n",
      "2018-04-26 05:41:30 PM MD completed ...\n",
      "2018-04-26 05:41:30 PM Writing prod.002.in\n",
      "2018-04-26 05:41:30 PM Running MD at ./OA-G3-0/AMBER/APR/windows/p019\n",
      "2018-04-26 05:41:30 PM Exec line: pmemd.cuda -O -p solvate.prmtop -ref solvate.rst7 -c prod.001.rst7 -i prod.002.in -o prod.002.out -r prod.002.rst7 -x prod.002.nc -inf prod.002.mdinfo -e prod.002.mden\n",
      "2018-04-26 05:44:07 PM MD completed ...\n",
      "2018-04-26 05:44:07 PM Writing prod.002.in\n",
      "2018-04-26 05:44:07 PM Running MD at ./OA-G3-0/AMBER/APR/windows/p020\n",
      "2018-04-26 05:44:07 PM Exec line: pmemd.cuda -O -p solvate.prmtop -ref solvate.rst7 -c prod.001.rst7 -i prod.002.in -o prod.002.out -r prod.002.rst7 -x prod.002.nc -inf prod.002.mdinfo -e prod.002.mden\n",
      "2018-04-26 05:46:46 PM MD completed ...\n",
      "2018-04-26 05:46:46 PM Writing prod.002.in\n",
      "2018-04-26 05:46:46 PM Running MD at ./OA-G3-0/AMBER/APR/windows/p021\n",
      "2018-04-26 05:46:46 PM Exec line: pmemd.cuda -O -p solvate.prmtop -ref solvate.rst7 -c prod.001.rst7 -i prod.002.in -o prod.002.out -r prod.002.rst7 -x prod.002.nc -inf prod.002.mdinfo -e prod.002.mden\n",
      "2018-04-26 05:49:24 PM MD completed ...\n",
      "2018-04-26 05:49:24 PM Writing prod.002.in\n",
      "2018-04-26 05:49:24 PM Running MD at ./OA-G3-0/AMBER/APR/windows/p022\n",
      "2018-04-26 05:49:24 PM Exec line: pmemd.cuda -O -p solvate.prmtop -ref solvate.rst7 -c prod.001.rst7 -i prod.002.in -o prod.002.out -r prod.002.rst7 -x prod.002.nc -inf prod.002.mdinfo -e prod.002.mden\n",
      "2018-04-26 05:52:04 PM MD completed ...\n",
      "2018-04-26 05:52:04 PM Writing prod.002.in\n",
      "2018-04-26 05:52:04 PM Running MD at ./OA-G3-0/AMBER/APR/windows/p023\n",
      "2018-04-26 05:52:04 PM Exec line: pmemd.cuda -O -p solvate.prmtop -ref solvate.rst7 -c prod.001.rst7 -i prod.002.in -o prod.002.out -r prod.002.rst7 -x prod.002.nc -inf prod.002.mdinfo -e prod.002.mden\n",
      "2018-04-26 05:54:42 PM MD completed ...\n",
      "2018-04-26 05:54:42 PM Writing prod.002.in\n",
      "2018-04-26 05:54:42 PM Running MD at ./OA-G3-0/AMBER/APR/windows/p024\n",
      "2018-04-26 05:54:42 PM Exec line: pmemd.cuda -O -p solvate.prmtop -ref solvate.rst7 -c prod.001.rst7 -i prod.002.in -o prod.002.out -r prod.002.rst7 -x prod.002.nc -inf prod.002.mdinfo -e prod.002.mden\n",
      "2018-04-26 05:57:20 PM MD completed ...\n",
      "2018-04-26 05:57:20 PM Writing prod.002.in\n",
      "2018-04-26 05:57:20 PM Running MD at ./OA-G3-0/AMBER/APR/windows/p025\n",
      "2018-04-26 05:57:20 PM Exec line: pmemd.cuda -O -p solvate.prmtop -ref solvate.rst7 -c prod.001.rst7 -i prod.002.in -o prod.002.out -r prod.002.rst7 -x prod.002.nc -inf prod.002.mdinfo -e prod.002.mden\n",
      "2018-04-26 05:59:59 PM MD completed ...\n",
      "2018-04-26 05:59:59 PM Writing prod.002.in\n",
      "2018-04-26 05:59:59 PM Running MD at ./OA-G3-0/AMBER/APR/windows/p026\n",
      "2018-04-26 05:59:59 PM Exec line: pmemd.cuda -O -p solvate.prmtop -ref solvate.rst7 -c prod.001.rst7 -i prod.002.in -o prod.002.out -r prod.002.rst7 -x prod.002.nc -inf prod.002.mdinfo -e prod.002.mden\n",
      "2018-04-26 06:02:38 PM MD completed ...\n",
      "2018-04-26 06:02:38 PM Writing prod.002.in\n",
      "2018-04-26 06:02:38 PM Running MD at ./OA-G3-0/AMBER/APR/windows/p027\n",
      "2018-04-26 06:02:38 PM Exec line: pmemd.cuda -O -p solvate.prmtop -ref solvate.rst7 -c prod.001.rst7 -i prod.002.in -o prod.002.out -r prod.002.rst7 -x prod.002.nc -inf prod.002.mdinfo -e prod.002.mden\n",
      "2018-04-26 06:05:16 PM MD completed ...\n",
      "2018-04-26 06:05:16 PM Writing prod.002.in\n",
      "2018-04-26 06:05:16 PM Running MD at ./OA-G3-0/AMBER/APR/windows/p028\n",
      "2018-04-26 06:05:16 PM Exec line: pmemd.cuda -O -p solvate.prmtop -ref solvate.rst7 -c prod.001.rst7 -i prod.002.in -o prod.002.out -r prod.002.rst7 -x prod.002.nc -inf prod.002.mdinfo -e prod.002.mden\n",
      "2018-04-26 06:07:58 PM MD completed ...\n",
      "2018-04-26 06:07:58 PM Writing prod.002.in\n",
      "2018-04-26 06:07:58 PM Running MD at ./OA-G3-0/AMBER/APR/windows/p029\n",
      "2018-04-26 06:07:58 PM Exec line: pmemd.cuda -O -p solvate.prmtop -ref solvate.rst7 -c prod.001.rst7 -i prod.002.in -o prod.002.out -r prod.002.rst7 -x prod.002.nc -inf prod.002.mdinfo -e prod.002.mden\n",
      "2018-04-26 06:10:36 PM MD completed ...\n",
      "2018-04-26 06:10:36 PM Writing prod.002.in\n",
      "2018-04-26 06:10:36 PM Running MD at ./OA-G3-0/AMBER/APR/windows/p030\n",
      "2018-04-26 06:10:36 PM Exec line: pmemd.cuda -O -p solvate.prmtop -ref solvate.rst7 -c prod.001.rst7 -i prod.002.in -o prod.002.out -r prod.002.rst7 -x prod.002.nc -inf prod.002.mdinfo -e prod.002.mden\n",
      "2018-04-26 06:13:18 PM MD completed ...\n",
      "2018-04-26 06:13:18 PM Writing prod.002.in\n",
      "2018-04-26 06:13:18 PM Running MD at ./OA-G3-0/AMBER/APR/windows/p031\n",
      "2018-04-26 06:13:18 PM Exec line: pmemd.cuda -O -p solvate.prmtop -ref solvate.rst7 -c prod.001.rst7 -i prod.002.in -o prod.002.out -r prod.002.rst7 -x prod.002.nc -inf prod.002.mdinfo -e prod.002.mden\n",
      "2018-04-26 06:16:01 PM MD completed ...\n",
      "2018-04-26 06:16:01 PM Writing prod.002.in\n",
      "2018-04-26 06:16:01 PM Running MD at ./OA-G3-0/AMBER/APR/windows/p032\n",
      "2018-04-26 06:16:01 PM Exec line: pmemd.cuda -O -p solvate.prmtop -ref solvate.rst7 -c prod.001.rst7 -i prod.002.in -o prod.002.out -r prod.002.rst7 -x prod.002.nc -inf prod.002.mdinfo -e prod.002.mden\n",
      "2018-04-26 06:18:38 PM MD completed ...\n",
      "2018-04-26 06:18:38 PM Writing prod.002.in\n",
      "2018-04-26 06:18:38 PM Running MD at ./OA-G3-0/AMBER/APR/windows/p033\n",
      "2018-04-26 06:18:38 PM Exec line: pmemd.cuda -O -p solvate.prmtop -ref solvate.rst7 -c prod.001.rst7 -i prod.002.in -o prod.002.out -r prod.002.rst7 -x prod.002.nc -inf prod.002.mdinfo -e prod.002.mden\n",
      "2018-04-26 06:21:16 PM MD completed ...\n",
      "2018-04-26 06:21:16 PM Writing prod.002.in\n",
      "2018-04-26 06:21:16 PM Running MD at ./OA-G3-0/AMBER/APR/windows/p034\n",
      "2018-04-26 06:21:16 PM Exec line: pmemd.cuda -O -p solvate.prmtop -ref solvate.rst7 -c prod.001.rst7 -i prod.002.in -o prod.002.out -r prod.002.rst7 -x prod.002.nc -inf prod.002.mdinfo -e prod.002.mden\n",
      "2018-04-26 06:23:55 PM MD completed ...\n",
      "2018-04-26 06:23:55 PM Writing prod.002.in\n",
      "2018-04-26 06:23:55 PM Running MD at ./OA-G3-0/AMBER/APR/windows/p035\n",
      "2018-04-26 06:23:55 PM Exec line: pmemd.cuda -O -p solvate.prmtop -ref solvate.rst7 -c prod.001.rst7 -i prod.002.in -o prod.002.out -r prod.002.rst7 -x prod.002.nc -inf prod.002.mdinfo -e prod.002.mden\n",
      "2018-04-26 06:26:31 PM MD completed ...\n",
      "2018-04-26 06:26:31 PM Writing prod.002.in\n",
      "2018-04-26 06:26:31 PM Running MD at ./OA-G3-0/AMBER/APR/windows/p036\n",
      "2018-04-26 06:26:31 PM Exec line: pmemd.cuda -O -p solvate.prmtop -ref solvate.rst7 -c prod.001.rst7 -i prod.002.in -o prod.002.out -r prod.002.rst7 -x prod.002.nc -inf prod.002.mdinfo -e prod.002.mden\n",
      "2018-04-26 06:29:08 PM MD completed ...\n",
      "2018-04-26 06:29:08 PM Writing prod.002.in\n",
      "2018-04-26 06:29:08 PM Running MD at ./OA-G3-0/AMBER/APR/windows/p037\n",
      "2018-04-26 06:29:08 PM Exec line: pmemd.cuda -O -p solvate.prmtop -ref solvate.rst7 -c prod.001.rst7 -i prod.002.in -o prod.002.out -r prod.002.rst7 -x prod.002.nc -inf prod.002.mdinfo -e prod.002.mden\n",
      "2018-04-26 06:31:46 PM MD completed ...\n",
      "2018-04-26 06:31:46 PM Writing prod.002.in\n",
      "2018-04-26 06:31:46 PM Running MD at ./OA-G3-0/AMBER/APR/windows/p038\n",
      "2018-04-26 06:31:46 PM Exec line: pmemd.cuda -O -p solvate.prmtop -ref solvate.rst7 -c prod.001.rst7 -i prod.002.in -o prod.002.out -r prod.002.rst7 -x prod.002.nc -inf prod.002.mdinfo -e prod.002.mden\n",
      "2018-04-26 06:34:24 PM MD completed ...\n"
     ]
    },
    {
     "name": "stderr",
     "output_type": "stream",
     "text": [
      "2018-04-26 06:34:24 PM Writing prod.002.in\n",
      "2018-04-26 06:34:24 PM Running MD at ./OA-G3-0/AMBER/APR/windows/p039\n",
      "2018-04-26 06:34:24 PM Exec line: pmemd.cuda -O -p solvate.prmtop -ref solvate.rst7 -c prod.001.rst7 -i prod.002.in -o prod.002.out -r prod.002.rst7 -x prod.002.nc -inf prod.002.mdinfo -e prod.002.mden\n",
      "2018-04-26 06:37:03 PM MD completed ...\n",
      "2018-04-26 06:37:03 PM Writing prod.002.in\n",
      "2018-04-26 06:37:03 PM Running MD at ./OA-G3-0/AMBER/APR/windows/p040\n",
      "2018-04-26 06:37:03 PM Exec line: pmemd.cuda -O -p solvate.prmtop -ref solvate.rst7 -c prod.001.rst7 -i prod.002.in -o prod.002.out -r prod.002.rst7 -x prod.002.nc -inf prod.002.mdinfo -e prod.002.mden\n",
      "2018-04-26 06:39:44 PM MD completed ...\n",
      "2018-04-26 06:39:44 PM Writing prod.002.in\n",
      "2018-04-26 06:39:44 PM Running MD at ./OA-G3-0/AMBER/APR/windows/p041\n",
      "2018-04-26 06:39:44 PM Exec line: pmemd.cuda -O -p solvate.prmtop -ref solvate.rst7 -c prod.001.rst7 -i prod.002.in -o prod.002.out -r prod.002.rst7 -x prod.002.nc -inf prod.002.mdinfo -e prod.002.mden\n",
      "2018-04-26 06:42:22 PM MD completed ...\n",
      "2018-04-26 06:42:22 PM Writing prod.002.in\n",
      "2018-04-26 06:42:22 PM Running MD at ./OA-G3-0/AMBER/APR/windows/p042\n",
      "2018-04-26 06:42:22 PM Exec line: pmemd.cuda -O -p solvate.prmtop -ref solvate.rst7 -c prod.001.rst7 -i prod.002.in -o prod.002.out -r prod.002.rst7 -x prod.002.nc -inf prod.002.mdinfo -e prod.002.mden\n",
      "2018-04-26 06:45:01 PM MD completed ...\n",
      "2018-04-26 06:45:01 PM Writing prod.002.in\n",
      "2018-04-26 06:45:01 PM Running MD at ./OA-G3-0/AMBER/APR/windows/p043\n",
      "2018-04-26 06:45:01 PM Exec line: pmemd.cuda -O -p solvate.prmtop -ref solvate.rst7 -c prod.001.rst7 -i prod.002.in -o prod.002.out -r prod.002.rst7 -x prod.002.nc -inf prod.002.mdinfo -e prod.002.mden\n",
      "2018-04-26 06:47:40 PM MD completed ...\n",
      "2018-04-26 06:47:40 PM Writing prod.002.in\n",
      "2018-04-26 06:47:40 PM Running MD at ./OA-G3-0/AMBER/APR/windows/p044\n",
      "2018-04-26 06:47:40 PM Exec line: pmemd.cuda -O -p solvate.prmtop -ref solvate.rst7 -c prod.001.rst7 -i prod.002.in -o prod.002.out -r prod.002.rst7 -x prod.002.nc -inf prod.002.mdinfo -e prod.002.mden\n",
      "2018-04-26 06:50:18 PM MD completed ...\n",
      "2018-04-26 06:50:18 PM Writing prod.002.in\n",
      "2018-04-26 06:50:18 PM Running MD at ./OA-G3-0/AMBER/APR/windows/p045\n",
      "2018-04-26 06:50:18 PM Exec line: pmemd.cuda -O -p solvate.prmtop -ref solvate.rst7 -c prod.001.rst7 -i prod.002.in -o prod.002.out -r prod.002.rst7 -x prod.002.nc -inf prod.002.mdinfo -e prod.002.mden\n",
      "2018-04-26 06:52:58 PM MD completed ...\n"
     ]
    },
    {
     "name": "stdout",
     "output_type": "stream",
     "text": [
      "Set pull offset (5.63 A)\n"
     ]
    },
    {
     "name": "stderr",
     "output_type": "stream",
     "text": [
      "2018-04-26 06:52:59 PM Calculating attach targets and force constants...\n",
      "2018-04-26 06:52:59 PM Attach, Method #3\n",
      "2018-04-26 06:52:59 PM Calculating pull targets and force constants...\n",
      "2018-04-26 06:52:59 PM Pull, Method #1\n",
      "2018-04-26 06:52:59 PM Calculating release targets and force constants...\n",
      "2018-04-26 06:52:59 PM No restraint info set for the release phase! Skipping...\n",
      "2018-04-26 06:52:59 PM Number of attach windows = 15\n",
      "2018-04-26 06:52:59 PM Number of pull windows = 46\n",
      "2018-04-26 06:52:59 PM This restraint will be skipped in the release phase\n",
      "2018-04-26 06:52:59 PM Assigning atom indices...\n",
      "2018-04-26 06:52:59 PM There are 1 atoms in the mask :3  ...\n",
      "2018-04-26 06:52:59 PM There are 1 atoms in the mask :2@C1  ...\n",
      "2018-04-26 06:52:59 PM Calculating attach targets and force constants...\n",
      "2018-04-26 06:52:59 PM Attach, Method #3\n",
      "2018-04-26 06:52:59 PM Calculating pull targets and force constants...\n",
      "2018-04-26 06:52:59 PM Pull, Method #1\n",
      "2018-04-26 06:52:59 PM Calculating release targets and force constants...\n",
      "2018-04-26 06:52:59 PM No restraint info set for the release phase! Skipping...\n",
      "2018-04-26 06:52:59 PM Number of attach windows = 15\n",
      "2018-04-26 06:52:59 PM Number of pull windows = 46\n",
      "2018-04-26 06:52:59 PM This restraint will be skipped in the release phase\n",
      "2018-04-26 06:52:59 PM Assigning atom indices...\n",
      "2018-04-26 06:52:59 PM There are 1 atoms in the mask :4  ...\n",
      "2018-04-26 06:52:59 PM There are 1 atoms in the mask :3  ...\n",
      "2018-04-26 06:52:59 PM There are 1 atoms in the mask :2@C1  ...\n",
      "2018-04-26 06:52:59 PM Calculating attach targets and force constants...\n",
      "2018-04-26 06:52:59 PM Attach, Method #3\n",
      "2018-04-26 06:52:59 PM Calculating pull targets and force constants...\n",
      "2018-04-26 06:52:59 PM Pull, Method #1\n",
      "2018-04-26 06:52:59 PM Calculating release targets and force constants...\n",
      "2018-04-26 06:52:59 PM No restraint info set for the release phase! Skipping...\n",
      "2018-04-26 06:52:59 PM Number of attach windows = 15\n",
      "2018-04-26 06:52:59 PM Number of pull windows = 46\n",
      "2018-04-26 06:52:59 PM This restraint will be skipped in the release phase\n",
      "2018-04-26 06:52:59 PM Assigning atom indices...\n",
      "2018-04-26 06:52:59 PM There are 1 atoms in the mask :3  ...\n",
      "2018-04-26 06:52:59 PM There are 1 atoms in the mask :2@C1  ...\n",
      "2018-04-26 06:52:59 PM There are 1 atoms in the mask :2@C3  ...\n",
      "2018-04-26 06:52:59 PM Writing prod.002.in\n",
      "2018-04-26 06:52:59 PM Running MD at ./OA-G3-1/AMBER/APR/windows/a000\n",
      "2018-04-26 06:52:59 PM Exec line: pmemd.cuda -O -p solvate.prmtop -ref solvate.rst7 -c prod.001.rst7 -i prod.002.in -o prod.002.out -r prod.002.rst7 -x prod.002.nc -inf prod.002.mdinfo -e prod.002.mden\n"
     ]
    },
    {
     "name": "stdout",
     "output_type": "stream",
     "text": [
      "Simulating ./OA-G3-1\n"
     ]
    },
    {
     "name": "stderr",
     "output_type": "stream",
     "text": [
      "2018-04-26 06:55:38 PM MD completed ...\n",
      "2018-04-26 06:55:38 PM Writing prod.002.in\n",
      "2018-04-26 06:55:38 PM Running MD at ./OA-G3-1/AMBER/APR/windows/a001\n",
      "2018-04-26 06:55:38 PM Exec line: pmemd.cuda -O -p solvate.prmtop -ref solvate.rst7 -c prod.001.rst7 -i prod.002.in -o prod.002.out -r prod.002.rst7 -x prod.002.nc -inf prod.002.mdinfo -e prod.002.mden\n",
      "2018-04-26 06:58:17 PM MD completed ...\n",
      "2018-04-26 06:58:17 PM Writing prod.002.in\n",
      "2018-04-26 06:58:17 PM Running MD at ./OA-G3-1/AMBER/APR/windows/a002\n",
      "2018-04-26 06:58:17 PM Exec line: pmemd.cuda -O -p solvate.prmtop -ref solvate.rst7 -c prod.001.rst7 -i prod.002.in -o prod.002.out -r prod.002.rst7 -x prod.002.nc -inf prod.002.mdinfo -e prod.002.mden\n",
      "2018-04-26 07:00:53 PM MD completed ...\n",
      "2018-04-26 07:00:53 PM Writing prod.002.in\n",
      "2018-04-26 07:00:53 PM Running MD at ./OA-G3-1/AMBER/APR/windows/a003\n",
      "2018-04-26 07:00:53 PM Exec line: pmemd.cuda -O -p solvate.prmtop -ref solvate.rst7 -c prod.001.rst7 -i prod.002.in -o prod.002.out -r prod.002.rst7 -x prod.002.nc -inf prod.002.mdinfo -e prod.002.mden\n",
      "2018-04-26 07:03:29 PM MD completed ...\n",
      "2018-04-26 07:03:29 PM Writing prod.002.in\n",
      "2018-04-26 07:03:29 PM Running MD at ./OA-G3-1/AMBER/APR/windows/a004\n",
      "2018-04-26 07:03:29 PM Exec line: pmemd.cuda -O -p solvate.prmtop -ref solvate.rst7 -c prod.001.rst7 -i prod.002.in -o prod.002.out -r prod.002.rst7 -x prod.002.nc -inf prod.002.mdinfo -e prod.002.mden\n",
      "2018-04-26 07:06:07 PM MD completed ...\n",
      "2018-04-26 07:06:07 PM Writing prod.002.in\n",
      "2018-04-26 07:06:07 PM Running MD at ./OA-G3-1/AMBER/APR/windows/a005\n",
      "2018-04-26 07:06:07 PM Exec line: pmemd.cuda -O -p solvate.prmtop -ref solvate.rst7 -c prod.001.rst7 -i prod.002.in -o prod.002.out -r prod.002.rst7 -x prod.002.nc -inf prod.002.mdinfo -e prod.002.mden\n",
      "2018-04-26 07:08:42 PM MD completed ...\n",
      "2018-04-26 07:08:42 PM Writing prod.002.in\n",
      "2018-04-26 07:08:42 PM Running MD at ./OA-G3-1/AMBER/APR/windows/a006\n",
      "2018-04-26 07:08:42 PM Exec line: pmemd.cuda -O -p solvate.prmtop -ref solvate.rst7 -c prod.001.rst7 -i prod.002.in -o prod.002.out -r prod.002.rst7 -x prod.002.nc -inf prod.002.mdinfo -e prod.002.mden\n",
      "2018-04-26 07:11:21 PM MD completed ...\n",
      "2018-04-26 07:11:21 PM Writing prod.002.in\n",
      "2018-04-26 07:11:21 PM Running MD at ./OA-G3-1/AMBER/APR/windows/a007\n",
      "2018-04-26 07:11:21 PM Exec line: pmemd.cuda -O -p solvate.prmtop -ref solvate.rst7 -c prod.001.rst7 -i prod.002.in -o prod.002.out -r prod.002.rst7 -x prod.002.nc -inf prod.002.mdinfo -e prod.002.mden\n",
      "2018-04-26 07:13:59 PM MD completed ...\n",
      "2018-04-26 07:13:59 PM Writing prod.002.in\n",
      "2018-04-26 07:13:59 PM Running MD at ./OA-G3-1/AMBER/APR/windows/a008\n",
      "2018-04-26 07:13:59 PM Exec line: pmemd.cuda -O -p solvate.prmtop -ref solvate.rst7 -c prod.001.rst7 -i prod.002.in -o prod.002.out -r prod.002.rst7 -x prod.002.nc -inf prod.002.mdinfo -e prod.002.mden\n",
      "2018-04-26 07:16:36 PM MD completed ...\n",
      "2018-04-26 07:16:36 PM Writing prod.002.in\n",
      "2018-04-26 07:16:36 PM Running MD at ./OA-G3-1/AMBER/APR/windows/a009\n",
      "2018-04-26 07:16:36 PM Exec line: pmemd.cuda -O -p solvate.prmtop -ref solvate.rst7 -c prod.001.rst7 -i prod.002.in -o prod.002.out -r prod.002.rst7 -x prod.002.nc -inf prod.002.mdinfo -e prod.002.mden\n",
      "2018-04-26 07:19:11 PM MD completed ...\n",
      "2018-04-26 07:19:11 PM Writing prod.002.in\n",
      "2018-04-26 07:19:11 PM Running MD at ./OA-G3-1/AMBER/APR/windows/a010\n",
      "2018-04-26 07:19:11 PM Exec line: pmemd.cuda -O -p solvate.prmtop -ref solvate.rst7 -c prod.001.rst7 -i prod.002.in -o prod.002.out -r prod.002.rst7 -x prod.002.nc -inf prod.002.mdinfo -e prod.002.mden\n",
      "2018-04-26 07:21:46 PM MD completed ...\n",
      "2018-04-26 07:21:46 PM Writing prod.002.in\n",
      "2018-04-26 07:21:46 PM Running MD at ./OA-G3-1/AMBER/APR/windows/a011\n",
      "2018-04-26 07:21:46 PM Exec line: pmemd.cuda -O -p solvate.prmtop -ref solvate.rst7 -c prod.001.rst7 -i prod.002.in -o prod.002.out -r prod.002.rst7 -x prod.002.nc -inf prod.002.mdinfo -e prod.002.mden\n",
      "2018-04-26 07:24:23 PM MD completed ...\n",
      "2018-04-26 07:24:23 PM Writing prod.002.in\n",
      "2018-04-26 07:24:23 PM Running MD at ./OA-G3-1/AMBER/APR/windows/a012\n",
      "2018-04-26 07:24:23 PM Exec line: pmemd.cuda -O -p solvate.prmtop -ref solvate.rst7 -c prod.001.rst7 -i prod.002.in -o prod.002.out -r prod.002.rst7 -x prod.002.nc -inf prod.002.mdinfo -e prod.002.mden\n",
      "2018-04-26 07:27:00 PM MD completed ...\n",
      "2018-04-26 07:27:00 PM Writing prod.002.in\n",
      "2018-04-26 07:27:00 PM Running MD at ./OA-G3-1/AMBER/APR/windows/a013\n",
      "2018-04-26 07:27:00 PM Exec line: pmemd.cuda -O -p solvate.prmtop -ref solvate.rst7 -c prod.001.rst7 -i prod.002.in -o prod.002.out -r prod.002.rst7 -x prod.002.nc -inf prod.002.mdinfo -e prod.002.mden\n",
      "2018-04-26 07:29:35 PM MD completed ...\n",
      "2018-04-26 07:29:35 PM Writing prod.002.in\n",
      "2018-04-26 07:29:35 PM Running MD at ./OA-G3-1/AMBER/APR/windows/p000\n",
      "2018-04-26 07:29:35 PM Exec line: pmemd.cuda -O -p solvate.prmtop -ref solvate.rst7 -c prod.001.rst7 -i prod.002.in -o prod.002.out -r prod.002.rst7 -x prod.002.nc -inf prod.002.mdinfo -e prod.002.mden\n",
      "2018-04-26 07:32:14 PM MD completed ...\n",
      "2018-04-26 07:32:14 PM Writing prod.002.in\n",
      "2018-04-26 07:32:14 PM Running MD at ./OA-G3-1/AMBER/APR/windows/p001\n",
      "2018-04-26 07:32:14 PM Exec line: pmemd.cuda -O -p solvate.prmtop -ref solvate.rst7 -c prod.001.rst7 -i prod.002.in -o prod.002.out -r prod.002.rst7 -x prod.002.nc -inf prod.002.mdinfo -e prod.002.mden\n",
      "2018-04-26 07:34:50 PM MD completed ...\n",
      "2018-04-26 07:34:50 PM Writing prod.002.in\n",
      "2018-04-26 07:34:50 PM Running MD at ./OA-G3-1/AMBER/APR/windows/p002\n",
      "2018-04-26 07:34:50 PM Exec line: pmemd.cuda -O -p solvate.prmtop -ref solvate.rst7 -c prod.001.rst7 -i prod.002.in -o prod.002.out -r prod.002.rst7 -x prod.002.nc -inf prod.002.mdinfo -e prod.002.mden\n",
      "2018-04-26 07:37:26 PM MD completed ...\n",
      "2018-04-26 07:37:26 PM Writing prod.002.in\n",
      "2018-04-26 07:37:26 PM Running MD at ./OA-G3-1/AMBER/APR/windows/p003\n",
      "2018-04-26 07:37:26 PM Exec line: pmemd.cuda -O -p solvate.prmtop -ref solvate.rst7 -c prod.001.rst7 -i prod.002.in -o prod.002.out -r prod.002.rst7 -x prod.002.nc -inf prod.002.mdinfo -e prod.002.mden\n",
      "2018-04-26 07:40:06 PM MD completed ...\n",
      "2018-04-26 07:40:06 PM Writing prod.002.in\n",
      "2018-04-26 07:40:06 PM Running MD at ./OA-G3-1/AMBER/APR/windows/p004\n",
      "2018-04-26 07:40:06 PM Exec line: pmemd.cuda -O -p solvate.prmtop -ref solvate.rst7 -c prod.001.rst7 -i prod.002.in -o prod.002.out -r prod.002.rst7 -x prod.002.nc -inf prod.002.mdinfo -e prod.002.mden\n",
      "2018-04-26 07:42:44 PM MD completed ...\n",
      "2018-04-26 07:42:44 PM Writing prod.002.in\n",
      "2018-04-26 07:42:44 PM Running MD at ./OA-G3-1/AMBER/APR/windows/p005\n",
      "2018-04-26 07:42:44 PM Exec line: pmemd.cuda -O -p solvate.prmtop -ref solvate.rst7 -c prod.001.rst7 -i prod.002.in -o prod.002.out -r prod.002.rst7 -x prod.002.nc -inf prod.002.mdinfo -e prod.002.mden\n",
      "2018-04-26 07:45:23 PM MD completed ...\n",
      "2018-04-26 07:45:23 PM Writing prod.002.in\n",
      "2018-04-26 07:45:23 PM Running MD at ./OA-G3-1/AMBER/APR/windows/p006\n",
      "2018-04-26 07:45:23 PM Exec line: pmemd.cuda -O -p solvate.prmtop -ref solvate.rst7 -c prod.001.rst7 -i prod.002.in -o prod.002.out -r prod.002.rst7 -x prod.002.nc -inf prod.002.mdinfo -e prod.002.mden\n",
      "2018-04-26 07:48:01 PM MD completed ...\n",
      "2018-04-26 07:48:01 PM Writing prod.002.in\n",
      "2018-04-26 07:48:01 PM Running MD at ./OA-G3-1/AMBER/APR/windows/p007\n",
      "2018-04-26 07:48:01 PM Exec line: pmemd.cuda -O -p solvate.prmtop -ref solvate.rst7 -c prod.001.rst7 -i prod.002.in -o prod.002.out -r prod.002.rst7 -x prod.002.nc -inf prod.002.mdinfo -e prod.002.mden\n",
      "2018-04-26 07:50:40 PM MD completed ...\n",
      "2018-04-26 07:50:40 PM Writing prod.002.in\n",
      "2018-04-26 07:50:40 PM Running MD at ./OA-G3-1/AMBER/APR/windows/p008\n",
      "2018-04-26 07:50:40 PM Exec line: pmemd.cuda -O -p solvate.prmtop -ref solvate.rst7 -c prod.001.rst7 -i prod.002.in -o prod.002.out -r prod.002.rst7 -x prod.002.nc -inf prod.002.mdinfo -e prod.002.mden\n",
      "2018-04-26 07:53:21 PM MD completed ...\n",
      "2018-04-26 07:53:21 PM Writing prod.002.in\n",
      "2018-04-26 07:53:21 PM Running MD at ./OA-G3-1/AMBER/APR/windows/p009\n",
      "2018-04-26 07:53:21 PM Exec line: pmemd.cuda -O -p solvate.prmtop -ref solvate.rst7 -c prod.001.rst7 -i prod.002.in -o prod.002.out -r prod.002.rst7 -x prod.002.nc -inf prod.002.mdinfo -e prod.002.mden\n",
      "2018-04-26 07:56:01 PM MD completed ...\n"
     ]
    },
    {
     "name": "stderr",
     "output_type": "stream",
     "text": [
      "2018-04-26 07:56:01 PM Writing prod.002.in\n",
      "2018-04-26 07:56:01 PM Running MD at ./OA-G3-1/AMBER/APR/windows/p010\n",
      "2018-04-26 07:56:01 PM Exec line: pmemd.cuda -O -p solvate.prmtop -ref solvate.rst7 -c prod.001.rst7 -i prod.002.in -o prod.002.out -r prod.002.rst7 -x prod.002.nc -inf prod.002.mdinfo -e prod.002.mden\n",
      "2018-04-26 07:58:40 PM MD completed ...\n",
      "2018-04-26 07:58:40 PM Writing prod.002.in\n",
      "2018-04-26 07:58:40 PM Running MD at ./OA-G3-1/AMBER/APR/windows/p011\n",
      "2018-04-26 07:58:40 PM Exec line: pmemd.cuda -O -p solvate.prmtop -ref solvate.rst7 -c prod.001.rst7 -i prod.002.in -o prod.002.out -r prod.002.rst7 -x prod.002.nc -inf prod.002.mdinfo -e prod.002.mden\n",
      "2018-04-26 08:01:21 PM MD completed ...\n",
      "2018-04-26 08:01:21 PM Writing prod.002.in\n",
      "2018-04-26 08:01:21 PM Running MD at ./OA-G3-1/AMBER/APR/windows/p012\n",
      "2018-04-26 08:01:21 PM Exec line: pmemd.cuda -O -p solvate.prmtop -ref solvate.rst7 -c prod.001.rst7 -i prod.002.in -o prod.002.out -r prod.002.rst7 -x prod.002.nc -inf prod.002.mdinfo -e prod.002.mden\n",
      "2018-04-26 08:04:02 PM MD completed ...\n",
      "2018-04-26 08:04:02 PM Writing prod.002.in\n",
      "2018-04-26 08:04:02 PM Running MD at ./OA-G3-1/AMBER/APR/windows/p013\n",
      "2018-04-26 08:04:02 PM Exec line: pmemd.cuda -O -p solvate.prmtop -ref solvate.rst7 -c prod.001.rst7 -i prod.002.in -o prod.002.out -r prod.002.rst7 -x prod.002.nc -inf prod.002.mdinfo -e prod.002.mden\n",
      "2018-04-26 08:06:42 PM MD completed ...\n",
      "2018-04-26 08:06:42 PM Writing prod.002.in\n",
      "2018-04-26 08:06:42 PM Running MD at ./OA-G3-1/AMBER/APR/windows/p014\n",
      "2018-04-26 08:06:42 PM Exec line: pmemd.cuda -O -p solvate.prmtop -ref solvate.rst7 -c prod.001.rst7 -i prod.002.in -o prod.002.out -r prod.002.rst7 -x prod.002.nc -inf prod.002.mdinfo -e prod.002.mden\n",
      "2018-04-26 08:09:22 PM MD completed ...\n",
      "2018-04-26 08:09:22 PM Writing prod.002.in\n",
      "2018-04-26 08:09:22 PM Running MD at ./OA-G3-1/AMBER/APR/windows/p015\n",
      "2018-04-26 08:09:22 PM Exec line: pmemd.cuda -O -p solvate.prmtop -ref solvate.rst7 -c prod.001.rst7 -i prod.002.in -o prod.002.out -r prod.002.rst7 -x prod.002.nc -inf prod.002.mdinfo -e prod.002.mden\n",
      "2018-04-26 08:12:04 PM MD completed ...\n",
      "2018-04-26 08:12:04 PM Writing prod.002.in\n",
      "2018-04-26 08:12:04 PM Running MD at ./OA-G3-1/AMBER/APR/windows/p016\n",
      "2018-04-26 08:12:04 PM Exec line: pmemd.cuda -O -p solvate.prmtop -ref solvate.rst7 -c prod.001.rst7 -i prod.002.in -o prod.002.out -r prod.002.rst7 -x prod.002.nc -inf prod.002.mdinfo -e prod.002.mden\n",
      "2018-04-26 08:14:44 PM MD completed ...\n",
      "2018-04-26 08:14:44 PM Writing prod.002.in\n",
      "2018-04-26 08:14:44 PM Running MD at ./OA-G3-1/AMBER/APR/windows/p017\n",
      "2018-04-26 08:14:44 PM Exec line: pmemd.cuda -O -p solvate.prmtop -ref solvate.rst7 -c prod.001.rst7 -i prod.002.in -o prod.002.out -r prod.002.rst7 -x prod.002.nc -inf prod.002.mdinfo -e prod.002.mden\n",
      "2018-04-26 08:17:24 PM MD completed ...\n",
      "2018-04-26 08:17:24 PM Writing prod.002.in\n",
      "2018-04-26 08:17:24 PM Running MD at ./OA-G3-1/AMBER/APR/windows/p018\n",
      "2018-04-26 08:17:24 PM Exec line: pmemd.cuda -O -p solvate.prmtop -ref solvate.rst7 -c prod.001.rst7 -i prod.002.in -o prod.002.out -r prod.002.rst7 -x prod.002.nc -inf prod.002.mdinfo -e prod.002.mden\n",
      "2018-04-26 08:20:04 PM MD completed ...\n",
      "2018-04-26 08:20:04 PM Writing prod.002.in\n",
      "2018-04-26 08:20:04 PM Running MD at ./OA-G3-1/AMBER/APR/windows/p019\n",
      "2018-04-26 08:20:04 PM Exec line: pmemd.cuda -O -p solvate.prmtop -ref solvate.rst7 -c prod.001.rst7 -i prod.002.in -o prod.002.out -r prod.002.rst7 -x prod.002.nc -inf prod.002.mdinfo -e prod.002.mden\n",
      "2018-04-26 08:22:44 PM MD completed ...\n",
      "2018-04-26 08:22:44 PM Writing prod.002.in\n",
      "2018-04-26 08:22:44 PM Running MD at ./OA-G3-1/AMBER/APR/windows/p020\n",
      "2018-04-26 08:22:44 PM Exec line: pmemd.cuda -O -p solvate.prmtop -ref solvate.rst7 -c prod.001.rst7 -i prod.002.in -o prod.002.out -r prod.002.rst7 -x prod.002.nc -inf prod.002.mdinfo -e prod.002.mden\n",
      "2018-04-26 08:25:20 PM MD completed ...\n",
      "2018-04-26 08:25:20 PM Writing prod.002.in\n",
      "2018-04-26 08:25:20 PM Running MD at ./OA-G3-1/AMBER/APR/windows/p021\n",
      "2018-04-26 08:25:20 PM Exec line: pmemd.cuda -O -p solvate.prmtop -ref solvate.rst7 -c prod.001.rst7 -i prod.002.in -o prod.002.out -r prod.002.rst7 -x prod.002.nc -inf prod.002.mdinfo -e prod.002.mden\n",
      "2018-04-26 08:28:01 PM MD completed ...\n",
      "2018-04-26 08:28:01 PM Writing prod.002.in\n",
      "2018-04-26 08:28:01 PM Running MD at ./OA-G3-1/AMBER/APR/windows/p022\n",
      "2018-04-26 08:28:01 PM Exec line: pmemd.cuda -O -p solvate.prmtop -ref solvate.rst7 -c prod.001.rst7 -i prod.002.in -o prod.002.out -r prod.002.rst7 -x prod.002.nc -inf prod.002.mdinfo -e prod.002.mden\n",
      "2018-04-26 08:30:37 PM MD completed ...\n",
      "2018-04-26 08:30:37 PM Writing prod.002.in\n",
      "2018-04-26 08:30:37 PM Running MD at ./OA-G3-1/AMBER/APR/windows/p023\n",
      "2018-04-26 08:30:37 PM Exec line: pmemd.cuda -O -p solvate.prmtop -ref solvate.rst7 -c prod.001.rst7 -i prod.002.in -o prod.002.out -r prod.002.rst7 -x prod.002.nc -inf prod.002.mdinfo -e prod.002.mden\n",
      "2018-04-26 08:33:17 PM MD completed ...\n",
      "2018-04-26 08:33:17 PM Writing prod.002.in\n",
      "2018-04-26 08:33:17 PM Running MD at ./OA-G3-1/AMBER/APR/windows/p024\n",
      "2018-04-26 08:33:17 PM Exec line: pmemd.cuda -O -p solvate.prmtop -ref solvate.rst7 -c prod.001.rst7 -i prod.002.in -o prod.002.out -r prod.002.rst7 -x prod.002.nc -inf prod.002.mdinfo -e prod.002.mden\n",
      "2018-04-26 08:35:58 PM MD completed ...\n",
      "2018-04-26 08:35:58 PM Writing prod.002.in\n",
      "2018-04-26 08:35:58 PM Running MD at ./OA-G3-1/AMBER/APR/windows/p025\n",
      "2018-04-26 08:35:58 PM Exec line: pmemd.cuda -O -p solvate.prmtop -ref solvate.rst7 -c prod.001.rst7 -i prod.002.in -o prod.002.out -r prod.002.rst7 -x prod.002.nc -inf prod.002.mdinfo -e prod.002.mden\n",
      "2018-04-26 08:38:38 PM MD completed ...\n",
      "2018-04-26 08:38:38 PM Writing prod.002.in\n",
      "2018-04-26 08:38:38 PM Running MD at ./OA-G3-1/AMBER/APR/windows/p026\n",
      "2018-04-26 08:38:38 PM Exec line: pmemd.cuda -O -p solvate.prmtop -ref solvate.rst7 -c prod.001.rst7 -i prod.002.in -o prod.002.out -r prod.002.rst7 -x prod.002.nc -inf prod.002.mdinfo -e prod.002.mden\n",
      "2018-04-26 08:41:18 PM MD completed ...\n",
      "2018-04-26 08:41:18 PM Writing prod.002.in\n",
      "2018-04-26 08:41:18 PM Running MD at ./OA-G3-1/AMBER/APR/windows/p027\n",
      "2018-04-26 08:41:18 PM Exec line: pmemd.cuda -O -p solvate.prmtop -ref solvate.rst7 -c prod.001.rst7 -i prod.002.in -o prod.002.out -r prod.002.rst7 -x prod.002.nc -inf prod.002.mdinfo -e prod.002.mden\n",
      "2018-04-26 08:43:58 PM MD completed ...\n",
      "2018-04-26 08:43:58 PM Writing prod.002.in\n",
      "2018-04-26 08:43:58 PM Running MD at ./OA-G3-1/AMBER/APR/windows/p028\n",
      "2018-04-26 08:43:58 PM Exec line: pmemd.cuda -O -p solvate.prmtop -ref solvate.rst7 -c prod.001.rst7 -i prod.002.in -o prod.002.out -r prod.002.rst7 -x prod.002.nc -inf prod.002.mdinfo -e prod.002.mden\n",
      "2018-04-26 08:46:39 PM MD completed ...\n",
      "2018-04-26 08:46:39 PM Writing prod.002.in\n",
      "2018-04-26 08:46:39 PM Running MD at ./OA-G3-1/AMBER/APR/windows/p029\n",
      "2018-04-26 08:46:39 PM Exec line: pmemd.cuda -O -p solvate.prmtop -ref solvate.rst7 -c prod.001.rst7 -i prod.002.in -o prod.002.out -r prod.002.rst7 -x prod.002.nc -inf prod.002.mdinfo -e prod.002.mden\n",
      "2018-04-26 08:49:18 PM MD completed ...\n",
      "2018-04-26 08:49:18 PM Writing prod.002.in\n",
      "2018-04-26 08:49:18 PM Running MD at ./OA-G3-1/AMBER/APR/windows/p030\n",
      "2018-04-26 08:49:18 PM Exec line: pmemd.cuda -O -p solvate.prmtop -ref solvate.rst7 -c prod.001.rst7 -i prod.002.in -o prod.002.out -r prod.002.rst7 -x prod.002.nc -inf prod.002.mdinfo -e prod.002.mden\n",
      "2018-04-26 08:51:59 PM MD completed ...\n",
      "2018-04-26 08:51:59 PM Writing prod.002.in\n",
      "2018-04-26 08:51:59 PM Running MD at ./OA-G3-1/AMBER/APR/windows/p031\n",
      "2018-04-26 08:51:59 PM Exec line: pmemd.cuda -O -p solvate.prmtop -ref solvate.rst7 -c prod.001.rst7 -i prod.002.in -o prod.002.out -r prod.002.rst7 -x prod.002.nc -inf prod.002.mdinfo -e prod.002.mden\n",
      "2018-04-26 08:54:38 PM MD completed ...\n",
      "2018-04-26 08:54:38 PM Writing prod.002.in\n",
      "2018-04-26 08:54:38 PM Running MD at ./OA-G3-1/AMBER/APR/windows/p032\n",
      "2018-04-26 08:54:38 PM Exec line: pmemd.cuda -O -p solvate.prmtop -ref solvate.rst7 -c prod.001.rst7 -i prod.002.in -o prod.002.out -r prod.002.rst7 -x prod.002.nc -inf prod.002.mdinfo -e prod.002.mden\n",
      "2018-04-26 08:57:15 PM MD completed ...\n",
      "2018-04-26 08:57:15 PM Writing prod.002.in\n"
     ]
    },
    {
     "name": "stderr",
     "output_type": "stream",
     "text": [
      "2018-04-26 08:57:15 PM Running MD at ./OA-G3-1/AMBER/APR/windows/p033\n",
      "2018-04-26 08:57:15 PM Exec line: pmemd.cuda -O -p solvate.prmtop -ref solvate.rst7 -c prod.001.rst7 -i prod.002.in -o prod.002.out -r prod.002.rst7 -x prod.002.nc -inf prod.002.mdinfo -e prod.002.mden\n",
      "2018-04-26 08:59:53 PM MD completed ...\n",
      "2018-04-26 08:59:53 PM Writing prod.002.in\n",
      "2018-04-26 08:59:53 PM Running MD at ./OA-G3-1/AMBER/APR/windows/p034\n",
      "2018-04-26 08:59:53 PM Exec line: pmemd.cuda -O -p solvate.prmtop -ref solvate.rst7 -c prod.001.rst7 -i prod.002.in -o prod.002.out -r prod.002.rst7 -x prod.002.nc -inf prod.002.mdinfo -e prod.002.mden\n",
      "2018-04-26 09:02:31 PM MD completed ...\n",
      "2018-04-26 09:02:31 PM Writing prod.002.in\n",
      "2018-04-26 09:02:31 PM Running MD at ./OA-G3-1/AMBER/APR/windows/p035\n",
      "2018-04-26 09:02:31 PM Exec line: pmemd.cuda -O -p solvate.prmtop -ref solvate.rst7 -c prod.001.rst7 -i prod.002.in -o prod.002.out -r prod.002.rst7 -x prod.002.nc -inf prod.002.mdinfo -e prod.002.mden\n",
      "2018-04-26 09:05:06 PM MD completed ...\n",
      "2018-04-26 09:05:06 PM Writing prod.002.in\n",
      "2018-04-26 09:05:06 PM Running MD at ./OA-G3-1/AMBER/APR/windows/p036\n",
      "2018-04-26 09:05:06 PM Exec line: pmemd.cuda -O -p solvate.prmtop -ref solvate.rst7 -c prod.001.rst7 -i prod.002.in -o prod.002.out -r prod.002.rst7 -x prod.002.nc -inf prod.002.mdinfo -e prod.002.mden\n",
      "2018-04-26 09:07:42 PM MD completed ...\n",
      "2018-04-26 09:07:42 PM Writing prod.002.in\n",
      "2018-04-26 09:07:42 PM Running MD at ./OA-G3-1/AMBER/APR/windows/p037\n",
      "2018-04-26 09:07:42 PM Exec line: pmemd.cuda -O -p solvate.prmtop -ref solvate.rst7 -c prod.001.rst7 -i prod.002.in -o prod.002.out -r prod.002.rst7 -x prod.002.nc -inf prod.002.mdinfo -e prod.002.mden\n",
      "2018-04-26 09:10:20 PM MD completed ...\n",
      "2018-04-26 09:10:20 PM Writing prod.002.in\n",
      "2018-04-26 09:10:20 PM Running MD at ./OA-G3-1/AMBER/APR/windows/p038\n",
      "2018-04-26 09:10:20 PM Exec line: pmemd.cuda -O -p solvate.prmtop -ref solvate.rst7 -c prod.001.rst7 -i prod.002.in -o prod.002.out -r prod.002.rst7 -x prod.002.nc -inf prod.002.mdinfo -e prod.002.mden\n",
      "2018-04-26 09:12:58 PM MD completed ...\n",
      "2018-04-26 09:12:58 PM Writing prod.002.in\n",
      "2018-04-26 09:12:58 PM Running MD at ./OA-G3-1/AMBER/APR/windows/p039\n",
      "2018-04-26 09:12:58 PM Exec line: pmemd.cuda -O -p solvate.prmtop -ref solvate.rst7 -c prod.001.rst7 -i prod.002.in -o prod.002.out -r prod.002.rst7 -x prod.002.nc -inf prod.002.mdinfo -e prod.002.mden\n",
      "2018-04-26 09:15:34 PM MD completed ...\n",
      "2018-04-26 09:15:34 PM Writing prod.002.in\n",
      "2018-04-26 09:15:34 PM Running MD at ./OA-G3-1/AMBER/APR/windows/p040\n",
      "2018-04-26 09:15:34 PM Exec line: pmemd.cuda -O -p solvate.prmtop -ref solvate.rst7 -c prod.001.rst7 -i prod.002.in -o prod.002.out -r prod.002.rst7 -x prod.002.nc -inf prod.002.mdinfo -e prod.002.mden\n",
      "2018-04-26 09:18:13 PM MD completed ...\n",
      "2018-04-26 09:18:13 PM Writing prod.002.in\n",
      "2018-04-26 09:18:13 PM Running MD at ./OA-G3-1/AMBER/APR/windows/p041\n",
      "2018-04-26 09:18:13 PM Exec line: pmemd.cuda -O -p solvate.prmtop -ref solvate.rst7 -c prod.001.rst7 -i prod.002.in -o prod.002.out -r prod.002.rst7 -x prod.002.nc -inf prod.002.mdinfo -e prod.002.mden\n",
      "2018-04-26 09:20:49 PM MD completed ...\n",
      "2018-04-26 09:20:49 PM Writing prod.002.in\n",
      "2018-04-26 09:20:49 PM Running MD at ./OA-G3-1/AMBER/APR/windows/p042\n",
      "2018-04-26 09:20:49 PM Exec line: pmemd.cuda -O -p solvate.prmtop -ref solvate.rst7 -c prod.001.rst7 -i prod.002.in -o prod.002.out -r prod.002.rst7 -x prod.002.nc -inf prod.002.mdinfo -e prod.002.mden\n",
      "2018-04-26 09:23:25 PM MD completed ...\n",
      "2018-04-26 09:23:25 PM Writing prod.002.in\n",
      "2018-04-26 09:23:25 PM Running MD at ./OA-G3-1/AMBER/APR/windows/p043\n",
      "2018-04-26 09:23:25 PM Exec line: pmemd.cuda -O -p solvate.prmtop -ref solvate.rst7 -c prod.001.rst7 -i prod.002.in -o prod.002.out -r prod.002.rst7 -x prod.002.nc -inf prod.002.mdinfo -e prod.002.mden\n",
      "2018-04-26 09:26:01 PM MD completed ...\n",
      "2018-04-26 09:26:01 PM Writing prod.002.in\n",
      "2018-04-26 09:26:01 PM Running MD at ./OA-G3-1/AMBER/APR/windows/p044\n",
      "2018-04-26 09:26:01 PM Exec line: pmemd.cuda -O -p solvate.prmtop -ref solvate.rst7 -c prod.001.rst7 -i prod.002.in -o prod.002.out -r prod.002.rst7 -x prod.002.nc -inf prod.002.mdinfo -e prod.002.mden\n",
      "2018-04-26 09:28:37 PM MD completed ...\n",
      "2018-04-26 09:28:37 PM Writing prod.002.in\n",
      "2018-04-26 09:28:37 PM Running MD at ./OA-G3-1/AMBER/APR/windows/p045\n",
      "2018-04-26 09:28:37 PM Exec line: pmemd.cuda -O -p solvate.prmtop -ref solvate.rst7 -c prod.001.rst7 -i prod.002.in -o prod.002.out -r prod.002.rst7 -x prod.002.nc -inf prod.002.mdinfo -e prod.002.mden\n",
      "2018-04-26 09:31:14 PM MD completed ...\n"
     ]
    },
    {
     "name": "stdout",
     "output_type": "stream",
     "text": [
      "Set pull offset (7.28 A)\n"
     ]
    },
    {
     "name": "stderr",
     "output_type": "stream",
     "text": [
      "2018-04-26 09:31:14 PM Calculating attach targets and force constants...\n",
      "2018-04-26 09:31:14 PM Attach, Method #3\n",
      "2018-04-26 09:31:14 PM Calculating pull targets and force constants...\n",
      "2018-04-26 09:31:14 PM Pull, Method #1\n",
      "2018-04-26 09:31:14 PM Calculating release targets and force constants...\n",
      "2018-04-26 09:31:14 PM No restraint info set for the release phase! Skipping...\n",
      "2018-04-26 09:31:14 PM Number of attach windows = 15\n",
      "2018-04-26 09:31:14 PM Number of pull windows = 46\n",
      "2018-04-26 09:31:14 PM This restraint will be skipped in the release phase\n",
      "2018-04-26 09:31:14 PM Assigning atom indices...\n",
      "2018-04-26 09:31:14 PM There are 1 atoms in the mask :3  ...\n",
      "2018-04-26 09:31:14 PM There are 1 atoms in the mask :2@C1  ...\n",
      "2018-04-26 09:31:14 PM Calculating attach targets and force constants...\n",
      "2018-04-26 09:31:14 PM Attach, Method #3\n",
      "2018-04-26 09:31:14 PM Calculating pull targets and force constants...\n",
      "2018-04-26 09:31:14 PM Pull, Method #1\n",
      "2018-04-26 09:31:14 PM Calculating release targets and force constants...\n",
      "2018-04-26 09:31:14 PM No restraint info set for the release phase! Skipping...\n",
      "2018-04-26 09:31:14 PM Number of attach windows = 15\n",
      "2018-04-26 09:31:14 PM Number of pull windows = 46\n",
      "2018-04-26 09:31:14 PM This restraint will be skipped in the release phase\n",
      "2018-04-26 09:31:14 PM Assigning atom indices...\n",
      "2018-04-26 09:31:14 PM There are 1 atoms in the mask :4  ...\n",
      "2018-04-26 09:31:14 PM There are 1 atoms in the mask :3  ...\n",
      "2018-04-26 09:31:14 PM There are 1 atoms in the mask :2@C1  ...\n",
      "2018-04-26 09:31:14 PM Calculating attach targets and force constants...\n",
      "2018-04-26 09:31:14 PM Attach, Method #3\n",
      "2018-04-26 09:31:14 PM Calculating pull targets and force constants...\n",
      "2018-04-26 09:31:14 PM Pull, Method #1\n",
      "2018-04-26 09:31:14 PM Calculating release targets and force constants...\n",
      "2018-04-26 09:31:14 PM No restraint info set for the release phase! Skipping...\n",
      "2018-04-26 09:31:14 PM Number of attach windows = 15\n",
      "2018-04-26 09:31:14 PM Number of pull windows = 46\n",
      "2018-04-26 09:31:14 PM This restraint will be skipped in the release phase\n",
      "2018-04-26 09:31:14 PM Assigning atom indices...\n",
      "2018-04-26 09:31:14 PM There are 1 atoms in the mask :3  ...\n",
      "2018-04-26 09:31:14 PM There are 1 atoms in the mask :2@C1  ...\n",
      "2018-04-26 09:31:14 PM There are 1 atoms in the mask :2@C3  ...\n",
      "2018-04-26 09:31:14 PM Writing prod.002.in\n",
      "2018-04-26 09:31:14 PM Running MD at ./OA-G3-2/AMBER/APR/windows/a002\n",
      "2018-04-26 09:31:14 PM Exec line: pmemd.cuda -O -p solvate.prmtop -ref solvate.rst7 -c prod.001.rst7 -i prod.002.in -o prod.002.out -r prod.002.rst7 -x prod.002.nc -inf prod.002.mdinfo -e prod.002.mden\n"
     ]
    },
    {
     "name": "stdout",
     "output_type": "stream",
     "text": [
      "Simulating ./OA-G3-2\n",
      "Window a000 has `prod.002.nc`...\n",
      "Window a001 has `prod.002.nc`...\n"
     ]
    },
    {
     "name": "stderr",
     "output_type": "stream",
     "text": [
      "2018-04-26 09:33:49 PM MD completed ...\n",
      "2018-04-26 09:33:49 PM Writing prod.002.in\n",
      "2018-04-26 09:33:49 PM Running MD at ./OA-G3-2/AMBER/APR/windows/a003\n",
      "2018-04-26 09:33:49 PM Exec line: pmemd.cuda -O -p solvate.prmtop -ref solvate.rst7 -c prod.001.rst7 -i prod.002.in -o prod.002.out -r prod.002.rst7 -x prod.002.nc -inf prod.002.mdinfo -e prod.002.mden\n",
      "2018-04-26 09:36:22 PM MD completed ...\n",
      "2018-04-26 09:36:22 PM Writing prod.002.in\n",
      "2018-04-26 09:36:22 PM Running MD at ./OA-G3-2/AMBER/APR/windows/a004\n",
      "2018-04-26 09:36:22 PM Exec line: pmemd.cuda -O -p solvate.prmtop -ref solvate.rst7 -c prod.001.rst7 -i prod.002.in -o prod.002.out -r prod.002.rst7 -x prod.002.nc -inf prod.002.mdinfo -e prod.002.mden\n",
      "2018-04-26 09:38:58 PM MD completed ...\n",
      "2018-04-26 09:38:58 PM Writing prod.002.in\n",
      "2018-04-26 09:38:58 PM Running MD at ./OA-G3-2/AMBER/APR/windows/a005\n",
      "2018-04-26 09:38:58 PM Exec line: pmemd.cuda -O -p solvate.prmtop -ref solvate.rst7 -c prod.001.rst7 -i prod.002.in -o prod.002.out -r prod.002.rst7 -x prod.002.nc -inf prod.002.mdinfo -e prod.002.mden\n",
      "2018-04-26 09:41:35 PM MD completed ...\n",
      "2018-04-26 09:41:35 PM Writing prod.002.in\n",
      "2018-04-26 09:41:35 PM Running MD at ./OA-G3-2/AMBER/APR/windows/a006\n",
      "2018-04-26 09:41:35 PM Exec line: pmemd.cuda -O -p solvate.prmtop -ref solvate.rst7 -c prod.001.rst7 -i prod.002.in -o prod.002.out -r prod.002.rst7 -x prod.002.nc -inf prod.002.mdinfo -e prod.002.mden\n",
      "2018-04-26 09:44:12 PM MD completed ...\n",
      "2018-04-26 09:44:12 PM Writing prod.002.in\n",
      "2018-04-26 09:44:12 PM Running MD at ./OA-G3-2/AMBER/APR/windows/a007\n",
      "2018-04-26 09:44:12 PM Exec line: pmemd.cuda -O -p solvate.prmtop -ref solvate.rst7 -c prod.001.rst7 -i prod.002.in -o prod.002.out -r prod.002.rst7 -x prod.002.nc -inf prod.002.mdinfo -e prod.002.mden\n",
      "2018-04-26 09:46:47 PM MD completed ...\n",
      "2018-04-26 09:46:47 PM Writing prod.002.in\n",
      "2018-04-26 09:46:47 PM Running MD at ./OA-G3-2/AMBER/APR/windows/a008\n",
      "2018-04-26 09:46:47 PM Exec line: pmemd.cuda -O -p solvate.prmtop -ref solvate.rst7 -c prod.001.rst7 -i prod.002.in -o prod.002.out -r prod.002.rst7 -x prod.002.nc -inf prod.002.mdinfo -e prod.002.mden\n",
      "2018-04-26 09:49:22 PM MD completed ...\n",
      "2018-04-26 09:49:22 PM Writing prod.002.in\n",
      "2018-04-26 09:49:22 PM Running MD at ./OA-G3-2/AMBER/APR/windows/a009\n",
      "2018-04-26 09:49:22 PM Exec line: pmemd.cuda -O -p solvate.prmtop -ref solvate.rst7 -c prod.001.rst7 -i prod.002.in -o prod.002.out -r prod.002.rst7 -x prod.002.nc -inf prod.002.mdinfo -e prod.002.mden\n",
      "2018-04-26 09:52:01 PM MD completed ...\n",
      "2018-04-26 09:52:01 PM Writing prod.002.in\n",
      "2018-04-26 09:52:01 PM Running MD at ./OA-G3-2/AMBER/APR/windows/a010\n",
      "2018-04-26 09:52:01 PM Exec line: pmemd.cuda -O -p solvate.prmtop -ref solvate.rst7 -c prod.001.rst7 -i prod.002.in -o prod.002.out -r prod.002.rst7 -x prod.002.nc -inf prod.002.mdinfo -e prod.002.mden\n",
      "2018-04-26 09:54:38 PM MD completed ...\n",
      "2018-04-26 09:54:38 PM Writing prod.002.in\n",
      "2018-04-26 09:54:38 PM Running MD at ./OA-G3-2/AMBER/APR/windows/a011\n",
      "2018-04-26 09:54:38 PM Exec line: pmemd.cuda -O -p solvate.prmtop -ref solvate.rst7 -c prod.001.rst7 -i prod.002.in -o prod.002.out -r prod.002.rst7 -x prod.002.nc -inf prod.002.mdinfo -e prod.002.mden\n",
      "2018-04-26 09:57:15 PM MD completed ...\n",
      "2018-04-26 09:57:15 PM Writing prod.002.in\n",
      "2018-04-26 09:57:15 PM Running MD at ./OA-G3-2/AMBER/APR/windows/a012\n",
      "2018-04-26 09:57:15 PM Exec line: pmemd.cuda -O -p solvate.prmtop -ref solvate.rst7 -c prod.001.rst7 -i prod.002.in -o prod.002.out -r prod.002.rst7 -x prod.002.nc -inf prod.002.mdinfo -e prod.002.mden\n",
      "2018-04-26 09:59:50 PM MD completed ...\n",
      "2018-04-26 09:59:50 PM Writing prod.002.in\n",
      "2018-04-26 09:59:50 PM Running MD at ./OA-G3-2/AMBER/APR/windows/a013\n",
      "2018-04-26 09:59:50 PM Exec line: pmemd.cuda -O -p solvate.prmtop -ref solvate.rst7 -c prod.001.rst7 -i prod.002.in -o prod.002.out -r prod.002.rst7 -x prod.002.nc -inf prod.002.mdinfo -e prod.002.mden\n",
      "2018-04-26 10:02:25 PM MD completed ...\n",
      "2018-04-26 10:02:25 PM Writing prod.002.in\n",
      "2018-04-26 10:02:25 PM Running MD at ./OA-G3-2/AMBER/APR/windows/p000\n",
      "2018-04-26 10:02:25 PM Exec line: pmemd.cuda -O -p solvate.prmtop -ref solvate.rst7 -c prod.001.rst7 -i prod.002.in -o prod.002.out -r prod.002.rst7 -x prod.002.nc -inf prod.002.mdinfo -e prod.002.mden\n",
      "2018-04-26 10:05:02 PM MD completed ...\n",
      "2018-04-26 10:05:02 PM Writing prod.002.in\n",
      "2018-04-26 10:05:02 PM Running MD at ./OA-G3-2/AMBER/APR/windows/p003\n",
      "2018-04-26 10:05:02 PM Exec line: pmemd.cuda -O -p solvate.prmtop -ref solvate.rst7 -c prod.001.rst7 -i prod.002.in -o prod.002.out -r prod.002.rst7 -x prod.002.nc -inf prod.002.mdinfo -e prod.002.mden\n"
     ]
    },
    {
     "name": "stdout",
     "output_type": "stream",
     "text": [
      "Window p001 has `prod.002.nc`...\n",
      "Window p002 has `prod.002.nc`...\n"
     ]
    },
    {
     "name": "stderr",
     "output_type": "stream",
     "text": [
      "2018-04-26 10:07:40 PM MD completed ...\n",
      "2018-04-26 10:07:40 PM Writing prod.002.in\n",
      "2018-04-26 10:07:40 PM Running MD at ./OA-G3-2/AMBER/APR/windows/p004\n",
      "2018-04-26 10:07:40 PM Exec line: pmemd.cuda -O -p solvate.prmtop -ref solvate.rst7 -c prod.001.rst7 -i prod.002.in -o prod.002.out -r prod.002.rst7 -x prod.002.nc -inf prod.002.mdinfo -e prod.002.mden\n",
      "2018-04-26 10:10:18 PM MD completed ...\n",
      "2018-04-26 10:10:18 PM Writing prod.002.in\n",
      "2018-04-26 10:10:18 PM Running MD at ./OA-G3-2/AMBER/APR/windows/p017\n",
      "2018-04-26 10:10:18 PM Exec line: pmemd.cuda -O -p solvate.prmtop -ref solvate.rst7 -c prod.001.rst7 -i prod.002.in -o prod.002.out -r prod.002.rst7 -x prod.002.nc -inf prod.002.mdinfo -e prod.002.mden\n"
     ]
    },
    {
     "name": "stdout",
     "output_type": "stream",
     "text": [
      "Window p005 has `prod.002.nc`...\n",
      "Window p006 has `prod.002.nc`...\n",
      "Window p007 has `prod.002.nc`...\n",
      "Window p008 has `prod.002.nc`...\n",
      "Window p009 has `prod.002.nc`...\n",
      "Window p010 has `prod.002.nc`...\n",
      "Window p011 has `prod.002.nc`...\n",
      "Window p012 has `prod.002.nc`...\n",
      "Window p013 has `prod.002.nc`...\n",
      "Window p014 has `prod.002.nc`...\n",
      "Window p015 has `prod.002.nc`...\n",
      "Window p016 has `prod.002.nc`...\n"
     ]
    },
    {
     "name": "stderr",
     "output_type": "stream",
     "text": [
      "2018-04-26 10:12:58 PM MD completed ...\n",
      "2018-04-26 10:12:58 PM Writing prod.002.in\n",
      "2018-04-26 10:12:58 PM Running MD at ./OA-G3-2/AMBER/APR/windows/p018\n",
      "2018-04-26 10:12:58 PM Exec line: pmemd.cuda -O -p solvate.prmtop -ref solvate.rst7 -c prod.001.rst7 -i prod.002.in -o prod.002.out -r prod.002.rst7 -x prod.002.nc -inf prod.002.mdinfo -e prod.002.mden\n",
      "2018-04-26 10:15:37 PM MD completed ...\n",
      "2018-04-26 10:15:37 PM Writing prod.002.in\n",
      "2018-04-26 10:15:37 PM Running MD at ./OA-G3-2/AMBER/APR/windows/p019\n",
      "2018-04-26 10:15:37 PM Exec line: pmemd.cuda -O -p solvate.prmtop -ref solvate.rst7 -c prod.001.rst7 -i prod.002.in -o prod.002.out -r prod.002.rst7 -x prod.002.nc -inf prod.002.mdinfo -e prod.002.mden\n",
      "2018-04-26 10:18:17 PM MD completed ...\n",
      "2018-04-26 10:18:17 PM Writing prod.002.in\n",
      "2018-04-26 10:18:17 PM Running MD at ./OA-G3-2/AMBER/APR/windows/p020\n",
      "2018-04-26 10:18:17 PM Exec line: pmemd.cuda -O -p solvate.prmtop -ref solvate.rst7 -c prod.001.rst7 -i prod.002.in -o prod.002.out -r prod.002.rst7 -x prod.002.nc -inf prod.002.mdinfo -e prod.002.mden\n",
      "2018-04-26 10:20:54 PM MD completed ...\n",
      "2018-04-26 10:20:54 PM Writing prod.002.in\n",
      "2018-04-26 10:20:54 PM Running MD at ./OA-G3-2/AMBER/APR/windows/p021\n",
      "2018-04-26 10:20:54 PM Exec line: pmemd.cuda -O -p solvate.prmtop -ref solvate.rst7 -c prod.001.rst7 -i prod.002.in -o prod.002.out -r prod.002.rst7 -x prod.002.nc -inf prod.002.mdinfo -e prod.002.mden\n",
      "2018-04-26 10:23:34 PM MD completed ...\n",
      "2018-04-26 10:23:34 PM Writing prod.002.in\n",
      "2018-04-26 10:23:34 PM Running MD at ./OA-G3-2/AMBER/APR/windows/p022\n",
      "2018-04-26 10:23:34 PM Exec line: pmemd.cuda -O -p solvate.prmtop -ref solvate.rst7 -c prod.001.rst7 -i prod.002.in -o prod.002.out -r prod.002.rst7 -x prod.002.nc -inf prod.002.mdinfo -e prod.002.mden\n",
      "2018-04-26 10:26:13 PM MD completed ...\n",
      "2018-04-26 10:26:13 PM Writing prod.002.in\n",
      "2018-04-26 10:26:13 PM Running MD at ./OA-G3-2/AMBER/APR/windows/p023\n",
      "2018-04-26 10:26:13 PM Exec line: pmemd.cuda -O -p solvate.prmtop -ref solvate.rst7 -c prod.001.rst7 -i prod.002.in -o prod.002.out -r prod.002.rst7 -x prod.002.nc -inf prod.002.mdinfo -e prod.002.mden\n",
      "2018-04-26 10:28:53 PM MD completed ...\n",
      "2018-04-26 10:28:53 PM Writing prod.002.in\n",
      "2018-04-26 10:28:53 PM Running MD at ./OA-G3-2/AMBER/APR/windows/p024\n",
      "2018-04-26 10:28:53 PM Exec line: pmemd.cuda -O -p solvate.prmtop -ref solvate.rst7 -c prod.001.rst7 -i prod.002.in -o prod.002.out -r prod.002.rst7 -x prod.002.nc -inf prod.002.mdinfo -e prod.002.mden\n",
      "2018-04-26 10:31:27 PM MD completed ...\n",
      "2018-04-26 10:31:27 PM Writing prod.002.in\n",
      "2018-04-26 10:31:27 PM Running MD at ./OA-G3-2/AMBER/APR/windows/p025\n",
      "2018-04-26 10:31:27 PM Exec line: pmemd.cuda -O -p solvate.prmtop -ref solvate.rst7 -c prod.001.rst7 -i prod.002.in -o prod.002.out -r prod.002.rst7 -x prod.002.nc -inf prod.002.mdinfo -e prod.002.mden\n",
      "2018-04-26 10:34:07 PM MD completed ...\n",
      "2018-04-26 10:34:07 PM Writing prod.002.in\n",
      "2018-04-26 10:34:07 PM Running MD at ./OA-G3-2/AMBER/APR/windows/p026\n",
      "2018-04-26 10:34:07 PM Exec line: pmemd.cuda -O -p solvate.prmtop -ref solvate.rst7 -c prod.001.rst7 -i prod.002.in -o prod.002.out -r prod.002.rst7 -x prod.002.nc -inf prod.002.mdinfo -e prod.002.mden\n",
      "2018-04-26 10:36:43 PM MD completed ...\n",
      "2018-04-26 10:36:43 PM Writing prod.002.in\n",
      "2018-04-26 10:36:43 PM Running MD at ./OA-G3-2/AMBER/APR/windows/p027\n",
      "2018-04-26 10:36:43 PM Exec line: pmemd.cuda -O -p solvate.prmtop -ref solvate.rst7 -c prod.001.rst7 -i prod.002.in -o prod.002.out -r prod.002.rst7 -x prod.002.nc -inf prod.002.mdinfo -e prod.002.mden\n",
      "2018-04-26 10:39:22 PM MD completed ...\n",
      "2018-04-26 10:39:22 PM Writing prod.002.in\n",
      "2018-04-26 10:39:22 PM Running MD at ./OA-G3-2/AMBER/APR/windows/p028\n",
      "2018-04-26 10:39:22 PM Exec line: pmemd.cuda -O -p solvate.prmtop -ref solvate.rst7 -c prod.001.rst7 -i prod.002.in -o prod.002.out -r prod.002.rst7 -x prod.002.nc -inf prod.002.mdinfo -e prod.002.mden\n",
      "2018-04-26 10:42:01 PM MD completed ...\n",
      "2018-04-26 10:42:01 PM Writing prod.002.in\n",
      "2018-04-26 10:42:01 PM Running MD at ./OA-G3-2/AMBER/APR/windows/p029\n",
      "2018-04-26 10:42:01 PM Exec line: pmemd.cuda -O -p solvate.prmtop -ref solvate.rst7 -c prod.001.rst7 -i prod.002.in -o prod.002.out -r prod.002.rst7 -x prod.002.nc -inf prod.002.mdinfo -e prod.002.mden\n",
      "2018-04-26 10:44:42 PM MD completed ...\n",
      "2018-04-26 10:44:42 PM Writing prod.002.in\n",
      "2018-04-26 10:44:42 PM Running MD at ./OA-G3-2/AMBER/APR/windows/p030\n",
      "2018-04-26 10:44:42 PM Exec line: pmemd.cuda -O -p solvate.prmtop -ref solvate.rst7 -c prod.001.rst7 -i prod.002.in -o prod.002.out -r prod.002.rst7 -x prod.002.nc -inf prod.002.mdinfo -e prod.002.mden\n",
      "2018-04-26 10:47:22 PM MD completed ...\n",
      "2018-04-26 10:47:22 PM Writing prod.002.in\n",
      "2018-04-26 10:47:22 PM Running MD at ./OA-G3-2/AMBER/APR/windows/p031\n",
      "2018-04-26 10:47:22 PM Exec line: pmemd.cuda -O -p solvate.prmtop -ref solvate.rst7 -c prod.001.rst7 -i prod.002.in -o prod.002.out -r prod.002.rst7 -x prod.002.nc -inf prod.002.mdinfo -e prod.002.mden\n",
      "2018-04-26 10:50:00 PM MD completed ...\n",
      "2018-04-26 10:50:00 PM Writing prod.002.in\n",
      "2018-04-26 10:50:00 PM Running MD at ./OA-G3-2/AMBER/APR/windows/p034\n",
      "2018-04-26 10:50:00 PM Exec line: pmemd.cuda -O -p solvate.prmtop -ref solvate.rst7 -c prod.001.rst7 -i prod.002.in -o prod.002.out -r prod.002.rst7 -x prod.002.nc -inf prod.002.mdinfo -e prod.002.mden\n"
     ]
    },
    {
     "name": "stdout",
     "output_type": "stream",
     "text": [
      "Window p032 has `prod.002.nc`...\n",
      "Window p033 has `prod.002.nc`...\n"
     ]
    },
    {
     "name": "stderr",
     "output_type": "stream",
     "text": [
      "2018-04-26 10:52:39 PM MD completed ...\n",
      "2018-04-26 10:52:39 PM Writing prod.002.in\n",
      "2018-04-26 10:52:39 PM Running MD at ./OA-G3-2/AMBER/APR/windows/p035\n",
      "2018-04-26 10:52:39 PM Exec line: pmemd.cuda -O -p solvate.prmtop -ref solvate.rst7 -c prod.001.rst7 -i prod.002.in -o prod.002.out -r prod.002.rst7 -x prod.002.nc -inf prod.002.mdinfo -e prod.002.mden\n",
      "2018-04-26 10:55:20 PM MD completed ...\n",
      "2018-04-26 10:55:20 PM Writing prod.002.in\n",
      "2018-04-26 10:55:20 PM Running MD at ./OA-G3-2/AMBER/APR/windows/p036\n",
      "2018-04-26 10:55:20 PM Exec line: pmemd.cuda -O -p solvate.prmtop -ref solvate.rst7 -c prod.001.rst7 -i prod.002.in -o prod.002.out -r prod.002.rst7 -x prod.002.nc -inf prod.002.mdinfo -e prod.002.mden\n",
      "2018-04-26 10:58:00 PM MD completed ...\n",
      "2018-04-26 10:58:00 PM Writing prod.002.in\n",
      "2018-04-26 10:58:00 PM Running MD at ./OA-G3-2/AMBER/APR/windows/p037\n",
      "2018-04-26 10:58:00 PM Exec line: pmemd.cuda -O -p solvate.prmtop -ref solvate.rst7 -c prod.001.rst7 -i prod.002.in -o prod.002.out -r prod.002.rst7 -x prod.002.nc -inf prod.002.mdinfo -e prod.002.mden\n",
      "2018-04-26 11:00:36 PM MD completed ...\n",
      "2018-04-26 11:00:36 PM Writing prod.002.in\n",
      "2018-04-26 11:00:36 PM Running MD at ./OA-G3-2/AMBER/APR/windows/p038\n",
      "2018-04-26 11:00:36 PM Exec line: pmemd.cuda -O -p solvate.prmtop -ref solvate.rst7 -c prod.001.rst7 -i prod.002.in -o prod.002.out -r prod.002.rst7 -x prod.002.nc -inf prod.002.mdinfo -e prod.002.mden\n",
      "2018-04-26 11:03:13 PM MD completed ...\n",
      "2018-04-26 11:03:13 PM Writing prod.002.in\n",
      "2018-04-26 11:03:13 PM Running MD at ./OA-G3-2/AMBER/APR/windows/p039\n",
      "2018-04-26 11:03:13 PM Exec line: pmemd.cuda -O -p solvate.prmtop -ref solvate.rst7 -c prod.001.rst7 -i prod.002.in -o prod.002.out -r prod.002.rst7 -x prod.002.nc -inf prod.002.mdinfo -e prod.002.mden\n",
      "2018-04-26 11:05:50 PM MD completed ...\n",
      "2018-04-26 11:05:50 PM Writing prod.002.in\n",
      "2018-04-26 11:05:50 PM Running MD at ./OA-G3-2/AMBER/APR/windows/p040\n",
      "2018-04-26 11:05:50 PM Exec line: pmemd.cuda -O -p solvate.prmtop -ref solvate.rst7 -c prod.001.rst7 -i prod.002.in -o prod.002.out -r prod.002.rst7 -x prod.002.nc -inf prod.002.mdinfo -e prod.002.mden\n",
      "2018-04-26 11:08:30 PM MD completed ...\n",
      "2018-04-26 11:08:30 PM Writing prod.002.in\n",
      "2018-04-26 11:08:30 PM Running MD at ./OA-G3-2/AMBER/APR/windows/p041\n",
      "2018-04-26 11:08:30 PM Exec line: pmemd.cuda -O -p solvate.prmtop -ref solvate.rst7 -c prod.001.rst7 -i prod.002.in -o prod.002.out -r prod.002.rst7 -x prod.002.nc -inf prod.002.mdinfo -e prod.002.mden\n",
      "2018-04-26 11:11:10 PM MD completed ...\n",
      "2018-04-26 11:11:10 PM Writing prod.002.in\n",
      "2018-04-26 11:11:10 PM Running MD at ./OA-G3-2/AMBER/APR/windows/p042\n",
      "2018-04-26 11:11:10 PM Exec line: pmemd.cuda -O -p solvate.prmtop -ref solvate.rst7 -c prod.001.rst7 -i prod.002.in -o prod.002.out -r prod.002.rst7 -x prod.002.nc -inf prod.002.mdinfo -e prod.002.mden\n",
      "2018-04-26 11:13:45 PM MD completed ...\n",
      "2018-04-26 11:13:45 PM Writing prod.002.in\n",
      "2018-04-26 11:13:45 PM Running MD at ./OA-G3-2/AMBER/APR/windows/p043\n",
      "2018-04-26 11:13:45 PM Exec line: pmemd.cuda -O -p solvate.prmtop -ref solvate.rst7 -c prod.001.rst7 -i prod.002.in -o prod.002.out -r prod.002.rst7 -x prod.002.nc -inf prod.002.mdinfo -e prod.002.mden\n",
      "2018-04-26 11:16:25 PM MD completed ...\n",
      "2018-04-26 11:16:25 PM Writing prod.002.in\n",
      "2018-04-26 11:16:25 PM Running MD at ./OA-G3-2/AMBER/APR/windows/p044\n",
      "2018-04-26 11:16:25 PM Exec line: pmemd.cuda -O -p solvate.prmtop -ref solvate.rst7 -c prod.001.rst7 -i prod.002.in -o prod.002.out -r prod.002.rst7 -x prod.002.nc -inf prod.002.mdinfo -e prod.002.mden\n",
      "2018-04-26 11:19:03 PM MD completed ...\n",
      "2018-04-26 11:19:03 PM Writing prod.002.in\n",
      "2018-04-26 11:19:03 PM Running MD at ./OA-G3-2/AMBER/APR/windows/p045\n",
      "2018-04-26 11:19:03 PM Exec line: pmemd.cuda -O -p solvate.prmtop -ref solvate.rst7 -c prod.001.rst7 -i prod.002.in -o prod.002.out -r prod.002.rst7 -x prod.002.nc -inf prod.002.mdinfo -e prod.002.mden\n",
      "2018-04-26 11:21:42 PM MD completed ...\n"
     ]
    },
    {
     "name": "stdout",
     "output_type": "stream",
     "text": [
      "Set pull offset (7.46 A)\n"
     ]
    },
    {
     "name": "stderr",
     "output_type": "stream",
     "text": [
      "2018-04-26 11:21:43 PM Calculating attach targets and force constants...\n",
      "2018-04-26 11:21:43 PM Attach, Method #3\n",
      "2018-04-26 11:21:43 PM Calculating pull targets and force constants...\n",
      "2018-04-26 11:21:43 PM Pull, Method #1\n",
      "2018-04-26 11:21:43 PM Calculating release targets and force constants...\n",
      "2018-04-26 11:21:43 PM No restraint info set for the release phase! Skipping...\n",
      "2018-04-26 11:21:43 PM Number of attach windows = 15\n",
      "2018-04-26 11:21:43 PM Number of pull windows = 46\n",
      "2018-04-26 11:21:43 PM This restraint will be skipped in the release phase\n",
      "2018-04-26 11:21:43 PM Assigning atom indices...\n",
      "2018-04-26 11:21:43 PM There are 1 atoms in the mask :3  ...\n",
      "2018-04-26 11:21:43 PM There are 1 atoms in the mask :2@C1  ...\n",
      "2018-04-26 11:21:43 PM Calculating attach targets and force constants...\n",
      "2018-04-26 11:21:43 PM Attach, Method #3\n",
      "2018-04-26 11:21:43 PM Calculating pull targets and force constants...\n",
      "2018-04-26 11:21:43 PM Pull, Method #1\n",
      "2018-04-26 11:21:43 PM Calculating release targets and force constants...\n",
      "2018-04-26 11:21:43 PM No restraint info set for the release phase! Skipping...\n",
      "2018-04-26 11:21:43 PM Number of attach windows = 15\n",
      "2018-04-26 11:21:43 PM Number of pull windows = 46\n",
      "2018-04-26 11:21:43 PM This restraint will be skipped in the release phase\n",
      "2018-04-26 11:21:43 PM Assigning atom indices...\n",
      "2018-04-26 11:21:43 PM There are 1 atoms in the mask :4  ...\n",
      "2018-04-26 11:21:43 PM There are 1 atoms in the mask :3  ...\n",
      "2018-04-26 11:21:43 PM There are 1 atoms in the mask :2@C1  ...\n",
      "2018-04-26 11:21:43 PM Calculating attach targets and force constants...\n",
      "2018-04-26 11:21:43 PM Attach, Method #3\n",
      "2018-04-26 11:21:43 PM Calculating pull targets and force constants...\n",
      "2018-04-26 11:21:43 PM Pull, Method #1\n",
      "2018-04-26 11:21:43 PM Calculating release targets and force constants...\n",
      "2018-04-26 11:21:43 PM No restraint info set for the release phase! Skipping...\n",
      "2018-04-26 11:21:43 PM Number of attach windows = 15\n",
      "2018-04-26 11:21:43 PM Number of pull windows = 46\n",
      "2018-04-26 11:21:43 PM This restraint will be skipped in the release phase\n",
      "2018-04-26 11:21:43 PM Assigning atom indices...\n",
      "2018-04-26 11:21:43 PM There are 1 atoms in the mask :3  ...\n",
      "2018-04-26 11:21:43 PM There are 1 atoms in the mask :2@C1  ...\n",
      "2018-04-26 11:21:43 PM There are 1 atoms in the mask :2@C3  ...\n",
      "2018-04-26 11:21:43 PM Writing prod.002.in\n",
      "2018-04-26 11:21:43 PM Running MD at ./OA-G3-3/AMBER/APR/windows/a002\n",
      "2018-04-26 11:21:43 PM Exec line: pmemd.cuda -O -p solvate.prmtop -ref solvate.rst7 -c prod.001.rst7 -i prod.002.in -o prod.002.out -r prod.002.rst7 -x prod.002.nc -inf prod.002.mdinfo -e prod.002.mden\n"
     ]
    },
    {
     "name": "stdout",
     "output_type": "stream",
     "text": [
      "Simulating ./OA-G3-3\n",
      "Window a000 has `prod.002.nc`...\n",
      "Window a001 has `prod.002.nc`...\n"
     ]
    },
    {
     "name": "stderr",
     "output_type": "stream",
     "text": [
      "2018-04-26 11:24:23 PM MD completed ...\n",
      "2018-04-26 11:24:23 PM Writing prod.002.in\n",
      "2018-04-26 11:24:23 PM Running MD at ./OA-G3-3/AMBER/APR/windows/a003\n",
      "2018-04-26 11:24:23 PM Exec line: pmemd.cuda -O -p solvate.prmtop -ref solvate.rst7 -c prod.001.rst7 -i prod.002.in -o prod.002.out -r prod.002.rst7 -x prod.002.nc -inf prod.002.mdinfo -e prod.002.mden\n",
      "2018-04-26 11:27:04 PM MD completed ...\n",
      "2018-04-26 11:27:04 PM Writing prod.002.in\n",
      "2018-04-26 11:27:04 PM Running MD at ./OA-G3-3/AMBER/APR/windows/a004\n",
      "2018-04-26 11:27:04 PM Exec line: pmemd.cuda -O -p solvate.prmtop -ref solvate.rst7 -c prod.001.rst7 -i prod.002.in -o prod.002.out -r prod.002.rst7 -x prod.002.nc -inf prod.002.mdinfo -e prod.002.mden\n",
      "2018-04-26 11:29:44 PM MD completed ...\n",
      "2018-04-26 11:29:44 PM Writing prod.002.in\n",
      "2018-04-26 11:29:44 PM Running MD at ./OA-G3-3/AMBER/APR/windows/a005\n",
      "2018-04-26 11:29:44 PM Exec line: pmemd.cuda -O -p solvate.prmtop -ref solvate.rst7 -c prod.001.rst7 -i prod.002.in -o prod.002.out -r prod.002.rst7 -x prod.002.nc -inf prod.002.mdinfo -e prod.002.mden\n",
      "2018-04-26 11:32:20 PM MD completed ...\n",
      "2018-04-26 11:32:20 PM Writing prod.002.in\n",
      "2018-04-26 11:32:20 PM Running MD at ./OA-G3-3/AMBER/APR/windows/a006\n",
      "2018-04-26 11:32:20 PM Exec line: pmemd.cuda -O -p solvate.prmtop -ref solvate.rst7 -c prod.001.rst7 -i prod.002.in -o prod.002.out -r prod.002.rst7 -x prod.002.nc -inf prod.002.mdinfo -e prod.002.mden\n",
      "2018-04-26 11:34:59 PM MD completed ...\n",
      "2018-04-26 11:34:59 PM Writing prod.002.in\n",
      "2018-04-26 11:34:59 PM Running MD at ./OA-G3-3/AMBER/APR/windows/a007\n",
      "2018-04-26 11:34:59 PM Exec line: pmemd.cuda -O -p solvate.prmtop -ref solvate.rst7 -c prod.001.rst7 -i prod.002.in -o prod.002.out -r prod.002.rst7 -x prod.002.nc -inf prod.002.mdinfo -e prod.002.mden\n",
      "2018-04-26 11:37:35 PM MD completed ...\n",
      "2018-04-26 11:37:35 PM Writing prod.002.in\n",
      "2018-04-26 11:37:35 PM Running MD at ./OA-G3-3/AMBER/APR/windows/a008\n",
      "2018-04-26 11:37:35 PM Exec line: pmemd.cuda -O -p solvate.prmtop -ref solvate.rst7 -c prod.001.rst7 -i prod.002.in -o prod.002.out -r prod.002.rst7 -x prod.002.nc -inf prod.002.mdinfo -e prod.002.mden\n",
      "2018-04-26 11:40:14 PM MD completed ...\n",
      "2018-04-26 11:40:14 PM Writing prod.002.in\n",
      "2018-04-26 11:40:14 PM Running MD at ./OA-G3-3/AMBER/APR/windows/a009\n",
      "2018-04-26 11:40:14 PM Exec line: pmemd.cuda -O -p solvate.prmtop -ref solvate.rst7 -c prod.001.rst7 -i prod.002.in -o prod.002.out -r prod.002.rst7 -x prod.002.nc -inf prod.002.mdinfo -e prod.002.mden\n",
      "2018-04-26 11:42:54 PM MD completed ...\n",
      "2018-04-26 11:42:54 PM Writing prod.002.in\n",
      "2018-04-26 11:42:54 PM Running MD at ./OA-G3-3/AMBER/APR/windows/a010\n",
      "2018-04-26 11:42:54 PM Exec line: pmemd.cuda -O -p solvate.prmtop -ref solvate.rst7 -c prod.001.rst7 -i prod.002.in -o prod.002.out -r prod.002.rst7 -x prod.002.nc -inf prod.002.mdinfo -e prod.002.mden\n",
      "2018-04-26 11:45:31 PM MD completed ...\n",
      "2018-04-26 11:45:31 PM Writing prod.002.in\n",
      "2018-04-26 11:45:31 PM Running MD at ./OA-G3-3/AMBER/APR/windows/a011\n",
      "2018-04-26 11:45:31 PM Exec line: pmemd.cuda -O -p solvate.prmtop -ref solvate.rst7 -c prod.001.rst7 -i prod.002.in -o prod.002.out -r prod.002.rst7 -x prod.002.nc -inf prod.002.mdinfo -e prod.002.mden\n",
      "2018-04-26 11:48:10 PM MD completed ...\n",
      "2018-04-26 11:48:10 PM Writing prod.002.in\n",
      "2018-04-26 11:48:10 PM Running MD at ./OA-G3-3/AMBER/APR/windows/a012\n",
      "2018-04-26 11:48:10 PM Exec line: pmemd.cuda -O -p solvate.prmtop -ref solvate.rst7 -c prod.001.rst7 -i prod.002.in -o prod.002.out -r prod.002.rst7 -x prod.002.nc -inf prod.002.mdinfo -e prod.002.mden\n",
      "2018-04-26 11:50:49 PM MD completed ...\n",
      "2018-04-26 11:50:49 PM Writing prod.002.in\n",
      "2018-04-26 11:50:49 PM Running MD at ./OA-G3-3/AMBER/APR/windows/a013\n",
      "2018-04-26 11:50:49 PM Exec line: pmemd.cuda -O -p solvate.prmtop -ref solvate.rst7 -c prod.001.rst7 -i prod.002.in -o prod.002.out -r prod.002.rst7 -x prod.002.nc -inf prod.002.mdinfo -e prod.002.mden\n",
      "2018-04-26 11:53:28 PM MD completed ...\n",
      "2018-04-26 11:53:28 PM Writing prod.002.in\n",
      "2018-04-26 11:53:28 PM Running MD at ./OA-G3-3/AMBER/APR/windows/p000\n",
      "2018-04-26 11:53:28 PM Exec line: pmemd.cuda -O -p solvate.prmtop -ref solvate.rst7 -c prod.001.rst7 -i prod.002.in -o prod.002.out -r prod.002.rst7 -x prod.002.nc -inf prod.002.mdinfo -e prod.002.mden\n",
      "2018-04-26 11:56:06 PM MD completed ...\n",
      "2018-04-26 11:56:06 PM Writing prod.002.in\n",
      "2018-04-26 11:56:06 PM Running MD at ./OA-G3-3/AMBER/APR/windows/p001\n",
      "2018-04-26 11:56:06 PM Exec line: pmemd.cuda -O -p solvate.prmtop -ref solvate.rst7 -c prod.001.rst7 -i prod.002.in -o prod.002.out -r prod.002.rst7 -x prod.002.nc -inf prod.002.mdinfo -e prod.002.mden\n",
      "2018-04-26 11:58:44 PM MD completed ...\n",
      "2018-04-26 11:58:44 PM Writing prod.002.in\n",
      "2018-04-26 11:58:44 PM Running MD at ./OA-G3-3/AMBER/APR/windows/p002\n",
      "2018-04-26 11:58:44 PM Exec line: pmemd.cuda -O -p solvate.prmtop -ref solvate.rst7 -c prod.001.rst7 -i prod.002.in -o prod.002.out -r prod.002.rst7 -x prod.002.nc -inf prod.002.mdinfo -e prod.002.mden\n",
      "2018-04-27 12:01:25 AM MD completed ...\n",
      "2018-04-27 12:01:25 AM Writing prod.002.in\n",
      "2018-04-27 12:01:25 AM Running MD at ./OA-G3-3/AMBER/APR/windows/p003\n",
      "2018-04-27 12:01:25 AM Exec line: pmemd.cuda -O -p solvate.prmtop -ref solvate.rst7 -c prod.001.rst7 -i prod.002.in -o prod.002.out -r prod.002.rst7 -x prod.002.nc -inf prod.002.mdinfo -e prod.002.mden\n",
      "2018-04-27 12:04:04 AM MD completed ...\n",
      "2018-04-27 12:04:04 AM Writing prod.002.in\n",
      "2018-04-27 12:04:04 AM Running MD at ./OA-G3-3/AMBER/APR/windows/p004\n",
      "2018-04-27 12:04:04 AM Exec line: pmemd.cuda -O -p solvate.prmtop -ref solvate.rst7 -c prod.001.rst7 -i prod.002.in -o prod.002.out -r prod.002.rst7 -x prod.002.nc -inf prod.002.mdinfo -e prod.002.mden\n",
      "2018-04-27 12:06:42 AM MD completed ...\n",
      "2018-04-27 12:06:42 AM Writing prod.002.in\n",
      "2018-04-27 12:06:42 AM Running MD at ./OA-G3-3/AMBER/APR/windows/p007\n",
      "2018-04-27 12:06:42 AM Exec line: pmemd.cuda -O -p solvate.prmtop -ref solvate.rst7 -c prod.001.rst7 -i prod.002.in -o prod.002.out -r prod.002.rst7 -x prod.002.nc -inf prod.002.mdinfo -e prod.002.mden\n"
     ]
    },
    {
     "name": "stdout",
     "output_type": "stream",
     "text": [
      "Window p005 has `prod.002.nc`...\n",
      "Window p006 has `prod.002.nc`...\n"
     ]
    },
    {
     "name": "stderr",
     "output_type": "stream",
     "text": [
      "2018-04-27 12:09:22 AM MD completed ...\n",
      "2018-04-27 12:09:22 AM Writing prod.002.in\n",
      "2018-04-27 12:09:22 AM Running MD at ./OA-G3-3/AMBER/APR/windows/p008\n",
      "2018-04-27 12:09:22 AM Exec line: pmemd.cuda -O -p solvate.prmtop -ref solvate.rst7 -c prod.001.rst7 -i prod.002.in -o prod.002.out -r prod.002.rst7 -x prod.002.nc -inf prod.002.mdinfo -e prod.002.mden\n",
      "2018-04-27 12:12:01 AM MD completed ...\n",
      "2018-04-27 12:12:01 AM Writing prod.002.in\n",
      "2018-04-27 12:12:01 AM Running MD at ./OA-G3-3/AMBER/APR/windows/p018\n",
      "2018-04-27 12:12:01 AM Exec line: pmemd.cuda -O -p solvate.prmtop -ref solvate.rst7 -c prod.001.rst7 -i prod.002.in -o prod.002.out -r prod.002.rst7 -x prod.002.nc -inf prod.002.mdinfo -e prod.002.mden\n"
     ]
    },
    {
     "name": "stdout",
     "output_type": "stream",
     "text": [
      "Window p009 has `prod.002.nc`...\n",
      "Window p010 has `prod.002.nc`...\n",
      "Window p011 has `prod.002.nc`...\n",
      "Window p012 has `prod.002.nc`...\n",
      "Window p013 has `prod.002.nc`...\n",
      "Window p014 has `prod.002.nc`...\n",
      "Window p015 has `prod.002.nc`...\n",
      "Window p016 has `prod.002.nc`...\n",
      "Window p017 has `prod.002.nc`...\n"
     ]
    },
    {
     "name": "stderr",
     "output_type": "stream",
     "text": [
      "2018-04-27 12:14:40 AM MD completed ...\n",
      "2018-04-27 12:14:40 AM Writing prod.002.in\n",
      "2018-04-27 12:14:40 AM Running MD at ./OA-G3-3/AMBER/APR/windows/p019\n",
      "2018-04-27 12:14:40 AM Exec line: pmemd.cuda -O -p solvate.prmtop -ref solvate.rst7 -c prod.001.rst7 -i prod.002.in -o prod.002.out -r prod.002.rst7 -x prod.002.nc -inf prod.002.mdinfo -e prod.002.mden\n",
      "2018-04-27 12:17:18 AM MD completed ...\n",
      "2018-04-27 12:17:18 AM Writing prod.002.in\n",
      "2018-04-27 12:17:18 AM Running MD at ./OA-G3-3/AMBER/APR/windows/p020\n",
      "2018-04-27 12:17:18 AM Exec line: pmemd.cuda -O -p solvate.prmtop -ref solvate.rst7 -c prod.001.rst7 -i prod.002.in -o prod.002.out -r prod.002.rst7 -x prod.002.nc -inf prod.002.mdinfo -e prod.002.mden\n",
      "2018-04-27 12:19:55 AM MD completed ...\n",
      "2018-04-27 12:19:55 AM Writing prod.002.in\n",
      "2018-04-27 12:19:55 AM Running MD at ./OA-G3-3/AMBER/APR/windows/p021\n",
      "2018-04-27 12:19:55 AM Exec line: pmemd.cuda -O -p solvate.prmtop -ref solvate.rst7 -c prod.001.rst7 -i prod.002.in -o prod.002.out -r prod.002.rst7 -x prod.002.nc -inf prod.002.mdinfo -e prod.002.mden\n",
      "2018-04-27 12:22:31 AM MD completed ...\n",
      "2018-04-27 12:22:31 AM Writing prod.002.in\n",
      "2018-04-27 12:22:31 AM Running MD at ./OA-G3-3/AMBER/APR/windows/p022\n",
      "2018-04-27 12:22:31 AM Exec line: pmemd.cuda -O -p solvate.prmtop -ref solvate.rst7 -c prod.001.rst7 -i prod.002.in -o prod.002.out -r prod.002.rst7 -x prod.002.nc -inf prod.002.mdinfo -e prod.002.mden\n",
      "2018-04-27 12:25:10 AM MD completed ...\n",
      "2018-04-27 12:25:10 AM Writing prod.002.in\n",
      "2018-04-27 12:25:10 AM Running MD at ./OA-G3-3/AMBER/APR/windows/p023\n",
      "2018-04-27 12:25:10 AM Exec line: pmemd.cuda -O -p solvate.prmtop -ref solvate.rst7 -c prod.001.rst7 -i prod.002.in -o prod.002.out -r prod.002.rst7 -x prod.002.nc -inf prod.002.mdinfo -e prod.002.mden\n",
      "2018-04-27 12:27:50 AM MD completed ...\n",
      "2018-04-27 12:27:50 AM Writing prod.002.in\n",
      "2018-04-27 12:27:50 AM Running MD at ./OA-G3-3/AMBER/APR/windows/p024\n",
      "2018-04-27 12:27:50 AM Exec line: pmemd.cuda -O -p solvate.prmtop -ref solvate.rst7 -c prod.001.rst7 -i prod.002.in -o prod.002.out -r prod.002.rst7 -x prod.002.nc -inf prod.002.mdinfo -e prod.002.mden\n",
      "2018-04-27 12:30:32 AM MD completed ...\n",
      "2018-04-27 12:30:32 AM Writing prod.002.in\n",
      "2018-04-27 12:30:32 AM Running MD at ./OA-G3-3/AMBER/APR/windows/p025\n",
      "2018-04-27 12:30:32 AM Exec line: pmemd.cuda -O -p solvate.prmtop -ref solvate.rst7 -c prod.001.rst7 -i prod.002.in -o prod.002.out -r prod.002.rst7 -x prod.002.nc -inf prod.002.mdinfo -e prod.002.mden\n",
      "2018-04-27 12:33:11 AM MD completed ...\n",
      "2018-04-27 12:33:11 AM Writing prod.002.in\n",
      "2018-04-27 12:33:11 AM Running MD at ./OA-G3-3/AMBER/APR/windows/p026\n",
      "2018-04-27 12:33:11 AM Exec line: pmemd.cuda -O -p solvate.prmtop -ref solvate.rst7 -c prod.001.rst7 -i prod.002.in -o prod.002.out -r prod.002.rst7 -x prod.002.nc -inf prod.002.mdinfo -e prod.002.mden\n",
      "2018-04-27 12:35:46 AM MD completed ...\n",
      "2018-04-27 12:35:46 AM Writing prod.002.in\n",
      "2018-04-27 12:35:46 AM Running MD at ./OA-G3-3/AMBER/APR/windows/p027\n",
      "2018-04-27 12:35:46 AM Exec line: pmemd.cuda -O -p solvate.prmtop -ref solvate.rst7 -c prod.001.rst7 -i prod.002.in -o prod.002.out -r prod.002.rst7 -x prod.002.nc -inf prod.002.mdinfo -e prod.002.mden\n",
      "2018-04-27 12:38:26 AM MD completed ...\n",
      "2018-04-27 12:38:26 AM Writing prod.002.in\n",
      "2018-04-27 12:38:26 AM Running MD at ./OA-G3-3/AMBER/APR/windows/p028\n",
      "2018-04-27 12:38:26 AM Exec line: pmemd.cuda -O -p solvate.prmtop -ref solvate.rst7 -c prod.001.rst7 -i prod.002.in -o prod.002.out -r prod.002.rst7 -x prod.002.nc -inf prod.002.mdinfo -e prod.002.mden\n",
      "2018-04-27 12:41:04 AM MD completed ...\n",
      "2018-04-27 12:41:04 AM Writing prod.002.in\n",
      "2018-04-27 12:41:04 AM Running MD at ./OA-G3-3/AMBER/APR/windows/p029\n",
      "2018-04-27 12:41:04 AM Exec line: pmemd.cuda -O -p solvate.prmtop -ref solvate.rst7 -c prod.001.rst7 -i prod.002.in -o prod.002.out -r prod.002.rst7 -x prod.002.nc -inf prod.002.mdinfo -e prod.002.mden\n",
      "2018-04-27 12:43:39 AM MD completed ...\n",
      "2018-04-27 12:43:39 AM Writing prod.002.in\n",
      "2018-04-27 12:43:39 AM Running MD at ./OA-G3-3/AMBER/APR/windows/p030\n",
      "2018-04-27 12:43:39 AM Exec line: pmemd.cuda -O -p solvate.prmtop -ref solvate.rst7 -c prod.001.rst7 -i prod.002.in -o prod.002.out -r prod.002.rst7 -x prod.002.nc -inf prod.002.mdinfo -e prod.002.mden\n",
      "2018-04-27 12:46:20 AM MD completed ...\n",
      "2018-04-27 12:46:20 AM Writing prod.002.in\n",
      "2018-04-27 12:46:20 AM Running MD at ./OA-G3-3/AMBER/APR/windows/p031\n",
      "2018-04-27 12:46:20 AM Exec line: pmemd.cuda -O -p solvate.prmtop -ref solvate.rst7 -c prod.001.rst7 -i prod.002.in -o prod.002.out -r prod.002.rst7 -x prod.002.nc -inf prod.002.mdinfo -e prod.002.mden\n",
      "2018-04-27 12:49:01 AM MD completed ...\n",
      "2018-04-27 12:49:01 AM Writing prod.002.in\n",
      "2018-04-27 12:49:01 AM Running MD at ./OA-G3-3/AMBER/APR/windows/p032\n",
      "2018-04-27 12:49:01 AM Exec line: pmemd.cuda -O -p solvate.prmtop -ref solvate.rst7 -c prod.001.rst7 -i prod.002.in -o prod.002.out -r prod.002.rst7 -x prod.002.nc -inf prod.002.mdinfo -e prod.002.mden\n",
      "2018-04-27 12:51:39 AM MD completed ...\n",
      "2018-04-27 12:51:39 AM Writing prod.002.in\n",
      "2018-04-27 12:51:40 AM Running MD at ./OA-G3-3/AMBER/APR/windows/p033\n",
      "2018-04-27 12:51:40 AM Exec line: pmemd.cuda -O -p solvate.prmtop -ref solvate.rst7 -c prod.001.rst7 -i prod.002.in -o prod.002.out -r prod.002.rst7 -x prod.002.nc -inf prod.002.mdinfo -e prod.002.mden\n",
      "2018-04-27 12:54:19 AM MD completed ...\n",
      "2018-04-27 12:54:19 AM Writing prod.002.in\n",
      "2018-04-27 12:54:19 AM Running MD at ./OA-G3-3/AMBER/APR/windows/p034\n",
      "2018-04-27 12:54:19 AM Exec line: pmemd.cuda -O -p solvate.prmtop -ref solvate.rst7 -c prod.001.rst7 -i prod.002.in -o prod.002.out -r prod.002.rst7 -x prod.002.nc -inf prod.002.mdinfo -e prod.002.mden\n",
      "2018-04-27 12:56:58 AM MD completed ...\n",
      "2018-04-27 12:56:58 AM Writing prod.002.in\n",
      "2018-04-27 12:56:58 AM Running MD at ./OA-G3-3/AMBER/APR/windows/p035\n",
      "2018-04-27 12:56:58 AM Exec line: pmemd.cuda -O -p solvate.prmtop -ref solvate.rst7 -c prod.001.rst7 -i prod.002.in -o prod.002.out -r prod.002.rst7 -x prod.002.nc -inf prod.002.mdinfo -e prod.002.mden\n",
      "2018-04-27 12:59:38 AM MD completed ...\n",
      "2018-04-27 12:59:38 AM Writing prod.002.in\n",
      "2018-04-27 12:59:38 AM Running MD at ./OA-G3-3/AMBER/APR/windows/p036\n",
      "2018-04-27 12:59:38 AM Exec line: pmemd.cuda -O -p solvate.prmtop -ref solvate.rst7 -c prod.001.rst7 -i prod.002.in -o prod.002.out -r prod.002.rst7 -x prod.002.nc -inf prod.002.mdinfo -e prod.002.mden\n",
      "2018-04-27 01:02:21 AM MD completed ...\n",
      "2018-04-27 01:02:21 AM Writing prod.002.in\n",
      "2018-04-27 01:02:21 AM Running MD at ./OA-G3-3/AMBER/APR/windows/p037\n",
      "2018-04-27 01:02:21 AM Exec line: pmemd.cuda -O -p solvate.prmtop -ref solvate.rst7 -c prod.001.rst7 -i prod.002.in -o prod.002.out -r prod.002.rst7 -x prod.002.nc -inf prod.002.mdinfo -e prod.002.mden\n",
      "2018-04-27 01:04:59 AM MD completed ...\n",
      "2018-04-27 01:04:59 AM Writing prod.002.in\n",
      "2018-04-27 01:04:59 AM Running MD at ./OA-G3-3/AMBER/APR/windows/p038\n",
      "2018-04-27 01:04:59 AM Exec line: pmemd.cuda -O -p solvate.prmtop -ref solvate.rst7 -c prod.001.rst7 -i prod.002.in -o prod.002.out -r prod.002.rst7 -x prod.002.nc -inf prod.002.mdinfo -e prod.002.mden\n",
      "2018-04-27 01:07:39 AM MD completed ...\n",
      "2018-04-27 01:07:39 AM Writing prod.002.in\n",
      "2018-04-27 01:07:39 AM Running MD at ./OA-G3-3/AMBER/APR/windows/p039\n",
      "2018-04-27 01:07:39 AM Exec line: pmemd.cuda -O -p solvate.prmtop -ref solvate.rst7 -c prod.001.rst7 -i prod.002.in -o prod.002.out -r prod.002.rst7 -x prod.002.nc -inf prod.002.mdinfo -e prod.002.mden\n",
      "2018-04-27 01:10:21 AM MD completed ...\n",
      "2018-04-27 01:10:21 AM Writing prod.002.in\n",
      "2018-04-27 01:10:21 AM Running MD at ./OA-G3-3/AMBER/APR/windows/p040\n",
      "2018-04-27 01:10:21 AM Exec line: pmemd.cuda -O -p solvate.prmtop -ref solvate.rst7 -c prod.001.rst7 -i prod.002.in -o prod.002.out -r prod.002.rst7 -x prod.002.nc -inf prod.002.mdinfo -e prod.002.mden\n",
      "2018-04-27 01:13:01 AM MD completed ...\n",
      "2018-04-27 01:13:01 AM Writing prod.002.in\n",
      "2018-04-27 01:13:01 AM Running MD at ./OA-G3-3/AMBER/APR/windows/p041\n",
      "2018-04-27 01:13:01 AM Exec line: pmemd.cuda -O -p solvate.prmtop -ref solvate.rst7 -c prod.001.rst7 -i prod.002.in -o prod.002.out -r prod.002.rst7 -x prod.002.nc -inf prod.002.mdinfo -e prod.002.mden\n",
      "2018-04-27 01:15:39 AM MD completed ...\n"
     ]
    },
    {
     "name": "stderr",
     "output_type": "stream",
     "text": [
      "2018-04-27 01:15:39 AM Writing prod.002.in\n",
      "2018-04-27 01:15:39 AM Running MD at ./OA-G3-3/AMBER/APR/windows/p042\n",
      "2018-04-27 01:15:39 AM Exec line: pmemd.cuda -O -p solvate.prmtop -ref solvate.rst7 -c prod.001.rst7 -i prod.002.in -o prod.002.out -r prod.002.rst7 -x prod.002.nc -inf prod.002.mdinfo -e prod.002.mden\n",
      "2018-04-27 01:18:18 AM MD completed ...\n",
      "2018-04-27 01:18:19 AM Writing prod.002.in\n",
      "2018-04-27 01:18:19 AM Running MD at ./OA-G3-3/AMBER/APR/windows/p043\n",
      "2018-04-27 01:18:19 AM Exec line: pmemd.cuda -O -p solvate.prmtop -ref solvate.rst7 -c prod.001.rst7 -i prod.002.in -o prod.002.out -r prod.002.rst7 -x prod.002.nc -inf prod.002.mdinfo -e prod.002.mden\n",
      "2018-04-27 01:20:57 AM MD completed ...\n",
      "2018-04-27 01:20:57 AM Writing prod.002.in\n",
      "2018-04-27 01:20:57 AM Running MD at ./OA-G3-3/AMBER/APR/windows/p044\n",
      "2018-04-27 01:20:57 AM Exec line: pmemd.cuda -O -p solvate.prmtop -ref solvate.rst7 -c prod.001.rst7 -i prod.002.in -o prod.002.out -r prod.002.rst7 -x prod.002.nc -inf prod.002.mdinfo -e prod.002.mden\n",
      "2018-04-27 01:23:36 AM MD completed ...\n",
      "2018-04-27 01:23:36 AM Writing prod.002.in\n",
      "2018-04-27 01:23:36 AM Running MD at ./OA-G3-3/AMBER/APR/windows/p045\n",
      "2018-04-27 01:23:36 AM Exec line: pmemd.cuda -O -p solvate.prmtop -ref solvate.rst7 -c prod.001.rst7 -i prod.002.in -o prod.002.out -r prod.002.rst7 -x prod.002.nc -inf prod.002.mdinfo -e prod.002.mden\n",
      "2018-04-27 01:26:17 AM MD completed ...\n"
     ]
    },
    {
     "name": "stdout",
     "output_type": "stream",
     "text": [
      "Set pull offset (6.83 A)\n"
     ]
    },
    {
     "name": "stderr",
     "output_type": "stream",
     "text": [
      "2018-04-27 01:26:17 AM Calculating attach targets and force constants...\n",
      "2018-04-27 01:26:17 AM Attach, Method #3\n",
      "2018-04-27 01:26:17 AM Calculating pull targets and force constants...\n",
      "2018-04-27 01:26:17 AM Pull, Method #1\n",
      "2018-04-27 01:26:17 AM Calculating release targets and force constants...\n",
      "2018-04-27 01:26:17 AM No restraint info set for the release phase! Skipping...\n",
      "2018-04-27 01:26:17 AM Number of attach windows = 15\n",
      "2018-04-27 01:26:17 AM Number of pull windows = 46\n",
      "2018-04-27 01:26:17 AM This restraint will be skipped in the release phase\n",
      "2018-04-27 01:26:17 AM Assigning atom indices...\n",
      "2018-04-27 01:26:17 AM There are 1 atoms in the mask :3  ...\n",
      "2018-04-27 01:26:17 AM There are 1 atoms in the mask :2@C1  ...\n",
      "2018-04-27 01:26:17 AM Calculating attach targets and force constants...\n",
      "2018-04-27 01:26:17 AM Attach, Method #3\n",
      "2018-04-27 01:26:17 AM Calculating pull targets and force constants...\n",
      "2018-04-27 01:26:17 AM Pull, Method #1\n",
      "2018-04-27 01:26:17 AM Calculating release targets and force constants...\n",
      "2018-04-27 01:26:17 AM No restraint info set for the release phase! Skipping...\n",
      "2018-04-27 01:26:17 AM Number of attach windows = 15\n",
      "2018-04-27 01:26:17 AM Number of pull windows = 46\n",
      "2018-04-27 01:26:17 AM This restraint will be skipped in the release phase\n",
      "2018-04-27 01:26:17 AM Assigning atom indices...\n",
      "2018-04-27 01:26:17 AM There are 1 atoms in the mask :4  ...\n",
      "2018-04-27 01:26:17 AM There are 1 atoms in the mask :3  ...\n",
      "2018-04-27 01:26:18 AM There are 1 atoms in the mask :2@C1  ...\n",
      "2018-04-27 01:26:18 AM Calculating attach targets and force constants...\n",
      "2018-04-27 01:26:18 AM Attach, Method #3\n",
      "2018-04-27 01:26:18 AM Calculating pull targets and force constants...\n",
      "2018-04-27 01:26:18 AM Pull, Method #1\n",
      "2018-04-27 01:26:18 AM Calculating release targets and force constants...\n",
      "2018-04-27 01:26:18 AM No restraint info set for the release phase! Skipping...\n",
      "2018-04-27 01:26:18 AM Number of attach windows = 15\n",
      "2018-04-27 01:26:18 AM Number of pull windows = 46\n",
      "2018-04-27 01:26:18 AM This restraint will be skipped in the release phase\n",
      "2018-04-27 01:26:18 AM Assigning atom indices...\n",
      "2018-04-27 01:26:18 AM There are 1 atoms in the mask :3  ...\n",
      "2018-04-27 01:26:18 AM There are 1 atoms in the mask :2@C1  ...\n",
      "2018-04-27 01:26:18 AM There are 1 atoms in the mask :2@C3  ...\n",
      "2018-04-27 01:26:18 AM Writing prod.002.in\n",
      "2018-04-27 01:26:18 AM Running MD at ./OA-G3-4/AMBER/APR/windows/a000\n",
      "2018-04-27 01:26:18 AM Exec line: pmemd.cuda -O -p solvate.prmtop -ref solvate.rst7 -c prod.001.rst7 -i prod.002.in -o prod.002.out -r prod.002.rst7 -x prod.002.nc -inf prod.002.mdinfo -e prod.002.mden\n"
     ]
    },
    {
     "name": "stdout",
     "output_type": "stream",
     "text": [
      "Simulating ./OA-G3-4\n"
     ]
    },
    {
     "name": "stderr",
     "output_type": "stream",
     "text": [
      "2018-04-27 01:28:56 AM MD completed ...\n",
      "2018-04-27 01:28:56 AM Writing prod.002.in\n",
      "2018-04-27 01:28:56 AM Running MD at ./OA-G3-4/AMBER/APR/windows/a001\n",
      "2018-04-27 01:28:56 AM Exec line: pmemd.cuda -O -p solvate.prmtop -ref solvate.rst7 -c prod.001.rst7 -i prod.002.in -o prod.002.out -r prod.002.rst7 -x prod.002.nc -inf prod.002.mdinfo -e prod.002.mden\n",
      "2018-04-27 01:31:35 AM MD completed ...\n",
      "2018-04-27 01:31:35 AM Writing prod.002.in\n",
      "2018-04-27 01:31:35 AM Running MD at ./OA-G3-4/AMBER/APR/windows/a002\n",
      "2018-04-27 01:31:35 AM Exec line: pmemd.cuda -O -p solvate.prmtop -ref solvate.rst7 -c prod.001.rst7 -i prod.002.in -o prod.002.out -r prod.002.rst7 -x prod.002.nc -inf prod.002.mdinfo -e prod.002.mden\n",
      "2018-04-27 01:34:15 AM MD completed ...\n",
      "2018-04-27 01:34:15 AM Writing prod.002.in\n",
      "2018-04-27 01:34:15 AM Running MD at ./OA-G3-4/AMBER/APR/windows/a003\n",
      "2018-04-27 01:34:15 AM Exec line: pmemd.cuda -O -p solvate.prmtop -ref solvate.rst7 -c prod.001.rst7 -i prod.002.in -o prod.002.out -r prod.002.rst7 -x prod.002.nc -inf prod.002.mdinfo -e prod.002.mden\n",
      "2018-04-27 01:36:51 AM MD completed ...\n",
      "2018-04-27 01:36:51 AM Writing prod.002.in\n",
      "2018-04-27 01:36:51 AM Running MD at ./OA-G3-4/AMBER/APR/windows/a004\n",
      "2018-04-27 01:36:51 AM Exec line: pmemd.cuda -O -p solvate.prmtop -ref solvate.rst7 -c prod.001.rst7 -i prod.002.in -o prod.002.out -r prod.002.rst7 -x prod.002.nc -inf prod.002.mdinfo -e prod.002.mden\n",
      "2018-04-27 01:39:28 AM MD completed ...\n",
      "2018-04-27 01:39:28 AM Writing prod.002.in\n",
      "2018-04-27 01:39:28 AM Running MD at ./OA-G3-4/AMBER/APR/windows/a005\n",
      "2018-04-27 01:39:28 AM Exec line: pmemd.cuda -O -p solvate.prmtop -ref solvate.rst7 -c prod.001.rst7 -i prod.002.in -o prod.002.out -r prod.002.rst7 -x prod.002.nc -inf prod.002.mdinfo -e prod.002.mden\n",
      "2018-04-27 01:42:06 AM MD completed ...\n",
      "2018-04-27 01:42:06 AM Writing prod.002.in\n",
      "2018-04-27 01:42:06 AM Running MD at ./OA-G3-4/AMBER/APR/windows/a006\n",
      "2018-04-27 01:42:06 AM Exec line: pmemd.cuda -O -p solvate.prmtop -ref solvate.rst7 -c prod.001.rst7 -i prod.002.in -o prod.002.out -r prod.002.rst7 -x prod.002.nc -inf prod.002.mdinfo -e prod.002.mden\n",
      "2018-04-27 01:44:44 AM MD completed ...\n",
      "2018-04-27 01:44:44 AM Writing prod.002.in\n",
      "2018-04-27 01:44:44 AM Running MD at ./OA-G3-4/AMBER/APR/windows/a007\n",
      "2018-04-27 01:44:44 AM Exec line: pmemd.cuda -O -p solvate.prmtop -ref solvate.rst7 -c prod.001.rst7 -i prod.002.in -o prod.002.out -r prod.002.rst7 -x prod.002.nc -inf prod.002.mdinfo -e prod.002.mden\n",
      "2018-04-27 01:47:23 AM MD completed ...\n",
      "2018-04-27 01:47:23 AM Writing prod.002.in\n",
      "2018-04-27 01:47:23 AM Running MD at ./OA-G3-4/AMBER/APR/windows/a008\n",
      "2018-04-27 01:47:23 AM Exec line: pmemd.cuda -O -p solvate.prmtop -ref solvate.rst7 -c prod.001.rst7 -i prod.002.in -o prod.002.out -r prod.002.rst7 -x prod.002.nc -inf prod.002.mdinfo -e prod.002.mden\n",
      "2018-04-27 01:49:59 AM MD completed ...\n",
      "2018-04-27 01:49:59 AM Writing prod.002.in\n",
      "2018-04-27 01:49:59 AM Running MD at ./OA-G3-4/AMBER/APR/windows/a009\n",
      "2018-04-27 01:49:59 AM Exec line: pmemd.cuda -O -p solvate.prmtop -ref solvate.rst7 -c prod.001.rst7 -i prod.002.in -o prod.002.out -r prod.002.rst7 -x prod.002.nc -inf prod.002.mdinfo -e prod.002.mden\n",
      "2018-04-27 01:52:38 AM MD completed ...\n",
      "2018-04-27 01:52:38 AM Writing prod.002.in\n",
      "2018-04-27 01:52:38 AM Running MD at ./OA-G3-4/AMBER/APR/windows/a010\n",
      "2018-04-27 01:52:38 AM Exec line: pmemd.cuda -O -p solvate.prmtop -ref solvate.rst7 -c prod.001.rst7 -i prod.002.in -o prod.002.out -r prod.002.rst7 -x prod.002.nc -inf prod.002.mdinfo -e prod.002.mden\n",
      "2018-04-27 01:55:16 AM MD completed ...\n",
      "2018-04-27 01:55:16 AM Writing prod.002.in\n",
      "2018-04-27 01:55:16 AM Running MD at ./OA-G3-4/AMBER/APR/windows/a011\n",
      "2018-04-27 01:55:16 AM Exec line: pmemd.cuda -O -p solvate.prmtop -ref solvate.rst7 -c prod.001.rst7 -i prod.002.in -o prod.002.out -r prod.002.rst7 -x prod.002.nc -inf prod.002.mdinfo -e prod.002.mden\n",
      "2018-04-27 01:55:29 AM STDOUT/STDERR received from AMBER execution\n",
      "2018-04-27 01:55:29 AM b'Error: an illegal memory access was encountered launching kernel kNLSkinTest'\n",
      "2018-04-27 01:55:29 AM Simulation execution does not appear to have completed\n",
      "2018-04-27 01:55:29 AM Writing prod.002.in\n",
      "2018-04-27 01:55:29 AM Running MD at ./OA-G3-4/AMBER/APR/windows/a012\n",
      "2018-04-27 01:55:29 AM Exec line: pmemd.cuda -O -p solvate.prmtop -ref solvate.rst7 -c prod.001.rst7 -i prod.002.in -o prod.002.out -r prod.002.rst7 -x prod.002.nc -inf prod.002.mdinfo -e prod.002.mden\n",
      "2018-04-27 01:58:05 AM MD completed ...\n",
      "2018-04-27 01:58:05 AM Writing prod.002.in\n",
      "2018-04-27 01:58:05 AM Running MD at ./OA-G3-4/AMBER/APR/windows/a013\n",
      "2018-04-27 01:58:05 AM Exec line: pmemd.cuda -O -p solvate.prmtop -ref solvate.rst7 -c prod.001.rst7 -i prod.002.in -o prod.002.out -r prod.002.rst7 -x prod.002.nc -inf prod.002.mdinfo -e prod.002.mden\n",
      "2018-04-27 02:00:44 AM MD completed ...\n",
      "2018-04-27 02:00:44 AM Writing prod.002.in\n",
      "2018-04-27 02:00:44 AM Running MD at ./OA-G3-4/AMBER/APR/windows/p000\n",
      "2018-04-27 02:00:44 AM Exec line: pmemd.cuda -O -p solvate.prmtop -ref solvate.rst7 -c prod.001.rst7 -i prod.002.in -o prod.002.out -r prod.002.rst7 -x prod.002.nc -inf prod.002.mdinfo -e prod.002.mden\n",
      "2018-04-27 02:03:19 AM MD completed ...\n",
      "2018-04-27 02:03:19 AM Writing prod.002.in\n",
      "2018-04-27 02:03:19 AM Running MD at ./OA-G3-4/AMBER/APR/windows/p001\n",
      "2018-04-27 02:03:19 AM Exec line: pmemd.cuda -O -p solvate.prmtop -ref solvate.rst7 -c prod.001.rst7 -i prod.002.in -o prod.002.out -r prod.002.rst7 -x prod.002.nc -inf prod.002.mdinfo -e prod.002.mden\n",
      "2018-04-27 02:05:57 AM MD completed ...\n",
      "2018-04-27 02:05:57 AM Writing prod.002.in\n",
      "2018-04-27 02:05:57 AM Running MD at ./OA-G3-4/AMBER/APR/windows/p002\n",
      "2018-04-27 02:05:57 AM Exec line: pmemd.cuda -O -p solvate.prmtop -ref solvate.rst7 -c prod.001.rst7 -i prod.002.in -o prod.002.out -r prod.002.rst7 -x prod.002.nc -inf prod.002.mdinfo -e prod.002.mden\n",
      "2018-04-27 02:08:34 AM MD completed ...\n",
      "2018-04-27 02:08:34 AM Writing prod.002.in\n",
      "2018-04-27 02:08:34 AM Running MD at ./OA-G3-4/AMBER/APR/windows/p003\n",
      "2018-04-27 02:08:34 AM Exec line: pmemd.cuda -O -p solvate.prmtop -ref solvate.rst7 -c prod.001.rst7 -i prod.002.in -o prod.002.out -r prod.002.rst7 -x prod.002.nc -inf prod.002.mdinfo -e prod.002.mden\n",
      "2018-04-27 02:11:11 AM MD completed ...\n",
      "2018-04-27 02:11:11 AM Writing prod.002.in\n",
      "2018-04-27 02:11:11 AM Running MD at ./OA-G3-4/AMBER/APR/windows/p004\n",
      "2018-04-27 02:11:11 AM Exec line: pmemd.cuda -O -p solvate.prmtop -ref solvate.rst7 -c prod.001.rst7 -i prod.002.in -o prod.002.out -r prod.002.rst7 -x prod.002.nc -inf prod.002.mdinfo -e prod.002.mden\n",
      "2018-04-27 02:13:47 AM MD completed ...\n",
      "2018-04-27 02:13:47 AM Writing prod.002.in\n",
      "2018-04-27 02:13:47 AM Running MD at ./OA-G3-4/AMBER/APR/windows/p005\n",
      "2018-04-27 02:13:47 AM Exec line: pmemd.cuda -O -p solvate.prmtop -ref solvate.rst7 -c prod.001.rst7 -i prod.002.in -o prod.002.out -r prod.002.rst7 -x prod.002.nc -inf prod.002.mdinfo -e prod.002.mden\n",
      "2018-04-27 02:16:24 AM MD completed ...\n",
      "2018-04-27 02:16:24 AM Writing prod.002.in\n",
      "2018-04-27 02:16:25 AM Running MD at ./OA-G3-4/AMBER/APR/windows/p006\n",
      "2018-04-27 02:16:25 AM Exec line: pmemd.cuda -O -p solvate.prmtop -ref solvate.rst7 -c prod.001.rst7 -i prod.002.in -o prod.002.out -r prod.002.rst7 -x prod.002.nc -inf prod.002.mdinfo -e prod.002.mden\n",
      "2018-04-27 02:19:03 AM MD completed ...\n",
      "2018-04-27 02:19:03 AM Writing prod.002.in\n",
      "2018-04-27 02:19:03 AM Running MD at ./OA-G3-4/AMBER/APR/windows/p007\n",
      "2018-04-27 02:19:03 AM Exec line: pmemd.cuda -O -p solvate.prmtop -ref solvate.rst7 -c prod.001.rst7 -i prod.002.in -o prod.002.out -r prod.002.rst7 -x prod.002.nc -inf prod.002.mdinfo -e prod.002.mden\n",
      "2018-04-27 02:21:41 AM MD completed ...\n",
      "2018-04-27 02:21:41 AM Writing prod.002.in\n",
      "2018-04-27 02:21:41 AM Running MD at ./OA-G3-4/AMBER/APR/windows/p008\n",
      "2018-04-27 02:21:41 AM Exec line: pmemd.cuda -O -p solvate.prmtop -ref solvate.rst7 -c prod.001.rst7 -i prod.002.in -o prod.002.out -r prod.002.rst7 -x prod.002.nc -inf prod.002.mdinfo -e prod.002.mden\n",
      "2018-04-27 02:24:18 AM MD completed ...\n",
      "2018-04-27 02:24:18 AM Writing prod.002.in\n",
      "2018-04-27 02:24:18 AM Running MD at ./OA-G3-4/AMBER/APR/windows/p009\n",
      "2018-04-27 02:24:18 AM Exec line: pmemd.cuda -O -p solvate.prmtop -ref solvate.rst7 -c prod.001.rst7 -i prod.002.in -o prod.002.out -r prod.002.rst7 -x prod.002.nc -inf prod.002.mdinfo -e prod.002.mden\n"
     ]
    },
    {
     "name": "stderr",
     "output_type": "stream",
     "text": [
      "2018-04-27 02:26:55 AM MD completed ...\n",
      "2018-04-27 02:26:55 AM Writing prod.002.in\n",
      "2018-04-27 02:26:55 AM Running MD at ./OA-G3-4/AMBER/APR/windows/p010\n",
      "2018-04-27 02:26:55 AM Exec line: pmemd.cuda -O -p solvate.prmtop -ref solvate.rst7 -c prod.001.rst7 -i prod.002.in -o prod.002.out -r prod.002.rst7 -x prod.002.nc -inf prod.002.mdinfo -e prod.002.mden\n",
      "2018-04-27 02:29:33 AM MD completed ...\n",
      "2018-04-27 02:29:33 AM Writing prod.002.in\n",
      "2018-04-27 02:29:33 AM Running MD at ./OA-G3-4/AMBER/APR/windows/p011\n",
      "2018-04-27 02:29:33 AM Exec line: pmemd.cuda -O -p solvate.prmtop -ref solvate.rst7 -c prod.001.rst7 -i prod.002.in -o prod.002.out -r prod.002.rst7 -x prod.002.nc -inf prod.002.mdinfo -e prod.002.mden\n",
      "2018-04-27 02:32:10 AM MD completed ...\n",
      "2018-04-27 02:32:10 AM Writing prod.002.in\n",
      "2018-04-27 02:32:10 AM Running MD at ./OA-G3-4/AMBER/APR/windows/p012\n",
      "2018-04-27 02:32:10 AM Exec line: pmemd.cuda -O -p solvate.prmtop -ref solvate.rst7 -c prod.001.rst7 -i prod.002.in -o prod.002.out -r prod.002.rst7 -x prod.002.nc -inf prod.002.mdinfo -e prod.002.mden\n",
      "2018-04-27 02:34:47 AM MD completed ...\n",
      "2018-04-27 02:34:47 AM Writing prod.002.in\n",
      "2018-04-27 02:34:47 AM Running MD at ./OA-G3-4/AMBER/APR/windows/p013\n",
      "2018-04-27 02:34:47 AM Exec line: pmemd.cuda -O -p solvate.prmtop -ref solvate.rst7 -c prod.001.rst7 -i prod.002.in -o prod.002.out -r prod.002.rst7 -x prod.002.nc -inf prod.002.mdinfo -e prod.002.mden\n",
      "2018-04-27 02:37:24 AM MD completed ...\n",
      "2018-04-27 02:37:24 AM Writing prod.002.in\n",
      "2018-04-27 02:37:24 AM Running MD at ./OA-G3-4/AMBER/APR/windows/p014\n",
      "2018-04-27 02:37:24 AM Exec line: pmemd.cuda -O -p solvate.prmtop -ref solvate.rst7 -c prod.001.rst7 -i prod.002.in -o prod.002.out -r prod.002.rst7 -x prod.002.nc -inf prod.002.mdinfo -e prod.002.mden\n",
      "2018-04-27 02:40:04 AM MD completed ...\n",
      "2018-04-27 02:40:04 AM Writing prod.002.in\n",
      "2018-04-27 02:40:04 AM Running MD at ./OA-G3-4/AMBER/APR/windows/p015\n",
      "2018-04-27 02:40:04 AM Exec line: pmemd.cuda -O -p solvate.prmtop -ref solvate.rst7 -c prod.001.rst7 -i prod.002.in -o prod.002.out -r prod.002.rst7 -x prod.002.nc -inf prod.002.mdinfo -e prod.002.mden\n",
      "2018-04-27 02:42:40 AM MD completed ...\n",
      "2018-04-27 02:42:40 AM Writing prod.002.in\n",
      "2018-04-27 02:42:40 AM Running MD at ./OA-G3-4/AMBER/APR/windows/p016\n",
      "2018-04-27 02:42:40 AM Exec line: pmemd.cuda -O -p solvate.prmtop -ref solvate.rst7 -c prod.001.rst7 -i prod.002.in -o prod.002.out -r prod.002.rst7 -x prod.002.nc -inf prod.002.mdinfo -e prod.002.mden\n",
      "2018-04-27 02:45:18 AM MD completed ...\n",
      "2018-04-27 02:45:18 AM Writing prod.002.in\n",
      "2018-04-27 02:45:18 AM Running MD at ./OA-G3-4/AMBER/APR/windows/p017\n",
      "2018-04-27 02:45:18 AM Exec line: pmemd.cuda -O -p solvate.prmtop -ref solvate.rst7 -c prod.001.rst7 -i prod.002.in -o prod.002.out -r prod.002.rst7 -x prod.002.nc -inf prod.002.mdinfo -e prod.002.mden\n",
      "2018-04-27 02:47:56 AM MD completed ...\n",
      "2018-04-27 02:47:56 AM Writing prod.002.in\n",
      "2018-04-27 02:47:56 AM Running MD at ./OA-G3-4/AMBER/APR/windows/p018\n",
      "2018-04-27 02:47:56 AM Exec line: pmemd.cuda -O -p solvate.prmtop -ref solvate.rst7 -c prod.001.rst7 -i prod.002.in -o prod.002.out -r prod.002.rst7 -x prod.002.nc -inf prod.002.mdinfo -e prod.002.mden\n",
      "2018-04-27 02:50:34 AM MD completed ...\n",
      "2018-04-27 02:50:34 AM Writing prod.002.in\n",
      "2018-04-27 02:50:34 AM Running MD at ./OA-G3-4/AMBER/APR/windows/p019\n",
      "2018-04-27 02:50:34 AM Exec line: pmemd.cuda -O -p solvate.prmtop -ref solvate.rst7 -c prod.001.rst7 -i prod.002.in -o prod.002.out -r prod.002.rst7 -x prod.002.nc -inf prod.002.mdinfo -e prod.002.mden\n",
      "2018-04-27 02:53:08 AM MD completed ...\n",
      "2018-04-27 02:53:08 AM Writing prod.002.in\n",
      "2018-04-27 02:53:08 AM Running MD at ./OA-G3-4/AMBER/APR/windows/p020\n",
      "2018-04-27 02:53:08 AM Exec line: pmemd.cuda -O -p solvate.prmtop -ref solvate.rst7 -c prod.001.rst7 -i prod.002.in -o prod.002.out -r prod.002.rst7 -x prod.002.nc -inf prod.002.mdinfo -e prod.002.mden\n",
      "2018-04-27 02:55:46 AM MD completed ...\n",
      "2018-04-27 02:55:46 AM Writing prod.002.in\n",
      "2018-04-27 02:55:46 AM Running MD at ./OA-G3-4/AMBER/APR/windows/p021\n",
      "2018-04-27 02:55:46 AM Exec line: pmemd.cuda -O -p solvate.prmtop -ref solvate.rst7 -c prod.001.rst7 -i prod.002.in -o prod.002.out -r prod.002.rst7 -x prod.002.nc -inf prod.002.mdinfo -e prod.002.mden\n",
      "2018-04-27 02:58:20 AM MD completed ...\n",
      "2018-04-27 02:58:20 AM Writing prod.002.in\n",
      "2018-04-27 02:58:20 AM Running MD at ./OA-G3-4/AMBER/APR/windows/p022\n",
      "2018-04-27 02:58:20 AM Exec line: pmemd.cuda -O -p solvate.prmtop -ref solvate.rst7 -c prod.001.rst7 -i prod.002.in -o prod.002.out -r prod.002.rst7 -x prod.002.nc -inf prod.002.mdinfo -e prod.002.mden\n",
      "2018-04-27 03:00:58 AM MD completed ...\n",
      "2018-04-27 03:00:58 AM Writing prod.002.in\n",
      "2018-04-27 03:00:58 AM Running MD at ./OA-G3-4/AMBER/APR/windows/p023\n",
      "2018-04-27 03:00:58 AM Exec line: pmemd.cuda -O -p solvate.prmtop -ref solvate.rst7 -c prod.001.rst7 -i prod.002.in -o prod.002.out -r prod.002.rst7 -x prod.002.nc -inf prod.002.mdinfo -e prod.002.mden\n",
      "2018-04-27 03:03:38 AM MD completed ...\n",
      "2018-04-27 03:03:38 AM Writing prod.002.in\n",
      "2018-04-27 03:03:38 AM Running MD at ./OA-G3-4/AMBER/APR/windows/p024\n",
      "2018-04-27 03:03:38 AM Exec line: pmemd.cuda -O -p solvate.prmtop -ref solvate.rst7 -c prod.001.rst7 -i prod.002.in -o prod.002.out -r prod.002.rst7 -x prod.002.nc -inf prod.002.mdinfo -e prod.002.mden\n",
      "2018-04-27 03:06:14 AM MD completed ...\n",
      "2018-04-27 03:06:14 AM Writing prod.002.in\n",
      "2018-04-27 03:06:14 AM Running MD at ./OA-G3-4/AMBER/APR/windows/p025\n",
      "2018-04-27 03:06:14 AM Exec line: pmemd.cuda -O -p solvate.prmtop -ref solvate.rst7 -c prod.001.rst7 -i prod.002.in -o prod.002.out -r prod.002.rst7 -x prod.002.nc -inf prod.002.mdinfo -e prod.002.mden\n",
      "2018-04-27 03:08:51 AM MD completed ...\n",
      "2018-04-27 03:08:51 AM Writing prod.002.in\n",
      "2018-04-27 03:08:51 AM Running MD at ./OA-G3-4/AMBER/APR/windows/p026\n",
      "2018-04-27 03:08:51 AM Exec line: pmemd.cuda -O -p solvate.prmtop -ref solvate.rst7 -c prod.001.rst7 -i prod.002.in -o prod.002.out -r prod.002.rst7 -x prod.002.nc -inf prod.002.mdinfo -e prod.002.mden\n",
      "2018-04-27 03:11:28 AM MD completed ...\n",
      "2018-04-27 03:11:28 AM Writing prod.002.in\n",
      "2018-04-27 03:11:28 AM Running MD at ./OA-G3-4/AMBER/APR/windows/p027\n",
      "2018-04-27 03:11:28 AM Exec line: pmemd.cuda -O -p solvate.prmtop -ref solvate.rst7 -c prod.001.rst7 -i prod.002.in -o prod.002.out -r prod.002.rst7 -x prod.002.nc -inf prod.002.mdinfo -e prod.002.mden\n",
      "2018-04-27 03:14:03 AM MD completed ...\n",
      "2018-04-27 03:14:03 AM Writing prod.002.in\n",
      "2018-04-27 03:14:03 AM Running MD at ./OA-G3-4/AMBER/APR/windows/p028\n",
      "2018-04-27 03:14:03 AM Exec line: pmemd.cuda -O -p solvate.prmtop -ref solvate.rst7 -c prod.001.rst7 -i prod.002.in -o prod.002.out -r prod.002.rst7 -x prod.002.nc -inf prod.002.mdinfo -e prod.002.mden\n",
      "2018-04-27 03:16:39 AM MD completed ...\n",
      "2018-04-27 03:16:39 AM Writing prod.002.in\n",
      "2018-04-27 03:16:39 AM Running MD at ./OA-G3-4/AMBER/APR/windows/p029\n",
      "2018-04-27 03:16:39 AM Exec line: pmemd.cuda -O -p solvate.prmtop -ref solvate.rst7 -c prod.001.rst7 -i prod.002.in -o prod.002.out -r prod.002.rst7 -x prod.002.nc -inf prod.002.mdinfo -e prod.002.mden\n",
      "2018-04-27 03:19:14 AM MD completed ...\n",
      "2018-04-27 03:19:14 AM Writing prod.002.in\n",
      "2018-04-27 03:19:14 AM Running MD at ./OA-G3-4/AMBER/APR/windows/p030\n",
      "2018-04-27 03:19:14 AM Exec line: pmemd.cuda -O -p solvate.prmtop -ref solvate.rst7 -c prod.001.rst7 -i prod.002.in -o prod.002.out -r prod.002.rst7 -x prod.002.nc -inf prod.002.mdinfo -e prod.002.mden\n",
      "2018-04-27 03:21:50 AM MD completed ...\n",
      "2018-04-27 03:21:50 AM Writing prod.002.in\n",
      "2018-04-27 03:21:50 AM Running MD at ./OA-G3-4/AMBER/APR/windows/p031\n",
      "2018-04-27 03:21:50 AM Exec line: pmemd.cuda -O -p solvate.prmtop -ref solvate.rst7 -c prod.001.rst7 -i prod.002.in -o prod.002.out -r prod.002.rst7 -x prod.002.nc -inf prod.002.mdinfo -e prod.002.mden\n",
      "2018-04-27 03:24:26 AM MD completed ...\n",
      "2018-04-27 03:24:26 AM Writing prod.002.in\n",
      "2018-04-27 03:24:26 AM Running MD at ./OA-G3-4/AMBER/APR/windows/p032\n",
      "2018-04-27 03:24:26 AM Exec line: pmemd.cuda -O -p solvate.prmtop -ref solvate.rst7 -c prod.001.rst7 -i prod.002.in -o prod.002.out -r prod.002.rst7 -x prod.002.nc -inf prod.002.mdinfo -e prod.002.mden\n",
      "2018-04-27 03:27:02 AM MD completed ...\n"
     ]
    },
    {
     "name": "stderr",
     "output_type": "stream",
     "text": [
      "2018-04-27 03:27:02 AM Writing prod.002.in\n",
      "2018-04-27 03:27:02 AM Running MD at ./OA-G3-4/AMBER/APR/windows/p033\n",
      "2018-04-27 03:27:02 AM Exec line: pmemd.cuda -O -p solvate.prmtop -ref solvate.rst7 -c prod.001.rst7 -i prod.002.in -o prod.002.out -r prod.002.rst7 -x prod.002.nc -inf prod.002.mdinfo -e prod.002.mden\n",
      "2018-04-27 03:29:37 AM MD completed ...\n",
      "2018-04-27 03:29:37 AM Writing prod.002.in\n",
      "2018-04-27 03:29:37 AM Running MD at ./OA-G3-4/AMBER/APR/windows/p034\n",
      "2018-04-27 03:29:37 AM Exec line: pmemd.cuda -O -p solvate.prmtop -ref solvate.rst7 -c prod.001.rst7 -i prod.002.in -o prod.002.out -r prod.002.rst7 -x prod.002.nc -inf prod.002.mdinfo -e prod.002.mden\n",
      "2018-04-27 03:32:13 AM MD completed ...\n",
      "2018-04-27 03:32:13 AM Writing prod.002.in\n",
      "2018-04-27 03:32:13 AM Running MD at ./OA-G3-4/AMBER/APR/windows/p035\n",
      "2018-04-27 03:32:13 AM Exec line: pmemd.cuda -O -p solvate.prmtop -ref solvate.rst7 -c prod.001.rst7 -i prod.002.in -o prod.002.out -r prod.002.rst7 -x prod.002.nc -inf prod.002.mdinfo -e prod.002.mden\n",
      "2018-04-27 03:34:49 AM MD completed ...\n",
      "2018-04-27 03:34:49 AM Writing prod.002.in\n",
      "2018-04-27 03:34:49 AM Running MD at ./OA-G3-4/AMBER/APR/windows/p036\n",
      "2018-04-27 03:34:49 AM Exec line: pmemd.cuda -O -p solvate.prmtop -ref solvate.rst7 -c prod.001.rst7 -i prod.002.in -o prod.002.out -r prod.002.rst7 -x prod.002.nc -inf prod.002.mdinfo -e prod.002.mden\n",
      "2018-04-27 03:37:25 AM MD completed ...\n",
      "2018-04-27 03:37:25 AM Writing prod.002.in\n",
      "2018-04-27 03:37:25 AM Running MD at ./OA-G3-4/AMBER/APR/windows/p037\n",
      "2018-04-27 03:37:25 AM Exec line: pmemd.cuda -O -p solvate.prmtop -ref solvate.rst7 -c prod.001.rst7 -i prod.002.in -o prod.002.out -r prod.002.rst7 -x prod.002.nc -inf prod.002.mdinfo -e prod.002.mden\n",
      "2018-04-27 03:40:01 AM MD completed ...\n",
      "2018-04-27 03:40:01 AM Writing prod.002.in\n",
      "2018-04-27 03:40:01 AM Running MD at ./OA-G3-4/AMBER/APR/windows/p038\n",
      "2018-04-27 03:40:01 AM Exec line: pmemd.cuda -O -p solvate.prmtop -ref solvate.rst7 -c prod.001.rst7 -i prod.002.in -o prod.002.out -r prod.002.rst7 -x prod.002.nc -inf prod.002.mdinfo -e prod.002.mden\n",
      "2018-04-27 03:42:40 AM MD completed ...\n",
      "2018-04-27 03:42:40 AM Writing prod.002.in\n",
      "2018-04-27 03:42:40 AM Running MD at ./OA-G3-4/AMBER/APR/windows/p039\n",
      "2018-04-27 03:42:40 AM Exec line: pmemd.cuda -O -p solvate.prmtop -ref solvate.rst7 -c prod.001.rst7 -i prod.002.in -o prod.002.out -r prod.002.rst7 -x prod.002.nc -inf prod.002.mdinfo -e prod.002.mden\n",
      "2018-04-27 03:45:17 AM MD completed ...\n",
      "2018-04-27 03:45:17 AM Writing prod.002.in\n",
      "2018-04-27 03:45:17 AM Running MD at ./OA-G3-4/AMBER/APR/windows/p040\n",
      "2018-04-27 03:45:17 AM Exec line: pmemd.cuda -O -p solvate.prmtop -ref solvate.rst7 -c prod.001.rst7 -i prod.002.in -o prod.002.out -r prod.002.rst7 -x prod.002.nc -inf prod.002.mdinfo -e prod.002.mden\n",
      "2018-04-27 03:47:54 AM MD completed ...\n",
      "2018-04-27 03:47:54 AM Writing prod.002.in\n",
      "2018-04-27 03:47:54 AM Running MD at ./OA-G3-4/AMBER/APR/windows/p041\n",
      "2018-04-27 03:47:54 AM Exec line: pmemd.cuda -O -p solvate.prmtop -ref solvate.rst7 -c prod.001.rst7 -i prod.002.in -o prod.002.out -r prod.002.rst7 -x prod.002.nc -inf prod.002.mdinfo -e prod.002.mden\n",
      "2018-04-27 03:50:31 AM MD completed ...\n",
      "2018-04-27 03:50:31 AM Writing prod.002.in\n",
      "2018-04-27 03:50:31 AM Running MD at ./OA-G3-4/AMBER/APR/windows/p042\n",
      "2018-04-27 03:50:31 AM Exec line: pmemd.cuda -O -p solvate.prmtop -ref solvate.rst7 -c prod.001.rst7 -i prod.002.in -o prod.002.out -r prod.002.rst7 -x prod.002.nc -inf prod.002.mdinfo -e prod.002.mden\n",
      "2018-04-27 03:53:07 AM MD completed ...\n",
      "2018-04-27 03:53:07 AM Writing prod.002.in\n",
      "2018-04-27 03:53:07 AM Running MD at ./OA-G3-4/AMBER/APR/windows/p043\n",
      "2018-04-27 03:53:07 AM Exec line: pmemd.cuda -O -p solvate.prmtop -ref solvate.rst7 -c prod.001.rst7 -i prod.002.in -o prod.002.out -r prod.002.rst7 -x prod.002.nc -inf prod.002.mdinfo -e prod.002.mden\n",
      "2018-04-27 03:55:43 AM MD completed ...\n",
      "2018-04-27 03:55:43 AM Writing prod.002.in\n",
      "2018-04-27 03:55:43 AM Running MD at ./OA-G3-4/AMBER/APR/windows/p044\n",
      "2018-04-27 03:55:43 AM Exec line: pmemd.cuda -O -p solvate.prmtop -ref solvate.rst7 -c prod.001.rst7 -i prod.002.in -o prod.002.out -r prod.002.rst7 -x prod.002.nc -inf prod.002.mdinfo -e prod.002.mden\n",
      "2018-04-27 03:58:19 AM MD completed ...\n",
      "2018-04-27 03:58:19 AM Writing prod.002.in\n",
      "2018-04-27 03:58:19 AM Running MD at ./OA-G3-4/AMBER/APR/windows/p045\n",
      "2018-04-27 03:58:19 AM Exec line: pmemd.cuda -O -p solvate.prmtop -ref solvate.rst7 -c prod.001.rst7 -i prod.002.in -o prod.002.out -r prod.002.rst7 -x prod.002.nc -inf prod.002.mdinfo -e prod.002.mden\n",
      "2018-04-27 04:00:55 AM MD completed ...\n"
     ]
    }
   ],
   "source": [
    "for complx in g3_complexes:\n",
    "    \n",
    "    traj = pt.load(os.path.join(complx, 'AMBER', 'solvate.rst7'), \n",
    "                    os.path.join(complx, 'AMBER', 'solvate.prmtop'))\n",
    "\n",
    "    pull_initial = pt.distance(traj, ' '.join([dummy_anchors[0], guest_anchors[0]]))[0]\n",
    "\n",
    "    print(f'Set pull offset ({pull_initial:1.2f} A)')\n",
    "\n",
    "    pull_distances = [float(i) + pull_initial for i in pull_string.split()]\n",
    "    \n",
    "    guest_restraint_atoms = [[dummy_anchors[0], guest_anchors[0]],\n",
    "                         [dummy_anchors[1], dummy_anchors[0], guest_anchors[0]],\n",
    "                         [dummy_anchors[0], guest_anchors[0], guest_anchors[1]],\n",
    "                        ]\n",
    "\n",
    "    guest_restraint_targets = [pull_initial,\n",
    "                               180.0,\n",
    "                               180.0\n",
    "                              ]\n",
    "    guest_restraint_target_final = [pull_distances[-1], 180.0, 180.0]\n",
    "    guest_restraint_distance_fc = 5.0 # kcal/mol-A**2\n",
    "    guest_restraint_angle_fc = 100.0  # kcal/mol-rad**2\n",
    "\n",
    "    hg = pmd.load_file(os.path.join(complx, 'AMBER', 'solvate.prmtop'),\n",
    "                   os.path.join(complx, 'AMBER', 'solvate.rst7'),\n",
    "                   structure=True)\n",
    "\n",
    "    guest_restraints = []\n",
    "    for index, atoms in enumerate(guest_restraint_atoms): \n",
    "        if len(atoms) > 2:\n",
    "            angle = True\n",
    "        else:\n",
    "            angle = False\n",
    "        this = DAT_restraint()\n",
    "        this.auto_apr = True\n",
    "        this.amber_index = True\n",
    "        this.topology = hg\n",
    "        this.mask1 = atoms[0]\n",
    "        this.mask2 = atoms[1]\n",
    "        if angle:\n",
    "            this.mask3 = atoms[2]\n",
    "            this.attach['fc_final'] = guest_restraint_angle_fc\n",
    "        else:\n",
    "            this.attach['fc_final'] = guest_restraint_distance_fc\n",
    "        this.attach['target'] = guest_restraint_targets[index]\n",
    "        this.attach['fraction_list'] = attach_fractions\n",
    "\n",
    "        this.pull['target_final'] = guest_restraint_target_final[index]\n",
    "        this.pull['num_windows'] = windows[1]\n",
    "        this.initialize()\n",
    "\n",
    "        guest_restraints.append(this)\n",
    "        \n",
    "    structure = pt.load(os.path.join(complx, 'AMBER', 'APR', 'windows', 'a000', 'solvate.rst7'), \n",
    "                       os.path.join(complx, 'AMBER', 'APR', 'windows', 'a000', 'solvate.prmtop'))\n",
    "\n",
    "    stripped = structure.strip(':WAT,:Na+,:Cl-')\n",
    "    \n",
    "    print(f'Simulating {complx}')\n",
    "\n",
    "    for i_win, win in enumerate(window_list):\n",
    "        phase = phase_dict[win[0]]\n",
    "        win_path = os.path.join(complx, 'AMBER', 'APR', 'windows', win)\n",
    "\n",
    "        if not os.path.isfile(os.path.join(win_path, 'prod.002.nc')):\n",
    "\n",
    "            sim = Simulation()\n",
    "            sim.executable = 'pmemd.cuda'\n",
    "            sim.CUDA_VISIBLE_DEVICES = 1\n",
    "            sim.path = win_path\n",
    "            sim.topology = 'solvate.prmtop'\n",
    "            sim.restraint_file = 'disang.rest'\n",
    "\n",
    "            sim.config_pbc_md()\n",
    "\n",
    "            sim.prefix = 'prod.002'\n",
    "\n",
    "            sim.inpcrd = 'prod.001.rst7'\n",
    "            sim.ref = 'solvate.rst7'\n",
    "            sim.cntrl['ntx'] = 5\n",
    "            sim.cntrl['irest'] = 1\n",
    "            sim.cntrl['nstlim'] = itr_nstlim\n",
    "            sim.cntrl['ntwr'] = itr_nstlim\n",
    "            sim.cntrl['ntwx'] = 250\n",
    "            sim.cntrl['ntwprt'] = ntwprt\n",
    "            sim.cntrl['ntxo'] = 2\n",
    "            sim.restraint_file = 'disang.rest'\n",
    "            sim.run()\n",
    "\n",
    "        else:\n",
    "            print(f'Window {win} has `prod.002.nc`...')"
   ]
  },
  {
   "cell_type": "markdown",
   "metadata": {},
   "source": [
    "## Re-run a few windows"
   ]
  },
  {
   "cell_type": "code",
   "execution_count": 136,
   "metadata": {},
   "outputs": [],
   "source": [
    "stats = os.stat(os.path.join(complx, 'AMBER', 'APR', 'windows', 'a000', 'prod.002.nc'))"
   ]
  },
  {
   "cell_type": "code",
   "execution_count": 145,
   "metadata": {},
   "outputs": [
    {
     "name": "stdout",
     "output_type": "stream",
     "text": [
      "Set pull offset (8.03 A)\n"
     ]
    },
    {
     "name": "stderr",
     "output_type": "stream",
     "text": [
      "2018-04-27 01:24:04 PM Calculating attach targets and force constants...\n",
      "2018-04-27 01:24:04 PM Attach, Method #3\n",
      "2018-04-27 01:24:04 PM Calculating pull targets and force constants...\n",
      "2018-04-27 01:24:04 PM Pull, Method #1\n",
      "2018-04-27 01:24:04 PM Calculating release targets and force constants...\n",
      "2018-04-27 01:24:04 PM No restraint info set for the release phase! Skipping...\n",
      "2018-04-27 01:24:04 PM Number of attach windows = 15\n",
      "2018-04-27 01:24:04 PM Number of pull windows = 46\n",
      "2018-04-27 01:24:04 PM This restraint will be skipped in the release phase\n",
      "2018-04-27 01:24:04 PM Assigning atom indices...\n",
      "2018-04-27 01:24:04 PM There are 1 atoms in the mask :3  ...\n",
      "2018-04-27 01:24:04 PM There are 1 atoms in the mask :2@C1  ...\n",
      "2018-04-27 01:24:04 PM Calculating attach targets and force constants...\n",
      "2018-04-27 01:24:04 PM Attach, Method #3\n",
      "2018-04-27 01:24:04 PM Calculating pull targets and force constants...\n",
      "2018-04-27 01:24:04 PM Pull, Method #1\n",
      "2018-04-27 01:24:04 PM Calculating release targets and force constants...\n",
      "2018-04-27 01:24:04 PM No restraint info set for the release phase! Skipping...\n",
      "2018-04-27 01:24:04 PM Number of attach windows = 15\n",
      "2018-04-27 01:24:04 PM Number of pull windows = 46\n",
      "2018-04-27 01:24:04 PM This restraint will be skipped in the release phase\n",
      "2018-04-27 01:24:04 PM Assigning atom indices...\n",
      "2018-04-27 01:24:04 PM There are 1 atoms in the mask :4  ...\n",
      "2018-04-27 01:24:04 PM There are 1 atoms in the mask :3  ...\n",
      "2018-04-27 01:24:04 PM There are 1 atoms in the mask :2@C1  ...\n",
      "2018-04-27 01:24:04 PM Calculating attach targets and force constants...\n",
      "2018-04-27 01:24:04 PM Attach, Method #3\n",
      "2018-04-27 01:24:04 PM Calculating pull targets and force constants...\n",
      "2018-04-27 01:24:04 PM Pull, Method #1\n",
      "2018-04-27 01:24:04 PM Calculating release targets and force constants...\n",
      "2018-04-27 01:24:04 PM No restraint info set for the release phase! Skipping...\n",
      "2018-04-27 01:24:04 PM Number of attach windows = 15\n",
      "2018-04-27 01:24:04 PM Number of pull windows = 46\n",
      "2018-04-27 01:24:04 PM This restraint will be skipped in the release phase\n",
      "2018-04-27 01:24:04 PM Assigning atom indices...\n",
      "2018-04-27 01:24:04 PM There are 1 atoms in the mask :3  ...\n",
      "2018-04-27 01:24:04 PM There are 1 atoms in the mask :2@C1  ...\n",
      "2018-04-27 01:24:04 PM There are 1 atoms in the mask :2@C3  ...\n",
      "2018-04-27 01:24:04 PM Writing prod.002.in\n",
      "2018-04-27 01:24:04 PM Running MD at ./OA-G3-0/AMBER/APR/windows/a002\n",
      "2018-04-27 01:24:04 PM Exec line: pmemd.cuda -O -p solvate.prmtop -ref solvate.rst7 -c prod.001.rst7 -i prod.002.in -o prod.002.out -r prod.002.rst7 -x prod.002.nc -inf prod.002.mdinfo -e prod.002.mden\n"
     ]
    },
    {
     "name": "stdout",
     "output_type": "stream",
     "text": [
      "Simulating ./OA-G3-0\n",
      "Window a000 has `prod.002.nc`...\n",
      "Window a001 has `prod.002.nc`...\n",
      "Re-running ./OA-G3-0/AMBER/APR/windows/a002/prod.002.nc...\n"
     ]
    },
    {
     "name": "stderr",
     "output_type": "stream",
     "text": [
      "2018-04-27 01:26:40 PM MD completed ...\n",
      "2018-04-27 01:26:40 PM Writing prod.002.in\n",
      "2018-04-27 01:26:40 PM Running MD at ./OA-G3-0/AMBER/APR/windows/a003\n",
      "2018-04-27 01:26:40 PM Exec line: pmemd.cuda -O -p solvate.prmtop -ref solvate.rst7 -c prod.001.rst7 -i prod.002.in -o prod.002.out -r prod.002.rst7 -x prod.002.nc -inf prod.002.mdinfo -e prod.002.mden\n"
     ]
    },
    {
     "name": "stdout",
     "output_type": "stream",
     "text": [
      "Re-running ./OA-G3-0/AMBER/APR/windows/a003/prod.002.nc...\n"
     ]
    },
    {
     "name": "stderr",
     "output_type": "stream",
     "text": [
      "2018-04-27 01:29:19 PM MD completed ...\n",
      "2018-04-27 01:29:19 PM Writing prod.002.in\n",
      "2018-04-27 01:29:19 PM Running MD at ./OA-G3-0/AMBER/APR/windows/a004\n",
      "2018-04-27 01:29:19 PM Exec line: pmemd.cuda -O -p solvate.prmtop -ref solvate.rst7 -c prod.001.rst7 -i prod.002.in -o prod.002.out -r prod.002.rst7 -x prod.002.nc -inf prod.002.mdinfo -e prod.002.mden\n"
     ]
    },
    {
     "name": "stdout",
     "output_type": "stream",
     "text": [
      "Re-running ./OA-G3-0/AMBER/APR/windows/a004/prod.002.nc...\n"
     ]
    },
    {
     "name": "stderr",
     "output_type": "stream",
     "text": [
      "2018-04-27 01:31:59 PM MD completed ...\n",
      "2018-04-27 01:31:59 PM Writing prod.002.in\n",
      "2018-04-27 01:31:59 PM Running MD at ./OA-G3-0/AMBER/APR/windows/a005\n",
      "2018-04-27 01:31:59 PM Exec line: pmemd.cuda -O -p solvate.prmtop -ref solvate.rst7 -c prod.001.rst7 -i prod.002.in -o prod.002.out -r prod.002.rst7 -x prod.002.nc -inf prod.002.mdinfo -e prod.002.mden\n"
     ]
    },
    {
     "name": "stdout",
     "output_type": "stream",
     "text": [
      "Re-running ./OA-G3-0/AMBER/APR/windows/a005/prod.002.nc...\n"
     ]
    },
    {
     "name": "stderr",
     "output_type": "stream",
     "text": [
      "2018-04-27 01:34:37 PM MD completed ...\n",
      "2018-04-27 01:34:37 PM Writing prod.002.in\n",
      "2018-04-27 01:34:37 PM Running MD at ./OA-G3-0/AMBER/APR/windows/a006\n",
      "2018-04-27 01:34:37 PM Exec line: pmemd.cuda -O -p solvate.prmtop -ref solvate.rst7 -c prod.001.rst7 -i prod.002.in -o prod.002.out -r prod.002.rst7 -x prod.002.nc -inf prod.002.mdinfo -e prod.002.mden\n"
     ]
    },
    {
     "name": "stdout",
     "output_type": "stream",
     "text": [
      "Re-running ./OA-G3-0/AMBER/APR/windows/a006/prod.002.nc...\n"
     ]
    },
    {
     "name": "stderr",
     "output_type": "stream",
     "text": [
      "2018-04-27 01:37:15 PM MD completed ...\n",
      "2018-04-27 01:37:15 PM Writing prod.002.in\n",
      "2018-04-27 01:37:15 PM Running MD at ./OA-G3-0/AMBER/APR/windows/a007\n",
      "2018-04-27 01:37:15 PM Exec line: pmemd.cuda -O -p solvate.prmtop -ref solvate.rst7 -c prod.001.rst7 -i prod.002.in -o prod.002.out -r prod.002.rst7 -x prod.002.nc -inf prod.002.mdinfo -e prod.002.mden\n"
     ]
    },
    {
     "name": "stdout",
     "output_type": "stream",
     "text": [
      "Re-running ./OA-G3-0/AMBER/APR/windows/a007/prod.002.nc...\n"
     ]
    },
    {
     "name": "stderr",
     "output_type": "stream",
     "text": [
      "2018-04-27 01:39:52 PM MD completed ...\n",
      "2018-04-27 01:39:52 PM Writing prod.002.in\n",
      "2018-04-27 01:39:52 PM Running MD at ./OA-G3-0/AMBER/APR/windows/p004\n",
      "2018-04-27 01:39:52 PM Exec line: pmemd.cuda -O -p solvate.prmtop -ref solvate.rst7 -c prod.001.rst7 -i prod.002.in -o prod.002.out -r prod.002.rst7 -x prod.002.nc -inf prod.002.mdinfo -e prod.002.mden\n"
     ]
    },
    {
     "name": "stdout",
     "output_type": "stream",
     "text": [
      "Window a008 has `prod.002.nc`...\n",
      "Window a009 has `prod.002.nc`...\n",
      "Window a010 has `prod.002.nc`...\n",
      "Window a011 has `prod.002.nc`...\n",
      "Window a012 has `prod.002.nc`...\n",
      "Window a013 has `prod.002.nc`...\n",
      "Window p000 has `prod.002.nc`...\n",
      "Window p001 has `prod.002.nc`...\n",
      "Window p002 has `prod.002.nc`...\n",
      "Window p003 has `prod.002.nc`...\n",
      "Re-running ./OA-G3-0/AMBER/APR/windows/p004/prod.002.nc...\n"
     ]
    },
    {
     "name": "stderr",
     "output_type": "stream",
     "text": [
      "2018-04-27 01:42:31 PM MD completed ...\n",
      "2018-04-27 01:42:31 PM Writing prod.002.in\n",
      "2018-04-27 01:42:31 PM Running MD at ./OA-G3-0/AMBER/APR/windows/p015\n",
      "2018-04-27 01:42:31 PM Exec line: pmemd.cuda -O -p solvate.prmtop -ref solvate.rst7 -c prod.001.rst7 -i prod.002.in -o prod.002.out -r prod.002.rst7 -x prod.002.nc -inf prod.002.mdinfo -e prod.002.mden\n"
     ]
    },
    {
     "name": "stdout",
     "output_type": "stream",
     "text": [
      "Window p005 has `prod.002.nc`...\n",
      "Window p006 has `prod.002.nc`...\n",
      "Window p007 has `prod.002.nc`...\n",
      "Window p008 has `prod.002.nc`...\n",
      "Window p009 has `prod.002.nc`...\n",
      "Window p010 has `prod.002.nc`...\n",
      "Window p011 has `prod.002.nc`...\n",
      "Window p012 has `prod.002.nc`...\n",
      "Window p013 has `prod.002.nc`...\n",
      "Window p014 has `prod.002.nc`...\n",
      "Re-running ./OA-G3-0/AMBER/APR/windows/p015/prod.002.nc...\n"
     ]
    },
    {
     "name": "stderr",
     "output_type": "stream",
     "text": [
      "2018-04-27 01:45:11 PM MD completed ...\n",
      "2018-04-27 01:45:11 PM Writing prod.002.in\n",
      "2018-04-27 01:45:11 PM Running MD at ./OA-G3-0/AMBER/APR/windows/p016\n",
      "2018-04-27 01:45:11 PM Exec line: pmemd.cuda -O -p solvate.prmtop -ref solvate.rst7 -c prod.001.rst7 -i prod.002.in -o prod.002.out -r prod.002.rst7 -x prod.002.nc -inf prod.002.mdinfo -e prod.002.mden\n"
     ]
    },
    {
     "name": "stdout",
     "output_type": "stream",
     "text": [
      "Re-running ./OA-G3-0/AMBER/APR/windows/p016/prod.002.nc...\n"
     ]
    },
    {
     "name": "stderr",
     "output_type": "stream",
     "text": [
      "2018-04-27 01:47:51 PM MD completed ...\n",
      "2018-04-27 01:47:51 PM Writing prod.002.in\n",
      "2018-04-27 01:47:51 PM Running MD at ./OA-G3-0/AMBER/APR/windows/p017\n",
      "2018-04-27 01:47:51 PM Exec line: pmemd.cuda -O -p solvate.prmtop -ref solvate.rst7 -c prod.001.rst7 -i prod.002.in -o prod.002.out -r prod.002.rst7 -x prod.002.nc -inf prod.002.mdinfo -e prod.002.mden\n"
     ]
    },
    {
     "name": "stdout",
     "output_type": "stream",
     "text": [
      "Re-running ./OA-G3-0/AMBER/APR/windows/p017/prod.002.nc...\n"
     ]
    },
    {
     "name": "stderr",
     "output_type": "stream",
     "text": [
      "2018-04-27 01:50:32 PM MD completed ...\n",
      "2018-04-27 01:50:32 PM Writing prod.002.in\n",
      "2018-04-27 01:50:32 PM Running MD at ./OA-G3-0/AMBER/APR/windows/p018\n",
      "2018-04-27 01:50:32 PM Exec line: pmemd.cuda -O -p solvate.prmtop -ref solvate.rst7 -c prod.001.rst7 -i prod.002.in -o prod.002.out -r prod.002.rst7 -x prod.002.nc -inf prod.002.mdinfo -e prod.002.mden\n"
     ]
    },
    {
     "name": "stdout",
     "output_type": "stream",
     "text": [
      "Re-running ./OA-G3-0/AMBER/APR/windows/p018/prod.002.nc...\n"
     ]
    },
    {
     "name": "stderr",
     "output_type": "stream",
     "text": [
      "2018-04-27 01:53:11 PM MD completed ...\n",
      "2018-04-27 01:53:11 PM Writing prod.002.in\n",
      "2018-04-27 01:53:11 PM Running MD at ./OA-G3-0/AMBER/APR/windows/p019\n",
      "2018-04-27 01:53:11 PM Exec line: pmemd.cuda -O -p solvate.prmtop -ref solvate.rst7 -c prod.001.rst7 -i prod.002.in -o prod.002.out -r prod.002.rst7 -x prod.002.nc -inf prod.002.mdinfo -e prod.002.mden\n"
     ]
    },
    {
     "name": "stdout",
     "output_type": "stream",
     "text": [
      "Re-running ./OA-G3-0/AMBER/APR/windows/p019/prod.002.nc...\n"
     ]
    },
    {
     "name": "stderr",
     "output_type": "stream",
     "text": [
      "2018-04-27 01:55:49 PM MD completed ...\n",
      "2018-04-27 01:55:49 PM Writing prod.002.in\n",
      "2018-04-27 01:55:49 PM Running MD at ./OA-G3-0/AMBER/APR/windows/p020\n",
      "2018-04-27 01:55:49 PM Exec line: pmemd.cuda -O -p solvate.prmtop -ref solvate.rst7 -c prod.001.rst7 -i prod.002.in -o prod.002.out -r prod.002.rst7 -x prod.002.nc -inf prod.002.mdinfo -e prod.002.mden\n"
     ]
    },
    {
     "name": "stdout",
     "output_type": "stream",
     "text": [
      "Re-running ./OA-G3-0/AMBER/APR/windows/p020/prod.002.nc...\n"
     ]
    },
    {
     "name": "stderr",
     "output_type": "stream",
     "text": [
      "2018-04-27 01:58:31 PM MD completed ...\n",
      "2018-04-27 01:58:31 PM Writing prod.002.in\n",
      "2018-04-27 01:58:31 PM Running MD at ./OA-G3-0/AMBER/APR/windows/p021\n",
      "2018-04-27 01:58:31 PM Exec line: pmemd.cuda -O -p solvate.prmtop -ref solvate.rst7 -c prod.001.rst7 -i prod.002.in -o prod.002.out -r prod.002.rst7 -x prod.002.nc -inf prod.002.mdinfo -e prod.002.mden\n"
     ]
    },
    {
     "name": "stdout",
     "output_type": "stream",
     "text": [
      "Re-running ./OA-G3-0/AMBER/APR/windows/p021/prod.002.nc...\n"
     ]
    },
    {
     "name": "stderr",
     "output_type": "stream",
     "text": [
      "2018-04-27 02:01:11 PM MD completed ...\n",
      "2018-04-27 02:01:11 PM Writing prod.002.in\n",
      "2018-04-27 02:01:11 PM Running MD at ./OA-G3-0/AMBER/APR/windows/p022\n",
      "2018-04-27 02:01:11 PM Exec line: pmemd.cuda -O -p solvate.prmtop -ref solvate.rst7 -c prod.001.rst7 -i prod.002.in -o prod.002.out -r prod.002.rst7 -x prod.002.nc -inf prod.002.mdinfo -e prod.002.mden\n"
     ]
    },
    {
     "name": "stdout",
     "output_type": "stream",
     "text": [
      "Re-running ./OA-G3-0/AMBER/APR/windows/p022/prod.002.nc...\n"
     ]
    },
    {
     "name": "stderr",
     "output_type": "stream",
     "text": [
      "2018-04-27 02:03:49 PM MD completed ...\n",
      "2018-04-27 02:03:49 PM Writing prod.002.in\n",
      "2018-04-27 02:03:49 PM Running MD at ./OA-G3-0/AMBER/APR/windows/p023\n",
      "2018-04-27 02:03:49 PM Exec line: pmemd.cuda -O -p solvate.prmtop -ref solvate.rst7 -c prod.001.rst7 -i prod.002.in -o prod.002.out -r prod.002.rst7 -x prod.002.nc -inf prod.002.mdinfo -e prod.002.mden\n"
     ]
    },
    {
     "name": "stdout",
     "output_type": "stream",
     "text": [
      "Re-running ./OA-G3-0/AMBER/APR/windows/p023/prod.002.nc...\n"
     ]
    },
    {
     "name": "stderr",
     "output_type": "stream",
     "text": [
      "2018-04-27 02:06:29 PM MD completed ...\n",
      "2018-04-27 02:06:29 PM Writing prod.002.in\n",
      "2018-04-27 02:06:29 PM Running MD at ./OA-G3-0/AMBER/APR/windows/p024\n",
      "2018-04-27 02:06:29 PM Exec line: pmemd.cuda -O -p solvate.prmtop -ref solvate.rst7 -c prod.001.rst7 -i prod.002.in -o prod.002.out -r prod.002.rst7 -x prod.002.nc -inf prod.002.mdinfo -e prod.002.mden\n"
     ]
    },
    {
     "name": "stdout",
     "output_type": "stream",
     "text": [
      "Re-running ./OA-G3-0/AMBER/APR/windows/p024/prod.002.nc...\n"
     ]
    },
    {
     "name": "stderr",
     "output_type": "stream",
     "text": [
      "2018-04-27 02:09:10 PM MD completed ...\n",
      "2018-04-27 02:09:10 PM Writing prod.002.in\n",
      "2018-04-27 02:09:10 PM Running MD at ./OA-G3-0/AMBER/APR/windows/p025\n",
      "2018-04-27 02:09:10 PM Exec line: pmemd.cuda -O -p solvate.prmtop -ref solvate.rst7 -c prod.001.rst7 -i prod.002.in -o prod.002.out -r prod.002.rst7 -x prod.002.nc -inf prod.002.mdinfo -e prod.002.mden\n"
     ]
    },
    {
     "name": "stdout",
     "output_type": "stream",
     "text": [
      "Re-running ./OA-G3-0/AMBER/APR/windows/p025/prod.002.nc...\n"
     ]
    },
    {
     "name": "stderr",
     "output_type": "stream",
     "text": [
      "2018-04-27 02:11:54 PM MD completed ...\n",
      "2018-04-27 02:11:54 PM Writing prod.002.in\n",
      "2018-04-27 02:11:54 PM Running MD at ./OA-G3-0/AMBER/APR/windows/p026\n",
      "2018-04-27 02:11:54 PM Exec line: pmemd.cuda -O -p solvate.prmtop -ref solvate.rst7 -c prod.001.rst7 -i prod.002.in -o prod.002.out -r prod.002.rst7 -x prod.002.nc -inf prod.002.mdinfo -e prod.002.mden\n"
     ]
    },
    {
     "name": "stdout",
     "output_type": "stream",
     "text": [
      "Re-running ./OA-G3-0/AMBER/APR/windows/p026/prod.002.nc...\n"
     ]
    },
    {
     "name": "stderr",
     "output_type": "stream",
     "text": [
      "2018-04-27 02:14:35 PM MD completed ...\n",
      "2018-04-27 02:14:35 PM Writing prod.002.in\n",
      "2018-04-27 02:14:35 PM Running MD at ./OA-G3-0/AMBER/APR/windows/p027\n",
      "2018-04-27 02:14:35 PM Exec line: pmemd.cuda -O -p solvate.prmtop -ref solvate.rst7 -c prod.001.rst7 -i prod.002.in -o prod.002.out -r prod.002.rst7 -x prod.002.nc -inf prod.002.mdinfo -e prod.002.mden\n"
     ]
    },
    {
     "name": "stdout",
     "output_type": "stream",
     "text": [
      "Re-running ./OA-G3-0/AMBER/APR/windows/p027/prod.002.nc...\n"
     ]
    },
    {
     "name": "stderr",
     "output_type": "stream",
     "text": [
      "2018-04-27 02:17:15 PM MD completed ...\n",
      "2018-04-27 02:17:15 PM Writing prod.002.in\n",
      "2018-04-27 02:17:15 PM Running MD at ./OA-G3-0/AMBER/APR/windows/p028\n",
      "2018-04-27 02:17:15 PM Exec line: pmemd.cuda -O -p solvate.prmtop -ref solvate.rst7 -c prod.001.rst7 -i prod.002.in -o prod.002.out -r prod.002.rst7 -x prod.002.nc -inf prod.002.mdinfo -e prod.002.mden\n"
     ]
    },
    {
     "name": "stdout",
     "output_type": "stream",
     "text": [
      "Re-running ./OA-G3-0/AMBER/APR/windows/p028/prod.002.nc...\n"
     ]
    },
    {
     "name": "stderr",
     "output_type": "stream",
     "text": [
      "2018-04-27 02:19:54 PM MD completed ...\n",
      "2018-04-27 02:19:54 PM Writing prod.002.in\n",
      "2018-04-27 02:19:54 PM Running MD at ./OA-G3-0/AMBER/APR/windows/p029\n",
      "2018-04-27 02:19:54 PM Exec line: pmemd.cuda -O -p solvate.prmtop -ref solvate.rst7 -c prod.001.rst7 -i prod.002.in -o prod.002.out -r prod.002.rst7 -x prod.002.nc -inf prod.002.mdinfo -e prod.002.mden\n"
     ]
    },
    {
     "name": "stdout",
     "output_type": "stream",
     "text": [
      "Re-running ./OA-G3-0/AMBER/APR/windows/p029/prod.002.nc...\n"
     ]
    },
    {
     "name": "stderr",
     "output_type": "stream",
     "text": [
      "2018-04-27 02:22:36 PM MD completed ...\n",
      "2018-04-27 02:22:36 PM Writing prod.002.in\n",
      "2018-04-27 02:22:36 PM Running MD at ./OA-G3-0/AMBER/APR/windows/p030\n",
      "2018-04-27 02:22:36 PM Exec line: pmemd.cuda -O -p solvate.prmtop -ref solvate.rst7 -c prod.001.rst7 -i prod.002.in -o prod.002.out -r prod.002.rst7 -x prod.002.nc -inf prod.002.mdinfo -e prod.002.mden\n"
     ]
    },
    {
     "name": "stdout",
     "output_type": "stream",
     "text": [
      "Re-running ./OA-G3-0/AMBER/APR/windows/p030/prod.002.nc...\n"
     ]
    },
    {
     "name": "stderr",
     "output_type": "stream",
     "text": [
      "2018-04-27 02:25:15 PM MD completed ...\n",
      "2018-04-27 02:25:15 PM Writing prod.002.in\n",
      "2018-04-27 02:25:15 PM Running MD at ./OA-G3-0/AMBER/APR/windows/p031\n",
      "2018-04-27 02:25:15 PM Exec line: pmemd.cuda -O -p solvate.prmtop -ref solvate.rst7 -c prod.001.rst7 -i prod.002.in -o prod.002.out -r prod.002.rst7 -x prod.002.nc -inf prod.002.mdinfo -e prod.002.mden\n"
     ]
    },
    {
     "name": "stdout",
     "output_type": "stream",
     "text": [
      "Re-running ./OA-G3-0/AMBER/APR/windows/p031/prod.002.nc...\n"
     ]
    },
    {
     "name": "stderr",
     "output_type": "stream",
     "text": [
      "2018-04-27 02:27:57 PM MD completed ...\n",
      "2018-04-27 02:27:57 PM Writing prod.002.in\n",
      "2018-04-27 02:27:57 PM Running MD at ./OA-G3-0/AMBER/APR/windows/p032\n",
      "2018-04-27 02:27:57 PM Exec line: pmemd.cuda -O -p solvate.prmtop -ref solvate.rst7 -c prod.001.rst7 -i prod.002.in -o prod.002.out -r prod.002.rst7 -x prod.002.nc -inf prod.002.mdinfo -e prod.002.mden\n"
     ]
    },
    {
     "name": "stdout",
     "output_type": "stream",
     "text": [
      "Re-running ./OA-G3-0/AMBER/APR/windows/p032/prod.002.nc...\n"
     ]
    },
    {
     "name": "stderr",
     "output_type": "stream",
     "text": [
      "2018-04-27 02:30:41 PM MD completed ...\n",
      "2018-04-27 02:30:41 PM Writing prod.002.in\n",
      "2018-04-27 02:30:41 PM Running MD at ./OA-G3-0/AMBER/APR/windows/p033\n",
      "2018-04-27 02:30:41 PM Exec line: pmemd.cuda -O -p solvate.prmtop -ref solvate.rst7 -c prod.001.rst7 -i prod.002.in -o prod.002.out -r prod.002.rst7 -x prod.002.nc -inf prod.002.mdinfo -e prod.002.mden\n"
     ]
    },
    {
     "name": "stdout",
     "output_type": "stream",
     "text": [
      "Re-running ./OA-G3-0/AMBER/APR/windows/p033/prod.002.nc...\n"
     ]
    },
    {
     "name": "stderr",
     "output_type": "stream",
     "text": [
      "2018-04-27 02:33:21 PM MD completed ...\n",
      "2018-04-27 02:33:21 PM Writing prod.002.in\n",
      "2018-04-27 02:33:21 PM Running MD at ./OA-G3-0/AMBER/APR/windows/p034\n",
      "2018-04-27 02:33:21 PM Exec line: pmemd.cuda -O -p solvate.prmtop -ref solvate.rst7 -c prod.001.rst7 -i prod.002.in -o prod.002.out -r prod.002.rst7 -x prod.002.nc -inf prod.002.mdinfo -e prod.002.mden\n"
     ]
    },
    {
     "name": "stdout",
     "output_type": "stream",
     "text": [
      "Re-running ./OA-G3-0/AMBER/APR/windows/p034/prod.002.nc...\n"
     ]
    },
    {
     "name": "stderr",
     "output_type": "stream",
     "text": [
      "2018-04-27 02:36:02 PM MD completed ...\n",
      "2018-04-27 02:36:02 PM Writing prod.002.in\n",
      "2018-04-27 02:36:02 PM Running MD at ./OA-G3-0/AMBER/APR/windows/p035\n",
      "2018-04-27 02:36:02 PM Exec line: pmemd.cuda -O -p solvate.prmtop -ref solvate.rst7 -c prod.001.rst7 -i prod.002.in -o prod.002.out -r prod.002.rst7 -x prod.002.nc -inf prod.002.mdinfo -e prod.002.mden\n"
     ]
    },
    {
     "name": "stdout",
     "output_type": "stream",
     "text": [
      "Re-running ./OA-G3-0/AMBER/APR/windows/p035/prod.002.nc...\n"
     ]
    },
    {
     "name": "stderr",
     "output_type": "stream",
     "text": [
      "2018-04-27 02:38:41 PM MD completed ...\n",
      "2018-04-27 02:38:41 PM Writing prod.002.in\n",
      "2018-04-27 02:38:41 PM Running MD at ./OA-G3-0/AMBER/APR/windows/p036\n",
      "2018-04-27 02:38:41 PM Exec line: pmemd.cuda -O -p solvate.prmtop -ref solvate.rst7 -c prod.001.rst7 -i prod.002.in -o prod.002.out -r prod.002.rst7 -x prod.002.nc -inf prod.002.mdinfo -e prod.002.mden\n"
     ]
    },
    {
     "name": "stdout",
     "output_type": "stream",
     "text": [
      "Re-running ./OA-G3-0/AMBER/APR/windows/p036/prod.002.nc...\n"
     ]
    },
    {
     "name": "stderr",
     "output_type": "stream",
     "text": [
      "2018-04-27 02:41:19 PM MD completed ...\n",
      "2018-04-27 02:41:19 PM Writing prod.002.in\n",
      "2018-04-27 02:41:19 PM Running MD at ./OA-G3-0/AMBER/APR/windows/p037\n",
      "2018-04-27 02:41:19 PM Exec line: pmemd.cuda -O -p solvate.prmtop -ref solvate.rst7 -c prod.001.rst7 -i prod.002.in -o prod.002.out -r prod.002.rst7 -x prod.002.nc -inf prod.002.mdinfo -e prod.002.mden\n"
     ]
    },
    {
     "name": "stdout",
     "output_type": "stream",
     "text": [
      "Re-running ./OA-G3-0/AMBER/APR/windows/p037/prod.002.nc...\n"
     ]
    },
    {
     "name": "stderr",
     "output_type": "stream",
     "text": [
      "2018-04-27 02:43:59 PM MD completed ...\n",
      "2018-04-27 02:43:59 PM Writing prod.002.in\n",
      "2018-04-27 02:43:59 PM Running MD at ./OA-G3-0/AMBER/APR/windows/p038\n",
      "2018-04-27 02:43:59 PM Exec line: pmemd.cuda -O -p solvate.prmtop -ref solvate.rst7 -c prod.001.rst7 -i prod.002.in -o prod.002.out -r prod.002.rst7 -x prod.002.nc -inf prod.002.mdinfo -e prod.002.mden\n"
     ]
    },
    {
     "name": "stdout",
     "output_type": "stream",
     "text": [
      "Re-running ./OA-G3-0/AMBER/APR/windows/p038/prod.002.nc...\n"
     ]
    },
    {
     "name": "stderr",
     "output_type": "stream",
     "text": [
      "2018-04-27 02:46:38 PM MD completed ...\n",
      "2018-04-27 02:46:38 PM Writing prod.002.in\n",
      "2018-04-27 02:46:38 PM Running MD at ./OA-G3-0/AMBER/APR/windows/p039\n",
      "2018-04-27 02:46:38 PM Exec line: pmemd.cuda -O -p solvate.prmtop -ref solvate.rst7 -c prod.001.rst7 -i prod.002.in -o prod.002.out -r prod.002.rst7 -x prod.002.nc -inf prod.002.mdinfo -e prod.002.mden\n"
     ]
    },
    {
     "name": "stdout",
     "output_type": "stream",
     "text": [
      "Re-running ./OA-G3-0/AMBER/APR/windows/p039/prod.002.nc...\n"
     ]
    },
    {
     "name": "stderr",
     "output_type": "stream",
     "text": [
      "2018-04-27 02:49:19 PM MD completed ...\n",
      "2018-04-27 02:49:19 PM Writing prod.002.in\n",
      "2018-04-27 02:49:19 PM Running MD at ./OA-G3-0/AMBER/APR/windows/p040\n",
      "2018-04-27 02:49:19 PM Exec line: pmemd.cuda -O -p solvate.prmtop -ref solvate.rst7 -c prod.001.rst7 -i prod.002.in -o prod.002.out -r prod.002.rst7 -x prod.002.nc -inf prod.002.mdinfo -e prod.002.mden\n"
     ]
    },
    {
     "name": "stdout",
     "output_type": "stream",
     "text": [
      "Re-running ./OA-G3-0/AMBER/APR/windows/p040/prod.002.nc...\n"
     ]
    },
    {
     "name": "stderr",
     "output_type": "stream",
     "text": [
      "2018-04-27 02:51:59 PM MD completed ...\n",
      "2018-04-27 02:51:59 PM Writing prod.002.in\n",
      "2018-04-27 02:51:59 PM Running MD at ./OA-G3-0/AMBER/APR/windows/p041\n",
      "2018-04-27 02:51:59 PM Exec line: pmemd.cuda -O -p solvate.prmtop -ref solvate.rst7 -c prod.001.rst7 -i prod.002.in -o prod.002.out -r prod.002.rst7 -x prod.002.nc -inf prod.002.mdinfo -e prod.002.mden\n"
     ]
    },
    {
     "name": "stdout",
     "output_type": "stream",
     "text": [
      "Re-running ./OA-G3-0/AMBER/APR/windows/p041/prod.002.nc...\n"
     ]
    },
    {
     "name": "stderr",
     "output_type": "stream",
     "text": [
      "2018-04-27 02:54:44 PM MD completed ...\n",
      "2018-04-27 02:54:44 PM Writing prod.002.in\n",
      "2018-04-27 02:54:44 PM Running MD at ./OA-G3-0/AMBER/APR/windows/p042\n",
      "2018-04-27 02:54:44 PM Exec line: pmemd.cuda -O -p solvate.prmtop -ref solvate.rst7 -c prod.001.rst7 -i prod.002.in -o prod.002.out -r prod.002.rst7 -x prod.002.nc -inf prod.002.mdinfo -e prod.002.mden\n"
     ]
    },
    {
     "name": "stdout",
     "output_type": "stream",
     "text": [
      "Re-running ./OA-G3-0/AMBER/APR/windows/p042/prod.002.nc...\n"
     ]
    },
    {
     "name": "stderr",
     "output_type": "stream",
     "text": [
      "2018-04-27 02:57:20 PM MD completed ...\n",
      "2018-04-27 02:57:20 PM Writing prod.002.in\n",
      "2018-04-27 02:57:20 PM Running MD at ./OA-G3-0/AMBER/APR/windows/p043\n",
      "2018-04-27 02:57:20 PM Exec line: pmemd.cuda -O -p solvate.prmtop -ref solvate.rst7 -c prod.001.rst7 -i prod.002.in -o prod.002.out -r prod.002.rst7 -x prod.002.nc -inf prod.002.mdinfo -e prod.002.mden\n"
     ]
    },
    {
     "name": "stdout",
     "output_type": "stream",
     "text": [
      "Re-running ./OA-G3-0/AMBER/APR/windows/p043/prod.002.nc...\n"
     ]
    },
    {
     "name": "stderr",
     "output_type": "stream",
     "text": [
      "2018-04-27 02:59:59 PM MD completed ...\n",
      "2018-04-27 02:59:59 PM Writing prod.002.in\n",
      "2018-04-27 02:59:59 PM Running MD at ./OA-G3-0/AMBER/APR/windows/p044\n",
      "2018-04-27 02:59:59 PM Exec line: pmemd.cuda -O -p solvate.prmtop -ref solvate.rst7 -c prod.001.rst7 -i prod.002.in -o prod.002.out -r prod.002.rst7 -x prod.002.nc -inf prod.002.mdinfo -e prod.002.mden\n"
     ]
    },
    {
     "name": "stdout",
     "output_type": "stream",
     "text": [
      "Re-running ./OA-G3-0/AMBER/APR/windows/p044/prod.002.nc...\n"
     ]
    },
    {
     "name": "stderr",
     "output_type": "stream",
     "text": [
      "2018-04-27 03:02:39 PM MD completed ...\n",
      "2018-04-27 03:02:39 PM Writing prod.002.in\n",
      "2018-04-27 03:02:39 PM Running MD at ./OA-G3-0/AMBER/APR/windows/p045\n",
      "2018-04-27 03:02:39 PM Exec line: pmemd.cuda -O -p solvate.prmtop -ref solvate.rst7 -c prod.001.rst7 -i prod.002.in -o prod.002.out -r prod.002.rst7 -x prod.002.nc -inf prod.002.mdinfo -e prod.002.mden\n"
     ]
    },
    {
     "name": "stdout",
     "output_type": "stream",
     "text": [
      "Re-running ./OA-G3-0/AMBER/APR/windows/p045/prod.002.nc...\n"
     ]
    },
    {
     "name": "stderr",
     "output_type": "stream",
     "text": [
      "2018-04-27 03:05:17 PM MD completed ...\n"
     ]
    },
    {
     "name": "stdout",
     "output_type": "stream",
     "text": [
      "Set pull offset (5.63 A)\n"
     ]
    },
    {
     "name": "stderr",
     "output_type": "stream",
     "text": [
      "2018-04-27 03:05:17 PM Calculating attach targets and force constants...\n",
      "2018-04-27 03:05:17 PM Attach, Method #3\n",
      "2018-04-27 03:05:17 PM Calculating pull targets and force constants...\n",
      "2018-04-27 03:05:17 PM Pull, Method #1\n",
      "2018-04-27 03:05:17 PM Calculating release targets and force constants...\n",
      "2018-04-27 03:05:17 PM No restraint info set for the release phase! Skipping...\n",
      "2018-04-27 03:05:17 PM Number of attach windows = 15\n",
      "2018-04-27 03:05:17 PM Number of pull windows = 46\n",
      "2018-04-27 03:05:17 PM This restraint will be skipped in the release phase\n",
      "2018-04-27 03:05:17 PM Assigning atom indices...\n",
      "2018-04-27 03:05:17 PM There are 1 atoms in the mask :3  ...\n",
      "2018-04-27 03:05:17 PM There are 1 atoms in the mask :2@C1  ...\n",
      "2018-04-27 03:05:17 PM Calculating attach targets and force constants...\n",
      "2018-04-27 03:05:17 PM Attach, Method #3\n",
      "2018-04-27 03:05:17 PM Calculating pull targets and force constants...\n",
      "2018-04-27 03:05:17 PM Pull, Method #1\n",
      "2018-04-27 03:05:17 PM Calculating release targets and force constants...\n",
      "2018-04-27 03:05:17 PM No restraint info set for the release phase! Skipping...\n",
      "2018-04-27 03:05:17 PM Number of attach windows = 15\n",
      "2018-04-27 03:05:17 PM Number of pull windows = 46\n",
      "2018-04-27 03:05:17 PM This restraint will be skipped in the release phase\n",
      "2018-04-27 03:05:17 PM Assigning atom indices...\n",
      "2018-04-27 03:05:17 PM There are 1 atoms in the mask :4  ...\n",
      "2018-04-27 03:05:17 PM There are 1 atoms in the mask :3  ...\n",
      "2018-04-27 03:05:17 PM There are 1 atoms in the mask :2@C1  ...\n",
      "2018-04-27 03:05:17 PM Calculating attach targets and force constants...\n",
      "2018-04-27 03:05:17 PM Attach, Method #3\n",
      "2018-04-27 03:05:17 PM Calculating pull targets and force constants...\n",
      "2018-04-27 03:05:17 PM Pull, Method #1\n",
      "2018-04-27 03:05:17 PM Calculating release targets and force constants...\n",
      "2018-04-27 03:05:17 PM No restraint info set for the release phase! Skipping...\n",
      "2018-04-27 03:05:17 PM Number of attach windows = 15\n",
      "2018-04-27 03:05:17 PM Number of pull windows = 46\n",
      "2018-04-27 03:05:17 PM This restraint will be skipped in the release phase\n",
      "2018-04-27 03:05:17 PM Assigning atom indices...\n",
      "2018-04-27 03:05:17 PM There are 1 atoms in the mask :3  ...\n",
      "2018-04-27 03:05:17 PM There are 1 atoms in the mask :2@C1  ...\n",
      "2018-04-27 03:05:18 PM There are 1 atoms in the mask :2@C3  ...\n",
      "2018-04-27 03:05:18 PM Writing prod.002.in\n",
      "2018-04-27 03:05:18 PM Running MD at ./OA-G3-1/AMBER/APR/windows/a000\n",
      "2018-04-27 03:05:18 PM Exec line: pmemd.cuda -O -p solvate.prmtop -ref solvate.rst7 -c prod.001.rst7 -i prod.002.in -o prod.002.out -r prod.002.rst7 -x prod.002.nc -inf prod.002.mdinfo -e prod.002.mden\n"
     ]
    },
    {
     "name": "stdout",
     "output_type": "stream",
     "text": [
      "Simulating ./OA-G3-1\n",
      "Re-running ./OA-G3-1/AMBER/APR/windows/a000/prod.002.nc...\n"
     ]
    },
    {
     "name": "stderr",
     "output_type": "stream",
     "text": [
      "2018-04-27 03:07:56 PM MD completed ...\n",
      "2018-04-27 03:07:56 PM Writing prod.002.in\n",
      "2018-04-27 03:07:56 PM Running MD at ./OA-G3-1/AMBER/APR/windows/a001\n",
      "2018-04-27 03:07:56 PM Exec line: pmemd.cuda -O -p solvate.prmtop -ref solvate.rst7 -c prod.001.rst7 -i prod.002.in -o prod.002.out -r prod.002.rst7 -x prod.002.nc -inf prod.002.mdinfo -e prod.002.mden\n"
     ]
    },
    {
     "name": "stdout",
     "output_type": "stream",
     "text": [
      "Re-running ./OA-G3-1/AMBER/APR/windows/a001/prod.002.nc...\n"
     ]
    },
    {
     "name": "stderr",
     "output_type": "stream",
     "text": [
      "2018-04-27 03:10:35 PM MD completed ...\n",
      "2018-04-27 03:10:35 PM Writing prod.002.in\n",
      "2018-04-27 03:10:35 PM Running MD at ./OA-G3-1/AMBER/APR/windows/a002\n",
      "2018-04-27 03:10:35 PM Exec line: pmemd.cuda -O -p solvate.prmtop -ref solvate.rst7 -c prod.001.rst7 -i prod.002.in -o prod.002.out -r prod.002.rst7 -x prod.002.nc -inf prod.002.mdinfo -e prod.002.mden\n"
     ]
    },
    {
     "name": "stdout",
     "output_type": "stream",
     "text": [
      "Re-running ./OA-G3-1/AMBER/APR/windows/a002/prod.002.nc...\n"
     ]
    },
    {
     "name": "stderr",
     "output_type": "stream",
     "text": [
      "2018-04-27 03:13:14 PM MD completed ...\n",
      "2018-04-27 03:13:14 PM Writing prod.002.in\n",
      "2018-04-27 03:13:14 PM Running MD at ./OA-G3-1/AMBER/APR/windows/a003\n",
      "2018-04-27 03:13:14 PM Exec line: pmemd.cuda -O -p solvate.prmtop -ref solvate.rst7 -c prod.001.rst7 -i prod.002.in -o prod.002.out -r prod.002.rst7 -x prod.002.nc -inf prod.002.mdinfo -e prod.002.mden\n"
     ]
    },
    {
     "name": "stdout",
     "output_type": "stream",
     "text": [
      "Re-running ./OA-G3-1/AMBER/APR/windows/a003/prod.002.nc...\n"
     ]
    },
    {
     "name": "stderr",
     "output_type": "stream",
     "text": [
      "2018-04-27 03:15:54 PM MD completed ...\n",
      "2018-04-27 03:15:54 PM Writing prod.002.in\n",
      "2018-04-27 03:15:54 PM Running MD at ./OA-G3-1/AMBER/APR/windows/a004\n",
      "2018-04-27 03:15:54 PM Exec line: pmemd.cuda -O -p solvate.prmtop -ref solvate.rst7 -c prod.001.rst7 -i prod.002.in -o prod.002.out -r prod.002.rst7 -x prod.002.nc -inf prod.002.mdinfo -e prod.002.mden\n"
     ]
    },
    {
     "name": "stdout",
     "output_type": "stream",
     "text": [
      "Re-running ./OA-G3-1/AMBER/APR/windows/a004/prod.002.nc...\n"
     ]
    },
    {
     "name": "stderr",
     "output_type": "stream",
     "text": [
      "2018-04-27 03:18:33 PM MD completed ...\n",
      "2018-04-27 03:18:33 PM Writing prod.002.in\n",
      "2018-04-27 03:18:33 PM Running MD at ./OA-G3-1/AMBER/APR/windows/a005\n",
      "2018-04-27 03:18:33 PM Exec line: pmemd.cuda -O -p solvate.prmtop -ref solvate.rst7 -c prod.001.rst7 -i prod.002.in -o prod.002.out -r prod.002.rst7 -x prod.002.nc -inf prod.002.mdinfo -e prod.002.mden\n"
     ]
    },
    {
     "name": "stdout",
     "output_type": "stream",
     "text": [
      "Re-running ./OA-G3-1/AMBER/APR/windows/a005/prod.002.nc...\n"
     ]
    },
    {
     "name": "stderr",
     "output_type": "stream",
     "text": [
      "2018-04-27 03:21:13 PM MD completed ...\n",
      "2018-04-27 03:21:13 PM Writing prod.002.in\n",
      "2018-04-27 03:21:13 PM Running MD at ./OA-G3-1/AMBER/APR/windows/a006\n",
      "2018-04-27 03:21:13 PM Exec line: pmemd.cuda -O -p solvate.prmtop -ref solvate.rst7 -c prod.001.rst7 -i prod.002.in -o prod.002.out -r prod.002.rst7 -x prod.002.nc -inf prod.002.mdinfo -e prod.002.mden\n"
     ]
    },
    {
     "name": "stdout",
     "output_type": "stream",
     "text": [
      "Re-running ./OA-G3-1/AMBER/APR/windows/a006/prod.002.nc...\n"
     ]
    },
    {
     "name": "stderr",
     "output_type": "stream",
     "text": [
      "2018-04-27 03:23:49 PM MD completed ...\n",
      "2018-04-27 03:23:49 PM Writing prod.002.in\n",
      "2018-04-27 03:23:49 PM Running MD at ./OA-G3-1/AMBER/APR/windows/a007\n",
      "2018-04-27 03:23:49 PM Exec line: pmemd.cuda -O -p solvate.prmtop -ref solvate.rst7 -c prod.001.rst7 -i prod.002.in -o prod.002.out -r prod.002.rst7 -x prod.002.nc -inf prod.002.mdinfo -e prod.002.mden\n"
     ]
    },
    {
     "name": "stdout",
     "output_type": "stream",
     "text": [
      "Re-running ./OA-G3-1/AMBER/APR/windows/a007/prod.002.nc...\n"
     ]
    },
    {
     "name": "stderr",
     "output_type": "stream",
     "text": [
      "2018-04-27 03:26:29 PM MD completed ...\n",
      "2018-04-27 03:26:29 PM Writing prod.002.in\n",
      "2018-04-27 03:26:29 PM Running MD at ./OA-G3-1/AMBER/APR/windows/a008\n",
      "2018-04-27 03:26:29 PM Exec line: pmemd.cuda -O -p solvate.prmtop -ref solvate.rst7 -c prod.001.rst7 -i prod.002.in -o prod.002.out -r prod.002.rst7 -x prod.002.nc -inf prod.002.mdinfo -e prod.002.mden\n"
     ]
    },
    {
     "name": "stdout",
     "output_type": "stream",
     "text": [
      "Re-running ./OA-G3-1/AMBER/APR/windows/a008/prod.002.nc...\n"
     ]
    },
    {
     "name": "stderr",
     "output_type": "stream",
     "text": [
      "2018-04-27 03:29:07 PM MD completed ...\n",
      "2018-04-27 03:29:07 PM Writing prod.002.in\n",
      "2018-04-27 03:29:07 PM Running MD at ./OA-G3-1/AMBER/APR/windows/a009\n",
      "2018-04-27 03:29:07 PM Exec line: pmemd.cuda -O -p solvate.prmtop -ref solvate.rst7 -c prod.001.rst7 -i prod.002.in -o prod.002.out -r prod.002.rst7 -x prod.002.nc -inf prod.002.mdinfo -e prod.002.mden\n"
     ]
    },
    {
     "name": "stdout",
     "output_type": "stream",
     "text": [
      "Re-running ./OA-G3-1/AMBER/APR/windows/a009/prod.002.nc...\n"
     ]
    },
    {
     "name": "stderr",
     "output_type": "stream",
     "text": [
      "2018-04-27 03:31:47 PM MD completed ...\n",
      "2018-04-27 03:31:47 PM Writing prod.002.in\n",
      "2018-04-27 03:31:47 PM Running MD at ./OA-G3-1/AMBER/APR/windows/a010\n",
      "2018-04-27 03:31:47 PM Exec line: pmemd.cuda -O -p solvate.prmtop -ref solvate.rst7 -c prod.001.rst7 -i prod.002.in -o prod.002.out -r prod.002.rst7 -x prod.002.nc -inf prod.002.mdinfo -e prod.002.mden\n"
     ]
    },
    {
     "name": "stdout",
     "output_type": "stream",
     "text": [
      "Re-running ./OA-G3-1/AMBER/APR/windows/a010/prod.002.nc...\n"
     ]
    },
    {
     "name": "stderr",
     "output_type": "stream",
     "text": [
      "2018-04-27 03:34:26 PM MD completed ...\n",
      "2018-04-27 03:34:26 PM Writing prod.002.in\n",
      "2018-04-27 03:34:26 PM Running MD at ./OA-G3-1/AMBER/APR/windows/a011\n",
      "2018-04-27 03:34:26 PM Exec line: pmemd.cuda -O -p solvate.prmtop -ref solvate.rst7 -c prod.001.rst7 -i prod.002.in -o prod.002.out -r prod.002.rst7 -x prod.002.nc -inf prod.002.mdinfo -e prod.002.mden\n"
     ]
    },
    {
     "name": "stdout",
     "output_type": "stream",
     "text": [
      "Re-running ./OA-G3-1/AMBER/APR/windows/a011/prod.002.nc...\n"
     ]
    },
    {
     "name": "stderr",
     "output_type": "stream",
     "text": [
      "2018-04-27 03:37:07 PM MD completed ...\n",
      "2018-04-27 03:37:07 PM Writing prod.002.in\n",
      "2018-04-27 03:37:07 PM Running MD at ./OA-G3-1/AMBER/APR/windows/a012\n",
      "2018-04-27 03:37:07 PM Exec line: pmemd.cuda -O -p solvate.prmtop -ref solvate.rst7 -c prod.001.rst7 -i prod.002.in -o prod.002.out -r prod.002.rst7 -x prod.002.nc -inf prod.002.mdinfo -e prod.002.mden\n"
     ]
    },
    {
     "name": "stdout",
     "output_type": "stream",
     "text": [
      "Re-running ./OA-G3-1/AMBER/APR/windows/a012/prod.002.nc...\n"
     ]
    },
    {
     "name": "stderr",
     "output_type": "stream",
     "text": [
      "2018-04-27 03:39:46 PM MD completed ...\n",
      "2018-04-27 03:39:46 PM Writing prod.002.in\n",
      "2018-04-27 03:39:46 PM Running MD at ./OA-G3-1/AMBER/APR/windows/a013\n",
      "2018-04-27 03:39:46 PM Exec line: pmemd.cuda -O -p solvate.prmtop -ref solvate.rst7 -c prod.001.rst7 -i prod.002.in -o prod.002.out -r prod.002.rst7 -x prod.002.nc -inf prod.002.mdinfo -e prod.002.mden\n"
     ]
    },
    {
     "name": "stdout",
     "output_type": "stream",
     "text": [
      "Re-running ./OA-G3-1/AMBER/APR/windows/a013/prod.002.nc...\n"
     ]
    },
    {
     "name": "stderr",
     "output_type": "stream",
     "text": [
      "2018-04-27 03:42:23 PM MD completed ...\n",
      "2018-04-27 03:42:23 PM Writing prod.002.in\n",
      "2018-04-27 03:42:23 PM Running MD at ./OA-G3-1/AMBER/APR/windows/p000\n",
      "2018-04-27 03:42:23 PM Exec line: pmemd.cuda -O -p solvate.prmtop -ref solvate.rst7 -c prod.001.rst7 -i prod.002.in -o prod.002.out -r prod.002.rst7 -x prod.002.nc -inf prod.002.mdinfo -e prod.002.mden\n"
     ]
    },
    {
     "name": "stdout",
     "output_type": "stream",
     "text": [
      "Re-running ./OA-G3-1/AMBER/APR/windows/p000/prod.002.nc...\n"
     ]
    },
    {
     "name": "stderr",
     "output_type": "stream",
     "text": [
      "2018-04-27 03:45:02 PM MD completed ...\n",
      "2018-04-27 03:45:02 PM Writing prod.002.in\n",
      "2018-04-27 03:45:02 PM Running MD at ./OA-G3-1/AMBER/APR/windows/p001\n",
      "2018-04-27 03:45:02 PM Exec line: pmemd.cuda -O -p solvate.prmtop -ref solvate.rst7 -c prod.001.rst7 -i prod.002.in -o prod.002.out -r prod.002.rst7 -x prod.002.nc -inf prod.002.mdinfo -e prod.002.mden\n"
     ]
    },
    {
     "name": "stdout",
     "output_type": "stream",
     "text": [
      "Re-running ./OA-G3-1/AMBER/APR/windows/p001/prod.002.nc...\n"
     ]
    },
    {
     "name": "stderr",
     "output_type": "stream",
     "text": [
      "2018-04-27 03:47:42 PM MD completed ...\n",
      "2018-04-27 03:47:42 PM Writing prod.002.in\n",
      "2018-04-27 03:47:42 PM Running MD at ./OA-G3-1/AMBER/APR/windows/p002\n",
      "2018-04-27 03:47:42 PM Exec line: pmemd.cuda -O -p solvate.prmtop -ref solvate.rst7 -c prod.001.rst7 -i prod.002.in -o prod.002.out -r prod.002.rst7 -x prod.002.nc -inf prod.002.mdinfo -e prod.002.mden\n"
     ]
    },
    {
     "name": "stdout",
     "output_type": "stream",
     "text": [
      "Re-running ./OA-G3-1/AMBER/APR/windows/p002/prod.002.nc...\n"
     ]
    },
    {
     "name": "stderr",
     "output_type": "stream",
     "text": [
      "2018-04-27 03:50:22 PM MD completed ...\n",
      "2018-04-27 03:50:22 PM Writing prod.002.in\n",
      "2018-04-27 03:50:22 PM Running MD at ./OA-G3-1/AMBER/APR/windows/p003\n",
      "2018-04-27 03:50:22 PM Exec line: pmemd.cuda -O -p solvate.prmtop -ref solvate.rst7 -c prod.001.rst7 -i prod.002.in -o prod.002.out -r prod.002.rst7 -x prod.002.nc -inf prod.002.mdinfo -e prod.002.mden\n"
     ]
    },
    {
     "name": "stdout",
     "output_type": "stream",
     "text": [
      "Re-running ./OA-G3-1/AMBER/APR/windows/p003/prod.002.nc...\n"
     ]
    },
    {
     "name": "stderr",
     "output_type": "stream",
     "text": [
      "2018-04-27 03:53:00 PM MD completed ...\n",
      "2018-04-27 03:53:00 PM Writing prod.002.in\n",
      "2018-04-27 03:53:00 PM Running MD at ./OA-G3-1/AMBER/APR/windows/p004\n",
      "2018-04-27 03:53:00 PM Exec line: pmemd.cuda -O -p solvate.prmtop -ref solvate.rst7 -c prod.001.rst7 -i prod.002.in -o prod.002.out -r prod.002.rst7 -x prod.002.nc -inf prod.002.mdinfo -e prod.002.mden\n"
     ]
    },
    {
     "name": "stdout",
     "output_type": "stream",
     "text": [
      "Re-running ./OA-G3-1/AMBER/APR/windows/p004/prod.002.nc...\n"
     ]
    },
    {
     "name": "stderr",
     "output_type": "stream",
     "text": [
      "2018-04-27 03:55:38 PM MD completed ...\n",
      "2018-04-27 03:55:38 PM Writing prod.002.in\n",
      "2018-04-27 03:55:38 PM Running MD at ./OA-G3-1/AMBER/APR/windows/p005\n",
      "2018-04-27 03:55:38 PM Exec line: pmemd.cuda -O -p solvate.prmtop -ref solvate.rst7 -c prod.001.rst7 -i prod.002.in -o prod.002.out -r prod.002.rst7 -x prod.002.nc -inf prod.002.mdinfo -e prod.002.mden\n"
     ]
    },
    {
     "name": "stdout",
     "output_type": "stream",
     "text": [
      "Re-running ./OA-G3-1/AMBER/APR/windows/p005/prod.002.nc...\n"
     ]
    },
    {
     "name": "stderr",
     "output_type": "stream",
     "text": [
      "2018-04-27 03:58:17 PM MD completed ...\n",
      "2018-04-27 03:58:17 PM Writing prod.002.in\n",
      "2018-04-27 03:58:17 PM Running MD at ./OA-G3-1/AMBER/APR/windows/p006\n",
      "2018-04-27 03:58:17 PM Exec line: pmemd.cuda -O -p solvate.prmtop -ref solvate.rst7 -c prod.001.rst7 -i prod.002.in -o prod.002.out -r prod.002.rst7 -x prod.002.nc -inf prod.002.mdinfo -e prod.002.mden\n"
     ]
    },
    {
     "name": "stdout",
     "output_type": "stream",
     "text": [
      "Re-running ./OA-G3-1/AMBER/APR/windows/p006/prod.002.nc...\n"
     ]
    },
    {
     "name": "stderr",
     "output_type": "stream",
     "text": [
      "2018-04-27 04:00:54 PM MD completed ...\n",
      "2018-04-27 04:00:54 PM Writing prod.002.in\n",
      "2018-04-27 04:00:54 PM Running MD at ./OA-G3-1/AMBER/APR/windows/p007\n",
      "2018-04-27 04:00:54 PM Exec line: pmemd.cuda -O -p solvate.prmtop -ref solvate.rst7 -c prod.001.rst7 -i prod.002.in -o prod.002.out -r prod.002.rst7 -x prod.002.nc -inf prod.002.mdinfo -e prod.002.mden\n"
     ]
    },
    {
     "name": "stdout",
     "output_type": "stream",
     "text": [
      "Re-running ./OA-G3-1/AMBER/APR/windows/p007/prod.002.nc...\n"
     ]
    },
    {
     "name": "stderr",
     "output_type": "stream",
     "text": [
      "2018-04-27 04:03:33 PM MD completed ...\n",
      "2018-04-27 04:03:33 PM Writing prod.002.in\n",
      "2018-04-27 04:03:33 PM Running MD at ./OA-G3-1/AMBER/APR/windows/p008\n",
      "2018-04-27 04:03:33 PM Exec line: pmemd.cuda -O -p solvate.prmtop -ref solvate.rst7 -c prod.001.rst7 -i prod.002.in -o prod.002.out -r prod.002.rst7 -x prod.002.nc -inf prod.002.mdinfo -e prod.002.mden\n"
     ]
    },
    {
     "name": "stdout",
     "output_type": "stream",
     "text": [
      "Re-running ./OA-G3-1/AMBER/APR/windows/p008/prod.002.nc...\n"
     ]
    },
    {
     "name": "stderr",
     "output_type": "stream",
     "text": [
      "2018-04-27 04:06:12 PM MD completed ...\n",
      "2018-04-27 04:06:12 PM Writing prod.002.in\n",
      "2018-04-27 04:06:12 PM Running MD at ./OA-G3-1/AMBER/APR/windows/p009\n",
      "2018-04-27 04:06:12 PM Exec line: pmemd.cuda -O -p solvate.prmtop -ref solvate.rst7 -c prod.001.rst7 -i prod.002.in -o prod.002.out -r prod.002.rst7 -x prod.002.nc -inf prod.002.mdinfo -e prod.002.mden\n"
     ]
    },
    {
     "name": "stdout",
     "output_type": "stream",
     "text": [
      "Re-running ./OA-G3-1/AMBER/APR/windows/p009/prod.002.nc...\n"
     ]
    },
    {
     "name": "stderr",
     "output_type": "stream",
     "text": [
      "2018-04-27 04:08:53 PM MD completed ...\n",
      "2018-04-27 04:08:53 PM Writing prod.002.in\n",
      "2018-04-27 04:08:53 PM Running MD at ./OA-G3-1/AMBER/APR/windows/p010\n",
      "2018-04-27 04:08:53 PM Exec line: pmemd.cuda -O -p solvate.prmtop -ref solvate.rst7 -c prod.001.rst7 -i prod.002.in -o prod.002.out -r prod.002.rst7 -x prod.002.nc -inf prod.002.mdinfo -e prod.002.mden\n"
     ]
    },
    {
     "name": "stdout",
     "output_type": "stream",
     "text": [
      "Re-running ./OA-G3-1/AMBER/APR/windows/p010/prod.002.nc...\n"
     ]
    },
    {
     "name": "stderr",
     "output_type": "stream",
     "text": [
      "2018-04-27 04:11:31 PM MD completed ...\n",
      "2018-04-27 04:11:31 PM Writing prod.002.in\n",
      "2018-04-27 04:11:31 PM Running MD at ./OA-G3-1/AMBER/APR/windows/p011\n",
      "2018-04-27 04:11:31 PM Exec line: pmemd.cuda -O -p solvate.prmtop -ref solvate.rst7 -c prod.001.rst7 -i prod.002.in -o prod.002.out -r prod.002.rst7 -x prod.002.nc -inf prod.002.mdinfo -e prod.002.mden\n"
     ]
    },
    {
     "name": "stdout",
     "output_type": "stream",
     "text": [
      "Re-running ./OA-G3-1/AMBER/APR/windows/p011/prod.002.nc...\n"
     ]
    },
    {
     "name": "stderr",
     "output_type": "stream",
     "text": [
      "2018-04-27 04:14:09 PM MD completed ...\n",
      "2018-04-27 04:14:09 PM Writing prod.002.in\n",
      "2018-04-27 04:14:09 PM Running MD at ./OA-G3-1/AMBER/APR/windows/p012\n",
      "2018-04-27 04:14:09 PM Exec line: pmemd.cuda -O -p solvate.prmtop -ref solvate.rst7 -c prod.001.rst7 -i prod.002.in -o prod.002.out -r prod.002.rst7 -x prod.002.nc -inf prod.002.mdinfo -e prod.002.mden\n"
     ]
    },
    {
     "name": "stdout",
     "output_type": "stream",
     "text": [
      "Re-running ./OA-G3-1/AMBER/APR/windows/p012/prod.002.nc...\n"
     ]
    },
    {
     "name": "stderr",
     "output_type": "stream",
     "text": [
      "2018-04-27 04:16:50 PM MD completed ...\n",
      "2018-04-27 04:16:50 PM Writing prod.002.in\n",
      "2018-04-27 04:16:50 PM Running MD at ./OA-G3-1/AMBER/APR/windows/p013\n",
      "2018-04-27 04:16:50 PM Exec line: pmemd.cuda -O -p solvate.prmtop -ref solvate.rst7 -c prod.001.rst7 -i prod.002.in -o prod.002.out -r prod.002.rst7 -x prod.002.nc -inf prod.002.mdinfo -e prod.002.mden\n"
     ]
    },
    {
     "name": "stdout",
     "output_type": "stream",
     "text": [
      "Re-running ./OA-G3-1/AMBER/APR/windows/p013/prod.002.nc...\n"
     ]
    },
    {
     "name": "stderr",
     "output_type": "stream",
     "text": [
      "2018-04-27 04:19:30 PM MD completed ...\n",
      "2018-04-27 04:19:30 PM Writing prod.002.in\n",
      "2018-04-27 04:19:30 PM Running MD at ./OA-G3-1/AMBER/APR/windows/p014\n",
      "2018-04-27 04:19:30 PM Exec line: pmemd.cuda -O -p solvate.prmtop -ref solvate.rst7 -c prod.001.rst7 -i prod.002.in -o prod.002.out -r prod.002.rst7 -x prod.002.nc -inf prod.002.mdinfo -e prod.002.mden\n"
     ]
    },
    {
     "name": "stdout",
     "output_type": "stream",
     "text": [
      "Re-running ./OA-G3-1/AMBER/APR/windows/p014/prod.002.nc...\n"
     ]
    },
    {
     "name": "stderr",
     "output_type": "stream",
     "text": [
      "2018-04-27 04:22:10 PM MD completed ...\n",
      "2018-04-27 04:22:10 PM Writing prod.002.in\n",
      "2018-04-27 04:22:10 PM Running MD at ./OA-G3-1/AMBER/APR/windows/p015\n",
      "2018-04-27 04:22:10 PM Exec line: pmemd.cuda -O -p solvate.prmtop -ref solvate.rst7 -c prod.001.rst7 -i prod.002.in -o prod.002.out -r prod.002.rst7 -x prod.002.nc -inf prod.002.mdinfo -e prod.002.mden\n"
     ]
    },
    {
     "name": "stdout",
     "output_type": "stream",
     "text": [
      "Re-running ./OA-G3-1/AMBER/APR/windows/p015/prod.002.nc...\n"
     ]
    },
    {
     "name": "stderr",
     "output_type": "stream",
     "text": [
      "2018-04-27 04:24:50 PM MD completed ...\n",
      "2018-04-27 04:24:50 PM Writing prod.002.in\n",
      "2018-04-27 04:24:50 PM Running MD at ./OA-G3-1/AMBER/APR/windows/p016\n",
      "2018-04-27 04:24:50 PM Exec line: pmemd.cuda -O -p solvate.prmtop -ref solvate.rst7 -c prod.001.rst7 -i prod.002.in -o prod.002.out -r prod.002.rst7 -x prod.002.nc -inf prod.002.mdinfo -e prod.002.mden\n"
     ]
    },
    {
     "name": "stdout",
     "output_type": "stream",
     "text": [
      "Re-running ./OA-G3-1/AMBER/APR/windows/p016/prod.002.nc...\n"
     ]
    },
    {
     "name": "stderr",
     "output_type": "stream",
     "text": [
      "2018-04-27 04:27:28 PM MD completed ...\n",
      "2018-04-27 04:27:28 PM Writing prod.002.in\n",
      "2018-04-27 04:27:28 PM Running MD at ./OA-G3-1/AMBER/APR/windows/p017\n",
      "2018-04-27 04:27:28 PM Exec line: pmemd.cuda -O -p solvate.prmtop -ref solvate.rst7 -c prod.001.rst7 -i prod.002.in -o prod.002.out -r prod.002.rst7 -x prod.002.nc -inf prod.002.mdinfo -e prod.002.mden\n"
     ]
    },
    {
     "name": "stdout",
     "output_type": "stream",
     "text": [
      "Re-running ./OA-G3-1/AMBER/APR/windows/p017/prod.002.nc...\n"
     ]
    },
    {
     "name": "stderr",
     "output_type": "stream",
     "text": [
      "2018-04-27 04:30:08 PM MD completed ...\n",
      "2018-04-27 04:30:08 PM Writing prod.002.in\n",
      "2018-04-27 04:30:08 PM Running MD at ./OA-G3-1/AMBER/APR/windows/p018\n",
      "2018-04-27 04:30:08 PM Exec line: pmemd.cuda -O -p solvate.prmtop -ref solvate.rst7 -c prod.001.rst7 -i prod.002.in -o prod.002.out -r prod.002.rst7 -x prod.002.nc -inf prod.002.mdinfo -e prod.002.mden\n"
     ]
    },
    {
     "name": "stdout",
     "output_type": "stream",
     "text": [
      "Re-running ./OA-G3-1/AMBER/APR/windows/p018/prod.002.nc...\n"
     ]
    },
    {
     "name": "stderr",
     "output_type": "stream",
     "text": [
      "2018-04-27 04:32:47 PM MD completed ...\n",
      "2018-04-27 04:32:47 PM Writing prod.002.in\n",
      "2018-04-27 04:32:47 PM Running MD at ./OA-G3-1/AMBER/APR/windows/p019\n",
      "2018-04-27 04:32:47 PM Exec line: pmemd.cuda -O -p solvate.prmtop -ref solvate.rst7 -c prod.001.rst7 -i prod.002.in -o prod.002.out -r prod.002.rst7 -x prod.002.nc -inf prod.002.mdinfo -e prod.002.mden\n"
     ]
    },
    {
     "name": "stdout",
     "output_type": "stream",
     "text": [
      "Re-running ./OA-G3-1/AMBER/APR/windows/p019/prod.002.nc...\n"
     ]
    },
    {
     "name": "stderr",
     "output_type": "stream",
     "text": [
      "2018-04-27 04:35:24 PM MD completed ...\n",
      "2018-04-27 04:35:24 PM Writing prod.002.in\n",
      "2018-04-27 04:35:24 PM Running MD at ./OA-G3-1/AMBER/APR/windows/p020\n",
      "2018-04-27 04:35:24 PM Exec line: pmemd.cuda -O -p solvate.prmtop -ref solvate.rst7 -c prod.001.rst7 -i prod.002.in -o prod.002.out -r prod.002.rst7 -x prod.002.nc -inf prod.002.mdinfo -e prod.002.mden\n"
     ]
    },
    {
     "name": "stdout",
     "output_type": "stream",
     "text": [
      "Re-running ./OA-G3-1/AMBER/APR/windows/p020/prod.002.nc...\n"
     ]
    },
    {
     "name": "stderr",
     "output_type": "stream",
     "text": [
      "2018-04-27 04:38:04 PM MD completed ...\n",
      "2018-04-27 04:38:04 PM Writing prod.002.in\n",
      "2018-04-27 04:38:04 PM Running MD at ./OA-G3-1/AMBER/APR/windows/p021\n",
      "2018-04-27 04:38:04 PM Exec line: pmemd.cuda -O -p solvate.prmtop -ref solvate.rst7 -c prod.001.rst7 -i prod.002.in -o prod.002.out -r prod.002.rst7 -x prod.002.nc -inf prod.002.mdinfo -e prod.002.mden\n"
     ]
    },
    {
     "name": "stdout",
     "output_type": "stream",
     "text": [
      "Re-running ./OA-G3-1/AMBER/APR/windows/p021/prod.002.nc...\n"
     ]
    },
    {
     "name": "stderr",
     "output_type": "stream",
     "text": [
      "2018-04-27 04:40:44 PM MD completed ...\n",
      "2018-04-27 04:40:44 PM Writing prod.002.in\n",
      "2018-04-27 04:40:44 PM Running MD at ./OA-G3-1/AMBER/APR/windows/p022\n",
      "2018-04-27 04:40:44 PM Exec line: pmemd.cuda -O -p solvate.prmtop -ref solvate.rst7 -c prod.001.rst7 -i prod.002.in -o prod.002.out -r prod.002.rst7 -x prod.002.nc -inf prod.002.mdinfo -e prod.002.mden\n"
     ]
    },
    {
     "name": "stdout",
     "output_type": "stream",
     "text": [
      "Re-running ./OA-G3-1/AMBER/APR/windows/p022/prod.002.nc...\n"
     ]
    },
    {
     "name": "stderr",
     "output_type": "stream",
     "text": [
      "2018-04-27 04:43:24 PM MD completed ...\n",
      "2018-04-27 04:43:24 PM Writing prod.002.in\n",
      "2018-04-27 04:43:24 PM Running MD at ./OA-G3-1/AMBER/APR/windows/p023\n",
      "2018-04-27 04:43:24 PM Exec line: pmemd.cuda -O -p solvate.prmtop -ref solvate.rst7 -c prod.001.rst7 -i prod.002.in -o prod.002.out -r prod.002.rst7 -x prod.002.nc -inf prod.002.mdinfo -e prod.002.mden\n"
     ]
    },
    {
     "name": "stdout",
     "output_type": "stream",
     "text": [
      "Re-running ./OA-G3-1/AMBER/APR/windows/p023/prod.002.nc...\n"
     ]
    },
    {
     "name": "stderr",
     "output_type": "stream",
     "text": [
      "2018-04-27 04:46:04 PM MD completed ...\n",
      "2018-04-27 04:46:04 PM Writing prod.002.in\n",
      "2018-04-27 04:46:04 PM Running MD at ./OA-G3-1/AMBER/APR/windows/p024\n",
      "2018-04-27 04:46:04 PM Exec line: pmemd.cuda -O -p solvate.prmtop -ref solvate.rst7 -c prod.001.rst7 -i prod.002.in -o prod.002.out -r prod.002.rst7 -x prod.002.nc -inf prod.002.mdinfo -e prod.002.mden\n"
     ]
    },
    {
     "name": "stdout",
     "output_type": "stream",
     "text": [
      "Re-running ./OA-G3-1/AMBER/APR/windows/p024/prod.002.nc...\n"
     ]
    },
    {
     "name": "stderr",
     "output_type": "stream",
     "text": [
      "2018-04-27 04:48:42 PM MD completed ...\n",
      "2018-04-27 04:48:42 PM Writing prod.002.in\n",
      "2018-04-27 04:48:42 PM Running MD at ./OA-G3-1/AMBER/APR/windows/p025\n",
      "2018-04-27 04:48:42 PM Exec line: pmemd.cuda -O -p solvate.prmtop -ref solvate.rst7 -c prod.001.rst7 -i prod.002.in -o prod.002.out -r prod.002.rst7 -x prod.002.nc -inf prod.002.mdinfo -e prod.002.mden\n"
     ]
    },
    {
     "name": "stdout",
     "output_type": "stream",
     "text": [
      "Re-running ./OA-G3-1/AMBER/APR/windows/p025/prod.002.nc...\n"
     ]
    },
    {
     "name": "stderr",
     "output_type": "stream",
     "text": [
      "2018-04-27 04:51:22 PM MD completed ...\n",
      "2018-04-27 04:51:22 PM Writing prod.002.in\n",
      "2018-04-27 04:51:22 PM Running MD at ./OA-G3-1/AMBER/APR/windows/p026\n",
      "2018-04-27 04:51:22 PM Exec line: pmemd.cuda -O -p solvate.prmtop -ref solvate.rst7 -c prod.001.rst7 -i prod.002.in -o prod.002.out -r prod.002.rst7 -x prod.002.nc -inf prod.002.mdinfo -e prod.002.mden\n"
     ]
    },
    {
     "name": "stdout",
     "output_type": "stream",
     "text": [
      "Re-running ./OA-G3-1/AMBER/APR/windows/p026/prod.002.nc...\n"
     ]
    },
    {
     "name": "stderr",
     "output_type": "stream",
     "text": [
      "2018-04-27 04:54:02 PM MD completed ...\n",
      "2018-04-27 04:54:02 PM Writing prod.002.in\n",
      "2018-04-27 04:54:02 PM Running MD at ./OA-G3-1/AMBER/APR/windows/p027\n",
      "2018-04-27 04:54:02 PM Exec line: pmemd.cuda -O -p solvate.prmtop -ref solvate.rst7 -c prod.001.rst7 -i prod.002.in -o prod.002.out -r prod.002.rst7 -x prod.002.nc -inf prod.002.mdinfo -e prod.002.mden\n"
     ]
    },
    {
     "name": "stdout",
     "output_type": "stream",
     "text": [
      "Re-running ./OA-G3-1/AMBER/APR/windows/p027/prod.002.nc...\n"
     ]
    },
    {
     "name": "stderr",
     "output_type": "stream",
     "text": [
      "2018-04-27 04:56:39 PM MD completed ...\n",
      "2018-04-27 04:56:39 PM Writing prod.002.in\n",
      "2018-04-27 04:56:39 PM Running MD at ./OA-G3-1/AMBER/APR/windows/p028\n",
      "2018-04-27 04:56:39 PM Exec line: pmemd.cuda -O -p solvate.prmtop -ref solvate.rst7 -c prod.001.rst7 -i prod.002.in -o prod.002.out -r prod.002.rst7 -x prod.002.nc -inf prod.002.mdinfo -e prod.002.mden\n"
     ]
    },
    {
     "name": "stdout",
     "output_type": "stream",
     "text": [
      "Re-running ./OA-G3-1/AMBER/APR/windows/p028/prod.002.nc...\n"
     ]
    },
    {
     "name": "stderr",
     "output_type": "stream",
     "text": [
      "2018-04-27 04:59:19 PM MD completed ...\n",
      "2018-04-27 04:59:19 PM Writing prod.002.in\n",
      "2018-04-27 04:59:19 PM Running MD at ./OA-G3-1/AMBER/APR/windows/p029\n",
      "2018-04-27 04:59:19 PM Exec line: pmemd.cuda -O -p solvate.prmtop -ref solvate.rst7 -c prod.001.rst7 -i prod.002.in -o prod.002.out -r prod.002.rst7 -x prod.002.nc -inf prod.002.mdinfo -e prod.002.mden\n"
     ]
    },
    {
     "name": "stdout",
     "output_type": "stream",
     "text": [
      "Re-running ./OA-G3-1/AMBER/APR/windows/p029/prod.002.nc...\n"
     ]
    },
    {
     "name": "stderr",
     "output_type": "stream",
     "text": [
      "2018-04-27 05:02:00 PM MD completed ...\n",
      "2018-04-27 05:02:00 PM Writing prod.002.in\n",
      "2018-04-27 05:02:00 PM Running MD at ./OA-G3-1/AMBER/APR/windows/p030\n",
      "2018-04-27 05:02:00 PM Exec line: pmemd.cuda -O -p solvate.prmtop -ref solvate.rst7 -c prod.001.rst7 -i prod.002.in -o prod.002.out -r prod.002.rst7 -x prod.002.nc -inf prod.002.mdinfo -e prod.002.mden\n"
     ]
    },
    {
     "name": "stdout",
     "output_type": "stream",
     "text": [
      "Re-running ./OA-G3-1/AMBER/APR/windows/p030/prod.002.nc...\n"
     ]
    },
    {
     "name": "stderr",
     "output_type": "stream",
     "text": [
      "2018-04-27 05:04:39 PM MD completed ...\n",
      "2018-04-27 05:04:39 PM Writing prod.002.in\n",
      "2018-04-27 05:04:39 PM Running MD at ./OA-G3-1/AMBER/APR/windows/p031\n",
      "2018-04-27 05:04:39 PM Exec line: pmemd.cuda -O -p solvate.prmtop -ref solvate.rst7 -c prod.001.rst7 -i prod.002.in -o prod.002.out -r prod.002.rst7 -x prod.002.nc -inf prod.002.mdinfo -e prod.002.mden\n"
     ]
    },
    {
     "name": "stdout",
     "output_type": "stream",
     "text": [
      "Re-running ./OA-G3-1/AMBER/APR/windows/p031/prod.002.nc...\n"
     ]
    },
    {
     "name": "stderr",
     "output_type": "stream",
     "text": [
      "2018-04-27 05:07:19 PM MD completed ...\n",
      "2018-04-27 05:07:19 PM Writing prod.002.in\n",
      "2018-04-27 05:07:19 PM Running MD at ./OA-G3-1/AMBER/APR/windows/p032\n",
      "2018-04-27 05:07:19 PM Exec line: pmemd.cuda -O -p solvate.prmtop -ref solvate.rst7 -c prod.001.rst7 -i prod.002.in -o prod.002.out -r prod.002.rst7 -x prod.002.nc -inf prod.002.mdinfo -e prod.002.mden\n"
     ]
    },
    {
     "name": "stdout",
     "output_type": "stream",
     "text": [
      "Re-running ./OA-G3-1/AMBER/APR/windows/p032/prod.002.nc...\n"
     ]
    },
    {
     "name": "stderr",
     "output_type": "stream",
     "text": [
      "2018-04-27 05:09:58 PM MD completed ...\n",
      "2018-04-27 05:09:58 PM Writing prod.002.in\n",
      "2018-04-27 05:09:58 PM Running MD at ./OA-G3-1/AMBER/APR/windows/p033\n",
      "2018-04-27 05:09:58 PM Exec line: pmemd.cuda -O -p solvate.prmtop -ref solvate.rst7 -c prod.001.rst7 -i prod.002.in -o prod.002.out -r prod.002.rst7 -x prod.002.nc -inf prod.002.mdinfo -e prod.002.mden\n"
     ]
    },
    {
     "name": "stdout",
     "output_type": "stream",
     "text": [
      "Re-running ./OA-G3-1/AMBER/APR/windows/p033/prod.002.nc...\n"
     ]
    },
    {
     "name": "stderr",
     "output_type": "stream",
     "text": [
      "2018-04-27 05:12:37 PM MD completed ...\n",
      "2018-04-27 05:12:37 PM Writing prod.002.in\n",
      "2018-04-27 05:12:37 PM Running MD at ./OA-G3-1/AMBER/APR/windows/p034\n",
      "2018-04-27 05:12:37 PM Exec line: pmemd.cuda -O -p solvate.prmtop -ref solvate.rst7 -c prod.001.rst7 -i prod.002.in -o prod.002.out -r prod.002.rst7 -x prod.002.nc -inf prod.002.mdinfo -e prod.002.mden\n"
     ]
    },
    {
     "name": "stdout",
     "output_type": "stream",
     "text": [
      "Re-running ./OA-G3-1/AMBER/APR/windows/p034/prod.002.nc...\n"
     ]
    },
    {
     "name": "stderr",
     "output_type": "stream",
     "text": [
      "2018-04-27 05:15:17 PM MD completed ...\n",
      "2018-04-27 05:15:17 PM Writing prod.002.in\n",
      "2018-04-27 05:15:17 PM Running MD at ./OA-G3-1/AMBER/APR/windows/p035\n",
      "2018-04-27 05:15:17 PM Exec line: pmemd.cuda -O -p solvate.prmtop -ref solvate.rst7 -c prod.001.rst7 -i prod.002.in -o prod.002.out -r prod.002.rst7 -x prod.002.nc -inf prod.002.mdinfo -e prod.002.mden\n"
     ]
    },
    {
     "name": "stdout",
     "output_type": "stream",
     "text": [
      "Re-running ./OA-G3-1/AMBER/APR/windows/p035/prod.002.nc...\n"
     ]
    },
    {
     "name": "stderr",
     "output_type": "stream",
     "text": [
      "2018-04-27 05:17:56 PM MD completed ...\n",
      "2018-04-27 05:17:57 PM Writing prod.002.in\n",
      "2018-04-27 05:17:57 PM Running MD at ./OA-G3-1/AMBER/APR/windows/p036\n",
      "2018-04-27 05:17:57 PM Exec line: pmemd.cuda -O -p solvate.prmtop -ref solvate.rst7 -c prod.001.rst7 -i prod.002.in -o prod.002.out -r prod.002.rst7 -x prod.002.nc -inf prod.002.mdinfo -e prod.002.mden\n"
     ]
    },
    {
     "name": "stdout",
     "output_type": "stream",
     "text": [
      "Re-running ./OA-G3-1/AMBER/APR/windows/p036/prod.002.nc...\n"
     ]
    },
    {
     "name": "stderr",
     "output_type": "stream",
     "text": [
      "2018-04-27 05:20:35 PM MD completed ...\n",
      "2018-04-27 05:20:35 PM Writing prod.002.in\n",
      "2018-04-27 05:20:35 PM Running MD at ./OA-G3-1/AMBER/APR/windows/p037\n",
      "2018-04-27 05:20:35 PM Exec line: pmemd.cuda -O -p solvate.prmtop -ref solvate.rst7 -c prod.001.rst7 -i prod.002.in -o prod.002.out -r prod.002.rst7 -x prod.002.nc -inf prod.002.mdinfo -e prod.002.mden\n"
     ]
    },
    {
     "name": "stdout",
     "output_type": "stream",
     "text": [
      "Re-running ./OA-G3-1/AMBER/APR/windows/p037/prod.002.nc...\n"
     ]
    },
    {
     "name": "stderr",
     "output_type": "stream",
     "text": [
      "2018-04-27 05:23:15 PM MD completed ...\n",
      "2018-04-27 05:23:15 PM Writing prod.002.in\n",
      "2018-04-27 05:23:15 PM Running MD at ./OA-G3-1/AMBER/APR/windows/p038\n",
      "2018-04-27 05:23:15 PM Exec line: pmemd.cuda -O -p solvate.prmtop -ref solvate.rst7 -c prod.001.rst7 -i prod.002.in -o prod.002.out -r prod.002.rst7 -x prod.002.nc -inf prod.002.mdinfo -e prod.002.mden\n"
     ]
    },
    {
     "name": "stdout",
     "output_type": "stream",
     "text": [
      "Re-running ./OA-G3-1/AMBER/APR/windows/p038/prod.002.nc...\n"
     ]
    },
    {
     "name": "stderr",
     "output_type": "stream",
     "text": [
      "2018-04-27 05:25:55 PM MD completed ...\n",
      "2018-04-27 05:25:55 PM Writing prod.002.in\n",
      "2018-04-27 05:25:55 PM Running MD at ./OA-G3-1/AMBER/APR/windows/p039\n",
      "2018-04-27 05:25:55 PM Exec line: pmemd.cuda -O -p solvate.prmtop -ref solvate.rst7 -c prod.001.rst7 -i prod.002.in -o prod.002.out -r prod.002.rst7 -x prod.002.nc -inf prod.002.mdinfo -e prod.002.mden\n"
     ]
    },
    {
     "name": "stdout",
     "output_type": "stream",
     "text": [
      "Re-running ./OA-G3-1/AMBER/APR/windows/p039/prod.002.nc...\n"
     ]
    },
    {
     "name": "stderr",
     "output_type": "stream",
     "text": [
      "2018-04-27 05:28:33 PM MD completed ...\n",
      "2018-04-27 05:28:33 PM Writing prod.002.in\n",
      "2018-04-27 05:28:33 PM Running MD at ./OA-G3-1/AMBER/APR/windows/p040\n",
      "2018-04-27 05:28:33 PM Exec line: pmemd.cuda -O -p solvate.prmtop -ref solvate.rst7 -c prod.001.rst7 -i prod.002.in -o prod.002.out -r prod.002.rst7 -x prod.002.nc -inf prod.002.mdinfo -e prod.002.mden\n"
     ]
    },
    {
     "name": "stdout",
     "output_type": "stream",
     "text": [
      "Re-running ./OA-G3-1/AMBER/APR/windows/p040/prod.002.nc...\n"
     ]
    },
    {
     "name": "stderr",
     "output_type": "stream",
     "text": [
      "2018-04-27 05:31:13 PM MD completed ...\n",
      "2018-04-27 05:31:13 PM Writing prod.002.in\n",
      "2018-04-27 05:31:13 PM Running MD at ./OA-G3-1/AMBER/APR/windows/p041\n",
      "2018-04-27 05:31:13 PM Exec line: pmemd.cuda -O -p solvate.prmtop -ref solvate.rst7 -c prod.001.rst7 -i prod.002.in -o prod.002.out -r prod.002.rst7 -x prod.002.nc -inf prod.002.mdinfo -e prod.002.mden\n"
     ]
    },
    {
     "name": "stdout",
     "output_type": "stream",
     "text": [
      "Re-running ./OA-G3-1/AMBER/APR/windows/p041/prod.002.nc...\n"
     ]
    },
    {
     "name": "stderr",
     "output_type": "stream",
     "text": [
      "2018-04-27 05:33:51 PM MD completed ...\n",
      "2018-04-27 05:33:51 PM Writing prod.002.in\n",
      "2018-04-27 05:33:51 PM Running MD at ./OA-G3-1/AMBER/APR/windows/p042\n",
      "2018-04-27 05:33:51 PM Exec line: pmemd.cuda -O -p solvate.prmtop -ref solvate.rst7 -c prod.001.rst7 -i prod.002.in -o prod.002.out -r prod.002.rst7 -x prod.002.nc -inf prod.002.mdinfo -e prod.002.mden\n"
     ]
    },
    {
     "name": "stdout",
     "output_type": "stream",
     "text": [
      "Re-running ./OA-G3-1/AMBER/APR/windows/p042/prod.002.nc...\n"
     ]
    },
    {
     "name": "stderr",
     "output_type": "stream",
     "text": [
      "2018-04-27 05:36:33 PM MD completed ...\n",
      "2018-04-27 05:36:33 PM Writing prod.002.in\n",
      "2018-04-27 05:36:33 PM Running MD at ./OA-G3-1/AMBER/APR/windows/p043\n",
      "2018-04-27 05:36:33 PM Exec line: pmemd.cuda -O -p solvate.prmtop -ref solvate.rst7 -c prod.001.rst7 -i prod.002.in -o prod.002.out -r prod.002.rst7 -x prod.002.nc -inf prod.002.mdinfo -e prod.002.mden\n"
     ]
    },
    {
     "name": "stdout",
     "output_type": "stream",
     "text": [
      "Re-running ./OA-G3-1/AMBER/APR/windows/p043/prod.002.nc...\n"
     ]
    },
    {
     "name": "stderr",
     "output_type": "stream",
     "text": [
      "2018-04-27 05:39:14 PM MD completed ...\n",
      "2018-04-27 05:39:14 PM Writing prod.002.in\n",
      "2018-04-27 05:39:14 PM Running MD at ./OA-G3-1/AMBER/APR/windows/p044\n",
      "2018-04-27 05:39:14 PM Exec line: pmemd.cuda -O -p solvate.prmtop -ref solvate.rst7 -c prod.001.rst7 -i prod.002.in -o prod.002.out -r prod.002.rst7 -x prod.002.nc -inf prod.002.mdinfo -e prod.002.mden\n"
     ]
    },
    {
     "name": "stdout",
     "output_type": "stream",
     "text": [
      "Re-running ./OA-G3-1/AMBER/APR/windows/p044/prod.002.nc...\n"
     ]
    },
    {
     "name": "stderr",
     "output_type": "stream",
     "text": [
      "2018-04-27 05:41:53 PM MD completed ...\n",
      "2018-04-27 05:41:53 PM Writing prod.002.in\n",
      "2018-04-27 05:41:53 PM Running MD at ./OA-G3-1/AMBER/APR/windows/p045\n",
      "2018-04-27 05:41:53 PM Exec line: pmemd.cuda -O -p solvate.prmtop -ref solvate.rst7 -c prod.001.rst7 -i prod.002.in -o prod.002.out -r prod.002.rst7 -x prod.002.nc -inf prod.002.mdinfo -e prod.002.mden\n"
     ]
    },
    {
     "name": "stdout",
     "output_type": "stream",
     "text": [
      "Re-running ./OA-G3-1/AMBER/APR/windows/p045/prod.002.nc...\n"
     ]
    },
    {
     "name": "stderr",
     "output_type": "stream",
     "text": [
      "2018-04-27 05:44:34 PM MD completed ...\n"
     ]
    },
    {
     "name": "stdout",
     "output_type": "stream",
     "text": [
      "Set pull offset (7.28 A)\n"
     ]
    },
    {
     "name": "stderr",
     "output_type": "stream",
     "text": [
      "2018-04-27 05:44:34 PM Calculating attach targets and force constants...\n",
      "2018-04-27 05:44:34 PM Attach, Method #3\n",
      "2018-04-27 05:44:34 PM Calculating pull targets and force constants...\n",
      "2018-04-27 05:44:34 PM Pull, Method #1\n",
      "2018-04-27 05:44:34 PM Calculating release targets and force constants...\n",
      "2018-04-27 05:44:34 PM No restraint info set for the release phase! Skipping...\n",
      "2018-04-27 05:44:34 PM Number of attach windows = 15\n",
      "2018-04-27 05:44:34 PM Number of pull windows = 46\n",
      "2018-04-27 05:44:34 PM This restraint will be skipped in the release phase\n",
      "2018-04-27 05:44:34 PM Assigning atom indices...\n",
      "2018-04-27 05:44:34 PM There are 1 atoms in the mask :3  ...\n",
      "2018-04-27 05:44:34 PM There are 1 atoms in the mask :2@C1  ...\n",
      "2018-04-27 05:44:34 PM Calculating attach targets and force constants...\n",
      "2018-04-27 05:44:34 PM Attach, Method #3\n",
      "2018-04-27 05:44:34 PM Calculating pull targets and force constants...\n",
      "2018-04-27 05:44:34 PM Pull, Method #1\n",
      "2018-04-27 05:44:34 PM Calculating release targets and force constants...\n",
      "2018-04-27 05:44:34 PM No restraint info set for the release phase! Skipping...\n",
      "2018-04-27 05:44:34 PM Number of attach windows = 15\n",
      "2018-04-27 05:44:34 PM Number of pull windows = 46\n",
      "2018-04-27 05:44:34 PM This restraint will be skipped in the release phase\n",
      "2018-04-27 05:44:34 PM Assigning atom indices...\n",
      "2018-04-27 05:44:34 PM There are 1 atoms in the mask :4  ...\n",
      "2018-04-27 05:44:34 PM There are 1 atoms in the mask :3  ...\n",
      "2018-04-27 05:44:34 PM There are 1 atoms in the mask :2@C1  ...\n",
      "2018-04-27 05:44:34 PM Calculating attach targets and force constants...\n",
      "2018-04-27 05:44:34 PM Attach, Method #3\n",
      "2018-04-27 05:44:34 PM Calculating pull targets and force constants...\n",
      "2018-04-27 05:44:34 PM Pull, Method #1\n",
      "2018-04-27 05:44:34 PM Calculating release targets and force constants...\n",
      "2018-04-27 05:44:34 PM No restraint info set for the release phase! Skipping...\n",
      "2018-04-27 05:44:34 PM Number of attach windows = 15\n",
      "2018-04-27 05:44:34 PM Number of pull windows = 46\n",
      "2018-04-27 05:44:34 PM This restraint will be skipped in the release phase\n",
      "2018-04-27 05:44:34 PM Assigning atom indices...\n",
      "2018-04-27 05:44:34 PM There are 1 atoms in the mask :3  ...\n",
      "2018-04-27 05:44:34 PM There are 1 atoms in the mask :2@C1  ...\n",
      "2018-04-27 05:44:34 PM There are 1 atoms in the mask :2@C3  ...\n",
      "2018-04-27 05:44:34 PM Writing prod.002.in\n",
      "2018-04-27 05:44:34 PM Running MD at ./OA-G3-2/AMBER/APR/windows/a002\n",
      "2018-04-27 05:44:34 PM Exec line: pmemd.cuda -O -p solvate.prmtop -ref solvate.rst7 -c prod.001.rst7 -i prod.002.in -o prod.002.out -r prod.002.rst7 -x prod.002.nc -inf prod.002.mdinfo -e prod.002.mden\n"
     ]
    },
    {
     "name": "stdout",
     "output_type": "stream",
     "text": [
      "Simulating ./OA-G3-2\n",
      "Window a000 has `prod.002.nc`...\n",
      "Window a001 has `prod.002.nc`...\n",
      "Re-running ./OA-G3-2/AMBER/APR/windows/a002/prod.002.nc...\n"
     ]
    },
    {
     "name": "stderr",
     "output_type": "stream",
     "text": [
      "2018-04-27 05:47:13 PM MD completed ...\n",
      "2018-04-27 05:47:13 PM Writing prod.002.in\n",
      "2018-04-27 05:47:13 PM Running MD at ./OA-G3-2/AMBER/APR/windows/a003\n",
      "2018-04-27 05:47:13 PM Exec line: pmemd.cuda -O -p solvate.prmtop -ref solvate.rst7 -c prod.001.rst7 -i prod.002.in -o prod.002.out -r prod.002.rst7 -x prod.002.nc -inf prod.002.mdinfo -e prod.002.mden\n"
     ]
    },
    {
     "name": "stdout",
     "output_type": "stream",
     "text": [
      "Re-running ./OA-G3-2/AMBER/APR/windows/a003/prod.002.nc...\n"
     ]
    },
    {
     "name": "stderr",
     "output_type": "stream",
     "text": [
      "2018-04-27 05:49:53 PM MD completed ...\n",
      "2018-04-27 05:49:53 PM Writing prod.002.in\n",
      "2018-04-27 05:49:53 PM Running MD at ./OA-G3-2/AMBER/APR/windows/a004\n",
      "2018-04-27 05:49:53 PM Exec line: pmemd.cuda -O -p solvate.prmtop -ref solvate.rst7 -c prod.001.rst7 -i prod.002.in -o prod.002.out -r prod.002.rst7 -x prod.002.nc -inf prod.002.mdinfo -e prod.002.mden\n"
     ]
    },
    {
     "name": "stdout",
     "output_type": "stream",
     "text": [
      "Re-running ./OA-G3-2/AMBER/APR/windows/a004/prod.002.nc...\n"
     ]
    },
    {
     "name": "stderr",
     "output_type": "stream",
     "text": [
      "2018-04-27 05:52:31 PM MD completed ...\n",
      "2018-04-27 05:52:31 PM Writing prod.002.in\n",
      "2018-04-27 05:52:31 PM Running MD at ./OA-G3-2/AMBER/APR/windows/a005\n",
      "2018-04-27 05:52:31 PM Exec line: pmemd.cuda -O -p solvate.prmtop -ref solvate.rst7 -c prod.001.rst7 -i prod.002.in -o prod.002.out -r prod.002.rst7 -x prod.002.nc -inf prod.002.mdinfo -e prod.002.mden\n"
     ]
    },
    {
     "name": "stdout",
     "output_type": "stream",
     "text": [
      "Re-running ./OA-G3-2/AMBER/APR/windows/a005/prod.002.nc...\n"
     ]
    },
    {
     "name": "stderr",
     "output_type": "stream",
     "text": [
      "2018-04-27 05:55:11 PM MD completed ...\n",
      "2018-04-27 05:55:11 PM Writing prod.002.in\n",
      "2018-04-27 05:55:11 PM Running MD at ./OA-G3-2/AMBER/APR/windows/a006\n",
      "2018-04-27 05:55:11 PM Exec line: pmemd.cuda -O -p solvate.prmtop -ref solvate.rst7 -c prod.001.rst7 -i prod.002.in -o prod.002.out -r prod.002.rst7 -x prod.002.nc -inf prod.002.mdinfo -e prod.002.mden\n"
     ]
    },
    {
     "name": "stdout",
     "output_type": "stream",
     "text": [
      "Re-running ./OA-G3-2/AMBER/APR/windows/a006/prod.002.nc...\n"
     ]
    },
    {
     "name": "stderr",
     "output_type": "stream",
     "text": [
      "2018-04-27 05:57:52 PM MD completed ...\n",
      "2018-04-27 05:57:52 PM Writing prod.002.in\n",
      "2018-04-27 05:57:52 PM Running MD at ./OA-G3-2/AMBER/APR/windows/a007\n",
      "2018-04-27 05:57:52 PM Exec line: pmemd.cuda -O -p solvate.prmtop -ref solvate.rst7 -c prod.001.rst7 -i prod.002.in -o prod.002.out -r prod.002.rst7 -x prod.002.nc -inf prod.002.mdinfo -e prod.002.mden\n"
     ]
    },
    {
     "name": "stdout",
     "output_type": "stream",
     "text": [
      "Re-running ./OA-G3-2/AMBER/APR/windows/a007/prod.002.nc...\n"
     ]
    },
    {
     "name": "stderr",
     "output_type": "stream",
     "text": [
      "2018-04-27 06:00:28 PM MD completed ...\n",
      "2018-04-27 06:00:28 PM Writing prod.002.in\n",
      "2018-04-27 06:00:28 PM Running MD at ./OA-G3-2/AMBER/APR/windows/a008\n",
      "2018-04-27 06:00:28 PM Exec line: pmemd.cuda -O -p solvate.prmtop -ref solvate.rst7 -c prod.001.rst7 -i prod.002.in -o prod.002.out -r prod.002.rst7 -x prod.002.nc -inf prod.002.mdinfo -e prod.002.mden\n"
     ]
    },
    {
     "name": "stdout",
     "output_type": "stream",
     "text": [
      "Re-running ./OA-G3-2/AMBER/APR/windows/a008/prod.002.nc...\n"
     ]
    },
    {
     "name": "stderr",
     "output_type": "stream",
     "text": [
      "2018-04-27 06:03:07 PM MD completed ...\n",
      "2018-04-27 06:03:07 PM Writing prod.002.in\n",
      "2018-04-27 06:03:07 PM Running MD at ./OA-G3-2/AMBER/APR/windows/a009\n",
      "2018-04-27 06:03:07 PM Exec line: pmemd.cuda -O -p solvate.prmtop -ref solvate.rst7 -c prod.001.rst7 -i prod.002.in -o prod.002.out -r prod.002.rst7 -x prod.002.nc -inf prod.002.mdinfo -e prod.002.mden\n"
     ]
    },
    {
     "name": "stdout",
     "output_type": "stream",
     "text": [
      "Re-running ./OA-G3-2/AMBER/APR/windows/a009/prod.002.nc...\n"
     ]
    },
    {
     "name": "stderr",
     "output_type": "stream",
     "text": [
      "2018-04-27 06:05:46 PM MD completed ...\n",
      "2018-04-27 06:05:46 PM Writing prod.002.in\n",
      "2018-04-27 06:05:46 PM Running MD at ./OA-G3-2/AMBER/APR/windows/a010\n",
      "2018-04-27 06:05:46 PM Exec line: pmemd.cuda -O -p solvate.prmtop -ref solvate.rst7 -c prod.001.rst7 -i prod.002.in -o prod.002.out -r prod.002.rst7 -x prod.002.nc -inf prod.002.mdinfo -e prod.002.mden\n"
     ]
    },
    {
     "name": "stdout",
     "output_type": "stream",
     "text": [
      "Re-running ./OA-G3-2/AMBER/APR/windows/a010/prod.002.nc...\n"
     ]
    },
    {
     "name": "stderr",
     "output_type": "stream",
     "text": [
      "2018-04-27 06:08:26 PM MD completed ...\n",
      "2018-04-27 06:08:26 PM Writing prod.002.in\n",
      "2018-04-27 06:08:26 PM Running MD at ./OA-G3-2/AMBER/APR/windows/a011\n",
      "2018-04-27 06:08:26 PM Exec line: pmemd.cuda -O -p solvate.prmtop -ref solvate.rst7 -c prod.001.rst7 -i prod.002.in -o prod.002.out -r prod.002.rst7 -x prod.002.nc -inf prod.002.mdinfo -e prod.002.mden\n"
     ]
    },
    {
     "name": "stdout",
     "output_type": "stream",
     "text": [
      "Re-running ./OA-G3-2/AMBER/APR/windows/a011/prod.002.nc...\n"
     ]
    },
    {
     "name": "stderr",
     "output_type": "stream",
     "text": [
      "2018-04-27 06:11:04 PM MD completed ...\n",
      "2018-04-27 06:11:04 PM Writing prod.002.in\n",
      "2018-04-27 06:11:04 PM Running MD at ./OA-G3-2/AMBER/APR/windows/a012\n",
      "2018-04-27 06:11:04 PM Exec line: pmemd.cuda -O -p solvate.prmtop -ref solvate.rst7 -c prod.001.rst7 -i prod.002.in -o prod.002.out -r prod.002.rst7 -x prod.002.nc -inf prod.002.mdinfo -e prod.002.mden\n"
     ]
    },
    {
     "name": "stdout",
     "output_type": "stream",
     "text": [
      "Re-running ./OA-G3-2/AMBER/APR/windows/a012/prod.002.nc...\n"
     ]
    },
    {
     "name": "stderr",
     "output_type": "stream",
     "text": [
      "2018-04-27 06:13:45 PM MD completed ...\n",
      "2018-04-27 06:13:45 PM Writing prod.002.in\n",
      "2018-04-27 06:13:45 PM Running MD at ./OA-G3-2/AMBER/APR/windows/a013\n",
      "2018-04-27 06:13:45 PM Exec line: pmemd.cuda -O -p solvate.prmtop -ref solvate.rst7 -c prod.001.rst7 -i prod.002.in -o prod.002.out -r prod.002.rst7 -x prod.002.nc -inf prod.002.mdinfo -e prod.002.mden\n"
     ]
    },
    {
     "name": "stdout",
     "output_type": "stream",
     "text": [
      "Re-running ./OA-G3-2/AMBER/APR/windows/a013/prod.002.nc...\n"
     ]
    },
    {
     "name": "stderr",
     "output_type": "stream",
     "text": [
      "2018-04-27 06:16:24 PM MD completed ...\n",
      "2018-04-27 06:16:24 PM Writing prod.002.in\n",
      "2018-04-27 06:16:24 PM Running MD at ./OA-G3-2/AMBER/APR/windows/p000\n",
      "2018-04-27 06:16:24 PM Exec line: pmemd.cuda -O -p solvate.prmtop -ref solvate.rst7 -c prod.001.rst7 -i prod.002.in -o prod.002.out -r prod.002.rst7 -x prod.002.nc -inf prod.002.mdinfo -e prod.002.mden\n"
     ]
    },
    {
     "name": "stdout",
     "output_type": "stream",
     "text": [
      "Re-running ./OA-G3-2/AMBER/APR/windows/p000/prod.002.nc...\n"
     ]
    },
    {
     "name": "stderr",
     "output_type": "stream",
     "text": [
      "2018-04-27 06:19:03 PM MD completed ...\n",
      "2018-04-27 06:19:03 PM Writing prod.002.in\n",
      "2018-04-27 06:19:03 PM Running MD at ./OA-G3-2/AMBER/APR/windows/p003\n",
      "2018-04-27 06:19:03 PM Exec line: pmemd.cuda -O -p solvate.prmtop -ref solvate.rst7 -c prod.001.rst7 -i prod.002.in -o prod.002.out -r prod.002.rst7 -x prod.002.nc -inf prod.002.mdinfo -e prod.002.mden\n"
     ]
    },
    {
     "name": "stdout",
     "output_type": "stream",
     "text": [
      "Window p001 has `prod.002.nc`...\n",
      "Window p002 has `prod.002.nc`...\n",
      "Re-running ./OA-G3-2/AMBER/APR/windows/p003/prod.002.nc...\n"
     ]
    },
    {
     "name": "stderr",
     "output_type": "stream",
     "text": [
      "2018-04-27 06:21:39 PM MD completed ...\n",
      "2018-04-27 06:21:39 PM Writing prod.002.in\n",
      "2018-04-27 06:21:39 PM Running MD at ./OA-G3-2/AMBER/APR/windows/p004\n",
      "2018-04-27 06:21:39 PM Exec line: pmemd.cuda -O -p solvate.prmtop -ref solvate.rst7 -c prod.001.rst7 -i prod.002.in -o prod.002.out -r prod.002.rst7 -x prod.002.nc -inf prod.002.mdinfo -e prod.002.mden\n"
     ]
    },
    {
     "name": "stdout",
     "output_type": "stream",
     "text": [
      "Re-running ./OA-G3-2/AMBER/APR/windows/p004/prod.002.nc...\n"
     ]
    },
    {
     "name": "stderr",
     "output_type": "stream",
     "text": [
      "2018-04-27 06:24:17 PM MD completed ...\n",
      "2018-04-27 06:24:17 PM Writing prod.002.in\n",
      "2018-04-27 06:24:17 PM Running MD at ./OA-G3-2/AMBER/APR/windows/p017\n",
      "2018-04-27 06:24:17 PM Exec line: pmemd.cuda -O -p solvate.prmtop -ref solvate.rst7 -c prod.001.rst7 -i prod.002.in -o prod.002.out -r prod.002.rst7 -x prod.002.nc -inf prod.002.mdinfo -e prod.002.mden\n"
     ]
    },
    {
     "name": "stdout",
     "output_type": "stream",
     "text": [
      "Window p005 has `prod.002.nc`...\n",
      "Window p006 has `prod.002.nc`...\n",
      "Window p007 has `prod.002.nc`...\n",
      "Window p008 has `prod.002.nc`...\n",
      "Window p009 has `prod.002.nc`...\n",
      "Window p010 has `prod.002.nc`...\n",
      "Window p011 has `prod.002.nc`...\n",
      "Window p012 has `prod.002.nc`...\n",
      "Window p013 has `prod.002.nc`...\n",
      "Window p014 has `prod.002.nc`...\n",
      "Window p015 has `prod.002.nc`...\n",
      "Window p016 has `prod.002.nc`...\n",
      "Re-running ./OA-G3-2/AMBER/APR/windows/p017/prod.002.nc...\n"
     ]
    },
    {
     "name": "stderr",
     "output_type": "stream",
     "text": [
      "2018-04-27 06:26:57 PM MD completed ...\n",
      "2018-04-27 06:26:57 PM Writing prod.002.in\n",
      "2018-04-27 06:26:57 PM Running MD at ./OA-G3-2/AMBER/APR/windows/p018\n",
      "2018-04-27 06:26:57 PM Exec line: pmemd.cuda -O -p solvate.prmtop -ref solvate.rst7 -c prod.001.rst7 -i prod.002.in -o prod.002.out -r prod.002.rst7 -x prod.002.nc -inf prod.002.mdinfo -e prod.002.mden\n"
     ]
    },
    {
     "name": "stdout",
     "output_type": "stream",
     "text": [
      "Re-running ./OA-G3-2/AMBER/APR/windows/p018/prod.002.nc...\n"
     ]
    },
    {
     "name": "stderr",
     "output_type": "stream",
     "text": [
      "2018-04-27 06:29:36 PM MD completed ...\n",
      "2018-04-27 06:29:36 PM Writing prod.002.in\n",
      "2018-04-27 06:29:36 PM Running MD at ./OA-G3-2/AMBER/APR/windows/p019\n",
      "2018-04-27 06:29:36 PM Exec line: pmemd.cuda -O -p solvate.prmtop -ref solvate.rst7 -c prod.001.rst7 -i prod.002.in -o prod.002.out -r prod.002.rst7 -x prod.002.nc -inf prod.002.mdinfo -e prod.002.mden\n"
     ]
    },
    {
     "name": "stdout",
     "output_type": "stream",
     "text": [
      "Re-running ./OA-G3-2/AMBER/APR/windows/p019/prod.002.nc...\n"
     ]
    },
    {
     "name": "stderr",
     "output_type": "stream",
     "text": [
      "2018-04-27 06:32:17 PM MD completed ...\n",
      "2018-04-27 06:32:17 PM Writing prod.002.in\n",
      "2018-04-27 06:32:17 PM Running MD at ./OA-G3-2/AMBER/APR/windows/p020\n",
      "2018-04-27 06:32:17 PM Exec line: pmemd.cuda -O -p solvate.prmtop -ref solvate.rst7 -c prod.001.rst7 -i prod.002.in -o prod.002.out -r prod.002.rst7 -x prod.002.nc -inf prod.002.mdinfo -e prod.002.mden\n"
     ]
    },
    {
     "name": "stdout",
     "output_type": "stream",
     "text": [
      "Re-running ./OA-G3-2/AMBER/APR/windows/p020/prod.002.nc...\n"
     ]
    },
    {
     "name": "stderr",
     "output_type": "stream",
     "text": [
      "2018-04-27 06:34:57 PM MD completed ...\n",
      "2018-04-27 06:34:57 PM Writing prod.002.in\n",
      "2018-04-27 06:34:57 PM Running MD at ./OA-G3-2/AMBER/APR/windows/p021\n",
      "2018-04-27 06:34:57 PM Exec line: pmemd.cuda -O -p solvate.prmtop -ref solvate.rst7 -c prod.001.rst7 -i prod.002.in -o prod.002.out -r prod.002.rst7 -x prod.002.nc -inf prod.002.mdinfo -e prod.002.mden\n"
     ]
    },
    {
     "name": "stdout",
     "output_type": "stream",
     "text": [
      "Re-running ./OA-G3-2/AMBER/APR/windows/p021/prod.002.nc...\n"
     ]
    },
    {
     "name": "stderr",
     "output_type": "stream",
     "text": [
      "2018-04-27 06:37:34 PM MD completed ...\n",
      "2018-04-27 06:37:34 PM Writing prod.002.in\n",
      "2018-04-27 06:37:34 PM Running MD at ./OA-G3-2/AMBER/APR/windows/p022\n",
      "2018-04-27 06:37:34 PM Exec line: pmemd.cuda -O -p solvate.prmtop -ref solvate.rst7 -c prod.001.rst7 -i prod.002.in -o prod.002.out -r prod.002.rst7 -x prod.002.nc -inf prod.002.mdinfo -e prod.002.mden\n"
     ]
    },
    {
     "name": "stdout",
     "output_type": "stream",
     "text": [
      "Re-running ./OA-G3-2/AMBER/APR/windows/p022/prod.002.nc...\n"
     ]
    },
    {
     "name": "stderr",
     "output_type": "stream",
     "text": [
      "2018-04-27 06:40:15 PM MD completed ...\n",
      "2018-04-27 06:40:15 PM Writing prod.002.in\n",
      "2018-04-27 06:40:15 PM Running MD at ./OA-G3-2/AMBER/APR/windows/p023\n",
      "2018-04-27 06:40:15 PM Exec line: pmemd.cuda -O -p solvate.prmtop -ref solvate.rst7 -c prod.001.rst7 -i prod.002.in -o prod.002.out -r prod.002.rst7 -x prod.002.nc -inf prod.002.mdinfo -e prod.002.mden\n"
     ]
    },
    {
     "name": "stdout",
     "output_type": "stream",
     "text": [
      "Re-running ./OA-G3-2/AMBER/APR/windows/p023/prod.002.nc...\n"
     ]
    },
    {
     "name": "stderr",
     "output_type": "stream",
     "text": [
      "2018-04-27 06:42:56 PM MD completed ...\n",
      "2018-04-27 06:42:56 PM Writing prod.002.in\n",
      "2018-04-27 06:42:56 PM Running MD at ./OA-G3-2/AMBER/APR/windows/p024\n",
      "2018-04-27 06:42:56 PM Exec line: pmemd.cuda -O -p solvate.prmtop -ref solvate.rst7 -c prod.001.rst7 -i prod.002.in -o prod.002.out -r prod.002.rst7 -x prod.002.nc -inf prod.002.mdinfo -e prod.002.mden\n"
     ]
    },
    {
     "name": "stdout",
     "output_type": "stream",
     "text": [
      "Re-running ./OA-G3-2/AMBER/APR/windows/p024/prod.002.nc...\n"
     ]
    },
    {
     "name": "stderr",
     "output_type": "stream",
     "text": [
      "2018-04-27 06:45:34 PM MD completed ...\n",
      "2018-04-27 06:45:34 PM Writing prod.002.in\n",
      "2018-04-27 06:45:34 PM Running MD at ./OA-G3-2/AMBER/APR/windows/p025\n",
      "2018-04-27 06:45:34 PM Exec line: pmemd.cuda -O -p solvate.prmtop -ref solvate.rst7 -c prod.001.rst7 -i prod.002.in -o prod.002.out -r prod.002.rst7 -x prod.002.nc -inf prod.002.mdinfo -e prod.002.mden\n"
     ]
    },
    {
     "name": "stdout",
     "output_type": "stream",
     "text": [
      "Re-running ./OA-G3-2/AMBER/APR/windows/p025/prod.002.nc...\n"
     ]
    },
    {
     "name": "stderr",
     "output_type": "stream",
     "text": [
      "2018-04-27 06:48:16 PM MD completed ...\n",
      "2018-04-27 06:48:16 PM Writing prod.002.in\n",
      "2018-04-27 06:48:16 PM Running MD at ./OA-G3-2/AMBER/APR/windows/p026\n",
      "2018-04-27 06:48:16 PM Exec line: pmemd.cuda -O -p solvate.prmtop -ref solvate.rst7 -c prod.001.rst7 -i prod.002.in -o prod.002.out -r prod.002.rst7 -x prod.002.nc -inf prod.002.mdinfo -e prod.002.mden\n"
     ]
    },
    {
     "name": "stdout",
     "output_type": "stream",
     "text": [
      "Re-running ./OA-G3-2/AMBER/APR/windows/p026/prod.002.nc...\n"
     ]
    },
    {
     "name": "stderr",
     "output_type": "stream",
     "text": [
      "2018-04-27 06:50:56 PM MD completed ...\n",
      "2018-04-27 06:50:56 PM Writing prod.002.in\n",
      "2018-04-27 06:50:56 PM Running MD at ./OA-G3-2/AMBER/APR/windows/p027\n",
      "2018-04-27 06:50:56 PM Exec line: pmemd.cuda -O -p solvate.prmtop -ref solvate.rst7 -c prod.001.rst7 -i prod.002.in -o prod.002.out -r prod.002.rst7 -x prod.002.nc -inf prod.002.mdinfo -e prod.002.mden\n"
     ]
    },
    {
     "name": "stdout",
     "output_type": "stream",
     "text": [
      "Re-running ./OA-G3-2/AMBER/APR/windows/p027/prod.002.nc...\n"
     ]
    },
    {
     "name": "stderr",
     "output_type": "stream",
     "text": [
      "2018-04-27 06:53:35 PM MD completed ...\n",
      "2018-04-27 06:53:35 PM Writing prod.002.in\n",
      "2018-04-27 06:53:35 PM Running MD at ./OA-G3-2/AMBER/APR/windows/p028\n",
      "2018-04-27 06:53:35 PM Exec line: pmemd.cuda -O -p solvate.prmtop -ref solvate.rst7 -c prod.001.rst7 -i prod.002.in -o prod.002.out -r prod.002.rst7 -x prod.002.nc -inf prod.002.mdinfo -e prod.002.mden\n"
     ]
    },
    {
     "name": "stdout",
     "output_type": "stream",
     "text": [
      "Re-running ./OA-G3-2/AMBER/APR/windows/p028/prod.002.nc...\n"
     ]
    },
    {
     "name": "stderr",
     "output_type": "stream",
     "text": [
      "2018-04-27 06:56:15 PM MD completed ...\n",
      "2018-04-27 06:56:15 PM Writing prod.002.in\n",
      "2018-04-27 06:56:15 PM Running MD at ./OA-G3-2/AMBER/APR/windows/p029\n",
      "2018-04-27 06:56:15 PM Exec line: pmemd.cuda -O -p solvate.prmtop -ref solvate.rst7 -c prod.001.rst7 -i prod.002.in -o prod.002.out -r prod.002.rst7 -x prod.002.nc -inf prod.002.mdinfo -e prod.002.mden\n"
     ]
    },
    {
     "name": "stdout",
     "output_type": "stream",
     "text": [
      "Re-running ./OA-G3-2/AMBER/APR/windows/p029/prod.002.nc...\n"
     ]
    },
    {
     "name": "stderr",
     "output_type": "stream",
     "text": [
      "2018-04-27 06:58:54 PM MD completed ...\n",
      "2018-04-27 06:58:54 PM Writing prod.002.in\n",
      "2018-04-27 06:58:54 PM Running MD at ./OA-G3-2/AMBER/APR/windows/p030\n",
      "2018-04-27 06:58:54 PM Exec line: pmemd.cuda -O -p solvate.prmtop -ref solvate.rst7 -c prod.001.rst7 -i prod.002.in -o prod.002.out -r prod.002.rst7 -x prod.002.nc -inf prod.002.mdinfo -e prod.002.mden\n"
     ]
    },
    {
     "name": "stdout",
     "output_type": "stream",
     "text": [
      "Re-running ./OA-G3-2/AMBER/APR/windows/p030/prod.002.nc...\n"
     ]
    },
    {
     "name": "stderr",
     "output_type": "stream",
     "text": [
      "2018-04-27 07:01:34 PM MD completed ...\n",
      "2018-04-27 07:01:34 PM Writing prod.002.in\n",
      "2018-04-27 07:01:34 PM Running MD at ./OA-G3-2/AMBER/APR/windows/p031\n",
      "2018-04-27 07:01:34 PM Exec line: pmemd.cuda -O -p solvate.prmtop -ref solvate.rst7 -c prod.001.rst7 -i prod.002.in -o prod.002.out -r prod.002.rst7 -x prod.002.nc -inf prod.002.mdinfo -e prod.002.mden\n"
     ]
    },
    {
     "name": "stdout",
     "output_type": "stream",
     "text": [
      "Re-running ./OA-G3-2/AMBER/APR/windows/p031/prod.002.nc...\n"
     ]
    },
    {
     "name": "stderr",
     "output_type": "stream",
     "text": [
      "2018-04-27 07:04:13 PM MD completed ...\n",
      "2018-04-27 07:04:13 PM Writing prod.002.in\n",
      "2018-04-27 07:04:13 PM Running MD at ./OA-G3-2/AMBER/APR/windows/p034\n",
      "2018-04-27 07:04:13 PM Exec line: pmemd.cuda -O -p solvate.prmtop -ref solvate.rst7 -c prod.001.rst7 -i prod.002.in -o prod.002.out -r prod.002.rst7 -x prod.002.nc -inf prod.002.mdinfo -e prod.002.mden\n"
     ]
    },
    {
     "name": "stdout",
     "output_type": "stream",
     "text": [
      "Window p032 has `prod.002.nc`...\n",
      "Window p033 has `prod.002.nc`...\n",
      "Re-running ./OA-G3-2/AMBER/APR/windows/p034/prod.002.nc...\n"
     ]
    },
    {
     "name": "stderr",
     "output_type": "stream",
     "text": [
      "2018-04-27 07:06:53 PM MD completed ...\n",
      "2018-04-27 07:06:53 PM Writing prod.002.in\n",
      "2018-04-27 07:06:53 PM Running MD at ./OA-G3-2/AMBER/APR/windows/p035\n",
      "2018-04-27 07:06:53 PM Exec line: pmemd.cuda -O -p solvate.prmtop -ref solvate.rst7 -c prod.001.rst7 -i prod.002.in -o prod.002.out -r prod.002.rst7 -x prod.002.nc -inf prod.002.mdinfo -e prod.002.mden\n"
     ]
    },
    {
     "name": "stdout",
     "output_type": "stream",
     "text": [
      "Re-running ./OA-G3-2/AMBER/APR/windows/p035/prod.002.nc...\n"
     ]
    },
    {
     "name": "stderr",
     "output_type": "stream",
     "text": [
      "2018-04-27 07:09:32 PM MD completed ...\n",
      "2018-04-27 07:09:32 PM Writing prod.002.in\n",
      "2018-04-27 07:09:32 PM Running MD at ./OA-G3-2/AMBER/APR/windows/p036\n",
      "2018-04-27 07:09:32 PM Exec line: pmemd.cuda -O -p solvate.prmtop -ref solvate.rst7 -c prod.001.rst7 -i prod.002.in -o prod.002.out -r prod.002.rst7 -x prod.002.nc -inf prod.002.mdinfo -e prod.002.mden\n"
     ]
    },
    {
     "name": "stdout",
     "output_type": "stream",
     "text": [
      "Re-running ./OA-G3-2/AMBER/APR/windows/p036/prod.002.nc...\n"
     ]
    },
    {
     "name": "stderr",
     "output_type": "stream",
     "text": [
      "2018-04-27 07:12:12 PM MD completed ...\n",
      "2018-04-27 07:12:12 PM Writing prod.002.in\n",
      "2018-04-27 07:12:12 PM Running MD at ./OA-G3-2/AMBER/APR/windows/p037\n",
      "2018-04-27 07:12:12 PM Exec line: pmemd.cuda -O -p solvate.prmtop -ref solvate.rst7 -c prod.001.rst7 -i prod.002.in -o prod.002.out -r prod.002.rst7 -x prod.002.nc -inf prod.002.mdinfo -e prod.002.mden\n"
     ]
    },
    {
     "name": "stdout",
     "output_type": "stream",
     "text": [
      "Re-running ./OA-G3-2/AMBER/APR/windows/p037/prod.002.nc...\n"
     ]
    },
    {
     "name": "stderr",
     "output_type": "stream",
     "text": [
      "2018-04-27 07:14:53 PM MD completed ...\n",
      "2018-04-27 07:14:53 PM Writing prod.002.in\n",
      "2018-04-27 07:14:53 PM Running MD at ./OA-G3-2/AMBER/APR/windows/p038\n",
      "2018-04-27 07:14:53 PM Exec line: pmemd.cuda -O -p solvate.prmtop -ref solvate.rst7 -c prod.001.rst7 -i prod.002.in -o prod.002.out -r prod.002.rst7 -x prod.002.nc -inf prod.002.mdinfo -e prod.002.mden\n"
     ]
    },
    {
     "name": "stdout",
     "output_type": "stream",
     "text": [
      "Re-running ./OA-G3-2/AMBER/APR/windows/p038/prod.002.nc...\n"
     ]
    },
    {
     "name": "stderr",
     "output_type": "stream",
     "text": [
      "2018-04-27 07:17:33 PM MD completed ...\n",
      "2018-04-27 07:17:33 PM Writing prod.002.in\n",
      "2018-04-27 07:17:33 PM Running MD at ./OA-G3-2/AMBER/APR/windows/p039\n",
      "2018-04-27 07:17:33 PM Exec line: pmemd.cuda -O -p solvate.prmtop -ref solvate.rst7 -c prod.001.rst7 -i prod.002.in -o prod.002.out -r prod.002.rst7 -x prod.002.nc -inf prod.002.mdinfo -e prod.002.mden\n"
     ]
    },
    {
     "name": "stdout",
     "output_type": "stream",
     "text": [
      "Re-running ./OA-G3-2/AMBER/APR/windows/p039/prod.002.nc...\n"
     ]
    },
    {
     "name": "stderr",
     "output_type": "stream",
     "text": [
      "2018-04-27 07:20:11 PM MD completed ...\n",
      "2018-04-27 07:20:11 PM Writing prod.002.in\n",
      "2018-04-27 07:20:11 PM Running MD at ./OA-G3-2/AMBER/APR/windows/p040\n",
      "2018-04-27 07:20:11 PM Exec line: pmemd.cuda -O -p solvate.prmtop -ref solvate.rst7 -c prod.001.rst7 -i prod.002.in -o prod.002.out -r prod.002.rst7 -x prod.002.nc -inf prod.002.mdinfo -e prod.002.mden\n"
     ]
    },
    {
     "name": "stdout",
     "output_type": "stream",
     "text": [
      "Re-running ./OA-G3-2/AMBER/APR/windows/p040/prod.002.nc...\n"
     ]
    },
    {
     "name": "stderr",
     "output_type": "stream",
     "text": [
      "2018-04-27 07:22:51 PM MD completed ...\n",
      "2018-04-27 07:22:51 PM Writing prod.002.in\n",
      "2018-04-27 07:22:51 PM Running MD at ./OA-G3-2/AMBER/APR/windows/p041\n",
      "2018-04-27 07:22:51 PM Exec line: pmemd.cuda -O -p solvate.prmtop -ref solvate.rst7 -c prod.001.rst7 -i prod.002.in -o prod.002.out -r prod.002.rst7 -x prod.002.nc -inf prod.002.mdinfo -e prod.002.mden\n"
     ]
    },
    {
     "name": "stdout",
     "output_type": "stream",
     "text": [
      "Re-running ./OA-G3-2/AMBER/APR/windows/p041/prod.002.nc...\n"
     ]
    },
    {
     "name": "stderr",
     "output_type": "stream",
     "text": [
      "2018-04-27 07:25:33 PM MD completed ...\n",
      "2018-04-27 07:25:33 PM Writing prod.002.in\n",
      "2018-04-27 07:25:33 PM Running MD at ./OA-G3-2/AMBER/APR/windows/p042\n",
      "2018-04-27 07:25:33 PM Exec line: pmemd.cuda -O -p solvate.prmtop -ref solvate.rst7 -c prod.001.rst7 -i prod.002.in -o prod.002.out -r prod.002.rst7 -x prod.002.nc -inf prod.002.mdinfo -e prod.002.mden\n"
     ]
    },
    {
     "name": "stdout",
     "output_type": "stream",
     "text": [
      "Re-running ./OA-G3-2/AMBER/APR/windows/p042/prod.002.nc...\n"
     ]
    },
    {
     "name": "stderr",
     "output_type": "stream",
     "text": [
      "2018-04-27 07:28:09 PM MD completed ...\n",
      "2018-04-27 07:28:09 PM Writing prod.002.in\n",
      "2018-04-27 07:28:09 PM Running MD at ./OA-G3-2/AMBER/APR/windows/p043\n",
      "2018-04-27 07:28:09 PM Exec line: pmemd.cuda -O -p solvate.prmtop -ref solvate.rst7 -c prod.001.rst7 -i prod.002.in -o prod.002.out -r prod.002.rst7 -x prod.002.nc -inf prod.002.mdinfo -e prod.002.mden\n"
     ]
    },
    {
     "name": "stdout",
     "output_type": "stream",
     "text": [
      "Re-running ./OA-G3-2/AMBER/APR/windows/p043/prod.002.nc...\n"
     ]
    },
    {
     "name": "stderr",
     "output_type": "stream",
     "text": [
      "2018-04-27 07:30:51 PM MD completed ...\n",
      "2018-04-27 07:30:51 PM Writing prod.002.in\n",
      "2018-04-27 07:30:51 PM Running MD at ./OA-G3-2/AMBER/APR/windows/p044\n",
      "2018-04-27 07:30:51 PM Exec line: pmemd.cuda -O -p solvate.prmtop -ref solvate.rst7 -c prod.001.rst7 -i prod.002.in -o prod.002.out -r prod.002.rst7 -x prod.002.nc -inf prod.002.mdinfo -e prod.002.mden\n"
     ]
    },
    {
     "name": "stdout",
     "output_type": "stream",
     "text": [
      "Re-running ./OA-G3-2/AMBER/APR/windows/p044/prod.002.nc...\n"
     ]
    },
    {
     "name": "stderr",
     "output_type": "stream",
     "text": [
      "2018-04-27 07:33:31 PM MD completed ...\n",
      "2018-04-27 07:33:31 PM Writing prod.002.in\n",
      "2018-04-27 07:33:31 PM Running MD at ./OA-G3-2/AMBER/APR/windows/p045\n",
      "2018-04-27 07:33:31 PM Exec line: pmemd.cuda -O -p solvate.prmtop -ref solvate.rst7 -c prod.001.rst7 -i prod.002.in -o prod.002.out -r prod.002.rst7 -x prod.002.nc -inf prod.002.mdinfo -e prod.002.mden\n"
     ]
    },
    {
     "name": "stdout",
     "output_type": "stream",
     "text": [
      "Re-running ./OA-G3-2/AMBER/APR/windows/p045/prod.002.nc...\n"
     ]
    },
    {
     "name": "stderr",
     "output_type": "stream",
     "text": [
      "2018-04-27 07:36:11 PM MD completed ...\n"
     ]
    },
    {
     "name": "stdout",
     "output_type": "stream",
     "text": [
      "Set pull offset (7.46 A)\n"
     ]
    },
    {
     "name": "stderr",
     "output_type": "stream",
     "text": [
      "2018-04-27 07:36:11 PM Calculating attach targets and force constants...\n",
      "2018-04-27 07:36:11 PM Attach, Method #3\n",
      "2018-04-27 07:36:11 PM Calculating pull targets and force constants...\n",
      "2018-04-27 07:36:11 PM Pull, Method #1\n",
      "2018-04-27 07:36:11 PM Calculating release targets and force constants...\n",
      "2018-04-27 07:36:11 PM No restraint info set for the release phase! Skipping...\n",
      "2018-04-27 07:36:11 PM Number of attach windows = 15\n",
      "2018-04-27 07:36:11 PM Number of pull windows = 46\n",
      "2018-04-27 07:36:11 PM This restraint will be skipped in the release phase\n",
      "2018-04-27 07:36:11 PM Assigning atom indices...\n",
      "2018-04-27 07:36:11 PM There are 1 atoms in the mask :3  ...\n",
      "2018-04-27 07:36:11 PM There are 1 atoms in the mask :2@C1  ...\n",
      "2018-04-27 07:36:11 PM Calculating attach targets and force constants...\n",
      "2018-04-27 07:36:11 PM Attach, Method #3\n",
      "2018-04-27 07:36:11 PM Calculating pull targets and force constants...\n",
      "2018-04-27 07:36:11 PM Pull, Method #1\n",
      "2018-04-27 07:36:11 PM Calculating release targets and force constants...\n",
      "2018-04-27 07:36:11 PM No restraint info set for the release phase! Skipping...\n",
      "2018-04-27 07:36:11 PM Number of attach windows = 15\n",
      "2018-04-27 07:36:11 PM Number of pull windows = 46\n",
      "2018-04-27 07:36:11 PM This restraint will be skipped in the release phase\n",
      "2018-04-27 07:36:11 PM Assigning atom indices...\n",
      "2018-04-27 07:36:11 PM There are 1 atoms in the mask :4  ...\n",
      "2018-04-27 07:36:11 PM There are 1 atoms in the mask :3  ...\n",
      "2018-04-27 07:36:11 PM There are 1 atoms in the mask :2@C1  ...\n",
      "2018-04-27 07:36:11 PM Calculating attach targets and force constants...\n",
      "2018-04-27 07:36:11 PM Attach, Method #3\n",
      "2018-04-27 07:36:11 PM Calculating pull targets and force constants...\n",
      "2018-04-27 07:36:11 PM Pull, Method #1\n",
      "2018-04-27 07:36:11 PM Calculating release targets and force constants...\n",
      "2018-04-27 07:36:11 PM No restraint info set for the release phase! Skipping...\n",
      "2018-04-27 07:36:11 PM Number of attach windows = 15\n",
      "2018-04-27 07:36:11 PM Number of pull windows = 46\n",
      "2018-04-27 07:36:11 PM This restraint will be skipped in the release phase\n",
      "2018-04-27 07:36:11 PM Assigning atom indices...\n",
      "2018-04-27 07:36:11 PM There are 1 atoms in the mask :3  ...\n",
      "2018-04-27 07:36:11 PM There are 1 atoms in the mask :2@C1  ...\n",
      "2018-04-27 07:36:11 PM There are 1 atoms in the mask :2@C3  ...\n",
      "2018-04-27 07:36:11 PM Writing prod.002.in\n",
      "2018-04-27 07:36:11 PM Running MD at ./OA-G3-3/AMBER/APR/windows/a002\n",
      "2018-04-27 07:36:11 PM Exec line: pmemd.cuda -O -p solvate.prmtop -ref solvate.rst7 -c prod.001.rst7 -i prod.002.in -o prod.002.out -r prod.002.rst7 -x prod.002.nc -inf prod.002.mdinfo -e prod.002.mden\n"
     ]
    },
    {
     "name": "stdout",
     "output_type": "stream",
     "text": [
      "Simulating ./OA-G3-3\n",
      "Window a000 has `prod.002.nc`...\n",
      "Window a001 has `prod.002.nc`...\n",
      "Re-running ./OA-G3-3/AMBER/APR/windows/a002/prod.002.nc...\n"
     ]
    },
    {
     "name": "stderr",
     "output_type": "stream",
     "text": [
      "2018-04-27 07:38:49 PM MD completed ...\n",
      "2018-04-27 07:38:49 PM Writing prod.002.in\n",
      "2018-04-27 07:38:49 PM Running MD at ./OA-G3-3/AMBER/APR/windows/a003\n",
      "2018-04-27 07:38:49 PM Exec line: pmemd.cuda -O -p solvate.prmtop -ref solvate.rst7 -c prod.001.rst7 -i prod.002.in -o prod.002.out -r prod.002.rst7 -x prod.002.nc -inf prod.002.mdinfo -e prod.002.mden\n"
     ]
    },
    {
     "name": "stdout",
     "output_type": "stream",
     "text": [
      "Re-running ./OA-G3-3/AMBER/APR/windows/a003/prod.002.nc...\n"
     ]
    },
    {
     "name": "stderr",
     "output_type": "stream",
     "text": [
      "2018-04-27 07:41:28 PM MD completed ...\n",
      "2018-04-27 07:41:28 PM Writing prod.002.in\n",
      "2018-04-27 07:41:28 PM Running MD at ./OA-G3-3/AMBER/APR/windows/a004\n",
      "2018-04-27 07:41:28 PM Exec line: pmemd.cuda -O -p solvate.prmtop -ref solvate.rst7 -c prod.001.rst7 -i prod.002.in -o prod.002.out -r prod.002.rst7 -x prod.002.nc -inf prod.002.mdinfo -e prod.002.mden\n"
     ]
    },
    {
     "name": "stdout",
     "output_type": "stream",
     "text": [
      "Re-running ./OA-G3-3/AMBER/APR/windows/a004/prod.002.nc...\n"
     ]
    },
    {
     "name": "stderr",
     "output_type": "stream",
     "text": [
      "2018-04-27 07:44:10 PM MD completed ...\n",
      "2018-04-27 07:44:10 PM Writing prod.002.in\n",
      "2018-04-27 07:44:10 PM Running MD at ./OA-G3-3/AMBER/APR/windows/a005\n",
      "2018-04-27 07:44:10 PM Exec line: pmemd.cuda -O -p solvate.prmtop -ref solvate.rst7 -c prod.001.rst7 -i prod.002.in -o prod.002.out -r prod.002.rst7 -x prod.002.nc -inf prod.002.mdinfo -e prod.002.mden\n"
     ]
    },
    {
     "name": "stdout",
     "output_type": "stream",
     "text": [
      "Re-running ./OA-G3-3/AMBER/APR/windows/a005/prod.002.nc...\n"
     ]
    },
    {
     "name": "stderr",
     "output_type": "stream",
     "text": [
      "2018-04-27 07:46:53 PM MD completed ...\n",
      "2018-04-27 07:46:53 PM Writing prod.002.in\n",
      "2018-04-27 07:46:53 PM Running MD at ./OA-G3-3/AMBER/APR/windows/a006\n",
      "2018-04-27 07:46:53 PM Exec line: pmemd.cuda -O -p solvate.prmtop -ref solvate.rst7 -c prod.001.rst7 -i prod.002.in -o prod.002.out -r prod.002.rst7 -x prod.002.nc -inf prod.002.mdinfo -e prod.002.mden\n"
     ]
    },
    {
     "name": "stdout",
     "output_type": "stream",
     "text": [
      "Re-running ./OA-G3-3/AMBER/APR/windows/a006/prod.002.nc...\n"
     ]
    },
    {
     "name": "stderr",
     "output_type": "stream",
     "text": [
      "2018-04-27 07:49:31 PM MD completed ...\n",
      "2018-04-27 07:49:31 PM Writing prod.002.in\n",
      "2018-04-27 07:49:31 PM Running MD at ./OA-G3-3/AMBER/APR/windows/a007\n",
      "2018-04-27 07:49:31 PM Exec line: pmemd.cuda -O -p solvate.prmtop -ref solvate.rst7 -c prod.001.rst7 -i prod.002.in -o prod.002.out -r prod.002.rst7 -x prod.002.nc -inf prod.002.mdinfo -e prod.002.mden\n"
     ]
    },
    {
     "name": "stdout",
     "output_type": "stream",
     "text": [
      "Re-running ./OA-G3-3/AMBER/APR/windows/a007/prod.002.nc...\n"
     ]
    },
    {
     "name": "stderr",
     "output_type": "stream",
     "text": [
      "2018-04-27 07:52:09 PM MD completed ...\n",
      "2018-04-27 07:52:09 PM Writing prod.002.in\n",
      "2018-04-27 07:52:09 PM Running MD at ./OA-G3-3/AMBER/APR/windows/a008\n",
      "2018-04-27 07:52:09 PM Exec line: pmemd.cuda -O -p solvate.prmtop -ref solvate.rst7 -c prod.001.rst7 -i prod.002.in -o prod.002.out -r prod.002.rst7 -x prod.002.nc -inf prod.002.mdinfo -e prod.002.mden\n"
     ]
    },
    {
     "name": "stdout",
     "output_type": "stream",
     "text": [
      "Re-running ./OA-G3-3/AMBER/APR/windows/a008/prod.002.nc...\n"
     ]
    },
    {
     "name": "stderr",
     "output_type": "stream",
     "text": [
      "2018-04-27 07:54:50 PM MD completed ...\n",
      "2018-04-27 07:54:50 PM Writing prod.002.in\n",
      "2018-04-27 07:54:50 PM Running MD at ./OA-G3-3/AMBER/APR/windows/a009\n",
      "2018-04-27 07:54:50 PM Exec line: pmemd.cuda -O -p solvate.prmtop -ref solvate.rst7 -c prod.001.rst7 -i prod.002.in -o prod.002.out -r prod.002.rst7 -x prod.002.nc -inf prod.002.mdinfo -e prod.002.mden\n"
     ]
    },
    {
     "name": "stdout",
     "output_type": "stream",
     "text": [
      "Re-running ./OA-G3-3/AMBER/APR/windows/a009/prod.002.nc...\n"
     ]
    },
    {
     "name": "stderr",
     "output_type": "stream",
     "text": [
      "2018-04-27 07:57:31 PM MD completed ...\n",
      "2018-04-27 07:57:31 PM Writing prod.002.in\n",
      "2018-04-27 07:57:31 PM Running MD at ./OA-G3-3/AMBER/APR/windows/a010\n",
      "2018-04-27 07:57:31 PM Exec line: pmemd.cuda -O -p solvate.prmtop -ref solvate.rst7 -c prod.001.rst7 -i prod.002.in -o prod.002.out -r prod.002.rst7 -x prod.002.nc -inf prod.002.mdinfo -e prod.002.mden\n"
     ]
    },
    {
     "name": "stdout",
     "output_type": "stream",
     "text": [
      "Re-running ./OA-G3-3/AMBER/APR/windows/a010/prod.002.nc...\n"
     ]
    },
    {
     "name": "stderr",
     "output_type": "stream",
     "text": [
      "2018-04-27 08:00:12 PM MD completed ...\n",
      "2018-04-27 08:00:12 PM Writing prod.002.in\n",
      "2018-04-27 08:00:12 PM Running MD at ./OA-G3-3/AMBER/APR/windows/a011\n",
      "2018-04-27 08:00:12 PM Exec line: pmemd.cuda -O -p solvate.prmtop -ref solvate.rst7 -c prod.001.rst7 -i prod.002.in -o prod.002.out -r prod.002.rst7 -x prod.002.nc -inf prod.002.mdinfo -e prod.002.mden\n"
     ]
    },
    {
     "name": "stdout",
     "output_type": "stream",
     "text": [
      "Re-running ./OA-G3-3/AMBER/APR/windows/a011/prod.002.nc...\n"
     ]
    },
    {
     "name": "stderr",
     "output_type": "stream",
     "text": [
      "2018-04-27 08:02:54 PM MD completed ...\n",
      "2018-04-27 08:02:54 PM Writing prod.002.in\n",
      "2018-04-27 08:02:54 PM Running MD at ./OA-G3-3/AMBER/APR/windows/a012\n",
      "2018-04-27 08:02:54 PM Exec line: pmemd.cuda -O -p solvate.prmtop -ref solvate.rst7 -c prod.001.rst7 -i prod.002.in -o prod.002.out -r prod.002.rst7 -x prod.002.nc -inf prod.002.mdinfo -e prod.002.mden\n"
     ]
    },
    {
     "name": "stdout",
     "output_type": "stream",
     "text": [
      "Re-running ./OA-G3-3/AMBER/APR/windows/a012/prod.002.nc...\n"
     ]
    },
    {
     "name": "stderr",
     "output_type": "stream",
     "text": [
      "2018-04-27 08:05:34 PM MD completed ...\n",
      "2018-04-27 08:05:34 PM Writing prod.002.in\n",
      "2018-04-27 08:05:34 PM Running MD at ./OA-G3-3/AMBER/APR/windows/a013\n",
      "2018-04-27 08:05:34 PM Exec line: pmemd.cuda -O -p solvate.prmtop -ref solvate.rst7 -c prod.001.rst7 -i prod.002.in -o prod.002.out -r prod.002.rst7 -x prod.002.nc -inf prod.002.mdinfo -e prod.002.mden\n"
     ]
    },
    {
     "name": "stdout",
     "output_type": "stream",
     "text": [
      "Re-running ./OA-G3-3/AMBER/APR/windows/a013/prod.002.nc...\n"
     ]
    },
    {
     "name": "stderr",
     "output_type": "stream",
     "text": [
      "2018-04-27 08:08:12 PM MD completed ...\n",
      "2018-04-27 08:08:12 PM Writing prod.002.in\n",
      "2018-04-27 08:08:12 PM Running MD at ./OA-G3-3/AMBER/APR/windows/p000\n",
      "2018-04-27 08:08:12 PM Exec line: pmemd.cuda -O -p solvate.prmtop -ref solvate.rst7 -c prod.001.rst7 -i prod.002.in -o prod.002.out -r prod.002.rst7 -x prod.002.nc -inf prod.002.mdinfo -e prod.002.mden\n"
     ]
    },
    {
     "name": "stdout",
     "output_type": "stream",
     "text": [
      "Re-running ./OA-G3-3/AMBER/APR/windows/p000/prod.002.nc...\n"
     ]
    },
    {
     "name": "stderr",
     "output_type": "stream",
     "text": [
      "2018-04-27 08:10:53 PM MD completed ...\n",
      "2018-04-27 08:10:53 PM Writing prod.002.in\n",
      "2018-04-27 08:10:53 PM Running MD at ./OA-G3-3/AMBER/APR/windows/p001\n",
      "2018-04-27 08:10:53 PM Exec line: pmemd.cuda -O -p solvate.prmtop -ref solvate.rst7 -c prod.001.rst7 -i prod.002.in -o prod.002.out -r prod.002.rst7 -x prod.002.nc -inf prod.002.mdinfo -e prod.002.mden\n"
     ]
    },
    {
     "name": "stdout",
     "output_type": "stream",
     "text": [
      "Re-running ./OA-G3-3/AMBER/APR/windows/p001/prod.002.nc...\n"
     ]
    },
    {
     "name": "stderr",
     "output_type": "stream",
     "text": [
      "2018-04-27 08:13:33 PM MD completed ...\n",
      "2018-04-27 08:13:33 PM Writing prod.002.in\n",
      "2018-04-27 08:13:33 PM Running MD at ./OA-G3-3/AMBER/APR/windows/p002\n",
      "2018-04-27 08:13:33 PM Exec line: pmemd.cuda -O -p solvate.prmtop -ref solvate.rst7 -c prod.001.rst7 -i prod.002.in -o prod.002.out -r prod.002.rst7 -x prod.002.nc -inf prod.002.mdinfo -e prod.002.mden\n"
     ]
    },
    {
     "name": "stdout",
     "output_type": "stream",
     "text": [
      "Re-running ./OA-G3-3/AMBER/APR/windows/p002/prod.002.nc...\n"
     ]
    },
    {
     "name": "stderr",
     "output_type": "stream",
     "text": [
      "2018-04-27 08:16:17 PM MD completed ...\n",
      "2018-04-27 08:16:17 PM Writing prod.002.in\n",
      "2018-04-27 08:16:17 PM Running MD at ./OA-G3-3/AMBER/APR/windows/p003\n",
      "2018-04-27 08:16:17 PM Exec line: pmemd.cuda -O -p solvate.prmtop -ref solvate.rst7 -c prod.001.rst7 -i prod.002.in -o prod.002.out -r prod.002.rst7 -x prod.002.nc -inf prod.002.mdinfo -e prod.002.mden\n"
     ]
    },
    {
     "name": "stdout",
     "output_type": "stream",
     "text": [
      "Re-running ./OA-G3-3/AMBER/APR/windows/p003/prod.002.nc...\n"
     ]
    },
    {
     "name": "stderr",
     "output_type": "stream",
     "text": [
      "2018-04-27 08:18:58 PM MD completed ...\n",
      "2018-04-27 08:18:58 PM Writing prod.002.in\n",
      "2018-04-27 08:18:58 PM Running MD at ./OA-G3-3/AMBER/APR/windows/p004\n",
      "2018-04-27 08:18:58 PM Exec line: pmemd.cuda -O -p solvate.prmtop -ref solvate.rst7 -c prod.001.rst7 -i prod.002.in -o prod.002.out -r prod.002.rst7 -x prod.002.nc -inf prod.002.mdinfo -e prod.002.mden\n"
     ]
    },
    {
     "name": "stdout",
     "output_type": "stream",
     "text": [
      "Re-running ./OA-G3-3/AMBER/APR/windows/p004/prod.002.nc...\n"
     ]
    },
    {
     "name": "stderr",
     "output_type": "stream",
     "text": [
      "2018-04-27 08:21:39 PM MD completed ...\n",
      "2018-04-27 08:21:39 PM Writing prod.002.in\n",
      "2018-04-27 08:21:39 PM Running MD at ./OA-G3-3/AMBER/APR/windows/p007\n",
      "2018-04-27 08:21:39 PM Exec line: pmemd.cuda -O -p solvate.prmtop -ref solvate.rst7 -c prod.001.rst7 -i prod.002.in -o prod.002.out -r prod.002.rst7 -x prod.002.nc -inf prod.002.mdinfo -e prod.002.mden\n"
     ]
    },
    {
     "name": "stdout",
     "output_type": "stream",
     "text": [
      "Window p005 has `prod.002.nc`...\n",
      "Window p006 has `prod.002.nc`...\n",
      "Re-running ./OA-G3-3/AMBER/APR/windows/p007/prod.002.nc...\n"
     ]
    },
    {
     "name": "stderr",
     "output_type": "stream",
     "text": [
      "2018-04-27 08:24:20 PM MD completed ...\n",
      "2018-04-27 08:24:20 PM Writing prod.002.in\n",
      "2018-04-27 08:24:20 PM Running MD at ./OA-G3-3/AMBER/APR/windows/p008\n",
      "2018-04-27 08:24:20 PM Exec line: pmemd.cuda -O -p solvate.prmtop -ref solvate.rst7 -c prod.001.rst7 -i prod.002.in -o prod.002.out -r prod.002.rst7 -x prod.002.nc -inf prod.002.mdinfo -e prod.002.mden\n"
     ]
    },
    {
     "name": "stdout",
     "output_type": "stream",
     "text": [
      "Re-running ./OA-G3-3/AMBER/APR/windows/p008/prod.002.nc...\n"
     ]
    },
    {
     "name": "stderr",
     "output_type": "stream",
     "text": [
      "2018-04-27 08:27:01 PM MD completed ...\n",
      "2018-04-27 08:27:01 PM Writing prod.002.in\n",
      "2018-04-27 08:27:01 PM Running MD at ./OA-G3-3/AMBER/APR/windows/p018\n",
      "2018-04-27 08:27:01 PM Exec line: pmemd.cuda -O -p solvate.prmtop -ref solvate.rst7 -c prod.001.rst7 -i prod.002.in -o prod.002.out -r prod.002.rst7 -x prod.002.nc -inf prod.002.mdinfo -e prod.002.mden\n"
     ]
    },
    {
     "name": "stdout",
     "output_type": "stream",
     "text": [
      "Window p009 has `prod.002.nc`...\n",
      "Window p010 has `prod.002.nc`...\n",
      "Window p011 has `prod.002.nc`...\n",
      "Window p012 has `prod.002.nc`...\n",
      "Window p013 has `prod.002.nc`...\n",
      "Window p014 has `prod.002.nc`...\n",
      "Window p015 has `prod.002.nc`...\n",
      "Window p016 has `prod.002.nc`...\n",
      "Window p017 has `prod.002.nc`...\n",
      "Re-running ./OA-G3-3/AMBER/APR/windows/p018/prod.002.nc...\n"
     ]
    },
    {
     "name": "stderr",
     "output_type": "stream",
     "text": [
      "2018-04-27 08:29:42 PM MD completed ...\n",
      "2018-04-27 08:29:42 PM Writing prod.002.in\n",
      "2018-04-27 08:29:42 PM Running MD at ./OA-G3-3/AMBER/APR/windows/p019\n",
      "2018-04-27 08:29:42 PM Exec line: pmemd.cuda -O -p solvate.prmtop -ref solvate.rst7 -c prod.001.rst7 -i prod.002.in -o prod.002.out -r prod.002.rst7 -x prod.002.nc -inf prod.002.mdinfo -e prod.002.mden\n"
     ]
    },
    {
     "name": "stdout",
     "output_type": "stream",
     "text": [
      "Re-running ./OA-G3-3/AMBER/APR/windows/p019/prod.002.nc...\n"
     ]
    },
    {
     "name": "stderr",
     "output_type": "stream",
     "text": [
      "2018-04-27 08:32:20 PM MD completed ...\n",
      "2018-04-27 08:32:20 PM Writing prod.002.in\n",
      "2018-04-27 08:32:20 PM Running MD at ./OA-G3-3/AMBER/APR/windows/p020\n",
      "2018-04-27 08:32:20 PM Exec line: pmemd.cuda -O -p solvate.prmtop -ref solvate.rst7 -c prod.001.rst7 -i prod.002.in -o prod.002.out -r prod.002.rst7 -x prod.002.nc -inf prod.002.mdinfo -e prod.002.mden\n"
     ]
    },
    {
     "name": "stdout",
     "output_type": "stream",
     "text": [
      "Re-running ./OA-G3-3/AMBER/APR/windows/p020/prod.002.nc...\n"
     ]
    },
    {
     "name": "stderr",
     "output_type": "stream",
     "text": [
      "2018-04-27 08:34:58 PM MD completed ...\n",
      "2018-04-27 08:34:58 PM Writing prod.002.in\n",
      "2018-04-27 08:34:58 PM Running MD at ./OA-G3-3/AMBER/APR/windows/p021\n",
      "2018-04-27 08:34:58 PM Exec line: pmemd.cuda -O -p solvate.prmtop -ref solvate.rst7 -c prod.001.rst7 -i prod.002.in -o prod.002.out -r prod.002.rst7 -x prod.002.nc -inf prod.002.mdinfo -e prod.002.mden\n"
     ]
    },
    {
     "name": "stdout",
     "output_type": "stream",
     "text": [
      "Re-running ./OA-G3-3/AMBER/APR/windows/p021/prod.002.nc...\n"
     ]
    },
    {
     "name": "stderr",
     "output_type": "stream",
     "text": [
      "2018-04-27 08:37:39 PM MD completed ...\n",
      "2018-04-27 08:37:39 PM Writing prod.002.in\n",
      "2018-04-27 08:37:39 PM Running MD at ./OA-G3-3/AMBER/APR/windows/p022\n",
      "2018-04-27 08:37:39 PM Exec line: pmemd.cuda -O -p solvate.prmtop -ref solvate.rst7 -c prod.001.rst7 -i prod.002.in -o prod.002.out -r prod.002.rst7 -x prod.002.nc -inf prod.002.mdinfo -e prod.002.mden\n"
     ]
    },
    {
     "name": "stdout",
     "output_type": "stream",
     "text": [
      "Re-running ./OA-G3-3/AMBER/APR/windows/p022/prod.002.nc...\n"
     ]
    },
    {
     "name": "stderr",
     "output_type": "stream",
     "text": [
      "2018-04-27 08:40:17 PM MD completed ...\n",
      "2018-04-27 08:40:17 PM Writing prod.002.in\n",
      "2018-04-27 08:40:17 PM Running MD at ./OA-G3-3/AMBER/APR/windows/p023\n",
      "2018-04-27 08:40:17 PM Exec line: pmemd.cuda -O -p solvate.prmtop -ref solvate.rst7 -c prod.001.rst7 -i prod.002.in -o prod.002.out -r prod.002.rst7 -x prod.002.nc -inf prod.002.mdinfo -e prod.002.mden\n"
     ]
    },
    {
     "name": "stdout",
     "output_type": "stream",
     "text": [
      "Re-running ./OA-G3-3/AMBER/APR/windows/p023/prod.002.nc...\n"
     ]
    },
    {
     "name": "stderr",
     "output_type": "stream",
     "text": [
      "2018-04-27 08:42:59 PM MD completed ...\n",
      "2018-04-27 08:42:59 PM Writing prod.002.in\n",
      "2018-04-27 08:42:59 PM Running MD at ./OA-G3-3/AMBER/APR/windows/p024\n",
      "2018-04-27 08:42:59 PM Exec line: pmemd.cuda -O -p solvate.prmtop -ref solvate.rst7 -c prod.001.rst7 -i prod.002.in -o prod.002.out -r prod.002.rst7 -x prod.002.nc -inf prod.002.mdinfo -e prod.002.mden\n"
     ]
    },
    {
     "name": "stdout",
     "output_type": "stream",
     "text": [
      "Re-running ./OA-G3-3/AMBER/APR/windows/p024/prod.002.nc...\n"
     ]
    },
    {
     "name": "stderr",
     "output_type": "stream",
     "text": [
      "2018-04-27 08:45:37 PM MD completed ...\n",
      "2018-04-27 08:45:37 PM Writing prod.002.in\n",
      "2018-04-27 08:45:37 PM Running MD at ./OA-G3-3/AMBER/APR/windows/p025\n",
      "2018-04-27 08:45:37 PM Exec line: pmemd.cuda -O -p solvate.prmtop -ref solvate.rst7 -c prod.001.rst7 -i prod.002.in -o prod.002.out -r prod.002.rst7 -x prod.002.nc -inf prod.002.mdinfo -e prod.002.mden\n"
     ]
    },
    {
     "name": "stdout",
     "output_type": "stream",
     "text": [
      "Re-running ./OA-G3-3/AMBER/APR/windows/p025/prod.002.nc...\n"
     ]
    },
    {
     "name": "stderr",
     "output_type": "stream",
     "text": [
      "2018-04-27 08:48:19 PM MD completed ...\n",
      "2018-04-27 08:48:19 PM Writing prod.002.in\n",
      "2018-04-27 08:48:19 PM Running MD at ./OA-G3-3/AMBER/APR/windows/p026\n",
      "2018-04-27 08:48:19 PM Exec line: pmemd.cuda -O -p solvate.prmtop -ref solvate.rst7 -c prod.001.rst7 -i prod.002.in -o prod.002.out -r prod.002.rst7 -x prod.002.nc -inf prod.002.mdinfo -e prod.002.mden\n"
     ]
    },
    {
     "name": "stdout",
     "output_type": "stream",
     "text": [
      "Re-running ./OA-G3-3/AMBER/APR/windows/p026/prod.002.nc...\n"
     ]
    },
    {
     "name": "stderr",
     "output_type": "stream",
     "text": [
      "2018-04-27 08:50:59 PM MD completed ...\n",
      "2018-04-27 08:50:59 PM Writing prod.002.in\n",
      "2018-04-27 08:50:59 PM Running MD at ./OA-G3-3/AMBER/APR/windows/p027\n",
      "2018-04-27 08:50:59 PM Exec line: pmemd.cuda -O -p solvate.prmtop -ref solvate.rst7 -c prod.001.rst7 -i prod.002.in -o prod.002.out -r prod.002.rst7 -x prod.002.nc -inf prod.002.mdinfo -e prod.002.mden\n"
     ]
    },
    {
     "name": "stdout",
     "output_type": "stream",
     "text": [
      "Re-running ./OA-G3-3/AMBER/APR/windows/p027/prod.002.nc...\n"
     ]
    },
    {
     "name": "stderr",
     "output_type": "stream",
     "text": [
      "2018-04-27 08:53:38 PM MD completed ...\n",
      "2018-04-27 08:53:38 PM Writing prod.002.in\n",
      "2018-04-27 08:53:38 PM Running MD at ./OA-G3-3/AMBER/APR/windows/p028\n",
      "2018-04-27 08:53:38 PM Exec line: pmemd.cuda -O -p solvate.prmtop -ref solvate.rst7 -c prod.001.rst7 -i prod.002.in -o prod.002.out -r prod.002.rst7 -x prod.002.nc -inf prod.002.mdinfo -e prod.002.mden\n"
     ]
    },
    {
     "name": "stdout",
     "output_type": "stream",
     "text": [
      "Re-running ./OA-G3-3/AMBER/APR/windows/p028/prod.002.nc...\n"
     ]
    },
    {
     "name": "stderr",
     "output_type": "stream",
     "text": [
      "2018-04-27 08:56:20 PM MD completed ...\n",
      "2018-04-27 08:56:20 PM Writing prod.002.in\n",
      "2018-04-27 08:56:20 PM Running MD at ./OA-G3-3/AMBER/APR/windows/p029\n",
      "2018-04-27 08:56:20 PM Exec line: pmemd.cuda -O -p solvate.prmtop -ref solvate.rst7 -c prod.001.rst7 -i prod.002.in -o prod.002.out -r prod.002.rst7 -x prod.002.nc -inf prod.002.mdinfo -e prod.002.mden\n"
     ]
    },
    {
     "name": "stdout",
     "output_type": "stream",
     "text": [
      "Re-running ./OA-G3-3/AMBER/APR/windows/p029/prod.002.nc...\n"
     ]
    },
    {
     "name": "stderr",
     "output_type": "stream",
     "text": [
      "2018-04-27 08:58:59 PM MD completed ...\n",
      "2018-04-27 08:58:59 PM Writing prod.002.in\n",
      "2018-04-27 08:58:59 PM Running MD at ./OA-G3-3/AMBER/APR/windows/p030\n",
      "2018-04-27 08:58:59 PM Exec line: pmemd.cuda -O -p solvate.prmtop -ref solvate.rst7 -c prod.001.rst7 -i prod.002.in -o prod.002.out -r prod.002.rst7 -x prod.002.nc -inf prod.002.mdinfo -e prod.002.mden\n"
     ]
    },
    {
     "name": "stdout",
     "output_type": "stream",
     "text": [
      "Re-running ./OA-G3-3/AMBER/APR/windows/p030/prod.002.nc...\n"
     ]
    },
    {
     "name": "stderr",
     "output_type": "stream",
     "text": [
      "2018-04-27 09:01:39 PM MD completed ...\n",
      "2018-04-27 09:01:39 PM Writing prod.002.in\n",
      "2018-04-27 09:01:39 PM Running MD at ./OA-G3-3/AMBER/APR/windows/p031\n",
      "2018-04-27 09:01:39 PM Exec line: pmemd.cuda -O -p solvate.prmtop -ref solvate.rst7 -c prod.001.rst7 -i prod.002.in -o prod.002.out -r prod.002.rst7 -x prod.002.nc -inf prod.002.mdinfo -e prod.002.mden\n"
     ]
    },
    {
     "name": "stdout",
     "output_type": "stream",
     "text": [
      "Re-running ./OA-G3-3/AMBER/APR/windows/p031/prod.002.nc...\n"
     ]
    },
    {
     "name": "stderr",
     "output_type": "stream",
     "text": [
      "2018-04-27 09:04:17 PM MD completed ...\n",
      "2018-04-27 09:04:17 PM Writing prod.002.in\n",
      "2018-04-27 09:04:17 PM Running MD at ./OA-G3-3/AMBER/APR/windows/p032\n",
      "2018-04-27 09:04:17 PM Exec line: pmemd.cuda -O -p solvate.prmtop -ref solvate.rst7 -c prod.001.rst7 -i prod.002.in -o prod.002.out -r prod.002.rst7 -x prod.002.nc -inf prod.002.mdinfo -e prod.002.mden\n"
     ]
    },
    {
     "name": "stdout",
     "output_type": "stream",
     "text": [
      "Re-running ./OA-G3-3/AMBER/APR/windows/p032/prod.002.nc...\n"
     ]
    },
    {
     "name": "stderr",
     "output_type": "stream",
     "text": [
      "2018-04-27 09:06:56 PM MD completed ...\n",
      "2018-04-27 09:06:56 PM Writing prod.002.in\n",
      "2018-04-27 09:06:56 PM Running MD at ./OA-G3-3/AMBER/APR/windows/p033\n",
      "2018-04-27 09:06:56 PM Exec line: pmemd.cuda -O -p solvate.prmtop -ref solvate.rst7 -c prod.001.rst7 -i prod.002.in -o prod.002.out -r prod.002.rst7 -x prod.002.nc -inf prod.002.mdinfo -e prod.002.mden\n"
     ]
    },
    {
     "name": "stdout",
     "output_type": "stream",
     "text": [
      "Re-running ./OA-G3-3/AMBER/APR/windows/p033/prod.002.nc...\n"
     ]
    },
    {
     "name": "stderr",
     "output_type": "stream",
     "text": [
      "2018-04-27 09:09:37 PM MD completed ...\n",
      "2018-04-27 09:09:37 PM Writing prod.002.in\n",
      "2018-04-27 09:09:37 PM Running MD at ./OA-G3-3/AMBER/APR/windows/p034\n",
      "2018-04-27 09:09:37 PM Exec line: pmemd.cuda -O -p solvate.prmtop -ref solvate.rst7 -c prod.001.rst7 -i prod.002.in -o prod.002.out -r prod.002.rst7 -x prod.002.nc -inf prod.002.mdinfo -e prod.002.mden\n"
     ]
    },
    {
     "name": "stdout",
     "output_type": "stream",
     "text": [
      "Re-running ./OA-G3-3/AMBER/APR/windows/p034/prod.002.nc...\n"
     ]
    },
    {
     "name": "stderr",
     "output_type": "stream",
     "text": [
      "2018-04-27 09:12:16 PM MD completed ...\n",
      "2018-04-27 09:12:16 PM Writing prod.002.in\n",
      "2018-04-27 09:12:17 PM Running MD at ./OA-G3-3/AMBER/APR/windows/p035\n",
      "2018-04-27 09:12:17 PM Exec line: pmemd.cuda -O -p solvate.prmtop -ref solvate.rst7 -c prod.001.rst7 -i prod.002.in -o prod.002.out -r prod.002.rst7 -x prod.002.nc -inf prod.002.mdinfo -e prod.002.mden\n"
     ]
    },
    {
     "name": "stdout",
     "output_type": "stream",
     "text": [
      "Re-running ./OA-G3-3/AMBER/APR/windows/p035/prod.002.nc...\n"
     ]
    },
    {
     "name": "stderr",
     "output_type": "stream",
     "text": [
      "2018-04-27 09:14:55 PM MD completed ...\n",
      "2018-04-27 09:14:55 PM Writing prod.002.in\n",
      "2018-04-27 09:14:55 PM Running MD at ./OA-G3-3/AMBER/APR/windows/p036\n",
      "2018-04-27 09:14:55 PM Exec line: pmemd.cuda -O -p solvate.prmtop -ref solvate.rst7 -c prod.001.rst7 -i prod.002.in -o prod.002.out -r prod.002.rst7 -x prod.002.nc -inf prod.002.mdinfo -e prod.002.mden\n"
     ]
    },
    {
     "name": "stdout",
     "output_type": "stream",
     "text": [
      "Re-running ./OA-G3-3/AMBER/APR/windows/p036/prod.002.nc...\n"
     ]
    },
    {
     "name": "stderr",
     "output_type": "stream",
     "text": [
      "2018-04-27 09:17:32 PM MD completed ...\n",
      "2018-04-27 09:17:32 PM Writing prod.002.in\n",
      "2018-04-27 09:17:32 PM Running MD at ./OA-G3-3/AMBER/APR/windows/p037\n",
      "2018-04-27 09:17:32 PM Exec line: pmemd.cuda -O -p solvate.prmtop -ref solvate.rst7 -c prod.001.rst7 -i prod.002.in -o prod.002.out -r prod.002.rst7 -x prod.002.nc -inf prod.002.mdinfo -e prod.002.mden\n"
     ]
    },
    {
     "name": "stdout",
     "output_type": "stream",
     "text": [
      "Re-running ./OA-G3-3/AMBER/APR/windows/p037/prod.002.nc...\n"
     ]
    },
    {
     "name": "stderr",
     "output_type": "stream",
     "text": [
      "2018-04-27 09:20:11 PM MD completed ...\n",
      "2018-04-27 09:20:11 PM Writing prod.002.in\n",
      "2018-04-27 09:20:12 PM Running MD at ./OA-G3-3/AMBER/APR/windows/p038\n",
      "2018-04-27 09:20:12 PM Exec line: pmemd.cuda -O -p solvate.prmtop -ref solvate.rst7 -c prod.001.rst7 -i prod.002.in -o prod.002.out -r prod.002.rst7 -x prod.002.nc -inf prod.002.mdinfo -e prod.002.mden\n"
     ]
    },
    {
     "name": "stdout",
     "output_type": "stream",
     "text": [
      "Re-running ./OA-G3-3/AMBER/APR/windows/p038/prod.002.nc...\n"
     ]
    },
    {
     "name": "stderr",
     "output_type": "stream",
     "text": [
      "2018-04-27 09:22:52 PM MD completed ...\n",
      "2018-04-27 09:22:53 PM Writing prod.002.in\n",
      "2018-04-27 09:22:53 PM Running MD at ./OA-G3-3/AMBER/APR/windows/p039\n",
      "2018-04-27 09:22:53 PM Exec line: pmemd.cuda -O -p solvate.prmtop -ref solvate.rst7 -c prod.001.rst7 -i prod.002.in -o prod.002.out -r prod.002.rst7 -x prod.002.nc -inf prod.002.mdinfo -e prod.002.mden\n"
     ]
    },
    {
     "name": "stdout",
     "output_type": "stream",
     "text": [
      "Re-running ./OA-G3-3/AMBER/APR/windows/p039/prod.002.nc...\n"
     ]
    },
    {
     "name": "stderr",
     "output_type": "stream",
     "text": [
      "2018-04-27 09:25:32 PM MD completed ...\n",
      "2018-04-27 09:25:32 PM Writing prod.002.in\n",
      "2018-04-27 09:25:32 PM Running MD at ./OA-G3-3/AMBER/APR/windows/p040\n",
      "2018-04-27 09:25:32 PM Exec line: pmemd.cuda -O -p solvate.prmtop -ref solvate.rst7 -c prod.001.rst7 -i prod.002.in -o prod.002.out -r prod.002.rst7 -x prod.002.nc -inf prod.002.mdinfo -e prod.002.mden\n"
     ]
    },
    {
     "name": "stdout",
     "output_type": "stream",
     "text": [
      "Re-running ./OA-G3-3/AMBER/APR/windows/p040/prod.002.nc...\n"
     ]
    },
    {
     "name": "stderr",
     "output_type": "stream",
     "text": [
      "2018-04-27 09:28:10 PM MD completed ...\n",
      "2018-04-27 09:28:10 PM Writing prod.002.in\n",
      "2018-04-27 09:28:10 PM Running MD at ./OA-G3-3/AMBER/APR/windows/p041\n",
      "2018-04-27 09:28:10 PM Exec line: pmemd.cuda -O -p solvate.prmtop -ref solvate.rst7 -c prod.001.rst7 -i prod.002.in -o prod.002.out -r prod.002.rst7 -x prod.002.nc -inf prod.002.mdinfo -e prod.002.mden\n"
     ]
    },
    {
     "name": "stdout",
     "output_type": "stream",
     "text": [
      "Re-running ./OA-G3-3/AMBER/APR/windows/p041/prod.002.nc...\n"
     ]
    },
    {
     "name": "stderr",
     "output_type": "stream",
     "text": [
      "2018-04-27 09:30:50 PM MD completed ...\n",
      "2018-04-27 09:30:50 PM Writing prod.002.in\n",
      "2018-04-27 09:30:50 PM Running MD at ./OA-G3-3/AMBER/APR/windows/p042\n",
      "2018-04-27 09:30:50 PM Exec line: pmemd.cuda -O -p solvate.prmtop -ref solvate.rst7 -c prod.001.rst7 -i prod.002.in -o prod.002.out -r prod.002.rst7 -x prod.002.nc -inf prod.002.mdinfo -e prod.002.mden\n"
     ]
    },
    {
     "name": "stdout",
     "output_type": "stream",
     "text": [
      "Re-running ./OA-G3-3/AMBER/APR/windows/p042/prod.002.nc...\n"
     ]
    },
    {
     "name": "stderr",
     "output_type": "stream",
     "text": [
      "2018-04-27 09:33:27 PM MD completed ...\n",
      "2018-04-27 09:33:27 PM Writing prod.002.in\n",
      "2018-04-27 09:33:27 PM Running MD at ./OA-G3-3/AMBER/APR/windows/p043\n",
      "2018-04-27 09:33:27 PM Exec line: pmemd.cuda -O -p solvate.prmtop -ref solvate.rst7 -c prod.001.rst7 -i prod.002.in -o prod.002.out -r prod.002.rst7 -x prod.002.nc -inf prod.002.mdinfo -e prod.002.mden\n"
     ]
    },
    {
     "name": "stdout",
     "output_type": "stream",
     "text": [
      "Re-running ./OA-G3-3/AMBER/APR/windows/p043/prod.002.nc...\n"
     ]
    },
    {
     "name": "stderr",
     "output_type": "stream",
     "text": [
      "2018-04-27 09:36:08 PM MD completed ...\n",
      "2018-04-27 09:36:08 PM Writing prod.002.in\n",
      "2018-04-27 09:36:08 PM Running MD at ./OA-G3-3/AMBER/APR/windows/p044\n",
      "2018-04-27 09:36:08 PM Exec line: pmemd.cuda -O -p solvate.prmtop -ref solvate.rst7 -c prod.001.rst7 -i prod.002.in -o prod.002.out -r prod.002.rst7 -x prod.002.nc -inf prod.002.mdinfo -e prod.002.mden\n"
     ]
    },
    {
     "name": "stdout",
     "output_type": "stream",
     "text": [
      "Re-running ./OA-G3-3/AMBER/APR/windows/p044/prod.002.nc...\n"
     ]
    },
    {
     "name": "stderr",
     "output_type": "stream",
     "text": [
      "2018-04-27 09:38:47 PM MD completed ...\n",
      "2018-04-27 09:38:47 PM Writing prod.002.in\n",
      "2018-04-27 09:38:47 PM Running MD at ./OA-G3-3/AMBER/APR/windows/p045\n",
      "2018-04-27 09:38:47 PM Exec line: pmemd.cuda -O -p solvate.prmtop -ref solvate.rst7 -c prod.001.rst7 -i prod.002.in -o prod.002.out -r prod.002.rst7 -x prod.002.nc -inf prod.002.mdinfo -e prod.002.mden\n"
     ]
    },
    {
     "name": "stdout",
     "output_type": "stream",
     "text": [
      "Re-running ./OA-G3-3/AMBER/APR/windows/p045/prod.002.nc...\n"
     ]
    },
    {
     "name": "stderr",
     "output_type": "stream",
     "text": [
      "2018-04-27 09:41:29 PM MD completed ...\n"
     ]
    },
    {
     "name": "stdout",
     "output_type": "stream",
     "text": [
      "Set pull offset (6.83 A)\n"
     ]
    },
    {
     "name": "stderr",
     "output_type": "stream",
     "text": [
      "2018-04-27 09:41:29 PM Calculating attach targets and force constants...\n",
      "2018-04-27 09:41:29 PM Attach, Method #3\n",
      "2018-04-27 09:41:29 PM Calculating pull targets and force constants...\n",
      "2018-04-27 09:41:29 PM Pull, Method #1\n",
      "2018-04-27 09:41:29 PM Calculating release targets and force constants...\n",
      "2018-04-27 09:41:29 PM No restraint info set for the release phase! Skipping...\n",
      "2018-04-27 09:41:29 PM Number of attach windows = 15\n",
      "2018-04-27 09:41:29 PM Number of pull windows = 46\n",
      "2018-04-27 09:41:29 PM This restraint will be skipped in the release phase\n",
      "2018-04-27 09:41:29 PM Assigning atom indices...\n",
      "2018-04-27 09:41:29 PM There are 1 atoms in the mask :3  ...\n",
      "2018-04-27 09:41:29 PM There are 1 atoms in the mask :2@C1  ...\n",
      "2018-04-27 09:41:29 PM Calculating attach targets and force constants...\n",
      "2018-04-27 09:41:29 PM Attach, Method #3\n",
      "2018-04-27 09:41:29 PM Calculating pull targets and force constants...\n",
      "2018-04-27 09:41:29 PM Pull, Method #1\n",
      "2018-04-27 09:41:29 PM Calculating release targets and force constants...\n",
      "2018-04-27 09:41:29 PM No restraint info set for the release phase! Skipping...\n",
      "2018-04-27 09:41:29 PM Number of attach windows = 15\n",
      "2018-04-27 09:41:29 PM Number of pull windows = 46\n",
      "2018-04-27 09:41:29 PM This restraint will be skipped in the release phase\n",
      "2018-04-27 09:41:29 PM Assigning atom indices...\n",
      "2018-04-27 09:41:29 PM There are 1 atoms in the mask :4  ...\n",
      "2018-04-27 09:41:29 PM There are 1 atoms in the mask :3  ...\n",
      "2018-04-27 09:41:29 PM There are 1 atoms in the mask :2@C1  ...\n",
      "2018-04-27 09:41:29 PM Calculating attach targets and force constants...\n",
      "2018-04-27 09:41:29 PM Attach, Method #3\n",
      "2018-04-27 09:41:29 PM Calculating pull targets and force constants...\n",
      "2018-04-27 09:41:29 PM Pull, Method #1\n",
      "2018-04-27 09:41:29 PM Calculating release targets and force constants...\n",
      "2018-04-27 09:41:29 PM No restraint info set for the release phase! Skipping...\n",
      "2018-04-27 09:41:29 PM Number of attach windows = 15\n",
      "2018-04-27 09:41:29 PM Number of pull windows = 46\n",
      "2018-04-27 09:41:29 PM This restraint will be skipped in the release phase\n",
      "2018-04-27 09:41:29 PM Assigning atom indices...\n",
      "2018-04-27 09:41:29 PM There are 1 atoms in the mask :3  ...\n",
      "2018-04-27 09:41:29 PM There are 1 atoms in the mask :2@C1  ...\n",
      "2018-04-27 09:41:29 PM There are 1 atoms in the mask :2@C3  ...\n",
      "2018-04-27 09:41:30 PM Writing prod.002.in\n",
      "2018-04-27 09:41:30 PM Running MD at ./OA-G3-4/AMBER/APR/windows/a000\n",
      "2018-04-27 09:41:30 PM Exec line: pmemd.cuda -O -p solvate.prmtop -ref solvate.rst7 -c prod.001.rst7 -i prod.002.in -o prod.002.out -r prod.002.rst7 -x prod.002.nc -inf prod.002.mdinfo -e prod.002.mden\n"
     ]
    },
    {
     "name": "stdout",
     "output_type": "stream",
     "text": [
      "Simulating ./OA-G3-4\n",
      "Re-running ./OA-G3-4/AMBER/APR/windows/a000/prod.002.nc...\n"
     ]
    },
    {
     "name": "stderr",
     "output_type": "stream",
     "text": [
      "2018-04-27 09:44:09 PM MD completed ...\n",
      "2018-04-27 09:44:09 PM Writing prod.002.in\n",
      "2018-04-27 09:44:09 PM Running MD at ./OA-G3-4/AMBER/APR/windows/a001\n",
      "2018-04-27 09:44:09 PM Exec line: pmemd.cuda -O -p solvate.prmtop -ref solvate.rst7 -c prod.001.rst7 -i prod.002.in -o prod.002.out -r prod.002.rst7 -x prod.002.nc -inf prod.002.mdinfo -e prod.002.mden\n"
     ]
    },
    {
     "name": "stdout",
     "output_type": "stream",
     "text": [
      "Re-running ./OA-G3-4/AMBER/APR/windows/a001/prod.002.nc...\n"
     ]
    },
    {
     "name": "stderr",
     "output_type": "stream",
     "text": [
      "2018-04-27 09:46:48 PM MD completed ...\n",
      "2018-04-27 09:46:48 PM Writing prod.002.in\n",
      "2018-04-27 09:46:48 PM Running MD at ./OA-G3-4/AMBER/APR/windows/a002\n",
      "2018-04-27 09:46:48 PM Exec line: pmemd.cuda -O -p solvate.prmtop -ref solvate.rst7 -c prod.001.rst7 -i prod.002.in -o prod.002.out -r prod.002.rst7 -x prod.002.nc -inf prod.002.mdinfo -e prod.002.mden\n"
     ]
    },
    {
     "name": "stdout",
     "output_type": "stream",
     "text": [
      "Re-running ./OA-G3-4/AMBER/APR/windows/a002/prod.002.nc...\n"
     ]
    },
    {
     "name": "stderr",
     "output_type": "stream",
     "text": [
      "2018-04-27 09:49:28 PM MD completed ...\n",
      "2018-04-27 09:49:28 PM Writing prod.002.in\n",
      "2018-04-27 09:49:28 PM Running MD at ./OA-G3-4/AMBER/APR/windows/a003\n",
      "2018-04-27 09:49:28 PM Exec line: pmemd.cuda -O -p solvate.prmtop -ref solvate.rst7 -c prod.001.rst7 -i prod.002.in -o prod.002.out -r prod.002.rst7 -x prod.002.nc -inf prod.002.mdinfo -e prod.002.mden\n"
     ]
    },
    {
     "name": "stdout",
     "output_type": "stream",
     "text": [
      "Re-running ./OA-G3-4/AMBER/APR/windows/a003/prod.002.nc...\n"
     ]
    },
    {
     "name": "stderr",
     "output_type": "stream",
     "text": [
      "2018-04-27 09:52:09 PM MD completed ...\n",
      "2018-04-27 09:52:09 PM Writing prod.002.in\n",
      "2018-04-27 09:52:09 PM Running MD at ./OA-G3-4/AMBER/APR/windows/a004\n",
      "2018-04-27 09:52:09 PM Exec line: pmemd.cuda -O -p solvate.prmtop -ref solvate.rst7 -c prod.001.rst7 -i prod.002.in -o prod.002.out -r prod.002.rst7 -x prod.002.nc -inf prod.002.mdinfo -e prod.002.mden\n"
     ]
    },
    {
     "name": "stdout",
     "output_type": "stream",
     "text": [
      "Re-running ./OA-G3-4/AMBER/APR/windows/a004/prod.002.nc...\n"
     ]
    },
    {
     "name": "stderr",
     "output_type": "stream",
     "text": [
      "2018-04-27 09:54:49 PM MD completed ...\n",
      "2018-04-27 09:54:49 PM Writing prod.002.in\n",
      "2018-04-27 09:54:49 PM Running MD at ./OA-G3-4/AMBER/APR/windows/a005\n",
      "2018-04-27 09:54:49 PM Exec line: pmemd.cuda -O -p solvate.prmtop -ref solvate.rst7 -c prod.001.rst7 -i prod.002.in -o prod.002.out -r prod.002.rst7 -x prod.002.nc -inf prod.002.mdinfo -e prod.002.mden\n"
     ]
    },
    {
     "name": "stdout",
     "output_type": "stream",
     "text": [
      "Re-running ./OA-G3-4/AMBER/APR/windows/a005/prod.002.nc...\n"
     ]
    },
    {
     "name": "stderr",
     "output_type": "stream",
     "text": [
      "2018-04-27 09:57:28 PM MD completed ...\n",
      "2018-04-27 09:57:28 PM Writing prod.002.in\n",
      "2018-04-27 09:57:28 PM Running MD at ./OA-G3-4/AMBER/APR/windows/a006\n",
      "2018-04-27 09:57:28 PM Exec line: pmemd.cuda -O -p solvate.prmtop -ref solvate.rst7 -c prod.001.rst7 -i prod.002.in -o prod.002.out -r prod.002.rst7 -x prod.002.nc -inf prod.002.mdinfo -e prod.002.mden\n"
     ]
    },
    {
     "name": "stdout",
     "output_type": "stream",
     "text": [
      "Re-running ./OA-G3-4/AMBER/APR/windows/a006/prod.002.nc...\n"
     ]
    },
    {
     "name": "stderr",
     "output_type": "stream",
     "text": [
      "2018-04-27 10:00:09 PM MD completed ...\n",
      "2018-04-27 10:00:09 PM Writing prod.002.in\n",
      "2018-04-27 10:00:09 PM Running MD at ./OA-G3-4/AMBER/APR/windows/a007\n",
      "2018-04-27 10:00:09 PM Exec line: pmemd.cuda -O -p solvate.prmtop -ref solvate.rst7 -c prod.001.rst7 -i prod.002.in -o prod.002.out -r prod.002.rst7 -x prod.002.nc -inf prod.002.mdinfo -e prod.002.mden\n"
     ]
    },
    {
     "name": "stdout",
     "output_type": "stream",
     "text": [
      "Re-running ./OA-G3-4/AMBER/APR/windows/a007/prod.002.nc...\n"
     ]
    },
    {
     "name": "stderr",
     "output_type": "stream",
     "text": [
      "2018-04-27 10:02:49 PM MD completed ...\n",
      "2018-04-27 10:02:49 PM Writing prod.002.in\n",
      "2018-04-27 10:02:49 PM Running MD at ./OA-G3-4/AMBER/APR/windows/a008\n",
      "2018-04-27 10:02:49 PM Exec line: pmemd.cuda -O -p solvate.prmtop -ref solvate.rst7 -c prod.001.rst7 -i prod.002.in -o prod.002.out -r prod.002.rst7 -x prod.002.nc -inf prod.002.mdinfo -e prod.002.mden\n"
     ]
    },
    {
     "name": "stdout",
     "output_type": "stream",
     "text": [
      "Re-running ./OA-G3-4/AMBER/APR/windows/a008/prod.002.nc...\n"
     ]
    },
    {
     "name": "stderr",
     "output_type": "stream",
     "text": [
      "2018-04-27 10:05:29 PM MD completed ...\n",
      "2018-04-27 10:05:29 PM Writing prod.002.in\n",
      "2018-04-27 10:05:29 PM Running MD at ./OA-G3-4/AMBER/APR/windows/a009\n",
      "2018-04-27 10:05:29 PM Exec line: pmemd.cuda -O -p solvate.prmtop -ref solvate.rst7 -c prod.001.rst7 -i prod.002.in -o prod.002.out -r prod.002.rst7 -x prod.002.nc -inf prod.002.mdinfo -e prod.002.mden\n"
     ]
    },
    {
     "name": "stdout",
     "output_type": "stream",
     "text": [
      "Re-running ./OA-G3-4/AMBER/APR/windows/a009/prod.002.nc...\n"
     ]
    },
    {
     "name": "stderr",
     "output_type": "stream",
     "text": [
      "2018-04-27 10:08:04 PM MD completed ...\n",
      "2018-04-27 10:08:04 PM Writing prod.002.in\n",
      "2018-04-27 10:08:04 PM Running MD at ./OA-G3-4/AMBER/APR/windows/a010\n",
      "2018-04-27 10:08:04 PM Exec line: pmemd.cuda -O -p solvate.prmtop -ref solvate.rst7 -c prod.001.rst7 -i prod.002.in -o prod.002.out -r prod.002.rst7 -x prod.002.nc -inf prod.002.mdinfo -e prod.002.mden\n"
     ]
    },
    {
     "name": "stdout",
     "output_type": "stream",
     "text": [
      "Re-running ./OA-G3-4/AMBER/APR/windows/a010/prod.002.nc...\n"
     ]
    },
    {
     "name": "stderr",
     "output_type": "stream",
     "text": [
      "2018-04-27 10:10:45 PM MD completed ...\n",
      "2018-04-27 10:10:45 PM Writing prod.002.in\n",
      "2018-04-27 10:10:45 PM Running MD at ./OA-G3-4/AMBER/APR/windows/a011\n",
      "2018-04-27 10:10:45 PM Exec line: pmemd.cuda -O -p solvate.prmtop -ref solvate.rst7 -c prod.001.rst7 -i prod.002.in -o prod.002.out -r prod.002.rst7 -x prod.002.nc -inf prod.002.mdinfo -e prod.002.mden\n"
     ]
    },
    {
     "name": "stdout",
     "output_type": "stream",
     "text": [
      "Re-running ./OA-G3-4/AMBER/APR/windows/a011/prod.002.nc...\n"
     ]
    },
    {
     "name": "stderr",
     "output_type": "stream",
     "text": [
      "2018-04-27 10:13:27 PM MD completed ...\n",
      "2018-04-27 10:13:27 PM Writing prod.002.in\n",
      "2018-04-27 10:13:27 PM Running MD at ./OA-G3-4/AMBER/APR/windows/a012\n",
      "2018-04-27 10:13:27 PM Exec line: pmemd.cuda -O -p solvate.prmtop -ref solvate.rst7 -c prod.001.rst7 -i prod.002.in -o prod.002.out -r prod.002.rst7 -x prod.002.nc -inf prod.002.mdinfo -e prod.002.mden\n"
     ]
    },
    {
     "name": "stdout",
     "output_type": "stream",
     "text": [
      "Re-running ./OA-G3-4/AMBER/APR/windows/a012/prod.002.nc...\n"
     ]
    },
    {
     "name": "stderr",
     "output_type": "stream",
     "text": [
      "2018-04-27 10:16:09 PM MD completed ...\n",
      "2018-04-27 10:16:09 PM Writing prod.002.in\n",
      "2018-04-27 10:16:09 PM Running MD at ./OA-G3-4/AMBER/APR/windows/a013\n",
      "2018-04-27 10:16:09 PM Exec line: pmemd.cuda -O -p solvate.prmtop -ref solvate.rst7 -c prod.001.rst7 -i prod.002.in -o prod.002.out -r prod.002.rst7 -x prod.002.nc -inf prod.002.mdinfo -e prod.002.mden\n"
     ]
    },
    {
     "name": "stdout",
     "output_type": "stream",
     "text": [
      "Re-running ./OA-G3-4/AMBER/APR/windows/a013/prod.002.nc...\n"
     ]
    },
    {
     "name": "stderr",
     "output_type": "stream",
     "text": [
      "2018-04-27 10:18:45 PM MD completed ...\n",
      "2018-04-27 10:18:45 PM Writing prod.002.in\n",
      "2018-04-27 10:18:45 PM Running MD at ./OA-G3-4/AMBER/APR/windows/p000\n",
      "2018-04-27 10:18:45 PM Exec line: pmemd.cuda -O -p solvate.prmtop -ref solvate.rst7 -c prod.001.rst7 -i prod.002.in -o prod.002.out -r prod.002.rst7 -x prod.002.nc -inf prod.002.mdinfo -e prod.002.mden\n"
     ]
    },
    {
     "name": "stdout",
     "output_type": "stream",
     "text": [
      "Re-running ./OA-G3-4/AMBER/APR/windows/p000/prod.002.nc...\n"
     ]
    },
    {
     "name": "stderr",
     "output_type": "stream",
     "text": [
      "2018-04-27 10:21:26 PM MD completed ...\n",
      "2018-04-27 10:21:26 PM Writing prod.002.in\n",
      "2018-04-27 10:21:26 PM Running MD at ./OA-G3-4/AMBER/APR/windows/p001\n",
      "2018-04-27 10:21:26 PM Exec line: pmemd.cuda -O -p solvate.prmtop -ref solvate.rst7 -c prod.001.rst7 -i prod.002.in -o prod.002.out -r prod.002.rst7 -x prod.002.nc -inf prod.002.mdinfo -e prod.002.mden\n"
     ]
    },
    {
     "name": "stdout",
     "output_type": "stream",
     "text": [
      "Re-running ./OA-G3-4/AMBER/APR/windows/p001/prod.002.nc...\n"
     ]
    },
    {
     "name": "stderr",
     "output_type": "stream",
     "text": [
      "2018-04-27 10:24:04 PM MD completed ...\n",
      "2018-04-27 10:24:04 PM Writing prod.002.in\n",
      "2018-04-27 10:24:04 PM Running MD at ./OA-G3-4/AMBER/APR/windows/p002\n",
      "2018-04-27 10:24:04 PM Exec line: pmemd.cuda -O -p solvate.prmtop -ref solvate.rst7 -c prod.001.rst7 -i prod.002.in -o prod.002.out -r prod.002.rst7 -x prod.002.nc -inf prod.002.mdinfo -e prod.002.mden\n"
     ]
    },
    {
     "name": "stdout",
     "output_type": "stream",
     "text": [
      "Re-running ./OA-G3-4/AMBER/APR/windows/p002/prod.002.nc...\n"
     ]
    },
    {
     "name": "stderr",
     "output_type": "stream",
     "text": [
      "2018-04-27 10:26:44 PM MD completed ...\n",
      "2018-04-27 10:26:44 PM Writing prod.002.in\n",
      "2018-04-27 10:26:44 PM Running MD at ./OA-G3-4/AMBER/APR/windows/p003\n",
      "2018-04-27 10:26:44 PM Exec line: pmemd.cuda -O -p solvate.prmtop -ref solvate.rst7 -c prod.001.rst7 -i prod.002.in -o prod.002.out -r prod.002.rst7 -x prod.002.nc -inf prod.002.mdinfo -e prod.002.mden\n"
     ]
    },
    {
     "name": "stdout",
     "output_type": "stream",
     "text": [
      "Re-running ./OA-G3-4/AMBER/APR/windows/p003/prod.002.nc...\n"
     ]
    },
    {
     "name": "stderr",
     "output_type": "stream",
     "text": [
      "2018-04-27 10:29:24 PM MD completed ...\n",
      "2018-04-27 10:29:24 PM Writing prod.002.in\n",
      "2018-04-27 10:29:24 PM Running MD at ./OA-G3-4/AMBER/APR/windows/p004\n",
      "2018-04-27 10:29:24 PM Exec line: pmemd.cuda -O -p solvate.prmtop -ref solvate.rst7 -c prod.001.rst7 -i prod.002.in -o prod.002.out -r prod.002.rst7 -x prod.002.nc -inf prod.002.mdinfo -e prod.002.mden\n"
     ]
    },
    {
     "name": "stdout",
     "output_type": "stream",
     "text": [
      "Re-running ./OA-G3-4/AMBER/APR/windows/p004/prod.002.nc...\n"
     ]
    },
    {
     "name": "stderr",
     "output_type": "stream",
     "text": [
      "2018-04-27 10:32:05 PM MD completed ...\n",
      "2018-04-27 10:32:05 PM Writing prod.002.in\n",
      "2018-04-27 10:32:05 PM Running MD at ./OA-G3-4/AMBER/APR/windows/p005\n",
      "2018-04-27 10:32:05 PM Exec line: pmemd.cuda -O -p solvate.prmtop -ref solvate.rst7 -c prod.001.rst7 -i prod.002.in -o prod.002.out -r prod.002.rst7 -x prod.002.nc -inf prod.002.mdinfo -e prod.002.mden\n"
     ]
    },
    {
     "name": "stdout",
     "output_type": "stream",
     "text": [
      "Re-running ./OA-G3-4/AMBER/APR/windows/p005/prod.002.nc...\n"
     ]
    },
    {
     "name": "stderr",
     "output_type": "stream",
     "text": [
      "2018-04-27 10:34:44 PM MD completed ...\n",
      "2018-04-27 10:34:44 PM Writing prod.002.in\n",
      "2018-04-27 10:34:44 PM Running MD at ./OA-G3-4/AMBER/APR/windows/p006\n",
      "2018-04-27 10:34:44 PM Exec line: pmemd.cuda -O -p solvate.prmtop -ref solvate.rst7 -c prod.001.rst7 -i prod.002.in -o prod.002.out -r prod.002.rst7 -x prod.002.nc -inf prod.002.mdinfo -e prod.002.mden\n"
     ]
    },
    {
     "name": "stdout",
     "output_type": "stream",
     "text": [
      "Re-running ./OA-G3-4/AMBER/APR/windows/p006/prod.002.nc...\n"
     ]
    },
    {
     "name": "stderr",
     "output_type": "stream",
     "text": [
      "2018-04-27 10:37:25 PM MD completed ...\n",
      "2018-04-27 10:37:25 PM Writing prod.002.in\n",
      "2018-04-27 10:37:25 PM Running MD at ./OA-G3-4/AMBER/APR/windows/p007\n",
      "2018-04-27 10:37:25 PM Exec line: pmemd.cuda -O -p solvate.prmtop -ref solvate.rst7 -c prod.001.rst7 -i prod.002.in -o prod.002.out -r prod.002.rst7 -x prod.002.nc -inf prod.002.mdinfo -e prod.002.mden\n"
     ]
    },
    {
     "name": "stdout",
     "output_type": "stream",
     "text": [
      "Re-running ./OA-G3-4/AMBER/APR/windows/p007/prod.002.nc...\n"
     ]
    },
    {
     "name": "stderr",
     "output_type": "stream",
     "text": [
      "2018-04-27 10:40:03 PM MD completed ...\n",
      "2018-04-27 10:40:03 PM Writing prod.002.in\n",
      "2018-04-27 10:40:03 PM Running MD at ./OA-G3-4/AMBER/APR/windows/p008\n",
      "2018-04-27 10:40:03 PM Exec line: pmemd.cuda -O -p solvate.prmtop -ref solvate.rst7 -c prod.001.rst7 -i prod.002.in -o prod.002.out -r prod.002.rst7 -x prod.002.nc -inf prod.002.mdinfo -e prod.002.mden\n"
     ]
    },
    {
     "name": "stdout",
     "output_type": "stream",
     "text": [
      "Re-running ./OA-G3-4/AMBER/APR/windows/p008/prod.002.nc...\n"
     ]
    },
    {
     "name": "stderr",
     "output_type": "stream",
     "text": [
      "2018-04-27 10:42:43 PM MD completed ...\n",
      "2018-04-27 10:42:43 PM Writing prod.002.in\n",
      "2018-04-27 10:42:43 PM Running MD at ./OA-G3-4/AMBER/APR/windows/p009\n",
      "2018-04-27 10:42:43 PM Exec line: pmemd.cuda -O -p solvate.prmtop -ref solvate.rst7 -c prod.001.rst7 -i prod.002.in -o prod.002.out -r prod.002.rst7 -x prod.002.nc -inf prod.002.mdinfo -e prod.002.mden\n"
     ]
    },
    {
     "name": "stdout",
     "output_type": "stream",
     "text": [
      "Re-running ./OA-G3-4/AMBER/APR/windows/p009/prod.002.nc...\n"
     ]
    },
    {
     "name": "stderr",
     "output_type": "stream",
     "text": [
      "2018-04-27 10:45:23 PM MD completed ...\n",
      "2018-04-27 10:45:23 PM Writing prod.002.in\n",
      "2018-04-27 10:45:23 PM Running MD at ./OA-G3-4/AMBER/APR/windows/p010\n",
      "2018-04-27 10:45:23 PM Exec line: pmemd.cuda -O -p solvate.prmtop -ref solvate.rst7 -c prod.001.rst7 -i prod.002.in -o prod.002.out -r prod.002.rst7 -x prod.002.nc -inf prod.002.mdinfo -e prod.002.mden\n"
     ]
    },
    {
     "name": "stdout",
     "output_type": "stream",
     "text": [
      "Re-running ./OA-G3-4/AMBER/APR/windows/p010/prod.002.nc...\n"
     ]
    },
    {
     "name": "stderr",
     "output_type": "stream",
     "text": [
      "2018-04-27 10:48:04 PM MD completed ...\n",
      "2018-04-27 10:48:04 PM Writing prod.002.in\n",
      "2018-04-27 10:48:04 PM Running MD at ./OA-G3-4/AMBER/APR/windows/p011\n",
      "2018-04-27 10:48:04 PM Exec line: pmemd.cuda -O -p solvate.prmtop -ref solvate.rst7 -c prod.001.rst7 -i prod.002.in -o prod.002.out -r prod.002.rst7 -x prod.002.nc -inf prod.002.mdinfo -e prod.002.mden\n"
     ]
    },
    {
     "name": "stdout",
     "output_type": "stream",
     "text": [
      "Re-running ./OA-G3-4/AMBER/APR/windows/p011/prod.002.nc...\n"
     ]
    },
    {
     "name": "stderr",
     "output_type": "stream",
     "text": [
      "2018-04-27 10:50:45 PM MD completed ...\n",
      "2018-04-27 10:50:45 PM Writing prod.002.in\n",
      "2018-04-27 10:50:45 PM Running MD at ./OA-G3-4/AMBER/APR/windows/p012\n",
      "2018-04-27 10:50:45 PM Exec line: pmemd.cuda -O -p solvate.prmtop -ref solvate.rst7 -c prod.001.rst7 -i prod.002.in -o prod.002.out -r prod.002.rst7 -x prod.002.nc -inf prod.002.mdinfo -e prod.002.mden\n"
     ]
    },
    {
     "name": "stdout",
     "output_type": "stream",
     "text": [
      "Re-running ./OA-G3-4/AMBER/APR/windows/p012/prod.002.nc...\n"
     ]
    },
    {
     "name": "stderr",
     "output_type": "stream",
     "text": [
      "2018-04-27 10:53:25 PM MD completed ...\n",
      "2018-04-27 10:53:25 PM Writing prod.002.in\n",
      "2018-04-27 10:53:25 PM Running MD at ./OA-G3-4/AMBER/APR/windows/p013\n",
      "2018-04-27 10:53:25 PM Exec line: pmemd.cuda -O -p solvate.prmtop -ref solvate.rst7 -c prod.001.rst7 -i prod.002.in -o prod.002.out -r prod.002.rst7 -x prod.002.nc -inf prod.002.mdinfo -e prod.002.mden\n"
     ]
    },
    {
     "name": "stdout",
     "output_type": "stream",
     "text": [
      "Re-running ./OA-G3-4/AMBER/APR/windows/p013/prod.002.nc...\n"
     ]
    },
    {
     "name": "stderr",
     "output_type": "stream",
     "text": [
      "2018-04-27 10:56:05 PM MD completed ...\n",
      "2018-04-27 10:56:05 PM Writing prod.002.in\n",
      "2018-04-27 10:56:05 PM Running MD at ./OA-G3-4/AMBER/APR/windows/p014\n",
      "2018-04-27 10:56:05 PM Exec line: pmemd.cuda -O -p solvate.prmtop -ref solvate.rst7 -c prod.001.rst7 -i prod.002.in -o prod.002.out -r prod.002.rst7 -x prod.002.nc -inf prod.002.mdinfo -e prod.002.mden\n"
     ]
    },
    {
     "name": "stdout",
     "output_type": "stream",
     "text": [
      "Re-running ./OA-G3-4/AMBER/APR/windows/p014/prod.002.nc...\n"
     ]
    },
    {
     "name": "stderr",
     "output_type": "stream",
     "text": [
      "2018-04-27 10:58:46 PM MD completed ...\n",
      "2018-04-27 10:58:46 PM Writing prod.002.in\n",
      "2018-04-27 10:58:46 PM Running MD at ./OA-G3-4/AMBER/APR/windows/p015\n",
      "2018-04-27 10:58:46 PM Exec line: pmemd.cuda -O -p solvate.prmtop -ref solvate.rst7 -c prod.001.rst7 -i prod.002.in -o prod.002.out -r prod.002.rst7 -x prod.002.nc -inf prod.002.mdinfo -e prod.002.mden\n"
     ]
    },
    {
     "name": "stdout",
     "output_type": "stream",
     "text": [
      "Re-running ./OA-G3-4/AMBER/APR/windows/p015/prod.002.nc...\n"
     ]
    },
    {
     "name": "stderr",
     "output_type": "stream",
     "text": [
      "2018-04-27 11:01:24 PM MD completed ...\n",
      "2018-04-27 11:01:24 PM Writing prod.002.in\n",
      "2018-04-27 11:01:24 PM Running MD at ./OA-G3-4/AMBER/APR/windows/p016\n",
      "2018-04-27 11:01:24 PM Exec line: pmemd.cuda -O -p solvate.prmtop -ref solvate.rst7 -c prod.001.rst7 -i prod.002.in -o prod.002.out -r prod.002.rst7 -x prod.002.nc -inf prod.002.mdinfo -e prod.002.mden\n"
     ]
    },
    {
     "name": "stdout",
     "output_type": "stream",
     "text": [
      "Re-running ./OA-G3-4/AMBER/APR/windows/p016/prod.002.nc...\n"
     ]
    },
    {
     "name": "stderr",
     "output_type": "stream",
     "text": [
      "2018-04-27 11:04:04 PM MD completed ...\n",
      "2018-04-27 11:04:04 PM Writing prod.002.in\n",
      "2018-04-27 11:04:04 PM Running MD at ./OA-G3-4/AMBER/APR/windows/p017\n",
      "2018-04-27 11:04:04 PM Exec line: pmemd.cuda -O -p solvate.prmtop -ref solvate.rst7 -c prod.001.rst7 -i prod.002.in -o prod.002.out -r prod.002.rst7 -x prod.002.nc -inf prod.002.mdinfo -e prod.002.mden\n"
     ]
    },
    {
     "name": "stdout",
     "output_type": "stream",
     "text": [
      "Re-running ./OA-G3-4/AMBER/APR/windows/p017/prod.002.nc...\n"
     ]
    },
    {
     "name": "stderr",
     "output_type": "stream",
     "text": [
      "2018-04-27 11:06:43 PM MD completed ...\n",
      "2018-04-27 11:06:43 PM Writing prod.002.in\n",
      "2018-04-27 11:06:43 PM Running MD at ./OA-G3-4/AMBER/APR/windows/p018\n",
      "2018-04-27 11:06:43 PM Exec line: pmemd.cuda -O -p solvate.prmtop -ref solvate.rst7 -c prod.001.rst7 -i prod.002.in -o prod.002.out -r prod.002.rst7 -x prod.002.nc -inf prod.002.mdinfo -e prod.002.mden\n"
     ]
    },
    {
     "name": "stdout",
     "output_type": "stream",
     "text": [
      "Re-running ./OA-G3-4/AMBER/APR/windows/p018/prod.002.nc...\n"
     ]
    },
    {
     "name": "stderr",
     "output_type": "stream",
     "text": [
      "2018-04-27 11:09:22 PM MD completed ...\n",
      "2018-04-27 11:09:22 PM Writing prod.002.in\n",
      "2018-04-27 11:09:22 PM Running MD at ./OA-G3-4/AMBER/APR/windows/p019\n",
      "2018-04-27 11:09:22 PM Exec line: pmemd.cuda -O -p solvate.prmtop -ref solvate.rst7 -c prod.001.rst7 -i prod.002.in -o prod.002.out -r prod.002.rst7 -x prod.002.nc -inf prod.002.mdinfo -e prod.002.mden\n"
     ]
    },
    {
     "name": "stdout",
     "output_type": "stream",
     "text": [
      "Re-running ./OA-G3-4/AMBER/APR/windows/p019/prod.002.nc...\n"
     ]
    },
    {
     "name": "stderr",
     "output_type": "stream",
     "text": [
      "2018-04-27 11:12:02 PM MD completed ...\n",
      "2018-04-27 11:12:02 PM Writing prod.002.in\n",
      "2018-04-27 11:12:02 PM Running MD at ./OA-G3-4/AMBER/APR/windows/p020\n",
      "2018-04-27 11:12:02 PM Exec line: pmemd.cuda -O -p solvate.prmtop -ref solvate.rst7 -c prod.001.rst7 -i prod.002.in -o prod.002.out -r prod.002.rst7 -x prod.002.nc -inf prod.002.mdinfo -e prod.002.mden\n"
     ]
    },
    {
     "name": "stdout",
     "output_type": "stream",
     "text": [
      "Re-running ./OA-G3-4/AMBER/APR/windows/p020/prod.002.nc...\n"
     ]
    },
    {
     "name": "stderr",
     "output_type": "stream",
     "text": [
      "2018-04-27 11:14:41 PM MD completed ...\n",
      "2018-04-27 11:14:41 PM Writing prod.002.in\n",
      "2018-04-27 11:14:41 PM Running MD at ./OA-G3-4/AMBER/APR/windows/p021\n",
      "2018-04-27 11:14:41 PM Exec line: pmemd.cuda -O -p solvate.prmtop -ref solvate.rst7 -c prod.001.rst7 -i prod.002.in -o prod.002.out -r prod.002.rst7 -x prod.002.nc -inf prod.002.mdinfo -e prod.002.mden\n"
     ]
    },
    {
     "name": "stdout",
     "output_type": "stream",
     "text": [
      "Re-running ./OA-G3-4/AMBER/APR/windows/p021/prod.002.nc...\n"
     ]
    },
    {
     "name": "stderr",
     "output_type": "stream",
     "text": [
      "2018-04-27 11:17:21 PM MD completed ...\n",
      "2018-04-27 11:17:21 PM Writing prod.002.in\n",
      "2018-04-27 11:17:21 PM Running MD at ./OA-G3-4/AMBER/APR/windows/p022\n",
      "2018-04-27 11:17:21 PM Exec line: pmemd.cuda -O -p solvate.prmtop -ref solvate.rst7 -c prod.001.rst7 -i prod.002.in -o prod.002.out -r prod.002.rst7 -x prod.002.nc -inf prod.002.mdinfo -e prod.002.mden\n"
     ]
    },
    {
     "name": "stdout",
     "output_type": "stream",
     "text": [
      "Re-running ./OA-G3-4/AMBER/APR/windows/p022/prod.002.nc...\n"
     ]
    },
    {
     "name": "stderr",
     "output_type": "stream",
     "text": [
      "2018-04-27 11:20:00 PM MD completed ...\n",
      "2018-04-27 11:20:00 PM Writing prod.002.in\n",
      "2018-04-27 11:20:00 PM Running MD at ./OA-G3-4/AMBER/APR/windows/p023\n",
      "2018-04-27 11:20:00 PM Exec line: pmemd.cuda -O -p solvate.prmtop -ref solvate.rst7 -c prod.001.rst7 -i prod.002.in -o prod.002.out -r prod.002.rst7 -x prod.002.nc -inf prod.002.mdinfo -e prod.002.mden\n"
     ]
    },
    {
     "name": "stdout",
     "output_type": "stream",
     "text": [
      "Re-running ./OA-G3-4/AMBER/APR/windows/p023/prod.002.nc...\n"
     ]
    },
    {
     "name": "stderr",
     "output_type": "stream",
     "text": [
      "2018-04-27 11:22:39 PM MD completed ...\n",
      "2018-04-27 11:22:39 PM Writing prod.002.in\n",
      "2018-04-27 11:22:39 PM Running MD at ./OA-G3-4/AMBER/APR/windows/p024\n",
      "2018-04-27 11:22:39 PM Exec line: pmemd.cuda -O -p solvate.prmtop -ref solvate.rst7 -c prod.001.rst7 -i prod.002.in -o prod.002.out -r prod.002.rst7 -x prod.002.nc -inf prod.002.mdinfo -e prod.002.mden\n"
     ]
    },
    {
     "name": "stdout",
     "output_type": "stream",
     "text": [
      "Re-running ./OA-G3-4/AMBER/APR/windows/p024/prod.002.nc...\n"
     ]
    },
    {
     "name": "stderr",
     "output_type": "stream",
     "text": [
      "2018-04-27 11:25:19 PM MD completed ...\n",
      "2018-04-27 11:25:19 PM Writing prod.002.in\n",
      "2018-04-27 11:25:19 PM Running MD at ./OA-G3-4/AMBER/APR/windows/p025\n",
      "2018-04-27 11:25:19 PM Exec line: pmemd.cuda -O -p solvate.prmtop -ref solvate.rst7 -c prod.001.rst7 -i prod.002.in -o prod.002.out -r prod.002.rst7 -x prod.002.nc -inf prod.002.mdinfo -e prod.002.mden\n"
     ]
    },
    {
     "name": "stdout",
     "output_type": "stream",
     "text": [
      "Re-running ./OA-G3-4/AMBER/APR/windows/p025/prod.002.nc...\n"
     ]
    },
    {
     "name": "stderr",
     "output_type": "stream",
     "text": [
      "2018-04-27 11:27:58 PM MD completed ...\n",
      "2018-04-27 11:27:58 PM Writing prod.002.in\n",
      "2018-04-27 11:27:58 PM Running MD at ./OA-G3-4/AMBER/APR/windows/p026\n",
      "2018-04-27 11:27:58 PM Exec line: pmemd.cuda -O -p solvate.prmtop -ref solvate.rst7 -c prod.001.rst7 -i prod.002.in -o prod.002.out -r prod.002.rst7 -x prod.002.nc -inf prod.002.mdinfo -e prod.002.mden\n"
     ]
    },
    {
     "name": "stdout",
     "output_type": "stream",
     "text": [
      "Re-running ./OA-G3-4/AMBER/APR/windows/p026/prod.002.nc...\n"
     ]
    },
    {
     "name": "stderr",
     "output_type": "stream",
     "text": [
      "2018-04-27 11:30:38 PM MD completed ...\n",
      "2018-04-27 11:30:38 PM Writing prod.002.in\n",
      "2018-04-27 11:30:38 PM Running MD at ./OA-G3-4/AMBER/APR/windows/p027\n",
      "2018-04-27 11:30:38 PM Exec line: pmemd.cuda -O -p solvate.prmtop -ref solvate.rst7 -c prod.001.rst7 -i prod.002.in -o prod.002.out -r prod.002.rst7 -x prod.002.nc -inf prod.002.mdinfo -e prod.002.mden\n"
     ]
    },
    {
     "name": "stdout",
     "output_type": "stream",
     "text": [
      "Re-running ./OA-G3-4/AMBER/APR/windows/p027/prod.002.nc...\n"
     ]
    },
    {
     "name": "stderr",
     "output_type": "stream",
     "text": [
      "2018-04-27 11:33:17 PM MD completed ...\n",
      "2018-04-27 11:33:17 PM Writing prod.002.in\n",
      "2018-04-27 11:33:17 PM Running MD at ./OA-G3-4/AMBER/APR/windows/p028\n",
      "2018-04-27 11:33:17 PM Exec line: pmemd.cuda -O -p solvate.prmtop -ref solvate.rst7 -c prod.001.rst7 -i prod.002.in -o prod.002.out -r prod.002.rst7 -x prod.002.nc -inf prod.002.mdinfo -e prod.002.mden\n"
     ]
    },
    {
     "name": "stdout",
     "output_type": "stream",
     "text": [
      "Re-running ./OA-G3-4/AMBER/APR/windows/p028/prod.002.nc...\n"
     ]
    },
    {
     "name": "stderr",
     "output_type": "stream",
     "text": [
      "2018-04-27 11:35:54 PM MD completed ...\n",
      "2018-04-27 11:35:54 PM Writing prod.002.in\n",
      "2018-04-27 11:35:54 PM Running MD at ./OA-G3-4/AMBER/APR/windows/p029\n",
      "2018-04-27 11:35:54 PM Exec line: pmemd.cuda -O -p solvate.prmtop -ref solvate.rst7 -c prod.001.rst7 -i prod.002.in -o prod.002.out -r prod.002.rst7 -x prod.002.nc -inf prod.002.mdinfo -e prod.002.mden\n"
     ]
    },
    {
     "name": "stdout",
     "output_type": "stream",
     "text": [
      "Re-running ./OA-G3-4/AMBER/APR/windows/p029/prod.002.nc...\n"
     ]
    },
    {
     "name": "stderr",
     "output_type": "stream",
     "text": [
      "2018-04-27 11:38:35 PM MD completed ...\n",
      "2018-04-27 11:38:35 PM Writing prod.002.in\n",
      "2018-04-27 11:38:35 PM Running MD at ./OA-G3-4/AMBER/APR/windows/p030\n",
      "2018-04-27 11:38:35 PM Exec line: pmemd.cuda -O -p solvate.prmtop -ref solvate.rst7 -c prod.001.rst7 -i prod.002.in -o prod.002.out -r prod.002.rst7 -x prod.002.nc -inf prod.002.mdinfo -e prod.002.mden\n"
     ]
    },
    {
     "name": "stdout",
     "output_type": "stream",
     "text": [
      "Re-running ./OA-G3-4/AMBER/APR/windows/p030/prod.002.nc...\n"
     ]
    },
    {
     "name": "stderr",
     "output_type": "stream",
     "text": [
      "2018-04-27 11:41:15 PM MD completed ...\n",
      "2018-04-27 11:41:15 PM Writing prod.002.in\n",
      "2018-04-27 11:41:15 PM Running MD at ./OA-G3-4/AMBER/APR/windows/p031\n",
      "2018-04-27 11:41:15 PM Exec line: pmemd.cuda -O -p solvate.prmtop -ref solvate.rst7 -c prod.001.rst7 -i prod.002.in -o prod.002.out -r prod.002.rst7 -x prod.002.nc -inf prod.002.mdinfo -e prod.002.mden\n"
     ]
    },
    {
     "name": "stdout",
     "output_type": "stream",
     "text": [
      "Re-running ./OA-G3-4/AMBER/APR/windows/p031/prod.002.nc...\n"
     ]
    },
    {
     "name": "stderr",
     "output_type": "stream",
     "text": [
      "2018-04-27 11:43:55 PM MD completed ...\n",
      "2018-04-27 11:43:55 PM Writing prod.002.in\n",
      "2018-04-27 11:43:55 PM Running MD at ./OA-G3-4/AMBER/APR/windows/p032\n",
      "2018-04-27 11:43:55 PM Exec line: pmemd.cuda -O -p solvate.prmtop -ref solvate.rst7 -c prod.001.rst7 -i prod.002.in -o prod.002.out -r prod.002.rst7 -x prod.002.nc -inf prod.002.mdinfo -e prod.002.mden\n"
     ]
    },
    {
     "name": "stdout",
     "output_type": "stream",
     "text": [
      "Re-running ./OA-G3-4/AMBER/APR/windows/p032/prod.002.nc...\n"
     ]
    },
    {
     "name": "stderr",
     "output_type": "stream",
     "text": [
      "2018-04-27 11:46:34 PM MD completed ...\n",
      "2018-04-27 11:46:34 PM Writing prod.002.in\n",
      "2018-04-27 11:46:34 PM Running MD at ./OA-G3-4/AMBER/APR/windows/p033\n",
      "2018-04-27 11:46:34 PM Exec line: pmemd.cuda -O -p solvate.prmtop -ref solvate.rst7 -c prod.001.rst7 -i prod.002.in -o prod.002.out -r prod.002.rst7 -x prod.002.nc -inf prod.002.mdinfo -e prod.002.mden\n"
     ]
    },
    {
     "name": "stdout",
     "output_type": "stream",
     "text": [
      "Re-running ./OA-G3-4/AMBER/APR/windows/p033/prod.002.nc...\n"
     ]
    },
    {
     "name": "stderr",
     "output_type": "stream",
     "text": [
      "2018-04-27 11:49:13 PM MD completed ...\n",
      "2018-04-27 11:49:13 PM Writing prod.002.in\n",
      "2018-04-27 11:49:13 PM Running MD at ./OA-G3-4/AMBER/APR/windows/p034\n",
      "2018-04-27 11:49:13 PM Exec line: pmemd.cuda -O -p solvate.prmtop -ref solvate.rst7 -c prod.001.rst7 -i prod.002.in -o prod.002.out -r prod.002.rst7 -x prod.002.nc -inf prod.002.mdinfo -e prod.002.mden\n"
     ]
    },
    {
     "name": "stdout",
     "output_type": "stream",
     "text": [
      "Re-running ./OA-G3-4/AMBER/APR/windows/p034/prod.002.nc...\n"
     ]
    },
    {
     "name": "stderr",
     "output_type": "stream",
     "text": [
      "2018-04-27 11:51:52 PM MD completed ...\n",
      "2018-04-27 11:51:52 PM Writing prod.002.in\n",
      "2018-04-27 11:51:52 PM Running MD at ./OA-G3-4/AMBER/APR/windows/p035\n",
      "2018-04-27 11:51:52 PM Exec line: pmemd.cuda -O -p solvate.prmtop -ref solvate.rst7 -c prod.001.rst7 -i prod.002.in -o prod.002.out -r prod.002.rst7 -x prod.002.nc -inf prod.002.mdinfo -e prod.002.mden\n"
     ]
    },
    {
     "name": "stdout",
     "output_type": "stream",
     "text": [
      "Re-running ./OA-G3-4/AMBER/APR/windows/p035/prod.002.nc...\n"
     ]
    },
    {
     "name": "stderr",
     "output_type": "stream",
     "text": [
      "2018-04-27 11:54:33 PM MD completed ...\n",
      "2018-04-27 11:54:33 PM Writing prod.002.in\n",
      "2018-04-27 11:54:33 PM Running MD at ./OA-G3-4/AMBER/APR/windows/p036\n",
      "2018-04-27 11:54:33 PM Exec line: pmemd.cuda -O -p solvate.prmtop -ref solvate.rst7 -c prod.001.rst7 -i prod.002.in -o prod.002.out -r prod.002.rst7 -x prod.002.nc -inf prod.002.mdinfo -e prod.002.mden\n"
     ]
    },
    {
     "name": "stdout",
     "output_type": "stream",
     "text": [
      "Re-running ./OA-G3-4/AMBER/APR/windows/p036/prod.002.nc...\n"
     ]
    },
    {
     "name": "stderr",
     "output_type": "stream",
     "text": [
      "2018-04-27 11:57:13 PM MD completed ...\n",
      "2018-04-27 11:57:13 PM Writing prod.002.in\n",
      "2018-04-27 11:57:13 PM Running MD at ./OA-G3-4/AMBER/APR/windows/p037\n",
      "2018-04-27 11:57:13 PM Exec line: pmemd.cuda -O -p solvate.prmtop -ref solvate.rst7 -c prod.001.rst7 -i prod.002.in -o prod.002.out -r prod.002.rst7 -x prod.002.nc -inf prod.002.mdinfo -e prod.002.mden\n"
     ]
    },
    {
     "name": "stdout",
     "output_type": "stream",
     "text": [
      "Re-running ./OA-G3-4/AMBER/APR/windows/p037/prod.002.nc...\n"
     ]
    },
    {
     "name": "stderr",
     "output_type": "stream",
     "text": [
      "2018-04-27 11:59:51 PM MD completed ...\n",
      "2018-04-27 11:59:51 PM Writing prod.002.in\n",
      "2018-04-27 11:59:51 PM Running MD at ./OA-G3-4/AMBER/APR/windows/p038\n",
      "2018-04-27 11:59:51 PM Exec line: pmemd.cuda -O -p solvate.prmtop -ref solvate.rst7 -c prod.001.rst7 -i prod.002.in -o prod.002.out -r prod.002.rst7 -x prod.002.nc -inf prod.002.mdinfo -e prod.002.mden\n"
     ]
    },
    {
     "name": "stdout",
     "output_type": "stream",
     "text": [
      "Re-running ./OA-G3-4/AMBER/APR/windows/p038/prod.002.nc...\n"
     ]
    },
    {
     "name": "stderr",
     "output_type": "stream",
     "text": [
      "2018-04-28 12:02:29 AM MD completed ...\n",
      "2018-04-28 12:02:29 AM Writing prod.002.in\n",
      "2018-04-28 12:02:29 AM Running MD at ./OA-G3-4/AMBER/APR/windows/p039\n",
      "2018-04-28 12:02:29 AM Exec line: pmemd.cuda -O -p solvate.prmtop -ref solvate.rst7 -c prod.001.rst7 -i prod.002.in -o prod.002.out -r prod.002.rst7 -x prod.002.nc -inf prod.002.mdinfo -e prod.002.mden\n"
     ]
    },
    {
     "name": "stdout",
     "output_type": "stream",
     "text": [
      "Re-running ./OA-G3-4/AMBER/APR/windows/p039/prod.002.nc...\n"
     ]
    },
    {
     "name": "stderr",
     "output_type": "stream",
     "text": [
      "2018-04-28 12:05:09 AM MD completed ...\n",
      "2018-04-28 12:05:09 AM Writing prod.002.in\n",
      "2018-04-28 12:05:09 AM Running MD at ./OA-G3-4/AMBER/APR/windows/p040\n",
      "2018-04-28 12:05:09 AM Exec line: pmemd.cuda -O -p solvate.prmtop -ref solvate.rst7 -c prod.001.rst7 -i prod.002.in -o prod.002.out -r prod.002.rst7 -x prod.002.nc -inf prod.002.mdinfo -e prod.002.mden\n"
     ]
    },
    {
     "name": "stdout",
     "output_type": "stream",
     "text": [
      "Re-running ./OA-G3-4/AMBER/APR/windows/p040/prod.002.nc...\n"
     ]
    },
    {
     "name": "stderr",
     "output_type": "stream",
     "text": [
      "2018-04-28 12:07:48 AM MD completed ...\n",
      "2018-04-28 12:07:48 AM Writing prod.002.in\n",
      "2018-04-28 12:07:48 AM Running MD at ./OA-G3-4/AMBER/APR/windows/p041\n",
      "2018-04-28 12:07:48 AM Exec line: pmemd.cuda -O -p solvate.prmtop -ref solvate.rst7 -c prod.001.rst7 -i prod.002.in -o prod.002.out -r prod.002.rst7 -x prod.002.nc -inf prod.002.mdinfo -e prod.002.mden\n"
     ]
    },
    {
     "name": "stdout",
     "output_type": "stream",
     "text": [
      "Re-running ./OA-G3-4/AMBER/APR/windows/p041/prod.002.nc...\n"
     ]
    },
    {
     "name": "stderr",
     "output_type": "stream",
     "text": [
      "2018-04-28 12:10:27 AM MD completed ...\n",
      "2018-04-28 12:10:27 AM Writing prod.002.in\n",
      "2018-04-28 12:10:27 AM Running MD at ./OA-G3-4/AMBER/APR/windows/p042\n",
      "2018-04-28 12:10:27 AM Exec line: pmemd.cuda -O -p solvate.prmtop -ref solvate.rst7 -c prod.001.rst7 -i prod.002.in -o prod.002.out -r prod.002.rst7 -x prod.002.nc -inf prod.002.mdinfo -e prod.002.mden\n"
     ]
    },
    {
     "name": "stdout",
     "output_type": "stream",
     "text": [
      "Re-running ./OA-G3-4/AMBER/APR/windows/p042/prod.002.nc...\n"
     ]
    },
    {
     "name": "stderr",
     "output_type": "stream",
     "text": [
      "2018-04-28 12:13:06 AM MD completed ...\n",
      "2018-04-28 12:13:06 AM Writing prod.002.in\n",
      "2018-04-28 12:13:06 AM Running MD at ./OA-G3-4/AMBER/APR/windows/p043\n",
      "2018-04-28 12:13:06 AM Exec line: pmemd.cuda -O -p solvate.prmtop -ref solvate.rst7 -c prod.001.rst7 -i prod.002.in -o prod.002.out -r prod.002.rst7 -x prod.002.nc -inf prod.002.mdinfo -e prod.002.mden\n"
     ]
    },
    {
     "name": "stdout",
     "output_type": "stream",
     "text": [
      "Re-running ./OA-G3-4/AMBER/APR/windows/p043/prod.002.nc...\n"
     ]
    },
    {
     "name": "stderr",
     "output_type": "stream",
     "text": [
      "2018-04-28 12:15:47 AM MD completed ...\n",
      "2018-04-28 12:15:47 AM Writing prod.002.in\n",
      "2018-04-28 12:15:47 AM Running MD at ./OA-G3-4/AMBER/APR/windows/p044\n",
      "2018-04-28 12:15:47 AM Exec line: pmemd.cuda -O -p solvate.prmtop -ref solvate.rst7 -c prod.001.rst7 -i prod.002.in -o prod.002.out -r prod.002.rst7 -x prod.002.nc -inf prod.002.mdinfo -e prod.002.mden\n"
     ]
    },
    {
     "name": "stdout",
     "output_type": "stream",
     "text": [
      "Re-running ./OA-G3-4/AMBER/APR/windows/p044/prod.002.nc...\n"
     ]
    },
    {
     "name": "stderr",
     "output_type": "stream",
     "text": [
      "2018-04-28 12:18:27 AM MD completed ...\n",
      "2018-04-28 12:18:27 AM Writing prod.002.in\n",
      "2018-04-28 12:18:27 AM Running MD at ./OA-G3-4/AMBER/APR/windows/p045\n",
      "2018-04-28 12:18:27 AM Exec line: pmemd.cuda -O -p solvate.prmtop -ref solvate.rst7 -c prod.001.rst7 -i prod.002.in -o prod.002.out -r prod.002.rst7 -x prod.002.nc -inf prod.002.mdinfo -e prod.002.mden\n"
     ]
    },
    {
     "name": "stdout",
     "output_type": "stream",
     "text": [
      "Re-running ./OA-G3-4/AMBER/APR/windows/p045/prod.002.nc...\n"
     ]
    },
    {
     "name": "stderr",
     "output_type": "stream",
     "text": [
      "2018-04-28 12:21:05 AM MD completed ...\n"
     ]
    }
   ],
   "source": [
    "for complx in g3_complexes:\n",
    "    \n",
    "    traj = pt.load(os.path.join(complx, 'AMBER', 'solvate.rst7'), \n",
    "                    os.path.join(complx, 'AMBER', 'solvate.prmtop'))\n",
    "\n",
    "    pull_initial = pt.distance(traj, ' '.join([dummy_anchors[0], guest_anchors[0]]))[0]\n",
    "\n",
    "    print(f'Set pull offset ({pull_initial:1.2f} A)')\n",
    "\n",
    "    pull_distances = [float(i) + pull_initial for i in pull_string.split()]\n",
    "    \n",
    "    guest_restraint_atoms = [[dummy_anchors[0], guest_anchors[0]],\n",
    "                         [dummy_anchors[1], dummy_anchors[0], guest_anchors[0]],\n",
    "                         [dummy_anchors[0], guest_anchors[0], guest_anchors[1]],\n",
    "                        ]\n",
    "\n",
    "    guest_restraint_targets = [pull_initial,\n",
    "                               180.0,\n",
    "                               180.0\n",
    "                              ]\n",
    "    guest_restraint_target_final = [pull_distances[-1], 180.0, 180.0]\n",
    "    guest_restraint_distance_fc = 5.0 # kcal/mol-A**2\n",
    "    guest_restraint_angle_fc = 100.0  # kcal/mol-rad**2\n",
    "\n",
    "    hg = pmd.load_file(os.path.join(complx, 'AMBER', 'solvate.prmtop'),\n",
    "                   os.path.join(complx, 'AMBER', 'solvate.rst7'),\n",
    "                   structure=True)\n",
    "\n",
    "    guest_restraints = []\n",
    "    for index, atoms in enumerate(guest_restraint_atoms): \n",
    "        if len(atoms) > 2:\n",
    "            angle = True\n",
    "        else:\n",
    "            angle = False\n",
    "        this = DAT_restraint()\n",
    "        this.auto_apr = True\n",
    "        this.amber_index = True\n",
    "        this.topology = hg\n",
    "        this.mask1 = atoms[0]\n",
    "        this.mask2 = atoms[1]\n",
    "        if angle:\n",
    "            this.mask3 = atoms[2]\n",
    "            this.attach['fc_final'] = guest_restraint_angle_fc\n",
    "        else:\n",
    "            this.attach['fc_final'] = guest_restraint_distance_fc\n",
    "        this.attach['target'] = guest_restraint_targets[index]\n",
    "        this.attach['fraction_list'] = attach_fractions\n",
    "\n",
    "        this.pull['target_final'] = guest_restraint_target_final[index]\n",
    "        this.pull['num_windows'] = windows[1]\n",
    "        this.initialize()\n",
    "\n",
    "        guest_restraints.append(this)\n",
    "        \n",
    "    structure = pt.load(os.path.join(complx, 'AMBER', 'APR', 'windows', 'a000', 'solvate.rst7'), \n",
    "                       os.path.join(complx, 'AMBER', 'APR', 'windows', 'a000', 'solvate.prmtop'))\n",
    "\n",
    "    stripped = structure.strip(':WAT,:Na+,:Cl-')\n",
    "    \n",
    "    print(f'Simulating {complx}')\n",
    "\n",
    "    for i_win, win in enumerate(window_list):\n",
    "        phase = phase_dict[win[0]]\n",
    "        win_path = os.path.join(complx, 'AMBER', 'APR', 'windows', win)\n",
    "\n",
    "        stats = os.stat(os.path.join(win_path, 'prod.002.nc'))\n",
    "        size = stats.st_size\n",
    "        \n",
    "        if size < 5000808:\n",
    "            #print('Delete {}'.format(os.path.join(win_path, 'prod.002.nc')))\n",
    "            os.remove(os.path.join(win_path, 'prod.002.out'))\n",
    "            os.remove(os.path.join(win_path, 'prod.002.in'))\n",
    "        \n",
    "        if not os.path.isfile(os.path.join(win_path, 'prod.002.nc')) or size < 5000808:\n",
    "            print('Re-running {}...'.format(os.path.join(win_path, 'prod.002.nc')))\n",
    "\n",
    "            sim = Simulation()\n",
    "            sim.executable = 'pmemd.cuda'\n",
    "            sim.CUDA_VISIBLE_DEVICES = 1\n",
    "            sim.path = win_path\n",
    "            sim.topology = 'solvate.prmtop'\n",
    "            sim.restraint_file = 'disang.rest'\n",
    "\n",
    "            sim.config_pbc_md()\n",
    "\n",
    "            sim.prefix = 'prod.002'\n",
    "\n",
    "            sim.inpcrd = 'prod.001.rst7'\n",
    "            sim.ref = 'solvate.rst7'\n",
    "            sim.cntrl['ntx'] = 5\n",
    "            sim.cntrl['irest'] = 1\n",
    "            sim.cntrl['nstlim'] = itr_nstlim\n",
    "            sim.cntrl['ntwr'] = itr_nstlim\n",
    "            sim.cntrl['ntwx'] = 250\n",
    "            sim.cntrl['ntwprt'] = ntwprt\n",
    "            sim.cntrl['ntxo'] = 2\n",
    "            sim.restraint_file = 'disang.rest'\n",
    "            sim.run()\n",
    "\n",
    "        else:\n",
    "            print(f'Window {win} has `prod.002.nc`...')"
   ]
  },
  {
   "cell_type": "code",
   "execution_count": 8,
   "metadata": {},
   "outputs": [
    {
     "name": "stdout",
     "output_type": "stream",
     "text": [
      "Set pull offset (8.03 A)\n",
      "Simulating ./OA-G3-0\n",
      "Set pull offset (5.63 A)\n",
      "Simulating ./OA-G3-1\n",
      "Set pull offset (7.28 A)\n",
      "Simulating ./OA-G3-2\n",
      "Set pull offset (7.46 A)\n",
      "Simulating ./OA-G3-3\n",
      "Set pull offset (6.83 A)\n",
      "Simulating ./OA-G3-4\n"
     ]
    },
    {
     "ename": "RuntimeError",
     "evalue": "n_atoms = 0: make sure to load correct Topology filename or load supported topology (pdb, amber parm, psf, ...)",
     "output_type": "error",
     "traceback": [
      "\u001b[0;31m---------------------------------------------------------------------------\u001b[0m",
      "\u001b[0;31mRuntimeError\u001b[0m                              Traceback (most recent call last)",
      "\u001b[0;32m<ipython-input-8-e11c9bdfb182>\u001b[0m in \u001b[0;36m<module>\u001b[0;34m()\u001b[0m\n\u001b[1;32m      2\u001b[0m \u001b[0;34m\u001b[0m\u001b[0m\n\u001b[1;32m      3\u001b[0m     traj = pt.load(os.path.join(complx, 'AMBER', 'solvate.rst7'), \n\u001b[0;32m----> 4\u001b[0;31m                     os.path.join(complx, 'AMBER', 'solvate.prmtop'))\n\u001b[0m\u001b[1;32m      5\u001b[0m \u001b[0;34m\u001b[0m\u001b[0m\n\u001b[1;32m      6\u001b[0m     \u001b[0mpull_initial\u001b[0m \u001b[0;34m=\u001b[0m \u001b[0mpt\u001b[0m\u001b[0;34m.\u001b[0m\u001b[0mdistance\u001b[0m\u001b[0;34m(\u001b[0m\u001b[0mtraj\u001b[0m\u001b[0;34m,\u001b[0m \u001b[0;34m' '\u001b[0m\u001b[0;34m.\u001b[0m\u001b[0mjoin\u001b[0m\u001b[0;34m(\u001b[0m\u001b[0;34m[\u001b[0m\u001b[0mdummy_anchors\u001b[0m\u001b[0;34m[\u001b[0m\u001b[0;36m0\u001b[0m\u001b[0;34m]\u001b[0m\u001b[0;34m,\u001b[0m \u001b[0mguest_anchors\u001b[0m\u001b[0;34m[\u001b[0m\u001b[0;36m0\u001b[0m\u001b[0;34m]\u001b[0m\u001b[0;34m]\u001b[0m\u001b[0;34m)\u001b[0m\u001b[0;34m)\u001b[0m\u001b[0;34m[\u001b[0m\u001b[0;36m0\u001b[0m\u001b[0;34m]\u001b[0m\u001b[0;34m\u001b[0m\u001b[0m\n",
      "\u001b[0;32m~/anaconda3/envs/paprika/lib/python3.6/site-packages/pytraj/io.py\u001b[0m in \u001b[0;36mload\u001b[0;34m(filename, top, frame_indices, mask, stride)\u001b[0m\n\u001b[1;32m    125\u001b[0m     \u001b[0;31m# load to TrajectoryIterator object first\u001b[0m\u001b[0;34m\u001b[0m\u001b[0;34m\u001b[0m\u001b[0m\n\u001b[1;32m    126\u001b[0m     \u001b[0;31m# do not use frame_indices_ here so we can optimize the slicing speed\u001b[0m\u001b[0;34m\u001b[0m\u001b[0;34m\u001b[0m\u001b[0m\n\u001b[0;32m--> 127\u001b[0;31m     \u001b[0mtraj\u001b[0m \u001b[0;34m=\u001b[0m \u001b[0mload_traj\u001b[0m\u001b[0;34m(\u001b[0m\u001b[0mfilename\u001b[0m\u001b[0;34m,\u001b[0m \u001b[0mtop\u001b[0m\u001b[0;34m,\u001b[0m \u001b[0mstride\u001b[0m\u001b[0;34m=\u001b[0m\u001b[0mstride\u001b[0m\u001b[0;34m)\u001b[0m\u001b[0;34m\u001b[0m\u001b[0m\n\u001b[0m\u001b[1;32m    128\u001b[0m \u001b[0;34m\u001b[0m\u001b[0m\n\u001b[1;32m    129\u001b[0m     \u001b[0;31m# do the slicing and other things if needed.\u001b[0m\u001b[0;34m\u001b[0m\u001b[0;34m\u001b[0m\u001b[0m\n",
      "\u001b[0;32m~/anaconda3/envs/paprika/lib/python3.6/site-packages/pytraj/io.py\u001b[0m in \u001b[0;36mload_traj\u001b[0;34m(filename, top, *args, **kwd)\u001b[0m\n\u001b[1;32m    241\u001b[0m     \"\"\"\n\u001b[1;32m    242\u001b[0m     \u001b[0;32mif\u001b[0m \u001b[0misinstance\u001b[0m\u001b[0;34m(\u001b[0m\u001b[0mtop\u001b[0m\u001b[0;34m,\u001b[0m \u001b[0mstring_types\u001b[0m\u001b[0;34m)\u001b[0m\u001b[0;34m:\u001b[0m\u001b[0;34m\u001b[0m\u001b[0m\n\u001b[0;32m--> 243\u001b[0;31m         \u001b[0mtop\u001b[0m \u001b[0;34m=\u001b[0m \u001b[0mload_topology\u001b[0m\u001b[0;34m(\u001b[0m\u001b[0mtop\u001b[0m\u001b[0;34m)\u001b[0m\u001b[0;34m\u001b[0m\u001b[0m\n\u001b[0m\u001b[1;32m    244\u001b[0m     \u001b[0;32mif\u001b[0m \u001b[0mtop\u001b[0m \u001b[0;32mis\u001b[0m \u001b[0;32mNone\u001b[0m \u001b[0;32mor\u001b[0m \u001b[0mtop\u001b[0m\u001b[0;34m.\u001b[0m\u001b[0mis_empty\u001b[0m\u001b[0;34m(\u001b[0m\u001b[0;34m)\u001b[0m\u001b[0;34m:\u001b[0m\u001b[0;34m\u001b[0m\u001b[0m\n\u001b[1;32m    245\u001b[0m         \u001b[0mtop\u001b[0m \u001b[0;34m=\u001b[0m \u001b[0mload_topology\u001b[0m\u001b[0;34m(\u001b[0m\u001b[0mfilename\u001b[0m\u001b[0;34m)\u001b[0m\u001b[0;34m\u001b[0m\u001b[0m\n",
      "\u001b[0;32m~/anaconda3/envs/paprika/lib/python3.6/site-packages/pytraj/io.py\u001b[0m in \u001b[0;36mload_topology\u001b[0;34m(filename, option)\u001b[0m\n\u001b[1;32m    534\u001b[0m     \u001b[0;32mif\u001b[0m \u001b[0mtop\u001b[0m\u001b[0;34m.\u001b[0m\u001b[0mn_atoms\u001b[0m \u001b[0;34m==\u001b[0m \u001b[0;36m0\u001b[0m\u001b[0;34m:\u001b[0m\u001b[0;34m\u001b[0m\u001b[0m\n\u001b[1;32m    535\u001b[0m         raise RuntimeError(\n\u001b[0;32m--> 536\u001b[0;31m             \u001b[0;34m'n_atoms = 0: make sure to load correct Topology filename '\u001b[0m\u001b[0;34m\u001b[0m\u001b[0m\n\u001b[0m\u001b[1;32m    537\u001b[0m             'or load supported topology (pdb, amber parm, psf, ...)')\n\u001b[1;32m    538\u001b[0m     \u001b[0;32mreturn\u001b[0m \u001b[0mtop\u001b[0m\u001b[0;34m\u001b[0m\u001b[0m\n",
      "\u001b[0;31mRuntimeError\u001b[0m: n_atoms = 0: make sure to load correct Topology filename or load supported topology (pdb, amber parm, psf, ...)"
     ]
    }
   ],
   "source": [
    "for complx in g3_complexes:\n",
    "    \n",
    "    traj = pt.load(os.path.join(complx, 'AMBER', 'solvate.rst7'), \n",
    "                    os.path.join(complx, 'AMBER', 'solvate.prmtop'))\n",
    "\n",
    "    pull_initial = pt.distance(traj, ' '.join([dummy_anchors[0], guest_anchors[0]]))[0]\n",
    "\n",
    "    print(f'Set pull offset ({pull_initial:1.2f} A)')\n",
    "\n",
    "    pull_distances = [float(i) + pull_initial for i in pull_string.split()]\n",
    "    \n",
    "    guest_restraint_atoms = [[dummy_anchors[0], guest_anchors[0]],\n",
    "                         [dummy_anchors[1], dummy_anchors[0], guest_anchors[0]],\n",
    "                         [dummy_anchors[0], guest_anchors[0], guest_anchors[1]],\n",
    "                        ]\n",
    "\n",
    "    guest_restraint_targets = [pull_initial,\n",
    "                               180.0,\n",
    "                               180.0\n",
    "                              ]\n",
    "    guest_restraint_target_final = [pull_distances[-1], 180.0, 180.0]\n",
    "    guest_restraint_distance_fc = 5.0 # kcal/mol-A**2\n",
    "    guest_restraint_angle_fc = 100.0  # kcal/mol-rad**2\n",
    "\n",
    "    hg = pmd.load_file(os.path.join(complx, 'AMBER', 'solvate.prmtop'),\n",
    "                   os.path.join(complx, 'AMBER', 'solvate.rst7'),\n",
    "                   structure=True)\n",
    "\n",
    "    guest_restraints = []\n",
    "    for index, atoms in enumerate(guest_restraint_atoms): \n",
    "        if len(atoms) > 2:\n",
    "            angle = True\n",
    "        else:\n",
    "            angle = False\n",
    "        this = DAT_restraint()\n",
    "        this.auto_apr = True\n",
    "        this.amber_index = True\n",
    "        this.topology = hg\n",
    "        this.mask1 = atoms[0]\n",
    "        this.mask2 = atoms[1]\n",
    "        if angle:\n",
    "            this.mask3 = atoms[2]\n",
    "            this.attach['fc_final'] = guest_restraint_angle_fc\n",
    "        else:\n",
    "            this.attach['fc_final'] = guest_restraint_distance_fc\n",
    "        this.attach['target'] = guest_restraint_targets[index]\n",
    "        this.attach['fraction_list'] = attach_fractions\n",
    "\n",
    "        this.pull['target_final'] = guest_restraint_target_final[index]\n",
    "        this.pull['num_windows'] = windows[1]\n",
    "        this.initialize()\n",
    "\n",
    "        guest_restraints.append(this)\n",
    "        \n",
    "    structure = pt.load(os.path.join(complx, 'AMBER', 'APR', 'windows', 'a000', 'solvate.rst7'), \n",
    "                       os.path.join(complx, 'AMBER', 'APR', 'windows', 'a000', 'solvate.prmtop'))\n",
    "\n",
    "    stripped = structure.strip(':WAT,:Na+,:Cl-')\n",
    "    \n",
    "    print(f'Simulating {complx}')\n",
    "\n",
    "    for i_win, win in enumerate(window_list):\n",
    "        phase = phase_dict[win[0]]\n",
    "        win_path = os.path.join(complx, 'AMBER', 'APR', 'windows', win)\n",
    "\n",
    "        # Loop through prod.003.nc through prod.005.nc,\n",
    "        # if they exist, delete them (they may have used the wrong restart),\n",
    "        # and then simulate.\n",
    "        iterations = np.arange(3, 6)\n",
    "        for iteration in iterations:\n",
    "            \n",
    "            if os.path.exists(os.path.join(win_path, 'prod.{:03d}.nc'.format(iteration))):\n",
    "                print('Deleting {}'.format(os.path.join(win_path, 'prod.{:03d}.nc'.format(iteration))))\n",
    "                try:\n",
    "                    os.remove(os.path.join(win_path, 'prod.{:03d}.out'.format(iteration)))\n",
    "                except:\n",
    "                    print('prod.{:03d}.out already removed...'.format(iteration))\n",
    "                try:\n",
    "                    os.remove(os.path.join(win_path, 'prod.{:03d}.in'.format(iteration)))\n",
    "                except:\n",
    "                    print('prod.{:03d}.in already removed...'.format(iteration))\n",
    "\n",
    "            else:\n",
    "                pass\n",
    "                    \n",
    "            sim = Simulation()\n",
    "            sim.executable = 'pmemd.cuda'\n",
    "            sim.CUDA_VISIBLE_DEVICES = 1\n",
    "            sim.path = win_path\n",
    "            sim.topology = 'solvate.prmtop'\n",
    "            sim.restraint_file = 'disang.rest'\n",
    "            sim.config_pbc_md()\n",
    "\n",
    "            sim.prefix = 'prod.{:03d}'.format(iteration)\n",
    "            sim.inpcrd = 'prod.{:03d}.rst7'.format(iteration - 1)\n",
    "\n",
    "            sim.ref = 'solvate.rst7'\n",
    "            sim.cntrl['ntx'] = 5\n",
    "            sim.cntrl['irest'] = 1\n",
    "            sim.cntrl['nstlim'] = itr_nstlim\n",
    "            sim.cntrl['ntwr'] = itr_nstlim\n",
    "            sim.cntrl['ntwx'] = 250\n",
    "            sim.cntrl['ntwprt'] = ntwprt\n",
    "            sim.cntrl['ntxo'] = 2\n",
    "            sim.restraint_file = 'disang.rest'\n",
    "            sim.run()\n"
   ]
  },
  {
   "cell_type": "markdown",
   "metadata": {},
   "source": [
    "## Run `a000` a bit longer to help convergence among the complexes..."
   ]
  },
  {
   "cell_type": "code",
   "execution_count": 10,
   "metadata": {},
   "outputs": [
    {
     "name": "stdout",
     "output_type": "stream",
     "text": [
      "Set pull offset (8.03 A)\n",
      "Simulating ./OA-G3-0\n",
      "Iteration 6...\n",
      "Iteration 7...\n",
      "Iteration 8...\n",
      "Iteration 9...\n",
      "Set pull offset (5.63 A)\n",
      "Simulating ./OA-G3-1\n",
      "Iteration 6...\n",
      "Iteration 7...\n",
      "Iteration 8...\n",
      "Iteration 9...\n",
      "Set pull offset (7.28 A)\n",
      "Simulating ./OA-G3-2\n",
      "Iteration 6...\n",
      "Iteration 7...\n",
      "Iteration 8...\n",
      "Iteration 9...\n",
      "Set pull offset (7.46 A)\n",
      "Simulating ./OA-G3-3\n",
      "Iteration 6...\n",
      "Iteration 7...\n",
      "Iteration 8...\n",
      "Iteration 9...\n",
      "Set pull offset (6.83 A)\n",
      "Simulating ./OA-G3-4\n",
      "Iteration 6...\n",
      "Iteration 7...\n",
      "Iteration 8...\n",
      "Iteration 9...\n"
     ]
    },
    {
     "ename": "RuntimeError",
     "evalue": "n_atoms = 0: make sure to load correct Topology filename or load supported topology (pdb, amber parm, psf, ...)",
     "output_type": "error",
     "traceback": [
      "\u001b[0;31m---------------------------------------------------------------------------\u001b[0m",
      "\u001b[0;31mRuntimeError\u001b[0m                              Traceback (most recent call last)",
      "\u001b[0;32m<ipython-input-10-adb458da6cf3>\u001b[0m in \u001b[0;36m<module>\u001b[0;34m()\u001b[0m\n\u001b[1;32m      2\u001b[0m \u001b[0;34m\u001b[0m\u001b[0m\n\u001b[1;32m      3\u001b[0m     traj = pt.load(os.path.join(complx, 'AMBER', 'solvate.rst7'), \n\u001b[0;32m----> 4\u001b[0;31m                     os.path.join(complx, 'AMBER', 'solvate.prmtop'))\n\u001b[0m\u001b[1;32m      5\u001b[0m \u001b[0;34m\u001b[0m\u001b[0m\n\u001b[1;32m      6\u001b[0m     \u001b[0mpull_initial\u001b[0m \u001b[0;34m=\u001b[0m \u001b[0mpt\u001b[0m\u001b[0;34m.\u001b[0m\u001b[0mdistance\u001b[0m\u001b[0;34m(\u001b[0m\u001b[0mtraj\u001b[0m\u001b[0;34m,\u001b[0m \u001b[0;34m' '\u001b[0m\u001b[0;34m.\u001b[0m\u001b[0mjoin\u001b[0m\u001b[0;34m(\u001b[0m\u001b[0;34m[\u001b[0m\u001b[0mdummy_anchors\u001b[0m\u001b[0;34m[\u001b[0m\u001b[0;36m0\u001b[0m\u001b[0;34m]\u001b[0m\u001b[0;34m,\u001b[0m \u001b[0mguest_anchors\u001b[0m\u001b[0;34m[\u001b[0m\u001b[0;36m0\u001b[0m\u001b[0;34m]\u001b[0m\u001b[0;34m]\u001b[0m\u001b[0;34m)\u001b[0m\u001b[0;34m)\u001b[0m\u001b[0;34m[\u001b[0m\u001b[0;36m0\u001b[0m\u001b[0;34m]\u001b[0m\u001b[0;34m\u001b[0m\u001b[0m\n",
      "\u001b[0;32m~/anaconda3/envs/paprika/lib/python3.6/site-packages/pytraj/io.py\u001b[0m in \u001b[0;36mload\u001b[0;34m(filename, top, frame_indices, mask, stride)\u001b[0m\n\u001b[1;32m    125\u001b[0m     \u001b[0;31m# load to TrajectoryIterator object first\u001b[0m\u001b[0;34m\u001b[0m\u001b[0;34m\u001b[0m\u001b[0m\n\u001b[1;32m    126\u001b[0m     \u001b[0;31m# do not use frame_indices_ here so we can optimize the slicing speed\u001b[0m\u001b[0;34m\u001b[0m\u001b[0;34m\u001b[0m\u001b[0m\n\u001b[0;32m--> 127\u001b[0;31m     \u001b[0mtraj\u001b[0m \u001b[0;34m=\u001b[0m \u001b[0mload_traj\u001b[0m\u001b[0;34m(\u001b[0m\u001b[0mfilename\u001b[0m\u001b[0;34m,\u001b[0m \u001b[0mtop\u001b[0m\u001b[0;34m,\u001b[0m \u001b[0mstride\u001b[0m\u001b[0;34m=\u001b[0m\u001b[0mstride\u001b[0m\u001b[0;34m)\u001b[0m\u001b[0;34m\u001b[0m\u001b[0m\n\u001b[0m\u001b[1;32m    128\u001b[0m \u001b[0;34m\u001b[0m\u001b[0m\n\u001b[1;32m    129\u001b[0m     \u001b[0;31m# do the slicing and other things if needed.\u001b[0m\u001b[0;34m\u001b[0m\u001b[0;34m\u001b[0m\u001b[0m\n",
      "\u001b[0;32m~/anaconda3/envs/paprika/lib/python3.6/site-packages/pytraj/io.py\u001b[0m in \u001b[0;36mload_traj\u001b[0;34m(filename, top, *args, **kwd)\u001b[0m\n\u001b[1;32m    241\u001b[0m     \"\"\"\n\u001b[1;32m    242\u001b[0m     \u001b[0;32mif\u001b[0m \u001b[0misinstance\u001b[0m\u001b[0;34m(\u001b[0m\u001b[0mtop\u001b[0m\u001b[0;34m,\u001b[0m \u001b[0mstring_types\u001b[0m\u001b[0;34m)\u001b[0m\u001b[0;34m:\u001b[0m\u001b[0;34m\u001b[0m\u001b[0m\n\u001b[0;32m--> 243\u001b[0;31m         \u001b[0mtop\u001b[0m \u001b[0;34m=\u001b[0m \u001b[0mload_topology\u001b[0m\u001b[0;34m(\u001b[0m\u001b[0mtop\u001b[0m\u001b[0;34m)\u001b[0m\u001b[0;34m\u001b[0m\u001b[0m\n\u001b[0m\u001b[1;32m    244\u001b[0m     \u001b[0;32mif\u001b[0m \u001b[0mtop\u001b[0m \u001b[0;32mis\u001b[0m \u001b[0;32mNone\u001b[0m \u001b[0;32mor\u001b[0m \u001b[0mtop\u001b[0m\u001b[0;34m.\u001b[0m\u001b[0mis_empty\u001b[0m\u001b[0;34m(\u001b[0m\u001b[0;34m)\u001b[0m\u001b[0;34m:\u001b[0m\u001b[0;34m\u001b[0m\u001b[0m\n\u001b[1;32m    245\u001b[0m         \u001b[0mtop\u001b[0m \u001b[0;34m=\u001b[0m \u001b[0mload_topology\u001b[0m\u001b[0;34m(\u001b[0m\u001b[0mfilename\u001b[0m\u001b[0;34m)\u001b[0m\u001b[0;34m\u001b[0m\u001b[0m\n",
      "\u001b[0;32m~/anaconda3/envs/paprika/lib/python3.6/site-packages/pytraj/io.py\u001b[0m in \u001b[0;36mload_topology\u001b[0;34m(filename, option)\u001b[0m\n\u001b[1;32m    534\u001b[0m     \u001b[0;32mif\u001b[0m \u001b[0mtop\u001b[0m\u001b[0;34m.\u001b[0m\u001b[0mn_atoms\u001b[0m \u001b[0;34m==\u001b[0m \u001b[0;36m0\u001b[0m\u001b[0;34m:\u001b[0m\u001b[0;34m\u001b[0m\u001b[0m\n\u001b[1;32m    535\u001b[0m         raise RuntimeError(\n\u001b[0;32m--> 536\u001b[0;31m             \u001b[0;34m'n_atoms = 0: make sure to load correct Topology filename '\u001b[0m\u001b[0;34m\u001b[0m\u001b[0m\n\u001b[0m\u001b[1;32m    537\u001b[0m             'or load supported topology (pdb, amber parm, psf, ...)')\n\u001b[1;32m    538\u001b[0m     \u001b[0;32mreturn\u001b[0m \u001b[0mtop\u001b[0m\u001b[0;34m\u001b[0m\u001b[0m\n",
      "\u001b[0;31mRuntimeError\u001b[0m: n_atoms = 0: make sure to load correct Topology filename or load supported topology (pdb, amber parm, psf, ...)"
     ]
    }
   ],
   "source": [
    "for complx in g3_complexes:\n",
    "    \n",
    "    traj = pt.load(os.path.join(complx, 'AMBER', 'solvate.rst7'), \n",
    "                    os.path.join(complx, 'AMBER', 'solvate.prmtop'))\n",
    "\n",
    "    pull_initial = pt.distance(traj, ' '.join([dummy_anchors[0], guest_anchors[0]]))[0]\n",
    "\n",
    "    print(f'Set pull offset ({pull_initial:1.2f} A)')\n",
    "\n",
    "    pull_distances = [float(i) + pull_initial for i in pull_string.split()]\n",
    "    \n",
    "    guest_restraint_atoms = [[dummy_anchors[0], guest_anchors[0]],\n",
    "                         [dummy_anchors[1], dummy_anchors[0], guest_anchors[0]],\n",
    "                         [dummy_anchors[0], guest_anchors[0], guest_anchors[1]],\n",
    "                        ]\n",
    "\n",
    "    guest_restraint_targets = [pull_initial,\n",
    "                               180.0,\n",
    "                               180.0\n",
    "                              ]\n",
    "    guest_restraint_target_final = [pull_distances[-1], 180.0, 180.0]\n",
    "    guest_restraint_distance_fc = 5.0 # kcal/mol-A**2\n",
    "    guest_restraint_angle_fc = 100.0  # kcal/mol-rad**2\n",
    "\n",
    "    hg = pmd.load_file(os.path.join(complx, 'AMBER', 'solvate.prmtop'),\n",
    "                   os.path.join(complx, 'AMBER', 'solvate.rst7'),\n",
    "                   structure=True)\n",
    "\n",
    "    guest_restraints = []\n",
    "    for index, atoms in enumerate(guest_restraint_atoms): \n",
    "        if len(atoms) > 2:\n",
    "            angle = True\n",
    "        else:\n",
    "            angle = False\n",
    "        this = DAT_restraint()\n",
    "        this.auto_apr = True\n",
    "        this.amber_index = True\n",
    "        this.topology = hg\n",
    "        this.mask1 = atoms[0]\n",
    "        this.mask2 = atoms[1]\n",
    "        if angle:\n",
    "            this.mask3 = atoms[2]\n",
    "            this.attach['fc_final'] = guest_restraint_angle_fc\n",
    "        else:\n",
    "            this.attach['fc_final'] = guest_restraint_distance_fc\n",
    "        this.attach['target'] = guest_restraint_targets[index]\n",
    "        this.attach['fraction_list'] = attach_fractions\n",
    "\n",
    "        this.pull['target_final'] = guest_restraint_target_final[index]\n",
    "        this.pull['num_windows'] = windows[1]\n",
    "        this.initialize()\n",
    "\n",
    "        guest_restraints.append(this)\n",
    "        \n",
    "    structure = pt.load(os.path.join(complx, 'AMBER', 'APR', 'windows', 'a000', 'solvate.rst7'), \n",
    "                       os.path.join(complx, 'AMBER', 'APR', 'windows', 'a000', 'solvate.prmtop'))\n",
    "\n",
    "    stripped = structure.strip(':WAT,:Na+,:Cl-')\n",
    "    \n",
    "    print(f'Simulating {complx}')\n",
    "\n",
    "    win = 'a000'\n",
    "    phase = phase_dict[win[0]]\n",
    "    win_path = os.path.join(complx, 'AMBER', 'APR', 'windows', win)\n",
    "\n",
    "    iterations = np.arange(6, 10)\n",
    "    for iteration in iterations:\n",
    "        print(f'Iteration {iteration}...')\n",
    "\n",
    "        sim = Simulation()\n",
    "        sim.executable = 'pmemd.cuda'\n",
    "        sim.CUDA_VISIBLE_DEVICES = 1\n",
    "        sim.path = win_path\n",
    "        sim.topology = 'solvate.prmtop'\n",
    "        sim.restraint_file = 'disang.rest'\n",
    "        sim.config_pbc_md()\n",
    "\n",
    "        sim.prefix = 'prod.{:03d}'.format(iteration)\n",
    "        sim.inpcrd = 'prod.{:03d}.rst7'.format(iteration - 1)\n",
    "\n",
    "        sim.ref = 'solvate.rst7'\n",
    "        sim.cntrl['ntx'] = 5\n",
    "        sim.cntrl['irest'] = 1\n",
    "        sim.cntrl['nstlim'] = itr_nstlim\n",
    "        sim.cntrl['ntwr'] = itr_nstlim\n",
    "        sim.cntrl['ntwx'] = 250\n",
    "        sim.cntrl['ntwprt'] = ntwprt\n",
    "        sim.cntrl['ntxo'] = 2\n",
    "        sim.restraint_file = 'disang.rest'\n",
    "        sim.run()\n"
   ]
  },
  {
   "cell_type": "code",
   "execution_count": null,
   "metadata": {},
   "outputs": [],
   "source": []
  }
 ],
 "metadata": {
  "kernelspec": {
   "display_name": "Python (paprika)",
   "language": "python",
   "name": "paprika"
  },
  "language_info": {
   "codemirror_mode": {
    "name": "ipython",
    "version": 3
   },
   "file_extension": ".py",
   "mimetype": "text/x-python",
   "name": "python",
   "nbconvert_exporter": "python",
   "pygments_lexer": "ipython3",
   "version": "3.6.5"
  }
 },
 "nbformat": 4,
 "nbformat_minor": 2
}
