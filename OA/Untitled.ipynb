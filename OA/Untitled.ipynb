{
 "cells": [
  {
   "cell_type": "code",
   "execution_count": 1,
   "metadata": {},
   "outputs": [],
   "source": [
    "%load_ext autoreload\n",
    "%autoreload 2\n",
    "\n",
    "import glob as glob\n",
    "import os as os\n",
    "import numpy as np\n",
    "import sys as sys\n",
    "\n",
    "import pytraj as pt\n",
    "import parmed as pmd\n",
    "import paprika\n",
    "from paprika.restraints import DAT_restraint\n",
    "from paprika.analysis import fe_calc"
   ]
  },
  {
   "cell_type": "code",
   "execution_count": null,
   "metadata": {},
   "outputs": [
    {
     "name": "stderr",
     "output_type": "stream",
     "text": [
      "2018-05-01 11:03:11 AM Started logging...\n",
      "2018-05-01 11:03:11 AM 2018-04-30_14:45:29_-0700-dff30ec-0.0.3\n"
     ]
    }
   ],
   "source": [
    "import logging\n",
    "from importlib import reload\n",
    "reload(logging)\n",
    "\n",
    "\n",
    "logging.basicConfig(\n",
    "    format='%(asctime)s %(message)s',\n",
    "    datefmt='%Y-%m-%d %I:%M:%S %p',\n",
    "    level=logging.INFO)\n",
    "logging.info('Started logging...')\n",
    "logging.info(paprika.__version__)"
   ]
  },
  {
   "cell_type": "code",
   "execution_count": null,
   "metadata": {},
   "outputs": [
    {
     "name": "stdout",
     "output_type": "stream",
     "text": [
      "['/home/dslochower/samsung-250gb-fast-data/OA/OA-G3-0', '/home/dslochower/samsung-250gb-fast-data/OA/OA-G3-1', '/home/dslochower/samsung-250gb-fast-data/OA/OA-G3-2', '/home/dslochower/samsung-250gb-fast-data/OA/OA-G3-3', '/home/dslochower/samsung-250gb-fast-data/OA/OA-G3-4']\n",
      "/home/dslochower/samsung-250gb-fast-data/OA/OA-G3-0\n"
     ]
    },
    {
     "name": "stderr",
     "output_type": "stream",
     "text": [
      "2018-05-01 11:03:13 AM attach: computing convergence for mbar-blocking\n",
      "2018-05-01 11:03:14 AM pull: computing convergence for mbar-blocking\n"
     ]
    },
    {
     "name": "stdout",
     "output_type": "stream",
     "text": [
      "/home/dslochower/samsung-250gb-fast-data/OA/OA-G3-0 0.01 8.524 ± 1.009\n"
     ]
    },
    {
     "name": "stderr",
     "output_type": "stream",
     "text": [
      "2018-05-01 11:03:15 AM attach: computing convergence for mbar-blocking\n",
      "2018-05-01 11:03:16 AM pull: computing convergence for mbar-blocking\n"
     ]
    },
    {
     "name": "stdout",
     "output_type": "stream",
     "text": [
      "/home/dslochower/samsung-250gb-fast-data/OA/OA-G3-0 0.02 6.861 ± 0.717\n"
     ]
    },
    {
     "name": "stderr",
     "output_type": "stream",
     "text": [
      "2018-05-01 11:03:17 AM attach: computing convergence for mbar-blocking\n",
      "2018-05-01 11:03:19 AM pull: computing convergence for mbar-blocking\n"
     ]
    },
    {
     "name": "stdout",
     "output_type": "stream",
     "text": [
      "/home/dslochower/samsung-250gb-fast-data/OA/OA-G3-0 0.03 6.436 ± 0.651\n"
     ]
    },
    {
     "name": "stderr",
     "output_type": "stream",
     "text": [
      "2018-05-01 11:03:20 AM attach: computing convergence for mbar-blocking\n",
      "2018-05-01 11:03:22 AM pull: computing convergence for mbar-blocking\n"
     ]
    },
    {
     "name": "stdout",
     "output_type": "stream",
     "text": [
      "/home/dslochower/samsung-250gb-fast-data/OA/OA-G3-0 0.04 6.095 ± 0.526\n"
     ]
    },
    {
     "name": "stderr",
     "output_type": "stream",
     "text": [
      "2018-05-01 11:03:23 AM attach: computing convergence for mbar-blocking\n",
      "2018-05-01 11:03:26 AM pull: computing convergence for mbar-blocking\n"
     ]
    },
    {
     "name": "stdout",
     "output_type": "stream",
     "text": [
      "/home/dslochower/samsung-250gb-fast-data/OA/OA-G3-0 0.05 6.002 ± 0.498\n"
     ]
    },
    {
     "name": "stderr",
     "output_type": "stream",
     "text": [
      "2018-05-01 11:03:28 AM attach: computing convergence for mbar-blocking\n",
      "2018-05-01 11:03:32 AM pull: computing convergence for mbar-blocking\n"
     ]
    },
    {
     "name": "stdout",
     "output_type": "stream",
     "text": [
      "/home/dslochower/samsung-250gb-fast-data/OA/OA-G3-0 0.060000000000000005 6.333 ± 0.407\n"
     ]
    },
    {
     "name": "stderr",
     "output_type": "stream",
     "text": [
      "2018-05-01 11:03:34 AM attach: computing convergence for mbar-blocking\n",
      "2018-05-01 11:03:38 AM pull: computing convergence for mbar-blocking\n"
     ]
    },
    {
     "name": "stdout",
     "output_type": "stream",
     "text": [
      "/home/dslochower/samsung-250gb-fast-data/OA/OA-G3-0 0.06999999999999999 6.288 ± 0.417\n"
     ]
    },
    {
     "name": "stderr",
     "output_type": "stream",
     "text": [
      "2018-05-01 11:03:40 AM attach: computing convergence for mbar-blocking\n",
      "2018-05-01 11:03:45 AM pull: computing convergence for mbar-blocking\n"
     ]
    },
    {
     "name": "stdout",
     "output_type": "stream",
     "text": [
      "/home/dslochower/samsung-250gb-fast-data/OA/OA-G3-0 0.08 6.202 ± 0.378\n"
     ]
    },
    {
     "name": "stderr",
     "output_type": "stream",
     "text": [
      "2018-05-01 11:03:47 AM attach: computing convergence for mbar-blocking\n",
      "2018-05-01 11:03:53 AM pull: computing convergence for mbar-blocking\n"
     ]
    },
    {
     "name": "stdout",
     "output_type": "stream",
     "text": [
      "/home/dslochower/samsung-250gb-fast-data/OA/OA-G3-0 0.09 6.323 ± 0.378\n"
     ]
    },
    {
     "name": "stderr",
     "output_type": "stream",
     "text": [
      "2018-05-01 11:03:55 AM attach: computing convergence for mbar-blocking\n",
      "2018-05-01 11:04:02 AM pull: computing convergence for mbar-blocking\n"
     ]
    },
    {
     "name": "stdout",
     "output_type": "stream",
     "text": [
      "/home/dslochower/samsung-250gb-fast-data/OA/OA-G3-0 0.09999999999999999 6.514 ± 0.342\n"
     ]
    },
    {
     "name": "stderr",
     "output_type": "stream",
     "text": [
      "2018-05-01 11:04:04 AM attach: computing convergence for mbar-blocking\n",
      "2018-05-01 11:04:11 AM pull: computing convergence for mbar-blocking\n"
     ]
    },
    {
     "name": "stdout",
     "output_type": "stream",
     "text": [
      "/home/dslochower/samsung-250gb-fast-data/OA/OA-G3-0 0.11 6.303 ± 0.336\n"
     ]
    },
    {
     "name": "stderr",
     "output_type": "stream",
     "text": [
      "2018-05-01 11:04:13 AM attach: computing convergence for mbar-blocking\n",
      "2018-05-01 11:04:21 AM pull: computing convergence for mbar-blocking\n"
     ]
    },
    {
     "name": "stdout",
     "output_type": "stream",
     "text": [
      "/home/dslochower/samsung-250gb-fast-data/OA/OA-G3-0 0.12 6.294 ± 0.309\n"
     ]
    },
    {
     "name": "stderr",
     "output_type": "stream",
     "text": [
      "2018-05-01 11:04:23 AM attach: computing convergence for mbar-blocking\n",
      "2018-05-01 11:04:31 AM pull: computing convergence for mbar-blocking\n"
     ]
    },
    {
     "name": "stdout",
     "output_type": "stream",
     "text": [
      "/home/dslochower/samsung-250gb-fast-data/OA/OA-G3-0 0.13 6.331 ± 0.311\n"
     ]
    },
    {
     "name": "stderr",
     "output_type": "stream",
     "text": [
      "2018-05-01 11:04:34 AM attach: computing convergence for mbar-blocking\n",
      "2018-05-01 11:04:42 AM pull: computing convergence for mbar-blocking\n"
     ]
    },
    {
     "name": "stdout",
     "output_type": "stream",
     "text": [
      "/home/dslochower/samsung-250gb-fast-data/OA/OA-G3-0 0.14 6.241 ± 0.313\n"
     ]
    },
    {
     "name": "stderr",
     "output_type": "stream",
     "text": [
      "2018-05-01 11:04:45 AM attach: computing convergence for mbar-blocking\n",
      "2018-05-01 11:04:54 AM pull: computing convergence for mbar-blocking\n"
     ]
    },
    {
     "name": "stdout",
     "output_type": "stream",
     "text": [
      "/home/dslochower/samsung-250gb-fast-data/OA/OA-G3-0 0.15000000000000002 6.171 ± 0.305\n"
     ]
    },
    {
     "name": "stderr",
     "output_type": "stream",
     "text": [
      "2018-05-01 11:04:57 AM attach: computing convergence for mbar-blocking\n",
      "2018-05-01 11:05:07 AM pull: computing convergence for mbar-blocking\n"
     ]
    },
    {
     "name": "stdout",
     "output_type": "stream",
     "text": [
      "/home/dslochower/samsung-250gb-fast-data/OA/OA-G3-0 0.16 6.222 ± 0.297\n"
     ]
    },
    {
     "name": "stderr",
     "output_type": "stream",
     "text": [
      "2018-05-01 11:05:10 AM attach: computing convergence for mbar-blocking\n",
      "2018-05-01 11:05:20 AM pull: computing convergence for mbar-blocking\n"
     ]
    },
    {
     "name": "stdout",
     "output_type": "stream",
     "text": [
      "/home/dslochower/samsung-250gb-fast-data/OA/OA-G3-0 0.17 6.202 ± 0.288\n"
     ]
    },
    {
     "name": "stderr",
     "output_type": "stream",
     "text": [
      "2018-05-01 11:05:24 AM attach: computing convergence for mbar-blocking\n",
      "2018-05-01 11:05:34 AM pull: computing convergence for mbar-blocking\n"
     ]
    },
    {
     "name": "stdout",
     "output_type": "stream",
     "text": [
      "/home/dslochower/samsung-250gb-fast-data/OA/OA-G3-0 0.18000000000000002 6.185 ± 0.291\n"
     ]
    },
    {
     "name": "stderr",
     "output_type": "stream",
     "text": [
      "2018-05-01 11:05:38 AM attach: computing convergence for mbar-blocking\n",
      "2018-05-01 11:05:49 AM pull: computing convergence for mbar-blocking\n"
     ]
    },
    {
     "name": "stdout",
     "output_type": "stream",
     "text": [
      "/home/dslochower/samsung-250gb-fast-data/OA/OA-G3-0 0.19 6.162 ± 0.291\n"
     ]
    },
    {
     "name": "stderr",
     "output_type": "stream",
     "text": [
      "2018-05-01 11:05:53 AM attach: computing convergence for mbar-blocking\n",
      "2018-05-01 11:06:05 AM pull: computing convergence for mbar-blocking\n"
     ]
    },
    {
     "name": "stdout",
     "output_type": "stream",
     "text": [
      "/home/dslochower/samsung-250gb-fast-data/OA/OA-G3-0 0.2 6.157 ± 0.276\n"
     ]
    },
    {
     "name": "stderr",
     "output_type": "stream",
     "text": [
      "2018-05-01 11:06:09 AM attach: computing convergence for mbar-blocking\n",
      "2018-05-01 11:06:22 AM pull: computing convergence for mbar-blocking\n"
     ]
    },
    {
     "name": "stdout",
     "output_type": "stream",
     "text": [
      "/home/dslochower/samsung-250gb-fast-data/OA/OA-G3-0 0.21000000000000002 6.135 ± 0.270\n"
     ]
    },
    {
     "name": "stderr",
     "output_type": "stream",
     "text": [
      "2018-05-01 11:06:26 AM attach: computing convergence for mbar-blocking\n",
      "2018-05-01 11:06:39 AM pull: computing convergence for mbar-blocking\n"
     ]
    },
    {
     "name": "stdout",
     "output_type": "stream",
     "text": [
      "/home/dslochower/samsung-250gb-fast-data/OA/OA-G3-0 0.22 6.145 ± 0.269\n"
     ]
    },
    {
     "name": "stderr",
     "output_type": "stream",
     "text": [
      "2018-05-01 11:06:43 AM attach: computing convergence for mbar-blocking\n",
      "2018-05-01 11:06:57 AM pull: computing convergence for mbar-blocking\n"
     ]
    },
    {
     "name": "stdout",
     "output_type": "stream",
     "text": [
      "/home/dslochower/samsung-250gb-fast-data/OA/OA-G3-0 0.23 6.088 ± 0.256\n"
     ]
    },
    {
     "name": "stderr",
     "output_type": "stream",
     "text": [
      "2018-05-01 11:07:01 AM attach: computing convergence for mbar-blocking\n",
      "2018-05-01 11:07:16 AM pull: computing convergence for mbar-blocking\n"
     ]
    },
    {
     "name": "stdout",
     "output_type": "stream",
     "text": [
      "/home/dslochower/samsung-250gb-fast-data/OA/OA-G3-0 0.24000000000000002 6.077 ± 0.249\n"
     ]
    },
    {
     "name": "stderr",
     "output_type": "stream",
     "text": [
      "2018-05-01 11:07:20 AM attach: computing convergence for mbar-blocking\n",
      "2018-05-01 11:07:35 AM pull: computing convergence for mbar-blocking\n"
     ]
    },
    {
     "name": "stdout",
     "output_type": "stream",
     "text": [
      "/home/dslochower/samsung-250gb-fast-data/OA/OA-G3-0 0.25 6.087 ± 0.249\n"
     ]
    },
    {
     "name": "stderr",
     "output_type": "stream",
     "text": [
      "2018-05-01 11:07:40 AM attach: computing convergence for mbar-blocking\n",
      "2018-05-01 11:07:56 AM pull: computing convergence for mbar-blocking\n"
     ]
    },
    {
     "name": "stdout",
     "output_type": "stream",
     "text": [
      "/home/dslochower/samsung-250gb-fast-data/OA/OA-G3-0 0.26 6.082 ± 0.243\n"
     ]
    },
    {
     "name": "stderr",
     "output_type": "stream",
     "text": [
      "2018-05-01 11:08:01 AM attach: computing convergence for mbar-blocking\n",
      "2018-05-01 11:08:17 AM pull: computing convergence for mbar-blocking\n"
     ]
    },
    {
     "name": "stdout",
     "output_type": "stream",
     "text": [
      "/home/dslochower/samsung-250gb-fast-data/OA/OA-G3-0 0.27 6.062 ± 0.231\n"
     ]
    },
    {
     "name": "stderr",
     "output_type": "stream",
     "text": [
      "2018-05-01 11:08:22 AM attach: computing convergence for mbar-blocking\n",
      "2018-05-01 11:08:40 AM pull: computing convergence for mbar-blocking\n"
     ]
    },
    {
     "name": "stdout",
     "output_type": "stream",
     "text": [
      "/home/dslochower/samsung-250gb-fast-data/OA/OA-G3-0 0.28 6.049 ± 0.232\n"
     ]
    },
    {
     "name": "stderr",
     "output_type": "stream",
     "text": [
      "2018-05-01 11:08:46 AM attach: computing convergence for mbar-blocking\n",
      "2018-05-01 11:09:04 AM pull: computing convergence for mbar-blocking\n"
     ]
    },
    {
     "name": "stdout",
     "output_type": "stream",
     "text": [
      "/home/dslochower/samsung-250gb-fast-data/OA/OA-G3-0 0.29000000000000004 6.030 ± 0.227\n"
     ]
    },
    {
     "name": "stderr",
     "output_type": "stream",
     "text": [
      "2018-05-01 11:09:09 AM attach: computing convergence for mbar-blocking\n",
      "2018-05-01 11:09:27 AM pull: computing convergence for mbar-blocking\n"
     ]
    },
    {
     "name": "stdout",
     "output_type": "stream",
     "text": [
      "/home/dslochower/samsung-250gb-fast-data/OA/OA-G3-0 0.3 5.994 ± 0.227\n"
     ]
    },
    {
     "name": "stderr",
     "output_type": "stream",
     "text": [
      "2018-05-01 11:09:33 AM attach: computing convergence for mbar-blocking\n",
      "2018-05-01 11:09:51 AM pull: computing convergence for mbar-blocking\n"
     ]
    },
    {
     "name": "stdout",
     "output_type": "stream",
     "text": [
      "/home/dslochower/samsung-250gb-fast-data/OA/OA-G3-0 0.31 5.981 ± 0.219\n"
     ]
    },
    {
     "name": "stderr",
     "output_type": "stream",
     "text": [
      "2018-05-01 11:09:57 AM attach: computing convergence for mbar-blocking\n",
      "2018-05-01 11:10:15 AM pull: computing convergence for mbar-blocking\n"
     ]
    },
    {
     "name": "stdout",
     "output_type": "stream",
     "text": [
      "/home/dslochower/samsung-250gb-fast-data/OA/OA-G3-0 0.32 5.914 ± 0.217\n"
     ]
    },
    {
     "name": "stderr",
     "output_type": "stream",
     "text": [
      "2018-05-01 11:10:22 AM attach: computing convergence for mbar-blocking\n",
      "2018-05-01 11:10:42 AM pull: computing convergence for mbar-blocking\n"
     ]
    },
    {
     "name": "stdout",
     "output_type": "stream",
     "text": [
      "/home/dslochower/samsung-250gb-fast-data/OA/OA-G3-0 0.33 5.935 ± 0.216\n"
     ]
    },
    {
     "name": "stderr",
     "output_type": "stream",
     "text": [
      "2018-05-01 11:10:48 AM attach: computing convergence for mbar-blocking\n",
      "2018-05-01 11:11:09 AM pull: computing convergence for mbar-blocking\n"
     ]
    },
    {
     "name": "stdout",
     "output_type": "stream",
     "text": [
      "/home/dslochower/samsung-250gb-fast-data/OA/OA-G3-0 0.34 5.962 ± 0.211\n"
     ]
    },
    {
     "name": "stderr",
     "output_type": "stream",
     "text": [
      "2018-05-01 11:11:16 AM attach: computing convergence for mbar-blocking\n",
      "2018-05-01 11:11:37 AM pull: computing convergence for mbar-blocking\n"
     ]
    },
    {
     "name": "stdout",
     "output_type": "stream",
     "text": [
      "/home/dslochower/samsung-250gb-fast-data/OA/OA-G3-0 0.35000000000000003 5.945 ± 0.209\n"
     ]
    },
    {
     "name": "stderr",
     "output_type": "stream",
     "text": [
      "2018-05-01 11:11:44 AM attach: computing convergence for mbar-blocking\n",
      "2018-05-01 11:12:04 AM pull: computing convergence for mbar-blocking\n"
     ]
    },
    {
     "name": "stdout",
     "output_type": "stream",
     "text": [
      "/home/dslochower/samsung-250gb-fast-data/OA/OA-G3-0 0.36000000000000004 6.005 ± 0.208\n"
     ]
    },
    {
     "name": "stderr",
     "output_type": "stream",
     "text": [
      "2018-05-01 11:12:11 AM attach: computing convergence for mbar-blocking\n",
      "2018-05-01 11:12:34 AM pull: computing convergence for mbar-blocking\n"
     ]
    },
    {
     "name": "stdout",
     "output_type": "stream",
     "text": [
      "/home/dslochower/samsung-250gb-fast-data/OA/OA-G3-0 0.37 6.018 ± 0.207\n"
     ]
    },
    {
     "name": "stderr",
     "output_type": "stream",
     "text": [
      "2018-05-01 11:12:41 AM attach: computing convergence for mbar-blocking\n",
      "2018-05-01 11:13:05 AM pull: computing convergence for mbar-blocking\n"
     ]
    },
    {
     "name": "stdout",
     "output_type": "stream",
     "text": [
      "/home/dslochower/samsung-250gb-fast-data/OA/OA-G3-0 0.38 6.081 ± 0.199\n"
     ]
    },
    {
     "name": "stderr",
     "output_type": "stream",
     "text": [
      "2018-05-01 11:13:12 AM attach: computing convergence for mbar-blocking\n",
      "2018-05-01 11:13:35 AM pull: computing convergence for mbar-blocking\n"
     ]
    },
    {
     "name": "stdout",
     "output_type": "stream",
     "text": [
      "/home/dslochower/samsung-250gb-fast-data/OA/OA-G3-0 0.39 6.071 ± 0.194\n"
     ]
    },
    {
     "name": "stderr",
     "output_type": "stream",
     "text": [
      "2018-05-01 11:13:43 AM attach: computing convergence for mbar-blocking\n",
      "2018-05-01 11:14:07 AM pull: computing convergence for mbar-blocking\n"
     ]
    },
    {
     "name": "stdout",
     "output_type": "stream",
     "text": [
      "/home/dslochower/samsung-250gb-fast-data/OA/OA-G3-0 0.4 6.065 ± 0.197\n"
     ]
    },
    {
     "name": "stderr",
     "output_type": "stream",
     "text": [
      "2018-05-01 11:14:14 AM attach: computing convergence for mbar-blocking\n",
      "2018-05-01 11:14:40 AM pull: computing convergence for mbar-blocking\n"
     ]
    },
    {
     "name": "stdout",
     "output_type": "stream",
     "text": [
      "/home/dslochower/samsung-250gb-fast-data/OA/OA-G3-0 0.41000000000000003 6.067 ± 0.189\n"
     ]
    },
    {
     "name": "stderr",
     "output_type": "stream",
     "text": [
      "2018-05-01 11:14:48 AM attach: computing convergence for mbar-blocking\n",
      "2018-05-01 11:15:15 AM pull: computing convergence for mbar-blocking\n"
     ]
    },
    {
     "name": "stdout",
     "output_type": "stream",
     "text": [
      "/home/dslochower/samsung-250gb-fast-data/OA/OA-G3-0 0.42000000000000004 6.076 ± 0.183\n"
     ]
    },
    {
     "name": "stderr",
     "output_type": "stream",
     "text": [
      "2018-05-01 11:15:22 AM attach: computing convergence for mbar-blocking\n",
      "2018-05-01 11:15:48 AM pull: computing convergence for mbar-blocking\n"
     ]
    },
    {
     "name": "stdout",
     "output_type": "stream",
     "text": [
      "/home/dslochower/samsung-250gb-fast-data/OA/OA-G3-0 0.43 6.077 ± 0.184\n"
     ]
    },
    {
     "name": "stderr",
     "output_type": "stream",
     "text": [
      "2018-05-01 11:15:56 AM attach: computing convergence for mbar-blocking\n",
      "2018-05-01 11:16:22 AM pull: computing convergence for mbar-blocking\n"
     ]
    },
    {
     "name": "stdout",
     "output_type": "stream",
     "text": [
      "/home/dslochower/samsung-250gb-fast-data/OA/OA-G3-0 0.44 6.089 ± 0.181\n"
     ]
    },
    {
     "name": "stderr",
     "output_type": "stream",
     "text": [
      "2018-05-01 11:16:30 AM attach: computing convergence for mbar-blocking\n",
      "2018-05-01 11:16:56 AM pull: computing convergence for mbar-blocking\n"
     ]
    },
    {
     "name": "stdout",
     "output_type": "stream",
     "text": [
      "/home/dslochower/samsung-250gb-fast-data/OA/OA-G3-0 0.45 6.107 ± 0.172\n"
     ]
    },
    {
     "name": "stderr",
     "output_type": "stream",
     "text": [
      "2018-05-01 11:17:04 AM attach: computing convergence for mbar-blocking\n",
      "2018-05-01 11:17:32 AM pull: computing convergence for mbar-blocking\n"
     ]
    },
    {
     "name": "stdout",
     "output_type": "stream",
     "text": [
      "/home/dslochower/samsung-250gb-fast-data/OA/OA-G3-0 0.46 6.068 ± 0.178\n"
     ]
    },
    {
     "name": "stderr",
     "output_type": "stream",
     "text": [
      "2018-05-01 11:17:40 AM attach: computing convergence for mbar-blocking\n",
      "2018-05-01 11:18:07 AM pull: computing convergence for mbar-blocking\n"
     ]
    },
    {
     "name": "stdout",
     "output_type": "stream",
     "text": [
      "/home/dslochower/samsung-250gb-fast-data/OA/OA-G3-0 0.47000000000000003 6.091 ± 0.181\n"
     ]
    },
    {
     "name": "stderr",
     "output_type": "stream",
     "text": [
      "2018-05-01 11:18:15 AM attach: computing convergence for mbar-blocking\n",
      "2018-05-01 11:18:46 AM pull: computing convergence for mbar-blocking\n"
     ]
    },
    {
     "name": "stdout",
     "output_type": "stream",
     "text": [
      "/home/dslochower/samsung-250gb-fast-data/OA/OA-G3-0 0.48000000000000004 6.101 ± 0.175\n"
     ]
    },
    {
     "name": "stderr",
     "output_type": "stream",
     "text": [
      "2018-05-01 11:18:55 AM attach: computing convergence for mbar-blocking\n",
      "2018-05-01 11:19:26 AM pull: computing convergence for mbar-blocking\n"
     ]
    },
    {
     "name": "stdout",
     "output_type": "stream",
     "text": [
      "/home/dslochower/samsung-250gb-fast-data/OA/OA-G3-0 0.49 6.095 ± 0.175\n"
     ]
    },
    {
     "name": "stderr",
     "output_type": "stream",
     "text": [
      "2018-05-01 11:19:34 AM attach: computing convergence for mbar-blocking\n",
      "2018-05-01 11:20:05 AM pull: computing convergence for mbar-blocking\n"
     ]
    },
    {
     "name": "stdout",
     "output_type": "stream",
     "text": [
      "/home/dslochower/samsung-250gb-fast-data/OA/OA-G3-0 0.5 6.082 ± 0.170\n"
     ]
    },
    {
     "name": "stderr",
     "output_type": "stream",
     "text": [
      "2018-05-01 11:20:15 AM attach: computing convergence for mbar-blocking\n",
      "2018-05-01 11:20:47 AM pull: computing convergence for mbar-blocking\n"
     ]
    },
    {
     "name": "stdout",
     "output_type": "stream",
     "text": [
      "/home/dslochower/samsung-250gb-fast-data/OA/OA-G3-0 0.51 6.084 ± 0.172\n"
     ]
    },
    {
     "name": "stderr",
     "output_type": "stream",
     "text": [
      "2018-05-01 11:20:56 AM attach: computing convergence for mbar-blocking\n",
      "2018-05-01 11:21:26 AM pull: computing convergence for mbar-blocking\n"
     ]
    },
    {
     "name": "stdout",
     "output_type": "stream",
     "text": [
      "/home/dslochower/samsung-250gb-fast-data/OA/OA-G3-0 0.52 6.105 ± 0.163\n"
     ]
    },
    {
     "name": "stderr",
     "output_type": "stream",
     "text": [
      "2018-05-01 11:21:36 AM attach: computing convergence for mbar-blocking\n",
      "2018-05-01 11:22:08 AM pull: computing convergence for mbar-blocking\n"
     ]
    },
    {
     "name": "stdout",
     "output_type": "stream",
     "text": [
      "/home/dslochower/samsung-250gb-fast-data/OA/OA-G3-0 0.53 6.156 ± 0.167\n"
     ]
    },
    {
     "name": "stderr",
     "output_type": "stream",
     "text": [
      "2018-05-01 11:22:18 AM attach: computing convergence for mbar-blocking\n",
      "2018-05-01 11:22:51 AM pull: computing convergence for mbar-blocking\n"
     ]
    },
    {
     "name": "stdout",
     "output_type": "stream",
     "text": [
      "/home/dslochower/samsung-250gb-fast-data/OA/OA-G3-0 0.54 6.208 ± 0.166\n"
     ]
    },
    {
     "name": "stderr",
     "output_type": "stream",
     "text": [
      "2018-05-01 11:23:01 AM attach: computing convergence for mbar-blocking\n",
      "2018-05-01 11:23:34 AM pull: computing convergence for mbar-blocking\n"
     ]
    },
    {
     "name": "stdout",
     "output_type": "stream",
     "text": [
      "/home/dslochower/samsung-250gb-fast-data/OA/OA-G3-0 0.55 6.205 ± 0.165\n"
     ]
    },
    {
     "name": "stderr",
     "output_type": "stream",
     "text": [
      "2018-05-01 11:23:44 AM attach: computing convergence for mbar-blocking\n",
      "2018-05-01 11:24:22 AM pull: computing convergence for mbar-blocking\n"
     ]
    },
    {
     "name": "stdout",
     "output_type": "stream",
     "text": [
      "/home/dslochower/samsung-250gb-fast-data/OA/OA-G3-0 0.56 6.196 ± 0.163\n"
     ]
    },
    {
     "name": "stderr",
     "output_type": "stream",
     "text": [
      "2018-05-01 11:24:32 AM attach: computing convergence for mbar-blocking\n",
      "2018-05-01 11:25:06 AM pull: computing convergence for mbar-blocking\n"
     ]
    },
    {
     "name": "stdout",
     "output_type": "stream",
     "text": [
      "/home/dslochower/samsung-250gb-fast-data/OA/OA-G3-0 0.5700000000000001 6.168 ± 0.157\n"
     ]
    },
    {
     "name": "stderr",
     "output_type": "stream",
     "text": [
      "2018-05-01 11:25:17 AM attach: computing convergence for mbar-blocking\n",
      "2018-05-01 11:25:53 AM pull: computing convergence for mbar-blocking\n"
     ]
    },
    {
     "name": "stdout",
     "output_type": "stream",
     "text": [
      "/home/dslochower/samsung-250gb-fast-data/OA/OA-G3-0 0.5800000000000001 6.165 ± 0.157\n"
     ]
    },
    {
     "name": "stderr",
     "output_type": "stream",
     "text": [
      "2018-05-01 11:26:04 AM attach: computing convergence for mbar-blocking\n",
      "2018-05-01 11:26:43 AM pull: computing convergence for mbar-blocking\n"
     ]
    },
    {
     "name": "stdout",
     "output_type": "stream",
     "text": [
      "/home/dslochower/samsung-250gb-fast-data/OA/OA-G3-0 0.59 6.142 ± 0.158\n"
     ]
    },
    {
     "name": "stderr",
     "output_type": "stream",
     "text": [
      "2018-05-01 11:26:53 AM attach: computing convergence for mbar-blocking\n",
      "2018-05-01 11:27:31 AM pull: computing convergence for mbar-blocking\n"
     ]
    },
    {
     "name": "stdout",
     "output_type": "stream",
     "text": [
      "/home/dslochower/samsung-250gb-fast-data/OA/OA-G3-0 0.6 6.139 ± 0.156\n"
     ]
    },
    {
     "name": "stderr",
     "output_type": "stream",
     "text": [
      "2018-05-01 11:27:41 AM attach: computing convergence for mbar-blocking\n",
      "2018-05-01 11:28:20 AM pull: computing convergence for mbar-blocking\n"
     ]
    },
    {
     "name": "stdout",
     "output_type": "stream",
     "text": [
      "/home/dslochower/samsung-250gb-fast-data/OA/OA-G3-0 0.61 6.116 ± 0.155\n"
     ]
    },
    {
     "name": "stderr",
     "output_type": "stream",
     "text": [
      "2018-05-01 11:28:32 AM attach: computing convergence for mbar-blocking\n",
      "2018-05-01 11:29:09 AM pull: computing convergence for mbar-blocking\n"
     ]
    },
    {
     "name": "stdout",
     "output_type": "stream",
     "text": [
      "/home/dslochower/samsung-250gb-fast-data/OA/OA-G3-0 0.62 6.099 ± 0.157\n"
     ]
    },
    {
     "name": "stderr",
     "output_type": "stream",
     "text": [
      "2018-05-01 11:29:21 AM attach: computing convergence for mbar-blocking\n",
      "2018-05-01 11:29:58 AM pull: computing convergence for mbar-blocking\n"
     ]
    },
    {
     "name": "stdout",
     "output_type": "stream",
     "text": [
      "/home/dslochower/samsung-250gb-fast-data/OA/OA-G3-0 0.63 6.083 ± 0.152\n"
     ]
    },
    {
     "name": "stderr",
     "output_type": "stream",
     "text": [
      "2018-05-01 11:30:10 AM attach: computing convergence for mbar-blocking\n",
      "2018-05-01 11:30:50 AM pull: computing convergence for mbar-blocking\n"
     ]
    },
    {
     "name": "stdout",
     "output_type": "stream",
     "text": [
      "/home/dslochower/samsung-250gb-fast-data/OA/OA-G3-0 0.64 6.050 ± 0.151\n"
     ]
    },
    {
     "name": "stderr",
     "output_type": "stream",
     "text": [
      "2018-05-01 11:31:02 AM attach: computing convergence for mbar-blocking\n",
      "2018-05-01 11:31:42 AM pull: computing convergence for mbar-blocking\n"
     ]
    },
    {
     "name": "stdout",
     "output_type": "stream",
     "text": [
      "/home/dslochower/samsung-250gb-fast-data/OA/OA-G3-0 0.65 6.072 ± 0.152\n"
     ]
    },
    {
     "name": "stderr",
     "output_type": "stream",
     "text": [
      "2018-05-01 11:31:54 AM attach: computing convergence for mbar-blocking\n",
      "2018-05-01 11:32:36 AM pull: computing convergence for mbar-blocking\n"
     ]
    },
    {
     "name": "stdout",
     "output_type": "stream",
     "text": [
      "/home/dslochower/samsung-250gb-fast-data/OA/OA-G3-0 0.66 6.081 ± 0.152\n"
     ]
    },
    {
     "name": "stderr",
     "output_type": "stream",
     "text": [
      "2018-05-01 11:32:48 AM attach: computing convergence for mbar-blocking\n",
      "2018-05-01 11:33:30 AM pull: computing convergence for mbar-blocking\n"
     ]
    },
    {
     "name": "stdout",
     "output_type": "stream",
     "text": [
      "/home/dslochower/samsung-250gb-fast-data/OA/OA-G3-0 0.67 6.083 ± 0.152\n"
     ]
    },
    {
     "name": "stderr",
     "output_type": "stream",
     "text": [
      "2018-05-01 11:33:43 AM attach: computing convergence for mbar-blocking\n",
      "2018-05-01 11:34:23 AM pull: computing convergence for mbar-blocking\n"
     ]
    },
    {
     "name": "stdout",
     "output_type": "stream",
     "text": [
      "/home/dslochower/samsung-250gb-fast-data/OA/OA-G3-0 0.68 6.058 ± 0.149\n"
     ]
    },
    {
     "name": "stderr",
     "output_type": "stream",
     "text": [
      "2018-05-01 11:34:37 AM attach: computing convergence for mbar-blocking\n",
      "2018-05-01 11:35:20 AM pull: computing convergence for mbar-blocking\n"
     ]
    },
    {
     "name": "stdout",
     "output_type": "stream",
     "text": [
      "/home/dslochower/samsung-250gb-fast-data/OA/OA-G3-0 0.6900000000000001 6.035 ± 0.147\n"
     ]
    },
    {
     "name": "stderr",
     "output_type": "stream",
     "text": [
      "2018-05-01 11:35:33 AM attach: computing convergence for mbar-blocking\n",
      "2018-05-01 11:36:17 AM pull: computing convergence for mbar-blocking\n"
     ]
    },
    {
     "name": "stdout",
     "output_type": "stream",
     "text": [
      "/home/dslochower/samsung-250gb-fast-data/OA/OA-G3-0 0.7000000000000001 6.055 ± 0.149\n"
     ]
    },
    {
     "name": "stderr",
     "output_type": "stream",
     "text": [
      "2018-05-01 11:36:30 AM attach: computing convergence for mbar-blocking\n",
      "2018-05-01 11:37:10 AM pull: computing convergence for mbar-blocking\n"
     ]
    },
    {
     "name": "stdout",
     "output_type": "stream",
     "text": [
      "/home/dslochower/samsung-250gb-fast-data/OA/OA-G3-0 0.7100000000000001 6.072 ± 0.147\n"
     ]
    },
    {
     "name": "stderr",
     "output_type": "stream",
     "text": [
      "2018-05-01 11:37:25 AM attach: computing convergence for mbar-blocking\n",
      "2018-05-01 11:38:09 AM pull: computing convergence for mbar-blocking\n"
     ]
    },
    {
     "name": "stdout",
     "output_type": "stream",
     "text": [
      "/home/dslochower/samsung-250gb-fast-data/OA/OA-G3-0 0.72 6.087 ± 0.145\n"
     ]
    },
    {
     "name": "stderr",
     "output_type": "stream",
     "text": [
      "2018-05-01 11:38:24 AM attach: computing convergence for mbar-blocking\n",
      "2018-05-01 11:39:08 AM pull: computing convergence for mbar-blocking\n"
     ]
    },
    {
     "name": "stdout",
     "output_type": "stream",
     "text": [
      "/home/dslochower/samsung-250gb-fast-data/OA/OA-G3-0 0.73 6.081 ± 0.145\n"
     ]
    },
    {
     "name": "stderr",
     "output_type": "stream",
     "text": [
      "2018-05-01 11:39:22 AM attach: computing convergence for mbar-blocking\n",
      "2018-05-01 11:40:07 AM pull: computing convergence for mbar-blocking\n"
     ]
    },
    {
     "name": "stdout",
     "output_type": "stream",
     "text": [
      "/home/dslochower/samsung-250gb-fast-data/OA/OA-G3-0 0.74 6.057 ± 0.142\n"
     ]
    },
    {
     "name": "stderr",
     "output_type": "stream",
     "text": [
      "2018-05-01 11:40:22 AM attach: computing convergence for mbar-blocking\n",
      "2018-05-01 11:41:08 AM pull: computing convergence for mbar-blocking\n"
     ]
    },
    {
     "name": "stdout",
     "output_type": "stream",
     "text": [
      "/home/dslochower/samsung-250gb-fast-data/OA/OA-G3-0 0.75 6.051 ± 0.140\n"
     ]
    },
    {
     "name": "stderr",
     "output_type": "stream",
     "text": [
      "2018-05-01 11:41:23 AM attach: computing convergence for mbar-blocking\n",
      "2018-05-01 11:42:08 AM pull: computing convergence for mbar-blocking\n"
     ]
    },
    {
     "name": "stdout",
     "output_type": "stream",
     "text": [
      "/home/dslochower/samsung-250gb-fast-data/OA/OA-G3-0 0.76 6.029 ± 0.145\n"
     ]
    },
    {
     "name": "stderr",
     "output_type": "stream",
     "text": [
      "2018-05-01 11:42:23 AM attach: computing convergence for mbar-blocking\n",
      "2018-05-01 11:43:09 AM pull: computing convergence for mbar-blocking\n"
     ]
    },
    {
     "name": "stdout",
     "output_type": "stream",
     "text": [
      "/home/dslochower/samsung-250gb-fast-data/OA/OA-G3-0 0.77 6.016 ± 0.144\n"
     ]
    },
    {
     "name": "stderr",
     "output_type": "stream",
     "text": [
      "2018-05-01 11:43:24 AM attach: computing convergence for mbar-blocking\n",
      "2018-05-01 11:44:11 AM pull: computing convergence for mbar-blocking\n"
     ]
    },
    {
     "name": "stdout",
     "output_type": "stream",
     "text": [
      "/home/dslochower/samsung-250gb-fast-data/OA/OA-G3-0 0.78 6.015 ± 0.140\n"
     ]
    },
    {
     "name": "stderr",
     "output_type": "stream",
     "text": [
      "2018-05-01 11:44:25 AM attach: computing convergence for mbar-blocking\n",
      "2018-05-01 11:45:14 AM pull: computing convergence for mbar-blocking\n"
     ]
    },
    {
     "name": "stdout",
     "output_type": "stream",
     "text": [
      "/home/dslochower/samsung-250gb-fast-data/OA/OA-G3-0 0.79 6.004 ± 0.140\n"
     ]
    },
    {
     "name": "stderr",
     "output_type": "stream",
     "text": [
      "2018-05-01 11:45:28 AM attach: computing convergence for mbar-blocking\n",
      "2018-05-01 11:46:15 AM pull: computing convergence for mbar-blocking\n"
     ]
    },
    {
     "name": "stdout",
     "output_type": "stream",
     "text": [
      "/home/dslochower/samsung-250gb-fast-data/OA/OA-G3-0 0.8 5.992 ± 0.141\n"
     ]
    },
    {
     "name": "stderr",
     "output_type": "stream",
     "text": [
      "2018-05-01 11:46:29 AM attach: computing convergence for mbar-blocking\n",
      "2018-05-01 11:47:14 AM pull: computing convergence for mbar-blocking\n"
     ]
    },
    {
     "name": "stdout",
     "output_type": "stream",
     "text": [
      "/home/dslochower/samsung-250gb-fast-data/OA/OA-G3-0 0.81 5.976 ± 0.133\n"
     ]
    },
    {
     "name": "stderr",
     "output_type": "stream",
     "text": [
      "2018-05-01 11:47:29 AM attach: computing convergence for mbar-blocking\n",
      "2018-05-01 11:48:16 AM pull: computing convergence for mbar-blocking\n"
     ]
    },
    {
     "name": "stdout",
     "output_type": "stream",
     "text": [
      "/home/dslochower/samsung-250gb-fast-data/OA/OA-G3-0 0.8200000000000001 5.974 ± 0.134\n"
     ]
    },
    {
     "name": "stderr",
     "output_type": "stream",
     "text": [
      "2018-05-01 11:48:31 AM attach: computing convergence for mbar-blocking\n",
      "2018-05-01 11:49:23 AM pull: computing convergence for mbar-blocking\n"
     ]
    },
    {
     "name": "stdout",
     "output_type": "stream",
     "text": [
      "/home/dslochower/samsung-250gb-fast-data/OA/OA-G3-0 0.8300000000000001 5.983 ± 0.134\n"
     ]
    },
    {
     "name": "stderr",
     "output_type": "stream",
     "text": [
      "2018-05-01 11:49:38 AM attach: computing convergence for mbar-blocking\n",
      "2018-05-01 11:50:28 AM pull: computing convergence for mbar-blocking\n"
     ]
    },
    {
     "name": "stdout",
     "output_type": "stream",
     "text": [
      "/home/dslochower/samsung-250gb-fast-data/OA/OA-G3-0 0.8400000000000001 5.979 ± 0.137\n"
     ]
    },
    {
     "name": "stderr",
     "output_type": "stream",
     "text": [
      "2018-05-01 11:50:44 AM attach: computing convergence for mbar-blocking\n",
      "2018-05-01 11:51:34 AM pull: computing convergence for mbar-blocking\n"
     ]
    },
    {
     "name": "stdout",
     "output_type": "stream",
     "text": [
      "/home/dslochower/samsung-250gb-fast-data/OA/OA-G3-0 0.85 5.979 ± 0.137\n"
     ]
    },
    {
     "name": "stderr",
     "output_type": "stream",
     "text": [
      "2018-05-01 11:51:49 AM attach: computing convergence for mbar-blocking\n",
      "2018-05-01 11:52:43 AM pull: computing convergence for mbar-blocking\n"
     ]
    },
    {
     "name": "stdout",
     "output_type": "stream",
     "text": [
      "/home/dslochower/samsung-250gb-fast-data/OA/OA-G3-0 0.86 5.993 ± 0.130\n"
     ]
    },
    {
     "name": "stderr",
     "output_type": "stream",
     "text": [
      "2018-05-01 11:52:59 AM attach: computing convergence for mbar-blocking\n",
      "2018-05-01 11:53:51 AM pull: computing convergence for mbar-blocking\n"
     ]
    },
    {
     "name": "stdout",
     "output_type": "stream",
     "text": [
      "/home/dslochower/samsung-250gb-fast-data/OA/OA-G3-0 0.87 6.003 ± 0.132\n"
     ]
    },
    {
     "name": "stderr",
     "output_type": "stream",
     "text": [
      "2018-05-01 11:54:07 AM attach: computing convergence for mbar-blocking\n",
      "2018-05-01 11:54:58 AM pull: computing convergence for mbar-blocking\n"
     ]
    },
    {
     "name": "stdout",
     "output_type": "stream",
     "text": [
      "/home/dslochower/samsung-250gb-fast-data/OA/OA-G3-0 0.88 5.994 ± 0.131\n"
     ]
    },
    {
     "name": "stderr",
     "output_type": "stream",
     "text": [
      "2018-05-01 11:55:13 AM attach: computing convergence for mbar-blocking\n",
      "2018-05-01 11:56:09 AM pull: computing convergence for mbar-blocking\n"
     ]
    },
    {
     "name": "stdout",
     "output_type": "stream",
     "text": [
      "/home/dslochower/samsung-250gb-fast-data/OA/OA-G3-0 0.89 6.004 ± 0.132\n"
     ]
    },
    {
     "name": "stderr",
     "output_type": "stream",
     "text": [
      "2018-05-01 11:56:24 AM attach: computing convergence for mbar-blocking\n",
      "2018-05-01 11:57:14 AM pull: computing convergence for mbar-blocking\n"
     ]
    },
    {
     "name": "stdout",
     "output_type": "stream",
     "text": [
      "/home/dslochower/samsung-250gb-fast-data/OA/OA-G3-0 0.9 5.992 ± 0.133\n"
     ]
    },
    {
     "name": "stderr",
     "output_type": "stream",
     "text": [
      "2018-05-01 11:57:30 AM attach: computing convergence for mbar-blocking\n",
      "2018-05-01 11:58:27 AM pull: computing convergence for mbar-blocking\n"
     ]
    },
    {
     "name": "stdout",
     "output_type": "stream",
     "text": [
      "/home/dslochower/samsung-250gb-fast-data/OA/OA-G3-0 0.91 5.975 ± 0.133\n"
     ]
    },
    {
     "name": "stderr",
     "output_type": "stream",
     "text": [
      "2018-05-01 11:58:43 AM attach: computing convergence for mbar-blocking\n",
      "2018-05-01 11:59:36 AM pull: computing convergence for mbar-blocking\n"
     ]
    },
    {
     "name": "stdout",
     "output_type": "stream",
     "text": [
      "/home/dslochower/samsung-250gb-fast-data/OA/OA-G3-0 0.92 5.944 ± 0.134\n"
     ]
    },
    {
     "name": "stderr",
     "output_type": "stream",
     "text": [
      "2018-05-01 11:59:53 AM attach: computing convergence for mbar-blocking\n",
      "2018-05-01 12:00:55 PM pull: computing convergence for mbar-blocking\n"
     ]
    },
    {
     "name": "stdout",
     "output_type": "stream",
     "text": [
      "/home/dslochower/samsung-250gb-fast-data/OA/OA-G3-0 0.93 5.932 ± 0.136\n"
     ]
    },
    {
     "name": "stderr",
     "output_type": "stream",
     "text": [
      "2018-05-01 12:01:12 PM attach: computing convergence for mbar-blocking\n",
      "2018-05-01 01:11:13 PM pull: computing convergence for mbar-blocking\n"
     ]
    },
    {
     "name": "stdout",
     "output_type": "stream",
     "text": [
      "/home/dslochower/samsung-250gb-fast-data/OA/OA-G3-1 0.91 6.249 ± 0.134\n"
     ]
    },
    {
     "name": "stderr",
     "output_type": "stream",
     "text": [
      "2018-05-01 01:11:33 PM attach: computing convergence for mbar-blocking\n",
      "2018-05-01 01:12:31 PM pull: computing convergence for mbar-blocking\n"
     ]
    },
    {
     "name": "stdout",
     "output_type": "stream",
     "text": [
      "/home/dslochower/samsung-250gb-fast-data/OA/OA-G3-1 0.92 6.241 ± 0.133\n"
     ]
    },
    {
     "name": "stderr",
     "output_type": "stream",
     "text": [
      "2018-05-01 01:12:53 PM attach: computing convergence for mbar-blocking\n",
      "2018-05-01 01:13:54 PM pull: computing convergence for mbar-blocking\n"
     ]
    },
    {
     "name": "stdout",
     "output_type": "stream",
     "text": [
      "/home/dslochower/samsung-250gb-fast-data/OA/OA-G3-1 0.93 6.253 ± 0.138\n"
     ]
    },
    {
     "name": "stderr",
     "output_type": "stream",
     "text": [
      "2018-05-01 01:14:14 PM attach: computing convergence for mbar-blocking\n",
      "2018-05-01 01:15:21 PM pull: computing convergence for mbar-blocking\n"
     ]
    },
    {
     "name": "stdout",
     "output_type": "stream",
     "text": [
      "/home/dslochower/samsung-250gb-fast-data/OA/OA-G3-1 0.9400000000000001 6.257 ± 0.134\n"
     ]
    },
    {
     "name": "stderr",
     "output_type": "stream",
     "text": [
      "2018-05-01 01:15:40 PM attach: computing convergence for mbar-blocking\n",
      "2018-05-01 01:16:46 PM pull: computing convergence for mbar-blocking\n"
     ]
    },
    {
     "name": "stdout",
     "output_type": "stream",
     "text": [
      "/home/dslochower/samsung-250gb-fast-data/OA/OA-G3-1 0.9500000000000001 6.267 ± 0.133\n"
     ]
    },
    {
     "name": "stderr",
     "output_type": "stream",
     "text": [
      "2018-05-01 01:17:06 PM attach: computing convergence for mbar-blocking\n",
      "2018-05-01 01:18:13 PM pull: computing convergence for mbar-blocking\n"
     ]
    },
    {
     "name": "stdout",
     "output_type": "stream",
     "text": [
      "/home/dslochower/samsung-250gb-fast-data/OA/OA-G3-1 0.9600000000000001 6.265 ± 0.134\n"
     ]
    },
    {
     "name": "stderr",
     "output_type": "stream",
     "text": [
      "2018-05-01 01:18:35 PM attach: computing convergence for mbar-blocking\n"
     ]
    }
   ],
   "source": [
    "# Setup the restraints based on the `jupyter notebook`s.\n",
    "dummy_anchors = [':3', ':4', ':5']\n",
    "host_anchors  = [':1@C26', ':1@C18', ':1@C8']\n",
    "guest_anchors = [':2@C1', ':2@C3']\n",
    "\n",
    "attach_string = '0.00 0.40 0.80 1.60 2.40 4.00 5.50 8.65 11.80 ' \\\n",
    "                '18.10 24.40 37.00 49.60 74.80 100.00'\n",
    "pull_string = '0.00 0.40 0.80 1.20 1.60 2.00 2.40 2.80 3.20 3.60 4.00 ' \\\n",
    "              '4.40 4.80 5.20 5.60 6.00 6.40 6.80 7.20 7.60 8.00 8.40 ' \\\n",
    "              '8.80 9.20 9.60 10.00 10.40 10.80 11.20 11.60 12.00 12.40 ' \\\n",
    "              '12.80 13.20 13.60 14.00 14.40 14.80 15.20 15.60 16.00 16.40 ' \\\n",
    "              '16.80 17.20 17.60 18.00'\n",
    "\n",
    "attach_fractions = [float(i) / 100 for i in attach_string.split()]\n",
    "windows = [len(attach_fractions), len(pull_string.split()), 0]\n",
    "paths = glob.glob(os.path.normpath(os.path.join('./OA-G3-0', 'AMBER', 'APR', 'windows', '*')))\n",
    "window_list = [os.path.basename(i) for i in paths]\n",
    "\n",
    "# Setup the fractions for SAMPLing convergence...\n",
    "fractions = np.arange(0.01, 1.01, 0.01)\n",
    "\n",
    "# Run (for now) over all the G3 complexes...\n",
    "fast_data = '/home/dslochower/samsung-250gb-fast-data/OA/'\n",
    "g3_complexes = sorted(glob.glob(fast_data + 'OA-G3-*'))\n",
    "g3_complexes = [i for i in g3_complexes if os.path.isdir(i)]\n",
    "print(g3_complexes)\n",
    "\n",
    "for complex_index, complx in enumerate(g3_complexes):\n",
    "    print(complx)\n",
    "    traj = pt.load(os.path.join(complx, 'AMBER', 'solvate.rst7'), \n",
    "                   os.path.join(complx, 'AMBER', 'solvate.prmtop'))\n",
    "\n",
    "    pull_initial = pt.distance(traj, ' '.join([dummy_anchors[0], guest_anchors[0]]))[0]\n",
    "\n",
    "    pull_distances = [float(i) + pull_initial for i in pull_string.split()]\n",
    "\n",
    "    guest_restraint_atoms = [[dummy_anchors[0], guest_anchors[0]],\n",
    "                         [dummy_anchors[1], dummy_anchors[0], guest_anchors[0]],\n",
    "                         [dummy_anchors[0], guest_anchors[0], guest_anchors[1]],\n",
    "                        ]\n",
    "\n",
    "    guest_restraint_targets = [pull_initial,\n",
    "                               180.0,\n",
    "                               180.0\n",
    "                              ]\n",
    "    guest_restraint_target_final = [pull_distances[-1], 180.0, 180.0]\n",
    "    guest_restraint_distance_fc = 5.0 # kcal/mol-A**2\n",
    "    guest_restraint_angle_fc = 100.0  # kcal/mol-rad**2\n",
    "\n",
    "    hg = pmd.load_file(os.path.join(complx, 'AMBER', 'solvate.prmtop'),\n",
    "                   os.path.join(complx, 'AMBER', 'solvate.rst7'),\n",
    "                   structure=True)\n",
    "\n",
    "    guest_restraints = []\n",
    "    for index, atoms in enumerate(guest_restraint_atoms): \n",
    "        if len(atoms) > 2:\n",
    "            angle = True\n",
    "        else:\n",
    "            angle = False\n",
    "        this = DAT_restraint()\n",
    "        this.auto_apr = True\n",
    "        this.amber_index = True\n",
    "        this.topology = hg\n",
    "        this.mask1 = atoms[0]\n",
    "        this.mask2 = atoms[1]\n",
    "        if angle:\n",
    "            this.mask3 = atoms[2]\n",
    "            this.attach['fc_final'] = guest_restraint_angle_fc\n",
    "        else:\n",
    "            this.attach['fc_final'] = guest_restraint_distance_fc\n",
    "        this.attach['target'] = guest_restraint_targets[index]\n",
    "        this.attach['fraction_list'] = attach_fractions\n",
    "\n",
    "        this.pull['target_final'] = guest_restraint_target_final[index]\n",
    "        this.pull['num_windows'] = windows[1]\n",
    "        this.initialize()\n",
    "\n",
    "        guest_restraints.append(this)\n",
    "\n",
    "    structure = pt.load(os.path.join(complx, 'AMBER', 'APR', 'windows', 'a000', 'solvate.rst7'), \n",
    "                       os.path.join(complx, 'AMBER', 'APR', 'windows', 'a000', 'solvate.prmtop'))\n",
    "\n",
    "    stripped = structure.strip(':WAT,:Na+,:Cl-')   \n",
    "    \n",
    "    data = np.zeros((len(fractions), 8))\n",
    "    for fraction_index, fraction in enumerate(fractions):\n",
    "\n",
    "        fecalc = fe_calc()\n",
    "        fecalc.prmtop = stripped.topology\n",
    "        fecalc.trajectory = 'prod.*.nc'\n",
    "        fecalc.path = os.path.join(complx, 'AMBER', 'APR','windows')\n",
    "        fecalc.restraint_list = guest_restraints\n",
    "        fecalc.collect_data(fraction=fraction)\n",
    "        fecalc.compute_free_energy()\n",
    "\n",
    "        data[fraction_index, 0] = fraction\n",
    "        data[fraction_index, 1] = fecalc.results['attach']['mbar-block']['fe']\n",
    "        data[fraction_index, 2] = fecalc.results['attach']['mbar-block']['sem']\n",
    "        data[fraction_index, 3] = fecalc.results['attach']['mbar-block']['n_frames']\n",
    "\n",
    "        data[fraction_index, 4] = fecalc.results['pull']['mbar-block']['fe']\n",
    "        data[fraction_index, 5] = fecalc.results['pull']['mbar-block']['sem']\n",
    "        data[fraction_index, 6] = fecalc.results['pull']['mbar-block']['n_frames']\n",
    "\n",
    "        fecalc.compute_ref_state_work([guest_restraints[0], guest_restraints[1], None, \n",
    "                                        None, guest_restraints[2], None])\n",
    "\n",
    "        data[fraction_index, 7] = fecalc.results['ref_state_work']\n",
    "        \n",
    "        fe = data[fraction_index, 1] + data[fraction_index, 4] + data[fraction_index, 7]\n",
    "        fe_sem = np.sqrt(data[fraction_index, 2]**2 + data[fraction_index, 5]**2)\n",
    "        print(f\"{complx} {fraction} {fe:2.3f} ± {fe_sem:2.3f}\")\n",
    "\n",
    "    np.savetxt('{}-fe.log'.format(complx), data)"
   ]
  },
  {
   "cell_type": "code",
   "execution_count": null,
   "metadata": {},
   "outputs": [],
   "source": [
    "# Setup the restraints based on the `jupyter notebook`s.\n",
    "dummy_anchors = [':3', ':4', ':5']\n",
    "host_anchors  = [':1@C26', ':1@C18', ':1@C8']\n",
    "# guest_anchors = [':2@C1', ':2@C3']\n",
    "guest_anchors = [':2@C6', ':2@C1']\n",
    "\n",
    "\n",
    "attach_string = '0.00 0.40 0.80 1.60 2.40 4.00 5.50 8.65 11.80 ' \\\n",
    "                '18.10 24.40 37.00 49.60 74.80 100.00'\n",
    "pull_string = '0.00 0.40 0.80 1.20 1.60 2.00 2.40 2.80 3.20 3.60 4.00 ' \\\n",
    "              '4.40 4.80 5.20 5.60 6.00 6.40 6.80 7.20 7.60 8.00 8.40 ' \\\n",
    "              '8.80 9.20 9.60 10.00 10.40 10.80 11.20 11.60 12.00 12.40 ' \\\n",
    "              '12.80 13.20 13.60 14.00 14.40 14.80 15.20 15.60 16.00 16.40 ' \\\n",
    "              '16.80 17.20 17.60 18.00'\n",
    "\n",
    "attach_fractions = [float(i) / 100 for i in attach_string.split()]\n",
    "windows = [len(attach_fractions), len(pull_string.split()), 0]\n",
    "paths = glob.glob(os.path.normpath(os.path.join('./OA-G3-0', 'AMBER', 'APR', 'windows', '*')))\n",
    "window_list = [os.path.basename(i) for i in paths]\n",
    "\n",
    "# Setup the fractions for SAMPLing convergence...\n",
    "fractions = np.arange(0.01, 1.01, 0.01)\n",
    "\n",
    "# Run (for now) over all the G3 complexes...\n",
    "fast_data = '/home/dslochower/samsung-250gb-fast-data/OA/'\n",
    "g6_complexes = sorted(glob.glob(fast_data + 'OA-G6-*'))\n",
    "g6_complexes = [i for i in g3_complexes if os.path.isdir(i)]\n",
    "print(g6_complexes)\n",
    "\n",
    "for complex_index, complx in enumerate(g6_complexes):\n",
    "    print(complx)\n",
    "    traj = pt.load(os.path.join(complx, 'AMBER', 'solvate.rst7'), \n",
    "                   os.path.join(complx, 'AMBER', 'solvate.prmtop'))\n",
    "\n",
    "    pull_initial = pt.distance(traj, ' '.join([dummy_anchors[0], guest_anchors[0]]))[0]\n",
    "\n",
    "    pull_distances = [float(i) + pull_initial for i in pull_string.split()]\n",
    "\n",
    "    guest_restraint_atoms = [[dummy_anchors[0], guest_anchors[0]],\n",
    "                         [dummy_anchors[1], dummy_anchors[0], guest_anchors[0]],\n",
    "                         [dummy_anchors[0], guest_anchors[0], guest_anchors[1]],\n",
    "                        ]\n",
    "\n",
    "    guest_restraint_targets = [pull_initial,\n",
    "                               180.0,\n",
    "                               180.0\n",
    "                              ]\n",
    "    guest_restraint_target_final = [pull_distances[-1], 180.0, 180.0]\n",
    "    guest_restraint_distance_fc = 5.0 # kcal/mol-A**2\n",
    "    guest_restraint_angle_fc = 100.0  # kcal/mol-rad**2\n",
    "\n",
    "    hg = pmd.load_file(os.path.join(complx, 'AMBER', 'solvate.prmtop'),\n",
    "                   os.path.join(complx, 'AMBER', 'solvate.rst7'),\n",
    "                   structure=True)\n",
    "\n",
    "    guest_restraints = []\n",
    "    for index, atoms in enumerate(guest_restraint_atoms): \n",
    "        if len(atoms) > 2:\n",
    "            angle = True\n",
    "        else:\n",
    "            angle = False\n",
    "        this = DAT_restraint()\n",
    "        this.auto_apr = True\n",
    "        this.amber_index = True\n",
    "        this.topology = hg\n",
    "        this.mask1 = atoms[0]\n",
    "        this.mask2 = atoms[1]\n",
    "        if angle:\n",
    "            this.mask3 = atoms[2]\n",
    "            this.attach['fc_final'] = guest_restraint_angle_fc\n",
    "        else:\n",
    "            this.attach['fc_final'] = guest_restraint_distance_fc\n",
    "        this.attach['target'] = guest_restraint_targets[index]\n",
    "        this.attach['fraction_list'] = attach_fractions\n",
    "\n",
    "        this.pull['target_final'] = guest_restraint_target_final[index]\n",
    "        this.pull['num_windows'] = windows[1]\n",
    "        this.initialize()\n",
    "\n",
    "        guest_restraints.append(this)\n",
    "\n",
    "    structure = pt.load(os.path.join(complx, 'AMBER', 'APR', 'windows', 'a000', 'solvate.rst7'), \n",
    "                       os.path.join(complx, 'AMBER', 'APR', 'windows', 'a000', 'solvate.prmtop'))\n",
    "\n",
    "    stripped = structure.strip(':WAT,:Na+,:Cl-')   \n",
    "    \n",
    "    data = np.zeros((len(fractions), 8))\n",
    "    for fraction_index, fraction in enumerate(fractions):\n",
    "\n",
    "        fecalc = fe_calc()\n",
    "        fecalc.prmtop = stripped.topology\n",
    "        fecalc.trajectory = 'prod.*.nc'\n",
    "        fecalc.path = os.path.join(complx, 'AMBER', 'APR','windows')\n",
    "        fecalc.restraint_list = guest_restraints\n",
    "        fecalc.collect_data(fraction=fraction)\n",
    "        fecalc.compute_free_energy()\n",
    "\n",
    "        data[fraction_index, 0] = fraction\n",
    "        data[fraction_index, 1] = fecalc.results['attach']['mbar-block']['fe']\n",
    "        data[fraction_index, 2] = fecalc.results['attach']['mbar-block']['sem']\n",
    "        data[fraction_index, 3] = fecalc.results['attach']['mbar-block']['n_frames']\n",
    "\n",
    "        data[fraction_index, 4] = fecalc.results['pull']['mbar-block']['fe']\n",
    "        data[fraction_index, 5] = fecalc.results['pull']['mbar-block']['sem']\n",
    "        data[fraction_index, 6] = fecalc.results['pull']['mbar-block']['n_frames']\n",
    "\n",
    "        fecalc.compute_ref_state_work([guest_restraints[0], guest_restraints[1], None, \n",
    "                                        None, guest_restraints[2], None])\n",
    "\n",
    "        data[fraction_index, 7] = fecalc.results['ref_state_work']\n",
    "        \n",
    "        fe = data[fraction_index, 1] + data[fraction_index, 4] + data[fraction_index, 7]\n",
    "        fe_sem = np.sqrt(data[fraction_index, 2]**2 + data[fraction_index, 5]**2)\n",
    "        print(f\"{complx} {fraction} {fe:2.3f} ± {fe_sem:2.3f}\")\n",
    "\n",
    "    np.savetxt('{}-fe.log'.format(complx), data)"
   ]
  },
  {
   "cell_type": "code",
   "execution_count": null,
   "metadata": {},
   "outputs": [],
   "source": []
  }
 ],
 "metadata": {
  "kernelspec": {
   "display_name": "Python [default]",
   "language": "python",
   "name": "python3"
  },
  "language_info": {
   "codemirror_mode": {
    "name": "ipython",
    "version": 3
   },
   "file_extension": ".py",
   "mimetype": "text/x-python",
   "name": "python",
   "nbconvert_exporter": "python",
   "pygments_lexer": "ipython3",
   "version": "3.6.4"
  }
 },
 "nbformat": 4,
 "nbformat_minor": 2
}
