{
 "cells": [
  {
   "cell_type": "markdown",
   "metadata": {},
   "source": [
    "# Process the provided molecules to generate `frcmod` and `mol2` files for each host and guest pair"
   ]
  },
  {
   "cell_type": "code",
   "execution_count": 13,
   "metadata": {},
   "outputs": [],
   "source": [
    "import glob as glob\n",
    "import os as os\n",
    "\n",
    "import parmed as pmd"
   ]
  },
  {
   "cell_type": "code",
   "execution_count": 30,
   "metadata": {},
   "outputs": [],
   "source": [
    "complex_parameters = glob.glob('./*/AMBER/complex.prmtop')\n",
    "complex_coordinates = glob.glob('./*/AMBER/complex.rst7')"
   ]
  },
  {
   "cell_type": "code",
   "execution_count": 36,
   "metadata": {},
   "outputs": [
    {
     "name": "stdout",
     "output_type": "stream",
     "text": [
      "Directory ./OA-G3-3/AMBER has 7974 atoms...\n",
      "Directory ./OA-G6-3/AMBER has 7976 atoms...\n",
      "Directory ./OA-G3-1/AMBER has 7974 atoms...\n",
      "Directory ./OA-G3-0/AMBER has 7974 atoms...\n",
      "Directory ./OA-G6-1/AMBER has 7976 atoms...\n",
      "Directory ./OA-G6-4/AMBER has 7976 atoms...\n",
      "Directory ./OA-G3-4/AMBER has 7974 atoms...\n",
      "Directory ./OA-G6-0/AMBER has 7976 atoms...\n",
      "Directory ./OA-G6-2/AMBER has 7976 atoms...\n",
      "Directory ./OA-G3-2/AMBER has 7974 atoms...\n"
     ]
    }
   ],
   "source": [
    "for prmtop, rst7 in zip(complex_parameters, complex_coordinates):\n",
    "    structure = pmd.load_file(prmtop, xyz=rst7, structure=True)\n",
    "    path = os.path.dirname(prmtop)\n",
    "    \n",
    "    print(f'Directory {path} has {len(structure.atoms)} atoms...')\n",
    "    \n",
    "    host = structure[':HST']\n",
    "    guest = structure[':GST']\n",
    "    \n",
    "    try:\n",
    "        pmd.tools.writeFrcmod(host, os.path.join(path, 'hst.frcmod')).execute()\n",
    "        host.save(os.path.join(path, 'hst.mol2'))\n",
    "    except:\n",
    "        pass\n",
    "    \n",
    "    try:\n",
    "        pmd.tools.writeFrcmod(guest, os.path.join(path, 'gst.frcmod')).execute()\n",
    "        guest.save(os.path.join(path, 'gst.mol2'))\n",
    "    except:\n",
    "        pass\n",
    "    \n",
    "    complx = structure[':HST | :GST']\n",
    "    complx.save(os.path.join(path, 'complex.pdb'))"
   ]
  },
  {
   "cell_type": "code",
   "execution_count": null,
   "metadata": {},
   "outputs": [],
   "source": []
  }
 ],
 "metadata": {
  "kernelspec": {
   "display_name": "Python [default]",
   "language": "python",
   "name": "python3"
  },
  "language_info": {
   "codemirror_mode": {
    "name": "ipython",
    "version": 3
   },
   "file_extension": ".py",
   "mimetype": "text/x-python",
   "name": "python",
   "nbconvert_exporter": "python",
   "pygments_lexer": "ipython3",
   "version": "3.6.4"
  }
 },
 "nbformat": 4,
 "nbformat_minor": 2
}
