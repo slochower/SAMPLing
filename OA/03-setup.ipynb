{
 "cells": [
  {
   "cell_type": "markdown",
   "metadata": {},
   "source": [
    "# Setup the APR restraints"
   ]
  },
  {
   "cell_type": "code",
   "execution_count": 8,
   "metadata": {},
   "outputs": [],
   "source": [
    "import glob as glob\n",
    "import os as os\n",
    "import subprocess as sp\n",
    "import numpy as np\n",
    "\n",
    "import parmed as pmd\n",
    "from paprika.restraints import static_DAT_restraint, DAT_restraint"
   ]
  },
  {
   "cell_type": "code",
   "execution_count": 2,
   "metadata": {},
   "outputs": [],
   "source": [
    "complexes = glob.glob('./OA-G*')"
   ]
  },
  {
   "cell_type": "code",
   "execution_count": 4,
   "metadata": {},
   "outputs": [],
   "source": [
    "dummy_anchors = [':3', ':4', ':5']\n",
    "host_anchors  = [':1@AA', ':1@XX', ':1@ZZ']\n",
    "guest_anchors = [':2@XX', ':2@YY']\n",
    "\n",
    "attach_string = '0.00 0.40 0.80 1.60 2.40 4.00 5.50 8.65 11.80 '\n",
    "                '18.10 24.40 37.00 49.60 74.80 100.00'\n",
    "attach_fractions = [float(i) / 100 for i in attach_string.split()]\n",
    "\n",
    "pull_string = '0.00 0.40 0.80 1.20 1.60 2.00 2.40 2.80 3.20 3.60 4.00 '\n",
    "              '4.40 4.80 5.20 5.60 6.00 6.40 6.80 7.20 7.60 8.00 8.40 ' \n",
    "              '8.80 9.20 9.60 10.00 10.40 10.80 11.20 11.60 12.00 12.40 ' \n",
    "              '12.80 13.20 13.60 14.00 14.40 14.80 15.20 15.60 16.00 16.40 ' \n",
    "              '16.80 17.20 17.60 18.00'\n",
    "pull_distances = [float(i) + 6.00 for i in pull_string.split()]"
   ]
  },
  {
   "cell_type": "code",
   "execution_count": 7,
   "metadata": {},
   "outputs": [],
   "source": [
    "static_restraint_atoms = [[dummy_anchors[0], host_anchors[0]],\n",
    "                          [dummy_anchors[1], dummy_anchors[0], host_anchors[0]],\n",
    "                          [dummy_anchors[2], dummy_anchors[1], dummy_anchors[0], host_anchors[0]],\n",
    "                          [dummy_anchors[0], host_anchors[0], host_anchors[1]],\n",
    "                          [dummy_anchors[1], dummy_anchors[0], host_anchors[0], host_anchors[1]],\n",
    "                          [dummy_anchors[0], host_anchors[0], host_anchors[1], host_anchors[2]],\n",
    "                        ]\n",
    "\n",
    "static_restraint_distance_fc = 5.0\n",
    "static_restraint_angle_fc = 100.0"
   ]
  },
  {
   "cell_type": "code",
   "execution_count": 6,
   "metadata": {},
   "outputs": [],
   "source": [
    "guest_restraint_atoms = [[dummy_anchors[0], guest_anchors[0]],\n",
    "                         [dummy_anchors[1], dummy_anchors[0], guest_anchors[0]],\n",
    "                         [dummy_anchors[0], guest_anchors[0], guest_anchors[1]],\n",
    "                        ]\n",
    "\n",
    "\n",
    "# Set this from `pytraj`...\n",
    "guest_restraint_targets = [6.0,\n",
    "                           180.0,\n",
    "                           180.0\n",
    "                          ]\n",
    "guest_restraint_target_final = [24.0, 180.0, 180.0]\n",
    "guest_restraint_distance_fc = 5.0\n",
    "guest_restraint_angle_fc = 100.0"
   ]
  },
  {
   "cell_type": "code",
   "execution_count": null,
   "metadata": {},
   "outputs": [],
   "source": [
    "for complx in complexes:\n",
    "    \n",
    " \n",
    "    hg = pmd.load_file(os.path.join(complx, 'AMBER', 'solvate.prmtop',\n",
    "                       os.path.join(complx, 'AMBER', 'solvate.inpcrd',\n",
    "                    structure=True)\n",
    "\n",
    "    static_restraints = []\n",
    "    for index, atoms in enumerate(static_restraint_atoms):    \n",
    "        static_DAT_restraint(restraint_mask_list=atoms,\n",
    "                            num_window_list=windows, \n",
    "                            ref_structure=hg,\n",
    "                            force_constant=static_restraint_angle_fc if len(atoms) > 2 else static_restraint_distance_fc,\n",
    "                            amber_index=True)\n",
    "                                    \n",
    "        static_restraints.append(static_DAT_restraint)\n",
    "                                    \n",
    "    guest_restraints = []\n",
    "    for index, atoms in enumerate(guest_restraint_atoms): \n",
    "        if len(atoms) > 2:\n",
    "            angle = True\n",
    "        else:\n",
    "            angle = False\n",
    "        this = DAT_restraint()\n",
    "        this.auto_apr = True\n",
    "        this.amber_index = True\n",
    "        this.topology = hg\n",
    "        this.mask1 = atoms[0]\n",
    "        this.mask2 = atoms[1]\n",
    "        if angle:\n",
    "            this.mask3 = atoms[2]\n",
    "            this.attach['fc_final'] = guest_restraint_angle_fc\n",
    "        else:\n",
    "            this.attach['fc_final'] = guest_restraint_distance_fc\n",
    "        this.attach['target'] = guest_restraint_targets[index]\n",
    "        this.attach['fraction_list'] = attach_fractions\n",
    "\n",
    "        this.pull['target_final'] = guest_restraint_target_final[index]\n",
    "        this.pull['num_windows'] = windows[1]\n",
    "        this.initialize()\n",
    "        \n",
    "        guest_restraints.append(guest_restraint)"
   ]
  }
 ],
 "metadata": {
  "kernelspec": {
   "display_name": "Python [conda env:smirnoff-paprika]",
   "language": "python",
   "name": "conda-env-smirnoff-paprika-py"
  },
  "language_info": {
   "codemirror_mode": {
    "name": "ipython",
    "version": 3
   },
   "file_extension": ".py",
   "mimetype": "text/x-python",
   "name": "python",
   "nbconvert_exporter": "python",
   "pygments_lexer": "ipython3",
   "version": "3.6.4"
  }
 },
 "nbformat": 4,
 "nbformat_minor": 2
}
