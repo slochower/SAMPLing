{
 "cells": [
  {
   "cell_type": "markdown",
   "metadata": {},
   "source": [
    "# Setup the APR restraints, make the APR windows, and solvate each host-guest complex in each window..."
   ]
  },
  {
   "cell_type": "code",
   "execution_count": 13,
   "metadata": {
    "ExecuteTime": {
     "end_time": "2018-04-22T23:24:11.784832Z",
     "start_time": "2018-04-22T23:24:11.485555Z"
    }
   },
   "outputs": [],
   "source": [
    "import glob as glob\n",
    "import os as os\n",
    "import subprocess as sp\n",
    "import numpy as np\n",
    "import shutil as shutil\n",
    "\n",
    "import parmed as pmd\n",
    "import pytraj as pt\n",
    "from paprika.restraints import static_DAT_restraint, DAT_restraint, \\\n",
    "                               create_window_list, amber_restraint_line\n",
    "from paprika.utils import make_window_dirs\n",
    "from paprika.tleap import System"
   ]
  },
  {
   "cell_type": "code",
   "execution_count": 14,
   "metadata": {
    "ExecuteTime": {
     "end_time": "2018-04-22T23:24:11.789269Z",
     "start_time": "2018-04-22T23:24:11.786548Z"
    }
   },
   "outputs": [],
   "source": [
    "complexes = glob.glob('./OA-G*')"
   ]
  },
  {
   "cell_type": "markdown",
   "metadata": {},
   "source": [
    "First, let's define the dummy atoms that act as anchor particles and three atoms on the host that are distributed around the cavity and will stay relatively rigid during the calculation."
   ]
  },
  {
   "cell_type": "code",
   "execution_count": 15,
   "metadata": {
    "ExecuteTime": {
     "end_time": "2018-04-22T23:24:11.865669Z",
     "start_time": "2018-04-22T23:24:11.790807Z"
    }
   },
   "outputs": [],
   "source": [
    "dummy_anchors = [':3', ':4', ':5']\n",
    "host_anchors  = [':1@C26', ':1@C18', ':1@C8']"
   ]
  },
  {
   "cell_type": "markdown",
   "metadata": {},
   "source": [
    "Next, we'll define the six \"static\" restraints that enable the APR calculation by connecting the dummy atoms to the host anchor atoms."
   ]
  },
  {
   "cell_type": "code",
   "execution_count": 16,
   "metadata": {
    "ExecuteTime": {
     "end_time": "2018-04-22T23:24:11.932218Z",
     "start_time": "2018-04-22T23:24:11.867239Z"
    }
   },
   "outputs": [],
   "source": [
    "static_restraint_atoms = [[dummy_anchors[0], host_anchors[0]],\n",
    "                          [dummy_anchors[1], dummy_anchors[0], host_anchors[0]],\n",
    "                          [dummy_anchors[2], dummy_anchors[1], dummy_anchors[0], host_anchors[0]],\n",
    "                          [dummy_anchors[0], host_anchors[0], host_anchors[1]],\n",
    "                          [dummy_anchors[1], dummy_anchors[0], host_anchors[0], host_anchors[1]],\n",
    "                          [dummy_anchors[0], host_anchors[0], host_anchors[1], host_anchors[2]],\n",
    "                        ]\n",
    "\n",
    "static_restraint_distance_fc = 5.0 # kcal/mol-A**2\n",
    "static_restraint_angle_fc = 100.0  # kcal/mol-rad**2"
   ]
  },
  {
   "cell_type": "markdown",
   "metadata": {},
   "source": [
    "We will setup a calculation with 15 attach windows and 45 pulling windows.\n",
    "\n",
    "The true distances for pulling will be offset by the distance between the closest dummy atom and the closest guest atom in the solvated structure."
   ]
  },
  {
   "cell_type": "code",
   "execution_count": 17,
   "metadata": {
    "ExecuteTime": {
     "end_time": "2018-04-22T23:24:12.053054Z",
     "start_time": "2018-04-22T23:24:11.933785Z"
    }
   },
   "outputs": [
    {
     "name": "stdout",
     "output_type": "stream",
     "text": [
      "There are [15, 46, 0] windows in this attach-pull calculation.\n"
     ]
    }
   ],
   "source": [
    "attach_string = '0.00 0.40 0.80 1.60 2.40 4.00 5.50 8.65 11.80 ' \\\n",
    "                '18.10 24.40 37.00 49.60 74.80 100.00'\n",
    "attach_fractions = [float(i) / 100 for i in attach_string.split()]\n",
    "\n",
    "pull_string = '0.00 0.40 0.80 1.20 1.60 2.00 2.40 2.80 3.20 3.60 4.00 ' \\\n",
    "              '4.40 4.80 5.20 5.60 6.00 6.40 6.80 7.20 7.60 8.00 8.40 ' \\\n",
    "              '8.80 9.20 9.60 10.00 10.40 10.80 11.20 11.60 12.00 12.40 ' \\\n",
    "              '12.80 13.20 13.60 14.00 14.40 14.80 15.20 15.60 16.00 16.40 ' \\\n",
    "              '16.80 17.20 17.60 18.00'\n",
    "                \n",
    "print(f'There are {windows} windows in this attach-pull calculation.')"
   ]
  },
  {
   "cell_type": "markdown",
   "metadata": {},
   "source": [
    "Now we're ready to apply the restraints to each complex.\n",
    "\n",
    "1. Define guest anchor atoms for `G3` and `G6`.\n",
    "2. Define the pulling distance for each guest, based on its initial conformation.\n",
    "3. Initialize the static restraints.\n",
    "4. Initialize the guest restraints.\n",
    "5. Make window directories inside `OA-G?-?/AMBER/APR/windows/`.\n",
    "6. Write a restraint file inside each window."
   ]
  },
  {
   "cell_type": "code",
   "execution_count": 18,
   "metadata": {
    "ExecuteTime": {
     "end_time": "2018-04-22T23:24:44.061174Z",
     "start_time": "2018-04-22T23:24:12.054689Z"
    }
   },
   "outputs": [
    {
     "name": "stdout",
     "output_type": "stream",
     "text": [
      "./OA-G3-3\n",
      "Set pull offset (7.46 A)\n",
      "Set guest restraint atoms...\n",
      "Set static restraints...\n"
     ]
    },
    {
     "name": "stderr",
     "output_type": "stream",
     "text": [
      "2018-04-23 07:04:11 PM Calculating attach targets and force constants...\n",
      "2018-04-23 07:04:11 PM Attach, Method #1\n",
      "2018-04-23 07:04:11 PM Calculating pull targets and force constants...\n",
      "2018-04-23 07:04:11 PM Pull, Method #1\n",
      "2018-04-23 07:04:11 PM Calculating release targets and force constants...\n",
      "2018-04-23 07:04:11 PM No restraint info set for the release phase! Skipping...\n",
      "2018-04-23 07:04:11 PM Number of attach windows = 15\n",
      "2018-04-23 07:04:11 PM Number of pull windows = 46\n",
      "2018-04-23 07:04:11 PM This restraint will be skipped in the release phase\n",
      "2018-04-23 07:04:11 PM Assigning atom indices...\n",
      "2018-04-23 07:04:11 PM There are 1 atoms in the mask :3  ...\n",
      "2018-04-23 07:04:11 PM There are 1 atoms in the mask :1@C26  ...\n",
      "2018-04-23 07:04:12 PM Calculating attach targets and force constants...\n",
      "2018-04-23 07:04:12 PM Attach, Method #1\n",
      "2018-04-23 07:04:12 PM Calculating pull targets and force constants...\n",
      "2018-04-23 07:04:12 PM Pull, Method #1\n",
      "2018-04-23 07:04:12 PM Calculating release targets and force constants...\n",
      "2018-04-23 07:04:12 PM No restraint info set for the release phase! Skipping...\n",
      "2018-04-23 07:04:12 PM Number of attach windows = 15\n",
      "2018-04-23 07:04:12 PM Number of pull windows = 46\n",
      "2018-04-23 07:04:12 PM This restraint will be skipped in the release phase\n",
      "2018-04-23 07:04:12 PM Assigning atom indices...\n",
      "2018-04-23 07:04:12 PM There are 1 atoms in the mask :4  ...\n",
      "2018-04-23 07:04:12 PM There are 1 atoms in the mask :3  ...\n",
      "2018-04-23 07:04:12 PM There are 1 atoms in the mask :1@C26  ...\n",
      "2018-04-23 07:04:12 PM Calculating attach targets and force constants...\n",
      "2018-04-23 07:04:12 PM Attach, Method #1\n",
      "2018-04-23 07:04:12 PM Calculating pull targets and force constants...\n",
      "2018-04-23 07:04:12 PM Pull, Method #1\n",
      "2018-04-23 07:04:12 PM Calculating release targets and force constants...\n",
      "2018-04-23 07:04:12 PM No restraint info set for the release phase! Skipping...\n",
      "2018-04-23 07:04:12 PM Number of attach windows = 15\n",
      "2018-04-23 07:04:12 PM Number of pull windows = 46\n",
      "2018-04-23 07:04:12 PM This restraint will be skipped in the release phase\n",
      "2018-04-23 07:04:12 PM Assigning atom indices...\n",
      "2018-04-23 07:04:12 PM There are 1 atoms in the mask :5  ...\n",
      "2018-04-23 07:04:12 PM There are 1 atoms in the mask :4  ...\n",
      "2018-04-23 07:04:12 PM There are 1 atoms in the mask :3  ...\n",
      "2018-04-23 07:04:12 PM There are 1 atoms in the mask :1@C26  ...\n",
      "2018-04-23 07:04:13 PM Calculating attach targets and force constants...\n",
      "2018-04-23 07:04:13 PM Attach, Method #1\n",
      "2018-04-23 07:04:13 PM Calculating pull targets and force constants...\n",
      "2018-04-23 07:04:13 PM Pull, Method #1\n",
      "2018-04-23 07:04:13 PM Calculating release targets and force constants...\n",
      "2018-04-23 07:04:13 PM No restraint info set for the release phase! Skipping...\n",
      "2018-04-23 07:04:13 PM Number of attach windows = 15\n",
      "2018-04-23 07:04:13 PM Number of pull windows = 46\n",
      "2018-04-23 07:04:13 PM This restraint will be skipped in the release phase\n",
      "2018-04-23 07:04:13 PM Assigning atom indices...\n",
      "2018-04-23 07:04:13 PM There are 1 atoms in the mask :3  ...\n",
      "2018-04-23 07:04:13 PM There are 1 atoms in the mask :1@C26  ...\n",
      "2018-04-23 07:04:13 PM There are 1 atoms in the mask :1@C18  ...\n",
      "2018-04-23 07:04:13 PM Calculating attach targets and force constants...\n",
      "2018-04-23 07:04:13 PM Attach, Method #1\n",
      "2018-04-23 07:04:13 PM Calculating pull targets and force constants...\n",
      "2018-04-23 07:04:13 PM Pull, Method #1\n",
      "2018-04-23 07:04:13 PM Calculating release targets and force constants...\n",
      "2018-04-23 07:04:13 PM No restraint info set for the release phase! Skipping...\n",
      "2018-04-23 07:04:13 PM Number of attach windows = 15\n",
      "2018-04-23 07:04:13 PM Number of pull windows = 46\n",
      "2018-04-23 07:04:13 PM This restraint will be skipped in the release phase\n",
      "2018-04-23 07:04:13 PM Assigning atom indices...\n",
      "2018-04-23 07:04:13 PM There are 1 atoms in the mask :4  ...\n",
      "2018-04-23 07:04:13 PM There are 1 atoms in the mask :3  ...\n",
      "2018-04-23 07:04:13 PM There are 1 atoms in the mask :1@C26  ...\n",
      "2018-04-23 07:04:13 PM There are 1 atoms in the mask :1@C18  ...\n",
      "2018-04-23 07:04:14 PM Calculating attach targets and force constants...\n",
      "2018-04-23 07:04:14 PM Attach, Method #1\n",
      "2018-04-23 07:04:14 PM Calculating pull targets and force constants...\n",
      "2018-04-23 07:04:14 PM Pull, Method #1\n",
      "2018-04-23 07:04:14 PM Calculating release targets and force constants...\n",
      "2018-04-23 07:04:14 PM No restraint info set for the release phase! Skipping...\n",
      "2018-04-23 07:04:14 PM Number of attach windows = 15\n",
      "2018-04-23 07:04:14 PM Number of pull windows = 46\n",
      "2018-04-23 07:04:14 PM This restraint will be skipped in the release phase\n",
      "2018-04-23 07:04:14 PM Assigning atom indices...\n",
      "2018-04-23 07:04:14 PM There are 1 atoms in the mask :3  ...\n",
      "2018-04-23 07:04:14 PM There are 1 atoms in the mask :1@C26  ...\n",
      "2018-04-23 07:04:14 PM There are 1 atoms in the mask :1@C18  ...\n",
      "2018-04-23 07:04:14 PM There are 1 atoms in the mask :1@C8  ...\n",
      "2018-04-23 07:04:14 PM Calculating attach targets and force constants...\n",
      "2018-04-23 07:04:14 PM Attach, Method #3\n",
      "2018-04-23 07:04:14 PM Calculating pull targets and force constants...\n",
      "2018-04-23 07:04:14 PM Pull, Method #1\n",
      "2018-04-23 07:04:14 PM Calculating release targets and force constants...\n",
      "2018-04-23 07:04:14 PM No restraint info set for the release phase! Skipping...\n",
      "2018-04-23 07:04:14 PM Number of attach windows = 15\n",
      "2018-04-23 07:04:14 PM Number of pull windows = 46\n",
      "2018-04-23 07:04:14 PM This restraint will be skipped in the release phase\n",
      "2018-04-23 07:04:14 PM Assigning atom indices...\n",
      "2018-04-23 07:04:14 PM There are 1 atoms in the mask :3  ...\n",
      "2018-04-23 07:04:14 PM There are 1 atoms in the mask :2@C1  ...\n",
      "2018-04-23 07:04:14 PM Calculating attach targets and force constants...\n",
      "2018-04-23 07:04:14 PM Attach, Method #3\n",
      "2018-04-23 07:04:14 PM Calculating pull targets and force constants...\n",
      "2018-04-23 07:04:14 PM Pull, Method #1\n",
      "2018-04-23 07:04:14 PM Calculating release targets and force constants...\n",
      "2018-04-23 07:04:14 PM No restraint info set for the release phase! Skipping...\n",
      "2018-04-23 07:04:14 PM Number of attach windows = 15\n",
      "2018-04-23 07:04:14 PM Number of pull windows = 46\n",
      "2018-04-23 07:04:14 PM This restraint will be skipped in the release phase\n",
      "2018-04-23 07:04:14 PM Assigning atom indices...\n",
      "2018-04-23 07:04:14 PM There are 1 atoms in the mask :4  ...\n",
      "2018-04-23 07:04:14 PM There are 1 atoms in the mask :3  ...\n",
      "2018-04-23 07:04:14 PM There are 1 atoms in the mask :2@C1  ...\n",
      "2018-04-23 07:04:14 PM Calculating attach targets and force constants...\n",
      "2018-04-23 07:04:14 PM Attach, Method #3\n",
      "2018-04-23 07:04:14 PM Calculating pull targets and force constants...\n",
      "2018-04-23 07:04:14 PM Pull, Method #1\n",
      "2018-04-23 07:04:14 PM Calculating release targets and force constants...\n",
      "2018-04-23 07:04:14 PM No restraint info set for the release phase! Skipping...\n",
      "2018-04-23 07:04:14 PM Number of attach windows = 15\n",
      "2018-04-23 07:04:14 PM Number of pull windows = 46\n",
      "2018-04-23 07:04:14 PM This restraint will be skipped in the release phase\n",
      "2018-04-23 07:04:14 PM Assigning atom indices...\n",
      "2018-04-23 07:04:14 PM There are 1 atoms in the mask :3  ...\n",
      "2018-04-23 07:04:14 PM There are 1 atoms in the mask :2@C1  ...\n",
      "2018-04-23 07:04:14 PM There are 1 atoms in the mask :2@C3  ...\n"
     ]
    },
    {
     "name": "stdout",
     "output_type": "stream",
     "text": [
      "Set guest restraints...\n"
     ]
    },
    {
     "name": "stderr",
     "output_type": "stream",
     "text": [
      "2018-04-23 07:04:14 PM All restraints are \"continuous_apr\" style.\n",
      "2018-04-23 07:04:14 PM Restraints appear to be consistent\n"
     ]
    },
    {
     "name": "stdout",
     "output_type": "stream",
     "text": [
      "Creating windows...\n",
      "Writing restratint file in each window...\n",
      "./OA-G6-3\n",
      "Set pull offset (9.57 A)\n",
      "Set guest restraint atoms...\n",
      "Set static restraints...\n"
     ]
    },
    {
     "name": "stderr",
     "output_type": "stream",
     "text": [
      "2018-04-23 07:04:15 PM Calculating attach targets and force constants...\n",
      "2018-04-23 07:04:15 PM Attach, Method #1\n",
      "2018-04-23 07:04:15 PM Calculating pull targets and force constants...\n",
      "2018-04-23 07:04:15 PM Pull, Method #1\n",
      "2018-04-23 07:04:15 PM Calculating release targets and force constants...\n",
      "2018-04-23 07:04:15 PM No restraint info set for the release phase! Skipping...\n",
      "2018-04-23 07:04:15 PM Number of attach windows = 15\n",
      "2018-04-23 07:04:15 PM Number of pull windows = 46\n",
      "2018-04-23 07:04:15 PM This restraint will be skipped in the release phase\n",
      "2018-04-23 07:04:15 PM Assigning atom indices...\n",
      "2018-04-23 07:04:15 PM There are 1 atoms in the mask :3  ...\n",
      "2018-04-23 07:04:15 PM There are 1 atoms in the mask :1@C26  ...\n",
      "2018-04-23 07:04:15 PM Calculating attach targets and force constants...\n",
      "2018-04-23 07:04:15 PM Attach, Method #1\n",
      "2018-04-23 07:04:15 PM Calculating pull targets and force constants...\n",
      "2018-04-23 07:04:15 PM Pull, Method #1\n",
      "2018-04-23 07:04:15 PM Calculating release targets and force constants...\n",
      "2018-04-23 07:04:15 PM No restraint info set for the release phase! Skipping...\n",
      "2018-04-23 07:04:15 PM Number of attach windows = 15\n",
      "2018-04-23 07:04:15 PM Number of pull windows = 46\n",
      "2018-04-23 07:04:15 PM This restraint will be skipped in the release phase\n",
      "2018-04-23 07:04:15 PM Assigning atom indices...\n",
      "2018-04-23 07:04:15 PM There are 1 atoms in the mask :4  ...\n",
      "2018-04-23 07:04:15 PM There are 1 atoms in the mask :3  ...\n",
      "2018-04-23 07:04:15 PM There are 1 atoms in the mask :1@C26  ...\n",
      "2018-04-23 07:04:16 PM Calculating attach targets and force constants...\n",
      "2018-04-23 07:04:16 PM Attach, Method #1\n",
      "2018-04-23 07:04:16 PM Calculating pull targets and force constants...\n",
      "2018-04-23 07:04:16 PM Pull, Method #1\n",
      "2018-04-23 07:04:16 PM Calculating release targets and force constants...\n",
      "2018-04-23 07:04:16 PM No restraint info set for the release phase! Skipping...\n",
      "2018-04-23 07:04:16 PM Number of attach windows = 15\n",
      "2018-04-23 07:04:16 PM Number of pull windows = 46\n",
      "2018-04-23 07:04:16 PM This restraint will be skipped in the release phase\n",
      "2018-04-23 07:04:16 PM Assigning atom indices...\n",
      "2018-04-23 07:04:16 PM There are 1 atoms in the mask :5  ...\n",
      "2018-04-23 07:04:16 PM There are 1 atoms in the mask :4  ...\n",
      "2018-04-23 07:04:16 PM There are 1 atoms in the mask :3  ...\n",
      "2018-04-23 07:04:16 PM There are 1 atoms in the mask :1@C26  ...\n",
      "2018-04-23 07:04:16 PM Calculating attach targets and force constants...\n",
      "2018-04-23 07:04:16 PM Attach, Method #1\n",
      "2018-04-23 07:04:16 PM Calculating pull targets and force constants...\n",
      "2018-04-23 07:04:16 PM Pull, Method #1\n",
      "2018-04-23 07:04:16 PM Calculating release targets and force constants...\n",
      "2018-04-23 07:04:16 PM No restraint info set for the release phase! Skipping...\n",
      "2018-04-23 07:04:16 PM Number of attach windows = 15\n",
      "2018-04-23 07:04:16 PM Number of pull windows = 46\n",
      "2018-04-23 07:04:16 PM This restraint will be skipped in the release phase\n",
      "2018-04-23 07:04:16 PM Assigning atom indices...\n",
      "2018-04-23 07:04:16 PM There are 1 atoms in the mask :3  ...\n",
      "2018-04-23 07:04:16 PM There are 1 atoms in the mask :1@C26  ...\n",
      "2018-04-23 07:04:16 PM There are 1 atoms in the mask :1@C18  ...\n",
      "2018-04-23 07:04:17 PM Calculating attach targets and force constants...\n",
      "2018-04-23 07:04:17 PM Attach, Method #1\n",
      "2018-04-23 07:04:17 PM Calculating pull targets and force constants...\n",
      "2018-04-23 07:04:17 PM Pull, Method #1\n",
      "2018-04-23 07:04:17 PM Calculating release targets and force constants...\n",
      "2018-04-23 07:04:17 PM No restraint info set for the release phase! Skipping...\n",
      "2018-04-23 07:04:17 PM Number of attach windows = 15\n",
      "2018-04-23 07:04:17 PM Number of pull windows = 46\n",
      "2018-04-23 07:04:17 PM This restraint will be skipped in the release phase\n",
      "2018-04-23 07:04:17 PM Assigning atom indices...\n",
      "2018-04-23 07:04:17 PM There are 1 atoms in the mask :4  ...\n",
      "2018-04-23 07:04:17 PM There are 1 atoms in the mask :3  ...\n",
      "2018-04-23 07:04:17 PM There are 1 atoms in the mask :1@C26  ...\n",
      "2018-04-23 07:04:17 PM There are 1 atoms in the mask :1@C18  ...\n",
      "2018-04-23 07:04:17 PM Calculating attach targets and force constants...\n",
      "2018-04-23 07:04:17 PM Attach, Method #1\n",
      "2018-04-23 07:04:17 PM Calculating pull targets and force constants...\n",
      "2018-04-23 07:04:17 PM Pull, Method #1\n",
      "2018-04-23 07:04:17 PM Calculating release targets and force constants...\n",
      "2018-04-23 07:04:17 PM No restraint info set for the release phase! Skipping...\n",
      "2018-04-23 07:04:17 PM Number of attach windows = 15\n",
      "2018-04-23 07:04:17 PM Number of pull windows = 46\n",
      "2018-04-23 07:04:17 PM This restraint will be skipped in the release phase\n",
      "2018-04-23 07:04:17 PM Assigning atom indices...\n",
      "2018-04-23 07:04:17 PM There are 1 atoms in the mask :3  ...\n",
      "2018-04-23 07:04:17 PM There are 1 atoms in the mask :1@C26  ...\n",
      "2018-04-23 07:04:17 PM There are 1 atoms in the mask :1@C18  ...\n",
      "2018-04-23 07:04:17 PM There are 1 atoms in the mask :1@C8  ...\n",
      "2018-04-23 07:04:17 PM Calculating attach targets and force constants...\n",
      "2018-04-23 07:04:17 PM Attach, Method #3\n",
      "2018-04-23 07:04:17 PM Calculating pull targets and force constants...\n",
      "2018-04-23 07:04:17 PM Pull, Method #1\n",
      "2018-04-23 07:04:17 PM Calculating release targets and force constants...\n",
      "2018-04-23 07:04:17 PM No restraint info set for the release phase! Skipping...\n",
      "2018-04-23 07:04:17 PM Number of attach windows = 15\n",
      "2018-04-23 07:04:17 PM Number of pull windows = 46\n",
      "2018-04-23 07:04:17 PM This restraint will be skipped in the release phase\n",
      "2018-04-23 07:04:17 PM Assigning atom indices...\n",
      "2018-04-23 07:04:17 PM There are 1 atoms in the mask :3  ...\n",
      "2018-04-23 07:04:17 PM There are 1 atoms in the mask :2@C6  ...\n",
      "2018-04-23 07:04:17 PM Calculating attach targets and force constants...\n",
      "2018-04-23 07:04:17 PM Attach, Method #3\n",
      "2018-04-23 07:04:17 PM Calculating pull targets and force constants...\n",
      "2018-04-23 07:04:17 PM Pull, Method #1\n",
      "2018-04-23 07:04:17 PM Calculating release targets and force constants...\n",
      "2018-04-23 07:04:17 PM No restraint info set for the release phase! Skipping...\n",
      "2018-04-23 07:04:17 PM Number of attach windows = 15\n",
      "2018-04-23 07:04:17 PM Number of pull windows = 46\n",
      "2018-04-23 07:04:17 PM This restraint will be skipped in the release phase\n",
      "2018-04-23 07:04:17 PM Assigning atom indices...\n",
      "2018-04-23 07:04:17 PM There are 1 atoms in the mask :4  ...\n",
      "2018-04-23 07:04:17 PM There are 1 atoms in the mask :3  ...\n",
      "2018-04-23 07:04:17 PM There are 1 atoms in the mask :2@C6  ...\n",
      "2018-04-23 07:04:17 PM Calculating attach targets and force constants...\n",
      "2018-04-23 07:04:17 PM Attach, Method #3\n",
      "2018-04-23 07:04:17 PM Calculating pull targets and force constants...\n",
      "2018-04-23 07:04:17 PM Pull, Method #1\n",
      "2018-04-23 07:04:17 PM Calculating release targets and force constants...\n",
      "2018-04-23 07:04:17 PM No restraint info set for the release phase! Skipping...\n",
      "2018-04-23 07:04:17 PM Number of attach windows = 15\n",
      "2018-04-23 07:04:17 PM Number of pull windows = 46\n",
      "2018-04-23 07:04:17 PM This restraint will be skipped in the release phase\n",
      "2018-04-23 07:04:17 PM Assigning atom indices...\n",
      "2018-04-23 07:04:17 PM There are 1 atoms in the mask :3  ...\n",
      "2018-04-23 07:04:17 PM There are 1 atoms in the mask :2@C6  ...\n",
      "2018-04-23 07:04:17 PM There are 1 atoms in the mask :2@C1  ...\n"
     ]
    },
    {
     "name": "stdout",
     "output_type": "stream",
     "text": [
      "Set guest restraints...\n"
     ]
    },
    {
     "name": "stderr",
     "output_type": "stream",
     "text": [
      "2018-04-23 07:04:17 PM All restraints are \"continuous_apr\" style.\n",
      "2018-04-23 07:04:17 PM Restraints appear to be consistent\n"
     ]
    },
    {
     "name": "stdout",
     "output_type": "stream",
     "text": [
      "Creating windows...\n",
      "Writing restratint file in each window...\n",
      "./OA-G3-1\n",
      "Set pull offset (5.63 A)\n",
      "Set guest restraint atoms...\n",
      "Set static restraints...\n"
     ]
    },
    {
     "name": "stderr",
     "output_type": "stream",
     "text": [
      "2018-04-23 07:04:18 PM Calculating attach targets and force constants...\n",
      "2018-04-23 07:04:18 PM Attach, Method #1\n",
      "2018-04-23 07:04:18 PM Calculating pull targets and force constants...\n",
      "2018-04-23 07:04:18 PM Pull, Method #1\n",
      "2018-04-23 07:04:18 PM Calculating release targets and force constants...\n",
      "2018-04-23 07:04:18 PM No restraint info set for the release phase! Skipping...\n",
      "2018-04-23 07:04:18 PM Number of attach windows = 15\n",
      "2018-04-23 07:04:18 PM Number of pull windows = 46\n",
      "2018-04-23 07:04:18 PM This restraint will be skipped in the release phase\n",
      "2018-04-23 07:04:18 PM Assigning atom indices...\n",
      "2018-04-23 07:04:18 PM There are 1 atoms in the mask :3  ...\n",
      "2018-04-23 07:04:18 PM There are 1 atoms in the mask :1@C26  ...\n",
      "2018-04-23 07:04:19 PM Calculating attach targets and force constants...\n",
      "2018-04-23 07:04:19 PM Attach, Method #1\n",
      "2018-04-23 07:04:19 PM Calculating pull targets and force constants...\n",
      "2018-04-23 07:04:19 PM Pull, Method #1\n",
      "2018-04-23 07:04:19 PM Calculating release targets and force constants...\n",
      "2018-04-23 07:04:19 PM No restraint info set for the release phase! Skipping...\n",
      "2018-04-23 07:04:19 PM Number of attach windows = 15\n",
      "2018-04-23 07:04:19 PM Number of pull windows = 46\n",
      "2018-04-23 07:04:19 PM This restraint will be skipped in the release phase\n",
      "2018-04-23 07:04:19 PM Assigning atom indices...\n",
      "2018-04-23 07:04:19 PM There are 1 atoms in the mask :4  ...\n",
      "2018-04-23 07:04:19 PM There are 1 atoms in the mask :3  ...\n",
      "2018-04-23 07:04:19 PM There are 1 atoms in the mask :1@C26  ...\n",
      "2018-04-23 07:04:19 PM Calculating attach targets and force constants...\n",
      "2018-04-23 07:04:19 PM Attach, Method #1\n",
      "2018-04-23 07:04:19 PM Calculating pull targets and force constants...\n",
      "2018-04-23 07:04:19 PM Pull, Method #1\n",
      "2018-04-23 07:04:19 PM Calculating release targets and force constants...\n",
      "2018-04-23 07:04:19 PM No restraint info set for the release phase! Skipping...\n",
      "2018-04-23 07:04:19 PM Number of attach windows = 15\n",
      "2018-04-23 07:04:19 PM Number of pull windows = 46\n",
      "2018-04-23 07:04:19 PM This restraint will be skipped in the release phase\n",
      "2018-04-23 07:04:19 PM Assigning atom indices...\n",
      "2018-04-23 07:04:19 PM There are 1 atoms in the mask :5  ...\n",
      "2018-04-23 07:04:19 PM There are 1 atoms in the mask :4  ...\n",
      "2018-04-23 07:04:19 PM There are 1 atoms in the mask :3  ...\n",
      "2018-04-23 07:04:19 PM There are 1 atoms in the mask :1@C26  ...\n",
      "2018-04-23 07:04:19 PM Calculating attach targets and force constants...\n",
      "2018-04-23 07:04:19 PM Attach, Method #1\n",
      "2018-04-23 07:04:19 PM Calculating pull targets and force constants...\n",
      "2018-04-23 07:04:19 PM Pull, Method #1\n",
      "2018-04-23 07:04:19 PM Calculating release targets and force constants...\n",
      "2018-04-23 07:04:19 PM No restraint info set for the release phase! Skipping...\n",
      "2018-04-23 07:04:19 PM Number of attach windows = 15\n",
      "2018-04-23 07:04:19 PM Number of pull windows = 46\n",
      "2018-04-23 07:04:19 PM This restraint will be skipped in the release phase\n",
      "2018-04-23 07:04:19 PM Assigning atom indices...\n",
      "2018-04-23 07:04:19 PM There are 1 atoms in the mask :3  ...\n",
      "2018-04-23 07:04:19 PM There are 1 atoms in the mask :1@C26  ...\n",
      "2018-04-23 07:04:19 PM There are 1 atoms in the mask :1@C18  ...\n",
      "2018-04-23 07:04:20 PM Calculating attach targets and force constants...\n",
      "2018-04-23 07:04:20 PM Attach, Method #1\n",
      "2018-04-23 07:04:20 PM Calculating pull targets and force constants...\n",
      "2018-04-23 07:04:20 PM Pull, Method #1\n",
      "2018-04-23 07:04:20 PM Calculating release targets and force constants...\n",
      "2018-04-23 07:04:20 PM No restraint info set for the release phase! Skipping...\n",
      "2018-04-23 07:04:20 PM Number of attach windows = 15\n",
      "2018-04-23 07:04:20 PM Number of pull windows = 46\n",
      "2018-04-23 07:04:20 PM This restraint will be skipped in the release phase\n",
      "2018-04-23 07:04:20 PM Assigning atom indices...\n",
      "2018-04-23 07:04:20 PM There are 1 atoms in the mask :4  ...\n",
      "2018-04-23 07:04:20 PM There are 1 atoms in the mask :3  ...\n",
      "2018-04-23 07:04:20 PM There are 1 atoms in the mask :1@C26  ...\n",
      "2018-04-23 07:04:20 PM There are 1 atoms in the mask :1@C18  ...\n",
      "2018-04-23 07:04:20 PM Calculating attach targets and force constants...\n",
      "2018-04-23 07:04:20 PM Attach, Method #1\n",
      "2018-04-23 07:04:20 PM Calculating pull targets and force constants...\n",
      "2018-04-23 07:04:20 PM Pull, Method #1\n",
      "2018-04-23 07:04:20 PM Calculating release targets and force constants...\n",
      "2018-04-23 07:04:20 PM No restraint info set for the release phase! Skipping...\n",
      "2018-04-23 07:04:20 PM Number of attach windows = 15\n",
      "2018-04-23 07:04:20 PM Number of pull windows = 46\n",
      "2018-04-23 07:04:20 PM This restraint will be skipped in the release phase\n",
      "2018-04-23 07:04:20 PM Assigning atom indices...\n",
      "2018-04-23 07:04:20 PM There are 1 atoms in the mask :3  ...\n",
      "2018-04-23 07:04:20 PM There are 1 atoms in the mask :1@C26  ...\n",
      "2018-04-23 07:04:20 PM There are 1 atoms in the mask :1@C18  ...\n",
      "2018-04-23 07:04:20 PM There are 1 atoms in the mask :1@C8  ...\n",
      "2018-04-23 07:04:20 PM Calculating attach targets and force constants...\n",
      "2018-04-23 07:04:20 PM Attach, Method #3\n",
      "2018-04-23 07:04:20 PM Calculating pull targets and force constants...\n",
      "2018-04-23 07:04:20 PM Pull, Method #1\n",
      "2018-04-23 07:04:20 PM Calculating release targets and force constants...\n",
      "2018-04-23 07:04:20 PM No restraint info set for the release phase! Skipping...\n",
      "2018-04-23 07:04:20 PM Number of attach windows = 15\n",
      "2018-04-23 07:04:20 PM Number of pull windows = 46\n",
      "2018-04-23 07:04:20 PM This restraint will be skipped in the release phase\n",
      "2018-04-23 07:04:20 PM Assigning atom indices...\n",
      "2018-04-23 07:04:20 PM There are 1 atoms in the mask :3  ...\n",
      "2018-04-23 07:04:21 PM There are 1 atoms in the mask :2@C1  ...\n",
      "2018-04-23 07:04:21 PM Calculating attach targets and force constants...\n",
      "2018-04-23 07:04:21 PM Attach, Method #3\n",
      "2018-04-23 07:04:21 PM Calculating pull targets and force constants...\n",
      "2018-04-23 07:04:21 PM Pull, Method #1\n",
      "2018-04-23 07:04:21 PM Calculating release targets and force constants...\n",
      "2018-04-23 07:04:21 PM No restraint info set for the release phase! Skipping...\n",
      "2018-04-23 07:04:21 PM Number of attach windows = 15\n",
      "2018-04-23 07:04:21 PM Number of pull windows = 46\n",
      "2018-04-23 07:04:21 PM This restraint will be skipped in the release phase\n",
      "2018-04-23 07:04:21 PM Assigning atom indices...\n",
      "2018-04-23 07:04:21 PM There are 1 atoms in the mask :4  ...\n",
      "2018-04-23 07:04:21 PM There are 1 atoms in the mask :3  ...\n",
      "2018-04-23 07:04:21 PM There are 1 atoms in the mask :2@C1  ...\n",
      "2018-04-23 07:04:21 PM Calculating attach targets and force constants...\n",
      "2018-04-23 07:04:21 PM Attach, Method #3\n",
      "2018-04-23 07:04:21 PM Calculating pull targets and force constants...\n",
      "2018-04-23 07:04:21 PM Pull, Method #1\n",
      "2018-04-23 07:04:21 PM Calculating release targets and force constants...\n",
      "2018-04-23 07:04:21 PM No restraint info set for the release phase! Skipping...\n",
      "2018-04-23 07:04:21 PM Number of attach windows = 15\n",
      "2018-04-23 07:04:21 PM Number of pull windows = 46\n",
      "2018-04-23 07:04:21 PM This restraint will be skipped in the release phase\n",
      "2018-04-23 07:04:21 PM Assigning atom indices...\n",
      "2018-04-23 07:04:21 PM There are 1 atoms in the mask :3  ...\n",
      "2018-04-23 07:04:21 PM There are 1 atoms in the mask :2@C1  ...\n",
      "2018-04-23 07:04:21 PM There are 1 atoms in the mask :2@C3  ...\n"
     ]
    },
    {
     "name": "stdout",
     "output_type": "stream",
     "text": [
      "Set guest restraints...\n"
     ]
    },
    {
     "name": "stderr",
     "output_type": "stream",
     "text": [
      "2018-04-23 07:04:21 PM All restraints are \"continuous_apr\" style.\n",
      "2018-04-23 07:04:21 PM Restraints appear to be consistent\n"
     ]
    },
    {
     "name": "stdout",
     "output_type": "stream",
     "text": [
      "Creating windows...\n",
      "Writing restratint file in each window...\n",
      "./OA-G3-0\n",
      "Set pull offset (8.03 A)\n",
      "Set guest restraint atoms...\n",
      "Set static restraints...\n"
     ]
    },
    {
     "name": "stderr",
     "output_type": "stream",
     "text": [
      "2018-04-23 07:04:21 PM Calculating attach targets and force constants...\n",
      "2018-04-23 07:04:21 PM Attach, Method #1\n",
      "2018-04-23 07:04:21 PM Calculating pull targets and force constants...\n",
      "2018-04-23 07:04:21 PM Pull, Method #1\n",
      "2018-04-23 07:04:21 PM Calculating release targets and force constants...\n",
      "2018-04-23 07:04:21 PM No restraint info set for the release phase! Skipping...\n",
      "2018-04-23 07:04:21 PM Number of attach windows = 15\n",
      "2018-04-23 07:04:21 PM Number of pull windows = 46\n",
      "2018-04-23 07:04:21 PM This restraint will be skipped in the release phase\n",
      "2018-04-23 07:04:21 PM Assigning atom indices...\n",
      "2018-04-23 07:04:21 PM There are 1 atoms in the mask :3  ...\n",
      "2018-04-23 07:04:21 PM There are 1 atoms in the mask :1@C26  ...\n",
      "2018-04-23 07:04:22 PM Calculating attach targets and force constants...\n",
      "2018-04-23 07:04:22 PM Attach, Method #1\n",
      "2018-04-23 07:04:22 PM Calculating pull targets and force constants...\n",
      "2018-04-23 07:04:22 PM Pull, Method #1\n",
      "2018-04-23 07:04:22 PM Calculating release targets and force constants...\n",
      "2018-04-23 07:04:22 PM No restraint info set for the release phase! Skipping...\n",
      "2018-04-23 07:04:22 PM Number of attach windows = 15\n",
      "2018-04-23 07:04:22 PM Number of pull windows = 46\n",
      "2018-04-23 07:04:22 PM This restraint will be skipped in the release phase\n",
      "2018-04-23 07:04:22 PM Assigning atom indices...\n",
      "2018-04-23 07:04:22 PM There are 1 atoms in the mask :4  ...\n",
      "2018-04-23 07:04:22 PM There are 1 atoms in the mask :3  ...\n",
      "2018-04-23 07:04:22 PM There are 1 atoms in the mask :1@C26  ...\n",
      "2018-04-23 07:04:22 PM Calculating attach targets and force constants...\n",
      "2018-04-23 07:04:22 PM Attach, Method #1\n",
      "2018-04-23 07:04:22 PM Calculating pull targets and force constants...\n",
      "2018-04-23 07:04:22 PM Pull, Method #1\n",
      "2018-04-23 07:04:22 PM Calculating release targets and force constants...\n",
      "2018-04-23 07:04:22 PM No restraint info set for the release phase! Skipping...\n",
      "2018-04-23 07:04:22 PM Number of attach windows = 15\n",
      "2018-04-23 07:04:22 PM Number of pull windows = 46\n",
      "2018-04-23 07:04:22 PM This restraint will be skipped in the release phase\n",
      "2018-04-23 07:04:22 PM Assigning atom indices...\n",
      "2018-04-23 07:04:22 PM There are 1 atoms in the mask :5  ...\n",
      "2018-04-23 07:04:22 PM There are 1 atoms in the mask :4  ...\n",
      "2018-04-23 07:04:22 PM There are 1 atoms in the mask :3  ...\n",
      "2018-04-23 07:04:22 PM There are 1 atoms in the mask :1@C26  ...\n",
      "2018-04-23 07:04:23 PM Calculating attach targets and force constants...\n",
      "2018-04-23 07:04:23 PM Attach, Method #1\n",
      "2018-04-23 07:04:23 PM Calculating pull targets and force constants...\n",
      "2018-04-23 07:04:23 PM Pull, Method #1\n",
      "2018-04-23 07:04:23 PM Calculating release targets and force constants...\n",
      "2018-04-23 07:04:23 PM No restraint info set for the release phase! Skipping...\n",
      "2018-04-23 07:04:23 PM Number of attach windows = 15\n",
      "2018-04-23 07:04:23 PM Number of pull windows = 46\n",
      "2018-04-23 07:04:23 PM This restraint will be skipped in the release phase\n",
      "2018-04-23 07:04:23 PM Assigning atom indices...\n",
      "2018-04-23 07:04:23 PM There are 1 atoms in the mask :3  ...\n",
      "2018-04-23 07:04:23 PM There are 1 atoms in the mask :1@C26  ...\n",
      "2018-04-23 07:04:23 PM There are 1 atoms in the mask :1@C18  ...\n",
      "2018-04-23 07:04:23 PM Calculating attach targets and force constants...\n",
      "2018-04-23 07:04:23 PM Attach, Method #1\n",
      "2018-04-23 07:04:23 PM Calculating pull targets and force constants...\n",
      "2018-04-23 07:04:23 PM Pull, Method #1\n",
      "2018-04-23 07:04:23 PM Calculating release targets and force constants...\n",
      "2018-04-23 07:04:23 PM No restraint info set for the release phase! Skipping...\n",
      "2018-04-23 07:04:23 PM Number of attach windows = 15\n",
      "2018-04-23 07:04:23 PM Number of pull windows = 46\n",
      "2018-04-23 07:04:23 PM This restraint will be skipped in the release phase\n",
      "2018-04-23 07:04:23 PM Assigning atom indices...\n",
      "2018-04-23 07:04:23 PM There are 1 atoms in the mask :4  ...\n",
      "2018-04-23 07:04:23 PM There are 1 atoms in the mask :3  ...\n",
      "2018-04-23 07:04:23 PM There are 1 atoms in the mask :1@C26  ...\n",
      "2018-04-23 07:04:23 PM There are 1 atoms in the mask :1@C18  ...\n",
      "2018-04-23 07:04:24 PM Calculating attach targets and force constants...\n",
      "2018-04-23 07:04:24 PM Attach, Method #1\n",
      "2018-04-23 07:04:24 PM Calculating pull targets and force constants...\n",
      "2018-04-23 07:04:24 PM Pull, Method #1\n",
      "2018-04-23 07:04:24 PM Calculating release targets and force constants...\n",
      "2018-04-23 07:04:24 PM No restraint info set for the release phase! Skipping...\n",
      "2018-04-23 07:04:24 PM Number of attach windows = 15\n",
      "2018-04-23 07:04:24 PM Number of pull windows = 46\n",
      "2018-04-23 07:04:24 PM This restraint will be skipped in the release phase\n",
      "2018-04-23 07:04:24 PM Assigning atom indices...\n",
      "2018-04-23 07:04:24 PM There are 1 atoms in the mask :3  ...\n",
      "2018-04-23 07:04:24 PM There are 1 atoms in the mask :1@C26  ...\n",
      "2018-04-23 07:04:24 PM There are 1 atoms in the mask :1@C18  ...\n",
      "2018-04-23 07:04:24 PM There are 1 atoms in the mask :1@C8  ...\n",
      "2018-04-23 07:04:24 PM Calculating attach targets and force constants...\n",
      "2018-04-23 07:04:24 PM Attach, Method #3\n",
      "2018-04-23 07:04:24 PM Calculating pull targets and force constants...\n",
      "2018-04-23 07:04:24 PM Pull, Method #1\n",
      "2018-04-23 07:04:24 PM Calculating release targets and force constants...\n",
      "2018-04-23 07:04:24 PM No restraint info set for the release phase! Skipping...\n",
      "2018-04-23 07:04:24 PM Number of attach windows = 15\n",
      "2018-04-23 07:04:24 PM Number of pull windows = 46\n",
      "2018-04-23 07:04:24 PM This restraint will be skipped in the release phase\n",
      "2018-04-23 07:04:24 PM Assigning atom indices...\n",
      "2018-04-23 07:04:24 PM There are 1 atoms in the mask :3  ...\n",
      "2018-04-23 07:04:24 PM There are 1 atoms in the mask :2@C1  ...\n",
      "2018-04-23 07:04:24 PM Calculating attach targets and force constants...\n",
      "2018-04-23 07:04:24 PM Attach, Method #3\n",
      "2018-04-23 07:04:24 PM Calculating pull targets and force constants...\n",
      "2018-04-23 07:04:24 PM Pull, Method #1\n",
      "2018-04-23 07:04:24 PM Calculating release targets and force constants...\n",
      "2018-04-23 07:04:24 PM No restraint info set for the release phase! Skipping...\n",
      "2018-04-23 07:04:24 PM Number of attach windows = 15\n",
      "2018-04-23 07:04:24 PM Number of pull windows = 46\n",
      "2018-04-23 07:04:24 PM This restraint will be skipped in the release phase\n",
      "2018-04-23 07:04:24 PM Assigning atom indices...\n",
      "2018-04-23 07:04:24 PM There are 1 atoms in the mask :4  ...\n",
      "2018-04-23 07:04:24 PM There are 1 atoms in the mask :3  ...\n",
      "2018-04-23 07:04:24 PM There are 1 atoms in the mask :2@C1  ...\n",
      "2018-04-23 07:04:24 PM Calculating attach targets and force constants...\n",
      "2018-04-23 07:04:24 PM Attach, Method #3\n",
      "2018-04-23 07:04:24 PM Calculating pull targets and force constants...\n",
      "2018-04-23 07:04:24 PM Pull, Method #1\n",
      "2018-04-23 07:04:24 PM Calculating release targets and force constants...\n",
      "2018-04-23 07:04:24 PM No restraint info set for the release phase! Skipping...\n",
      "2018-04-23 07:04:24 PM Number of attach windows = 15\n",
      "2018-04-23 07:04:24 PM Number of pull windows = 46\n",
      "2018-04-23 07:04:24 PM This restraint will be skipped in the release phase\n",
      "2018-04-23 07:04:24 PM Assigning atom indices...\n",
      "2018-04-23 07:04:24 PM There are 1 atoms in the mask :3  ...\n",
      "2018-04-23 07:04:24 PM There are 1 atoms in the mask :2@C1  ...\n",
      "2018-04-23 07:04:24 PM There are 1 atoms in the mask :2@C3  ...\n"
     ]
    },
    {
     "name": "stdout",
     "output_type": "stream",
     "text": [
      "Set guest restraints...\n"
     ]
    },
    {
     "name": "stderr",
     "output_type": "stream",
     "text": [
      "2018-04-23 07:04:24 PM All restraints are \"continuous_apr\" style.\n",
      "2018-04-23 07:04:24 PM Restraints appear to be consistent\n"
     ]
    },
    {
     "name": "stdout",
     "output_type": "stream",
     "text": [
      "Creating windows...\n",
      "Writing restratint file in each window...\n",
      "./OA-G6-1\n",
      "Set pull offset (10.03 A)\n",
      "Set guest restraint atoms...\n",
      "Set static restraints...\n"
     ]
    },
    {
     "name": "stderr",
     "output_type": "stream",
     "text": [
      "2018-04-23 07:04:25 PM Calculating attach targets and force constants...\n",
      "2018-04-23 07:04:25 PM Attach, Method #1\n",
      "2018-04-23 07:04:25 PM Calculating pull targets and force constants...\n",
      "2018-04-23 07:04:25 PM Pull, Method #1\n",
      "2018-04-23 07:04:25 PM Calculating release targets and force constants...\n",
      "2018-04-23 07:04:25 PM No restraint info set for the release phase! Skipping...\n",
      "2018-04-23 07:04:25 PM Number of attach windows = 15\n",
      "2018-04-23 07:04:25 PM Number of pull windows = 46\n",
      "2018-04-23 07:04:25 PM This restraint will be skipped in the release phase\n",
      "2018-04-23 07:04:25 PM Assigning atom indices...\n",
      "2018-04-23 07:04:25 PM There are 1 atoms in the mask :3  ...\n",
      "2018-04-23 07:04:25 PM There are 1 atoms in the mask :1@C26  ...\n",
      "2018-04-23 07:04:25 PM Calculating attach targets and force constants...\n",
      "2018-04-23 07:04:25 PM Attach, Method #1\n",
      "2018-04-23 07:04:25 PM Calculating pull targets and force constants...\n",
      "2018-04-23 07:04:25 PM Pull, Method #1\n",
      "2018-04-23 07:04:25 PM Calculating release targets and force constants...\n",
      "2018-04-23 07:04:25 PM No restraint info set for the release phase! Skipping...\n",
      "2018-04-23 07:04:25 PM Number of attach windows = 15\n",
      "2018-04-23 07:04:25 PM Number of pull windows = 46\n",
      "2018-04-23 07:04:25 PM This restraint will be skipped in the release phase\n",
      "2018-04-23 07:04:25 PM Assigning atom indices...\n",
      "2018-04-23 07:04:25 PM There are 1 atoms in the mask :4  ...\n",
      "2018-04-23 07:04:25 PM There are 1 atoms in the mask :3  ...\n",
      "2018-04-23 07:04:25 PM There are 1 atoms in the mask :1@C26  ...\n",
      "2018-04-23 07:04:26 PM Calculating attach targets and force constants...\n",
      "2018-04-23 07:04:26 PM Attach, Method #1\n",
      "2018-04-23 07:04:26 PM Calculating pull targets and force constants...\n",
      "2018-04-23 07:04:26 PM Pull, Method #1\n",
      "2018-04-23 07:04:26 PM Calculating release targets and force constants...\n",
      "2018-04-23 07:04:26 PM No restraint info set for the release phase! Skipping...\n",
      "2018-04-23 07:04:26 PM Number of attach windows = 15\n",
      "2018-04-23 07:04:26 PM Number of pull windows = 46\n",
      "2018-04-23 07:04:26 PM This restraint will be skipped in the release phase\n",
      "2018-04-23 07:04:26 PM Assigning atom indices...\n",
      "2018-04-23 07:04:26 PM There are 1 atoms in the mask :5  ...\n",
      "2018-04-23 07:04:26 PM There are 1 atoms in the mask :4  ...\n",
      "2018-04-23 07:04:26 PM There are 1 atoms in the mask :3  ...\n",
      "2018-04-23 07:04:26 PM There are 1 atoms in the mask :1@C26  ...\n",
      "2018-04-23 07:04:26 PM Calculating attach targets and force constants...\n",
      "2018-04-23 07:04:26 PM Attach, Method #1\n",
      "2018-04-23 07:04:26 PM Calculating pull targets and force constants...\n",
      "2018-04-23 07:04:26 PM Pull, Method #1\n",
      "2018-04-23 07:04:26 PM Calculating release targets and force constants...\n",
      "2018-04-23 07:04:26 PM No restraint info set for the release phase! Skipping...\n",
      "2018-04-23 07:04:26 PM Number of attach windows = 15\n",
      "2018-04-23 07:04:26 PM Number of pull windows = 46\n",
      "2018-04-23 07:04:26 PM This restraint will be skipped in the release phase\n",
      "2018-04-23 07:04:26 PM Assigning atom indices...\n",
      "2018-04-23 07:04:26 PM There are 1 atoms in the mask :3  ...\n",
      "2018-04-23 07:04:26 PM There are 1 atoms in the mask :1@C26  ...\n",
      "2018-04-23 07:04:26 PM There are 1 atoms in the mask :1@C18  ...\n",
      "2018-04-23 07:04:27 PM Calculating attach targets and force constants...\n",
      "2018-04-23 07:04:27 PM Attach, Method #1\n",
      "2018-04-23 07:04:27 PM Calculating pull targets and force constants...\n",
      "2018-04-23 07:04:27 PM Pull, Method #1\n",
      "2018-04-23 07:04:27 PM Calculating release targets and force constants...\n",
      "2018-04-23 07:04:27 PM No restraint info set for the release phase! Skipping...\n",
      "2018-04-23 07:04:27 PM Number of attach windows = 15\n",
      "2018-04-23 07:04:27 PM Number of pull windows = 46\n",
      "2018-04-23 07:04:27 PM This restraint will be skipped in the release phase\n",
      "2018-04-23 07:04:27 PM Assigning atom indices...\n",
      "2018-04-23 07:04:27 PM There are 1 atoms in the mask :4  ...\n",
      "2018-04-23 07:04:27 PM There are 1 atoms in the mask :3  ...\n",
      "2018-04-23 07:04:27 PM There are 1 atoms in the mask :1@C26  ...\n",
      "2018-04-23 07:04:27 PM There are 1 atoms in the mask :1@C18  ...\n",
      "2018-04-23 07:04:27 PM Calculating attach targets and force constants...\n",
      "2018-04-23 07:04:27 PM Attach, Method #1\n",
      "2018-04-23 07:04:27 PM Calculating pull targets and force constants...\n",
      "2018-04-23 07:04:27 PM Pull, Method #1\n",
      "2018-04-23 07:04:27 PM Calculating release targets and force constants...\n",
      "2018-04-23 07:04:27 PM No restraint info set for the release phase! Skipping...\n",
      "2018-04-23 07:04:27 PM Number of attach windows = 15\n",
      "2018-04-23 07:04:27 PM Number of pull windows = 46\n",
      "2018-04-23 07:04:27 PM This restraint will be skipped in the release phase\n",
      "2018-04-23 07:04:27 PM Assigning atom indices...\n",
      "2018-04-23 07:04:27 PM There are 1 atoms in the mask :3  ...\n",
      "2018-04-23 07:04:27 PM There are 1 atoms in the mask :1@C26  ...\n",
      "2018-04-23 07:04:27 PM There are 1 atoms in the mask :1@C18  ...\n",
      "2018-04-23 07:04:27 PM There are 1 atoms in the mask :1@C8  ...\n",
      "2018-04-23 07:04:27 PM Calculating attach targets and force constants...\n",
      "2018-04-23 07:04:27 PM Attach, Method #3\n",
      "2018-04-23 07:04:27 PM Calculating pull targets and force constants...\n",
      "2018-04-23 07:04:27 PM Pull, Method #1\n",
      "2018-04-23 07:04:27 PM Calculating release targets and force constants...\n",
      "2018-04-23 07:04:27 PM No restraint info set for the release phase! Skipping...\n",
      "2018-04-23 07:04:27 PM Number of attach windows = 15\n",
      "2018-04-23 07:04:27 PM Number of pull windows = 46\n",
      "2018-04-23 07:04:27 PM This restraint will be skipped in the release phase\n",
      "2018-04-23 07:04:27 PM Assigning atom indices...\n",
      "2018-04-23 07:04:27 PM There are 1 atoms in the mask :3  ...\n",
      "2018-04-23 07:04:27 PM There are 1 atoms in the mask :2@C6  ...\n",
      "2018-04-23 07:04:27 PM Calculating attach targets and force constants...\n",
      "2018-04-23 07:04:27 PM Attach, Method #3\n",
      "2018-04-23 07:04:27 PM Calculating pull targets and force constants...\n",
      "2018-04-23 07:04:27 PM Pull, Method #1\n",
      "2018-04-23 07:04:27 PM Calculating release targets and force constants...\n",
      "2018-04-23 07:04:27 PM No restraint info set for the release phase! Skipping...\n",
      "2018-04-23 07:04:27 PM Number of attach windows = 15\n",
      "2018-04-23 07:04:27 PM Number of pull windows = 46\n",
      "2018-04-23 07:04:27 PM This restraint will be skipped in the release phase\n",
      "2018-04-23 07:04:27 PM Assigning atom indices...\n",
      "2018-04-23 07:04:27 PM There are 1 atoms in the mask :4  ...\n",
      "2018-04-23 07:04:27 PM There are 1 atoms in the mask :3  ...\n",
      "2018-04-23 07:04:27 PM There are 1 atoms in the mask :2@C6  ...\n",
      "2018-04-23 07:04:27 PM Calculating attach targets and force constants...\n",
      "2018-04-23 07:04:27 PM Attach, Method #3\n",
      "2018-04-23 07:04:27 PM Calculating pull targets and force constants...\n",
      "2018-04-23 07:04:27 PM Pull, Method #1\n",
      "2018-04-23 07:04:27 PM Calculating release targets and force constants...\n",
      "2018-04-23 07:04:27 PM No restraint info set for the release phase! Skipping...\n",
      "2018-04-23 07:04:27 PM Number of attach windows = 15\n",
      "2018-04-23 07:04:27 PM Number of pull windows = 46\n",
      "2018-04-23 07:04:27 PM This restraint will be skipped in the release phase\n",
      "2018-04-23 07:04:27 PM Assigning atom indices...\n",
      "2018-04-23 07:04:27 PM There are 1 atoms in the mask :3  ...\n",
      "2018-04-23 07:04:27 PM There are 1 atoms in the mask :2@C6  ...\n",
      "2018-04-23 07:04:27 PM There are 1 atoms in the mask :2@C1  ...\n"
     ]
    },
    {
     "name": "stdout",
     "output_type": "stream",
     "text": [
      "Set guest restraints...\n"
     ]
    },
    {
     "name": "stderr",
     "output_type": "stream",
     "text": [
      "2018-04-23 07:04:27 PM All restraints are \"continuous_apr\" style.\n",
      "2018-04-23 07:04:27 PM Restraints appear to be consistent\n"
     ]
    },
    {
     "name": "stdout",
     "output_type": "stream",
     "text": [
      "Creating windows...\n",
      "Writing restratint file in each window...\n",
      "./OA-G6-4\n",
      "Set pull offset (9.06 A)\n",
      "Set guest restraint atoms...\n",
      "Set static restraints...\n"
     ]
    },
    {
     "name": "stderr",
     "output_type": "stream",
     "text": [
      "2018-04-23 07:04:28 PM Calculating attach targets and force constants...\n",
      "2018-04-23 07:04:28 PM Attach, Method #1\n",
      "2018-04-23 07:04:28 PM Calculating pull targets and force constants...\n",
      "2018-04-23 07:04:28 PM Pull, Method #1\n",
      "2018-04-23 07:04:28 PM Calculating release targets and force constants...\n",
      "2018-04-23 07:04:28 PM No restraint info set for the release phase! Skipping...\n",
      "2018-04-23 07:04:28 PM Number of attach windows = 15\n",
      "2018-04-23 07:04:28 PM Number of pull windows = 46\n",
      "2018-04-23 07:04:28 PM This restraint will be skipped in the release phase\n",
      "2018-04-23 07:04:28 PM Assigning atom indices...\n",
      "2018-04-23 07:04:28 PM There are 1 atoms in the mask :3  ...\n",
      "2018-04-23 07:04:28 PM There are 1 atoms in the mask :1@C26  ...\n",
      "2018-04-23 07:04:29 PM Calculating attach targets and force constants...\n",
      "2018-04-23 07:04:29 PM Attach, Method #1\n",
      "2018-04-23 07:04:29 PM Calculating pull targets and force constants...\n",
      "2018-04-23 07:04:29 PM Pull, Method #1\n",
      "2018-04-23 07:04:29 PM Calculating release targets and force constants...\n",
      "2018-04-23 07:04:29 PM No restraint info set for the release phase! Skipping...\n",
      "2018-04-23 07:04:29 PM Number of attach windows = 15\n",
      "2018-04-23 07:04:29 PM Number of pull windows = 46\n",
      "2018-04-23 07:04:29 PM This restraint will be skipped in the release phase\n",
      "2018-04-23 07:04:29 PM Assigning atom indices...\n",
      "2018-04-23 07:04:29 PM There are 1 atoms in the mask :4  ...\n",
      "2018-04-23 07:04:29 PM There are 1 atoms in the mask :3  ...\n",
      "2018-04-23 07:04:29 PM There are 1 atoms in the mask :1@C26  ...\n",
      "2018-04-23 07:04:29 PM Calculating attach targets and force constants...\n",
      "2018-04-23 07:04:29 PM Attach, Method #1\n",
      "2018-04-23 07:04:29 PM Calculating pull targets and force constants...\n",
      "2018-04-23 07:04:29 PM Pull, Method #1\n",
      "2018-04-23 07:04:29 PM Calculating release targets and force constants...\n",
      "2018-04-23 07:04:29 PM No restraint info set for the release phase! Skipping...\n",
      "2018-04-23 07:04:29 PM Number of attach windows = 15\n",
      "2018-04-23 07:04:29 PM Number of pull windows = 46\n",
      "2018-04-23 07:04:29 PM This restraint will be skipped in the release phase\n",
      "2018-04-23 07:04:29 PM Assigning atom indices...\n",
      "2018-04-23 07:04:29 PM There are 1 atoms in the mask :5  ...\n",
      "2018-04-23 07:04:29 PM There are 1 atoms in the mask :4  ...\n",
      "2018-04-23 07:04:29 PM There are 1 atoms in the mask :3  ...\n",
      "2018-04-23 07:04:29 PM There are 1 atoms in the mask :1@C26  ...\n",
      "2018-04-23 07:04:29 PM Calculating attach targets and force constants...\n",
      "2018-04-23 07:04:29 PM Attach, Method #1\n",
      "2018-04-23 07:04:29 PM Calculating pull targets and force constants...\n",
      "2018-04-23 07:04:29 PM Pull, Method #1\n",
      "2018-04-23 07:04:29 PM Calculating release targets and force constants...\n",
      "2018-04-23 07:04:29 PM No restraint info set for the release phase! Skipping...\n",
      "2018-04-23 07:04:29 PM Number of attach windows = 15\n",
      "2018-04-23 07:04:29 PM Number of pull windows = 46\n",
      "2018-04-23 07:04:29 PM This restraint will be skipped in the release phase\n",
      "2018-04-23 07:04:29 PM Assigning atom indices...\n",
      "2018-04-23 07:04:29 PM There are 1 atoms in the mask :3  ...\n",
      "2018-04-23 07:04:29 PM There are 1 atoms in the mask :1@C26  ...\n",
      "2018-04-23 07:04:29 PM There are 1 atoms in the mask :1@C18  ...\n",
      "2018-04-23 07:04:30 PM Calculating attach targets and force constants...\n",
      "2018-04-23 07:04:30 PM Attach, Method #1\n",
      "2018-04-23 07:04:30 PM Calculating pull targets and force constants...\n",
      "2018-04-23 07:04:30 PM Pull, Method #1\n",
      "2018-04-23 07:04:30 PM Calculating release targets and force constants...\n",
      "2018-04-23 07:04:30 PM No restraint info set for the release phase! Skipping...\n",
      "2018-04-23 07:04:30 PM Number of attach windows = 15\n",
      "2018-04-23 07:04:30 PM Number of pull windows = 46\n",
      "2018-04-23 07:04:30 PM This restraint will be skipped in the release phase\n",
      "2018-04-23 07:04:30 PM Assigning atom indices...\n",
      "2018-04-23 07:04:30 PM There are 1 atoms in the mask :4  ...\n",
      "2018-04-23 07:04:30 PM There are 1 atoms in the mask :3  ...\n",
      "2018-04-23 07:04:30 PM There are 1 atoms in the mask :1@C26  ...\n",
      "2018-04-23 07:04:30 PM There are 1 atoms in the mask :1@C18  ...\n",
      "2018-04-23 07:04:30 PM Calculating attach targets and force constants...\n",
      "2018-04-23 07:04:30 PM Attach, Method #1\n",
      "2018-04-23 07:04:30 PM Calculating pull targets and force constants...\n",
      "2018-04-23 07:04:30 PM Pull, Method #1\n",
      "2018-04-23 07:04:30 PM Calculating release targets and force constants...\n",
      "2018-04-23 07:04:30 PM No restraint info set for the release phase! Skipping...\n",
      "2018-04-23 07:04:30 PM Number of attach windows = 15\n",
      "2018-04-23 07:04:30 PM Number of pull windows = 46\n",
      "2018-04-23 07:04:30 PM This restraint will be skipped in the release phase\n",
      "2018-04-23 07:04:30 PM Assigning atom indices...\n",
      "2018-04-23 07:04:30 PM There are 1 atoms in the mask :3  ...\n",
      "2018-04-23 07:04:30 PM There are 1 atoms in the mask :1@C26  ...\n",
      "2018-04-23 07:04:30 PM There are 1 atoms in the mask :1@C18  ...\n",
      "2018-04-23 07:04:30 PM There are 1 atoms in the mask :1@C8  ...\n",
      "2018-04-23 07:04:30 PM Calculating attach targets and force constants...\n",
      "2018-04-23 07:04:30 PM Attach, Method #3\n",
      "2018-04-23 07:04:30 PM Calculating pull targets and force constants...\n",
      "2018-04-23 07:04:30 PM Pull, Method #1\n",
      "2018-04-23 07:04:30 PM Calculating release targets and force constants...\n",
      "2018-04-23 07:04:30 PM No restraint info set for the release phase! Skipping...\n",
      "2018-04-23 07:04:30 PM Number of attach windows = 15\n",
      "2018-04-23 07:04:30 PM Number of pull windows = 46\n",
      "2018-04-23 07:04:30 PM This restraint will be skipped in the release phase\n",
      "2018-04-23 07:04:30 PM Assigning atom indices...\n",
      "2018-04-23 07:04:30 PM There are 1 atoms in the mask :3  ...\n",
      "2018-04-23 07:04:30 PM There are 1 atoms in the mask :2@C6  ...\n",
      "2018-04-23 07:04:31 PM Calculating attach targets and force constants...\n",
      "2018-04-23 07:04:31 PM Attach, Method #3\n",
      "2018-04-23 07:04:31 PM Calculating pull targets and force constants...\n",
      "2018-04-23 07:04:31 PM Pull, Method #1\n",
      "2018-04-23 07:04:31 PM Calculating release targets and force constants...\n",
      "2018-04-23 07:04:31 PM No restraint info set for the release phase! Skipping...\n",
      "2018-04-23 07:04:31 PM Number of attach windows = 15\n",
      "2018-04-23 07:04:31 PM Number of pull windows = 46\n",
      "2018-04-23 07:04:31 PM This restraint will be skipped in the release phase\n",
      "2018-04-23 07:04:31 PM Assigning atom indices...\n",
      "2018-04-23 07:04:31 PM There are 1 atoms in the mask :4  ...\n",
      "2018-04-23 07:04:31 PM There are 1 atoms in the mask :3  ...\n",
      "2018-04-23 07:04:31 PM There are 1 atoms in the mask :2@C6  ...\n",
      "2018-04-23 07:04:31 PM Calculating attach targets and force constants...\n",
      "2018-04-23 07:04:31 PM Attach, Method #3\n",
      "2018-04-23 07:04:31 PM Calculating pull targets and force constants...\n",
      "2018-04-23 07:04:31 PM Pull, Method #1\n",
      "2018-04-23 07:04:31 PM Calculating release targets and force constants...\n",
      "2018-04-23 07:04:31 PM No restraint info set for the release phase! Skipping...\n",
      "2018-04-23 07:04:31 PM Number of attach windows = 15\n",
      "2018-04-23 07:04:31 PM Number of pull windows = 46\n",
      "2018-04-23 07:04:31 PM This restraint will be skipped in the release phase\n",
      "2018-04-23 07:04:31 PM Assigning atom indices...\n",
      "2018-04-23 07:04:31 PM There are 1 atoms in the mask :3  ...\n",
      "2018-04-23 07:04:31 PM There are 1 atoms in the mask :2@C6  ...\n",
      "2018-04-23 07:04:31 PM There are 1 atoms in the mask :2@C1  ...\n"
     ]
    },
    {
     "name": "stdout",
     "output_type": "stream",
     "text": [
      "Set guest restraints...\n"
     ]
    },
    {
     "name": "stderr",
     "output_type": "stream",
     "text": [
      "2018-04-23 07:04:31 PM All restraints are \"continuous_apr\" style.\n",
      "2018-04-23 07:04:31 PM Restraints appear to be consistent\n"
     ]
    },
    {
     "name": "stdout",
     "output_type": "stream",
     "text": [
      "Creating windows...\n",
      "Writing restratint file in each window...\n",
      "./OA-G3-4\n",
      "Set pull offset (6.83 A)\n",
      "Set guest restraint atoms...\n",
      "Set static restraints...\n"
     ]
    },
    {
     "name": "stderr",
     "output_type": "stream",
     "text": [
      "2018-04-23 07:04:31 PM Calculating attach targets and force constants...\n",
      "2018-04-23 07:04:31 PM Attach, Method #1\n",
      "2018-04-23 07:04:31 PM Calculating pull targets and force constants...\n",
      "2018-04-23 07:04:31 PM Pull, Method #1\n",
      "2018-04-23 07:04:31 PM Calculating release targets and force constants...\n",
      "2018-04-23 07:04:31 PM No restraint info set for the release phase! Skipping...\n",
      "2018-04-23 07:04:31 PM Number of attach windows = 15\n",
      "2018-04-23 07:04:31 PM Number of pull windows = 46\n",
      "2018-04-23 07:04:31 PM This restraint will be skipped in the release phase\n",
      "2018-04-23 07:04:31 PM Assigning atom indices...\n",
      "2018-04-23 07:04:31 PM There are 1 atoms in the mask :3  ...\n",
      "2018-04-23 07:04:31 PM There are 1 atoms in the mask :1@C26  ...\n",
      "2018-04-23 07:04:32 PM Calculating attach targets and force constants...\n",
      "2018-04-23 07:04:32 PM Attach, Method #1\n",
      "2018-04-23 07:04:32 PM Calculating pull targets and force constants...\n",
      "2018-04-23 07:04:32 PM Pull, Method #1\n",
      "2018-04-23 07:04:32 PM Calculating release targets and force constants...\n",
      "2018-04-23 07:04:32 PM No restraint info set for the release phase! Skipping...\n",
      "2018-04-23 07:04:32 PM Number of attach windows = 15\n",
      "2018-04-23 07:04:32 PM Number of pull windows = 46\n",
      "2018-04-23 07:04:32 PM This restraint will be skipped in the release phase\n",
      "2018-04-23 07:04:32 PM Assigning atom indices...\n",
      "2018-04-23 07:04:32 PM There are 1 atoms in the mask :4  ...\n",
      "2018-04-23 07:04:32 PM There are 1 atoms in the mask :3  ...\n",
      "2018-04-23 07:04:32 PM There are 1 atoms in the mask :1@C26  ...\n",
      "2018-04-23 07:04:32 PM Calculating attach targets and force constants...\n",
      "2018-04-23 07:04:32 PM Attach, Method #1\n",
      "2018-04-23 07:04:32 PM Calculating pull targets and force constants...\n",
      "2018-04-23 07:04:32 PM Pull, Method #1\n",
      "2018-04-23 07:04:32 PM Calculating release targets and force constants...\n",
      "2018-04-23 07:04:32 PM No restraint info set for the release phase! Skipping...\n",
      "2018-04-23 07:04:32 PM Number of attach windows = 15\n",
      "2018-04-23 07:04:32 PM Number of pull windows = 46\n",
      "2018-04-23 07:04:32 PM This restraint will be skipped in the release phase\n",
      "2018-04-23 07:04:32 PM Assigning atom indices...\n",
      "2018-04-23 07:04:32 PM There are 1 atoms in the mask :5  ...\n",
      "2018-04-23 07:04:32 PM There are 1 atoms in the mask :4  ...\n",
      "2018-04-23 07:04:32 PM There are 1 atoms in the mask :3  ...\n",
      "2018-04-23 07:04:32 PM There are 1 atoms in the mask :1@C26  ...\n",
      "2018-04-23 07:04:33 PM Calculating attach targets and force constants...\n",
      "2018-04-23 07:04:33 PM Attach, Method #1\n",
      "2018-04-23 07:04:33 PM Calculating pull targets and force constants...\n",
      "2018-04-23 07:04:33 PM Pull, Method #1\n",
      "2018-04-23 07:04:33 PM Calculating release targets and force constants...\n",
      "2018-04-23 07:04:33 PM No restraint info set for the release phase! Skipping...\n",
      "2018-04-23 07:04:33 PM Number of attach windows = 15\n",
      "2018-04-23 07:04:33 PM Number of pull windows = 46\n",
      "2018-04-23 07:04:33 PM This restraint will be skipped in the release phase\n",
      "2018-04-23 07:04:33 PM Assigning atom indices...\n",
      "2018-04-23 07:04:33 PM There are 1 atoms in the mask :3  ...\n",
      "2018-04-23 07:04:33 PM There are 1 atoms in the mask :1@C26  ...\n",
      "2018-04-23 07:04:33 PM There are 1 atoms in the mask :1@C18  ...\n",
      "2018-04-23 07:04:33 PM Calculating attach targets and force constants...\n",
      "2018-04-23 07:04:33 PM Attach, Method #1\n",
      "2018-04-23 07:04:33 PM Calculating pull targets and force constants...\n",
      "2018-04-23 07:04:33 PM Pull, Method #1\n",
      "2018-04-23 07:04:33 PM Calculating release targets and force constants...\n",
      "2018-04-23 07:04:33 PM No restraint info set for the release phase! Skipping...\n",
      "2018-04-23 07:04:33 PM Number of attach windows = 15\n",
      "2018-04-23 07:04:33 PM Number of pull windows = 46\n",
      "2018-04-23 07:04:33 PM This restraint will be skipped in the release phase\n",
      "2018-04-23 07:04:33 PM Assigning atom indices...\n",
      "2018-04-23 07:04:33 PM There are 1 atoms in the mask :4  ...\n",
      "2018-04-23 07:04:33 PM There are 1 atoms in the mask :3  ...\n",
      "2018-04-23 07:04:33 PM There are 1 atoms in the mask :1@C26  ...\n",
      "2018-04-23 07:04:33 PM There are 1 atoms in the mask :1@C18  ...\n",
      "2018-04-23 07:04:34 PM Calculating attach targets and force constants...\n",
      "2018-04-23 07:04:34 PM Attach, Method #1\n",
      "2018-04-23 07:04:34 PM Calculating pull targets and force constants...\n",
      "2018-04-23 07:04:34 PM Pull, Method #1\n",
      "2018-04-23 07:04:34 PM Calculating release targets and force constants...\n",
      "2018-04-23 07:04:34 PM No restraint info set for the release phase! Skipping...\n",
      "2018-04-23 07:04:34 PM Number of attach windows = 15\n",
      "2018-04-23 07:04:34 PM Number of pull windows = 46\n",
      "2018-04-23 07:04:34 PM This restraint will be skipped in the release phase\n",
      "2018-04-23 07:04:34 PM Assigning atom indices...\n",
      "2018-04-23 07:04:34 PM There are 1 atoms in the mask :3  ...\n",
      "2018-04-23 07:04:34 PM There are 1 atoms in the mask :1@C26  ...\n",
      "2018-04-23 07:04:34 PM There are 1 atoms in the mask :1@C18  ...\n",
      "2018-04-23 07:04:34 PM There are 1 atoms in the mask :1@C8  ...\n",
      "2018-04-23 07:04:34 PM Calculating attach targets and force constants...\n",
      "2018-04-23 07:04:34 PM Attach, Method #3\n",
      "2018-04-23 07:04:34 PM Calculating pull targets and force constants...\n",
      "2018-04-23 07:04:34 PM Pull, Method #1\n",
      "2018-04-23 07:04:34 PM Calculating release targets and force constants...\n",
      "2018-04-23 07:04:34 PM No restraint info set for the release phase! Skipping...\n",
      "2018-04-23 07:04:34 PM Number of attach windows = 15\n",
      "2018-04-23 07:04:34 PM Number of pull windows = 46\n",
      "2018-04-23 07:04:34 PM This restraint will be skipped in the release phase\n",
      "2018-04-23 07:04:34 PM Assigning atom indices...\n",
      "2018-04-23 07:04:34 PM There are 1 atoms in the mask :3  ...\n",
      "2018-04-23 07:04:34 PM There are 1 atoms in the mask :2@C1  ...\n",
      "2018-04-23 07:04:34 PM Calculating attach targets and force constants...\n",
      "2018-04-23 07:04:34 PM Attach, Method #3\n",
      "2018-04-23 07:04:34 PM Calculating pull targets and force constants...\n",
      "2018-04-23 07:04:34 PM Pull, Method #1\n",
      "2018-04-23 07:04:34 PM Calculating release targets and force constants...\n",
      "2018-04-23 07:04:34 PM No restraint info set for the release phase! Skipping...\n",
      "2018-04-23 07:04:34 PM Number of attach windows = 15\n",
      "2018-04-23 07:04:34 PM Number of pull windows = 46\n",
      "2018-04-23 07:04:34 PM This restraint will be skipped in the release phase\n",
      "2018-04-23 07:04:34 PM Assigning atom indices...\n",
      "2018-04-23 07:04:34 PM There are 1 atoms in the mask :4  ...\n",
      "2018-04-23 07:04:34 PM There are 1 atoms in the mask :3  ...\n",
      "2018-04-23 07:04:34 PM There are 1 atoms in the mask :2@C1  ...\n",
      "2018-04-23 07:04:34 PM Calculating attach targets and force constants...\n",
      "2018-04-23 07:04:34 PM Attach, Method #3\n",
      "2018-04-23 07:04:34 PM Calculating pull targets and force constants...\n",
      "2018-04-23 07:04:34 PM Pull, Method #1\n",
      "2018-04-23 07:04:34 PM Calculating release targets and force constants...\n",
      "2018-04-23 07:04:34 PM No restraint info set for the release phase! Skipping...\n",
      "2018-04-23 07:04:34 PM Number of attach windows = 15\n",
      "2018-04-23 07:04:34 PM Number of pull windows = 46\n",
      "2018-04-23 07:04:34 PM This restraint will be skipped in the release phase\n",
      "2018-04-23 07:04:34 PM Assigning atom indices...\n",
      "2018-04-23 07:04:34 PM There are 1 atoms in the mask :3  ...\n",
      "2018-04-23 07:04:34 PM There are 1 atoms in the mask :2@C1  ...\n",
      "2018-04-23 07:04:34 PM There are 1 atoms in the mask :2@C3  ...\n"
     ]
    },
    {
     "name": "stdout",
     "output_type": "stream",
     "text": [
      "Set guest restraints...\n"
     ]
    },
    {
     "name": "stderr",
     "output_type": "stream",
     "text": [
      "2018-04-23 07:04:34 PM All restraints are \"continuous_apr\" style.\n",
      "2018-04-23 07:04:34 PM Restraints appear to be consistent\n"
     ]
    },
    {
     "name": "stdout",
     "output_type": "stream",
     "text": [
      "Creating windows...\n",
      "Writing restratint file in each window...\n",
      "./OA-G6-0\n",
      "Set pull offset (9.98 A)\n",
      "Set guest restraint atoms...\n",
      "Set static restraints...\n"
     ]
    },
    {
     "name": "stderr",
     "output_type": "stream",
     "text": [
      "2018-04-23 07:04:35 PM Calculating attach targets and force constants...\n",
      "2018-04-23 07:04:35 PM Attach, Method #1\n",
      "2018-04-23 07:04:35 PM Calculating pull targets and force constants...\n",
      "2018-04-23 07:04:35 PM Pull, Method #1\n",
      "2018-04-23 07:04:35 PM Calculating release targets and force constants...\n",
      "2018-04-23 07:04:35 PM No restraint info set for the release phase! Skipping...\n",
      "2018-04-23 07:04:35 PM Number of attach windows = 15\n",
      "2018-04-23 07:04:35 PM Number of pull windows = 46\n",
      "2018-04-23 07:04:35 PM This restraint will be skipped in the release phase\n",
      "2018-04-23 07:04:35 PM Assigning atom indices...\n",
      "2018-04-23 07:04:35 PM There are 1 atoms in the mask :3  ...\n",
      "2018-04-23 07:04:35 PM There are 1 atoms in the mask :1@C26  ...\n",
      "2018-04-23 07:04:35 PM Calculating attach targets and force constants...\n",
      "2018-04-23 07:04:35 PM Attach, Method #1\n",
      "2018-04-23 07:04:35 PM Calculating pull targets and force constants...\n",
      "2018-04-23 07:04:35 PM Pull, Method #1\n",
      "2018-04-23 07:04:35 PM Calculating release targets and force constants...\n",
      "2018-04-23 07:04:35 PM No restraint info set for the release phase! Skipping...\n",
      "2018-04-23 07:04:35 PM Number of attach windows = 15\n",
      "2018-04-23 07:04:35 PM Number of pull windows = 46\n",
      "2018-04-23 07:04:35 PM This restraint will be skipped in the release phase\n",
      "2018-04-23 07:04:35 PM Assigning atom indices...\n",
      "2018-04-23 07:04:35 PM There are 1 atoms in the mask :4  ...\n",
      "2018-04-23 07:04:35 PM There are 1 atoms in the mask :3  ...\n",
      "2018-04-23 07:04:35 PM There are 1 atoms in the mask :1@C26  ...\n",
      "2018-04-23 07:04:35 PM Calculating attach targets and force constants...\n",
      "2018-04-23 07:04:35 PM Attach, Method #1\n",
      "2018-04-23 07:04:35 PM Calculating pull targets and force constants...\n",
      "2018-04-23 07:04:35 PM Pull, Method #1\n",
      "2018-04-23 07:04:35 PM Calculating release targets and force constants...\n",
      "2018-04-23 07:04:35 PM No restraint info set for the release phase! Skipping...\n",
      "2018-04-23 07:04:35 PM Number of attach windows = 15\n",
      "2018-04-23 07:04:35 PM Number of pull windows = 46\n",
      "2018-04-23 07:04:35 PM This restraint will be skipped in the release phase\n",
      "2018-04-23 07:04:35 PM Assigning atom indices...\n",
      "2018-04-23 07:04:35 PM There are 1 atoms in the mask :5  ...\n",
      "2018-04-23 07:04:35 PM There are 1 atoms in the mask :4  ...\n",
      "2018-04-23 07:04:35 PM There are 1 atoms in the mask :3  ...\n",
      "2018-04-23 07:04:36 PM There are 1 atoms in the mask :1@C26  ...\n",
      "2018-04-23 07:04:36 PM Calculating attach targets and force constants...\n",
      "2018-04-23 07:04:36 PM Attach, Method #1\n",
      "2018-04-23 07:04:36 PM Calculating pull targets and force constants...\n",
      "2018-04-23 07:04:36 PM Pull, Method #1\n",
      "2018-04-23 07:04:36 PM Calculating release targets and force constants...\n",
      "2018-04-23 07:04:36 PM No restraint info set for the release phase! Skipping...\n",
      "2018-04-23 07:04:36 PM Number of attach windows = 15\n",
      "2018-04-23 07:04:36 PM Number of pull windows = 46\n",
      "2018-04-23 07:04:36 PM This restraint will be skipped in the release phase\n",
      "2018-04-23 07:04:36 PM Assigning atom indices...\n",
      "2018-04-23 07:04:36 PM There are 1 atoms in the mask :3  ...\n",
      "2018-04-23 07:04:36 PM There are 1 atoms in the mask :1@C26  ...\n",
      "2018-04-23 07:04:36 PM There are 1 atoms in the mask :1@C18  ...\n",
      "2018-04-23 07:04:37 PM Calculating attach targets and force constants...\n",
      "2018-04-23 07:04:37 PM Attach, Method #1\n",
      "2018-04-23 07:04:37 PM Calculating pull targets and force constants...\n",
      "2018-04-23 07:04:37 PM Pull, Method #1\n",
      "2018-04-23 07:04:37 PM Calculating release targets and force constants...\n",
      "2018-04-23 07:04:37 PM No restraint info set for the release phase! Skipping...\n",
      "2018-04-23 07:04:37 PM Number of attach windows = 15\n",
      "2018-04-23 07:04:37 PM Number of pull windows = 46\n",
      "2018-04-23 07:04:37 PM This restraint will be skipped in the release phase\n",
      "2018-04-23 07:04:37 PM Assigning atom indices...\n",
      "2018-04-23 07:04:37 PM There are 1 atoms in the mask :4  ...\n",
      "2018-04-23 07:04:37 PM There are 1 atoms in the mask :3  ...\n",
      "2018-04-23 07:04:37 PM There are 1 atoms in the mask :1@C26  ...\n",
      "2018-04-23 07:04:37 PM There are 1 atoms in the mask :1@C18  ...\n",
      "2018-04-23 07:04:37 PM Calculating attach targets and force constants...\n",
      "2018-04-23 07:04:37 PM Attach, Method #1\n",
      "2018-04-23 07:04:37 PM Calculating pull targets and force constants...\n",
      "2018-04-23 07:04:37 PM Pull, Method #1\n",
      "2018-04-23 07:04:37 PM Calculating release targets and force constants...\n",
      "2018-04-23 07:04:37 PM No restraint info set for the release phase! Skipping...\n",
      "2018-04-23 07:04:37 PM Number of attach windows = 15\n",
      "2018-04-23 07:04:37 PM Number of pull windows = 46\n",
      "2018-04-23 07:04:37 PM This restraint will be skipped in the release phase\n",
      "2018-04-23 07:04:37 PM Assigning atom indices...\n",
      "2018-04-23 07:04:37 PM There are 1 atoms in the mask :3  ...\n",
      "2018-04-23 07:04:37 PM There are 1 atoms in the mask :1@C26  ...\n",
      "2018-04-23 07:04:37 PM There are 1 atoms in the mask :1@C18  ...\n",
      "2018-04-23 07:04:37 PM There are 1 atoms in the mask :1@C8  ...\n",
      "2018-04-23 07:04:37 PM Calculating attach targets and force constants...\n",
      "2018-04-23 07:04:37 PM Attach, Method #3\n",
      "2018-04-23 07:04:37 PM Calculating pull targets and force constants...\n",
      "2018-04-23 07:04:37 PM Pull, Method #1\n",
      "2018-04-23 07:04:37 PM Calculating release targets and force constants...\n",
      "2018-04-23 07:04:37 PM No restraint info set for the release phase! Skipping...\n",
      "2018-04-23 07:04:37 PM Number of attach windows = 15\n",
      "2018-04-23 07:04:37 PM Number of pull windows = 46\n",
      "2018-04-23 07:04:37 PM This restraint will be skipped in the release phase\n",
      "2018-04-23 07:04:37 PM Assigning atom indices...\n",
      "2018-04-23 07:04:37 PM There are 1 atoms in the mask :3  ...\n",
      "2018-04-23 07:04:37 PM There are 1 atoms in the mask :2@C6  ...\n",
      "2018-04-23 07:04:37 PM Calculating attach targets and force constants...\n",
      "2018-04-23 07:04:37 PM Attach, Method #3\n",
      "2018-04-23 07:04:37 PM Calculating pull targets and force constants...\n",
      "2018-04-23 07:04:37 PM Pull, Method #1\n",
      "2018-04-23 07:04:37 PM Calculating release targets and force constants...\n",
      "2018-04-23 07:04:37 PM No restraint info set for the release phase! Skipping...\n",
      "2018-04-23 07:04:37 PM Number of attach windows = 15\n",
      "2018-04-23 07:04:37 PM Number of pull windows = 46\n",
      "2018-04-23 07:04:37 PM This restraint will be skipped in the release phase\n",
      "2018-04-23 07:04:37 PM Assigning atom indices...\n",
      "2018-04-23 07:04:37 PM There are 1 atoms in the mask :4  ...\n",
      "2018-04-23 07:04:37 PM There are 1 atoms in the mask :3  ...\n"
     ]
    },
    {
     "name": "stdout",
     "output_type": "stream",
     "text": [
      "Set guest restraints...\n"
     ]
    },
    {
     "name": "stderr",
     "output_type": "stream",
     "text": [
      "2018-04-23 07:04:38 PM There are 1 atoms in the mask :2@C6  ...\n",
      "2018-04-23 07:04:38 PM Calculating attach targets and force constants...\n",
      "2018-04-23 07:04:38 PM Attach, Method #3\n",
      "2018-04-23 07:04:38 PM Calculating pull targets and force constants...\n",
      "2018-04-23 07:04:38 PM Pull, Method #1\n",
      "2018-04-23 07:04:38 PM Calculating release targets and force constants...\n",
      "2018-04-23 07:04:38 PM No restraint info set for the release phase! Skipping...\n",
      "2018-04-23 07:04:38 PM Number of attach windows = 15\n",
      "2018-04-23 07:04:38 PM Number of pull windows = 46\n",
      "2018-04-23 07:04:38 PM This restraint will be skipped in the release phase\n",
      "2018-04-23 07:04:38 PM Assigning atom indices...\n",
      "2018-04-23 07:04:38 PM There are 1 atoms in the mask :3  ...\n",
      "2018-04-23 07:04:38 PM There are 1 atoms in the mask :2@C6  ...\n",
      "2018-04-23 07:04:38 PM There are 1 atoms in the mask :2@C1  ...\n",
      "2018-04-23 07:04:38 PM All restraints are \"continuous_apr\" style.\n",
      "2018-04-23 07:04:38 PM Restraints appear to be consistent\n"
     ]
    },
    {
     "name": "stdout",
     "output_type": "stream",
     "text": [
      "Creating windows...\n",
      "Writing restratint file in each window...\n",
      "./OA-G6-2\n",
      "Set pull offset (8.50 A)\n",
      "Set guest restraint atoms...\n",
      "Set static restraints...\n"
     ]
    },
    {
     "name": "stderr",
     "output_type": "stream",
     "text": [
      "2018-04-23 07:04:38 PM Calculating attach targets and force constants...\n",
      "2018-04-23 07:04:38 PM Attach, Method #1\n",
      "2018-04-23 07:04:38 PM Calculating pull targets and force constants...\n",
      "2018-04-23 07:04:38 PM Pull, Method #1\n",
      "2018-04-23 07:04:38 PM Calculating release targets and force constants...\n",
      "2018-04-23 07:04:38 PM No restraint info set for the release phase! Skipping...\n",
      "2018-04-23 07:04:38 PM Number of attach windows = 15\n",
      "2018-04-23 07:04:38 PM Number of pull windows = 46\n",
      "2018-04-23 07:04:38 PM This restraint will be skipped in the release phase\n",
      "2018-04-23 07:04:38 PM Assigning atom indices...\n",
      "2018-04-23 07:04:38 PM There are 1 atoms in the mask :3  ...\n",
      "2018-04-23 07:04:38 PM There are 1 atoms in the mask :1@C26  ...\n",
      "2018-04-23 07:04:39 PM Calculating attach targets and force constants...\n",
      "2018-04-23 07:04:39 PM Attach, Method #1\n",
      "2018-04-23 07:04:39 PM Calculating pull targets and force constants...\n",
      "2018-04-23 07:04:39 PM Pull, Method #1\n",
      "2018-04-23 07:04:39 PM Calculating release targets and force constants...\n",
      "2018-04-23 07:04:39 PM No restraint info set for the release phase! Skipping...\n",
      "2018-04-23 07:04:39 PM Number of attach windows = 15\n",
      "2018-04-23 07:04:39 PM Number of pull windows = 46\n",
      "2018-04-23 07:04:39 PM This restraint will be skipped in the release phase\n",
      "2018-04-23 07:04:39 PM Assigning atom indices...\n",
      "2018-04-23 07:04:39 PM There are 1 atoms in the mask :4  ...\n",
      "2018-04-23 07:04:39 PM There are 1 atoms in the mask :3  ...\n",
      "2018-04-23 07:04:39 PM There are 1 atoms in the mask :1@C26  ...\n",
      "2018-04-23 07:04:39 PM Calculating attach targets and force constants...\n",
      "2018-04-23 07:04:39 PM Attach, Method #1\n",
      "2018-04-23 07:04:39 PM Calculating pull targets and force constants...\n",
      "2018-04-23 07:04:39 PM Pull, Method #1\n",
      "2018-04-23 07:04:39 PM Calculating release targets and force constants...\n",
      "2018-04-23 07:04:39 PM No restraint info set for the release phase! Skipping...\n",
      "2018-04-23 07:04:39 PM Number of attach windows = 15\n",
      "2018-04-23 07:04:39 PM Number of pull windows = 46\n",
      "2018-04-23 07:04:39 PM This restraint will be skipped in the release phase\n",
      "2018-04-23 07:04:39 PM Assigning atom indices...\n",
      "2018-04-23 07:04:39 PM There are 1 atoms in the mask :5  ...\n",
      "2018-04-23 07:04:39 PM There are 1 atoms in the mask :4  ...\n",
      "2018-04-23 07:04:39 PM There are 1 atoms in the mask :3  ...\n",
      "2018-04-23 07:04:39 PM There are 1 atoms in the mask :1@C26  ...\n",
      "2018-04-23 07:04:40 PM Calculating attach targets and force constants...\n",
      "2018-04-23 07:04:40 PM Attach, Method #1\n",
      "2018-04-23 07:04:40 PM Calculating pull targets and force constants...\n",
      "2018-04-23 07:04:40 PM Pull, Method #1\n",
      "2018-04-23 07:04:40 PM Calculating release targets and force constants...\n",
      "2018-04-23 07:04:40 PM No restraint info set for the release phase! Skipping...\n",
      "2018-04-23 07:04:40 PM Number of attach windows = 15\n",
      "2018-04-23 07:04:40 PM Number of pull windows = 46\n",
      "2018-04-23 07:04:40 PM This restraint will be skipped in the release phase\n",
      "2018-04-23 07:04:40 PM Assigning atom indices...\n",
      "2018-04-23 07:04:40 PM There are 1 atoms in the mask :3  ...\n",
      "2018-04-23 07:04:40 PM There are 1 atoms in the mask :1@C26  ...\n",
      "2018-04-23 07:04:40 PM There are 1 atoms in the mask :1@C18  ...\n",
      "2018-04-23 07:04:40 PM Calculating attach targets and force constants...\n",
      "2018-04-23 07:04:40 PM Attach, Method #1\n",
      "2018-04-23 07:04:40 PM Calculating pull targets and force constants...\n",
      "2018-04-23 07:04:40 PM Pull, Method #1\n",
      "2018-04-23 07:04:40 PM Calculating release targets and force constants...\n",
      "2018-04-23 07:04:40 PM No restraint info set for the release phase! Skipping...\n",
      "2018-04-23 07:04:40 PM Number of attach windows = 15\n",
      "2018-04-23 07:04:40 PM Number of pull windows = 46\n",
      "2018-04-23 07:04:40 PM This restraint will be skipped in the release phase\n",
      "2018-04-23 07:04:40 PM Assigning atom indices...\n",
      "2018-04-23 07:04:40 PM There are 1 atoms in the mask :4  ...\n",
      "2018-04-23 07:04:40 PM There are 1 atoms in the mask :3  ...\n",
      "2018-04-23 07:04:40 PM There are 1 atoms in the mask :1@C26  ...\n",
      "2018-04-23 07:04:40 PM There are 1 atoms in the mask :1@C18  ...\n",
      "2018-04-23 07:04:41 PM Calculating attach targets and force constants...\n",
      "2018-04-23 07:04:41 PM Attach, Method #1\n",
      "2018-04-23 07:04:41 PM Calculating pull targets and force constants...\n",
      "2018-04-23 07:04:41 PM Pull, Method #1\n",
      "2018-04-23 07:04:41 PM Calculating release targets and force constants...\n",
      "2018-04-23 07:04:41 PM No restraint info set for the release phase! Skipping...\n",
      "2018-04-23 07:04:41 PM Number of attach windows = 15\n",
      "2018-04-23 07:04:41 PM Number of pull windows = 46\n",
      "2018-04-23 07:04:41 PM This restraint will be skipped in the release phase\n",
      "2018-04-23 07:04:41 PM Assigning atom indices...\n",
      "2018-04-23 07:04:41 PM There are 1 atoms in the mask :3  ...\n",
      "2018-04-23 07:04:41 PM There are 1 atoms in the mask :1@C26  ...\n",
      "2018-04-23 07:04:41 PM There are 1 atoms in the mask :1@C18  ...\n",
      "2018-04-23 07:04:41 PM There are 1 atoms in the mask :1@C8  ...\n",
      "2018-04-23 07:04:41 PM Calculating attach targets and force constants...\n",
      "2018-04-23 07:04:41 PM Attach, Method #3\n",
      "2018-04-23 07:04:41 PM Calculating pull targets and force constants...\n",
      "2018-04-23 07:04:41 PM Pull, Method #1\n",
      "2018-04-23 07:04:41 PM Calculating release targets and force constants...\n",
      "2018-04-23 07:04:41 PM No restraint info set for the release phase! Skipping...\n",
      "2018-04-23 07:04:41 PM Number of attach windows = 15\n",
      "2018-04-23 07:04:41 PM Number of pull windows = 46\n",
      "2018-04-23 07:04:41 PM This restraint will be skipped in the release phase\n",
      "2018-04-23 07:04:41 PM Assigning atom indices...\n",
      "2018-04-23 07:04:41 PM There are 1 atoms in the mask :3  ...\n",
      "2018-04-23 07:04:41 PM There are 1 atoms in the mask :2@C6  ...\n",
      "2018-04-23 07:04:41 PM Calculating attach targets and force constants...\n",
      "2018-04-23 07:04:41 PM Attach, Method #3\n",
      "2018-04-23 07:04:41 PM Calculating pull targets and force constants...\n",
      "2018-04-23 07:04:41 PM Pull, Method #1\n",
      "2018-04-23 07:04:41 PM Calculating release targets and force constants...\n",
      "2018-04-23 07:04:41 PM No restraint info set for the release phase! Skipping...\n",
      "2018-04-23 07:04:41 PM Number of attach windows = 15\n",
      "2018-04-23 07:04:41 PM Number of pull windows = 46\n",
      "2018-04-23 07:04:41 PM This restraint will be skipped in the release phase\n",
      "2018-04-23 07:04:41 PM Assigning atom indices...\n",
      "2018-04-23 07:04:41 PM There are 1 atoms in the mask :4  ...\n",
      "2018-04-23 07:04:41 PM There are 1 atoms in the mask :3  ...\n",
      "2018-04-23 07:04:41 PM There are 1 atoms in the mask :2@C6  ...\n",
      "2018-04-23 07:04:41 PM Calculating attach targets and force constants...\n",
      "2018-04-23 07:04:41 PM Attach, Method #3\n",
      "2018-04-23 07:04:41 PM Calculating pull targets and force constants...\n",
      "2018-04-23 07:04:41 PM Pull, Method #1\n",
      "2018-04-23 07:04:41 PM Calculating release targets and force constants...\n",
      "2018-04-23 07:04:41 PM No restraint info set for the release phase! Skipping...\n",
      "2018-04-23 07:04:41 PM Number of attach windows = 15\n",
      "2018-04-23 07:04:41 PM Number of pull windows = 46\n",
      "2018-04-23 07:04:41 PM This restraint will be skipped in the release phase\n",
      "2018-04-23 07:04:41 PM Assigning atom indices...\n",
      "2018-04-23 07:04:41 PM There are 1 atoms in the mask :3  ...\n",
      "2018-04-23 07:04:41 PM There are 1 atoms in the mask :2@C6  ...\n",
      "2018-04-23 07:04:41 PM There are 1 atoms in the mask :2@C1  ..."
     ]
    },
    {
     "name": "stdout",
     "output_type": "stream",
     "text": [
      "Set guest restraints...\n"
     ]
    },
    {
     "name": "stderr",
     "output_type": "stream",
     "text": [
      "\n",
      "2018-04-23 07:04:41 PM All restraints are \"continuous_apr\" style.\n",
      "2018-04-23 07:04:41 PM Restraints appear to be consistent\n"
     ]
    },
    {
     "name": "stdout",
     "output_type": "stream",
     "text": [
      "Creating windows...\n",
      "Writing restratint file in each window...\n",
      "./OA-G3-2\n",
      "Set pull offset (7.28 A)\n",
      "Set guest restraint atoms...\n",
      "Set static restraints...\n"
     ]
    },
    {
     "name": "stderr",
     "output_type": "stream",
     "text": [
      "2018-04-23 07:04:42 PM Calculating attach targets and force constants...\n",
      "2018-04-23 07:04:42 PM Attach, Method #1\n",
      "2018-04-23 07:04:42 PM Calculating pull targets and force constants...\n",
      "2018-04-23 07:04:42 PM Pull, Method #1\n",
      "2018-04-23 07:04:42 PM Calculating release targets and force constants...\n",
      "2018-04-23 07:04:42 PM No restraint info set for the release phase! Skipping...\n",
      "2018-04-23 07:04:42 PM Number of attach windows = 15\n",
      "2018-04-23 07:04:42 PM Number of pull windows = 46\n",
      "2018-04-23 07:04:42 PM This restraint will be skipped in the release phase\n",
      "2018-04-23 07:04:42 PM Assigning atom indices...\n",
      "2018-04-23 07:04:42 PM There are 1 atoms in the mask :3  ...\n",
      "2018-04-23 07:04:42 PM There are 1 atoms in the mask :1@C26  ...\n",
      "2018-04-23 07:04:42 PM Calculating attach targets and force constants...\n",
      "2018-04-23 07:04:42 PM Attach, Method #1\n",
      "2018-04-23 07:04:42 PM Calculating pull targets and force constants...\n",
      "2018-04-23 07:04:42 PM Pull, Method #1\n",
      "2018-04-23 07:04:42 PM Calculating release targets and force constants...\n",
      "2018-04-23 07:04:42 PM No restraint info set for the release phase! Skipping...\n",
      "2018-04-23 07:04:42 PM Number of attach windows = 15\n",
      "2018-04-23 07:04:42 PM Number of pull windows = 46\n",
      "2018-04-23 07:04:42 PM This restraint will be skipped in the release phase\n",
      "2018-04-23 07:04:42 PM Assigning atom indices...\n",
      "2018-04-23 07:04:42 PM There are 1 atoms in the mask :4  ...\n",
      "2018-04-23 07:04:42 PM There are 1 atoms in the mask :3  ...\n",
      "2018-04-23 07:04:42 PM There are 1 atoms in the mask :1@C26  ...\n",
      "2018-04-23 07:04:42 PM Calculating attach targets and force constants...\n",
      "2018-04-23 07:04:42 PM Attach, Method #1\n",
      "2018-04-23 07:04:42 PM Calculating pull targets and force constants...\n",
      "2018-04-23 07:04:42 PM Pull, Method #1\n",
      "2018-04-23 07:04:42 PM Calculating release targets and force constants...\n",
      "2018-04-23 07:04:42 PM No restraint info set for the release phase! Skipping...\n",
      "2018-04-23 07:04:42 PM Number of attach windows = 15\n",
      "2018-04-23 07:04:42 PM Number of pull windows = 46\n",
      "2018-04-23 07:04:42 PM This restraint will be skipped in the release phase\n",
      "2018-04-23 07:04:42 PM Assigning atom indices...\n",
      "2018-04-23 07:04:42 PM There are 1 atoms in the mask :5  ...\n",
      "2018-04-23 07:04:42 PM There are 1 atoms in the mask :4  ...\n",
      "2018-04-23 07:04:42 PM There are 1 atoms in the mask :3  ...\n",
      "2018-04-23 07:04:42 PM There are 1 atoms in the mask :1@C26  ...\n",
      "2018-04-23 07:04:43 PM Calculating attach targets and force constants...\n",
      "2018-04-23 07:04:43 PM Attach, Method #1\n",
      "2018-04-23 07:04:43 PM Calculating pull targets and force constants...\n",
      "2018-04-23 07:04:43 PM Pull, Method #1\n",
      "2018-04-23 07:04:43 PM Calculating release targets and force constants...\n",
      "2018-04-23 07:04:43 PM No restraint info set for the release phase! Skipping...\n",
      "2018-04-23 07:04:43 PM Number of attach windows = 15\n",
      "2018-04-23 07:04:43 PM Number of pull windows = 46\n",
      "2018-04-23 07:04:43 PM This restraint will be skipped in the release phase\n",
      "2018-04-23 07:04:43 PM Assigning atom indices...\n",
      "2018-04-23 07:04:43 PM There are 1 atoms in the mask :3  ...\n",
      "2018-04-23 07:04:43 PM There are 1 atoms in the mask :1@C26  ...\n",
      "2018-04-23 07:04:43 PM There are 1 atoms in the mask :1@C18  ...\n",
      "2018-04-23 07:04:43 PM Calculating attach targets and force constants...\n",
      "2018-04-23 07:04:43 PM Attach, Method #1\n",
      "2018-04-23 07:04:43 PM Calculating pull targets and force constants...\n",
      "2018-04-23 07:04:43 PM Pull, Method #1\n",
      "2018-04-23 07:04:43 PM Calculating release targets and force constants...\n",
      "2018-04-23 07:04:43 PM No restraint info set for the release phase! Skipping...\n",
      "2018-04-23 07:04:43 PM Number of attach windows = 15\n",
      "2018-04-23 07:04:43 PM Number of pull windows = 46\n",
      "2018-04-23 07:04:43 PM This restraint will be skipped in the release phase\n",
      "2018-04-23 07:04:43 PM Assigning atom indices...\n",
      "2018-04-23 07:04:43 PM There are 1 atoms in the mask :4  ...\n",
      "2018-04-23 07:04:43 PM There are 1 atoms in the mask :3  ...\n",
      "2018-04-23 07:04:43 PM There are 1 atoms in the mask :1@C26  ...\n",
      "2018-04-23 07:04:43 PM There are 1 atoms in the mask :1@C18  ...\n",
      "2018-04-23 07:04:44 PM Calculating attach targets and force constants...\n",
      "2018-04-23 07:04:44 PM Attach, Method #1\n",
      "2018-04-23 07:04:44 PM Calculating pull targets and force constants...\n",
      "2018-04-23 07:04:44 PM Pull, Method #1\n",
      "2018-04-23 07:04:44 PM Calculating release targets and force constants...\n",
      "2018-04-23 07:04:44 PM No restraint info set for the release phase! Skipping...\n",
      "2018-04-23 07:04:44 PM Number of attach windows = 15\n",
      "2018-04-23 07:04:44 PM Number of pull windows = 46\n",
      "2018-04-23 07:04:44 PM This restraint will be skipped in the release phase\n",
      "2018-04-23 07:04:44 PM Assigning atom indices...\n",
      "2018-04-23 07:04:44 PM There are 1 atoms in the mask :3  ...\n",
      "2018-04-23 07:04:44 PM There are 1 atoms in the mask :1@C26  ...\n",
      "2018-04-23 07:04:44 PM There are 1 atoms in the mask :1@C18  ...\n",
      "2018-04-23 07:04:44 PM There are 1 atoms in the mask :1@C8  ...\n",
      "2018-04-23 07:04:44 PM Calculating attach targets and force constants...\n",
      "2018-04-23 07:04:44 PM Attach, Method #3\n",
      "2018-04-23 07:04:44 PM Calculating pull targets and force constants...\n",
      "2018-04-23 07:04:44 PM Pull, Method #1\n",
      "2018-04-23 07:04:44 PM Calculating release targets and force constants...\n",
      "2018-04-23 07:04:44 PM No restraint info set for the release phase! Skipping...\n",
      "2018-04-23 07:04:44 PM Number of attach windows = 15\n",
      "2018-04-23 07:04:44 PM Number of pull windows = 46\n",
      "2018-04-23 07:04:44 PM This restraint will be skipped in the release phase\n",
      "2018-04-23 07:04:44 PM Assigning atom indices...\n",
      "2018-04-23 07:04:44 PM There are 1 atoms in the mask :3  ...\n",
      "2018-04-23 07:04:44 PM There are 1 atoms in the mask :2@C1  ...\n",
      "2018-04-23 07:04:44 PM Calculating attach targets and force constants...\n",
      "2018-04-23 07:04:44 PM Attach, Method #3\n",
      "2018-04-23 07:04:44 PM Calculating pull targets and force constants...\n",
      "2018-04-23 07:04:44 PM Pull, Method #1\n",
      "2018-04-23 07:04:44 PM Calculating release targets and force constants...\n",
      "2018-04-23 07:04:44 PM No restraint info set for the release phase! Skipping...\n",
      "2018-04-23 07:04:44 PM Number of attach windows = 15\n",
      "2018-04-23 07:04:44 PM Number of pull windows = 46\n",
      "2018-04-23 07:04:44 PM This restraint will be skipped in the release phase\n",
      "2018-04-23 07:04:44 PM Assigning atom indices...\n",
      "2018-04-23 07:04:44 PM There are 1 atoms in the mask :4  ...\n",
      "2018-04-23 07:04:44 PM There are 1 atoms in the mask :3  ...\n",
      "2018-04-23 07:04:44 PM There are 1 atoms in the mask :2@C1  ...\n",
      "2018-04-23 07:04:44 PM Calculating attach targets and force constants...\n",
      "2018-04-23 07:04:44 PM Attach, Method #3\n",
      "2018-04-23 07:04:44 PM Calculating pull targets and force constants...\n",
      "2018-04-23 07:04:44 PM Pull, Method #1\n",
      "2018-04-23 07:04:44 PM Calculating release targets and force constants...\n",
      "2018-04-23 07:04:44 PM No restraint info set for the release phase! Skipping...\n",
      "2018-04-23 07:04:44 PM Number of attach windows = 15\n",
      "2018-04-23 07:04:44 PM Number of pull windows = 46\n",
      "2018-04-23 07:04:44 PM This restraint will be skipped in the release phase\n",
      "2018-04-23 07:04:44 PM Assigning atom indices...\n",
      "2018-04-23 07:04:44 PM There are 1 atoms in the mask :3  ...\n",
      "2018-04-23 07:04:44 PM There are 1 atoms in the mask :2@C1  ...\n",
      "2018-04-23 07:04:44 PM There are 1 atoms in the mask :2@C3  ...\n"
     ]
    },
    {
     "name": "stdout",
     "output_type": "stream",
     "text": [
      "Set guest restraints...\n"
     ]
    },
    {
     "name": "stderr",
     "output_type": "stream",
     "text": [
      "2018-04-23 07:04:44 PM All restraints are \"continuous_apr\" style.\n",
      "2018-04-23 07:04:44 PM Restraints appear to be consistent\n"
     ]
    },
    {
     "name": "stdout",
     "output_type": "stream",
     "text": [
      "Creating windows...\n",
      "Writing restratint file in each window...\n"
     ]
    }
   ],
   "source": [
    "for complx in complexes:\n",
    "    print(complx)\n",
    "    \n",
    "    # Set the guest anchor atoms\n",
    "    ############################\n",
    "    if 'G3' in complx:\n",
    "        guest_anchors = [':2@C1', ':2@C3']\n",
    "        traj = pt.load(os.path.join(complx, 'AMBER', 'solvate.rst7'), \n",
    "                            os.path.join(complx, 'AMBER', 'solvate.prmtop'))\n",
    "        \n",
    "        pull_initial = pt.distance(traj, ' '.join([dummy_anchors[0], guest_anchors[0]]))[0]\n",
    "        \n",
    "        print(f'Set pull offset ({pull_initial:1.2f} A)')\n",
    "        pull_distances = [float(i) + pull_initial for i in pull_string.split()]\n",
    "\n",
    "    if 'G6' in complx:\n",
    "        guest_anchors = [':2@C6', ':2@C1']\n",
    "        traj = pt.load(os.path.join(complx, 'AMBER', 'solvate.rst7'), \n",
    "                            os.path.join(complx, 'AMBER', 'solvate.prmtop'))\n",
    "        \n",
    "        pull_initial = pt.distance(traj, ' '.join([dummy_anchors[0], guest_anchors[0]]))[0]\n",
    "        \n",
    "        print(f'Set pull offset ({pull_initial:1.2f} A)')\n",
    "        pull_distances = [float(i) + pull_initial for i in pull_string.split()]\n",
    "        \n",
    "    # Set the guest restraint atoms\n",
    "    ###############################\n",
    "    print('Set guest restraint atoms...')\n",
    "    guest_restraint_atoms = [[dummy_anchors[0], guest_anchors[0]],\n",
    "                             [dummy_anchors[1], dummy_anchors[0], guest_anchors[0]],\n",
    "                             [dummy_anchors[0], guest_anchors[0], guest_anchors[1]],\n",
    "                            ]\n",
    "\n",
    "    guest_restraint_targets = [pull_initial,\n",
    "                               180.0,\n",
    "                               180.0\n",
    "                              ]\n",
    "    guest_restraint_target_final = [pull_distances[-1], 180.0, 180.0]\n",
    "    guest_restraint_distance_fc = 5.0 # kcal/mol-A**2\n",
    "    guest_restraint_angle_fc = 100.0  # kcal/mol-rad**2\n",
    "    \n",
    "    hg = pmd.load_file(os.path.join(complx, 'AMBER', 'solvate.prmtop'),\n",
    "                       os.path.join(complx, 'AMBER', 'solvate.rst7'),\n",
    "                       structure=True)\n",
    "\n",
    "    # Set the static restraint atoms\n",
    "    ################################\n",
    "    print('Set static restraints...')\n",
    "    static_restraints = []\n",
    "    for index, atoms in enumerate(static_restraint_atoms):    \n",
    "        this = static_DAT_restraint(restraint_mask_list=atoms,\n",
    "                            num_window_list=windows, \n",
    "                            ref_structure=hg,\n",
    "                            force_constant=static_restraint_angle_fc if len(atoms) > 2 else static_restraint_distance_fc,\n",
    "                            amber_index=True)\n",
    "                                    \n",
    "        static_restraints.append(this)\n",
    "\n",
    "    # Initialize the restraints\n",
    "    ###########################\n",
    "    print('Set guest restraints...')\n",
    "    guest_restraints = []\n",
    "    for index, atoms in enumerate(guest_restraint_atoms): \n",
    "        if len(atoms) > 2:\n",
    "            angle = True\n",
    "        else:\n",
    "            angle = False\n",
    "        this = DAT_restraint()\n",
    "        this.auto_apr = True\n",
    "        this.amber_index = True\n",
    "        this.topology = hg\n",
    "        this.mask1 = atoms[0]\n",
    "        this.mask2 = atoms[1]\n",
    "        if angle:\n",
    "            this.mask3 = atoms[2]\n",
    "            this.attach['fc_final'] = guest_restraint_angle_fc\n",
    "        else:\n",
    "            this.attach['fc_final'] = guest_restraint_distance_fc\n",
    "        this.attach['target'] = guest_restraint_targets[index]\n",
    "        this.attach['fraction_list'] = attach_fractions\n",
    "\n",
    "        this.pull['target_final'] = guest_restraint_target_final[index]\n",
    "        this.pull['num_windows'] = windows[1]\n",
    "        this.initialize()\n",
    "        \n",
    "        guest_restraints.append(this)\n",
    "    \n",
    "    # Create the windows\n",
    "    ####################\n",
    "    print('Creating windows...')\n",
    "    window_list = create_window_list(guest_restraints)\n",
    "    make_window_dirs(window_list, path=os.path.join(complx, 'AMBER', 'APR'))\n",
    "    \n",
    "    # Write the restraint file in each window\n",
    "    #########################################\n",
    "    print('Writing restratint file in each window...')\n",
    "    for window in window_list:\n",
    "        with open(os.path.join(complx, 'AMBER', 'APR', 'windows', window, 'disang.rest'), \n",
    "                  'w') as file:\n",
    "            for restraint in static_restraints + guest_restraints:\n",
    "                if window[0] == 'a':\n",
    "                    phase = 'attach'\n",
    "                if window[0] == 'p':\n",
    "                    phase = 'pull'\n",
    "                if window[0] == 'r':\n",
    "                    phase = 'release'\n",
    "\n",
    "                string = amber_restraint_line(restraint, phase, int(window[1:]))\n",
    "                if string is not None:\n",
    "                    file.write(string)"
   ]
  },
  {
   "cell_type": "markdown",
   "metadata": {},
   "source": [
    "Now, let's copy the structure "
   ]
  },
  {
   "cell_type": "code",
   "execution_count": 7,
   "metadata": {
    "ExecuteTime": {
     "end_time": "2018-04-22T23:24:44.141618Z",
     "start_time": "2018-04-22T23:24:44.062651Z"
    }
   },
   "outputs": [],
   "source": [
    "files = ['complex_dummy.pdb',\n",
    "        'dm1.mol2',\n",
    "        'dm2.mol2',\n",
    "        'dm3.mol2',\n",
    "        'dummy.frcmod',\n",
    "        'hst.mol2',\n",
    "        'hst.frcmod',\n",
    "        'gst.mol2',\n",
    "        'gst.frcmod']\n",
    "\n",
    "for complx in complexes:\n",
    "    for window_index, window in enumerate(window_list):\n",
    "\n",
    "        os.remove(os.path.join(complx, 'AMBER', 'APR', 'windows', window, 'complex_dummy.pdb'))\n",
    "        for file in files:\n",
    "            try:\n",
    "                os.symlink(os.path.join('../../../', file),\n",
    "                           os.path.join(complx, 'AMBER', 'APR', 'windows', window, file))        \n",
    "            except:\n",
    "                pass"
   ]
  },
  {
   "cell_type": "code",
   "execution_count": 8,
   "metadata": {
    "ExecuteTime": {
     "end_time": "2018-04-22T23:25:14.174045Z",
     "start_time": "2018-04-22T23:24:44.143343Z"
    }
   },
   "outputs": [
    {
     "name": "stdout",
     "output_type": "stream",
     "text": [
      "./OA-G3-3: Translating p000 by 0.000000 A...\n",
      "./OA-G3-3: Translating p001 by 0.400000 A...\n",
      "./OA-G3-3: Translating p002 by 0.800000 A...\n",
      "./OA-G3-3: Translating p003 by 1.200000 A...\n",
      "./OA-G3-3: Translating p004 by 1.600000 A...\n",
      "./OA-G3-3: Translating p005 by 2.000000 A...\n",
      "./OA-G3-3: Translating p006 by 2.400000 A...\n",
      "./OA-G3-3: Translating p007 by 2.800000 A...\n",
      "./OA-G3-3: Translating p008 by 3.200000 A...\n",
      "./OA-G3-3: Translating p009 by 3.600000 A...\n",
      "./OA-G3-3: Translating p010 by 4.000000 A...\n",
      "./OA-G3-3: Translating p011 by 4.400000 A...\n",
      "./OA-G3-3: Translating p012 by 4.800000 A...\n",
      "./OA-G3-3: Translating p013 by 5.200000 A...\n",
      "./OA-G3-3: Translating p014 by 5.600000 A...\n",
      "./OA-G3-3: Translating p015 by 6.000000 A...\n",
      "./OA-G3-3: Translating p016 by 6.400000 A...\n",
      "./OA-G3-3: Translating p017 by 6.800000 A...\n",
      "./OA-G3-3: Translating p018 by 7.200000 A...\n",
      "./OA-G3-3: Translating p019 by 7.600000 A...\n",
      "./OA-G3-3: Translating p020 by 8.000000 A...\n",
      "./OA-G3-3: Translating p021 by 8.400000 A...\n",
      "./OA-G3-3: Translating p022 by 8.800000 A...\n",
      "./OA-G3-3: Translating p023 by 9.200000 A...\n",
      "./OA-G3-3: Translating p024 by 9.600000 A...\n",
      "./OA-G3-3: Translating p025 by 10.000000 A...\n",
      "./OA-G3-3: Translating p026 by 10.400000 A...\n",
      "./OA-G3-3: Translating p027 by 10.800000 A...\n",
      "./OA-G3-3: Translating p028 by 11.200000 A...\n",
      "./OA-G3-3: Translating p029 by 11.600000 A...\n",
      "./OA-G3-3: Translating p030 by 12.000000 A...\n",
      "./OA-G3-3: Translating p031 by 12.400000 A...\n",
      "./OA-G3-3: Translating p032 by 12.800000 A...\n",
      "./OA-G3-3: Translating p033 by 13.200000 A...\n",
      "./OA-G3-3: Translating p034 by 13.600000 A...\n",
      "./OA-G3-3: Translating p035 by 14.000000 A...\n",
      "./OA-G3-3: Translating p036 by 14.400000 A...\n",
      "./OA-G3-3: Translating p037 by 14.800000 A...\n",
      "./OA-G3-3: Translating p038 by 15.200000 A...\n",
      "./OA-G3-3: Translating p039 by 15.600000 A...\n",
      "./OA-G3-3: Translating p040 by 16.000000 A...\n",
      "./OA-G3-3: Translating p041 by 16.400000 A...\n",
      "./OA-G3-3: Translating p042 by 16.800000 A...\n",
      "./OA-G3-3: Translating p043 by 17.200000 A...\n",
      "./OA-G3-3: Translating p044 by 17.600000 A...\n",
      "./OA-G3-3: Translating p045 by 18.000000 A...\n",
      "./OA-G6-3: Translating p000 by 0.000000 A...\n",
      "./OA-G6-3: Translating p001 by 0.400000 A...\n",
      "./OA-G6-3: Translating p002 by 0.800000 A...\n",
      "./OA-G6-3: Translating p003 by 1.200000 A...\n",
      "./OA-G6-3: Translating p004 by 1.600000 A...\n",
      "./OA-G6-3: Translating p005 by 2.000000 A...\n",
      "./OA-G6-3: Translating p006 by 2.400000 A...\n",
      "./OA-G6-3: Translating p007 by 2.800000 A...\n",
      "./OA-G6-3: Translating p008 by 3.200000 A...\n",
      "./OA-G6-3: Translating p009 by 3.600000 A...\n",
      "./OA-G6-3: Translating p010 by 4.000000 A...\n",
      "./OA-G6-3: Translating p011 by 4.400000 A...\n",
      "./OA-G6-3: Translating p012 by 4.800000 A...\n",
      "./OA-G6-3: Translating p013 by 5.200000 A...\n",
      "./OA-G6-3: Translating p014 by 5.600000 A...\n",
      "./OA-G6-3: Translating p015 by 6.000000 A...\n",
      "./OA-G6-3: Translating p016 by 6.400000 A...\n",
      "./OA-G6-3: Translating p017 by 6.800000 A...\n",
      "./OA-G6-3: Translating p018 by 7.200000 A...\n",
      "./OA-G6-3: Translating p019 by 7.600000 A...\n",
      "./OA-G6-3: Translating p020 by 8.000000 A...\n",
      "./OA-G6-3: Translating p021 by 8.400000 A...\n",
      "./OA-G6-3: Translating p022 by 8.800000 A...\n",
      "./OA-G6-3: Translating p023 by 9.200000 A...\n",
      "./OA-G6-3: Translating p024 by 9.600000 A...\n",
      "./OA-G6-3: Translating p025 by 10.000000 A...\n",
      "./OA-G6-3: Translating p026 by 10.400000 A...\n",
      "./OA-G6-3: Translating p027 by 10.800000 A...\n",
      "./OA-G6-3: Translating p028 by 11.200000 A...\n",
      "./OA-G6-3: Translating p029 by 11.600000 A...\n",
      "./OA-G6-3: Translating p030 by 12.000000 A...\n",
      "./OA-G6-3: Translating p031 by 12.400000 A...\n",
      "./OA-G6-3: Translating p032 by 12.800000 A...\n",
      "./OA-G6-3: Translating p033 by 13.200000 A...\n",
      "./OA-G6-3: Translating p034 by 13.600000 A...\n",
      "./OA-G6-3: Translating p035 by 14.000000 A...\n",
      "./OA-G6-3: Translating p036 by 14.400000 A...\n",
      "./OA-G6-3: Translating p037 by 14.800000 A...\n",
      "./OA-G6-3: Translating p038 by 15.200000 A...\n",
      "./OA-G6-3: Translating p039 by 15.600000 A...\n",
      "./OA-G6-3: Translating p040 by 16.000000 A...\n",
      "./OA-G6-3: Translating p041 by 16.400000 A...\n",
      "./OA-G6-3: Translating p042 by 16.800000 A...\n",
      "./OA-G6-3: Translating p043 by 17.200000 A...\n",
      "./OA-G6-3: Translating p044 by 17.600000 A...\n",
      "./OA-G6-3: Translating p045 by 18.000000 A...\n",
      "./OA-G3-1: Translating p000 by 0.000000 A...\n",
      "./OA-G3-1: Translating p001 by 0.400000 A...\n",
      "./OA-G3-1: Translating p002 by 0.800000 A...\n",
      "./OA-G3-1: Translating p003 by 1.200000 A...\n",
      "./OA-G3-1: Translating p004 by 1.600000 A...\n",
      "./OA-G3-1: Translating p005 by 2.000000 A...\n",
      "./OA-G3-1: Translating p006 by 2.400000 A...\n",
      "./OA-G3-1: Translating p007 by 2.800000 A...\n",
      "./OA-G3-1: Translating p008 by 3.200000 A...\n",
      "./OA-G3-1: Translating p009 by 3.600000 A...\n",
      "./OA-G3-1: Translating p010 by 4.000000 A...\n",
      "./OA-G3-1: Translating p011 by 4.400000 A...\n",
      "./OA-G3-1: Translating p012 by 4.800000 A...\n",
      "./OA-G3-1: Translating p013 by 5.200000 A...\n",
      "./OA-G3-1: Translating p014 by 5.600000 A...\n",
      "./OA-G3-1: Translating p015 by 6.000000 A...\n",
      "./OA-G3-1: Translating p016 by 6.400000 A...\n",
      "./OA-G3-1: Translating p017 by 6.800000 A...\n",
      "./OA-G3-1: Translating p018 by 7.200000 A...\n",
      "./OA-G3-1: Translating p019 by 7.600000 A...\n",
      "./OA-G3-1: Translating p020 by 8.000000 A...\n",
      "./OA-G3-1: Translating p021 by 8.400000 A...\n",
      "./OA-G3-1: Translating p022 by 8.800000 A...\n",
      "./OA-G3-1: Translating p023 by 9.200000 A...\n",
      "./OA-G3-1: Translating p024 by 9.600000 A...\n",
      "./OA-G3-1: Translating p025 by 10.000000 A...\n",
      "./OA-G3-1: Translating p026 by 10.400000 A...\n",
      "./OA-G3-1: Translating p027 by 10.800000 A...\n",
      "./OA-G3-1: Translating p028 by 11.200000 A...\n",
      "./OA-G3-1: Translating p029 by 11.600000 A...\n",
      "./OA-G3-1: Translating p030 by 12.000000 A...\n",
      "./OA-G3-1: Translating p031 by 12.400000 A...\n",
      "./OA-G3-1: Translating p032 by 12.800000 A...\n",
      "./OA-G3-1: Translating p033 by 13.200000 A...\n",
      "./OA-G3-1: Translating p034 by 13.600000 A...\n",
      "./OA-G3-1: Translating p035 by 14.000000 A...\n",
      "./OA-G3-1: Translating p036 by 14.400000 A...\n",
      "./OA-G3-1: Translating p037 by 14.800000 A...\n",
      "./OA-G3-1: Translating p038 by 15.200000 A...\n",
      "./OA-G3-1: Translating p039 by 15.600000 A...\n",
      "./OA-G3-1: Translating p040 by 16.000000 A...\n",
      "./OA-G3-1: Translating p041 by 16.400000 A...\n",
      "./OA-G3-1: Translating p042 by 16.800000 A...\n",
      "./OA-G3-1: Translating p043 by 17.200000 A...\n",
      "./OA-G3-1: Translating p044 by 17.600000 A...\n",
      "./OA-G3-1: Translating p045 by 18.000000 A...\n",
      "./OA-G3-0: Translating p000 by 0.000000 A...\n",
      "./OA-G3-0: Translating p001 by 0.400000 A...\n",
      "./OA-G3-0: Translating p002 by 0.800000 A...\n",
      "./OA-G3-0: Translating p003 by 1.200000 A...\n",
      "./OA-G3-0: Translating p004 by 1.600000 A...\n",
      "./OA-G3-0: Translating p005 by 2.000000 A...\n",
      "./OA-G3-0: Translating p006 by 2.400000 A...\n",
      "./OA-G3-0: Translating p007 by 2.800000 A...\n",
      "./OA-G3-0: Translating p008 by 3.200000 A...\n",
      "./OA-G3-0: Translating p009 by 3.600000 A...\n",
      "./OA-G3-0: Translating p010 by 4.000000 A...\n",
      "./OA-G3-0: Translating p011 by 4.400000 A...\n",
      "./OA-G3-0: Translating p012 by 4.800000 A...\n",
      "./OA-G3-0: Translating p013 by 5.200000 A...\n",
      "./OA-G3-0: Translating p014 by 5.600000 A...\n",
      "./OA-G3-0: Translating p015 by 6.000000 A...\n",
      "./OA-G3-0: Translating p016 by 6.400000 A...\n",
      "./OA-G3-0: Translating p017 by 6.800000 A...\n",
      "./OA-G3-0: Translating p018 by 7.200000 A...\n",
      "./OA-G3-0: Translating p019 by 7.600000 A...\n",
      "./OA-G3-0: Translating p020 by 8.000000 A...\n",
      "./OA-G3-0: Translating p021 by 8.400000 A...\n",
      "./OA-G3-0: Translating p022 by 8.800000 A...\n",
      "./OA-G3-0: Translating p023 by 9.200000 A...\n",
      "./OA-G3-0: Translating p024 by 9.600000 A...\n",
      "./OA-G3-0: Translating p025 by 10.000000 A...\n",
      "./OA-G3-0: Translating p026 by 10.400000 A...\n",
      "./OA-G3-0: Translating p027 by 10.800000 A...\n",
      "./OA-G3-0: Translating p028 by 11.200000 A...\n",
      "./OA-G3-0: Translating p029 by 11.600000 A...\n",
      "./OA-G3-0: Translating p030 by 12.000000 A...\n",
      "./OA-G3-0: Translating p031 by 12.400000 A...\n",
      "./OA-G3-0: Translating p032 by 12.800000 A...\n",
      "./OA-G3-0: Translating p033 by 13.200000 A...\n",
      "./OA-G3-0: Translating p034 by 13.600000 A...\n",
      "./OA-G3-0: Translating p035 by 14.000000 A...\n",
      "./OA-G3-0: Translating p036 by 14.400000 A...\n",
      "./OA-G3-0: Translating p037 by 14.800000 A...\n",
      "./OA-G3-0: Translating p038 by 15.200000 A...\n",
      "./OA-G3-0: Translating p039 by 15.600000 A...\n",
      "./OA-G3-0: Translating p040 by 16.000000 A...\n",
      "./OA-G3-0: Translating p041 by 16.400000 A...\n",
      "./OA-G3-0: Translating p042 by 16.800000 A...\n",
      "./OA-G3-0: Translating p043 by 17.200000 A...\n",
      "./OA-G3-0: Translating p044 by 17.600000 A...\n",
      "./OA-G3-0: Translating p045 by 18.000000 A...\n",
      "./OA-G6-1: Translating p000 by 0.000000 A...\n",
      "./OA-G6-1: Translating p001 by 0.400000 A...\n",
      "./OA-G6-1: Translating p002 by 0.800000 A...\n",
      "./OA-G6-1: Translating p003 by 1.200000 A...\n",
      "./OA-G6-1: Translating p004 by 1.600000 A...\n",
      "./OA-G6-1: Translating p005 by 2.000000 A...\n",
      "./OA-G6-1: Translating p006 by 2.400000 A...\n",
      "./OA-G6-1: Translating p007 by 2.800000 A...\n",
      "./OA-G6-1: Translating p008 by 3.200000 A...\n",
      "./OA-G6-1: Translating p009 by 3.600000 A...\n",
      "./OA-G6-1: Translating p010 by 4.000000 A...\n",
      "./OA-G6-1: Translating p011 by 4.400000 A...\n",
      "./OA-G6-1: Translating p012 by 4.800000 A...\n",
      "./OA-G6-1: Translating p013 by 5.200000 A...\n",
      "./OA-G6-1: Translating p014 by 5.600000 A...\n",
      "./OA-G6-1: Translating p015 by 6.000000 A...\n",
      "./OA-G6-1: Translating p016 by 6.400000 A...\n",
      "./OA-G6-1: Translating p017 by 6.800000 A...\n",
      "./OA-G6-1: Translating p018 by 7.200000 A...\n",
      "./OA-G6-1: Translating p019 by 7.600000 A...\n",
      "./OA-G6-1: Translating p020 by 8.000000 A...\n",
      "./OA-G6-1: Translating p021 by 8.400000 A...\n",
      "./OA-G6-1: Translating p022 by 8.800000 A...\n",
      "./OA-G6-1: Translating p023 by 9.200000 A...\n",
      "./OA-G6-1: Translating p024 by 9.600000 A...\n",
      "./OA-G6-1: Translating p025 by 10.000000 A...\n",
      "./OA-G6-1: Translating p026 by 10.400000 A...\n",
      "./OA-G6-1: Translating p027 by 10.800000 A...\n",
      "./OA-G6-1: Translating p028 by 11.200000 A...\n",
      "./OA-G6-1: Translating p029 by 11.600000 A...\n",
      "./OA-G6-1: Translating p030 by 12.000000 A...\n",
      "./OA-G6-1: Translating p031 by 12.400000 A...\n",
      "./OA-G6-1: Translating p032 by 12.800000 A...\n",
      "./OA-G6-1: Translating p033 by 13.200000 A...\n",
      "./OA-G6-1: Translating p034 by 13.600000 A...\n",
      "./OA-G6-1: Translating p035 by 14.000000 A...\n",
      "./OA-G6-1: Translating p036 by 14.400000 A...\n",
      "./OA-G6-1: Translating p037 by 14.800000 A...\n",
      "./OA-G6-1: Translating p038 by 15.200000 A...\n",
      "./OA-G6-1: Translating p039 by 15.600000 A...\n",
      "./OA-G6-1: Translating p040 by 16.000000 A...\n",
      "./OA-G6-1: Translating p041 by 16.400000 A...\n",
      "./OA-G6-1: Translating p042 by 16.800000 A...\n",
      "./OA-G6-1: Translating p043 by 17.200000 A...\n",
      "./OA-G6-1: Translating p044 by 17.600000 A...\n",
      "./OA-G6-1: Translating p045 by 18.000000 A...\n",
      "./OA-G6-4: Translating p000 by 0.000000 A...\n",
      "./OA-G6-4: Translating p001 by 0.400000 A...\n",
      "./OA-G6-4: Translating p002 by 0.800000 A...\n",
      "./OA-G6-4: Translating p003 by 1.200000 A...\n",
      "./OA-G6-4: Translating p004 by 1.600000 A...\n",
      "./OA-G6-4: Translating p005 by 2.000000 A...\n",
      "./OA-G6-4: Translating p006 by 2.400000 A...\n",
      "./OA-G6-4: Translating p007 by 2.800000 A...\n",
      "./OA-G6-4: Translating p008 by 3.200000 A...\n",
      "./OA-G6-4: Translating p009 by 3.600000 A...\n",
      "./OA-G6-4: Translating p010 by 4.000000 A...\n",
      "./OA-G6-4: Translating p011 by 4.400000 A...\n",
      "./OA-G6-4: Translating p012 by 4.800000 A...\n",
      "./OA-G6-4: Translating p013 by 5.200000 A...\n",
      "./OA-G6-4: Translating p014 by 5.600000 A...\n",
      "./OA-G6-4: Translating p015 by 6.000000 A...\n",
      "./OA-G6-4: Translating p016 by 6.400000 A...\n",
      "./OA-G6-4: Translating p017 by 6.800000 A...\n",
      "./OA-G6-4: Translating p018 by 7.200000 A...\n",
      "./OA-G6-4: Translating p019 by 7.600000 A...\n",
      "./OA-G6-4: Translating p020 by 8.000000 A...\n",
      "./OA-G6-4: Translating p021 by 8.400000 A...\n",
      "./OA-G6-4: Translating p022 by 8.800000 A...\n",
      "./OA-G6-4: Translating p023 by 9.200000 A...\n",
      "./OA-G6-4: Translating p024 by 9.600000 A...\n",
      "./OA-G6-4: Translating p025 by 10.000000 A...\n",
      "./OA-G6-4: Translating p026 by 10.400000 A...\n",
      "./OA-G6-4: Translating p027 by 10.800000 A...\n",
      "./OA-G6-4: Translating p028 by 11.200000 A...\n",
      "./OA-G6-4: Translating p029 by 11.600000 A...\n",
      "./OA-G6-4: Translating p030 by 12.000000 A...\n",
      "./OA-G6-4: Translating p031 by 12.400000 A...\n",
      "./OA-G6-4: Translating p032 by 12.800000 A...\n",
      "./OA-G6-4: Translating p033 by 13.200000 A...\n",
      "./OA-G6-4: Translating p034 by 13.600000 A...\n",
      "./OA-G6-4: Translating p035 by 14.000000 A...\n",
      "./OA-G6-4: Translating p036 by 14.400000 A...\n",
      "./OA-G6-4: Translating p037 by 14.800000 A...\n",
      "./OA-G6-4: Translating p038 by 15.200000 A...\n",
      "./OA-G6-4: Translating p039 by 15.600000 A...\n",
      "./OA-G6-4: Translating p040 by 16.000000 A...\n",
      "./OA-G6-4: Translating p041 by 16.400000 A...\n",
      "./OA-G6-4: Translating p042 by 16.800000 A...\n",
      "./OA-G6-4: Translating p043 by 17.200000 A...\n",
      "./OA-G6-4: Translating p044 by 17.600000 A...\n",
      "./OA-G6-4: Translating p045 by 18.000000 A...\n",
      "./OA-G3-4: Translating p000 by 0.000000 A...\n",
      "./OA-G3-4: Translating p001 by 0.400000 A...\n",
      "./OA-G3-4: Translating p002 by 0.800000 A...\n",
      "./OA-G3-4: Translating p003 by 1.200000 A...\n",
      "./OA-G3-4: Translating p004 by 1.600000 A...\n",
      "./OA-G3-4: Translating p005 by 2.000000 A...\n",
      "./OA-G3-4: Translating p006 by 2.400000 A...\n",
      "./OA-G3-4: Translating p007 by 2.800000 A...\n",
      "./OA-G3-4: Translating p008 by 3.200000 A...\n",
      "./OA-G3-4: Translating p009 by 3.600000 A...\n",
      "./OA-G3-4: Translating p010 by 4.000000 A...\n",
      "./OA-G3-4: Translating p011 by 4.400000 A...\n",
      "./OA-G3-4: Translating p012 by 4.800000 A...\n",
      "./OA-G3-4: Translating p013 by 5.200000 A...\n",
      "./OA-G3-4: Translating p014 by 5.600000 A...\n",
      "./OA-G3-4: Translating p015 by 6.000000 A...\n",
      "./OA-G3-4: Translating p016 by 6.400000 A...\n",
      "./OA-G3-4: Translating p017 by 6.800000 A...\n",
      "./OA-G3-4: Translating p018 by 7.200000 A...\n",
      "./OA-G3-4: Translating p019 by 7.600000 A...\n",
      "./OA-G3-4: Translating p020 by 8.000000 A...\n",
      "./OA-G3-4: Translating p021 by 8.400000 A...\n",
      "./OA-G3-4: Translating p022 by 8.800000 A...\n",
      "./OA-G3-4: Translating p023 by 9.200000 A...\n",
      "./OA-G3-4: Translating p024 by 9.600000 A...\n",
      "./OA-G3-4: Translating p025 by 10.000000 A...\n",
      "./OA-G3-4: Translating p026 by 10.400000 A...\n",
      "./OA-G3-4: Translating p027 by 10.800000 A...\n",
      "./OA-G3-4: Translating p028 by 11.200000 A...\n",
      "./OA-G3-4: Translating p029 by 11.600000 A...\n",
      "./OA-G3-4: Translating p030 by 12.000000 A...\n",
      "./OA-G3-4: Translating p031 by 12.400000 A...\n",
      "./OA-G3-4: Translating p032 by 12.800000 A...\n",
      "./OA-G3-4: Translating p033 by 13.200000 A...\n",
      "./OA-G3-4: Translating p034 by 13.600000 A...\n",
      "./OA-G3-4: Translating p035 by 14.000000 A...\n",
      "./OA-G3-4: Translating p036 by 14.400000 A...\n",
      "./OA-G3-4: Translating p037 by 14.800000 A...\n",
      "./OA-G3-4: Translating p038 by 15.200000 A...\n",
      "./OA-G3-4: Translating p039 by 15.600000 A...\n",
      "./OA-G3-4: Translating p040 by 16.000000 A...\n",
      "./OA-G3-4: Translating p041 by 16.400000 A...\n",
      "./OA-G3-4: Translating p042 by 16.800000 A...\n",
      "./OA-G3-4: Translating p043 by 17.200000 A...\n",
      "./OA-G3-4: Translating p044 by 17.600000 A...\n",
      "./OA-G3-4: Translating p045 by 18.000000 A...\n",
      "./OA-G6-0: Translating p000 by 0.000000 A...\n",
      "./OA-G6-0: Translating p001 by 0.400000 A...\n",
      "./OA-G6-0: Translating p002 by 0.800000 A...\n",
      "./OA-G6-0: Translating p003 by 1.200000 A...\n",
      "./OA-G6-0: Translating p004 by 1.600000 A...\n",
      "./OA-G6-0: Translating p005 by 2.000000 A...\n",
      "./OA-G6-0: Translating p006 by 2.400000 A...\n",
      "./OA-G6-0: Translating p007 by 2.800000 A...\n",
      "./OA-G6-0: Translating p008 by 3.200000 A...\n",
      "./OA-G6-0: Translating p009 by 3.600000 A...\n",
      "./OA-G6-0: Translating p010 by 4.000000 A...\n",
      "./OA-G6-0: Translating p011 by 4.400000 A...\n",
      "./OA-G6-0: Translating p012 by 4.800000 A...\n",
      "./OA-G6-0: Translating p013 by 5.200000 A...\n",
      "./OA-G6-0: Translating p014 by 5.600000 A...\n",
      "./OA-G6-0: Translating p015 by 6.000000 A...\n",
      "./OA-G6-0: Translating p016 by 6.400000 A...\n",
      "./OA-G6-0: Translating p017 by 6.800000 A...\n",
      "./OA-G6-0: Translating p018 by 7.200000 A...\n",
      "./OA-G6-0: Translating p019 by 7.600000 A...\n",
      "./OA-G6-0: Translating p020 by 8.000000 A...\n",
      "./OA-G6-0: Translating p021 by 8.400000 A...\n",
      "./OA-G6-0: Translating p022 by 8.800000 A...\n",
      "./OA-G6-0: Translating p023 by 9.200000 A...\n",
      "./OA-G6-0: Translating p024 by 9.600000 A...\n",
      "./OA-G6-0: Translating p025 by 10.000000 A...\n",
      "./OA-G6-0: Translating p026 by 10.400000 A...\n",
      "./OA-G6-0: Translating p027 by 10.800000 A...\n",
      "./OA-G6-0: Translating p028 by 11.200000 A...\n",
      "./OA-G6-0: Translating p029 by 11.600000 A...\n",
      "./OA-G6-0: Translating p030 by 12.000000 A...\n",
      "./OA-G6-0: Translating p031 by 12.400000 A...\n",
      "./OA-G6-0: Translating p032 by 12.800000 A...\n",
      "./OA-G6-0: Translating p033 by 13.200000 A...\n",
      "./OA-G6-0: Translating p034 by 13.600000 A...\n",
      "./OA-G6-0: Translating p035 by 14.000000 A...\n",
      "./OA-G6-0: Translating p036 by 14.400000 A...\n",
      "./OA-G6-0: Translating p037 by 14.800000 A...\n",
      "./OA-G6-0: Translating p038 by 15.200000 A...\n",
      "./OA-G6-0: Translating p039 by 15.600000 A...\n",
      "./OA-G6-0: Translating p040 by 16.000000 A...\n",
      "./OA-G6-0: Translating p041 by 16.400000 A...\n",
      "./OA-G6-0: Translating p042 by 16.800000 A...\n",
      "./OA-G6-0: Translating p043 by 17.200000 A...\n",
      "./OA-G6-0: Translating p044 by 17.600000 A...\n",
      "./OA-G6-0: Translating p045 by 18.000000 A...\n",
      "./OA-G6-2: Translating p000 by 0.000000 A...\n",
      "./OA-G6-2: Translating p001 by 0.400000 A...\n",
      "./OA-G6-2: Translating p002 by 0.800000 A...\n",
      "./OA-G6-2: Translating p003 by 1.200000 A...\n",
      "./OA-G6-2: Translating p004 by 1.600000 A...\n",
      "./OA-G6-2: Translating p005 by 2.000000 A...\n",
      "./OA-G6-2: Translating p006 by 2.400000 A...\n",
      "./OA-G6-2: Translating p007 by 2.800000 A...\n",
      "./OA-G6-2: Translating p008 by 3.200000 A...\n",
      "./OA-G6-2: Translating p009 by 3.600000 A...\n",
      "./OA-G6-2: Translating p010 by 4.000000 A...\n",
      "./OA-G6-2: Translating p011 by 4.400000 A...\n",
      "./OA-G6-2: Translating p012 by 4.800000 A...\n",
      "./OA-G6-2: Translating p013 by 5.200000 A...\n",
      "./OA-G6-2: Translating p014 by 5.600000 A...\n",
      "./OA-G6-2: Translating p015 by 6.000000 A...\n",
      "./OA-G6-2: Translating p016 by 6.400000 A...\n",
      "./OA-G6-2: Translating p017 by 6.800000 A...\n",
      "./OA-G6-2: Translating p018 by 7.200000 A...\n",
      "./OA-G6-2: Translating p019 by 7.600000 A...\n",
      "./OA-G6-2: Translating p020 by 8.000000 A...\n",
      "./OA-G6-2: Translating p021 by 8.400000 A...\n",
      "./OA-G6-2: Translating p022 by 8.800000 A...\n",
      "./OA-G6-2: Translating p023 by 9.200000 A...\n",
      "./OA-G6-2: Translating p024 by 9.600000 A...\n",
      "./OA-G6-2: Translating p025 by 10.000000 A...\n",
      "./OA-G6-2: Translating p026 by 10.400000 A...\n",
      "./OA-G6-2: Translating p027 by 10.800000 A...\n",
      "./OA-G6-2: Translating p028 by 11.200000 A...\n",
      "./OA-G6-2: Translating p029 by 11.600000 A...\n",
      "./OA-G6-2: Translating p030 by 12.000000 A...\n",
      "./OA-G6-2: Translating p031 by 12.400000 A...\n",
      "./OA-G6-2: Translating p032 by 12.800000 A...\n",
      "./OA-G6-2: Translating p033 by 13.200000 A...\n",
      "./OA-G6-2: Translating p034 by 13.600000 A...\n",
      "./OA-G6-2: Translating p035 by 14.000000 A...\n",
      "./OA-G6-2: Translating p036 by 14.400000 A...\n",
      "./OA-G6-2: Translating p037 by 14.800000 A...\n",
      "./OA-G6-2: Translating p038 by 15.200000 A...\n",
      "./OA-G6-2: Translating p039 by 15.600000 A...\n",
      "./OA-G6-2: Translating p040 by 16.000000 A...\n",
      "./OA-G6-2: Translating p041 by 16.400000 A...\n",
      "./OA-G6-2: Translating p042 by 16.800000 A...\n",
      "./OA-G6-2: Translating p043 by 17.200000 A...\n",
      "./OA-G6-2: Translating p044 by 17.600000 A...\n",
      "./OA-G6-2: Translating p045 by 18.000000 A...\n",
      "./OA-G3-2: Translating p000 by 0.000000 A...\n",
      "./OA-G3-2: Translating p001 by 0.400000 A...\n",
      "./OA-G3-2: Translating p002 by 0.800000 A...\n",
      "./OA-G3-2: Translating p003 by 1.200000 A...\n",
      "./OA-G3-2: Translating p004 by 1.600000 A...\n",
      "./OA-G3-2: Translating p005 by 2.000000 A...\n",
      "./OA-G3-2: Translating p006 by 2.400000 A...\n",
      "./OA-G3-2: Translating p007 by 2.800000 A...\n",
      "./OA-G3-2: Translating p008 by 3.200000 A...\n",
      "./OA-G3-2: Translating p009 by 3.600000 A...\n",
      "./OA-G3-2: Translating p010 by 4.000000 A...\n",
      "./OA-G3-2: Translating p011 by 4.400000 A...\n",
      "./OA-G3-2: Translating p012 by 4.800000 A...\n",
      "./OA-G3-2: Translating p013 by 5.200000 A...\n",
      "./OA-G3-2: Translating p014 by 5.600000 A...\n",
      "./OA-G3-2: Translating p015 by 6.000000 A...\n",
      "./OA-G3-2: Translating p016 by 6.400000 A...\n",
      "./OA-G3-2: Translating p017 by 6.800000 A...\n",
      "./OA-G3-2: Translating p018 by 7.200000 A...\n",
      "./OA-G3-2: Translating p019 by 7.600000 A...\n",
      "./OA-G3-2: Translating p020 by 8.000000 A...\n",
      "./OA-G3-2: Translating p021 by 8.400000 A...\n",
      "./OA-G3-2: Translating p022 by 8.800000 A...\n",
      "./OA-G3-2: Translating p023 by 9.200000 A...\n",
      "./OA-G3-2: Translating p024 by 9.600000 A...\n",
      "./OA-G3-2: Translating p025 by 10.000000 A...\n",
      "./OA-G3-2: Translating p026 by 10.400000 A...\n",
      "./OA-G3-2: Translating p027 by 10.800000 A...\n",
      "./OA-G3-2: Translating p028 by 11.200000 A...\n",
      "./OA-G3-2: Translating p029 by 11.600000 A...\n",
      "./OA-G3-2: Translating p030 by 12.000000 A...\n",
      "./OA-G3-2: Translating p031 by 12.400000 A...\n",
      "./OA-G3-2: Translating p032 by 12.800000 A...\n",
      "./OA-G3-2: Translating p033 by 13.200000 A...\n",
      "./OA-G3-2: Translating p034 by 13.600000 A...\n",
      "./OA-G3-2: Translating p035 by 14.000000 A...\n",
      "./OA-G3-2: Translating p036 by 14.400000 A...\n",
      "./OA-G3-2: Translating p037 by 14.800000 A...\n",
      "./OA-G3-2: Translating p038 by 15.200000 A...\n",
      "./OA-G3-2: Translating p039 by 15.600000 A...\n",
      "./OA-G3-2: Translating p040 by 16.000000 A...\n",
      "./OA-G3-2: Translating p041 by 16.400000 A...\n",
      "./OA-G3-2: Translating p042 by 16.800000 A...\n",
      "./OA-G3-2: Translating p043 by 17.200000 A...\n",
      "./OA-G3-2: Translating p044 by 17.600000 A...\n",
      "./OA-G3-2: Translating p045 by 18.000000 A...\n"
     ]
    }
   ],
   "source": [
    "for complx in complexes:\n",
    "    attach_windows = len(attach_fractions) - 1\n",
    "    pull_windows = len(pull_distances)\n",
    "    \n",
    "    for window in range(attach_windows):\n",
    "        shutil.copy(os.path.join(complx, 'AMBER', 'APR', 'windows', f'a{window:03d}', 'complex_dummy.pdb'),\n",
    "                   os.path.join(complx, 'AMBER', 'APR', 'windows', f'a{window:03d}', 'hg.pdb'))\n",
    "    \n",
    "    for window in range(pull_windows):\n",
    "        hg = pmd.load_file(os.path.join(complx, 'AMBER', 'APR', 'windows', f'p{window:03d}', 'complex_dummy.pdb'))\n",
    "        \n",
    "        target_difference = guest_restraints[0].phase['pull']['targets'][window] - \\\n",
    "                            guest_restraints[0].pull['target_initial']\n",
    "        \n",
    "        print(f'{complx}: Translating p{window:03d} by {target_difference:03f} A...')\n",
    "        for atom in hg.atoms:\n",
    "            if atom.residue.name == 'GST':\n",
    "                atom.xz += target_difference\n",
    "        hg.save(os.path.join(complx, 'AMBER', 'APR', 'windows', f'p{window:03d}', 'hg.pdb'),\n",
    "               overwrite=True)"
   ]
  },
  {
   "cell_type": "code",
   "execution_count": 22,
   "metadata": {
    "ExecuteTime": {
     "end_time": "2018-04-22T23:25:14.181384Z",
     "start_time": "2018-04-22T23:25:14.175587Z"
    }
   },
   "outputs": [
    {
     "name": "stderr",
     "output_type": "stream",
     "text": [
      "2018-04-23 07:55:07 PM Started logging...\n"
     ]
    }
   ],
   "source": [
    "import logging\n",
    "from importlib import reload\n",
    "reload(logging)\n",
    "\n",
    "logging.basicConfig(format='%(asctime)s %(message)s', datefmt='%Y-%m-%d %I:%M:%S %p',\n",
    "                    level=logging.INFO)\n",
    "logging.info('Started logging...')"
   ]
  },
  {
   "cell_type": "code",
   "execution_count": 23,
   "metadata": {
    "ExecuteTime": {
     "end_time": "2018-04-22T23:54:19.089816Z",
     "start_time": "2018-04-22T23:25:14.182941Z"
    },
    "scrolled": true
   },
   "outputs": [
    {
     "name": "stdout",
     "output_type": "stream",
     "text": [
      "./OA-G3-3 a000\n"
     ]
    },
    {
     "name": "stderr",
     "output_type": "stream",
     "text": [
      "2018-04-23 07:55:11 PM Cl-                 4\n",
      "2018-04-23 07:55:11 PM DM1                 1\n",
      "2018-04-23 07:55:11 PM DM2                 1\n",
      "2018-04-23 07:55:11 PM DM3                 1\n",
      "2018-04-23 07:55:11 PM GST                 1\n",
      "2018-04-23 07:55:11 PM HST                 1\n",
      "2018-04-23 07:55:11 PM Na+                13\n",
      "2018-04-23 07:55:11 PM WAT              3000\n"
     ]
    },
    {
     "name": "stdout",
     "output_type": "stream",
     "text": [
      "./OA-G3-3 a001\n"
     ]
    },
    {
     "name": "stderr",
     "output_type": "stream",
     "text": [
      "2018-04-23 07:55:15 PM Cl-                 4\n",
      "2018-04-23 07:55:15 PM DM1                 1\n",
      "2018-04-23 07:55:15 PM DM2                 1\n",
      "2018-04-23 07:55:15 PM DM3                 1\n",
      "2018-04-23 07:55:15 PM GST                 1\n",
      "2018-04-23 07:55:15 PM HST                 1\n",
      "2018-04-23 07:55:15 PM Na+                13\n",
      "2018-04-23 07:55:15 PM WAT              3001\n",
      "2018-04-23 07:55:15 PM The final solvation step added the wrong number of waters. Repeating ...\n",
      "2018-04-23 07:55:15 PM Cl-                 4\n",
      "2018-04-23 07:55:15 PM DM1                 1\n",
      "2018-04-23 07:55:15 PM DM2                 1\n",
      "2018-04-23 07:55:15 PM DM3                 1\n",
      "2018-04-23 07:55:15 PM GST                 1\n",
      "2018-04-23 07:55:15 PM HST                 1\n",
      "2018-04-23 07:55:15 PM Na+                13\n",
      "2018-04-23 07:55:15 PM WAT              3001\n",
      "2018-04-23 07:55:15 PM The final solvation step added the wrong number of waters. Repeating ...\n",
      "2018-04-23 07:55:15 PM Cl-                 4\n",
      "2018-04-23 07:55:15 PM DM1                 1\n",
      "2018-04-23 07:55:15 PM DM2                 1\n",
      "2018-04-23 07:55:15 PM DM3                 1\n",
      "2018-04-23 07:55:15 PM GST                 1\n",
      "2018-04-23 07:55:15 PM HST                 1\n",
      "2018-04-23 07:55:15 PM Na+                13\n",
      "2018-04-23 07:55:15 PM WAT              3001\n",
      "2018-04-23 07:55:15 PM The final solvation step added the wrong number of waters. Repeating ...\n",
      "2018-04-23 07:55:16 PM Cl-                 4\n",
      "2018-04-23 07:55:16 PM DM1                 1\n",
      "2018-04-23 07:55:16 PM DM2                 1\n",
      "2018-04-23 07:55:16 PM DM3                 1\n",
      "2018-04-23 07:55:16 PM GST                 1\n",
      "2018-04-23 07:55:16 PM HST                 1\n",
      "2018-04-23 07:55:16 PM Na+                13\n",
      "2018-04-23 07:55:16 PM WAT              3000\n"
     ]
    },
    {
     "name": "stdout",
     "output_type": "stream",
     "text": [
      "./OA-G3-3 a002\n"
     ]
    },
    {
     "name": "stderr",
     "output_type": "stream",
     "text": [
      "2018-04-23 07:55:19 PM Cl-                 4\n",
      "2018-04-23 07:55:19 PM DM1                 1\n",
      "2018-04-23 07:55:19 PM DM2                 1\n",
      "2018-04-23 07:55:19 PM DM3                 1\n",
      "2018-04-23 07:55:19 PM GST                 1\n",
      "2018-04-23 07:55:19 PM HST                 1\n",
      "2018-04-23 07:55:19 PM Na+                13\n",
      "2018-04-23 07:55:19 PM WAT              3000\n"
     ]
    },
    {
     "name": "stdout",
     "output_type": "stream",
     "text": [
      "./OA-G3-3 a003\n"
     ]
    },
    {
     "name": "stderr",
     "output_type": "stream",
     "text": [
      "2018-04-23 07:55:22 PM Cl-                 4\n",
      "2018-04-23 07:55:22 PM DM1                 1\n",
      "2018-04-23 07:55:22 PM DM2                 1\n",
      "2018-04-23 07:55:22 PM DM3                 1\n",
      "2018-04-23 07:55:22 PM GST                 1\n",
      "2018-04-23 07:55:22 PM HST                 1\n",
      "2018-04-23 07:55:22 PM Na+                13\n",
      "2018-04-23 07:55:22 PM WAT              3000\n"
     ]
    },
    {
     "name": "stdout",
     "output_type": "stream",
     "text": [
      "./OA-G3-3 a004\n"
     ]
    },
    {
     "name": "stderr",
     "output_type": "stream",
     "text": [
      "2018-04-23 07:55:26 PM Cl-                 4\n",
      "2018-04-23 07:55:26 PM DM1                 1\n",
      "2018-04-23 07:55:26 PM DM2                 1\n",
      "2018-04-23 07:55:26 PM DM3                 1\n",
      "2018-04-23 07:55:26 PM GST                 1\n",
      "2018-04-23 07:55:26 PM HST                 1\n",
      "2018-04-23 07:55:26 PM Na+                13\n",
      "2018-04-23 07:55:26 PM WAT              3000\n"
     ]
    },
    {
     "name": "stdout",
     "output_type": "stream",
     "text": [
      "./OA-G3-3 a005\n"
     ]
    },
    {
     "name": "stderr",
     "output_type": "stream",
     "text": [
      "2018-04-23 07:55:29 PM Cl-                 4\n",
      "2018-04-23 07:55:29 PM DM1                 1\n",
      "2018-04-23 07:55:29 PM DM2                 1\n",
      "2018-04-23 07:55:29 PM DM3                 1\n",
      "2018-04-23 07:55:29 PM GST                 1\n",
      "2018-04-23 07:55:29 PM HST                 1\n",
      "2018-04-23 07:55:29 PM Na+                13\n",
      "2018-04-23 07:55:29 PM WAT              3000\n"
     ]
    },
    {
     "name": "stdout",
     "output_type": "stream",
     "text": [
      "./OA-G3-3 a006\n"
     ]
    },
    {
     "name": "stderr",
     "output_type": "stream",
     "text": [
      "2018-04-23 07:55:32 PM Cl-                 4\n",
      "2018-04-23 07:55:32 PM DM1                 1\n",
      "2018-04-23 07:55:32 PM DM2                 1\n",
      "2018-04-23 07:55:32 PM DM3                 1\n",
      "2018-04-23 07:55:32 PM GST                 1\n",
      "2018-04-23 07:55:32 PM HST                 1\n",
      "2018-04-23 07:55:32 PM Na+                13\n",
      "2018-04-23 07:55:32 PM WAT              3000\n"
     ]
    },
    {
     "name": "stdout",
     "output_type": "stream",
     "text": [
      "./OA-G3-3 a007\n"
     ]
    },
    {
     "name": "stderr",
     "output_type": "stream",
     "text": [
      "2018-04-23 07:55:36 PM Cl-                 4\n",
      "2018-04-23 07:55:36 PM DM1                 1\n",
      "2018-04-23 07:55:36 PM DM2                 1\n",
      "2018-04-23 07:55:36 PM DM3                 1\n",
      "2018-04-23 07:55:36 PM GST                 1\n",
      "2018-04-23 07:55:36 PM HST                 1\n",
      "2018-04-23 07:55:36 PM Na+                13\n",
      "2018-04-23 07:55:36 PM WAT              3000\n"
     ]
    },
    {
     "name": "stdout",
     "output_type": "stream",
     "text": [
      "./OA-G3-3 a008\n"
     ]
    },
    {
     "name": "stderr",
     "output_type": "stream",
     "text": [
      "2018-04-23 07:55:39 PM Cl-                 4\n",
      "2018-04-23 07:55:39 PM DM1                 1\n",
      "2018-04-23 07:55:39 PM DM2                 1\n",
      "2018-04-23 07:55:39 PM DM3                 1\n",
      "2018-04-23 07:55:39 PM GST                 1\n",
      "2018-04-23 07:55:39 PM HST                 1\n",
      "2018-04-23 07:55:39 PM Na+                13\n",
      "2018-04-23 07:55:39 PM WAT              3000\n"
     ]
    },
    {
     "name": "stdout",
     "output_type": "stream",
     "text": [
      "./OA-G3-3 a009\n"
     ]
    },
    {
     "name": "stderr",
     "output_type": "stream",
     "text": [
      "2018-04-23 07:55:43 PM Cl-                 4\n",
      "2018-04-23 07:55:43 PM DM1                 1\n",
      "2018-04-23 07:55:43 PM DM2                 1\n",
      "2018-04-23 07:55:43 PM DM3                 1\n",
      "2018-04-23 07:55:43 PM GST                 1\n",
      "2018-04-23 07:55:43 PM HST                 1\n",
      "2018-04-23 07:55:43 PM Na+                13\n",
      "2018-04-23 07:55:43 PM WAT              3000\n"
     ]
    },
    {
     "name": "stdout",
     "output_type": "stream",
     "text": [
      "./OA-G3-3 a010\n"
     ]
    },
    {
     "name": "stderr",
     "output_type": "stream",
     "text": [
      "2018-04-23 07:55:46 PM Cl-                 4\n",
      "2018-04-23 07:55:46 PM DM1                 1\n",
      "2018-04-23 07:55:46 PM DM2                 1\n",
      "2018-04-23 07:55:46 PM DM3                 1\n",
      "2018-04-23 07:55:46 PM GST                 1\n",
      "2018-04-23 07:55:46 PM HST                 1\n",
      "2018-04-23 07:55:46 PM Na+                13\n",
      "2018-04-23 07:55:46 PM WAT              3000\n"
     ]
    },
    {
     "name": "stdout",
     "output_type": "stream",
     "text": [
      "./OA-G3-3 a011\n"
     ]
    },
    {
     "name": "stderr",
     "output_type": "stream",
     "text": [
      "2018-04-23 07:55:49 PM Cl-                 4\n",
      "2018-04-23 07:55:49 PM DM1                 1\n",
      "2018-04-23 07:55:49 PM DM2                 1\n",
      "2018-04-23 07:55:49 PM DM3                 1\n",
      "2018-04-23 07:55:49 PM GST                 1\n",
      "2018-04-23 07:55:49 PM HST                 1\n",
      "2018-04-23 07:55:49 PM Na+                13\n",
      "2018-04-23 07:55:49 PM WAT              3000\n"
     ]
    },
    {
     "name": "stdout",
     "output_type": "stream",
     "text": [
      "./OA-G3-3 a012\n"
     ]
    },
    {
     "name": "stderr",
     "output_type": "stream",
     "text": [
      "2018-04-23 07:55:53 PM Cl-                 4\n",
      "2018-04-23 07:55:53 PM DM1                 1\n",
      "2018-04-23 07:55:53 PM DM2                 1\n",
      "2018-04-23 07:55:53 PM DM3                 1\n",
      "2018-04-23 07:55:53 PM GST                 1\n",
      "2018-04-23 07:55:53 PM HST                 1\n",
      "2018-04-23 07:55:53 PM Na+                13\n",
      "2018-04-23 07:55:53 PM WAT              3000\n"
     ]
    },
    {
     "name": "stdout",
     "output_type": "stream",
     "text": [
      "./OA-G3-3 a013\n"
     ]
    },
    {
     "name": "stderr",
     "output_type": "stream",
     "text": [
      "2018-04-23 07:55:56 PM Cl-                 4\n",
      "2018-04-23 07:55:56 PM DM1                 1\n",
      "2018-04-23 07:55:56 PM DM2                 1\n",
      "2018-04-23 07:55:56 PM DM3                 1\n",
      "2018-04-23 07:55:56 PM GST                 1\n",
      "2018-04-23 07:55:56 PM HST                 1\n",
      "2018-04-23 07:55:56 PM Na+                13\n",
      "2018-04-23 07:55:56 PM WAT              3000\n"
     ]
    },
    {
     "name": "stdout",
     "output_type": "stream",
     "text": [
      "./OA-G3-3 p000\n"
     ]
    },
    {
     "name": "stderr",
     "output_type": "stream",
     "text": [
      "2018-04-23 07:55:59 PM Cl-                 4\n",
      "2018-04-23 07:55:59 PM DM1                 1\n",
      "2018-04-23 07:55:59 PM DM2                 1\n",
      "2018-04-23 07:55:59 PM DM3                 1\n",
      "2018-04-23 07:55:59 PM GST                 1\n",
      "2018-04-23 07:55:59 PM HST                 1\n",
      "2018-04-23 07:55:59 PM Na+                13\n",
      "2018-04-23 07:55:59 PM WAT              3000\n"
     ]
    },
    {
     "name": "stdout",
     "output_type": "stream",
     "text": [
      "./OA-G3-3 p001\n"
     ]
    },
    {
     "name": "stderr",
     "output_type": "stream",
     "text": [
      "2018-04-23 07:56:02 PM Cl-                 4\n",
      "2018-04-23 07:56:02 PM DM1                 1\n",
      "2018-04-23 07:56:02 PM DM2                 1\n",
      "2018-04-23 07:56:02 PM DM3                 1\n",
      "2018-04-23 07:56:02 PM GST                 1\n",
      "2018-04-23 07:56:02 PM HST                 1\n",
      "2018-04-23 07:56:02 PM Na+                13\n",
      "2018-04-23 07:56:02 PM WAT              3000\n"
     ]
    },
    {
     "name": "stdout",
     "output_type": "stream",
     "text": [
      "./OA-G3-3 p002\n"
     ]
    },
    {
     "name": "stderr",
     "output_type": "stream",
     "text": [
      "2018-04-23 07:56:06 PM Cl-                 4\n",
      "2018-04-23 07:56:06 PM DM1                 1\n",
      "2018-04-23 07:56:06 PM DM2                 1\n",
      "2018-04-23 07:56:06 PM DM3                 1\n",
      "2018-04-23 07:56:06 PM GST                 1\n",
      "2018-04-23 07:56:06 PM HST                 1\n",
      "2018-04-23 07:56:06 PM Na+                13\n",
      "2018-04-23 07:56:06 PM WAT              3000\n"
     ]
    },
    {
     "name": "stdout",
     "output_type": "stream",
     "text": [
      "./OA-G3-3 p003\n"
     ]
    },
    {
     "name": "stderr",
     "output_type": "stream",
     "text": [
      "2018-04-23 07:56:10 PM Cl-                 4\n",
      "2018-04-23 07:56:10 PM DM1                 1\n",
      "2018-04-23 07:56:10 PM DM2                 1\n",
      "2018-04-23 07:56:10 PM DM3                 1\n",
      "2018-04-23 07:56:10 PM GST                 1\n",
      "2018-04-23 07:56:10 PM HST                 1\n",
      "2018-04-23 07:56:10 PM Na+                13\n",
      "2018-04-23 07:56:10 PM WAT              3000\n"
     ]
    },
    {
     "name": "stdout",
     "output_type": "stream",
     "text": [
      "./OA-G3-3 p004\n"
     ]
    },
    {
     "name": "stderr",
     "output_type": "stream",
     "text": [
      "2018-04-23 07:56:14 PM Cl-                 4\n",
      "2018-04-23 07:56:14 PM DM1                 1\n",
      "2018-04-23 07:56:14 PM DM2                 1\n",
      "2018-04-23 07:56:14 PM DM3                 1\n",
      "2018-04-23 07:56:14 PM GST                 1\n",
      "2018-04-23 07:56:14 PM HST                 1\n",
      "2018-04-23 07:56:14 PM Na+                13\n",
      "2018-04-23 07:56:14 PM WAT              3000\n"
     ]
    },
    {
     "name": "stdout",
     "output_type": "stream",
     "text": [
      "./OA-G3-3 p005\n"
     ]
    },
    {
     "name": "stderr",
     "output_type": "stream",
     "text": [
      "2018-04-23 07:56:17 PM Cl-                 4\n",
      "2018-04-23 07:56:17 PM DM1                 1\n",
      "2018-04-23 07:56:17 PM DM2                 1\n",
      "2018-04-23 07:56:17 PM DM3                 1\n",
      "2018-04-23 07:56:17 PM GST                 1\n",
      "2018-04-23 07:56:17 PM HST                 1\n",
      "2018-04-23 07:56:17 PM Na+                13\n",
      "2018-04-23 07:56:17 PM WAT              3000\n"
     ]
    },
    {
     "name": "stdout",
     "output_type": "stream",
     "text": [
      "./OA-G3-3 p006\n"
     ]
    },
    {
     "name": "stderr",
     "output_type": "stream",
     "text": [
      "2018-04-23 07:56:21 PM Cl-                 4\n",
      "2018-04-23 07:56:21 PM DM1                 1\n",
      "2018-04-23 07:56:21 PM DM2                 1\n",
      "2018-04-23 07:56:21 PM DM3                 1\n",
      "2018-04-23 07:56:21 PM GST                 1\n",
      "2018-04-23 07:56:21 PM HST                 1\n",
      "2018-04-23 07:56:21 PM Na+                13\n",
      "2018-04-23 07:56:21 PM WAT              3000\n"
     ]
    },
    {
     "name": "stdout",
     "output_type": "stream",
     "text": [
      "./OA-G3-3 p007\n"
     ]
    },
    {
     "name": "stderr",
     "output_type": "stream",
     "text": [
      "2018-04-23 07:56:23 PM Cl-                 4\n",
      "2018-04-23 07:56:23 PM DM1                 1\n",
      "2018-04-23 07:56:23 PM DM2                 1\n",
      "2018-04-23 07:56:23 PM DM3                 1\n",
      "2018-04-23 07:56:23 PM GST                 1\n",
      "2018-04-23 07:56:23 PM HST                 1\n",
      "2018-04-23 07:56:23 PM Na+                13\n",
      "2018-04-23 07:56:23 PM WAT              3000\n"
     ]
    },
    {
     "name": "stdout",
     "output_type": "stream",
     "text": [
      "./OA-G3-3 p008\n"
     ]
    },
    {
     "name": "stderr",
     "output_type": "stream",
     "text": [
      "2018-04-23 07:56:26 PM Cl-                 4\n",
      "2018-04-23 07:56:26 PM DM1                 1\n",
      "2018-04-23 07:56:26 PM DM2                 1\n",
      "2018-04-23 07:56:26 PM DM3                 1\n",
      "2018-04-23 07:56:26 PM GST                 1\n",
      "2018-04-23 07:56:26 PM HST                 1\n",
      "2018-04-23 07:56:26 PM Na+                13\n",
      "2018-04-23 07:56:26 PM WAT              3000\n"
     ]
    },
    {
     "name": "stdout",
     "output_type": "stream",
     "text": [
      "./OA-G3-3 p009\n"
     ]
    },
    {
     "name": "stderr",
     "output_type": "stream",
     "text": [
      "2018-04-23 07:56:30 PM Cl-                 4\n",
      "2018-04-23 07:56:30 PM DM1                 1\n",
      "2018-04-23 07:56:30 PM DM2                 1\n",
      "2018-04-23 07:56:30 PM DM3                 1\n",
      "2018-04-23 07:56:30 PM GST                 1\n",
      "2018-04-23 07:56:30 PM HST                 1\n",
      "2018-04-23 07:56:30 PM Na+                13\n",
      "2018-04-23 07:56:30 PM WAT              3000\n"
     ]
    },
    {
     "name": "stdout",
     "output_type": "stream",
     "text": [
      "./OA-G3-3 p010\n"
     ]
    },
    {
     "name": "stderr",
     "output_type": "stream",
     "text": [
      "2018-04-23 07:56:33 PM Cl-                 4\n",
      "2018-04-23 07:56:33 PM DM1                 1\n",
      "2018-04-23 07:56:33 PM DM2                 1\n",
      "2018-04-23 07:56:33 PM DM3                 1\n",
      "2018-04-23 07:56:33 PM GST                 1\n",
      "2018-04-23 07:56:33 PM HST                 1\n",
      "2018-04-23 07:56:33 PM Na+                13\n",
      "2018-04-23 07:56:33 PM WAT              3000\n"
     ]
    },
    {
     "name": "stdout",
     "output_type": "stream",
     "text": [
      "./OA-G3-3 p011\n"
     ]
    },
    {
     "name": "stderr",
     "output_type": "stream",
     "text": [
      "2018-04-23 07:56:36 PM Cl-                 4\n",
      "2018-04-23 07:56:36 PM DM1                 1\n",
      "2018-04-23 07:56:36 PM DM2                 1\n",
      "2018-04-23 07:56:36 PM DM3                 1\n",
      "2018-04-23 07:56:36 PM GST                 1\n",
      "2018-04-23 07:56:36 PM HST                 1\n",
      "2018-04-23 07:56:36 PM Na+                13\n",
      "2018-04-23 07:56:36 PM WAT              3000\n"
     ]
    },
    {
     "name": "stdout",
     "output_type": "stream",
     "text": [
      "./OA-G3-3 p012\n"
     ]
    },
    {
     "name": "stderr",
     "output_type": "stream",
     "text": [
      "2018-04-23 07:56:39 PM Cl-                 4\n",
      "2018-04-23 07:56:39 PM DM1                 1\n",
      "2018-04-23 07:56:39 PM DM2                 1\n",
      "2018-04-23 07:56:39 PM DM3                 1\n",
      "2018-04-23 07:56:39 PM GST                 1\n",
      "2018-04-23 07:56:39 PM HST                 1\n",
      "2018-04-23 07:56:39 PM Na+                13\n",
      "2018-04-23 07:56:39 PM WAT              3000\n"
     ]
    },
    {
     "name": "stdout",
     "output_type": "stream",
     "text": [
      "./OA-G3-3 p013\n"
     ]
    },
    {
     "name": "stderr",
     "output_type": "stream",
     "text": [
      "2018-04-23 07:56:42 PM Cl-                 4\n",
      "2018-04-23 07:56:42 PM DM1                 1\n",
      "2018-04-23 07:56:42 PM DM2                 1\n",
      "2018-04-23 07:56:42 PM DM3                 1\n",
      "2018-04-23 07:56:42 PM GST                 1\n",
      "2018-04-23 07:56:42 PM HST                 1\n",
      "2018-04-23 07:56:42 PM Na+                13\n",
      "2018-04-23 07:56:42 PM WAT              3000\n"
     ]
    },
    {
     "name": "stdout",
     "output_type": "stream",
     "text": [
      "./OA-G3-3 p014\n"
     ]
    },
    {
     "name": "stderr",
     "output_type": "stream",
     "text": [
      "2018-04-23 07:56:45 PM Cl-                 4\n",
      "2018-04-23 07:56:45 PM DM1                 1\n",
      "2018-04-23 07:56:45 PM DM2                 1\n",
      "2018-04-23 07:56:45 PM DM3                 1\n",
      "2018-04-23 07:56:45 PM GST                 1\n",
      "2018-04-23 07:56:45 PM HST                 1\n",
      "2018-04-23 07:56:45 PM Na+                13\n",
      "2018-04-23 07:56:45 PM WAT              3000\n"
     ]
    },
    {
     "name": "stdout",
     "output_type": "stream",
     "text": [
      "./OA-G3-3 p015\n"
     ]
    },
    {
     "name": "stderr",
     "output_type": "stream",
     "text": [
      "2018-04-23 07:56:48 PM Cl-                 4\n",
      "2018-04-23 07:56:48 PM DM1                 1\n",
      "2018-04-23 07:56:48 PM DM2                 1\n",
      "2018-04-23 07:56:48 PM DM3                 1\n",
      "2018-04-23 07:56:48 PM GST                 1\n",
      "2018-04-23 07:56:48 PM HST                 1\n",
      "2018-04-23 07:56:48 PM Na+                13\n",
      "2018-04-23 07:56:48 PM WAT              3000\n"
     ]
    },
    {
     "name": "stdout",
     "output_type": "stream",
     "text": [
      "./OA-G3-3 p016\n"
     ]
    },
    {
     "name": "stderr",
     "output_type": "stream",
     "text": [
      "2018-04-23 07:56:51 PM Cl-                 4\n",
      "2018-04-23 07:56:51 PM DM1                 1\n",
      "2018-04-23 07:56:51 PM DM2                 1\n",
      "2018-04-23 07:56:51 PM DM3                 1\n",
      "2018-04-23 07:56:51 PM GST                 1\n",
      "2018-04-23 07:56:51 PM HST                 1\n",
      "2018-04-23 07:56:51 PM Na+                13\n",
      "2018-04-23 07:56:51 PM WAT              3000\n"
     ]
    },
    {
     "name": "stdout",
     "output_type": "stream",
     "text": [
      "./OA-G3-3 p017\n"
     ]
    },
    {
     "name": "stderr",
     "output_type": "stream",
     "text": [
      "2018-04-23 07:56:54 PM Cl-                 4\n",
      "2018-04-23 07:56:54 PM DM1                 1\n",
      "2018-04-23 07:56:54 PM DM2                 1\n",
      "2018-04-23 07:56:54 PM DM3                 1\n",
      "2018-04-23 07:56:54 PM GST                 1\n",
      "2018-04-23 07:56:54 PM HST                 1\n",
      "2018-04-23 07:56:54 PM Na+                13\n",
      "2018-04-23 07:56:54 PM WAT              3000\n"
     ]
    },
    {
     "name": "stdout",
     "output_type": "stream",
     "text": [
      "./OA-G3-3 p018\n"
     ]
    },
    {
     "name": "stderr",
     "output_type": "stream",
     "text": [
      "2018-04-23 07:56:57 PM Cl-                 4\n",
      "2018-04-23 07:56:57 PM DM1                 1\n",
      "2018-04-23 07:56:57 PM DM2                 1\n",
      "2018-04-23 07:56:57 PM DM3                 1\n",
      "2018-04-23 07:56:57 PM GST                 1\n",
      "2018-04-23 07:56:57 PM HST                 1\n",
      "2018-04-23 07:56:57 PM Na+                13\n",
      "2018-04-23 07:56:57 PM WAT              3000\n"
     ]
    },
    {
     "name": "stdout",
     "output_type": "stream",
     "text": [
      "./OA-G3-3 p019\n"
     ]
    },
    {
     "name": "stderr",
     "output_type": "stream",
     "text": [
      "2018-04-23 07:57:00 PM Cl-                 4\n",
      "2018-04-23 07:57:00 PM DM1                 1\n",
      "2018-04-23 07:57:00 PM DM2                 1\n",
      "2018-04-23 07:57:00 PM DM3                 1\n",
      "2018-04-23 07:57:00 PM GST                 1\n",
      "2018-04-23 07:57:00 PM HST                 1\n",
      "2018-04-23 07:57:00 PM Na+                13\n",
      "2018-04-23 07:57:00 PM WAT              3000\n"
     ]
    },
    {
     "name": "stdout",
     "output_type": "stream",
     "text": [
      "./OA-G3-3 p020\n"
     ]
    },
    {
     "name": "stderr",
     "output_type": "stream",
     "text": [
      "2018-04-23 07:57:03 PM Cl-                 4\n",
      "2018-04-23 07:57:03 PM DM1                 1\n",
      "2018-04-23 07:57:03 PM DM2                 1\n",
      "2018-04-23 07:57:03 PM DM3                 1\n",
      "2018-04-23 07:57:03 PM GST                 1\n",
      "2018-04-23 07:57:03 PM HST                 1\n",
      "2018-04-23 07:57:03 PM Na+                13\n",
      "2018-04-23 07:57:03 PM WAT              3000\n"
     ]
    },
    {
     "name": "stdout",
     "output_type": "stream",
     "text": [
      "./OA-G3-3 p021\n"
     ]
    },
    {
     "name": "stderr",
     "output_type": "stream",
     "text": [
      "2018-04-23 07:57:06 PM Cl-                 4\n",
      "2018-04-23 07:57:06 PM DM1                 1\n",
      "2018-04-23 07:57:06 PM DM2                 1\n",
      "2018-04-23 07:57:06 PM DM3                 1\n",
      "2018-04-23 07:57:06 PM GST                 1\n",
      "2018-04-23 07:57:06 PM HST                 1\n",
      "2018-04-23 07:57:06 PM Na+                13\n",
      "2018-04-23 07:57:06 PM WAT              3000\n"
     ]
    },
    {
     "name": "stdout",
     "output_type": "stream",
     "text": [
      "./OA-G3-3 p022\n"
     ]
    },
    {
     "name": "stderr",
     "output_type": "stream",
     "text": [
      "2018-04-23 07:57:09 PM Cl-                 4\n",
      "2018-04-23 07:57:09 PM DM1                 1\n",
      "2018-04-23 07:57:09 PM DM2                 1\n",
      "2018-04-23 07:57:09 PM DM3                 1\n",
      "2018-04-23 07:57:09 PM GST                 1\n",
      "2018-04-23 07:57:09 PM HST                 1\n",
      "2018-04-23 07:57:09 PM Na+                13\n",
      "2018-04-23 07:57:09 PM WAT              3000\n"
     ]
    },
    {
     "name": "stdout",
     "output_type": "stream",
     "text": [
      "./OA-G3-3 p023\n"
     ]
    },
    {
     "name": "stderr",
     "output_type": "stream",
     "text": [
      "2018-04-23 07:57:11 PM Cl-                 4\n",
      "2018-04-23 07:57:11 PM DM1                 1\n",
      "2018-04-23 07:57:11 PM DM2                 1\n",
      "2018-04-23 07:57:11 PM DM3                 1\n",
      "2018-04-23 07:57:11 PM GST                 1\n",
      "2018-04-23 07:57:11 PM HST                 1\n",
      "2018-04-23 07:57:11 PM Na+                13\n",
      "2018-04-23 07:57:11 PM WAT              3000\n"
     ]
    },
    {
     "name": "stdout",
     "output_type": "stream",
     "text": [
      "./OA-G3-3 p024\n"
     ]
    },
    {
     "name": "stderr",
     "output_type": "stream",
     "text": [
      "2018-04-23 07:57:14 PM Cl-                 4\n",
      "2018-04-23 07:57:14 PM DM1                 1\n",
      "2018-04-23 07:57:14 PM DM2                 1\n",
      "2018-04-23 07:57:14 PM DM3                 1\n",
      "2018-04-23 07:57:14 PM GST                 1\n",
      "2018-04-23 07:57:14 PM HST                 1\n",
      "2018-04-23 07:57:14 PM Na+                13\n",
      "2018-04-23 07:57:14 PM WAT              3000\n"
     ]
    },
    {
     "name": "stdout",
     "output_type": "stream",
     "text": [
      "./OA-G3-3 p025\n"
     ]
    },
    {
     "name": "stderr",
     "output_type": "stream",
     "text": [
      "2018-04-23 07:57:17 PM Cl-                 4\n",
      "2018-04-23 07:57:17 PM DM1                 1\n",
      "2018-04-23 07:57:17 PM DM2                 1\n",
      "2018-04-23 07:57:17 PM DM3                 1\n",
      "2018-04-23 07:57:17 PM GST                 1\n",
      "2018-04-23 07:57:17 PM HST                 1\n",
      "2018-04-23 07:57:17 PM Na+                13\n",
      "2018-04-23 07:57:17 PM WAT              3000\n"
     ]
    },
    {
     "name": "stdout",
     "output_type": "stream",
     "text": [
      "./OA-G3-3 p026\n"
     ]
    },
    {
     "name": "stderr",
     "output_type": "stream",
     "text": [
      "2018-04-23 07:57:20 PM Cl-                 4\n",
      "2018-04-23 07:57:20 PM DM1                 1\n",
      "2018-04-23 07:57:20 PM DM2                 1\n",
      "2018-04-23 07:57:20 PM DM3                 1\n",
      "2018-04-23 07:57:20 PM GST                 1\n",
      "2018-04-23 07:57:20 PM HST                 1\n",
      "2018-04-23 07:57:20 PM Na+                13\n",
      "2018-04-23 07:57:20 PM WAT              3000\n"
     ]
    },
    {
     "name": "stdout",
     "output_type": "stream",
     "text": [
      "./OA-G3-3 p027\n"
     ]
    },
    {
     "name": "stderr",
     "output_type": "stream",
     "text": [
      "2018-04-23 07:57:23 PM Cl-                 4\n",
      "2018-04-23 07:57:23 PM DM1                 1\n",
      "2018-04-23 07:57:23 PM DM2                 1\n",
      "2018-04-23 07:57:23 PM DM3                 1\n",
      "2018-04-23 07:57:23 PM GST                 1\n",
      "2018-04-23 07:57:23 PM HST                 1\n",
      "2018-04-23 07:57:23 PM Na+                13\n",
      "2018-04-23 07:57:23 PM WAT              3000\n"
     ]
    },
    {
     "name": "stdout",
     "output_type": "stream",
     "text": [
      "./OA-G3-3 p028\n"
     ]
    },
    {
     "name": "stderr",
     "output_type": "stream",
     "text": [
      "2018-04-23 07:57:25 PM Cl-                 4\n",
      "2018-04-23 07:57:25 PM DM1                 1\n",
      "2018-04-23 07:57:25 PM DM2                 1\n",
      "2018-04-23 07:57:25 PM DM3                 1\n",
      "2018-04-23 07:57:25 PM GST                 1\n",
      "2018-04-23 07:57:25 PM HST                 1\n",
      "2018-04-23 07:57:25 PM Na+                13\n",
      "2018-04-23 07:57:25 PM WAT              3000\n"
     ]
    },
    {
     "name": "stdout",
     "output_type": "stream",
     "text": [
      "./OA-G3-3 p029\n"
     ]
    },
    {
     "name": "stderr",
     "output_type": "stream",
     "text": [
      "2018-04-23 07:57:28 PM Cl-                 4\n",
      "2018-04-23 07:57:28 PM DM1                 1\n",
      "2018-04-23 07:57:28 PM DM2                 1\n",
      "2018-04-23 07:57:28 PM DM3                 1\n",
      "2018-04-23 07:57:28 PM GST                 1\n",
      "2018-04-23 07:57:28 PM HST                 1\n",
      "2018-04-23 07:57:28 PM Na+                13\n",
      "2018-04-23 07:57:28 PM WAT              3000\n"
     ]
    },
    {
     "name": "stdout",
     "output_type": "stream",
     "text": [
      "./OA-G3-3 p030\n"
     ]
    },
    {
     "name": "stderr",
     "output_type": "stream",
     "text": [
      "2018-04-23 07:57:30 PM Cl-                 4\n",
      "2018-04-23 07:57:30 PM DM1                 1\n",
      "2018-04-23 07:57:30 PM DM2                 1\n",
      "2018-04-23 07:57:30 PM DM3                 1\n",
      "2018-04-23 07:57:30 PM GST                 1\n",
      "2018-04-23 07:57:30 PM HST                 1\n",
      "2018-04-23 07:57:30 PM Na+                13\n",
      "2018-04-23 07:57:30 PM WAT              3000\n"
     ]
    },
    {
     "name": "stdout",
     "output_type": "stream",
     "text": [
      "./OA-G3-3 p031\n"
     ]
    },
    {
     "name": "stderr",
     "output_type": "stream",
     "text": [
      "2018-04-23 07:57:33 PM Cl-                 4\n",
      "2018-04-23 07:57:33 PM DM1                 1\n",
      "2018-04-23 07:57:33 PM DM2                 1\n",
      "2018-04-23 07:57:33 PM DM3                 1\n",
      "2018-04-23 07:57:33 PM GST                 1\n",
      "2018-04-23 07:57:33 PM HST                 1\n",
      "2018-04-23 07:57:33 PM Na+                13\n",
      "2018-04-23 07:57:33 PM WAT              3000\n"
     ]
    },
    {
     "name": "stdout",
     "output_type": "stream",
     "text": [
      "./OA-G3-3 p032\n"
     ]
    },
    {
     "name": "stderr",
     "output_type": "stream",
     "text": [
      "2018-04-23 07:57:36 PM Cl-                 4\n",
      "2018-04-23 07:57:36 PM DM1                 1\n",
      "2018-04-23 07:57:36 PM DM2                 1\n",
      "2018-04-23 07:57:36 PM DM3                 1\n",
      "2018-04-23 07:57:36 PM GST                 1\n",
      "2018-04-23 07:57:36 PM HST                 1\n",
      "2018-04-23 07:57:36 PM Na+                13\n",
      "2018-04-23 07:57:36 PM WAT              3000\n"
     ]
    },
    {
     "name": "stdout",
     "output_type": "stream",
     "text": [
      "./OA-G3-3 p033\n"
     ]
    },
    {
     "name": "stderr",
     "output_type": "stream",
     "text": [
      "2018-04-23 07:57:38 PM Cl-                 4\n",
      "2018-04-23 07:57:38 PM DM1                 1\n",
      "2018-04-23 07:57:38 PM DM2                 1\n",
      "2018-04-23 07:57:38 PM DM3                 1\n",
      "2018-04-23 07:57:38 PM GST                 1\n",
      "2018-04-23 07:57:38 PM HST                 1\n",
      "2018-04-23 07:57:38 PM Na+                13\n",
      "2018-04-23 07:57:38 PM WAT              3000\n"
     ]
    },
    {
     "name": "stdout",
     "output_type": "stream",
     "text": [
      "./OA-G3-3 p034\n"
     ]
    },
    {
     "name": "stderr",
     "output_type": "stream",
     "text": [
      "2018-04-23 07:57:40 PM Cl-                 4\n",
      "2018-04-23 07:57:40 PM DM1                 1\n",
      "2018-04-23 07:57:40 PM DM2                 1\n",
      "2018-04-23 07:57:40 PM DM3                 1\n",
      "2018-04-23 07:57:40 PM GST                 1\n",
      "2018-04-23 07:57:40 PM HST                 1\n",
      "2018-04-23 07:57:40 PM Na+                13\n",
      "2018-04-23 07:57:40 PM WAT              3000\n"
     ]
    },
    {
     "name": "stdout",
     "output_type": "stream",
     "text": [
      "./OA-G3-3 p035\n"
     ]
    },
    {
     "name": "stderr",
     "output_type": "stream",
     "text": [
      "2018-04-23 07:57:43 PM Cl-                 4\n",
      "2018-04-23 07:57:43 PM DM1                 1\n",
      "2018-04-23 07:57:43 PM DM2                 1\n",
      "2018-04-23 07:57:43 PM DM3                 1\n",
      "2018-04-23 07:57:43 PM GST                 1\n",
      "2018-04-23 07:57:43 PM HST                 1\n",
      "2018-04-23 07:57:43 PM Na+                13\n",
      "2018-04-23 07:57:43 PM WAT              3000\n"
     ]
    },
    {
     "name": "stdout",
     "output_type": "stream",
     "text": [
      "./OA-G3-3 p036\n"
     ]
    },
    {
     "name": "stderr",
     "output_type": "stream",
     "text": [
      "2018-04-23 07:57:46 PM Cl-                 4\n",
      "2018-04-23 07:57:46 PM DM1                 1\n",
      "2018-04-23 07:57:46 PM DM2                 1\n",
      "2018-04-23 07:57:46 PM DM3                 1\n",
      "2018-04-23 07:57:46 PM GST                 1\n",
      "2018-04-23 07:57:46 PM HST                 1\n",
      "2018-04-23 07:57:46 PM Na+                13\n",
      "2018-04-23 07:57:46 PM WAT              3000\n"
     ]
    },
    {
     "name": "stdout",
     "output_type": "stream",
     "text": [
      "./OA-G3-3 p037\n"
     ]
    },
    {
     "name": "stderr",
     "output_type": "stream",
     "text": [
      "2018-04-23 07:57:49 PM Cl-                 4\n",
      "2018-04-23 07:57:49 PM DM1                 1\n",
      "2018-04-23 07:57:49 PM DM2                 1\n",
      "2018-04-23 07:57:49 PM DM3                 1\n",
      "2018-04-23 07:57:49 PM GST                 1\n",
      "2018-04-23 07:57:49 PM HST                 1\n",
      "2018-04-23 07:57:49 PM Na+                13\n",
      "2018-04-23 07:57:49 PM WAT              3000\n"
     ]
    },
    {
     "name": "stdout",
     "output_type": "stream",
     "text": [
      "./OA-G3-3 p038\n"
     ]
    },
    {
     "name": "stderr",
     "output_type": "stream",
     "text": [
      "2018-04-23 07:57:51 PM Cl-                 4\n",
      "2018-04-23 07:57:51 PM DM1                 1\n",
      "2018-04-23 07:57:51 PM DM2                 1\n",
      "2018-04-23 07:57:51 PM DM3                 1\n",
      "2018-04-23 07:57:51 PM GST                 1\n",
      "2018-04-23 07:57:51 PM HST                 1\n",
      "2018-04-23 07:57:51 PM Na+                13\n",
      "2018-04-23 07:57:51 PM WAT              3000\n"
     ]
    },
    {
     "name": "stdout",
     "output_type": "stream",
     "text": [
      "./OA-G3-3 p039\n"
     ]
    },
    {
     "name": "stderr",
     "output_type": "stream",
     "text": [
      "2018-04-23 07:57:54 PM Cl-                 4\n",
      "2018-04-23 07:57:54 PM DM1                 1\n",
      "2018-04-23 07:57:54 PM DM2                 1\n",
      "2018-04-23 07:57:54 PM DM3                 1\n",
      "2018-04-23 07:57:54 PM GST                 1\n",
      "2018-04-23 07:57:54 PM HST                 1\n",
      "2018-04-23 07:57:54 PM Na+                13\n",
      "2018-04-23 07:57:54 PM WAT              3000\n"
     ]
    },
    {
     "name": "stdout",
     "output_type": "stream",
     "text": [
      "./OA-G3-3 p040\n"
     ]
    },
    {
     "name": "stderr",
     "output_type": "stream",
     "text": [
      "2018-04-23 07:57:56 PM Cl-                 4\n",
      "2018-04-23 07:57:56 PM DM1                 1\n",
      "2018-04-23 07:57:56 PM DM2                 1\n",
      "2018-04-23 07:57:56 PM DM3                 1\n",
      "2018-04-23 07:57:56 PM GST                 1\n",
      "2018-04-23 07:57:56 PM HST                 1\n",
      "2018-04-23 07:57:56 PM Na+                13\n",
      "2018-04-23 07:57:56 PM WAT              3000\n"
     ]
    },
    {
     "name": "stdout",
     "output_type": "stream",
     "text": [
      "./OA-G3-3 p041\n"
     ]
    },
    {
     "name": "stderr",
     "output_type": "stream",
     "text": [
      "2018-04-23 07:57:59 PM Cl-                 4\n",
      "2018-04-23 07:57:59 PM DM1                 1\n",
      "2018-04-23 07:57:59 PM DM2                 1\n",
      "2018-04-23 07:57:59 PM DM3                 1\n",
      "2018-04-23 07:57:59 PM GST                 1\n",
      "2018-04-23 07:57:59 PM HST                 1\n",
      "2018-04-23 07:57:59 PM Na+                13\n",
      "2018-04-23 07:57:59 PM WAT              3000\n"
     ]
    },
    {
     "name": "stdout",
     "output_type": "stream",
     "text": [
      "./OA-G3-3 p042\n"
     ]
    },
    {
     "name": "stderr",
     "output_type": "stream",
     "text": [
      "2018-04-23 07:58:02 PM Cl-                 4\n",
      "2018-04-23 07:58:02 PM DM1                 1\n",
      "2018-04-23 07:58:02 PM DM2                 1\n",
      "2018-04-23 07:58:02 PM DM3                 1\n",
      "2018-04-23 07:58:02 PM GST                 1\n",
      "2018-04-23 07:58:02 PM HST                 1\n",
      "2018-04-23 07:58:02 PM Na+                13\n",
      "2018-04-23 07:58:02 PM WAT              3000\n"
     ]
    },
    {
     "name": "stdout",
     "output_type": "stream",
     "text": [
      "./OA-G3-3 p043\n"
     ]
    },
    {
     "name": "stderr",
     "output_type": "stream",
     "text": [
      "2018-04-23 07:58:06 PM Cl-                 4\n",
      "2018-04-23 07:58:06 PM DM1                 1\n",
      "2018-04-23 07:58:06 PM DM2                 1\n",
      "2018-04-23 07:58:06 PM DM3                 1\n",
      "2018-04-23 07:58:06 PM GST                 1\n",
      "2018-04-23 07:58:06 PM HST                 1\n",
      "2018-04-23 07:58:06 PM Na+                13\n",
      "2018-04-23 07:58:06 PM WAT              3000\n"
     ]
    },
    {
     "name": "stdout",
     "output_type": "stream",
     "text": [
      "./OA-G3-3 p044\n"
     ]
    },
    {
     "name": "stderr",
     "output_type": "stream",
     "text": [
      "2018-04-23 07:58:09 PM Cl-                 4\n",
      "2018-04-23 07:58:09 PM DM1                 1\n",
      "2018-04-23 07:58:09 PM DM2                 1\n",
      "2018-04-23 07:58:09 PM DM3                 1\n",
      "2018-04-23 07:58:09 PM GST                 1\n",
      "2018-04-23 07:58:09 PM HST                 1\n",
      "2018-04-23 07:58:09 PM Na+                13\n",
      "2018-04-23 07:58:09 PM WAT              3000\n"
     ]
    },
    {
     "name": "stdout",
     "output_type": "stream",
     "text": [
      "./OA-G3-3 p045\n"
     ]
    },
    {
     "name": "stderr",
     "output_type": "stream",
     "text": [
      "2018-04-23 07:58:12 PM Cl-                 4\n",
      "2018-04-23 07:58:12 PM DM1                 1\n",
      "2018-04-23 07:58:12 PM DM2                 1\n",
      "2018-04-23 07:58:12 PM DM3                 1\n",
      "2018-04-23 07:58:12 PM GST                 1\n",
      "2018-04-23 07:58:12 PM HST                 1\n",
      "2018-04-23 07:58:12 PM Na+                13\n",
      "2018-04-23 07:58:12 PM WAT              3000\n"
     ]
    },
    {
     "name": "stdout",
     "output_type": "stream",
     "text": [
      "./OA-G6-3 a000\n"
     ]
    },
    {
     "name": "stderr",
     "output_type": "stream",
     "text": [
      "2018-04-23 07:58:15 PM Cl-                 4\n",
      "2018-04-23 07:58:15 PM DM1                 1\n",
      "2018-04-23 07:58:15 PM DM2                 1\n",
      "2018-04-23 07:58:15 PM DM3                 1\n",
      "2018-04-23 07:58:15 PM GST                 1\n",
      "2018-04-23 07:58:15 PM HST                 1\n",
      "2018-04-23 07:58:15 PM Na+                13\n",
      "2018-04-23 07:58:15 PM WAT              3000\n"
     ]
    },
    {
     "name": "stdout",
     "output_type": "stream",
     "text": [
      "./OA-G6-3 a001\n"
     ]
    },
    {
     "name": "stderr",
     "output_type": "stream",
     "text": [
      "2018-04-23 07:58:17 PM Cl-                 4\n",
      "2018-04-23 07:58:17 PM DM1                 1\n",
      "2018-04-23 07:58:17 PM DM2                 1\n",
      "2018-04-23 07:58:17 PM DM3                 1\n",
      "2018-04-23 07:58:17 PM GST                 1\n",
      "2018-04-23 07:58:17 PM HST                 1\n",
      "2018-04-23 07:58:17 PM Na+                13\n",
      "2018-04-23 07:58:17 PM WAT              3000\n"
     ]
    },
    {
     "name": "stdout",
     "output_type": "stream",
     "text": [
      "./OA-G6-3 a002\n"
     ]
    },
    {
     "name": "stderr",
     "output_type": "stream",
     "text": [
      "2018-04-23 07:58:20 PM Cl-                 4\n",
      "2018-04-23 07:58:20 PM DM1                 1\n",
      "2018-04-23 07:58:20 PM DM2                 1\n",
      "2018-04-23 07:58:20 PM DM3                 1\n",
      "2018-04-23 07:58:20 PM GST                 1\n",
      "2018-04-23 07:58:20 PM HST                 1\n",
      "2018-04-23 07:58:20 PM Na+                13\n",
      "2018-04-23 07:58:20 PM WAT              3000\n"
     ]
    },
    {
     "name": "stdout",
     "output_type": "stream",
     "text": [
      "./OA-G6-3 a003\n"
     ]
    },
    {
     "name": "stderr",
     "output_type": "stream",
     "text": [
      "2018-04-23 07:58:23 PM Cl-                 4\n",
      "2018-04-23 07:58:23 PM DM1                 1\n",
      "2018-04-23 07:58:23 PM DM2                 1\n",
      "2018-04-23 07:58:23 PM DM3                 1\n",
      "2018-04-23 07:58:23 PM GST                 1\n",
      "2018-04-23 07:58:23 PM HST                 1\n",
      "2018-04-23 07:58:23 PM Na+                13\n",
      "2018-04-23 07:58:23 PM WAT              3000\n"
     ]
    },
    {
     "name": "stdout",
     "output_type": "stream",
     "text": [
      "./OA-G6-3 a004\n"
     ]
    },
    {
     "name": "stderr",
     "output_type": "stream",
     "text": [
      "2018-04-23 07:58:26 PM Cl-                 4\n",
      "2018-04-23 07:58:26 PM DM1                 1\n",
      "2018-04-23 07:58:26 PM DM2                 1\n",
      "2018-04-23 07:58:26 PM DM3                 1\n",
      "2018-04-23 07:58:26 PM GST                 1\n",
      "2018-04-23 07:58:26 PM HST                 1\n",
      "2018-04-23 07:58:26 PM Na+                13\n",
      "2018-04-23 07:58:26 PM WAT              3000\n"
     ]
    },
    {
     "name": "stdout",
     "output_type": "stream",
     "text": [
      "./OA-G6-3 a005\n"
     ]
    },
    {
     "name": "stderr",
     "output_type": "stream",
     "text": [
      "2018-04-23 07:58:29 PM Cl-                 4\n",
      "2018-04-23 07:58:29 PM DM1                 1\n",
      "2018-04-23 07:58:29 PM DM2                 1\n",
      "2018-04-23 07:58:29 PM DM3                 1\n",
      "2018-04-23 07:58:29 PM GST                 1\n",
      "2018-04-23 07:58:29 PM HST                 1\n",
      "2018-04-23 07:58:29 PM Na+                13\n",
      "2018-04-23 07:58:29 PM WAT              3000\n"
     ]
    },
    {
     "name": "stdout",
     "output_type": "stream",
     "text": [
      "./OA-G6-3 a006\n"
     ]
    },
    {
     "name": "stderr",
     "output_type": "stream",
     "text": [
      "2018-04-23 07:58:31 PM Cl-                 4\n",
      "2018-04-23 07:58:31 PM DM1                 1\n",
      "2018-04-23 07:58:31 PM DM2                 1\n",
      "2018-04-23 07:58:31 PM DM3                 1\n",
      "2018-04-23 07:58:31 PM GST                 1\n",
      "2018-04-23 07:58:31 PM HST                 1\n",
      "2018-04-23 07:58:31 PM Na+                13\n",
      "2018-04-23 07:58:31 PM WAT              3000\n"
     ]
    },
    {
     "name": "stdout",
     "output_type": "stream",
     "text": [
      "./OA-G6-3 a007\n"
     ]
    },
    {
     "name": "stderr",
     "output_type": "stream",
     "text": [
      "2018-04-23 07:58:34 PM Cl-                 4\n",
      "2018-04-23 07:58:34 PM DM1                 1\n",
      "2018-04-23 07:58:34 PM DM2                 1\n",
      "2018-04-23 07:58:34 PM DM3                 1\n",
      "2018-04-23 07:58:34 PM GST                 1\n",
      "2018-04-23 07:58:34 PM HST                 1\n",
      "2018-04-23 07:58:34 PM Na+                13\n",
      "2018-04-23 07:58:34 PM WAT              3000\n"
     ]
    },
    {
     "name": "stdout",
     "output_type": "stream",
     "text": [
      "./OA-G6-3 a008\n"
     ]
    },
    {
     "name": "stderr",
     "output_type": "stream",
     "text": [
      "2018-04-23 07:58:37 PM Cl-                 4\n",
      "2018-04-23 07:58:37 PM DM1                 1\n",
      "2018-04-23 07:58:37 PM DM2                 1\n",
      "2018-04-23 07:58:37 PM DM3                 1\n",
      "2018-04-23 07:58:37 PM GST                 1\n",
      "2018-04-23 07:58:37 PM HST                 1\n",
      "2018-04-23 07:58:37 PM Na+                13\n",
      "2018-04-23 07:58:37 PM WAT              3000\n"
     ]
    },
    {
     "name": "stdout",
     "output_type": "stream",
     "text": [
      "./OA-G6-3 a009\n"
     ]
    },
    {
     "name": "stderr",
     "output_type": "stream",
     "text": [
      "2018-04-23 07:58:40 PM Cl-                 4\n",
      "2018-04-23 07:58:40 PM DM1                 1\n",
      "2018-04-23 07:58:40 PM DM2                 1\n",
      "2018-04-23 07:58:40 PM DM3                 1\n",
      "2018-04-23 07:58:40 PM GST                 1\n",
      "2018-04-23 07:58:40 PM HST                 1\n",
      "2018-04-23 07:58:40 PM Na+                13\n",
      "2018-04-23 07:58:40 PM WAT              3000\n"
     ]
    },
    {
     "name": "stdout",
     "output_type": "stream",
     "text": [
      "./OA-G6-3 a010\n"
     ]
    },
    {
     "name": "stderr",
     "output_type": "stream",
     "text": [
      "2018-04-23 07:58:43 PM Cl-                 4\n",
      "2018-04-23 07:58:43 PM DM1                 1\n",
      "2018-04-23 07:58:43 PM DM2                 1\n",
      "2018-04-23 07:58:43 PM DM3                 1\n",
      "2018-04-23 07:58:43 PM GST                 1\n",
      "2018-04-23 07:58:43 PM HST                 1\n",
      "2018-04-23 07:58:43 PM Na+                13\n",
      "2018-04-23 07:58:43 PM WAT              3000\n"
     ]
    },
    {
     "name": "stdout",
     "output_type": "stream",
     "text": [
      "./OA-G6-3 a011\n"
     ]
    },
    {
     "name": "stderr",
     "output_type": "stream",
     "text": [
      "2018-04-23 07:58:45 PM Cl-                 4\n",
      "2018-04-23 07:58:45 PM DM1                 1\n",
      "2018-04-23 07:58:45 PM DM2                 1\n",
      "2018-04-23 07:58:45 PM DM3                 1\n",
      "2018-04-23 07:58:45 PM GST                 1\n",
      "2018-04-23 07:58:45 PM HST                 1\n",
      "2018-04-23 07:58:45 PM Na+                13\n",
      "2018-04-23 07:58:45 PM WAT              3000\n"
     ]
    },
    {
     "name": "stdout",
     "output_type": "stream",
     "text": [
      "./OA-G6-3 a012\n"
     ]
    },
    {
     "name": "stderr",
     "output_type": "stream",
     "text": [
      "2018-04-23 07:58:48 PM Cl-                 4\n",
      "2018-04-23 07:58:48 PM DM1                 1\n",
      "2018-04-23 07:58:48 PM DM2                 1\n",
      "2018-04-23 07:58:48 PM DM3                 1\n",
      "2018-04-23 07:58:48 PM GST                 1\n",
      "2018-04-23 07:58:48 PM HST                 1\n",
      "2018-04-23 07:58:48 PM Na+                13\n",
      "2018-04-23 07:58:48 PM WAT              3000\n"
     ]
    },
    {
     "name": "stdout",
     "output_type": "stream",
     "text": [
      "./OA-G6-3 a013\n"
     ]
    },
    {
     "name": "stderr",
     "output_type": "stream",
     "text": [
      "2018-04-23 07:58:51 PM Cl-                 4\n",
      "2018-04-23 07:58:51 PM DM1                 1\n",
      "2018-04-23 07:58:51 PM DM2                 1\n",
      "2018-04-23 07:58:51 PM DM3                 1\n",
      "2018-04-23 07:58:51 PM GST                 1\n",
      "2018-04-23 07:58:51 PM HST                 1\n",
      "2018-04-23 07:58:51 PM Na+                13\n",
      "2018-04-23 07:58:51 PM WAT              3000\n"
     ]
    },
    {
     "name": "stdout",
     "output_type": "stream",
     "text": [
      "./OA-G6-3 p000\n"
     ]
    },
    {
     "name": "stderr",
     "output_type": "stream",
     "text": [
      "2018-04-23 07:58:54 PM Cl-                 4\n",
      "2018-04-23 07:58:54 PM DM1                 1\n",
      "2018-04-23 07:58:54 PM DM2                 1\n",
      "2018-04-23 07:58:54 PM DM3                 1\n",
      "2018-04-23 07:58:54 PM GST                 1\n",
      "2018-04-23 07:58:54 PM HST                 1\n",
      "2018-04-23 07:58:54 PM Na+                13\n",
      "2018-04-23 07:58:54 PM WAT              3000\n"
     ]
    },
    {
     "name": "stdout",
     "output_type": "stream",
     "text": [
      "./OA-G6-3 p001\n"
     ]
    },
    {
     "name": "stderr",
     "output_type": "stream",
     "text": [
      "2018-04-23 07:58:56 PM Cl-                 4\n",
      "2018-04-23 07:58:56 PM DM1                 1\n",
      "2018-04-23 07:58:56 PM DM2                 1\n",
      "2018-04-23 07:58:56 PM DM3                 1\n",
      "2018-04-23 07:58:56 PM GST                 1\n",
      "2018-04-23 07:58:56 PM HST                 1\n",
      "2018-04-23 07:58:56 PM Na+                13\n",
      "2018-04-23 07:58:56 PM WAT              3000\n"
     ]
    },
    {
     "name": "stdout",
     "output_type": "stream",
     "text": [
      "./OA-G6-3 p002\n"
     ]
    },
    {
     "name": "stderr",
     "output_type": "stream",
     "text": [
      "2018-04-23 07:58:58 PM Cl-                 4\n",
      "2018-04-23 07:58:58 PM DM1                 1\n",
      "2018-04-23 07:58:58 PM DM2                 1\n",
      "2018-04-23 07:58:58 PM DM3                 1\n",
      "2018-04-23 07:58:58 PM GST                 1\n",
      "2018-04-23 07:58:58 PM HST                 1\n",
      "2018-04-23 07:58:58 PM Na+                13\n",
      "2018-04-23 07:58:58 PM WAT              3000\n"
     ]
    },
    {
     "name": "stdout",
     "output_type": "stream",
     "text": [
      "./OA-G6-3 p003\n"
     ]
    },
    {
     "name": "stderr",
     "output_type": "stream",
     "text": [
      "2018-04-23 07:59:01 PM Cl-                 4\n",
      "2018-04-23 07:59:01 PM DM1                 1\n",
      "2018-04-23 07:59:01 PM DM2                 1\n",
      "2018-04-23 07:59:01 PM DM3                 1\n",
      "2018-04-23 07:59:01 PM GST                 1\n",
      "2018-04-23 07:59:01 PM HST                 1\n",
      "2018-04-23 07:59:01 PM Na+                13\n",
      "2018-04-23 07:59:01 PM WAT              3000\n"
     ]
    },
    {
     "name": "stdout",
     "output_type": "stream",
     "text": [
      "./OA-G6-3 p004\n"
     ]
    },
    {
     "name": "stderr",
     "output_type": "stream",
     "text": [
      "2018-04-23 07:59:04 PM Cl-                 4\n",
      "2018-04-23 07:59:04 PM DM1                 1\n",
      "2018-04-23 07:59:04 PM DM2                 1\n",
      "2018-04-23 07:59:04 PM DM3                 1\n",
      "2018-04-23 07:59:04 PM GST                 1\n",
      "2018-04-23 07:59:04 PM HST                 1\n",
      "2018-04-23 07:59:04 PM Na+                13\n",
      "2018-04-23 07:59:04 PM WAT              3000\n"
     ]
    },
    {
     "name": "stdout",
     "output_type": "stream",
     "text": [
      "./OA-G6-3 p005\n"
     ]
    },
    {
     "name": "stderr",
     "output_type": "stream",
     "text": [
      "2018-04-23 07:59:06 PM Cl-                 4\n",
      "2018-04-23 07:59:06 PM DM1                 1\n",
      "2018-04-23 07:59:06 PM DM2                 1\n",
      "2018-04-23 07:59:06 PM DM3                 1\n",
      "2018-04-23 07:59:06 PM GST                 1\n",
      "2018-04-23 07:59:06 PM HST                 1\n",
      "2018-04-23 07:59:06 PM Na+                13\n",
      "2018-04-23 07:59:06 PM WAT              3000\n"
     ]
    },
    {
     "name": "stdout",
     "output_type": "stream",
     "text": [
      "./OA-G6-3 p006\n"
     ]
    },
    {
     "name": "stderr",
     "output_type": "stream",
     "text": [
      "2018-04-23 07:59:09 PM Cl-                 4\n",
      "2018-04-23 07:59:09 PM DM1                 1\n",
      "2018-04-23 07:59:09 PM DM2                 1\n",
      "2018-04-23 07:59:09 PM DM3                 1\n",
      "2018-04-23 07:59:09 PM GST                 1\n",
      "2018-04-23 07:59:09 PM HST                 1\n",
      "2018-04-23 07:59:09 PM Na+                13\n",
      "2018-04-23 07:59:09 PM WAT              3000\n"
     ]
    },
    {
     "name": "stdout",
     "output_type": "stream",
     "text": [
      "./OA-G6-3 p007\n"
     ]
    },
    {
     "name": "stderr",
     "output_type": "stream",
     "text": [
      "2018-04-23 07:59:12 PM Cl-                 4\n",
      "2018-04-23 07:59:12 PM DM1                 1\n",
      "2018-04-23 07:59:12 PM DM2                 1\n",
      "2018-04-23 07:59:12 PM DM3                 1\n",
      "2018-04-23 07:59:12 PM GST                 1\n",
      "2018-04-23 07:59:12 PM HST                 1\n",
      "2018-04-23 07:59:12 PM Na+                13\n",
      "2018-04-23 07:59:12 PM WAT              3000\n"
     ]
    },
    {
     "name": "stdout",
     "output_type": "stream",
     "text": [
      "./OA-G6-3 p008\n"
     ]
    },
    {
     "name": "stderr",
     "output_type": "stream",
     "text": [
      "2018-04-23 07:59:14 PM Cl-                 4\n",
      "2018-04-23 07:59:14 PM DM1                 1\n",
      "2018-04-23 07:59:14 PM DM2                 1\n",
      "2018-04-23 07:59:14 PM DM3                 1\n",
      "2018-04-23 07:59:14 PM GST                 1\n",
      "2018-04-23 07:59:14 PM HST                 1\n",
      "2018-04-23 07:59:14 PM Na+                13\n",
      "2018-04-23 07:59:14 PM WAT              3000\n"
     ]
    },
    {
     "name": "stdout",
     "output_type": "stream",
     "text": [
      "./OA-G6-3 p009\n"
     ]
    },
    {
     "name": "stderr",
     "output_type": "stream",
     "text": [
      "2018-04-23 07:59:17 PM Cl-                 4\n",
      "2018-04-23 07:59:17 PM DM1                 1\n",
      "2018-04-23 07:59:17 PM DM2                 1\n",
      "2018-04-23 07:59:17 PM DM3                 1\n",
      "2018-04-23 07:59:17 PM GST                 1\n",
      "2018-04-23 07:59:17 PM HST                 1\n",
      "2018-04-23 07:59:17 PM Na+                13\n",
      "2018-04-23 07:59:17 PM WAT              3000\n"
     ]
    },
    {
     "name": "stdout",
     "output_type": "stream",
     "text": [
      "./OA-G6-3 p010\n"
     ]
    },
    {
     "name": "stderr",
     "output_type": "stream",
     "text": [
      "2018-04-23 07:59:19 PM Cl-                 4\n",
      "2018-04-23 07:59:19 PM DM1                 1\n",
      "2018-04-23 07:59:19 PM DM2                 1\n",
      "2018-04-23 07:59:19 PM DM3                 1\n",
      "2018-04-23 07:59:19 PM GST                 1\n",
      "2018-04-23 07:59:19 PM HST                 1\n",
      "2018-04-23 07:59:19 PM Na+                13\n",
      "2018-04-23 07:59:19 PM WAT              3000\n"
     ]
    },
    {
     "name": "stdout",
     "output_type": "stream",
     "text": [
      "./OA-G6-3 p011\n"
     ]
    },
    {
     "name": "stderr",
     "output_type": "stream",
     "text": [
      "2018-04-23 07:59:22 PM Cl-                 4\n",
      "2018-04-23 07:59:22 PM DM1                 1\n",
      "2018-04-23 07:59:22 PM DM2                 1\n",
      "2018-04-23 07:59:22 PM DM3                 1\n",
      "2018-04-23 07:59:22 PM GST                 1\n",
      "2018-04-23 07:59:22 PM HST                 1\n",
      "2018-04-23 07:59:22 PM Na+                13\n",
      "2018-04-23 07:59:22 PM WAT              3000\n"
     ]
    },
    {
     "name": "stdout",
     "output_type": "stream",
     "text": [
      "./OA-G6-3 p012\n"
     ]
    },
    {
     "name": "stderr",
     "output_type": "stream",
     "text": [
      "2018-04-23 07:59:25 PM Cl-                 4\n",
      "2018-04-23 07:59:25 PM DM1                 1\n",
      "2018-04-23 07:59:25 PM DM2                 1\n",
      "2018-04-23 07:59:25 PM DM3                 1\n",
      "2018-04-23 07:59:25 PM GST                 1\n",
      "2018-04-23 07:59:25 PM HST                 1\n",
      "2018-04-23 07:59:25 PM Na+                13\n",
      "2018-04-23 07:59:25 PM WAT              3000\n"
     ]
    },
    {
     "name": "stdout",
     "output_type": "stream",
     "text": [
      "./OA-G6-3 p013\n"
     ]
    },
    {
     "name": "stderr",
     "output_type": "stream",
     "text": [
      "2018-04-23 07:59:27 PM Cl-                 4\n",
      "2018-04-23 07:59:27 PM DM1                 1\n",
      "2018-04-23 07:59:27 PM DM2                 1\n",
      "2018-04-23 07:59:27 PM DM3                 1\n",
      "2018-04-23 07:59:27 PM GST                 1\n",
      "2018-04-23 07:59:27 PM HST                 1\n",
      "2018-04-23 07:59:27 PM Na+                13\n",
      "2018-04-23 07:59:27 PM WAT              3000\n"
     ]
    },
    {
     "name": "stdout",
     "output_type": "stream",
     "text": [
      "./OA-G6-3 p014\n"
     ]
    },
    {
     "name": "stderr",
     "output_type": "stream",
     "text": [
      "2018-04-23 07:59:30 PM Cl-                 4\n",
      "2018-04-23 07:59:30 PM DM1                 1\n",
      "2018-04-23 07:59:30 PM DM2                 1\n",
      "2018-04-23 07:59:30 PM DM3                 1\n",
      "2018-04-23 07:59:30 PM GST                 1\n",
      "2018-04-23 07:59:30 PM HST                 1\n",
      "2018-04-23 07:59:30 PM Na+                13\n",
      "2018-04-23 07:59:30 PM WAT              3000\n"
     ]
    },
    {
     "name": "stdout",
     "output_type": "stream",
     "text": [
      "./OA-G6-3 p015\n"
     ]
    },
    {
     "name": "stderr",
     "output_type": "stream",
     "text": [
      "2018-04-23 07:59:32 PM Cl-                 4\n",
      "2018-04-23 07:59:32 PM DM1                 1\n",
      "2018-04-23 07:59:32 PM DM2                 1\n",
      "2018-04-23 07:59:32 PM DM3                 1\n",
      "2018-04-23 07:59:32 PM GST                 1\n",
      "2018-04-23 07:59:32 PM HST                 1\n",
      "2018-04-23 07:59:32 PM Na+                13\n",
      "2018-04-23 07:59:32 PM WAT              3000\n"
     ]
    },
    {
     "name": "stdout",
     "output_type": "stream",
     "text": [
      "./OA-G6-3 p016\n"
     ]
    },
    {
     "name": "stderr",
     "output_type": "stream",
     "text": [
      "2018-04-23 07:59:35 PM Cl-                 4\n",
      "2018-04-23 07:59:35 PM DM1                 1\n",
      "2018-04-23 07:59:35 PM DM2                 1\n",
      "2018-04-23 07:59:35 PM DM3                 1\n",
      "2018-04-23 07:59:35 PM GST                 1\n",
      "2018-04-23 07:59:35 PM HST                 1\n",
      "2018-04-23 07:59:35 PM Na+                13\n",
      "2018-04-23 07:59:35 PM WAT              3000\n"
     ]
    },
    {
     "name": "stdout",
     "output_type": "stream",
     "text": [
      "./OA-G6-3 p017\n"
     ]
    },
    {
     "name": "stderr",
     "output_type": "stream",
     "text": [
      "2018-04-23 07:59:38 PM Cl-                 4\n",
      "2018-04-23 07:59:38 PM DM1                 1\n",
      "2018-04-23 07:59:38 PM DM2                 1\n",
      "2018-04-23 07:59:38 PM DM3                 1\n",
      "2018-04-23 07:59:38 PM GST                 1\n",
      "2018-04-23 07:59:38 PM HST                 1\n",
      "2018-04-23 07:59:38 PM Na+                13\n",
      "2018-04-23 07:59:38 PM WAT              3000\n"
     ]
    },
    {
     "name": "stdout",
     "output_type": "stream",
     "text": [
      "./OA-G6-3 p018\n"
     ]
    },
    {
     "name": "stderr",
     "output_type": "stream",
     "text": [
      "2018-04-23 07:59:42 PM Cl-                 4\n",
      "2018-04-23 07:59:42 PM DM1                 1\n",
      "2018-04-23 07:59:42 PM DM2                 1\n",
      "2018-04-23 07:59:42 PM DM3                 1\n",
      "2018-04-23 07:59:42 PM GST                 1\n",
      "2018-04-23 07:59:42 PM HST                 1\n",
      "2018-04-23 07:59:42 PM Na+                13\n",
      "2018-04-23 07:59:42 PM WAT              3000\n"
     ]
    },
    {
     "name": "stdout",
     "output_type": "stream",
     "text": [
      "./OA-G6-3 p019\n"
     ]
    },
    {
     "name": "stderr",
     "output_type": "stream",
     "text": [
      "2018-04-23 07:59:44 PM Cl-                 4\n",
      "2018-04-23 07:59:44 PM DM1                 1\n",
      "2018-04-23 07:59:44 PM DM2                 1\n",
      "2018-04-23 07:59:44 PM DM3                 1\n",
      "2018-04-23 07:59:44 PM GST                 1\n",
      "2018-04-23 07:59:44 PM HST                 1\n",
      "2018-04-23 07:59:44 PM Na+                13\n",
      "2018-04-23 07:59:44 PM WAT              3000\n"
     ]
    },
    {
     "name": "stdout",
     "output_type": "stream",
     "text": [
      "./OA-G6-3 p020\n"
     ]
    },
    {
     "name": "stderr",
     "output_type": "stream",
     "text": [
      "2018-04-23 07:59:47 PM Cl-                 4\n",
      "2018-04-23 07:59:47 PM DM1                 1\n",
      "2018-04-23 07:59:47 PM DM2                 1\n",
      "2018-04-23 07:59:47 PM DM3                 1\n",
      "2018-04-23 07:59:47 PM GST                 1\n",
      "2018-04-23 07:59:47 PM HST                 1\n",
      "2018-04-23 07:59:47 PM Na+                13\n",
      "2018-04-23 07:59:47 PM WAT              3000\n"
     ]
    },
    {
     "name": "stdout",
     "output_type": "stream",
     "text": [
      "./OA-G6-3 p021\n"
     ]
    },
    {
     "name": "stderr",
     "output_type": "stream",
     "text": [
      "2018-04-23 07:59:50 PM Cl-                 4\n",
      "2018-04-23 07:59:50 PM DM1                 1\n",
      "2018-04-23 07:59:50 PM DM2                 1\n",
      "2018-04-23 07:59:50 PM DM3                 1\n",
      "2018-04-23 07:59:50 PM GST                 1\n",
      "2018-04-23 07:59:50 PM HST                 1\n",
      "2018-04-23 07:59:50 PM Na+                13\n",
      "2018-04-23 07:59:50 PM WAT              3000\n"
     ]
    },
    {
     "name": "stdout",
     "output_type": "stream",
     "text": [
      "./OA-G6-3 p022\n"
     ]
    },
    {
     "name": "stderr",
     "output_type": "stream",
     "text": [
      "2018-04-23 07:59:53 PM Cl-                 4\n",
      "2018-04-23 07:59:53 PM DM1                 1\n",
      "2018-04-23 07:59:53 PM DM2                 1\n",
      "2018-04-23 07:59:53 PM DM3                 1\n",
      "2018-04-23 07:59:53 PM GST                 1\n",
      "2018-04-23 07:59:53 PM HST                 1\n",
      "2018-04-23 07:59:53 PM Na+                13\n",
      "2018-04-23 07:59:53 PM WAT              3000\n"
     ]
    },
    {
     "name": "stdout",
     "output_type": "stream",
     "text": [
      "./OA-G6-3 p023\n"
     ]
    },
    {
     "name": "stderr",
     "output_type": "stream",
     "text": [
      "2018-04-23 07:59:56 PM Cl-                 4\n",
      "2018-04-23 07:59:56 PM DM1                 1\n",
      "2018-04-23 07:59:56 PM DM2                 1\n",
      "2018-04-23 07:59:56 PM DM3                 1\n",
      "2018-04-23 07:59:56 PM GST                 1\n",
      "2018-04-23 07:59:56 PM HST                 1\n",
      "2018-04-23 07:59:56 PM Na+                13\n",
      "2018-04-23 07:59:56 PM WAT              3000\n"
     ]
    },
    {
     "name": "stdout",
     "output_type": "stream",
     "text": [
      "./OA-G6-3 p024\n"
     ]
    },
    {
     "name": "stderr",
     "output_type": "stream",
     "text": [
      "2018-04-23 08:00:00 PM Cl-                 4\n",
      "2018-04-23 08:00:00 PM DM1                 1\n",
      "2018-04-23 08:00:00 PM DM2                 1\n",
      "2018-04-23 08:00:00 PM DM3                 1\n",
      "2018-04-23 08:00:00 PM GST                 1\n",
      "2018-04-23 08:00:00 PM HST                 1\n",
      "2018-04-23 08:00:00 PM Na+                13\n",
      "2018-04-23 08:00:00 PM WAT              3000\n"
     ]
    },
    {
     "name": "stdout",
     "output_type": "stream",
     "text": [
      "./OA-G6-3 p025\n"
     ]
    },
    {
     "name": "stderr",
     "output_type": "stream",
     "text": [
      "2018-04-23 08:00:02 PM Cl-                 4\n",
      "2018-04-23 08:00:02 PM DM1                 1\n",
      "2018-04-23 08:00:02 PM DM2                 1\n",
      "2018-04-23 08:00:02 PM DM3                 1\n",
      "2018-04-23 08:00:02 PM GST                 1\n",
      "2018-04-23 08:00:02 PM HST                 1\n",
      "2018-04-23 08:00:02 PM Na+                13\n",
      "2018-04-23 08:00:02 PM WAT              3000\n"
     ]
    },
    {
     "name": "stdout",
     "output_type": "stream",
     "text": [
      "./OA-G6-3 p026\n"
     ]
    },
    {
     "name": "stderr",
     "output_type": "stream",
     "text": [
      "2018-04-23 08:00:06 PM Cl-                 4\n",
      "2018-04-23 08:00:06 PM DM1                 1\n",
      "2018-04-23 08:00:06 PM DM2                 1\n",
      "2018-04-23 08:00:06 PM DM3                 1\n",
      "2018-04-23 08:00:06 PM GST                 1\n",
      "2018-04-23 08:00:06 PM HST                 1\n",
      "2018-04-23 08:00:06 PM Na+                13\n",
      "2018-04-23 08:00:06 PM WAT              3000\n"
     ]
    },
    {
     "name": "stdout",
     "output_type": "stream",
     "text": [
      "./OA-G6-3 p027\n"
     ]
    },
    {
     "name": "stderr",
     "output_type": "stream",
     "text": [
      "2018-04-23 08:00:09 PM Cl-                 4\n",
      "2018-04-23 08:00:09 PM DM1                 1\n",
      "2018-04-23 08:00:09 PM DM2                 1\n",
      "2018-04-23 08:00:09 PM DM3                 1\n",
      "2018-04-23 08:00:09 PM GST                 1\n",
      "2018-04-23 08:00:09 PM HST                 1\n",
      "2018-04-23 08:00:09 PM Na+                13\n",
      "2018-04-23 08:00:09 PM WAT              3000\n"
     ]
    },
    {
     "name": "stdout",
     "output_type": "stream",
     "text": [
      "./OA-G6-3 p028\n"
     ]
    },
    {
     "name": "stderr",
     "output_type": "stream",
     "text": [
      "2018-04-23 08:00:13 PM Cl-                 4\n",
      "2018-04-23 08:00:13 PM DM1                 1\n",
      "2018-04-23 08:00:13 PM DM2                 1\n",
      "2018-04-23 08:00:13 PM DM3                 1\n",
      "2018-04-23 08:00:13 PM GST                 1\n",
      "2018-04-23 08:00:13 PM HST                 1\n",
      "2018-04-23 08:00:13 PM Na+                13\n",
      "2018-04-23 08:00:13 PM WAT              3000\n"
     ]
    },
    {
     "name": "stdout",
     "output_type": "stream",
     "text": [
      "./OA-G6-3 p029\n"
     ]
    },
    {
     "name": "stderr",
     "output_type": "stream",
     "text": [
      "2018-04-23 08:00:16 PM Cl-                 4\n",
      "2018-04-23 08:00:16 PM DM1                 1\n",
      "2018-04-23 08:00:16 PM DM2                 1\n",
      "2018-04-23 08:00:16 PM DM3                 1\n",
      "2018-04-23 08:00:16 PM GST                 1\n",
      "2018-04-23 08:00:16 PM HST                 1\n",
      "2018-04-23 08:00:16 PM Na+                13\n",
      "2018-04-23 08:00:16 PM WAT              3000\n"
     ]
    },
    {
     "name": "stdout",
     "output_type": "stream",
     "text": [
      "./OA-G6-3 p030\n"
     ]
    },
    {
     "name": "stderr",
     "output_type": "stream",
     "text": [
      "2018-04-23 08:00:17 PM Cl-                 4\n",
      "2018-04-23 08:00:17 PM DM1                 1\n",
      "2018-04-23 08:00:17 PM DM2                 1\n",
      "2018-04-23 08:00:17 PM DM3                 1\n",
      "2018-04-23 08:00:17 PM GST                 1\n",
      "2018-04-23 08:00:17 PM HST                 1\n",
      "2018-04-23 08:00:17 PM Na+                13\n",
      "2018-04-23 08:00:17 PM WAT              3000\n"
     ]
    },
    {
     "name": "stdout",
     "output_type": "stream",
     "text": [
      "./OA-G6-3 p031\n"
     ]
    },
    {
     "name": "stderr",
     "output_type": "stream",
     "text": [
      "2018-04-23 08:00:21 PM Cl-                 4\n",
      "2018-04-23 08:00:21 PM DM1                 1\n",
      "2018-04-23 08:00:21 PM DM2                 1\n",
      "2018-04-23 08:00:21 PM DM3                 1\n",
      "2018-04-23 08:00:21 PM GST                 1\n",
      "2018-04-23 08:00:21 PM HST                 1\n",
      "2018-04-23 08:00:21 PM Na+                13\n",
      "2018-04-23 08:00:21 PM WAT              3000\n"
     ]
    },
    {
     "name": "stdout",
     "output_type": "stream",
     "text": [
      "./OA-G6-3 p032\n"
     ]
    },
    {
     "name": "stderr",
     "output_type": "stream",
     "text": [
      "2018-04-23 08:00:24 PM Cl-                 4\n",
      "2018-04-23 08:00:24 PM DM1                 1\n",
      "2018-04-23 08:00:24 PM DM2                 1\n",
      "2018-04-23 08:00:24 PM DM3                 1\n",
      "2018-04-23 08:00:24 PM GST                 1\n",
      "2018-04-23 08:00:24 PM HST                 1\n",
      "2018-04-23 08:00:24 PM Na+                13\n",
      "2018-04-23 08:00:24 PM WAT              3000\n"
     ]
    },
    {
     "name": "stdout",
     "output_type": "stream",
     "text": [
      "./OA-G6-3 p033\n"
     ]
    },
    {
     "name": "stderr",
     "output_type": "stream",
     "text": [
      "2018-04-23 08:00:27 PM Cl-                 4\n",
      "2018-04-23 08:00:27 PM DM1                 1\n",
      "2018-04-23 08:00:27 PM DM2                 1\n",
      "2018-04-23 08:00:27 PM DM3                 1\n",
      "2018-04-23 08:00:27 PM GST                 1\n",
      "2018-04-23 08:00:27 PM HST                 1\n",
      "2018-04-23 08:00:27 PM Na+                13\n",
      "2018-04-23 08:00:27 PM WAT              3000\n"
     ]
    },
    {
     "name": "stdout",
     "output_type": "stream",
     "text": [
      "./OA-G6-3 p034\n"
     ]
    },
    {
     "name": "stderr",
     "output_type": "stream",
     "text": [
      "2018-04-23 08:00:31 PM Cl-                 4\n",
      "2018-04-23 08:00:31 PM DM1                 1\n",
      "2018-04-23 08:00:31 PM DM2                 1\n",
      "2018-04-23 08:00:31 PM DM3                 1\n",
      "2018-04-23 08:00:31 PM GST                 1\n",
      "2018-04-23 08:00:31 PM HST                 1\n",
      "2018-04-23 08:00:31 PM Na+                13\n",
      "2018-04-23 08:00:31 PM WAT              3000\n"
     ]
    },
    {
     "name": "stdout",
     "output_type": "stream",
     "text": [
      "./OA-G6-3 p035\n"
     ]
    },
    {
     "name": "stderr",
     "output_type": "stream",
     "text": [
      "2018-04-23 08:00:34 PM Cl-                 4\n",
      "2018-04-23 08:00:34 PM DM1                 1\n",
      "2018-04-23 08:00:34 PM DM2                 1\n",
      "2018-04-23 08:00:34 PM DM3                 1\n",
      "2018-04-23 08:00:34 PM GST                 1\n",
      "2018-04-23 08:00:34 PM HST                 1\n",
      "2018-04-23 08:00:34 PM Na+                13\n",
      "2018-04-23 08:00:34 PM WAT              3000\n"
     ]
    },
    {
     "name": "stdout",
     "output_type": "stream",
     "text": [
      "./OA-G6-3 p036\n"
     ]
    },
    {
     "name": "stderr",
     "output_type": "stream",
     "text": [
      "2018-04-23 08:00:37 PM Cl-                 4\n",
      "2018-04-23 08:00:37 PM DM1                 1\n",
      "2018-04-23 08:00:37 PM DM2                 1\n",
      "2018-04-23 08:00:37 PM DM3                 1\n",
      "2018-04-23 08:00:37 PM GST                 1\n",
      "2018-04-23 08:00:37 PM HST                 1\n",
      "2018-04-23 08:00:37 PM Na+                13\n",
      "2018-04-23 08:00:37 PM WAT              3000\n"
     ]
    },
    {
     "name": "stdout",
     "output_type": "stream",
     "text": [
      "./OA-G6-3 p037\n"
     ]
    },
    {
     "name": "stderr",
     "output_type": "stream",
     "text": [
      "2018-04-23 08:00:40 PM Cl-                 4\n",
      "2018-04-23 08:00:40 PM DM1                 1\n",
      "2018-04-23 08:00:40 PM DM2                 1\n",
      "2018-04-23 08:00:40 PM DM3                 1\n",
      "2018-04-23 08:00:40 PM GST                 1\n",
      "2018-04-23 08:00:40 PM HST                 1\n",
      "2018-04-23 08:00:40 PM Na+                13\n",
      "2018-04-23 08:00:40 PM WAT              3000\n"
     ]
    },
    {
     "name": "stdout",
     "output_type": "stream",
     "text": [
      "./OA-G6-3 p038\n"
     ]
    },
    {
     "name": "stderr",
     "output_type": "stream",
     "text": [
      "2018-04-23 08:00:43 PM Cl-                 4\n",
      "2018-04-23 08:00:43 PM DM1                 1\n",
      "2018-04-23 08:00:43 PM DM2                 1\n",
      "2018-04-23 08:00:43 PM DM3                 1\n",
      "2018-04-23 08:00:43 PM GST                 1\n",
      "2018-04-23 08:00:43 PM HST                 1\n",
      "2018-04-23 08:00:43 PM Na+                13\n",
      "2018-04-23 08:00:43 PM WAT              3000\n"
     ]
    },
    {
     "name": "stdout",
     "output_type": "stream",
     "text": [
      "./OA-G6-3 p039\n"
     ]
    },
    {
     "name": "stderr",
     "output_type": "stream",
     "text": [
      "2018-04-23 08:00:46 PM Cl-                 4\n",
      "2018-04-23 08:00:46 PM DM1                 1\n",
      "2018-04-23 08:00:46 PM DM2                 1\n",
      "2018-04-23 08:00:46 PM DM3                 1\n",
      "2018-04-23 08:00:46 PM GST                 1\n",
      "2018-04-23 08:00:46 PM HST                 1\n",
      "2018-04-23 08:00:46 PM Na+                13\n",
      "2018-04-23 08:00:46 PM WAT              3000\n"
     ]
    },
    {
     "name": "stdout",
     "output_type": "stream",
     "text": [
      "./OA-G6-3 p040\n"
     ]
    },
    {
     "name": "stderr",
     "output_type": "stream",
     "text": [
      "2018-04-23 08:00:50 PM Cl-                 4\n",
      "2018-04-23 08:00:50 PM DM1                 1\n",
      "2018-04-23 08:00:50 PM DM2                 1\n",
      "2018-04-23 08:00:50 PM DM3                 1\n",
      "2018-04-23 08:00:50 PM GST                 1\n",
      "2018-04-23 08:00:50 PM HST                 1\n",
      "2018-04-23 08:00:50 PM Na+                13\n",
      "2018-04-23 08:00:50 PM WAT              3000\n"
     ]
    },
    {
     "name": "stdout",
     "output_type": "stream",
     "text": [
      "./OA-G6-3 p041\n"
     ]
    },
    {
     "name": "stderr",
     "output_type": "stream",
     "text": [
      "2018-04-23 08:00:54 PM Cl-                 4\n",
      "2018-04-23 08:00:54 PM DM1                 1\n",
      "2018-04-23 08:00:54 PM DM2                 1\n",
      "2018-04-23 08:00:54 PM DM3                 1\n",
      "2018-04-23 08:00:54 PM GST                 1\n",
      "2018-04-23 08:00:54 PM HST                 1\n",
      "2018-04-23 08:00:54 PM Na+                13\n",
      "2018-04-23 08:00:54 PM WAT              3000\n"
     ]
    },
    {
     "name": "stdout",
     "output_type": "stream",
     "text": [
      "./OA-G6-3 p042\n"
     ]
    },
    {
     "name": "stderr",
     "output_type": "stream",
     "text": [
      "2018-04-23 08:00:57 PM Cl-                 4\n",
      "2018-04-23 08:00:57 PM DM1                 1\n",
      "2018-04-23 08:00:57 PM DM2                 1\n",
      "2018-04-23 08:00:57 PM DM3                 1\n",
      "2018-04-23 08:00:57 PM GST                 1\n",
      "2018-04-23 08:00:57 PM HST                 1\n",
      "2018-04-23 08:00:57 PM Na+                13\n",
      "2018-04-23 08:00:57 PM WAT              3000\n"
     ]
    },
    {
     "name": "stdout",
     "output_type": "stream",
     "text": [
      "./OA-G6-3 p043\n"
     ]
    },
    {
     "name": "stderr",
     "output_type": "stream",
     "text": [
      "2018-04-23 08:00:59 PM Cl-                 4\n",
      "2018-04-23 08:00:59 PM DM1                 1\n",
      "2018-04-23 08:00:59 PM DM2                 1\n",
      "2018-04-23 08:00:59 PM DM3                 1\n",
      "2018-04-23 08:00:59 PM GST                 1\n",
      "2018-04-23 08:00:59 PM HST                 1\n",
      "2018-04-23 08:00:59 PM Na+                13\n",
      "2018-04-23 08:00:59 PM WAT              3000\n"
     ]
    },
    {
     "name": "stdout",
     "output_type": "stream",
     "text": [
      "./OA-G6-3 p044\n"
     ]
    },
    {
     "name": "stderr",
     "output_type": "stream",
     "text": [
      "2018-04-23 08:01:03 PM Cl-                 4\n",
      "2018-04-23 08:01:03 PM DM1                 1\n",
      "2018-04-23 08:01:03 PM DM2                 1\n",
      "2018-04-23 08:01:03 PM DM3                 1\n",
      "2018-04-23 08:01:03 PM GST                 1\n",
      "2018-04-23 08:01:03 PM HST                 1\n",
      "2018-04-23 08:01:03 PM Na+                13\n",
      "2018-04-23 08:01:03 PM WAT              3000\n"
     ]
    },
    {
     "name": "stdout",
     "output_type": "stream",
     "text": [
      "./OA-G6-3 p045\n"
     ]
    },
    {
     "name": "stderr",
     "output_type": "stream",
     "text": [
      "2018-04-23 08:01:06 PM Cl-                 4\n",
      "2018-04-23 08:01:06 PM DM1                 1\n",
      "2018-04-23 08:01:06 PM DM2                 1\n",
      "2018-04-23 08:01:06 PM DM3                 1\n",
      "2018-04-23 08:01:06 PM GST                 1\n",
      "2018-04-23 08:01:06 PM HST                 1\n",
      "2018-04-23 08:01:06 PM Na+                13\n",
      "2018-04-23 08:01:06 PM WAT              3000\n"
     ]
    },
    {
     "name": "stdout",
     "output_type": "stream",
     "text": [
      "./OA-G3-1 a000\n"
     ]
    },
    {
     "name": "stderr",
     "output_type": "stream",
     "text": [
      "2018-04-23 08:01:09 PM Cl-                 4\n",
      "2018-04-23 08:01:09 PM DM1                 1\n",
      "2018-04-23 08:01:09 PM DM2                 1\n",
      "2018-04-23 08:01:09 PM DM3                 1\n",
      "2018-04-23 08:01:09 PM GST                 1\n",
      "2018-04-23 08:01:09 PM HST                 1\n",
      "2018-04-23 08:01:09 PM Na+                13\n",
      "2018-04-23 08:01:09 PM WAT              3000\n"
     ]
    },
    {
     "name": "stdout",
     "output_type": "stream",
     "text": [
      "./OA-G3-1 a001\n"
     ]
    },
    {
     "name": "stderr",
     "output_type": "stream",
     "text": [
      "2018-04-23 08:01:12 PM Cl-                 4\n",
      "2018-04-23 08:01:12 PM DM1                 1\n",
      "2018-04-23 08:01:12 PM DM2                 1\n",
      "2018-04-23 08:01:12 PM DM3                 1\n",
      "2018-04-23 08:01:12 PM GST                 1\n",
      "2018-04-23 08:01:12 PM HST                 1\n",
      "2018-04-23 08:01:12 PM Na+                13\n",
      "2018-04-23 08:01:12 PM WAT              3000\n"
     ]
    },
    {
     "name": "stdout",
     "output_type": "stream",
     "text": [
      "./OA-G3-1 a002\n"
     ]
    },
    {
     "name": "stderr",
     "output_type": "stream",
     "text": [
      "2018-04-23 08:01:15 PM Cl-                 4\n",
      "2018-04-23 08:01:15 PM DM1                 1\n",
      "2018-04-23 08:01:15 PM DM2                 1\n",
      "2018-04-23 08:01:15 PM DM3                 1\n",
      "2018-04-23 08:01:15 PM GST                 1\n",
      "2018-04-23 08:01:15 PM HST                 1\n",
      "2018-04-23 08:01:15 PM Na+                13\n",
      "2018-04-23 08:01:15 PM WAT              3000\n"
     ]
    },
    {
     "name": "stdout",
     "output_type": "stream",
     "text": [
      "./OA-G3-1 a003\n"
     ]
    },
    {
     "name": "stderr",
     "output_type": "stream",
     "text": [
      "2018-04-23 08:01:18 PM Cl-                 4\n",
      "2018-04-23 08:01:18 PM DM1                 1\n",
      "2018-04-23 08:01:18 PM DM2                 1\n",
      "2018-04-23 08:01:18 PM DM3                 1\n",
      "2018-04-23 08:01:18 PM GST                 1\n",
      "2018-04-23 08:01:18 PM HST                 1\n",
      "2018-04-23 08:01:18 PM Na+                13\n",
      "2018-04-23 08:01:18 PM WAT              3000\n"
     ]
    },
    {
     "name": "stdout",
     "output_type": "stream",
     "text": [
      "./OA-G3-1 a004\n"
     ]
    },
    {
     "name": "stderr",
     "output_type": "stream",
     "text": [
      "2018-04-23 08:01:21 PM Cl-                 4\n",
      "2018-04-23 08:01:21 PM DM1                 1\n",
      "2018-04-23 08:01:21 PM DM2                 1\n",
      "2018-04-23 08:01:21 PM DM3                 1\n",
      "2018-04-23 08:01:21 PM GST                 1\n",
      "2018-04-23 08:01:21 PM HST                 1\n",
      "2018-04-23 08:01:21 PM Na+                13\n",
      "2018-04-23 08:01:21 PM WAT              3000\n"
     ]
    },
    {
     "name": "stdout",
     "output_type": "stream",
     "text": [
      "./OA-G3-1 a005\n"
     ]
    },
    {
     "name": "stderr",
     "output_type": "stream",
     "text": [
      "2018-04-23 08:01:24 PM Cl-                 4\n",
      "2018-04-23 08:01:24 PM DM1                 1\n",
      "2018-04-23 08:01:24 PM DM2                 1\n",
      "2018-04-23 08:01:24 PM DM3                 1\n",
      "2018-04-23 08:01:24 PM GST                 1\n",
      "2018-04-23 08:01:24 PM HST                 1\n",
      "2018-04-23 08:01:24 PM Na+                13\n",
      "2018-04-23 08:01:24 PM WAT              3000\n"
     ]
    },
    {
     "name": "stdout",
     "output_type": "stream",
     "text": [
      "./OA-G3-1 a006\n"
     ]
    },
    {
     "name": "stderr",
     "output_type": "stream",
     "text": [
      "2018-04-23 08:01:27 PM Cl-                 4\n",
      "2018-04-23 08:01:27 PM DM1                 1\n",
      "2018-04-23 08:01:27 PM DM2                 1\n",
      "2018-04-23 08:01:27 PM DM3                 1\n",
      "2018-04-23 08:01:27 PM GST                 1\n",
      "2018-04-23 08:01:27 PM HST                 1\n",
      "2018-04-23 08:01:27 PM Na+                13\n",
      "2018-04-23 08:01:27 PM WAT              3000\n"
     ]
    },
    {
     "name": "stdout",
     "output_type": "stream",
     "text": [
      "./OA-G3-1 a007\n"
     ]
    },
    {
     "name": "stderr",
     "output_type": "stream",
     "text": [
      "2018-04-23 08:01:30 PM Cl-                 4\n",
      "2018-04-23 08:01:30 PM DM1                 1\n",
      "2018-04-23 08:01:30 PM DM2                 1\n",
      "2018-04-23 08:01:30 PM DM3                 1\n",
      "2018-04-23 08:01:30 PM GST                 1\n",
      "2018-04-23 08:01:30 PM HST                 1\n",
      "2018-04-23 08:01:30 PM Na+                13\n",
      "2018-04-23 08:01:30 PM WAT              3000\n"
     ]
    },
    {
     "name": "stdout",
     "output_type": "stream",
     "text": [
      "./OA-G3-1 a008\n"
     ]
    },
    {
     "name": "stderr",
     "output_type": "stream",
     "text": [
      "2018-04-23 08:01:34 PM Cl-                 4\n",
      "2018-04-23 08:01:34 PM DM1                 1\n",
      "2018-04-23 08:01:34 PM DM2                 1\n",
      "2018-04-23 08:01:34 PM DM3                 1\n",
      "2018-04-23 08:01:34 PM GST                 1\n",
      "2018-04-23 08:01:34 PM HST                 1\n",
      "2018-04-23 08:01:34 PM Na+                13\n",
      "2018-04-23 08:01:34 PM WAT              3000\n"
     ]
    },
    {
     "name": "stdout",
     "output_type": "stream",
     "text": [
      "./OA-G3-1 a009\n"
     ]
    },
    {
     "name": "stderr",
     "output_type": "stream",
     "text": [
      "2018-04-23 08:01:37 PM Cl-                 4\n",
      "2018-04-23 08:01:37 PM DM1                 1\n",
      "2018-04-23 08:01:37 PM DM2                 1\n",
      "2018-04-23 08:01:37 PM DM3                 1\n",
      "2018-04-23 08:01:37 PM GST                 1\n",
      "2018-04-23 08:01:37 PM HST                 1\n",
      "2018-04-23 08:01:37 PM Na+                13\n",
      "2018-04-23 08:01:37 PM WAT              3000\n"
     ]
    },
    {
     "name": "stdout",
     "output_type": "stream",
     "text": [
      "./OA-G3-1 a010\n"
     ]
    },
    {
     "name": "stderr",
     "output_type": "stream",
     "text": [
      "2018-04-23 08:01:40 PM Cl-                 4\n",
      "2018-04-23 08:01:40 PM DM1                 1\n",
      "2018-04-23 08:01:40 PM DM2                 1\n",
      "2018-04-23 08:01:40 PM DM3                 1\n",
      "2018-04-23 08:01:40 PM GST                 1\n",
      "2018-04-23 08:01:40 PM HST                 1\n",
      "2018-04-23 08:01:40 PM Na+                13\n",
      "2018-04-23 08:01:40 PM WAT              3000\n"
     ]
    },
    {
     "name": "stdout",
     "output_type": "stream",
     "text": [
      "./OA-G3-1 a011\n"
     ]
    },
    {
     "name": "stderr",
     "output_type": "stream",
     "text": [
      "2018-04-23 08:01:43 PM Cl-                 4\n",
      "2018-04-23 08:01:43 PM DM1                 1\n",
      "2018-04-23 08:01:43 PM DM2                 1\n",
      "2018-04-23 08:01:43 PM DM3                 1\n",
      "2018-04-23 08:01:43 PM GST                 1\n",
      "2018-04-23 08:01:43 PM HST                 1\n",
      "2018-04-23 08:01:43 PM Na+                13\n",
      "2018-04-23 08:01:43 PM WAT              3000\n"
     ]
    },
    {
     "name": "stdout",
     "output_type": "stream",
     "text": [
      "./OA-G3-1 a012\n"
     ]
    },
    {
     "name": "stderr",
     "output_type": "stream",
     "text": [
      "2018-04-23 08:01:46 PM Cl-                 4\n",
      "2018-04-23 08:01:46 PM DM1                 1\n",
      "2018-04-23 08:01:46 PM DM2                 1\n",
      "2018-04-23 08:01:46 PM DM3                 1\n",
      "2018-04-23 08:01:46 PM GST                 1\n",
      "2018-04-23 08:01:46 PM HST                 1\n",
      "2018-04-23 08:01:46 PM Na+                13\n",
      "2018-04-23 08:01:46 PM WAT              3000\n"
     ]
    },
    {
     "name": "stdout",
     "output_type": "stream",
     "text": [
      "./OA-G3-1 a013\n"
     ]
    },
    {
     "name": "stderr",
     "output_type": "stream",
     "text": [
      "2018-04-23 08:01:49 PM Cl-                 4\n",
      "2018-04-23 08:01:49 PM DM1                 1\n",
      "2018-04-23 08:01:49 PM DM2                 1\n",
      "2018-04-23 08:01:49 PM DM3                 1\n",
      "2018-04-23 08:01:49 PM GST                 1\n",
      "2018-04-23 08:01:49 PM HST                 1\n",
      "2018-04-23 08:01:49 PM Na+                13\n",
      "2018-04-23 08:01:49 PM WAT              3000\n"
     ]
    },
    {
     "name": "stdout",
     "output_type": "stream",
     "text": [
      "./OA-G3-1 p000\n"
     ]
    },
    {
     "name": "stderr",
     "output_type": "stream",
     "text": [
      "2018-04-23 08:01:52 PM Cl-                 4\n",
      "2018-04-23 08:01:52 PM DM1                 1\n",
      "2018-04-23 08:01:52 PM DM2                 1\n",
      "2018-04-23 08:01:52 PM DM3                 1\n",
      "2018-04-23 08:01:52 PM GST                 1\n",
      "2018-04-23 08:01:52 PM HST                 1\n",
      "2018-04-23 08:01:52 PM Na+                13\n",
      "2018-04-23 08:01:52 PM WAT              3000\n"
     ]
    },
    {
     "name": "stdout",
     "output_type": "stream",
     "text": [
      "./OA-G3-1 p001\n"
     ]
    },
    {
     "name": "stderr",
     "output_type": "stream",
     "text": [
      "2018-04-23 08:01:55 PM Cl-                 4\n",
      "2018-04-23 08:01:55 PM DM1                 1\n",
      "2018-04-23 08:01:55 PM DM2                 1\n",
      "2018-04-23 08:01:55 PM DM3                 1\n",
      "2018-04-23 08:01:55 PM GST                 1\n",
      "2018-04-23 08:01:55 PM HST                 1\n",
      "2018-04-23 08:01:55 PM Na+                13\n",
      "2018-04-23 08:01:55 PM WAT              3000\n"
     ]
    },
    {
     "name": "stdout",
     "output_type": "stream",
     "text": [
      "./OA-G3-1 p002\n"
     ]
    },
    {
     "name": "stderr",
     "output_type": "stream",
     "text": [
      "2018-04-23 08:01:59 PM Cl-                 4\n",
      "2018-04-23 08:01:59 PM DM1                 1\n",
      "2018-04-23 08:01:59 PM DM2                 1\n",
      "2018-04-23 08:01:59 PM DM3                 1\n",
      "2018-04-23 08:01:59 PM GST                 1\n",
      "2018-04-23 08:01:59 PM HST                 1\n",
      "2018-04-23 08:01:59 PM Na+                13\n",
      "2018-04-23 08:01:59 PM WAT              3000\n"
     ]
    },
    {
     "name": "stdout",
     "output_type": "stream",
     "text": [
      "./OA-G3-1 p003\n"
     ]
    },
    {
     "name": "stderr",
     "output_type": "stream",
     "text": [
      "2018-04-23 08:02:02 PM Cl-                 4\n",
      "2018-04-23 08:02:02 PM DM1                 1\n",
      "2018-04-23 08:02:02 PM DM2                 1\n",
      "2018-04-23 08:02:02 PM DM3                 1\n",
      "2018-04-23 08:02:02 PM GST                 1\n",
      "2018-04-23 08:02:02 PM HST                 1\n",
      "2018-04-23 08:02:02 PM Na+                13\n",
      "2018-04-23 08:02:02 PM WAT              3000\n"
     ]
    },
    {
     "name": "stdout",
     "output_type": "stream",
     "text": [
      "./OA-G3-1 p004\n"
     ]
    },
    {
     "name": "stderr",
     "output_type": "stream",
     "text": [
      "2018-04-23 08:02:05 PM Cl-                 4\n",
      "2018-04-23 08:02:05 PM DM1                 1\n",
      "2018-04-23 08:02:05 PM DM2                 1\n",
      "2018-04-23 08:02:05 PM DM3                 1\n",
      "2018-04-23 08:02:05 PM GST                 1\n",
      "2018-04-23 08:02:05 PM HST                 1\n",
      "2018-04-23 08:02:05 PM Na+                13\n",
      "2018-04-23 08:02:05 PM WAT              3000\n"
     ]
    },
    {
     "name": "stdout",
     "output_type": "stream",
     "text": [
      "./OA-G3-1 p005\n"
     ]
    },
    {
     "name": "stderr",
     "output_type": "stream",
     "text": [
      "2018-04-23 08:02:08 PM Cl-                 4\n",
      "2018-04-23 08:02:08 PM DM1                 1\n",
      "2018-04-23 08:02:08 PM DM2                 1\n",
      "2018-04-23 08:02:08 PM DM3                 1\n",
      "2018-04-23 08:02:08 PM GST                 1\n",
      "2018-04-23 08:02:08 PM HST                 1\n",
      "2018-04-23 08:02:08 PM Na+                13\n",
      "2018-04-23 08:02:08 PM WAT              3000\n"
     ]
    },
    {
     "name": "stdout",
     "output_type": "stream",
     "text": [
      "./OA-G3-1 p006\n"
     ]
    },
    {
     "name": "stderr",
     "output_type": "stream",
     "text": [
      "2018-04-23 08:02:11 PM Cl-                 4\n",
      "2018-04-23 08:02:11 PM DM1                 1\n",
      "2018-04-23 08:02:11 PM DM2                 1\n",
      "2018-04-23 08:02:11 PM DM3                 1\n",
      "2018-04-23 08:02:11 PM GST                 1\n",
      "2018-04-23 08:02:11 PM HST                 1\n",
      "2018-04-23 08:02:11 PM Na+                13\n",
      "2018-04-23 08:02:11 PM WAT              3000\n"
     ]
    },
    {
     "name": "stdout",
     "output_type": "stream",
     "text": [
      "./OA-G3-1 p007\n"
     ]
    },
    {
     "name": "stderr",
     "output_type": "stream",
     "text": [
      "2018-04-23 08:02:15 PM Cl-                 4\n",
      "2018-04-23 08:02:15 PM DM1                 1\n",
      "2018-04-23 08:02:15 PM DM2                 1\n",
      "2018-04-23 08:02:15 PM DM3                 1\n",
      "2018-04-23 08:02:15 PM GST                 1\n",
      "2018-04-23 08:02:15 PM HST                 1\n",
      "2018-04-23 08:02:15 PM Na+                13\n",
      "2018-04-23 08:02:15 PM WAT              3000\n"
     ]
    },
    {
     "name": "stdout",
     "output_type": "stream",
     "text": [
      "./OA-G3-1 p008\n"
     ]
    },
    {
     "name": "stderr",
     "output_type": "stream",
     "text": [
      "2018-04-23 08:02:17 PM Cl-                 4\n",
      "2018-04-23 08:02:17 PM DM1                 1\n",
      "2018-04-23 08:02:17 PM DM2                 1\n",
      "2018-04-23 08:02:17 PM DM3                 1\n",
      "2018-04-23 08:02:17 PM GST                 1\n",
      "2018-04-23 08:02:17 PM HST                 1\n",
      "2018-04-23 08:02:17 PM Na+                13\n",
      "2018-04-23 08:02:17 PM WAT              3000\n"
     ]
    },
    {
     "name": "stdout",
     "output_type": "stream",
     "text": [
      "./OA-G3-1 p009\n"
     ]
    },
    {
     "name": "stderr",
     "output_type": "stream",
     "text": [
      "2018-04-23 08:02:20 PM Cl-                 4\n",
      "2018-04-23 08:02:20 PM DM1                 1\n",
      "2018-04-23 08:02:20 PM DM2                 1\n",
      "2018-04-23 08:02:20 PM DM3                 1\n",
      "2018-04-23 08:02:20 PM GST                 1\n",
      "2018-04-23 08:02:20 PM HST                 1\n",
      "2018-04-23 08:02:20 PM Na+                13\n",
      "2018-04-23 08:02:20 PM WAT              3000\n"
     ]
    },
    {
     "name": "stdout",
     "output_type": "stream",
     "text": [
      "./OA-G3-1 p010\n"
     ]
    },
    {
     "name": "stderr",
     "output_type": "stream",
     "text": [
      "2018-04-23 08:02:23 PM Cl-                 4\n",
      "2018-04-23 08:02:23 PM DM1                 1\n",
      "2018-04-23 08:02:23 PM DM2                 1\n",
      "2018-04-23 08:02:23 PM DM3                 1\n",
      "2018-04-23 08:02:23 PM GST                 1\n",
      "2018-04-23 08:02:23 PM HST                 1\n",
      "2018-04-23 08:02:23 PM Na+                13\n",
      "2018-04-23 08:02:23 PM WAT              3000\n"
     ]
    },
    {
     "name": "stdout",
     "output_type": "stream",
     "text": [
      "./OA-G3-1 p011\n"
     ]
    },
    {
     "name": "stderr",
     "output_type": "stream",
     "text": [
      "2018-04-23 08:02:26 PM Cl-                 4\n",
      "2018-04-23 08:02:26 PM DM1                 1\n",
      "2018-04-23 08:02:26 PM DM2                 1\n",
      "2018-04-23 08:02:26 PM DM3                 1\n",
      "2018-04-23 08:02:26 PM GST                 1\n",
      "2018-04-23 08:02:26 PM HST                 1\n",
      "2018-04-23 08:02:26 PM Na+                13\n",
      "2018-04-23 08:02:26 PM WAT              3000\n"
     ]
    },
    {
     "name": "stdout",
     "output_type": "stream",
     "text": [
      "./OA-G3-1 p012\n"
     ]
    },
    {
     "name": "stderr",
     "output_type": "stream",
     "text": [
      "2018-04-23 08:02:30 PM Cl-                 4\n",
      "2018-04-23 08:02:30 PM DM1                 1\n",
      "2018-04-23 08:02:30 PM DM2                 1\n",
      "2018-04-23 08:02:30 PM DM3                 1\n",
      "2018-04-23 08:02:30 PM GST                 1\n",
      "2018-04-23 08:02:30 PM HST                 1\n",
      "2018-04-23 08:02:30 PM Na+                13\n",
      "2018-04-23 08:02:30 PM WAT              3000\n"
     ]
    },
    {
     "name": "stdout",
     "output_type": "stream",
     "text": [
      "./OA-G3-1 p013\n"
     ]
    },
    {
     "name": "stderr",
     "output_type": "stream",
     "text": [
      "2018-04-23 08:02:32 PM Cl-                 4\n",
      "2018-04-23 08:02:32 PM DM1                 1\n",
      "2018-04-23 08:02:32 PM DM2                 1\n",
      "2018-04-23 08:02:32 PM DM3                 1\n",
      "2018-04-23 08:02:32 PM GST                 1\n",
      "2018-04-23 08:02:32 PM HST                 1\n",
      "2018-04-23 08:02:32 PM Na+                13\n",
      "2018-04-23 08:02:32 PM WAT              3000\n"
     ]
    },
    {
     "name": "stdout",
     "output_type": "stream",
     "text": [
      "./OA-G3-1 p014\n"
     ]
    },
    {
     "name": "stderr",
     "output_type": "stream",
     "text": [
      "2018-04-23 08:02:38 PM Cl-                 4\n",
      "2018-04-23 08:02:38 PM DM1                 1\n",
      "2018-04-23 08:02:38 PM DM2                 1\n",
      "2018-04-23 08:02:38 PM DM3                 1\n",
      "2018-04-23 08:02:38 PM GST                 1\n",
      "2018-04-23 08:02:38 PM HST                 1\n",
      "2018-04-23 08:02:38 PM Na+                13\n",
      "2018-04-23 08:02:38 PM WAT              3000\n"
     ]
    },
    {
     "name": "stdout",
     "output_type": "stream",
     "text": [
      "./OA-G3-1 p015\n"
     ]
    },
    {
     "name": "stderr",
     "output_type": "stream",
     "text": [
      "2018-04-23 08:02:41 PM Cl-                 4\n",
      "2018-04-23 08:02:41 PM DM1                 1\n",
      "2018-04-23 08:02:41 PM DM2                 1\n",
      "2018-04-23 08:02:41 PM DM3                 1\n",
      "2018-04-23 08:02:41 PM GST                 1\n",
      "2018-04-23 08:02:41 PM HST                 1\n",
      "2018-04-23 08:02:41 PM Na+                13\n",
      "2018-04-23 08:02:41 PM WAT              3000\n"
     ]
    },
    {
     "name": "stdout",
     "output_type": "stream",
     "text": [
      "./OA-G3-1 p016\n"
     ]
    },
    {
     "name": "stderr",
     "output_type": "stream",
     "text": [
      "2018-04-23 08:02:44 PM Cl-                 4\n",
      "2018-04-23 08:02:44 PM DM1                 1\n",
      "2018-04-23 08:02:44 PM DM2                 1\n",
      "2018-04-23 08:02:44 PM DM3                 1\n",
      "2018-04-23 08:02:44 PM GST                 1\n",
      "2018-04-23 08:02:44 PM HST                 1\n",
      "2018-04-23 08:02:44 PM Na+                13\n",
      "2018-04-23 08:02:44 PM WAT              3000\n"
     ]
    },
    {
     "name": "stdout",
     "output_type": "stream",
     "text": [
      "./OA-G3-1 p017\n"
     ]
    },
    {
     "name": "stderr",
     "output_type": "stream",
     "text": [
      "2018-04-23 08:02:47 PM Cl-                 4\n",
      "2018-04-23 08:02:47 PM DM1                 1\n",
      "2018-04-23 08:02:47 PM DM2                 1\n",
      "2018-04-23 08:02:47 PM DM3                 1\n",
      "2018-04-23 08:02:47 PM GST                 1\n",
      "2018-04-23 08:02:47 PM HST                 1\n",
      "2018-04-23 08:02:47 PM Na+                13\n",
      "2018-04-23 08:02:47 PM WAT              3000\n"
     ]
    },
    {
     "name": "stdout",
     "output_type": "stream",
     "text": [
      "./OA-G3-1 p018\n"
     ]
    },
    {
     "name": "stderr",
     "output_type": "stream",
     "text": [
      "2018-04-23 08:02:51 PM Cl-                 4\n",
      "2018-04-23 08:02:51 PM DM1                 1\n",
      "2018-04-23 08:02:51 PM DM2                 1\n",
      "2018-04-23 08:02:51 PM DM3                 1\n",
      "2018-04-23 08:02:51 PM GST                 1\n",
      "2018-04-23 08:02:51 PM HST                 1\n",
      "2018-04-23 08:02:51 PM Na+                13\n",
      "2018-04-23 08:02:51 PM WAT              3000\n"
     ]
    },
    {
     "name": "stdout",
     "output_type": "stream",
     "text": [
      "./OA-G3-1 p019\n"
     ]
    },
    {
     "name": "stderr",
     "output_type": "stream",
     "text": [
      "2018-04-23 08:02:54 PM Cl-                 4\n",
      "2018-04-23 08:02:54 PM DM1                 1\n",
      "2018-04-23 08:02:54 PM DM2                 1\n",
      "2018-04-23 08:02:54 PM DM3                 1\n",
      "2018-04-23 08:02:54 PM GST                 1\n",
      "2018-04-23 08:02:54 PM HST                 1\n",
      "2018-04-23 08:02:54 PM Na+                13\n",
      "2018-04-23 08:02:54 PM WAT              3000\n"
     ]
    },
    {
     "name": "stdout",
     "output_type": "stream",
     "text": [
      "./OA-G3-1 p020\n"
     ]
    },
    {
     "name": "stderr",
     "output_type": "stream",
     "text": [
      "2018-04-23 08:02:58 PM Cl-                 4\n",
      "2018-04-23 08:02:58 PM DM1                 1\n",
      "2018-04-23 08:02:58 PM DM2                 1\n",
      "2018-04-23 08:02:58 PM DM3                 1\n",
      "2018-04-23 08:02:58 PM GST                 1\n",
      "2018-04-23 08:02:58 PM HST                 1\n",
      "2018-04-23 08:02:58 PM Na+                13\n",
      "2018-04-23 08:02:58 PM WAT              3001\n",
      "2018-04-23 08:02:58 PM The final solvation step added the wrong number of waters. Repeating ...\n",
      "2018-04-23 08:02:58 PM Cl-                 4\n",
      "2018-04-23 08:02:58 PM DM1                 1\n",
      "2018-04-23 08:02:58 PM DM2                 1\n",
      "2018-04-23 08:02:58 PM DM3                 1\n",
      "2018-04-23 08:02:58 PM GST                 1\n",
      "2018-04-23 08:02:58 PM HST                 1\n",
      "2018-04-23 08:02:58 PM Na+                13\n",
      "2018-04-23 08:02:58 PM WAT              3001\n",
      "2018-04-23 08:02:58 PM The final solvation step added the wrong number of waters. Repeating ...\n",
      "2018-04-23 08:02:58 PM Cl-                 4\n",
      "2018-04-23 08:02:58 PM DM1                 1\n",
      "2018-04-23 08:02:58 PM DM2                 1\n",
      "2018-04-23 08:02:58 PM DM3                 1\n",
      "2018-04-23 08:02:58 PM GST                 1\n",
      "2018-04-23 08:02:58 PM HST                 1\n",
      "2018-04-23 08:02:58 PM Na+                13\n",
      "2018-04-23 08:02:58 PM WAT              3001\n",
      "2018-04-23 08:02:58 PM The final solvation step added the wrong number of waters. Repeating ...\n",
      "2018-04-23 08:02:59 PM Cl-                 4\n",
      "2018-04-23 08:02:59 PM DM1                 1\n",
      "2018-04-23 08:02:59 PM DM2                 1\n",
      "2018-04-23 08:02:59 PM DM3                 1\n",
      "2018-04-23 08:02:59 PM GST                 1\n",
      "2018-04-23 08:02:59 PM HST                 1\n",
      "2018-04-23 08:02:59 PM Na+                13\n",
      "2018-04-23 08:02:59 PM WAT              3000\n"
     ]
    },
    {
     "name": "stdout",
     "output_type": "stream",
     "text": [
      "./OA-G3-1 p021\n"
     ]
    },
    {
     "name": "stderr",
     "output_type": "stream",
     "text": [
      "2018-04-23 08:03:02 PM Cl-                 4\n",
      "2018-04-23 08:03:02 PM DM1                 1\n",
      "2018-04-23 08:03:02 PM DM2                 1\n",
      "2018-04-23 08:03:02 PM DM3                 1\n",
      "2018-04-23 08:03:02 PM GST                 1\n",
      "2018-04-23 08:03:02 PM HST                 1\n",
      "2018-04-23 08:03:02 PM Na+                13\n",
      "2018-04-23 08:03:02 PM WAT              3000\n"
     ]
    },
    {
     "name": "stdout",
     "output_type": "stream",
     "text": [
      "./OA-G3-1 p022\n"
     ]
    },
    {
     "name": "stderr",
     "output_type": "stream",
     "text": [
      "2018-04-23 08:03:06 PM Cl-                 4\n",
      "2018-04-23 08:03:06 PM DM1                 1\n",
      "2018-04-23 08:03:06 PM DM2                 1\n",
      "2018-04-23 08:03:06 PM DM3                 1\n",
      "2018-04-23 08:03:06 PM GST                 1\n",
      "2018-04-23 08:03:06 PM HST                 1\n",
      "2018-04-23 08:03:06 PM Na+                13\n",
      "2018-04-23 08:03:06 PM WAT              3000\n"
     ]
    },
    {
     "name": "stdout",
     "output_type": "stream",
     "text": [
      "./OA-G3-1 p023\n"
     ]
    },
    {
     "name": "stderr",
     "output_type": "stream",
     "text": [
      "2018-04-23 08:03:10 PM Cl-                 4\n",
      "2018-04-23 08:03:10 PM DM1                 1\n",
      "2018-04-23 08:03:10 PM DM2                 1\n",
      "2018-04-23 08:03:10 PM DM3                 1\n",
      "2018-04-23 08:03:10 PM GST                 1\n",
      "2018-04-23 08:03:10 PM HST                 1\n",
      "2018-04-23 08:03:10 PM Na+                13\n",
      "2018-04-23 08:03:10 PM WAT              3000\n"
     ]
    },
    {
     "name": "stdout",
     "output_type": "stream",
     "text": [
      "./OA-G3-1 p024\n"
     ]
    },
    {
     "name": "stderr",
     "output_type": "stream",
     "text": [
      "2018-04-23 08:03:13 PM Cl-                 4\n",
      "2018-04-23 08:03:13 PM DM1                 1\n",
      "2018-04-23 08:03:13 PM DM2                 1\n",
      "2018-04-23 08:03:13 PM DM3                 1\n",
      "2018-04-23 08:03:13 PM GST                 1\n",
      "2018-04-23 08:03:13 PM HST                 1\n",
      "2018-04-23 08:03:13 PM Na+                13\n",
      "2018-04-23 08:03:13 PM WAT              3000\n"
     ]
    },
    {
     "name": "stdout",
     "output_type": "stream",
     "text": [
      "./OA-G3-1 p025\n"
     ]
    },
    {
     "name": "stderr",
     "output_type": "stream",
     "text": [
      "2018-04-23 08:03:16 PM Cl-                 4\n",
      "2018-04-23 08:03:16 PM DM1                 1\n",
      "2018-04-23 08:03:16 PM DM2                 1\n",
      "2018-04-23 08:03:16 PM DM3                 1\n",
      "2018-04-23 08:03:16 PM GST                 1\n",
      "2018-04-23 08:03:16 PM HST                 1\n",
      "2018-04-23 08:03:16 PM Na+                13\n",
      "2018-04-23 08:03:16 PM WAT              3000\n"
     ]
    },
    {
     "name": "stdout",
     "output_type": "stream",
     "text": [
      "./OA-G3-1 p026\n"
     ]
    },
    {
     "name": "stderr",
     "output_type": "stream",
     "text": [
      "2018-04-23 08:03:20 PM Cl-                 4\n",
      "2018-04-23 08:03:20 PM DM1                 1\n",
      "2018-04-23 08:03:20 PM DM2                 1\n",
      "2018-04-23 08:03:20 PM DM3                 1\n",
      "2018-04-23 08:03:20 PM GST                 1\n",
      "2018-04-23 08:03:20 PM HST                 1\n",
      "2018-04-23 08:03:20 PM Na+                13\n",
      "2018-04-23 08:03:20 PM WAT              3000\n"
     ]
    },
    {
     "name": "stdout",
     "output_type": "stream",
     "text": [
      "./OA-G3-1 p027\n"
     ]
    },
    {
     "name": "stderr",
     "output_type": "stream",
     "text": [
      "2018-04-23 08:03:22 PM Cl-                 4\n",
      "2018-04-23 08:03:22 PM DM1                 1\n",
      "2018-04-23 08:03:22 PM DM2                 1\n",
      "2018-04-23 08:03:22 PM DM3                 1\n",
      "2018-04-23 08:03:22 PM GST                 1\n",
      "2018-04-23 08:03:22 PM HST                 1\n",
      "2018-04-23 08:03:22 PM Na+                13\n",
      "2018-04-23 08:03:22 PM WAT              3000\n"
     ]
    },
    {
     "name": "stdout",
     "output_type": "stream",
     "text": [
      "./OA-G3-1 p028\n"
     ]
    },
    {
     "name": "stderr",
     "output_type": "stream",
     "text": [
      "2018-04-23 08:03:26 PM Cl-                 4\n",
      "2018-04-23 08:03:26 PM DM1                 1\n",
      "2018-04-23 08:03:26 PM DM2                 1\n",
      "2018-04-23 08:03:26 PM DM3                 1\n",
      "2018-04-23 08:03:26 PM GST                 1\n",
      "2018-04-23 08:03:26 PM HST                 1\n",
      "2018-04-23 08:03:26 PM Na+                13\n",
      "2018-04-23 08:03:26 PM WAT              3000\n"
     ]
    },
    {
     "name": "stdout",
     "output_type": "stream",
     "text": [
      "./OA-G3-1 p029\n"
     ]
    },
    {
     "name": "stderr",
     "output_type": "stream",
     "text": [
      "2018-04-23 08:03:30 PM Cl-                 4\n",
      "2018-04-23 08:03:30 PM DM1                 1\n",
      "2018-04-23 08:03:30 PM DM2                 1\n",
      "2018-04-23 08:03:30 PM DM3                 1\n",
      "2018-04-23 08:03:30 PM GST                 1\n",
      "2018-04-23 08:03:30 PM HST                 1\n",
      "2018-04-23 08:03:30 PM Na+                13\n",
      "2018-04-23 08:03:30 PM WAT              3000\n"
     ]
    },
    {
     "name": "stdout",
     "output_type": "stream",
     "text": [
      "./OA-G3-1 p030\n"
     ]
    },
    {
     "name": "stderr",
     "output_type": "stream",
     "text": [
      "2018-04-23 08:03:33 PM Cl-                 4\n",
      "2018-04-23 08:03:33 PM DM1                 1\n",
      "2018-04-23 08:03:33 PM DM2                 1\n",
      "2018-04-23 08:03:33 PM DM3                 1\n",
      "2018-04-23 08:03:33 PM GST                 1\n",
      "2018-04-23 08:03:33 PM HST                 1\n",
      "2018-04-23 08:03:33 PM Na+                13\n",
      "2018-04-23 08:03:33 PM WAT              3000\n"
     ]
    },
    {
     "name": "stdout",
     "output_type": "stream",
     "text": [
      "./OA-G3-1 p031\n"
     ]
    },
    {
     "name": "stderr",
     "output_type": "stream",
     "text": [
      "2018-04-23 08:03:37 PM Cl-                 4\n",
      "2018-04-23 08:03:37 PM DM1                 1\n",
      "2018-04-23 08:03:37 PM DM2                 1\n",
      "2018-04-23 08:03:37 PM DM3                 1\n",
      "2018-04-23 08:03:37 PM GST                 1\n",
      "2018-04-23 08:03:37 PM HST                 1\n",
      "2018-04-23 08:03:37 PM Na+                13\n",
      "2018-04-23 08:03:37 PM WAT              3000\n"
     ]
    },
    {
     "name": "stdout",
     "output_type": "stream",
     "text": [
      "./OA-G3-1 p032\n"
     ]
    },
    {
     "name": "stderr",
     "output_type": "stream",
     "text": [
      "2018-04-23 08:03:39 PM Cl-                 4\n",
      "2018-04-23 08:03:39 PM DM1                 1\n",
      "2018-04-23 08:03:39 PM DM2                 1\n",
      "2018-04-23 08:03:39 PM DM3                 1\n",
      "2018-04-23 08:03:39 PM GST                 1\n",
      "2018-04-23 08:03:39 PM HST                 1\n",
      "2018-04-23 08:03:39 PM Na+                13\n",
      "2018-04-23 08:03:39 PM WAT              3000\n"
     ]
    },
    {
     "name": "stdout",
     "output_type": "stream",
     "text": [
      "./OA-G3-1 p033\n"
     ]
    },
    {
     "name": "stderr",
     "output_type": "stream",
     "text": [
      "2018-04-23 08:03:44 PM Cl-                 4\n",
      "2018-04-23 08:03:44 PM DM1                 1\n",
      "2018-04-23 08:03:44 PM DM2                 1\n",
      "2018-04-23 08:03:44 PM DM3                 1\n",
      "2018-04-23 08:03:44 PM GST                 1\n",
      "2018-04-23 08:03:44 PM HST                 1\n",
      "2018-04-23 08:03:44 PM Na+                13\n",
      "2018-04-23 08:03:44 PM WAT              3000\n"
     ]
    },
    {
     "name": "stdout",
     "output_type": "stream",
     "text": [
      "./OA-G3-1 p034\n"
     ]
    },
    {
     "name": "stderr",
     "output_type": "stream",
     "text": [
      "2018-04-23 08:03:48 PM Cl-                 4\n",
      "2018-04-23 08:03:48 PM DM1                 1\n",
      "2018-04-23 08:03:48 PM DM2                 1\n",
      "2018-04-23 08:03:48 PM DM3                 1\n",
      "2018-04-23 08:03:48 PM GST                 1\n",
      "2018-04-23 08:03:48 PM HST                 1\n",
      "2018-04-23 08:03:48 PM Na+                13\n",
      "2018-04-23 08:03:48 PM WAT              3000\n"
     ]
    },
    {
     "name": "stdout",
     "output_type": "stream",
     "text": [
      "./OA-G3-1 p035\n"
     ]
    },
    {
     "name": "stderr",
     "output_type": "stream",
     "text": [
      "2018-04-23 08:03:51 PM Cl-                 4\n",
      "2018-04-23 08:03:51 PM DM1                 1\n",
      "2018-04-23 08:03:51 PM DM2                 1\n",
      "2018-04-23 08:03:51 PM DM3                 1\n",
      "2018-04-23 08:03:51 PM GST                 1\n",
      "2018-04-23 08:03:51 PM HST                 1\n",
      "2018-04-23 08:03:51 PM Na+                13\n",
      "2018-04-23 08:03:51 PM WAT              3000\n"
     ]
    },
    {
     "name": "stdout",
     "output_type": "stream",
     "text": [
      "./OA-G3-1 p036\n"
     ]
    },
    {
     "name": "stderr",
     "output_type": "stream",
     "text": [
      "2018-04-23 08:03:55 PM Cl-                 4\n",
      "2018-04-23 08:03:55 PM DM1                 1\n",
      "2018-04-23 08:03:55 PM DM2                 1\n",
      "2018-04-23 08:03:55 PM DM3                 1\n",
      "2018-04-23 08:03:55 PM GST                 1\n",
      "2018-04-23 08:03:55 PM HST                 1\n",
      "2018-04-23 08:03:55 PM Na+                13\n",
      "2018-04-23 08:03:55 PM WAT              3000\n"
     ]
    },
    {
     "name": "stdout",
     "output_type": "stream",
     "text": [
      "./OA-G3-1 p037\n"
     ]
    },
    {
     "name": "stderr",
     "output_type": "stream",
     "text": [
      "2018-04-23 08:03:58 PM Cl-                 4\n",
      "2018-04-23 08:03:58 PM DM1                 1\n",
      "2018-04-23 08:03:58 PM DM2                 1\n",
      "2018-04-23 08:03:58 PM DM3                 1\n",
      "2018-04-23 08:03:58 PM GST                 1\n",
      "2018-04-23 08:03:58 PM HST                 1\n",
      "2018-04-23 08:03:58 PM Na+                13\n",
      "2018-04-23 08:03:58 PM WAT              3000\n"
     ]
    },
    {
     "name": "stdout",
     "output_type": "stream",
     "text": [
      "./OA-G3-1 p038\n"
     ]
    },
    {
     "name": "stderr",
     "output_type": "stream",
     "text": [
      "2018-04-23 08:04:02 PM Cl-                 4\n",
      "2018-04-23 08:04:02 PM DM1                 1\n",
      "2018-04-23 08:04:02 PM DM2                 1\n",
      "2018-04-23 08:04:02 PM DM3                 1\n",
      "2018-04-23 08:04:02 PM GST                 1\n",
      "2018-04-23 08:04:02 PM HST                 1\n",
      "2018-04-23 08:04:02 PM Na+                13\n",
      "2018-04-23 08:04:02 PM WAT              3000\n"
     ]
    },
    {
     "name": "stdout",
     "output_type": "stream",
     "text": [
      "./OA-G3-1 p039\n"
     ]
    },
    {
     "name": "stderr",
     "output_type": "stream",
     "text": [
      "2018-04-23 08:04:06 PM Cl-                 4\n",
      "2018-04-23 08:04:06 PM DM1                 1\n",
      "2018-04-23 08:04:06 PM DM2                 1\n",
      "2018-04-23 08:04:06 PM DM3                 1\n",
      "2018-04-23 08:04:06 PM GST                 1\n",
      "2018-04-23 08:04:06 PM HST                 1\n",
      "2018-04-23 08:04:06 PM Na+                13\n",
      "2018-04-23 08:04:06 PM WAT              3000\n"
     ]
    },
    {
     "name": "stdout",
     "output_type": "stream",
     "text": [
      "./OA-G3-1 p040\n"
     ]
    },
    {
     "name": "stderr",
     "output_type": "stream",
     "text": [
      "2018-04-23 08:04:10 PM Cl-                 4\n",
      "2018-04-23 08:04:10 PM DM1                 1\n",
      "2018-04-23 08:04:10 PM DM2                 1\n",
      "2018-04-23 08:04:10 PM DM3                 1\n",
      "2018-04-23 08:04:10 PM GST                 1\n",
      "2018-04-23 08:04:10 PM HST                 1\n",
      "2018-04-23 08:04:10 PM Na+                13\n",
      "2018-04-23 08:04:10 PM WAT              3000\n"
     ]
    },
    {
     "name": "stdout",
     "output_type": "stream",
     "text": [
      "./OA-G3-1 p041\n"
     ]
    },
    {
     "name": "stderr",
     "output_type": "stream",
     "text": [
      "2018-04-23 08:04:13 PM Cl-                 4\n",
      "2018-04-23 08:04:13 PM DM1                 1\n",
      "2018-04-23 08:04:13 PM DM2                 1\n",
      "2018-04-23 08:04:13 PM DM3                 1\n",
      "2018-04-23 08:04:13 PM GST                 1\n",
      "2018-04-23 08:04:13 PM HST                 1\n",
      "2018-04-23 08:04:13 PM Na+                13\n",
      "2018-04-23 08:04:13 PM WAT              3000\n"
     ]
    },
    {
     "name": "stdout",
     "output_type": "stream",
     "text": [
      "./OA-G3-1 p042\n"
     ]
    },
    {
     "name": "stderr",
     "output_type": "stream",
     "text": [
      "2018-04-23 08:04:17 PM Cl-                 4\n",
      "2018-04-23 08:04:17 PM DM1                 1\n",
      "2018-04-23 08:04:17 PM DM2                 1\n",
      "2018-04-23 08:04:17 PM DM3                 1\n",
      "2018-04-23 08:04:17 PM GST                 1\n",
      "2018-04-23 08:04:17 PM HST                 1\n",
      "2018-04-23 08:04:17 PM Na+                13\n",
      "2018-04-23 08:04:17 PM WAT              3000\n"
     ]
    },
    {
     "name": "stdout",
     "output_type": "stream",
     "text": [
      "./OA-G3-1 p043\n"
     ]
    },
    {
     "name": "stderr",
     "output_type": "stream",
     "text": [
      "2018-04-23 08:04:21 PM Cl-                 4\n",
      "2018-04-23 08:04:21 PM DM1                 1\n",
      "2018-04-23 08:04:21 PM DM2                 1\n",
      "2018-04-23 08:04:21 PM DM3                 1\n",
      "2018-04-23 08:04:21 PM GST                 1\n",
      "2018-04-23 08:04:21 PM HST                 1\n",
      "2018-04-23 08:04:21 PM Na+                13\n",
      "2018-04-23 08:04:21 PM WAT              3000\n"
     ]
    },
    {
     "name": "stdout",
     "output_type": "stream",
     "text": [
      "./OA-G3-1 p044\n"
     ]
    },
    {
     "name": "stderr",
     "output_type": "stream",
     "text": [
      "2018-04-23 08:04:26 PM Cl-                 4\n",
      "2018-04-23 08:04:26 PM DM1                 1\n",
      "2018-04-23 08:04:26 PM DM2                 1\n",
      "2018-04-23 08:04:26 PM DM3                 1\n",
      "2018-04-23 08:04:26 PM GST                 1\n",
      "2018-04-23 08:04:26 PM HST                 1\n",
      "2018-04-23 08:04:26 PM Na+                13\n",
      "2018-04-23 08:04:26 PM WAT              3000\n"
     ]
    },
    {
     "name": "stdout",
     "output_type": "stream",
     "text": [
      "./OA-G3-1 p045\n"
     ]
    },
    {
     "name": "stderr",
     "output_type": "stream",
     "text": [
      "2018-04-23 08:04:30 PM Cl-                 4\n",
      "2018-04-23 08:04:30 PM DM1                 1\n",
      "2018-04-23 08:04:30 PM DM2                 1\n",
      "2018-04-23 08:04:30 PM DM3                 1\n",
      "2018-04-23 08:04:30 PM GST                 1\n",
      "2018-04-23 08:04:30 PM HST                 1\n",
      "2018-04-23 08:04:30 PM Na+                13\n",
      "2018-04-23 08:04:30 PM WAT              3000\n"
     ]
    },
    {
     "name": "stdout",
     "output_type": "stream",
     "text": [
      "./OA-G3-0 a000\n"
     ]
    },
    {
     "name": "stderr",
     "output_type": "stream",
     "text": [
      "2018-04-23 08:04:32 PM Cl-                 4\n",
      "2018-04-23 08:04:32 PM DM1                 1\n",
      "2018-04-23 08:04:32 PM DM2                 1\n",
      "2018-04-23 08:04:32 PM DM3                 1\n",
      "2018-04-23 08:04:32 PM GST                 1\n",
      "2018-04-23 08:04:32 PM HST                 1\n",
      "2018-04-23 08:04:32 PM Na+                13\n",
      "2018-04-23 08:04:32 PM WAT              3000\n"
     ]
    },
    {
     "name": "stdout",
     "output_type": "stream",
     "text": [
      "./OA-G3-0 a001\n"
     ]
    },
    {
     "name": "stderr",
     "output_type": "stream",
     "text": [
      "2018-04-23 08:04:34 PM Cl-                 4\n",
      "2018-04-23 08:04:34 PM DM1                 1\n",
      "2018-04-23 08:04:34 PM DM2                 1\n",
      "2018-04-23 08:04:34 PM DM3                 1\n",
      "2018-04-23 08:04:34 PM GST                 1\n",
      "2018-04-23 08:04:34 PM HST                 1\n",
      "2018-04-23 08:04:34 PM Na+                13\n",
      "2018-04-23 08:04:35 PM WAT              3000\n"
     ]
    },
    {
     "name": "stdout",
     "output_type": "stream",
     "text": [
      "./OA-G3-0 a002\n"
     ]
    },
    {
     "name": "stderr",
     "output_type": "stream",
     "text": [
      "2018-04-23 08:04:37 PM Cl-                 4\n",
      "2018-04-23 08:04:37 PM DM1                 1\n",
      "2018-04-23 08:04:37 PM DM2                 1\n",
      "2018-04-23 08:04:37 PM DM3                 1\n",
      "2018-04-23 08:04:37 PM GST                 1\n",
      "2018-04-23 08:04:37 PM HST                 1\n",
      "2018-04-23 08:04:37 PM Na+                13\n",
      "2018-04-23 08:04:37 PM WAT              3000\n"
     ]
    },
    {
     "name": "stdout",
     "output_type": "stream",
     "text": [
      "./OA-G3-0 a003\n"
     ]
    },
    {
     "name": "stderr",
     "output_type": "stream",
     "text": [
      "2018-04-23 08:04:39 PM Cl-                 4\n",
      "2018-04-23 08:04:39 PM DM1                 1\n",
      "2018-04-23 08:04:39 PM DM2                 1\n",
      "2018-04-23 08:04:39 PM DM3                 1\n",
      "2018-04-23 08:04:39 PM GST                 1\n",
      "2018-04-23 08:04:39 PM HST                 1\n",
      "2018-04-23 08:04:39 PM Na+                13\n",
      "2018-04-23 08:04:39 PM WAT              3000\n"
     ]
    },
    {
     "name": "stdout",
     "output_type": "stream",
     "text": [
      "./OA-G3-0 a004\n"
     ]
    },
    {
     "name": "stderr",
     "output_type": "stream",
     "text": [
      "2018-04-23 08:04:42 PM Cl-                 4\n",
      "2018-04-23 08:04:42 PM DM1                 1\n",
      "2018-04-23 08:04:42 PM DM2                 1\n",
      "2018-04-23 08:04:42 PM DM3                 1\n",
      "2018-04-23 08:04:42 PM GST                 1\n",
      "2018-04-23 08:04:42 PM HST                 1\n",
      "2018-04-23 08:04:42 PM Na+                13\n",
      "2018-04-23 08:04:42 PM WAT              3000\n"
     ]
    },
    {
     "name": "stdout",
     "output_type": "stream",
     "text": [
      "./OA-G3-0 a005\n"
     ]
    },
    {
     "name": "stderr",
     "output_type": "stream",
     "text": [
      "2018-04-23 08:04:44 PM Cl-                 4\n",
      "2018-04-23 08:04:44 PM DM1                 1\n",
      "2018-04-23 08:04:44 PM DM2                 1\n",
      "2018-04-23 08:04:44 PM DM3                 1\n",
      "2018-04-23 08:04:44 PM GST                 1\n",
      "2018-04-23 08:04:44 PM HST                 1\n",
      "2018-04-23 08:04:44 PM Na+                13\n",
      "2018-04-23 08:04:44 PM WAT              3000\n"
     ]
    },
    {
     "name": "stdout",
     "output_type": "stream",
     "text": [
      "./OA-G3-0 a006\n"
     ]
    },
    {
     "name": "stderr",
     "output_type": "stream",
     "text": [
      "2018-04-23 08:04:47 PM Cl-                 4\n",
      "2018-04-23 08:04:47 PM DM1                 1\n",
      "2018-04-23 08:04:47 PM DM2                 1\n",
      "2018-04-23 08:04:47 PM DM3                 1\n",
      "2018-04-23 08:04:47 PM GST                 1\n",
      "2018-04-23 08:04:47 PM HST                 1\n",
      "2018-04-23 08:04:47 PM Na+                13\n",
      "2018-04-23 08:04:47 PM WAT              3000\n"
     ]
    },
    {
     "name": "stdout",
     "output_type": "stream",
     "text": [
      "./OA-G3-0 a007\n"
     ]
    },
    {
     "name": "stderr",
     "output_type": "stream",
     "text": [
      "2018-04-23 08:04:49 PM Cl-                 4\n",
      "2018-04-23 08:04:49 PM DM1                 1\n",
      "2018-04-23 08:04:49 PM DM2                 1\n",
      "2018-04-23 08:04:49 PM DM3                 1\n",
      "2018-04-23 08:04:49 PM GST                 1\n",
      "2018-04-23 08:04:49 PM HST                 1\n",
      "2018-04-23 08:04:49 PM Na+                13\n",
      "2018-04-23 08:04:49 PM WAT              3000\n"
     ]
    },
    {
     "name": "stdout",
     "output_type": "stream",
     "text": [
      "./OA-G3-0 a008\n"
     ]
    },
    {
     "name": "stderr",
     "output_type": "stream",
     "text": [
      "2018-04-23 08:04:51 PM Cl-                 4\n",
      "2018-04-23 08:04:51 PM DM1                 1\n",
      "2018-04-23 08:04:51 PM DM2                 1\n",
      "2018-04-23 08:04:51 PM DM3                 1\n",
      "2018-04-23 08:04:51 PM GST                 1\n",
      "2018-04-23 08:04:51 PM HST                 1\n",
      "2018-04-23 08:04:51 PM Na+                13\n",
      "2018-04-23 08:04:51 PM WAT              3000\n"
     ]
    },
    {
     "name": "stdout",
     "output_type": "stream",
     "text": [
      "./OA-G3-0 a009\n"
     ]
    },
    {
     "name": "stderr",
     "output_type": "stream",
     "text": [
      "2018-04-23 08:04:54 PM Cl-                 4\n",
      "2018-04-23 08:04:54 PM DM1                 1\n",
      "2018-04-23 08:04:54 PM DM2                 1\n",
      "2018-04-23 08:04:54 PM DM3                 1\n",
      "2018-04-23 08:04:54 PM GST                 1\n",
      "2018-04-23 08:04:54 PM HST                 1\n",
      "2018-04-23 08:04:54 PM Na+                13\n",
      "2018-04-23 08:04:54 PM WAT              3000\n"
     ]
    },
    {
     "name": "stdout",
     "output_type": "stream",
     "text": [
      "./OA-G3-0 a010\n"
     ]
    },
    {
     "name": "stderr",
     "output_type": "stream",
     "text": [
      "2018-04-23 08:04:56 PM Cl-                 4\n",
      "2018-04-23 08:04:56 PM DM1                 1\n",
      "2018-04-23 08:04:56 PM DM2                 1\n",
      "2018-04-23 08:04:56 PM DM3                 1\n",
      "2018-04-23 08:04:56 PM GST                 1\n",
      "2018-04-23 08:04:56 PM HST                 1\n",
      "2018-04-23 08:04:56 PM Na+                13\n",
      "2018-04-23 08:04:56 PM WAT              3000\n"
     ]
    },
    {
     "name": "stdout",
     "output_type": "stream",
     "text": [
      "./OA-G3-0 a011\n"
     ]
    },
    {
     "name": "stderr",
     "output_type": "stream",
     "text": [
      "2018-04-23 08:04:59 PM Cl-                 4\n",
      "2018-04-23 08:04:59 PM DM1                 1\n",
      "2018-04-23 08:04:59 PM DM2                 1\n",
      "2018-04-23 08:04:59 PM DM3                 1\n",
      "2018-04-23 08:04:59 PM GST                 1\n",
      "2018-04-23 08:04:59 PM HST                 1\n",
      "2018-04-23 08:04:59 PM Na+                13\n",
      "2018-04-23 08:04:59 PM WAT              3000\n"
     ]
    },
    {
     "name": "stdout",
     "output_type": "stream",
     "text": [
      "./OA-G3-0 a012\n"
     ]
    },
    {
     "name": "stderr",
     "output_type": "stream",
     "text": [
      "2018-04-23 08:05:01 PM Cl-                 4\n",
      "2018-04-23 08:05:01 PM DM1                 1\n",
      "2018-04-23 08:05:01 PM DM2                 1\n",
      "2018-04-23 08:05:01 PM DM3                 1\n",
      "2018-04-23 08:05:01 PM GST                 1\n",
      "2018-04-23 08:05:01 PM HST                 1\n",
      "2018-04-23 08:05:01 PM Na+                13\n",
      "2018-04-23 08:05:01 PM WAT              3000\n"
     ]
    },
    {
     "name": "stdout",
     "output_type": "stream",
     "text": [
      "./OA-G3-0 a013\n"
     ]
    },
    {
     "name": "stderr",
     "output_type": "stream",
     "text": [
      "2018-04-23 08:05:03 PM Cl-                 4\n",
      "2018-04-23 08:05:03 PM DM1                 1\n",
      "2018-04-23 08:05:03 PM DM2                 1\n",
      "2018-04-23 08:05:03 PM DM3                 1\n",
      "2018-04-23 08:05:03 PM GST                 1\n",
      "2018-04-23 08:05:03 PM HST                 1\n",
      "2018-04-23 08:05:03 PM Na+                13\n",
      "2018-04-23 08:05:03 PM WAT              3000\n"
     ]
    },
    {
     "name": "stdout",
     "output_type": "stream",
     "text": [
      "./OA-G3-0 p000\n"
     ]
    },
    {
     "name": "stderr",
     "output_type": "stream",
     "text": [
      "2018-04-23 08:05:06 PM Cl-                 4\n",
      "2018-04-23 08:05:06 PM DM1                 1\n",
      "2018-04-23 08:05:06 PM DM2                 1\n",
      "2018-04-23 08:05:06 PM DM3                 1\n",
      "2018-04-23 08:05:06 PM GST                 1\n",
      "2018-04-23 08:05:06 PM HST                 1\n",
      "2018-04-23 08:05:06 PM Na+                13\n",
      "2018-04-23 08:05:06 PM WAT              3000\n"
     ]
    },
    {
     "name": "stdout",
     "output_type": "stream",
     "text": [
      "./OA-G3-0 p001\n"
     ]
    },
    {
     "name": "stderr",
     "output_type": "stream",
     "text": [
      "2018-04-23 08:05:09 PM Cl-                 4\n",
      "2018-04-23 08:05:09 PM DM1                 1\n",
      "2018-04-23 08:05:09 PM DM2                 1\n",
      "2018-04-23 08:05:09 PM DM3                 1\n",
      "2018-04-23 08:05:09 PM GST                 1\n",
      "2018-04-23 08:05:09 PM HST                 1\n",
      "2018-04-23 08:05:09 PM Na+                13\n",
      "2018-04-23 08:05:09 PM WAT              3000\n"
     ]
    },
    {
     "name": "stdout",
     "output_type": "stream",
     "text": [
      "./OA-G3-0 p002\n"
     ]
    },
    {
     "name": "stderr",
     "output_type": "stream",
     "text": [
      "2018-04-23 08:05:12 PM Cl-                 4\n",
      "2018-04-23 08:05:12 PM DM1                 1\n",
      "2018-04-23 08:05:12 PM DM2                 1\n",
      "2018-04-23 08:05:12 PM DM3                 1\n",
      "2018-04-23 08:05:12 PM GST                 1\n",
      "2018-04-23 08:05:12 PM HST                 1\n",
      "2018-04-23 08:05:12 PM Na+                13\n",
      "2018-04-23 08:05:12 PM WAT              3000\n"
     ]
    },
    {
     "name": "stdout",
     "output_type": "stream",
     "text": [
      "./OA-G3-0 p003\n"
     ]
    },
    {
     "name": "stderr",
     "output_type": "stream",
     "text": [
      "2018-04-23 08:05:15 PM Cl-                 4\n",
      "2018-04-23 08:05:15 PM DM1                 1\n",
      "2018-04-23 08:05:15 PM DM2                 1\n",
      "2018-04-23 08:05:15 PM DM3                 1\n",
      "2018-04-23 08:05:15 PM GST                 1\n",
      "2018-04-23 08:05:15 PM HST                 1\n",
      "2018-04-23 08:05:15 PM Na+                13\n",
      "2018-04-23 08:05:15 PM WAT              3000\n"
     ]
    },
    {
     "name": "stdout",
     "output_type": "stream",
     "text": [
      "./OA-G3-0 p004\n"
     ]
    },
    {
     "name": "stderr",
     "output_type": "stream",
     "text": [
      "2018-04-23 08:05:18 PM Cl-                 4\n",
      "2018-04-23 08:05:18 PM DM1                 1\n",
      "2018-04-23 08:05:18 PM DM2                 1\n",
      "2018-04-23 08:05:18 PM DM3                 1\n",
      "2018-04-23 08:05:18 PM GST                 1\n",
      "2018-04-23 08:05:18 PM HST                 1\n",
      "2018-04-23 08:05:18 PM Na+                13\n",
      "2018-04-23 08:05:18 PM WAT              3000\n"
     ]
    },
    {
     "name": "stdout",
     "output_type": "stream",
     "text": [
      "./OA-G3-0 p005\n"
     ]
    },
    {
     "name": "stderr",
     "output_type": "stream",
     "text": [
      "2018-04-23 08:05:25 PM Cl-                 4\n",
      "2018-04-23 08:05:25 PM DM1                 1\n",
      "2018-04-23 08:05:25 PM DM2                 1\n",
      "2018-04-23 08:05:25 PM DM3                 1\n",
      "2018-04-23 08:05:25 PM GST                 1\n",
      "2018-04-23 08:05:25 PM HST                 1\n",
      "2018-04-23 08:05:25 PM Na+                13\n",
      "2018-04-23 08:05:25 PM WAT              3000\n"
     ]
    },
    {
     "name": "stdout",
     "output_type": "stream",
     "text": [
      "./OA-G3-0 p006\n"
     ]
    },
    {
     "name": "stderr",
     "output_type": "stream",
     "text": [
      "2018-04-23 08:05:26 PM Cl-                 4\n",
      "2018-04-23 08:05:26 PM DM1                 1\n",
      "2018-04-23 08:05:26 PM DM2                 1\n",
      "2018-04-23 08:05:26 PM DM3                 1\n",
      "2018-04-23 08:05:26 PM GST                 1\n",
      "2018-04-23 08:05:26 PM HST                 1\n",
      "2018-04-23 08:05:26 PM Na+                13\n",
      "2018-04-23 08:05:26 PM WAT              3000\n"
     ]
    },
    {
     "name": "stdout",
     "output_type": "stream",
     "text": [
      "./OA-G3-0 p007\n"
     ]
    },
    {
     "name": "stderr",
     "output_type": "stream",
     "text": [
      "2018-04-23 08:05:28 PM Cl-                 4\n",
      "2018-04-23 08:05:28 PM DM1                 1\n",
      "2018-04-23 08:05:28 PM DM2                 1\n",
      "2018-04-23 08:05:28 PM DM3                 1\n",
      "2018-04-23 08:05:28 PM GST                 1\n",
      "2018-04-23 08:05:28 PM HST                 1\n",
      "2018-04-23 08:05:28 PM Na+                13\n",
      "2018-04-23 08:05:28 PM WAT              3000\n"
     ]
    },
    {
     "name": "stdout",
     "output_type": "stream",
     "text": [
      "./OA-G3-0 p008\n"
     ]
    },
    {
     "name": "stderr",
     "output_type": "stream",
     "text": [
      "2018-04-23 08:05:31 PM Cl-                 4\n",
      "2018-04-23 08:05:31 PM DM1                 1\n",
      "2018-04-23 08:05:31 PM DM2                 1\n",
      "2018-04-23 08:05:31 PM DM3                 1\n",
      "2018-04-23 08:05:31 PM GST                 1\n",
      "2018-04-23 08:05:31 PM HST                 1\n",
      "2018-04-23 08:05:31 PM Na+                13\n",
      "2018-04-23 08:05:31 PM WAT              3000\n"
     ]
    },
    {
     "name": "stdout",
     "output_type": "stream",
     "text": [
      "./OA-G3-0 p009\n"
     ]
    },
    {
     "name": "stderr",
     "output_type": "stream",
     "text": [
      "2018-04-23 08:05:34 PM Cl-                 4\n",
      "2018-04-23 08:05:34 PM DM1                 1\n",
      "2018-04-23 08:05:34 PM DM2                 1\n",
      "2018-04-23 08:05:34 PM DM3                 1\n",
      "2018-04-23 08:05:34 PM GST                 1\n",
      "2018-04-23 08:05:34 PM HST                 1\n",
      "2018-04-23 08:05:34 PM Na+                13\n",
      "2018-04-23 08:05:34 PM WAT              3000\n"
     ]
    },
    {
     "name": "stdout",
     "output_type": "stream",
     "text": [
      "./OA-G3-0 p010\n"
     ]
    },
    {
     "name": "stderr",
     "output_type": "stream",
     "text": [
      "2018-04-23 08:05:37 PM Cl-                 4\n",
      "2018-04-23 08:05:37 PM DM1                 1\n",
      "2018-04-23 08:05:37 PM DM2                 1\n",
      "2018-04-23 08:05:37 PM DM3                 1\n",
      "2018-04-23 08:05:37 PM GST                 1\n",
      "2018-04-23 08:05:37 PM HST                 1\n",
      "2018-04-23 08:05:37 PM Na+                13\n",
      "2018-04-23 08:05:37 PM WAT              3000\n"
     ]
    },
    {
     "name": "stdout",
     "output_type": "stream",
     "text": [
      "./OA-G3-0 p011\n"
     ]
    },
    {
     "name": "stderr",
     "output_type": "stream",
     "text": [
      "2018-04-23 08:05:40 PM Cl-                 4\n",
      "2018-04-23 08:05:40 PM DM1                 1\n",
      "2018-04-23 08:05:40 PM DM2                 1\n",
      "2018-04-23 08:05:40 PM DM3                 1\n",
      "2018-04-23 08:05:40 PM GST                 1\n",
      "2018-04-23 08:05:40 PM HST                 1\n",
      "2018-04-23 08:05:40 PM Na+                13\n",
      "2018-04-23 08:05:40 PM WAT              3000\n"
     ]
    },
    {
     "name": "stdout",
     "output_type": "stream",
     "text": [
      "./OA-G3-0 p012\n"
     ]
    },
    {
     "name": "stderr",
     "output_type": "stream",
     "text": [
      "2018-04-23 08:05:44 PM Cl-                 4\n",
      "2018-04-23 08:05:44 PM DM1                 1\n",
      "2018-04-23 08:05:44 PM DM2                 1\n",
      "2018-04-23 08:05:44 PM DM3                 1\n",
      "2018-04-23 08:05:44 PM GST                 1\n",
      "2018-04-23 08:05:44 PM HST                 1\n",
      "2018-04-23 08:05:44 PM Na+                13\n",
      "2018-04-23 08:05:44 PM WAT              3000\n"
     ]
    },
    {
     "name": "stdout",
     "output_type": "stream",
     "text": [
      "./OA-G3-0 p013\n"
     ]
    },
    {
     "name": "stderr",
     "output_type": "stream",
     "text": [
      "2018-04-23 08:05:47 PM Cl-                 4\n",
      "2018-04-23 08:05:47 PM DM1                 1\n",
      "2018-04-23 08:05:47 PM DM2                 1\n",
      "2018-04-23 08:05:47 PM DM3                 1\n",
      "2018-04-23 08:05:47 PM GST                 1\n",
      "2018-04-23 08:05:47 PM HST                 1\n",
      "2018-04-23 08:05:47 PM Na+                13\n",
      "2018-04-23 08:05:47 PM WAT              3000\n"
     ]
    },
    {
     "name": "stdout",
     "output_type": "stream",
     "text": [
      "./OA-G3-0 p014\n"
     ]
    },
    {
     "name": "stderr",
     "output_type": "stream",
     "text": [
      "2018-04-23 08:05:50 PM Cl-                 4\n",
      "2018-04-23 08:05:50 PM DM1                 1\n",
      "2018-04-23 08:05:50 PM DM2                 1\n",
      "2018-04-23 08:05:50 PM DM3                 1\n",
      "2018-04-23 08:05:50 PM GST                 1\n",
      "2018-04-23 08:05:50 PM HST                 1\n",
      "2018-04-23 08:05:50 PM Na+                13\n",
      "2018-04-23 08:05:50 PM WAT              3000\n"
     ]
    },
    {
     "name": "stdout",
     "output_type": "stream",
     "text": [
      "./OA-G3-0 p015\n"
     ]
    },
    {
     "name": "stderr",
     "output_type": "stream",
     "text": [
      "2018-04-23 08:05:53 PM Cl-                 4\n",
      "2018-04-23 08:05:53 PM DM1                 1\n",
      "2018-04-23 08:05:53 PM DM2                 1\n",
      "2018-04-23 08:05:53 PM DM3                 1\n",
      "2018-04-23 08:05:53 PM GST                 1\n",
      "2018-04-23 08:05:53 PM HST                 1\n",
      "2018-04-23 08:05:53 PM Na+                13\n",
      "2018-04-23 08:05:53 PM WAT              3000\n"
     ]
    },
    {
     "name": "stdout",
     "output_type": "stream",
     "text": [
      "./OA-G3-0 p016\n"
     ]
    },
    {
     "name": "stderr",
     "output_type": "stream",
     "text": [
      "2018-04-23 08:05:56 PM Cl-                 4\n",
      "2018-04-23 08:05:56 PM DM1                 1\n",
      "2018-04-23 08:05:56 PM DM2                 1\n",
      "2018-04-23 08:05:56 PM DM3                 1\n",
      "2018-04-23 08:05:56 PM GST                 1\n",
      "2018-04-23 08:05:56 PM HST                 1\n",
      "2018-04-23 08:05:56 PM Na+                13\n",
      "2018-04-23 08:05:56 PM WAT              3000\n"
     ]
    },
    {
     "name": "stdout",
     "output_type": "stream",
     "text": [
      "./OA-G3-0 p017\n"
     ]
    },
    {
     "name": "stderr",
     "output_type": "stream",
     "text": [
      "2018-04-23 08:06:00 PM Cl-                 4\n",
      "2018-04-23 08:06:00 PM DM1                 1\n",
      "2018-04-23 08:06:00 PM DM2                 1\n",
      "2018-04-23 08:06:00 PM DM3                 1\n",
      "2018-04-23 08:06:00 PM GST                 1\n",
      "2018-04-23 08:06:00 PM HST                 1\n",
      "2018-04-23 08:06:00 PM Na+                13\n",
      "2018-04-23 08:06:00 PM WAT              3000\n"
     ]
    },
    {
     "name": "stdout",
     "output_type": "stream",
     "text": [
      "./OA-G3-0 p018\n"
     ]
    },
    {
     "name": "stderr",
     "output_type": "stream",
     "text": [
      "2018-04-23 08:06:02 PM Cl-                 4\n",
      "2018-04-23 08:06:02 PM DM1                 1\n",
      "2018-04-23 08:06:02 PM DM2                 1\n",
      "2018-04-23 08:06:02 PM DM3                 1\n",
      "2018-04-23 08:06:02 PM GST                 1\n",
      "2018-04-23 08:06:02 PM HST                 1\n",
      "2018-04-23 08:06:02 PM Na+                13\n",
      "2018-04-23 08:06:02 PM WAT              3000\n"
     ]
    },
    {
     "name": "stdout",
     "output_type": "stream",
     "text": [
      "./OA-G3-0 p019\n"
     ]
    },
    {
     "name": "stderr",
     "output_type": "stream",
     "text": [
      "2018-04-23 08:06:05 PM Cl-                 4\n",
      "2018-04-23 08:06:05 PM DM1                 1\n",
      "2018-04-23 08:06:05 PM DM2                 1\n",
      "2018-04-23 08:06:05 PM DM3                 1\n",
      "2018-04-23 08:06:05 PM GST                 1\n",
      "2018-04-23 08:06:05 PM HST                 1\n",
      "2018-04-23 08:06:05 PM Na+                13\n",
      "2018-04-23 08:06:05 PM WAT              3000\n"
     ]
    },
    {
     "name": "stdout",
     "output_type": "stream",
     "text": [
      "./OA-G3-0 p020\n"
     ]
    },
    {
     "name": "stderr",
     "output_type": "stream",
     "text": [
      "2018-04-23 08:06:08 PM Cl-                 4\n",
      "2018-04-23 08:06:08 PM DM1                 1\n",
      "2018-04-23 08:06:08 PM DM2                 1\n",
      "2018-04-23 08:06:08 PM DM3                 1\n",
      "2018-04-23 08:06:08 PM GST                 1\n",
      "2018-04-23 08:06:08 PM HST                 1\n",
      "2018-04-23 08:06:08 PM Na+                13\n",
      "2018-04-23 08:06:08 PM WAT              3000\n"
     ]
    },
    {
     "name": "stdout",
     "output_type": "stream",
     "text": [
      "./OA-G3-0 p021\n"
     ]
    },
    {
     "name": "stderr",
     "output_type": "stream",
     "text": [
      "2018-04-23 08:06:11 PM Cl-                 4\n",
      "2018-04-23 08:06:11 PM DM1                 1\n",
      "2018-04-23 08:06:11 PM DM2                 1\n",
      "2018-04-23 08:06:11 PM DM3                 1\n",
      "2018-04-23 08:06:11 PM GST                 1\n",
      "2018-04-23 08:06:11 PM HST                 1\n",
      "2018-04-23 08:06:11 PM Na+                13\n",
      "2018-04-23 08:06:11 PM WAT              3000\n"
     ]
    },
    {
     "name": "stdout",
     "output_type": "stream",
     "text": [
      "./OA-G3-0 p022\n"
     ]
    },
    {
     "name": "stderr",
     "output_type": "stream",
     "text": [
      "2018-04-23 08:06:14 PM Cl-                 4\n",
      "2018-04-23 08:06:14 PM DM1                 1\n",
      "2018-04-23 08:06:14 PM DM2                 1\n",
      "2018-04-23 08:06:14 PM DM3                 1\n",
      "2018-04-23 08:06:14 PM GST                 1\n",
      "2018-04-23 08:06:14 PM HST                 1\n",
      "2018-04-23 08:06:14 PM Na+                13\n",
      "2018-04-23 08:06:14 PM WAT              3000\n"
     ]
    },
    {
     "name": "stdout",
     "output_type": "stream",
     "text": [
      "./OA-G3-0 p023\n"
     ]
    },
    {
     "name": "stderr",
     "output_type": "stream",
     "text": [
      "2018-04-23 08:06:16 PM Cl-                 4\n",
      "2018-04-23 08:06:16 PM DM1                 1\n",
      "2018-04-23 08:06:16 PM DM2                 1\n",
      "2018-04-23 08:06:16 PM DM3                 1\n",
      "2018-04-23 08:06:16 PM GST                 1\n",
      "2018-04-23 08:06:16 PM HST                 1\n",
      "2018-04-23 08:06:16 PM Na+                13\n",
      "2018-04-23 08:06:16 PM WAT              3000\n"
     ]
    },
    {
     "name": "stdout",
     "output_type": "stream",
     "text": [
      "./OA-G3-0 p024\n"
     ]
    },
    {
     "name": "stderr",
     "output_type": "stream",
     "text": [
      "2018-04-23 08:06:19 PM Cl-                 4\n",
      "2018-04-23 08:06:19 PM DM1                 1\n",
      "2018-04-23 08:06:19 PM DM2                 1\n",
      "2018-04-23 08:06:19 PM DM3                 1\n",
      "2018-04-23 08:06:19 PM GST                 1\n",
      "2018-04-23 08:06:19 PM HST                 1\n",
      "2018-04-23 08:06:19 PM Na+                13\n",
      "2018-04-23 08:06:19 PM WAT              3000\n"
     ]
    },
    {
     "name": "stdout",
     "output_type": "stream",
     "text": [
      "./OA-G3-0 p025\n"
     ]
    },
    {
     "name": "stderr",
     "output_type": "stream",
     "text": [
      "2018-04-23 08:06:21 PM Cl-                 4\n",
      "2018-04-23 08:06:21 PM DM1                 1\n",
      "2018-04-23 08:06:21 PM DM2                 1\n",
      "2018-04-23 08:06:21 PM DM3                 1\n",
      "2018-04-23 08:06:21 PM GST                 1\n",
      "2018-04-23 08:06:21 PM HST                 1\n",
      "2018-04-23 08:06:21 PM Na+                13\n",
      "2018-04-23 08:06:21 PM WAT              3000\n"
     ]
    },
    {
     "name": "stdout",
     "output_type": "stream",
     "text": [
      "./OA-G3-0 p026\n"
     ]
    },
    {
     "name": "stderr",
     "output_type": "stream",
     "text": [
      "2018-04-23 08:06:24 PM Cl-                 4\n",
      "2018-04-23 08:06:24 PM DM1                 1\n",
      "2018-04-23 08:06:24 PM DM2                 1\n",
      "2018-04-23 08:06:24 PM DM3                 1\n",
      "2018-04-23 08:06:24 PM GST                 1\n",
      "2018-04-23 08:06:24 PM HST                 1\n",
      "2018-04-23 08:06:24 PM Na+                13\n",
      "2018-04-23 08:06:24 PM WAT              3000\n"
     ]
    },
    {
     "name": "stdout",
     "output_type": "stream",
     "text": [
      "./OA-G3-0 p027\n"
     ]
    },
    {
     "name": "stderr",
     "output_type": "stream",
     "text": [
      "2018-04-23 08:06:27 PM Cl-                 4\n",
      "2018-04-23 08:06:27 PM DM1                 1\n",
      "2018-04-23 08:06:27 PM DM2                 1\n",
      "2018-04-23 08:06:27 PM DM3                 1\n",
      "2018-04-23 08:06:27 PM GST                 1\n",
      "2018-04-23 08:06:27 PM HST                 1\n",
      "2018-04-23 08:06:27 PM Na+                13\n",
      "2018-04-23 08:06:27 PM WAT              3000\n"
     ]
    },
    {
     "name": "stdout",
     "output_type": "stream",
     "text": [
      "./OA-G3-0 p028\n"
     ]
    },
    {
     "name": "stderr",
     "output_type": "stream",
     "text": [
      "2018-04-23 08:06:29 PM Cl-                 4\n",
      "2018-04-23 08:06:29 PM DM1                 1\n",
      "2018-04-23 08:06:29 PM DM2                 1\n",
      "2018-04-23 08:06:29 PM DM3                 1\n",
      "2018-04-23 08:06:29 PM GST                 1\n",
      "2018-04-23 08:06:29 PM HST                 1\n",
      "2018-04-23 08:06:29 PM Na+                13\n",
      "2018-04-23 08:06:29 PM WAT              3000\n"
     ]
    },
    {
     "name": "stdout",
     "output_type": "stream",
     "text": [
      "./OA-G3-0 p029\n"
     ]
    },
    {
     "name": "stderr",
     "output_type": "stream",
     "text": [
      "2018-04-23 08:06:35 PM Cl-                 4\n",
      "2018-04-23 08:06:35 PM DM1                 1\n",
      "2018-04-23 08:06:35 PM DM2                 1\n",
      "2018-04-23 08:06:35 PM DM3                 1\n",
      "2018-04-23 08:06:35 PM GST                 1\n",
      "2018-04-23 08:06:35 PM HST                 1\n",
      "2018-04-23 08:06:35 PM Na+                13\n",
      "2018-04-23 08:06:35 PM WAT              3000\n"
     ]
    },
    {
     "name": "stdout",
     "output_type": "stream",
     "text": [
      "./OA-G3-0 p030\n"
     ]
    },
    {
     "name": "stderr",
     "output_type": "stream",
     "text": [
      "2018-04-23 08:06:37 PM Cl-                 4\n",
      "2018-04-23 08:06:37 PM DM1                 1\n",
      "2018-04-23 08:06:37 PM DM2                 1\n",
      "2018-04-23 08:06:37 PM DM3                 1\n",
      "2018-04-23 08:06:37 PM GST                 1\n",
      "2018-04-23 08:06:37 PM HST                 1\n",
      "2018-04-23 08:06:37 PM Na+                13\n",
      "2018-04-23 08:06:37 PM WAT              3000\n"
     ]
    },
    {
     "name": "stdout",
     "output_type": "stream",
     "text": [
      "./OA-G3-0 p031\n"
     ]
    },
    {
     "name": "stderr",
     "output_type": "stream",
     "text": [
      "2018-04-23 08:06:40 PM Cl-                 4\n",
      "2018-04-23 08:06:40 PM DM1                 1\n",
      "2018-04-23 08:06:40 PM DM2                 1\n",
      "2018-04-23 08:06:40 PM DM3                 1\n",
      "2018-04-23 08:06:40 PM GST                 1\n",
      "2018-04-23 08:06:40 PM HST                 1\n",
      "2018-04-23 08:06:40 PM Na+                13\n",
      "2018-04-23 08:06:40 PM WAT              3000\n"
     ]
    },
    {
     "name": "stdout",
     "output_type": "stream",
     "text": [
      "./OA-G3-0 p032\n"
     ]
    },
    {
     "name": "stderr",
     "output_type": "stream",
     "text": [
      "2018-04-23 08:06:43 PM Cl-                 4\n",
      "2018-04-23 08:06:43 PM DM1                 1\n",
      "2018-04-23 08:06:43 PM DM2                 1\n",
      "2018-04-23 08:06:43 PM DM3                 1\n",
      "2018-04-23 08:06:43 PM GST                 1\n",
      "2018-04-23 08:06:43 PM HST                 1\n",
      "2018-04-23 08:06:43 PM Na+                13\n",
      "2018-04-23 08:06:43 PM WAT              3000\n"
     ]
    },
    {
     "name": "stdout",
     "output_type": "stream",
     "text": [
      "./OA-G3-0 p033\n"
     ]
    },
    {
     "name": "stderr",
     "output_type": "stream",
     "text": [
      "2018-04-23 08:06:45 PM Cl-                 4\n",
      "2018-04-23 08:06:45 PM DM1                 1\n",
      "2018-04-23 08:06:45 PM DM2                 1\n",
      "2018-04-23 08:06:45 PM DM3                 1\n",
      "2018-04-23 08:06:45 PM GST                 1\n",
      "2018-04-23 08:06:45 PM HST                 1\n",
      "2018-04-23 08:06:45 PM Na+                13\n",
      "2018-04-23 08:06:45 PM WAT              3000\n"
     ]
    },
    {
     "name": "stdout",
     "output_type": "stream",
     "text": [
      "./OA-G3-0 p034\n"
     ]
    },
    {
     "name": "stderr",
     "output_type": "stream",
     "text": [
      "2018-04-23 08:06:48 PM Cl-                 4\n",
      "2018-04-23 08:06:48 PM DM1                 1\n",
      "2018-04-23 08:06:48 PM DM2                 1\n",
      "2018-04-23 08:06:48 PM DM3                 1\n",
      "2018-04-23 08:06:48 PM GST                 1\n",
      "2018-04-23 08:06:48 PM HST                 1\n",
      "2018-04-23 08:06:48 PM Na+                13\n",
      "2018-04-23 08:06:48 PM WAT              3000\n"
     ]
    },
    {
     "name": "stdout",
     "output_type": "stream",
     "text": [
      "./OA-G3-0 p035\n"
     ]
    },
    {
     "name": "stderr",
     "output_type": "stream",
     "text": [
      "2018-04-23 08:06:50 PM Cl-                 4\n",
      "2018-04-23 08:06:50 PM DM1                 1\n",
      "2018-04-23 08:06:50 PM DM2                 1\n",
      "2018-04-23 08:06:50 PM DM3                 1\n",
      "2018-04-23 08:06:50 PM GST                 1\n",
      "2018-04-23 08:06:50 PM HST                 1\n",
      "2018-04-23 08:06:50 PM Na+                13\n",
      "2018-04-23 08:06:50 PM WAT              3000\n"
     ]
    },
    {
     "name": "stdout",
     "output_type": "stream",
     "text": [
      "./OA-G3-0 p036\n"
     ]
    },
    {
     "name": "stderr",
     "output_type": "stream",
     "text": [
      "2018-04-23 08:06:53 PM Cl-                 4\n",
      "2018-04-23 08:06:53 PM DM1                 1\n",
      "2018-04-23 08:06:53 PM DM2                 1\n",
      "2018-04-23 08:06:53 PM DM3                 1\n",
      "2018-04-23 08:06:53 PM GST                 1\n",
      "2018-04-23 08:06:53 PM HST                 1\n",
      "2018-04-23 08:06:53 PM Na+                13\n",
      "2018-04-23 08:06:53 PM WAT              3000\n"
     ]
    },
    {
     "name": "stdout",
     "output_type": "stream",
     "text": [
      "./OA-G3-0 p037\n"
     ]
    },
    {
     "name": "stderr",
     "output_type": "stream",
     "text": [
      "2018-04-23 08:06:56 PM Cl-                 4\n",
      "2018-04-23 08:06:56 PM DM1                 1\n",
      "2018-04-23 08:06:56 PM DM2                 1\n",
      "2018-04-23 08:06:56 PM DM3                 1\n",
      "2018-04-23 08:06:56 PM GST                 1\n",
      "2018-04-23 08:06:56 PM HST                 1\n",
      "2018-04-23 08:06:56 PM Na+                13\n",
      "2018-04-23 08:06:56 PM WAT              3000\n"
     ]
    },
    {
     "name": "stdout",
     "output_type": "stream",
     "text": [
      "./OA-G3-0 p038\n"
     ]
    },
    {
     "name": "stderr",
     "output_type": "stream",
     "text": [
      "2018-04-23 08:06:58 PM Cl-                 4\n",
      "2018-04-23 08:06:58 PM DM1                 1\n",
      "2018-04-23 08:06:58 PM DM2                 1\n",
      "2018-04-23 08:06:58 PM DM3                 1\n",
      "2018-04-23 08:06:58 PM GST                 1\n",
      "2018-04-23 08:06:58 PM HST                 1\n",
      "2018-04-23 08:06:58 PM Na+                13\n",
      "2018-04-23 08:06:58 PM WAT              3000\n"
     ]
    },
    {
     "name": "stdout",
     "output_type": "stream",
     "text": [
      "./OA-G3-0 p039\n"
     ]
    },
    {
     "name": "stderr",
     "output_type": "stream",
     "text": [
      "2018-04-23 08:07:01 PM Cl-                 4\n",
      "2018-04-23 08:07:01 PM DM1                 1\n",
      "2018-04-23 08:07:01 PM DM2                 1\n",
      "2018-04-23 08:07:01 PM DM3                 1\n",
      "2018-04-23 08:07:01 PM GST                 1\n",
      "2018-04-23 08:07:01 PM HST                 1\n",
      "2018-04-23 08:07:01 PM Na+                13\n",
      "2018-04-23 08:07:01 PM WAT              3000\n"
     ]
    },
    {
     "name": "stdout",
     "output_type": "stream",
     "text": [
      "./OA-G3-0 p040\n"
     ]
    },
    {
     "name": "stderr",
     "output_type": "stream",
     "text": [
      "2018-04-23 08:07:03 PM Cl-                 4\n",
      "2018-04-23 08:07:03 PM DM1                 1\n",
      "2018-04-23 08:07:03 PM DM2                 1\n",
      "2018-04-23 08:07:03 PM DM3                 1\n",
      "2018-04-23 08:07:03 PM GST                 1\n",
      "2018-04-23 08:07:03 PM HST                 1\n",
      "2018-04-23 08:07:03 PM Na+                13\n",
      "2018-04-23 08:07:03 PM WAT              3000\n"
     ]
    },
    {
     "name": "stdout",
     "output_type": "stream",
     "text": [
      "./OA-G3-0 p041\n"
     ]
    },
    {
     "name": "stderr",
     "output_type": "stream",
     "text": [
      "2018-04-23 08:07:06 PM Cl-                 4\n",
      "2018-04-23 08:07:06 PM DM1                 1\n",
      "2018-04-23 08:07:06 PM DM2                 1\n",
      "2018-04-23 08:07:06 PM DM3                 1\n",
      "2018-04-23 08:07:06 PM GST                 1\n",
      "2018-04-23 08:07:06 PM HST                 1\n",
      "2018-04-23 08:07:06 PM Na+                13\n",
      "2018-04-23 08:07:06 PM WAT              3000\n"
     ]
    },
    {
     "name": "stdout",
     "output_type": "stream",
     "text": [
      "./OA-G3-0 p042\n"
     ]
    },
    {
     "name": "stderr",
     "output_type": "stream",
     "text": [
      "2018-04-23 08:07:09 PM Cl-                 4\n",
      "2018-04-23 08:07:09 PM DM1                 1\n",
      "2018-04-23 08:07:09 PM DM2                 1\n",
      "2018-04-23 08:07:09 PM DM3                 1\n",
      "2018-04-23 08:07:09 PM GST                 1\n",
      "2018-04-23 08:07:09 PM HST                 1\n",
      "2018-04-23 08:07:09 PM Na+                13\n",
      "2018-04-23 08:07:09 PM WAT              3000\n"
     ]
    },
    {
     "name": "stdout",
     "output_type": "stream",
     "text": [
      "./OA-G3-0 p043\n"
     ]
    },
    {
     "name": "stderr",
     "output_type": "stream",
     "text": [
      "2018-04-23 08:07:11 PM Cl-                 4\n",
      "2018-04-23 08:07:11 PM DM1                 1\n",
      "2018-04-23 08:07:11 PM DM2                 1\n",
      "2018-04-23 08:07:11 PM DM3                 1\n",
      "2018-04-23 08:07:11 PM GST                 1\n",
      "2018-04-23 08:07:11 PM HST                 1\n",
      "2018-04-23 08:07:11 PM Na+                13\n",
      "2018-04-23 08:07:11 PM WAT              3000\n"
     ]
    },
    {
     "name": "stdout",
     "output_type": "stream",
     "text": [
      "./OA-G3-0 p044\n"
     ]
    },
    {
     "name": "stderr",
     "output_type": "stream",
     "text": [
      "2018-04-23 08:07:14 PM Cl-                 4\n",
      "2018-04-23 08:07:14 PM DM1                 1\n",
      "2018-04-23 08:07:14 PM DM2                 1\n",
      "2018-04-23 08:07:14 PM DM3                 1\n",
      "2018-04-23 08:07:14 PM GST                 1\n",
      "2018-04-23 08:07:14 PM HST                 1\n",
      "2018-04-23 08:07:14 PM Na+                13\n",
      "2018-04-23 08:07:14 PM WAT              3000\n"
     ]
    },
    {
     "name": "stdout",
     "output_type": "stream",
     "text": [
      "./OA-G3-0 p045\n"
     ]
    },
    {
     "name": "stderr",
     "output_type": "stream",
     "text": [
      "2018-04-23 08:07:17 PM Cl-                 4\n",
      "2018-04-23 08:07:17 PM DM1                 1\n",
      "2018-04-23 08:07:17 PM DM2                 1\n",
      "2018-04-23 08:07:17 PM DM3                 1\n",
      "2018-04-23 08:07:17 PM GST                 1\n",
      "2018-04-23 08:07:17 PM HST                 1\n",
      "2018-04-23 08:07:17 PM Na+                13\n",
      "2018-04-23 08:07:17 PM WAT              3000\n"
     ]
    },
    {
     "name": "stdout",
     "output_type": "stream",
     "text": [
      "./OA-G6-1 a000\n"
     ]
    },
    {
     "name": "stderr",
     "output_type": "stream",
     "text": [
      "2018-04-23 08:07:21 PM Cl-                 4\n",
      "2018-04-23 08:07:21 PM DM1                 1\n",
      "2018-04-23 08:07:21 PM DM2                 1\n",
      "2018-04-23 08:07:21 PM DM3                 1\n",
      "2018-04-23 08:07:21 PM GST                 1\n",
      "2018-04-23 08:07:21 PM HST                 1\n",
      "2018-04-23 08:07:21 PM Na+                13\n",
      "2018-04-23 08:07:21 PM WAT              3000\n"
     ]
    },
    {
     "name": "stdout",
     "output_type": "stream",
     "text": [
      "./OA-G6-1 a001\n"
     ]
    },
    {
     "name": "stderr",
     "output_type": "stream",
     "text": [
      "2018-04-23 08:07:26 PM Cl-                 4\n",
      "2018-04-23 08:07:26 PM DM1                 1\n",
      "2018-04-23 08:07:26 PM DM2                 1\n",
      "2018-04-23 08:07:26 PM DM3                 1\n",
      "2018-04-23 08:07:26 PM GST                 1\n",
      "2018-04-23 08:07:26 PM HST                 1\n",
      "2018-04-23 08:07:26 PM Na+                13\n",
      "2018-04-23 08:07:26 PM WAT              3000\n"
     ]
    },
    {
     "name": "stdout",
     "output_type": "stream",
     "text": [
      "./OA-G6-1 a002\n"
     ]
    },
    {
     "name": "stderr",
     "output_type": "stream",
     "text": [
      "2018-04-23 08:07:30 PM Cl-                 4\n",
      "2018-04-23 08:07:30 PM DM1                 1\n",
      "2018-04-23 08:07:30 PM DM2                 1\n",
      "2018-04-23 08:07:30 PM DM3                 1\n",
      "2018-04-23 08:07:30 PM GST                 1\n",
      "2018-04-23 08:07:30 PM HST                 1\n",
      "2018-04-23 08:07:30 PM Na+                13\n",
      "2018-04-23 08:07:30 PM WAT              3000\n"
     ]
    },
    {
     "name": "stdout",
     "output_type": "stream",
     "text": [
      "./OA-G6-1 a003\n"
     ]
    },
    {
     "name": "stderr",
     "output_type": "stream",
     "text": [
      "2018-04-23 08:07:34 PM Cl-                 4\n",
      "2018-04-23 08:07:34 PM DM1                 1\n",
      "2018-04-23 08:07:34 PM DM2                 1\n",
      "2018-04-23 08:07:34 PM DM3                 1\n",
      "2018-04-23 08:07:34 PM GST                 1\n",
      "2018-04-23 08:07:34 PM HST                 1\n",
      "2018-04-23 08:07:34 PM Na+                13\n",
      "2018-04-23 08:07:34 PM WAT              3000\n"
     ]
    },
    {
     "name": "stdout",
     "output_type": "stream",
     "text": [
      "./OA-G6-1 a004\n"
     ]
    },
    {
     "name": "stderr",
     "output_type": "stream",
     "text": [
      "2018-04-23 08:07:39 PM Cl-                 4\n",
      "2018-04-23 08:07:39 PM DM1                 1\n",
      "2018-04-23 08:07:39 PM DM2                 1\n",
      "2018-04-23 08:07:39 PM DM3                 1\n",
      "2018-04-23 08:07:39 PM GST                 1\n",
      "2018-04-23 08:07:39 PM HST                 1\n",
      "2018-04-23 08:07:39 PM Na+                13\n",
      "2018-04-23 08:07:39 PM WAT              3000\n"
     ]
    },
    {
     "name": "stdout",
     "output_type": "stream",
     "text": [
      "./OA-G6-1 a005\n"
     ]
    },
    {
     "name": "stderr",
     "output_type": "stream",
     "text": [
      "2018-04-23 08:07:43 PM Cl-                 4\n",
      "2018-04-23 08:07:43 PM DM1                 1\n",
      "2018-04-23 08:07:43 PM DM2                 1\n",
      "2018-04-23 08:07:43 PM DM3                 1\n",
      "2018-04-23 08:07:43 PM GST                 1\n",
      "2018-04-23 08:07:43 PM HST                 1\n",
      "2018-04-23 08:07:43 PM Na+                13\n",
      "2018-04-23 08:07:43 PM WAT              3000\n"
     ]
    },
    {
     "name": "stdout",
     "output_type": "stream",
     "text": [
      "./OA-G6-1 a006\n"
     ]
    },
    {
     "name": "stderr",
     "output_type": "stream",
     "text": [
      "2018-04-23 08:07:47 PM Cl-                 4\n",
      "2018-04-23 08:07:47 PM DM1                 1\n",
      "2018-04-23 08:07:47 PM DM2                 1\n",
      "2018-04-23 08:07:47 PM DM3                 1\n",
      "2018-04-23 08:07:47 PM GST                 1\n",
      "2018-04-23 08:07:47 PM HST                 1\n",
      "2018-04-23 08:07:47 PM Na+                13\n",
      "2018-04-23 08:07:47 PM WAT              3000\n"
     ]
    },
    {
     "name": "stdout",
     "output_type": "stream",
     "text": [
      "./OA-G6-1 a007\n"
     ]
    },
    {
     "name": "stderr",
     "output_type": "stream",
     "text": [
      "2018-04-23 08:07:52 PM Cl-                 4\n",
      "2018-04-23 08:07:52 PM DM1                 1\n",
      "2018-04-23 08:07:52 PM DM2                 1\n",
      "2018-04-23 08:07:52 PM DM3                 1\n",
      "2018-04-23 08:07:52 PM GST                 1\n",
      "2018-04-23 08:07:52 PM HST                 1\n",
      "2018-04-23 08:07:52 PM Na+                13\n",
      "2018-04-23 08:07:52 PM WAT              3000\n"
     ]
    },
    {
     "name": "stdout",
     "output_type": "stream",
     "text": [
      "./OA-G6-1 a008\n"
     ]
    },
    {
     "name": "stderr",
     "output_type": "stream",
     "text": [
      "2018-04-23 08:07:56 PM Cl-                 4\n",
      "2018-04-23 08:07:56 PM DM1                 1\n",
      "2018-04-23 08:07:56 PM DM2                 1\n",
      "2018-04-23 08:07:56 PM DM3                 1\n",
      "2018-04-23 08:07:56 PM GST                 1\n",
      "2018-04-23 08:07:56 PM HST                 1\n",
      "2018-04-23 08:07:56 PM Na+                13\n",
      "2018-04-23 08:07:56 PM WAT              3000\n"
     ]
    },
    {
     "name": "stdout",
     "output_type": "stream",
     "text": [
      "./OA-G6-1 a009\n"
     ]
    },
    {
     "name": "stderr",
     "output_type": "stream",
     "text": [
      "2018-04-23 08:08:00 PM Cl-                 4\n",
      "2018-04-23 08:08:00 PM DM1                 1\n",
      "2018-04-23 08:08:00 PM DM2                 1\n",
      "2018-04-23 08:08:00 PM DM3                 1\n",
      "2018-04-23 08:08:00 PM GST                 1\n",
      "2018-04-23 08:08:00 PM HST                 1\n",
      "2018-04-23 08:08:00 PM Na+                13\n",
      "2018-04-23 08:08:00 PM WAT              3000\n"
     ]
    },
    {
     "name": "stdout",
     "output_type": "stream",
     "text": [
      "./OA-G6-1 a010\n"
     ]
    },
    {
     "name": "stderr",
     "output_type": "stream",
     "text": [
      "2018-04-23 08:08:04 PM Cl-                 4\n",
      "2018-04-23 08:08:04 PM DM1                 1\n",
      "2018-04-23 08:08:04 PM DM2                 1\n",
      "2018-04-23 08:08:04 PM DM3                 1\n",
      "2018-04-23 08:08:04 PM GST                 1\n",
      "2018-04-23 08:08:04 PM HST                 1\n",
      "2018-04-23 08:08:04 PM Na+                13\n",
      "2018-04-23 08:08:04 PM WAT              3000\n"
     ]
    },
    {
     "name": "stdout",
     "output_type": "stream",
     "text": [
      "./OA-G6-1 a011\n"
     ]
    },
    {
     "name": "stderr",
     "output_type": "stream",
     "text": [
      "2018-04-23 08:08:09 PM Cl-                 4\n",
      "2018-04-23 08:08:09 PM DM1                 1\n",
      "2018-04-23 08:08:09 PM DM2                 1\n",
      "2018-04-23 08:08:09 PM DM3                 1\n",
      "2018-04-23 08:08:09 PM GST                 1\n",
      "2018-04-23 08:08:09 PM HST                 1\n",
      "2018-04-23 08:08:09 PM Na+                13\n",
      "2018-04-23 08:08:09 PM WAT              3000\n"
     ]
    },
    {
     "name": "stdout",
     "output_type": "stream",
     "text": [
      "./OA-G6-1 a012\n"
     ]
    },
    {
     "name": "stderr",
     "output_type": "stream",
     "text": [
      "2018-04-23 08:08:13 PM Cl-                 4\n",
      "2018-04-23 08:08:13 PM DM1                 1\n",
      "2018-04-23 08:08:13 PM DM2                 1\n",
      "2018-04-23 08:08:13 PM DM3                 1\n",
      "2018-04-23 08:08:13 PM GST                 1\n",
      "2018-04-23 08:08:13 PM HST                 1\n",
      "2018-04-23 08:08:13 PM Na+                13\n",
      "2018-04-23 08:08:13 PM WAT              3000\n"
     ]
    },
    {
     "name": "stdout",
     "output_type": "stream",
     "text": [
      "./OA-G6-1 a013\n"
     ]
    },
    {
     "name": "stderr",
     "output_type": "stream",
     "text": [
      "2018-04-23 08:08:17 PM Cl-                 4\n",
      "2018-04-23 08:08:17 PM DM1                 1\n",
      "2018-04-23 08:08:17 PM DM2                 1\n",
      "2018-04-23 08:08:17 PM DM3                 1\n",
      "2018-04-23 08:08:17 PM GST                 1\n",
      "2018-04-23 08:08:17 PM HST                 1\n",
      "2018-04-23 08:08:17 PM Na+                13\n",
      "2018-04-23 08:08:17 PM WAT              3000\n"
     ]
    },
    {
     "name": "stdout",
     "output_type": "stream",
     "text": [
      "./OA-G6-1 p000\n"
     ]
    },
    {
     "name": "stderr",
     "output_type": "stream",
     "text": [
      "2018-04-23 08:08:21 PM Cl-                 4\n",
      "2018-04-23 08:08:21 PM DM1                 1\n",
      "2018-04-23 08:08:21 PM DM2                 1\n",
      "2018-04-23 08:08:21 PM DM3                 1\n",
      "2018-04-23 08:08:21 PM GST                 1\n",
      "2018-04-23 08:08:21 PM HST                 1\n",
      "2018-04-23 08:08:21 PM Na+                13\n",
      "2018-04-23 08:08:21 PM WAT              3000\n"
     ]
    },
    {
     "name": "stdout",
     "output_type": "stream",
     "text": [
      "./OA-G6-1 p001\n"
     ]
    },
    {
     "name": "stderr",
     "output_type": "stream",
     "text": [
      "2018-04-23 08:08:26 PM Cl-                 4\n",
      "2018-04-23 08:08:26 PM DM1                 1\n",
      "2018-04-23 08:08:26 PM DM2                 1\n",
      "2018-04-23 08:08:26 PM DM3                 1\n",
      "2018-04-23 08:08:26 PM GST                 1\n",
      "2018-04-23 08:08:26 PM HST                 1\n",
      "2018-04-23 08:08:26 PM Na+                13\n",
      "2018-04-23 08:08:26 PM WAT              3000\n"
     ]
    },
    {
     "name": "stdout",
     "output_type": "stream",
     "text": [
      "./OA-G6-1 p002\n"
     ]
    },
    {
     "name": "stderr",
     "output_type": "stream",
     "text": [
      "2018-04-23 08:08:31 PM Cl-                 4\n",
      "2018-04-23 08:08:31 PM DM1                 1\n",
      "2018-04-23 08:08:31 PM DM2                 1\n",
      "2018-04-23 08:08:31 PM DM3                 1\n",
      "2018-04-23 08:08:31 PM GST                 1\n",
      "2018-04-23 08:08:31 PM HST                 1\n",
      "2018-04-23 08:08:31 PM Na+                13\n",
      "2018-04-23 08:08:31 PM WAT              3000\n"
     ]
    },
    {
     "name": "stdout",
     "output_type": "stream",
     "text": [
      "./OA-G6-1 p003\n"
     ]
    },
    {
     "name": "stderr",
     "output_type": "stream",
     "text": [
      "2018-04-23 08:08:35 PM Cl-                 4\n",
      "2018-04-23 08:08:35 PM DM1                 1\n",
      "2018-04-23 08:08:35 PM DM2                 1\n",
      "2018-04-23 08:08:35 PM DM3                 1\n",
      "2018-04-23 08:08:35 PM GST                 1\n",
      "2018-04-23 08:08:35 PM HST                 1\n",
      "2018-04-23 08:08:35 PM Na+                13\n",
      "2018-04-23 08:08:35 PM WAT              3000\n"
     ]
    },
    {
     "name": "stdout",
     "output_type": "stream",
     "text": [
      "./OA-G6-1 p004\n"
     ]
    },
    {
     "name": "stderr",
     "output_type": "stream",
     "text": [
      "2018-04-23 08:08:39 PM Cl-                 4\n",
      "2018-04-23 08:08:39 PM DM1                 1\n",
      "2018-04-23 08:08:39 PM DM2                 1\n",
      "2018-04-23 08:08:39 PM DM3                 1\n",
      "2018-04-23 08:08:39 PM GST                 1\n",
      "2018-04-23 08:08:39 PM HST                 1\n",
      "2018-04-23 08:08:39 PM Na+                13\n",
      "2018-04-23 08:08:39 PM WAT              3000\n"
     ]
    },
    {
     "name": "stdout",
     "output_type": "stream",
     "text": [
      "./OA-G6-1 p005\n"
     ]
    },
    {
     "name": "stderr",
     "output_type": "stream",
     "text": [
      "2018-04-23 08:08:42 PM Cl-                 4\n",
      "2018-04-23 08:08:42 PM DM1                 1\n",
      "2018-04-23 08:08:42 PM DM2                 1\n",
      "2018-04-23 08:08:42 PM DM3                 1\n",
      "2018-04-23 08:08:42 PM GST                 1\n",
      "2018-04-23 08:08:42 PM HST                 1\n",
      "2018-04-23 08:08:42 PM Na+                13\n",
      "2018-04-23 08:08:42 PM WAT              3000\n"
     ]
    },
    {
     "name": "stdout",
     "output_type": "stream",
     "text": [
      "./OA-G6-1 p006\n"
     ]
    },
    {
     "name": "stderr",
     "output_type": "stream",
     "text": [
      "2018-04-23 08:08:46 PM Cl-                 4\n",
      "2018-04-23 08:08:46 PM DM1                 1\n",
      "2018-04-23 08:08:46 PM DM2                 1\n",
      "2018-04-23 08:08:46 PM DM3                 1\n",
      "2018-04-23 08:08:46 PM GST                 1\n",
      "2018-04-23 08:08:46 PM HST                 1\n",
      "2018-04-23 08:08:46 PM Na+                13\n",
      "2018-04-23 08:08:46 PM WAT              3000\n"
     ]
    },
    {
     "name": "stdout",
     "output_type": "stream",
     "text": [
      "./OA-G6-1 p007\n"
     ]
    },
    {
     "name": "stderr",
     "output_type": "stream",
     "text": [
      "2018-04-23 08:08:49 PM Cl-                 4\n",
      "2018-04-23 08:08:49 PM DM1                 1\n",
      "2018-04-23 08:08:49 PM DM2                 1\n",
      "2018-04-23 08:08:49 PM DM3                 1\n",
      "2018-04-23 08:08:49 PM GST                 1\n",
      "2018-04-23 08:08:49 PM HST                 1\n",
      "2018-04-23 08:08:49 PM Na+                13\n",
      "2018-04-23 08:08:49 PM WAT              3000\n"
     ]
    },
    {
     "name": "stdout",
     "output_type": "stream",
     "text": [
      "./OA-G6-1 p008\n"
     ]
    },
    {
     "name": "stderr",
     "output_type": "stream",
     "text": [
      "2018-04-23 08:08:53 PM Cl-                 4\n",
      "2018-04-23 08:08:53 PM DM1                 1\n",
      "2018-04-23 08:08:53 PM DM2                 1\n",
      "2018-04-23 08:08:53 PM DM3                 1\n",
      "2018-04-23 08:08:53 PM GST                 1\n",
      "2018-04-23 08:08:53 PM HST                 1\n",
      "2018-04-23 08:08:53 PM Na+                13\n",
      "2018-04-23 08:08:53 PM WAT              3000\n"
     ]
    },
    {
     "name": "stdout",
     "output_type": "stream",
     "text": [
      "./OA-G6-1 p009\n"
     ]
    },
    {
     "name": "stderr",
     "output_type": "stream",
     "text": [
      "2018-04-23 08:08:56 PM Cl-                 4\n",
      "2018-04-23 08:08:56 PM DM1                 1\n",
      "2018-04-23 08:08:56 PM DM2                 1\n",
      "2018-04-23 08:08:56 PM DM3                 1\n",
      "2018-04-23 08:08:56 PM GST                 1\n",
      "2018-04-23 08:08:56 PM HST                 1\n",
      "2018-04-23 08:08:56 PM Na+                13\n",
      "2018-04-23 08:08:56 PM WAT              3000\n"
     ]
    },
    {
     "name": "stdout",
     "output_type": "stream",
     "text": [
      "./OA-G6-1 p010\n"
     ]
    },
    {
     "name": "stderr",
     "output_type": "stream",
     "text": [
      "2018-04-23 08:08:59 PM Cl-                 4\n",
      "2018-04-23 08:08:59 PM DM1                 1\n",
      "2018-04-23 08:08:59 PM DM2                 1\n",
      "2018-04-23 08:08:59 PM DM3                 1\n",
      "2018-04-23 08:08:59 PM GST                 1\n",
      "2018-04-23 08:08:59 PM HST                 1\n",
      "2018-04-23 08:08:59 PM Na+                13\n",
      "2018-04-23 08:08:59 PM WAT              3000\n"
     ]
    },
    {
     "name": "stdout",
     "output_type": "stream",
     "text": [
      "./OA-G6-1 p011\n"
     ]
    },
    {
     "name": "stderr",
     "output_type": "stream",
     "text": [
      "2018-04-23 08:09:02 PM Cl-                 4\n",
      "2018-04-23 08:09:02 PM DM1                 1\n",
      "2018-04-23 08:09:02 PM DM2                 1\n",
      "2018-04-23 08:09:02 PM DM3                 1\n",
      "2018-04-23 08:09:02 PM GST                 1\n",
      "2018-04-23 08:09:02 PM HST                 1\n",
      "2018-04-23 08:09:02 PM Na+                13\n",
      "2018-04-23 08:09:02 PM WAT              3000\n"
     ]
    },
    {
     "name": "stdout",
     "output_type": "stream",
     "text": [
      "./OA-G6-1 p012\n"
     ]
    },
    {
     "name": "stderr",
     "output_type": "stream",
     "text": [
      "2018-04-23 08:09:06 PM Cl-                 4\n",
      "2018-04-23 08:09:06 PM DM1                 1\n",
      "2018-04-23 08:09:06 PM DM2                 1\n",
      "2018-04-23 08:09:06 PM DM3                 1\n",
      "2018-04-23 08:09:06 PM GST                 1\n",
      "2018-04-23 08:09:06 PM HST                 1\n",
      "2018-04-23 08:09:06 PM Na+                13\n",
      "2018-04-23 08:09:06 PM WAT              3000\n"
     ]
    },
    {
     "name": "stdout",
     "output_type": "stream",
     "text": [
      "./OA-G6-1 p013\n"
     ]
    },
    {
     "name": "stderr",
     "output_type": "stream",
     "text": [
      "2018-04-23 08:09:10 PM Cl-                 4\n",
      "2018-04-23 08:09:10 PM DM1                 1\n",
      "2018-04-23 08:09:10 PM DM2                 1\n",
      "2018-04-23 08:09:10 PM DM3                 1\n",
      "2018-04-23 08:09:10 PM GST                 1\n",
      "2018-04-23 08:09:10 PM HST                 1\n",
      "2018-04-23 08:09:10 PM Na+                13\n",
      "2018-04-23 08:09:10 PM WAT              3000\n"
     ]
    },
    {
     "name": "stdout",
     "output_type": "stream",
     "text": [
      "./OA-G6-1 p014\n"
     ]
    },
    {
     "name": "stderr",
     "output_type": "stream",
     "text": [
      "2018-04-23 08:09:13 PM Cl-                 4\n",
      "2018-04-23 08:09:13 PM DM1                 1\n",
      "2018-04-23 08:09:13 PM DM2                 1\n",
      "2018-04-23 08:09:13 PM DM3                 1\n",
      "2018-04-23 08:09:13 PM GST                 1\n",
      "2018-04-23 08:09:13 PM HST                 1\n",
      "2018-04-23 08:09:13 PM Na+                13\n",
      "2018-04-23 08:09:13 PM WAT              3000\n"
     ]
    },
    {
     "name": "stdout",
     "output_type": "stream",
     "text": [
      "./OA-G6-1 p015\n"
     ]
    },
    {
     "name": "stderr",
     "output_type": "stream",
     "text": [
      "2018-04-23 08:09:15 PM Cl-                 4\n",
      "2018-04-23 08:09:15 PM DM1                 1\n",
      "2018-04-23 08:09:15 PM DM2                 1\n",
      "2018-04-23 08:09:15 PM DM3                 1\n",
      "2018-04-23 08:09:15 PM GST                 1\n",
      "2018-04-23 08:09:15 PM HST                 1\n",
      "2018-04-23 08:09:15 PM Na+                13\n",
      "2018-04-23 08:09:15 PM WAT              3000\n"
     ]
    },
    {
     "name": "stdout",
     "output_type": "stream",
     "text": [
      "./OA-G6-1 p016\n"
     ]
    },
    {
     "name": "stderr",
     "output_type": "stream",
     "text": [
      "2018-04-23 08:09:18 PM Cl-                 4\n",
      "2018-04-23 08:09:18 PM DM1                 1\n",
      "2018-04-23 08:09:18 PM DM2                 1\n",
      "2018-04-23 08:09:18 PM DM3                 1\n",
      "2018-04-23 08:09:18 PM GST                 1\n",
      "2018-04-23 08:09:18 PM HST                 1\n",
      "2018-04-23 08:09:18 PM Na+                13\n",
      "2018-04-23 08:09:18 PM WAT              3000\n"
     ]
    },
    {
     "name": "stdout",
     "output_type": "stream",
     "text": [
      "./OA-G6-1 p017\n"
     ]
    },
    {
     "name": "stderr",
     "output_type": "stream",
     "text": [
      "2018-04-23 08:09:22 PM Cl-                 4\n",
      "2018-04-23 08:09:22 PM DM1                 1\n",
      "2018-04-23 08:09:22 PM DM2                 1\n",
      "2018-04-23 08:09:22 PM DM3                 1\n",
      "2018-04-23 08:09:22 PM GST                 1\n",
      "2018-04-23 08:09:22 PM HST                 1\n",
      "2018-04-23 08:09:22 PM Na+                13\n",
      "2018-04-23 08:09:22 PM WAT              3000\n"
     ]
    },
    {
     "name": "stdout",
     "output_type": "stream",
     "text": [
      "./OA-G6-1 p018\n"
     ]
    },
    {
     "name": "stderr",
     "output_type": "stream",
     "text": [
      "2018-04-23 08:09:26 PM Cl-                 4\n",
      "2018-04-23 08:09:26 PM DM1                 1\n",
      "2018-04-23 08:09:26 PM DM2                 1\n",
      "2018-04-23 08:09:26 PM DM3                 1\n",
      "2018-04-23 08:09:26 PM GST                 1\n",
      "2018-04-23 08:09:26 PM HST                 1\n",
      "2018-04-23 08:09:26 PM Na+                13\n",
      "2018-04-23 08:09:26 PM WAT              3000\n"
     ]
    },
    {
     "name": "stdout",
     "output_type": "stream",
     "text": [
      "./OA-G6-1 p019\n"
     ]
    },
    {
     "name": "stderr",
     "output_type": "stream",
     "text": [
      "2018-04-23 08:09:29 PM Cl-                 4\n",
      "2018-04-23 08:09:29 PM DM1                 1\n",
      "2018-04-23 08:09:29 PM DM2                 1\n",
      "2018-04-23 08:09:29 PM DM3                 1\n",
      "2018-04-23 08:09:29 PM GST                 1\n",
      "2018-04-23 08:09:29 PM HST                 1\n",
      "2018-04-23 08:09:29 PM Na+                13\n",
      "2018-04-23 08:09:29 PM WAT              3000\n"
     ]
    },
    {
     "name": "stdout",
     "output_type": "stream",
     "text": [
      "./OA-G6-1 p020\n"
     ]
    },
    {
     "name": "stderr",
     "output_type": "stream",
     "text": [
      "2018-04-23 08:09:32 PM Cl-                 4\n",
      "2018-04-23 08:09:32 PM DM1                 1\n",
      "2018-04-23 08:09:32 PM DM2                 1\n",
      "2018-04-23 08:09:32 PM DM3                 1\n",
      "2018-04-23 08:09:32 PM GST                 1\n",
      "2018-04-23 08:09:32 PM HST                 1\n",
      "2018-04-23 08:09:32 PM Na+                13\n",
      "2018-04-23 08:09:32 PM WAT              3000\n"
     ]
    },
    {
     "name": "stdout",
     "output_type": "stream",
     "text": [
      "./OA-G6-1 p021\n"
     ]
    },
    {
     "name": "stderr",
     "output_type": "stream",
     "text": [
      "2018-04-23 08:09:35 PM Cl-                 4\n",
      "2018-04-23 08:09:35 PM DM1                 1\n",
      "2018-04-23 08:09:35 PM DM2                 1\n",
      "2018-04-23 08:09:35 PM DM3                 1\n",
      "2018-04-23 08:09:35 PM GST                 1\n",
      "2018-04-23 08:09:35 PM HST                 1\n",
      "2018-04-23 08:09:35 PM Na+                13\n",
      "2018-04-23 08:09:35 PM WAT              3000\n"
     ]
    },
    {
     "name": "stdout",
     "output_type": "stream",
     "text": [
      "./OA-G6-1 p022\n"
     ]
    },
    {
     "name": "stderr",
     "output_type": "stream",
     "text": [
      "2018-04-23 08:09:38 PM Cl-                 4\n",
      "2018-04-23 08:09:38 PM DM1                 1\n",
      "2018-04-23 08:09:38 PM DM2                 1\n",
      "2018-04-23 08:09:38 PM DM3                 1\n",
      "2018-04-23 08:09:38 PM GST                 1\n",
      "2018-04-23 08:09:38 PM HST                 1\n",
      "2018-04-23 08:09:38 PM Na+                13\n",
      "2018-04-23 08:09:38 PM WAT              3000\n"
     ]
    },
    {
     "name": "stdout",
     "output_type": "stream",
     "text": [
      "./OA-G6-1 p023\n"
     ]
    },
    {
     "name": "stderr",
     "output_type": "stream",
     "text": [
      "2018-04-23 08:09:41 PM Cl-                 4\n",
      "2018-04-23 08:09:41 PM DM1                 1\n",
      "2018-04-23 08:09:41 PM DM2                 1\n",
      "2018-04-23 08:09:41 PM DM3                 1\n",
      "2018-04-23 08:09:41 PM GST                 1\n",
      "2018-04-23 08:09:41 PM HST                 1\n",
      "2018-04-23 08:09:41 PM Na+                13\n",
      "2018-04-23 08:09:41 PM WAT              3000\n"
     ]
    },
    {
     "name": "stdout",
     "output_type": "stream",
     "text": [
      "./OA-G6-1 p024\n"
     ]
    },
    {
     "name": "stderr",
     "output_type": "stream",
     "text": [
      "2018-04-23 08:09:44 PM Cl-                 4\n",
      "2018-04-23 08:09:44 PM DM1                 1\n",
      "2018-04-23 08:09:44 PM DM2                 1\n",
      "2018-04-23 08:09:44 PM DM3                 1\n",
      "2018-04-23 08:09:44 PM GST                 1\n",
      "2018-04-23 08:09:44 PM HST                 1\n",
      "2018-04-23 08:09:44 PM Na+                13\n",
      "2018-04-23 08:09:44 PM WAT              3000\n"
     ]
    },
    {
     "name": "stdout",
     "output_type": "stream",
     "text": [
      "./OA-G6-1 p025\n"
     ]
    },
    {
     "name": "stderr",
     "output_type": "stream",
     "text": [
      "2018-04-23 08:09:47 PM Cl-                 4\n",
      "2018-04-23 08:09:47 PM DM1                 1\n",
      "2018-04-23 08:09:47 PM DM2                 1\n",
      "2018-04-23 08:09:47 PM DM3                 1\n",
      "2018-04-23 08:09:47 PM GST                 1\n",
      "2018-04-23 08:09:47 PM HST                 1\n",
      "2018-04-23 08:09:47 PM Na+                13\n",
      "2018-04-23 08:09:47 PM WAT              3000\n"
     ]
    },
    {
     "name": "stdout",
     "output_type": "stream",
     "text": [
      "./OA-G6-1 p026\n"
     ]
    },
    {
     "name": "stderr",
     "output_type": "stream",
     "text": [
      "2018-04-23 08:09:51 PM Cl-                 4\n",
      "2018-04-23 08:09:51 PM DM1                 1\n",
      "2018-04-23 08:09:51 PM DM2                 1\n",
      "2018-04-23 08:09:51 PM DM3                 1\n",
      "2018-04-23 08:09:51 PM GST                 1\n",
      "2018-04-23 08:09:51 PM HST                 1\n",
      "2018-04-23 08:09:51 PM Na+                13\n",
      "2018-04-23 08:09:51 PM WAT              3000\n"
     ]
    },
    {
     "name": "stdout",
     "output_type": "stream",
     "text": [
      "./OA-G6-1 p027\n"
     ]
    },
    {
     "name": "stderr",
     "output_type": "stream",
     "text": [
      "2018-04-23 08:09:55 PM Cl-                 4\n",
      "2018-04-23 08:09:55 PM DM1                 1\n",
      "2018-04-23 08:09:55 PM DM2                 1\n",
      "2018-04-23 08:09:55 PM DM3                 1\n",
      "2018-04-23 08:09:55 PM GST                 1\n",
      "2018-04-23 08:09:55 PM HST                 1\n",
      "2018-04-23 08:09:55 PM Na+                13\n",
      "2018-04-23 08:09:55 PM WAT              3000\n"
     ]
    },
    {
     "name": "stdout",
     "output_type": "stream",
     "text": [
      "./OA-G6-1 p028\n"
     ]
    },
    {
     "name": "stderr",
     "output_type": "stream",
     "text": [
      "2018-04-23 08:09:59 PM Cl-                 4\n",
      "2018-04-23 08:09:59 PM DM1                 1\n",
      "2018-04-23 08:09:59 PM DM2                 1\n",
      "2018-04-23 08:09:59 PM DM3                 1\n",
      "2018-04-23 08:09:59 PM GST                 1\n",
      "2018-04-23 08:09:59 PM HST                 1\n",
      "2018-04-23 08:09:59 PM Na+                13\n",
      "2018-04-23 08:09:59 PM WAT              3000\n"
     ]
    },
    {
     "name": "stdout",
     "output_type": "stream",
     "text": [
      "./OA-G6-1 p029\n"
     ]
    },
    {
     "name": "stderr",
     "output_type": "stream",
     "text": [
      "2018-04-23 08:10:02 PM Cl-                 4\n",
      "2018-04-23 08:10:02 PM DM1                 1\n",
      "2018-04-23 08:10:02 PM DM2                 1\n",
      "2018-04-23 08:10:02 PM DM3                 1\n",
      "2018-04-23 08:10:02 PM GST                 1\n",
      "2018-04-23 08:10:02 PM HST                 1\n",
      "2018-04-23 08:10:02 PM Na+                13\n",
      "2018-04-23 08:10:02 PM WAT              3000\n"
     ]
    },
    {
     "name": "stdout",
     "output_type": "stream",
     "text": [
      "./OA-G6-1 p030\n"
     ]
    },
    {
     "name": "stderr",
     "output_type": "stream",
     "text": [
      "2018-04-23 08:10:05 PM Cl-                 4\n",
      "2018-04-23 08:10:05 PM DM1                 1\n",
      "2018-04-23 08:10:05 PM DM2                 1\n",
      "2018-04-23 08:10:05 PM DM3                 1\n",
      "2018-04-23 08:10:05 PM GST                 1\n",
      "2018-04-23 08:10:05 PM HST                 1\n",
      "2018-04-23 08:10:05 PM Na+                13\n",
      "2018-04-23 08:10:05 PM WAT              3000\n"
     ]
    },
    {
     "name": "stdout",
     "output_type": "stream",
     "text": [
      "./OA-G6-1 p031\n"
     ]
    },
    {
     "name": "stderr",
     "output_type": "stream",
     "text": [
      "2018-04-23 08:10:07 PM Cl-                 4\n",
      "2018-04-23 08:10:07 PM DM1                 1\n",
      "2018-04-23 08:10:07 PM DM2                 1\n",
      "2018-04-23 08:10:07 PM DM3                 1\n",
      "2018-04-23 08:10:07 PM GST                 1\n",
      "2018-04-23 08:10:07 PM HST                 1\n",
      "2018-04-23 08:10:07 PM Na+                13\n",
      "2018-04-23 08:10:07 PM WAT              3000\n"
     ]
    },
    {
     "name": "stdout",
     "output_type": "stream",
     "text": [
      "./OA-G6-1 p032\n"
     ]
    },
    {
     "name": "stderr",
     "output_type": "stream",
     "text": [
      "2018-04-23 08:10:11 PM Cl-                 4\n",
      "2018-04-23 08:10:11 PM DM1                 1\n",
      "2018-04-23 08:10:11 PM DM2                 1\n",
      "2018-04-23 08:10:11 PM DM3                 1\n",
      "2018-04-23 08:10:11 PM GST                 1\n",
      "2018-04-23 08:10:11 PM HST                 1\n",
      "2018-04-23 08:10:11 PM Na+                13\n",
      "2018-04-23 08:10:11 PM WAT              3000\n"
     ]
    },
    {
     "name": "stdout",
     "output_type": "stream",
     "text": [
      "./OA-G6-1 p033\n"
     ]
    },
    {
     "name": "stderr",
     "output_type": "stream",
     "text": [
      "2018-04-23 08:10:14 PM Cl-                 4\n",
      "2018-04-23 08:10:14 PM DM1                 1\n",
      "2018-04-23 08:10:14 PM DM2                 1\n",
      "2018-04-23 08:10:14 PM DM3                 1\n",
      "2018-04-23 08:10:14 PM GST                 1\n",
      "2018-04-23 08:10:14 PM HST                 1\n",
      "2018-04-23 08:10:14 PM Na+                13\n",
      "2018-04-23 08:10:14 PM WAT              3000\n"
     ]
    },
    {
     "name": "stdout",
     "output_type": "stream",
     "text": [
      "./OA-G6-1 p034\n"
     ]
    },
    {
     "name": "stderr",
     "output_type": "stream",
     "text": [
      "2018-04-23 08:10:17 PM Cl-                 4\n",
      "2018-04-23 08:10:17 PM DM1                 1\n",
      "2018-04-23 08:10:17 PM DM2                 1\n",
      "2018-04-23 08:10:17 PM DM3                 1\n",
      "2018-04-23 08:10:17 PM GST                 1\n",
      "2018-04-23 08:10:17 PM HST                 1\n",
      "2018-04-23 08:10:17 PM Na+                13\n",
      "2018-04-23 08:10:17 PM WAT              3000\n"
     ]
    },
    {
     "name": "stdout",
     "output_type": "stream",
     "text": [
      "./OA-G6-1 p035\n"
     ]
    },
    {
     "name": "stderr",
     "output_type": "stream",
     "text": [
      "2018-04-23 08:10:20 PM Cl-                 4\n",
      "2018-04-23 08:10:20 PM DM1                 1\n",
      "2018-04-23 08:10:20 PM DM2                 1\n",
      "2018-04-23 08:10:20 PM DM3                 1\n",
      "2018-04-23 08:10:20 PM GST                 1\n",
      "2018-04-23 08:10:20 PM HST                 1\n",
      "2018-04-23 08:10:20 PM Na+                13\n",
      "2018-04-23 08:10:20 PM WAT              3000\n"
     ]
    },
    {
     "name": "stdout",
     "output_type": "stream",
     "text": [
      "./OA-G6-1 p036\n"
     ]
    },
    {
     "name": "stderr",
     "output_type": "stream",
     "text": [
      "2018-04-23 08:10:22 PM Cl-                 4\n",
      "2018-04-23 08:10:22 PM DM1                 1\n",
      "2018-04-23 08:10:22 PM DM2                 1\n",
      "2018-04-23 08:10:22 PM DM3                 1\n",
      "2018-04-23 08:10:22 PM GST                 1\n",
      "2018-04-23 08:10:22 PM HST                 1\n",
      "2018-04-23 08:10:22 PM Na+                13\n",
      "2018-04-23 08:10:22 PM WAT              3000\n"
     ]
    },
    {
     "name": "stdout",
     "output_type": "stream",
     "text": [
      "./OA-G6-1 p037\n"
     ]
    },
    {
     "name": "stderr",
     "output_type": "stream",
     "text": [
      "2018-04-23 08:10:26 PM Cl-                 4\n",
      "2018-04-23 08:10:26 PM DM1                 1\n",
      "2018-04-23 08:10:26 PM DM2                 1\n",
      "2018-04-23 08:10:26 PM DM3                 1\n",
      "2018-04-23 08:10:26 PM GST                 1\n",
      "2018-04-23 08:10:26 PM HST                 1\n",
      "2018-04-23 08:10:26 PM Na+                13\n",
      "2018-04-23 08:10:26 PM WAT              3000\n"
     ]
    },
    {
     "name": "stdout",
     "output_type": "stream",
     "text": [
      "./OA-G6-1 p038\n"
     ]
    },
    {
     "name": "stderr",
     "output_type": "stream",
     "text": [
      "2018-04-23 08:10:30 PM Cl-                 4\n",
      "2018-04-23 08:10:30 PM DM1                 1\n",
      "2018-04-23 08:10:30 PM DM2                 1\n",
      "2018-04-23 08:10:30 PM DM3                 1\n",
      "2018-04-23 08:10:30 PM GST                 1\n",
      "2018-04-23 08:10:30 PM HST                 1\n",
      "2018-04-23 08:10:30 PM Na+                13\n",
      "2018-04-23 08:10:30 PM WAT              3000\n"
     ]
    },
    {
     "name": "stdout",
     "output_type": "stream",
     "text": [
      "./OA-G6-1 p039\n"
     ]
    },
    {
     "name": "stderr",
     "output_type": "stream",
     "text": [
      "2018-04-23 08:10:33 PM Cl-                 4\n",
      "2018-04-23 08:10:33 PM DM1                 1\n",
      "2018-04-23 08:10:33 PM DM2                 1\n",
      "2018-04-23 08:10:33 PM DM3                 1\n",
      "2018-04-23 08:10:33 PM GST                 1\n",
      "2018-04-23 08:10:33 PM HST                 1\n",
      "2018-04-23 08:10:33 PM Na+                13\n",
      "2018-04-23 08:10:33 PM WAT              3000\n"
     ]
    },
    {
     "name": "stdout",
     "output_type": "stream",
     "text": [
      "./OA-G6-1 p040\n"
     ]
    },
    {
     "name": "stderr",
     "output_type": "stream",
     "text": [
      "2018-04-23 08:10:36 PM Cl-                 4\n",
      "2018-04-23 08:10:36 PM DM1                 1\n",
      "2018-04-23 08:10:36 PM DM2                 1\n",
      "2018-04-23 08:10:36 PM DM3                 1\n",
      "2018-04-23 08:10:36 PM GST                 1\n",
      "2018-04-23 08:10:36 PM HST                 1\n",
      "2018-04-23 08:10:36 PM Na+                13\n",
      "2018-04-23 08:10:36 PM WAT              3000\n"
     ]
    },
    {
     "name": "stdout",
     "output_type": "stream",
     "text": [
      "./OA-G6-1 p041\n"
     ]
    },
    {
     "name": "stderr",
     "output_type": "stream",
     "text": [
      "2018-04-23 08:10:40 PM Cl-                 4\n",
      "2018-04-23 08:10:40 PM DM1                 1\n",
      "2018-04-23 08:10:40 PM DM2                 1\n",
      "2018-04-23 08:10:40 PM DM3                 1\n",
      "2018-04-23 08:10:40 PM GST                 1\n",
      "2018-04-23 08:10:40 PM HST                 1\n",
      "2018-04-23 08:10:40 PM Na+                13\n",
      "2018-04-23 08:10:40 PM WAT              3000\n"
     ]
    },
    {
     "name": "stdout",
     "output_type": "stream",
     "text": [
      "./OA-G6-1 p042\n"
     ]
    },
    {
     "name": "stderr",
     "output_type": "stream",
     "text": [
      "2018-04-23 08:10:44 PM Cl-                 4\n",
      "2018-04-23 08:10:44 PM DM1                 1\n",
      "2018-04-23 08:10:44 PM DM2                 1\n",
      "2018-04-23 08:10:44 PM DM3                 1\n",
      "2018-04-23 08:10:44 PM GST                 1\n",
      "2018-04-23 08:10:44 PM HST                 1\n",
      "2018-04-23 08:10:44 PM Na+                13\n",
      "2018-04-23 08:10:44 PM WAT              3000\n"
     ]
    },
    {
     "name": "stdout",
     "output_type": "stream",
     "text": [
      "./OA-G6-1 p043\n"
     ]
    },
    {
     "name": "stderr",
     "output_type": "stream",
     "text": [
      "2018-04-23 08:10:47 PM Cl-                 4\n",
      "2018-04-23 08:10:47 PM DM1                 1\n",
      "2018-04-23 08:10:47 PM DM2                 1\n",
      "2018-04-23 08:10:47 PM DM3                 1\n",
      "2018-04-23 08:10:47 PM GST                 1\n",
      "2018-04-23 08:10:47 PM HST                 1\n",
      "2018-04-23 08:10:47 PM Na+                13\n",
      "2018-04-23 08:10:47 PM WAT              3000\n"
     ]
    },
    {
     "name": "stdout",
     "output_type": "stream",
     "text": [
      "./OA-G6-1 p044\n"
     ]
    },
    {
     "name": "stderr",
     "output_type": "stream",
     "text": [
      "2018-04-23 08:10:49 PM Cl-                 4\n",
      "2018-04-23 08:10:49 PM DM1                 1\n",
      "2018-04-23 08:10:49 PM DM2                 1\n",
      "2018-04-23 08:10:49 PM DM3                 1\n",
      "2018-04-23 08:10:49 PM GST                 1\n",
      "2018-04-23 08:10:49 PM HST                 1\n",
      "2018-04-23 08:10:49 PM Na+                13\n",
      "2018-04-23 08:10:49 PM WAT              3000\n"
     ]
    },
    {
     "name": "stdout",
     "output_type": "stream",
     "text": [
      "./OA-G6-1 p045\n"
     ]
    },
    {
     "name": "stderr",
     "output_type": "stream",
     "text": [
      "2018-04-23 08:10:52 PM Cl-                 4\n",
      "2018-04-23 08:10:52 PM DM1                 1\n",
      "2018-04-23 08:10:52 PM DM2                 1\n",
      "2018-04-23 08:10:52 PM DM3                 1\n",
      "2018-04-23 08:10:52 PM GST                 1\n",
      "2018-04-23 08:10:52 PM HST                 1\n",
      "2018-04-23 08:10:52 PM Na+                13\n",
      "2018-04-23 08:10:52 PM WAT              3000\n"
     ]
    },
    {
     "name": "stdout",
     "output_type": "stream",
     "text": [
      "./OA-G6-4 a000\n"
     ]
    },
    {
     "name": "stderr",
     "output_type": "stream",
     "text": [
      "2018-04-23 08:10:56 PM Cl-                 4\n",
      "2018-04-23 08:10:56 PM DM1                 1\n",
      "2018-04-23 08:10:56 PM DM2                 1\n",
      "2018-04-23 08:10:56 PM DM3                 1\n",
      "2018-04-23 08:10:56 PM GST                 1\n",
      "2018-04-23 08:10:56 PM HST                 1\n",
      "2018-04-23 08:10:56 PM Na+                13\n",
      "2018-04-23 08:10:56 PM WAT              3000\n"
     ]
    },
    {
     "name": "stdout",
     "output_type": "stream",
     "text": [
      "./OA-G6-4 a001\n"
     ]
    },
    {
     "name": "stderr",
     "output_type": "stream",
     "text": [
      "2018-04-23 08:10:59 PM Cl-                 4\n",
      "2018-04-23 08:10:59 PM DM1                 1\n",
      "2018-04-23 08:10:59 PM DM2                 1\n",
      "2018-04-23 08:10:59 PM DM3                 1\n",
      "2018-04-23 08:10:59 PM GST                 1\n",
      "2018-04-23 08:10:59 PM HST                 1\n",
      "2018-04-23 08:10:59 PM Na+                13\n",
      "2018-04-23 08:10:59 PM WAT              3000\n"
     ]
    },
    {
     "name": "stdout",
     "output_type": "stream",
     "text": [
      "./OA-G6-4 a002\n"
     ]
    },
    {
     "name": "stderr",
     "output_type": "stream",
     "text": [
      "2018-04-23 08:11:02 PM Cl-                 4\n",
      "2018-04-23 08:11:02 PM DM1                 1\n",
      "2018-04-23 08:11:02 PM DM2                 1\n",
      "2018-04-23 08:11:02 PM DM3                 1\n",
      "2018-04-23 08:11:02 PM GST                 1\n",
      "2018-04-23 08:11:02 PM HST                 1\n",
      "2018-04-23 08:11:02 PM Na+                13\n",
      "2018-04-23 08:11:02 PM WAT              3000\n"
     ]
    },
    {
     "name": "stdout",
     "output_type": "stream",
     "text": [
      "./OA-G6-4 a003\n"
     ]
    },
    {
     "name": "stderr",
     "output_type": "stream",
     "text": [
      "2018-04-23 08:11:05 PM Cl-                 4\n",
      "2018-04-23 08:11:05 PM DM1                 1\n",
      "2018-04-23 08:11:05 PM DM2                 1\n",
      "2018-04-23 08:11:05 PM DM3                 1\n",
      "2018-04-23 08:11:05 PM GST                 1\n",
      "2018-04-23 08:11:05 PM HST                 1\n",
      "2018-04-23 08:11:05 PM Na+                13\n",
      "2018-04-23 08:11:05 PM WAT              3000\n"
     ]
    },
    {
     "name": "stdout",
     "output_type": "stream",
     "text": [
      "./OA-G6-4 a004\n"
     ]
    },
    {
     "name": "stderr",
     "output_type": "stream",
     "text": [
      "2018-04-23 08:11:09 PM Cl-                 4\n",
      "2018-04-23 08:11:09 PM DM1                 1\n",
      "2018-04-23 08:11:09 PM DM2                 1\n",
      "2018-04-23 08:11:09 PM DM3                 1\n",
      "2018-04-23 08:11:09 PM GST                 1\n",
      "2018-04-23 08:11:09 PM HST                 1\n",
      "2018-04-23 08:11:09 PM Na+                13\n",
      "2018-04-23 08:11:09 PM WAT              3000\n"
     ]
    },
    {
     "name": "stdout",
     "output_type": "stream",
     "text": [
      "./OA-G6-4 a005\n"
     ]
    },
    {
     "name": "stderr",
     "output_type": "stream",
     "text": [
      "2018-04-23 08:11:12 PM Cl-                 4\n",
      "2018-04-23 08:11:12 PM DM1                 1\n",
      "2018-04-23 08:11:12 PM DM2                 1\n",
      "2018-04-23 08:11:12 PM DM3                 1\n",
      "2018-04-23 08:11:12 PM GST                 1\n",
      "2018-04-23 08:11:12 PM HST                 1\n",
      "2018-04-23 08:11:12 PM Na+                13\n",
      "2018-04-23 08:11:12 PM WAT              3000\n"
     ]
    },
    {
     "name": "stdout",
     "output_type": "stream",
     "text": [
      "./OA-G6-4 a006\n"
     ]
    },
    {
     "name": "stderr",
     "output_type": "stream",
     "text": [
      "2018-04-23 08:11:15 PM Cl-                 4\n",
      "2018-04-23 08:11:15 PM DM1                 1\n",
      "2018-04-23 08:11:15 PM DM2                 1\n",
      "2018-04-23 08:11:15 PM DM3                 1\n",
      "2018-04-23 08:11:15 PM GST                 1\n",
      "2018-04-23 08:11:15 PM HST                 1\n",
      "2018-04-23 08:11:15 PM Na+                13\n",
      "2018-04-23 08:11:15 PM WAT              3000\n"
     ]
    },
    {
     "name": "stdout",
     "output_type": "stream",
     "text": [
      "./OA-G6-4 a007\n"
     ]
    },
    {
     "name": "stderr",
     "output_type": "stream",
     "text": [
      "2018-04-23 08:11:19 PM Cl-                 4\n",
      "2018-04-23 08:11:19 PM DM1                 1\n",
      "2018-04-23 08:11:19 PM DM2                 1\n",
      "2018-04-23 08:11:19 PM DM3                 1\n",
      "2018-04-23 08:11:19 PM GST                 1\n",
      "2018-04-23 08:11:19 PM HST                 1\n",
      "2018-04-23 08:11:19 PM Na+                13\n",
      "2018-04-23 08:11:19 PM WAT              3000\n"
     ]
    },
    {
     "name": "stdout",
     "output_type": "stream",
     "text": [
      "./OA-G6-4 a008\n"
     ]
    },
    {
     "name": "stderr",
     "output_type": "stream",
     "text": [
      "2018-04-23 08:11:22 PM Cl-                 4\n",
      "2018-04-23 08:11:22 PM DM1                 1\n",
      "2018-04-23 08:11:22 PM DM2                 1\n",
      "2018-04-23 08:11:22 PM DM3                 1\n",
      "2018-04-23 08:11:22 PM GST                 1\n",
      "2018-04-23 08:11:22 PM HST                 1\n",
      "2018-04-23 08:11:22 PM Na+                13\n",
      "2018-04-23 08:11:22 PM WAT              3000\n"
     ]
    },
    {
     "name": "stdout",
     "output_type": "stream",
     "text": [
      "./OA-G6-4 a009\n"
     ]
    },
    {
     "name": "stderr",
     "output_type": "stream",
     "text": [
      "2018-04-23 08:11:25 PM Cl-                 4\n",
      "2018-04-23 08:11:25 PM DM1                 1\n",
      "2018-04-23 08:11:25 PM DM2                 1\n",
      "2018-04-23 08:11:25 PM DM3                 1\n",
      "2018-04-23 08:11:25 PM GST                 1\n",
      "2018-04-23 08:11:25 PM HST                 1\n",
      "2018-04-23 08:11:25 PM Na+                13\n",
      "2018-04-23 08:11:25 PM WAT              3000\n"
     ]
    },
    {
     "name": "stdout",
     "output_type": "stream",
     "text": [
      "./OA-G6-4 a010\n"
     ]
    },
    {
     "name": "stderr",
     "output_type": "stream",
     "text": [
      "2018-04-23 08:11:29 PM Cl-                 4\n",
      "2018-04-23 08:11:29 PM DM1                 1\n",
      "2018-04-23 08:11:29 PM DM2                 1\n",
      "2018-04-23 08:11:29 PM DM3                 1\n",
      "2018-04-23 08:11:29 PM GST                 1\n",
      "2018-04-23 08:11:29 PM HST                 1\n",
      "2018-04-23 08:11:29 PM Na+                13\n",
      "2018-04-23 08:11:29 PM WAT              3000\n"
     ]
    },
    {
     "name": "stdout",
     "output_type": "stream",
     "text": [
      "./OA-G6-4 a011\n"
     ]
    },
    {
     "name": "stderr",
     "output_type": "stream",
     "text": [
      "2018-04-23 08:11:32 PM Cl-                 4\n",
      "2018-04-23 08:11:32 PM DM1                 1\n",
      "2018-04-23 08:11:32 PM DM2                 1\n",
      "2018-04-23 08:11:32 PM DM3                 1\n",
      "2018-04-23 08:11:32 PM GST                 1\n",
      "2018-04-23 08:11:32 PM HST                 1\n",
      "2018-04-23 08:11:32 PM Na+                13\n",
      "2018-04-23 08:11:32 PM WAT              3000\n"
     ]
    },
    {
     "name": "stdout",
     "output_type": "stream",
     "text": [
      "./OA-G6-4 a012\n"
     ]
    },
    {
     "name": "stderr",
     "output_type": "stream",
     "text": [
      "2018-04-23 08:11:35 PM Cl-                 4\n",
      "2018-04-23 08:11:35 PM DM1                 1\n",
      "2018-04-23 08:11:35 PM DM2                 1\n",
      "2018-04-23 08:11:35 PM DM3                 1\n",
      "2018-04-23 08:11:35 PM GST                 1\n",
      "2018-04-23 08:11:35 PM HST                 1\n",
      "2018-04-23 08:11:35 PM Na+                13\n",
      "2018-04-23 08:11:35 PM WAT              3000\n"
     ]
    },
    {
     "name": "stdout",
     "output_type": "stream",
     "text": [
      "./OA-G6-4 a013\n"
     ]
    },
    {
     "name": "stderr",
     "output_type": "stream",
     "text": [
      "2018-04-23 08:11:38 PM Cl-                 4\n",
      "2018-04-23 08:11:38 PM DM1                 1\n",
      "2018-04-23 08:11:38 PM DM2                 1\n",
      "2018-04-23 08:11:38 PM DM3                 1\n",
      "2018-04-23 08:11:38 PM GST                 1\n",
      "2018-04-23 08:11:38 PM HST                 1\n",
      "2018-04-23 08:11:38 PM Na+                13\n",
      "2018-04-23 08:11:38 PM WAT              3000\n"
     ]
    },
    {
     "name": "stdout",
     "output_type": "stream",
     "text": [
      "./OA-G6-4 p000\n"
     ]
    },
    {
     "name": "stderr",
     "output_type": "stream",
     "text": [
      "2018-04-23 08:11:42 PM Cl-                 4\n",
      "2018-04-23 08:11:42 PM DM1                 1\n",
      "2018-04-23 08:11:42 PM DM2                 1\n",
      "2018-04-23 08:11:42 PM DM3                 1\n",
      "2018-04-23 08:11:42 PM GST                 1\n",
      "2018-04-23 08:11:42 PM HST                 1\n",
      "2018-04-23 08:11:42 PM Na+                13\n",
      "2018-04-23 08:11:42 PM WAT              3000\n"
     ]
    },
    {
     "name": "stdout",
     "output_type": "stream",
     "text": [
      "./OA-G6-4 p001\n"
     ]
    },
    {
     "name": "stderr",
     "output_type": "stream",
     "text": [
      "2018-04-23 08:11:45 PM Cl-                 4\n",
      "2018-04-23 08:11:45 PM DM1                 1\n",
      "2018-04-23 08:11:45 PM DM2                 1\n",
      "2018-04-23 08:11:45 PM DM3                 1\n",
      "2018-04-23 08:11:45 PM GST                 1\n",
      "2018-04-23 08:11:45 PM HST                 1\n",
      "2018-04-23 08:11:45 PM Na+                13\n",
      "2018-04-23 08:11:45 PM WAT              3000\n"
     ]
    },
    {
     "name": "stdout",
     "output_type": "stream",
     "text": [
      "./OA-G6-4 p002\n"
     ]
    },
    {
     "name": "stderr",
     "output_type": "stream",
     "text": [
      "2018-04-23 08:11:49 PM Cl-                 4\n",
      "2018-04-23 08:11:49 PM DM1                 1\n",
      "2018-04-23 08:11:49 PM DM2                 1\n",
      "2018-04-23 08:11:49 PM DM3                 1\n",
      "2018-04-23 08:11:49 PM GST                 1\n",
      "2018-04-23 08:11:49 PM HST                 1\n",
      "2018-04-23 08:11:49 PM Na+                13\n",
      "2018-04-23 08:11:49 PM WAT              3000\n"
     ]
    },
    {
     "name": "stdout",
     "output_type": "stream",
     "text": [
      "./OA-G6-4 p003\n"
     ]
    },
    {
     "name": "stderr",
     "output_type": "stream",
     "text": [
      "2018-04-23 08:11:51 PM Cl-                 4\n",
      "2018-04-23 08:11:51 PM DM1                 1\n",
      "2018-04-23 08:11:51 PM DM2                 1\n",
      "2018-04-23 08:11:51 PM DM3                 1\n",
      "2018-04-23 08:11:51 PM GST                 1\n",
      "2018-04-23 08:11:51 PM HST                 1\n",
      "2018-04-23 08:11:51 PM Na+                13\n",
      "2018-04-23 08:11:51 PM WAT              3000\n"
     ]
    },
    {
     "name": "stdout",
     "output_type": "stream",
     "text": [
      "./OA-G6-4 p004\n"
     ]
    },
    {
     "name": "stderr",
     "output_type": "stream",
     "text": [
      "2018-04-23 08:11:54 PM Cl-                 4\n",
      "2018-04-23 08:11:54 PM DM1                 1\n",
      "2018-04-23 08:11:54 PM DM2                 1\n",
      "2018-04-23 08:11:54 PM DM3                 1\n",
      "2018-04-23 08:11:54 PM GST                 1\n",
      "2018-04-23 08:11:54 PM HST                 1\n",
      "2018-04-23 08:11:54 PM Na+                13\n",
      "2018-04-23 08:11:54 PM WAT              3000\n"
     ]
    },
    {
     "name": "stdout",
     "output_type": "stream",
     "text": [
      "./OA-G6-4 p005\n"
     ]
    },
    {
     "name": "stderr",
     "output_type": "stream",
     "text": [
      "2018-04-23 08:11:57 PM Cl-                 4\n",
      "2018-04-23 08:11:57 PM DM1                 1\n",
      "2018-04-23 08:11:57 PM DM2                 1\n",
      "2018-04-23 08:11:57 PM DM3                 1\n",
      "2018-04-23 08:11:57 PM GST                 1\n",
      "2018-04-23 08:11:57 PM HST                 1\n",
      "2018-04-23 08:11:57 PM Na+                13\n",
      "2018-04-23 08:11:57 PM WAT              3000\n"
     ]
    },
    {
     "name": "stdout",
     "output_type": "stream",
     "text": [
      "./OA-G6-4 p006\n"
     ]
    },
    {
     "name": "stderr",
     "output_type": "stream",
     "text": [
      "2018-04-23 08:12:00 PM Cl-                 4\n",
      "2018-04-23 08:12:00 PM DM1                 1\n",
      "2018-04-23 08:12:00 PM DM2                 1\n",
      "2018-04-23 08:12:00 PM DM3                 1\n",
      "2018-04-23 08:12:00 PM GST                 1\n",
      "2018-04-23 08:12:00 PM HST                 1\n",
      "2018-04-23 08:12:00 PM Na+                13\n",
      "2018-04-23 08:12:00 PM WAT              3000\n"
     ]
    },
    {
     "name": "stdout",
     "output_type": "stream",
     "text": [
      "./OA-G6-4 p007\n"
     ]
    },
    {
     "name": "stderr",
     "output_type": "stream",
     "text": [
      "2018-04-23 08:12:03 PM Cl-                 4\n",
      "2018-04-23 08:12:03 PM DM1                 1\n",
      "2018-04-23 08:12:03 PM DM2                 1\n",
      "2018-04-23 08:12:03 PM DM3                 1\n",
      "2018-04-23 08:12:03 PM GST                 1\n",
      "2018-04-23 08:12:03 PM HST                 1\n",
      "2018-04-23 08:12:03 PM Na+                13\n",
      "2018-04-23 08:12:03 PM WAT              3000\n"
     ]
    },
    {
     "name": "stdout",
     "output_type": "stream",
     "text": [
      "./OA-G6-4 p008\n"
     ]
    },
    {
     "name": "stderr",
     "output_type": "stream",
     "text": [
      "2018-04-23 08:12:06 PM Cl-                 4\n",
      "2018-04-23 08:12:06 PM DM1                 1\n",
      "2018-04-23 08:12:06 PM DM2                 1\n",
      "2018-04-23 08:12:06 PM DM3                 1\n",
      "2018-04-23 08:12:06 PM GST                 1\n",
      "2018-04-23 08:12:06 PM HST                 1\n",
      "2018-04-23 08:12:06 PM Na+                13\n",
      "2018-04-23 08:12:06 PM WAT              3000\n"
     ]
    },
    {
     "name": "stdout",
     "output_type": "stream",
     "text": [
      "./OA-G6-4 p009\n"
     ]
    },
    {
     "name": "stderr",
     "output_type": "stream",
     "text": [
      "2018-04-23 08:12:08 PM Cl-                 4\n",
      "2018-04-23 08:12:08 PM DM1                 1\n",
      "2018-04-23 08:12:08 PM DM2                 1\n",
      "2018-04-23 08:12:08 PM DM3                 1\n",
      "2018-04-23 08:12:08 PM GST                 1\n",
      "2018-04-23 08:12:08 PM HST                 1\n",
      "2018-04-23 08:12:08 PM Na+                13\n",
      "2018-04-23 08:12:08 PM WAT              3000\n"
     ]
    },
    {
     "name": "stdout",
     "output_type": "stream",
     "text": [
      "./OA-G6-4 p010\n"
     ]
    },
    {
     "name": "stderr",
     "output_type": "stream",
     "text": [
      "2018-04-23 08:12:11 PM Cl-                 4\n",
      "2018-04-23 08:12:11 PM DM1                 1\n",
      "2018-04-23 08:12:11 PM DM2                 1\n",
      "2018-04-23 08:12:11 PM DM3                 1\n",
      "2018-04-23 08:12:11 PM GST                 1\n",
      "2018-04-23 08:12:11 PM HST                 1\n",
      "2018-04-23 08:12:11 PM Na+                13\n",
      "2018-04-23 08:12:11 PM WAT              3000\n"
     ]
    },
    {
     "name": "stdout",
     "output_type": "stream",
     "text": [
      "./OA-G6-4 p011\n"
     ]
    },
    {
     "name": "stderr",
     "output_type": "stream",
     "text": [
      "2018-04-23 08:12:15 PM Cl-                 4\n",
      "2018-04-23 08:12:15 PM DM1                 1\n",
      "2018-04-23 08:12:15 PM DM2                 1\n",
      "2018-04-23 08:12:15 PM DM3                 1\n",
      "2018-04-23 08:12:15 PM GST                 1\n",
      "2018-04-23 08:12:15 PM HST                 1\n",
      "2018-04-23 08:12:15 PM Na+                13\n",
      "2018-04-23 08:12:15 PM WAT              3000\n"
     ]
    },
    {
     "name": "stdout",
     "output_type": "stream",
     "text": [
      "./OA-G6-4 p012\n"
     ]
    },
    {
     "name": "stderr",
     "output_type": "stream",
     "text": [
      "2018-04-23 08:12:18 PM Cl-                 4\n",
      "2018-04-23 08:12:18 PM DM1                 1\n",
      "2018-04-23 08:12:18 PM DM2                 1\n",
      "2018-04-23 08:12:18 PM DM3                 1\n",
      "2018-04-23 08:12:18 PM GST                 1\n",
      "2018-04-23 08:12:18 PM HST                 1\n",
      "2018-04-23 08:12:18 PM Na+                13\n",
      "2018-04-23 08:12:18 PM WAT              3000\n"
     ]
    },
    {
     "name": "stdout",
     "output_type": "stream",
     "text": [
      "./OA-G6-4 p013\n"
     ]
    },
    {
     "name": "stderr",
     "output_type": "stream",
     "text": [
      "2018-04-23 08:12:21 PM Cl-                 4\n",
      "2018-04-23 08:12:21 PM DM1                 1\n",
      "2018-04-23 08:12:21 PM DM2                 1\n",
      "2018-04-23 08:12:21 PM DM3                 1\n",
      "2018-04-23 08:12:21 PM GST                 1\n",
      "2018-04-23 08:12:21 PM HST                 1\n",
      "2018-04-23 08:12:21 PM Na+                13\n",
      "2018-04-23 08:12:21 PM WAT              3000\n"
     ]
    },
    {
     "name": "stdout",
     "output_type": "stream",
     "text": [
      "./OA-G6-4 p014\n"
     ]
    },
    {
     "name": "stderr",
     "output_type": "stream",
     "text": [
      "2018-04-23 08:12:23 PM Cl-                 4\n",
      "2018-04-23 08:12:23 PM DM1                 1\n",
      "2018-04-23 08:12:23 PM DM2                 1\n",
      "2018-04-23 08:12:23 PM DM3                 1\n",
      "2018-04-23 08:12:23 PM GST                 1\n",
      "2018-04-23 08:12:23 PM HST                 1\n",
      "2018-04-23 08:12:23 PM Na+                13\n",
      "2018-04-23 08:12:23 PM WAT              3000\n"
     ]
    },
    {
     "name": "stdout",
     "output_type": "stream",
     "text": [
      "./OA-G6-4 p015\n"
     ]
    },
    {
     "name": "stderr",
     "output_type": "stream",
     "text": [
      "2018-04-23 08:12:26 PM Cl-                 4\n",
      "2018-04-23 08:12:26 PM DM1                 1\n",
      "2018-04-23 08:12:26 PM DM2                 1\n",
      "2018-04-23 08:12:26 PM DM3                 1\n",
      "2018-04-23 08:12:26 PM GST                 1\n",
      "2018-04-23 08:12:26 PM HST                 1\n",
      "2018-04-23 08:12:26 PM Na+                13\n",
      "2018-04-23 08:12:26 PM WAT              3000\n"
     ]
    },
    {
     "name": "stdout",
     "output_type": "stream",
     "text": [
      "./OA-G6-4 p016\n"
     ]
    },
    {
     "name": "stderr",
     "output_type": "stream",
     "text": [
      "2018-04-23 08:12:29 PM Cl-                 4\n",
      "2018-04-23 08:12:29 PM DM1                 1\n",
      "2018-04-23 08:12:29 PM DM2                 1\n",
      "2018-04-23 08:12:29 PM DM3                 1\n",
      "2018-04-23 08:12:29 PM GST                 1\n",
      "2018-04-23 08:12:29 PM HST                 1\n",
      "2018-04-23 08:12:29 PM Na+                13\n",
      "2018-04-23 08:12:29 PM WAT              3000\n"
     ]
    },
    {
     "name": "stdout",
     "output_type": "stream",
     "text": [
      "./OA-G6-4 p017\n"
     ]
    },
    {
     "name": "stderr",
     "output_type": "stream",
     "text": [
      "2018-04-23 08:12:31 PM Cl-                 4\n",
      "2018-04-23 08:12:31 PM DM1                 1\n",
      "2018-04-23 08:12:31 PM DM2                 1\n",
      "2018-04-23 08:12:31 PM DM3                 1\n",
      "2018-04-23 08:12:31 PM GST                 1\n",
      "2018-04-23 08:12:31 PM HST                 1\n",
      "2018-04-23 08:12:31 PM Na+                13\n",
      "2018-04-23 08:12:31 PM WAT              3000\n"
     ]
    },
    {
     "name": "stdout",
     "output_type": "stream",
     "text": [
      "./OA-G6-4 p018\n"
     ]
    },
    {
     "name": "stderr",
     "output_type": "stream",
     "text": [
      "2018-04-23 08:12:34 PM Cl-                 4\n",
      "2018-04-23 08:12:34 PM DM1                 1\n",
      "2018-04-23 08:12:34 PM DM2                 1\n",
      "2018-04-23 08:12:34 PM DM3                 1\n",
      "2018-04-23 08:12:34 PM GST                 1\n",
      "2018-04-23 08:12:34 PM HST                 1\n",
      "2018-04-23 08:12:34 PM Na+                13\n",
      "2018-04-23 08:12:34 PM WAT              3000\n"
     ]
    },
    {
     "name": "stdout",
     "output_type": "stream",
     "text": [
      "./OA-G6-4 p019\n"
     ]
    },
    {
     "name": "stderr",
     "output_type": "stream",
     "text": [
      "2018-04-23 08:12:37 PM Cl-                 4\n",
      "2018-04-23 08:12:37 PM DM1                 1\n",
      "2018-04-23 08:12:37 PM DM2                 1\n",
      "2018-04-23 08:12:37 PM DM3                 1\n",
      "2018-04-23 08:12:37 PM GST                 1\n",
      "2018-04-23 08:12:37 PM HST                 1\n",
      "2018-04-23 08:12:37 PM Na+                13\n",
      "2018-04-23 08:12:37 PM WAT              3000\n"
     ]
    },
    {
     "name": "stdout",
     "output_type": "stream",
     "text": [
      "./OA-G6-4 p020\n"
     ]
    },
    {
     "name": "stderr",
     "output_type": "stream",
     "text": [
      "2018-04-23 08:12:39 PM Cl-                 4\n",
      "2018-04-23 08:12:39 PM DM1                 1\n",
      "2018-04-23 08:12:39 PM DM2                 1\n",
      "2018-04-23 08:12:39 PM DM3                 1\n",
      "2018-04-23 08:12:39 PM GST                 1\n",
      "2018-04-23 08:12:39 PM HST                 1\n",
      "2018-04-23 08:12:39 PM Na+                13\n",
      "2018-04-23 08:12:39 PM WAT              3000\n"
     ]
    },
    {
     "name": "stdout",
     "output_type": "stream",
     "text": [
      "./OA-G6-4 p021\n"
     ]
    },
    {
     "name": "stderr",
     "output_type": "stream",
     "text": [
      "2018-04-23 08:12:42 PM Cl-                 4\n",
      "2018-04-23 08:12:42 PM DM1                 1\n",
      "2018-04-23 08:12:42 PM DM2                 1\n",
      "2018-04-23 08:12:42 PM DM3                 1\n",
      "2018-04-23 08:12:42 PM GST                 1\n",
      "2018-04-23 08:12:42 PM HST                 1\n",
      "2018-04-23 08:12:42 PM Na+                13\n",
      "2018-04-23 08:12:42 PM WAT              3000\n"
     ]
    },
    {
     "name": "stdout",
     "output_type": "stream",
     "text": [
      "./OA-G6-4 p022\n"
     ]
    },
    {
     "name": "stderr",
     "output_type": "stream",
     "text": [
      "2018-04-23 08:12:44 PM Cl-                 4\n",
      "2018-04-23 08:12:44 PM DM1                 1\n",
      "2018-04-23 08:12:44 PM DM2                 1\n",
      "2018-04-23 08:12:44 PM DM3                 1\n",
      "2018-04-23 08:12:44 PM GST                 1\n",
      "2018-04-23 08:12:44 PM HST                 1\n",
      "2018-04-23 08:12:44 PM Na+                13\n",
      "2018-04-23 08:12:44 PM WAT              3000\n"
     ]
    },
    {
     "name": "stdout",
     "output_type": "stream",
     "text": [
      "./OA-G6-4 p023\n"
     ]
    },
    {
     "name": "stderr",
     "output_type": "stream",
     "text": [
      "2018-04-23 08:12:48 PM Cl-                 4\n",
      "2018-04-23 08:12:48 PM DM1                 1\n",
      "2018-04-23 08:12:48 PM DM2                 1\n",
      "2018-04-23 08:12:48 PM DM3                 1\n",
      "2018-04-23 08:12:48 PM GST                 1\n",
      "2018-04-23 08:12:48 PM HST                 1\n",
      "2018-04-23 08:12:48 PM Na+                13\n",
      "2018-04-23 08:12:48 PM WAT              3000\n"
     ]
    },
    {
     "name": "stdout",
     "output_type": "stream",
     "text": [
      "./OA-G6-4 p024\n"
     ]
    },
    {
     "name": "stderr",
     "output_type": "stream",
     "text": [
      "2018-04-23 08:12:51 PM Cl-                 4\n",
      "2018-04-23 08:12:51 PM DM1                 1\n",
      "2018-04-23 08:12:51 PM DM2                 1\n",
      "2018-04-23 08:12:51 PM DM3                 1\n",
      "2018-04-23 08:12:51 PM GST                 1\n",
      "2018-04-23 08:12:51 PM HST                 1\n",
      "2018-04-23 08:12:51 PM Na+                13\n",
      "2018-04-23 08:12:51 PM WAT              3000\n"
     ]
    },
    {
     "name": "stdout",
     "output_type": "stream",
     "text": [
      "./OA-G6-4 p025\n"
     ]
    },
    {
     "name": "stderr",
     "output_type": "stream",
     "text": [
      "2018-04-23 08:12:54 PM Cl-                 4\n",
      "2018-04-23 08:12:54 PM DM1                 1\n",
      "2018-04-23 08:12:54 PM DM2                 1\n",
      "2018-04-23 08:12:54 PM DM3                 1\n",
      "2018-04-23 08:12:54 PM GST                 1\n",
      "2018-04-23 08:12:54 PM HST                 1\n",
      "2018-04-23 08:12:54 PM Na+                13\n",
      "2018-04-23 08:12:54 PM WAT              3000\n"
     ]
    },
    {
     "name": "stdout",
     "output_type": "stream",
     "text": [
      "./OA-G6-4 p026\n"
     ]
    },
    {
     "name": "stderr",
     "output_type": "stream",
     "text": [
      "2018-04-23 08:12:57 PM Cl-                 4\n",
      "2018-04-23 08:12:57 PM DM1                 1\n",
      "2018-04-23 08:12:57 PM DM2                 1\n",
      "2018-04-23 08:12:57 PM DM3                 1\n",
      "2018-04-23 08:12:57 PM GST                 1\n",
      "2018-04-23 08:12:57 PM HST                 1\n",
      "2018-04-23 08:12:57 PM Na+                13\n",
      "2018-04-23 08:12:57 PM WAT              3000\n"
     ]
    },
    {
     "name": "stdout",
     "output_type": "stream",
     "text": [
      "./OA-G6-4 p027\n"
     ]
    },
    {
     "name": "stderr",
     "output_type": "stream",
     "text": [
      "2018-04-23 08:12:59 PM Cl-                 4\n",
      "2018-04-23 08:12:59 PM DM1                 1\n",
      "2018-04-23 08:12:59 PM DM2                 1\n",
      "2018-04-23 08:12:59 PM DM3                 1\n",
      "2018-04-23 08:12:59 PM GST                 1\n",
      "2018-04-23 08:12:59 PM HST                 1\n",
      "2018-04-23 08:12:59 PM Na+                13\n",
      "2018-04-23 08:12:59 PM WAT              3000\n"
     ]
    },
    {
     "name": "stdout",
     "output_type": "stream",
     "text": [
      "./OA-G6-4 p028\n"
     ]
    },
    {
     "name": "stderr",
     "output_type": "stream",
     "text": [
      "2018-04-23 08:13:03 PM Cl-                 4\n",
      "2018-04-23 08:13:03 PM DM1                 1\n",
      "2018-04-23 08:13:03 PM DM2                 1\n",
      "2018-04-23 08:13:03 PM DM3                 1\n",
      "2018-04-23 08:13:03 PM GST                 1\n",
      "2018-04-23 08:13:03 PM HST                 1\n",
      "2018-04-23 08:13:03 PM Na+                13\n",
      "2018-04-23 08:13:03 PM WAT              3000\n"
     ]
    },
    {
     "name": "stdout",
     "output_type": "stream",
     "text": [
      "./OA-G6-4 p029\n"
     ]
    },
    {
     "name": "stderr",
     "output_type": "stream",
     "text": [
      "2018-04-23 08:13:06 PM Cl-                 4\n",
      "2018-04-23 08:13:06 PM DM1                 1\n",
      "2018-04-23 08:13:06 PM DM2                 1\n",
      "2018-04-23 08:13:06 PM DM3                 1\n",
      "2018-04-23 08:13:06 PM GST                 1\n",
      "2018-04-23 08:13:06 PM HST                 1\n",
      "2018-04-23 08:13:06 PM Na+                13\n",
      "2018-04-23 08:13:06 PM WAT              3000\n"
     ]
    },
    {
     "name": "stdout",
     "output_type": "stream",
     "text": [
      "./OA-G6-4 p030\n"
     ]
    },
    {
     "name": "stderr",
     "output_type": "stream",
     "text": [
      "2018-04-23 08:13:09 PM Cl-                 4\n",
      "2018-04-23 08:13:09 PM DM1                 1\n",
      "2018-04-23 08:13:09 PM DM2                 1\n",
      "2018-04-23 08:13:09 PM DM3                 1\n",
      "2018-04-23 08:13:09 PM GST                 1\n",
      "2018-04-23 08:13:09 PM HST                 1\n",
      "2018-04-23 08:13:09 PM Na+                13\n",
      "2018-04-23 08:13:09 PM WAT              3000\n"
     ]
    },
    {
     "name": "stdout",
     "output_type": "stream",
     "text": [
      "./OA-G6-4 p031\n"
     ]
    },
    {
     "name": "stderr",
     "output_type": "stream",
     "text": [
      "2018-04-23 08:13:12 PM Cl-                 4\n",
      "2018-04-23 08:13:12 PM DM1                 1\n",
      "2018-04-23 08:13:12 PM DM2                 1\n",
      "2018-04-23 08:13:12 PM DM3                 1\n",
      "2018-04-23 08:13:12 PM GST                 1\n",
      "2018-04-23 08:13:12 PM HST                 1\n",
      "2018-04-23 08:13:12 PM Na+                13\n",
      "2018-04-23 08:13:12 PM WAT              3000\n"
     ]
    },
    {
     "name": "stdout",
     "output_type": "stream",
     "text": [
      "./OA-G6-4 p032\n"
     ]
    },
    {
     "name": "stderr",
     "output_type": "stream",
     "text": [
      "2018-04-23 08:13:15 PM Cl-                 4\n",
      "2018-04-23 08:13:15 PM DM1                 1\n",
      "2018-04-23 08:13:15 PM DM2                 1\n",
      "2018-04-23 08:13:15 PM DM3                 1\n",
      "2018-04-23 08:13:15 PM GST                 1\n",
      "2018-04-23 08:13:15 PM HST                 1\n",
      "2018-04-23 08:13:15 PM Na+                13\n",
      "2018-04-23 08:13:15 PM WAT              3000\n"
     ]
    },
    {
     "name": "stdout",
     "output_type": "stream",
     "text": [
      "./OA-G6-4 p033\n"
     ]
    },
    {
     "name": "stderr",
     "output_type": "stream",
     "text": [
      "2018-04-23 08:13:19 PM Cl-                 4\n",
      "2018-04-23 08:13:19 PM DM1                 1\n",
      "2018-04-23 08:13:19 PM DM2                 1\n",
      "2018-04-23 08:13:19 PM DM3                 1\n",
      "2018-04-23 08:13:19 PM GST                 1\n",
      "2018-04-23 08:13:19 PM HST                 1\n",
      "2018-04-23 08:13:19 PM Na+                13\n",
      "2018-04-23 08:13:19 PM WAT              3000\n"
     ]
    },
    {
     "name": "stdout",
     "output_type": "stream",
     "text": [
      "./OA-G6-4 p034\n"
     ]
    },
    {
     "name": "stderr",
     "output_type": "stream",
     "text": [
      "2018-04-23 08:13:22 PM Cl-                 4\n",
      "2018-04-23 08:13:22 PM DM1                 1\n",
      "2018-04-23 08:13:22 PM DM2                 1\n",
      "2018-04-23 08:13:22 PM DM3                 1\n",
      "2018-04-23 08:13:22 PM GST                 1\n",
      "2018-04-23 08:13:22 PM HST                 1\n",
      "2018-04-23 08:13:22 PM Na+                13\n",
      "2018-04-23 08:13:22 PM WAT              3000\n"
     ]
    },
    {
     "name": "stdout",
     "output_type": "stream",
     "text": [
      "./OA-G6-4 p035\n"
     ]
    },
    {
     "name": "stderr",
     "output_type": "stream",
     "text": [
      "2018-04-23 08:13:25 PM Cl-                 4\n",
      "2018-04-23 08:13:25 PM DM1                 1\n",
      "2018-04-23 08:13:25 PM DM2                 1\n",
      "2018-04-23 08:13:25 PM DM3                 1\n",
      "2018-04-23 08:13:25 PM GST                 1\n",
      "2018-04-23 08:13:25 PM HST                 1\n",
      "2018-04-23 08:13:25 PM Na+                13\n",
      "2018-04-23 08:13:25 PM WAT              3000\n"
     ]
    },
    {
     "name": "stdout",
     "output_type": "stream",
     "text": [
      "./OA-G6-4 p036\n"
     ]
    },
    {
     "name": "stderr",
     "output_type": "stream",
     "text": [
      "2018-04-23 08:13:29 PM Cl-                 4\n",
      "2018-04-23 08:13:29 PM DM1                 1\n",
      "2018-04-23 08:13:29 PM DM2                 1\n",
      "2018-04-23 08:13:29 PM DM3                 1\n",
      "2018-04-23 08:13:29 PM GST                 1\n",
      "2018-04-23 08:13:29 PM HST                 1\n",
      "2018-04-23 08:13:29 PM Na+                13\n",
      "2018-04-23 08:13:29 PM WAT              3000\n"
     ]
    },
    {
     "name": "stdout",
     "output_type": "stream",
     "text": [
      "./OA-G6-4 p037\n"
     ]
    },
    {
     "name": "stderr",
     "output_type": "stream",
     "text": [
      "2018-04-23 08:13:30 PM Cl-                 4\n",
      "2018-04-23 08:13:30 PM DM1                 1\n",
      "2018-04-23 08:13:30 PM DM2                 1\n",
      "2018-04-23 08:13:30 PM DM3                 1\n",
      "2018-04-23 08:13:30 PM GST                 1\n",
      "2018-04-23 08:13:30 PM HST                 1\n",
      "2018-04-23 08:13:30 PM Na+                13\n",
      "2018-04-23 08:13:30 PM WAT              3000\n"
     ]
    },
    {
     "name": "stdout",
     "output_type": "stream",
     "text": [
      "./OA-G6-4 p038\n"
     ]
    },
    {
     "name": "stderr",
     "output_type": "stream",
     "text": [
      "2018-04-23 08:13:34 PM Cl-                 4\n",
      "2018-04-23 08:13:34 PM DM1                 1\n",
      "2018-04-23 08:13:34 PM DM2                 1\n",
      "2018-04-23 08:13:34 PM DM3                 1\n",
      "2018-04-23 08:13:34 PM GST                 1\n",
      "2018-04-23 08:13:34 PM HST                 1\n",
      "2018-04-23 08:13:34 PM Na+                13\n",
      "2018-04-23 08:13:34 PM WAT              3000\n"
     ]
    },
    {
     "name": "stdout",
     "output_type": "stream",
     "text": [
      "./OA-G6-4 p039\n"
     ]
    },
    {
     "name": "stderr",
     "output_type": "stream",
     "text": [
      "2018-04-23 08:13:37 PM Cl-                 4\n",
      "2018-04-23 08:13:37 PM DM1                 1\n",
      "2018-04-23 08:13:37 PM DM2                 1\n",
      "2018-04-23 08:13:37 PM DM3                 1\n",
      "2018-04-23 08:13:37 PM GST                 1\n",
      "2018-04-23 08:13:37 PM HST                 1\n",
      "2018-04-23 08:13:37 PM Na+                13\n",
      "2018-04-23 08:13:37 PM WAT              3000\n"
     ]
    },
    {
     "name": "stdout",
     "output_type": "stream",
     "text": [
      "./OA-G6-4 p040\n"
     ]
    },
    {
     "name": "stderr",
     "output_type": "stream",
     "text": [
      "2018-04-23 08:13:40 PM Cl-                 4\n",
      "2018-04-23 08:13:40 PM DM1                 1\n",
      "2018-04-23 08:13:40 PM DM2                 1\n",
      "2018-04-23 08:13:40 PM DM3                 1\n",
      "2018-04-23 08:13:40 PM GST                 1\n",
      "2018-04-23 08:13:40 PM HST                 1\n",
      "2018-04-23 08:13:40 PM Na+                13\n",
      "2018-04-23 08:13:40 PM WAT              3000\n"
     ]
    },
    {
     "name": "stdout",
     "output_type": "stream",
     "text": [
      "./OA-G6-4 p041\n"
     ]
    },
    {
     "name": "stderr",
     "output_type": "stream",
     "text": [
      "2018-04-23 08:13:44 PM Cl-                 4\n",
      "2018-04-23 08:13:44 PM DM1                 1\n",
      "2018-04-23 08:13:44 PM DM2                 1\n",
      "2018-04-23 08:13:44 PM DM3                 1\n",
      "2018-04-23 08:13:44 PM GST                 1\n",
      "2018-04-23 08:13:44 PM HST                 1\n",
      "2018-04-23 08:13:44 PM Na+                13\n",
      "2018-04-23 08:13:44 PM WAT              3000\n"
     ]
    },
    {
     "name": "stdout",
     "output_type": "stream",
     "text": [
      "./OA-G6-4 p042\n"
     ]
    },
    {
     "name": "stderr",
     "output_type": "stream",
     "text": [
      "2018-04-23 08:13:46 PM Cl-                 4\n",
      "2018-04-23 08:13:46 PM DM1                 1\n",
      "2018-04-23 08:13:46 PM DM2                 1\n",
      "2018-04-23 08:13:46 PM DM3                 1\n",
      "2018-04-23 08:13:46 PM GST                 1\n",
      "2018-04-23 08:13:46 PM HST                 1\n",
      "2018-04-23 08:13:46 PM Na+                13\n",
      "2018-04-23 08:13:46 PM WAT              3000\n"
     ]
    },
    {
     "name": "stdout",
     "output_type": "stream",
     "text": [
      "./OA-G6-4 p043\n"
     ]
    },
    {
     "name": "stderr",
     "output_type": "stream",
     "text": [
      "2018-04-23 08:13:49 PM Cl-                 4\n",
      "2018-04-23 08:13:49 PM DM1                 1\n",
      "2018-04-23 08:13:49 PM DM2                 1\n",
      "2018-04-23 08:13:49 PM DM3                 1\n",
      "2018-04-23 08:13:49 PM GST                 1\n",
      "2018-04-23 08:13:49 PM HST                 1\n",
      "2018-04-23 08:13:49 PM Na+                13\n",
      "2018-04-23 08:13:49 PM WAT              3000\n"
     ]
    },
    {
     "name": "stdout",
     "output_type": "stream",
     "text": [
      "./OA-G6-4 p044\n"
     ]
    },
    {
     "name": "stderr",
     "output_type": "stream",
     "text": [
      "2018-04-23 08:13:53 PM Cl-                 4\n",
      "2018-04-23 08:13:53 PM DM1                 1\n",
      "2018-04-23 08:13:53 PM DM2                 1\n",
      "2018-04-23 08:13:53 PM DM3                 1\n",
      "2018-04-23 08:13:53 PM GST                 1\n",
      "2018-04-23 08:13:53 PM HST                 1\n",
      "2018-04-23 08:13:53 PM Na+                13\n",
      "2018-04-23 08:13:53 PM WAT              3000\n"
     ]
    },
    {
     "name": "stdout",
     "output_type": "stream",
     "text": [
      "./OA-G6-4 p045\n"
     ]
    },
    {
     "name": "stderr",
     "output_type": "stream",
     "text": [
      "2018-04-23 08:13:55 PM Cl-                 4\n",
      "2018-04-23 08:13:55 PM DM1                 1\n",
      "2018-04-23 08:13:55 PM DM2                 1\n",
      "2018-04-23 08:13:55 PM DM3                 1\n",
      "2018-04-23 08:13:55 PM GST                 1\n",
      "2018-04-23 08:13:55 PM HST                 1\n",
      "2018-04-23 08:13:55 PM Na+                13\n",
      "2018-04-23 08:13:55 PM WAT              3000\n"
     ]
    },
    {
     "name": "stdout",
     "output_type": "stream",
     "text": [
      "./OA-G3-4 a000\n"
     ]
    },
    {
     "name": "stderr",
     "output_type": "stream",
     "text": [
      "2018-04-23 08:13:58 PM Cl-                 4\n",
      "2018-04-23 08:13:58 PM DM1                 1\n",
      "2018-04-23 08:13:58 PM DM2                 1\n",
      "2018-04-23 08:13:58 PM DM3                 1\n",
      "2018-04-23 08:13:58 PM GST                 1\n",
      "2018-04-23 08:13:58 PM HST                 1\n",
      "2018-04-23 08:13:58 PM Na+                13\n",
      "2018-04-23 08:13:58 PM WAT              3000\n"
     ]
    },
    {
     "name": "stdout",
     "output_type": "stream",
     "text": [
      "./OA-G3-4 a001\n"
     ]
    },
    {
     "name": "stderr",
     "output_type": "stream",
     "text": [
      "2018-04-23 08:14:04 PM Cl-                 4\n",
      "2018-04-23 08:14:04 PM DM1                 1\n",
      "2018-04-23 08:14:04 PM DM2                 1\n",
      "2018-04-23 08:14:04 PM DM3                 1\n",
      "2018-04-23 08:14:04 PM GST                 1\n",
      "2018-04-23 08:14:04 PM HST                 1\n",
      "2018-04-23 08:14:04 PM Na+                13\n",
      "2018-04-23 08:14:04 PM WAT              3000\n"
     ]
    },
    {
     "name": "stdout",
     "output_type": "stream",
     "text": [
      "./OA-G3-4 a002\n"
     ]
    },
    {
     "name": "stderr",
     "output_type": "stream",
     "text": [
      "2018-04-23 08:14:07 PM Cl-                 4\n",
      "2018-04-23 08:14:07 PM DM1                 1\n",
      "2018-04-23 08:14:07 PM DM2                 1\n",
      "2018-04-23 08:14:07 PM DM3                 1\n",
      "2018-04-23 08:14:07 PM GST                 1\n",
      "2018-04-23 08:14:07 PM HST                 1\n",
      "2018-04-23 08:14:07 PM Na+                13\n",
      "2018-04-23 08:14:07 PM WAT              3000\n"
     ]
    },
    {
     "name": "stdout",
     "output_type": "stream",
     "text": [
      "./OA-G3-4 a003\n"
     ]
    },
    {
     "name": "stderr",
     "output_type": "stream",
     "text": [
      "2018-04-23 08:14:10 PM Cl-                 4\n",
      "2018-04-23 08:14:10 PM DM1                 1\n",
      "2018-04-23 08:14:10 PM DM2                 1\n",
      "2018-04-23 08:14:10 PM DM3                 1\n",
      "2018-04-23 08:14:10 PM GST                 1\n",
      "2018-04-23 08:14:10 PM HST                 1\n",
      "2018-04-23 08:14:10 PM Na+                13\n",
      "2018-04-23 08:14:10 PM WAT              3000\n"
     ]
    },
    {
     "name": "stdout",
     "output_type": "stream",
     "text": [
      "./OA-G3-4 a004\n"
     ]
    },
    {
     "name": "stderr",
     "output_type": "stream",
     "text": [
      "2018-04-23 08:14:12 PM Cl-                 4\n",
      "2018-04-23 08:14:12 PM DM1                 1\n",
      "2018-04-23 08:14:12 PM DM2                 1\n",
      "2018-04-23 08:14:12 PM DM3                 1\n",
      "2018-04-23 08:14:12 PM GST                 1\n",
      "2018-04-23 08:14:12 PM HST                 1\n",
      "2018-04-23 08:14:12 PM Na+                13\n",
      "2018-04-23 08:14:12 PM WAT              3000\n"
     ]
    },
    {
     "name": "stdout",
     "output_type": "stream",
     "text": [
      "./OA-G3-4 a005\n"
     ]
    },
    {
     "name": "stderr",
     "output_type": "stream",
     "text": [
      "2018-04-23 08:14:15 PM Cl-                 4\n",
      "2018-04-23 08:14:15 PM DM1                 1\n",
      "2018-04-23 08:14:15 PM DM2                 1\n",
      "2018-04-23 08:14:15 PM DM3                 1\n",
      "2018-04-23 08:14:15 PM GST                 1\n",
      "2018-04-23 08:14:15 PM HST                 1\n",
      "2018-04-23 08:14:15 PM Na+                13\n",
      "2018-04-23 08:14:15 PM WAT              3000\n"
     ]
    },
    {
     "name": "stdout",
     "output_type": "stream",
     "text": [
      "./OA-G3-4 a006\n"
     ]
    },
    {
     "name": "stderr",
     "output_type": "stream",
     "text": [
      "2018-04-23 08:14:18 PM Cl-                 4\n",
      "2018-04-23 08:14:18 PM DM1                 1\n",
      "2018-04-23 08:14:18 PM DM2                 1\n",
      "2018-04-23 08:14:18 PM DM3                 1\n",
      "2018-04-23 08:14:18 PM GST                 1\n",
      "2018-04-23 08:14:18 PM HST                 1\n",
      "2018-04-23 08:14:18 PM Na+                13\n",
      "2018-04-23 08:14:18 PM WAT              3000\n"
     ]
    },
    {
     "name": "stdout",
     "output_type": "stream",
     "text": [
      "./OA-G3-4 a007\n"
     ]
    },
    {
     "name": "stderr",
     "output_type": "stream",
     "text": [
      "2018-04-23 08:14:21 PM Cl-                 4\n",
      "2018-04-23 08:14:21 PM DM1                 1\n",
      "2018-04-23 08:14:21 PM DM2                 1\n",
      "2018-04-23 08:14:21 PM DM3                 1\n",
      "2018-04-23 08:14:21 PM GST                 1\n",
      "2018-04-23 08:14:21 PM HST                 1\n",
      "2018-04-23 08:14:21 PM Na+                13\n",
      "2018-04-23 08:14:21 PM WAT              3000\n"
     ]
    },
    {
     "name": "stdout",
     "output_type": "stream",
     "text": [
      "./OA-G3-4 a008\n"
     ]
    },
    {
     "name": "stderr",
     "output_type": "stream",
     "text": [
      "2018-04-23 08:14:24 PM Cl-                 4\n",
      "2018-04-23 08:14:24 PM DM1                 1\n",
      "2018-04-23 08:14:24 PM DM2                 1\n",
      "2018-04-23 08:14:24 PM DM3                 1\n",
      "2018-04-23 08:14:24 PM GST                 1\n",
      "2018-04-23 08:14:24 PM HST                 1\n",
      "2018-04-23 08:14:24 PM Na+                13\n",
      "2018-04-23 08:14:24 PM WAT              3000\n"
     ]
    },
    {
     "name": "stdout",
     "output_type": "stream",
     "text": [
      "./OA-G3-4 a009\n"
     ]
    },
    {
     "name": "stderr",
     "output_type": "stream",
     "text": [
      "2018-04-23 08:14:27 PM Cl-                 4\n",
      "2018-04-23 08:14:27 PM DM1                 1\n",
      "2018-04-23 08:14:27 PM DM2                 1\n",
      "2018-04-23 08:14:27 PM DM3                 1\n",
      "2018-04-23 08:14:27 PM GST                 1\n",
      "2018-04-23 08:14:27 PM HST                 1\n",
      "2018-04-23 08:14:27 PM Na+                13\n",
      "2018-04-23 08:14:27 PM WAT              3000\n"
     ]
    },
    {
     "name": "stdout",
     "output_type": "stream",
     "text": [
      "./OA-G3-4 a010\n"
     ]
    },
    {
     "name": "stderr",
     "output_type": "stream",
     "text": [
      "2018-04-23 08:14:29 PM Cl-                 4\n",
      "2018-04-23 08:14:29 PM DM1                 1\n",
      "2018-04-23 08:14:29 PM DM2                 1\n",
      "2018-04-23 08:14:29 PM DM3                 1\n",
      "2018-04-23 08:14:29 PM GST                 1\n",
      "2018-04-23 08:14:29 PM HST                 1\n",
      "2018-04-23 08:14:29 PM Na+                13\n",
      "2018-04-23 08:14:29 PM WAT              3000\n"
     ]
    },
    {
     "name": "stdout",
     "output_type": "stream",
     "text": [
      "./OA-G3-4 a011\n"
     ]
    },
    {
     "name": "stderr",
     "output_type": "stream",
     "text": [
      "2018-04-23 08:14:32 PM Cl-                 4\n",
      "2018-04-23 08:14:32 PM DM1                 1\n",
      "2018-04-23 08:14:32 PM DM2                 1\n",
      "2018-04-23 08:14:32 PM DM3                 1\n",
      "2018-04-23 08:14:32 PM GST                 1\n",
      "2018-04-23 08:14:32 PM HST                 1\n",
      "2018-04-23 08:14:32 PM Na+                13\n",
      "2018-04-23 08:14:32 PM WAT              3000\n"
     ]
    },
    {
     "name": "stdout",
     "output_type": "stream",
     "text": [
      "./OA-G3-4 a012\n"
     ]
    },
    {
     "name": "stderr",
     "output_type": "stream",
     "text": [
      "2018-04-23 08:14:35 PM Cl-                 4\n",
      "2018-04-23 08:14:35 PM DM1                 1\n",
      "2018-04-23 08:14:35 PM DM2                 1\n",
      "2018-04-23 08:14:35 PM DM3                 1\n",
      "2018-04-23 08:14:35 PM GST                 1\n",
      "2018-04-23 08:14:35 PM HST                 1\n",
      "2018-04-23 08:14:35 PM Na+                13\n",
      "2018-04-23 08:14:35 PM WAT              3000\n"
     ]
    },
    {
     "name": "stdout",
     "output_type": "stream",
     "text": [
      "./OA-G3-4 a013\n"
     ]
    },
    {
     "name": "stderr",
     "output_type": "stream",
     "text": [
      "2018-04-23 08:14:38 PM Cl-                 4\n",
      "2018-04-23 08:14:38 PM DM1                 1\n",
      "2018-04-23 08:14:38 PM DM2                 1\n",
      "2018-04-23 08:14:38 PM DM3                 1\n",
      "2018-04-23 08:14:38 PM GST                 1\n",
      "2018-04-23 08:14:38 PM HST                 1\n",
      "2018-04-23 08:14:38 PM Na+                13\n",
      "2018-04-23 08:14:38 PM WAT              3000\n"
     ]
    },
    {
     "name": "stdout",
     "output_type": "stream",
     "text": [
      "./OA-G3-4 p000\n"
     ]
    },
    {
     "name": "stderr",
     "output_type": "stream",
     "text": [
      "2018-04-23 08:14:41 PM Cl-                 4\n",
      "2018-04-23 08:14:41 PM DM1                 1\n",
      "2018-04-23 08:14:41 PM DM2                 1\n",
      "2018-04-23 08:14:41 PM DM3                 1\n",
      "2018-04-23 08:14:41 PM GST                 1\n",
      "2018-04-23 08:14:41 PM HST                 1\n",
      "2018-04-23 08:14:41 PM Na+                13\n",
      "2018-04-23 08:14:41 PM WAT              3000\n"
     ]
    },
    {
     "name": "stdout",
     "output_type": "stream",
     "text": [
      "./OA-G3-4 p001\n"
     ]
    },
    {
     "name": "stderr",
     "output_type": "stream",
     "text": [
      "2018-04-23 08:14:44 PM Cl-                 4\n",
      "2018-04-23 08:14:44 PM DM1                 1\n",
      "2018-04-23 08:14:44 PM DM2                 1\n",
      "2018-04-23 08:14:44 PM DM3                 1\n",
      "2018-04-23 08:14:44 PM GST                 1\n",
      "2018-04-23 08:14:44 PM HST                 1\n",
      "2018-04-23 08:14:44 PM Na+                13\n",
      "2018-04-23 08:14:44 PM WAT              3000\n"
     ]
    },
    {
     "name": "stdout",
     "output_type": "stream",
     "text": [
      "./OA-G3-4 p002\n"
     ]
    },
    {
     "name": "stderr",
     "output_type": "stream",
     "text": [
      "2018-04-23 08:14:47 PM Cl-                 4\n",
      "2018-04-23 08:14:47 PM DM1                 1\n",
      "2018-04-23 08:14:47 PM DM2                 1\n",
      "2018-04-23 08:14:47 PM DM3                 1\n",
      "2018-04-23 08:14:47 PM GST                 1\n",
      "2018-04-23 08:14:47 PM HST                 1\n",
      "2018-04-23 08:14:47 PM Na+                13\n",
      "2018-04-23 08:14:47 PM WAT              3000\n"
     ]
    },
    {
     "name": "stdout",
     "output_type": "stream",
     "text": [
      "./OA-G3-4 p003\n"
     ]
    },
    {
     "name": "stderr",
     "output_type": "stream",
     "text": [
      "2018-04-23 08:14:49 PM Cl-                 4\n",
      "2018-04-23 08:14:49 PM DM1                 1\n",
      "2018-04-23 08:14:49 PM DM2                 1\n",
      "2018-04-23 08:14:49 PM DM3                 1\n",
      "2018-04-23 08:14:49 PM GST                 1\n",
      "2018-04-23 08:14:49 PM HST                 1\n",
      "2018-04-23 08:14:49 PM Na+                13\n",
      "2018-04-23 08:14:49 PM WAT              3000\n"
     ]
    },
    {
     "name": "stdout",
     "output_type": "stream",
     "text": [
      "./OA-G3-4 p004\n"
     ]
    },
    {
     "name": "stderr",
     "output_type": "stream",
     "text": [
      "2018-04-23 08:14:52 PM Cl-                 4\n",
      "2018-04-23 08:14:52 PM DM1                 1\n",
      "2018-04-23 08:14:52 PM DM2                 1\n",
      "2018-04-23 08:14:52 PM DM3                 1\n",
      "2018-04-23 08:14:52 PM GST                 1\n",
      "2018-04-23 08:14:52 PM HST                 1\n",
      "2018-04-23 08:14:52 PM Na+                13\n",
      "2018-04-23 08:14:52 PM WAT              3000\n"
     ]
    },
    {
     "name": "stdout",
     "output_type": "stream",
     "text": [
      "./OA-G3-4 p005\n"
     ]
    },
    {
     "name": "stderr",
     "output_type": "stream",
     "text": [
      "2018-04-23 08:14:55 PM Cl-                 4\n",
      "2018-04-23 08:14:55 PM DM1                 1\n",
      "2018-04-23 08:14:55 PM DM2                 1\n",
      "2018-04-23 08:14:55 PM DM3                 1\n",
      "2018-04-23 08:14:55 PM GST                 1\n",
      "2018-04-23 08:14:55 PM HST                 1\n",
      "2018-04-23 08:14:55 PM Na+                13\n",
      "2018-04-23 08:14:55 PM WAT              3000\n"
     ]
    },
    {
     "name": "stdout",
     "output_type": "stream",
     "text": [
      "./OA-G3-4 p006\n"
     ]
    },
    {
     "name": "stderr",
     "output_type": "stream",
     "text": [
      "2018-04-23 08:14:57 PM Cl-                 4\n",
      "2018-04-23 08:14:57 PM DM1                 1\n",
      "2018-04-23 08:14:57 PM DM2                 1\n",
      "2018-04-23 08:14:57 PM DM3                 1\n",
      "2018-04-23 08:14:57 PM GST                 1\n",
      "2018-04-23 08:14:57 PM HST                 1\n",
      "2018-04-23 08:14:57 PM Na+                13\n",
      "2018-04-23 08:14:57 PM WAT              3000\n"
     ]
    },
    {
     "name": "stdout",
     "output_type": "stream",
     "text": [
      "./OA-G3-4 p007\n"
     ]
    },
    {
     "name": "stderr",
     "output_type": "stream",
     "text": [
      "2018-04-23 08:15:00 PM Cl-                 4\n",
      "2018-04-23 08:15:00 PM DM1                 1\n",
      "2018-04-23 08:15:00 PM DM2                 1\n",
      "2018-04-23 08:15:00 PM DM3                 1\n",
      "2018-04-23 08:15:00 PM GST                 1\n",
      "2018-04-23 08:15:00 PM HST                 1\n",
      "2018-04-23 08:15:00 PM Na+                13\n",
      "2018-04-23 08:15:00 PM WAT              3000\n"
     ]
    },
    {
     "name": "stdout",
     "output_type": "stream",
     "text": [
      "./OA-G3-4 p008\n"
     ]
    },
    {
     "name": "stderr",
     "output_type": "stream",
     "text": [
      "2018-04-23 08:15:02 PM Cl-                 4\n",
      "2018-04-23 08:15:02 PM DM1                 1\n",
      "2018-04-23 08:15:02 PM DM2                 1\n",
      "2018-04-23 08:15:02 PM DM3                 1\n",
      "2018-04-23 08:15:02 PM GST                 1\n",
      "2018-04-23 08:15:02 PM HST                 1\n",
      "2018-04-23 08:15:02 PM Na+                13\n",
      "2018-04-23 08:15:02 PM WAT              3000\n"
     ]
    },
    {
     "name": "stdout",
     "output_type": "stream",
     "text": [
      "./OA-G3-4 p009\n"
     ]
    },
    {
     "name": "stderr",
     "output_type": "stream",
     "text": [
      "2018-04-23 08:15:05 PM Cl-                 4\n",
      "2018-04-23 08:15:05 PM DM1                 1\n",
      "2018-04-23 08:15:05 PM DM2                 1\n",
      "2018-04-23 08:15:05 PM DM3                 1\n",
      "2018-04-23 08:15:05 PM GST                 1\n",
      "2018-04-23 08:15:05 PM HST                 1\n",
      "2018-04-23 08:15:05 PM Na+                13\n",
      "2018-04-23 08:15:05 PM WAT              3000\n"
     ]
    },
    {
     "name": "stdout",
     "output_type": "stream",
     "text": [
      "./OA-G3-4 p010\n"
     ]
    },
    {
     "name": "stderr",
     "output_type": "stream",
     "text": [
      "2018-04-23 08:15:08 PM Cl-                 4\n",
      "2018-04-23 08:15:08 PM DM1                 1\n",
      "2018-04-23 08:15:08 PM DM2                 1\n",
      "2018-04-23 08:15:08 PM DM3                 1\n",
      "2018-04-23 08:15:08 PM GST                 1\n",
      "2018-04-23 08:15:08 PM HST                 1\n",
      "2018-04-23 08:15:08 PM Na+                13\n",
      "2018-04-23 08:15:08 PM WAT              3000\n"
     ]
    },
    {
     "name": "stdout",
     "output_type": "stream",
     "text": [
      "./OA-G3-4 p011\n"
     ]
    },
    {
     "name": "stderr",
     "output_type": "stream",
     "text": [
      "2018-04-23 08:15:11 PM Cl-                 4\n",
      "2018-04-23 08:15:11 PM DM1                 1\n",
      "2018-04-23 08:15:11 PM DM2                 1\n",
      "2018-04-23 08:15:11 PM DM3                 1\n",
      "2018-04-23 08:15:11 PM GST                 1\n",
      "2018-04-23 08:15:11 PM HST                 1\n",
      "2018-04-23 08:15:11 PM Na+                13\n",
      "2018-04-23 08:15:11 PM WAT              3000\n"
     ]
    },
    {
     "name": "stdout",
     "output_type": "stream",
     "text": [
      "./OA-G3-4 p012\n"
     ]
    },
    {
     "name": "stderr",
     "output_type": "stream",
     "text": [
      "2018-04-23 08:15:14 PM Cl-                 4\n",
      "2018-04-23 08:15:14 PM DM1                 1\n",
      "2018-04-23 08:15:14 PM DM2                 1\n",
      "2018-04-23 08:15:14 PM DM3                 1\n",
      "2018-04-23 08:15:14 PM GST                 1\n",
      "2018-04-23 08:15:14 PM HST                 1\n",
      "2018-04-23 08:15:14 PM Na+                13\n",
      "2018-04-23 08:15:14 PM WAT              3000\n"
     ]
    },
    {
     "name": "stdout",
     "output_type": "stream",
     "text": [
      "./OA-G3-4 p013\n"
     ]
    },
    {
     "name": "stderr",
     "output_type": "stream",
     "text": [
      "2018-04-23 08:15:16 PM Cl-                 4\n",
      "2018-04-23 08:15:16 PM DM1                 1\n",
      "2018-04-23 08:15:16 PM DM2                 1\n",
      "2018-04-23 08:15:16 PM DM3                 1\n",
      "2018-04-23 08:15:16 PM GST                 1\n",
      "2018-04-23 08:15:16 PM HST                 1\n",
      "2018-04-23 08:15:16 PM Na+                13\n",
      "2018-04-23 08:15:16 PM WAT              3000\n"
     ]
    },
    {
     "name": "stdout",
     "output_type": "stream",
     "text": [
      "./OA-G3-4 p014\n"
     ]
    },
    {
     "name": "stderr",
     "output_type": "stream",
     "text": [
      "2018-04-23 08:15:19 PM Cl-                 4\n",
      "2018-04-23 08:15:19 PM DM1                 1\n",
      "2018-04-23 08:15:19 PM DM2                 1\n",
      "2018-04-23 08:15:19 PM DM3                 1\n",
      "2018-04-23 08:15:19 PM GST                 1\n",
      "2018-04-23 08:15:19 PM HST                 1\n",
      "2018-04-23 08:15:19 PM Na+                13\n",
      "2018-04-23 08:15:19 PM WAT              3000\n"
     ]
    },
    {
     "name": "stdout",
     "output_type": "stream",
     "text": [
      "./OA-G3-4 p015\n"
     ]
    },
    {
     "name": "stderr",
     "output_type": "stream",
     "text": [
      "2018-04-23 08:15:22 PM Cl-                 4\n",
      "2018-04-23 08:15:22 PM DM1                 1\n",
      "2018-04-23 08:15:22 PM DM2                 1\n",
      "2018-04-23 08:15:22 PM DM3                 1\n",
      "2018-04-23 08:15:22 PM GST                 1\n",
      "2018-04-23 08:15:22 PM HST                 1\n",
      "2018-04-23 08:15:22 PM Na+                13\n",
      "2018-04-23 08:15:22 PM WAT              3000\n"
     ]
    },
    {
     "name": "stdout",
     "output_type": "stream",
     "text": [
      "./OA-G3-4 p016\n"
     ]
    },
    {
     "name": "stderr",
     "output_type": "stream",
     "text": [
      "2018-04-23 08:15:24 PM Cl-                 4\n",
      "2018-04-23 08:15:24 PM DM1                 1\n",
      "2018-04-23 08:15:24 PM DM2                 1\n",
      "2018-04-23 08:15:24 PM DM3                 1\n",
      "2018-04-23 08:15:24 PM GST                 1\n",
      "2018-04-23 08:15:24 PM HST                 1\n",
      "2018-04-23 08:15:24 PM Na+                13\n",
      "2018-04-23 08:15:24 PM WAT              3000\n"
     ]
    },
    {
     "name": "stdout",
     "output_type": "stream",
     "text": [
      "./OA-G3-4 p017\n"
     ]
    },
    {
     "name": "stderr",
     "output_type": "stream",
     "text": [
      "2018-04-23 08:15:27 PM Cl-                 4\n",
      "2018-04-23 08:15:27 PM DM1                 1\n",
      "2018-04-23 08:15:27 PM DM2                 1\n",
      "2018-04-23 08:15:27 PM DM3                 1\n",
      "2018-04-23 08:15:27 PM GST                 1\n",
      "2018-04-23 08:15:27 PM HST                 1\n",
      "2018-04-23 08:15:27 PM Na+                13\n",
      "2018-04-23 08:15:27 PM WAT              3000\n"
     ]
    },
    {
     "name": "stdout",
     "output_type": "stream",
     "text": [
      "./OA-G3-4 p018\n"
     ]
    },
    {
     "name": "stderr",
     "output_type": "stream",
     "text": [
      "2018-04-23 08:15:29 PM Cl-                 4\n",
      "2018-04-23 08:15:29 PM DM1                 1\n",
      "2018-04-23 08:15:29 PM DM2                 1\n",
      "2018-04-23 08:15:29 PM DM3                 1\n",
      "2018-04-23 08:15:29 PM GST                 1\n",
      "2018-04-23 08:15:29 PM HST                 1\n",
      "2018-04-23 08:15:29 PM Na+                13\n",
      "2018-04-23 08:15:29 PM WAT              3000\n"
     ]
    },
    {
     "name": "stdout",
     "output_type": "stream",
     "text": [
      "./OA-G3-4 p019\n"
     ]
    },
    {
     "name": "stderr",
     "output_type": "stream",
     "text": [
      "2018-04-23 08:15:32 PM Cl-                 4\n",
      "2018-04-23 08:15:32 PM DM1                 1\n",
      "2018-04-23 08:15:32 PM DM2                 1\n",
      "2018-04-23 08:15:32 PM DM3                 1\n",
      "2018-04-23 08:15:32 PM GST                 1\n",
      "2018-04-23 08:15:32 PM HST                 1\n",
      "2018-04-23 08:15:32 PM Na+                13\n",
      "2018-04-23 08:15:32 PM WAT              3000\n"
     ]
    },
    {
     "name": "stdout",
     "output_type": "stream",
     "text": [
      "./OA-G3-4 p020\n"
     ]
    },
    {
     "name": "stderr",
     "output_type": "stream",
     "text": [
      "2018-04-23 08:15:35 PM Cl-                 4\n",
      "2018-04-23 08:15:35 PM DM1                 1\n",
      "2018-04-23 08:15:35 PM DM2                 1\n",
      "2018-04-23 08:15:35 PM DM3                 1\n",
      "2018-04-23 08:15:35 PM GST                 1\n",
      "2018-04-23 08:15:35 PM HST                 1\n",
      "2018-04-23 08:15:35 PM Na+                13\n",
      "2018-04-23 08:15:35 PM WAT              3000\n"
     ]
    },
    {
     "name": "stdout",
     "output_type": "stream",
     "text": [
      "./OA-G3-4 p021\n"
     ]
    },
    {
     "name": "stderr",
     "output_type": "stream",
     "text": [
      "2018-04-23 08:15:37 PM Cl-                 4\n",
      "2018-04-23 08:15:37 PM DM1                 1\n",
      "2018-04-23 08:15:37 PM DM2                 1\n",
      "2018-04-23 08:15:37 PM DM3                 1\n",
      "2018-04-23 08:15:37 PM GST                 1\n",
      "2018-04-23 08:15:37 PM HST                 1\n",
      "2018-04-23 08:15:37 PM Na+                13\n",
      "2018-04-23 08:15:37 PM WAT              3000\n"
     ]
    },
    {
     "name": "stdout",
     "output_type": "stream",
     "text": [
      "./OA-G3-4 p022\n"
     ]
    },
    {
     "name": "stderr",
     "output_type": "stream",
     "text": [
      "2018-04-23 08:15:40 PM Cl-                 4\n",
      "2018-04-23 08:15:40 PM DM1                 1\n",
      "2018-04-23 08:15:40 PM DM2                 1\n",
      "2018-04-23 08:15:40 PM DM3                 1\n",
      "2018-04-23 08:15:40 PM GST                 1\n",
      "2018-04-23 08:15:40 PM HST                 1\n",
      "2018-04-23 08:15:40 PM Na+                13\n",
      "2018-04-23 08:15:40 PM WAT              3000\n"
     ]
    },
    {
     "name": "stdout",
     "output_type": "stream",
     "text": [
      "./OA-G3-4 p023\n"
     ]
    },
    {
     "name": "stderr",
     "output_type": "stream",
     "text": [
      "2018-04-23 08:15:43 PM Cl-                 4\n",
      "2018-04-23 08:15:43 PM DM1                 1\n",
      "2018-04-23 08:15:43 PM DM2                 1\n",
      "2018-04-23 08:15:43 PM DM3                 1\n",
      "2018-04-23 08:15:43 PM GST                 1\n",
      "2018-04-23 08:15:43 PM HST                 1\n",
      "2018-04-23 08:15:43 PM Na+                13\n",
      "2018-04-23 08:15:43 PM WAT              3000\n"
     ]
    },
    {
     "name": "stdout",
     "output_type": "stream",
     "text": [
      "./OA-G3-4 p024\n"
     ]
    },
    {
     "name": "stderr",
     "output_type": "stream",
     "text": [
      "2018-04-23 08:15:47 PM Cl-                 4\n",
      "2018-04-23 08:15:47 PM DM1                 1\n",
      "2018-04-23 08:15:47 PM DM2                 1\n",
      "2018-04-23 08:15:47 PM DM3                 1\n",
      "2018-04-23 08:15:47 PM GST                 1\n",
      "2018-04-23 08:15:47 PM HST                 1\n",
      "2018-04-23 08:15:47 PM Na+                13\n",
      "2018-04-23 08:15:47 PM WAT              3000\n"
     ]
    },
    {
     "name": "stdout",
     "output_type": "stream",
     "text": [
      "./OA-G3-4 p025\n"
     ]
    },
    {
     "name": "stderr",
     "output_type": "stream",
     "text": [
      "2018-04-23 08:15:50 PM Cl-                 4\n",
      "2018-04-23 08:15:50 PM DM1                 1\n",
      "2018-04-23 08:15:50 PM DM2                 1\n",
      "2018-04-23 08:15:50 PM DM3                 1\n",
      "2018-04-23 08:15:50 PM GST                 1\n",
      "2018-04-23 08:15:50 PM HST                 1\n",
      "2018-04-23 08:15:50 PM Na+                13\n",
      "2018-04-23 08:15:50 PM WAT              3000\n"
     ]
    },
    {
     "name": "stdout",
     "output_type": "stream",
     "text": [
      "./OA-G3-4 p026\n"
     ]
    },
    {
     "name": "stderr",
     "output_type": "stream",
     "text": [
      "2018-04-23 08:15:53 PM Cl-                 4\n",
      "2018-04-23 08:15:53 PM DM1                 1\n",
      "2018-04-23 08:15:53 PM DM2                 1\n",
      "2018-04-23 08:15:53 PM DM3                 1\n",
      "2018-04-23 08:15:53 PM GST                 1\n",
      "2018-04-23 08:15:53 PM HST                 1\n",
      "2018-04-23 08:15:53 PM Na+                13\n",
      "2018-04-23 08:15:53 PM WAT              3000\n"
     ]
    },
    {
     "name": "stdout",
     "output_type": "stream",
     "text": [
      "./OA-G3-4 p027\n"
     ]
    },
    {
     "name": "stderr",
     "output_type": "stream",
     "text": [
      "2018-04-23 08:15:56 PM Cl-                 4\n",
      "2018-04-23 08:15:56 PM DM1                 1\n",
      "2018-04-23 08:15:56 PM DM2                 1\n",
      "2018-04-23 08:15:56 PM DM3                 1\n",
      "2018-04-23 08:15:56 PM GST                 1\n",
      "2018-04-23 08:15:56 PM HST                 1\n",
      "2018-04-23 08:15:56 PM Na+                13\n",
      "2018-04-23 08:15:56 PM WAT              3000\n"
     ]
    },
    {
     "name": "stdout",
     "output_type": "stream",
     "text": [
      "./OA-G3-4 p028\n"
     ]
    },
    {
     "name": "stderr",
     "output_type": "stream",
     "text": [
      "2018-04-23 08:15:59 PM Cl-                 4\n",
      "2018-04-23 08:15:59 PM DM1                 1\n",
      "2018-04-23 08:15:59 PM DM2                 1\n",
      "2018-04-23 08:15:59 PM DM3                 1\n",
      "2018-04-23 08:15:59 PM GST                 1\n",
      "2018-04-23 08:15:59 PM HST                 1\n",
      "2018-04-23 08:15:59 PM Na+                13\n",
      "2018-04-23 08:15:59 PM WAT              3000\n"
     ]
    },
    {
     "name": "stdout",
     "output_type": "stream",
     "text": [
      "./OA-G3-4 p029\n"
     ]
    },
    {
     "name": "stderr",
     "output_type": "stream",
     "text": [
      "2018-04-23 08:16:01 PM Cl-                 4\n",
      "2018-04-23 08:16:01 PM DM1                 1\n",
      "2018-04-23 08:16:01 PM DM2                 1\n",
      "2018-04-23 08:16:01 PM DM3                 1\n",
      "2018-04-23 08:16:01 PM GST                 1\n",
      "2018-04-23 08:16:01 PM HST                 1\n",
      "2018-04-23 08:16:01 PM Na+                13\n",
      "2018-04-23 08:16:01 PM WAT              3000\n"
     ]
    },
    {
     "name": "stdout",
     "output_type": "stream",
     "text": [
      "./OA-G3-4 p030\n"
     ]
    },
    {
     "name": "stderr",
     "output_type": "stream",
     "text": [
      "2018-04-23 08:16:05 PM Cl-                 4\n",
      "2018-04-23 08:16:05 PM DM1                 1\n",
      "2018-04-23 08:16:05 PM DM2                 1\n",
      "2018-04-23 08:16:05 PM DM3                 1\n",
      "2018-04-23 08:16:05 PM GST                 1\n",
      "2018-04-23 08:16:05 PM HST                 1\n",
      "2018-04-23 08:16:05 PM Na+                13\n",
      "2018-04-23 08:16:05 PM WAT              3000\n"
     ]
    },
    {
     "name": "stdout",
     "output_type": "stream",
     "text": [
      "./OA-G3-4 p031\n"
     ]
    },
    {
     "name": "stderr",
     "output_type": "stream",
     "text": [
      "2018-04-23 08:16:08 PM Cl-                 4\n",
      "2018-04-23 08:16:08 PM DM1                 1\n",
      "2018-04-23 08:16:08 PM DM2                 1\n",
      "2018-04-23 08:16:08 PM DM3                 1\n",
      "2018-04-23 08:16:08 PM GST                 1\n",
      "2018-04-23 08:16:08 PM HST                 1\n",
      "2018-04-23 08:16:08 PM Na+                13\n",
      "2018-04-23 08:16:08 PM WAT              3000\n"
     ]
    },
    {
     "name": "stdout",
     "output_type": "stream",
     "text": [
      "./OA-G3-4 p032\n"
     ]
    },
    {
     "name": "stderr",
     "output_type": "stream",
     "text": [
      "2018-04-23 08:16:11 PM Cl-                 4\n",
      "2018-04-23 08:16:11 PM DM1                 1\n",
      "2018-04-23 08:16:11 PM DM2                 1\n",
      "2018-04-23 08:16:11 PM DM3                 1\n",
      "2018-04-23 08:16:11 PM GST                 1\n",
      "2018-04-23 08:16:11 PM HST                 1\n",
      "2018-04-23 08:16:11 PM Na+                13\n",
      "2018-04-23 08:16:11 PM WAT              3000\n"
     ]
    },
    {
     "name": "stdout",
     "output_type": "stream",
     "text": [
      "./OA-G3-4 p033\n"
     ]
    },
    {
     "name": "stderr",
     "output_type": "stream",
     "text": [
      "2018-04-23 08:16:14 PM Cl-                 4\n",
      "2018-04-23 08:16:14 PM DM1                 1\n",
      "2018-04-23 08:16:14 PM DM2                 1\n",
      "2018-04-23 08:16:14 PM DM3                 1\n",
      "2018-04-23 08:16:14 PM GST                 1\n",
      "2018-04-23 08:16:14 PM HST                 1\n",
      "2018-04-23 08:16:14 PM Na+                13\n",
      "2018-04-23 08:16:14 PM WAT              3000\n"
     ]
    },
    {
     "name": "stdout",
     "output_type": "stream",
     "text": [
      "./OA-G3-4 p034\n"
     ]
    },
    {
     "name": "stderr",
     "output_type": "stream",
     "text": [
      "2018-04-23 08:16:17 PM Cl-                 4\n",
      "2018-04-23 08:16:17 PM DM1                 1\n",
      "2018-04-23 08:16:17 PM DM2                 1\n",
      "2018-04-23 08:16:17 PM DM3                 1\n",
      "2018-04-23 08:16:17 PM GST                 1\n",
      "2018-04-23 08:16:17 PM HST                 1\n",
      "2018-04-23 08:16:17 PM Na+                13\n",
      "2018-04-23 08:16:17 PM WAT              3000\n"
     ]
    },
    {
     "name": "stdout",
     "output_type": "stream",
     "text": [
      "./OA-G3-4 p035\n"
     ]
    },
    {
     "name": "stderr",
     "output_type": "stream",
     "text": [
      "2018-04-23 08:16:20 PM Cl-                 4\n",
      "2018-04-23 08:16:20 PM DM1                 1\n",
      "2018-04-23 08:16:20 PM DM2                 1\n",
      "2018-04-23 08:16:20 PM DM3                 1\n",
      "2018-04-23 08:16:20 PM GST                 1\n",
      "2018-04-23 08:16:20 PM HST                 1\n",
      "2018-04-23 08:16:20 PM Na+                13\n",
      "2018-04-23 08:16:20 PM WAT              3000\n"
     ]
    },
    {
     "name": "stdout",
     "output_type": "stream",
     "text": [
      "./OA-G3-4 p036\n"
     ]
    },
    {
     "name": "stderr",
     "output_type": "stream",
     "text": [
      "2018-04-23 08:16:23 PM Cl-                 4\n",
      "2018-04-23 08:16:23 PM DM1                 1\n",
      "2018-04-23 08:16:23 PM DM2                 1\n",
      "2018-04-23 08:16:23 PM DM3                 1\n",
      "2018-04-23 08:16:23 PM GST                 1\n",
      "2018-04-23 08:16:23 PM HST                 1\n",
      "2018-04-23 08:16:23 PM Na+                13\n",
      "2018-04-23 08:16:23 PM WAT              3000\n"
     ]
    },
    {
     "name": "stdout",
     "output_type": "stream",
     "text": [
      "./OA-G3-4 p037\n"
     ]
    },
    {
     "name": "stderr",
     "output_type": "stream",
     "text": [
      "2018-04-23 08:16:26 PM Cl-                 4\n",
      "2018-04-23 08:16:26 PM DM1                 1\n",
      "2018-04-23 08:16:26 PM DM2                 1\n",
      "2018-04-23 08:16:26 PM DM3                 1\n",
      "2018-04-23 08:16:26 PM GST                 1\n",
      "2018-04-23 08:16:26 PM HST                 1\n",
      "2018-04-23 08:16:26 PM Na+                13\n",
      "2018-04-23 08:16:26 PM WAT              3000\n"
     ]
    },
    {
     "name": "stdout",
     "output_type": "stream",
     "text": [
      "./OA-G3-4 p038\n"
     ]
    },
    {
     "name": "stderr",
     "output_type": "stream",
     "text": [
      "2018-04-23 08:16:30 PM Cl-                 4\n",
      "2018-04-23 08:16:30 PM DM1                 1\n",
      "2018-04-23 08:16:30 PM DM2                 1\n",
      "2018-04-23 08:16:30 PM DM3                 1\n",
      "2018-04-23 08:16:30 PM GST                 1\n",
      "2018-04-23 08:16:30 PM HST                 1\n",
      "2018-04-23 08:16:30 PM Na+                13\n",
      "2018-04-23 08:16:30 PM WAT              3000\n"
     ]
    },
    {
     "name": "stdout",
     "output_type": "stream",
     "text": [
      "./OA-G3-4 p039\n"
     ]
    },
    {
     "name": "stderr",
     "output_type": "stream",
     "text": [
      "2018-04-23 08:16:34 PM Cl-                 4\n",
      "2018-04-23 08:16:34 PM DM1                 1\n",
      "2018-04-23 08:16:34 PM DM2                 1\n",
      "2018-04-23 08:16:34 PM DM3                 1\n",
      "2018-04-23 08:16:34 PM GST                 1\n",
      "2018-04-23 08:16:34 PM HST                 1\n",
      "2018-04-23 08:16:34 PM Na+                13\n",
      "2018-04-23 08:16:34 PM WAT              3000\n"
     ]
    },
    {
     "name": "stdout",
     "output_type": "stream",
     "text": [
      "./OA-G3-4 p040\n"
     ]
    },
    {
     "name": "stderr",
     "output_type": "stream",
     "text": [
      "2018-04-23 08:16:37 PM Cl-                 4\n",
      "2018-04-23 08:16:37 PM DM1                 1\n",
      "2018-04-23 08:16:37 PM DM2                 1\n",
      "2018-04-23 08:16:37 PM DM3                 1\n",
      "2018-04-23 08:16:37 PM GST                 1\n",
      "2018-04-23 08:16:37 PM HST                 1\n",
      "2018-04-23 08:16:37 PM Na+                13\n",
      "2018-04-23 08:16:37 PM WAT              3000\n"
     ]
    },
    {
     "name": "stdout",
     "output_type": "stream",
     "text": [
      "./OA-G3-4 p041\n"
     ]
    },
    {
     "name": "stderr",
     "output_type": "stream",
     "text": [
      "2018-04-23 08:16:41 PM Cl-                 4\n",
      "2018-04-23 08:16:41 PM DM1                 1\n",
      "2018-04-23 08:16:41 PM DM2                 1\n",
      "2018-04-23 08:16:41 PM DM3                 1\n",
      "2018-04-23 08:16:41 PM GST                 1\n",
      "2018-04-23 08:16:41 PM HST                 1\n",
      "2018-04-23 08:16:41 PM Na+                13\n",
      "2018-04-23 08:16:41 PM WAT              3000\n"
     ]
    },
    {
     "name": "stdout",
     "output_type": "stream",
     "text": [
      "./OA-G3-4 p042\n"
     ]
    },
    {
     "name": "stderr",
     "output_type": "stream",
     "text": [
      "2018-04-23 08:16:44 PM Cl-                 4\n",
      "2018-04-23 08:16:44 PM DM1                 1\n",
      "2018-04-23 08:16:44 PM DM2                 1\n",
      "2018-04-23 08:16:44 PM DM3                 1\n",
      "2018-04-23 08:16:44 PM GST                 1\n",
      "2018-04-23 08:16:44 PM HST                 1\n",
      "2018-04-23 08:16:44 PM Na+                13\n",
      "2018-04-23 08:16:44 PM WAT              3000\n"
     ]
    },
    {
     "name": "stdout",
     "output_type": "stream",
     "text": [
      "./OA-G3-4 p043\n"
     ]
    },
    {
     "name": "stderr",
     "output_type": "stream",
     "text": [
      "2018-04-23 08:16:47 PM Cl-                 4\n",
      "2018-04-23 08:16:47 PM DM1                 1\n",
      "2018-04-23 08:16:47 PM DM2                 1\n",
      "2018-04-23 08:16:47 PM DM3                 1\n",
      "2018-04-23 08:16:47 PM GST                 1\n",
      "2018-04-23 08:16:47 PM HST                 1\n",
      "2018-04-23 08:16:47 PM Na+                13\n",
      "2018-04-23 08:16:47 PM WAT              3000\n"
     ]
    },
    {
     "name": "stdout",
     "output_type": "stream",
     "text": [
      "./OA-G3-4 p044\n"
     ]
    },
    {
     "name": "stderr",
     "output_type": "stream",
     "text": [
      "2018-04-23 08:16:50 PM Cl-                 4\n",
      "2018-04-23 08:16:50 PM DM1                 1\n",
      "2018-04-23 08:16:50 PM DM2                 1\n",
      "2018-04-23 08:16:50 PM DM3                 1\n",
      "2018-04-23 08:16:50 PM GST                 1\n",
      "2018-04-23 08:16:50 PM HST                 1\n",
      "2018-04-23 08:16:50 PM Na+                13\n",
      "2018-04-23 08:16:50 PM WAT              3000\n"
     ]
    },
    {
     "name": "stdout",
     "output_type": "stream",
     "text": [
      "./OA-G3-4 p045\n"
     ]
    },
    {
     "name": "stderr",
     "output_type": "stream",
     "text": [
      "2018-04-23 08:16:53 PM Cl-                 4\n",
      "2018-04-23 08:16:53 PM DM1                 1\n",
      "2018-04-23 08:16:53 PM DM2                 1\n",
      "2018-04-23 08:16:53 PM DM3                 1\n",
      "2018-04-23 08:16:53 PM GST                 1\n",
      "2018-04-23 08:16:53 PM HST                 1\n",
      "2018-04-23 08:16:53 PM Na+                13\n",
      "2018-04-23 08:16:53 PM WAT              3000\n"
     ]
    },
    {
     "name": "stdout",
     "output_type": "stream",
     "text": [
      "./OA-G6-0 a000\n"
     ]
    },
    {
     "name": "stderr",
     "output_type": "stream",
     "text": [
      "2018-04-23 08:16:56 PM Cl-                 4\n",
      "2018-04-23 08:16:56 PM DM1                 1\n",
      "2018-04-23 08:16:56 PM DM2                 1\n",
      "2018-04-23 08:16:56 PM DM3                 1\n",
      "2018-04-23 08:16:56 PM GST                 1\n",
      "2018-04-23 08:16:56 PM HST                 1\n",
      "2018-04-23 08:16:56 PM Na+                13\n",
      "2018-04-23 08:16:56 PM WAT              3000\n"
     ]
    },
    {
     "name": "stdout",
     "output_type": "stream",
     "text": [
      "./OA-G6-0 a001\n"
     ]
    },
    {
     "name": "stderr",
     "output_type": "stream",
     "text": [
      "2018-04-23 08:16:59 PM Cl-                 4\n",
      "2018-04-23 08:16:59 PM DM1                 1\n",
      "2018-04-23 08:16:59 PM DM2                 1\n",
      "2018-04-23 08:16:59 PM DM3                 1\n",
      "2018-04-23 08:16:59 PM GST                 1\n",
      "2018-04-23 08:16:59 PM HST                 1\n",
      "2018-04-23 08:16:59 PM Na+                13\n",
      "2018-04-23 08:16:59 PM WAT              3000\n"
     ]
    },
    {
     "name": "stdout",
     "output_type": "stream",
     "text": [
      "./OA-G6-0 a002\n"
     ]
    },
    {
     "name": "stderr",
     "output_type": "stream",
     "text": [
      "2018-04-23 08:17:02 PM Cl-                 4\n",
      "2018-04-23 08:17:02 PM DM1                 1\n",
      "2018-04-23 08:17:02 PM DM2                 1\n",
      "2018-04-23 08:17:02 PM DM3                 1\n",
      "2018-04-23 08:17:02 PM GST                 1\n",
      "2018-04-23 08:17:02 PM HST                 1\n",
      "2018-04-23 08:17:02 PM Na+                13\n",
      "2018-04-23 08:17:02 PM WAT              3000\n"
     ]
    },
    {
     "name": "stdout",
     "output_type": "stream",
     "text": [
      "./OA-G6-0 a003\n"
     ]
    },
    {
     "name": "stderr",
     "output_type": "stream",
     "text": [
      "2018-04-23 08:17:04 PM Cl-                 4\n",
      "2018-04-23 08:17:04 PM DM1                 1\n",
      "2018-04-23 08:17:04 PM DM2                 1\n",
      "2018-04-23 08:17:04 PM DM3                 1\n",
      "2018-04-23 08:17:04 PM GST                 1\n",
      "2018-04-23 08:17:04 PM HST                 1\n",
      "2018-04-23 08:17:04 PM Na+                13\n",
      "2018-04-23 08:17:04 PM WAT              3000\n"
     ]
    },
    {
     "name": "stdout",
     "output_type": "stream",
     "text": [
      "./OA-G6-0 a004\n"
     ]
    },
    {
     "name": "stderr",
     "output_type": "stream",
     "text": [
      "2018-04-23 08:17:07 PM Cl-                 4\n",
      "2018-04-23 08:17:07 PM DM1                 1\n",
      "2018-04-23 08:17:07 PM DM2                 1\n",
      "2018-04-23 08:17:07 PM DM3                 1\n",
      "2018-04-23 08:17:07 PM GST                 1\n",
      "2018-04-23 08:17:07 PM HST                 1\n",
      "2018-04-23 08:17:07 PM Na+                13\n",
      "2018-04-23 08:17:07 PM WAT              3000\n"
     ]
    },
    {
     "name": "stdout",
     "output_type": "stream",
     "text": [
      "./OA-G6-0 a005\n"
     ]
    },
    {
     "name": "stderr",
     "output_type": "stream",
     "text": [
      "2018-04-23 08:17:10 PM Cl-                 4\n",
      "2018-04-23 08:17:10 PM DM1                 1\n",
      "2018-04-23 08:17:10 PM DM2                 1\n",
      "2018-04-23 08:17:10 PM DM3                 1\n",
      "2018-04-23 08:17:10 PM GST                 1\n",
      "2018-04-23 08:17:10 PM HST                 1\n",
      "2018-04-23 08:17:10 PM Na+                13\n",
      "2018-04-23 08:17:10 PM WAT              3000\n"
     ]
    },
    {
     "name": "stdout",
     "output_type": "stream",
     "text": [
      "./OA-G6-0 a006\n"
     ]
    },
    {
     "name": "stderr",
     "output_type": "stream",
     "text": [
      "2018-04-23 08:17:13 PM Cl-                 4\n",
      "2018-04-23 08:17:13 PM DM1                 1\n",
      "2018-04-23 08:17:13 PM DM2                 1\n",
      "2018-04-23 08:17:13 PM DM3                 1\n",
      "2018-04-23 08:17:13 PM GST                 1\n",
      "2018-04-23 08:17:13 PM HST                 1\n",
      "2018-04-23 08:17:13 PM Na+                13\n",
      "2018-04-23 08:17:13 PM WAT              3000\n"
     ]
    },
    {
     "name": "stdout",
     "output_type": "stream",
     "text": [
      "./OA-G6-0 a007\n"
     ]
    },
    {
     "name": "stderr",
     "output_type": "stream",
     "text": [
      "2018-04-23 08:17:16 PM Cl-                 4\n",
      "2018-04-23 08:17:16 PM DM1                 1\n",
      "2018-04-23 08:17:16 PM DM2                 1\n",
      "2018-04-23 08:17:16 PM DM3                 1\n",
      "2018-04-23 08:17:16 PM GST                 1\n",
      "2018-04-23 08:17:16 PM HST                 1\n",
      "2018-04-23 08:17:16 PM Na+                13\n",
      "2018-04-23 08:17:16 PM WAT              3000\n"
     ]
    },
    {
     "name": "stdout",
     "output_type": "stream",
     "text": [
      "./OA-G6-0 a008\n"
     ]
    },
    {
     "name": "stderr",
     "output_type": "stream",
     "text": [
      "2018-04-23 08:17:19 PM Cl-                 4\n",
      "2018-04-23 08:17:19 PM DM1                 1\n",
      "2018-04-23 08:17:19 PM DM2                 1\n",
      "2018-04-23 08:17:19 PM DM3                 1\n",
      "2018-04-23 08:17:19 PM GST                 1\n",
      "2018-04-23 08:17:19 PM HST                 1\n",
      "2018-04-23 08:17:19 PM Na+                13\n",
      "2018-04-23 08:17:19 PM WAT              3000\n"
     ]
    },
    {
     "name": "stdout",
     "output_type": "stream",
     "text": [
      "./OA-G6-0 a009\n"
     ]
    },
    {
     "name": "stderr",
     "output_type": "stream",
     "text": [
      "2018-04-23 08:17:21 PM Cl-                 4\n",
      "2018-04-23 08:17:21 PM DM1                 1\n",
      "2018-04-23 08:17:21 PM DM2                 1\n",
      "2018-04-23 08:17:21 PM DM3                 1\n",
      "2018-04-23 08:17:21 PM GST                 1\n",
      "2018-04-23 08:17:21 PM HST                 1\n",
      "2018-04-23 08:17:21 PM Na+                13\n",
      "2018-04-23 08:17:21 PM WAT              3000\n"
     ]
    },
    {
     "name": "stdout",
     "output_type": "stream",
     "text": [
      "./OA-G6-0 a010\n"
     ]
    },
    {
     "name": "stderr",
     "output_type": "stream",
     "text": [
      "2018-04-23 08:17:24 PM Cl-                 4\n",
      "2018-04-23 08:17:24 PM DM1                 1\n",
      "2018-04-23 08:17:24 PM DM2                 1\n",
      "2018-04-23 08:17:24 PM DM3                 1\n",
      "2018-04-23 08:17:24 PM GST                 1\n",
      "2018-04-23 08:17:24 PM HST                 1\n",
      "2018-04-23 08:17:24 PM Na+                13\n",
      "2018-04-23 08:17:24 PM WAT              3000\n"
     ]
    },
    {
     "name": "stdout",
     "output_type": "stream",
     "text": [
      "./OA-G6-0 a011\n"
     ]
    },
    {
     "name": "stderr",
     "output_type": "stream",
     "text": [
      "2018-04-23 08:17:27 PM Cl-                 4\n",
      "2018-04-23 08:17:27 PM DM1                 1\n",
      "2018-04-23 08:17:27 PM DM2                 1\n",
      "2018-04-23 08:17:27 PM DM3                 1\n",
      "2018-04-23 08:17:27 PM GST                 1\n",
      "2018-04-23 08:17:27 PM HST                 1\n",
      "2018-04-23 08:17:27 PM Na+                13\n",
      "2018-04-23 08:17:27 PM WAT              3000\n"
     ]
    },
    {
     "name": "stdout",
     "output_type": "stream",
     "text": [
      "./OA-G6-0 a012\n"
     ]
    },
    {
     "name": "stderr",
     "output_type": "stream",
     "text": [
      "2018-04-23 08:17:30 PM Cl-                 4\n",
      "2018-04-23 08:17:30 PM DM1                 1\n",
      "2018-04-23 08:17:30 PM DM2                 1\n",
      "2018-04-23 08:17:30 PM DM3                 1\n",
      "2018-04-23 08:17:30 PM GST                 1\n",
      "2018-04-23 08:17:30 PM HST                 1\n",
      "2018-04-23 08:17:30 PM Na+                13\n",
      "2018-04-23 08:17:30 PM WAT              3000\n"
     ]
    },
    {
     "name": "stdout",
     "output_type": "stream",
     "text": [
      "./OA-G6-0 a013\n"
     ]
    },
    {
     "name": "stderr",
     "output_type": "stream",
     "text": [
      "2018-04-23 08:17:33 PM Cl-                 4\n",
      "2018-04-23 08:17:33 PM DM1                 1\n",
      "2018-04-23 08:17:33 PM DM2                 1\n",
      "2018-04-23 08:17:33 PM DM3                 1\n",
      "2018-04-23 08:17:33 PM GST                 1\n",
      "2018-04-23 08:17:33 PM HST                 1\n",
      "2018-04-23 08:17:33 PM Na+                13\n",
      "2018-04-23 08:17:33 PM WAT              3000\n"
     ]
    },
    {
     "name": "stdout",
     "output_type": "stream",
     "text": [
      "./OA-G6-0 p000\n"
     ]
    },
    {
     "name": "stderr",
     "output_type": "stream",
     "text": [
      "2018-04-23 08:17:36 PM Cl-                 4\n",
      "2018-04-23 08:17:36 PM DM1                 1\n",
      "2018-04-23 08:17:36 PM DM2                 1\n",
      "2018-04-23 08:17:36 PM DM3                 1\n",
      "2018-04-23 08:17:36 PM GST                 1\n",
      "2018-04-23 08:17:36 PM HST                 1\n",
      "2018-04-23 08:17:36 PM Na+                13\n",
      "2018-04-23 08:17:36 PM WAT              3000\n"
     ]
    },
    {
     "name": "stdout",
     "output_type": "stream",
     "text": [
      "./OA-G6-0 p001\n"
     ]
    },
    {
     "name": "stderr",
     "output_type": "stream",
     "text": [
      "2018-04-23 08:17:38 PM Cl-                 4\n",
      "2018-04-23 08:17:38 PM DM1                 1\n",
      "2018-04-23 08:17:38 PM DM2                 1\n",
      "2018-04-23 08:17:38 PM DM3                 1\n",
      "2018-04-23 08:17:38 PM GST                 1\n",
      "2018-04-23 08:17:38 PM HST                 1\n",
      "2018-04-23 08:17:38 PM Na+                13\n",
      "2018-04-23 08:17:38 PM WAT              3000\n"
     ]
    },
    {
     "name": "stdout",
     "output_type": "stream",
     "text": [
      "./OA-G6-0 p002\n"
     ]
    },
    {
     "name": "stderr",
     "output_type": "stream",
     "text": [
      "2018-04-23 08:17:41 PM Cl-                 4\n",
      "2018-04-23 08:17:41 PM DM1                 1\n",
      "2018-04-23 08:17:41 PM DM2                 1\n",
      "2018-04-23 08:17:41 PM DM3                 1\n",
      "2018-04-23 08:17:41 PM GST                 1\n",
      "2018-04-23 08:17:41 PM HST                 1\n",
      "2018-04-23 08:17:41 PM Na+                13\n",
      "2018-04-23 08:17:41 PM WAT              3000\n"
     ]
    },
    {
     "name": "stdout",
     "output_type": "stream",
     "text": [
      "./OA-G6-0 p003\n"
     ]
    },
    {
     "name": "stderr",
     "output_type": "stream",
     "text": [
      "2018-04-23 08:17:43 PM Cl-                 4\n",
      "2018-04-23 08:17:43 PM DM1                 1\n",
      "2018-04-23 08:17:43 PM DM2                 1\n",
      "2018-04-23 08:17:43 PM DM3                 1\n",
      "2018-04-23 08:17:43 PM GST                 1\n",
      "2018-04-23 08:17:43 PM HST                 1\n",
      "2018-04-23 08:17:43 PM Na+                13\n",
      "2018-04-23 08:17:43 PM WAT              3000\n"
     ]
    },
    {
     "name": "stdout",
     "output_type": "stream",
     "text": [
      "./OA-G6-0 p004\n"
     ]
    },
    {
     "name": "stderr",
     "output_type": "stream",
     "text": [
      "2018-04-23 08:17:45 PM Cl-                 4\n",
      "2018-04-23 08:17:45 PM DM1                 1\n",
      "2018-04-23 08:17:45 PM DM2                 1\n",
      "2018-04-23 08:17:45 PM DM3                 1\n",
      "2018-04-23 08:17:45 PM GST                 1\n",
      "2018-04-23 08:17:45 PM HST                 1\n",
      "2018-04-23 08:17:45 PM Na+                13\n",
      "2018-04-23 08:17:45 PM WAT              3000\n"
     ]
    },
    {
     "name": "stdout",
     "output_type": "stream",
     "text": [
      "./OA-G6-0 p005\n"
     ]
    },
    {
     "name": "stderr",
     "output_type": "stream",
     "text": [
      "2018-04-23 08:17:48 PM Cl-                 4\n",
      "2018-04-23 08:17:48 PM DM1                 1\n",
      "2018-04-23 08:17:48 PM DM2                 1\n",
      "2018-04-23 08:17:48 PM DM3                 1\n",
      "2018-04-23 08:17:48 PM GST                 1\n",
      "2018-04-23 08:17:48 PM HST                 1\n",
      "2018-04-23 08:17:48 PM Na+                13\n",
      "2018-04-23 08:17:48 PM WAT              3000\n"
     ]
    },
    {
     "name": "stdout",
     "output_type": "stream",
     "text": [
      "./OA-G6-0 p006\n"
     ]
    },
    {
     "name": "stderr",
     "output_type": "stream",
     "text": [
      "2018-04-23 08:17:51 PM Cl-                 4\n",
      "2018-04-23 08:17:51 PM DM1                 1\n",
      "2018-04-23 08:17:51 PM DM2                 1\n",
      "2018-04-23 08:17:51 PM DM3                 1\n",
      "2018-04-23 08:17:51 PM GST                 1\n",
      "2018-04-23 08:17:51 PM HST                 1\n",
      "2018-04-23 08:17:51 PM Na+                13\n",
      "2018-04-23 08:17:51 PM WAT              3000\n"
     ]
    },
    {
     "name": "stdout",
     "output_type": "stream",
     "text": [
      "./OA-G6-0 p007\n"
     ]
    },
    {
     "name": "stderr",
     "output_type": "stream",
     "text": [
      "2018-04-23 08:17:54 PM Cl-                 4\n",
      "2018-04-23 08:17:54 PM DM1                 1\n",
      "2018-04-23 08:17:54 PM DM2                 1\n",
      "2018-04-23 08:17:54 PM DM3                 1\n",
      "2018-04-23 08:17:54 PM GST                 1\n",
      "2018-04-23 08:17:54 PM HST                 1\n",
      "2018-04-23 08:17:54 PM Na+                13\n",
      "2018-04-23 08:17:54 PM WAT              3000\n"
     ]
    },
    {
     "name": "stdout",
     "output_type": "stream",
     "text": [
      "./OA-G6-0 p008\n"
     ]
    },
    {
     "name": "stderr",
     "output_type": "stream",
     "text": [
      "2018-04-23 08:17:57 PM Cl-                 4\n",
      "2018-04-23 08:17:57 PM DM1                 1\n",
      "2018-04-23 08:17:57 PM DM2                 1\n",
      "2018-04-23 08:17:57 PM DM3                 1\n",
      "2018-04-23 08:17:57 PM GST                 1\n",
      "2018-04-23 08:17:57 PM HST                 1\n",
      "2018-04-23 08:17:57 PM Na+                13\n",
      "2018-04-23 08:17:57 PM WAT              3000\n"
     ]
    },
    {
     "name": "stdout",
     "output_type": "stream",
     "text": [
      "./OA-G6-0 p009\n"
     ]
    },
    {
     "name": "stderr",
     "output_type": "stream",
     "text": [
      "2018-04-23 08:18:00 PM Cl-                 4\n",
      "2018-04-23 08:18:00 PM DM1                 1\n",
      "2018-04-23 08:18:00 PM DM2                 1\n",
      "2018-04-23 08:18:00 PM DM3                 1\n",
      "2018-04-23 08:18:00 PM GST                 1\n",
      "2018-04-23 08:18:00 PM HST                 1\n",
      "2018-04-23 08:18:00 PM Na+                13\n",
      "2018-04-23 08:18:00 PM WAT              3000\n"
     ]
    },
    {
     "name": "stdout",
     "output_type": "stream",
     "text": [
      "./OA-G6-0 p010\n"
     ]
    },
    {
     "name": "stderr",
     "output_type": "stream",
     "text": [
      "2018-04-23 08:18:03 PM Cl-                 4\n",
      "2018-04-23 08:18:03 PM DM1                 1\n",
      "2018-04-23 08:18:03 PM DM2                 1\n",
      "2018-04-23 08:18:03 PM DM3                 1\n",
      "2018-04-23 08:18:03 PM GST                 1\n",
      "2018-04-23 08:18:03 PM HST                 1\n",
      "2018-04-23 08:18:03 PM Na+                13\n",
      "2018-04-23 08:18:03 PM WAT              3000\n"
     ]
    },
    {
     "name": "stdout",
     "output_type": "stream",
     "text": [
      "./OA-G6-0 p011\n"
     ]
    },
    {
     "name": "stderr",
     "output_type": "stream",
     "text": [
      "2018-04-23 08:18:06 PM Cl-                 4\n",
      "2018-04-23 08:18:06 PM DM1                 1\n",
      "2018-04-23 08:18:06 PM DM2                 1\n",
      "2018-04-23 08:18:06 PM DM3                 1\n",
      "2018-04-23 08:18:06 PM GST                 1\n",
      "2018-04-23 08:18:06 PM HST                 1\n",
      "2018-04-23 08:18:06 PM Na+                13\n",
      "2018-04-23 08:18:06 PM WAT              3000\n"
     ]
    },
    {
     "name": "stdout",
     "output_type": "stream",
     "text": [
      "./OA-G6-0 p012\n"
     ]
    },
    {
     "name": "stderr",
     "output_type": "stream",
     "text": [
      "2018-04-23 08:18:08 PM Cl-                 4\n",
      "2018-04-23 08:18:08 PM DM1                 1\n",
      "2018-04-23 08:18:08 PM DM2                 1\n",
      "2018-04-23 08:18:08 PM DM3                 1\n",
      "2018-04-23 08:18:08 PM GST                 1\n",
      "2018-04-23 08:18:08 PM HST                 1\n",
      "2018-04-23 08:18:08 PM Na+                13\n",
      "2018-04-23 08:18:08 PM WAT              3000\n"
     ]
    },
    {
     "name": "stdout",
     "output_type": "stream",
     "text": [
      "./OA-G6-0 p013\n"
     ]
    },
    {
     "name": "stderr",
     "output_type": "stream",
     "text": [
      "2018-04-23 08:18:11 PM Cl-                 4\n",
      "2018-04-23 08:18:11 PM DM1                 1\n",
      "2018-04-23 08:18:11 PM DM2                 1\n",
      "2018-04-23 08:18:11 PM DM3                 1\n",
      "2018-04-23 08:18:11 PM GST                 1\n",
      "2018-04-23 08:18:11 PM HST                 1\n",
      "2018-04-23 08:18:11 PM Na+                13\n",
      "2018-04-23 08:18:11 PM WAT              3000\n"
     ]
    },
    {
     "name": "stdout",
     "output_type": "stream",
     "text": [
      "./OA-G6-0 p014\n"
     ]
    },
    {
     "name": "stderr",
     "output_type": "stream",
     "text": [
      "2018-04-23 08:18:14 PM Cl-                 4\n",
      "2018-04-23 08:18:14 PM DM1                 1\n",
      "2018-04-23 08:18:14 PM DM2                 1\n",
      "2018-04-23 08:18:14 PM DM3                 1\n",
      "2018-04-23 08:18:14 PM GST                 1\n",
      "2018-04-23 08:18:14 PM HST                 1\n",
      "2018-04-23 08:18:14 PM Na+                13\n",
      "2018-04-23 08:18:14 PM WAT              3000\n"
     ]
    },
    {
     "name": "stdout",
     "output_type": "stream",
     "text": [
      "./OA-G6-0 p015\n"
     ]
    },
    {
     "name": "stderr",
     "output_type": "stream",
     "text": [
      "2018-04-23 08:18:18 PM Cl-                 4\n",
      "2018-04-23 08:18:18 PM DM1                 1\n",
      "2018-04-23 08:18:18 PM DM2                 1\n",
      "2018-04-23 08:18:18 PM DM3                 1\n",
      "2018-04-23 08:18:18 PM GST                 1\n",
      "2018-04-23 08:18:18 PM HST                 1\n",
      "2018-04-23 08:18:18 PM Na+                13\n",
      "2018-04-23 08:18:18 PM WAT              3000\n"
     ]
    },
    {
     "name": "stdout",
     "output_type": "stream",
     "text": [
      "./OA-G6-0 p016\n"
     ]
    },
    {
     "name": "stderr",
     "output_type": "stream",
     "text": [
      "2018-04-23 08:18:22 PM Cl-                 4\n",
      "2018-04-23 08:18:22 PM DM1                 1\n",
      "2018-04-23 08:18:22 PM DM2                 1\n",
      "2018-04-23 08:18:22 PM DM3                 1\n",
      "2018-04-23 08:18:22 PM GST                 1\n",
      "2018-04-23 08:18:22 PM HST                 1\n",
      "2018-04-23 08:18:22 PM Na+                13\n",
      "2018-04-23 08:18:22 PM WAT              3000\n"
     ]
    },
    {
     "name": "stdout",
     "output_type": "stream",
     "text": [
      "./OA-G6-0 p017\n"
     ]
    },
    {
     "name": "stderr",
     "output_type": "stream",
     "text": [
      "2018-04-23 08:18:24 PM Cl-                 4\n",
      "2018-04-23 08:18:24 PM DM1                 1\n",
      "2018-04-23 08:18:24 PM DM2                 1\n",
      "2018-04-23 08:18:24 PM DM3                 1\n",
      "2018-04-23 08:18:24 PM GST                 1\n",
      "2018-04-23 08:18:24 PM HST                 1\n",
      "2018-04-23 08:18:24 PM Na+                13\n",
      "2018-04-23 08:18:24 PM WAT              3000\n"
     ]
    },
    {
     "name": "stdout",
     "output_type": "stream",
     "text": [
      "./OA-G6-0 p018\n"
     ]
    },
    {
     "name": "stderr",
     "output_type": "stream",
     "text": [
      "2018-04-23 08:18:28 PM Cl-                 4\n",
      "2018-04-23 08:18:28 PM DM1                 1\n",
      "2018-04-23 08:18:28 PM DM2                 1\n",
      "2018-04-23 08:18:28 PM DM3                 1\n",
      "2018-04-23 08:18:28 PM GST                 1\n",
      "2018-04-23 08:18:28 PM HST                 1\n",
      "2018-04-23 08:18:28 PM Na+                13\n",
      "2018-04-23 08:18:28 PM WAT              3000\n"
     ]
    },
    {
     "name": "stdout",
     "output_type": "stream",
     "text": [
      "./OA-G6-0 p019\n"
     ]
    },
    {
     "name": "stderr",
     "output_type": "stream",
     "text": [
      "2018-04-23 08:18:32 PM Cl-                 4\n",
      "2018-04-23 08:18:32 PM DM1                 1\n",
      "2018-04-23 08:18:32 PM DM2                 1\n",
      "2018-04-23 08:18:32 PM DM3                 1\n",
      "2018-04-23 08:18:32 PM GST                 1\n",
      "2018-04-23 08:18:32 PM HST                 1\n",
      "2018-04-23 08:18:32 PM Na+                13\n",
      "2018-04-23 08:18:32 PM WAT              3000\n"
     ]
    },
    {
     "name": "stdout",
     "output_type": "stream",
     "text": [
      "./OA-G6-0 p020\n"
     ]
    },
    {
     "name": "stderr",
     "output_type": "stream",
     "text": [
      "2018-04-23 08:18:36 PM Cl-                 4\n",
      "2018-04-23 08:18:36 PM DM1                 1\n",
      "2018-04-23 08:18:36 PM DM2                 1\n",
      "2018-04-23 08:18:36 PM DM3                 1\n",
      "2018-04-23 08:18:36 PM GST                 1\n",
      "2018-04-23 08:18:36 PM HST                 1\n",
      "2018-04-23 08:18:36 PM Na+                13\n",
      "2018-04-23 08:18:36 PM WAT              3000\n"
     ]
    },
    {
     "name": "stdout",
     "output_type": "stream",
     "text": [
      "./OA-G6-0 p021\n"
     ]
    },
    {
     "name": "stderr",
     "output_type": "stream",
     "text": [
      "2018-04-23 08:18:40 PM Cl-                 4\n",
      "2018-04-23 08:18:40 PM DM1                 1\n",
      "2018-04-23 08:18:40 PM DM2                 1\n",
      "2018-04-23 08:18:40 PM DM3                 1\n",
      "2018-04-23 08:18:40 PM GST                 1\n",
      "2018-04-23 08:18:40 PM HST                 1\n",
      "2018-04-23 08:18:40 PM Na+                13\n",
      "2018-04-23 08:18:40 PM WAT              3000\n"
     ]
    },
    {
     "name": "stdout",
     "output_type": "stream",
     "text": [
      "./OA-G6-0 p022\n"
     ]
    },
    {
     "name": "stderr",
     "output_type": "stream",
     "text": [
      "2018-04-23 08:18:43 PM Cl-                 4\n",
      "2018-04-23 08:18:43 PM DM1                 1\n",
      "2018-04-23 08:18:43 PM DM2                 1\n",
      "2018-04-23 08:18:43 PM DM3                 1\n",
      "2018-04-23 08:18:43 PM GST                 1\n",
      "2018-04-23 08:18:43 PM HST                 1\n",
      "2018-04-23 08:18:43 PM Na+                13\n",
      "2018-04-23 08:18:43 PM WAT              3000\n"
     ]
    },
    {
     "name": "stdout",
     "output_type": "stream",
     "text": [
      "./OA-G6-0 p023\n"
     ]
    },
    {
     "name": "stderr",
     "output_type": "stream",
     "text": [
      "2018-04-23 08:18:46 PM Cl-                 4\n",
      "2018-04-23 08:18:46 PM DM1                 1\n",
      "2018-04-23 08:18:46 PM DM2                 1\n",
      "2018-04-23 08:18:46 PM DM3                 1\n",
      "2018-04-23 08:18:46 PM GST                 1\n",
      "2018-04-23 08:18:46 PM HST                 1\n",
      "2018-04-23 08:18:46 PM Na+                13\n",
      "2018-04-23 08:18:46 PM WAT              3000\n"
     ]
    },
    {
     "name": "stdout",
     "output_type": "stream",
     "text": [
      "./OA-G6-0 p024\n"
     ]
    },
    {
     "name": "stderr",
     "output_type": "stream",
     "text": [
      "2018-04-23 08:18:50 PM Cl-                 4\n",
      "2018-04-23 08:18:50 PM DM1                 1\n",
      "2018-04-23 08:18:50 PM DM2                 1\n",
      "2018-04-23 08:18:50 PM DM3                 1\n",
      "2018-04-23 08:18:50 PM GST                 1\n",
      "2018-04-23 08:18:50 PM HST                 1\n",
      "2018-04-23 08:18:50 PM Na+                13\n",
      "2018-04-23 08:18:50 PM WAT              3000\n"
     ]
    },
    {
     "name": "stdout",
     "output_type": "stream",
     "text": [
      "./OA-G6-0 p025\n"
     ]
    },
    {
     "name": "stderr",
     "output_type": "stream",
     "text": [
      "2018-04-23 08:18:54 PM Cl-                 4\n",
      "2018-04-23 08:18:54 PM DM1                 1\n",
      "2018-04-23 08:18:54 PM DM2                 1\n",
      "2018-04-23 08:18:54 PM DM3                 1\n",
      "2018-04-23 08:18:54 PM GST                 1\n",
      "2018-04-23 08:18:54 PM HST                 1\n",
      "2018-04-23 08:18:54 PM Na+                13\n",
      "2018-04-23 08:18:54 PM WAT              3000\n"
     ]
    },
    {
     "name": "stdout",
     "output_type": "stream",
     "text": [
      "./OA-G6-0 p026\n"
     ]
    },
    {
     "name": "stderr",
     "output_type": "stream",
     "text": [
      "2018-04-23 08:18:58 PM Cl-                 4\n",
      "2018-04-23 08:18:58 PM DM1                 1\n",
      "2018-04-23 08:18:58 PM DM2                 1\n",
      "2018-04-23 08:18:58 PM DM3                 1\n",
      "2018-04-23 08:18:58 PM GST                 1\n",
      "2018-04-23 08:18:58 PM HST                 1\n",
      "2018-04-23 08:18:58 PM Na+                13\n",
      "2018-04-23 08:18:58 PM WAT              3000\n"
     ]
    },
    {
     "name": "stdout",
     "output_type": "stream",
     "text": [
      "./OA-G6-0 p027\n"
     ]
    },
    {
     "name": "stderr",
     "output_type": "stream",
     "text": [
      "2018-04-23 08:19:01 PM Cl-                 4\n",
      "2018-04-23 08:19:01 PM DM1                 1\n",
      "2018-04-23 08:19:01 PM DM2                 1\n",
      "2018-04-23 08:19:01 PM DM3                 1\n",
      "2018-04-23 08:19:01 PM GST                 1\n",
      "2018-04-23 08:19:01 PM HST                 1\n",
      "2018-04-23 08:19:01 PM Na+                13\n",
      "2018-04-23 08:19:01 PM WAT              3000\n"
     ]
    },
    {
     "name": "stdout",
     "output_type": "stream",
     "text": [
      "./OA-G6-0 p028\n"
     ]
    },
    {
     "name": "stderr",
     "output_type": "stream",
     "text": [
      "2018-04-23 08:19:04 PM Cl-                 4\n",
      "2018-04-23 08:19:04 PM DM1                 1\n",
      "2018-04-23 08:19:04 PM DM2                 1\n",
      "2018-04-23 08:19:04 PM DM3                 1\n",
      "2018-04-23 08:19:04 PM GST                 1\n",
      "2018-04-23 08:19:04 PM HST                 1\n",
      "2018-04-23 08:19:04 PM Na+                13\n",
      "2018-04-23 08:19:04 PM WAT              3000\n"
     ]
    },
    {
     "name": "stdout",
     "output_type": "stream",
     "text": [
      "./OA-G6-0 p029\n"
     ]
    },
    {
     "name": "stderr",
     "output_type": "stream",
     "text": [
      "2018-04-23 08:19:09 PM Cl-                 4\n",
      "2018-04-23 08:19:09 PM DM1                 1\n",
      "2018-04-23 08:19:09 PM DM2                 1\n",
      "2018-04-23 08:19:09 PM DM3                 1\n",
      "2018-04-23 08:19:09 PM GST                 1\n",
      "2018-04-23 08:19:09 PM HST                 1\n",
      "2018-04-23 08:19:09 PM Na+                13\n",
      "2018-04-23 08:19:09 PM WAT              3000\n"
     ]
    },
    {
     "name": "stdout",
     "output_type": "stream",
     "text": [
      "./OA-G6-0 p030\n"
     ]
    },
    {
     "name": "stderr",
     "output_type": "stream",
     "text": [
      "2018-04-23 08:19:14 PM Cl-                 4\n",
      "2018-04-23 08:19:14 PM DM1                 1\n",
      "2018-04-23 08:19:14 PM DM2                 1\n",
      "2018-04-23 08:19:14 PM DM3                 1\n",
      "2018-04-23 08:19:14 PM GST                 1\n",
      "2018-04-23 08:19:14 PM HST                 1\n",
      "2018-04-23 08:19:14 PM Na+                13\n",
      "2018-04-23 08:19:14 PM WAT              3000\n"
     ]
    },
    {
     "name": "stdout",
     "output_type": "stream",
     "text": [
      "./OA-G6-0 p031\n"
     ]
    },
    {
     "name": "stderr",
     "output_type": "stream",
     "text": [
      "2018-04-23 08:19:18 PM Cl-                 4\n",
      "2018-04-23 08:19:18 PM DM1                 1\n",
      "2018-04-23 08:19:18 PM DM2                 1\n",
      "2018-04-23 08:19:18 PM DM3                 1\n",
      "2018-04-23 08:19:18 PM GST                 1\n",
      "2018-04-23 08:19:18 PM HST                 1\n",
      "2018-04-23 08:19:18 PM Na+                13\n",
      "2018-04-23 08:19:18 PM WAT              3000\n"
     ]
    },
    {
     "name": "stdout",
     "output_type": "stream",
     "text": [
      "./OA-G6-0 p032\n"
     ]
    },
    {
     "name": "stderr",
     "output_type": "stream",
     "text": [
      "2018-04-23 08:19:21 PM Cl-                 4\n",
      "2018-04-23 08:19:21 PM DM1                 1\n",
      "2018-04-23 08:19:21 PM DM2                 1\n",
      "2018-04-23 08:19:21 PM DM3                 1\n",
      "2018-04-23 08:19:21 PM GST                 1\n",
      "2018-04-23 08:19:21 PM HST                 1\n",
      "2018-04-23 08:19:21 PM Na+                13\n",
      "2018-04-23 08:19:21 PM WAT              3000\n"
     ]
    },
    {
     "name": "stdout",
     "output_type": "stream",
     "text": [
      "./OA-G6-0 p033\n"
     ]
    },
    {
     "name": "stderr",
     "output_type": "stream",
     "text": [
      "2018-04-23 08:19:25 PM Cl-                 4\n",
      "2018-04-23 08:19:25 PM DM1                 1\n",
      "2018-04-23 08:19:25 PM DM2                 1\n",
      "2018-04-23 08:19:25 PM DM3                 1\n",
      "2018-04-23 08:19:25 PM GST                 1\n",
      "2018-04-23 08:19:25 PM HST                 1\n",
      "2018-04-23 08:19:25 PM Na+                13\n",
      "2018-04-23 08:19:25 PM WAT              3000\n"
     ]
    },
    {
     "name": "stdout",
     "output_type": "stream",
     "text": [
      "./OA-G6-0 p034\n"
     ]
    },
    {
     "name": "stderr",
     "output_type": "stream",
     "text": [
      "2018-04-23 08:19:29 PM Cl-                 4\n",
      "2018-04-23 08:19:29 PM DM1                 1\n",
      "2018-04-23 08:19:29 PM DM2                 1\n",
      "2018-04-23 08:19:29 PM DM3                 1\n",
      "2018-04-23 08:19:29 PM GST                 1\n",
      "2018-04-23 08:19:29 PM HST                 1\n",
      "2018-04-23 08:19:29 PM Na+                13\n",
      "2018-04-23 08:19:29 PM WAT              3000\n"
     ]
    },
    {
     "name": "stdout",
     "output_type": "stream",
     "text": [
      "./OA-G6-0 p035\n"
     ]
    },
    {
     "name": "stderr",
     "output_type": "stream",
     "text": [
      "2018-04-23 08:19:33 PM Cl-                 4\n",
      "2018-04-23 08:19:33 PM DM1                 1\n",
      "2018-04-23 08:19:33 PM DM2                 1\n",
      "2018-04-23 08:19:33 PM DM3                 1\n",
      "2018-04-23 08:19:33 PM GST                 1\n",
      "2018-04-23 08:19:33 PM HST                 1\n",
      "2018-04-23 08:19:33 PM Na+                13\n",
      "2018-04-23 08:19:33 PM WAT              3000\n"
     ]
    },
    {
     "name": "stdout",
     "output_type": "stream",
     "text": [
      "./OA-G6-0 p036\n"
     ]
    },
    {
     "name": "stderr",
     "output_type": "stream",
     "text": [
      "2018-04-23 08:19:37 PM Cl-                 4\n",
      "2018-04-23 08:19:37 PM DM1                 1\n",
      "2018-04-23 08:19:37 PM DM2                 1\n",
      "2018-04-23 08:19:37 PM DM3                 1\n",
      "2018-04-23 08:19:37 PM GST                 1\n",
      "2018-04-23 08:19:37 PM HST                 1\n",
      "2018-04-23 08:19:37 PM Na+                13\n",
      "2018-04-23 08:19:37 PM WAT              3000\n"
     ]
    },
    {
     "name": "stdout",
     "output_type": "stream",
     "text": [
      "./OA-G6-0 p037\n"
     ]
    },
    {
     "name": "stderr",
     "output_type": "stream",
     "text": [
      "2018-04-23 08:19:41 PM Cl-                 4\n",
      "2018-04-23 08:19:41 PM DM1                 1\n",
      "2018-04-23 08:19:41 PM DM2                 1\n",
      "2018-04-23 08:19:41 PM DM3                 1\n",
      "2018-04-23 08:19:41 PM GST                 1\n",
      "2018-04-23 08:19:41 PM HST                 1\n",
      "2018-04-23 08:19:41 PM Na+                13\n",
      "2018-04-23 08:19:41 PM WAT              3000\n"
     ]
    },
    {
     "name": "stdout",
     "output_type": "stream",
     "text": [
      "./OA-G6-0 p038\n"
     ]
    },
    {
     "name": "stderr",
     "output_type": "stream",
     "text": [
      "2018-04-23 08:19:45 PM Cl-                 4\n",
      "2018-04-23 08:19:45 PM DM1                 1\n",
      "2018-04-23 08:19:45 PM DM2                 1\n",
      "2018-04-23 08:19:45 PM DM3                 1\n",
      "2018-04-23 08:19:45 PM GST                 1\n",
      "2018-04-23 08:19:45 PM HST                 1\n",
      "2018-04-23 08:19:45 PM Na+                13\n",
      "2018-04-23 08:19:45 PM WAT              3000\n"
     ]
    },
    {
     "name": "stdout",
     "output_type": "stream",
     "text": [
      "./OA-G6-0 p039\n"
     ]
    },
    {
     "name": "stderr",
     "output_type": "stream",
     "text": [
      "2018-04-23 08:19:49 PM Cl-                 4\n",
      "2018-04-23 08:19:49 PM DM1                 1\n",
      "2018-04-23 08:19:49 PM DM2                 1\n",
      "2018-04-23 08:19:49 PM DM3                 1\n",
      "2018-04-23 08:19:49 PM GST                 1\n",
      "2018-04-23 08:19:49 PM HST                 1\n",
      "2018-04-23 08:19:49 PM Na+                13\n",
      "2018-04-23 08:19:49 PM WAT              3000\n"
     ]
    },
    {
     "name": "stdout",
     "output_type": "stream",
     "text": [
      "./OA-G6-0 p040\n"
     ]
    },
    {
     "name": "stderr",
     "output_type": "stream",
     "text": [
      "2018-04-23 08:19:53 PM Cl-                 4\n",
      "2018-04-23 08:19:53 PM DM1                 1\n",
      "2018-04-23 08:19:53 PM DM2                 1\n",
      "2018-04-23 08:19:53 PM DM3                 1\n",
      "2018-04-23 08:19:53 PM GST                 1\n",
      "2018-04-23 08:19:53 PM HST                 1\n",
      "2018-04-23 08:19:53 PM Na+                13\n",
      "2018-04-23 08:19:53 PM WAT              3000\n"
     ]
    },
    {
     "name": "stdout",
     "output_type": "stream",
     "text": [
      "./OA-G6-0 p041\n"
     ]
    },
    {
     "name": "stderr",
     "output_type": "stream",
     "text": [
      "2018-04-23 08:19:57 PM Cl-                 4\n",
      "2018-04-23 08:19:57 PM DM1                 1\n",
      "2018-04-23 08:19:57 PM DM2                 1\n",
      "2018-04-23 08:19:57 PM DM3                 1\n",
      "2018-04-23 08:19:57 PM GST                 1\n",
      "2018-04-23 08:19:57 PM HST                 1\n",
      "2018-04-23 08:19:57 PM Na+                13\n",
      "2018-04-23 08:19:57 PM WAT              3000\n"
     ]
    },
    {
     "name": "stdout",
     "output_type": "stream",
     "text": [
      "./OA-G6-0 p042\n"
     ]
    },
    {
     "name": "stderr",
     "output_type": "stream",
     "text": [
      "2018-04-23 08:20:01 PM Cl-                 4\n",
      "2018-04-23 08:20:01 PM DM1                 1\n",
      "2018-04-23 08:20:01 PM DM2                 1\n",
      "2018-04-23 08:20:01 PM DM3                 1\n",
      "2018-04-23 08:20:01 PM GST                 1\n",
      "2018-04-23 08:20:01 PM HST                 1\n",
      "2018-04-23 08:20:01 PM Na+                13\n",
      "2018-04-23 08:20:01 PM WAT              3000\n"
     ]
    },
    {
     "name": "stdout",
     "output_type": "stream",
     "text": [
      "./OA-G6-0 p043\n"
     ]
    },
    {
     "name": "stderr",
     "output_type": "stream",
     "text": [
      "2018-04-23 08:20:04 PM Cl-                 4\n",
      "2018-04-23 08:20:04 PM DM1                 1\n",
      "2018-04-23 08:20:04 PM DM2                 1\n",
      "2018-04-23 08:20:04 PM DM3                 1\n",
      "2018-04-23 08:20:04 PM GST                 1\n",
      "2018-04-23 08:20:04 PM HST                 1\n",
      "2018-04-23 08:20:04 PM Na+                13\n",
      "2018-04-23 08:20:04 PM WAT              3000\n"
     ]
    },
    {
     "name": "stdout",
     "output_type": "stream",
     "text": [
      "./OA-G6-0 p044\n"
     ]
    },
    {
     "name": "stderr",
     "output_type": "stream",
     "text": [
      "2018-04-23 08:20:07 PM Cl-                 4\n",
      "2018-04-23 08:20:07 PM DM1                 1\n",
      "2018-04-23 08:20:07 PM DM2                 1\n",
      "2018-04-23 08:20:07 PM DM3                 1\n",
      "2018-04-23 08:20:07 PM GST                 1\n",
      "2018-04-23 08:20:07 PM HST                 1\n",
      "2018-04-23 08:20:07 PM Na+                13\n",
      "2018-04-23 08:20:07 PM WAT              3000\n"
     ]
    },
    {
     "name": "stdout",
     "output_type": "stream",
     "text": [
      "./OA-G6-0 p045\n"
     ]
    },
    {
     "name": "stderr",
     "output_type": "stream",
     "text": [
      "2018-04-23 08:20:10 PM Cl-                 4\n",
      "2018-04-23 08:20:10 PM DM1                 1\n",
      "2018-04-23 08:20:10 PM DM2                 1\n",
      "2018-04-23 08:20:10 PM DM3                 1\n",
      "2018-04-23 08:20:10 PM GST                 1\n",
      "2018-04-23 08:20:10 PM HST                 1\n",
      "2018-04-23 08:20:10 PM Na+                13\n",
      "2018-04-23 08:20:10 PM WAT              3000\n"
     ]
    },
    {
     "name": "stdout",
     "output_type": "stream",
     "text": [
      "./OA-G6-2 a000\n"
     ]
    },
    {
     "name": "stderr",
     "output_type": "stream",
     "text": [
      "2018-04-23 08:20:13 PM Cl-                 4\n",
      "2018-04-23 08:20:13 PM DM1                 1\n",
      "2018-04-23 08:20:13 PM DM2                 1\n",
      "2018-04-23 08:20:13 PM DM3                 1\n",
      "2018-04-23 08:20:13 PM GST                 1\n",
      "2018-04-23 08:20:13 PM HST                 1\n",
      "2018-04-23 08:20:13 PM Na+                13\n",
      "2018-04-23 08:20:13 PM WAT              3000\n"
     ]
    },
    {
     "name": "stdout",
     "output_type": "stream",
     "text": [
      "./OA-G6-2 a001\n"
     ]
    },
    {
     "name": "stderr",
     "output_type": "stream",
     "text": [
      "2018-04-23 08:20:16 PM Cl-                 4\n",
      "2018-04-23 08:20:16 PM DM1                 1\n",
      "2018-04-23 08:20:16 PM DM2                 1\n",
      "2018-04-23 08:20:16 PM DM3                 1\n",
      "2018-04-23 08:20:16 PM GST                 1\n",
      "2018-04-23 08:20:16 PM HST                 1\n",
      "2018-04-23 08:20:16 PM Na+                13\n",
      "2018-04-23 08:20:16 PM WAT              3000\n"
     ]
    },
    {
     "name": "stdout",
     "output_type": "stream",
     "text": [
      "./OA-G6-2 a002\n"
     ]
    },
    {
     "name": "stderr",
     "output_type": "stream",
     "text": [
      "2018-04-23 08:20:20 PM Cl-                 4\n",
      "2018-04-23 08:20:20 PM DM1                 1\n",
      "2018-04-23 08:20:20 PM DM2                 1\n",
      "2018-04-23 08:20:20 PM DM3                 1\n",
      "2018-04-23 08:20:20 PM GST                 1\n",
      "2018-04-23 08:20:20 PM HST                 1\n",
      "2018-04-23 08:20:20 PM Na+                13\n",
      "2018-04-23 08:20:20 PM WAT              3000\n"
     ]
    },
    {
     "name": "stdout",
     "output_type": "stream",
     "text": [
      "./OA-G6-2 a003\n"
     ]
    },
    {
     "name": "stderr",
     "output_type": "stream",
     "text": [
      "2018-04-23 08:20:23 PM Cl-                 4\n",
      "2018-04-23 08:20:23 PM DM1                 1\n",
      "2018-04-23 08:20:23 PM DM2                 1\n",
      "2018-04-23 08:20:23 PM DM3                 1\n",
      "2018-04-23 08:20:23 PM GST                 1\n",
      "2018-04-23 08:20:23 PM HST                 1\n",
      "2018-04-23 08:20:23 PM Na+                13\n",
      "2018-04-23 08:20:23 PM WAT              3000\n"
     ]
    },
    {
     "name": "stdout",
     "output_type": "stream",
     "text": [
      "./OA-G6-2 a004\n"
     ]
    },
    {
     "name": "stderr",
     "output_type": "stream",
     "text": [
      "2018-04-23 08:20:26 PM Cl-                 4\n",
      "2018-04-23 08:20:26 PM DM1                 1\n",
      "2018-04-23 08:20:26 PM DM2                 1\n",
      "2018-04-23 08:20:26 PM DM3                 1\n",
      "2018-04-23 08:20:26 PM GST                 1\n",
      "2018-04-23 08:20:26 PM HST                 1\n",
      "2018-04-23 08:20:26 PM Na+                13\n",
      "2018-04-23 08:20:26 PM WAT              3000\n"
     ]
    },
    {
     "name": "stdout",
     "output_type": "stream",
     "text": [
      "./OA-G6-2 a005\n"
     ]
    },
    {
     "name": "stderr",
     "output_type": "stream",
     "text": [
      "2018-04-23 08:20:29 PM Cl-                 4\n",
      "2018-04-23 08:20:29 PM DM1                 1\n",
      "2018-04-23 08:20:29 PM DM2                 1\n",
      "2018-04-23 08:20:29 PM DM3                 1\n",
      "2018-04-23 08:20:29 PM GST                 1\n",
      "2018-04-23 08:20:29 PM HST                 1\n",
      "2018-04-23 08:20:29 PM Na+                13\n",
      "2018-04-23 08:20:29 PM WAT              3000\n"
     ]
    },
    {
     "name": "stdout",
     "output_type": "stream",
     "text": [
      "./OA-G6-2 a006\n"
     ]
    },
    {
     "name": "stderr",
     "output_type": "stream",
     "text": [
      "2018-04-23 08:20:33 PM Cl-                 4\n",
      "2018-04-23 08:20:33 PM DM1                 1\n",
      "2018-04-23 08:20:33 PM DM2                 1\n",
      "2018-04-23 08:20:33 PM DM3                 1\n",
      "2018-04-23 08:20:33 PM GST                 1\n",
      "2018-04-23 08:20:33 PM HST                 1\n",
      "2018-04-23 08:20:33 PM Na+                13\n",
      "2018-04-23 08:20:33 PM WAT              3000\n"
     ]
    },
    {
     "name": "stdout",
     "output_type": "stream",
     "text": [
      "./OA-G6-2 a007\n"
     ]
    },
    {
     "name": "stderr",
     "output_type": "stream",
     "text": [
      "2018-04-23 08:20:36 PM Cl-                 4\n",
      "2018-04-23 08:20:36 PM DM1                 1\n",
      "2018-04-23 08:20:36 PM DM2                 1\n",
      "2018-04-23 08:20:36 PM DM3                 1\n",
      "2018-04-23 08:20:36 PM GST                 1\n",
      "2018-04-23 08:20:36 PM HST                 1\n",
      "2018-04-23 08:20:36 PM Na+                13\n",
      "2018-04-23 08:20:36 PM WAT              3000\n"
     ]
    },
    {
     "name": "stdout",
     "output_type": "stream",
     "text": [
      "./OA-G6-2 a008\n"
     ]
    },
    {
     "name": "stderr",
     "output_type": "stream",
     "text": [
      "2018-04-23 08:20:39 PM Cl-                 4\n",
      "2018-04-23 08:20:39 PM DM1                 1\n",
      "2018-04-23 08:20:39 PM DM2                 1\n",
      "2018-04-23 08:20:39 PM DM3                 1\n",
      "2018-04-23 08:20:39 PM GST                 1\n",
      "2018-04-23 08:20:39 PM HST                 1\n",
      "2018-04-23 08:20:39 PM Na+                13\n",
      "2018-04-23 08:20:39 PM WAT              3000\n"
     ]
    },
    {
     "name": "stdout",
     "output_type": "stream",
     "text": [
      "./OA-G6-2 a009\n"
     ]
    },
    {
     "name": "stderr",
     "output_type": "stream",
     "text": [
      "2018-04-23 08:20:43 PM Cl-                 4\n",
      "2018-04-23 08:20:43 PM DM1                 1\n",
      "2018-04-23 08:20:43 PM DM2                 1\n",
      "2018-04-23 08:20:43 PM DM3                 1\n",
      "2018-04-23 08:20:43 PM GST                 1\n",
      "2018-04-23 08:20:43 PM HST                 1\n",
      "2018-04-23 08:20:43 PM Na+                13\n",
      "2018-04-23 08:20:43 PM WAT              3000\n"
     ]
    },
    {
     "name": "stdout",
     "output_type": "stream",
     "text": [
      "./OA-G6-2 a010\n"
     ]
    },
    {
     "name": "stderr",
     "output_type": "stream",
     "text": [
      "2018-04-23 08:20:46 PM Cl-                 4\n",
      "2018-04-23 08:20:46 PM DM1                 1\n",
      "2018-04-23 08:20:46 PM DM2                 1\n",
      "2018-04-23 08:20:46 PM DM3                 1\n",
      "2018-04-23 08:20:46 PM GST                 1\n",
      "2018-04-23 08:20:46 PM HST                 1\n",
      "2018-04-23 08:20:46 PM Na+                13\n",
      "2018-04-23 08:20:46 PM WAT              3000\n"
     ]
    },
    {
     "name": "stdout",
     "output_type": "stream",
     "text": [
      "./OA-G6-2 a011\n"
     ]
    },
    {
     "name": "stderr",
     "output_type": "stream",
     "text": [
      "2018-04-23 08:20:49 PM Cl-                 4\n",
      "2018-04-23 08:20:49 PM DM1                 1\n",
      "2018-04-23 08:20:49 PM DM2                 1\n",
      "2018-04-23 08:20:49 PM DM3                 1\n",
      "2018-04-23 08:20:49 PM GST                 1\n",
      "2018-04-23 08:20:49 PM HST                 1\n",
      "2018-04-23 08:20:49 PM Na+                13\n",
      "2018-04-23 08:20:49 PM WAT              3000\n"
     ]
    },
    {
     "name": "stdout",
     "output_type": "stream",
     "text": [
      "./OA-G6-2 a012\n"
     ]
    },
    {
     "name": "stderr",
     "output_type": "stream",
     "text": [
      "2018-04-23 08:20:52 PM Cl-                 4\n",
      "2018-04-23 08:20:52 PM DM1                 1\n",
      "2018-04-23 08:20:52 PM DM2                 1\n",
      "2018-04-23 08:20:52 PM DM3                 1\n",
      "2018-04-23 08:20:52 PM GST                 1\n",
      "2018-04-23 08:20:52 PM HST                 1\n",
      "2018-04-23 08:20:52 PM Na+                13\n",
      "2018-04-23 08:20:52 PM WAT              3000\n"
     ]
    },
    {
     "name": "stdout",
     "output_type": "stream",
     "text": [
      "./OA-G6-2 a013\n"
     ]
    },
    {
     "name": "stderr",
     "output_type": "stream",
     "text": [
      "2018-04-23 08:20:56 PM Cl-                 4\n",
      "2018-04-23 08:20:56 PM DM1                 1\n",
      "2018-04-23 08:20:56 PM DM2                 1\n",
      "2018-04-23 08:20:56 PM DM3                 1\n",
      "2018-04-23 08:20:56 PM GST                 1\n",
      "2018-04-23 08:20:56 PM HST                 1\n",
      "2018-04-23 08:20:56 PM Na+                13\n",
      "2018-04-23 08:20:56 PM WAT              3000\n"
     ]
    },
    {
     "name": "stdout",
     "output_type": "stream",
     "text": [
      "./OA-G6-2 p000\n"
     ]
    },
    {
     "name": "stderr",
     "output_type": "stream",
     "text": [
      "2018-04-23 08:20:59 PM Cl-                 4\n",
      "2018-04-23 08:20:59 PM DM1                 1\n",
      "2018-04-23 08:20:59 PM DM2                 1\n",
      "2018-04-23 08:20:59 PM DM3                 1\n",
      "2018-04-23 08:20:59 PM GST                 1\n",
      "2018-04-23 08:20:59 PM HST                 1\n",
      "2018-04-23 08:20:59 PM Na+                13\n",
      "2018-04-23 08:20:59 PM WAT              3000\n"
     ]
    },
    {
     "name": "stdout",
     "output_type": "stream",
     "text": [
      "./OA-G6-2 p001\n"
     ]
    },
    {
     "name": "stderr",
     "output_type": "stream",
     "text": [
      "2018-04-23 08:21:01 PM Cl-                 4\n",
      "2018-04-23 08:21:01 PM DM1                 1\n",
      "2018-04-23 08:21:01 PM DM2                 1\n",
      "2018-04-23 08:21:01 PM DM3                 1\n",
      "2018-04-23 08:21:01 PM GST                 1\n",
      "2018-04-23 08:21:01 PM HST                 1\n",
      "2018-04-23 08:21:01 PM Na+                13\n",
      "2018-04-23 08:21:01 PM WAT              3000\n"
     ]
    },
    {
     "name": "stdout",
     "output_type": "stream",
     "text": [
      "./OA-G6-2 p002\n"
     ]
    },
    {
     "name": "stderr",
     "output_type": "stream",
     "text": [
      "2018-04-23 08:21:04 PM Cl-                 4\n",
      "2018-04-23 08:21:04 PM DM1                 1\n",
      "2018-04-23 08:21:04 PM DM2                 1\n",
      "2018-04-23 08:21:04 PM DM3                 1\n",
      "2018-04-23 08:21:04 PM GST                 1\n",
      "2018-04-23 08:21:04 PM HST                 1\n",
      "2018-04-23 08:21:04 PM Na+                13\n",
      "2018-04-23 08:21:04 PM WAT              3000\n"
     ]
    },
    {
     "name": "stdout",
     "output_type": "stream",
     "text": [
      "./OA-G6-2 p003\n"
     ]
    },
    {
     "name": "stderr",
     "output_type": "stream",
     "text": [
      "2018-04-23 08:21:07 PM Cl-                 4\n",
      "2018-04-23 08:21:07 PM DM1                 1\n",
      "2018-04-23 08:21:07 PM DM2                 1\n",
      "2018-04-23 08:21:07 PM DM3                 1\n",
      "2018-04-23 08:21:07 PM GST                 1\n",
      "2018-04-23 08:21:07 PM HST                 1\n",
      "2018-04-23 08:21:07 PM Na+                13\n",
      "2018-04-23 08:21:07 PM WAT              3000\n"
     ]
    },
    {
     "name": "stdout",
     "output_type": "stream",
     "text": [
      "./OA-G6-2 p004\n"
     ]
    },
    {
     "name": "stderr",
     "output_type": "stream",
     "text": [
      "2018-04-23 08:21:09 PM Cl-                 4\n",
      "2018-04-23 08:21:09 PM DM1                 1\n",
      "2018-04-23 08:21:09 PM DM2                 1\n",
      "2018-04-23 08:21:09 PM DM3                 1\n",
      "2018-04-23 08:21:09 PM GST                 1\n",
      "2018-04-23 08:21:09 PM HST                 1\n",
      "2018-04-23 08:21:09 PM Na+                13\n",
      "2018-04-23 08:21:09 PM WAT              3000\n"
     ]
    },
    {
     "name": "stdout",
     "output_type": "stream",
     "text": [
      "./OA-G6-2 p005\n"
     ]
    },
    {
     "name": "stderr",
     "output_type": "stream",
     "text": [
      "2018-04-23 08:21:12 PM Cl-                 4\n",
      "2018-04-23 08:21:12 PM DM1                 1\n",
      "2018-04-23 08:21:12 PM DM2                 1\n",
      "2018-04-23 08:21:12 PM DM3                 1\n",
      "2018-04-23 08:21:12 PM GST                 1\n",
      "2018-04-23 08:21:12 PM HST                 1\n",
      "2018-04-23 08:21:12 PM Na+                13\n",
      "2018-04-23 08:21:12 PM WAT              3000\n"
     ]
    },
    {
     "name": "stdout",
     "output_type": "stream",
     "text": [
      "./OA-G6-2 p006\n"
     ]
    },
    {
     "name": "stderr",
     "output_type": "stream",
     "text": [
      "2018-04-23 08:21:15 PM Cl-                 4\n",
      "2018-04-23 08:21:15 PM DM1                 1\n",
      "2018-04-23 08:21:15 PM DM2                 1\n",
      "2018-04-23 08:21:15 PM DM3                 1\n",
      "2018-04-23 08:21:15 PM GST                 1\n",
      "2018-04-23 08:21:15 PM HST                 1\n",
      "2018-04-23 08:21:15 PM Na+                13\n",
      "2018-04-23 08:21:15 PM WAT              3000\n"
     ]
    },
    {
     "name": "stdout",
     "output_type": "stream",
     "text": [
      "./OA-G6-2 p007\n"
     ]
    },
    {
     "name": "stderr",
     "output_type": "stream",
     "text": [
      "2018-04-23 08:21:17 PM Cl-                 4\n",
      "2018-04-23 08:21:17 PM DM1                 1\n",
      "2018-04-23 08:21:17 PM DM2                 1\n",
      "2018-04-23 08:21:17 PM DM3                 1\n",
      "2018-04-23 08:21:17 PM GST                 1\n",
      "2018-04-23 08:21:17 PM HST                 1\n",
      "2018-04-23 08:21:17 PM Na+                13\n",
      "2018-04-23 08:21:17 PM WAT              3000\n"
     ]
    },
    {
     "name": "stdout",
     "output_type": "stream",
     "text": [
      "./OA-G6-2 p008\n"
     ]
    },
    {
     "name": "stderr",
     "output_type": "stream",
     "text": [
      "2018-04-23 08:21:20 PM Cl-                 4\n",
      "2018-04-23 08:21:20 PM DM1                 1\n",
      "2018-04-23 08:21:20 PM DM2                 1\n",
      "2018-04-23 08:21:20 PM DM3                 1\n",
      "2018-04-23 08:21:20 PM GST                 1\n",
      "2018-04-23 08:21:20 PM HST                 1\n",
      "2018-04-23 08:21:20 PM Na+                13\n",
      "2018-04-23 08:21:20 PM WAT              3000\n"
     ]
    },
    {
     "name": "stdout",
     "output_type": "stream",
     "text": [
      "./OA-G6-2 p009\n"
     ]
    },
    {
     "name": "stderr",
     "output_type": "stream",
     "text": [
      "2018-04-23 08:21:23 PM Cl-                 4\n",
      "2018-04-23 08:21:23 PM DM1                 1\n",
      "2018-04-23 08:21:23 PM DM2                 1\n",
      "2018-04-23 08:21:23 PM DM3                 1\n",
      "2018-04-23 08:21:23 PM GST                 1\n",
      "2018-04-23 08:21:23 PM HST                 1\n",
      "2018-04-23 08:21:23 PM Na+                13\n",
      "2018-04-23 08:21:23 PM WAT              3000\n"
     ]
    },
    {
     "name": "stdout",
     "output_type": "stream",
     "text": [
      "./OA-G6-2 p010\n"
     ]
    },
    {
     "name": "stderr",
     "output_type": "stream",
     "text": [
      "2018-04-23 08:21:27 PM Cl-                 4\n",
      "2018-04-23 08:21:27 PM DM1                 1\n",
      "2018-04-23 08:21:27 PM DM2                 1\n",
      "2018-04-23 08:21:27 PM DM3                 1\n",
      "2018-04-23 08:21:27 PM GST                 1\n",
      "2018-04-23 08:21:27 PM HST                 1\n",
      "2018-04-23 08:21:27 PM Na+                13\n",
      "2018-04-23 08:21:27 PM WAT              3000\n"
     ]
    },
    {
     "name": "stdout",
     "output_type": "stream",
     "text": [
      "./OA-G6-2 p011\n"
     ]
    },
    {
     "name": "stderr",
     "output_type": "stream",
     "text": [
      "2018-04-23 08:21:30 PM Cl-                 4\n",
      "2018-04-23 08:21:30 PM DM1                 1\n",
      "2018-04-23 08:21:30 PM DM2                 1\n",
      "2018-04-23 08:21:30 PM DM3                 1\n",
      "2018-04-23 08:21:30 PM GST                 1\n",
      "2018-04-23 08:21:30 PM HST                 1\n",
      "2018-04-23 08:21:30 PM Na+                13\n",
      "2018-04-23 08:21:30 PM WAT              3000\n"
     ]
    },
    {
     "name": "stdout",
     "output_type": "stream",
     "text": [
      "./OA-G6-2 p012\n"
     ]
    },
    {
     "name": "stderr",
     "output_type": "stream",
     "text": [
      "2018-04-23 08:21:32 PM Cl-                 4\n",
      "2018-04-23 08:21:32 PM DM1                 1\n",
      "2018-04-23 08:21:32 PM DM2                 1\n",
      "2018-04-23 08:21:32 PM DM3                 1\n",
      "2018-04-23 08:21:32 PM GST                 1\n",
      "2018-04-23 08:21:32 PM HST                 1\n",
      "2018-04-23 08:21:32 PM Na+                13\n",
      "2018-04-23 08:21:32 PM WAT              3000\n"
     ]
    },
    {
     "name": "stdout",
     "output_type": "stream",
     "text": [
      "./OA-G6-2 p013\n"
     ]
    },
    {
     "name": "stderr",
     "output_type": "stream",
     "text": [
      "2018-04-23 08:21:35 PM Cl-                 4\n",
      "2018-04-23 08:21:35 PM DM1                 1\n",
      "2018-04-23 08:21:35 PM DM2                 1\n",
      "2018-04-23 08:21:35 PM DM3                 1\n",
      "2018-04-23 08:21:35 PM GST                 1\n",
      "2018-04-23 08:21:35 PM HST                 1\n",
      "2018-04-23 08:21:35 PM Na+                13\n",
      "2018-04-23 08:21:35 PM WAT              3000\n"
     ]
    },
    {
     "name": "stdout",
     "output_type": "stream",
     "text": [
      "./OA-G6-2 p014\n"
     ]
    },
    {
     "name": "stderr",
     "output_type": "stream",
     "text": [
      "2018-04-23 08:21:39 PM Cl-                 4\n",
      "2018-04-23 08:21:39 PM DM1                 1\n",
      "2018-04-23 08:21:39 PM DM2                 1\n",
      "2018-04-23 08:21:39 PM DM3                 1\n",
      "2018-04-23 08:21:39 PM GST                 1\n",
      "2018-04-23 08:21:39 PM HST                 1\n",
      "2018-04-23 08:21:39 PM Na+                13\n",
      "2018-04-23 08:21:39 PM WAT              3000\n"
     ]
    },
    {
     "name": "stdout",
     "output_type": "stream",
     "text": [
      "./OA-G6-2 p015\n"
     ]
    },
    {
     "name": "stderr",
     "output_type": "stream",
     "text": [
      "2018-04-23 08:21:40 PM Cl-                 4\n",
      "2018-04-23 08:21:40 PM DM1                 1\n",
      "2018-04-23 08:21:40 PM DM2                 1\n",
      "2018-04-23 08:21:40 PM DM3                 1\n",
      "2018-04-23 08:21:40 PM GST                 1\n",
      "2018-04-23 08:21:40 PM HST                 1\n",
      "2018-04-23 08:21:40 PM Na+                13\n",
      "2018-04-23 08:21:40 PM WAT              3000\n"
     ]
    },
    {
     "name": "stdout",
     "output_type": "stream",
     "text": [
      "./OA-G6-2 p016\n"
     ]
    },
    {
     "name": "stderr",
     "output_type": "stream",
     "text": [
      "2018-04-23 08:21:43 PM Cl-                 4\n",
      "2018-04-23 08:21:43 PM DM1                 1\n",
      "2018-04-23 08:21:43 PM DM2                 1\n",
      "2018-04-23 08:21:43 PM DM3                 1\n",
      "2018-04-23 08:21:43 PM GST                 1\n",
      "2018-04-23 08:21:43 PM HST                 1\n",
      "2018-04-23 08:21:43 PM Na+                13\n",
      "2018-04-23 08:21:43 PM WAT              3000\n"
     ]
    },
    {
     "name": "stdout",
     "output_type": "stream",
     "text": [
      "./OA-G6-2 p017\n"
     ]
    },
    {
     "name": "stderr",
     "output_type": "stream",
     "text": [
      "2018-04-23 08:21:47 PM Cl-                 4\n",
      "2018-04-23 08:21:47 PM DM1                 1\n",
      "2018-04-23 08:21:47 PM DM2                 1\n",
      "2018-04-23 08:21:47 PM DM3                 1\n",
      "2018-04-23 08:21:47 PM GST                 1\n",
      "2018-04-23 08:21:47 PM HST                 1\n",
      "2018-04-23 08:21:47 PM Na+                13\n",
      "2018-04-23 08:21:47 PM WAT              3000\n"
     ]
    },
    {
     "name": "stdout",
     "output_type": "stream",
     "text": [
      "./OA-G6-2 p018\n"
     ]
    },
    {
     "name": "stderr",
     "output_type": "stream",
     "text": [
      "2018-04-23 08:21:50 PM Cl-                 4\n",
      "2018-04-23 08:21:50 PM DM1                 1\n",
      "2018-04-23 08:21:50 PM DM2                 1\n",
      "2018-04-23 08:21:50 PM DM3                 1\n",
      "2018-04-23 08:21:50 PM GST                 1\n",
      "2018-04-23 08:21:50 PM HST                 1\n",
      "2018-04-23 08:21:50 PM Na+                13\n",
      "2018-04-23 08:21:50 PM WAT              3000\n"
     ]
    },
    {
     "name": "stdout",
     "output_type": "stream",
     "text": [
      "./OA-G6-2 p019\n"
     ]
    },
    {
     "name": "stderr",
     "output_type": "stream",
     "text": [
      "2018-04-23 08:21:53 PM Cl-                 4\n",
      "2018-04-23 08:21:53 PM DM1                 1\n",
      "2018-04-23 08:21:53 PM DM2                 1\n",
      "2018-04-23 08:21:53 PM DM3                 1\n",
      "2018-04-23 08:21:53 PM GST                 1\n",
      "2018-04-23 08:21:53 PM HST                 1\n",
      "2018-04-23 08:21:53 PM Na+                13\n",
      "2018-04-23 08:21:53 PM WAT              3000\n"
     ]
    },
    {
     "name": "stdout",
     "output_type": "stream",
     "text": [
      "./OA-G6-2 p020\n"
     ]
    },
    {
     "name": "stderr",
     "output_type": "stream",
     "text": [
      "2018-04-23 08:21:57 PM Cl-                 4\n",
      "2018-04-23 08:21:57 PM DM1                 1\n",
      "2018-04-23 08:21:57 PM DM2                 1\n",
      "2018-04-23 08:21:57 PM DM3                 1\n",
      "2018-04-23 08:21:57 PM GST                 1\n",
      "2018-04-23 08:21:57 PM HST                 1\n",
      "2018-04-23 08:21:57 PM Na+                13\n",
      "2018-04-23 08:21:57 PM WAT              3000\n"
     ]
    },
    {
     "name": "stdout",
     "output_type": "stream",
     "text": [
      "./OA-G6-2 p021\n"
     ]
    },
    {
     "name": "stderr",
     "output_type": "stream",
     "text": [
      "2018-04-23 08:22:00 PM Cl-                 4\n",
      "2018-04-23 08:22:00 PM DM1                 1\n",
      "2018-04-23 08:22:00 PM DM2                 1\n",
      "2018-04-23 08:22:00 PM DM3                 1\n",
      "2018-04-23 08:22:00 PM GST                 1\n",
      "2018-04-23 08:22:00 PM HST                 1\n",
      "2018-04-23 08:22:00 PM Na+                13\n",
      "2018-04-23 08:22:00 PM WAT              3000\n"
     ]
    },
    {
     "name": "stdout",
     "output_type": "stream",
     "text": [
      "./OA-G6-2 p022\n"
     ]
    },
    {
     "name": "stderr",
     "output_type": "stream",
     "text": [
      "2018-04-23 08:22:02 PM Cl-                 4\n",
      "2018-04-23 08:22:02 PM DM1                 1\n",
      "2018-04-23 08:22:02 PM DM2                 1\n",
      "2018-04-23 08:22:02 PM DM3                 1\n",
      "2018-04-23 08:22:02 PM GST                 1\n",
      "2018-04-23 08:22:02 PM HST                 1\n",
      "2018-04-23 08:22:02 PM Na+                13\n",
      "2018-04-23 08:22:02 PM WAT              3000\n"
     ]
    },
    {
     "name": "stdout",
     "output_type": "stream",
     "text": [
      "./OA-G6-2 p023\n"
     ]
    },
    {
     "name": "stderr",
     "output_type": "stream",
     "text": [
      "2018-04-23 08:22:05 PM Cl-                 4\n",
      "2018-04-23 08:22:05 PM DM1                 1\n",
      "2018-04-23 08:22:05 PM DM2                 1\n",
      "2018-04-23 08:22:05 PM DM3                 1\n",
      "2018-04-23 08:22:05 PM GST                 1\n",
      "2018-04-23 08:22:05 PM HST                 1\n",
      "2018-04-23 08:22:05 PM Na+                13\n",
      "2018-04-23 08:22:05 PM WAT              3000\n"
     ]
    },
    {
     "name": "stdout",
     "output_type": "stream",
     "text": [
      "./OA-G6-2 p024\n"
     ]
    },
    {
     "name": "stderr",
     "output_type": "stream",
     "text": [
      "2018-04-23 08:22:08 PM Cl-                 4\n",
      "2018-04-23 08:22:08 PM DM1                 1\n",
      "2018-04-23 08:22:08 PM DM2                 1\n",
      "2018-04-23 08:22:08 PM DM3                 1\n",
      "2018-04-23 08:22:08 PM GST                 1\n",
      "2018-04-23 08:22:08 PM HST                 1\n",
      "2018-04-23 08:22:08 PM Na+                13\n",
      "2018-04-23 08:22:08 PM WAT              3000\n"
     ]
    },
    {
     "name": "stdout",
     "output_type": "stream",
     "text": [
      "./OA-G6-2 p025\n"
     ]
    },
    {
     "name": "stderr",
     "output_type": "stream",
     "text": [
      "2018-04-23 08:22:10 PM Cl-                 4\n",
      "2018-04-23 08:22:10 PM DM1                 1\n",
      "2018-04-23 08:22:10 PM DM2                 1\n",
      "2018-04-23 08:22:10 PM DM3                 1\n",
      "2018-04-23 08:22:10 PM GST                 1\n",
      "2018-04-23 08:22:10 PM HST                 1\n",
      "2018-04-23 08:22:10 PM Na+                13\n",
      "2018-04-23 08:22:10 PM WAT              3000\n"
     ]
    },
    {
     "name": "stdout",
     "output_type": "stream",
     "text": [
      "./OA-G6-2 p026\n"
     ]
    },
    {
     "name": "stderr",
     "output_type": "stream",
     "text": [
      "2018-04-23 08:22:14 PM Cl-                 4\n",
      "2018-04-23 08:22:14 PM DM1                 1\n",
      "2018-04-23 08:22:14 PM DM2                 1\n",
      "2018-04-23 08:22:14 PM DM3                 1\n",
      "2018-04-23 08:22:14 PM GST                 1\n",
      "2018-04-23 08:22:14 PM HST                 1\n",
      "2018-04-23 08:22:14 PM Na+                13\n",
      "2018-04-23 08:22:14 PM WAT              3000\n"
     ]
    },
    {
     "name": "stdout",
     "output_type": "stream",
     "text": [
      "./OA-G6-2 p027\n"
     ]
    },
    {
     "name": "stderr",
     "output_type": "stream",
     "text": [
      "2018-04-23 08:22:17 PM Cl-                 4\n",
      "2018-04-23 08:22:17 PM DM1                 1\n",
      "2018-04-23 08:22:17 PM DM2                 1\n",
      "2018-04-23 08:22:17 PM DM3                 1\n",
      "2018-04-23 08:22:17 PM GST                 1\n",
      "2018-04-23 08:22:17 PM HST                 1\n",
      "2018-04-23 08:22:17 PM Na+                13\n",
      "2018-04-23 08:22:17 PM WAT              3000\n"
     ]
    },
    {
     "name": "stdout",
     "output_type": "stream",
     "text": [
      "./OA-G6-2 p028\n"
     ]
    },
    {
     "name": "stderr",
     "output_type": "stream",
     "text": [
      "2018-04-23 08:22:19 PM Cl-                 4\n",
      "2018-04-23 08:22:19 PM DM1                 1\n",
      "2018-04-23 08:22:19 PM DM2                 1\n",
      "2018-04-23 08:22:19 PM DM3                 1\n",
      "2018-04-23 08:22:19 PM GST                 1\n",
      "2018-04-23 08:22:19 PM HST                 1\n",
      "2018-04-23 08:22:19 PM Na+                13\n",
      "2018-04-23 08:22:19 PM WAT              3000\n"
     ]
    },
    {
     "name": "stdout",
     "output_type": "stream",
     "text": [
      "./OA-G6-2 p029\n"
     ]
    },
    {
     "name": "stderr",
     "output_type": "stream",
     "text": [
      "2018-04-23 08:22:23 PM Cl-                 4\n",
      "2018-04-23 08:22:23 PM DM1                 1\n",
      "2018-04-23 08:22:23 PM DM2                 1\n",
      "2018-04-23 08:22:23 PM DM3                 1\n",
      "2018-04-23 08:22:23 PM GST                 1\n",
      "2018-04-23 08:22:23 PM HST                 1\n",
      "2018-04-23 08:22:23 PM Na+                13\n",
      "2018-04-23 08:22:23 PM WAT              3000\n"
     ]
    },
    {
     "name": "stdout",
     "output_type": "stream",
     "text": [
      "./OA-G6-2 p030\n"
     ]
    },
    {
     "name": "stderr",
     "output_type": "stream",
     "text": [
      "2018-04-23 08:22:25 PM Cl-                 4\n",
      "2018-04-23 08:22:25 PM DM1                 1\n",
      "2018-04-23 08:22:25 PM DM2                 1\n",
      "2018-04-23 08:22:25 PM DM3                 1\n",
      "2018-04-23 08:22:25 PM GST                 1\n",
      "2018-04-23 08:22:25 PM HST                 1\n",
      "2018-04-23 08:22:25 PM Na+                13\n",
      "2018-04-23 08:22:25 PM WAT              3000\n"
     ]
    },
    {
     "name": "stdout",
     "output_type": "stream",
     "text": [
      "./OA-G6-2 p031\n"
     ]
    },
    {
     "name": "stderr",
     "output_type": "stream",
     "text": [
      "2018-04-23 08:22:29 PM Cl-                 4\n",
      "2018-04-23 08:22:29 PM DM1                 1\n",
      "2018-04-23 08:22:29 PM DM2                 1\n",
      "2018-04-23 08:22:29 PM DM3                 1\n",
      "2018-04-23 08:22:29 PM GST                 1\n",
      "2018-04-23 08:22:29 PM HST                 1\n",
      "2018-04-23 08:22:29 PM Na+                13\n",
      "2018-04-23 08:22:29 PM WAT              3000\n"
     ]
    },
    {
     "name": "stdout",
     "output_type": "stream",
     "text": [
      "./OA-G6-2 p032\n"
     ]
    },
    {
     "name": "stderr",
     "output_type": "stream",
     "text": [
      "2018-04-23 08:22:32 PM Cl-                 4\n",
      "2018-04-23 08:22:32 PM DM1                 1\n",
      "2018-04-23 08:22:32 PM DM2                 1\n",
      "2018-04-23 08:22:32 PM DM3                 1\n",
      "2018-04-23 08:22:32 PM GST                 1\n",
      "2018-04-23 08:22:32 PM HST                 1\n",
      "2018-04-23 08:22:32 PM Na+                13\n",
      "2018-04-23 08:22:32 PM WAT              3000\n"
     ]
    },
    {
     "name": "stdout",
     "output_type": "stream",
     "text": [
      "./OA-G6-2 p033\n"
     ]
    },
    {
     "name": "stderr",
     "output_type": "stream",
     "text": [
      "2018-04-23 08:22:35 PM Cl-                 4\n",
      "2018-04-23 08:22:35 PM DM1                 1\n",
      "2018-04-23 08:22:35 PM DM2                 1\n",
      "2018-04-23 08:22:35 PM DM3                 1\n",
      "2018-04-23 08:22:35 PM GST                 1\n",
      "2018-04-23 08:22:35 PM HST                 1\n",
      "2018-04-23 08:22:35 PM Na+                13\n",
      "2018-04-23 08:22:35 PM WAT              3000\n"
     ]
    },
    {
     "name": "stdout",
     "output_type": "stream",
     "text": [
      "./OA-G6-2 p034\n"
     ]
    },
    {
     "name": "stderr",
     "output_type": "stream",
     "text": [
      "2018-04-23 08:22:38 PM Cl-                 4\n",
      "2018-04-23 08:22:38 PM DM1                 1\n",
      "2018-04-23 08:22:38 PM DM2                 1\n",
      "2018-04-23 08:22:38 PM DM3                 1\n",
      "2018-04-23 08:22:38 PM GST                 1\n",
      "2018-04-23 08:22:38 PM HST                 1\n",
      "2018-04-23 08:22:38 PM Na+                13\n",
      "2018-04-23 08:22:38 PM WAT              3000\n"
     ]
    },
    {
     "name": "stdout",
     "output_type": "stream",
     "text": [
      "./OA-G6-2 p035\n"
     ]
    },
    {
     "name": "stderr",
     "output_type": "stream",
     "text": [
      "2018-04-23 08:22:41 PM Cl-                 4\n",
      "2018-04-23 08:22:41 PM DM1                 1\n",
      "2018-04-23 08:22:41 PM DM2                 1\n",
      "2018-04-23 08:22:41 PM DM3                 1\n",
      "2018-04-23 08:22:41 PM GST                 1\n",
      "2018-04-23 08:22:41 PM HST                 1\n",
      "2018-04-23 08:22:41 PM Na+                13\n",
      "2018-04-23 08:22:41 PM WAT              3000\n"
     ]
    },
    {
     "name": "stdout",
     "output_type": "stream",
     "text": [
      "./OA-G6-2 p036\n"
     ]
    },
    {
     "name": "stderr",
     "output_type": "stream",
     "text": [
      "2018-04-23 08:22:45 PM Cl-                 4\n",
      "2018-04-23 08:22:45 PM DM1                 1\n",
      "2018-04-23 08:22:45 PM DM2                 1\n",
      "2018-04-23 08:22:45 PM DM3                 1\n",
      "2018-04-23 08:22:45 PM GST                 1\n",
      "2018-04-23 08:22:45 PM HST                 1\n",
      "2018-04-23 08:22:45 PM Na+                13\n",
      "2018-04-23 08:22:45 PM WAT              3000\n"
     ]
    },
    {
     "name": "stdout",
     "output_type": "stream",
     "text": [
      "./OA-G6-2 p037\n"
     ]
    },
    {
     "name": "stderr",
     "output_type": "stream",
     "text": [
      "2018-04-23 08:22:48 PM Cl-                 4\n",
      "2018-04-23 08:22:48 PM DM1                 1\n",
      "2018-04-23 08:22:48 PM DM2                 1\n",
      "2018-04-23 08:22:48 PM DM3                 1\n",
      "2018-04-23 08:22:48 PM GST                 1\n",
      "2018-04-23 08:22:48 PM HST                 1\n",
      "2018-04-23 08:22:48 PM Na+                13\n",
      "2018-04-23 08:22:48 PM WAT              3000\n"
     ]
    },
    {
     "name": "stdout",
     "output_type": "stream",
     "text": [
      "./OA-G6-2 p038\n"
     ]
    },
    {
     "name": "stderr",
     "output_type": "stream",
     "text": [
      "2018-04-23 08:22:51 PM Cl-                 4\n",
      "2018-04-23 08:22:51 PM DM1                 1\n",
      "2018-04-23 08:22:51 PM DM2                 1\n",
      "2018-04-23 08:22:51 PM DM3                 1\n",
      "2018-04-23 08:22:51 PM GST                 1\n",
      "2018-04-23 08:22:51 PM HST                 1\n",
      "2018-04-23 08:22:51 PM Na+                13\n",
      "2018-04-23 08:22:51 PM WAT              3000\n"
     ]
    },
    {
     "name": "stdout",
     "output_type": "stream",
     "text": [
      "./OA-G6-2 p039\n"
     ]
    },
    {
     "name": "stderr",
     "output_type": "stream",
     "text": [
      "2018-04-23 08:22:55 PM Cl-                 4\n",
      "2018-04-23 08:22:55 PM DM1                 1\n",
      "2018-04-23 08:22:55 PM DM2                 1\n",
      "2018-04-23 08:22:55 PM DM3                 1\n",
      "2018-04-23 08:22:55 PM GST                 1\n",
      "2018-04-23 08:22:55 PM HST                 1\n",
      "2018-04-23 08:22:55 PM Na+                13\n",
      "2018-04-23 08:22:55 PM WAT              3000\n"
     ]
    },
    {
     "name": "stdout",
     "output_type": "stream",
     "text": [
      "./OA-G6-2 p040\n"
     ]
    },
    {
     "name": "stderr",
     "output_type": "stream",
     "text": [
      "2018-04-23 08:22:56 PM Cl-                 4\n",
      "2018-04-23 08:22:56 PM DM1                 1\n",
      "2018-04-23 08:22:56 PM DM2                 1\n",
      "2018-04-23 08:22:56 PM DM3                 1\n",
      "2018-04-23 08:22:56 PM GST                 1\n",
      "2018-04-23 08:22:56 PM HST                 1\n",
      "2018-04-23 08:22:56 PM Na+                13\n",
      "2018-04-23 08:22:56 PM WAT              3000\n"
     ]
    },
    {
     "name": "stdout",
     "output_type": "stream",
     "text": [
      "./OA-G6-2 p041\n"
     ]
    },
    {
     "name": "stderr",
     "output_type": "stream",
     "text": [
      "2018-04-23 08:23:00 PM Cl-                 4\n",
      "2018-04-23 08:23:00 PM DM1                 1\n",
      "2018-04-23 08:23:00 PM DM2                 1\n",
      "2018-04-23 08:23:00 PM DM3                 1\n",
      "2018-04-23 08:23:00 PM GST                 1\n",
      "2018-04-23 08:23:00 PM HST                 1\n",
      "2018-04-23 08:23:00 PM Na+                13\n",
      "2018-04-23 08:23:00 PM WAT              3000\n"
     ]
    },
    {
     "name": "stdout",
     "output_type": "stream",
     "text": [
      "./OA-G6-2 p042\n"
     ]
    },
    {
     "name": "stderr",
     "output_type": "stream",
     "text": [
      "2018-04-23 08:23:03 PM Cl-                 4\n",
      "2018-04-23 08:23:03 PM DM1                 1\n",
      "2018-04-23 08:23:03 PM DM2                 1\n",
      "2018-04-23 08:23:03 PM DM3                 1\n",
      "2018-04-23 08:23:03 PM GST                 1\n",
      "2018-04-23 08:23:03 PM HST                 1\n",
      "2018-04-23 08:23:03 PM Na+                13\n",
      "2018-04-23 08:23:03 PM WAT              3000\n"
     ]
    },
    {
     "name": "stdout",
     "output_type": "stream",
     "text": [
      "./OA-G6-2 p043\n"
     ]
    },
    {
     "name": "stderr",
     "output_type": "stream",
     "text": [
      "2018-04-23 08:23:06 PM Cl-                 4\n",
      "2018-04-23 08:23:06 PM DM1                 1\n",
      "2018-04-23 08:23:06 PM DM2                 1\n",
      "2018-04-23 08:23:06 PM DM3                 1\n",
      "2018-04-23 08:23:06 PM GST                 1\n",
      "2018-04-23 08:23:06 PM HST                 1\n",
      "2018-04-23 08:23:06 PM Na+                13\n",
      "2018-04-23 08:23:06 PM WAT              3000\n"
     ]
    },
    {
     "name": "stdout",
     "output_type": "stream",
     "text": [
      "./OA-G6-2 p044\n"
     ]
    },
    {
     "name": "stderr",
     "output_type": "stream",
     "text": [
      "2018-04-23 08:23:09 PM Cl-                 4\n",
      "2018-04-23 08:23:09 PM DM1                 1\n",
      "2018-04-23 08:23:09 PM DM2                 1\n",
      "2018-04-23 08:23:09 PM DM3                 1\n",
      "2018-04-23 08:23:09 PM GST                 1\n",
      "2018-04-23 08:23:09 PM HST                 1\n",
      "2018-04-23 08:23:09 PM Na+                13\n",
      "2018-04-23 08:23:09 PM WAT              3000\n"
     ]
    },
    {
     "name": "stdout",
     "output_type": "stream",
     "text": [
      "./OA-G6-2 p045\n"
     ]
    },
    {
     "name": "stderr",
     "output_type": "stream",
     "text": [
      "2018-04-23 08:23:12 PM Cl-                 4\n",
      "2018-04-23 08:23:12 PM DM1                 1\n",
      "2018-04-23 08:23:12 PM DM2                 1\n",
      "2018-04-23 08:23:12 PM DM3                 1\n",
      "2018-04-23 08:23:12 PM GST                 1\n",
      "2018-04-23 08:23:12 PM HST                 1\n",
      "2018-04-23 08:23:12 PM Na+                13\n",
      "2018-04-23 08:23:12 PM WAT              3000\n"
     ]
    },
    {
     "name": "stdout",
     "output_type": "stream",
     "text": [
      "./OA-G3-2 a000\n"
     ]
    },
    {
     "name": "stderr",
     "output_type": "stream",
     "text": [
      "2018-04-23 08:23:15 PM Cl-                 4\n",
      "2018-04-23 08:23:15 PM DM1                 1\n",
      "2018-04-23 08:23:15 PM DM2                 1\n",
      "2018-04-23 08:23:15 PM DM3                 1\n",
      "2018-04-23 08:23:15 PM GST                 1\n",
      "2018-04-23 08:23:15 PM HST                 1\n",
      "2018-04-23 08:23:15 PM Na+                13\n",
      "2018-04-23 08:23:15 PM WAT              3000\n"
     ]
    },
    {
     "name": "stdout",
     "output_type": "stream",
     "text": [
      "./OA-G3-2 a001\n"
     ]
    },
    {
     "name": "stderr",
     "output_type": "stream",
     "text": [
      "2018-04-23 08:23:18 PM Cl-                 4\n",
      "2018-04-23 08:23:18 PM DM1                 1\n",
      "2018-04-23 08:23:18 PM DM2                 1\n",
      "2018-04-23 08:23:18 PM DM3                 1\n",
      "2018-04-23 08:23:18 PM GST                 1\n",
      "2018-04-23 08:23:18 PM HST                 1\n",
      "2018-04-23 08:23:18 PM Na+                13\n",
      "2018-04-23 08:23:18 PM WAT              3000\n"
     ]
    },
    {
     "name": "stdout",
     "output_type": "stream",
     "text": [
      "./OA-G3-2 a002\n"
     ]
    },
    {
     "name": "stderr",
     "output_type": "stream",
     "text": [
      "2018-04-23 08:23:21 PM Cl-                 4\n",
      "2018-04-23 08:23:21 PM DM1                 1\n",
      "2018-04-23 08:23:21 PM DM2                 1\n",
      "2018-04-23 08:23:21 PM DM3                 1\n",
      "2018-04-23 08:23:21 PM GST                 1\n",
      "2018-04-23 08:23:21 PM HST                 1\n",
      "2018-04-23 08:23:21 PM Na+                13\n",
      "2018-04-23 08:23:21 PM WAT              3000\n"
     ]
    },
    {
     "name": "stdout",
     "output_type": "stream",
     "text": [
      "./OA-G3-2 a003\n"
     ]
    },
    {
     "name": "stderr",
     "output_type": "stream",
     "text": [
      "2018-04-23 08:23:24 PM Cl-                 4\n",
      "2018-04-23 08:23:24 PM DM1                 1\n",
      "2018-04-23 08:23:24 PM DM2                 1\n",
      "2018-04-23 08:23:24 PM DM3                 1\n",
      "2018-04-23 08:23:24 PM GST                 1\n",
      "2018-04-23 08:23:24 PM HST                 1\n",
      "2018-04-23 08:23:24 PM Na+                13\n",
      "2018-04-23 08:23:24 PM WAT              3000\n"
     ]
    },
    {
     "name": "stdout",
     "output_type": "stream",
     "text": [
      "./OA-G3-2 a004\n"
     ]
    },
    {
     "name": "stderr",
     "output_type": "stream",
     "text": [
      "2018-04-23 08:23:27 PM Cl-                 4\n",
      "2018-04-23 08:23:27 PM DM1                 1\n",
      "2018-04-23 08:23:27 PM DM2                 1\n",
      "2018-04-23 08:23:27 PM DM3                 1\n",
      "2018-04-23 08:23:27 PM GST                 1\n",
      "2018-04-23 08:23:27 PM HST                 1\n",
      "2018-04-23 08:23:27 PM Na+                13\n",
      "2018-04-23 08:23:27 PM WAT              3000\n"
     ]
    },
    {
     "name": "stdout",
     "output_type": "stream",
     "text": [
      "./OA-G3-2 a005\n"
     ]
    },
    {
     "name": "stderr",
     "output_type": "stream",
     "text": [
      "2018-04-23 08:23:31 PM Cl-                 4\n",
      "2018-04-23 08:23:31 PM DM1                 1\n",
      "2018-04-23 08:23:31 PM DM2                 1\n",
      "2018-04-23 08:23:31 PM DM3                 1\n",
      "2018-04-23 08:23:31 PM GST                 1\n",
      "2018-04-23 08:23:31 PM HST                 1\n",
      "2018-04-23 08:23:31 PM Na+                13\n",
      "2018-04-23 08:23:31 PM WAT              3000\n"
     ]
    },
    {
     "name": "stdout",
     "output_type": "stream",
     "text": [
      "./OA-G3-2 a006\n"
     ]
    },
    {
     "name": "stderr",
     "output_type": "stream",
     "text": [
      "2018-04-23 08:23:34 PM Cl-                 4\n",
      "2018-04-23 08:23:34 PM DM1                 1\n",
      "2018-04-23 08:23:34 PM DM2                 1\n",
      "2018-04-23 08:23:34 PM DM3                 1\n",
      "2018-04-23 08:23:34 PM GST                 1\n",
      "2018-04-23 08:23:34 PM HST                 1\n",
      "2018-04-23 08:23:34 PM Na+                13\n",
      "2018-04-23 08:23:34 PM WAT              3000\n"
     ]
    },
    {
     "name": "stdout",
     "output_type": "stream",
     "text": [
      "./OA-G3-2 a007\n"
     ]
    },
    {
     "name": "stderr",
     "output_type": "stream",
     "text": [
      "2018-04-23 08:23:37 PM Cl-                 4\n",
      "2018-04-23 08:23:37 PM DM1                 1\n",
      "2018-04-23 08:23:37 PM DM2                 1\n",
      "2018-04-23 08:23:37 PM DM3                 1\n",
      "2018-04-23 08:23:37 PM GST                 1\n",
      "2018-04-23 08:23:37 PM HST                 1\n",
      "2018-04-23 08:23:37 PM Na+                13\n",
      "2018-04-23 08:23:37 PM WAT              3000\n"
     ]
    },
    {
     "name": "stdout",
     "output_type": "stream",
     "text": [
      "./OA-G3-2 a008\n"
     ]
    },
    {
     "name": "stderr",
     "output_type": "stream",
     "text": [
      "2018-04-23 08:23:40 PM Cl-                 4\n",
      "2018-04-23 08:23:40 PM DM1                 1\n",
      "2018-04-23 08:23:40 PM DM2                 1\n",
      "2018-04-23 08:23:40 PM DM3                 1\n",
      "2018-04-23 08:23:40 PM GST                 1\n",
      "2018-04-23 08:23:40 PM HST                 1\n",
      "2018-04-23 08:23:40 PM Na+                13\n",
      "2018-04-23 08:23:40 PM WAT              3000\n"
     ]
    },
    {
     "name": "stdout",
     "output_type": "stream",
     "text": [
      "./OA-G3-2 a009\n"
     ]
    },
    {
     "name": "stderr",
     "output_type": "stream",
     "text": [
      "2018-04-23 08:23:43 PM Cl-                 4\n",
      "2018-04-23 08:23:43 PM DM1                 1\n",
      "2018-04-23 08:23:43 PM DM2                 1\n",
      "2018-04-23 08:23:43 PM DM3                 1\n",
      "2018-04-23 08:23:43 PM GST                 1\n",
      "2018-04-23 08:23:43 PM HST                 1\n",
      "2018-04-23 08:23:43 PM Na+                13\n",
      "2018-04-23 08:23:43 PM WAT              3000\n"
     ]
    },
    {
     "name": "stdout",
     "output_type": "stream",
     "text": [
      "./OA-G3-2 a010\n"
     ]
    },
    {
     "name": "stderr",
     "output_type": "stream",
     "text": [
      "2018-04-23 08:23:46 PM Cl-                 4\n",
      "2018-04-23 08:23:46 PM DM1                 1\n",
      "2018-04-23 08:23:46 PM DM2                 1\n",
      "2018-04-23 08:23:46 PM DM3                 1\n",
      "2018-04-23 08:23:46 PM GST                 1\n",
      "2018-04-23 08:23:46 PM HST                 1\n",
      "2018-04-23 08:23:46 PM Na+                13\n",
      "2018-04-23 08:23:46 PM WAT              3000\n"
     ]
    },
    {
     "name": "stdout",
     "output_type": "stream",
     "text": [
      "./OA-G3-2 a011\n"
     ]
    },
    {
     "name": "stderr",
     "output_type": "stream",
     "text": [
      "2018-04-23 08:23:49 PM Cl-                 4\n",
      "2018-04-23 08:23:49 PM DM1                 1\n",
      "2018-04-23 08:23:49 PM DM2                 1\n",
      "2018-04-23 08:23:49 PM DM3                 1\n",
      "2018-04-23 08:23:49 PM GST                 1\n",
      "2018-04-23 08:23:49 PM HST                 1\n",
      "2018-04-23 08:23:49 PM Na+                13\n",
      "2018-04-23 08:23:49 PM WAT              3000\n"
     ]
    },
    {
     "name": "stdout",
     "output_type": "stream",
     "text": [
      "./OA-G3-2 a012\n"
     ]
    },
    {
     "name": "stderr",
     "output_type": "stream",
     "text": [
      "2018-04-23 08:23:52 PM Cl-                 4\n",
      "2018-04-23 08:23:52 PM DM1                 1\n",
      "2018-04-23 08:23:52 PM DM2                 1\n",
      "2018-04-23 08:23:52 PM DM3                 1\n",
      "2018-04-23 08:23:52 PM GST                 1\n",
      "2018-04-23 08:23:52 PM HST                 1\n",
      "2018-04-23 08:23:52 PM Na+                13\n",
      "2018-04-23 08:23:52 PM WAT              3000\n"
     ]
    },
    {
     "name": "stdout",
     "output_type": "stream",
     "text": [
      "./OA-G3-2 a013\n"
     ]
    },
    {
     "name": "stderr",
     "output_type": "stream",
     "text": [
      "2018-04-23 08:23:56 PM Cl-                 4\n",
      "2018-04-23 08:23:56 PM DM1                 1\n",
      "2018-04-23 08:23:56 PM DM2                 1\n",
      "2018-04-23 08:23:56 PM DM3                 1\n",
      "2018-04-23 08:23:56 PM GST                 1\n",
      "2018-04-23 08:23:56 PM HST                 1\n",
      "2018-04-23 08:23:56 PM Na+                13\n",
      "2018-04-23 08:23:56 PM WAT              3000\n"
     ]
    },
    {
     "name": "stdout",
     "output_type": "stream",
     "text": [
      "./OA-G3-2 p000\n"
     ]
    },
    {
     "name": "stderr",
     "output_type": "stream",
     "text": [
      "2018-04-23 08:23:59 PM Cl-                 4\n",
      "2018-04-23 08:23:59 PM DM1                 1\n",
      "2018-04-23 08:23:59 PM DM2                 1\n",
      "2018-04-23 08:23:59 PM DM3                 1\n",
      "2018-04-23 08:23:59 PM GST                 1\n",
      "2018-04-23 08:23:59 PM HST                 1\n",
      "2018-04-23 08:23:59 PM Na+                13\n",
      "2018-04-23 08:23:59 PM WAT              3000\n"
     ]
    },
    {
     "name": "stdout",
     "output_type": "stream",
     "text": [
      "./OA-G3-2 p001\n"
     ]
    },
    {
     "name": "stderr",
     "output_type": "stream",
     "text": [
      "2018-04-23 08:24:02 PM Cl-                 4\n",
      "2018-04-23 08:24:02 PM DM1                 1\n",
      "2018-04-23 08:24:02 PM DM2                 1\n",
      "2018-04-23 08:24:02 PM DM3                 1\n",
      "2018-04-23 08:24:02 PM GST                 1\n",
      "2018-04-23 08:24:02 PM HST                 1\n",
      "2018-04-23 08:24:02 PM Na+                13\n",
      "2018-04-23 08:24:02 PM WAT              3000\n"
     ]
    },
    {
     "name": "stdout",
     "output_type": "stream",
     "text": [
      "./OA-G3-2 p002\n"
     ]
    },
    {
     "name": "stderr",
     "output_type": "stream",
     "text": [
      "2018-04-23 08:24:05 PM Cl-                 4\n",
      "2018-04-23 08:24:05 PM DM1                 1\n",
      "2018-04-23 08:24:05 PM DM2                 1\n",
      "2018-04-23 08:24:05 PM DM3                 1\n",
      "2018-04-23 08:24:05 PM GST                 1\n",
      "2018-04-23 08:24:05 PM HST                 1\n",
      "2018-04-23 08:24:05 PM Na+                13\n",
      "2018-04-23 08:24:05 PM WAT              3000\n"
     ]
    },
    {
     "name": "stdout",
     "output_type": "stream",
     "text": [
      "./OA-G3-2 p003\n"
     ]
    },
    {
     "name": "stderr",
     "output_type": "stream",
     "text": [
      "2018-04-23 08:24:08 PM Cl-                 4\n",
      "2018-04-23 08:24:08 PM DM1                 1\n",
      "2018-04-23 08:24:08 PM DM2                 1\n",
      "2018-04-23 08:24:08 PM DM3                 1\n",
      "2018-04-23 08:24:08 PM GST                 1\n",
      "2018-04-23 08:24:08 PM HST                 1\n",
      "2018-04-23 08:24:08 PM Na+                13\n",
      "2018-04-23 08:24:08 PM WAT              3000\n"
     ]
    },
    {
     "name": "stdout",
     "output_type": "stream",
     "text": [
      "./OA-G3-2 p004\n"
     ]
    },
    {
     "name": "stderr",
     "output_type": "stream",
     "text": [
      "2018-04-23 08:24:11 PM Cl-                 4\n",
      "2018-04-23 08:24:11 PM DM1                 1\n",
      "2018-04-23 08:24:11 PM DM2                 1\n",
      "2018-04-23 08:24:11 PM DM3                 1\n",
      "2018-04-23 08:24:11 PM GST                 1\n",
      "2018-04-23 08:24:11 PM HST                 1\n",
      "2018-04-23 08:24:11 PM Na+                13\n",
      "2018-04-23 08:24:11 PM WAT              3000\n"
     ]
    },
    {
     "name": "stdout",
     "output_type": "stream",
     "text": [
      "./OA-G3-2 p005\n"
     ]
    },
    {
     "name": "stderr",
     "output_type": "stream",
     "text": [
      "2018-04-23 08:24:14 PM Cl-                 4\n",
      "2018-04-23 08:24:14 PM DM1                 1\n",
      "2018-04-23 08:24:14 PM DM2                 1\n",
      "2018-04-23 08:24:14 PM DM3                 1\n",
      "2018-04-23 08:24:14 PM GST                 1\n",
      "2018-04-23 08:24:14 PM HST                 1\n",
      "2018-04-23 08:24:14 PM Na+                13\n",
      "2018-04-23 08:24:14 PM WAT              3000\n"
     ]
    },
    {
     "name": "stdout",
     "output_type": "stream",
     "text": [
      "./OA-G3-2 p006\n"
     ]
    },
    {
     "name": "stderr",
     "output_type": "stream",
     "text": [
      "2018-04-23 08:24:17 PM Cl-                 4\n",
      "2018-04-23 08:24:17 PM DM1                 1\n",
      "2018-04-23 08:24:17 PM DM2                 1\n",
      "2018-04-23 08:24:17 PM DM3                 1\n",
      "2018-04-23 08:24:17 PM GST                 1\n",
      "2018-04-23 08:24:17 PM HST                 1\n",
      "2018-04-23 08:24:17 PM Na+                13\n",
      "2018-04-23 08:24:17 PM WAT              3000\n"
     ]
    },
    {
     "name": "stdout",
     "output_type": "stream",
     "text": [
      "./OA-G3-2 p007\n"
     ]
    },
    {
     "name": "stderr",
     "output_type": "stream",
     "text": [
      "2018-04-23 08:24:21 PM Cl-                 4\n",
      "2018-04-23 08:24:21 PM DM1                 1\n",
      "2018-04-23 08:24:21 PM DM2                 1\n",
      "2018-04-23 08:24:21 PM DM3                 1\n",
      "2018-04-23 08:24:21 PM GST                 1\n",
      "2018-04-23 08:24:21 PM HST                 1\n",
      "2018-04-23 08:24:21 PM Na+                13\n",
      "2018-04-23 08:24:21 PM WAT              3000\n"
     ]
    },
    {
     "name": "stdout",
     "output_type": "stream",
     "text": [
      "./OA-G3-2 p008\n"
     ]
    },
    {
     "name": "stderr",
     "output_type": "stream",
     "text": [
      "2018-04-23 08:24:22 PM Cl-                 4\n",
      "2018-04-23 08:24:22 PM DM1                 1\n",
      "2018-04-23 08:24:22 PM DM2                 1\n",
      "2018-04-23 08:24:22 PM DM3                 1\n",
      "2018-04-23 08:24:22 PM GST                 1\n",
      "2018-04-23 08:24:22 PM HST                 1\n",
      "2018-04-23 08:24:22 PM Na+                13\n",
      "2018-04-23 08:24:22 PM WAT              3000\n"
     ]
    },
    {
     "name": "stdout",
     "output_type": "stream",
     "text": [
      "./OA-G3-2 p009\n"
     ]
    },
    {
     "name": "stderr",
     "output_type": "stream",
     "text": [
      "2018-04-23 08:24:24 PM Cl-                 4\n",
      "2018-04-23 08:24:24 PM DM1                 1\n",
      "2018-04-23 08:24:24 PM DM2                 1\n",
      "2018-04-23 08:24:24 PM DM3                 1\n",
      "2018-04-23 08:24:24 PM GST                 1\n",
      "2018-04-23 08:24:24 PM HST                 1\n",
      "2018-04-23 08:24:24 PM Na+                13\n",
      "2018-04-23 08:24:24 PM WAT              3000\n"
     ]
    },
    {
     "name": "stdout",
     "output_type": "stream",
     "text": [
      "./OA-G3-2 p010\n"
     ]
    },
    {
     "name": "stderr",
     "output_type": "stream",
     "text": [
      "2018-04-23 08:24:27 PM Cl-                 4\n",
      "2018-04-23 08:24:27 PM DM1                 1\n",
      "2018-04-23 08:24:27 PM DM2                 1\n",
      "2018-04-23 08:24:27 PM DM3                 1\n",
      "2018-04-23 08:24:27 PM GST                 1\n",
      "2018-04-23 08:24:27 PM HST                 1\n",
      "2018-04-23 08:24:27 PM Na+                13\n",
      "2018-04-23 08:24:27 PM WAT              3000\n"
     ]
    },
    {
     "name": "stdout",
     "output_type": "stream",
     "text": [
      "./OA-G3-2 p011\n"
     ]
    },
    {
     "name": "stderr",
     "output_type": "stream",
     "text": [
      "2018-04-23 08:24:31 PM Cl-                 4\n",
      "2018-04-23 08:24:31 PM DM1                 1\n",
      "2018-04-23 08:24:31 PM DM2                 1\n",
      "2018-04-23 08:24:31 PM DM3                 1\n",
      "2018-04-23 08:24:31 PM GST                 1\n",
      "2018-04-23 08:24:31 PM HST                 1\n",
      "2018-04-23 08:24:31 PM Na+                13\n",
      "2018-04-23 08:24:31 PM WAT              3000\n"
     ]
    },
    {
     "name": "stdout",
     "output_type": "stream",
     "text": [
      "./OA-G3-2 p012\n"
     ]
    },
    {
     "name": "stderr",
     "output_type": "stream",
     "text": [
      "2018-04-23 08:24:34 PM Cl-                 4\n",
      "2018-04-23 08:24:34 PM DM1                 1\n",
      "2018-04-23 08:24:34 PM DM2                 1\n",
      "2018-04-23 08:24:34 PM DM3                 1\n",
      "2018-04-23 08:24:34 PM GST                 1\n",
      "2018-04-23 08:24:34 PM HST                 1\n",
      "2018-04-23 08:24:34 PM Na+                13\n",
      "2018-04-23 08:24:34 PM WAT              3000\n"
     ]
    },
    {
     "name": "stdout",
     "output_type": "stream",
     "text": [
      "./OA-G3-2 p013\n"
     ]
    },
    {
     "name": "stderr",
     "output_type": "stream",
     "text": [
      "2018-04-23 08:24:37 PM Cl-                 4\n",
      "2018-04-23 08:24:37 PM DM1                 1\n",
      "2018-04-23 08:24:37 PM DM2                 1\n",
      "2018-04-23 08:24:37 PM DM3                 1\n",
      "2018-04-23 08:24:37 PM GST                 1\n",
      "2018-04-23 08:24:37 PM HST                 1\n",
      "2018-04-23 08:24:37 PM Na+                13\n",
      "2018-04-23 08:24:37 PM WAT              3000\n"
     ]
    },
    {
     "name": "stdout",
     "output_type": "stream",
     "text": [
      "./OA-G3-2 p014\n"
     ]
    },
    {
     "name": "stderr",
     "output_type": "stream",
     "text": [
      "2018-04-23 08:24:41 PM Cl-                 4\n",
      "2018-04-23 08:24:41 PM DM1                 1\n",
      "2018-04-23 08:24:41 PM DM2                 1\n",
      "2018-04-23 08:24:41 PM DM3                 1\n",
      "2018-04-23 08:24:41 PM GST                 1\n",
      "2018-04-23 08:24:41 PM HST                 1\n",
      "2018-04-23 08:24:41 PM Na+                13\n",
      "2018-04-23 08:24:41 PM WAT              3000\n"
     ]
    },
    {
     "name": "stdout",
     "output_type": "stream",
     "text": [
      "./OA-G3-2 p015\n"
     ]
    },
    {
     "name": "stderr",
     "output_type": "stream",
     "text": [
      "2018-04-23 08:24:43 PM Cl-                 4\n",
      "2018-04-23 08:24:43 PM DM1                 1\n",
      "2018-04-23 08:24:43 PM DM2                 1\n",
      "2018-04-23 08:24:43 PM DM3                 1\n",
      "2018-04-23 08:24:43 PM GST                 1\n",
      "2018-04-23 08:24:43 PM HST                 1\n",
      "2018-04-23 08:24:43 PM Na+                13\n",
      "2018-04-23 08:24:43 PM WAT              3000\n"
     ]
    },
    {
     "name": "stdout",
     "output_type": "stream",
     "text": [
      "./OA-G3-2 p016\n"
     ]
    },
    {
     "name": "stderr",
     "output_type": "stream",
     "text": [
      "2018-04-23 08:24:47 PM Cl-                 4\n",
      "2018-04-23 08:24:47 PM DM1                 1\n",
      "2018-04-23 08:24:47 PM DM2                 1\n",
      "2018-04-23 08:24:47 PM DM3                 1\n",
      "2018-04-23 08:24:47 PM GST                 1\n",
      "2018-04-23 08:24:47 PM HST                 1\n",
      "2018-04-23 08:24:47 PM Na+                13\n",
      "2018-04-23 08:24:47 PM WAT              3000\n"
     ]
    },
    {
     "name": "stdout",
     "output_type": "stream",
     "text": [
      "./OA-G3-2 p017\n"
     ]
    },
    {
     "name": "stderr",
     "output_type": "stream",
     "text": [
      "2018-04-23 08:24:50 PM Cl-                 4\n",
      "2018-04-23 08:24:50 PM DM1                 1\n",
      "2018-04-23 08:24:50 PM DM2                 1\n",
      "2018-04-23 08:24:50 PM DM3                 1\n",
      "2018-04-23 08:24:50 PM GST                 1\n",
      "2018-04-23 08:24:50 PM HST                 1\n",
      "2018-04-23 08:24:50 PM Na+                13\n",
      "2018-04-23 08:24:50 PM WAT              3000\n"
     ]
    },
    {
     "name": "stdout",
     "output_type": "stream",
     "text": [
      "./OA-G3-2 p018\n"
     ]
    },
    {
     "name": "stderr",
     "output_type": "stream",
     "text": [
      "2018-04-23 08:24:53 PM Cl-                 4\n",
      "2018-04-23 08:24:53 PM DM1                 1\n",
      "2018-04-23 08:24:53 PM DM2                 1\n",
      "2018-04-23 08:24:53 PM DM3                 1\n",
      "2018-04-23 08:24:53 PM GST                 1\n",
      "2018-04-23 08:24:53 PM HST                 1\n",
      "2018-04-23 08:24:53 PM Na+                13\n",
      "2018-04-23 08:24:53 PM WAT              3000\n"
     ]
    },
    {
     "name": "stdout",
     "output_type": "stream",
     "text": [
      "./OA-G3-2 p019\n"
     ]
    },
    {
     "name": "stderr",
     "output_type": "stream",
     "text": [
      "2018-04-23 08:24:56 PM Cl-                 4\n",
      "2018-04-23 08:24:56 PM DM1                 1\n",
      "2018-04-23 08:24:56 PM DM2                 1\n",
      "2018-04-23 08:24:56 PM DM3                 1\n",
      "2018-04-23 08:24:56 PM GST                 1\n",
      "2018-04-23 08:24:56 PM HST                 1\n",
      "2018-04-23 08:24:56 PM Na+                13\n",
      "2018-04-23 08:24:56 PM WAT              3000\n"
     ]
    },
    {
     "name": "stdout",
     "output_type": "stream",
     "text": [
      "./OA-G3-2 p020\n"
     ]
    },
    {
     "name": "stderr",
     "output_type": "stream",
     "text": [
      "2018-04-23 08:24:59 PM Cl-                 4\n",
      "2018-04-23 08:24:59 PM DM1                 1\n",
      "2018-04-23 08:24:59 PM DM2                 1\n",
      "2018-04-23 08:24:59 PM DM3                 1\n",
      "2018-04-23 08:24:59 PM GST                 1\n",
      "2018-04-23 08:24:59 PM HST                 1\n",
      "2018-04-23 08:24:59 PM Na+                13\n",
      "2018-04-23 08:24:59 PM WAT              3000\n"
     ]
    },
    {
     "name": "stdout",
     "output_type": "stream",
     "text": [
      "./OA-G3-2 p021\n"
     ]
    },
    {
     "name": "stderr",
     "output_type": "stream",
     "text": [
      "2018-04-23 08:25:02 PM Cl-                 4\n",
      "2018-04-23 08:25:02 PM DM1                 1\n",
      "2018-04-23 08:25:02 PM DM2                 1\n",
      "2018-04-23 08:25:02 PM DM3                 1\n",
      "2018-04-23 08:25:02 PM GST                 1\n",
      "2018-04-23 08:25:02 PM HST                 1\n",
      "2018-04-23 08:25:02 PM Na+                13\n",
      "2018-04-23 08:25:02 PM WAT              3000\n"
     ]
    },
    {
     "name": "stdout",
     "output_type": "stream",
     "text": [
      "./OA-G3-2 p022\n"
     ]
    },
    {
     "name": "stderr",
     "output_type": "stream",
     "text": [
      "2018-04-23 08:25:05 PM Cl-                 4\n",
      "2018-04-23 08:25:05 PM DM1                 1\n",
      "2018-04-23 08:25:05 PM DM2                 1\n",
      "2018-04-23 08:25:05 PM DM3                 1\n",
      "2018-04-23 08:25:05 PM GST                 1\n",
      "2018-04-23 08:25:05 PM HST                 1\n",
      "2018-04-23 08:25:05 PM Na+                13\n",
      "2018-04-23 08:25:05 PM WAT              3000\n"
     ]
    },
    {
     "name": "stdout",
     "output_type": "stream",
     "text": [
      "./OA-G3-2 p023\n"
     ]
    },
    {
     "name": "stderr",
     "output_type": "stream",
     "text": [
      "2018-04-23 08:25:08 PM Cl-                 4\n",
      "2018-04-23 08:25:08 PM DM1                 1\n",
      "2018-04-23 08:25:08 PM DM2                 1\n",
      "2018-04-23 08:25:08 PM DM3                 1\n",
      "2018-04-23 08:25:08 PM GST                 1\n",
      "2018-04-23 08:25:08 PM HST                 1\n",
      "2018-04-23 08:25:08 PM Na+                13\n",
      "2018-04-23 08:25:08 PM WAT              3000\n"
     ]
    },
    {
     "name": "stdout",
     "output_type": "stream",
     "text": [
      "./OA-G3-2 p024\n"
     ]
    },
    {
     "name": "stderr",
     "output_type": "stream",
     "text": [
      "2018-04-23 08:25:11 PM Cl-                 4\n",
      "2018-04-23 08:25:11 PM DM1                 1\n",
      "2018-04-23 08:25:11 PM DM2                 1\n",
      "2018-04-23 08:25:11 PM DM3                 1\n",
      "2018-04-23 08:25:11 PM GST                 1\n",
      "2018-04-23 08:25:11 PM HST                 1\n",
      "2018-04-23 08:25:11 PM Na+                13\n",
      "2018-04-23 08:25:11 PM WAT              3000\n"
     ]
    },
    {
     "name": "stdout",
     "output_type": "stream",
     "text": [
      "./OA-G3-2 p025\n"
     ]
    },
    {
     "name": "stderr",
     "output_type": "stream",
     "text": [
      "2018-04-23 08:25:13 PM Cl-                 4\n",
      "2018-04-23 08:25:13 PM DM1                 1\n",
      "2018-04-23 08:25:13 PM DM2                 1\n",
      "2018-04-23 08:25:13 PM DM3                 1\n",
      "2018-04-23 08:25:13 PM GST                 1\n",
      "2018-04-23 08:25:13 PM HST                 1\n",
      "2018-04-23 08:25:13 PM Na+                13\n",
      "2018-04-23 08:25:13 PM WAT              3000\n"
     ]
    },
    {
     "name": "stdout",
     "output_type": "stream",
     "text": [
      "./OA-G3-2 p026\n"
     ]
    },
    {
     "name": "stderr",
     "output_type": "stream",
     "text": [
      "2018-04-23 08:25:16 PM Cl-                 4\n",
      "2018-04-23 08:25:16 PM DM1                 1\n",
      "2018-04-23 08:25:16 PM DM2                 1\n",
      "2018-04-23 08:25:16 PM DM3                 1\n",
      "2018-04-23 08:25:16 PM GST                 1\n",
      "2018-04-23 08:25:16 PM HST                 1\n",
      "2018-04-23 08:25:16 PM Na+                13\n",
      "2018-04-23 08:25:16 PM WAT              3000\n"
     ]
    },
    {
     "name": "stdout",
     "output_type": "stream",
     "text": [
      "./OA-G3-2 p027\n"
     ]
    },
    {
     "name": "stderr",
     "output_type": "stream",
     "text": [
      "2018-04-23 08:25:19 PM Cl-                 4\n",
      "2018-04-23 08:25:19 PM DM1                 1\n",
      "2018-04-23 08:25:19 PM DM2                 1\n",
      "2018-04-23 08:25:19 PM DM3                 1\n",
      "2018-04-23 08:25:19 PM GST                 1\n",
      "2018-04-23 08:25:19 PM HST                 1\n",
      "2018-04-23 08:25:19 PM Na+                13\n",
      "2018-04-23 08:25:19 PM WAT              3000\n"
     ]
    },
    {
     "name": "stdout",
     "output_type": "stream",
     "text": [
      "./OA-G3-2 p028\n"
     ]
    },
    {
     "name": "stderr",
     "output_type": "stream",
     "text": [
      "2018-04-23 08:25:21 PM Cl-                 4\n",
      "2018-04-23 08:25:21 PM DM1                 1\n",
      "2018-04-23 08:25:21 PM DM2                 1\n",
      "2018-04-23 08:25:21 PM DM3                 1\n",
      "2018-04-23 08:25:21 PM GST                 1\n",
      "2018-04-23 08:25:21 PM HST                 1\n",
      "2018-04-23 08:25:21 PM Na+                13\n",
      "2018-04-23 08:25:21 PM WAT              3000\n"
     ]
    },
    {
     "name": "stdout",
     "output_type": "stream",
     "text": [
      "./OA-G3-2 p029\n"
     ]
    },
    {
     "name": "stderr",
     "output_type": "stream",
     "text": [
      "2018-04-23 08:25:25 PM Cl-                 4\n",
      "2018-04-23 08:25:25 PM DM1                 1\n",
      "2018-04-23 08:25:25 PM DM2                 1\n",
      "2018-04-23 08:25:25 PM DM3                 1\n",
      "2018-04-23 08:25:25 PM GST                 1\n",
      "2018-04-23 08:25:25 PM HST                 1\n",
      "2018-04-23 08:25:25 PM Na+                13\n",
      "2018-04-23 08:25:25 PM WAT              3000\n"
     ]
    },
    {
     "name": "stdout",
     "output_type": "stream",
     "text": [
      "./OA-G3-2 p030\n"
     ]
    },
    {
     "name": "stderr",
     "output_type": "stream",
     "text": [
      "2018-04-23 08:25:26 PM Cl-                 4\n",
      "2018-04-23 08:25:26 PM DM1                 1\n",
      "2018-04-23 08:25:26 PM DM2                 1\n",
      "2018-04-23 08:25:26 PM DM3                 1\n",
      "2018-04-23 08:25:26 PM GST                 1\n",
      "2018-04-23 08:25:26 PM HST                 1\n",
      "2018-04-23 08:25:26 PM Na+                13\n",
      "2018-04-23 08:25:26 PM WAT              3000\n"
     ]
    },
    {
     "name": "stdout",
     "output_type": "stream",
     "text": [
      "./OA-G3-2 p031\n"
     ]
    },
    {
     "name": "stderr",
     "output_type": "stream",
     "text": [
      "2018-04-23 08:25:29 PM Cl-                 4\n",
      "2018-04-23 08:25:29 PM DM1                 1\n",
      "2018-04-23 08:25:29 PM DM2                 1\n",
      "2018-04-23 08:25:29 PM DM3                 1\n",
      "2018-04-23 08:25:29 PM GST                 1\n",
      "2018-04-23 08:25:29 PM HST                 1\n",
      "2018-04-23 08:25:29 PM Na+                13\n",
      "2018-04-23 08:25:29 PM WAT              3000\n"
     ]
    },
    {
     "name": "stdout",
     "output_type": "stream",
     "text": [
      "./OA-G3-2 p032\n"
     ]
    },
    {
     "name": "stderr",
     "output_type": "stream",
     "text": [
      "2018-04-23 08:25:32 PM Cl-                 4\n",
      "2018-04-23 08:25:32 PM DM1                 1\n",
      "2018-04-23 08:25:32 PM DM2                 1\n",
      "2018-04-23 08:25:32 PM DM3                 1\n",
      "2018-04-23 08:25:32 PM GST                 1\n",
      "2018-04-23 08:25:32 PM HST                 1\n",
      "2018-04-23 08:25:32 PM Na+                13\n",
      "2018-04-23 08:25:32 PM WAT              3000\n"
     ]
    },
    {
     "name": "stdout",
     "output_type": "stream",
     "text": [
      "./OA-G3-2 p033\n"
     ]
    },
    {
     "name": "stderr",
     "output_type": "stream",
     "text": [
      "2018-04-23 08:25:35 PM Cl-                 4\n",
      "2018-04-23 08:25:35 PM DM1                 1\n",
      "2018-04-23 08:25:35 PM DM2                 1\n",
      "2018-04-23 08:25:35 PM DM3                 1\n",
      "2018-04-23 08:25:35 PM GST                 1\n",
      "2018-04-23 08:25:35 PM HST                 1\n",
      "2018-04-23 08:25:35 PM Na+                13\n",
      "2018-04-23 08:25:35 PM WAT              3000\n"
     ]
    },
    {
     "name": "stdout",
     "output_type": "stream",
     "text": [
      "./OA-G3-2 p034\n"
     ]
    },
    {
     "name": "stderr",
     "output_type": "stream",
     "text": [
      "2018-04-23 08:25:38 PM Cl-                 4\n",
      "2018-04-23 08:25:38 PM DM1                 1\n",
      "2018-04-23 08:25:38 PM DM2                 1\n",
      "2018-04-23 08:25:38 PM DM3                 1\n",
      "2018-04-23 08:25:38 PM GST                 1\n",
      "2018-04-23 08:25:38 PM HST                 1\n",
      "2018-04-23 08:25:38 PM Na+                13\n",
      "2018-04-23 08:25:38 PM WAT              3000\n"
     ]
    },
    {
     "name": "stdout",
     "output_type": "stream",
     "text": [
      "./OA-G3-2 p035\n"
     ]
    },
    {
     "name": "stderr",
     "output_type": "stream",
     "text": [
      "2018-04-23 08:25:40 PM Cl-                 4\n",
      "2018-04-23 08:25:40 PM DM1                 1\n",
      "2018-04-23 08:25:40 PM DM2                 1\n",
      "2018-04-23 08:25:40 PM DM3                 1\n",
      "2018-04-23 08:25:40 PM GST                 1\n",
      "2018-04-23 08:25:40 PM HST                 1\n",
      "2018-04-23 08:25:40 PM Na+                13\n",
      "2018-04-23 08:25:40 PM WAT              3000\n"
     ]
    },
    {
     "name": "stdout",
     "output_type": "stream",
     "text": [
      "./OA-G3-2 p036\n"
     ]
    },
    {
     "name": "stderr",
     "output_type": "stream",
     "text": [
      "2018-04-23 08:25:42 PM Cl-                 4\n",
      "2018-04-23 08:25:42 PM DM1                 1\n",
      "2018-04-23 08:25:42 PM DM2                 1\n",
      "2018-04-23 08:25:42 PM DM3                 1\n",
      "2018-04-23 08:25:42 PM GST                 1\n",
      "2018-04-23 08:25:42 PM HST                 1\n",
      "2018-04-23 08:25:42 PM Na+                13\n",
      "2018-04-23 08:25:42 PM WAT              3000\n"
     ]
    },
    {
     "name": "stdout",
     "output_type": "stream",
     "text": [
      "./OA-G3-2 p037\n"
     ]
    },
    {
     "name": "stderr",
     "output_type": "stream",
     "text": [
      "2018-04-23 08:25:45 PM Cl-                 4\n",
      "2018-04-23 08:25:45 PM DM1                 1\n",
      "2018-04-23 08:25:45 PM DM2                 1\n",
      "2018-04-23 08:25:45 PM DM3                 1\n",
      "2018-04-23 08:25:45 PM GST                 1\n",
      "2018-04-23 08:25:45 PM HST                 1\n",
      "2018-04-23 08:25:45 PM Na+                13\n",
      "2018-04-23 08:25:45 PM WAT              3000\n"
     ]
    },
    {
     "name": "stdout",
     "output_type": "stream",
     "text": [
      "./OA-G3-2 p038\n"
     ]
    },
    {
     "name": "stderr",
     "output_type": "stream",
     "text": [
      "2018-04-23 08:25:48 PM Cl-                 4\n",
      "2018-04-23 08:25:48 PM DM1                 1\n",
      "2018-04-23 08:25:48 PM DM2                 1\n",
      "2018-04-23 08:25:48 PM DM3                 1\n",
      "2018-04-23 08:25:48 PM GST                 1\n",
      "2018-04-23 08:25:48 PM HST                 1\n",
      "2018-04-23 08:25:48 PM Na+                13\n",
      "2018-04-23 08:25:48 PM WAT              3000\n"
     ]
    },
    {
     "name": "stdout",
     "output_type": "stream",
     "text": [
      "./OA-G3-2 p039\n"
     ]
    },
    {
     "name": "stderr",
     "output_type": "stream",
     "text": [
      "2018-04-23 08:25:51 PM Cl-                 4\n",
      "2018-04-23 08:25:51 PM DM1                 1\n",
      "2018-04-23 08:25:51 PM DM2                 1\n",
      "2018-04-23 08:25:51 PM DM3                 1\n",
      "2018-04-23 08:25:51 PM GST                 1\n",
      "2018-04-23 08:25:51 PM HST                 1\n",
      "2018-04-23 08:25:51 PM Na+                13\n",
      "2018-04-23 08:25:51 PM WAT              3000\n"
     ]
    },
    {
     "name": "stdout",
     "output_type": "stream",
     "text": [
      "./OA-G3-2 p040\n"
     ]
    },
    {
     "name": "stderr",
     "output_type": "stream",
     "text": [
      "2018-04-23 08:25:53 PM Cl-                 4\n",
      "2018-04-23 08:25:53 PM DM1                 1\n",
      "2018-04-23 08:25:53 PM DM2                 1\n",
      "2018-04-23 08:25:53 PM DM3                 1\n",
      "2018-04-23 08:25:53 PM GST                 1\n",
      "2018-04-23 08:25:53 PM HST                 1\n",
      "2018-04-23 08:25:53 PM Na+                13\n",
      "2018-04-23 08:25:53 PM WAT              3000\n"
     ]
    },
    {
     "name": "stdout",
     "output_type": "stream",
     "text": [
      "./OA-G3-2 p041\n"
     ]
    },
    {
     "name": "stderr",
     "output_type": "stream",
     "text": [
      "2018-04-23 08:25:56 PM Cl-                 4\n",
      "2018-04-23 08:25:56 PM DM1                 1\n",
      "2018-04-23 08:25:56 PM DM2                 1\n",
      "2018-04-23 08:25:56 PM DM3                 1\n",
      "2018-04-23 08:25:56 PM GST                 1\n",
      "2018-04-23 08:25:56 PM HST                 1\n",
      "2018-04-23 08:25:56 PM Na+                13\n",
      "2018-04-23 08:25:56 PM WAT              3000\n"
     ]
    },
    {
     "name": "stdout",
     "output_type": "stream",
     "text": [
      "./OA-G3-2 p042\n"
     ]
    },
    {
     "name": "stderr",
     "output_type": "stream",
     "text": [
      "2018-04-23 08:25:58 PM Cl-                 4\n",
      "2018-04-23 08:25:58 PM DM1                 1\n",
      "2018-04-23 08:25:58 PM DM2                 1\n",
      "2018-04-23 08:25:58 PM DM3                 1\n",
      "2018-04-23 08:25:58 PM GST                 1\n",
      "2018-04-23 08:25:58 PM HST                 1\n",
      "2018-04-23 08:25:58 PM Na+                13\n",
      "2018-04-23 08:25:58 PM WAT              3000\n"
     ]
    },
    {
     "name": "stdout",
     "output_type": "stream",
     "text": [
      "./OA-G3-2 p043\n"
     ]
    },
    {
     "name": "stderr",
     "output_type": "stream",
     "text": [
      "2018-04-23 08:26:01 PM Cl-                 4\n",
      "2018-04-23 08:26:01 PM DM1                 1\n",
      "2018-04-23 08:26:01 PM DM2                 1\n",
      "2018-04-23 08:26:01 PM DM3                 1\n",
      "2018-04-23 08:26:01 PM GST                 1\n",
      "2018-04-23 08:26:01 PM HST                 1\n",
      "2018-04-23 08:26:01 PM Na+                13\n",
      "2018-04-23 08:26:01 PM WAT              3000\n"
     ]
    },
    {
     "name": "stdout",
     "output_type": "stream",
     "text": [
      "./OA-G3-2 p044\n"
     ]
    },
    {
     "name": "stderr",
     "output_type": "stream",
     "text": [
      "2018-04-23 08:26:04 PM Cl-                 4\n",
      "2018-04-23 08:26:04 PM DM1                 1\n",
      "2018-04-23 08:26:04 PM DM2                 1\n",
      "2018-04-23 08:26:04 PM DM3                 1\n",
      "2018-04-23 08:26:04 PM GST                 1\n",
      "2018-04-23 08:26:04 PM HST                 1\n",
      "2018-04-23 08:26:04 PM Na+                13\n",
      "2018-04-23 08:26:04 PM WAT              3000\n"
     ]
    },
    {
     "name": "stdout",
     "output_type": "stream",
     "text": [
      "./OA-G3-2 p045\n"
     ]
    },
    {
     "name": "stderr",
     "output_type": "stream",
     "text": [
      "2018-04-23 08:26:06 PM Cl-                 4\n",
      "2018-04-23 08:26:06 PM DM1                 1\n",
      "2018-04-23 08:26:06 PM DM2                 1\n",
      "2018-04-23 08:26:06 PM DM3                 1\n",
      "2018-04-23 08:26:06 PM GST                 1\n",
      "2018-04-23 08:26:06 PM HST                 1\n",
      "2018-04-23 08:26:06 PM Na+                13\n",
      "2018-04-23 08:26:06 PM WAT              3000\n"
     ]
    }
   ],
   "source": [
    "for complx in complexes:\n",
    "    for window_index, window in enumerate(window_list):\n",
    "        print(complx, window)\n",
    "        \n",
    "        system = System()\n",
    "\n",
    "        system.output_path = os.path.join(complx, 'AMBER', 'APR', 'windows', window)        \n",
    "\n",
    "        system.target_waters = 3000\n",
    "        system.output_prefix = 'solvate'\n",
    "\n",
    "        system.neutralize = True\n",
    "        system.pbc_type = 'rectangular'\n",
    "        system.add_ions = ['Na+', 4, 'Cl-', 4]\n",
    "        system.template_lines = ['source leaprc.water.tip3p',\n",
    "                               'source leaprc.gaff',\n",
    "                               'loadamberparams hst.frcmod',\n",
    "                               'HST = loadmol2 hst.mol2',\n",
    "                               'loadamberparams gst.frcmod',\n",
    "                               'GST = loadmol2 gst.mol2',\n",
    "                               'loadamberparams dummy.frcmod',\n",
    "                               'DM1 = loadmol2 dm1.mol2',\n",
    "                               'DM2 = loadmol2 dm2.mol2',\n",
    "                               'DM3 = loadmol2 dm3.mol2',\n",
    "                               'model = loadpdb hg.pdb'\n",
    "        ]\n",
    "\n",
    "        try:\n",
    "            system.build()\n",
    "        except:\n",
    "            system.build()"
   ]
  },
  {
   "cell_type": "code",
   "execution_count": null,
   "metadata": {},
   "outputs": [],
   "source": []
  }
 ],
 "metadata": {
  "kernelspec": {
   "display_name": "Python [conda env:smirnoff-paprika]",
   "language": "python",
   "name": "conda-env-smirnoff-paprika-py"
  },
  "language_info": {
   "codemirror_mode": {
    "name": "ipython",
    "version": 3
   },
   "file_extension": ".py",
   "mimetype": "text/x-python",
   "name": "python",
   "nbconvert_exporter": "python",
   "pygments_lexer": "ipython3",
   "version": "3.6.4"
  }
 },
 "nbformat": 4,
 "nbformat_minor": 2
}
