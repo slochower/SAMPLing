{
 "cells": [
  {
   "cell_type": "code",
   "execution_count": 2,
   "metadata": {},
   "outputs": [
    {
     "name": "stdout",
     "output_type": "stream",
     "text": [
      "The autoreload extension is already loaded. To reload it, use:\n",
      "  %reload_ext autoreload\n",
      "2018-04-30_14:45:29_-0700-dff30ec-0.0.3\n"
     ]
    }
   ],
   "source": [
    "%load_ext autoreload\n",
    "%autoreload 2\n",
    "\n",
    "import matplotlib.pyplot as plt\n",
    "import os as os\n",
    "import sys as sys\n",
    "import glob as glob\n",
    "import re as re\n",
    "import numpy as np\n",
    "import shutil as shutil\n",
    "\n",
    "import paprika\n",
    "print(paprika.__version__)\n",
    "\n",
    "from paprika.analysis import fe_calc\n",
    "from paprika.restraints import DAT_restraint\n",
    "\n",
    "import pytraj as pt\n",
    "import parmed as pmd"
   ]
  },
  {
   "cell_type": "code",
   "execution_count": 3,
   "metadata": {},
   "outputs": [
    {
     "name": "stderr",
     "output_type": "stream",
     "text": [
      "2018-04-30 03:10:40 PM Started logging...\n"
     ]
    }
   ],
   "source": [
    "import logging\n",
    "from importlib import reload\n",
    "reload(logging)\n",
    "\n",
    "logging.basicConfig(format='%(asctime)s %(message)s', datefmt='%Y-%m-%d %I:%M:%S %p',\n",
    "                    level=logging.INFO)\n",
    "logging.info('Started logging...')"
   ]
  },
  {
   "cell_type": "code",
   "execution_count": 4,
   "metadata": {},
   "outputs": [],
   "source": [
    "dummy_anchors = [':3', ':4', ':5']\n",
    "host_anchors  = [':1@C26', ':1@C18', ':1@C8']\n",
    "guest_anchors = [':2@C1', ':2@C3']"
   ]
  },
  {
   "cell_type": "code",
   "execution_count": 5,
   "metadata": {},
   "outputs": [],
   "source": [
    "attach_string = '0.00 0.40 0.80 1.60 2.40 4.00 5.50 8.65 11.80 ' \\\n",
    "                '18.10 24.40 37.00 49.60 74.80 100.00'\n",
    "attach_fractions = [float(i) / 100 for i in attach_string.split()]\n",
    "\n",
    "pull_string = '0.00 0.40 0.80 1.20 1.60 2.00 2.40 2.80 3.20 3.60 4.00 ' \\\n",
    "              '4.40 4.80 5.20 5.60 6.00 6.40 6.80 7.20 7.60 8.00 8.40 ' \\\n",
    "              '8.80 9.20 9.60 10.00 10.40 10.80 11.20 11.60 12.00 12.40 ' \\\n",
    "              '12.80 13.20 13.60 14.00 14.40 14.80 15.20 15.60 16.00 16.40 ' \\\n",
    "              '16.80 17.20 17.60 18.00'\n",
    "\n",
    "windows = [len(attach_fractions), len(pull_string.split()), 0]"
   ]
  },
  {
   "cell_type": "code",
   "execution_count": 6,
   "metadata": {},
   "outputs": [],
   "source": [
    "paths = glob.glob(os.path.normpath(os.path.join('./OA-G3-0', 'AMBER', 'APR', 'windows', '*')))\n",
    "\n",
    "window_list = [os.path.basename(i) for i in paths]\n",
    "phase_dict = {'a': 'attach', 'p': 'pull', 'r': 'release'}"
   ]
  },
  {
   "cell_type": "code",
   "execution_count": 12,
   "metadata": {},
   "outputs": [],
   "source": [
    "g3_complexes = glob.glob('./OA-G3-*')\n",
    "data = np.zeros((len(g3_complexes), 6))"
   ]
  },
  {
   "cell_type": "code",
   "execution_count": 18,
   "metadata": {},
   "outputs": [
    {
     "name": "stdout",
     "output_type": "stream",
     "text": [
      "./OA-G3-0\n",
      "Set pull offset (8.03 A)\n"
     ]
    },
    {
     "name": "stderr",
     "output_type": "stream",
     "text": [
      "2018-04-30 03:26:46 PM attach: computing convergence for mbar-blocking\n",
      "2018-04-30 03:27:48 PM pull: computing convergence for mbar-blocking\n"
     ]
    },
    {
     "name": "stdout",
     "output_type": "stream",
     "text": [
      "3.8622819336022456 9.327554466604584\n",
      "158000 frames analyzed...\n",
      "460000 frames analyzed...\n",
      "-7.045213819905932\n",
      "./OA-G3-1\n",
      "Set pull offset (5.63 A)\n"
     ]
    },
    {
     "name": "stderr",
     "output_type": "stream",
     "text": [
      "2018-04-30 03:28:01 PM attach: computing convergence for mbar-blocking\n",
      "2018-04-30 03:29:03 PM pull: computing convergence for mbar-blocking\n"
     ]
    },
    {
     "name": "stdout",
     "output_type": "stream",
     "text": [
      "3.480092949041449 9.99228217625362\n",
      "158000 frames analyzed...\n",
      "460000 frames analyzed...\n",
      "-7.160034219467988\n",
      "./OA-G3-2\n",
      "Set pull offset (7.28 A)\n"
     ]
    },
    {
     "name": "stderr",
     "output_type": "stream",
     "text": [
      "2018-04-30 03:29:15 PM attach: computing convergence for mbar-blocking\n",
      "2018-04-30 03:30:11 PM pull: computing convergence for mbar-blocking\n"
     ]
    },
    {
     "name": "stdout",
     "output_type": "stream",
     "text": [
      "2.9326242185859197 10.396195882460578\n",
      "158000 frames analyzed...\n",
      "460000 frames analyzed...\n",
      "-7.080123838744678\n",
      "./OA-G3-3\n",
      "Set pull offset (7.46 A)\n"
     ]
    },
    {
     "name": "stderr",
     "output_type": "stream",
     "text": [
      "2018-04-30 03:30:24 PM attach: computing convergence for mbar-blocking\n",
      "2018-04-30 03:31:24 PM pull: computing convergence for mbar-blocking\n"
     ]
    },
    {
     "name": "stdout",
     "output_type": "stream",
     "text": [
      "2.9439684444023446 10.226869848860789\n",
      "158000 frames analyzed...\n",
      "460000 frames analyzed...\n",
      "-7.071761750809843\n",
      "./OA-G3-4\n",
      "Set pull offset (6.83 A)\n"
     ]
    },
    {
     "name": "stderr",
     "output_type": "stream",
     "text": [
      "2018-04-30 03:31:38 PM attach: computing convergence for mbar-blocking\n",
      "2018-04-30 03:32:37 PM pull: computing convergence for mbar-blocking\n"
     ]
    },
    {
     "name": "stdout",
     "output_type": "stream",
     "text": [
      "3.081065736229131 10.021257295051816\n",
      "158000 frames analyzed...\n",
      "460000 frames analyzed...\n",
      "-7.100995030732292\n"
     ]
    }
   ],
   "source": [
    "for complex_index, complx in enumerate(sorted(g3_complexes)):\n",
    "\n",
    "    print(complx)\n",
    "    \n",
    "    traj = pt.load(os.path.join(complx, 'AMBER', 'solvate.rst7'), \n",
    "                    os.path.join(complx, 'AMBER', 'solvate.prmtop'))\n",
    "\n",
    "    pull_initial = pt.distance(traj, ' '.join([dummy_anchors[0], guest_anchors[0]]))[0]\n",
    "\n",
    "    print(f'Set pull offset ({pull_initial:1.2f} A)')\n",
    "\n",
    "    pull_distances = [float(i) + pull_initial for i in pull_string.split()]\n",
    "\n",
    "    guest_restraint_atoms = [[dummy_anchors[0], guest_anchors[0]],\n",
    "                         [dummy_anchors[1], dummy_anchors[0], guest_anchors[0]],\n",
    "                         [dummy_anchors[0], guest_anchors[0], guest_anchors[1]],\n",
    "                        ]\n",
    "\n",
    "    guest_restraint_targets = [pull_initial,\n",
    "                               180.0,\n",
    "                               180.0\n",
    "                              ]\n",
    "    guest_restraint_target_final = [pull_distances[-1], 180.0, 180.0]\n",
    "    guest_restraint_distance_fc = 5.0 # kcal/mol-A**2\n",
    "    guest_restraint_angle_fc = 100.0  # kcal/mol-rad**2\n",
    "\n",
    "    hg = pmd.load_file(os.path.join(complx, 'AMBER', 'solvate.prmtop'),\n",
    "                   os.path.join(complx, 'AMBER', 'solvate.rst7'),\n",
    "                   structure=True)\n",
    "\n",
    "    guest_restraints = []\n",
    "    for index, atoms in enumerate(guest_restraint_atoms): \n",
    "        if len(atoms) > 2:\n",
    "            angle = True\n",
    "        else:\n",
    "            angle = False\n",
    "        this = DAT_restraint()\n",
    "        this.auto_apr = True\n",
    "        this.amber_index = True\n",
    "        this.topology = hg\n",
    "        this.mask1 = atoms[0]\n",
    "        this.mask2 = atoms[1]\n",
    "        if angle:\n",
    "            this.mask3 = atoms[2]\n",
    "            this.attach['fc_final'] = guest_restraint_angle_fc\n",
    "        else:\n",
    "            this.attach['fc_final'] = guest_restraint_distance_fc\n",
    "        this.attach['target'] = guest_restraint_targets[index]\n",
    "        this.attach['fraction_list'] = attach_fractions\n",
    "\n",
    "        this.pull['target_final'] = guest_restraint_target_final[index]\n",
    "        this.pull['num_windows'] = windows[1]\n",
    "        this.initialize()\n",
    "\n",
    "        guest_restraints.append(this)\n",
    "\n",
    "    structure = pt.load(os.path.join(complx, 'AMBER', 'APR', 'windows', 'a000', 'solvate.rst7'), \n",
    "                       os.path.join(complx, 'AMBER', 'APR', 'windows', 'a000', 'solvate.prmtop'))\n",
    "\n",
    "    stripped = structure.strip(':WAT,:Na+,:Cl-')   \n",
    "    \n",
    "    fecalc = fe_calc()\n",
    "    fecalc.prmtop = stripped.topology\n",
    "    fecalc.trajectory = 'prod.*.nc'\n",
    "    fecalc.path = os.path.join(complx, 'AMBER', 'APR','windows')\n",
    "    fecalc.restraint_list = guest_restraints\n",
    "    fecalc.collect_data()\n",
    "    fecalc.compute_free_energy()\n",
    "\n",
    "    data[complex_index, 0] = complex_index\n",
    "    data[complex_index, 1] = fecalc.results['attach']['mbar-block']['fe']\n",
    "    data[complex_index, 2] = fecalc.results['attach']['mbar-block']['sem']\n",
    "    data[complex_index, 3] = fecalc.results['pull']['mbar-block']['fe']\n",
    "    data[complex_index, 4] = fecalc.results['pull']['mbar-block']['sem']\n",
    "    \n",
    "    \n",
    "    # Analytic release\n",
    "    \n",
    "    fecalc.compute_ref_state_work([guest_restraints[0], guest_restraints[1], None, \n",
    "                                    None, guest_restraints[2], None])\n",
    "\n",
    "    data[complex_index, 5] = fecalc.results['ref_state_work']\n",
    "    \n",
    "    print(f\"{fecalc.results['attach']['mbar-block']['fe']} {fecalc.results['pull']['mbar-block']['fe']}\")\n",
    "    print(f\"{fecalc.results['attach']['mbar-block']['n_frames']} frames analyzed...\")\n",
    "    print(f\"{fecalc.results['pull']['mbar-block']['n_frames']} frames analyzed...\")\n",
    "    print(f\"{fecalc.results['ref_state_work']}\")"
   ]
  },
  {
   "cell_type": "code",
   "execution_count": 20,
   "metadata": {},
   "outputs": [
    {
     "data": {
      "text/plain": [
       "[Text(0,0,'G0'),\n",
       " Text(0,0,'G1'),\n",
       " Text(0,0,'G2'),\n",
       " Text(0,0,'G3'),\n",
       " Text(0,0,'G4')]"
      ]
     },
     "execution_count": 20,
     "metadata": {},
     "output_type": "execute_result"
    },
    {
     "data": {
      "image/png": "[encoded data removed]",
      "text/plain": [
       "<matplotlib.figure.Figure at 0x7f3e40b8f588>"
      ]
     },
     "metadata": {},
     "output_type": "display_data"
    }
   ],
   "source": [
    "fig, ax = plt.subplots()\n",
    "p1 = ax.bar(data[:,0], data[:,1], width=0.8, color='b', alpha=0.9, )\n",
    "\n",
    "error = np.sqrt(data[:,2]**2 + data[:,4]**2)\n",
    "\n",
    "\n",
    "p2 = ax.bar(data[:,0], data[:,3], width=0.8, bottom=data[:,1], color='r', alpha=0.9, \n",
    "           yerr=2 * error)\n",
    "\n",
    "ax.set_ylabel('Free energy (kcal/mol)')\n",
    "ax.set_title('OA-G3 complexes')\n",
    "ax.set_xticks([0, 1, 2, 3, 4])\n",
    "ax.set_xticklabels(['G0', 'G1', 'G2', 'G3', 'G4'])"
   ]
  },
  {
   "cell_type": "code",
   "execution_count": 23,
   "metadata": {},
   "outputs": [
    {
     "data": {
      "text/plain": [
       "[Text(0,0,'G0'),\n",
       " Text(0,0,'G1'),\n",
       " Text(0,0,'G2'),\n",
       " Text(0,0,'G3'),\n",
       " Text(0,0,'G4')]"
      ]
     },
     "execution_count": 23,
     "metadata": {},
     "output_type": "execute_result"
    },
    {
     "data": {
      "image/png": "[encoded data removed]",
      "text/plain": [
       "<matplotlib.figure.Figure at 0x7f3e40ae8a20>"
      ]
     },
     "metadata": {},
     "output_type": "display_data"
    }
   ],
   "source": [
    "fig, ax = plt.subplots()\n",
    "\n",
    "error = np.sqrt(data[:,2]**2 + data[:,4]**2)\n",
    "p1 = ax.bar(data[:,0], data[:,1] + data[:,3] + data[:,5], yerr=error)\n",
    "\n",
    "ax.set_ylabel('Free energy (kcal/mol)')\n",
    "ax.set_title('OA-G3 complexes')\n",
    "ax.set_xticks([0, 1, 2, 3, 4])\n",
    "ax.set_xticklabels(['G0', 'G1', 'G2', 'G3', 'G4'])"
   ]
  },
  {
   "cell_type": "code",
   "execution_count": 25,
   "metadata": {},
   "outputs": [
    {
     "data": {
      "text/plain": [
       "array([ 0.13626729,  0.12155648,  0.13402638,  0.1403968 ,  0.13028797])"
      ]
     },
     "execution_count": 25,
     "metadata": {},
     "output_type": "execute_result"
    }
   ],
   "source": [
    "error"
   ]
  },
  {
   "cell_type": "markdown",
   "metadata": {},
   "source": [
    "## Uncertainty vs. simulation time for one complex..."
   ]
  },
  {
   "cell_type": "code",
   "execution_count": 219,
   "metadata": {},
   "outputs": [
    {
     "name": "stderr",
     "output_type": "stream",
     "text": [
      "2018-04-30 09:50:05 AM attach: computing convergence for mbar-blocking\n",
      "2018-04-30 09:50:11 AM pull: computing convergence for mbar-blocking\n"
     ]
    },
    {
     "name": "stdout",
     "output_type": "stream",
     "text": [
      "2.9696296113258622 11.320310011055415\n",
      "15000 frames analyzed...\n",
      "46000 frames analyzed...\n"
     ]
    },
    {
     "name": "stderr",
     "output_type": "stream",
     "text": [
      "2018-04-30 09:50:15 AM attach: computing convergence for mbar-blocking\n",
      "2018-04-30 09:50:30 AM pull: computing convergence for mbar-blocking\n"
     ]
    },
    {
     "name": "stdout",
     "output_type": "stream",
     "text": [
      "3.009046263049317 10.536941980675913\n",
      "30000 frames analyzed...\n",
      "92000 frames analyzed...\n"
     ]
    },
    {
     "name": "stderr",
     "output_type": "stream",
     "text": [
      "2018-04-30 09:50:35 AM attach: computing convergence for mbar-blocking\n",
      "2018-04-30 09:50:57 AM pull: computing convergence for mbar-blocking\n"
     ]
    },
    {
     "name": "stdout",
     "output_type": "stream",
     "text": [
      "2.9665089439811716 10.467955371649094\n",
      "45000 frames analyzed...\n",
      "138000 frames analyzed...\n"
     ]
    },
    {
     "name": "stderr",
     "output_type": "stream",
     "text": [
      "2018-04-30 09:51:04 AM attach: computing convergence for mbar-blocking\n",
      "2018-04-30 09:51:31 AM pull: computing convergence for mbar-blocking\n"
     ]
    },
    {
     "name": "stdout",
     "output_type": "stream",
     "text": [
      "2.956085774670433 10.269031010027994\n",
      "60000 frames analyzed...\n",
      "184000 frames analyzed...\n"
     ]
    },
    {
     "name": "stderr",
     "output_type": "stream",
     "text": [
      "2018-04-30 09:51:40 AM attach: computing convergence for mbar-blocking\n",
      "2018-04-30 09:52:13 AM pull: computing convergence for mbar-blocking\n"
     ]
    },
    {
     "name": "stdout",
     "output_type": "stream",
     "text": [
      "2.9437383631905023 10.223247418832385\n",
      "75000 frames analyzed...\n",
      "230000 frames analyzed...\n"
     ]
    },
    {
     "name": "stderr",
     "output_type": "stream",
     "text": [
      "2018-04-30 09:52:23 AM attach: computing convergence for mbar-blocking\n",
      "2018-04-30 09:53:02 AM pull: computing convergence for mbar-blocking\n"
     ]
    },
    {
     "name": "stdout",
     "output_type": "stream",
     "text": [
      "2.9449730738399373 10.235369273240723\n",
      "90000 frames analyzed...\n",
      "276000 frames analyzed...\n"
     ]
    },
    {
     "name": "stderr",
     "output_type": "stream",
     "text": [
      "2018-04-30 09:53:14 AM attach: computing convergence for mbar-blocking\n",
      "2018-04-30 09:54:01 AM pull: computing convergence for mbar-blocking\n"
     ]
    },
    {
     "name": "stdout",
     "output_type": "stream",
     "text": [
      "2.9438738877969346 10.184093506934547\n",
      "105000 frames analyzed...\n",
      "322000 frames analyzed...\n"
     ]
    },
    {
     "name": "stderr",
     "output_type": "stream",
     "text": [
      "2018-04-30 09:54:16 AM attach: computing convergence for mbar-blocking\n",
      "2018-04-30 09:55:14 AM pull: computing convergence for mbar-blocking\n"
     ]
    },
    {
     "name": "stdout",
     "output_type": "stream",
     "text": [
      "2.9339033324730726 10.15971555725317\n",
      "120000 frames analyzed...\n",
      "368000 frames analyzed...\n"
     ]
    },
    {
     "name": "stderr",
     "output_type": "stream",
     "text": [
      "2018-04-30 09:55:30 AM attach: computing convergence for mbar-blocking\n",
      "2018-04-30 09:56:30 AM pull: computing convergence for mbar-blocking\n"
     ]
    },
    {
     "name": "stdout",
     "output_type": "stream",
     "text": [
      "2.9374457495927384 10.239283912291052\n",
      "135000 frames analyzed...\n",
      "414000 frames analyzed...\n"
     ]
    },
    {
     "name": "stderr",
     "output_type": "stream",
     "text": [
      "2018-04-30 09:56:44 AM attach: computing convergence for mbar-blocking\n",
      "2018-04-30 09:57:43 AM pull: computing convergence for mbar-blocking\n"
     ]
    },
    {
     "name": "stdout",
     "output_type": "stream",
     "text": [
      "2.9432500980950107 10.226869848860753\n",
      "150000 frames analyzed...\n",
      "460000 frames analyzed...\n"
     ]
    }
   ],
   "source": [
    "fractions = np.arange(0.1, 1.1, 0.1)\n",
    "data = np.zeros((len(fractions), 5))\n",
    "complx = g3_complexes[0]\n",
    "\n",
    "for fraction_index, fraction in enumerate(fractions):\n",
    "\n",
    "    traj = pt.load(os.path.join(complx, 'AMBER', 'solvate.rst7'), \n",
    "                os.path.join(complx, 'AMBER', 'solvate.prmtop'))\n",
    "\n",
    "    pull_initial = pt.distance(traj, ' '.join([dummy_anchors[0], guest_anchors[0]]))[0]\n",
    "\n",
    "    pull_distances = [float(i) + pull_initial for i in pull_string.split()]\n",
    "\n",
    "    guest_restraint_atoms = [[dummy_anchors[0], guest_anchors[0]],\n",
    "                     [dummy_anchors[1], dummy_anchors[0], guest_anchors[0]],\n",
    "                     [dummy_anchors[0], guest_anchors[0], guest_anchors[1]],\n",
    "                    ]\n",
    "\n",
    "    guest_restraint_targets = [pull_initial,\n",
    "                           180.0,\n",
    "                           180.0\n",
    "                          ]\n",
    "    guest_restraint_target_final = [pull_distances[-1], 180.0, 180.0]\n",
    "    guest_restraint_distance_fc = 5.0 # kcal/mol-A**2\n",
    "    guest_restraint_angle_fc = 100.0  # kcal/mol-rad**2\n",
    "\n",
    "    hg = pmd.load_file(os.path.join(complx, 'AMBER', 'solvate.prmtop'),\n",
    "               os.path.join(complx, 'AMBER', 'solvate.rst7'),\n",
    "               structure=True)\n",
    "\n",
    "    guest_restraints = []\n",
    "    for index, atoms in enumerate(guest_restraint_atoms): \n",
    "        if len(atoms) > 2:\n",
    "            angle = True\n",
    "        else:\n",
    "            angle = False\n",
    "        this = DAT_restraint()\n",
    "        this.auto_apr = True\n",
    "        this.amber_index = True\n",
    "        this.topology = hg\n",
    "        this.mask1 = atoms[0]\n",
    "        this.mask2 = atoms[1]\n",
    "        if angle:\n",
    "            this.mask3 = atoms[2]\n",
    "            this.attach['fc_final'] = guest_restraint_angle_fc\n",
    "        else:\n",
    "            this.attach['fc_final'] = guest_restraint_distance_fc\n",
    "        this.attach['target'] = guest_restraint_targets[index]\n",
    "        this.attach['fraction_list'] = attach_fractions\n",
    "\n",
    "        this.pull['target_final'] = guest_restraint_target_final[index]\n",
    "        this.pull['num_windows'] = windows[1]\n",
    "        this.initialize()\n",
    "\n",
    "        guest_restraints.append(this)\n",
    "\n",
    "    structure = pt.load(os.path.join(complx, 'AMBER', 'APR', 'windows', 'a000', 'solvate.rst7'), \n",
    "                   os.path.join(complx, 'AMBER', 'APR', 'windows', 'a000', 'solvate.prmtop'))\n",
    "\n",
    "    stripped = structure.strip(':WAT,:Na+,:Cl-')   \n",
    "\n",
    "    fecalc = fe_calc()\n",
    "    fecalc.prmtop = stripped.topology\n",
    "    fecalc.trajectory = 'prod.*.nc'\n",
    "    fecalc.path = os.path.join(complx, 'AMBER', 'APR','windows')\n",
    "    fecalc.restraint_list = guest_restraints\n",
    "    fecalc.collect_data(fraction=fraction)\n",
    "    fecalc.compute_free_energy()\n",
    "\n",
    "    data[fraction_index, 0] = fraction\n",
    "    data[fraction_index, 1] = fecalc.results['attach']['mbar-block']['fe']\n",
    "    data[fraction_index, 2] = fecalc.results['attach']['mbar-block']['sem']\n",
    "    data[fraction_index, 3] = fecalc.results['pull']['mbar-block']['fe']\n",
    "    data[fraction_index, 4] = fecalc.results['pull']['mbar-block']['sem']\n",
    "\n",
    "    print(f\"{fecalc.results['attach']['mbar-block']['fe']} {fecalc.results['pull']['mbar-block']['fe']}\")\n",
    "    print(f\"{fecalc.results['attach']['mbar-block']['n_frames']} frames analyzed...\")\n",
    "    print(f\"{fecalc.results['pull']['mbar-block']['n_frames']} frames analyzed...\")\n"
   ]
  },
  {
   "cell_type": "code",
   "execution_count": 220,
   "metadata": {},
   "outputs": [
    {
     "data": {
      "text/plain": [
       "[<matplotlib.axis.XTick at 0x7fa133494e10>,\n",
       " <matplotlib.axis.XTick at 0x7fa133323d30>,\n",
       " <matplotlib.axis.XTick at 0x7fa15ae40f98>,\n",
       " <matplotlib.axis.XTick at 0x7fa11cdaf3c8>,\n",
       " <matplotlib.axis.XTick at 0x7fa11cdafbe0>,\n",
       " <matplotlib.axis.XTick at 0x7fa11cdb6438>,\n",
       " <matplotlib.axis.XTick at 0x7fa11cdb6c50>,\n",
       " <matplotlib.axis.XTick at 0x7fa11cdc04a8>,\n",
       " <matplotlib.axis.XTick at 0x7fa11cdc0cc0>,\n",
       " <matplotlib.axis.XTick at 0x7fa11cdc9518>]"
      ]
     },
     "execution_count": 220,
     "metadata": {},
     "output_type": "execute_result"
    },
    {
     "data": {
      "image/png": "[encoded data removed]",
      "text/plain": [
       "<matplotlib.figure.Figure at 0x7fa13335fbe0>"
      ]
     },
     "metadata": {},
     "output_type": "display_data"
    }
   ],
   "source": [
    "fig, ax = plt.subplots()\n",
    "p1 = ax.errorbar(data[:,0], data[:,1], yerr=data[:,2], color='b')\n",
    "p2 = ax.errorbar(data[:,0], data[:,3], yerr=data[:,4], color='r')\n",
    "\n",
    "ax.set_ylabel('Free energy (kcal/mol)')\n",
    "ax.set_title('OA-G3 complexes')\n",
    "ax.set_xticks(fractions)\n",
    "# ax.set_xticklabels(['G0', 'G1', 'G2', 'G3', 'G4'])"
   ]
  },
  {
   "cell_type": "code",
   "execution_count": 223,
   "metadata": {},
   "outputs": [
    {
     "data": {
      "text/plain": [
       "<matplotlib.text.Text at 0x7fa11cca6c50>"
      ]
     },
     "execution_count": 223,
     "metadata": {},
     "output_type": "execute_result"
    },
    {
     "data": {
      "image/png": "[encoded data removed]",
      "text/plain": [
       "<matplotlib.figure.Figure at 0x7fa11cc4c9e8>"
      ]
     },
     "metadata": {},
     "output_type": "display_data"
    }
   ],
   "source": [
    "fig, ax = plt.subplots()\n",
    "p1 = ax.errorbar(data[:,0], data[:,2], color='b')\n",
    "# p2 = ax.errorbar(data[:,0], data[:,3], yerr=data[:,4], color='r')\n",
    "\n",
    "ax.set_ylabel('Attach SEM (kcal/mol)')\n",
    "ax.set_title('OA-G3 complexes')\n",
    "ax.set_xticks(fractions)\n",
    "ax.set_xlabel('Fraction of data')\n",
    "# ax.set_xticklabels(['G0', 'G1', 'G2', 'G3', 'G4'])"
   ]
  },
  {
   "cell_type": "code",
   "execution_count": 224,
   "metadata": {},
   "outputs": [
    {
     "data": {
      "text/plain": [
       "<matplotlib.text.Text at 0x7fa11cbbfb00>"
      ]
     },
     "execution_count": 224,
     "metadata": {},
     "output_type": "execute_result"
    },
    {
     "data": {
      "image/png": "[encoded data removed]",
      "text/plain": [
       "<matplotlib.figure.Figure at 0x7fa11cbde668>"
      ]
     },
     "metadata": {},
     "output_type": "display_data"
    }
   ],
   "source": [
    "fig, ax = plt.subplots()\n",
    "p1 = ax.errorbar(data[:,0], data[:,4], color='r')\n",
    "# p2 = ax.errorbar(data[:,0], data[:,3], yerr=data[:,4], color='r')\n",
    "\n",
    "ax.set_ylabel('Pull SEM (kcal/mol)')\n",
    "ax.set_title('OA-G3 complexes')\n",
    "ax.set_xticks(fractions)\n",
    "ax.set_xlabel('Fraction of data')\n",
    "# ax.set_xticklabels(['G0', 'G1', 'G2', 'G3', 'G4'])"
   ]
  },
  {
   "cell_type": "markdown",
   "metadata": {},
   "source": [
    "# OA-G6 complexes"
   ]
  },
  {
   "cell_type": "code",
   "execution_count": 158,
   "metadata": {},
   "outputs": [],
   "source": [
    "dummy_anchors = [':3', ':4', ':5']\n",
    "host_anchors  = [':1@C26', ':1@C18', ':1@C8']\n",
    "guest_anchors = [':2@C6', ':2@C1']"
   ]
  },
  {
   "cell_type": "code",
   "execution_count": 160,
   "metadata": {},
   "outputs": [],
   "source": [
    "g6_complexes = glob.glob('./OA-G6*')\n",
    "g6_data = np.zeros((len(g6_complexes), 5))"
   ]
  },
  {
   "cell_type": "code",
   "execution_count": 161,
   "metadata": {},
   "outputs": [
    {
     "name": "stdout",
     "output_type": "stream",
     "text": [
      "Set pull offset (9.98 A)\n"
     ]
    },
    {
     "name": "stderr",
     "output_type": "stream",
     "text": [
      "2018-04-26 11:43:42 AM attach: computing convergence for mbar-blocking\n",
      "2018-04-26 11:44:05 AM pull: computing convergence for mbar-blocking\n"
     ]
    },
    {
     "name": "stdout",
     "output_type": "stream",
     "text": [
      "3.8189555600631233 9.890174438747081\n",
      "Set pull offset (10.03 A)\n"
     ]
    },
    {
     "name": "stderr",
     "output_type": "stream",
     "text": [
      "2018-04-26 11:44:08 AM attach: computing convergence for mbar-blocking\n",
      "2018-04-26 11:44:22 AM pull: computing convergence for mbar-blocking\n"
     ]
    },
    {
     "name": "stdout",
     "output_type": "stream",
     "text": [
      "3.689127156789846 10.264528708327488\n",
      "Set pull offset (8.50 A)\n"
     ]
    },
    {
     "name": "stderr",
     "output_type": "stream",
     "text": [
      "2018-04-26 11:44:27 AM attach: computing convergence for mbar-blocking\n",
      "2018-04-26 11:44:48 AM pull: computing convergence for mbar-blocking\n"
     ]
    },
    {
     "name": "stdout",
     "output_type": "stream",
     "text": [
      "4.161562242846581 9.593082852942368\n",
      "Set pull offset (9.57 A)\n"
     ]
    },
    {
     "name": "stderr",
     "output_type": "stream",
     "text": [
      "2018-04-26 11:44:52 AM attach: computing convergence for mbar-blocking\n",
      "2018-04-26 11:45:04 AM pull: computing convergence for mbar-blocking\n"
     ]
    },
    {
     "name": "stdout",
     "output_type": "stream",
     "text": [
      "3.8750843494071843 9.353403006175231\n",
      "Set pull offset (9.06 A)\n"
     ]
    },
    {
     "name": "stderr",
     "output_type": "stream",
     "text": [
      "2018-04-26 11:45:08 AM attach: computing convergence for mbar-blocking\n",
      "2018-04-26 11:45:27 AM pull: computing convergence for mbar-blocking\n"
     ]
    },
    {
     "name": "stdout",
     "output_type": "stream",
     "text": [
      "4.733234482217066 9.661921351649632\n"
     ]
    }
   ],
   "source": [
    "for complex_index, complx in enumerate(sorted(g6_complexes)):\n",
    "\n",
    "    traj = pt.load(os.path.join(complx, 'AMBER', 'solvate.rst7'), \n",
    "                    os.path.join(complx, 'AMBER', 'solvate.prmtop'))\n",
    "\n",
    "    pull_initial = pt.distance(traj, ' '.join([dummy_anchors[0], guest_anchors[0]]))[0]\n",
    "\n",
    "    print(f'Set pull offset ({pull_initial:1.2f} A)')\n",
    "\n",
    "    pull_distances = [float(i) + pull_initial for i in pull_string.split()]\n",
    "\n",
    "    guest_restraint_atoms = [[dummy_anchors[0], guest_anchors[0]],\n",
    "                         [dummy_anchors[1], dummy_anchors[0], guest_anchors[0]],\n",
    "                         [dummy_anchors[0], guest_anchors[0], guest_anchors[1]],\n",
    "                        ]\n",
    "\n",
    "    guest_restraint_targets = [pull_initial,\n",
    "                               180.0,\n",
    "                               180.0\n",
    "                              ]\n",
    "    guest_restraint_target_final = [pull_distances[-1], 180.0, 180.0]\n",
    "    guest_restraint_distance_fc = 5.0 # kcal/mol-A**2\n",
    "    guest_restraint_angle_fc = 100.0  # kcal/mol-rad**2\n",
    "\n",
    "    hg = pmd.load_file(os.path.join(complx, 'AMBER', 'solvate.prmtop'),\n",
    "                   os.path.join(complx, 'AMBER', 'solvate.rst7'),\n",
    "                   structure=True)\n",
    "\n",
    "    guest_restraints = []\n",
    "    for index, atoms in enumerate(guest_restraint_atoms): \n",
    "        if len(atoms) > 2:\n",
    "            angle = True\n",
    "        else:\n",
    "            angle = False\n",
    "        this = DAT_restraint()\n",
    "        this.auto_apr = True\n",
    "        this.amber_index = True\n",
    "        this.topology = hg\n",
    "        this.mask1 = atoms[0]\n",
    "        this.mask2 = atoms[1]\n",
    "        if angle:\n",
    "            this.mask3 = atoms[2]\n",
    "            this.attach['fc_final'] = guest_restraint_angle_fc\n",
    "        else:\n",
    "            this.attach['fc_final'] = guest_restraint_distance_fc\n",
    "        this.attach['target'] = guest_restraint_targets[index]\n",
    "        this.attach['fraction_list'] = attach_fractions\n",
    "\n",
    "        this.pull['target_final'] = guest_restraint_target_final[index]\n",
    "        this.pull['num_windows'] = windows[1]\n",
    "        this.initialize()\n",
    "\n",
    "        guest_restraints.append(this)\n",
    "\n",
    "    structure = pt.load(os.path.join(complx, 'AMBER', 'APR', 'windows', 'a000', 'solvate.rst7'), \n",
    "                       os.path.join(complx, 'AMBER', 'APR', 'windows', 'a000', 'solvate.prmtop'))\n",
    "\n",
    "    stripped = structure.strip(':WAT,:Na+,:Cl-')   \n",
    "    \n",
    "    fecalc = fe_calc()\n",
    "    fecalc.prmtop = stripped.topology\n",
    "    fecalc.trajectory = 'prod.*.nc'\n",
    "    fecalc.path = os.path.join(complx, 'AMBER', 'APR','windows')\n",
    "    fecalc.restraint_list = guest_restraints\n",
    "    fecalc.collect_data()\n",
    "    fecalc.compute_free_energy()\n",
    "    \n",
    "    print(f\"{fecalc.results['attach']['mbar-block']['fe']} {fecalc.results['pull']['mbar-block']['fe']}\")\n",
    "\n",
    "    g6_data[complex_index, 0] = complex_index\n",
    "    g6_data[complex_index, 1] = fecalc.results['attach']['mbar-block']['fe']\n",
    "    g6_data[complex_index, 2] = fecalc.results['attach']['mbar-block']['sem']\n",
    "    g6_data[complex_index, 3] = fecalc.results['pull']['mbar-block']['fe']\n",
    "    g6_data[complex_index, 4] = fecalc.results['pull']['mbar-block']['sem']"
   ]
  },
  {
   "cell_type": "code",
   "execution_count": 168,
   "metadata": {},
   "outputs": [
    {
     "data": {
      "text/plain": [
       "[<matplotlib.text.Text at 0x7fa170bae198>,\n",
       " <matplotlib.text.Text at 0x7fa170bb4128>,\n",
       " <matplotlib.text.Text at 0x7fa170b1e8d0>,\n",
       " <matplotlib.text.Text at 0x7fa170b252e8>,\n",
       " <matplotlib.text.Text at 0x7fa170b25cc0>]"
      ]
     },
     "execution_count": 168,
     "metadata": {},
     "output_type": "execute_result"
    },
    {
     "data": {
      "image/png": "[encoded data removed]",
      "text/plain": [
       "<matplotlib.figure.Figure at 0x7fa170c83ba8>"
      ]
     },
     "metadata": {},
     "output_type": "display_data"
    }
   ],
   "source": [
    "fig, ax = plt.subplots()\n",
    "p1 = ax.bar(g6_data[:,0], g6_data[:,1], width=0.8, color='b', alpha=0.9, )\n",
    "\n",
    "error = np.sqrt(g6_data[:,2]**2 + g6_data[:,4]**2)\n",
    "p2 = ax.bar(g6_data[:,0], g6_data[:,3], width=0.8, bottom=g6_data[:,1], color='r', alpha=0.9, \n",
    "           yerr=2 * error)\n",
    "\n",
    "ax.set_ylabel('Free energy (kcal/mol)')\n",
    "ax.set_title('OA-G6 complexes')\n",
    "ax.set_xticks([0, 1, 2, 3, 4])\n",
    "ax.set_xticklabels(['G0', 'G1', 'G2', 'G3', 'G4'])"
   ]
  },
  {
   "cell_type": "markdown",
   "metadata": {},
   "source": [
    "## Analyze `prod.001.nc` and `prod.002.nc` in a list."
   ]
  },
  {
   "cell_type": "code",
   "execution_count": 180,
   "metadata": {},
   "outputs": [
    {
     "name": "stdout",
     "output_type": "stream",
     "text": [
      "Set pull offset (9.98 A)\n"
     ]
    },
    {
     "name": "stderr",
     "output_type": "stream",
     "text": [
      "2018-04-27 01:34:17 PM attach: computing convergence for mbar-blocking\n",
      "2018-04-27 01:34:48 PM pull: computing convergence for mbar-blocking\n"
     ]
    },
    {
     "name": "stdout",
     "output_type": "stream",
     "text": [
      "3.8144081712041347 9.792727141336831\n",
      "60000 frames analyzed...\n",
      "184000 frames analyzed...\n",
      "Set pull offset (10.03 A)\n"
     ]
    },
    {
     "name": "stderr",
     "output_type": "stream",
     "text": [
      "2018-04-27 01:34:54 PM attach: computing convergence for mbar-blocking\n",
      "2018-04-27 01:35:22 PM pull: computing convergence for mbar-blocking\n"
     ]
    },
    {
     "name": "stdout",
     "output_type": "stream",
     "text": [
      "3.6880693322220166 10.106236496389043\n",
      "60000 frames analyzed...\n",
      "184000 frames analyzed...\n",
      "Set pull offset (8.50 A)\n"
     ]
    },
    {
     "name": "stderr",
     "output_type": "stream",
     "text": [
      "2018-04-27 01:35:28 PM attach: computing convergence for mbar-blocking\n",
      "2018-04-27 01:35:59 PM pull: computing convergence for mbar-blocking\n"
     ]
    },
    {
     "name": "stdout",
     "output_type": "stream",
     "text": [
      "4.16156224284658 9.434221665443966\n",
      "60000 frames analyzed...\n",
      "184000 frames analyzed...\n",
      "Set pull offset (9.57 A)\n"
     ]
    },
    {
     "name": "stderr",
     "output_type": "stream",
     "text": [
      "2018-04-27 01:36:05 PM attach: computing convergence for mbar-blocking\n",
      "2018-04-27 01:36:39 PM pull: computing convergence for mbar-blocking\n"
     ]
    },
    {
     "name": "stdout",
     "output_type": "stream",
     "text": [
      "3.815388907644229 9.653046972038545\n",
      "60000 frames analyzed...\n",
      "184000 frames analyzed...\n",
      "Set pull offset (9.06 A)\n"
     ]
    },
    {
     "name": "stderr",
     "output_type": "stream",
     "text": [
      "2018-04-27 01:36:46 PM attach: computing convergence for mbar-blocking\n",
      "2018-04-27 01:37:18 PM pull: computing convergence for mbar-blocking\n"
     ]
    },
    {
     "name": "stdout",
     "output_type": "stream",
     "text": [
      "4.733234482217069 9.755691131773347\n",
      "60000 frames analyzed...\n",
      "184000 frames analyzed...\n"
     ]
    }
   ],
   "source": [
    "for complex_index, complx in enumerate(sorted(g6_complexes)):\n",
    "\n",
    "    traj = pt.load(os.path.join(complx, 'AMBER', 'solvate.rst7'), \n",
    "                    os.path.join(complx, 'AMBER', 'solvate.prmtop'))\n",
    "\n",
    "    pull_initial = pt.distance(traj, ' '.join([dummy_anchors[0], guest_anchors[0]]))[0]\n",
    "\n",
    "    print(f'Set pull offset ({pull_initial:1.2f} A)')\n",
    "\n",
    "    pull_distances = [float(i) + pull_initial for i in pull_string.split()]\n",
    "\n",
    "    guest_restraint_atoms = [[dummy_anchors[0], guest_anchors[0]],\n",
    "                         [dummy_anchors[1], dummy_anchors[0], guest_anchors[0]],\n",
    "                         [dummy_anchors[0], guest_anchors[0], guest_anchors[1]],\n",
    "                        ]\n",
    "\n",
    "    guest_restraint_targets = [pull_initial,\n",
    "                               180.0,\n",
    "                               180.0\n",
    "                              ]\n",
    "    guest_restraint_target_final = [pull_distances[-1], 180.0, 180.0]\n",
    "    guest_restraint_distance_fc = 5.0 # kcal/mol-A**2\n",
    "    guest_restraint_angle_fc = 100.0  # kcal/mol-rad**2\n",
    "\n",
    "    hg = pmd.load_file(os.path.join(complx, 'AMBER', 'solvate.prmtop'),\n",
    "                   os.path.join(complx, 'AMBER', 'solvate.rst7'),\n",
    "                   structure=True)\n",
    "\n",
    "    guest_restraints = []\n",
    "    for index, atoms in enumerate(guest_restraint_atoms): \n",
    "        if len(atoms) > 2:\n",
    "            angle = True\n",
    "        else:\n",
    "            angle = False\n",
    "        this = DAT_restraint()\n",
    "        this.auto_apr = True\n",
    "        this.amber_index = True\n",
    "        this.topology = hg\n",
    "        this.mask1 = atoms[0]\n",
    "        this.mask2 = atoms[1]\n",
    "        if angle:\n",
    "            this.mask3 = atoms[2]\n",
    "            this.attach['fc_final'] = guest_restraint_angle_fc\n",
    "        else:\n",
    "            this.attach['fc_final'] = guest_restraint_distance_fc\n",
    "        this.attach['target'] = guest_restraint_targets[index]\n",
    "        this.attach['fraction_list'] = attach_fractions\n",
    "\n",
    "        this.pull['target_final'] = guest_restraint_target_final[index]\n",
    "        this.pull['num_windows'] = windows[1]\n",
    "        this.initialize()\n",
    "\n",
    "        guest_restraints.append(this)\n",
    "\n",
    "    structure = pt.load(os.path.join(complx, 'AMBER', 'APR', 'windows', 'a000', 'solvate.rst7'), \n",
    "                       os.path.join(complx, 'AMBER', 'APR', 'windows', 'a000', 'solvate.prmtop'))\n",
    "\n",
    "    stripped = structure.strip(':WAT,:Na+,:Cl-')   \n",
    "    \n",
    "    fecalc = fe_calc()\n",
    "    fecalc.prmtop = stripped.topology\n",
    "    fecalc.trajectory = ['prod.001.nc', 'prod.002.nc']\n",
    "    fecalc.path = os.path.join(complx, 'AMBER', 'APR','windows')\n",
    "    fecalc.restraint_list = guest_restraints\n",
    "    fecalc.collect_data()\n",
    "    fecalc.compute_free_energy()\n",
    "    \n",
    "    print(f\"{fecalc.results['attach']['mbar-block']['fe']} {fecalc.results['pull']['mbar-block']['fe']}\")\n",
    "    print(f\"{fecalc.results['attach']['mbar-block']['n_frames']} frames analyzed...\")\n",
    "    print(f\"{fecalc.results['pull']['mbar-block']['n_frames']} frames analyzed...\")\n",
    "    g6_data[complex_index, 0] = complex_index\n",
    "    g6_data[complex_index, 1] = fecalc.results['attach']['mbar-block']['fe']\n",
    "    g6_data[complex_index, 2] = fecalc.results['attach']['mbar-block']['sem']\n",
    "    g6_data[complex_index, 3] = fecalc.results['pull']['mbar-block']['fe']\n",
    "    g6_data[complex_index, 4] = fecalc.results['pull']['mbar-block']['sem']"
   ]
  },
  {
   "cell_type": "code",
   "execution_count": null,
   "metadata": {},
   "outputs": [],
   "source": []
  },
  {
   "cell_type": "code",
   "execution_count": 181,
   "metadata": {},
   "outputs": [
    {
     "data": {
      "text/plain": [
       "[<matplotlib.text.Text at 0x7fa1496ecc50>,\n",
       " <matplotlib.text.Text at 0x7fa1496dd7b8>,\n",
       " <matplotlib.text.Text at 0x7fa14963c208>,\n",
       " <matplotlib.text.Text at 0x7fa14963ca20>,\n",
       " <matplotlib.text.Text at 0x7fa149643278>]"
      ]
     },
     "execution_count": 181,
     "metadata": {},
     "output_type": "execute_result"
    },
    {
     "data": {
      "image/png": "[encoded data removed]",
      "text/plain": [
       "<matplotlib.figure.Figure at 0x7fa155ac9cf8>"
      ]
     },
     "metadata": {},
     "output_type": "display_data"
    }
   ],
   "source": [
    "fig, ax = plt.subplots()\n",
    "p1 = ax.bar(g6_data[:,0], g6_data[:,1], width=0.8, color='b', alpha=0.9, )\n",
    "\n",
    "error = np.sqrt(g6_data[:,2]**2 + g6_data[:,4]**2)\n",
    "p2 = ax.bar(g6_data[:,0], g6_data[:,3], width=0.8, bottom=g6_data[:,1], color='r', alpha=0.9, \n",
    "           yerr=2 * error)\n",
    "\n",
    "ax.set_ylabel('Free energy (kcal/mol)')\n",
    "ax.set_title('OA-G6 complexes')\n",
    "ax.set_xticks([0, 1, 2, 3, 4])\n",
    "ax.set_xticklabels(['G0', 'G1', 'G2', 'G3', 'G4'])"
   ]
  },
  {
   "cell_type": "code",
   "execution_count": 185,
   "metadata": {},
   "outputs": [
    {
     "data": {
      "text/plain": [
       "array([ 3.81440817,  3.68806933,  4.16156224,  3.81538891,  4.73323448])"
      ]
     },
     "execution_count": 185,
     "metadata": {},
     "output_type": "execute_result"
    }
   ],
   "source": [
    "g6_data[:,1]"
   ]
  },
  {
   "cell_type": "code",
   "execution_count": 186,
   "metadata": {},
   "outputs": [
    {
     "data": {
      "text/plain": [
       "array([ 0.03802161,  0.03725589,  0.05088507,  0.0435127 ,  0.07013826])"
      ]
     },
     "execution_count": 186,
     "metadata": {},
     "output_type": "execute_result"
    }
   ],
   "source": [
    "g6_data[:,2]"
   ]
  },
  {
   "cell_type": "markdown",
   "metadata": {},
   "source": [
    "## Analyze everything..."
   ]
  },
  {
   "cell_type": "code",
   "execution_count": 187,
   "metadata": {},
   "outputs": [
    {
     "name": "stdout",
     "output_type": "stream",
     "text": [
      "Set pull offset (9.98 A)\n"
     ]
    },
    {
     "name": "stderr",
     "output_type": "stream",
     "text": [
      "2018-04-29 04:39:48 PM attach: computing convergence for mbar-blocking\n",
      "2018-04-29 04:40:55 PM pull: computing convergence for mbar-blocking\n"
     ]
    },
    {
     "name": "stdout",
     "output_type": "stream",
     "text": [
      "3.7342437454220057 9.538067828793393\n",
      "150000 frames analyzed...\n",
      "460000 frames analyzed...\n",
      "Set pull offset (10.03 A)\n"
     ]
    },
    {
     "name": "stderr",
     "output_type": "stream",
     "text": [
      "2018-04-29 04:41:11 PM attach: computing convergence for mbar-blocking\n",
      "2018-04-29 04:42:13 PM pull: computing convergence for mbar-blocking\n"
     ]
    },
    {
     "name": "stdout",
     "output_type": "stream",
     "text": [
      "3.6890297580159297 10.036524165039754\n",
      "150000 frames analyzed...\n",
      "460000 frames analyzed...\n",
      "Set pull offset (8.50 A)\n"
     ]
    },
    {
     "name": "stderr",
     "output_type": "stream",
     "text": [
      "2018-04-29 04:42:29 PM attach: computing convergence for mbar-blocking\n",
      "2018-04-29 04:43:33 PM pull: computing convergence for mbar-blocking\n"
     ]
    },
    {
     "name": "stdout",
     "output_type": "stream",
     "text": [
      "4.092410498085889 9.375414027509619\n",
      "150000 frames analyzed...\n",
      "460000 frames analyzed...\n",
      "Set pull offset (9.57 A)\n"
     ]
    },
    {
     "name": "stderr",
     "output_type": "stream",
     "text": [
      "2018-04-29 04:43:50 PM attach: computing convergence for mbar-blocking\n",
      "2018-04-29 04:44:33 PM pull: computing convergence for mbar-blocking\n"
     ]
    },
    {
     "name": "stdout",
     "output_type": "stream",
     "text": [
      "3.7804344475813267 10.016821959941415\n",
      "150000 frames analyzed...\n",
      "288165 frames analyzed...\n",
      "Set pull offset (9.06 A)\n"
     ]
    },
    {
     "name": "stderr",
     "output_type": "stream",
     "text": [
      "2018-04-29 04:44:46 PM attach: computing convergence for mbar-blocking\n",
      "2018-04-29 04:45:14 PM pull: computing convergence for mbar-blocking\n"
     ]
    },
    {
     "name": "stdout",
     "output_type": "stream",
     "text": [
      "4.7332344822170676 9.75569113177313\n",
      "60000 frames analyzed...\n",
      "184000 frames analyzed...\n"
     ]
    }
   ],
   "source": [
    "for complex_index, complx in enumerate(sorted(g6_complexes)):\n",
    "\n",
    "    traj = pt.load(os.path.join(complx, 'AMBER', 'solvate.rst7'), \n",
    "                    os.path.join(complx, 'AMBER', 'solvate.prmtop'))\n",
    "\n",
    "    pull_initial = pt.distance(traj, ' '.join([dummy_anchors[0], guest_anchors[0]]))[0]\n",
    "\n",
    "    print(f'Set pull offset ({pull_initial:1.2f} A)')\n",
    "\n",
    "    pull_distances = [float(i) + pull_initial for i in pull_string.split()]\n",
    "\n",
    "    guest_restraint_atoms = [[dummy_anchors[0], guest_anchors[0]],\n",
    "                         [dummy_anchors[1], dummy_anchors[0], guest_anchors[0]],\n",
    "                         [dummy_anchors[0], guest_anchors[0], guest_anchors[1]],\n",
    "                        ]\n",
    "\n",
    "    guest_restraint_targets = [pull_initial,\n",
    "                               180.0,\n",
    "                               180.0\n",
    "                              ]\n",
    "    guest_restraint_target_final = [pull_distances[-1], 180.0, 180.0]\n",
    "    guest_restraint_distance_fc = 5.0 # kcal/mol-A**2\n",
    "    guest_restraint_angle_fc = 100.0  # kcal/mol-rad**2\n",
    "\n",
    "    hg = pmd.load_file(os.path.join(complx, 'AMBER', 'solvate.prmtop'),\n",
    "                   os.path.join(complx, 'AMBER', 'solvate.rst7'),\n",
    "                   structure=True)\n",
    "\n",
    "    guest_restraints = []\n",
    "    for index, atoms in enumerate(guest_restraint_atoms): \n",
    "        if len(atoms) > 2:\n",
    "            angle = True\n",
    "        else:\n",
    "            angle = False\n",
    "        this = DAT_restraint()\n",
    "        this.auto_apr = True\n",
    "        this.amber_index = True\n",
    "        this.topology = hg\n",
    "        this.mask1 = atoms[0]\n",
    "        this.mask2 = atoms[1]\n",
    "        if angle:\n",
    "            this.mask3 = atoms[2]\n",
    "            this.attach['fc_final'] = guest_restraint_angle_fc\n",
    "        else:\n",
    "            this.attach['fc_final'] = guest_restraint_distance_fc\n",
    "        this.attach['target'] = guest_restraint_targets[index]\n",
    "        this.attach['fraction_list'] = attach_fractions\n",
    "\n",
    "        this.pull['target_final'] = guest_restraint_target_final[index]\n",
    "        this.pull['num_windows'] = windows[1]\n",
    "        this.initialize()\n",
    "\n",
    "        guest_restraints.append(this)\n",
    "\n",
    "    structure = pt.load(os.path.join(complx, 'AMBER', 'APR', 'windows', 'a000', 'solvate.rst7'), \n",
    "                       os.path.join(complx, 'AMBER', 'APR', 'windows', 'a000', 'solvate.prmtop'))\n",
    "\n",
    "    stripped = structure.strip(':WAT,:Na+,:Cl-')   \n",
    "    \n",
    "    fecalc = fe_calc()\n",
    "    fecalc.prmtop = stripped.topology\n",
    "    fecalc.trajectory = 'prod*.nc'\n",
    "    fecalc.path = os.path.join(complx, 'AMBER', 'APR','windows')\n",
    "    fecalc.restraint_list = guest_restraints\n",
    "    fecalc.collect_data()\n",
    "    fecalc.compute_free_energy()\n",
    "    \n",
    "    print(f\"{fecalc.results['attach']['mbar-block']['fe']} {fecalc.results['pull']['mbar-block']['fe']}\")\n",
    "    print(f\"{fecalc.results['attach']['mbar-block']['n_frames']} frames analyzed...\")\n",
    "    print(f\"{fecalc.results['pull']['mbar-block']['n_frames']} frames analyzed...\")\n",
    "    g6_data[complex_index, 0] = complex_index\n",
    "    g6_data[complex_index, 1] = fecalc.results['attach']['mbar-block']['fe']\n",
    "    g6_data[complex_index, 2] = fecalc.results['attach']['mbar-block']['sem']\n",
    "    g6_data[complex_index, 3] = fecalc.results['pull']['mbar-block']['fe']\n",
    "    g6_data[complex_index, 4] = fecalc.results['pull']['mbar-block']['sem']"
   ]
  },
  {
   "cell_type": "code",
   "execution_count": 188,
   "metadata": {},
   "outputs": [
    {
     "data": {
      "text/plain": [
       "[<matplotlib.text.Text at 0x7fa13bf4a7f0>,\n",
       " <matplotlib.text.Text at 0x7fa1496063c8>,\n",
       " <matplotlib.text.Text at 0x7fa1433c5940>,\n",
       " <matplotlib.text.Text at 0x7fa1433cd198>,\n",
       " <matplotlib.text.Text at 0x7fa1433cd9b0>]"
      ]
     },
     "execution_count": 188,
     "metadata": {},
     "output_type": "execute_result"
    },
    {
     "data": {
      "image/png": "[encoded data removed]",
      "text/plain": [
       "<matplotlib.figure.Figure at 0x7fa1496aada0>"
      ]
     },
     "metadata": {},
     "output_type": "display_data"
    }
   ],
   "source": [
    "fig, ax = plt.subplots()\n",
    "p1 = ax.bar(g6_data[:,0], g6_data[:,1], width=0.8, color='b', alpha=0.9, )\n",
    "\n",
    "error = np.sqrt(g6_data[:,2]**2 + g6_data[:,4]**2)\n",
    "p2 = ax.bar(g6_data[:,0], g6_data[:,3], width=0.8, bottom=g6_data[:,1], color='r', alpha=0.9, \n",
    "           yerr=2 * error)\n",
    "\n",
    "ax.set_ylabel('Free energy (kcal/mol)')\n",
    "ax.set_title('OA-G6 complexes')\n",
    "ax.set_xticks([0, 1, 2, 3, 4])\n",
    "ax.set_xticklabels(['G0', 'G1', 'G2', 'G3', 'G4'])"
   ]
  },
  {
   "cell_type": "code",
   "execution_count": null,
   "metadata": {},
   "outputs": [],
   "source": []
  }
 ],
 "metadata": {
  "kernelspec": {
   "display_name": "Python [default]",
   "language": "python",
   "name": "python3"
  },
  "language_info": {
   "codemirror_mode": {
    "name": "ipython",
    "version": 3
   },
   "file_extension": ".py",
   "mimetype": "text/x-python",
   "name": "python",
   "nbconvert_exporter": "python",
   "pygments_lexer": "ipython3",
   "version": "3.6.4"
  }
 },
 "nbformat": 4,
 "nbformat_minor": 2
}
