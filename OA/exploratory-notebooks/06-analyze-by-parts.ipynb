{
 "cells": [
  {
   "cell_type": "code",
   "execution_count": 16,
   "metadata": {},
   "outputs": [
    {
     "name": "stdout",
     "output_type": "stream",
     "text": [
      "2018-04-23_16:10:29_-0700-e34840d-0.0.3\n"
     ]
    }
   ],
   "source": [
    "import matplotlib.pyplot as plt\n",
    "import os as os\n",
    "import sys as sys\n",
    "import glob as glob\n",
    "import re as re\n",
    "import numpy as np\n",
    "import shutil as shutil\n",
    "\n",
    "import paprika\n",
    "print(paprika.__version__)\n",
    "\n",
    "from paprika.analysis import fe_calc\n",
    "from paprika.restraints import DAT_restraint\n",
    "\n",
    "import pytraj as pt\n",
    "import parmed as pmd"
   ]
  },
  {
   "cell_type": "code",
   "execution_count": 17,
   "metadata": {},
   "outputs": [
    {
     "name": "stderr",
     "output_type": "stream",
     "text": [
      "2018-04-25 10:49:17 AM Started logging...\n"
     ]
    }
   ],
   "source": [
    "import logging\n",
    "from importlib import reload\n",
    "reload(logging)\n",
    "\n",
    "logging.basicConfig(format='%(asctime)s %(message)s', datefmt='%Y-%m-%d %I:%M:%S %p',\n",
    "                    level=logging.DEBUG)\n",
    "logging.info('Started logging...')"
   ]
  },
  {
   "cell_type": "code",
   "execution_count": 18,
   "metadata": {},
   "outputs": [],
   "source": [
    "dummy_anchors = [':3', ':4', ':5']\n",
    "host_anchors  = [':1@C26', ':1@C18', ':1@C8']\n",
    "guest_anchors = [':2@C6', ':2@C1']"
   ]
  },
  {
   "cell_type": "code",
   "execution_count": 19,
   "metadata": {},
   "outputs": [],
   "source": [
    "attach_string = '0.00 0.40 0.80 1.60 2.40 4.00 5.50 8.65 11.80 ' \\\n",
    "                '18.10 24.40 37.00 49.60 74.80 100.00'\n",
    "attach_fractions = [float(i) / 100 for i in attach_string.split()]\n",
    "\n",
    "pull_string = '0.00 0.40 0.80 1.20 1.60 2.00 2.40 2.80 3.20 3.60 4.00 ' \\\n",
    "              '4.40 4.80 5.20 5.60 6.00 6.40 6.80 7.20 7.60 8.00 8.40 ' \\\n",
    "              '8.80 9.20 9.60 10.00 10.40 10.80 11.20 11.60 12.00 12.40 ' \\\n",
    "              '12.80 13.20 13.60 14.00 14.40 14.80 15.20 15.60 16.00 16.40 ' \\\n",
    "              '16.80 17.20 17.60 18.00'\n",
    "\n",
    "windows = [len(attach_fractions), len(pull_string.split()), 0]"
   ]
  },
  {
   "cell_type": "code",
   "execution_count": 20,
   "metadata": {},
   "outputs": [],
   "source": [
    "g6_complexes = glob.glob('./OA-G6*')"
   ]
  },
  {
   "cell_type": "code",
   "execution_count": 21,
   "metadata": {},
   "outputs": [],
   "source": [
    "paths = glob.glob(os.path.normpath(os.path.join('./OA-G6-0', 'AMBER', 'APR', 'windows', '*')))"
   ]
  },
  {
   "cell_type": "code",
   "execution_count": 22,
   "metadata": {},
   "outputs": [],
   "source": [
    "window_list = [os.path.basename(i) for i in paths]\n",
    "phase_dict = {'a': 'attach', 'p': 'pull', 'r': 'release'}"
   ]
  },
  {
   "cell_type": "code",
   "execution_count": 23,
   "metadata": {},
   "outputs": [],
   "source": [
    "complx = g6_complexes[0]"
   ]
  },
  {
   "cell_type": "code",
   "execution_count": 24,
   "metadata": {},
   "outputs": [
    {
     "name": "stdout",
     "output_type": "stream",
     "text": [
      "Set pull offset (9.98 A)\n"
     ]
    },
    {
     "name": "stderr",
     "output_type": "stream",
     "text": [
      "2018-04-25 10:49:19 AM Calculating attach targets and force constants...\n",
      "2018-04-25 10:49:19 AM Attach, Method #3\n",
      "2018-04-25 10:49:19 AM Calculating pull targets and force constants...\n",
      "2018-04-25 10:49:19 AM Pull, Method #1\n",
      "2018-04-25 10:49:19 AM Calculating release targets and force constants...\n",
      "2018-04-25 10:49:19 AM No restraint info set for the release phase! Skipping...\n",
      "2018-04-25 10:49:19 AM Number of attach windows = 15\n",
      "2018-04-25 10:49:19 AM Number of pull windows = 46\n",
      "2018-04-25 10:49:19 AM This restraint will be skipped in the release phase\n",
      "2018-04-25 10:49:19 AM Assigning atom indices...\n",
      "2018-04-25 10:49:19 AM There are 1 atoms in the mask :3  ...\n",
      "2018-04-25 10:49:19 AM There are 1 atoms in the mask :2@C6  ...\n",
      "2018-04-25 10:49:19 AM Calculating attach targets and force constants...\n",
      "2018-04-25 10:49:19 AM Attach, Method #3\n",
      "2018-04-25 10:49:19 AM Calculating pull targets and force constants...\n",
      "2018-04-25 10:49:19 AM Pull, Method #1\n",
      "2018-04-25 10:49:19 AM Calculating release targets and force constants...\n",
      "2018-04-25 10:49:19 AM No restraint info set for the release phase! Skipping...\n",
      "2018-04-25 10:49:19 AM Number of attach windows = 15\n",
      "2018-04-25 10:49:19 AM Number of pull windows = 46\n",
      "2018-04-25 10:49:19 AM This restraint will be skipped in the release phase\n",
      "2018-04-25 10:49:19 AM Assigning atom indices...\n",
      "2018-04-25 10:49:19 AM There are 1 atoms in the mask :4  ...\n",
      "2018-04-25 10:49:19 AM There are 1 atoms in the mask :3  ...\n",
      "2018-04-25 10:49:19 AM There are 1 atoms in the mask :2@C6  ...\n",
      "2018-04-25 10:49:19 AM Calculating attach targets and force constants...\n",
      "2018-04-25 10:49:19 AM Attach, Method #3\n",
      "2018-04-25 10:49:19 AM Calculating pull targets and force constants...\n",
      "2018-04-25 10:49:19 AM Pull, Method #1\n",
      "2018-04-25 10:49:19 AM Calculating release targets and force constants...\n",
      "2018-04-25 10:49:19 AM No restraint info set for the release phase! Skipping...\n",
      "2018-04-25 10:49:19 AM Number of attach windows = 15\n",
      "2018-04-25 10:49:19 AM Number of pull windows = 46\n",
      "2018-04-25 10:49:19 AM This restraint will be skipped in the release phase\n",
      "2018-04-25 10:49:19 AM Assigning atom indices...\n",
      "2018-04-25 10:49:19 AM There are 1 atoms in the mask :3  ...\n",
      "2018-04-25 10:49:19 AM There are 1 atoms in the mask :2@C6  ...\n",
      "2018-04-25 10:49:19 AM There are 1 atoms in the mask :2@C1  ...\n"
     ]
    }
   ],
   "source": [
    "traj = pt.load(os.path.join(complx, 'AMBER', 'solvate.rst7'), \n",
    "                os.path.join(complx, 'AMBER', 'solvate.prmtop'))\n",
    "\n",
    "pull_initial = pt.distance(traj, ' '.join([dummy_anchors[0], guest_anchors[0]]))[0]\n",
    "\n",
    "print(f'Set pull offset ({pull_initial:1.2f} A)')\n",
    "\n",
    "pull_distances = [float(i) + pull_initial for i in pull_string.split()]\n",
    "\n",
    "guest_restraint_atoms = [[dummy_anchors[0], guest_anchors[0]],\n",
    "                     [dummy_anchors[1], dummy_anchors[0], guest_anchors[0]],\n",
    "                     [dummy_anchors[0], guest_anchors[0], guest_anchors[1]],\n",
    "                    ]\n",
    "\n",
    "guest_restraint_targets = [pull_initial,\n",
    "                           180.0,\n",
    "                           180.0\n",
    "                          ]\n",
    "guest_restraint_target_final = [pull_distances[-1], 180.0, 180.0]\n",
    "guest_restraint_distance_fc = 5.0 # kcal/mol-A**2\n",
    "guest_restraint_angle_fc = 100.0  # kcal/mol-rad**2\n",
    "\n",
    "hg = pmd.load_file(os.path.join(complx, 'AMBER', 'solvate.prmtop'),\n",
    "               os.path.join(complx, 'AMBER', 'solvate.rst7'),\n",
    "               structure=True)\n",
    "\n",
    "guest_restraints = []\n",
    "for index, atoms in enumerate(guest_restraint_atoms): \n",
    "    if len(atoms) > 2:\n",
    "        angle = True\n",
    "    else:\n",
    "        angle = False\n",
    "    this = DAT_restraint()\n",
    "    this.auto_apr = True\n",
    "    this.amber_index = True\n",
    "    this.topology = hg\n",
    "    this.mask1 = atoms[0]\n",
    "    this.mask2 = atoms[1]\n",
    "    if angle:\n",
    "        this.mask3 = atoms[2]\n",
    "        this.attach['fc_final'] = guest_restraint_angle_fc\n",
    "    else:\n",
    "        this.attach['fc_final'] = guest_restraint_distance_fc\n",
    "    this.attach['target'] = guest_restraint_targets[index]\n",
    "    this.attach['fraction_list'] = attach_fractions\n",
    "\n",
    "    this.pull['target_final'] = guest_restraint_target_final[index]\n",
    "    this.pull['num_windows'] = windows[1]\n",
    "    this.initialize()\n",
    "\n",
    "    guest_restraints.append(this)\n",
    "\n",
    "structure = pt.load(os.path.join(complx, 'AMBER', 'APR', 'windows', 'a000', 'solvate.rst7'), \n",
    "                   os.path.join(complx, 'AMBER', 'APR', 'windows', 'a000', 'solvate.prmtop'))\n",
    "\n",
    "stripped = structure.strip(':WAT,:Na+,:Cl-')"
   ]
  },
  {
   "cell_type": "code",
   "execution_count": 26,
   "metadata": {},
   "outputs": [
    {
     "name": "stderr",
     "output_type": "stream",
     "text": [
      "2018-04-25 10:49:48 AM Replacing ./OA-G6-0/AMBER/APR/windows/a014 with ./OA-G6-0/AMBER/APR/windows/p000 in ['./OA-G6-0/AMBER/APR/windows/a000', './OA-G6-0/AMBER/APR/windows/a001', './OA-G6-0/AMBER/APR/windows/a002', './OA-G6-0/AMBER/APR/windows/a003', './OA-G6-0/AMBER/APR/windows/a004', './OA-G6-0/AMBER/APR/windows/a005', './OA-G6-0/AMBER/APR/windows/a006', './OA-G6-0/AMBER/APR/windows/a007', './OA-G6-0/AMBER/APR/windows/a008', './OA-G6-0/AMBER/APR/windows/a009', './OA-G6-0/AMBER/APR/windows/a010', './OA-G6-0/AMBER/APR/windows/a011', './OA-G6-0/AMBER/APR/windows/a012', './OA-G6-0/AMBER/APR/windows/a013', './OA-G6-0/AMBER/APR/windows/a014'] for `continuous_apr`...\n",
      "2018-04-25 10:49:48 AM Reading restraint data for ./OA-G6-0/AMBER/APR/windows/a000...\n",
      "2018-04-25 10:49:48 AM Reading restraint data for ./OA-G6-0/AMBER/APR/windows/a000...\n",
      "2018-04-25 10:49:48 AM Reading restraint data for ./OA-G6-0/AMBER/APR/windows/a000...\n",
      "2018-04-25 10:49:48 AM Reading restraint data for ./OA-G6-0/AMBER/APR/windows/a001...\n",
      "2018-04-25 10:49:48 AM Reading restraint data for ./OA-G6-0/AMBER/APR/windows/a001...\n",
      "2018-04-25 10:49:48 AM Reading restraint data for ./OA-G6-0/AMBER/APR/windows/a001...\n",
      "2018-04-25 10:49:48 AM Reading restraint data for ./OA-G6-0/AMBER/APR/windows/a002...\n",
      "2018-04-25 10:49:48 AM Reading restraint data for ./OA-G6-0/AMBER/APR/windows/a002...\n",
      "2018-04-25 10:49:48 AM Reading restraint data for ./OA-G6-0/AMBER/APR/windows/a002...\n",
      "2018-04-25 10:49:48 AM Reading restraint data for ./OA-G6-0/AMBER/APR/windows/a003...\n",
      "2018-04-25 10:49:48 AM Reading restraint data for ./OA-G6-0/AMBER/APR/windows/a003...\n",
      "2018-04-25 10:49:48 AM Reading restraint data for ./OA-G6-0/AMBER/APR/windows/a003...\n",
      "2018-04-25 10:49:48 AM Reading restraint data for ./OA-G6-0/AMBER/APR/windows/a004...\n",
      "2018-04-25 10:49:48 AM Reading restraint data for ./OA-G6-0/AMBER/APR/windows/a004...\n",
      "2018-04-25 10:49:48 AM Reading restraint data for ./OA-G6-0/AMBER/APR/windows/a004...\n",
      "2018-04-25 10:49:48 AM Reading restraint data for ./OA-G6-0/AMBER/APR/windows/a005...\n",
      "2018-04-25 10:49:48 AM Reading restraint data for ./OA-G6-0/AMBER/APR/windows/a005...\n",
      "2018-04-25 10:49:49 AM Reading restraint data for ./OA-G6-0/AMBER/APR/windows/a005...\n",
      "2018-04-25 10:49:49 AM Reading restraint data for ./OA-G6-0/AMBER/APR/windows/a006...\n",
      "2018-04-25 10:49:49 AM Reading restraint data for ./OA-G6-0/AMBER/APR/windows/a006...\n",
      "2018-04-25 10:49:49 AM Reading restraint data for ./OA-G6-0/AMBER/APR/windows/a006...\n",
      "2018-04-25 10:49:49 AM Reading restraint data for ./OA-G6-0/AMBER/APR/windows/a007...\n",
      "2018-04-25 10:49:49 AM Reading restraint data for ./OA-G6-0/AMBER/APR/windows/a007...\n",
      "2018-04-25 10:49:49 AM Reading restraint data for ./OA-G6-0/AMBER/APR/windows/a007...\n",
      "2018-04-25 10:49:49 AM Reading restraint data for ./OA-G6-0/AMBER/APR/windows/a008...\n",
      "2018-04-25 10:49:49 AM Reading restraint data for ./OA-G6-0/AMBER/APR/windows/a008...\n",
      "2018-04-25 10:49:49 AM Reading restraint data for ./OA-G6-0/AMBER/APR/windows/a008...\n",
      "2018-04-25 10:49:49 AM Reading restraint data for ./OA-G6-0/AMBER/APR/windows/a009...\n",
      "2018-04-25 10:49:49 AM Reading restraint data for ./OA-G6-0/AMBER/APR/windows/a009...\n",
      "2018-04-25 10:49:49 AM Reading restraint data for ./OA-G6-0/AMBER/APR/windows/a009...\n",
      "2018-04-25 10:49:49 AM Reading restraint data for ./OA-G6-0/AMBER/APR/windows/a010...\n",
      "2018-04-25 10:49:49 AM Reading restraint data for ./OA-G6-0/AMBER/APR/windows/a010...\n",
      "2018-04-25 10:49:49 AM Reading restraint data for ./OA-G6-0/AMBER/APR/windows/a010...\n",
      "2018-04-25 10:49:49 AM Reading restraint data for ./OA-G6-0/AMBER/APR/windows/a011...\n",
      "2018-04-25 10:49:49 AM Reading restraint data for ./OA-G6-0/AMBER/APR/windows/a011...\n",
      "2018-04-25 10:49:49 AM Reading restraint data for ./OA-G6-0/AMBER/APR/windows/a011...\n",
      "2018-04-25 10:49:49 AM Reading restraint data for ./OA-G6-0/AMBER/APR/windows/a012...\n",
      "2018-04-25 10:49:49 AM Reading restraint data for ./OA-G6-0/AMBER/APR/windows/a012...\n",
      "2018-04-25 10:49:49 AM Reading restraint data for ./OA-G6-0/AMBER/APR/windows/a012...\n",
      "2018-04-25 10:49:49 AM Reading restraint data for ./OA-G6-0/AMBER/APR/windows/a013...\n",
      "2018-04-25 10:49:49 AM Reading restraint data for ./OA-G6-0/AMBER/APR/windows/a013...\n",
      "2018-04-25 10:49:49 AM Reading restraint data for ./OA-G6-0/AMBER/APR/windows/a013...\n",
      "2018-04-25 10:49:49 AM Reading restraint data for ./OA-G6-0/AMBER/APR/windows/p000...\n",
      "2018-04-25 10:49:49 AM Reading restraint data for ./OA-G6-0/AMBER/APR/windows/p000...\n",
      "2018-04-25 10:49:49 AM Reading restraint data for ./OA-G6-0/AMBER/APR/windows/p000...\n",
      "2018-04-25 10:49:49 AM Reading restraint data for ./OA-G6-0/AMBER/APR/windows/p000...\n",
      "2018-04-25 10:49:49 AM Reading restraint data for ./OA-G6-0/AMBER/APR/windows/p001...\n",
      "2018-04-25 10:49:49 AM Reading restraint data for ./OA-G6-0/AMBER/APR/windows/p002...\n",
      "2018-04-25 10:49:49 AM Reading restraint data for ./OA-G6-0/AMBER/APR/windows/p003...\n",
      "2018-04-25 10:49:49 AM Reading restraint data for ./OA-G6-0/AMBER/APR/windows/p004...\n",
      "2018-04-25 10:49:49 AM Reading restraint data for ./OA-G6-0/AMBER/APR/windows/p005...\n",
      "2018-04-25 10:49:49 AM Reading restraint data for ./OA-G6-0/AMBER/APR/windows/p006...\n",
      "2018-04-25 10:49:49 AM Reading restraint data for ./OA-G6-0/AMBER/APR/windows/p007...\n",
      "2018-04-25 10:49:49 AM Reading restraint data for ./OA-G6-0/AMBER/APR/windows/p008...\n",
      "2018-04-25 10:49:49 AM Reading restraint data for ./OA-G6-0/AMBER/APR/windows/p009...\n",
      "2018-04-25 10:49:49 AM Reading restraint data for ./OA-G6-0/AMBER/APR/windows/p010...\n",
      "2018-04-25 10:49:50 AM Reading restraint data for ./OA-G6-0/AMBER/APR/windows/p011...\n",
      "2018-04-25 10:49:50 AM Reading restraint data for ./OA-G6-0/AMBER/APR/windows/p012...\n",
      "2018-04-25 10:49:50 AM Reading restraint data for ./OA-G6-0/AMBER/APR/windows/p013...\n",
      "2018-04-25 10:49:50 AM Reading restraint data for ./OA-G6-0/AMBER/APR/windows/p014...\n",
      "2018-04-25 10:49:50 AM Reading restraint data for ./OA-G6-0/AMBER/APR/windows/p015...\n",
      "2018-04-25 10:49:50 AM Reading restraint data for ./OA-G6-0/AMBER/APR/windows/p016...\n",
      "2018-04-25 10:49:50 AM Reading restraint data for ./OA-G6-0/AMBER/APR/windows/p017...\n",
      "2018-04-25 10:49:50 AM Reading restraint data for ./OA-G6-0/AMBER/APR/windows/p018...\n",
      "2018-04-25 10:49:50 AM Reading restraint data for ./OA-G6-0/AMBER/APR/windows/p019...\n",
      "2018-04-25 10:49:50 AM Reading restraint data for ./OA-G6-0/AMBER/APR/windows/p020...\n",
      "2018-04-25 10:49:50 AM Reading restraint data for ./OA-G6-0/AMBER/APR/windows/p021...\n",
      "2018-04-25 10:49:50 AM Reading restraint data for ./OA-G6-0/AMBER/APR/windows/p022...\n",
      "2018-04-25 10:49:50 AM Reading restraint data for ./OA-G6-0/AMBER/APR/windows/p023...\n",
      "2018-04-25 10:49:50 AM Reading restraint data for ./OA-G6-0/AMBER/APR/windows/p024...\n",
      "2018-04-25 10:49:50 AM Reading restraint data for ./OA-G6-0/AMBER/APR/windows/p025...\n",
      "2018-04-25 10:49:50 AM Reading restraint data for ./OA-G6-0/AMBER/APR/windows/p026...\n",
      "2018-04-25 10:49:50 AM Reading restraint data for ./OA-G6-0/AMBER/APR/windows/p027...\n",
      "2018-04-25 10:49:50 AM Reading restraint data for ./OA-G6-0/AMBER/APR/windows/p028...\n",
      "2018-04-25 10:49:50 AM Reading restraint data for ./OA-G6-0/AMBER/APR/windows/p029...\n",
      "2018-04-25 10:49:50 AM Reading restraint data for ./OA-G6-0/AMBER/APR/windows/p030...\n",
      "2018-04-25 10:49:50 AM Reading restraint data for ./OA-G6-0/AMBER/APR/windows/p031...\n",
      "2018-04-25 10:49:50 AM Reading restraint data for ./OA-G6-0/AMBER/APR/windows/p032...\n",
      "2018-04-25 10:49:50 AM Reading restraint data for ./OA-G6-0/AMBER/APR/windows/p033...\n",
      "2018-04-25 10:49:50 AM Reading restraint data for ./OA-G6-0/AMBER/APR/windows/p034...\n",
      "2018-04-25 10:49:50 AM Reading restraint data for ./OA-G6-0/AMBER/APR/windows/p035...\n",
      "2018-04-25 10:49:50 AM Reading restraint data for ./OA-G6-0/AMBER/APR/windows/p036...\n",
      "2018-04-25 10:49:50 AM Reading restraint data for ./OA-G6-0/AMBER/APR/windows/p037...\n",
      "2018-04-25 10:49:50 AM Reading restraint data for ./OA-G6-0/AMBER/APR/windows/p038...\n",
      "2018-04-25 10:49:50 AM Reading restraint data for ./OA-G6-0/AMBER/APR/windows/p039...\n",
      "2018-04-25 10:49:50 AM Reading restraint data for ./OA-G6-0/AMBER/APR/windows/p040...\n",
      "2018-04-25 10:49:50 AM Reading restraint data for ./OA-G6-0/AMBER/APR/windows/p041...\n",
      "2018-04-25 10:49:50 AM Reading restraint data for ./OA-G6-0/AMBER/APR/windows/p042...\n"
     ]
    },
    {
     "name": "stderr",
     "output_type": "stream",
     "text": [
      "2018-04-25 10:49:50 AM Reading restraint data for ./OA-G6-0/AMBER/APR/windows/p043...\n",
      "2018-04-25 10:49:50 AM Reading restraint data for ./OA-G6-0/AMBER/APR/windows/p044...\n",
      "2018-04-25 10:49:50 AM Reading restraint data for ./OA-G6-0/AMBER/APR/windows/p045...\n",
      "2018-04-25 10:49:52 AM attach: computing convergence for mbar-blocking\n",
      "2018-04-25 10:50:18 AM pull: computing convergence for mbar-blocking\n",
      "2018-04-25 10:50:18 AM Skipping free energy calculation for release\n"
     ]
    }
   ],
   "source": [
    "fecalc = fe_calc()\n",
    "fecalc.prmtop = stripped.topology\n",
    "fecalc.trajectory = 'prod.*.nc'\n",
    "fecalc.path = os.path.join(complx, 'AMBER', 'APR','windows')\n",
    "fecalc.restraint_list = guest_restraints\n",
    "fecalc.collect_data()\n",
    "fecalc.compute_free_energy()\n"
   ]
  },
  {
   "cell_type": "code",
   "execution_count": 28,
   "metadata": {},
   "outputs": [
    {
     "data": {
      "text/plain": [
       "{'attach': {'mbar-block': {'fe': 3.8189555600631233,\n",
       "   'sem': 0.04222363133604452,\n",
       "   'fe_matrix': array([[ 0.        ,  0.11280369,  0.21410346, ...,  2.95209542,\n",
       "            3.44783889,  3.81895556],\n",
       "          [-0.11280369,  0.        ,  0.10129977, ...,  2.83929173,\n",
       "            3.3350352 ,  3.70615187],\n",
       "          [-0.21410346, -0.10129977,  0.        , ...,  2.73799195,\n",
       "            3.23373543,  3.6048521 ],\n",
       "          ...,\n",
       "          [-2.95209542, -2.83929173, -2.73799195, ...,  0.        ,\n",
       "            0.49574348,  0.86686014],\n",
       "          [-3.44783889, -3.3350352 , -3.23373543, ..., -0.49574348,\n",
       "            0.        ,  0.37111667],\n",
       "          [-3.81895556, -3.70615187, -3.6048521 , ..., -0.86686014,\n",
       "           -0.37111667,  0.        ]]),\n",
       "   'sem_matrix': array([[0.        , 0.0039158 , 0.00728001, ..., 0.03820034, 0.04044858,\n",
       "           0.04222363],\n",
       "          [0.0039158 , 0.        , 0.00337463, ..., 0.03588269, 0.03826771,\n",
       "           0.04013949],\n",
       "          [0.00728001, 0.00337463, 0.        , ..., 0.03395545, 0.03646705,\n",
       "           0.03842682],\n",
       "          ...,\n",
       "          [0.03820034, 0.03588269, 0.03395545, ..., 0.        , 0.00620763,\n",
       "           0.01095458],\n",
       "          [0.04044858, 0.03826771, 0.03646705, ..., 0.00620763, 0.        ,\n",
       "           0.00502269],\n",
       "          [0.04222363, 0.04013949, 0.03842682, ..., 0.01095458, 0.00502269,\n",
       "           0.        ]]),\n",
       "   'convergence': [0.003915803060112857,\n",
       "    0.003915803060112818,\n",
       "    0.005386982837632774,\n",
       "    0.005386982837632774,\n",
       "    0.005618707043060307,\n",
       "    0.00561870704306032,\n",
       "    0.005390594597451265,\n",
       "    0.005390594597451289,\n",
       "    0.005320164643736254,\n",
       "    0.005320164643736262,\n",
       "    0.0055525647732250745,\n",
       "    0.0055525647732250875,\n",
       "    0.006207625108470336,\n",
       "    0.006207625108470326,\n",
       "    0.005022692254958419],\n",
       "   'ordered_convergence': array([0.0039158 , 0.0039158 , 0.00538698, ..., 0.00620763, 0.00620763,\n",
       "          0.00502269])}},\n",
       " 'pull': {'mbar-block': {'fe': 9.890174438747486,\n",
       "   'sem': 0.24261212619918102,\n",
       "   'fe_matrix': array([[ 0.        ,  0.01247681,  0.32885231, ...,  9.95232179,\n",
       "            9.92305844,  9.89017444],\n",
       "          [-0.01247681,  0.        ,  0.3163755 , ...,  9.93984498,\n",
       "            9.91058164,  9.87769763],\n",
       "          [-0.32885231, -0.3163755 ,  0.        , ...,  9.62346948,\n",
       "            9.59420613,  9.56132213],\n",
       "          ...,\n",
       "          [-9.95232179, -9.93984498, -9.62346948, ...,  0.        ,\n",
       "           -0.02926334, -0.06214735],\n",
       "          [-9.92305844, -9.91058164, -9.59420613, ...,  0.02926334,\n",
       "            0.        , -0.032884  ],\n",
       "          [-9.89017444, -9.87769763, -9.56132213, ...,  0.06214735,\n",
       "            0.032884  ,  0.        ]]),\n",
       "   'sem_matrix': array([[0.        , 0.02484206, 0.04175613, ..., 0.23836645, 0.24028487,\n",
       "           0.24261213],\n",
       "          [0.02484206, 0.        , 0.02395517, ..., 0.23579722, 0.23773638,\n",
       "           0.24008834],\n",
       "          [0.04175613, 0.02395517, 0.        , ..., 0.23309854, 0.23505996,\n",
       "           0.23743843],\n",
       "          ...,\n",
       "          [0.23836645, 0.23579722, 0.23309854, ..., 0.        , 0.02336982,\n",
       "           0.04060562],\n",
       "          [0.24028487, 0.23773638, 0.23505996, ..., 0.02336982, 0.        ,\n",
       "           0.02299086],\n",
       "          [0.24261213, 0.24008834, 0.23743843, ..., 0.04060562, 0.02299086,\n",
       "           0.        ]]),\n",
       "   'convergence': [0.024842057820477374,\n",
       "    0.024842057820477964,\n",
       "    0.025787796222809075,\n",
       "    0.025787796222809453,\n",
       "    0.022620160462542078,\n",
       "    0.022620160462542834,\n",
       "    0.021020306075737703,\n",
       "    0.027214349433205148,\n",
       "    0.04035474744087519,\n",
       "    0.043586787561504185,\n",
       "    0.0469038805856071,\n",
       "    0.046903880585608036,\n",
       "    0.04301765872428566,\n",
       "    0.027452482043905928,\n",
       "    0.029106882825029257,\n",
       "    0.029106882825029382,\n",
       "    0.02552649110874566,\n",
       "    0.02802134314006602,\n",
       "    0.028021343140066105,\n",
       "    0.026558434726908702,\n",
       "    0.023118116778974903,\n",
       "    0.02215550183824658,\n",
       "    0.027915924383001105,\n",
       "    0.02791592438300137,\n",
       "    0.025699664243925585,\n",
       "    0.021040711991255682,\n",
       "    0.025257018950600816,\n",
       "    0.029220860830605398,\n",
       "    0.029220860830605506,\n",
       "    0.024600577854459283,\n",
       "    0.026648581228335844,\n",
       "    0.026648581228336004,\n",
       "    0.024892607152256722,\n",
       "    0.02489260715225711,\n",
       "    0.023432645408343784,\n",
       "    0.021025832792249784,\n",
       "    0.02115065681252505,\n",
       "    0.02355484876467921,\n",
       "    0.024503468747809034,\n",
       "    0.02450346874780938,\n",
       "    0.01916378598615326,\n",
       "    0.0201910291232801,\n",
       "    0.020516333891096816,\n",
       "    0.023369823555642783,\n",
       "    0.023369823555642627,\n",
       "    0.022990856558861485],\n",
       "   'ordered_convergence': array([0.02484206, 0.02484206, 0.0257878 , ..., 0.02336982, 0.02336982,\n",
       "          0.02299086])}},\n",
       " 'release': {'mbar-block': {'fe': None,\n",
       "   'sem': None,\n",
       "   'fe_matrix': None,\n",
       "   'sem_matrix': None}}}"
      ]
     },
     "execution_count": 28,
     "metadata": {},
     "output_type": "execute_result"
    }
   ],
   "source": [
    "fecalc.results"
   ]
  },
  {
   "cell_type": "code",
   "execution_count": 31,
   "metadata": {},
   "outputs": [],
   "source": [
    "traj = pt.load(os.path.join(complx, 'AMBER', 'APR','windows', 'a000', 'prod*'), stripped.topology)"
   ]
  },
  {
   "cell_type": "code",
   "execution_count": 32,
   "metadata": {},
   "outputs": [
    {
     "data": {
      "text/plain": [
       "pytraj.Trajectory, 2000 frames: \n",
       "Size: 0.009209 (GB)\n",
       "<Topology: 206 atoms, 5 residues, 5 mols, PBC with box type = ortho>\n",
       "           "
      ]
     },
     "execution_count": 32,
     "metadata": {},
     "output_type": "execute_result"
    }
   ],
   "source": [
    "traj"
   ]
  },
  {
   "cell_type": "code",
   "execution_count": 36,
   "metadata": {},
   "outputs": [
    {
     "data": {
      "text/plain": [
       "pytraj.Trajectory, 200 frames: \n",
       "Size: 0.000921 (GB)\n",
       "<Topology: 206 atoms, 5 residues, 5 mols, PBC with box type = ortho>\n",
       "           "
      ]
     },
     "execution_count": 36,
     "metadata": {},
     "output_type": "execute_result"
    }
   ],
   "source": [
    "traj[0:int(0.1 * traj.n_frames)]"
   ]
  },
  {
   "cell_type": "code",
   "execution_count": 37,
   "metadata": {},
   "outputs": [],
   "source": [
    "from paprika.analysis import read_restraint_data"
   ]
  },
  {
   "cell_type": "code",
   "execution_count": null,
   "metadata": {},
   "outputs": [],
   "source": []
  }
 ],
 "metadata": {
  "kernelspec": {
   "display_name": "Python (paprika)",
   "language": "python",
   "name": "paprika"
  },
  "language_info": {
   "codemirror_mode": {
    "name": "ipython",
    "version": 3
   },
   "file_extension": ".py",
   "mimetype": "text/x-python",
   "name": "python",
   "nbconvert_exporter": "python",
   "pygments_lexer": "ipython3",
   "version": "3.6.5"
  }
 },
 "nbformat": 4,
 "nbformat_minor": 2
}
