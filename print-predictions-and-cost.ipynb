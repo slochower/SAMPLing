{
 "cells": [
  {
   "cell_type": "markdown",
   "metadata": {},
   "source": [
    "# Process the data based on the submission template\n",
    "\n",
    "```\n",
    "# The data in each prediction line should be a comma-separated list of exactly 201 fields, 100 of which are optional.\n",
    "# Each line must be structured as follows: system ID, F(1%), dF(1%), F(2%), dF(2%), ..., F(100%), dF(100%), where\n",
    "# F(X%) and dF(X%) are respectively the free energy estimate and free energy uncertainty, both in kcal/mol, after X% of\n",
    "# the calculation. The free energy uncertainties are optional (see example below).\n",
    "#\n",
    "# The \"Prediction\" section should have at least 15 lines: 5 replicates starting from the provided initial configurations\n",
    "# for each of the 3 host-guest systems in the challenge (i.e., CB8-G3, OA-G3, and OA-G6). Data submission for further replicates\n",
    "# or different systems is welcomed, although not required.\n",
    "```"
   ]
  },
  {
   "cell_type": "code",
   "execution_count": 51,
   "metadata": {
    "ExecuteTime": {
     "end_time": "2018-05-03T21:32:28.637322Z",
     "start_time": "2018-05-03T21:32:28.634168Z"
    }
   },
   "outputs": [],
   "source": [
    "import numpy as np\n",
    "import glob as glob\n",
    "import os as os"
   ]
  },
  {
   "cell_type": "markdown",
   "metadata": {},
   "source": [
    "## Predictions"
   ]
  },
  {
   "cell_type": "code",
   "execution_count": 82,
   "metadata": {
    "ExecuteTime": {
     "end_time": "2018-05-03T21:45:37.005903Z",
     "start_time": "2018-05-03T21:45:37.002263Z"
    }
   },
   "outputs": [],
   "source": [
    "complexes = ['OA-G3-0', 'OA-G3-1', 'OA-G3-2', 'OA-G3-3', 'OA-G3-4',\n",
    "             'OA-G6-0', 'OA-G6-1', 'OA-G6-2', 'OA-G6-3', 'OA-G6-4' ]\n",
    "data_path = '/home/dslochower/kirkwood/projects/SAMPLing-2/SAMPLing/OA-cut9/'\n",
    "ntwx = 250"
   ]
  },
  {
   "cell_type": "code",
   "execution_count": 83,
   "metadata": {
    "ExecuteTime": {
     "end_time": "2018-05-03T21:45:37.281432Z",
     "start_time": "2018-05-03T21:45:37.226043Z"
    }
   },
   "outputs": [
    {
     "name": "stdout",
     "output_type": "stream",
     "text": [
      "OA-G6-4, -6.41, 0.92 -6.99, 0.67 -6.60, 0.60 -6.40, 0.49 -6.34, 0.49 -6.37, 0.41 -6.50, 0.41 -6.62, 0.41 -6.42, 0.39 -6.27, 0.38 -6.28, 0.38 -6.27, 0.34 -6.37, 0.33 -6.43, 0.31 -6.45, 0.32 -6.58, 0.29 -6.70, 0.29 -6.81, 0.30 -6.92, 0.29 -7.00, 0.26 -7.03, 0.26 -7.03, 0.26 -7.02, 0.25 -6.98, 0.25 -6.90, 0.25 -6.81, 0.24 -6.82, 0.23 -6.75, 0.24 -6.74, 0.24 -6.67, 0.24 -6.70, 0.22 -6.69, 0.22 -6.70, 0.21 -6.70, 0.21 -6.68, 0.20 -6.66, 0.20 -6.70, 0.20 -6.69, 0.19 -6.69, 0.19 -6.71, 0.19 -6.76, 0.19 -6.77, 0.19 -6.74, 0.19 -6.70, 0.18 -6.66, 0.18 -6.67, 0.18 -6.67, 0.18 -6.68, 0.18 -6.70, 0.18 -6.72, 0.18 -6.72, 0.17 -6.72, 0.17 -6.74, 0.17 -6.74, 0.17 -6.75, 0.17 -6.79, 0.17 -6.80, 0.16 -6.82, 0.17 -6.81, 0.17 -6.82, 0.17 -6.80, 0.16 -6.80, 0.17 -6.82, 0.16 -6.82, 0.16 -6.82, 0.16 -6.81, 0.16 -6.79, 0.16 -6.81, 0.16 -6.79, 0.15 -6.80, 0.15 -6.82, 0.15 -6.82, 0.15 -6.82, 0.15 -6.80, 0.15 -6.78, 0.14 -6.75, 0.15 -6.72, 0.14 -6.71, 0.14 -6.69, 0.14 -6.68, 0.15 -6.68, 0.14 -6.65, 0.14 -6.66, 0.14 -6.65, 0.14 -6.62, 0.14 -6.60, 0.14 -6.58, 0.14 -6.56, 0.14 -6.54, 0.14 -6.53, 0.14 -6.53, 0.14 -6.51, 0.14 -6.48, 0.14 -6.50, 0.14 -6.49, 0.13 -6.49, 0.13 -6.48, 0.13 -6.48, 0.13 -6.46, 0.13 -6.46, 0.13 \n",
      "OA-G6-4, -6.26, 1.04 -5.88, 0.72 -6.13, 0.66 -6.00, 0.53 -5.97, 0.50 -6.23, 0.43 -6.21, 0.43 -6.06, 0.39 -6.02, 0.35 -5.95, 0.33 -6.04, 0.32 -6.12, 0.30 -6.04, 0.30 -6.07, 0.30 -6.18, 0.29 -6.27, 0.28 -6.25, 0.27 -6.23, 0.26 -6.19, 0.26 -6.15, 0.25 -6.09, 0.24 -6.08, 0.25 -5.97, 0.24 -6.04, 0.23 -5.99, 0.23 -5.91, 0.22 -5.85, 0.22 -5.89, 0.21 -5.97, 0.22 -5.98, 0.21 -6.00, 0.20 -5.95, 0.20 -5.93, 0.20 -5.94, 0.20 -5.92, 0.20 -5.92, 0.19 -5.97, 0.19 -5.94, 0.18 -5.98, 0.18 -6.03, 0.18 -6.03, 0.18 -6.05, 0.18 -6.07, 0.18 -6.07, 0.18 -6.04, 0.18 -6.00, 0.18 -6.01, 0.18 -5.99, 0.18 -5.94, 0.18 -5.95, 0.18 -5.92, 0.18 -5.88, 0.17 -5.88, 0.17 -5.93, 0.17 -5.96, 0.17 -5.99, 0.17 -5.97, 0.16 -5.97, 0.16 -5.96, 0.16 -5.95, 0.16 -5.94, 0.16 -5.95, 0.16 -5.94, 0.16 -5.95, 0.16 -5.95, 0.16 -5.98, 0.16 -6.00, 0.16 -6.01, 0.16 -6.04, 0.16 -5.99, 0.15 -5.98, 0.16 -5.97, 0.16 -5.95, 0.16 -5.92, 0.15 -5.92, 0.15 -5.89, 0.15 -5.90, 0.15 -5.91, 0.15 -5.93, 0.15 -5.92, 0.16 -5.93, 0.16 -5.95, 0.16 -5.96, 0.16 -5.95, 0.16 -5.95, 0.16 -5.96, 0.15 -5.99, 0.15 -6.00, 0.14 -6.01, 0.15 -6.01, 0.15 -6.03, 0.14 -6.01, 0.14 -6.04, 0.14 -6.05, 0.14 -6.05, 0.14 -6.07, 0.14 -6.08, 0.14 -6.08, 0.14 -6.06, 0.14 -6.04, 0.14 \n",
      "OA-G6-4, -8.88, 0.92 -7.33, 0.69 -7.26, 0.62 -7.30, 0.52 -7.04, 0.50 -6.89, 0.44 -7.06, 0.44 -7.26, 0.42 -7.03, 0.39 -6.94, 0.35 -6.95, 0.34 -6.98, 0.33 -6.92, 0.32 -6.77, 0.32 -6.74, 0.30 -6.64, 0.30 -6.69, 0.28 -6.57, 0.27 -6.55, 0.27 -6.55, 0.26 -6.51, 0.26 -6.54, 0.26 -6.51, 0.24 -6.58, 0.24 -6.66, 0.24 -6.68, 0.24 -6.64, 0.23 -6.68, 0.23 -6.65, 0.22 -6.62, 0.22 -6.69, 0.22 -6.70, 0.21 -6.70, 0.21 -6.69, 0.22 -6.70, 0.21 -6.71, 0.21 -6.68, 0.21 -6.69, 0.20 -6.67, 0.19 -6.61, 0.19 -6.60, 0.19 -6.57, 0.19 -6.56, 0.19 -6.56, 0.18 -6.53, 0.18 -6.51, 0.18 -6.50, 0.18 -6.49, 0.17 -6.45, 0.17 -6.43, 0.17 -6.48, 0.17 -6.52, 0.17 -6.51, 0.17 -6.51, 0.17 -6.52, 0.17 -6.53, 0.17 -6.51, 0.16 -6.50, 0.16 -6.51, 0.16 -6.51, 0.16 -6.51, 0.16 -6.47, 0.16 -6.48, 0.16 -6.45, 0.16 -6.48, 0.15 -6.50, 0.15 -6.55, 0.15 -6.55, 0.15 -6.54, 0.15 -6.53, 0.15 -6.52, 0.15 -6.51, 0.15 -6.50, 0.15 -6.47, 0.14 -6.48, 0.14 -6.52, 0.15 -6.51, 0.14 -6.50, 0.14 -6.50, 0.14 -6.49, 0.15 -6.49, 0.14 -6.47, 0.14 -6.46, 0.14 -6.46, 0.14 -6.47, 0.14 -6.47, 0.14 -6.49, 0.14 -6.50, 0.14 -6.53, 0.15 -6.54, 0.15 -6.53, 0.14 -6.55, 0.14 -6.55, 0.15 -6.53, 0.14 -6.51, 0.14 -6.50, 0.14 -6.52, 0.14 -6.53, 0.14 -6.54, 0.14 -6.55, 0.14 \n",
      "Could not open /home/dslochower/kirkwood/projects/SAMPLing-2/SAMPLing/OA-cut9/OA-G3-3-fe-all.log\n",
      "Could not open /home/dslochower/kirkwood/projects/SAMPLing-2/SAMPLing/OA-cut9/OA-G3-4-fe-all.log\n",
      "OA-G6-4, -8.96, 1.01 -7.93, 0.73 -7.29, 0.66 -6.50, 0.57 -6.49, 0.51 -6.28, 0.43 -6.44, 0.44 -6.61, 0.42 -6.53, 0.38 -6.50, 0.35 -6.44, 0.35 -6.36, 0.33 -6.32, 0.33 -6.44, 0.33 -6.50, 0.32 -6.43, 0.31 -6.54, 0.30 -6.47, 0.30 -6.38, 0.30 -6.41, 0.29 -6.30, 0.27 -6.27, 0.27 -6.28, 0.27 -6.27, 0.26 -6.39, 0.26 -6.40, 0.26 -6.39, 0.26 -6.44, 0.25 -6.47, 0.25 -6.48, 0.25 -6.54, 0.25 -6.58, 0.25 -6.68, 0.24 -6.75, 0.25 -6.75, 0.25 -6.74, 0.24 -6.72, 0.24 -6.74, 0.23 -6.80, 0.23 -6.85, 0.22 -6.85, 0.21 -6.85, 0.21 -6.81, 0.21 -6.78, 0.21 -6.79, 0.21 -6.79, 0.21 -6.80, 0.21 -6.84, 0.21 -6.88, 0.21 -6.89, 0.19 -6.88, 0.20 -6.87, 0.19 -6.88, 0.19 -6.91, 0.19 -6.93, 0.19 -6.96, 0.19 -6.98, 0.19 -6.96, 0.19 -7.00, 0.18 -7.00, 0.19 -6.98, 0.18 -6.98, 0.19 -6.98, 0.18 -6.98, 0.18 -6.98, 0.18 -6.97, 0.18 -6.98, 0.18 -6.97, 0.18 -6.94, 0.17 -6.90, 0.17 -6.90, 0.17 -6.87, 0.18 -6.83, 0.18 -6.85, 0.17 -6.84, 0.17 -6.84, 0.18 -6.85, 0.17 -6.82, 0.17 -6.79, 0.17 -6.79, 0.17 -6.80, 0.17 -6.82, 0.17 -6.84, 0.17 -6.83, 0.17 -6.84, 0.17 -6.85, 0.17 -6.85, 0.16 -6.87, 0.17 -6.91, 0.16 -6.93, 0.16 -6.88, 0.16 -6.83, 0.16 -6.82, 0.16 -6.81, 0.16 -6.81, 0.16 -6.82, 0.16 -6.83, 0.16 -6.84, 0.16 -6.84, 0.16 -6.86, 0.16 \n",
      "OA-G6-4, -7.29, 0.96 -6.86, 0.72 -6.79, 0.60 -7.13, 0.51 -7.02, 0.48 -7.49, 0.43 -7.57, 0.43 -7.32, 0.40 -7.33, 0.38 -7.43, 0.37 -7.27, 0.35 -7.21, 0.32 -7.12, 0.31 -6.99, 0.32 -7.04, 0.29 -6.89, 0.28 -6.96, 0.28 -6.97, 0.28 -6.82, 0.28 -6.86, 0.27 -6.88, 0.28 -6.85, 0.26 -6.86, 0.27 -6.86, 0.27 -6.85, 0.27 -6.81, 0.26 -6.80, 0.26 -6.87, 0.26 -6.81, 0.26 -6.81, 0.26 -6.77, 0.26 -6.76, 0.27 -6.76, 0.26 -6.76, 0.26 -6.79, 0.26 -6.78, 0.26 -6.82, 0.26 -6.83, 0.25 -6.85, 0.24 -6.88, 0.24 -6.90, 0.24 -6.88, 0.25 -6.88, 0.24 -6.87, 0.24 -6.86, 0.24 -6.81, 0.24 -6.77, 0.24 -6.74, 0.23 -6.75, 0.23 -6.75, 0.22 -6.72, 0.22 -6.69, 0.21 -6.71, 0.22 -6.73, 0.21 -6.67, 0.21 -6.60, 0.22 -6.59, 0.21 -6.59, 0.21 -6.59, 0.21 -6.60, 0.21 -6.59, 0.20 -6.61, 0.20 -6.63, 0.20 -6.66, 0.20 -6.65, 0.20 -6.64, 0.20 -6.61, 0.20 -6.59, 0.20 -6.58, 0.21 -6.57, 0.21 -6.56, 0.21 -6.55, 0.20 -6.54, 0.20 -6.53, 0.19 -6.57, 0.18 -6.59, 0.18 -6.60, 0.17 -6.61, 0.17 -6.61, 0.17 -6.60, 0.17 -6.60, 0.17 -6.61, 0.17 -6.61, 0.17 -6.59, 0.18 -6.57, 0.18 -6.57, 0.18 -6.60, 0.18 -6.60, 0.17 -6.60, 0.17 -6.57, 0.17 -6.58, 0.17 -6.60, 0.18 -6.60, 0.18 -6.62, 0.18 -6.62, 0.16 -6.60, 0.17 -6.59, 0.17 -6.58, 0.17 -6.58, 0.16 -6.56, 0.17 \n",
      "Could not open /home/dslochower/kirkwood/projects/SAMPLing-2/SAMPLing/OA-cut9/OA-G6-2-fe-all.log\n",
      "Could not open /home/dslochower/kirkwood/projects/SAMPLing-2/SAMPLing/OA-cut9/OA-G6-3-fe-all.log\n",
      "Could not open /home/dslochower/kirkwood/projects/SAMPLing-2/SAMPLing/OA-cut9/OA-G6-4-fe-all.log\n"
     ]
    }
   ],
   "source": [
    "for complx in complexes:\n",
    "    try:\n",
    "        energies = np.genfromtxt(os.path.join(data_path, complx + '-fe-all.log'))\n",
    "\n",
    "        fe = -1 * (energies[:,1] + energies[:,4] + energies[:,7])\n",
    "        sem = np.sqrt(energies[:,2]**2 + energies[:,5]**2)\n",
    "        print(name + ',', end=' ')\n",
    "        for i, j in zip(fe, sem):\n",
    "            print(f'{i:0.2f}, {j:0.2f}', end=' ')\n",
    "        print('')\n",
    "    except:\n",
    "        print('Could not open ' + os.path.join(data_path, complx + '-fe-all.log'))"
   ]
  },
  {
   "cell_type": "markdown",
   "metadata": {},
   "source": [
    "## Cost"
   ]
  },
  {
   "cell_type": "markdown",
   "metadata": {},
   "source": [
    "The energy evaluations are in the free energy estimates, the wall clock times are in a separate file."
   ]
  },
  {
   "cell_type": "code",
   "execution_count": 87,
   "metadata": {
    "ExecuteTime": {
     "end_time": "2018-05-03T21:47:21.767393Z",
     "start_time": "2018-05-03T21:47:21.722487Z"
    }
   },
   "outputs": [
    {
     "name": "stdout",
     "output_type": "stream",
     "text": [
      "OA-G3-0, 152500000, 83383.0\n",
      "OA-G3-1, 152500000, 85170.0\n",
      "OA-G3-2, 152500000, 83272.0\n",
      "Could not load /home/dslochower/kirkwood/projects/SAMPLing-2/SAMPLing/OA-cut9/OA-G3-3-fe-all.log\n",
      "OA-G3-3, 152500000, 83213.0\n",
      "Could not load /home/dslochower/kirkwood/projects/SAMPLing-2/SAMPLing/OA-cut9/OA-G3-4-fe-all.log\n",
      "OA-G3-4, 152500000, 82663.0\n",
      "OA-G6-0, 152500000, 82333.0\n",
      "OA-G6-1, 152500000, 84338.0\n",
      "Could not load /home/dslochower/kirkwood/projects/SAMPLing-2/SAMPLing/OA-cut9/OA-G6-2-fe-all.log\n",
      "OA-G6-2, 152500000, 82538.0\n",
      "Could not load /home/dslochower/kirkwood/projects/SAMPLing-2/SAMPLing/OA-cut9/OA-G6-3-fe-all.log\n",
      "OA-G6-3, 152500000, 82226.0\n",
      "Could not load /home/dslochower/kirkwood/projects/SAMPLing-2/SAMPLing/OA-cut9/OA-G6-4-fe-all.log\n",
      "OA-G6-4, 152500000, 82067.0\n"
     ]
    }
   ],
   "source": [
    "for complx in complexes:\n",
    "    try:\n",
    "        evaluations = np.genfromtxt(os.path.join(data_path, complx + '-fe-all.log'))\n",
    "        total_evaluations = evaluations[:,3][-1] * ntwx + evaluations[:,6][-1] * ntwx\n",
    "    except:\n",
    "        print('Could not load ' + os.path.join(data_path, complx + '-fe-all.log'))\n",
    "    try:\n",
    "        clock_time = np.genfromtxt(os.path.join(data_path, complx + '-wall-time.log'), skip_header=1)\n",
    "    except:\n",
    "        print('Could not load ' + os.path.join(data_path, complx + '-wall-time.log'))\n",
    "    name = os.path.basename(complx)[0:7]\n",
    "    print(f'{name}, {int(total_evaluations)}, {clock_time[1]}')"
   ]
  },
  {
   "cell_type": "code",
   "execution_count": null,
   "metadata": {},
   "outputs": [],
   "source": []
  }
 ],
 "metadata": {
  "kernelspec": {
   "display_name": "Python [default]",
   "language": "python",
   "name": "python3"
  },
  "language_info": {
   "codemirror_mode": {
    "name": "ipython",
    "version": 3
   },
   "file_extension": ".py",
   "mimetype": "text/x-python",
   "name": "python",
   "nbconvert_exporter": "python",
   "pygments_lexer": "ipython3",
   "version": "3.6.4"
  }
 },
 "nbformat": 4,
 "nbformat_minor": 2
}
