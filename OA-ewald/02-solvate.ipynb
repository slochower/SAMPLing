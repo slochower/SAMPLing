{
 "cells": [
  {
   "cell_type": "markdown",
   "metadata": {},
   "source": [
    "# Use the `frcmod` and `mol2` files to test that we can solvate each host-guest system with `paprika`"
   ]
  },
  {
   "cell_type": "code",
   "execution_count": 26,
   "metadata": {
    "ExecuteTime": {
     "end_time": "2018-05-11T17:24:30.518535Z",
     "start_time": "2018-05-11T17:24:30.508222Z"
    }
   },
   "outputs": [
    {
     "ename": "ImportError",
     "evalue": "cannot import name 'rotate_about_z'",
     "output_type": "error",
     "traceback": [
      "\u001b[0;31m---------------------------------------------------------------------------\u001b[0m",
      "\u001b[0;31mImportError\u001b[0m                               Traceback (most recent call last)",
      "\u001b[0;32m<ipython-input-26-ba6d160a94b7>\u001b[0m in \u001b[0;36m<module>\u001b[0;34m()\u001b[0m\n\u001b[1;32m      5\u001b[0m \u001b[0;34m\u001b[0m\u001b[0m\n\u001b[1;32m      6\u001b[0m \u001b[0;32mimport\u001b[0m \u001b[0mparmed\u001b[0m \u001b[0;32mas\u001b[0m \u001b[0mpmd\u001b[0m\u001b[0;34m\u001b[0m\u001b[0m\n\u001b[0;32m----> 7\u001b[0;31m \u001b[0;32mfrom\u001b[0m \u001b[0mpaprika\u001b[0m\u001b[0;34m.\u001b[0m\u001b[0malign\u001b[0m \u001b[0;32mimport\u001b[0m \u001b[0mzalign\u001b[0m\u001b[0;34m,\u001b[0m \u001b[0mrotate_about_z\u001b[0m\u001b[0;34m,\u001b[0m \u001b[0mget_theta\u001b[0m\u001b[0;34m\u001b[0m\u001b[0m\n\u001b[0m\u001b[1;32m      8\u001b[0m \u001b[0;32mfrom\u001b[0m \u001b[0mpaprika\u001b[0m\u001b[0;34m.\u001b[0m\u001b[0mdummy\u001b[0m \u001b[0;32mimport\u001b[0m \u001b[0madd_dummy\u001b[0m\u001b[0;34m,\u001b[0m \u001b[0mwrite_dummy_mol2\u001b[0m\u001b[0;34m,\u001b[0m \u001b[0mwrite_dummy_frcmod\u001b[0m\u001b[0;34m\u001b[0m\u001b[0m\n\u001b[1;32m      9\u001b[0m \u001b[0;32mfrom\u001b[0m \u001b[0mpaprika\u001b[0m\u001b[0;34m.\u001b[0m\u001b[0mtleap\u001b[0m \u001b[0;32mimport\u001b[0m \u001b[0mSystem\u001b[0m\u001b[0;34m\u001b[0m\u001b[0m\n",
      "\u001b[0;31mImportError\u001b[0m: cannot import name 'rotate_about_z'"
     ]
    }
   ],
   "source": [
    "import glob as glob\n",
    "import os as os\n",
    "import subprocess as sp\n",
    "import numpy as np\n",
    "\n",
    "import parmed as pmd\n",
    "from paprika.align import zalign, rotate_about_z, get_theta\n",
    "from paprika.dummy import add_dummy, write_dummy_mol2, write_dummy_frcmod\n",
    "from paprika.tleap import System"
   ]
  },
  {
   "cell_type": "code",
   "execution_count": 9,
   "metadata": {
    "ExecuteTime": {
     "end_time": "2018-05-11T16:53:07.246762Z",
     "start_time": "2018-05-11T16:53:07.243163Z"
    }
   },
   "outputs": [],
   "source": [
    "complexes = glob.glob('./OA-G*')\n",
    "complexes = [i for i in complexes if os.path.isdir(i)]"
   ]
  },
  {
   "cell_type": "markdown",
   "metadata": {},
   "source": [
    "First, let's align the host along the *z* axis, so we will pull the guest towards +z. I'm going to align the vector connecting the center of mass of the oxygens on bottom ring of OA and the bridging oxygens on the top ring of OA.\n",
    "\n",
    "Then, because the \"square ring\" at the top of octa acid is slightly twisted and rotated (also distorted into a bit of a rhombus itself) relative to the *x* and *y* axes, I'm going to apply a slight rotation, using the `O16-O17` vector. This helps during solvation by aligning the square opening of the host with the rectangular solvation box."
   ]
  },
  {
   "cell_type": "code",
   "execution_count": 73,
   "metadata": {},
   "outputs": [],
   "source": [
    "for complx in complexes:\n",
    "    system = pmd.load_file(os.path.join(complx, 'AMBER', 'complex.pdb'))\n",
    "    system = zalign(system, '@O10,O11,O32,O26,O9,O24,O25,O12', \n",
    "                              '@O16,O17,O19,O18,O15,O14,O20,O13')\n",
    "    theta = get_theta(system, '@O16', '@O17', axis='x')\n",
    "    system = rotate_about_z(system, theta=theta, save=True, \n",
    "                            filename=os.path.join(complx, 'AMBER', 'complex_aligned.pdb'))\n"
   ]
  },
  {
   "cell_type": "markdown",
   "metadata": {},
   "source": [
    "<img src=\"complex_aligned.png\">"
   ]
  },
  {
   "cell_type": "markdown",
   "metadata": {},
   "source": [
    "Next, let's add dummy atoms. The origin of the coordinate system is at the center of mass of the bottom oxygens (shown above). This is already a bit behind the guest's *z* coordinate and roughly inline with its orientation, so this is a fine place for the first dummy atom."
   ]
  },
  {
   "cell_type": "code",
   "execution_count": 77,
   "metadata": {
    "ExecuteTime": {
     "end_time": "2018-04-21T19:42:10.712426Z",
     "start_time": "2018-04-21T19:42:10.073059Z"
    }
   },
   "outputs": [],
   "source": [
    "for complx in complexes:\n",
    "    hg = pmd.load_file(os.path.join(complx, 'AMBER', 'complex_aligned.pdb'), structure=True)\n",
    "    hg = add_dummy(hg, residue_name='DM1', z=0.000)\n",
    "    hg = add_dummy(hg, residue_name='DM2', z=-3.000)\n",
    "    hg = add_dummy(hg, residue_name='DM3', y=2.200, z=-5.200)\n",
    "    hg.save(os.path.join(complx, 'AMBER', 'complex_dummy.pdb'), overwrite=True)\n",
    "    \n",
    "    write_dummy_frcmod(path=os.path.join(complx, 'AMBER'), atom_type='Du')\n",
    "    \n",
    "    write_dummy_mol2(path=os.path.join(complx, 'AMBER'), residue_name='DM1', atom_type='Du', \n",
    "                     filename='dm1.mol2')\n",
    "    write_dummy_mol2(path=os.path.join(complx, 'AMBER'), residue_name='DM2', atom_type='Du', \n",
    "                     filename='dm2.mol2')\n",
    "    write_dummy_mol2(path=os.path.join(complx, 'AMBER'), residue_name='DM3', atom_type='Du', \n",
    "                     filename='dm3.mol2')"
   ]
  },
  {
   "cell_type": "markdown",
   "metadata": {},
   "source": [
    "Next, let's solvate with 2500 waters like Jane did with this host during SAMPL5.\n",
    "\n",
    "I pre-calculated that adding 4 Na and 4 Cl ions (in excessu to the 9 Na ions to neutralize the charge) gives the closest match to ~60 mM buffer conditions specified in the instructions."
   ]
  },
  {
   "cell_type": "code",
   "execution_count": 78,
   "metadata": {
    "ExecuteTime": {
     "end_time": "2018-04-21T19:42:42.277587Z",
     "start_time": "2018-04-21T19:42:14.053093Z"
    }
   },
   "outputs": [],
   "source": [
    "for complx in complexes:\n",
    "    system = System()\n",
    "        \n",
    "    system.output_path = os.path.join(complx, 'AMBER')\n",
    "    system.target_waters = 2500\n",
    "    system.output_prefix = 'solvate'\n",
    "       \n",
    "    system.neutralize = True\n",
    "    system.pbc_type = 'rectangular'\n",
    "    system.add_ions = ['Na+', 4, 'Cl-', 4]\n",
    "    system.template_lines = ['source leaprc.water.tip3p',\n",
    "                           'source leaprc.gaff',\n",
    "                           'loadamberparams hst.frcmod',\n",
    "                           'HST = loadmol2 hst.mol2',\n",
    "                           'loadamberparams gst.frcmod',\n",
    "                           'GST = loadmol2 gst.mol2',\n",
    "                           'loadamberparams dummy.frcmod',\n",
    "                           'DM1 = loadmol2 dm1.mol2',\n",
    "                           'DM2 = loadmol2 dm2.mol2',\n",
    "                           'DM3 = loadmol2 dm3.mol2',\n",
    "                           'model = loadpdb complex_dummy.pdb'\n",
    "    ]\n",
    "    \n",
    "    system.build()"
   ]
  },
  {
   "cell_type": "code",
   "execution_count": 76,
   "metadata": {},
   "outputs": [
    {
     "name": "stdout",
     "output_type": "stream",
     "text": [
      "./OA-G3-0\n",
      "-7.999999972451344\n",
      "-1.0000000061463155\n",
      "9.0 Na+, 0 Cl- for neutralization...\n",
      "4.0 excess Na+, 4 excess Cl-...\n",
      "Counterion molarity 0.062 (beyond neutralization)...\n",
      "./OA-G3-1\n",
      "-7.999999972451344\n",
      "-1.0000000061463155\n",
      "9.0 Na+, 0 Cl- for neutralization...\n",
      "4.0 excess Na+, 4 excess Cl-...\n",
      "Counterion molarity 0.062 (beyond neutralization)...\n",
      "./OA-G3-2\n",
      "-7.999999972451344\n",
      "-1.0000000061463155\n",
      "9.0 Na+, 0 Cl- for neutralization...\n",
      "4.0 excess Na+, 4 excess Cl-...\n",
      "Counterion molarity 0.062 (beyond neutralization)...\n",
      "./OA-G3-3\n",
      "-7.999999972451344\n",
      "-1.0000000061463155\n",
      "9.0 Na+, 0 Cl- for neutralization...\n",
      "4.0 excess Na+, 4 excess Cl-...\n",
      "Counterion molarity 0.063 (beyond neutralization)...\n",
      "./OA-G3-4\n",
      "-7.999999972451344\n",
      "-1.0000000061463155\n",
      "9.0 Na+, 0 Cl- for neutralization...\n",
      "4.0 excess Na+, 4 excess Cl-...\n",
      "Counterion molarity 0.062 (beyond neutralization)...\n",
      "./OA-G6-0\n",
      "-7.999999972451344\n",
      "-1.0000000029085245\n",
      "9.0 Na+, 0 Cl- for neutralization...\n",
      "4.0 excess Na+, 4 excess Cl-...\n",
      "Counterion molarity 0.062 (beyond neutralization)...\n",
      "./OA-G6-1\n",
      "-7.999999972451344\n",
      "-1.0000000029085245\n",
      "9.0 Na+, 0 Cl- for neutralization...\n",
      "4.0 excess Na+, 4 excess Cl-...\n",
      "Counterion molarity 0.063 (beyond neutralization)...\n",
      "./OA-G6-2\n",
      "-7.999999972451344\n",
      "-1.0000000029085245\n",
      "9.0 Na+, 0 Cl- for neutralization...\n",
      "4.0 excess Na+, 4 excess Cl-...\n",
      "Counterion molarity 0.061 (beyond neutralization)...\n",
      "./OA-G6-3\n",
      "-7.999999972451344\n",
      "-1.0000000029085245\n",
      "9.0 Na+, 0 Cl- for neutralization...\n",
      "4.0 excess Na+, 4 excess Cl-...\n",
      "Counterion molarity 0.063 (beyond neutralization)...\n",
      "./OA-G6-4\n",
      "-7.999999972451344\n",
      "-1.0000000029085245\n",
      "9.0 Na+, 0 Cl- for neutralization...\n",
      "4.0 excess Na+, 4 excess Cl-...\n",
      "Counterion molarity 0.061 (beyond neutralization)...\n"
     ]
    }
   ],
   "source": [
    "for complx in sorted(complexes):\n",
    "    print(complx)\n",
    "    structure = pmd.load_file(os.path.join(complx, 'AMBER', 'solvate.prmtop'))\n",
    "    \n",
    "    # print(f'Total charge {pmd.tools.netCharge(structure).execute():0.3f} ...')\n",
    "    \n",
    "    sodium = len(structure[':Na+'].atoms)\n",
    "    chloride = len(structure[':Cl-'].atoms)\n",
    "        \n",
    "    hst_charge = pmd.tools.netCharge(structure[':HST']).execute()\n",
    "    gst_charge = pmd.tools.netCharge(structure[':GST']).execute()\n",
    "    \n",
    "    print(hst_charge)\n",
    "    print(gst_charge)\n",
    "    \n",
    "    hst_gst_charge = hst_charge + gst_charge\n",
    "    \n",
    "    if hst_gst_charge < 0:\n",
    "        sodium_added_to_neuralize = np.ceil(abs(hst_gst_charge))\n",
    "        chloride_added_to_neutralize = 0\n",
    "    elif hst_gst_charge > 0:\n",
    "        sodium_added_to_neuralize = 0\n",
    "        chloride_added_to_neutralize = np.ceil(abs(hst_gst_charge))\n",
    "    else:\n",
    "        sodium_added_to_neuralize = 0\n",
    "        chloride_added_to_neutralize = 0\n",
    "    \n",
    "    print(f'{sodium_added_to_neuralize} Na+, {chloride_added_to_neutralize} Cl- for neutralization...')\n",
    "    print(f'{sodium - sodium_added_to_neuralize} excess Na+, {chloride - chloride_added_to_neutralize} excess Cl-...') \n",
    "\n",
    "    \n",
    "    counterion_mass = (sodium - sodium_added_to_neuralize) * 22.9898 + \\\n",
    "                      (chloride - chloride_added_to_neutralize) * 35.453\n",
    "    \n",
    "    AMU_TO_GRAMS = 1.66054 * 10**-24\n",
    "    molar_concentration = counterion_mass * (AMU_TO_GRAMS) / (22.9898 + 35.453)\n",
    "\n",
    "    volume = structure.get_box()[0] * structure.get_box()[1] * structure.get_box()[2]\n",
    "    ANGSTROM_CUBED_TO_LITERS = 1 * 10 ** -27\n",
    "    liters = volume * ANGSTROM_CUBED_TO_LITERS\n",
    "    \n",
    "    moles_per_liter = molar_concentration / liters\n",
    "    print(f'Counterion molarity {moles_per_liter:0.3f} (beyond neutralization)...')"
   ]
  },
  {
   "cell_type": "code",
   "execution_count": 10,
   "metadata": {
    "ExecuteTime": {
     "end_time": "2018-05-11T16:53:18.932304Z",
     "start_time": "2018-05-11T16:53:10.028596Z"
    }
   },
   "outputs": [
    {
     "name": "stdout",
     "output_type": "stream",
     "text": [
      "./OA-G3-0\n",
      "-7.999999972451344\n",
      "-1.0000000061463155\n",
      "9.0 Na+, 0 Cl- for neutralization...\n",
      "4.0 excess Na+, 4 excess Cl-...\n",
      "Counterion molarity 0.071 (beyond neutralization)...\n",
      "./OA-G3-1\n",
      "-7.999999972451344\n",
      "-1.0000000061463155\n",
      "9.0 Na+, 0 Cl- for neutralization...\n",
      "4.0 excess Na+, 4 excess Cl-...\n",
      "Counterion molarity 0.072 (beyond neutralization)...\n",
      "./OA-G3-2\n",
      "-7.999999972451344\n",
      "-1.0000000061463155\n",
      "9.0 Na+, 0 Cl- for neutralization...\n",
      "4.0 excess Na+, 4 excess Cl-...\n",
      "Counterion molarity 0.072 (beyond neutralization)...\n",
      "./OA-G3-3\n",
      "-7.999999972451344\n",
      "-1.0000000061463155\n",
      "9.0 Na+, 0 Cl- for neutralization...\n",
      "4.0 excess Na+, 4 excess Cl-...\n",
      "Counterion molarity 0.072 (beyond neutralization)...\n",
      "./OA-G3-4\n",
      "-7.999999972451344\n",
      "-1.0000000061463155\n",
      "9.0 Na+, 0 Cl- for neutralization...\n",
      "4.0 excess Na+, 4 excess Cl-...\n",
      "Counterion molarity 0.071 (beyond neutralization)...\n",
      "./OA-G6-0\n",
      "-7.999999972451344\n",
      "-1.0000000029085245\n",
      "9.0 Na+, 0 Cl- for neutralization...\n",
      "4.0 excess Na+, 4 excess Cl-...\n",
      "Counterion molarity 0.071 (beyond neutralization)...\n",
      "./OA-G6-1\n",
      "-7.999999972451344\n",
      "-1.0000000029085245\n",
      "9.0 Na+, 0 Cl- for neutralization...\n",
      "4.0 excess Na+, 4 excess Cl-...\n",
      "Counterion molarity 0.071 (beyond neutralization)...\n",
      "./OA-G6-2\n",
      "-7.999999972451344\n",
      "-1.0000000029085245\n",
      "9.0 Na+, 0 Cl- for neutralization...\n",
      "4.0 excess Na+, 4 excess Cl-...\n",
      "Counterion molarity 0.072 (beyond neutralization)...\n",
      "./OA-G6-3\n",
      "-7.999999972451344\n",
      "-1.0000000029085245\n",
      "9.0 Na+, 0 Cl- for neutralization...\n",
      "4.0 excess Na+, 4 excess Cl-...\n",
      "Counterion molarity 0.072 (beyond neutralization)...\n",
      "./OA-G6-4\n",
      "-7.999999972451344\n",
      "-1.0000000029085245\n",
      "9.0 Na+, 0 Cl- for neutralization...\n",
      "4.0 excess Na+, 4 excess Cl-...\n",
      "Counterion molarity 0.071 (beyond neutralization)...\n"
     ]
    }
   ],
   "source": [
    "for complx in sorted(complexes):\n",
    "    print(complx)\n",
    "    structure = pmd.load_file(os.path.join(complx, 'AMBER', 'APR', 'windows', 'a000', 'solvate.prmtop'),\n",
    "                             os.path.join(complx, 'AMBER', 'APR', 'windows', 'a000', 'equil.rst7'))\n",
    "    \n",
    "    # print(f'Total charge {pmd.tools.netCharge(structure).execute():0.3f} ...')\n",
    "    \n",
    "    sodium = len(structure[':Na+'].atoms)\n",
    "    chloride = len(structure[':Cl-'].atoms)\n",
    "        \n",
    "    hst_charge = pmd.tools.netCharge(structure[':HST']).execute()\n",
    "    gst_charge = pmd.tools.netCharge(structure[':GST']).execute()\n",
    "    \n",
    "    print(hst_charge)\n",
    "    print(gst_charge)\n",
    "    \n",
    "    hst_gst_charge = hst_charge + gst_charge\n",
    "    \n",
    "    if hst_gst_charge < 0:\n",
    "        sodium_added_to_neuralize = np.ceil(abs(hst_gst_charge))\n",
    "        chloride_added_to_neutralize = 0\n",
    "    elif hst_gst_charge > 0:\n",
    "        sodium_added_to_neuralize = 0\n",
    "        chloride_added_to_neutralize = np.ceil(abs(hst_gst_charge))\n",
    "    else:\n",
    "        sodium_added_to_neuralize = 0\n",
    "        chloride_added_to_neutralize = 0\n",
    "    \n",
    "    print(f'{sodium_added_to_neuralize} Na+, {chloride_added_to_neutralize} Cl- for neutralization...')\n",
    "    print(f'{sodium - sodium_added_to_neuralize} excess Na+, {chloride - chloride_added_to_neutralize} excess Cl-...') \n",
    "\n",
    "    \n",
    "    counterion_mass = (sodium - sodium_added_to_neuralize) * 22.9898 + \\\n",
    "                      (chloride - chloride_added_to_neutralize) * 35.453\n",
    "    \n",
    "    AMU_TO_GRAMS = 1.66054 * 10**-24\n",
    "    molar_concentration = counterion_mass * (AMU_TO_GRAMS) / (22.9898 + 35.453)\n",
    "\n",
    "    volume = structure.get_box()[0] * structure.get_box()[1] * structure.get_box()[2]\n",
    "    ANGSTROM_CUBED_TO_LITERS = 1 * 10 ** -27\n",
    "    liters = volume * ANGSTROM_CUBED_TO_LITERS\n",
    "    \n",
    "    moles_per_liter = molar_concentration / liters\n",
    "    print(f'Counterion molarity {moles_per_liter:0.3f} (beyond neutralization)...')"
   ]
  },
  {
   "cell_type": "code",
   "execution_count": 11,
   "metadata": {
    "ExecuteTime": {
     "end_time": "2018-05-11T16:56:33.232368Z",
     "start_time": "2018-05-11T16:56:32.636270Z"
    }
   },
   "outputs": [],
   "source": [
    "my_structure = pmd.load_file(os.path.join(complx, 'AMBER', 'APR', 'windows', 'a000', 'solvate.prmtop'),\n",
    "                         os.path.join(complx, 'AMBER', 'APR', 'windows', 'a000', 'equil.rst7'))"
   ]
  },
  {
   "cell_type": "code",
   "execution_count": 15,
   "metadata": {
    "ExecuteTime": {
     "end_time": "2018-05-11T16:58:07.279033Z",
     "start_time": "2018-05-11T16:58:06.716584Z"
    }
   },
   "outputs": [],
   "source": [
    "supplied_structure = pmd.load_file(os.path.join('../../SAMPL6/host_guest/SAMPLing/OA-G3-0/AMBER', 'complex.prmtop'),\n",
    "                         os.path.join('../../SAMPL6/host_guest/SAMPLing/OA-G3-0/AMBER', 'complex.rst7'))"
   ]
  },
  {
   "cell_type": "code",
   "execution_count": 24,
   "metadata": {
    "ExecuteTime": {
     "end_time": "2018-05-11T16:59:36.901625Z",
     "start_time": "2018-05-11T16:59:36.891165Z"
    }
   },
   "outputs": [
    {
     "name": "stdout",
     "output_type": "stream",
     "text": [
      "0.08743930023230065 2.4392806894005905\n",
      "0.08743930023230065 2.4392806894005905\n",
      "0.08743930023230065 2.4392806894005905\n",
      "0.08743930023230065 2.4392806894005905\n",
      "0.08743930023230065 2.4392806894005905\n",
      "0.08743930023230065 2.4392806894005905\n",
      "0.08743930023230065 2.4392806894005905\n",
      "0.08743930023230065 2.4392806894005905\n",
      "0.08743930023230065 2.4392806894005905\n",
      "0.08743930023230065 2.4392806894005905\n",
      "0.08743930023230065 2.4392806894005905\n",
      "0.08743930023230065 2.4392806894005905\n",
      "0.08743930023230065 2.4392806894005905\n",
      "0.08743930023230065 2.4392806894005905\n",
      "0.08743930023230065 2.4392806894005905\n",
      "0.08743930023230065 2.4392806894005905\n",
      "0.08743930023230065 2.4392806894005905\n",
      "0.08743930023230065 2.4392806894005905\n",
      "0.08743930023230065 2.4392806894005905\n",
      "0.08743930023230065 2.4392806894005905\n",
      "0.08743930023230065 2.4392806894005905\n",
      "0.08743930023230065 2.4392806894005905\n",
      "0.08743930023230065 2.4392806894005905\n",
      "0.08743930023230065 2.4392806894005905\n",
      "0.08743930023230065 2.4392806894005905\n"
     ]
    }
   ],
   "source": [
    "for atom in my_structure.atoms:\n",
    "    if atom.name == 'Na+':\n",
    "        print(atom.epsilon, atom.sigma)\n",
    "        \n",
    "for atom in supplied_structure.atoms:\n",
    "    if atom.name == 'Na+':\n",
    "        print(atom.epsilon, atom.sigma)\n"
   ]
  },
  {
   "cell_type": "code",
   "execution_count": 23,
   "metadata": {
    "ExecuteTime": {
     "end_time": "2018-05-11T16:59:19.472878Z",
     "start_time": "2018-05-11T16:59:19.467110Z"
    }
   },
   "outputs": [
    {
     "name": "stdout",
     "output_type": "stream",
     "text": [
      "0.03559099992963522 4.477656958272717\n",
      "0.03559099992963522 4.477656958272717\n",
      "0.03559099992963522 4.477656958272717\n",
      "0.03559099992963522 4.477656958272717\n"
     ]
    }
   ],
   "source": [
    "for atom in my_structure.atoms:\n",
    "    if atom.name == 'Cl-':\n",
    "        print(atom.epsilon, atom.sigma)"
   ]
  },
  {
   "cell_type": "code",
   "execution_count": 25,
   "metadata": {
    "ExecuteTime": {
     "end_time": "2018-05-11T16:59:44.320919Z",
     "start_time": "2018-05-11T16:59:44.315357Z"
    }
   },
   "outputs": [
    {
     "name": "stdout",
     "output_type": "stream",
     "text": [
      "0.03559099992963522 4.477656958272717\n",
      "0.03559099992963522 4.477656958272717\n",
      "0.03559099992963522 4.477656958272717\n"
     ]
    }
   ],
   "source": [
    "for atom in supplied_structure.atoms:\n",
    "    if atom.name == 'Cl-':\n",
    "        print(atom.epsilon, atom.sigma)"
   ]
  },
  {
   "cell_type": "code",
   "execution_count": null,
   "metadata": {},
   "outputs": [],
   "source": []
  }
 ],
 "metadata": {
  "kernelspec": {
   "display_name": "Python [conda env:smirnoff-paprika]",
   "language": "python",
   "name": "conda-env-smirnoff-paprika-py"
  },
  "language_info": {
   "codemirror_mode": {
    "name": "ipython",
    "version": 3
   },
   "file_extension": ".py",
   "mimetype": "text/x-python",
   "name": "python",
   "nbconvert_exporter": "python",
   "pygments_lexer": "ipython3",
   "version": "3.6.4"
  }
 },
 "nbformat": 4,
 "nbformat_minor": 2
}
